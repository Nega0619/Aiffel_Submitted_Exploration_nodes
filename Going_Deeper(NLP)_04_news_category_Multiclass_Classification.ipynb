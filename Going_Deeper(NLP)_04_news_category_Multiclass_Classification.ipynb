{
  "nbformat": 4,
  "nbformat_minor": 0,
  "metadata": {
    "colab": {
      "name": "Going Deeper(NLP) 04. news category Multiclass Classification",
      "provenance": [],
      "collapsed_sections": [],
      "mount_file_id": "1FJRKoPW8ifyFM30AF1QrzWn7LxEpnl6h",
      "authorship_tag": "ABX9TyPbPu8LA7YBRZ+/CxlnyUPM",
      "include_colab_link": true
    },
    "kernelspec": {
      "name": "python3",
      "display_name": "Python 3"
    },
    "language_info": {
      "name": "python"
    }
  },
  "cells": [
    {
      "cell_type": "markdown",
      "metadata": {
        "id": "view-in-github",
        "colab_type": "text"
      },
      "source": [
        "<a href=\"https://colab.research.google.com/github/Nega0619/Aiffel_Submitted_Exploration_nodes/blob/main/Going_Deeper(NLP)_04_news_category_Multiclass_Classification.ipynb\" target=\"_parent\"><img src=\"https://colab.research.google.com/assets/colab-badge.svg\" alt=\"Open In Colab\"/></a>"
      ]
    },
    {
      "cell_type": "markdown",
      "source": [
        ""
      ],
      "metadata": {
        "id": "tqiWGBUvc_Ej"
      }
    },
    {
      "cell_type": "code",
      "source": [
        "cd /content/drive/MyDrive/GoingDeeper(NLP)"
      ],
      "metadata": {
        "colab": {
          "base_uri": "https://localhost:8080/"
        },
        "id": "_8KhNNSF5uv5",
        "outputId": "e2f1d333-878d-49a7-d349-29c35d972cb1"
      },
      "execution_count": 1,
      "outputs": [
        {
          "output_type": "stream",
          "name": "stdout",
          "text": [
            "/content/drive/MyDrive/GoingDeeper(NLP)\n"
          ]
        }
      ]
    },
    {
      "cell_type": "code",
      "source": [
        "pwd"
      ],
      "metadata": {
        "colab": {
          "base_uri": "https://localhost:8080/",
          "height": 35
        },
        "id": "PYeZWhh85u0i",
        "outputId": "a0e265ef-b477-4bea-c8fc-3c998e980e4f"
      },
      "execution_count": 2,
      "outputs": [
        {
          "output_type": "execute_result",
          "data": {
            "text/plain": [
              "'/content/drive/MyDrive/GoingDeeper(NLP)'"
            ],
            "application/vnd.google.colaboratory.intrinsic+json": {
              "type": "string"
            }
          },
          "metadata": {},
          "execution_count": 2
        }
      ]
    },
    {
      "cell_type": "code",
      "source": [
        ""
      ],
      "metadata": {
        "id": "C5_Fxt-gdBfS"
      },
      "execution_count": 2,
      "outputs": []
    },
    {
      "cell_type": "markdown",
      "source": [
        "# 오늘의 프로젝트는,, \n",
        "\n",
        "로이터 뉴스 데이터셋을 이용하여 Vocabulary Size를 다양하게 하고, 각각의 데이터 셋에 대하여 다양한 모델을 돌려보며 비교분석하는 프로젝트를 진행해 보았습니다.\n",
        "\n",
        "## 1. Vocab size 별로 데이터 불러오기\n",
        "1. 모든데이터 사용\n",
        "2. 빈도수 상위 10,000개 사용\n",
        "3. 빈도수 상위 5000개 사용\n",
        "\n",
        "## 2. 불러온 로이터 뉴스 데이터를 원본 뉴스 데이터로 복원하기\n",
        "\n",
        "## 3. 벡터화하기\n",
        "\n",
        "## 사용한 모델\n",
        "1. \n",
        "\n",
        "\n",
        "# 1. Vocab size 별로 데이터 불러오기"
      ],
      "metadata": {
        "id": "19w_jsfODsfC"
      }
    },
    {
      "cell_type": "code",
      "source": [
        ""
      ],
      "metadata": {
        "id": "jikWPFXUdA-4"
      },
      "execution_count": 2,
      "outputs": []
    },
    {
      "cell_type": "code",
      "source": [
        "from tensorflow.keras.datasets import reuters\n",
        "import matplotlib.pyplot as plt\n",
        "import seaborn as sns\n",
        "import numpy as np\n",
        "import pandas as pd\n",
        "\n",
        "print('=3')"
      ],
      "metadata": {
        "colab": {
          "base_uri": "https://localhost:8080/"
        },
        "id": "qbmQkFngdA8q",
        "outputId": "2da8bf3c-b97e-496e-b42a-9c364e4f43f5"
      },
      "execution_count": 3,
      "outputs": [
        {
          "output_type": "stream",
          "name": "stdout",
          "text": [
            "=3\n"
          ]
        }
      ]
    },
    {
      "cell_type": "code",
      "source": [
        "# 모든 단어 사용\n",
        "(x_train_all, y_train_all), (x_test_all, y_test_all) = reuters.load_data(num_words=None, test_split=0.2)\n"
      ],
      "metadata": {
        "id": "mpmkgL_GdA6e",
        "colab": {
          "base_uri": "https://localhost:8080/"
        },
        "outputId": "5e76625d-3ddc-48a7-a2ec-20dc6965dac3"
      },
      "execution_count": 4,
      "outputs": [
        {
          "output_type": "stream",
          "name": "stdout",
          "text": [
            "Downloading data from https://storage.googleapis.com/tensorflow/tf-keras-datasets/reuters.npz\n",
            "2113536/2110848 [==============================] - 0s 0us/step\n",
            "2121728/2110848 [==============================] - 0s 0us/step\n"
          ]
        }
      ]
    },
    {
      "cell_type": "code",
      "source": [
        "# 빈도수 상위 1만개 단어만 사용 \\\n",
        "(x_train_10000, y_train_10000), (x_test_10000, y_test_10000) = reuters.load_data(num_words=10000, test_split=0.2)\n"
      ],
      "metadata": {
        "id": "ddXP4cjAdAlI"
      },
      "execution_count": 5,
      "outputs": []
    },
    {
      "cell_type": "code",
      "source": [
        "# 빈도수 상위 5천개 단어만 사용\n",
        "(x_train_5000, y_train_5000), (x_test_5000, y_test_5000) = reuters.load_data(num_words=5000, test_split=0.2)\n"
      ],
      "metadata": {
        "id": "rcTNFel4dAjC"
      },
      "execution_count": 7,
      "outputs": []
    },
    {
      "cell_type": "code",
      "source": [
        ""
      ],
      "metadata": {
        "id": "h6V5ZVvOIX6P"
      },
      "execution_count": 7,
      "outputs": []
    },
    {
      "cell_type": "markdown",
      "source": [
        "# 2. 불러온 로이터 뉴스 데이터를 원본 뉴스 데이터로 복원하기"
      ],
      "metadata": {
        "id": "ee56mraWJXOB"
      }
    },
    {
      "cell_type": "markdown",
      "source": [
        "## 모든 데이터"
      ],
      "metadata": {
        "id": "rXJKqpIHFnwQ"
      }
    },
    {
      "cell_type": "code",
      "source": [
        "word_index_all = reuters.get_word_index(path=\"reuters_word_index.json\")\n"
      ],
      "metadata": {
        "id": "CXynzmMmNSSA",
        "colab": {
          "base_uri": "https://localhost:8080/"
        },
        "outputId": "094b82ff-90d4-46ac-f810-d22f616dc4a9"
      },
      "execution_count": 8,
      "outputs": [
        {
          "output_type": "stream",
          "name": "stdout",
          "text": [
            "Downloading data from https://storage.googleapis.com/tensorflow/tf-keras-datasets/reuters_word_index.json\n",
            "557056/550378 [==============================] - 0s 0us/step\n",
            "565248/550378 [==============================] - 0s 0us/step\n"
          ]
        }
      ]
    },
    {
      "cell_type": "code",
      "source": [
        "index_to_word_all = { index+3 : word for word, index in word_index_all.items() }\n"
      ],
      "metadata": {
        "id": "iNugwhU4FiRR"
      },
      "execution_count": 9,
      "outputs": []
    },
    {
      "cell_type": "code",
      "source": [
        "# index_to_word에 숫자 0은 <pad>, 숫자 1은 <sos>, 숫자 2는 <unk>를 넣어줍니다.\n",
        "for index, token in enumerate((\"<pad>\", \"<sos>\", \"<unk>\")):\n",
        "  index_to_word_all[index]=token"
      ],
      "metadata": {
        "id": "4cFJZ4TQFiKA"
      },
      "execution_count": 10,
      "outputs": []
    },
    {
      "cell_type": "code",
      "source": [
        "decoded = []\n",
        "for i in range(len(x_train_all)):\n",
        "    t = ' '.join([index_to_word_all[index] for index in x_train_all[i]])\n",
        "    decoded.append(t)\n",
        "\n",
        "x_train = decoded\n",
        "print(len(x_train))"
      ],
      "metadata": {
        "colab": {
          "base_uri": "https://localhost:8080/"
        },
        "id": "NgjYKEBaNG7d",
        "outputId": "8f7f0fa0-85f8-49da-a6b7-f126e3bef892"
      },
      "execution_count": 11,
      "outputs": [
        {
          "output_type": "stream",
          "name": "stdout",
          "text": [
            "8982\n"
          ]
        }
      ]
    },
    {
      "cell_type": "code",
      "source": [
        "decoded = []\n",
        "for i in range(len(x_test_all)):\n",
        "    t = ' '.join([index_to_word_all[index] for index in x_test_all[i]])\n",
        "    decoded.append(t)\n",
        "\n",
        "x_test_all = decoded\n",
        "print(len(x_test_all))"
      ],
      "metadata": {
        "colab": {
          "base_uri": "https://localhost:8080/"
        },
        "id": "HY-STztSR-2v",
        "outputId": "c174e010-5740-4e1a-8063-011f86aa4bda"
      },
      "execution_count": 12,
      "outputs": [
        {
          "output_type": "stream",
          "name": "stdout",
          "text": [
            "2246\n"
          ]
        }
      ]
    },
    {
      "cell_type": "markdown",
      "source": [
        "## vocab 10000개"
      ],
      "metadata": {
        "id": "UzEBkJobDzC-"
      }
    },
    {
      "cell_type": "code",
      "source": [
        "word_index_10000 = reuters.get_word_index(path=\"reuters_word_index.json\")"
      ],
      "metadata": {
        "id": "JZpgk878GEke"
      },
      "execution_count": 13,
      "outputs": []
    },
    {
      "cell_type": "code",
      "source": [
        "index_to_word_10000 = { index+3 : word for word, index in word_index_10000.items() }\n"
      ],
      "metadata": {
        "id": "LSBwExg1GEke"
      },
      "execution_count": 14,
      "outputs": []
    },
    {
      "cell_type": "code",
      "source": [
        "# index_to_word에 숫자 0은 <pad>, 숫자 1은 <sos>, 숫자 2는 <unk>를 넣어줍니다.\n",
        "for index, token in enumerate((\"<pad>\", \"<sos>\", \"<unk>\")):\n",
        "  index_to_word_10000[index]=token"
      ],
      "metadata": {
        "id": "t6o3bDXsGEke"
      },
      "execution_count": 15,
      "outputs": []
    },
    {
      "cell_type": "code",
      "source": [
        "decoded = []\n",
        "for i in range(len(x_train_10000)):\n",
        "    t = ' '.join([index_to_word_10000[index] for index in x_train_10000[i]])\n",
        "    decoded.append(t)\n",
        "\n",
        "x_train_10000 = decoded\n",
        "print(len(x_train_10000))"
      ],
      "metadata": {
        "colab": {
          "base_uri": "https://localhost:8080/"
        },
        "outputId": "2fb75d67-348e-4a6c-dc2c-4f039d34e15e",
        "id": "sA-d-zG9GEkf"
      },
      "execution_count": 16,
      "outputs": [
        {
          "output_type": "stream",
          "name": "stdout",
          "text": [
            "8982\n"
          ]
        }
      ]
    },
    {
      "cell_type": "code",
      "source": [
        "decoded = []\n",
        "for i in range(len(x_test_10000)):\n",
        "    t = ' '.join([index_to_word_10000[index] for index in x_test_10000[i]])\n",
        "    decoded.append(t)\n",
        "\n",
        "x_test_10000 = decoded\n",
        "print(len(x_test_10000))"
      ],
      "metadata": {
        "colab": {
          "base_uri": "https://localhost:8080/"
        },
        "id": "lGInWEPBSFvT",
        "outputId": "7e08c874-bc49-4621-b2cf-6e0c3f4055fc"
      },
      "execution_count": 17,
      "outputs": [
        {
          "output_type": "stream",
          "name": "stdout",
          "text": [
            "2246\n"
          ]
        }
      ]
    },
    {
      "cell_type": "markdown",
      "source": [
        "## vocab 5000개"
      ],
      "metadata": {
        "id": "jwWm4WK2EBLl"
      }
    },
    {
      "cell_type": "code",
      "source": [
        "word_index_5000 = reuters.get_word_index(path=\"reuters_word_index.json\")"
      ],
      "metadata": {
        "id": "EDL3NQ4jGUln"
      },
      "execution_count": 18,
      "outputs": []
    },
    {
      "cell_type": "code",
      "source": [
        "index_to_word_5000 = { index+3 : word for word, index in word_index_5000.items() }\n"
      ],
      "metadata": {
        "id": "0mzzNLn7GUlt"
      },
      "execution_count": 19,
      "outputs": []
    },
    {
      "cell_type": "code",
      "source": [
        "# index_to_word에 숫자 0은 <pad>, 숫자 1은 <sos>, 숫자 2는 <unk>를 넣어줍니다.\n",
        "for index, token in enumerate((\"<pad>\", \"<sos>\", \"<unk>\")):\n",
        "  index_to_word_5000[index]=token"
      ],
      "metadata": {
        "id": "wTxRk_kKGUlu"
      },
      "execution_count": 20,
      "outputs": []
    },
    {
      "cell_type": "code",
      "source": [
        "decoded = []\n",
        "for i in range(len(x_train_5000)):\n",
        "    t = ' '.join([index_to_word_5000[index] for index in x_train_5000[i]])\n",
        "    decoded.append(t)\n",
        "\n",
        "x_train_5000 = decoded\n",
        "print(len(x_train_5000))"
      ],
      "metadata": {
        "colab": {
          "base_uri": "https://localhost:8080/"
        },
        "outputId": "205ebe36-31e3-440d-fe40-0ee62bd5b33d",
        "id": "vZCZSRECGUlu"
      },
      "execution_count": 21,
      "outputs": [
        {
          "output_type": "stream",
          "name": "stdout",
          "text": [
            "8982\n"
          ]
        }
      ]
    },
    {
      "cell_type": "code",
      "source": [
        "decoded = []\n",
        "for i in range(len(x_test_5000)):\n",
        "    t = ' '.join([index_to_word_5000[index] for index in x_test_5000[i]])\n",
        "    decoded.append(t)\n",
        "\n",
        "x_test_5000 = decoded\n",
        "print(len(x_test_5000))"
      ],
      "metadata": {
        "id": "qnLyP_xbJiiH",
        "colab": {
          "base_uri": "https://localhost:8080/"
        },
        "outputId": "82cfab88-8f29-4e2d-f54b-0181c671ae1e"
      },
      "execution_count": 22,
      "outputs": [
        {
          "output_type": "stream",
          "name": "stdout",
          "text": [
            "2246\n"
          ]
        }
      ]
    },
    {
      "cell_type": "markdown",
      "source": [
        "# 벡터화 하기\n",
        "\n",
        "# 모든 데이터"
      ],
      "metadata": {
        "id": "34oTRlRvNpm7"
      }
    },
    {
      "cell_type": "code",
      "source": [
        "from sklearn.feature_extraction.text import CountVectorizer\n",
        "from sklearn.feature_extraction.text import TfidfTransformer"
      ],
      "metadata": {
        "id": "8_O6FC8VNsxN"
      },
      "execution_count": 23,
      "outputs": []
    },
    {
      "cell_type": "code",
      "source": [
        "dtmvector_all = CountVectorizer()\n",
        "x_train_dtm_all = dtmvector_all.fit_transform(x_train)\n",
        "print(x_train_dtm_all.shape)"
      ],
      "metadata": {
        "colab": {
          "base_uri": "https://localhost:8080/"
        },
        "outputId": "7381d941-e852-4ab2-c269-383464ce37a9",
        "id": "TIuSDLoQNsxN"
      },
      "execution_count": 30,
      "outputs": [
        {
          "output_type": "stream",
          "name": "stdout",
          "text": [
            "(8982, 26506)\n"
          ]
        }
      ]
    },
    {
      "cell_type": "code",
      "source": [
        "tfidf_transformer_all = TfidfTransformer()\n",
        "tfidfv_all = tfidf_transformer_all.fit_transform(x_train_dtm_all)\n",
        "print(tfidfv_all.shape)"
      ],
      "metadata": {
        "colab": {
          "base_uri": "https://localhost:8080/"
        },
        "outputId": "9d75b6bb-36d7-4048-dacf-7aceb9ef7e9b",
        "id": "VLXs4Yu1NsxO"
      },
      "execution_count": 31,
      "outputs": [
        {
          "output_type": "stream",
          "name": "stdout",
          "text": [
            "(8982, 26506)\n"
          ]
        }
      ]
    },
    {
      "cell_type": "markdown",
      "source": [
        "\n",
        "## 10000"
      ],
      "metadata": {
        "id": "53s2IquJIc7J"
      }
    },
    {
      "cell_type": "code",
      "source": [
        "dtmvector_10000 = CountVectorizer()\n",
        "x_train_dtm_10000 = dtmvector_10000.fit_transform(x_train_10000)\n",
        "print(x_train_dtm_10000.shape)"
      ],
      "metadata": {
        "colab": {
          "base_uri": "https://localhost:8080/"
        },
        "id": "9L0a3ie5Ibzd",
        "outputId": "6495225c-a19b-474e-cd1f-14876aec19a1"
      },
      "execution_count": 32,
      "outputs": [
        {
          "output_type": "stream",
          "name": "stdout",
          "text": [
            "(8982, 9670)\n"
          ]
        }
      ]
    },
    {
      "cell_type": "code",
      "source": [
        "tfidf_transformer_10000 = TfidfTransformer()\n",
        "tfidfv_10000 = tfidf_transformer_10000.fit_transform(x_train_dtm_10000)\n",
        "print(tfidfv_10000.shape)"
      ],
      "metadata": {
        "colab": {
          "base_uri": "https://localhost:8080/"
        },
        "id": "7A4FPMIdIbw7",
        "outputId": "c3b3c981-5bd1-41c9-cd3a-88e90c3211fe"
      },
      "execution_count": 33,
      "outputs": [
        {
          "output_type": "stream",
          "name": "stdout",
          "text": [
            "(8982, 9670)\n"
          ]
        }
      ]
    },
    {
      "cell_type": "markdown",
      "source": [
        "# 5000"
      ],
      "metadata": {
        "id": "O8EQpIP0Lm6J"
      }
    },
    {
      "cell_type": "code",
      "source": [
        "dtmvector_5000 = CountVectorizer()\n",
        "x_train_dtm_5000 = dtmvector_5000.fit_transform(x_train_5000)\n",
        "print(x_train_dtm_5000.shape)"
      ],
      "metadata": {
        "colab": {
          "base_uri": "https://localhost:8080/"
        },
        "outputId": "ef831c9e-f50e-4365-edd8-6fd8833ca8ab",
        "id": "uP6d1bYOLocz"
      },
      "execution_count": 36,
      "outputs": [
        {
          "output_type": "stream",
          "name": "stdout",
          "text": [
            "(8982, 4867)\n"
          ]
        }
      ]
    },
    {
      "cell_type": "code",
      "source": [
        "tfidf_transformer_5000 = TfidfTransformer()\n",
        "tfidfv_5000 = tfidf_transformer_5000.fit_transform(x_train_dtm_5000)\n",
        "print(tfidfv_5000.shape)"
      ],
      "metadata": {
        "colab": {
          "base_uri": "https://localhost:8080/"
        },
        "outputId": "62de6bf1-2f73-4040-bb58-4ecc3d963237",
        "id": "f4eLmuPPLocz"
      },
      "execution_count": 37,
      "outputs": [
        {
          "output_type": "stream",
          "name": "stdout",
          "text": [
            "(8982, 4867)\n"
          ]
        }
      ]
    },
    {
      "cell_type": "code",
      "source": [
        ""
      ],
      "metadata": {
        "id": "WFzyCBMfIbsJ"
      },
      "execution_count": null,
      "outputs": []
    },
    {
      "cell_type": "code",
      "source": [
        ""
      ],
      "metadata": {
        "id": "lcPnjmdNIbpl"
      },
      "execution_count": null,
      "outputs": []
    },
    {
      "cell_type": "markdown",
      "source": [
        ""
      ],
      "metadata": {
        "id": "WnI1FDUcHA9L"
      }
    },
    {
      "cell_type": "markdown",
      "source": [
        "# 1. 나이브 베이즈 분류기\n",
        "\n",
        "## 모든 데이터"
      ],
      "metadata": {
        "id": "zue3CJtlGh3u"
      }
    },
    {
      "cell_type": "code",
      "source": [
        "from sklearn.naive_bayes import MultinomialNB #다항분포 나이브 베이즈 모델\n",
        "from sklearn.linear_model import LogisticRegression, SGDClassifier\n",
        "from sklearn.naive_bayes import ComplementNB\n",
        "from sklearn.tree import DecisionTreeClassifier\n",
        "from sklearn.ensemble import RandomForestClassifier\n",
        "from sklearn.ensemble import GradientBoostingClassifier\n",
        "from sklearn.ensemble import VotingClassifier\n",
        "from sklearn.svm import LinearSVC\n",
        "from sklearn.metrics import accuracy_score #정확도 계산\n"
      ],
      "metadata": {
        "id": "olM3RU8yHkMG"
      },
      "execution_count": 38,
      "outputs": []
    },
    {
      "cell_type": "code",
      "source": [
        "model_all = MultinomialNB()\n",
        "model_all.fit(tfidfv_all, y_train_all)"
      ],
      "metadata": {
        "id": "GQD9wmYoHkz5",
        "colab": {
          "base_uri": "https://localhost:8080/"
        },
        "outputId": "5869e971-044c-4de1-8469-1b9e7385f23d"
      },
      "execution_count": 42,
      "outputs": [
        {
          "output_type": "execute_result",
          "data": {
            "text/plain": [
              "MultinomialNB()"
            ]
          },
          "metadata": {},
          "execution_count": 42
        }
      ]
    },
    {
      "cell_type": "code",
      "source": [
        "x_test_dtm_all = dtmvector_all.transform(x_test_all) #테스트 데이터를 DTM으로 변환\n",
        "tfidfv_test_all = tfidf_transformer_all.transform(x_test_dtm_all) #DTM을 TF-IDF 행렬로 변환\n",
        "\n",
        "predicted_all = model_all.predict(tfidfv_test_all) #테스트 데이터에 대한 예측\n",
        "print(\"정확도:\", accuracy_score(y_test_all, predicted_all)) #예측값과 실제값 비교"
      ],
      "metadata": {
        "id": "Y4wczi26Hkxu",
        "colab": {
          "base_uri": "https://localhost:8080/"
        },
        "outputId": "96c1eddd-31ba-4c70-a91e-8f48395f11c5"
      },
      "execution_count": 46,
      "outputs": [
        {
          "output_type": "stream",
          "name": "stdout",
          "text": [
            "정확도: 0.5997328584149599\n"
          ]
        }
      ]
    },
    {
      "cell_type": "markdown",
      "source": [
        "## 10000"
      ],
      "metadata": {
        "id": "_TDwwWemVxqI"
      }
    },
    {
      "cell_type": "code",
      "source": [
        "model_10000 = MultinomialNB()\n",
        "model_10000.fit(tfidfv_10000, y_train_10000)"
      ],
      "metadata": {
        "colab": {
          "base_uri": "https://localhost:8080/"
        },
        "outputId": "f10a8960-beaf-4715-9129-c32587bf905b",
        "id": "WB9ogyQLVy5V"
      },
      "execution_count": 47,
      "outputs": [
        {
          "output_type": "execute_result",
          "data": {
            "text/plain": [
              "MultinomialNB()"
            ]
          },
          "metadata": {},
          "execution_count": 47
        }
      ]
    },
    {
      "cell_type": "code",
      "source": [
        "x_test_dtm_10000 = dtmvector_10000.transform(x_test_10000) #테스트 데이터를 DTM으로 변환\n",
        "tfidfv_test_10000 = tfidf_transformer_10000.transform(x_test_dtm_10000) #DTM을 TF-IDF 행렬로 변환\n",
        "\n",
        "predicted_10000 = model_10000.predict(tfidfv_test_10000) #테스트 데이터에 대한 예측\n",
        "print(\"정확도:\", accuracy_score(y_test_10000, predicted_10000)) #예측값과 실제값 비교"
      ],
      "metadata": {
        "colab": {
          "base_uri": "https://localhost:8080/"
        },
        "outputId": "7820c06e-164c-482f-a54b-f91d9a577ca2",
        "id": "noL8w-1sVy5V"
      },
      "execution_count": 48,
      "outputs": [
        {
          "output_type": "stream",
          "name": "stdout",
          "text": [
            "정확도: 0.6567230632235085\n"
          ]
        }
      ]
    },
    {
      "cell_type": "markdown",
      "source": [
        "## 5000"
      ],
      "metadata": {
        "id": "QRoL-dmPWPHc"
      }
    },
    {
      "cell_type": "code",
      "source": [
        "model_5000 = MultinomialNB()\n",
        "model_5000.fit(tfidfv_5000, y_train_5000)"
      ],
      "metadata": {
        "id": "I1rh4-seHkqb",
        "colab": {
          "base_uri": "https://localhost:8080/"
        },
        "outputId": "7f03b965-107c-45af-e384-5668424a1e7f"
      },
      "execution_count": 49,
      "outputs": [
        {
          "output_type": "execute_result",
          "data": {
            "text/plain": [
              "MultinomialNB()"
            ]
          },
          "metadata": {},
          "execution_count": 49
        }
      ]
    },
    {
      "cell_type": "code",
      "source": [
        "x_test_dtm_5000 = dtmvector_5000.transform(x_test_5000) #테스트 데이터를 DTM으로 변환\n",
        "tfidfv_test_5000 = tfidf_transformer_5000.transform(x_test_dtm_5000) #DTM을 TF-IDF 행렬로 변환\n",
        "\n",
        "predicted_5000 = model_5000.predict(tfidfv_test_5000) #테스트 데이터에 대한 예측\n",
        "print(\"정확도:\", accuracy_score(y_test_5000, predicted_5000)) #예측값과 실제값 비교"
      ],
      "metadata": {
        "id": "dMQINJM7HkoE",
        "colab": {
          "base_uri": "https://localhost:8080/"
        },
        "outputId": "108b4141-4929-43b3-ab47-c2ab328a2e02"
      },
      "execution_count": 50,
      "outputs": [
        {
          "output_type": "stream",
          "name": "stdout",
          "text": [
            "정확도: 0.6731967943009796\n"
          ]
        }
      ]
    },
    {
      "cell_type": "code",
      "source": [
        ""
      ],
      "metadata": {
        "id": "DeyoGs72Hkjv"
      },
      "execution_count": null,
      "outputs": []
    },
    {
      "cell_type": "code",
      "source": [
        ""
      ],
      "metadata": {
        "id": "lSk0zKN2Hkhh"
      },
      "execution_count": null,
      "outputs": []
    },
    {
      "cell_type": "code",
      "source": [
        ""
      ],
      "metadata": {
        "id": "FwM_698BHke7"
      },
      "execution_count": null,
      "outputs": []
    }
  ]
}