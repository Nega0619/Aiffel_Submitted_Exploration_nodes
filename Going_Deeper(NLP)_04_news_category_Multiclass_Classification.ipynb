{
  "nbformat": 4,
  "nbformat_minor": 0,
  "metadata": {
    "colab": {
      "name": "Going Deeper(NLP) 04. news category Multiclass Classification",
      "provenance": [],
      "collapsed_sections": [],
      "mount_file_id": "1FJRKoPW8ifyFM30AF1QrzWn7LxEpnl6h",
      "authorship_tag": "ABX9TyMMiXZhbMCf7+8prjz/Pdve",
      "include_colab_link": true
    },
    "kernelspec": {
      "name": "python3",
      "display_name": "Python 3"
    },
    "language_info": {
      "name": "python"
    }
  },
  "cells": [
    {
      "cell_type": "markdown",
      "metadata": {
        "id": "view-in-github",
        "colab_type": "text"
      },
      "source": [
        "<a href=\"https://colab.research.google.com/github/Nega0619/Aiffel_Submitted_Exploration_nodes/blob/main/Going_Deeper(NLP)_04_news_category_Multiclass_Classification.ipynb\" target=\"_parent\"><img src=\"https://colab.research.google.com/assets/colab-badge.svg\" alt=\"Open In Colab\"/></a>"
      ]
    },
    {
      "cell_type": "markdown",
      "source": [
        ""
      ],
      "metadata": {
        "id": "tqiWGBUvc_Ej"
      }
    },
    {
      "cell_type": "code",
      "source": [
        "cd /content/drive/MyDrive/GoingDeeper(NLP)"
      ],
      "metadata": {
        "colab": {
          "base_uri": "https://localhost:8080/"
        },
        "id": "_8KhNNSF5uv5",
        "outputId": "19464d20-6875-45ee-8349-48cb3868fafa"
      },
      "execution_count": 1,
      "outputs": [
        {
          "output_type": "stream",
          "name": "stdout",
          "text": [
            "/content/drive/MyDrive/GoingDeeper(NLP)\n"
          ]
        }
      ]
    },
    {
      "cell_type": "code",
      "source": [
        "pwd"
      ],
      "metadata": {
        "colab": {
          "base_uri": "https://localhost:8080/",
          "height": 35
        },
        "id": "PYeZWhh85u0i",
        "outputId": "cefe2fa0-dd0c-485f-d7ba-6afe1ed5fff0"
      },
      "execution_count": 2,
      "outputs": [
        {
          "output_type": "execute_result",
          "data": {
            "text/plain": [
              "'/content/drive/MyDrive/GoingDeeper(NLP)'"
            ],
            "application/vnd.google.colaboratory.intrinsic+json": {
              "type": "string"
            }
          },
          "metadata": {},
          "execution_count": 2
        }
      ]
    },
    {
      "cell_type": "code",
      "source": [
        ""
      ],
      "metadata": {
        "id": "C5_Fxt-gdBfS"
      },
      "execution_count": 2,
      "outputs": []
    },
    {
      "cell_type": "markdown",
      "source": [
        "# 오늘의 프로젝트는,, \n",
        "\n",
        "로이터 뉴스 데이터셋을 이용하여 Vocabulary Size를 다양하게 하고, 각각의 데이터 셋에 대하여 다양한 모델을 돌려보며 비교분석하는 프로젝트를 진행해 보았습니다.\n",
        "\n",
        "## 1. Vocab size 별로 데이터 불러오기\n",
        "1. 모든데이터 사용\n",
        "2. 빈도수 상위 10,000개 사용\n",
        "3. 빈도수 상위 5000개 사용\n",
        "\n",
        "## 2. 불러온 로이터 뉴스 데이터를 원본 뉴스 데이터로 복원하기\n",
        "\n",
        "## 3. 벡터화하기\n",
        "\n",
        "## 사용한 모델\n",
        "1. \n",
        "\n",
        "\n",
        "# 1. Vocab size 별로 데이터 불러오기"
      ],
      "metadata": {
        "id": "19w_jsfODsfC"
      }
    },
    {
      "cell_type": "code",
      "source": [
        ""
      ],
      "metadata": {
        "id": "jikWPFXUdA-4"
      },
      "execution_count": 2,
      "outputs": []
    },
    {
      "cell_type": "code",
      "source": [
        "from tensorflow.keras.datasets import reuters\n",
        "import matplotlib.pyplot as plt\n",
        "import seaborn as sns\n",
        "import numpy as np\n",
        "import pandas as pd\n",
        "\n",
        "print('=3')"
      ],
      "metadata": {
        "colab": {
          "base_uri": "https://localhost:8080/"
        },
        "id": "qbmQkFngdA8q",
        "outputId": "559424a0-cfa2-4a2b-caa7-ed0f65d77d24"
      },
      "execution_count": 3,
      "outputs": [
        {
          "output_type": "stream",
          "name": "stdout",
          "text": [
            "=3\n"
          ]
        }
      ]
    },
    {
      "cell_type": "code",
      "source": [
        "# 모든 단어 사용\n",
        "(x_train_all, y_train_all), (x_test_all, y_test_all) = reuters.load_data(num_words=None, test_split=0.2)\n"
      ],
      "metadata": {
        "id": "mpmkgL_GdA6e"
      },
      "execution_count": 4,
      "outputs": []
    },
    {
      "cell_type": "code",
      "source": [
        "# 빈도수 상위 1만개 단어만 사용 \\\n",
        "(x_train_10000, y_train_10000), (x_test_10000, y_test_10000) = reuters.load_data(num_words=10000, test_split=0.2)\n"
      ],
      "metadata": {
        "id": "ddXP4cjAdAlI"
      },
      "execution_count": 5,
      "outputs": []
    },
    {
      "cell_type": "code",
      "source": [
        "# 빈도수 상위 5천개 단어만 사용\n",
        "(x_train_5000, y_train_5000), (x_test_5000, y_test_5000) = reuters.load_data(num_words=5000, test_split=0.2)\n"
      ],
      "metadata": {
        "id": "rcTNFel4dAjC"
      },
      "execution_count": 6,
      "outputs": []
    },
    {
      "cell_type": "code",
      "source": [
        ""
      ],
      "metadata": {
        "id": "h6V5ZVvOIX6P"
      },
      "execution_count": 6,
      "outputs": []
    },
    {
      "cell_type": "markdown",
      "source": [
        "# 2. 불러온 로이터 뉴스 데이터를 원본 뉴스 데이터로 복원하기"
      ],
      "metadata": {
        "id": "ee56mraWJXOB"
      }
    },
    {
      "cell_type": "markdown",
      "source": [
        "## 모든 데이터"
      ],
      "metadata": {
        "id": "rXJKqpIHFnwQ"
      }
    },
    {
      "cell_type": "code",
      "source": [
        "word_index_all = reuters.get_word_index(path=\"reuters_word_index.json\")\n"
      ],
      "metadata": {
        "id": "CXynzmMmNSSA"
      },
      "execution_count": 7,
      "outputs": []
    },
    {
      "cell_type": "code",
      "source": [
        "index_to_word_all = { index+3 : word for word, index in word_index_all.items() }\n"
      ],
      "metadata": {
        "id": "iNugwhU4FiRR"
      },
      "execution_count": 8,
      "outputs": []
    },
    {
      "cell_type": "code",
      "source": [
        "# index_to_word에 숫자 0은 <pad>, 숫자 1은 <sos>, 숫자 2는 <unk>를 넣어줍니다.\n",
        "for index, token in enumerate((\"<pad>\", \"<sos>\", \"<unk>\")):\n",
        "  index_to_word_all[index]=token"
      ],
      "metadata": {
        "id": "4cFJZ4TQFiKA"
      },
      "execution_count": 9,
      "outputs": []
    },
    {
      "cell_type": "code",
      "source": [
        "decoded = []\n",
        "for i in range(len(x_train_all)):\n",
        "    t = ' '.join([index_to_word_all[index] for index in x_train_all[i]])\n",
        "    decoded.append(t)\n",
        "\n",
        "x_train = decoded\n",
        "print(len(x_train))"
      ],
      "metadata": {
        "colab": {
          "base_uri": "https://localhost:8080/"
        },
        "id": "NgjYKEBaNG7d",
        "outputId": "acc65920-7d2f-4849-f08c-873c7f3230bf"
      },
      "execution_count": 10,
      "outputs": [
        {
          "output_type": "stream",
          "name": "stdout",
          "text": [
            "8982\n"
          ]
        }
      ]
    },
    {
      "cell_type": "code",
      "source": [
        "decoded = []\n",
        "for i in range(len(x_test_all)):\n",
        "    t = ' '.join([index_to_word_all[index] for index in x_test_all[i]])\n",
        "    decoded.append(t)\n",
        "\n",
        "x_test_all = decoded\n",
        "print(len(x_test_all))"
      ],
      "metadata": {
        "colab": {
          "base_uri": "https://localhost:8080/"
        },
        "id": "HY-STztSR-2v",
        "outputId": "b18cc6d9-39e7-4961-ee2f-77b261a6d2b3"
      },
      "execution_count": 11,
      "outputs": [
        {
          "output_type": "stream",
          "name": "stdout",
          "text": [
            "2246\n"
          ]
        }
      ]
    },
    {
      "cell_type": "markdown",
      "source": [
        "## vocab 10000개"
      ],
      "metadata": {
        "id": "UzEBkJobDzC-"
      }
    },
    {
      "cell_type": "code",
      "source": [
        "word_index_10000 = reuters.get_word_index(path=\"reuters_word_index.json\")"
      ],
      "metadata": {
        "id": "JZpgk878GEke"
      },
      "execution_count": 12,
      "outputs": []
    },
    {
      "cell_type": "code",
      "source": [
        "index_to_word_10000 = { index+3 : word for word, index in word_index_10000.items() }\n"
      ],
      "metadata": {
        "id": "LSBwExg1GEke"
      },
      "execution_count": 13,
      "outputs": []
    },
    {
      "cell_type": "code",
      "source": [
        "# index_to_word에 숫자 0은 <pad>, 숫자 1은 <sos>, 숫자 2는 <unk>를 넣어줍니다.\n",
        "for index, token in enumerate((\"<pad>\", \"<sos>\", \"<unk>\")):\n",
        "  index_to_word_10000[index]=token"
      ],
      "metadata": {
        "id": "t6o3bDXsGEke"
      },
      "execution_count": 14,
      "outputs": []
    },
    {
      "cell_type": "code",
      "source": [
        "decoded = []\n",
        "for i in range(len(x_train_10000)):\n",
        "    t = ' '.join([index_to_word_10000[index] for index in x_train_10000[i]])\n",
        "    decoded.append(t)\n",
        "\n",
        "x_train_10000 = decoded\n",
        "print(len(x_train_10000))"
      ],
      "metadata": {
        "colab": {
          "base_uri": "https://localhost:8080/"
        },
        "outputId": "813704b7-65a3-407b-8592-db41f4fc3cf5",
        "id": "sA-d-zG9GEkf"
      },
      "execution_count": 15,
      "outputs": [
        {
          "output_type": "stream",
          "name": "stdout",
          "text": [
            "8982\n"
          ]
        }
      ]
    },
    {
      "cell_type": "code",
      "source": [
        "decoded = []\n",
        "for i in range(len(x_test_10000)):\n",
        "    t = ' '.join([index_to_word_10000[index] for index in x_test_10000[i]])\n",
        "    decoded.append(t)\n",
        "\n",
        "x_test_10000 = decoded\n",
        "print(len(x_test_10000))"
      ],
      "metadata": {
        "colab": {
          "base_uri": "https://localhost:8080/"
        },
        "id": "lGInWEPBSFvT",
        "outputId": "1a9b7d3f-c0c3-474a-d30c-acde7bf96715"
      },
      "execution_count": 16,
      "outputs": [
        {
          "output_type": "stream",
          "name": "stdout",
          "text": [
            "2246\n"
          ]
        }
      ]
    },
    {
      "cell_type": "markdown",
      "source": [
        "## vocab 5000개"
      ],
      "metadata": {
        "id": "jwWm4WK2EBLl"
      }
    },
    {
      "cell_type": "code",
      "source": [
        "word_index_5000 = reuters.get_word_index(path=\"reuters_word_index.json\")"
      ],
      "metadata": {
        "id": "EDL3NQ4jGUln"
      },
      "execution_count": 17,
      "outputs": []
    },
    {
      "cell_type": "code",
      "source": [
        "index_to_word_5000 = { index+3 : word for word, index in word_index_5000.items() }\n"
      ],
      "metadata": {
        "id": "0mzzNLn7GUlt"
      },
      "execution_count": 18,
      "outputs": []
    },
    {
      "cell_type": "code",
      "source": [
        "# index_to_word에 숫자 0은 <pad>, 숫자 1은 <sos>, 숫자 2는 <unk>를 넣어줍니다.\n",
        "for index, token in enumerate((\"<pad>\", \"<sos>\", \"<unk>\")):\n",
        "  index_to_word_5000[index]=token"
      ],
      "metadata": {
        "id": "wTxRk_kKGUlu"
      },
      "execution_count": 19,
      "outputs": []
    },
    {
      "cell_type": "code",
      "source": [
        "decoded = []\n",
        "for i in range(len(x_train_5000)):\n",
        "    t = ' '.join([index_to_word_5000[index] for index in x_train_5000[i]])\n",
        "    decoded.append(t)\n",
        "\n",
        "x_train_5000 = decoded\n",
        "print(len(x_train_5000))"
      ],
      "metadata": {
        "colab": {
          "base_uri": "https://localhost:8080/"
        },
        "outputId": "b21d7a6b-ac33-4232-ec55-a0c7c4a0ae8f",
        "id": "vZCZSRECGUlu"
      },
      "execution_count": 20,
      "outputs": [
        {
          "output_type": "stream",
          "name": "stdout",
          "text": [
            "8982\n"
          ]
        }
      ]
    },
    {
      "cell_type": "code",
      "source": [
        "decoded = []\n",
        "for i in range(len(x_test_5000)):\n",
        "    t = ' '.join([index_to_word_5000[index] for index in x_test_5000[i]])\n",
        "    decoded.append(t)\n",
        "\n",
        "x_test_5000 = decoded\n",
        "print(len(x_test_5000))"
      ],
      "metadata": {
        "id": "qnLyP_xbJiiH",
        "colab": {
          "base_uri": "https://localhost:8080/"
        },
        "outputId": "d17715db-0afe-4b7c-dd13-f25457a91c2a"
      },
      "execution_count": 21,
      "outputs": [
        {
          "output_type": "stream",
          "name": "stdout",
          "text": [
            "2246\n"
          ]
        }
      ]
    },
    {
      "cell_type": "markdown",
      "source": [
        "# 벡터화 하기\n",
        "\n",
        "# 모든 데이터"
      ],
      "metadata": {
        "id": "34oTRlRvNpm7"
      }
    },
    {
      "cell_type": "code",
      "source": [
        "from sklearn.feature_extraction.text import CountVectorizer\n",
        "from sklearn.feature_extraction.text import TfidfTransformer"
      ],
      "metadata": {
        "id": "8_O6FC8VNsxN"
      },
      "execution_count": 22,
      "outputs": []
    },
    {
      "cell_type": "code",
      "source": [
        "dtmvector_all = CountVectorizer()\n",
        "x_train_dtm_all = dtmvector_all.fit_transform(x_train)\n",
        "print(x_train_dtm_all.shape)"
      ],
      "metadata": {
        "colab": {
          "base_uri": "https://localhost:8080/"
        },
        "outputId": "ec85e4cd-857b-4753-e379-08ee9e439094",
        "id": "TIuSDLoQNsxN"
      },
      "execution_count": 23,
      "outputs": [
        {
          "output_type": "stream",
          "name": "stdout",
          "text": [
            "(8982, 26506)\n"
          ]
        }
      ]
    },
    {
      "cell_type": "code",
      "source": [
        "tfidf_transformer_all = TfidfTransformer()\n",
        "tfidfv_all = tfidf_transformer_all.fit_transform(x_train_dtm_all)\n",
        "print(tfidfv_all.shape)"
      ],
      "metadata": {
        "colab": {
          "base_uri": "https://localhost:8080/"
        },
        "outputId": "86fd9ba8-06ec-4aa5-e299-4dde39d723f8",
        "id": "VLXs4Yu1NsxO"
      },
      "execution_count": 24,
      "outputs": [
        {
          "output_type": "stream",
          "name": "stdout",
          "text": [
            "(8982, 26506)\n"
          ]
        }
      ]
    },
    {
      "cell_type": "markdown",
      "source": [
        "\n",
        "## 10000"
      ],
      "metadata": {
        "id": "53s2IquJIc7J"
      }
    },
    {
      "cell_type": "code",
      "source": [
        "dtmvector_10000 = CountVectorizer()\n",
        "x_train_dtm_10000 = dtmvector_10000.fit_transform(x_train_10000)\n",
        "print(x_train_dtm_10000.shape)"
      ],
      "metadata": {
        "colab": {
          "base_uri": "https://localhost:8080/"
        },
        "id": "9L0a3ie5Ibzd",
        "outputId": "0f452403-101b-4e54-ed6b-924a280e3287"
      },
      "execution_count": 25,
      "outputs": [
        {
          "output_type": "stream",
          "name": "stdout",
          "text": [
            "(8982, 9670)\n"
          ]
        }
      ]
    },
    {
      "cell_type": "code",
      "source": [
        "tfidf_transformer_10000 = TfidfTransformer()\n",
        "tfidfv_10000 = tfidf_transformer_10000.fit_transform(x_train_dtm_10000)\n",
        "print(tfidfv_10000.shape)"
      ],
      "metadata": {
        "colab": {
          "base_uri": "https://localhost:8080/"
        },
        "id": "7A4FPMIdIbw7",
        "outputId": "00197432-da3d-41ee-c6ab-f13e568d209c"
      },
      "execution_count": 26,
      "outputs": [
        {
          "output_type": "stream",
          "name": "stdout",
          "text": [
            "(8982, 9670)\n"
          ]
        }
      ]
    },
    {
      "cell_type": "markdown",
      "source": [
        "# 5000"
      ],
      "metadata": {
        "id": "O8EQpIP0Lm6J"
      }
    },
    {
      "cell_type": "code",
      "source": [
        "dtmvector_5000 = CountVectorizer()\n",
        "x_train_dtm_5000 = dtmvector_5000.fit_transform(x_train_5000)\n",
        "print(x_train_dtm_5000.shape)"
      ],
      "metadata": {
        "colab": {
          "base_uri": "https://localhost:8080/"
        },
        "outputId": "4e0540eb-4392-44cb-ce52-905285fc968a",
        "id": "uP6d1bYOLocz"
      },
      "execution_count": 27,
      "outputs": [
        {
          "output_type": "stream",
          "name": "stdout",
          "text": [
            "(8982, 4867)\n"
          ]
        }
      ]
    },
    {
      "cell_type": "code",
      "source": [
        "tfidf_transformer_5000 = TfidfTransformer()\n",
        "tfidfv_5000 = tfidf_transformer_5000.fit_transform(x_train_dtm_5000)\n",
        "print(tfidfv_5000.shape)"
      ],
      "metadata": {
        "colab": {
          "base_uri": "https://localhost:8080/"
        },
        "outputId": "7434dee8-9c46-42b1-f07e-91969028ff84",
        "id": "f4eLmuPPLocz"
      },
      "execution_count": 28,
      "outputs": [
        {
          "output_type": "stream",
          "name": "stdout",
          "text": [
            "(8982, 4867)\n"
          ]
        }
      ]
    },
    {
      "cell_type": "code",
      "source": [
        ""
      ],
      "metadata": {
        "id": "WFzyCBMfIbsJ"
      },
      "execution_count": 28,
      "outputs": []
    },
    {
      "cell_type": "code",
      "source": [
        ""
      ],
      "metadata": {
        "id": "lcPnjmdNIbpl"
      },
      "execution_count": 28,
      "outputs": []
    },
    {
      "cell_type": "markdown",
      "source": [
        ""
      ],
      "metadata": {
        "id": "WnI1FDUcHA9L"
      }
    },
    {
      "cell_type": "markdown",
      "source": [
        "# 1. 나이브 베이즈 분류기\n",
        "\n",
        "## 모든 데이터"
      ],
      "metadata": {
        "id": "zue3CJtlGh3u"
      }
    },
    {
      "cell_type": "code",
      "source": [
        "from sklearn.naive_bayes import MultinomialNB #다항분포 나이브 베이즈 모델\n",
        "from sklearn.linear_model import LogisticRegression, SGDClassifier\n",
        "from sklearn.naive_bayes import ComplementNB\n",
        "from sklearn.tree import DecisionTreeClassifier\n",
        "from sklearn.ensemble import RandomForestClassifier\n",
        "from sklearn.ensemble import GradientBoostingClassifier\n",
        "from sklearn.ensemble import VotingClassifier\n",
        "from sklearn.svm import LinearSVC\n",
        "from sklearn.metrics import accuracy_score #정확도 계산\n"
      ],
      "metadata": {
        "id": "olM3RU8yHkMG"
      },
      "execution_count": 29,
      "outputs": []
    },
    {
      "cell_type": "code",
      "source": [
        "model_all = MultinomialNB()\n",
        "model_all.fit(tfidfv_all, y_train_all)"
      ],
      "metadata": {
        "id": "GQD9wmYoHkz5",
        "colab": {
          "base_uri": "https://localhost:8080/"
        },
        "outputId": "7d9d7ef0-ad6e-4488-cd8e-039d196c6212"
      },
      "execution_count": 30,
      "outputs": [
        {
          "output_type": "execute_result",
          "data": {
            "text/plain": [
              "MultinomialNB()"
            ]
          },
          "metadata": {},
          "execution_count": 30
        }
      ]
    },
    {
      "cell_type": "code",
      "source": [
        "x_test_dtm_all = dtmvector_all.transform(x_test_all) #테스트 데이터를 DTM으로 변환\n",
        "tfidfv_test_all = tfidf_transformer_all.transform(x_test_dtm_all) #DTM을 TF-IDF 행렬로 변환\n",
        "\n",
        "predicted_all = model_all.predict(tfidfv_test_all) #테스트 데이터에 대한 예측\n",
        "print(\"정확도:\", accuracy_score(y_test_all, predicted_all)) #예측값과 실제값 비교"
      ],
      "metadata": {
        "id": "Y4wczi26Hkxu",
        "colab": {
          "base_uri": "https://localhost:8080/"
        },
        "outputId": "4679db40-0db5-45ad-b2e5-e9d5831bf0c0"
      },
      "execution_count": 31,
      "outputs": [
        {
          "output_type": "stream",
          "name": "stdout",
          "text": [
            "정확도: 0.5997328584149599\n"
          ]
        }
      ]
    },
    {
      "cell_type": "markdown",
      "source": [
        "## 10000"
      ],
      "metadata": {
        "id": "_TDwwWemVxqI"
      }
    },
    {
      "cell_type": "code",
      "source": [
        "model_10000 = MultinomialNB()\n",
        "model_10000.fit(tfidfv_10000, y_train_10000)"
      ],
      "metadata": {
        "colab": {
          "base_uri": "https://localhost:8080/"
        },
        "outputId": "f08e96c8-355b-49e9-fa3d-8d8976b552b8",
        "id": "WB9ogyQLVy5V"
      },
      "execution_count": 32,
      "outputs": [
        {
          "output_type": "execute_result",
          "data": {
            "text/plain": [
              "MultinomialNB()"
            ]
          },
          "metadata": {},
          "execution_count": 32
        }
      ]
    },
    {
      "cell_type": "code",
      "source": [
        "x_test_dtm_10000 = dtmvector_10000.transform(x_test_10000) #테스트 데이터를 DTM으로 변환\n",
        "tfidfv_test_10000 = tfidf_transformer_10000.transform(x_test_dtm_10000) #DTM을 TF-IDF 행렬로 변환\n",
        "\n",
        "predicted_10000 = model_10000.predict(tfidfv_test_10000) #테스트 데이터에 대한 예측\n",
        "print(\"정확도:\", accuracy_score(y_test_10000, predicted_10000)) #예측값과 실제값 비교"
      ],
      "metadata": {
        "colab": {
          "base_uri": "https://localhost:8080/"
        },
        "outputId": "c8044568-81c8-4e94-f82c-5c50f16950e9",
        "id": "noL8w-1sVy5V"
      },
      "execution_count": 33,
      "outputs": [
        {
          "output_type": "stream",
          "name": "stdout",
          "text": [
            "정확도: 0.6567230632235085\n"
          ]
        }
      ]
    },
    {
      "cell_type": "markdown",
      "source": [
        "## 5000"
      ],
      "metadata": {
        "id": "QRoL-dmPWPHc"
      }
    },
    {
      "cell_type": "code",
      "source": [
        "model_5000 = MultinomialNB()\n",
        "model_5000.fit(tfidfv_5000, y_train_5000)"
      ],
      "metadata": {
        "id": "I1rh4-seHkqb",
        "colab": {
          "base_uri": "https://localhost:8080/"
        },
        "outputId": "cda96b12-cc79-41f6-e391-188859063a6e"
      },
      "execution_count": 34,
      "outputs": [
        {
          "output_type": "execute_result",
          "data": {
            "text/plain": [
              "MultinomialNB()"
            ]
          },
          "metadata": {},
          "execution_count": 34
        }
      ]
    },
    {
      "cell_type": "code",
      "source": [
        "x_test_dtm_5000 = dtmvector_5000.transform(x_test_5000) #테스트 데이터를 DTM으로 변환\n",
        "tfidfv_test_5000 = tfidf_transformer_5000.transform(x_test_dtm_5000) #DTM을 TF-IDF 행렬로 변환\n",
        "\n",
        "predicted_5000 = model_5000.predict(tfidfv_test_5000) #테스트 데이터에 대한 예측\n",
        "print(\"정확도:\", accuracy_score(y_test_5000, predicted_5000)) #예측값과 실제값 비교"
      ],
      "metadata": {
        "id": "dMQINJM7HkoE",
        "colab": {
          "base_uri": "https://localhost:8080/"
        },
        "outputId": "6daf2a55-4cd6-42f6-b167-2ef8dba9721d"
      },
      "execution_count": 35,
      "outputs": [
        {
          "output_type": "stream",
          "name": "stdout",
          "text": [
            "정확도: 0.6731967943009796\n"
          ]
        }
      ]
    },
    {
      "cell_type": "code",
      "source": [
        ""
      ],
      "metadata": {
        "id": "DeyoGs72Hkjv"
      },
      "execution_count": 35,
      "outputs": []
    },
    {
      "cell_type": "markdown",
      "source": [
        "# SVM\n",
        "\n",
        "## 모든 데이터"
      ],
      "metadata": {
        "id": "mdlVGxdlZtui"
      }
    },
    {
      "cell_type": "code",
      "source": [
        "lsvc = LinearSVC(C=1000, penalty='l1', max_iter=500, dual=False)\n",
        "lsvc.fit(tfidfv_all, y_train_all)"
      ],
      "metadata": {
        "colab": {
          "base_uri": "https://localhost:8080/"
        },
        "id": "S-z9aBOuZtag",
        "outputId": "55fcd409-0fee-48c5-de19-614a1672d59b"
      },
      "execution_count": 36,
      "outputs": [
        {
          "output_type": "stream",
          "name": "stderr",
          "text": [
            "/usr/local/lib/python3.7/dist-packages/sklearn/svm/_base.py:1208: ConvergenceWarning: Liblinear failed to converge, increase the number of iterations.\n",
            "  ConvergenceWarning,\n"
          ]
        },
        {
          "output_type": "execute_result",
          "data": {
            "text/plain": [
              "LinearSVC(C=1000, dual=False, max_iter=500, penalty='l1')"
            ]
          },
          "metadata": {},
          "execution_count": 36
        }
      ]
    },
    {
      "cell_type": "code",
      "source": [
        "predicted = lsvc.predict(tfidfv_test_all) #테스트 데이터에 대한 예측\n",
        "print(\"정확도:\", accuracy_score(y_test_all, predicted)) #예측값과 실제값 비교"
      ],
      "metadata": {
        "colab": {
          "base_uri": "https://localhost:8080/"
        },
        "id": "8bqg_MbxZtOT",
        "outputId": "e709b5e7-733a-44a5-ebc9-588c0243576a"
      },
      "execution_count": 37,
      "outputs": [
        {
          "output_type": "stream",
          "name": "stdout",
          "text": [
            "정확도: 0.7827248441674087\n"
          ]
        }
      ]
    },
    {
      "cell_type": "markdown",
      "source": [
        "## 10000"
      ],
      "metadata": {
        "id": "jJdMz_zSaTpg"
      }
    },
    {
      "cell_type": "code",
      "source": [
        "lsvc = LinearSVC(C=1000, penalty='l1', max_iter=500, dual=False)\n",
        "lsvc.fit(tfidfv_10000, y_train_10000)"
      ],
      "metadata": {
        "colab": {
          "base_uri": "https://localhost:8080/"
        },
        "id": "hHSVKRFlZtC1",
        "outputId": "eaf90414-e29c-4472-a38b-2f615da0ebcf"
      },
      "execution_count": 38,
      "outputs": [
        {
          "output_type": "stream",
          "name": "stderr",
          "text": [
            "/usr/local/lib/python3.7/dist-packages/sklearn/svm/_base.py:1208: ConvergenceWarning: Liblinear failed to converge, increase the number of iterations.\n",
            "  ConvergenceWarning,\n"
          ]
        },
        {
          "output_type": "execute_result",
          "data": {
            "text/plain": [
              "LinearSVC(C=1000, dual=False, max_iter=500, penalty='l1')"
            ]
          },
          "metadata": {},
          "execution_count": 38
        }
      ]
    },
    {
      "cell_type": "code",
      "source": [
        "predicted = lsvc.predict(tfidfv_test_10000) #테스트 데이터에 대한 예측\n",
        "print(\"정확도:\", accuracy_score(y_test_10000, predicted)) #예측값과 실제값 비교"
      ],
      "metadata": {
        "id": "lSk0zKN2Hkhh",
        "colab": {
          "base_uri": "https://localhost:8080/"
        },
        "outputId": "3dbb2e20-721a-4a7e-da00-a776d0031964"
      },
      "execution_count": 39,
      "outputs": [
        {
          "output_type": "stream",
          "name": "stdout",
          "text": [
            "정확도: 0.7729296527159395\n"
          ]
        }
      ]
    },
    {
      "cell_type": "markdown",
      "source": [
        "## 5000"
      ],
      "metadata": {
        "id": "TqenlvafaVJe"
      }
    },
    {
      "cell_type": "code",
      "source": [
        "lsvc = LinearSVC(C=1000, penalty='l1', max_iter=500, dual=False)\n",
        "lsvc.fit(tfidfv_5000, y_train_5000)"
      ],
      "metadata": {
        "id": "FwM_698BHke7",
        "colab": {
          "base_uri": "https://localhost:8080/"
        },
        "outputId": "ced43768-b2d8-4b5c-d97f-a1a1ab5aa4af"
      },
      "execution_count": 40,
      "outputs": [
        {
          "output_type": "stream",
          "name": "stderr",
          "text": [
            "/usr/local/lib/python3.7/dist-packages/sklearn/svm/_base.py:1208: ConvergenceWarning: Liblinear failed to converge, increase the number of iterations.\n",
            "  ConvergenceWarning,\n"
          ]
        },
        {
          "output_type": "execute_result",
          "data": {
            "text/plain": [
              "LinearSVC(C=1000, dual=False, max_iter=500, penalty='l1')"
            ]
          },
          "metadata": {},
          "execution_count": 40
        }
      ]
    },
    {
      "cell_type": "code",
      "source": [
        "predicted = lsvc.predict(tfidfv_test_5000) #테스트 데이터에 대한 예측\n",
        "print(\"정확도:\", accuracy_score(y_test_5000, predicted)) #예측값과 실제값 비교"
      ],
      "metadata": {
        "colab": {
          "base_uri": "https://localhost:8080/"
        },
        "id": "ThX8O0zBaXeS",
        "outputId": "3c3e00a5-4bc8-4364-8969-ea72aeb201d6"
      },
      "execution_count": 41,
      "outputs": [
        {
          "output_type": "stream",
          "name": "stdout",
          "text": [
            "정확도: 0.7689225289403384\n"
          ]
        }
      ]
    },
    {
      "cell_type": "markdown",
      "source": [
        "# 결정트리\n",
        "\n",
        "## 모든 데이터"
      ],
      "metadata": {
        "id": "SYl_VZqcaef7"
      }
    },
    {
      "cell_type": "code",
      "source": [
        "tree = DecisionTreeClassifier(max_depth=10, random_state=0)\n",
        "tree.fit(tfidfv_all, y_train_all)"
      ],
      "metadata": {
        "colab": {
          "base_uri": "https://localhost:8080/"
        },
        "id": "6_59brVqaXcK",
        "outputId": "9eafb712-1c7c-4413-8973-5548978b80ba"
      },
      "execution_count": 42,
      "outputs": [
        {
          "output_type": "execute_result",
          "data": {
            "text/plain": [
              "DecisionTreeClassifier(max_depth=10, random_state=0)"
            ]
          },
          "metadata": {},
          "execution_count": 42
        }
      ]
    },
    {
      "cell_type": "code",
      "source": [
        "predicted = tree.predict(tfidfv_test_all) #테스트 데이터에 대한 예측\n",
        "print(\"정확도:\", accuracy_score(y_test_all, predicted)) #예측값과 실제값 비교"
      ],
      "metadata": {
        "colab": {
          "base_uri": "https://localhost:8080/"
        },
        "id": "yE1i8U9UaXZS",
        "outputId": "ddfba8ef-252a-42d6-fd76-3eea0449258d"
      },
      "execution_count": 43,
      "outputs": [
        {
          "output_type": "stream",
          "name": "stdout",
          "text": [
            "정확도: 0.6211041852181657\n"
          ]
        }
      ]
    },
    {
      "cell_type": "markdown",
      "source": [
        "## 10000"
      ],
      "metadata": {
        "id": "5UkY0_0ian_s"
      }
    },
    {
      "cell_type": "code",
      "source": [
        "tree = DecisionTreeClassifier(max_depth=10, random_state=0)\n",
        "tree.fit(tfidfv_10000, y_train_10000)"
      ],
      "metadata": {
        "colab": {
          "base_uri": "https://localhost:8080/"
        },
        "id": "WLNMAQ6PaXW5",
        "outputId": "cae8a289-27d2-427e-afe8-5aa433d91cb4"
      },
      "execution_count": 44,
      "outputs": [
        {
          "output_type": "execute_result",
          "data": {
            "text/plain": [
              "DecisionTreeClassifier(max_depth=10, random_state=0)"
            ]
          },
          "metadata": {},
          "execution_count": 44
        }
      ]
    },
    {
      "cell_type": "code",
      "source": [
        "predicted = tree.predict(tfidfv_test_10000) #테스트 데이터에 대한 예측\n",
        "print(\"정확도:\", accuracy_score(y_test_10000, predicted)) #예측값과 실제값 비교"
      ],
      "metadata": {
        "colab": {
          "base_uri": "https://localhost:8080/"
        },
        "id": "jwofup9VaXUQ",
        "outputId": "5f9ba6e8-dba0-4a0e-f6ab-82a81d5c8e2d"
      },
      "execution_count": 45,
      "outputs": [
        {
          "output_type": "stream",
          "name": "stdout",
          "text": [
            "정확도: 0.6202137132680321\n"
          ]
        }
      ]
    },
    {
      "cell_type": "markdown",
      "source": [
        "## 5000"
      ],
      "metadata": {
        "id": "VOVW4VBgazW1"
      }
    },
    {
      "cell_type": "code",
      "source": [
        "tree = DecisionTreeClassifier(max_depth=10, random_state=0)\n",
        "tree.fit(tfidfv_5000, y_train_5000)"
      ],
      "metadata": {
        "colab": {
          "base_uri": "https://localhost:8080/"
        },
        "id": "g_kF-oU7aXKj",
        "outputId": "803166d2-4bdd-41bb-e1f4-97d0a515be5b"
      },
      "execution_count": 46,
      "outputs": [
        {
          "output_type": "execute_result",
          "data": {
            "text/plain": [
              "DecisionTreeClassifier(max_depth=10, random_state=0)"
            ]
          },
          "metadata": {},
          "execution_count": 46
        }
      ]
    },
    {
      "cell_type": "code",
      "source": [
        "predicted = tree.predict(tfidfv_test_5000) #테스트 데이터에 대한 예측\n",
        "print(\"정확도:\", accuracy_score(y_test_5000, predicted)) #예측값과 실제값 비교"
      ],
      "metadata": {
        "colab": {
          "base_uri": "https://localhost:8080/"
        },
        "id": "zuZZlVtBaXPt",
        "outputId": "cb828eac-8deb-40b2-8b97-876b05bfa491"
      },
      "execution_count": 47,
      "outputs": [
        {
          "output_type": "stream",
          "name": "stdout",
          "text": [
            "정확도: 0.6179875333926982\n"
          ]
        }
      ]
    },
    {
      "cell_type": "markdown",
      "source": [
        "# 랜덤 포레스트\n",
        "\n",
        "## 모든 데이터"
      ],
      "metadata": {
        "id": "GrfokVQxa_fF"
      }
    },
    {
      "cell_type": "code",
      "source": [
        "forest = RandomForestClassifier(n_estimators=5, random_state=0)\n",
        "forest.fit(tfidfv_all, y_train_all)"
      ],
      "metadata": {
        "colab": {
          "base_uri": "https://localhost:8080/"
        },
        "id": "KPdhvydPaXH-",
        "outputId": "5fdc10e8-2193-4490-c312-35b25d266b53"
      },
      "execution_count": 48,
      "outputs": [
        {
          "output_type": "execute_result",
          "data": {
            "text/plain": [
              "RandomForestClassifier(n_estimators=5, random_state=0)"
            ]
          },
          "metadata": {},
          "execution_count": 48
        }
      ]
    },
    {
      "cell_type": "code",
      "source": [
        "predicted = forest.predict(tfidfv_test_all) #테스트 데이터에 대한 예측\n",
        "print(\"정확도:\", accuracy_score(y_test_all, predicted)) #예측값과 실제값 비교"
      ],
      "metadata": {
        "colab": {
          "base_uri": "https://localhost:8080/"
        },
        "id": "7MNdHw3TbDMB",
        "outputId": "c50a42c8-fbfb-486c-8d5a-095460f09542"
      },
      "execution_count": 49,
      "outputs": [
        {
          "output_type": "stream",
          "name": "stdout",
          "text": [
            "정확도: 0.6544968833481746\n"
          ]
        }
      ]
    },
    {
      "cell_type": "markdown",
      "source": [
        "## 10000"
      ],
      "metadata": {
        "id": "v79JWrCqbNhU"
      }
    },
    {
      "cell_type": "code",
      "source": [
        "forest = RandomForestClassifier(n_estimators=5, random_state=0)\n",
        "forest.fit(tfidfv_10000, y_train_10000)"
      ],
      "metadata": {
        "colab": {
          "base_uri": "https://localhost:8080/"
        },
        "id": "gyNzF25xbOmd",
        "outputId": "2bb9766d-70d8-4431-8dcb-5afea66b5c90"
      },
      "execution_count": 50,
      "outputs": [
        {
          "output_type": "execute_result",
          "data": {
            "text/plain": [
              "RandomForestClassifier(n_estimators=5, random_state=0)"
            ]
          },
          "metadata": {},
          "execution_count": 50
        }
      ]
    },
    {
      "cell_type": "code",
      "source": [
        "predicted = forest.predict(tfidfv_test_10000) #테스트 데이터에 대한 예측\n",
        "print(\"정확도:\", accuracy_score(y_test_10000, predicted)) #예측값과 실제값 비교"
      ],
      "metadata": {
        "colab": {
          "base_uri": "https://localhost:8080/"
        },
        "id": "fNHzGJAebOmd",
        "outputId": "7f8c5fd3-9191-428f-f97e-8da39255b046"
      },
      "execution_count": 51,
      "outputs": [
        {
          "output_type": "stream",
          "name": "stdout",
          "text": [
            "정확도: 0.674087266251113\n"
          ]
        }
      ]
    },
    {
      "cell_type": "markdown",
      "source": [
        "## 5000"
      ],
      "metadata": {
        "id": "28IoZv1kbXFj"
      }
    },
    {
      "cell_type": "code",
      "source": [
        "forest = RandomForestClassifier(n_estimators=5, random_state=0)\n",
        "forest.fit(tfidfv_5000, y_train_5000)"
      ],
      "metadata": {
        "colab": {
          "base_uri": "https://localhost:8080/"
        },
        "id": "K4roewpxbX8W",
        "outputId": "b2944a10-fe63-40e9-e869-379eaeba3f44"
      },
      "execution_count": 52,
      "outputs": [
        {
          "output_type": "execute_result",
          "data": {
            "text/plain": [
              "RandomForestClassifier(n_estimators=5, random_state=0)"
            ]
          },
          "metadata": {},
          "execution_count": 52
        }
      ]
    },
    {
      "cell_type": "code",
      "source": [
        "predicted = forest.predict(tfidfv_test_5000) #테스트 데이터에 대한 예측\n",
        "print(\"정확도:\", accuracy_score(y_test_5000, predicted)) #예측값과 실제값 비교"
      ],
      "metadata": {
        "colab": {
          "base_uri": "https://localhost:8080/"
        },
        "id": "D9es_FjbbX8W",
        "outputId": "be1e8a88-f7db-4d2d-a846-849a87f74f6d"
      },
      "execution_count": 53,
      "outputs": [
        {
          "output_type": "stream",
          "name": "stdout",
          "text": [
            "정확도: 0.701246660730187\n"
          ]
        }
      ]
    },
    {
      "cell_type": "markdown",
      "source": [
        "# 그래디언트 부스팅 트리\n",
        "\n",
        "## 모든 데이터"
      ],
      "metadata": {
        "id": "firWXOtDbx_C"
      }
    },
    {
      "cell_type": "code",
      "source": [
        "grbt = GradientBoostingClassifier(random_state=0) # verbose=3\n",
        "grbt.fit(tfidfv_all, y_train_all)"
      ],
      "metadata": {
        "id": "BqGcxQHAbDJL"
      },
      "execution_count": null,
      "outputs": []
    },
    {
      "cell_type": "code",
      "source": [
        "predicted = grbt.predict(tfidfv_test_all) #테스트 데이터에 대한 예측\n",
        "print(\"정확도:\", accuracy_score(y_test_all, predicted)) #예측값과 실제값 비교"
      ],
      "metadata": {
        "id": "jYncHYiXbDGn"
      },
      "execution_count": null,
      "outputs": []
    },
    {
      "cell_type": "markdown",
      "source": [
        "# 10000"
      ],
      "metadata": {
        "id": "SP5CNVK0b9Ey"
      }
    },
    {
      "cell_type": "code",
      "source": [
        "grbt = GradientBoostingClassifier(random_state=0) # verbose=3\n",
        "grbt.fit(tfidfv_10000, y_train_10000)"
      ],
      "metadata": {
        "id": "oHzSz7FRb97L"
      },
      "execution_count": null,
      "outputs": []
    },
    {
      "cell_type": "code",
      "source": [
        "predicted = grbt.predict(tfidfv_test_10000) #테스트 데이터에 대한 예측\n",
        "print(\"정확도:\", accuracy_score(y_test_10000, predicted)) #예측값과 실제값 비교"
      ],
      "metadata": {
        "id": "A6xKGgUWb97L"
      },
      "execution_count": null,
      "outputs": []
    },
    {
      "cell_type": "markdown",
      "source": [
        "# 5000\n"
      ],
      "metadata": {
        "id": "7E-tW1A3cDTc"
      }
    },
    {
      "cell_type": "code",
      "source": [
        "grbt = GradientBoostingClassifier(random_state=0) # verbose=3\n",
        "grbt.fit(tfidfv_5000, y_train_5000)"
      ],
      "metadata": {
        "id": "23dEdytwcEFm"
      },
      "execution_count": null,
      "outputs": []
    },
    {
      "cell_type": "code",
      "source": [
        "predicted = grbt.predict(tfidfv_test_5000) #테스트 데이터에 대한 예측\n",
        "print(\"정확도:\", accuracy_score(y_test_5000, predicted)) #예측값과 실제값 비교"
      ],
      "metadata": {
        "id": "UhiEu7JkcEFm"
      },
      "execution_count": null,
      "outputs": []
    },
    {
      "cell_type": "code",
      "source": [
        ""
      ],
      "metadata": {
        "id": "qjjUwjLfbDD0"
      },
      "execution_count": null,
      "outputs": []
    },
    {
      "cell_type": "code",
      "source": [
        ""
      ],
      "metadata": {
        "id": "s-QOnr2LbDBP"
      },
      "execution_count": null,
      "outputs": []
    },
    {
      "cell_type": "markdown",
      "source": [
        "# 회고\n",
        "\n",
        "1. VOCAB SIZE의 최적화는 어떻게 할 수 있을까?\n",
        "2. 대체로 VOCAB SIZE 5000일때가 가장 성능이 좋았다. 모든 데이터를 썼을때가 성능이 좋을 때도 있는데, 어떤 차이일지 알고싶다.\n",
        "3. 어떤 특징이 있는 데이터는 어떤 머신러닝 기법을 쓴다는 것을 정리해두면 좋을 것 같다."
      ],
      "metadata": {
        "id": "_ZcaCRc1ce_k"
      }
    },
    {
      "cell_type": "code",
      "source": [
        ""
      ],
      "metadata": {
        "id": "kp3UEFPfbC-p"
      },
      "execution_count": null,
      "outputs": []
    },
    {
      "cell_type": "code",
      "source": [
        ""
      ],
      "metadata": {
        "id": "Ryi35GQFbC73"
      },
      "execution_count": null,
      "outputs": []
    }
  ]
}