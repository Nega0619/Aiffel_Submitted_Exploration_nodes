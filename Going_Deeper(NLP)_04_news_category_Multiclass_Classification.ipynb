{
  "cells": [
    {
      "cell_type": "markdown",
      "metadata": {
        "id": "view-in-github",
        "colab_type": "text"
      },
      "source": [
        "<a href=\"https://colab.research.google.com/github/Nega0619/Aiffel_Submitted_Exploration_nodes/blob/main/Going_Deeper(NLP)_04_news_category_Multiclass_Classification.ipynb\" target=\"_parent\"><img src=\"https://colab.research.google.com/assets/colab-badge.svg\" alt=\"Open In Colab\"/></a>"
      ]
    },
    {
      "cell_type": "markdown",
      "metadata": {
        "id": "tqiWGBUvc_Ej"
      },
      "source": [
        ""
      ]
    },
    {
      "cell_type": "code",
      "execution_count": 1,
      "metadata": {
        "colab": {
          "base_uri": "https://localhost:8080/"
        },
        "id": "_8KhNNSF5uv5",
        "outputId": "002ef7f8-10d2-4ecf-c60f-998a4879f477"
      },
      "outputs": [
        {
          "output_type": "stream",
          "name": "stdout",
          "text": [
            "/content/drive/MyDrive/GoingDeeper(NLP)\n"
          ]
        }
      ],
      "source": [
        "cd /content/drive/MyDrive/GoingDeeper(NLP)"
      ]
    },
    {
      "cell_type": "code",
      "execution_count": 2,
      "metadata": {
        "colab": {
          "base_uri": "https://localhost:8080/",
          "height": 35
        },
        "id": "PYeZWhh85u0i",
        "outputId": "174d8468-da66-4538-bc2c-caf666d6959d"
      },
      "outputs": [
        {
          "output_type": "execute_result",
          "data": {
            "text/plain": [
              "'/content/drive/MyDrive/GoingDeeper(NLP)'"
            ],
            "application/vnd.google.colaboratory.intrinsic+json": {
              "type": "string"
            }
          },
          "metadata": {},
          "execution_count": 2
        }
      ],
      "source": [
        "pwd"
      ]
    },
    {
      "cell_type": "code",
      "execution_count": 2,
      "metadata": {
        "id": "C5_Fxt-gdBfS"
      },
      "outputs": [],
      "source": [
        ""
      ]
    },
    {
      "cell_type": "markdown",
      "metadata": {
        "id": "19w_jsfODsfC"
      },
      "source": [
        "# 오늘의 프로젝트는,, \n",
        "\n",
        "로이터 뉴스 데이터셋을 이용하여 Vocabulary Size를 다양하게 하고, 각각의 데이터 셋에 대하여 다양한 모델을 돌려보며 비교분석하는 프로젝트를 진행해 보았습니다.\n",
        "\n",
        "## 1. Vocab size 별로 데이터 불러오기\n",
        "1. 모든데이터 사용\n",
        "2. 빈도수 상위 10,000개 사용\n",
        "3. 빈도수 상위 5000개 사용\n",
        "\n",
        "## 2. 불러온 로이터 뉴스 데이터를 원본 뉴스 데이터로 복원하기\n",
        "\n",
        "## 3. 벡터화하기\n",
        "\n",
        "## 사용한 모델\n",
        "1. \n",
        "\n",
        "\n",
        "# 1. Vocab size 별로 데이터 불러오기"
      ]
    },
    {
      "cell_type": "code",
      "execution_count": 2,
      "metadata": {
        "id": "jikWPFXUdA-4"
      },
      "outputs": [],
      "source": [
        ""
      ]
    },
    {
      "cell_type": "code",
      "execution_count": 3,
      "metadata": {
        "colab": {
          "base_uri": "https://localhost:8080/"
        },
        "id": "qbmQkFngdA8q",
        "outputId": "e491e330-839a-4573-fe44-23e860f98d63"
      },
      "outputs": [
        {
          "output_type": "stream",
          "name": "stdout",
          "text": [
            "=3\n"
          ]
        }
      ],
      "source": [
        "from tensorflow.keras.datasets import reuters\n",
        "import matplotlib.pyplot as plt\n",
        "import seaborn as sns\n",
        "import numpy as np\n",
        "import pandas as pd\n",
        "\n",
        "print('=3')"
      ]
    },
    {
      "cell_type": "code",
      "execution_count": 4,
      "metadata": {
        "id": "mpmkgL_GdA6e",
        "colab": {
          "base_uri": "https://localhost:8080/"
        },
        "outputId": "d08290be-aa36-4465-8266-5afbfc1d9cd2"
      },
      "outputs": [
        {
          "output_type": "stream",
          "name": "stdout",
          "text": [
            "Downloading data from https://storage.googleapis.com/tensorflow/tf-keras-datasets/reuters.npz\n",
            "2113536/2110848 [==============================] - 0s 0us/step\n",
            "2121728/2110848 [==============================] - 0s 0us/step\n"
          ]
        }
      ],
      "source": [
        "# 모든 단어 사용\n",
        "(x_train_all, y_train_all), (x_test_all, y_test_all) = reuters.load_data(num_words=None, test_split=0.2)\n"
      ]
    },
    {
      "cell_type": "code",
      "execution_count": 5,
      "metadata": {
        "id": "ddXP4cjAdAlI"
      },
      "outputs": [],
      "source": [
        "# 빈도수 상위 1만개 단어만 사용 \\\n",
        "(x_train_10000, y_train_10000), (x_test_10000, y_test_10000) = reuters.load_data(num_words=10000, test_split=0.2)\n"
      ]
    },
    {
      "cell_type": "code",
      "execution_count": 6,
      "metadata": {
        "id": "rcTNFel4dAjC"
      },
      "outputs": [],
      "source": [
        "# 빈도수 상위 5천개 단어만 사용\n",
        "(x_train_5000, y_train_5000), (x_test_5000, y_test_5000) = reuters.load_data(num_words=5000, test_split=0.2)\n"
      ]
    },
    {
      "cell_type": "code",
      "execution_count": 6,
      "metadata": {
        "id": "h6V5ZVvOIX6P"
      },
      "outputs": [],
      "source": [
        ""
      ]
    },
    {
      "cell_type": "markdown",
      "metadata": {
        "id": "ee56mraWJXOB"
      },
      "source": [
        "# 2. 불러온 로이터 뉴스 데이터를 원본 뉴스 데이터로 복원하기"
      ]
    },
    {
      "cell_type": "markdown",
      "metadata": {
        "id": "rXJKqpIHFnwQ"
      },
      "source": [
        "## 모든 데이터"
      ]
    },
    {
      "cell_type": "code",
      "execution_count": 7,
      "metadata": {
        "id": "CXynzmMmNSSA",
        "colab": {
          "base_uri": "https://localhost:8080/"
        },
        "outputId": "1dfa62d7-3e00-49c0-f6f9-101bfbb0d366"
      },
      "outputs": [
        {
          "output_type": "stream",
          "name": "stdout",
          "text": [
            "Downloading data from https://storage.googleapis.com/tensorflow/tf-keras-datasets/reuters_word_index.json\n",
            "557056/550378 [==============================] - 0s 0us/step\n",
            "565248/550378 [==============================] - 0s 0us/step\n"
          ]
        }
      ],
      "source": [
        "word_index_all = reuters.get_word_index(path=\"reuters_word_index.json\")\n"
      ]
    },
    {
      "cell_type": "code",
      "execution_count": 8,
      "metadata": {
        "id": "iNugwhU4FiRR"
      },
      "outputs": [],
      "source": [
        "index_to_word_all = { index+3 : word for word, index in word_index_all.items() }\n"
      ]
    },
    {
      "cell_type": "code",
      "execution_count": 9,
      "metadata": {
        "id": "4cFJZ4TQFiKA"
      },
      "outputs": [],
      "source": [
        "# index_to_word에 숫자 0은 <pad>, 숫자 1은 <sos>, 숫자 2는 <unk>를 넣어줍니다.\n",
        "for index, token in enumerate((\"<pad>\", \"<sos>\", \"<unk>\")):\n",
        "  index_to_word_all[index]=token"
      ]
    },
    {
      "cell_type": "code",
      "execution_count": 10,
      "metadata": {
        "colab": {
          "base_uri": "https://localhost:8080/"
        },
        "id": "NgjYKEBaNG7d",
        "outputId": "89781425-fb55-4211-b9e9-92825c644ee4"
      },
      "outputs": [
        {
          "output_type": "stream",
          "name": "stdout",
          "text": [
            "8982\n"
          ]
        }
      ],
      "source": [
        "decoded = []\n",
        "for i in range(len(x_train_all)):\n",
        "    t = ' '.join([index_to_word_all[index] for index in x_train_all[i]])\n",
        "    decoded.append(t)\n",
        "\n",
        "x_train = decoded\n",
        "print(len(x_train))"
      ]
    },
    {
      "cell_type": "code",
      "execution_count": 11,
      "metadata": {
        "colab": {
          "base_uri": "https://localhost:8080/"
        },
        "id": "HY-STztSR-2v",
        "outputId": "912ae578-2863-4b7f-ee92-ae4b515c3a5f"
      },
      "outputs": [
        {
          "output_type": "stream",
          "name": "stdout",
          "text": [
            "2246\n"
          ]
        }
      ],
      "source": [
        "decoded = []\n",
        "for i in range(len(x_test_all)):\n",
        "    t = ' '.join([index_to_word_all[index] for index in x_test_all[i]])\n",
        "    decoded.append(t)\n",
        "\n",
        "x_test_all = decoded\n",
        "print(len(x_test_all))"
      ]
    },
    {
      "cell_type": "markdown",
      "metadata": {
        "id": "UzEBkJobDzC-"
      },
      "source": [
        "## vocab 10000개"
      ]
    },
    {
      "cell_type": "code",
      "execution_count": 12,
      "metadata": {
        "id": "JZpgk878GEke"
      },
      "outputs": [],
      "source": [
        "word_index_10000 = reuters.get_word_index(path=\"reuters_word_index.json\")"
      ]
    },
    {
      "cell_type": "code",
      "execution_count": 13,
      "metadata": {
        "id": "LSBwExg1GEke"
      },
      "outputs": [],
      "source": [
        "index_to_word_10000 = { index+3 : word for word, index in word_index_10000.items() }\n"
      ]
    },
    {
      "cell_type": "code",
      "execution_count": 14,
      "metadata": {
        "id": "t6o3bDXsGEke"
      },
      "outputs": [],
      "source": [
        "# index_to_word에 숫자 0은 <pad>, 숫자 1은 <sos>, 숫자 2는 <unk>를 넣어줍니다.\n",
        "for index, token in enumerate((\"<pad>\", \"<sos>\", \"<unk>\")):\n",
        "  index_to_word_10000[index]=token"
      ]
    },
    {
      "cell_type": "code",
      "execution_count": 15,
      "metadata": {
        "colab": {
          "base_uri": "https://localhost:8080/"
        },
        "id": "sA-d-zG9GEkf",
        "outputId": "76e8e1dc-3bf3-497c-8894-4ec6bf2cc3b5"
      },
      "outputs": [
        {
          "output_type": "stream",
          "name": "stdout",
          "text": [
            "8982\n"
          ]
        }
      ],
      "source": [
        "decoded = []\n",
        "for i in range(len(x_train_10000)):\n",
        "    t = ' '.join([index_to_word_10000[index] for index in x_train_10000[i]])\n",
        "    decoded.append(t)\n",
        "\n",
        "x_train_10000 = decoded\n",
        "print(len(x_train_10000))"
      ]
    },
    {
      "cell_type": "code",
      "execution_count": 16,
      "metadata": {
        "colab": {
          "base_uri": "https://localhost:8080/"
        },
        "id": "lGInWEPBSFvT",
        "outputId": "6ba2ea7b-4c8d-4b80-ec38-ffcfa94860e1"
      },
      "outputs": [
        {
          "output_type": "stream",
          "name": "stdout",
          "text": [
            "2246\n"
          ]
        }
      ],
      "source": [
        "decoded = []\n",
        "for i in range(len(x_test_10000)):\n",
        "    t = ' '.join([index_to_word_10000[index] for index in x_test_10000[i]])\n",
        "    decoded.append(t)\n",
        "\n",
        "x_test_10000 = decoded\n",
        "print(len(x_test_10000))"
      ]
    },
    {
      "cell_type": "markdown",
      "metadata": {
        "id": "jwWm4WK2EBLl"
      },
      "source": [
        "## vocab 5000개"
      ]
    },
    {
      "cell_type": "code",
      "execution_count": 17,
      "metadata": {
        "id": "EDL3NQ4jGUln"
      },
      "outputs": [],
      "source": [
        "word_index_5000 = reuters.get_word_index(path=\"reuters_word_index.json\")"
      ]
    },
    {
      "cell_type": "code",
      "execution_count": 18,
      "metadata": {
        "id": "0mzzNLn7GUlt"
      },
      "outputs": [],
      "source": [
        "index_to_word_5000 = { index+3 : word for word, index in word_index_5000.items() }\n"
      ]
    },
    {
      "cell_type": "code",
      "execution_count": 19,
      "metadata": {
        "id": "wTxRk_kKGUlu"
      },
      "outputs": [],
      "source": [
        "# index_to_word에 숫자 0은 <pad>, 숫자 1은 <sos>, 숫자 2는 <unk>를 넣어줍니다.\n",
        "for index, token in enumerate((\"<pad>\", \"<sos>\", \"<unk>\")):\n",
        "  index_to_word_5000[index]=token"
      ]
    },
    {
      "cell_type": "code",
      "execution_count": 20,
      "metadata": {
        "colab": {
          "base_uri": "https://localhost:8080/"
        },
        "id": "vZCZSRECGUlu",
        "outputId": "53f59350-f90b-457f-df6e-6ed817994c05"
      },
      "outputs": [
        {
          "output_type": "stream",
          "name": "stdout",
          "text": [
            "8982\n"
          ]
        }
      ],
      "source": [
        "decoded = []\n",
        "for i in range(len(x_train_5000)):\n",
        "    t = ' '.join([index_to_word_5000[index] for index in x_train_5000[i]])\n",
        "    decoded.append(t)\n",
        "\n",
        "x_train_5000 = decoded\n",
        "print(len(x_train_5000))"
      ]
    },
    {
      "cell_type": "code",
      "execution_count": 21,
      "metadata": {
        "colab": {
          "base_uri": "https://localhost:8080/"
        },
        "id": "qnLyP_xbJiiH",
        "outputId": "284d564d-4dca-4c2e-a812-967f02fd1b0f"
      },
      "outputs": [
        {
          "output_type": "stream",
          "name": "stdout",
          "text": [
            "2246\n"
          ]
        }
      ],
      "source": [
        "decoded = []\n",
        "for i in range(len(x_test_5000)):\n",
        "    t = ' '.join([index_to_word_5000[index] for index in x_test_5000[i]])\n",
        "    decoded.append(t)\n",
        "\n",
        "x_test_5000 = decoded\n",
        "print(len(x_test_5000))"
      ]
    },
    {
      "cell_type": "markdown",
      "metadata": {
        "id": "34oTRlRvNpm7"
      },
      "source": [
        "# 벡터화 하기\n",
        "\n",
        "# 모든 데이터"
      ]
    },
    {
      "cell_type": "code",
      "execution_count": 22,
      "metadata": {
        "id": "8_O6FC8VNsxN"
      },
      "outputs": [],
      "source": [
        "from sklearn.feature_extraction.text import CountVectorizer\n",
        "from sklearn.feature_extraction.text import TfidfTransformer"
      ]
    },
    {
      "cell_type": "code",
      "execution_count": 23,
      "metadata": {
        "colab": {
          "base_uri": "https://localhost:8080/"
        },
        "id": "TIuSDLoQNsxN",
        "outputId": "6ca8a453-9287-4241-bf1a-655012fe9ec8"
      },
      "outputs": [
        {
          "output_type": "stream",
          "name": "stdout",
          "text": [
            "(8982, 26506)\n"
          ]
        }
      ],
      "source": [
        "dtmvector_all = CountVectorizer()\n",
        "x_train_dtm_all = dtmvector_all.fit_transform(x_train)\n",
        "print(x_train_dtm_all.shape)"
      ]
    },
    {
      "cell_type": "code",
      "execution_count": 24,
      "metadata": {
        "colab": {
          "base_uri": "https://localhost:8080/"
        },
        "id": "VLXs4Yu1NsxO",
        "outputId": "995c348b-0b82-43dc-cd81-3513524b2c70"
      },
      "outputs": [
        {
          "output_type": "stream",
          "name": "stdout",
          "text": [
            "(8982, 26506)\n"
          ]
        }
      ],
      "source": [
        "tfidf_transformer_all = TfidfTransformer()\n",
        "tfidfv_all = tfidf_transformer_all.fit_transform(x_train_dtm_all)\n",
        "print(tfidfv_all.shape)"
      ]
    },
    {
      "cell_type": "markdown",
      "metadata": {
        "id": "53s2IquJIc7J"
      },
      "source": [
        "\n",
        "## 10000"
      ]
    },
    {
      "cell_type": "code",
      "execution_count": 25,
      "metadata": {
        "colab": {
          "base_uri": "https://localhost:8080/"
        },
        "id": "9L0a3ie5Ibzd",
        "outputId": "72a31418-16d8-48da-e1c0-70ac6f68fc5f"
      },
      "outputs": [
        {
          "output_type": "stream",
          "name": "stdout",
          "text": [
            "(8982, 9670)\n"
          ]
        }
      ],
      "source": [
        "dtmvector_10000 = CountVectorizer()\n",
        "x_train_dtm_10000 = dtmvector_10000.fit_transform(x_train_10000)\n",
        "print(x_train_dtm_10000.shape)"
      ]
    },
    {
      "cell_type": "code",
      "execution_count": 26,
      "metadata": {
        "colab": {
          "base_uri": "https://localhost:8080/"
        },
        "id": "7A4FPMIdIbw7",
        "outputId": "25b08322-93c7-45f9-9d8f-9337edfe4855"
      },
      "outputs": [
        {
          "output_type": "stream",
          "name": "stdout",
          "text": [
            "(8982, 9670)\n"
          ]
        }
      ],
      "source": [
        "tfidf_transformer_10000 = TfidfTransformer()\n",
        "tfidfv_10000 = tfidf_transformer_10000.fit_transform(x_train_dtm_10000)\n",
        "print(tfidfv_10000.shape)"
      ]
    },
    {
      "cell_type": "markdown",
      "metadata": {
        "id": "O8EQpIP0Lm6J"
      },
      "source": [
        "# 5000"
      ]
    },
    {
      "cell_type": "code",
      "execution_count": 27,
      "metadata": {
        "colab": {
          "base_uri": "https://localhost:8080/"
        },
        "id": "uP6d1bYOLocz",
        "outputId": "f5ce01c2-9442-4d1e-ea87-6d90054ee727"
      },
      "outputs": [
        {
          "output_type": "stream",
          "name": "stdout",
          "text": [
            "(8982, 4867)\n"
          ]
        }
      ],
      "source": [
        "dtmvector_5000 = CountVectorizer()\n",
        "x_train_dtm_5000 = dtmvector_5000.fit_transform(x_train_5000)\n",
        "print(x_train_dtm_5000.shape)"
      ]
    },
    {
      "cell_type": "code",
      "execution_count": 28,
      "metadata": {
        "colab": {
          "base_uri": "https://localhost:8080/"
        },
        "id": "f4eLmuPPLocz",
        "outputId": "e44eb496-54c1-4081-9391-24f6f9bc2ea1"
      },
      "outputs": [
        {
          "output_type": "stream",
          "name": "stdout",
          "text": [
            "(8982, 4867)\n"
          ]
        }
      ],
      "source": [
        "tfidf_transformer_5000 = TfidfTransformer()\n",
        "tfidfv_5000 = tfidf_transformer_5000.fit_transform(x_train_dtm_5000)\n",
        "print(tfidfv_5000.shape)"
      ]
    },
    {
      "cell_type": "code",
      "execution_count": 28,
      "metadata": {
        "id": "WFzyCBMfIbsJ"
      },
      "outputs": [],
      "source": [
        ""
      ]
    },
    {
      "cell_type": "code",
      "execution_count": 28,
      "metadata": {
        "id": "lcPnjmdNIbpl"
      },
      "outputs": [],
      "source": [
        ""
      ]
    },
    {
      "cell_type": "markdown",
      "metadata": {
        "id": "WnI1FDUcHA9L"
      },
      "source": [
        ""
      ]
    },
    {
      "cell_type": "markdown",
      "metadata": {
        "id": "zue3CJtlGh3u"
      },
      "source": [
        "# 1. 나이브 베이즈 분류기\n",
        "\n",
        "## 모든 데이터"
      ]
    },
    {
      "cell_type": "code",
      "execution_count": 29,
      "metadata": {
        "id": "olM3RU8yHkMG"
      },
      "outputs": [],
      "source": [
        "from sklearn.naive_bayes import MultinomialNB #다항분포 나이브 베이즈 모델\n",
        "from sklearn.linear_model import LogisticRegression, SGDClassifier\n",
        "from sklearn.naive_bayes import ComplementNB\n",
        "from sklearn.tree import DecisionTreeClassifier\n",
        "from sklearn.ensemble import RandomForestClassifier\n",
        "from sklearn.ensemble import GradientBoostingClassifier\n",
        "from sklearn.ensemble import VotingClassifier\n",
        "from sklearn.svm import LinearSVC\n",
        "from sklearn.metrics import accuracy_score #정확도 계산\n"
      ]
    },
    {
      "cell_type": "code",
      "execution_count": 30,
      "metadata": {
        "colab": {
          "base_uri": "https://localhost:8080/"
        },
        "id": "GQD9wmYoHkz5",
        "outputId": "596ae039-95a4-470b-fff1-d13304ffb91f"
      },
      "outputs": [
        {
          "output_type": "execute_result",
          "data": {
            "text/plain": [
              "MultinomialNB()"
            ]
          },
          "metadata": {},
          "execution_count": 30
        }
      ],
      "source": [
        "model_all = MultinomialNB()\n",
        "model_all.fit(tfidfv_all, y_train_all)"
      ]
    },
    {
      "cell_type": "code",
      "execution_count": 31,
      "metadata": {
        "colab": {
          "base_uri": "https://localhost:8080/"
        },
        "id": "Y4wczi26Hkxu",
        "outputId": "1aec7c61-5370-4a11-8479-ed6c462e198a"
      },
      "outputs": [
        {
          "output_type": "stream",
          "name": "stdout",
          "text": [
            "정확도: 0.5997328584149599\n"
          ]
        }
      ],
      "source": [
        "x_test_dtm_all = dtmvector_all.transform(x_test_all) #테스트 데이터를 DTM으로 변환\n",
        "tfidfv_test_all = tfidf_transformer_all.transform(x_test_dtm_all) #DTM을 TF-IDF 행렬로 변환\n",
        "\n",
        "predicted_all = model_all.predict(tfidfv_test_all) #테스트 데이터에 대한 예측\n",
        "print(\"정확도:\", accuracy_score(y_test_all, predicted_all)) #예측값과 실제값 비교"
      ]
    },
    {
      "cell_type": "markdown",
      "metadata": {
        "id": "_TDwwWemVxqI"
      },
      "source": [
        "## 10000"
      ]
    },
    {
      "cell_type": "code",
      "execution_count": 32,
      "metadata": {
        "colab": {
          "base_uri": "https://localhost:8080/"
        },
        "id": "WB9ogyQLVy5V",
        "outputId": "05609730-f9d7-4c66-c2e2-59a45df44ea4"
      },
      "outputs": [
        {
          "output_type": "execute_result",
          "data": {
            "text/plain": [
              "MultinomialNB()"
            ]
          },
          "metadata": {},
          "execution_count": 32
        }
      ],
      "source": [
        "model_10000 = MultinomialNB()\n",
        "model_10000.fit(tfidfv_10000, y_train_10000)"
      ]
    },
    {
      "cell_type": "code",
      "execution_count": 33,
      "metadata": {
        "colab": {
          "base_uri": "https://localhost:8080/"
        },
        "id": "noL8w-1sVy5V",
        "outputId": "df2981bb-d614-4c54-a873-70d411fbbf13"
      },
      "outputs": [
        {
          "output_type": "stream",
          "name": "stdout",
          "text": [
            "정확도: 0.6567230632235085\n"
          ]
        }
      ],
      "source": [
        "x_test_dtm_10000 = dtmvector_10000.transform(x_test_10000) #테스트 데이터를 DTM으로 변환\n",
        "tfidfv_test_10000 = tfidf_transformer_10000.transform(x_test_dtm_10000) #DTM을 TF-IDF 행렬로 변환\n",
        "\n",
        "predicted_10000 = model_10000.predict(tfidfv_test_10000) #테스트 데이터에 대한 예측\n",
        "print(\"정확도:\", accuracy_score(y_test_10000, predicted_10000)) #예측값과 실제값 비교"
      ]
    },
    {
      "cell_type": "markdown",
      "metadata": {
        "id": "QRoL-dmPWPHc"
      },
      "source": [
        "## 5000"
      ]
    },
    {
      "cell_type": "code",
      "execution_count": 34,
      "metadata": {
        "colab": {
          "base_uri": "https://localhost:8080/"
        },
        "id": "I1rh4-seHkqb",
        "outputId": "5b20b6c7-b524-486e-b12e-8f3bfbabd343"
      },
      "outputs": [
        {
          "output_type": "execute_result",
          "data": {
            "text/plain": [
              "MultinomialNB()"
            ]
          },
          "metadata": {},
          "execution_count": 34
        }
      ],
      "source": [
        "model_5000 = MultinomialNB()\n",
        "model_5000.fit(tfidfv_5000, y_train_5000)"
      ]
    },
    {
      "cell_type": "code",
      "execution_count": 35,
      "metadata": {
        "colab": {
          "base_uri": "https://localhost:8080/"
        },
        "id": "dMQINJM7HkoE",
        "outputId": "6ade830d-cab7-4a79-c591-90a71af3afb9"
      },
      "outputs": [
        {
          "output_type": "stream",
          "name": "stdout",
          "text": [
            "정확도: 0.6731967943009796\n"
          ]
        }
      ],
      "source": [
        "x_test_dtm_5000 = dtmvector_5000.transform(x_test_5000) #테스트 데이터를 DTM으로 변환\n",
        "tfidfv_test_5000 = tfidf_transformer_5000.transform(x_test_dtm_5000) #DTM을 TF-IDF 행렬로 변환\n",
        "\n",
        "predicted_5000 = model_5000.predict(tfidfv_test_5000) #테스트 데이터에 대한 예측\n",
        "print(\"정확도:\", accuracy_score(y_test_5000, predicted_5000)) #예측값과 실제값 비교"
      ]
    },
    {
      "cell_type": "code",
      "execution_count": 35,
      "metadata": {
        "id": "DeyoGs72Hkjv"
      },
      "outputs": [],
      "source": [
        ""
      ]
    },
    {
      "cell_type": "markdown",
      "metadata": {
        "id": "mdlVGxdlZtui"
      },
      "source": [
        "# SVM\n",
        "\n",
        "## 모든 데이터"
      ]
    },
    {
      "cell_type": "code",
      "execution_count": 36,
      "metadata": {
        "colab": {
          "base_uri": "https://localhost:8080/"
        },
        "id": "S-z9aBOuZtag",
        "outputId": "04192b89-d4d9-4277-cb37-52656f97c51a"
      },
      "outputs": [
        {
          "output_type": "stream",
          "name": "stderr",
          "text": [
            "/usr/local/lib/python3.7/dist-packages/sklearn/svm/_base.py:1208: ConvergenceWarning: Liblinear failed to converge, increase the number of iterations.\n",
            "  ConvergenceWarning,\n"
          ]
        },
        {
          "output_type": "execute_result",
          "data": {
            "text/plain": [
              "LinearSVC(C=1000, dual=False, max_iter=500, penalty='l1')"
            ]
          },
          "metadata": {},
          "execution_count": 36
        }
      ],
      "source": [
        "lsvc = LinearSVC(C=1000, penalty='l1', max_iter=500, dual=False)\n",
        "lsvc.fit(tfidfv_all, y_train_all)"
      ]
    },
    {
      "cell_type": "code",
      "execution_count": 37,
      "metadata": {
        "colab": {
          "base_uri": "https://localhost:8080/"
        },
        "id": "8bqg_MbxZtOT",
        "outputId": "b55d47d3-bb35-493d-cbc4-ee3da975ae7c"
      },
      "outputs": [
        {
          "output_type": "stream",
          "name": "stdout",
          "text": [
            "정확도: 0.7751558325912734\n"
          ]
        }
      ],
      "source": [
        "predicted = lsvc.predict(tfidfv_test_all) #테스트 데이터에 대한 예측\n",
        "print(\"정확도:\", accuracy_score(y_test_all, predicted)) #예측값과 실제값 비교"
      ]
    },
    {
      "cell_type": "markdown",
      "metadata": {
        "id": "jJdMz_zSaTpg"
      },
      "source": [
        "## 10000"
      ]
    },
    {
      "cell_type": "code",
      "execution_count": 38,
      "metadata": {
        "colab": {
          "base_uri": "https://localhost:8080/"
        },
        "id": "hHSVKRFlZtC1",
        "outputId": "9664060f-d8c1-4487-9348-373ef6ec7984"
      },
      "outputs": [
        {
          "output_type": "stream",
          "name": "stderr",
          "text": [
            "/usr/local/lib/python3.7/dist-packages/sklearn/svm/_base.py:1208: ConvergenceWarning: Liblinear failed to converge, increase the number of iterations.\n",
            "  ConvergenceWarning,\n"
          ]
        },
        {
          "output_type": "execute_result",
          "data": {
            "text/plain": [
              "LinearSVC(C=1000, dual=False, max_iter=500, penalty='l1')"
            ]
          },
          "metadata": {},
          "execution_count": 38
        }
      ],
      "source": [
        "lsvc = LinearSVC(C=1000, penalty='l1', max_iter=500, dual=False)\n",
        "lsvc.fit(tfidfv_10000, y_train_10000)"
      ]
    },
    {
      "cell_type": "code",
      "execution_count": 39,
      "metadata": {
        "colab": {
          "base_uri": "https://localhost:8080/"
        },
        "id": "lSk0zKN2Hkhh",
        "outputId": "665770f6-6e8e-4d3b-b0a5-518862f6ac9d"
      },
      "outputs": [
        {
          "output_type": "stream",
          "name": "stdout",
          "text": [
            "정확도: 0.7769367764915405\n"
          ]
        }
      ],
      "source": [
        "predicted = lsvc.predict(tfidfv_test_10000) #테스트 데이터에 대한 예측\n",
        "print(\"정확도:\", accuracy_score(y_test_10000, predicted)) #예측값과 실제값 비교"
      ]
    },
    {
      "cell_type": "markdown",
      "metadata": {
        "id": "TqenlvafaVJe"
      },
      "source": [
        "## 5000"
      ]
    },
    {
      "cell_type": "code",
      "execution_count": null,
      "metadata": {
        "id": "FwM_698BHke7"
      },
      "outputs": [],
      "source": [
        "lsvc = LinearSVC(C=1000, penalty='l1', max_iter=500, dual=False)\n",
        "lsvc.fit(tfidfv_5000, y_train_5000)"
      ]
    },
    {
      "cell_type": "code",
      "execution_count": null,
      "metadata": {
        "id": "ThX8O0zBaXeS"
      },
      "outputs": [],
      "source": [
        "predicted = lsvc.predict(tfidfv_test_5000) #테스트 데이터에 대한 예측\n",
        "print(\"정확도:\", accuracy_score(y_test_5000, predicted)) #예측값과 실제값 비교"
      ]
    },
    {
      "cell_type": "markdown",
      "metadata": {
        "id": "SYl_VZqcaef7"
      },
      "source": [
        "# 결정트리\n",
        "\n",
        "## 모든 데이터"
      ]
    },
    {
      "cell_type": "code",
      "execution_count": null,
      "metadata": {
        "id": "6_59brVqaXcK"
      },
      "outputs": [],
      "source": [
        "tree = DecisionTreeClassifier(max_depth=10, random_state=0)\n",
        "tree.fit(tfidfv_all, y_train_all)"
      ]
    },
    {
      "cell_type": "code",
      "execution_count": null,
      "metadata": {
        "id": "yE1i8U9UaXZS"
      },
      "outputs": [],
      "source": [
        "predicted = tree.predict(tfidfv_test_all) #테스트 데이터에 대한 예측\n",
        "print(\"정확도:\", accuracy_score(y_test_all, predicted)) #예측값과 실제값 비교"
      ]
    },
    {
      "cell_type": "markdown",
      "metadata": {
        "id": "5UkY0_0ian_s"
      },
      "source": [
        "## 10000"
      ]
    },
    {
      "cell_type": "code",
      "execution_count": null,
      "metadata": {
        "id": "WLNMAQ6PaXW5"
      },
      "outputs": [],
      "source": [
        "tree = DecisionTreeClassifier(max_depth=10, random_state=0)\n",
        "tree.fit(tfidfv_10000, y_train_10000)"
      ]
    },
    {
      "cell_type": "code",
      "execution_count": null,
      "metadata": {
        "id": "jwofup9VaXUQ"
      },
      "outputs": [],
      "source": [
        "predicted = tree.predict(tfidfv_test_10000) #테스트 데이터에 대한 예측\n",
        "print(\"정확도:\", accuracy_score(y_test_10000, predicted)) #예측값과 실제값 비교"
      ]
    },
    {
      "cell_type": "markdown",
      "metadata": {
        "id": "VOVW4VBgazW1"
      },
      "source": [
        "## 5000"
      ]
    },
    {
      "cell_type": "code",
      "execution_count": null,
      "metadata": {
        "id": "g_kF-oU7aXKj"
      },
      "outputs": [],
      "source": [
        "tree = DecisionTreeClassifier(max_depth=10, random_state=0)\n",
        "tree.fit(tfidfv_5000, y_train_5000)"
      ]
    },
    {
      "cell_type": "code",
      "execution_count": null,
      "metadata": {
        "id": "zuZZlVtBaXPt"
      },
      "outputs": [],
      "source": [
        "predicted = tree.predict(tfidfv_test_5000) #테스트 데이터에 대한 예측\n",
        "print(\"정확도:\", accuracy_score(y_test_5000, predicted)) #예측값과 실제값 비교"
      ]
    },
    {
      "cell_type": "markdown",
      "metadata": {
        "id": "GrfokVQxa_fF"
      },
      "source": [
        "# 랜덤 포레스트\n",
        "\n",
        "## 모든 데이터"
      ]
    },
    {
      "cell_type": "code",
      "execution_count": null,
      "metadata": {
        "id": "KPdhvydPaXH-"
      },
      "outputs": [],
      "source": [
        "forest = RandomForestClassifier(n_estimators=5, random_state=0)\n",
        "forest.fit(tfidfv_all, y_train_all)"
      ]
    },
    {
      "cell_type": "code",
      "execution_count": null,
      "metadata": {
        "id": "7MNdHw3TbDMB"
      },
      "outputs": [],
      "source": [
        "predicted = forest.predict(tfidfv_test_all) #테스트 데이터에 대한 예측\n",
        "print(\"정확도:\", accuracy_score(y_test_all, predicted)) #예측값과 실제값 비교"
      ]
    },
    {
      "cell_type": "markdown",
      "metadata": {
        "id": "v79JWrCqbNhU"
      },
      "source": [
        "## 10000"
      ]
    },
    {
      "cell_type": "code",
      "execution_count": null,
      "metadata": {
        "id": "gyNzF25xbOmd"
      },
      "outputs": [],
      "source": [
        "forest = RandomForestClassifier(n_estimators=5, random_state=0)\n",
        "forest.fit(tfidfv_10000, y_train_10000)"
      ]
    },
    {
      "cell_type": "code",
      "execution_count": null,
      "metadata": {
        "id": "fNHzGJAebOmd"
      },
      "outputs": [],
      "source": [
        "predicted = forest.predict(tfidfv_test_10000) #테스트 데이터에 대한 예측\n",
        "print(\"정확도:\", accuracy_score(y_test_10000, predicted)) #예측값과 실제값 비교"
      ]
    },
    {
      "cell_type": "markdown",
      "metadata": {
        "id": "28IoZv1kbXFj"
      },
      "source": [
        "## 5000"
      ]
    },
    {
      "cell_type": "code",
      "execution_count": null,
      "metadata": {
        "id": "K4roewpxbX8W"
      },
      "outputs": [],
      "source": [
        "forest = RandomForestClassifier(n_estimators=5, random_state=0)\n",
        "forest.fit(tfidfv_5000, y_train_5000)"
      ]
    },
    {
      "cell_type": "code",
      "execution_count": null,
      "metadata": {
        "id": "D9es_FjbbX8W"
      },
      "outputs": [],
      "source": [
        "predicted = forest.predict(tfidfv_test_5000) #테스트 데이터에 대한 예측\n",
        "print(\"정확도:\", accuracy_score(y_test_5000, predicted)) #예측값과 실제값 비교"
      ]
    },
    {
      "cell_type": "markdown",
      "metadata": {
        "id": "firWXOtDbx_C"
      },
      "source": [
        "# 그래디언트 부스팅 트리\n",
        "\n",
        "## 모든 데이터"
      ]
    },
    {
      "cell_type": "code",
      "execution_count": 54,
      "metadata": {
        "colab": {
          "base_uri": "https://localhost:8080/"
        },
        "id": "BqGcxQHAbDJL",
        "outputId": "5f612e0b-7117-43fd-d23c-37f26465f0b1"
      },
      "outputs": [
        {
          "output_type": "execute_result",
          "data": {
            "text/plain": [
              "GradientBoostingClassifier(random_state=0)"
            ]
          },
          "metadata": {},
          "execution_count": 54
        }
      ],
      "source": [
        "grbt = GradientBoostingClassifier(random_state=0) # verbose=3\n",
        "grbt.fit(tfidfv_all, y_train_all)"
      ]
    },
    {
      "cell_type": "code",
      "execution_count": 55,
      "metadata": {
        "colab": {
          "base_uri": "https://localhost:8080/"
        },
        "id": "jYncHYiXbDGn",
        "outputId": "f3b96fd8-09ce-45d3-f7fd-d38ce1b2bb0e"
      },
      "outputs": [
        {
          "output_type": "stream",
          "name": "stdout",
          "text": [
            "정확도: 0.7702582368655387\n"
          ]
        }
      ],
      "source": [
        "predicted = grbt.predict(tfidfv_test_all) #테스트 데이터에 대한 예측\n",
        "print(\"정확도:\", accuracy_score(y_test_all, predicted)) #예측값과 실제값 비교"
      ]
    },
    {
      "cell_type": "markdown",
      "metadata": {
        "id": "SP5CNVK0b9Ey"
      },
      "source": [
        "# 10000"
      ]
    },
    {
      "cell_type": "code",
      "execution_count": 56,
      "metadata": {
        "colab": {
          "base_uri": "https://localhost:8080/"
        },
        "id": "oHzSz7FRb97L",
        "outputId": "37942dfd-6c21-4cad-b94a-cdaa9a3898d5"
      },
      "outputs": [
        {
          "output_type": "execute_result",
          "data": {
            "text/plain": [
              "GradientBoostingClassifier(random_state=0)"
            ]
          },
          "metadata": {},
          "execution_count": 56
        }
      ],
      "source": [
        "grbt = GradientBoostingClassifier(random_state=0) # verbose=3\n",
        "grbt.fit(tfidfv_10000, y_train_10000)"
      ]
    },
    {
      "cell_type": "code",
      "execution_count": null,
      "metadata": {
        "id": "A6xKGgUWb97L"
      },
      "outputs": [],
      "source": [
        "predicted = grbt.predict(tfidfv_test_10000) #테스트 데이터에 대한 예측\n",
        "print(\"정확도:\", accuracy_score(y_test_10000, predicted)) #예측값과 실제값 비교"
      ]
    },
    {
      "cell_type": "markdown",
      "metadata": {
        "id": "7E-tW1A3cDTc"
      },
      "source": [
        "# 5000\n"
      ]
    },
    {
      "cell_type": "code",
      "execution_count": null,
      "metadata": {
        "id": "23dEdytwcEFm"
      },
      "outputs": [],
      "source": [
        "grbt = GradientBoostingClassifier(random_state=0) # verbose=3\n",
        "grbt.fit(tfidfv_5000, y_train_5000)"
      ]
    },
    {
      "cell_type": "code",
      "execution_count": 59,
      "metadata": {
        "colab": {
          "base_uri": "https://localhost:8080/"
        },
        "id": "UhiEu7JkcEFm",
        "outputId": "531f2f3e-2471-4f28-9f74-aaeebe716493"
      },
      "outputs": [
        {
          "output_type": "stream",
          "name": "stdout",
          "text": [
            "정확도: 0.767586821015138\n"
          ]
        }
      ],
      "source": [
        "predicted = grbt.predict(tfidfv_test_5000) #테스트 데이터에 대한 예측\n",
        "print(\"정확도:\", accuracy_score(y_test_5000, predicted)) #예측값과 실제값 비교"
      ]
    },
    {
      "cell_type": "code",
      "execution_count": null,
      "metadata": {
        "id": "qjjUwjLfbDD0"
      },
      "outputs": [],
      "source": [
        ""
      ]
    },
    {
      "cell_type": "code",
      "execution_count": null,
      "metadata": {
        "id": "s-QOnr2LbDBP"
      },
      "outputs": [],
      "source": [
        ""
      ]
    },
    {
      "cell_type": "markdown",
      "metadata": {
        "id": "_ZcaCRc1ce_k"
      },
      "source": [
        "# 회고\n",
        "\n",
        "1. VOCAB SIZE의 최적화는 어떻게 할 수 있을까?\n",
        "2. 대체로 VOCAB SIZE 5000일때가 가장 성능이 좋았다. 모든 데이터를 썼을때가 성능이 좋을 때도 있는데, 어떤 차이일지 알고싶다.\n",
        "3. 어떤 특징이 있는 데이터는 어떤 머신러닝 기법을 쓴다는 것을 정리해두면 좋을 것 같다."
      ]
    },
    {
      "cell_type": "code",
      "execution_count": 59,
      "metadata": {
        "id": "kp3UEFPfbC-p"
      },
      "outputs": [],
      "source": [
        ""
      ]
    },
    {
      "cell_type": "code",
      "execution_count": 59,
      "metadata": {
        "id": "Ryi35GQFbC73"
      },
      "outputs": [],
      "source": [
        ""
      ]
    }
  ],
  "metadata": {
    "colab": {
      "collapsed_sections": [],
      "name": "Going Deeper(NLP) 04. news category Multiclass Classification",
      "provenance": [],
      "mount_file_id": "1FJRKoPW8ifyFM30AF1QrzWn7LxEpnl6h",
      "authorship_tag": "ABX9TyMMiXZhbMCf7+8prjz/Pdve",
      "include_colab_link": true
    },
    "kernelspec": {
      "display_name": "Python 3",
      "name": "python3"
    },
    "language_info": {
      "name": "python"
    }
  },
  "nbformat": 4,
  "nbformat_minor": 0
}