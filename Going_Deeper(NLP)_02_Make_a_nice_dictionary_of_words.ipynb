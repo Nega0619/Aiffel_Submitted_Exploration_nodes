{
  "nbformat": 4,
  "nbformat_minor": 0,
  "metadata": {
    "colab": {
      "name": "Going Deeper(NLP) 02. Make a nice dictionary of words.ipynb",
      "provenance": [],
      "collapsed_sections": [],
      "machine_shape": "hm"
    },
    "kernelspec": {
      "name": "python3",
      "display_name": "Python 3"
    },
    "language_info": {
      "name": "python"
    },
    "accelerator": "GPU"
  },
  "cells": [
    {
      "cell_type": "markdown",
      "source": [
        ""
      ],
      "metadata": {
        "id": "Y8Mu61WjSxUO"
      }
    },
    {
      "cell_type": "code",
      "source": [
        "cd /content/drive/MyDrive/GoingDeeper(NLP)"
      ],
      "metadata": {
        "colab": {
          "base_uri": "https://localhost:8080/"
        },
        "id": "_8KhNNSF5uv5",
        "outputId": "5f64090a-b994-4331-e45b-658e5d147488"
      },
      "execution_count": null,
      "outputs": [
        {
          "output_type": "stream",
          "name": "stdout",
          "text": [
            "/content/drive/MyDrive/GoingDeeper(NLP)\n"
          ]
        }
      ]
    },
    {
      "cell_type": "code",
      "source": [
        "pwd"
      ],
      "metadata": {
        "colab": {
          "base_uri": "https://localhost:8080/",
          "height": 35
        },
        "id": "PYeZWhh85u0i",
        "outputId": "1d747f4c-f047-477e-e150-28ca96bbd3ab"
      },
      "execution_count": null,
      "outputs": [
        {
          "output_type": "execute_result",
          "data": {
            "text/plain": [
              "'/content/drive/MyDrive/GoingDeeper(NLP)'"
            ],
            "application/vnd.google.colaboratory.intrinsic+json": {
              "type": "string"
            }
          },
          "metadata": {},
          "execution_count": 3
        }
      ]
    },
    {
      "cell_type": "code",
      "source": [
        "! pip install konlpy"
      ],
      "metadata": {
        "colab": {
          "base_uri": "https://localhost:8080/"
        },
        "id": "prfUzQCD5u3E",
        "outputId": "5bd6f693-6fed-4df5-a31a-794758ec0cca"
      },
      "execution_count": null,
      "outputs": [
        {
          "output_type": "stream",
          "name": "stdout",
          "text": [
            "Collecting konlpy\n",
            "  Downloading konlpy-0.6.0-py2.py3-none-any.whl (19.4 MB)\n",
            "\u001b[K     |████████████████████████████████| 19.4 MB 8.4 MB/s \n",
            "\u001b[?25hCollecting JPype1>=0.7.0\n",
            "  Downloading JPype1-1.3.0-cp37-cp37m-manylinux_2_5_x86_64.manylinux1_x86_64.whl (448 kB)\n",
            "\u001b[K     |████████████████████████████████| 448 kB 67.2 MB/s \n",
            "\u001b[?25hRequirement already satisfied: numpy>=1.6 in /usr/local/lib/python3.7/dist-packages (from konlpy) (1.21.5)\n",
            "Requirement already satisfied: lxml>=4.1.0 in /usr/local/lib/python3.7/dist-packages (from konlpy) (4.2.6)\n",
            "Requirement already satisfied: typing-extensions in /usr/local/lib/python3.7/dist-packages (from JPype1>=0.7.0->konlpy) (3.10.0.2)\n",
            "Installing collected packages: JPype1, konlpy\n",
            "Successfully installed JPype1-1.3.0 konlpy-0.6.0\n"
          ]
        }
      ]
    },
    {
      "cell_type": "code",
      "source": [
        "!curl -s https://raw.githubusercontent.com/teddylee777/machine-learning/master/99-Misc/01-Colab/mecab-colab.sh | bash\n"
      ],
      "metadata": {
        "colab": {
          "base_uri": "https://localhost:8080/"
        },
        "id": "-nnotBsc5u5V",
        "outputId": "bc6546cf-a25b-40f7-875e-8494e836329f"
      },
      "execution_count": null,
      "outputs": [
        {
          "output_type": "stream",
          "name": "stdout",
          "text": [
            "--2022-03-25 09:56:50--  https://www.dropbox.com/s/9xls0tgtf3edgns/mecab-0.996-ko-0.9.2.tar.gz?dl=1\n",
            "Resolving www.dropbox.com (www.dropbox.com)... 162.125.1.18, 2620:100:6016:18::a27d:112\n",
            "Connecting to www.dropbox.com (www.dropbox.com)|162.125.1.18|:443... connected.\n",
            "HTTP request sent, awaiting response... 301 Moved Permanently\n",
            "Location: /s/dl/9xls0tgtf3edgns/mecab-0.996-ko-0.9.2.tar.gz [following]\n",
            "--2022-03-25 09:56:50--  https://www.dropbox.com/s/dl/9xls0tgtf3edgns/mecab-0.996-ko-0.9.2.tar.gz\n",
            "Reusing existing connection to www.dropbox.com:443.\n",
            "HTTP request sent, awaiting response... 302 Found\n",
            "Location: https://uc111961a75d21398cf7b46c6da3.dl.dropboxusercontent.com/cd/0/get/BiKiChzXd7Ub7HSRZZ1oYuziv1qG3gfVgE6BGY5hrikV-R6UXZLx0HKqXjgRLG05NY3Q3Fn72n0QpK-RTjU5oA2Yk5wuvyI0i6VNLlN17sG2SOa2XK7dkP7rbM79vPYZsM6H9QL5ZJgVuFoT8VfIfB3OsSfvtsHY7Mks9_tAKBwBfne5HCjSjyMBqDTH36yjW4w/file?dl=1# [following]\n",
            "--2022-03-25 09:56:51--  https://uc111961a75d21398cf7b46c6da3.dl.dropboxusercontent.com/cd/0/get/BiKiChzXd7Ub7HSRZZ1oYuziv1qG3gfVgE6BGY5hrikV-R6UXZLx0HKqXjgRLG05NY3Q3Fn72n0QpK-RTjU5oA2Yk5wuvyI0i6VNLlN17sG2SOa2XK7dkP7rbM79vPYZsM6H9QL5ZJgVuFoT8VfIfB3OsSfvtsHY7Mks9_tAKBwBfne5HCjSjyMBqDTH36yjW4w/file?dl=1\n",
            "Resolving uc111961a75d21398cf7b46c6da3.dl.dropboxusercontent.com (uc111961a75d21398cf7b46c6da3.dl.dropboxusercontent.com)... 162.125.1.15, 2620:100:6016:15::a27d:10f\n",
            "Connecting to uc111961a75d21398cf7b46c6da3.dl.dropboxusercontent.com (uc111961a75d21398cf7b46c6da3.dl.dropboxusercontent.com)|162.125.1.15|:443... connected.\n",
            "HTTP request sent, awaiting response... 200 OK\n",
            "Length: 1414979 (1.3M) [application/binary]\n",
            "Saving to: ‘mecab-0.996-ko-0.9.2.tar.gz?dl=1’\n",
            "\n",
            "mecab-0.996-ko-0.9. 100%[===================>]   1.35M  --.-KB/s    in 0.1s    \n",
            "\n",
            "2022-03-25 09:56:52 (9.65 MB/s) - ‘mecab-0.996-ko-0.9.2.tar.gz?dl=1’ saved [1414979/1414979]\n",
            "\n",
            "mecab-0.996-ko-0.9.2/\n",
            "mecab-0.996-ko-0.9.2/example/\n",
            "mecab-0.996-ko-0.9.2/example/example.cpp\n",
            "mecab-0.996-ko-0.9.2/example/example_lattice.cpp\n",
            "mecab-0.996-ko-0.9.2/example/example_lattice.c\n",
            "mecab-0.996-ko-0.9.2/example/example.c\n",
            "mecab-0.996-ko-0.9.2/example/thread_test.cpp\n",
            "mecab-0.996-ko-0.9.2/mecab-config.in\n",
            "mecab-0.996-ko-0.9.2/man/\n",
            "mecab-0.996-ko-0.9.2/man/Makefile.am\n",
            "mecab-0.996-ko-0.9.2/man/mecab.1\n",
            "mecab-0.996-ko-0.9.2/man/Makefile.in\n",
            "mecab-0.996-ko-0.9.2/mecab.iss.in\n",
            "mecab-0.996-ko-0.9.2/config.guess\n",
            "mecab-0.996-ko-0.9.2/README\n",
            "mecab-0.996-ko-0.9.2/COPYING\n",
            "mecab-0.996-ko-0.9.2/CHANGES.md\n",
            "mecab-0.996-ko-0.9.2/README.md\n",
            "mecab-0.996-ko-0.9.2/INSTALL\n",
            "mecab-0.996-ko-0.9.2/config.sub\n",
            "mecab-0.996-ko-0.9.2/configure.in\n",
            "mecab-0.996-ko-0.9.2/swig/\n",
            "mecab-0.996-ko-0.9.2/swig/Makefile\n",
            "mecab-0.996-ko-0.9.2/swig/version.h.in\n",
            "mecab-0.996-ko-0.9.2/swig/version.h\n",
            "mecab-0.996-ko-0.9.2/swig/MeCab.i\n",
            "mecab-0.996-ko-0.9.2/aclocal.m4\n",
            "mecab-0.996-ko-0.9.2/LGPL\n",
            "mecab-0.996-ko-0.9.2/Makefile.am\n",
            "mecab-0.996-ko-0.9.2/configure\n",
            "mecab-0.996-ko-0.9.2/tests/\n",
            "mecab-0.996-ko-0.9.2/tests/autolink/\n",
            "mecab-0.996-ko-0.9.2/tests/autolink/unk.def\n",
            "mecab-0.996-ko-0.9.2/tests/autolink/dicrc\n",
            "mecab-0.996-ko-0.9.2/tests/autolink/dic.csv\n",
            "mecab-0.996-ko-0.9.2/tests/autolink/test\n",
            "mecab-0.996-ko-0.9.2/tests/autolink/char.def\n",
            "mecab-0.996-ko-0.9.2/tests/autolink/matrix.def\n",
            "mecab-0.996-ko-0.9.2/tests/autolink/test.gld\n",
            "mecab-0.996-ko-0.9.2/tests/t9/\n",
            "mecab-0.996-ko-0.9.2/tests/t9/unk.def\n",
            "mecab-0.996-ko-0.9.2/tests/t9/ipadic.pl\n",
            "mecab-0.996-ko-0.9.2/tests/t9/dicrc\n",
            "mecab-0.996-ko-0.9.2/tests/t9/dic.csv\n",
            "mecab-0.996-ko-0.9.2/tests/t9/test\n",
            "mecab-0.996-ko-0.9.2/tests/t9/char.def\n",
            "mecab-0.996-ko-0.9.2/tests/t9/matrix.def\n",
            "mecab-0.996-ko-0.9.2/tests/t9/mkdic.pl\n",
            "mecab-0.996-ko-0.9.2/tests/t9/test.gld\n",
            "mecab-0.996-ko-0.9.2/tests/cost-train/\n",
            "mecab-0.996-ko-0.9.2/tests/cost-train/ipa.train\n",
            "mecab-0.996-ko-0.9.2/tests/cost-train/ipa.test\n",
            "mecab-0.996-ko-0.9.2/tests/cost-train/seed/\n",
            "mecab-0.996-ko-0.9.2/tests/cost-train/seed/rewrite.def\n",
            "mecab-0.996-ko-0.9.2/tests/cost-train/seed/feature.def\n",
            "mecab-0.996-ko-0.9.2/tests/cost-train/seed/unk.def\n",
            "mecab-0.996-ko-0.9.2/tests/cost-train/seed/dicrc\n",
            "mecab-0.996-ko-0.9.2/tests/cost-train/seed/dic.csv\n",
            "mecab-0.996-ko-0.9.2/tests/cost-train/seed/char.def\n",
            "mecab-0.996-ko-0.9.2/tests/cost-train/seed/matrix.def\n",
            "mecab-0.996-ko-0.9.2/tests/run-eval.sh\n",
            "mecab-0.996-ko-0.9.2/tests/run-cost-train.sh\n",
            "mecab-0.996-ko-0.9.2/tests/Makefile.am\n",
            "mecab-0.996-ko-0.9.2/tests/katakana/\n",
            "mecab-0.996-ko-0.9.2/tests/katakana/unk.def\n",
            "mecab-0.996-ko-0.9.2/tests/katakana/dicrc\n",
            "mecab-0.996-ko-0.9.2/tests/katakana/dic.csv\n",
            "mecab-0.996-ko-0.9.2/tests/katakana/test\n",
            "mecab-0.996-ko-0.9.2/tests/katakana/char.def\n",
            "mecab-0.996-ko-0.9.2/tests/katakana/matrix.def\n",
            "mecab-0.996-ko-0.9.2/tests/katakana/test.gld\n",
            "mecab-0.996-ko-0.9.2/tests/eval/\n",
            "mecab-0.996-ko-0.9.2/tests/eval/answer\n",
            "mecab-0.996-ko-0.9.2/tests/eval/system\n",
            "mecab-0.996-ko-0.9.2/tests/eval/test.gld\n",
            "mecab-0.996-ko-0.9.2/tests/shiin/\n",
            "mecab-0.996-ko-0.9.2/tests/shiin/unk.def\n",
            "mecab-0.996-ko-0.9.2/tests/shiin/dicrc\n",
            "mecab-0.996-ko-0.9.2/tests/shiin/dic.csv\n",
            "mecab-0.996-ko-0.9.2/tests/shiin/test\n",
            "mecab-0.996-ko-0.9.2/tests/shiin/char.def\n",
            "mecab-0.996-ko-0.9.2/tests/shiin/matrix.def\n",
            "mecab-0.996-ko-0.9.2/tests/shiin/mkdic.pl\n",
            "mecab-0.996-ko-0.9.2/tests/shiin/test.gld\n",
            "mecab-0.996-ko-0.9.2/tests/latin/\n",
            "mecab-0.996-ko-0.9.2/tests/latin/unk.def\n",
            "mecab-0.996-ko-0.9.2/tests/latin/dicrc\n",
            "mecab-0.996-ko-0.9.2/tests/latin/dic.csv\n",
            "mecab-0.996-ko-0.9.2/tests/latin/test\n",
            "mecab-0.996-ko-0.9.2/tests/latin/char.def\n",
            "mecab-0.996-ko-0.9.2/tests/latin/matrix.def\n",
            "mecab-0.996-ko-0.9.2/tests/latin/test.gld\n",
            "mecab-0.996-ko-0.9.2/tests/chartype/\n",
            "mecab-0.996-ko-0.9.2/tests/chartype/unk.def\n",
            "mecab-0.996-ko-0.9.2/tests/chartype/dicrc\n",
            "mecab-0.996-ko-0.9.2/tests/chartype/dic.csv\n",
            "mecab-0.996-ko-0.9.2/tests/chartype/test\n",
            "mecab-0.996-ko-0.9.2/tests/chartype/char.def\n",
            "mecab-0.996-ko-0.9.2/tests/chartype/matrix.def\n",
            "mecab-0.996-ko-0.9.2/tests/chartype/test.gld\n",
            "mecab-0.996-ko-0.9.2/tests/run-dics.sh\n",
            "mecab-0.996-ko-0.9.2/tests/ngram/\n",
            "mecab-0.996-ko-0.9.2/tests/ngram/unk.def\n",
            "mecab-0.996-ko-0.9.2/tests/ngram/dicrc\n",
            "mecab-0.996-ko-0.9.2/tests/ngram/dic.csv\n",
            "mecab-0.996-ko-0.9.2/tests/ngram/test\n",
            "mecab-0.996-ko-0.9.2/tests/ngram/char.def\n",
            "mecab-0.996-ko-0.9.2/tests/ngram/matrix.def\n",
            "mecab-0.996-ko-0.9.2/tests/ngram/test.gld\n",
            "mecab-0.996-ko-0.9.2/tests/Makefile.in\n",
            "mecab-0.996-ko-0.9.2/ltmain.sh\n",
            "mecab-0.996-ko-0.9.2/config.rpath\n",
            "mecab-0.996-ko-0.9.2/config.h.in\n",
            "mecab-0.996-ko-0.9.2/mecabrc.in\n",
            "mecab-0.996-ko-0.9.2/GPL\n",
            "mecab-0.996-ko-0.9.2/Makefile.train\n",
            "mecab-0.996-ko-0.9.2/ChangeLog\n",
            "mecab-0.996-ko-0.9.2/install-sh\n",
            "mecab-0.996-ko-0.9.2/AUTHORS\n",
            "mecab-0.996-ko-0.9.2/doc/\n",
            "mecab-0.996-ko-0.9.2/doc/bindings.html\n",
            "mecab-0.996-ko-0.9.2/doc/posid.html\n",
            "mecab-0.996-ko-0.9.2/doc/unk.html\n",
            "mecab-0.996-ko-0.9.2/doc/learn.html\n",
            "mecab-0.996-ko-0.9.2/doc/format.html\n",
            "mecab-0.996-ko-0.9.2/doc/libmecab.html\n",
            "mecab-0.996-ko-0.9.2/doc/mecab.css\n",
            "mecab-0.996-ko-0.9.2/doc/feature.html\n",
            "mecab-0.996-ko-0.9.2/doc/Makefile.am\n",
            "mecab-0.996-ko-0.9.2/doc/soft.html\n",
            "mecab-0.996-ko-0.9.2/doc/en/\n",
            "mecab-0.996-ko-0.9.2/doc/en/bindings.html\n",
            "mecab-0.996-ko-0.9.2/doc/dic-detail.html\n",
            "mecab-0.996-ko-0.9.2/doc/flow.png\n",
            "mecab-0.996-ko-0.9.2/doc/mecab.html\n",
            "mecab-0.996-ko-0.9.2/doc/index.html\n",
            "mecab-0.996-ko-0.9.2/doc/result.png\n",
            "mecab-0.996-ko-0.9.2/doc/doxygen/\n",
            "mecab-0.996-ko-0.9.2/doc/doxygen/tab_a.png\n",
            "mecab-0.996-ko-0.9.2/doc/doxygen/globals_eval.html\n",
            "mecab-0.996-ko-0.9.2/doc/doxygen/classMeCab_1_1Tagger-members.html\n",
            "mecab-0.996-ko-0.9.2/doc/doxygen/functions_vars.html\n",
            "mecab-0.996-ko-0.9.2/doc/doxygen/doxygen.css\n",
            "mecab-0.996-ko-0.9.2/doc/doxygen/tab_r.gif\n",
            "mecab-0.996-ko-0.9.2/doc/doxygen/classMeCab_1_1Lattice.html\n",
            "mecab-0.996-ko-0.9.2/doc/doxygen/functions.html\n",
            "mecab-0.996-ko-0.9.2/doc/doxygen/classMeCab_1_1Tagger.html\n",
            "mecab-0.996-ko-0.9.2/doc/doxygen/mecab_8h_source.html\n",
            "mecab-0.996-ko-0.9.2/doc/doxygen/tabs.css\n",
            "mecab-0.996-ko-0.9.2/doc/doxygen/nav_f.png\n",
            "mecab-0.996-ko-0.9.2/doc/doxygen/tab_b.png\n",
            "mecab-0.996-ko-0.9.2/doc/doxygen/globals.html\n",
            "mecab-0.996-ko-0.9.2/doc/doxygen/nav_h.png\n",
            "mecab-0.996-ko-0.9.2/doc/doxygen/tab_h.png\n",
            "mecab-0.996-ko-0.9.2/doc/doxygen/classMeCab_1_1Model.html\n",
            "mecab-0.996-ko-0.9.2/doc/doxygen/globals_func.html\n",
            "mecab-0.996-ko-0.9.2/doc/doxygen/closed.png\n",
            "mecab-0.996-ko-0.9.2/doc/doxygen/tab_l.gif\n",
            "mecab-0.996-ko-0.9.2/doc/doxygen/structmecab__path__t-members.html\n",
            "mecab-0.996-ko-0.9.2/doc/doxygen/functions_func.html\n",
            "mecab-0.996-ko-0.9.2/doc/doxygen/globals_type.html\n",
            "mecab-0.996-ko-0.9.2/doc/doxygen/classMeCab_1_1Lattice-members.html\n",
            "mecab-0.996-ko-0.9.2/doc/doxygen/structmecab__node__t.html\n",
            "mecab-0.996-ko-0.9.2/doc/doxygen/namespacemembers_func.html\n",
            "mecab-0.996-ko-0.9.2/doc/doxygen/tab_s.png\n",
            "mecab-0.996-ko-0.9.2/doc/doxygen/structmecab__dictionary__info__t-members.html\n",
            "mecab-0.996-ko-0.9.2/doc/doxygen/namespacemembers_type.html\n",
            "mecab-0.996-ko-0.9.2/doc/doxygen/classMeCab_1_1Model-members.html\n",
            "mecab-0.996-ko-0.9.2/doc/doxygen/structmecab__dictionary__info__t.html\n",
            "mecab-0.996-ko-0.9.2/doc/doxygen/namespaces.html\n",
            "mecab-0.996-ko-0.9.2/doc/doxygen/namespacemembers.html\n",
            "mecab-0.996-ko-0.9.2/doc/doxygen/namespaceMeCab.html\n",
            "mecab-0.996-ko-0.9.2/doc/doxygen/structmecab__path__t.html\n",
            "mecab-0.996-ko-0.9.2/doc/doxygen/files.html\n",
            "mecab-0.996-ko-0.9.2/doc/doxygen/structmecab__node__t-members.html\n",
            "mecab-0.996-ko-0.9.2/doc/doxygen/index.html\n",
            "mecab-0.996-ko-0.9.2/doc/doxygen/annotated.html\n",
            "mecab-0.996-ko-0.9.2/doc/doxygen/globals_defs.html\n",
            "mecab-0.996-ko-0.9.2/doc/doxygen/classes.html\n",
            "mecab-0.996-ko-0.9.2/doc/doxygen/mecab_8h-source.html\n",
            "mecab-0.996-ko-0.9.2/doc/doxygen/doxygen.png\n",
            "mecab-0.996-ko-0.9.2/doc/doxygen/tab_b.gif\n",
            "mecab-0.996-ko-0.9.2/doc/doxygen/bc_s.png\n",
            "mecab-0.996-ko-0.9.2/doc/doxygen/open.png\n",
            "mecab-0.996-ko-0.9.2/doc/doxygen/mecab_8h.html\n",
            "mecab-0.996-ko-0.9.2/doc/dic.html\n",
            "mecab-0.996-ko-0.9.2/doc/partial.html\n",
            "mecab-0.996-ko-0.9.2/doc/feature.png\n",
            "mecab-0.996-ko-0.9.2/doc/Makefile.in\n",
            "mecab-0.996-ko-0.9.2/missing\n",
            "mecab-0.996-ko-0.9.2/BSD\n",
            "mecab-0.996-ko-0.9.2/NEWS\n",
            "mecab-0.996-ko-0.9.2/mkinstalldirs\n",
            "mecab-0.996-ko-0.9.2/src/\n",
            "mecab-0.996-ko-0.9.2/src/dictionary.h\n",
            "mecab-0.996-ko-0.9.2/src/writer.h\n",
            "mecab-0.996-ko-0.9.2/src/utils.h\n",
            "mecab-0.996-ko-0.9.2/src/string_buffer.cpp\n",
            "mecab-0.996-ko-0.9.2/src/tokenizer.cpp\n",
            "mecab-0.996-ko-0.9.2/src/make.bat\n",
            "mecab-0.996-ko-0.9.2/src/mecab.h\n",
            "mecab-0.996-ko-0.9.2/src/freelist.h\n",
            "mecab-0.996-ko-0.9.2/src/string_buffer.h\n",
            "mecab-0.996-ko-0.9.2/src/learner_tagger.h\n",
            "mecab-0.996-ko-0.9.2/src/dictionary_compiler.cpp\n",
            "mecab-0.996-ko-0.9.2/src/eval.cpp\n",
            "mecab-0.996-ko-0.9.2/src/mecab-system-eval.cpp\n",
            "mecab-0.996-ko-0.9.2/src/darts.h\n",
            "mecab-0.996-ko-0.9.2/src/param.h\n",
            "mecab-0.996-ko-0.9.2/src/char_property.h\n",
            "mecab-0.996-ko-0.9.2/src/learner_node.h\n",
            "mecab-0.996-ko-0.9.2/src/mecab-dict-gen.cpp\n",
            "mecab-0.996-ko-0.9.2/src/mecab-dict-index.cpp\n",
            "mecab-0.996-ko-0.9.2/src/winmain.h\n",
            "mecab-0.996-ko-0.9.2/src/thread.h\n",
            "mecab-0.996-ko-0.9.2/src/context_id.cpp\n",
            "mecab-0.996-ko-0.9.2/src/Makefile.am\n",
            "mecab-0.996-ko-0.9.2/src/connector.h\n",
            "mecab-0.996-ko-0.9.2/src/common.h\n",
            "mecab-0.996-ko-0.9.2/src/dictionary_rewriter.cpp\n",
            "mecab-0.996-ko-0.9.2/src/Makefile.msvc.in\n",
            "mecab-0.996-ko-0.9.2/src/dictionary_rewriter.h\n",
            "mecab-0.996-ko-0.9.2/src/feature_index.h\n",
            "mecab-0.996-ko-0.9.2/src/iconv_utils.cpp\n",
            "mecab-0.996-ko-0.9.2/src/char_property.cpp\n",
            "mecab-0.996-ko-0.9.2/src/mecab-test-gen.cpp\n",
            "mecab-0.996-ko-0.9.2/src/tagger.cpp\n",
            "mecab-0.996-ko-0.9.2/src/mecab-cost-train.cpp\n",
            "mecab-0.996-ko-0.9.2/src/learner.cpp\n",
            "mecab-0.996-ko-0.9.2/src/dictionary.cpp\n",
            "mecab-0.996-ko-0.9.2/src/lbfgs.cpp\n",
            "mecab-0.996-ko-0.9.2/src/ucs.h\n",
            "mecab-0.996-ko-0.9.2/src/writer.cpp\n",
            "mecab-0.996-ko-0.9.2/src/learner_tagger.cpp\n",
            "mecab-0.996-ko-0.9.2/src/lbfgs.h\n",
            "mecab-0.996-ko-0.9.2/src/libmecab.cpp\n",
            "mecab-0.996-ko-0.9.2/src/tokenizer.h\n",
            "mecab-0.996-ko-0.9.2/src/mecab.cpp\n",
            "mecab-0.996-ko-0.9.2/src/utils.cpp\n",
            "mecab-0.996-ko-0.9.2/src/dictionary_generator.cpp\n",
            "mecab-0.996-ko-0.9.2/src/param.cpp\n",
            "mecab-0.996-ko-0.9.2/src/context_id.h\n",
            "mecab-0.996-ko-0.9.2/src/mmap.h\n",
            "mecab-0.996-ko-0.9.2/src/viterbi.h\n",
            "mecab-0.996-ko-0.9.2/src/viterbi.cpp\n",
            "mecab-0.996-ko-0.9.2/src/stream_wrapper.h\n",
            "mecab-0.996-ko-0.9.2/src/feature_index.cpp\n",
            "mecab-0.996-ko-0.9.2/src/nbest_generator.h\n",
            "mecab-0.996-ko-0.9.2/src/ucstable.h\n",
            "mecab-0.996-ko-0.9.2/src/nbest_generator.cpp\n",
            "mecab-0.996-ko-0.9.2/src/iconv_utils.h\n",
            "mecab-0.996-ko-0.9.2/src/connector.cpp\n",
            "mecab-0.996-ko-0.9.2/src/Makefile.in\n",
            "mecab-0.996-ko-0.9.2/src/scoped_ptr.h\n",
            "mecab-0.996-ko-0.9.2/Makefile.in\n",
            "checking for a BSD-compatible install... /usr/bin/install -c\n",
            "checking whether build environment is sane... yes\n",
            "checking for a thread-safe mkdir -p... /bin/mkdir -p\n",
            "checking for gawk... no\n",
            "checking for mawk... mawk\n",
            "checking whether make sets $(MAKE)... yes\n",
            "checking for gcc... gcc\n",
            "checking whether the C compiler works... yes\n",
            "checking for C compiler default output file name... a.out\n",
            "checking for suffix of executables... \n",
            "checking whether we are cross compiling... no\n",
            "checking for suffix of object files... o\n",
            "checking whether we are using the GNU C compiler... yes\n",
            "checking whether gcc accepts -g... yes\n",
            "checking for gcc option to accept ISO C89... none needed\n",
            "checking for style of include used by make... GNU\n",
            "checking dependency style of gcc... none\n",
            "checking for g++... g++\n",
            "checking whether we are using the GNU C++ compiler... yes\n",
            "checking whether g++ accepts -g... yes\n",
            "checking dependency style of g++... none\n",
            "checking how to run the C preprocessor... gcc -E\n",
            "checking for grep that handles long lines and -e... /bin/grep\n",
            "checking for egrep... /bin/grep -E\n",
            "checking whether gcc needs -traditional... no\n",
            "checking whether make sets $(MAKE)... (cached) yes\n",
            "checking build system type... x86_64-unknown-linux-gnu\n",
            "checking host system type... x86_64-unknown-linux-gnu\n",
            "checking how to print strings... printf\n",
            "checking for a sed that does not truncate output... /bin/sed\n",
            "checking for fgrep... /bin/grep -F\n",
            "checking for ld used by gcc... /usr/bin/ld\n",
            "checking if the linker (/usr/bin/ld) is GNU ld... yes\n",
            "checking for BSD- or MS-compatible name lister (nm)... /usr/bin/nm -B\n",
            "checking the name lister (/usr/bin/nm -B) interface... BSD nm\n",
            "checking whether ln -s works... yes\n",
            "checking the maximum length of command line arguments... 1572864\n",
            "checking whether the shell understands some XSI constructs... yes\n",
            "checking whether the shell understands \"+=\"... yes\n",
            "checking how to convert x86_64-unknown-linux-gnu file names to x86_64-unknown-linux-gnu format... func_convert_file_noop\n",
            "checking how to convert x86_64-unknown-linux-gnu file names to toolchain format... func_convert_file_noop\n",
            "checking for /usr/bin/ld option to reload object files... -r\n",
            "checking for objdump... objdump\n",
            "checking how to recognize dependent libraries... pass_all\n",
            "checking for dlltool... dlltool\n",
            "checking how to associate runtime and link libraries... printf %s\\n\n",
            "checking for ar... ar\n",
            "checking for archiver @FILE support... @\n",
            "checking for strip... strip\n",
            "checking for ranlib... ranlib\n",
            "checking command to parse /usr/bin/nm -B output from gcc object... ok\n",
            "checking for sysroot... no\n",
            "./configure: line 7378: /usr/bin/file: No such file or directory\n",
            "checking for mt... no\n",
            "checking if : is a manifest tool... no\n",
            "checking for ANSI C header files... yes\n",
            "checking for sys/types.h... yes\n",
            "checking for sys/stat.h... yes\n",
            "checking for stdlib.h... yes\n",
            "checking for string.h... yes\n",
            "checking for memory.h... yes\n",
            "checking for strings.h... yes\n",
            "checking for inttypes.h... yes\n",
            "checking for stdint.h... yes\n",
            "checking for unistd.h... yes\n",
            "checking for dlfcn.h... yes\n",
            "checking for objdir... .libs\n",
            "checking if gcc supports -fno-rtti -fno-exceptions... no\n",
            "checking for gcc option to produce PIC... -fPIC -DPIC\n",
            "checking if gcc PIC flag -fPIC -DPIC works... yes\n",
            "checking if gcc static flag -static works... yes\n",
            "checking if gcc supports -c -o file.o... yes\n",
            "checking if gcc supports -c -o file.o... (cached) yes\n",
            "checking whether the gcc linker (/usr/bin/ld) supports shared libraries... yes\n",
            "checking whether -lc should be explicitly linked in... no\n",
            "checking dynamic linker characteristics... GNU/Linux ld.so\n",
            "checking how to hardcode library paths into programs... immediate\n",
            "checking whether stripping libraries is possible... yes\n",
            "checking if libtool supports shared libraries... yes\n",
            "checking whether to build shared libraries... yes\n",
            "checking whether to build static libraries... yes\n",
            "checking how to run the C++ preprocessor... g++ -E\n",
            "checking for ld used by g++... /usr/bin/ld\n",
            "checking if the linker (/usr/bin/ld) is GNU ld... yes\n",
            "checking whether the g++ linker (/usr/bin/ld) supports shared libraries... yes\n",
            "checking for g++ option to produce PIC... -fPIC -DPIC\n",
            "checking if g++ PIC flag -fPIC -DPIC works... yes\n",
            "checking if g++ static flag -static works... yes\n",
            "checking if g++ supports -c -o file.o... yes\n",
            "checking if g++ supports -c -o file.o... (cached) yes\n",
            "checking whether the g++ linker (/usr/bin/ld) supports shared libraries... yes\n",
            "checking dynamic linker characteristics... (cached) GNU/Linux ld.so\n",
            "checking how to hardcode library paths into programs... immediate\n",
            "checking for library containing strerror... none required\n",
            "checking whether byte ordering is bigendian... no\n",
            "checking for ld used by GCC... /usr/bin/ld\n",
            "checking if the linker (/usr/bin/ld) is GNU ld... yes\n",
            "checking for shared library run path origin... done\n",
            "checking for iconv... yes\n",
            "checking for working iconv... yes\n",
            "checking for iconv declaration... \n",
            "         extern size_t iconv (iconv_t cd, char * *inbuf, size_t *inbytesleft, char * *outbuf, size_t *outbytesleft);\n",
            "checking for ANSI C header files... (cached) yes\n",
            "checking for an ANSI C-conforming const... yes\n",
            "checking whether byte ordering is bigendian... (cached) no\n",
            "checking for string.h... (cached) yes\n",
            "checking for stdlib.h... (cached) yes\n",
            "checking for unistd.h... (cached) yes\n",
            "checking fcntl.h usability... yes\n",
            "checking fcntl.h presence... yes\n",
            "checking for fcntl.h... yes\n",
            "checking for stdint.h... (cached) yes\n",
            "checking for sys/stat.h... (cached) yes\n",
            "checking sys/mman.h usability... yes\n",
            "checking sys/mman.h presence... yes\n",
            "checking for sys/mman.h... yes\n",
            "checking sys/times.h usability... yes\n",
            "checking sys/times.h presence... yes\n",
            "checking for sys/times.h... yes\n",
            "checking for sys/types.h... (cached) yes\n",
            "checking dirent.h usability... yes\n",
            "checking dirent.h presence... yes\n",
            "checking for dirent.h... yes\n",
            "checking ctype.h usability... yes\n",
            "checking ctype.h presence... yes\n",
            "checking for ctype.h... yes\n",
            "checking for sys/types.h... (cached) yes\n",
            "checking io.h usability... no\n",
            "checking io.h presence... no\n",
            "checking for io.h... no\n",
            "checking windows.h usability... no\n",
            "checking windows.h presence... no\n",
            "checking for windows.h... no\n",
            "checking pthread.h usability... yes\n",
            "checking pthread.h presence... yes\n",
            "checking for pthread.h... yes\n",
            "checking for off_t... yes\n",
            "checking for size_t... yes\n",
            "checking size of char... 1\n",
            "checking size of short... 2\n",
            "checking size of int... 4\n",
            "checking size of long... 8\n",
            "checking size of long long... 8\n",
            "checking size of size_t... 8\n",
            "checking for size_t... (cached) yes\n",
            "checking for unsigned long long int... yes\n",
            "checking for stdlib.h... (cached) yes\n",
            "checking for unistd.h... (cached) yes\n",
            "checking for sys/param.h... yes\n",
            "checking for getpagesize... yes\n",
            "checking for working mmap... yes\n",
            "checking for main in -lstdc++... yes\n",
            "checking for pthread_create in -lpthread... yes\n",
            "checking for pthread_join in -lpthread... yes\n",
            "checking for getenv... yes\n",
            "checking for opendir... yes\n",
            "checking whether make is GNU Make... yes\n",
            "checking if g++ supports stl <vector> (required)... yes\n",
            "checking if g++ supports stl <list> (required)... yes\n",
            "checking if g++ supports stl <map> (required)... yes\n",
            "checking if g++ supports stl <set> (required)... yes\n",
            "checking if g++ supports stl <queue> (required)... yes\n",
            "checking if g++ supports stl <functional> (required)... yes\n",
            "checking if g++ supports stl <algorithm> (required)... yes\n",
            "checking if g++ supports stl <string> (required)... yes\n",
            "checking if g++ supports stl <iostream> (required)... yes\n",
            "checking if g++ supports stl <sstream> (required)... yes\n",
            "checking if g++ supports stl <fstream> (required)... yes\n",
            "checking if g++ supports template <class T> (required)... yes\n",
            "checking if g++ supports const_cast<> (required)... yes\n",
            "checking if g++ supports static_cast<> (required)... yes\n",
            "checking if g++ supports reinterpret_cast<> (required)... yes\n",
            "checking if g++ supports namespaces (required) ... yes\n",
            "checking if g++ supports __thread (optional)... yes\n",
            "checking if g++ supports template <class T> (required)... yes\n",
            "checking if g++ supports GCC native atomic operations (optional)... yes\n",
            "checking if g++ supports OSX native atomic operations (optional)... no\n",
            "checking if g++ environment provides all required features... yes\n",
            "configure: creating ./config.status\n",
            "config.status: creating Makefile\n",
            "config.status: creating src/Makefile\n",
            "config.status: creating src/Makefile.msvc\n",
            "config.status: creating man/Makefile\n",
            "config.status: creating doc/Makefile\n",
            "config.status: creating tests/Makefile\n",
            "config.status: creating swig/version.h\n",
            "config.status: creating mecab.iss\n",
            "config.status: creating mecab-config\n",
            "config.status: creating mecabrc\n",
            "config.status: creating config.h\n",
            "config.status: executing depfiles commands\n",
            "config.status: executing libtool commands\n",
            "config.status: executing default commands\n",
            "make  all-recursive\n",
            "make[1]: Entering directory '/tmp/mecab-0.996-ko-0.9.2'\n",
            "Making all in src\n",
            "make[2]: Entering directory '/tmp/mecab-0.996-ko-0.9.2/src'\n",
            "/bin/bash ../libtool --tag=CXX   --mode=compile g++ -DHAVE_CONFIG_H -I. -I.. -DDIC_VERSION=102   -DMECAB_DEFAULT_RC=\"\\\"/usr/local/etc/mecabrc\\\"\"    -O3 -Wall  -c -o viterbi.lo viterbi.cpp\n",
            "libtool: compile:  g++ -DHAVE_CONFIG_H -I. -I.. -DDIC_VERSION=102 -DMECAB_DEFAULT_RC=\\\"/usr/local/etc/mecabrc\\\" -O3 -Wall -c viterbi.cpp  -fPIC -DPIC -o .libs/viterbi.o\n",
            "In file included from \u001b[01m\u001b[Kviterbi.cpp:14:0\u001b[m\u001b[K:\n",
            "\u001b[01m\u001b[Kparam.h:30:13:\u001b[m\u001b[K \u001b[01;35m\u001b[Kwarning: \u001b[m\u001b[K'\u001b[01m\u001b[KTarget {anonymous}::lexical_cast(Source) [with Target = std::__cxx11::basic_string<char>; Source = std::__cxx11::basic_string<char>]\u001b[m\u001b[K' defined but not used [\u001b[01;35m\u001b[K-Wunused-function\u001b[m\u001b[K]\n",
            " std::string \u001b[01;35m\u001b[Klexical_cast<std::string, std::string>\u001b[m\u001b[K(std::string arg) {\n",
            "             \u001b[01;35m\u001b[K^~~~~~~~~~~~~~~~~~~~~~~~~~~~~~~~~~~~~~\u001b[m\u001b[K\n",
            "libtool: compile:  g++ -DHAVE_CONFIG_H -I. -I.. -DDIC_VERSION=102 -DMECAB_DEFAULT_RC=\\\"/usr/local/etc/mecabrc\\\" -O3 -Wall -c viterbi.cpp -o viterbi.o >/dev/null 2>&1\n",
            "/bin/bash ../libtool --tag=CXX   --mode=compile g++ -DHAVE_CONFIG_H -I. -I.. -DDIC_VERSION=102   -DMECAB_DEFAULT_RC=\"\\\"/usr/local/etc/mecabrc\\\"\"    -O3 -Wall  -c -o tagger.lo tagger.cpp\n",
            "libtool: compile:  g++ -DHAVE_CONFIG_H -I. -I.. -DDIC_VERSION=102 -DMECAB_DEFAULT_RC=\\\"/usr/local/etc/mecabrc\\\" -O3 -Wall -c tagger.cpp  -fPIC -DPIC -o .libs/tagger.o\n",
            "libtool: compile:  g++ -DHAVE_CONFIG_H -I. -I.. -DDIC_VERSION=102 -DMECAB_DEFAULT_RC=\\\"/usr/local/etc/mecabrc\\\" -O3 -Wall -c tagger.cpp -o tagger.o >/dev/null 2>&1\n",
            "/bin/bash ../libtool --tag=CXX   --mode=compile g++ -DHAVE_CONFIG_H -I. -I.. -DDIC_VERSION=102   -DMECAB_DEFAULT_RC=\"\\\"/usr/local/etc/mecabrc\\\"\"    -O3 -Wall  -c -o utils.lo utils.cpp\n",
            "libtool: compile:  g++ -DHAVE_CONFIG_H -I. -I.. -DDIC_VERSION=102 -DMECAB_DEFAULT_RC=\\\"/usr/local/etc/mecabrc\\\" -O3 -Wall -c utils.cpp  -fPIC -DPIC -o .libs/utils.o\n",
            "libtool: compile:  g++ -DHAVE_CONFIG_H -I. -I.. -DDIC_VERSION=102 -DMECAB_DEFAULT_RC=\\\"/usr/local/etc/mecabrc\\\" -O3 -Wall -c utils.cpp -o utils.o >/dev/null 2>&1\n",
            "/bin/bash ../libtool --tag=CXX   --mode=compile g++ -DHAVE_CONFIG_H -I. -I.. -DDIC_VERSION=102   -DMECAB_DEFAULT_RC=\"\\\"/usr/local/etc/mecabrc\\\"\"    -O3 -Wall  -c -o eval.lo eval.cpp\n",
            "libtool: compile:  g++ -DHAVE_CONFIG_H -I. -I.. -DDIC_VERSION=102 -DMECAB_DEFAULT_RC=\\\"/usr/local/etc/mecabrc\\\" -O3 -Wall -c eval.cpp  -fPIC -DPIC -o .libs/eval.o\n",
            "libtool: compile:  g++ -DHAVE_CONFIG_H -I. -I.. -DDIC_VERSION=102 -DMECAB_DEFAULT_RC=\\\"/usr/local/etc/mecabrc\\\" -O3 -Wall -c eval.cpp -o eval.o >/dev/null 2>&1\n",
            "/bin/bash ../libtool --tag=CXX   --mode=compile g++ -DHAVE_CONFIG_H -I. -I.. -DDIC_VERSION=102   -DMECAB_DEFAULT_RC=\"\\\"/usr/local/etc/mecabrc\\\"\"    -O3 -Wall  -c -o iconv_utils.lo iconv_utils.cpp\n",
            "libtool: compile:  g++ -DHAVE_CONFIG_H -I. -I.. -DDIC_VERSION=102 -DMECAB_DEFAULT_RC=\\\"/usr/local/etc/mecabrc\\\" -O3 -Wall -c iconv_utils.cpp  -fPIC -DPIC -o .libs/iconv_utils.o\n",
            "libtool: compile:  g++ -DHAVE_CONFIG_H -I. -I.. -DDIC_VERSION=102 -DMECAB_DEFAULT_RC=\\\"/usr/local/etc/mecabrc\\\" -O3 -Wall -c iconv_utils.cpp -o iconv_utils.o >/dev/null 2>&1\n",
            "/bin/bash ../libtool --tag=CXX   --mode=compile g++ -DHAVE_CONFIG_H -I. -I.. -DDIC_VERSION=102   -DMECAB_DEFAULT_RC=\"\\\"/usr/local/etc/mecabrc\\\"\"    -O3 -Wall  -c -o dictionary_rewriter.lo dictionary_rewriter.cpp\n",
            "libtool: compile:  g++ -DHAVE_CONFIG_H -I. -I.. -DDIC_VERSION=102 -DMECAB_DEFAULT_RC=\\\"/usr/local/etc/mecabrc\\\" -O3 -Wall -c dictionary_rewriter.cpp  -fPIC -DPIC -o .libs/dictionary_rewriter.o\n",
            "libtool: compile:  g++ -DHAVE_CONFIG_H -I. -I.. -DDIC_VERSION=102 -DMECAB_DEFAULT_RC=\\\"/usr/local/etc/mecabrc\\\" -O3 -Wall -c dictionary_rewriter.cpp -o dictionary_rewriter.o >/dev/null 2>&1\n",
            "/bin/bash ../libtool --tag=CXX   --mode=compile g++ -DHAVE_CONFIG_H -I. -I.. -DDIC_VERSION=102   -DMECAB_DEFAULT_RC=\"\\\"/usr/local/etc/mecabrc\\\"\"    -O3 -Wall  -c -o dictionary_generator.lo dictionary_generator.cpp\n",
            "libtool: compile:  g++ -DHAVE_CONFIG_H -I. -I.. -DDIC_VERSION=102 -DMECAB_DEFAULT_RC=\\\"/usr/local/etc/mecabrc\\\" -O3 -Wall -c dictionary_generator.cpp  -fPIC -DPIC -o .libs/dictionary_generator.o\n",
            "libtool: compile:  g++ -DHAVE_CONFIG_H -I. -I.. -DDIC_VERSION=102 -DMECAB_DEFAULT_RC=\\\"/usr/local/etc/mecabrc\\\" -O3 -Wall -c dictionary_generator.cpp -o dictionary_generator.o >/dev/null 2>&1\n",
            "/bin/bash ../libtool --tag=CXX   --mode=compile g++ -DHAVE_CONFIG_H -I. -I.. -DDIC_VERSION=102   -DMECAB_DEFAULT_RC=\"\\\"/usr/local/etc/mecabrc\\\"\"    -O3 -Wall  -c -o dictionary_compiler.lo dictionary_compiler.cpp\n",
            "libtool: compile:  g++ -DHAVE_CONFIG_H -I. -I.. -DDIC_VERSION=102 -DMECAB_DEFAULT_RC=\\\"/usr/local/etc/mecabrc\\\" -O3 -Wall -c dictionary_compiler.cpp  -fPIC -DPIC -o .libs/dictionary_compiler.o\n",
            "libtool: compile:  g++ -DHAVE_CONFIG_H -I. -I.. -DDIC_VERSION=102 -DMECAB_DEFAULT_RC=\\\"/usr/local/etc/mecabrc\\\" -O3 -Wall -c dictionary_compiler.cpp -o dictionary_compiler.o >/dev/null 2>&1\n",
            "/bin/bash ../libtool --tag=CXX   --mode=compile g++ -DHAVE_CONFIG_H -I. -I.. -DDIC_VERSION=102   -DMECAB_DEFAULT_RC=\"\\\"/usr/local/etc/mecabrc\\\"\"    -O3 -Wall  -c -o context_id.lo context_id.cpp\n",
            "libtool: compile:  g++ -DHAVE_CONFIG_H -I. -I.. -DDIC_VERSION=102 -DMECAB_DEFAULT_RC=\\\"/usr/local/etc/mecabrc\\\" -O3 -Wall -c context_id.cpp  -fPIC -DPIC -o .libs/context_id.o\n",
            "libtool: compile:  g++ -DHAVE_CONFIG_H -I. -I.. -DDIC_VERSION=102 -DMECAB_DEFAULT_RC=\\\"/usr/local/etc/mecabrc\\\" -O3 -Wall -c context_id.cpp -o context_id.o >/dev/null 2>&1\n",
            "/bin/bash ../libtool --tag=CXX   --mode=compile g++ -DHAVE_CONFIG_H -I. -I.. -DDIC_VERSION=102   -DMECAB_DEFAULT_RC=\"\\\"/usr/local/etc/mecabrc\\\"\"    -O3 -Wall  -c -o connector.lo connector.cpp\n",
            "libtool: compile:  g++ -DHAVE_CONFIG_H -I. -I.. -DDIC_VERSION=102 -DMECAB_DEFAULT_RC=\\\"/usr/local/etc/mecabrc\\\" -O3 -Wall -c connector.cpp  -fPIC -DPIC -o .libs/connector.o\n",
            "libtool: compile:  g++ -DHAVE_CONFIG_H -I. -I.. -DDIC_VERSION=102 -DMECAB_DEFAULT_RC=\\\"/usr/local/etc/mecabrc\\\" -O3 -Wall -c connector.cpp -o connector.o >/dev/null 2>&1\n",
            "/bin/bash ../libtool --tag=CXX   --mode=compile g++ -DHAVE_CONFIG_H -I. -I.. -DDIC_VERSION=102   -DMECAB_DEFAULT_RC=\"\\\"/usr/local/etc/mecabrc\\\"\"    -O3 -Wall  -c -o nbest_generator.lo nbest_generator.cpp\n",
            "libtool: compile:  g++ -DHAVE_CONFIG_H -I. -I.. -DDIC_VERSION=102 -DMECAB_DEFAULT_RC=\\\"/usr/local/etc/mecabrc\\\" -O3 -Wall -c nbest_generator.cpp  -fPIC -DPIC -o .libs/nbest_generator.o\n",
            "libtool: compile:  g++ -DHAVE_CONFIG_H -I. -I.. -DDIC_VERSION=102 -DMECAB_DEFAULT_RC=\\\"/usr/local/etc/mecabrc\\\" -O3 -Wall -c nbest_generator.cpp -o nbest_generator.o >/dev/null 2>&1\n",
            "/bin/bash ../libtool --tag=CXX   --mode=compile g++ -DHAVE_CONFIG_H -I. -I.. -DDIC_VERSION=102   -DMECAB_DEFAULT_RC=\"\\\"/usr/local/etc/mecabrc\\\"\"    -O3 -Wall  -c -o writer.lo writer.cpp\n",
            "libtool: compile:  g++ -DHAVE_CONFIG_H -I. -I.. -DDIC_VERSION=102 -DMECAB_DEFAULT_RC=\\\"/usr/local/etc/mecabrc\\\" -O3 -Wall -c writer.cpp  -fPIC -DPIC -o .libs/writer.o\n",
            "libtool: compile:  g++ -DHAVE_CONFIG_H -I. -I.. -DDIC_VERSION=102 -DMECAB_DEFAULT_RC=\\\"/usr/local/etc/mecabrc\\\" -O3 -Wall -c writer.cpp -o writer.o >/dev/null 2>&1\n",
            "/bin/bash ../libtool --tag=CXX   --mode=compile g++ -DHAVE_CONFIG_H -I. -I.. -DDIC_VERSION=102   -DMECAB_DEFAULT_RC=\"\\\"/usr/local/etc/mecabrc\\\"\"    -O3 -Wall  -c -o string_buffer.lo string_buffer.cpp\n",
            "libtool: compile:  g++ -DHAVE_CONFIG_H -I. -I.. -DDIC_VERSION=102 -DMECAB_DEFAULT_RC=\\\"/usr/local/etc/mecabrc\\\" -O3 -Wall -c string_buffer.cpp  -fPIC -DPIC -o .libs/string_buffer.o\n",
            "libtool: compile:  g++ -DHAVE_CONFIG_H -I. -I.. -DDIC_VERSION=102 -DMECAB_DEFAULT_RC=\\\"/usr/local/etc/mecabrc\\\" -O3 -Wall -c string_buffer.cpp -o string_buffer.o >/dev/null 2>&1\n",
            "/bin/bash ../libtool --tag=CXX   --mode=compile g++ -DHAVE_CONFIG_H -I. -I.. -DDIC_VERSION=102   -DMECAB_DEFAULT_RC=\"\\\"/usr/local/etc/mecabrc\\\"\"    -O3 -Wall  -c -o param.lo param.cpp\n",
            "libtool: compile:  g++ -DHAVE_CONFIG_H -I. -I.. -DDIC_VERSION=102 -DMECAB_DEFAULT_RC=\\\"/usr/local/etc/mecabrc\\\" -O3 -Wall -c param.cpp  -fPIC -DPIC -o .libs/param.o\n",
            "libtool: compile:  g++ -DHAVE_CONFIG_H -I. -I.. -DDIC_VERSION=102 -DMECAB_DEFAULT_RC=\\\"/usr/local/etc/mecabrc\\\" -O3 -Wall -c param.cpp -o param.o >/dev/null 2>&1\n",
            "/bin/bash ../libtool --tag=CXX   --mode=compile g++ -DHAVE_CONFIG_H -I. -I.. -DDIC_VERSION=102   -DMECAB_DEFAULT_RC=\"\\\"/usr/local/etc/mecabrc\\\"\"    -O3 -Wall  -c -o tokenizer.lo tokenizer.cpp\n",
            "libtool: compile:  g++ -DHAVE_CONFIG_H -I. -I.. -DDIC_VERSION=102 -DMECAB_DEFAULT_RC=\\\"/usr/local/etc/mecabrc\\\" -O3 -Wall -c tokenizer.cpp  -fPIC -DPIC -o .libs/tokenizer.o\n",
            "libtool: compile:  g++ -DHAVE_CONFIG_H -I. -I.. -DDIC_VERSION=102 -DMECAB_DEFAULT_RC=\\\"/usr/local/etc/mecabrc\\\" -O3 -Wall -c tokenizer.cpp -o tokenizer.o >/dev/null 2>&1\n",
            "/bin/bash ../libtool --tag=CXX   --mode=compile g++ -DHAVE_CONFIG_H -I. -I.. -DDIC_VERSION=102   -DMECAB_DEFAULT_RC=\"\\\"/usr/local/etc/mecabrc\\\"\"    -O3 -Wall  -c -o char_property.lo char_property.cpp\n",
            "libtool: compile:  g++ -DHAVE_CONFIG_H -I. -I.. -DDIC_VERSION=102 -DMECAB_DEFAULT_RC=\\\"/usr/local/etc/mecabrc\\\" -O3 -Wall -c char_property.cpp  -fPIC -DPIC -o .libs/char_property.o\n",
            "libtool: compile:  g++ -DHAVE_CONFIG_H -I. -I.. -DDIC_VERSION=102 -DMECAB_DEFAULT_RC=\\\"/usr/local/etc/mecabrc\\\" -O3 -Wall -c char_property.cpp -o char_property.o >/dev/null 2>&1\n",
            "/bin/bash ../libtool --tag=CXX   --mode=compile g++ -DHAVE_CONFIG_H -I. -I.. -DDIC_VERSION=102   -DMECAB_DEFAULT_RC=\"\\\"/usr/local/etc/mecabrc\\\"\"    -O3 -Wall  -c -o dictionary.lo dictionary.cpp\n",
            "libtool: compile:  g++ -DHAVE_CONFIG_H -I. -I.. -DDIC_VERSION=102 -DMECAB_DEFAULT_RC=\\\"/usr/local/etc/mecabrc\\\" -O3 -Wall -c dictionary.cpp  -fPIC -DPIC -o .libs/dictionary.o\n",
            "libtool: compile:  g++ -DHAVE_CONFIG_H -I. -I.. -DDIC_VERSION=102 -DMECAB_DEFAULT_RC=\\\"/usr/local/etc/mecabrc\\\" -O3 -Wall -c dictionary.cpp -o dictionary.o >/dev/null 2>&1\n",
            "/bin/bash ../libtool --tag=CXX   --mode=compile g++ -DHAVE_CONFIG_H -I. -I.. -DDIC_VERSION=102   -DMECAB_DEFAULT_RC=\"\\\"/usr/local/etc/mecabrc\\\"\"    -O3 -Wall  -c -o feature_index.lo feature_index.cpp\n",
            "libtool: compile:  g++ -DHAVE_CONFIG_H -I. -I.. -DDIC_VERSION=102 -DMECAB_DEFAULT_RC=\\\"/usr/local/etc/mecabrc\\\" -O3 -Wall -c feature_index.cpp  -fPIC -DPIC -o .libs/feature_index.o\n",
            "libtool: compile:  g++ -DHAVE_CONFIG_H -I. -I.. -DDIC_VERSION=102 -DMECAB_DEFAULT_RC=\\\"/usr/local/etc/mecabrc\\\" -O3 -Wall -c feature_index.cpp -o feature_index.o >/dev/null 2>&1\n",
            "/bin/bash ../libtool --tag=CXX   --mode=compile g++ -DHAVE_CONFIG_H -I. -I.. -DDIC_VERSION=102   -DMECAB_DEFAULT_RC=\"\\\"/usr/local/etc/mecabrc\\\"\"    -O3 -Wall  -c -o lbfgs.lo lbfgs.cpp\n",
            "libtool: compile:  g++ -DHAVE_CONFIG_H -I. -I.. -DDIC_VERSION=102 -DMECAB_DEFAULT_RC=\\\"/usr/local/etc/mecabrc\\\" -O3 -Wall -c lbfgs.cpp  -fPIC -DPIC -o .libs/lbfgs.o\n",
            "libtool: compile:  g++ -DHAVE_CONFIG_H -I. -I.. -DDIC_VERSION=102 -DMECAB_DEFAULT_RC=\\\"/usr/local/etc/mecabrc\\\" -O3 -Wall -c lbfgs.cpp -o lbfgs.o >/dev/null 2>&1\n",
            "/bin/bash ../libtool --tag=CXX   --mode=compile g++ -DHAVE_CONFIG_H -I. -I.. -DDIC_VERSION=102   -DMECAB_DEFAULT_RC=\"\\\"/usr/local/etc/mecabrc\\\"\"    -O3 -Wall  -c -o learner_tagger.lo learner_tagger.cpp\n",
            "libtool: compile:  g++ -DHAVE_CONFIG_H -I. -I.. -DDIC_VERSION=102 -DMECAB_DEFAULT_RC=\\\"/usr/local/etc/mecabrc\\\" -O3 -Wall -c learner_tagger.cpp  -fPIC -DPIC -o .libs/learner_tagger.o\n",
            "\u001b[01m\u001b[Klearner_tagger.cpp:25:7:\u001b[m\u001b[K \u001b[01;35m\u001b[Kwarning: \u001b[m\u001b[K'\u001b[01m\u001b[Kchar* MeCab::{anonymous}::mystrdup(const string&)\u001b[m\u001b[K' defined but not used [\u001b[01;35m\u001b[K-Wunused-function\u001b[m\u001b[K]\n",
            " char *\u001b[01;35m\u001b[Kmystrdup\u001b[m\u001b[K(const std::string &str) {\n",
            "       \u001b[01;35m\u001b[K^~~~~~~~\u001b[m\u001b[K\n",
            "libtool: compile:  g++ -DHAVE_CONFIG_H -I. -I.. -DDIC_VERSION=102 -DMECAB_DEFAULT_RC=\\\"/usr/local/etc/mecabrc\\\" -O3 -Wall -c learner_tagger.cpp -o learner_tagger.o >/dev/null 2>&1\n",
            "/bin/bash ../libtool --tag=CXX   --mode=compile g++ -DHAVE_CONFIG_H -I. -I.. -DDIC_VERSION=102   -DMECAB_DEFAULT_RC=\"\\\"/usr/local/etc/mecabrc\\\"\"    -O3 -Wall  -c -o learner.lo learner.cpp\n",
            "libtool: compile:  g++ -DHAVE_CONFIG_H -I. -I.. -DDIC_VERSION=102 -DMECAB_DEFAULT_RC=\\\"/usr/local/etc/mecabrc\\\" -O3 -Wall -c learner.cpp  -fPIC -DPIC -o .libs/learner.o\n",
            "libtool: compile:  g++ -DHAVE_CONFIG_H -I. -I.. -DDIC_VERSION=102 -DMECAB_DEFAULT_RC=\\\"/usr/local/etc/mecabrc\\\" -O3 -Wall -c learner.cpp -o learner.o >/dev/null 2>&1\n",
            "/bin/bash ../libtool --tag=CXX   --mode=compile g++ -DHAVE_CONFIG_H -I. -I.. -DDIC_VERSION=102   -DMECAB_DEFAULT_RC=\"\\\"/usr/local/etc/mecabrc\\\"\"    -O3 -Wall  -c -o libmecab.lo libmecab.cpp\n",
            "libtool: compile:  g++ -DHAVE_CONFIG_H -I. -I.. -DDIC_VERSION=102 -DMECAB_DEFAULT_RC=\\\"/usr/local/etc/mecabrc\\\" -O3 -Wall -c libmecab.cpp  -fPIC -DPIC -o .libs/libmecab.o\n",
            "libtool: compile:  g++ -DHAVE_CONFIG_H -I. -I.. -DDIC_VERSION=102 -DMECAB_DEFAULT_RC=\\\"/usr/local/etc/mecabrc\\\" -O3 -Wall -c libmecab.cpp -o libmecab.o >/dev/null 2>&1\n",
            "/bin/bash ../libtool --tag=CXX   --mode=link g++  -O3 -Wall  -no-undefined -version-info 2:0:0  -o libmecab.la -rpath /usr/local/lib viterbi.lo tagger.lo utils.lo eval.lo iconv_utils.lo dictionary_rewriter.lo dictionary_generator.lo dictionary_compiler.lo context_id.lo connector.lo nbest_generator.lo writer.lo string_buffer.lo param.lo tokenizer.lo char_property.lo dictionary.lo feature_index.lo lbfgs.lo learner_tagger.lo learner.lo libmecab.lo  -lpthread -lpthread  -lstdc++ \n",
            "libtool: link: g++  -fPIC -DPIC -shared -nostdlib /usr/lib/gcc/x86_64-linux-gnu/7/../../../x86_64-linux-gnu/crti.o /usr/lib/gcc/x86_64-linux-gnu/7/crtbeginS.o  .libs/viterbi.o .libs/tagger.o .libs/utils.o .libs/eval.o .libs/iconv_utils.o .libs/dictionary_rewriter.o .libs/dictionary_generator.o .libs/dictionary_compiler.o .libs/context_id.o .libs/connector.o .libs/nbest_generator.o .libs/writer.o .libs/string_buffer.o .libs/param.o .libs/tokenizer.o .libs/char_property.o .libs/dictionary.o .libs/feature_index.o .libs/lbfgs.o .libs/learner_tagger.o .libs/learner.o .libs/libmecab.o   -lpthread -L/usr/lib/gcc/x86_64-linux-gnu/7 -L/usr/lib/gcc/x86_64-linux-gnu/7/../../../x86_64-linux-gnu -L/usr/lib/gcc/x86_64-linux-gnu/7/../../../../lib -L/lib/x86_64-linux-gnu -L/lib/../lib -L/usr/lib/x86_64-linux-gnu -L/usr/lib/../lib -L/usr/local/cuda/lib64/stubs -L/usr/lib/gcc/x86_64-linux-gnu/7/../../.. -lstdc++ -lm -lc -lgcc_s /usr/lib/gcc/x86_64-linux-gnu/7/crtendS.o /usr/lib/gcc/x86_64-linux-gnu/7/../../../x86_64-linux-gnu/crtn.o  -O3   -Wl,-soname -Wl,libmecab.so.2 -o .libs/libmecab.so.2.0.0\n",
            "libtool: link: (cd \".libs\" && rm -f \"libmecab.so.2\" && ln -s \"libmecab.so.2.0.0\" \"libmecab.so.2\")\n",
            "libtool: link: (cd \".libs\" && rm -f \"libmecab.so\" && ln -s \"libmecab.so.2.0.0\" \"libmecab.so\")\n",
            "libtool: link: ar cru .libs/libmecab.a  viterbi.o tagger.o utils.o eval.o iconv_utils.o dictionary_rewriter.o dictionary_generator.o dictionary_compiler.o context_id.o connector.o nbest_generator.o writer.o string_buffer.o param.o tokenizer.o char_property.o dictionary.o feature_index.o lbfgs.o learner_tagger.o learner.o libmecab.o\n",
            "ar: `u' modifier ignored since `D' is the default (see `U')\n",
            "libtool: link: ranlib .libs/libmecab.a\n",
            "libtool: link: ( cd \".libs\" && rm -f \"libmecab.la\" && ln -s \"../libmecab.la\" \"libmecab.la\" )\n",
            "g++ -DHAVE_CONFIG_H -I. -I.. -DDIC_VERSION=102   -DMECAB_DEFAULT_RC=\"\\\"/usr/local/etc/mecabrc\\\"\"    -O3 -Wall  -c -o mecab.o mecab.cpp\n",
            "/bin/bash ../libtool --tag=CXX   --mode=link g++  -O3 -Wall    -o mecab mecab.o libmecab.la -lpthread -lpthread  -lstdc++ \n",
            "libtool: link: g++ -O3 -Wall -o .libs/mecab mecab.o  ./.libs/libmecab.so -lpthread -lstdc++\n",
            "g++ -DHAVE_CONFIG_H -I. -I.. -DDIC_VERSION=102   -DMECAB_DEFAULT_RC=\"\\\"/usr/local/etc/mecabrc\\\"\"    -O3 -Wall  -c -o mecab-dict-index.o mecab-dict-index.cpp\n",
            "/bin/bash ../libtool --tag=CXX   --mode=link g++  -O3 -Wall    -o mecab-dict-index mecab-dict-index.o libmecab.la -lpthread -lpthread  -lstdc++ \n",
            "libtool: link: g++ -O3 -Wall -o .libs/mecab-dict-index mecab-dict-index.o  ./.libs/libmecab.so -lpthread -lstdc++\n",
            "g++ -DHAVE_CONFIG_H -I. -I.. -DDIC_VERSION=102   -DMECAB_DEFAULT_RC=\"\\\"/usr/local/etc/mecabrc\\\"\"    -O3 -Wall  -c -o mecab-dict-gen.o mecab-dict-gen.cpp\n",
            "/bin/bash ../libtool --tag=CXX   --mode=link g++  -O3 -Wall    -o mecab-dict-gen mecab-dict-gen.o libmecab.la -lpthread -lpthread  -lstdc++ \n",
            "libtool: link: g++ -O3 -Wall -o .libs/mecab-dict-gen mecab-dict-gen.o  ./.libs/libmecab.so -lpthread -lstdc++\n",
            "g++ -DHAVE_CONFIG_H -I. -I.. -DDIC_VERSION=102   -DMECAB_DEFAULT_RC=\"\\\"/usr/local/etc/mecabrc\\\"\"    -O3 -Wall  -c -o mecab-cost-train.o mecab-cost-train.cpp\n",
            "/bin/bash ../libtool --tag=CXX   --mode=link g++  -O3 -Wall    -o mecab-cost-train mecab-cost-train.o libmecab.la -lpthread -lpthread  -lstdc++ \n",
            "libtool: link: g++ -O3 -Wall -o .libs/mecab-cost-train mecab-cost-train.o  ./.libs/libmecab.so -lpthread -lstdc++\n",
            "g++ -DHAVE_CONFIG_H -I. -I.. -DDIC_VERSION=102   -DMECAB_DEFAULT_RC=\"\\\"/usr/local/etc/mecabrc\\\"\"    -O3 -Wall  -c -o mecab-system-eval.o mecab-system-eval.cpp\n",
            "/bin/bash ../libtool --tag=CXX   --mode=link g++  -O3 -Wall    -o mecab-system-eval mecab-system-eval.o libmecab.la -lpthread -lpthread  -lstdc++ \n",
            "libtool: link: g++ -O3 -Wall -o .libs/mecab-system-eval mecab-system-eval.o  ./.libs/libmecab.so -lpthread -lstdc++\n",
            "g++ -DHAVE_CONFIG_H -I. -I.. -DDIC_VERSION=102   -DMECAB_DEFAULT_RC=\"\\\"/usr/local/etc/mecabrc\\\"\"    -O3 -Wall  -c -o mecab-test-gen.o mecab-test-gen.cpp\n",
            "/bin/bash ../libtool --tag=CXX   --mode=link g++  -O3 -Wall    -o mecab-test-gen mecab-test-gen.o libmecab.la -lpthread -lpthread  -lstdc++ \n",
            "libtool: link: g++ -O3 -Wall -o .libs/mecab-test-gen mecab-test-gen.o  ./.libs/libmecab.so -lpthread -lstdc++\n",
            "make[2]: Leaving directory '/tmp/mecab-0.996-ko-0.9.2/src'\n",
            "Making all in man\n",
            "make[2]: Entering directory '/tmp/mecab-0.996-ko-0.9.2/man'\n",
            "make[2]: Nothing to be done for 'all'.\n",
            "make[2]: Leaving directory '/tmp/mecab-0.996-ko-0.9.2/man'\n",
            "Making all in doc\n",
            "make[2]: Entering directory '/tmp/mecab-0.996-ko-0.9.2/doc'\n",
            "make[2]: Nothing to be done for 'all'.\n",
            "make[2]: Leaving directory '/tmp/mecab-0.996-ko-0.9.2/doc'\n",
            "Making all in tests\n",
            "make[2]: Entering directory '/tmp/mecab-0.996-ko-0.9.2/tests'\n",
            "make[2]: Nothing to be done for 'all'.\n",
            "make[2]: Leaving directory '/tmp/mecab-0.996-ko-0.9.2/tests'\n",
            "make[2]: Entering directory '/tmp/mecab-0.996-ko-0.9.2'\n",
            "make[2]: Leaving directory '/tmp/mecab-0.996-ko-0.9.2'\n",
            "make[1]: Leaving directory '/tmp/mecab-0.996-ko-0.9.2'\n",
            "Making check in src\n",
            "make[1]: Entering directory '/tmp/mecab-0.996-ko-0.9.2/src'\n",
            "make[1]: Nothing to be done for 'check'.\n",
            "make[1]: Leaving directory '/tmp/mecab-0.996-ko-0.9.2/src'\n",
            "Making check in man\n",
            "make[1]: Entering directory '/tmp/mecab-0.996-ko-0.9.2/man'\n",
            "make[1]: Nothing to be done for 'check'.\n",
            "make[1]: Leaving directory '/tmp/mecab-0.996-ko-0.9.2/man'\n",
            "Making check in doc\n",
            "make[1]: Entering directory '/tmp/mecab-0.996-ko-0.9.2/doc'\n",
            "make[1]: Nothing to be done for 'check'.\n",
            "make[1]: Leaving directory '/tmp/mecab-0.996-ko-0.9.2/doc'\n",
            "Making check in tests\n",
            "make[1]: Entering directory '/tmp/mecab-0.996-ko-0.9.2/tests'\n",
            "make  check-TESTS\n",
            "make[2]: Entering directory '/tmp/mecab-0.996-ko-0.9.2/tests'\n",
            "./pos-id.def is not found. minimum setting is used\n",
            "reading ./unk.def ... 2\n",
            "emitting double-array: 100% |###########################################| \n",
            "./model.def is not found. skipped.\n",
            "./pos-id.def is not found. minimum setting is used\n",
            "reading ./dic.csv ... 177\n",
            "emitting double-array: 100% |###########################################| \n",
            "reading ./matrix.def ... 178x178\n",
            "emitting matrix      : 100% |###########################################| \n",
            "\n",
            "done!\n",
            "./pos-id.def is not found. minimum setting is used\n",
            "reading ./unk.def ... 2\n",
            "emitting double-array: 100% |###########################################| \n",
            "./model.def is not found. skipped.\n",
            "./pos-id.def is not found. minimum setting is used\n",
            "reading ./dic.csv ... 83\n",
            "emitting double-array: 100% |###########################################| \n",
            "reading ./matrix.def ... 84x84\n",
            "emitting matrix      : 100% |###########################################| \n",
            "\n",
            "done!\n",
            "./pos-id.def is not found. minimum setting is used\n",
            "reading ./unk.def ... 2\n",
            "emitting double-array: 100% |###########################################| \n",
            "./model.def is not found. skipped.\n",
            "./pos-id.def is not found. minimum setting is used\n",
            "reading ./dic.csv ... 450\n",
            "emitting double-array: 100% |###########################################| \n",
            "reading ./matrix.def ... 1x1\n",
            "\n",
            "done!\n",
            "./pos-id.def is not found. minimum setting is used\n",
            "reading ./unk.def ... 2\n",
            "emitting double-array: 100% |###########################################| \n",
            "./model.def is not found. skipped.\n",
            "./pos-id.def is not found. minimum setting is used\n",
            "reading ./dic.csv ... 162\n",
            "emitting double-array: 100% |###########################################| \n",
            "reading ./matrix.def ... 3x3\n",
            "emitting matrix      : 100% |###########################################| \n",
            "\n",
            "done!\n",
            "./pos-id.def is not found. minimum setting is used\n",
            "reading ./unk.def ... 2\n",
            "emitting double-array: 100% |###########################################| \n",
            "./model.def is not found. skipped.\n",
            "./pos-id.def is not found. minimum setting is used\n",
            "reading ./dic.csv ... 4\n",
            "emitting double-array: 100% |###########################################| \n",
            "reading ./matrix.def ... 1x1\n",
            "\n",
            "done!\n",
            "./pos-id.def is not found. minimum setting is used\n",
            "reading ./unk.def ... 11\n",
            "emitting double-array: 100% |###########################################| \n",
            "./model.def is not found. skipped.\n",
            "./pos-id.def is not found. minimum setting is used\n",
            "reading ./dic.csv ... 1\n",
            "reading ./matrix.def ... 1x1\n",
            "\n",
            "done!\n",
            "./pos-id.def is not found. minimum setting is used\n",
            "reading ./unk.def ... 2\n",
            "emitting double-array: 100% |###########################################| \n",
            "./model.def is not found. skipped.\n",
            "./pos-id.def is not found. minimum setting is used\n",
            "reading ./dic.csv ... 1\n",
            "reading ./matrix.def ... 1x1\n",
            "\n",
            "done!\n",
            "PASS: run-dics.sh\n",
            "PASS: run-eval.sh\n",
            "seed/pos-id.def is not found. minimum setting is used\n",
            "reading seed/unk.def ... 40\n",
            "emitting double-array: 100% |###########################################| \n",
            "seed/model.def is not found. skipped.\n",
            "seed/pos-id.def is not found. minimum setting is used\n",
            "reading seed/dic.csv ... 4335\n",
            "emitting double-array: 100% |###########################################| \n",
            "reading seed/matrix.def ... 1x1\n",
            "\n",
            "done!\n",
            "reading corpus ...\n",
            "Number of sentences: 34\n",
            "Number of features:  64108\n",
            "eta:                 0.00005\n",
            "freq:                1\n",
            "eval-size:           6\n",
            "unk-eval-size:       4\n",
            "threads:             1\n",
            "charset:             EUC-JP\n",
            "C(sigma^2):          1.00000\n",
            "\n",
            "iter=0 err=1.00000 F=0.35771 target=2406.28355 diff=1.00000\n",
            "iter=1 err=0.97059 F=0.65652 target=1484.25231 diff=0.38318\n",
            "iter=2 err=0.91176 F=0.79331 target=863.32765 diff=0.41834\n",
            "iter=3 err=0.85294 F=0.89213 target=596.72480 diff=0.30881\n",
            "iter=4 err=0.61765 F=0.95467 target=336.30744 diff=0.43641\n",
            "iter=5 err=0.50000 F=0.96702 target=246.53039 diff=0.26695\n",
            "iter=6 err=0.35294 F=0.95472 target=188.93963 diff=0.23361\n",
            "iter=7 err=0.20588 F=0.99106 target=168.62665 diff=0.10751\n",
            "iter=8 err=0.05882 F=0.99777 target=158.64865 diff=0.05917\n",
            "iter=9 err=0.08824 F=0.99665 target=154.14530 diff=0.02839\n",
            "iter=10 err=0.08824 F=0.99665 target=151.94257 diff=0.01429\n",
            "iter=11 err=0.02941 F=0.99888 target=147.20825 diff=0.03116\n",
            "iter=12 err=0.00000 F=1.00000 target=147.34956 diff=0.00096\n",
            "iter=13 err=0.02941 F=0.99888 target=146.32592 diff=0.00695\n",
            "iter=14 err=0.00000 F=1.00000 target=145.77299 diff=0.00378\n",
            "iter=15 err=0.02941 F=0.99888 target=145.24641 diff=0.00361\n",
            "iter=16 err=0.00000 F=1.00000 target=144.96490 diff=0.00194\n",
            "iter=17 err=0.02941 F=0.99888 target=144.90246 diff=0.00043\n",
            "iter=18 err=0.00000 F=1.00000 target=144.75959 diff=0.00099\n",
            "iter=19 err=0.00000 F=1.00000 target=144.71727 diff=0.00029\n",
            "iter=20 err=0.00000 F=1.00000 target=144.66337 diff=0.00037\n",
            "iter=21 err=0.00000 F=1.00000 target=144.61349 diff=0.00034\n",
            "iter=22 err=0.00000 F=1.00000 target=144.62987 diff=0.00011\n",
            "iter=23 err=0.00000 F=1.00000 target=144.60060 diff=0.00020\n",
            "iter=24 err=0.00000 F=1.00000 target=144.59125 diff=0.00006\n",
            "iter=25 err=0.00000 F=1.00000 target=144.58619 diff=0.00004\n",
            "iter=26 err=0.00000 F=1.00000 target=144.58219 diff=0.00003\n",
            "iter=27 err=0.00000 F=1.00000 target=144.58059 diff=0.00001\n",
            "\n",
            "Done! writing model file ... \n",
            "model-ipadic.c1.0.f1.model is not a binary model. reopen it as text mode...\n",
            "reading seed/unk.def ... 40\n",
            "reading seed/dic.csv ... 4335\n",
            "emitting model-ipadic.c1.0.f1.dic/left-id.def/ model-ipadic.c1.0.f1.dic/right-id.def\n",
            "emitting model-ipadic.c1.0.f1.dic/unk.def ... 40\n",
            "emitting model-ipadic.c1.0.f1.dic/dic.csv ... 4335\n",
            "emitting matrix      : 100% |###########################################| \n",
            "copying seed/char.def to model-ipadic.c1.0.f1.dic/char.def\n",
            "copying seed/rewrite.def to model-ipadic.c1.0.f1.dic/rewrite.def\n",
            "copying seed/dicrc to model-ipadic.c1.0.f1.dic/dicrc\n",
            "copying seed/feature.def to model-ipadic.c1.0.f1.dic/feature.def\n",
            "copying model-ipadic.c1.0.f1.model to model-ipadic.c1.0.f1.dic/model.def\n",
            "\n",
            "done!\n",
            "model-ipadic.c1.0.f1.dic/pos-id.def is not found. minimum setting is used\n",
            "reading model-ipadic.c1.0.f1.dic/unk.def ... 40\n",
            "emitting double-array: 100% |###########################################| \n",
            "model-ipadic.c1.0.f1.dic/pos-id.def is not found. minimum setting is used\n",
            "reading model-ipadic.c1.0.f1.dic/dic.csv ... 4335\n",
            "emitting double-array: 100% |###########################################| \n",
            "reading model-ipadic.c1.0.f1.dic/matrix.def ... 346x346\n",
            "emitting matrix      : 100% |###########################################| \n",
            "\n",
            "done!\n",
            "              precision          recall         F\n",
            "LEVEL 0:    12.8959(57/442) 11.8998(57/479) 12.3779\n",
            "LEVEL 1:    12.2172(54/442) 11.2735(54/479) 11.7264\n",
            "LEVEL 2:    11.7647(52/442) 10.8559(52/479) 11.2921\n",
            "LEVEL 4:    11.7647(52/442) 10.8559(52/479) 11.2921\n",
            "PASS: run-cost-train.sh\n",
            "==================\n",
            "All 3 tests passed\n",
            "==================\n",
            "make[2]: Leaving directory '/tmp/mecab-0.996-ko-0.9.2/tests'\n",
            "make[1]: Leaving directory '/tmp/mecab-0.996-ko-0.9.2/tests'\n",
            "make[1]: Entering directory '/tmp/mecab-0.996-ko-0.9.2'\n",
            "make[1]: Leaving directory '/tmp/mecab-0.996-ko-0.9.2'\n",
            "Making install in src\n",
            "make[1]: Entering directory '/tmp/mecab-0.996-ko-0.9.2/src'\n",
            "make[2]: Entering directory '/tmp/mecab-0.996-ko-0.9.2/src'\n",
            "test -z \"/usr/local/lib\" || /bin/mkdir -p \"/usr/local/lib\"\n",
            " /bin/bash ../libtool   --mode=install /usr/bin/install -c   libmecab.la '/usr/local/lib'\n",
            "libtool: install: /usr/bin/install -c .libs/libmecab.so.2.0.0 /usr/local/lib/libmecab.so.2.0.0\n",
            "libtool: install: (cd /usr/local/lib && { ln -s -f libmecab.so.2.0.0 libmecab.so.2 || { rm -f libmecab.so.2 && ln -s libmecab.so.2.0.0 libmecab.so.2; }; })\n",
            "libtool: install: (cd /usr/local/lib && { ln -s -f libmecab.so.2.0.0 libmecab.so || { rm -f libmecab.so && ln -s libmecab.so.2.0.0 libmecab.so; }; })\n",
            "libtool: install: /usr/bin/install -c .libs/libmecab.lai /usr/local/lib/libmecab.la\n",
            "libtool: install: /usr/bin/install -c .libs/libmecab.a /usr/local/lib/libmecab.a\n",
            "libtool: install: chmod 644 /usr/local/lib/libmecab.a\n",
            "libtool: install: ranlib /usr/local/lib/libmecab.a\n",
            "libtool: finish: PATH=\"/opt/bin:/usr/local/nvidia/bin:/usr/local/cuda/bin:/usr/local/sbin:/usr/local/bin:/usr/sbin:/usr/bin:/sbin:/bin:/tools/node/bin:/tools/google-cloud-sdk/bin:/sbin\" ldconfig -n /usr/local/lib\n",
            "----------------------------------------------------------------------\n",
            "Libraries have been installed in:\n",
            "   /usr/local/lib\n",
            "\n",
            "If you ever happen to want to link against installed libraries\n",
            "in a given directory, LIBDIR, you must either use libtool, and\n",
            "specify the full pathname of the library, or use the `-LLIBDIR'\n",
            "flag during linking and do at least one of the following:\n",
            "   - add LIBDIR to the `LD_LIBRARY_PATH' environment variable\n",
            "     during execution\n",
            "   - add LIBDIR to the `LD_RUN_PATH' environment variable\n",
            "     during linking\n",
            "   - use the `-Wl,-rpath -Wl,LIBDIR' linker flag\n",
            "   - have your system administrator add LIBDIR to `/etc/ld.so.conf'\n",
            "\n",
            "See any operating system documentation about shared libraries for\n",
            "more information, such as the ld(1) and ld.so(8) manual pages.\n",
            "----------------------------------------------------------------------\n",
            "test -z \"/usr/local/bin\" || /bin/mkdir -p \"/usr/local/bin\"\n",
            "  /bin/bash ../libtool   --mode=install /usr/bin/install -c mecab '/usr/local/bin'\n",
            "libtool: install: /usr/bin/install -c .libs/mecab /usr/local/bin/mecab\n",
            "test -z \"/usr/local/libexec/mecab\" || /bin/mkdir -p \"/usr/local/libexec/mecab\"\n",
            "  /bin/bash ../libtool   --mode=install /usr/bin/install -c mecab-dict-index mecab-dict-gen mecab-cost-train mecab-system-eval mecab-test-gen '/usr/local/libexec/mecab'\n",
            "libtool: install: /usr/bin/install -c .libs/mecab-dict-index /usr/local/libexec/mecab/mecab-dict-index\n",
            "libtool: install: /usr/bin/install -c .libs/mecab-dict-gen /usr/local/libexec/mecab/mecab-dict-gen\n",
            "libtool: install: /usr/bin/install -c .libs/mecab-cost-train /usr/local/libexec/mecab/mecab-cost-train\n",
            "libtool: install: /usr/bin/install -c .libs/mecab-system-eval /usr/local/libexec/mecab/mecab-system-eval\n",
            "libtool: install: /usr/bin/install -c .libs/mecab-test-gen /usr/local/libexec/mecab/mecab-test-gen\n",
            "test -z \"/usr/local/include\" || /bin/mkdir -p \"/usr/local/include\"\n",
            " /usr/bin/install -c -m 644 mecab.h '/usr/local/include'\n",
            "make[2]: Leaving directory '/tmp/mecab-0.996-ko-0.9.2/src'\n",
            "make[1]: Leaving directory '/tmp/mecab-0.996-ko-0.9.2/src'\n",
            "Making install in man\n",
            "make[1]: Entering directory '/tmp/mecab-0.996-ko-0.9.2/man'\n",
            "make[2]: Entering directory '/tmp/mecab-0.996-ko-0.9.2/man'\n",
            "make[2]: Nothing to be done for 'install-exec-am'.\n",
            "test -z \"/usr/local/share/man/man1\" || /bin/mkdir -p \"/usr/local/share/man/man1\"\n",
            " /usr/bin/install -c -m 644 mecab.1 '/usr/local/share/man/man1'\n",
            "make[2]: Leaving directory '/tmp/mecab-0.996-ko-0.9.2/man'\n",
            "make[1]: Leaving directory '/tmp/mecab-0.996-ko-0.9.2/man'\n",
            "Making install in doc\n",
            "make[1]: Entering directory '/tmp/mecab-0.996-ko-0.9.2/doc'\n",
            "make[2]: Entering directory '/tmp/mecab-0.996-ko-0.9.2/doc'\n",
            "make[2]: Nothing to be done for 'install-exec-am'.\n",
            "make[2]: Nothing to be done for 'install-data-am'.\n",
            "make[2]: Leaving directory '/tmp/mecab-0.996-ko-0.9.2/doc'\n",
            "make[1]: Leaving directory '/tmp/mecab-0.996-ko-0.9.2/doc'\n",
            "Making install in tests\n",
            "make[1]: Entering directory '/tmp/mecab-0.996-ko-0.9.2/tests'\n",
            "make[2]: Entering directory '/tmp/mecab-0.996-ko-0.9.2/tests'\n",
            "make[2]: Nothing to be done for 'install-exec-am'.\n",
            "make[2]: Nothing to be done for 'install-data-am'.\n",
            "make[2]: Leaving directory '/tmp/mecab-0.996-ko-0.9.2/tests'\n",
            "make[1]: Leaving directory '/tmp/mecab-0.996-ko-0.9.2/tests'\n",
            "make[1]: Entering directory '/tmp/mecab-0.996-ko-0.9.2'\n",
            "make[2]: Entering directory '/tmp/mecab-0.996-ko-0.9.2'\n",
            "test -z \"/usr/local/bin\" || /bin/mkdir -p \"/usr/local/bin\"\n",
            " /usr/bin/install -c mecab-config '/usr/local/bin'\n",
            "test -z \"/usr/local/etc\" || /bin/mkdir -p \"/usr/local/etc\"\n",
            " /usr/bin/install -c -m 644 mecabrc '/usr/local/etc'\n",
            "make[2]: Leaving directory '/tmp/mecab-0.996-ko-0.9.2'\n",
            "make[1]: Leaving directory '/tmp/mecab-0.996-ko-0.9.2'\n",
            "/sbin/ldconfig.real: /usr/local/lib/python3.7/dist-packages/ideep4py/lib/libmkldnn.so.0 is not a symbolic link\n",
            "\n",
            "--2022-03-25 09:58:23--  https://www.dropbox.com/s/i8girnk5p80076c/mecab-ko-dic-2.1.1-20180720.tar.gz?dl=1\n",
            "Resolving www.dropbox.com (www.dropbox.com)... 162.125.1.18, 2620:100:6016:18::a27d:112\n",
            "Connecting to www.dropbox.com (www.dropbox.com)|162.125.1.18|:443... connected.\n",
            "HTTP request sent, awaiting response... 301 Moved Permanently\n",
            "Location: /s/dl/i8girnk5p80076c/mecab-ko-dic-2.1.1-20180720.tar.gz [following]\n",
            "--2022-03-25 09:58:23--  https://www.dropbox.com/s/dl/i8girnk5p80076c/mecab-ko-dic-2.1.1-20180720.tar.gz\n",
            "Reusing existing connection to www.dropbox.com:443.\n",
            "HTTP request sent, awaiting response... 302 Found\n",
            "Location: https://uc4b0be949354157218273a006f7.dl.dropboxusercontent.com/cd/0/get/BiIS5YtgtF51lVWEJgmXh-uVrTuPVZASiqEKx47eM39ipr4nH4bIbmQZLQizDkj1LRegvW810aetjrZeK29hV0pnc2M-Qp07DZ8XNE667QgPD7tMvkyclRG9Fm2nCDA0qK9Y2JOmqVt5QuVhMYyuYCvrjqLMGUWAIFF_ASZChEi88-paE9-Vh-r9-Y0ypvaNmD8/file?dl=1# [following]\n",
            "--2022-03-25 09:58:23--  https://uc4b0be949354157218273a006f7.dl.dropboxusercontent.com/cd/0/get/BiIS5YtgtF51lVWEJgmXh-uVrTuPVZASiqEKx47eM39ipr4nH4bIbmQZLQizDkj1LRegvW810aetjrZeK29hV0pnc2M-Qp07DZ8XNE667QgPD7tMvkyclRG9Fm2nCDA0qK9Y2JOmqVt5QuVhMYyuYCvrjqLMGUWAIFF_ASZChEi88-paE9-Vh-r9-Y0ypvaNmD8/file?dl=1\n",
            "Resolving uc4b0be949354157218273a006f7.dl.dropboxusercontent.com (uc4b0be949354157218273a006f7.dl.dropboxusercontent.com)... 162.125.1.15, 2620:100:6016:15::a27d:10f\n",
            "Connecting to uc4b0be949354157218273a006f7.dl.dropboxusercontent.com (uc4b0be949354157218273a006f7.dl.dropboxusercontent.com)|162.125.1.15|:443... connected.\n",
            "HTTP request sent, awaiting response... 200 OK\n",
            "Length: 49775061 (47M) [application/binary]\n",
            "Saving to: ‘mecab-ko-dic-2.1.1-20180720.tar.gz?dl=1’\n",
            "\n",
            "mecab-ko-dic-2.1.1- 100%[===================>]  47.47M  60.4MB/s    in 0.8s    \n",
            "\n",
            "2022-03-25 09:58:25 (60.4 MB/s) - ‘mecab-ko-dic-2.1.1-20180720.tar.gz?dl=1’ saved [49775061/49775061]\n",
            "\n",
            "Reading package lists... Done\n",
            "Building dependency tree       \n",
            "Reading state information... Done\n",
            "The following additional packages will be installed:\n",
            "  automake autotools-dev libsigsegv2 m4\n",
            "Suggested packages:\n",
            "  autoconf-archive gnu-standards autoconf-doc libtool gettext m4-doc\n",
            "The following NEW packages will be installed:\n",
            "  autoconf automake autotools-dev libsigsegv2 m4\n",
            "0 upgraded, 5 newly installed, 0 to remove and 39 not upgraded.\n",
            "Need to get 1,082 kB of archives.\n",
            "After this operation, 3,994 kB of additional disk space will be used.\n",
            "Get:1 http://archive.ubuntu.com/ubuntu bionic/main amd64 libsigsegv2 amd64 2.12-1 [14.7 kB]\n",
            "Get:2 http://archive.ubuntu.com/ubuntu bionic/main amd64 m4 amd64 1.4.18-1 [197 kB]\n",
            "Get:3 http://archive.ubuntu.com/ubuntu bionic/main amd64 autoconf all 2.69-11 [322 kB]\n",
            "Get:4 http://archive.ubuntu.com/ubuntu bionic/main amd64 autotools-dev all 20180224.1 [39.6 kB]\n",
            "Get:5 http://archive.ubuntu.com/ubuntu bionic/main amd64 automake all 1:1.15.1-3ubuntu2 [509 kB]\n",
            "Fetched 1,082 kB in 1s (1,583 kB/s)\n",
            "Selecting previously unselected package libsigsegv2:amd64.\n",
            "(Reading database ... 156210 files and directories currently installed.)\n",
            "Preparing to unpack .../libsigsegv2_2.12-1_amd64.deb ...\n",
            "Unpacking libsigsegv2:amd64 (2.12-1) ...\n",
            "Selecting previously unselected package m4.\n",
            "Preparing to unpack .../archives/m4_1.4.18-1_amd64.deb ...\n",
            "Unpacking m4 (1.4.18-1) ...\n",
            "Selecting previously unselected package autoconf.\n",
            "Preparing to unpack .../autoconf_2.69-11_all.deb ...\n",
            "Unpacking autoconf (2.69-11) ...\n",
            "Selecting previously unselected package autotools-dev.\n",
            "Preparing to unpack .../autotools-dev_20180224.1_all.deb ...\n",
            "Unpacking autotools-dev (20180224.1) ...\n",
            "Selecting previously unselected package automake.\n",
            "Preparing to unpack .../automake_1%3a1.15.1-3ubuntu2_all.deb ...\n",
            "Unpacking automake (1:1.15.1-3ubuntu2) ...\n",
            "Setting up libsigsegv2:amd64 (2.12-1) ...\n",
            "Setting up m4 (1.4.18-1) ...\n",
            "Setting up autotools-dev (20180224.1) ...\n",
            "Setting up autoconf (2.69-11) ...\n",
            "Setting up automake (1:1.15.1-3ubuntu2) ...\n",
            "update-alternatives: using /usr/bin/automake-1.15 to provide /usr/bin/automake (automake) in auto mode\n",
            "Processing triggers for libc-bin (2.27-3ubuntu1.3) ...\n",
            "/sbin/ldconfig.real: /usr/local/lib/python3.7/dist-packages/ideep4py/lib/libmkldnn.so.0 is not a symbolic link\n",
            "\n",
            "Processing triggers for man-db (2.8.3-2ubuntu0.1) ...\n",
            "mecab-ko-dic-2.1.1-20180720/\n",
            "mecab-ko-dic-2.1.1-20180720/configure\n",
            "mecab-ko-dic-2.1.1-20180720/COPYING\n",
            "mecab-ko-dic-2.1.1-20180720/autogen.sh\n",
            "mecab-ko-dic-2.1.1-20180720/Place-station.csv\n",
            "mecab-ko-dic-2.1.1-20180720/NNG.csv\n",
            "mecab-ko-dic-2.1.1-20180720/README\n",
            "mecab-ko-dic-2.1.1-20180720/EF.csv\n",
            "mecab-ko-dic-2.1.1-20180720/MAG.csv\n",
            "mecab-ko-dic-2.1.1-20180720/Preanalysis.csv\n",
            "mecab-ko-dic-2.1.1-20180720/NNB.csv\n",
            "mecab-ko-dic-2.1.1-20180720/Person-actor.csv\n",
            "mecab-ko-dic-2.1.1-20180720/VV.csv\n",
            "mecab-ko-dic-2.1.1-20180720/Makefile.in\n",
            "mecab-ko-dic-2.1.1-20180720/matrix.def\n",
            "mecab-ko-dic-2.1.1-20180720/EC.csv\n",
            "mecab-ko-dic-2.1.1-20180720/NNBC.csv\n",
            "mecab-ko-dic-2.1.1-20180720/clean\n",
            "mecab-ko-dic-2.1.1-20180720/ChangeLog\n",
            "mecab-ko-dic-2.1.1-20180720/J.csv\n",
            "mecab-ko-dic-2.1.1-20180720/.keep\n",
            "mecab-ko-dic-2.1.1-20180720/feature.def\n",
            "mecab-ko-dic-2.1.1-20180720/Foreign.csv\n",
            "mecab-ko-dic-2.1.1-20180720/XPN.csv\n",
            "mecab-ko-dic-2.1.1-20180720/EP.csv\n",
            "mecab-ko-dic-2.1.1-20180720/NR.csv\n",
            "mecab-ko-dic-2.1.1-20180720/left-id.def\n",
            "mecab-ko-dic-2.1.1-20180720/Place.csv\n",
            "mecab-ko-dic-2.1.1-20180720/Symbol.csv\n",
            "mecab-ko-dic-2.1.1-20180720/dicrc\n",
            "mecab-ko-dic-2.1.1-20180720/NP.csv\n",
            "mecab-ko-dic-2.1.1-20180720/ETM.csv\n",
            "mecab-ko-dic-2.1.1-20180720/IC.csv\n",
            "mecab-ko-dic-2.1.1-20180720/Place-address.csv\n",
            "mecab-ko-dic-2.1.1-20180720/Group.csv\n",
            "mecab-ko-dic-2.1.1-20180720/model.def\n",
            "mecab-ko-dic-2.1.1-20180720/XSN.csv\n",
            "mecab-ko-dic-2.1.1-20180720/INSTALL\n",
            "mecab-ko-dic-2.1.1-20180720/rewrite.def\n",
            "mecab-ko-dic-2.1.1-20180720/Inflect.csv\n",
            "mecab-ko-dic-2.1.1-20180720/configure.ac\n",
            "mecab-ko-dic-2.1.1-20180720/NNP.csv\n",
            "mecab-ko-dic-2.1.1-20180720/CoinedWord.csv\n",
            "mecab-ko-dic-2.1.1-20180720/XSV.csv\n",
            "mecab-ko-dic-2.1.1-20180720/pos-id.def\n",
            "mecab-ko-dic-2.1.1-20180720/Makefile.am\n",
            "mecab-ko-dic-2.1.1-20180720/unk.def\n",
            "mecab-ko-dic-2.1.1-20180720/missing\n",
            "mecab-ko-dic-2.1.1-20180720/VCP.csv\n",
            "mecab-ko-dic-2.1.1-20180720/install-sh\n",
            "mecab-ko-dic-2.1.1-20180720/Hanja.csv\n",
            "mecab-ko-dic-2.1.1-20180720/MAJ.csv\n",
            "mecab-ko-dic-2.1.1-20180720/XSA.csv\n",
            "mecab-ko-dic-2.1.1-20180720/Wikipedia.csv\n",
            "mecab-ko-dic-2.1.1-20180720/tools/\n",
            "mecab-ko-dic-2.1.1-20180720/tools/add-userdic.sh\n",
            "mecab-ko-dic-2.1.1-20180720/tools/mecab-bestn.sh\n",
            "mecab-ko-dic-2.1.1-20180720/tools/convert_for_using_store.sh\n",
            "mecab-ko-dic-2.1.1-20180720/user-dic/\n",
            "mecab-ko-dic-2.1.1-20180720/user-dic/nnp.csv\n",
            "mecab-ko-dic-2.1.1-20180720/user-dic/place.csv\n",
            "mecab-ko-dic-2.1.1-20180720/user-dic/person.csv\n",
            "mecab-ko-dic-2.1.1-20180720/user-dic/README.md\n",
            "mecab-ko-dic-2.1.1-20180720/NorthKorea.csv\n",
            "mecab-ko-dic-2.1.1-20180720/VX.csv\n",
            "mecab-ko-dic-2.1.1-20180720/right-id.def\n",
            "mecab-ko-dic-2.1.1-20180720/VA.csv\n",
            "mecab-ko-dic-2.1.1-20180720/char.def\n",
            "mecab-ko-dic-2.1.1-20180720/NEWS\n",
            "mecab-ko-dic-2.1.1-20180720/MM.csv\n",
            "mecab-ko-dic-2.1.1-20180720/ETN.csv\n",
            "mecab-ko-dic-2.1.1-20180720/AUTHORS\n",
            "mecab-ko-dic-2.1.1-20180720/Person.csv\n",
            "mecab-ko-dic-2.1.1-20180720/XR.csv\n",
            "mecab-ko-dic-2.1.1-20180720/VCN.csv\n",
            "Looking in current directory for macros.\n",
            "configure.ac:2: warning: AM_INIT_AUTOMAKE: two- and three-arguments forms are deprecated.  For more info, see:\n",
            "configure.ac:2: http://www.gnu.org/software/automake/manual/automake.html#Modernize-AM_005fINIT_005fAUTOMAKE-invocation\n",
            "checking for a BSD-compatible install... /usr/bin/install -c\n",
            "checking whether build environment is sane... yes\n",
            "/tmp/mecab-ko-dic-2.1.1-20180720/missing: Unknown `--is-lightweight' option\n",
            "Try `/tmp/mecab-ko-dic-2.1.1-20180720/missing --help' for more information\n",
            "configure: WARNING: 'missing' script is too old or missing\n",
            "checking for a thread-safe mkdir -p... /bin/mkdir -p\n",
            "checking for gawk... no\n",
            "checking for mawk... mawk\n",
            "checking whether make sets $(MAKE)... yes\n",
            "checking whether make supports nested variables... yes\n",
            "checking for mecab-config... /usr/local/bin/mecab-config\n",
            "checking that generated files are newer than configure... done\n",
            "configure: creating ./config.status\n",
            "config.status: creating Makefile\n",
            "/usr/local/libexec/mecab/mecab-dict-index -d . -o . -f UTF-8 -t UTF-8\n",
            "reading ./unk.def ... 13\n",
            "emitting double-array: 100% |###########################################| \n",
            "reading ./Place-address.csv ... 19301\n",
            "reading ./Place.csv ... 30303\n",
            "reading ./XPN.csv ... 83\n",
            "reading ./EC.csv ... 2547\n",
            "reading ./J.csv ... 416\n",
            "reading ./Symbol.csv ... 16\n",
            "reading ./MAG.csv ... 14242\n",
            "reading ./NNBC.csv ... 677\n",
            "reading ./Person.csv ... 196459\n",
            "reading ./EP.csv ... 51\n",
            "reading ./NorthKorea.csv ... 3\n",
            "reading ./Person-actor.csv ... 99230\n",
            "reading ./Hanja.csv ... 125750\n",
            "reading ./XR.csv ... 3637\n",
            "reading ./MM.csv ... 453\n",
            "reading ./ETN.csv ... 14\n",
            "reading ./Preanalysis.csv ... 5\n",
            "reading ./Inflect.csv ... 44820\n",
            "reading ./Place-station.csv ... 1145\n",
            "reading ./XSA.csv ... 19\n",
            "reading ./ETM.csv ... 133\n",
            "reading ./XSN.csv ... 124\n",
            "reading ./VCN.csv ... 7\n",
            "reading ./NNP.csv ... 2371\n",
            "reading ./Foreign.csv ... 11690\n",
            "reading ./Wikipedia.csv ... 36762\n",
            "reading ./NNB.csv ... 140\n",
            "reading ./MAJ.csv ... 240\n",
            "reading ./VA.csv ... 2360\n",
            "reading ./VX.csv ... 125\n",
            "reading ./NR.csv ... 482\n",
            "reading ./NP.csv ... 342\n",
            "reading ./IC.csv ... 1305\n",
            "reading ./EF.csv ... 1820\n",
            "reading ./VV.csv ... 7331\n",
            "reading ./XSV.csv ... 23\n",
            "reading ./VCP.csv ... 9\n",
            "reading ./Group.csv ... 3176\n",
            "reading ./CoinedWord.csv ... 148\n",
            "reading ./NNG.csv ... 208524\n",
            "emitting double-array: 100% |###########################################| \n",
            "reading ./matrix.def ... 3822x2693\n",
            "emitting matrix      : 100% |###########################################| \n",
            "\n",
            "done!\n",
            "echo To enable dictionary, rewrite /usr/local/etc/mecabrc as \\\"dicdir = /usr/local/lib/mecab/dic/mecab-ko-dic\\\"\n",
            "To enable dictionary, rewrite /usr/local/etc/mecabrc as \"dicdir = /usr/local/lib/mecab/dic/mecab-ko-dic\"\n",
            "make[1]: Entering directory '/tmp/mecab-ko-dic-2.1.1-20180720'\n",
            "make[1]: Nothing to be done for 'install-exec-am'.\n",
            " /bin/mkdir -p '/usr/local/lib/mecab/dic/mecab-ko-dic'\n",
            " /usr/bin/install -c -m 644 model.bin matrix.bin char.bin sys.dic unk.dic left-id.def right-id.def rewrite.def pos-id.def dicrc '/usr/local/lib/mecab/dic/mecab-ko-dic'\n",
            "make[1]: Leaving directory '/tmp/mecab-ko-dic-2.1.1-20180720'\n",
            "/sbin/ldconfig.real: /usr/local/lib/python3.7/dist-packages/ideep4py/lib/libmkldnn.so.0 is not a symbolic link\n",
            "\n",
            "Cloning into 'mecab-python-0.996'...\n",
            "Unpacking objects: 100% (17/17), done.\n",
            "running build\n",
            "running build_py\n",
            "creating build\n",
            "creating build/lib.linux-x86_64-3.7\n",
            "copying MeCab.py -> build/lib.linux-x86_64-3.7\n",
            "running build_ext\n",
            "building '_MeCab' extension\n",
            "creating build/temp.linux-x86_64-3.7\n",
            "x86_64-linux-gnu-gcc -pthread -Wno-unused-result -Wsign-compare -DNDEBUG -g -fwrapv -O2 -Wall -g -fdebug-prefix-map=/build/python3.7-dIfpci/python3.7-3.7.13=. -fstack-protector-strong -Wformat -Werror=format-security -g -fdebug-prefix-map=/build/python3.7-dIfpci/python3.7-3.7.13=. -fstack-protector-strong -Wformat -Werror=format-security -Wdate-time -D_FORTIFY_SOURCE=2 -fPIC -I/usr/local/include -I/usr/include/python3.7m -c MeCab_wrap.cxx -o build/temp.linux-x86_64-3.7/MeCab_wrap.o\n",
            "x86_64-linux-gnu-g++ -pthread -shared -Wl,-O1 -Wl,-Bsymbolic-functions -Wl,-Bsymbolic-functions -Wl,-z,relro -Wl,-Bsymbolic-functions -Wl,-z,relro -g -fdebug-prefix-map=/build/python3.7-dIfpci/python3.7-3.7.13=. -fstack-protector-strong -Wformat -Werror=format-security -Wdate-time -D_FORTIFY_SOURCE=2 build/temp.linux-x86_64-3.7/MeCab_wrap.o -L/usr/local/lib -lmecab -lstdc++ -o build/lib.linux-x86_64-3.7/_MeCab.cpython-37m-x86_64-linux-gnu.so\n",
            "running install\n",
            "running build\n",
            "running build_py\n",
            "running build_ext\n",
            "running install_lib\n",
            "copying build/lib.linux-x86_64-3.7/_MeCab.cpython-37m-x86_64-linux-gnu.so -> /usr/local/lib/python3.7/dist-packages\n",
            "copying build/lib.linux-x86_64-3.7/MeCab.py -> /usr/local/lib/python3.7/dist-packages\n",
            "byte-compiling /usr/local/lib/python3.7/dist-packages/MeCab.py to MeCab.cpython-37.pyc\n",
            "running install_egg_info\n",
            "Writing /usr/local/lib/python3.7/dist-packages/mecab_python-0.996_ko_0.9.2.egg-info\n",
            "Requirement already satisfied: konlpy in /usr/local/lib/python3.7/dist-packages (0.6.0)\n",
            "Requirement already satisfied: lxml>=4.1.0 in /usr/local/lib/python3.7/dist-packages (from konlpy) (4.2.6)\n",
            "Requirement already satisfied: JPype1>=0.7.0 in /usr/local/lib/python3.7/dist-packages (from konlpy) (1.3.0)\n",
            "Requirement already satisfied: numpy>=1.6 in /usr/local/lib/python3.7/dist-packages (from konlpy) (1.21.5)\n",
            "Requirement already satisfied: typing-extensions in /usr/local/lib/python3.7/dist-packages (from JPype1>=0.7.0->konlpy) (3.10.0.2)\n"
          ]
        }
      ]
    },
    {
      "cell_type": "code",
      "source": [
        "mkdir -p /content/drive/MyDrive/GoingDeeper\\(NLP\\)/sp_tokenizer/data"
      ],
      "metadata": {
        "id": "jqXBQt1F4nDG"
      },
      "execution_count": null,
      "outputs": []
    },
    {
      "cell_type": "code",
      "source": [
        "cd /content/drive/MyDrive/GoingDeeper(NLP)/sp_tokenizer/data"
      ],
      "metadata": {
        "colab": {
          "base_uri": "https://localhost:8080/"
        },
        "id": "HhIR1uM75RcG",
        "outputId": "c3cfc0fe-72b3-4239-bfec-8e305aa2605a"
      },
      "execution_count": null,
      "outputs": [
        {
          "output_type": "stream",
          "name": "stdout",
          "text": [
            "/content/drive/MyDrive/GoingDeeper(NLP)/sp_tokenizer/data\n"
          ]
        }
      ]
    },
    {
      "cell_type": "code",
      "source": [
        "! wget https://github.com/jungyeul/korean-parallel-corpora/raw/master/korean-english-news-v1/korean-english-park.train.tar.gz"
      ],
      "metadata": {
        "id": "DoqXlkdn5eX2",
        "colab": {
          "base_uri": "https://localhost:8080/"
        },
        "outputId": "47fcbaf5-291e-4308-d710-04906baf51e0"
      },
      "execution_count": null,
      "outputs": [
        {
          "output_type": "stream",
          "name": "stdout",
          "text": [
            "--2022-03-25 09:58:45--  https://github.com/jungyeul/korean-parallel-corpora/raw/master/korean-english-news-v1/korean-english-park.train.tar.gz\n",
            "Resolving github.com (github.com)... 192.30.255.112\n",
            "Connecting to github.com (github.com)|192.30.255.112|:443... connected.\n",
            "HTTP request sent, awaiting response... 302 Found\n",
            "Location: https://raw.githubusercontent.com/jungyeul/korean-parallel-corpora/master/korean-english-news-v1/korean-english-park.train.tar.gz [following]\n",
            "--2022-03-25 09:58:45--  https://raw.githubusercontent.com/jungyeul/korean-parallel-corpora/master/korean-english-news-v1/korean-english-park.train.tar.gz\n",
            "Resolving raw.githubusercontent.com (raw.githubusercontent.com)... 185.199.108.133, 185.199.109.133, 185.199.110.133, ...\n",
            "Connecting to raw.githubusercontent.com (raw.githubusercontent.com)|185.199.108.133|:443... connected.\n",
            "HTTP request sent, awaiting response... 200 OK\n",
            "Length: 8718893 (8.3M) [application/octet-stream]\n",
            "Saving to: ‘korean-english-park.train.tar.gz.3’\n",
            "\n",
            "korean-english-park 100%[===================>]   8.31M  51.5MB/s    in 0.2s    \n",
            "\n",
            "2022-03-25 09:58:46 (51.5 MB/s) - ‘korean-english-park.train.tar.gz.3’ saved [8718893/8718893]\n",
            "\n"
          ]
        }
      ]
    },
    {
      "cell_type": "code",
      "source": [
        "! tar -xzvf korean-english-park.train.tar.gz"
      ],
      "metadata": {
        "id": "BaZb7PyC5oTi",
        "colab": {
          "base_uri": "https://localhost:8080/"
        },
        "outputId": "038f0823-ff27-40bc-dd87-60d76160ae9b"
      },
      "execution_count": null,
      "outputs": [
        {
          "output_type": "stream",
          "name": "stdout",
          "text": [
            "korean-english-park.train.en\n",
            "korean-english-park.train.ko\n"
          ]
        }
      ]
    },
    {
      "cell_type": "code",
      "source": [
        "! ls"
      ],
      "metadata": {
        "colab": {
          "base_uri": "https://localhost:8080/"
        },
        "id": "pr8xKVTI7aMf",
        "outputId": "bd97511b-a038-486c-8caf-c3a4e062fc92"
      },
      "execution_count": null,
      "outputs": [
        {
          "output_type": "stream",
          "name": "stdout",
          "text": [
            "korean-english-park.train.en\t    korean-english-park.train.tar.gz.3\n",
            "korean-english-park.train.ko\t    korean_spm.model\n",
            "korean-english-park.train.ko.temp   korean_spm.vocab\n",
            "korean-english-park.train.tar.gz    naver_review_corpus.temp\n",
            "korean-english-park.train.tar.gz.1  ratings_test.txt\n",
            "korean-english-park.train.tar.gz.2  ratings_train.txt\n"
          ]
        }
      ]
    },
    {
      "cell_type": "code",
      "source": [
        "from konlpy.tag import Mecab\n",
        "\n",
        "mecab = Mecab()\n",
        "print(mecab.morphs('자연어처리가너무재밌어서밥먹는것도가끔까먹어요'))"
      ],
      "metadata": {
        "colab": {
          "base_uri": "https://localhost:8080/"
        },
        "id": "-Ar2j-hn87oC",
        "outputId": "c97faa84-9aaa-47ea-9de5-645cc2b11749"
      },
      "execution_count": null,
      "outputs": [
        {
          "output_type": "stream",
          "name": "stdout",
          "text": [
            "['자연어', '처리', '가', '너무', '재밌', '어서', '밥', '먹', '는', '것', '도', '가끔', '까먹', '어요']\n"
          ]
        }
      ]
    },
    {
      "cell_type": "markdown",
      "source": [
        "# 0. 여기까지 환경설정 끝!\n",
        "\n",
        "이제 사용된 "
      ],
      "metadata": {
        "id": "hcy7rMry9SDF"
      }
    },
    {
      "cell_type": "code",
      "source": [
        "import tensorflow as tf\n",
        "import numpy as np\n",
        "import matplotlib as plt\n",
        "import konlpy\n",
        "\n",
        "%matplotlib inline\n",
        "\n",
        "print(tf.__version__)\n",
        "print(np.__version__)\n",
        "print(plt.__version__)\n",
        "print(konlpy.__version__)"
      ],
      "metadata": {
        "colab": {
          "base_uri": "https://localhost:8080/"
        },
        "id": "gCx-l5p-9Wn6",
        "outputId": "1f0fe7fa-6f56-4821-e9c1-c4f9456ca786"
      },
      "execution_count": null,
      "outputs": [
        {
          "output_type": "stream",
          "name": "stdout",
          "text": [
            "2.8.0\n",
            "1.21.5\n",
            "3.2.2\n",
            "0.6.0\n"
          ]
        }
      ]
    },
    {
      "cell_type": "markdown",
      "source": [
        "# Step 1. SentencePiece 설치하기"
      ],
      "metadata": {
        "id": "aq2QHCu37mer"
      }
    },
    {
      "cell_type": "code",
      "source": [
        "!pip install sentencepiece"
      ],
      "metadata": {
        "colab": {
          "base_uri": "https://localhost:8080/"
        },
        "id": "IZ2qNFYR7RY3",
        "outputId": "57e6a38c-f5b0-4731-c5ae-79e61726e28f"
      },
      "execution_count": null,
      "outputs": [
        {
          "output_type": "stream",
          "name": "stdout",
          "text": [
            "Collecting sentencepiece\n",
            "  Downloading sentencepiece-0.1.96-cp37-cp37m-manylinux_2_17_x86_64.manylinux2014_x86_64.whl (1.2 MB)\n",
            "\u001b[?25l\r\u001b[K     |▎                               | 10 kB 25.8 MB/s eta 0:00:01\r\u001b[K     |▌                               | 20 kB 22.2 MB/s eta 0:00:01\r\u001b[K     |▉                               | 30 kB 15.6 MB/s eta 0:00:01\r\u001b[K     |█                               | 40 kB 13.8 MB/s eta 0:00:01\r\u001b[K     |█▍                              | 51 kB 7.7 MB/s eta 0:00:01\r\u001b[K     |█▋                              | 61 kB 8.8 MB/s eta 0:00:01\r\u001b[K     |██                              | 71 kB 7.3 MB/s eta 0:00:01\r\u001b[K     |██▏                             | 81 kB 8.0 MB/s eta 0:00:01\r\u001b[K     |██▍                             | 92 kB 8.8 MB/s eta 0:00:01\r\u001b[K     |██▊                             | 102 kB 8.6 MB/s eta 0:00:01\r\u001b[K     |███                             | 112 kB 8.6 MB/s eta 0:00:01\r\u001b[K     |███▎                            | 122 kB 8.6 MB/s eta 0:00:01\r\u001b[K     |███▌                            | 133 kB 8.6 MB/s eta 0:00:01\r\u001b[K     |███▉                            | 143 kB 8.6 MB/s eta 0:00:01\r\u001b[K     |████                            | 153 kB 8.6 MB/s eta 0:00:01\r\u001b[K     |████▎                           | 163 kB 8.6 MB/s eta 0:00:01\r\u001b[K     |████▋                           | 174 kB 8.6 MB/s eta 0:00:01\r\u001b[K     |████▉                           | 184 kB 8.6 MB/s eta 0:00:01\r\u001b[K     |█████▏                          | 194 kB 8.6 MB/s eta 0:00:01\r\u001b[K     |█████▍                          | 204 kB 8.6 MB/s eta 0:00:01\r\u001b[K     |█████▊                          | 215 kB 8.6 MB/s eta 0:00:01\r\u001b[K     |██████                          | 225 kB 8.6 MB/s eta 0:00:01\r\u001b[K     |██████▏                         | 235 kB 8.6 MB/s eta 0:00:01\r\u001b[K     |██████▌                         | 245 kB 8.6 MB/s eta 0:00:01\r\u001b[K     |██████▊                         | 256 kB 8.6 MB/s eta 0:00:01\r\u001b[K     |███████                         | 266 kB 8.6 MB/s eta 0:00:01\r\u001b[K     |███████▎                        | 276 kB 8.6 MB/s eta 0:00:01\r\u001b[K     |███████▋                        | 286 kB 8.6 MB/s eta 0:00:01\r\u001b[K     |███████▉                        | 296 kB 8.6 MB/s eta 0:00:01\r\u001b[K     |████████                        | 307 kB 8.6 MB/s eta 0:00:01\r\u001b[K     |████████▍                       | 317 kB 8.6 MB/s eta 0:00:01\r\u001b[K     |████████▋                       | 327 kB 8.6 MB/s eta 0:00:01\r\u001b[K     |█████████                       | 337 kB 8.6 MB/s eta 0:00:01\r\u001b[K     |█████████▏                      | 348 kB 8.6 MB/s eta 0:00:01\r\u001b[K     |█████████▌                      | 358 kB 8.6 MB/s eta 0:00:01\r\u001b[K     |█████████▊                      | 368 kB 8.6 MB/s eta 0:00:01\r\u001b[K     |██████████                      | 378 kB 8.6 MB/s eta 0:00:01\r\u001b[K     |██████████▎                     | 389 kB 8.6 MB/s eta 0:00:01\r\u001b[K     |██████████▌                     | 399 kB 8.6 MB/s eta 0:00:01\r\u001b[K     |██████████▉                     | 409 kB 8.6 MB/s eta 0:00:01\r\u001b[K     |███████████                     | 419 kB 8.6 MB/s eta 0:00:01\r\u001b[K     |███████████▍                    | 430 kB 8.6 MB/s eta 0:00:01\r\u001b[K     |███████████▋                    | 440 kB 8.6 MB/s eta 0:00:01\r\u001b[K     |███████████▉                    | 450 kB 8.6 MB/s eta 0:00:01\r\u001b[K     |████████████▏                   | 460 kB 8.6 MB/s eta 0:00:01\r\u001b[K     |████████████▍                   | 471 kB 8.6 MB/s eta 0:00:01\r\u001b[K     |████████████▊                   | 481 kB 8.6 MB/s eta 0:00:01\r\u001b[K     |█████████████                   | 491 kB 8.6 MB/s eta 0:00:01\r\u001b[K     |█████████████▎                  | 501 kB 8.6 MB/s eta 0:00:01\r\u001b[K     |█████████████▌                  | 512 kB 8.6 MB/s eta 0:00:01\r\u001b[K     |█████████████▊                  | 522 kB 8.6 MB/s eta 0:00:01\r\u001b[K     |██████████████                  | 532 kB 8.6 MB/s eta 0:00:01\r\u001b[K     |██████████████▎                 | 542 kB 8.6 MB/s eta 0:00:01\r\u001b[K     |██████████████▋                 | 552 kB 8.6 MB/s eta 0:00:01\r\u001b[K     |██████████████▉                 | 563 kB 8.6 MB/s eta 0:00:01\r\u001b[K     |███████████████▏                | 573 kB 8.6 MB/s eta 0:00:01\r\u001b[K     |███████████████▍                | 583 kB 8.6 MB/s eta 0:00:01\r\u001b[K     |███████████████▋                | 593 kB 8.6 MB/s eta 0:00:01\r\u001b[K     |████████████████                | 604 kB 8.6 MB/s eta 0:00:01\r\u001b[K     |████████████████▏               | 614 kB 8.6 MB/s eta 0:00:01\r\u001b[K     |████████████████▌               | 624 kB 8.6 MB/s eta 0:00:01\r\u001b[K     |████████████████▊               | 634 kB 8.6 MB/s eta 0:00:01\r\u001b[K     |█████████████████               | 645 kB 8.6 MB/s eta 0:00:01\r\u001b[K     |█████████████████▎              | 655 kB 8.6 MB/s eta 0:00:01\r\u001b[K     |█████████████████▌              | 665 kB 8.6 MB/s eta 0:00:01\r\u001b[K     |█████████████████▉              | 675 kB 8.6 MB/s eta 0:00:01\r\u001b[K     |██████████████████              | 686 kB 8.6 MB/s eta 0:00:01\r\u001b[K     |██████████████████▍             | 696 kB 8.6 MB/s eta 0:00:01\r\u001b[K     |██████████████████▋             | 706 kB 8.6 MB/s eta 0:00:01\r\u001b[K     |███████████████████             | 716 kB 8.6 MB/s eta 0:00:01\r\u001b[K     |███████████████████▏            | 727 kB 8.6 MB/s eta 0:00:01\r\u001b[K     |███████████████████▍            | 737 kB 8.6 MB/s eta 0:00:01\r\u001b[K     |███████████████████▊            | 747 kB 8.6 MB/s eta 0:00:01\r\u001b[K     |████████████████████            | 757 kB 8.6 MB/s eta 0:00:01\r\u001b[K     |████████████████████▎           | 768 kB 8.6 MB/s eta 0:00:01\r\u001b[K     |████████████████████▌           | 778 kB 8.6 MB/s eta 0:00:01\r\u001b[K     |████████████████████▉           | 788 kB 8.6 MB/s eta 0:00:01\r\u001b[K     |█████████████████████           | 798 kB 8.6 MB/s eta 0:00:01\r\u001b[K     |█████████████████████▎          | 808 kB 8.6 MB/s eta 0:00:01\r\u001b[K     |█████████████████████▋          | 819 kB 8.6 MB/s eta 0:00:01\r\u001b[K     |█████████████████████▉          | 829 kB 8.6 MB/s eta 0:00:01\r\u001b[K     |██████████████████████▏         | 839 kB 8.6 MB/s eta 0:00:01\r\u001b[K     |██████████████████████▍         | 849 kB 8.6 MB/s eta 0:00:01\r\u001b[K     |██████████████████████▊         | 860 kB 8.6 MB/s eta 0:00:01\r\u001b[K     |███████████████████████         | 870 kB 8.6 MB/s eta 0:00:01\r\u001b[K     |███████████████████████▏        | 880 kB 8.6 MB/s eta 0:00:01\r\u001b[K     |███████████████████████▌        | 890 kB 8.6 MB/s eta 0:00:01\r\u001b[K     |███████████████████████▊        | 901 kB 8.6 MB/s eta 0:00:01\r\u001b[K     |████████████████████████        | 911 kB 8.6 MB/s eta 0:00:01\r\u001b[K     |████████████████████████▎       | 921 kB 8.6 MB/s eta 0:00:01\r\u001b[K     |████████████████████████▋       | 931 kB 8.6 MB/s eta 0:00:01\r\u001b[K     |████████████████████████▉       | 942 kB 8.6 MB/s eta 0:00:01\r\u001b[K     |█████████████████████████       | 952 kB 8.6 MB/s eta 0:00:01\r\u001b[K     |█████████████████████████▍      | 962 kB 8.6 MB/s eta 0:00:01\r\u001b[K     |█████████████████████████▋      | 972 kB 8.6 MB/s eta 0:00:01\r\u001b[K     |██████████████████████████      | 983 kB 8.6 MB/s eta 0:00:01\r\u001b[K     |██████████████████████████▏     | 993 kB 8.6 MB/s eta 0:00:01\r\u001b[K     |██████████████████████████▌     | 1.0 MB 8.6 MB/s eta 0:00:01\r\u001b[K     |██████████████████████████▊     | 1.0 MB 8.6 MB/s eta 0:00:01\r\u001b[K     |███████████████████████████     | 1.0 MB 8.6 MB/s eta 0:00:01\r\u001b[K     |███████████████████████████▎    | 1.0 MB 8.6 MB/s eta 0:00:01\r\u001b[K     |███████████████████████████▌    | 1.0 MB 8.6 MB/s eta 0:00:01\r\u001b[K     |███████████████████████████▉    | 1.1 MB 8.6 MB/s eta 0:00:01\r\u001b[K     |████████████████████████████    | 1.1 MB 8.6 MB/s eta 0:00:01\r\u001b[K     |████████████████████████████▍   | 1.1 MB 8.6 MB/s eta 0:00:01\r\u001b[K     |████████████████████████████▋   | 1.1 MB 8.6 MB/s eta 0:00:01\r\u001b[K     |████████████████████████████▉   | 1.1 MB 8.6 MB/s eta 0:00:01\r\u001b[K     |█████████████████████████████▏  | 1.1 MB 8.6 MB/s eta 0:00:01\r\u001b[K     |█████████████████████████████▍  | 1.1 MB 8.6 MB/s eta 0:00:01\r\u001b[K     |█████████████████████████████▊  | 1.1 MB 8.6 MB/s eta 0:00:01\r\u001b[K     |██████████████████████████████  | 1.1 MB 8.6 MB/s eta 0:00:01\r\u001b[K     |██████████████████████████████▎ | 1.1 MB 8.6 MB/s eta 0:00:01\r\u001b[K     |██████████████████████████████▌ | 1.2 MB 8.6 MB/s eta 0:00:01\r\u001b[K     |██████████████████████████████▊ | 1.2 MB 8.6 MB/s eta 0:00:01\r\u001b[K     |███████████████████████████████ | 1.2 MB 8.6 MB/s eta 0:00:01\r\u001b[K     |███████████████████████████████▎| 1.2 MB 8.6 MB/s eta 0:00:01\r\u001b[K     |███████████████████████████████▋| 1.2 MB 8.6 MB/s eta 0:00:01\r\u001b[K     |███████████████████████████████▉| 1.2 MB 8.6 MB/s eta 0:00:01\r\u001b[K     |████████████████████████████████| 1.2 MB 8.6 MB/s \n",
            "\u001b[?25hInstalling collected packages: sentencepiece\n",
            "Successfully installed sentencepiece-0.1.96\n"
          ]
        }
      ]
    },
    {
      "cell_type": "markdown",
      "source": [
        "# Step 2. SentencePiece 모델 학습\n",
        "\n",
        "네이버 영화 리뷰 데이터를 이용하여 filtered_corpus를 먼저 제작하였습니다."
      ],
      "metadata": {
        "id": "sdfYwWEl-hP2"
      }
    },
    {
      "cell_type": "code",
      "source": [
        "import sentencepiece as spm\n",
        "import os\n",
        "import pandas as pd\n",
        "\n",
        "data_file = '/content/drive/MyDrive/GoingDeeper(NLP)/sp_tokenizer/data/ratings_train.txt'\n",
        "\n",
        "test_file = '/content/drive/MyDrive/GoingDeeper(NLP)/sp_tokenizer/data/ratings_test.txt'\n",
        "\n",
        "raw_data = pd.read_table(data_file)\n",
        "raw_data.head(30)"
      ],
      "metadata": {
        "colab": {
          "base_uri": "https://localhost:8080/",
          "height": 990
        },
        "id": "9WQ3v3Sb-8HE",
        "outputId": "082a9657-0fff-4a7e-b29a-af3c74f649a4"
      },
      "execution_count": null,
      "outputs": [
        {
          "output_type": "execute_result",
          "data": {
            "text/plain": [
              "          id                                           document  label\n",
              "0    9976970                                아 더빙.. 진짜 짜증나네요 목소리      0\n",
              "1    3819312                  흠...포스터보고 초딩영화줄....오버연기조차 가볍지 않구나      1\n",
              "2   10265843                                  너무재밓었다그래서보는것을추천한다      0\n",
              "3    9045019                      교도소 이야기구먼 ..솔직히 재미는 없다..평점 조정      0\n",
              "4    6483659  사이몬페그의 익살스런 연기가 돋보였던 영화!스파이더맨에서 늙어보이기만 했던 커스틴 ...      1\n",
              "5    5403919      막 걸음마 뗀 3세부터 초등학교 1학년생인 8살용영화.ㅋㅋㅋ...별반개도 아까움.      0\n",
              "6    7797314                              원작의 긴장감을 제대로 살려내지못했다.      0\n",
              "7    9443947  별 반개도 아깝다 욕나온다 이응경 길용우 연기생활이몇년인지..정말 발로해도 그것보단...      0\n",
              "8    7156791                             액션이 없는데도 재미 있는 몇안되는 영화      1\n",
              "9    5912145      왜케 평점이 낮은건데? 꽤 볼만한데.. 헐리우드식 화려함에만 너무 길들여져 있나?      1\n",
              "10   9008700                                   걍인피니트가짱이다.진짜짱이다♥      1\n",
              "11  10217543        볼때마다 눈물나서 죽겠다90년대의 향수자극!!허진호는 감성절제멜로의 달인이다~      1\n",
              "12   5957425                울면서 손들고 횡단보도 건널때 뛰쳐나올뻔 이범수 연기 드럽게못해      0\n",
              "13   8628627  담백하고 깔끔해서 좋다. 신문기사로만 보다 보면 자꾸 잊어버린다. 그들도 사람이었다...      1\n",
              "14   9864035  취향은 존중한다지만 진짜 내생에 극장에서 본 영화중 가장 노잼 노감동임 스토리도 어...      0\n",
              "15   6852435                                   ㄱ냥 매번 긴장되고 재밋음ㅠㅠ      1\n",
              "16   9143163  참 사람들 웃긴게 바스코가 이기면 락스코라고 까고바비가 이기면 아이돌이라고 깐다.그...      1\n",
              "17   4891476                 굿바이 레닌 표절인것은 이해하는데 왜 뒤로 갈수록 재미없어지냐      0\n",
              "18   7465483      이건 정말 깨알 캐스팅과 질퍽하지않은 산뜻한 내용구성이 잘 버무러진 깨알일드!!♥      1\n",
              "19   3989148                 약탈자를 위한 변명, 이라. 저놈들은 착한놈들 절대 아닌걸요.      1\n",
              "20   4581211          나름 심오한 뜻도 있는 듯. 그냥 학생이 선생과 놀아나는 영화는 절대 아님      1\n",
              "21   2718894                                  보면서 웃지 않는 건 불가능하다      1\n",
              "22   9705777  재미없다 지루하고. 같은 음식 영화인데도 바베트의 만찬하고 넘 차이남....바베트의...      0\n",
              "23    471131                       절대 평범한 영화가 아닌 수작이라는걸 말씀드립니다.      1\n",
              "24   8480268                                  주제는 좋은데 중반부터 지루하다      0\n",
              "25   4254115       다 짤랐을꺼야. 그래서 납득할 수 없었던거야.. 그럴꺼야.. 꼭 그랬던걸꺼야..      0\n",
              "26   7295746                                 kl2g 고추를 털어버려야 할텐데      1\n",
              "27   5457633                                           카밀라벨 발연기      0\n",
              "28   6091784                                               재밋는뎅      1\n",
              "29   8322926             센스있는 연출력..탁월한 캐스팅..90년대의 향수.. 그래서 9점..      1"
            ],
            "text/html": [
              "\n",
              "  <div id=\"df-d512ec04-dc7e-4a14-bd2a-b35fd3d7b136\">\n",
              "    <div class=\"colab-df-container\">\n",
              "      <div>\n",
              "<style scoped>\n",
              "    .dataframe tbody tr th:only-of-type {\n",
              "        vertical-align: middle;\n",
              "    }\n",
              "\n",
              "    .dataframe tbody tr th {\n",
              "        vertical-align: top;\n",
              "    }\n",
              "\n",
              "    .dataframe thead th {\n",
              "        text-align: right;\n",
              "    }\n",
              "</style>\n",
              "<table border=\"1\" class=\"dataframe\">\n",
              "  <thead>\n",
              "    <tr style=\"text-align: right;\">\n",
              "      <th></th>\n",
              "      <th>id</th>\n",
              "      <th>document</th>\n",
              "      <th>label</th>\n",
              "    </tr>\n",
              "  </thead>\n",
              "  <tbody>\n",
              "    <tr>\n",
              "      <th>0</th>\n",
              "      <td>9976970</td>\n",
              "      <td>아 더빙.. 진짜 짜증나네요 목소리</td>\n",
              "      <td>0</td>\n",
              "    </tr>\n",
              "    <tr>\n",
              "      <th>1</th>\n",
              "      <td>3819312</td>\n",
              "      <td>흠...포스터보고 초딩영화줄....오버연기조차 가볍지 않구나</td>\n",
              "      <td>1</td>\n",
              "    </tr>\n",
              "    <tr>\n",
              "      <th>2</th>\n",
              "      <td>10265843</td>\n",
              "      <td>너무재밓었다그래서보는것을추천한다</td>\n",
              "      <td>0</td>\n",
              "    </tr>\n",
              "    <tr>\n",
              "      <th>3</th>\n",
              "      <td>9045019</td>\n",
              "      <td>교도소 이야기구먼 ..솔직히 재미는 없다..평점 조정</td>\n",
              "      <td>0</td>\n",
              "    </tr>\n",
              "    <tr>\n",
              "      <th>4</th>\n",
              "      <td>6483659</td>\n",
              "      <td>사이몬페그의 익살스런 연기가 돋보였던 영화!스파이더맨에서 늙어보이기만 했던 커스틴 ...</td>\n",
              "      <td>1</td>\n",
              "    </tr>\n",
              "    <tr>\n",
              "      <th>5</th>\n",
              "      <td>5403919</td>\n",
              "      <td>막 걸음마 뗀 3세부터 초등학교 1학년생인 8살용영화.ㅋㅋㅋ...별반개도 아까움.</td>\n",
              "      <td>0</td>\n",
              "    </tr>\n",
              "    <tr>\n",
              "      <th>6</th>\n",
              "      <td>7797314</td>\n",
              "      <td>원작의 긴장감을 제대로 살려내지못했다.</td>\n",
              "      <td>0</td>\n",
              "    </tr>\n",
              "    <tr>\n",
              "      <th>7</th>\n",
              "      <td>9443947</td>\n",
              "      <td>별 반개도 아깝다 욕나온다 이응경 길용우 연기생활이몇년인지..정말 발로해도 그것보단...</td>\n",
              "      <td>0</td>\n",
              "    </tr>\n",
              "    <tr>\n",
              "      <th>8</th>\n",
              "      <td>7156791</td>\n",
              "      <td>액션이 없는데도 재미 있는 몇안되는 영화</td>\n",
              "      <td>1</td>\n",
              "    </tr>\n",
              "    <tr>\n",
              "      <th>9</th>\n",
              "      <td>5912145</td>\n",
              "      <td>왜케 평점이 낮은건데? 꽤 볼만한데.. 헐리우드식 화려함에만 너무 길들여져 있나?</td>\n",
              "      <td>1</td>\n",
              "    </tr>\n",
              "    <tr>\n",
              "      <th>10</th>\n",
              "      <td>9008700</td>\n",
              "      <td>걍인피니트가짱이다.진짜짱이다♥</td>\n",
              "      <td>1</td>\n",
              "    </tr>\n",
              "    <tr>\n",
              "      <th>11</th>\n",
              "      <td>10217543</td>\n",
              "      <td>볼때마다 눈물나서 죽겠다90년대의 향수자극!!허진호는 감성절제멜로의 달인이다~</td>\n",
              "      <td>1</td>\n",
              "    </tr>\n",
              "    <tr>\n",
              "      <th>12</th>\n",
              "      <td>5957425</td>\n",
              "      <td>울면서 손들고 횡단보도 건널때 뛰쳐나올뻔 이범수 연기 드럽게못해</td>\n",
              "      <td>0</td>\n",
              "    </tr>\n",
              "    <tr>\n",
              "      <th>13</th>\n",
              "      <td>8628627</td>\n",
              "      <td>담백하고 깔끔해서 좋다. 신문기사로만 보다 보면 자꾸 잊어버린다. 그들도 사람이었다...</td>\n",
              "      <td>1</td>\n",
              "    </tr>\n",
              "    <tr>\n",
              "      <th>14</th>\n",
              "      <td>9864035</td>\n",
              "      <td>취향은 존중한다지만 진짜 내생에 극장에서 본 영화중 가장 노잼 노감동임 스토리도 어...</td>\n",
              "      <td>0</td>\n",
              "    </tr>\n",
              "    <tr>\n",
              "      <th>15</th>\n",
              "      <td>6852435</td>\n",
              "      <td>ㄱ냥 매번 긴장되고 재밋음ㅠㅠ</td>\n",
              "      <td>1</td>\n",
              "    </tr>\n",
              "    <tr>\n",
              "      <th>16</th>\n",
              "      <td>9143163</td>\n",
              "      <td>참 사람들 웃긴게 바스코가 이기면 락스코라고 까고바비가 이기면 아이돌이라고 깐다.그...</td>\n",
              "      <td>1</td>\n",
              "    </tr>\n",
              "    <tr>\n",
              "      <th>17</th>\n",
              "      <td>4891476</td>\n",
              "      <td>굿바이 레닌 표절인것은 이해하는데 왜 뒤로 갈수록 재미없어지냐</td>\n",
              "      <td>0</td>\n",
              "    </tr>\n",
              "    <tr>\n",
              "      <th>18</th>\n",
              "      <td>7465483</td>\n",
              "      <td>이건 정말 깨알 캐스팅과 질퍽하지않은 산뜻한 내용구성이 잘 버무러진 깨알일드!!♥</td>\n",
              "      <td>1</td>\n",
              "    </tr>\n",
              "    <tr>\n",
              "      <th>19</th>\n",
              "      <td>3989148</td>\n",
              "      <td>약탈자를 위한 변명, 이라. 저놈들은 착한놈들 절대 아닌걸요.</td>\n",
              "      <td>1</td>\n",
              "    </tr>\n",
              "    <tr>\n",
              "      <th>20</th>\n",
              "      <td>4581211</td>\n",
              "      <td>나름 심오한 뜻도 있는 듯. 그냥 학생이 선생과 놀아나는 영화는 절대 아님</td>\n",
              "      <td>1</td>\n",
              "    </tr>\n",
              "    <tr>\n",
              "      <th>21</th>\n",
              "      <td>2718894</td>\n",
              "      <td>보면서 웃지 않는 건 불가능하다</td>\n",
              "      <td>1</td>\n",
              "    </tr>\n",
              "    <tr>\n",
              "      <th>22</th>\n",
              "      <td>9705777</td>\n",
              "      <td>재미없다 지루하고. 같은 음식 영화인데도 바베트의 만찬하고 넘 차이남....바베트의...</td>\n",
              "      <td>0</td>\n",
              "    </tr>\n",
              "    <tr>\n",
              "      <th>23</th>\n",
              "      <td>471131</td>\n",
              "      <td>절대 평범한 영화가 아닌 수작이라는걸 말씀드립니다.</td>\n",
              "      <td>1</td>\n",
              "    </tr>\n",
              "    <tr>\n",
              "      <th>24</th>\n",
              "      <td>8480268</td>\n",
              "      <td>주제는 좋은데 중반부터 지루하다</td>\n",
              "      <td>0</td>\n",
              "    </tr>\n",
              "    <tr>\n",
              "      <th>25</th>\n",
              "      <td>4254115</td>\n",
              "      <td>다 짤랐을꺼야. 그래서 납득할 수 없었던거야.. 그럴꺼야.. 꼭 그랬던걸꺼야..</td>\n",
              "      <td>0</td>\n",
              "    </tr>\n",
              "    <tr>\n",
              "      <th>26</th>\n",
              "      <td>7295746</td>\n",
              "      <td>kl2g 고추를 털어버려야 할텐데</td>\n",
              "      <td>1</td>\n",
              "    </tr>\n",
              "    <tr>\n",
              "      <th>27</th>\n",
              "      <td>5457633</td>\n",
              "      <td>카밀라벨 발연기</td>\n",
              "      <td>0</td>\n",
              "    </tr>\n",
              "    <tr>\n",
              "      <th>28</th>\n",
              "      <td>6091784</td>\n",
              "      <td>재밋는뎅</td>\n",
              "      <td>1</td>\n",
              "    </tr>\n",
              "    <tr>\n",
              "      <th>29</th>\n",
              "      <td>8322926</td>\n",
              "      <td>센스있는 연출력..탁월한 캐스팅..90년대의 향수.. 그래서 9점..</td>\n",
              "      <td>1</td>\n",
              "    </tr>\n",
              "  </tbody>\n",
              "</table>\n",
              "</div>\n",
              "      <button class=\"colab-df-convert\" onclick=\"convertToInteractive('df-d512ec04-dc7e-4a14-bd2a-b35fd3d7b136')\"\n",
              "              title=\"Convert this dataframe to an interactive table.\"\n",
              "              style=\"display:none;\">\n",
              "        \n",
              "  <svg xmlns=\"http://www.w3.org/2000/svg\" height=\"24px\"viewBox=\"0 0 24 24\"\n",
              "       width=\"24px\">\n",
              "    <path d=\"M0 0h24v24H0V0z\" fill=\"none\"/>\n",
              "    <path d=\"M18.56 5.44l.94 2.06.94-2.06 2.06-.94-2.06-.94-.94-2.06-.94 2.06-2.06.94zm-11 1L8.5 8.5l.94-2.06 2.06-.94-2.06-.94L8.5 2.5l-.94 2.06-2.06.94zm10 10l.94 2.06.94-2.06 2.06-.94-2.06-.94-.94-2.06-.94 2.06-2.06.94z\"/><path d=\"M17.41 7.96l-1.37-1.37c-.4-.4-.92-.59-1.43-.59-.52 0-1.04.2-1.43.59L10.3 9.45l-7.72 7.72c-.78.78-.78 2.05 0 2.83L4 21.41c.39.39.9.59 1.41.59.51 0 1.02-.2 1.41-.59l7.78-7.78 2.81-2.81c.8-.78.8-2.07 0-2.86zM5.41 20L4 18.59l7.72-7.72 1.47 1.35L5.41 20z\"/>\n",
              "  </svg>\n",
              "      </button>\n",
              "      \n",
              "  <style>\n",
              "    .colab-df-container {\n",
              "      display:flex;\n",
              "      flex-wrap:wrap;\n",
              "      gap: 12px;\n",
              "    }\n",
              "\n",
              "    .colab-df-convert {\n",
              "      background-color: #E8F0FE;\n",
              "      border: none;\n",
              "      border-radius: 50%;\n",
              "      cursor: pointer;\n",
              "      display: none;\n",
              "      fill: #1967D2;\n",
              "      height: 32px;\n",
              "      padding: 0 0 0 0;\n",
              "      width: 32px;\n",
              "    }\n",
              "\n",
              "    .colab-df-convert:hover {\n",
              "      background-color: #E2EBFA;\n",
              "      box-shadow: 0px 1px 2px rgba(60, 64, 67, 0.3), 0px 1px 3px 1px rgba(60, 64, 67, 0.15);\n",
              "      fill: #174EA6;\n",
              "    }\n",
              "\n",
              "    [theme=dark] .colab-df-convert {\n",
              "      background-color: #3B4455;\n",
              "      fill: #D2E3FC;\n",
              "    }\n",
              "\n",
              "    [theme=dark] .colab-df-convert:hover {\n",
              "      background-color: #434B5C;\n",
              "      box-shadow: 0px 1px 3px 1px rgba(0, 0, 0, 0.15);\n",
              "      filter: drop-shadow(0px 1px 2px rgba(0, 0, 0, 0.3));\n",
              "      fill: #FFFFFF;\n",
              "    }\n",
              "  </style>\n",
              "\n",
              "      <script>\n",
              "        const buttonEl =\n",
              "          document.querySelector('#df-d512ec04-dc7e-4a14-bd2a-b35fd3d7b136 button.colab-df-convert');\n",
              "        buttonEl.style.display =\n",
              "          google.colab.kernel.accessAllowed ? 'block' : 'none';\n",
              "\n",
              "        async function convertToInteractive(key) {\n",
              "          const element = document.querySelector('#df-d512ec04-dc7e-4a14-bd2a-b35fd3d7b136');\n",
              "          const dataTable =\n",
              "            await google.colab.kernel.invokeFunction('convertToInteractive',\n",
              "                                                     [key], {});\n",
              "          if (!dataTable) return;\n",
              "\n",
              "          const docLinkHtml = 'Like what you see? Visit the ' +\n",
              "            '<a target=\"_blank\" href=https://colab.research.google.com/notebooks/data_table.ipynb>data table notebook</a>'\n",
              "            + ' to learn more about interactive tables.';\n",
              "          element.innerHTML = '';\n",
              "          dataTable['output_type'] = 'display_data';\n",
              "          await google.colab.output.renderOutput(dataTable, element);\n",
              "          const docLink = document.createElement('div');\n",
              "          docLink.innerHTML = docLinkHtml;\n",
              "          element.appendChild(docLink);\n",
              "        }\n",
              "      </script>\n",
              "    </div>\n",
              "  </div>\n",
              "  "
            ]
          },
          "metadata": {},
          "execution_count": 14
        }
      ]
    },
    {
      "cell_type": "markdown",
      "source": [
        "# 데이터 전처리를 먼저 해주었습니다.\n",
        "\n",
        "1. 한글 맞춤법 검사기 사용 \n",
        "2. 중복된 데이터 제거, 너무 긴 혹은 짧은 데이터 삭제를 통한 데이터 정제\n",
        "\n",
        "### 1. 한글 맞춤법 검사기 사용"
      ],
      "metadata": {
        "id": "maoqF04dRqlb"
      }
    },
    {
      "cell_type": "code",
      "source": [
        "!pip install git+https://github.com/ssut/py-hanspell.git"
      ],
      "metadata": {
        "id": "_hqEmRJ2-8dP",
        "colab": {
          "base_uri": "https://localhost:8080/"
        },
        "outputId": "c8b498c1-b915-421b-abb6-78abc51a3da5"
      },
      "execution_count": null,
      "outputs": [
        {
          "output_type": "stream",
          "name": "stdout",
          "text": [
            "Collecting git+https://github.com/ssut/py-hanspell.git\n",
            "  Cloning https://github.com/ssut/py-hanspell.git to /tmp/pip-req-build-0e1vhh0o\n",
            "  Running command git clone -q https://github.com/ssut/py-hanspell.git /tmp/pip-req-build-0e1vhh0o\n",
            "Requirement already satisfied: requests in /usr/local/lib/python3.7/dist-packages (from py-hanspell==1.1) (2.23.0)\n",
            "Requirement already satisfied: idna<3,>=2.5 in /usr/local/lib/python3.7/dist-packages (from requests->py-hanspell==1.1) (2.10)\n",
            "Requirement already satisfied: certifi>=2017.4.17 in /usr/local/lib/python3.7/dist-packages (from requests->py-hanspell==1.1) (2021.10.8)\n",
            "Requirement already satisfied: urllib3!=1.25.0,!=1.25.1,<1.26,>=1.21.1 in /usr/local/lib/python3.7/dist-packages (from requests->py-hanspell==1.1) (1.24.3)\n",
            "Requirement already satisfied: chardet<4,>=3.0.2 in /usr/local/lib/python3.7/dist-packages (from requests->py-hanspell==1.1) (3.0.4)\n",
            "Building wheels for collected packages: py-hanspell\n",
            "  Building wheel for py-hanspell (setup.py) ... \u001b[?25l\u001b[?25hdone\n",
            "  Created wheel for py-hanspell: filename=py_hanspell-1.1-py3-none-any.whl size=4868 sha256=12088490df9676c169c07a673f1e95842949950e8c6971c8bf23b20d66540989\n",
            "  Stored in directory: /tmp/pip-ephem-wheel-cache-fjawja9p/wheels/ab/f5/7b/d4124bb329c905301baed80e2ae45aa14e824f62ebc3ec2cc4\n",
            "Successfully built py-hanspell\n",
            "Installing collected packages: py-hanspell\n",
            "Successfully installed py-hanspell-1.1\n"
          ]
        }
      ]
    },
    {
      "cell_type": "code",
      "source": [
        "from hanspell import spell_checker\n",
        "\n",
        "sent = \"맞춤법 틀리면 외 않되? 쓰고싶은대로쓰면돼지 \"\n",
        "spelled_sent = spell_checker.check(sent)\n",
        "\n",
        "hanspell_sent = spelled_sent.checked\n",
        "print(hanspell_sent)"
      ],
      "metadata": {
        "id": "INmP99rR-8kO",
        "colab": {
          "base_uri": "https://localhost:8080/"
        },
        "outputId": "90d9e802-5c60-42c2-d08e-06fa1bef7f32"
      },
      "execution_count": null,
      "outputs": [
        {
          "output_type": "stream",
          "name": "stdout",
          "text": [
            "맞춤법 틀리면 왜 안돼? 쓰고 싶은 대로 쓰면 되지\n"
          ]
        }
      ]
    },
    {
      "cell_type": "markdown",
      "source": [
        "위 블록이 제대로 동작하는 것을 확인하고 raw_data 전체를 한글 맞춤법을 수정해주었습니다.\n",
        "\n",
        "> Not well-formed (invalid token): line 1, column 96 에러가 발생하였으나, 해결하지 못해서 try-except로 구문을 감싸고 예외 처리발생시 그냥 그 문장을 무시하도록 진행하였습니다."
      ],
      "metadata": {
        "id": "haiwqkqcSLUl"
      }
    },
    {
      "cell_type": "code",
      "source": [
        "corrected_data = raw_data['document']"
      ],
      "metadata": {
        "id": "pchssiBASOk0"
      },
      "execution_count": null,
      "outputs": []
    },
    {
      "cell_type": "code",
      "source": [
        "try:\n",
        "  for idx in range(len(corrected_data)):\n",
        "    spelled_sent = spell_checker.check(corrected_data[idx])\n",
        "    hanspell_sent = spelled_sent.checked  \n",
        "\n",
        "    corrected_data.iloc[idx] = hanspell_sent\n",
        "    \n",
        "    # 제대로 되고있는지 확인하기 위하여 중간중간 뽑아봄.\n",
        "    if idx % 100 == 0:\n",
        "      print(idx, hanspell_sent)\n",
        "except Exception:\n",
        "  pass      "
      ],
      "metadata": {
        "id": "KywT491B-8nx",
        "colab": {
          "base_uri": "https://localhost:8080/"
        },
        "outputId": "7ffef6de-23de-4c21-9c76-e03dca288ae5"
      },
      "execution_count": null,
      "outputs": [
        {
          "output_type": "stream",
          "name": "stdout",
          "text": [
            "0 아 더빙.. 진짜 짜증 나네요 목소리\n"
          ]
        },
        {
          "output_type": "stream",
          "name": "stderr",
          "text": [
            "/usr/local/lib/python3.7/dist-packages/pandas/core/indexing.py:1732: SettingWithCopyWarning: \n",
            "A value is trying to be set on a copy of a slice from a DataFrame\n",
            "\n",
            "See the caveats in the documentation: https://pandas.pydata.org/pandas-docs/stable/user_guide/indexing.html#returning-a-view-versus-a-copy\n",
            "  self._setitem_single_block(indexer, value, name)\n"
          ]
        },
        {
          "output_type": "stream",
          "name": "stdout",
          "text": [
            "100 신카이 마코토의 작화와, 미유와 하나하나가 연기를 잘해줘서 더대 박이었다.\n",
            "200 TV용 건담 시리즈 중에서 아직까지도 최고봉\n",
            "300 일본 영화 수입 금지 시절에도 비디오테이프로 돌려봤던 불후의 명작 아 그립다\n",
            "400 좀 검증된 애들 좀 출현시켜라 이탈리아 특집 장난하냐\n",
            "500 나 이거 보고 인형 절대 안 삽\n",
            "600 수많은 최루성 멜로는 여기에서...\n",
            "700 음악영화라 나에겐 취향 저격이지만... 비긴 어게인처럼 대중적으로 흥행하긴 힘들 영화네요.. 하지만 여주가 너무 매력적이에요 ㅎㅎ\n",
            "800 제발 전문 성우를 써주세요 ㅠㅠ\n",
            "900 유튜브 동영상을 돈 내고 보는 게 낫다는 생각이 들게 한 영화\n",
            "1000 정말 최고의 명작 성인이 되고 본 이집트의 왕자는 또 다른 감동 그 자체네요\n",
            "1100 반지의 제왕\n",
            "1200 특수효과 없이도 관객을 납득시키던 능력.\n",
            "1300 3분 2가 화면이 검하고 결말도 백이고 뭔 소리인 모르겠고 ㅡㅡ\n",
            "1400 노 답이다 진짜....\n",
            "1500 스파이더맨을 가장 좋아하는 1人~ 스파이더맨 정말 사랑합니다. 영원했으면 좋겠네요!!\n",
            "1600 괜히 봤다\n",
            "1700 10년 전에 봤던 영화인데도 귀 자르는 장면은 기억에 남아있는 영화\n",
            "1800 정말 괜찮은 영화. 행복이 묻어나는 ^^\n",
            "1900 처음엔 정신이 피폐해진 것 같아 불쾌했다. 막연히 걱정하지만 넘겨버릴법한 범죄 상황을 실감 나고 섬세하게 묘사한 감독이 대단하다... 박진감은 넘치지만 억지 상황이 난무해 문단속의 중요성을 잊게 한 불사 여인의 비현실 영화 '숨바꼭질'이 문득 생각난다.\n",
            "2000 최최최최악악악악 !!!!\n",
            "2100 한번 보면 빠져들어버리는... 재미있는 사신 드라마.\n",
            "2200 정윤희 씨 정말 아름답다는 말이 모자라네요.. 살아있는 인형이다..\n",
            "2300 짠하네요\n",
            "2400 정준용 씨 연기 너무 멋져요!!!\n",
            "2500 몰입도 쩔어요 정재영 씨를 드라마에서 볼 수 있어서 좋아요\n",
            "2600 주윤발이 이런 흐접 영화에 출연했던 게 당시에 참 안타깝더라는\n",
            "2700 맨땅에 시청률\n",
            "2800 에라... 정신만 혼란스럽고, 엄 사장, 김진수... 억지 연기하는 거 정말 짜증 난다.\n",
            "2900 \"중국 ( 홍콩 ) 작품에서 가장 여운이 남는 작품! 개인적으로 \"\" 천녀유혼, 이상\"\n",
            "3000 완전 재미있음 추천 ㅠㅠ♥ 생텀 파이팅!!! ♥\n"
          ]
        }
      ]
    },
    {
      "cell_type": "code",
      "source": [
        "raw_data['document'] = corrected_data\n",
        "del corrected_data"
      ],
      "metadata": {
        "id": "VaBTa8-q-8z0"
      },
      "execution_count": null,
      "outputs": []
    },
    {
      "cell_type": "code",
      "source": [
        ""
      ],
      "metadata": {
        "id": "JmOrtQonELGc"
      },
      "execution_count": null,
      "outputs": []
    },
    {
      "cell_type": "markdown",
      "source": [
        "### 2. 중복된 데이터 제거, 너무 긴 혹은 짧은 데이터 삭제를 통한 데이터 정제"
      ],
      "metadata": {
        "id": "JKi9Gzf9Waz_"
      }
    },
    {
      "cell_type": "code",
      "source": [
        "#리뷰 전체길이 확인\n",
        "train_length = raw_data['document'].astype(str).apply(len)\n",
        "train_length.head()"
      ],
      "metadata": {
        "id": "JmRwTVJR-82n",
        "colab": {
          "base_uri": "https://localhost:8080/"
        },
        "outputId": "8563b5b1-663b-4f19-8eb8-05d9371d8acd"
      },
      "execution_count": null,
      "outputs": [
        {
          "output_type": "execute_result",
          "data": {
            "text/plain": [
              "0    20\n",
              "1    40\n",
              "2    17\n",
              "3    31\n",
              "4    66\n",
              "Name: document, dtype: int64"
            ]
          },
          "metadata": {},
          "execution_count": 20
        }
      ]
    },
    {
      "cell_type": "markdown",
      "source": [
        ""
      ],
      "metadata": {
        "id": "VvIGKj_zWost"
      }
    },
    {
      "cell_type": "code",
      "source": [
        "#리뷰 통계 정보\n",
        "print('리뷰 길이 최댓값: {}'.format(np.max(train_length)))\n",
        "print('리뷰 길이 최솟값: {}'.format(np.min(train_length)))\n",
        "print('리뷰 길이 평균값: {:.2f}'.format(np.mean(train_length)))\n",
        "print('리뷰 길이 표준편차: {:.2f}'.format(np.std(train_length)))\n",
        "print('리뷰 길이 중간값: {}'.format(np.median(train_length)))\n",
        "print('리뷰 길이 제1사분위: {}'.format(np.percentile(train_length,25)))\n",
        "print('리뷰 길이 제3사분위: {}'.format(np.percentile(train_length,75)))"
      ],
      "metadata": {
        "id": "CXH-DVy9-88e",
        "colab": {
          "base_uri": "https://localhost:8080/"
        },
        "outputId": "29a991be-9a2a-4dd3-9454-3249d7de7d91"
      },
      "execution_count": null,
      "outputs": [
        {
          "output_type": "stream",
          "name": "stdout",
          "text": [
            "리뷰 길이 최댓값: 171\n",
            "리뷰 길이 최솟값: 1\n",
            "리뷰 길이 평균값: 35.24\n",
            "리뷰 길이 표준편차: 29.57\n",
            "리뷰 길이 중간값: 27.0\n",
            "리뷰 길이 제1사분위: 16.0\n",
            "리뷰 길이 제3사분위: 43.0\n"
          ]
        }
      ]
    },
    {
      "cell_type": "markdown",
      "source": [
        ""
      ],
      "metadata": {
        "id": "eTXkAReVdU9g"
      }
    },
    {
      "cell_type": "markdown",
      "source": [
        "### nan값 제거 및 중복 값 제거"
      ],
      "metadata": {
        "id": "k_Y4ouIfc-uZ"
      }
    },
    {
      "cell_type": "code",
      "source": [
        "raw_data = raw_data.dropna()"
      ],
      "metadata": {
        "id": "Tq3s9MjvddjE"
      },
      "execution_count": null,
      "outputs": []
    },
    {
      "cell_type": "code",
      "source": [
        "raw_data = raw_data.drop_duplicates('document')"
      ],
      "metadata": {
        "id": "jAgFnVKAdjVl"
      },
      "execution_count": null,
      "outputs": []
    },
    {
      "cell_type": "markdown",
      "source": [
        "### 문장 길이 분포 확인하기"
      ],
      "metadata": {
        "id": "aDSM9JfkdE1d"
      }
    },
    {
      "cell_type": "code",
      "source": [
        "min_len = 999\n",
        "max_len = 0\n",
        "sum_len = 0\n",
        "\n",
        "for sen in raw_data['document']:\n",
        "  length = len(sen)\n",
        "  if min_len > length: min_len = length\n",
        "  if max_len < length: max_len = length\n",
        "  sum_len += length\n",
        "\n",
        "print(\"문장의 최단 길이:\", min_len)\n",
        "print(\"문장의 최장 길이:\", max_len)\n",
        "print(\"문장의 평균 길이:\", sum_len // len( raw_data['document']))\n",
        "\n",
        "sentence_length = np.zeros((max_len), dtype=np.int)\n",
        "\n",
        "for sen in  raw_data['document']:\n",
        "  sentence_length[len(sen)-1] += 1\n",
        "\n",
        "plt.pyplot.bar(range(max_len), sentence_length, width=1.0)\n",
        "plt.pyplot.title(\"Sentence Length Distribution\")\n",
        "plt.pyplot.show()"
      ],
      "metadata": {
        "id": "rEWAE_bp-8_l",
        "colab": {
          "base_uri": "https://localhost:8080/",
          "height": 411
        },
        "outputId": "499711ad-51cc-4a62-d1a9-cbf7a53b567b"
      },
      "execution_count": null,
      "outputs": [
        {
          "output_type": "stream",
          "name": "stdout",
          "text": [
            "문장의 최단 길이: 1\n",
            "문장의 최장 길이: 171\n",
            "문장의 평균 길이: 36\n"
          ]
        },
        {
          "output_type": "stream",
          "name": "stderr",
          "text": [
            "/usr/local/lib/python3.7/dist-packages/ipykernel_launcher.py:15: DeprecationWarning: `np.int` is a deprecated alias for the builtin `int`. To silence this warning, use `int` by itself. Doing this will not modify any behavior and is safe. When replacing `np.int`, you may wish to use e.g. `np.int64` or `np.int32` to specify the precision. If you wish to review your current use, check the release note link for additional information.\n",
            "Deprecated in NumPy 1.20; for more details and guidance: https://numpy.org/devdocs/release/1.20.0-notes.html#deprecations\n",
            "  from ipykernel import kernelapp as app\n"
          ]
        },
        {
          "output_type": "display_data",
          "data": {
            "text/plain": [
              "<Figure size 432x288 with 1 Axes>"
            ],
            "image/png": "[encoded data removed]"
          },
          "metadata": {
            "needs_background": "light"
          }
        }
      ]
    },
    {
      "cell_type": "markdown",
      "source": [
        "### 기존의 check_sentence_with_length는 길이가 1인 corpus만 출력해주기 때문에 raw_data를 입력으로 정답라벨과 corpus를 같이 뽑아주도록 수정했습니다."
      ],
      "metadata": {
        "id": "xEbAC9F_doxT"
      }
    },
    {
      "cell_type": "code",
      "source": [
        "def check_sentence_with_length(raw_data, length):\n",
        "    count = 0\n",
        "    \n",
        "    for index in raw_data.index:\n",
        "        if len(raw_data['document'][index]) == length:\n",
        "            print(raw_data['label'][index], raw_data['document'][index])\n",
        "            count += 1\n",
        "            if count > 100: return"
      ],
      "metadata": {
        "id": "ojrGWYLYanoG"
      },
      "execution_count": null,
      "outputs": []
    },
    {
      "cell_type": "code",
      "source": [
        "check_sentence_with_length(raw_data, 1)"
      ],
      "metadata": {
        "colab": {
          "base_uri": "https://localhost:8080/"
        },
        "id": "_-UoqomljMCE",
        "outputId": "ca27a792-ed37-4ca9-abff-f3ffbea0e6db"
      },
      "execution_count": null,
      "outputs": [
        {
          "output_type": "stream",
          "name": "stdout",
          "text": [
            "0 아\n",
            "1 잼\n",
            "0 1\n",
            "0 4\n",
            "0 영\n",
            "1 굿\n",
            "1 짱\n",
            "1 휴\n",
            "1 .\n",
            "1 음\n",
            "1 ?\n",
            "1 ㅎ\n",
            "1 ㅋ\n",
            "0 즐\n",
            "1 ♥\n",
            "1 굳\n",
            "1 네\n",
            "0 ㅇ\n",
            "1 k\n",
            "1 ㅠ\n",
            "0 쒯\n",
            "1 ♬\n",
            "1 토\n",
            "1 O\n",
            "0 똥\n",
            "0 z\n",
            "0 헐\n",
            "0 삼\n",
            "0 꽝\n",
            "1 !\n",
            "0 풉\n",
            "0 ㅅ\n",
            "0 왜\n",
            "1 ㄴ\n",
            "0 쉣\n",
            "1 봐\n",
            "1 뿌\n",
            "0 ㅜ\n",
            "1 ♡\n",
            "1 ㅁ\n",
            "0 0\n",
            "0 ㅉ\n",
            "1 d\n",
            "0 흥\n",
            "1 乃\n",
            "1 찜\n",
            "1 귯\n",
            "1 린\n",
            "1 시\n",
            "0 ㅗ\n",
            "1 a\n",
            "0 c\n",
            "0 흠\n",
            "1 웅\n",
            "1 ㅣ\n",
            "0 오\n",
            "1 9\n",
            "1 쩜\n",
            "1 애\n",
            "0 헝\n",
            "1 쨩\n",
            "1 f\n",
            "1 움\n",
            "1 ㄳ\n",
            "1 업\n",
            "0 헉\n",
            "1 군\n",
            "0 b\n",
            "1 ;\n",
            "1 g\n",
            "1 올\n",
            "0 걍\n",
            "0 허\n",
            "1 -\n",
            "0 쀍\n",
            "0 로\n",
            "0 ㄹ\n",
            "1 ㅂ\n",
            "1 갑\n",
            "0 즛\n",
            "0 킥\n",
            "0 함\n",
            "0 진\n",
            "0 ㅡ\n",
            "0 잠\n",
            "0 곧\n",
            "1 ㅍ\n",
            "0 h\n",
            "1 ·\n",
            "1 캬\n",
            "1 ㅆ\n",
            "1 ,\n",
            "0 풋\n",
            "0 ㄱ\n",
            "0 파\n",
            "0 ㄷ\n",
            "0 웩\n",
            "0 꺅\n",
            "0 욜\n",
            "0 ㅄ\n",
            "0 2\n"
          ]
        }
      ]
    },
    {
      "cell_type": "code",
      "source": [
        "check_sentence_with_length(raw_data, 2)"
      ],
      "metadata": {
        "colab": {
          "base_uri": "https://localhost:8080/"
        },
        "id": "o5907oOAanmR",
        "outputId": "9abb93c9-aa86-414f-947f-b8b715f8e4a0"
      },
      "execution_count": null,
      "outputs": [
        {
          "output_type": "stream",
          "name": "stdout",
          "text": [
            "0 최고\n",
            "0 졸작\n",
            "1 대박\n",
            "0 버려\n",
            "0 망함\n",
            "1 굳굳\n",
            "0 안습\n",
            "0 망작\n",
            "1 굿!\n",
            "0 별로\n",
            "1 신나\n",
            "0 쓰래\n",
            "0 볼만\n",
            "0 허접\n",
            "0 비추\n",
            "1 좋다\n",
            "1 ㅎㅎ\n",
            "0 아나\n",
            "0 ㅉㅉ\n",
            "0 야.\n",
            "1 역시\n",
            "1 ^^\n",
            "1 오오\n",
            "0 평이\n",
            "0 지루\n",
            "0 오욈\n",
            "0 ㅋㅋ\n",
            "0 지송\n",
            "1 눈물\n",
            "1 당연\n",
            "1 쩔어\n",
            "0 별노\n",
            "1 몰입\n",
            "1 졸잼\n",
            "1 쵝오\n",
            "1 돋네\n",
            "0 오글\n",
            "1 이응\n",
            "0 첨봄\n",
            "0 최악\n",
            "1 잼씀\n",
            "0 ok\n",
            "1 유후\n",
            "0 별루\n",
            "1 감동\n",
            "1 gg\n",
            "0 ;;\n",
            "1 조앙\n",
            "0 1점\n",
            "0 표절\n",
            "1 명작\n",
            "0 으휴\n",
            "0 에효\n",
            "1 ㄱ굿\n",
            "1 굿잡\n",
            "1 잼나\n",
            "1 10\n",
            "1 ㅜㅜ\n",
            "1 우왕\n",
            "0 거지\n",
            "1 굿굿\n",
            "1 좋음\n",
            "0 실망\n",
            "0 굿.\n",
            "1 ㅇㅇ\n",
            "0 애이\n",
            "1 짱임\n",
            "1 전설\n",
            "0 mm\n",
            "1 와우\n",
            "0 등록\n",
            "0 하위\n",
            "0 그닥\n",
            "1 뭉클\n",
            "0 삼류\n",
            "0 HN\n",
            "1 윤하\n",
            "1 섹시\n",
            "1 실화\n",
            "0 머냐\n",
            "1 수작\n",
            "1 꿀잼\n",
            "0 동감\n",
            "1 dd\n",
            "1 굳ㅋ\n",
            "1 굳!\n",
            "1 추천\n",
            "1 좋아\n",
            "0 55\n",
            "0 안봐\n",
            "1 개쩜\n",
            "1 올레\n",
            "0 난해\n",
            "0 ㅠㅠ\n",
            "0 뭐니\n",
            "0 ㅁㅁ\n",
            "0 뭥미\n",
            "0 쓰랙\n",
            "0 좇~\n",
            "1 오우\n",
            "0 미안\n"
          ]
        }
      ]
    },
    {
      "cell_type": "code",
      "source": [
        "check_sentence_with_length(raw_data, 3)"
      ],
      "metadata": {
        "colab": {
          "base_uri": "https://localhost:8080/"
        },
        "id": "vD7lO_BTkTQJ",
        "outputId": "c0ecdd65-1631-4d52-b464-db2ce833a354"
      },
      "execution_count": null,
      "outputs": [
        {
          "output_type": "stream",
          "name": "stdout",
          "text": [
            "1 좋구나\n",
            "1 10점\n",
            "1 처ㅝ주\n",
            "0 솔직히\n",
            "1 4대강\n",
            "1 재밌다\n",
            "1 재밌군\n",
            "1 좋았다\n",
            "1 볼만함\n",
            "1 b b\n",
            "1 dsa\n",
            "1 웃소!\n",
            "1 ♥♥♥\n",
            "1 재밌네\n",
            "1 최고다\n",
            "1 재밌음\n",
            "0 쓰레기\n",
            "1 갑이다\n",
            "1 료코짱\n",
            "1 2빠닼\n",
            "1 만세-\n",
            "0 OOO\n",
            "1 ㅋㅋㅋ\n",
            "1 아하!\n",
            "1 재및음\n",
            "1 좋아여\n",
            "1 재미쪙\n",
            "1 대박!\n",
            "0 에혀~\n",
            "0 3.6\n",
            "0 가보자\n",
            "0 bad\n",
            "1 신선함\n",
            "1 와우!\n",
            "0 즐ㄹㅋ\n",
            "1 좋아요\n",
            "0 아ㅅㅂ\n",
            "1 쨩이야\n",
            "1 굿~!\n",
            "0 ㅉㅉㅉ\n",
            "1 재밋다\n",
            "0 지못미\n",
            "0 나이스\n",
            "0 오짱!\n",
            "0 전형적\n",
            "0 원주율\n",
            "1 좋은테\n",
            "0 2.6\n",
            "1 굿!!\n",
            "1 1등?\n",
            "1 보세요\n",
            "0 잼없다\n",
            "1 다섯개\n",
            "0 접어라\n",
            "0 쓰중쓰\n",
            "1 좋다.\n",
            "0 음..\n",
            "1 좋군.\n",
            "0 싸우자\n",
            "1 멋져.\n",
            "0 ...\n",
            "0 직인다\n",
            "1 짱짱짱\n",
            "0 별로임\n",
            "1 진리임\n",
            "1 감동적\n",
            "1 최고!\n",
            "1 재밌어\n",
            "1 걍 굿\n",
            "0 아시바\n",
            "1 최고~\n",
            "1 팬이다\n",
            "0 별로다\n",
            "1 좋다,\n",
            "1 잼있다\n",
            "0 최고.\n",
            "1 감동!\n",
            "0 잠온다\n",
            "1 의리!\n",
            "0 별로~\n",
            "0 즐..\n",
            "0 썩었내\n",
            "1 짱멋짐\n",
            "1 ㄴㄹㄴ\n",
            "1 성룡짱\n",
            "1 꿀잼♥\n",
            "1 쵝오!\n",
            "1 괜찮네\n",
            "0 막장.\n",
            "0 억지.\n",
            "0 김서울\n",
            "1 철규찡\n",
            "1 무셔움\n",
            "0 지겨워\n",
            "1 꼭보셈\n",
            "0 그다지\n",
            "1 훌륭함\n",
            "1 최고임\n",
            "1 꼭봐라\n",
            "0 일부심\n",
            "1 예스잼\n"
          ]
        }
      ]
    },
    {
      "cell_type": "markdown",
      "source": [
        "### 길이 1인 데이터는 의미없는 데이터 비율이 높아서 삭제하기로 하였습니다. 길이 2, 3 라벨링하기에 문제가 없어서 남겨두기로 하였습니다."
      ],
      "metadata": {
        "id": "nmU19wxYeakj"
      }
    },
    {
      "cell_type": "code",
      "source": [
        "# drop_idx = raw_data[len(raw_data['document'])>1]"
      ],
      "metadata": {
        "id": "Qq-AfRhPanjL"
      },
      "execution_count": null,
      "outputs": []
    },
    {
      "cell_type": "code",
      "source": [
        "raw_data = raw_data[raw_data['document'].map(len) > 1]"
      ],
      "metadata": {
        "id": "MJ4WCtgTang8"
      },
      "execution_count": null,
      "outputs": []
    },
    {
      "cell_type": "markdown",
      "source": [
        "# Sentence piece 학습 시작\n",
        "\n"
      ],
      "metadata": {
        "id": "vYKyVxJIqACx"
      }
    },
    {
      "cell_type": "code",
      "source": [
        "pwd"
      ],
      "metadata": {
        "colab": {
          "base_uri": "https://localhost:8080/",
          "height": 35
        },
        "id": "qaOWBuzLrJA8",
        "outputId": "7181f9e9-f6d7-476b-a257-6b3282d71e9a"
      },
      "execution_count": null,
      "outputs": [
        {
          "output_type": "execute_result",
          "data": {
            "text/plain": [
              "'/content/drive/MyDrive/GoingDeeper(NLP)/sp_tokenizer/data'"
            ],
            "application/vnd.google.colaboratory.intrinsic+json": {
              "type": "string"
            }
          },
          "metadata": {},
          "execution_count": 31
        }
      ]
    },
    {
      "cell_type": "markdown",
      "source": [
        "### 네이버 리뷰 부분 temp파일로 저장하기"
      ],
      "metadata": {
        "id": "u_sDARTosWt4"
      }
    },
    {
      "cell_type": "code",
      "source": [
        "# import tempfile"
      ],
      "metadata": {
        "id": "FhC2jK5Lsbfd"
      },
      "execution_count": null,
      "outputs": []
    },
    {
      "cell_type": "code",
      "source": [
        "naver_review_corpus_temp = raw_data['document']\n",
        "naver_review_file_name = 'naver_review_corpus.temp'\n",
        "\n",
        "f = open(naver_review_file_name, 'w')\n",
        "for review in naver_review_corpus_temp:\n",
        "  f.write(review+'\\n')\n",
        "f.close()"
      ],
      "metadata": {
        "id": "5nqD7JtWsTcb"
      },
      "execution_count": null,
      "outputs": []
    },
    {
      "cell_type": "code",
      "source": [
        "vocab_size = 10000\n",
        "\n",
        "spm.SentencePieceTrainer.Train(\n",
        "    \"--input={} --model_prefix=korean_spm --vocab_size={}\".format(naver_review_file_name, vocab_size) +\n",
        "    \" --pad_id=0 --pad_piece=[PAD]\" + # pad (0)\n",
        "    \" --unk_id=1 --unk_piece=[UNK]\" + # unknown (1)\n",
        "    \" --bos_id=2 --bos_piece=[BOS]\" + # begin of sequence (2)\n",
        "    \" --eos_id=3 --eos_piece=[EOS]\" ) # end of sequence (3)   \n",
        "\n",
        "!ls -l korean_spm*"
      ],
      "metadata": {
        "id": "6HFjNOVLanef",
        "colab": {
          "base_uri": "https://localhost:8080/"
        },
        "outputId": "824ece2c-f67d-41a5-9bf0-0009e04e990d"
      },
      "execution_count": null,
      "outputs": [
        {
          "output_type": "stream",
          "name": "stdout",
          "text": [
            "-rw------- 1 root root 413858 Mar 25 10:08 korean_spm.model\n",
            "-rw------- 1 root root 184980 Mar 25 10:08 korean_spm.vocab\n"
          ]
        }
      ]
    },
    {
      "cell_type": "markdown",
      "source": [
        "### sentencepiece 모델 확인"
      ],
      "metadata": {
        "id": "BbeJN40t1L5j"
      }
    },
    {
      "cell_type": "code",
      "source": [
        "s = spm.SentencePieceProcessor()\n",
        "s.Load('korean_spm.model')\n",
        "\n",
        "# SentencePiece를 활용한 sentence -> encoding\n",
        "tokensIDs = s.EncodeAsIds('아버지가방에들어가신다.')\n",
        "print(tokensIDs)\n",
        "\n",
        "# SentencePiece를 활용한 sentence -> encoded pieces\n",
        "print(s.SampleEncodeAsPieces('아버지가방에들어가신다.',1, 0.0))\n",
        "\n",
        "# SentencePiece를 활용한 encoding -> sentence 복원\n",
        "print(s.DecodeIds(tokensIDs))"
      ],
      "metadata": {
        "id": "020qob6Oanb_",
        "colab": {
          "base_uri": "https://localhost:8080/"
        },
        "outputId": "74756059-f9df-49eb-ec28-bf563c40bff3"
      },
      "execution_count": null,
      "outputs": [
        {
          "output_type": "stream",
          "name": "stdout",
          "text": [
            "[1273, 11, 450, 16, 1363, 11, 160, 20, 5]\n",
            "['▁아버지', '가', '방', '에', '들어', '가', '신', '다', '.']\n",
            "아버지가방에들어가신다.\n"
          ]
        }
      ]
    },
    {
      "cell_type": "markdown",
      "source": [
        "# Step 3. Tokenizer 함수 작성"
      ],
      "metadata": {
        "id": "12SYkiK21UxF"
      }
    },
    {
      "cell_type": "code",
      "source": [
        "def sp_tokenize(s, corpus):\n",
        "\n",
        "    tensor = []\n",
        "\n",
        "    for sen in corpus:\n",
        "        tensor.append(s.EncodeAsIds(sen))\n",
        "\n",
        "    with open(\"./korean_spm.vocab\", 'r') as f:\n",
        "        vocab = f.readlines()\n",
        "\n",
        "    word_index = {}\n",
        "    index_word = {}\n",
        "\n",
        "    for idx, line in enumerate(vocab):\n",
        "        word = line.split(\"\\t\")[0]\n",
        "\n",
        "        word_index.update({idx:word})\n",
        "        index_word.update({word:idx})\n",
        "\n",
        "    tensor = tf.keras.preprocessing.sequence.pad_sequences(tensor, padding='post')\n",
        "\n",
        "    return tensor, word_index, index_word"
      ],
      "metadata": {
        "id": "uNoDvecOanZ4"
      },
      "execution_count": null,
      "outputs": []
    },
    {
      "cell_type": "code",
      "source": [
        "#sp_tokenize(s, corpus) 사용예제\n",
        "\n",
        "my_corpus = ['나는 밥을 먹었습니다.', '그러나 여전히 ㅠㅠ 배가 고픕니다...']\n",
        "tensor, word_index, index_word = sp_tokenize(s, my_corpus)\n",
        "print('tensor', tensor)\n",
        "print('word_index', word_index)\n",
        "print('index_word', index_word)"
      ],
      "metadata": {
        "id": "mEn80qS6anXZ",
        "colab": {
          "base_uri": "https://localhost:8080/"
        },
        "outputId": "b6aab44a-8d34-4b92-faef-88686a535fe7"
      },
      "execution_count": null,
      "outputs": [
        {
          "output_type": "stream",
          "name": "stdout",
          "text": [
            "tensor [[ 511 2662   15 1225 2192    5    0    0    0    0]\n",
            " [1390 2293  284  626   11    4   17 9943 1129    9]]\n",
            "word_index {0: '[PAD]', 1: '[UNK]', 2: '[BOS]', 3: '[EOS]', 4: '▁', 5: '.', 6: '..', 7: '이', 8: '▁영화', 9: '...', 10: '의', 11: '가', 12: '도', 13: '는', 14: ',', 15: '을', 16: '에', 17: '고', 18: '은', 19: '?', 20: '다', 21: '지', 22: '한', 23: '▁너무', 24: '를', 25: '!', 26: '만', 27: '▁정말', 28: '▁이', 29: '로', 30: '나', 31: '▁진짜', 32: '게', 33: '~', 34: '영화', 35: '과', 36: '기', 37: '으로', 38: '어', 39: '라', 40: '하고', 41: '점', 42: '인', 43: '서', 44: '▁안', 45: '▁잘', 46: '리', 47: '▁그', 48: '네', 49: '에서', 50: '▁왜', 51: '와', 52: '아', 53: '▁다', 54: '▁수', 55: '▁1', 56: '▁더', 57: '들', 58: '!!', 59: '▁이런', 60: '....', 61: '해', 62: '▁아', 63: '요', 64: '하는', 65: '▁그냥', 66: '거', 67: '▁드라마', 68: '자', 69: '네요', 70: '면', 71: '대', 72: '▁본', 73: '▁보고', 74: '스', 75: '▁10', 76: '▁연기', 77: '수', 78: '시', 79: '▁평점', 80: '지만', 81: '▁한', 82: '니', 83: '▁영화를', 84: '▁좀', 85: '▁내', 86: '야', 87: '일', 88: '음', 89: '함', 90: '사', 91: '하게', 92: '이다', 93: '하', 94: '▁참', 95: '진', 96: '▁쓰레기', 97: '▁봤는데', 98: '데', 99: '▁ᄏᄏ', 100: '▁없는', 101: '▁못', 102: '하다', 103: '▁이거', 104: '주', 105: '▁영화는', 106: '▁영화가', 107: '▁스토리', 108: '미', 109: '▁내가', 110: '보다', 111: '까지', 112: '▁최고의', 113: '▁없다', 114: '할', 115: '우', 116: '▁이건', 117: '▁완전', 118: '여', 119: '▁있는', 120: '▁2', 121: '는데', 122: '구', 123: '임', 124: '▁개', 125: '정', 126: '▁좋은', 127: '들이', 128: '▁최고', 129: '해서', 130: 'ᄏᄏ', 131: '안', 132: '▁보는', 133: '!!!', 134: '냐', 135: '▁나', 136: '▁이렇게', 137: '드', 138: '▁것', 139: '▁이게', 140: '성', 141: '건', 142: '▁3', 143: '듯', 144: '▁다시', 145: '보', 146: '상', 147: '▁난', 148: '▁보', 149: '랑', 150: '적', 151: '중', 152: '던', 153: '▁말', 154: '전', 155: '^^', 156: '치', 157: '장', 158: 'ᄏ', 159: '보고', 160: '신', 161: '▁많이', 162: '▁평점이', 163: '▁지', 164: '~~', 165: '부', 166: '마', 167: '▁뭐', 168: '▁넘', 169: '▁작품', 170: '▁역시', 171: '1', 172: '년', 173: '개', 174: '오', 175: '질', 176: '▁그리고', 177: '▁재밌게', 178: '세', 179: '▁볼', 180: '인데', 181: '▁저', 182: '것', 183: '▁하는', 184: '트', 185: '비', 186: '▁또', 187: '그', 188: '▁마지막', 189: ';;', 190: '▁전', 191: '원', 192: '려', 193: '▁생각', 194: '??', 195: '분', 196: '화', 197: '했다', 198: \"'\", 199: '▁별로', 200: '▁재미', 201: '때', 202: '▁오', 203: '말', 204: '히', 205: '용', 206: '내', 207: '하지', 208: '▁감동', 209: '▁꼭', 210: '2', 211: '적인', 212: '소', 213: '라고', 214: '진짜', 215: '같은', 216: '급', 217: '▁없고', 218: '습니다', 219: '▁가장', 220: '입니다', 221: '▁ᄏᄏᄏ', 222: '▁하나', 223: '▁하', 224: '▁감독', 225: '러', 226: '▁무슨', 227: '▁기대', 228: '▁아깝다', 229: ')', 230: '▁주', 231: '▁이야기', 232: '▁시간', 233: '▁보면', 234: '더', 235: '물', 236: '제', 237: '▁별', 238: '▁사', 239: '▁무', 240: 'ᅲᅲ', 241: '▁다른', 242: '선', 243: '▁지금', 244: '된', 245: '▁아니', 246: '▁만든', 247: '▁액션', 248: '걸', 249: '좀', 250: '▁할', 251: '란', 252: '▁한국', 253: '라는', 254: '너무', 255: '있는', 256: 'ᄏᄏᄏ', 257: '▁중', 258: '씨', 259: '이나', 260: '무', 261: '군', 262: '▁비', 263: '조', 264: '드라마', 265: '유', 266: '▁사랑', 267: '본', 268: '편', 269: ';', 270: '없는', 271: '호', 272: '▁거', 273: '모', 274: '영', 275: '▁조', 276: '▁같은', 277: '▁때', 278: '식', 279: '줄', 280: '▁대', 281: '부터', 282: '▁ᄏ', 283: '어요', 284: '▁ᅲᅲ', 285: '▁명작', 286: '▁처음', 287: '3', 288: '에게', 289: '감', 290: '▁말이', 291: '▁영화다', 292: '정말', 293: '동', 294: '연', 295: '▁미', 296: 'ᅲ', 297: '▁돈', 298: '남', 299: '긴', 300: '▁유', 301: '▁연출', 302: '▁두', 303: '▁정', 304: \"▁'\", 305: '▁김', 306: '▁끝까지', 307: '▁배우', 308: '▁느낌', 309: '처럼', 310: '명', 311: '디', 312: '울', 313: '작', 314: '당', 315: '난', 316: '▁마', 317: '▁와', 318: '▁일', 319: '▁ᅳᅳ', 320: '으면', 321: '▁내용', 322: '▁솔직히', 323: '(', 324: '▁전혀', 325: '▁하지만', 326: '한다', 327: '▁해', 328: '인지', 329: '▁같다', 330: '린', 331: '단', 332: '▁뭔가', 333: '되는', 334: '들의', 335: '▁대한', 336: '▁어', 337: '워', 338: '준', 339: '▁있다', 340: '살', 341: '▁제', 342: '심', 343: '크', 344: '바', 345: '▁알', 346: '▁아주', 347: '▁봤다', 348: '▁짱', 349: '▁기', 350: '위', 351: '두', 352: '▁좋다', 353: '▁봐도', 354: '합니다', 355: '노', 356: '며', 357: '르', 358: '▁구', 359: 'ᅳᅳ', 360: '길', 361: '▁사람', 362: '▁일본', 363: '이랑', 364: '래', 365: '운', 366: '▁많은', 367: '타', 368: '면서', 369: '재', 370: '류', 371: '잘', 372: '▁좋아', 373: '▁줄', 374: '죠', 375: '생', 376: '때문에', 377: '▁ᄒᄒ', 378: '하지만', 379: '▁모두', 380: '레', 381: '하면', 382: '희', 383: '경', 384: '▁여자', 385: '이라', 386: '▁내내', 387: '▁어떻게', 388: '인가', 389: '▁나오는', 390: '▁후', 391: '▁재미있게', 392: '▁계속', 393: '▁이걸', 394: '▁그런', 395: '▁않고', 396: '▁자', 397: '▁내용이', 398: '▁코미디', 399: ',,', 400: '▁시', 401: '▁최악', 402: '루', 403: '▁소', 404: '없이', 405: '▁보기', 406: '박', 407: '간', 408: '-', 409: '었다', 410: '하나', 411: '▁아니라', 412: '▁배우들', 413: '▁대박', 414: '되', 415: '▁듯', 416: '▁아닌', 417: '▁재밌다', 418: '들은', 419: '엔', 420: '연기', 421: '발', 422: '▁애', 423: '▁최악의', 424: '날', 425: '저', 426: '▁모든', 427: '한테', 428: '▁남', 429: '▁하고', 430: '했던', 431: '▁이영화', 432: '▁4', 433: '▁반', 434: '▁이상', 435: '▁그래도', 436: '▁한번', 437: '▁되', 438: '민', 439: '파', 440: '지는', 441: 'o', 442: '▁주인공', 443: '▁신', 444: '구나', 445: '든', 446: '▁딱', 447: '판', 448: '▁아니다', 449: '▁남자', 450: '방', 451: '▁모', 452: '이라는', 453: '▁7', 454: '까', 455: '시간', 456: '▁실망', 457: '▁연기가', 458: '프', 459: '▁5', 460: '▁만드는', 461: '▁아름다운', 462: '차', 463: '▁욕', 464: '▁우리', 465: '▁제일', 466: '봤는데', 467: '애', 468: '▁근데', 469: '번', 470: '▁않은', 471: '점도', 472: '▁전개', 473: '▁공포', 474: '▁굿', 475: '없다', 476: '국', 477: '▁애니', 478: '형', 479: '겨', 480: '지도', 481: '▁감독이', 482: '하네요', 483: '10', 484: '▁스릴러', 485: '림', 486: '▁않는', 487: '▁건', 488: '겠다', 489: '반', 490: '▁연기도', 491: '▁수준', 492: '▁음악', 493: '▁부', 494: '▁제대로', 495: '▁바', 496: '▁기억', 497: '▁장', 498: '터', 499: '▁보다가', 500: '▁이해', 501: '▁장면', 502: '피', 503: '님', 504: '▁내용도', 505: '▁개봉', 506: 'ᄒᄒ', 507: '▁8', 508: '▁스토리가', 509: '이란', 510: '현', 511: '▁나는', 512: '▁재미없다', 513: '▁요즘', 514: '▁보다', 515: '▁아니고', 516: '▁추천', 517: '▁만들어', 518: '후', 519: '▁파', 520: '망', 521: '적으로', 522: '산', 523: '▁강', 524: '보면', 525: '♥', 526: '니까', 527: '▁스', 528: '카', 529: '즈', 530: '하네', 531: '▁OO', 532: '관', 533: '버', 534: '▁막장', 535: '하기', 536: '▁박', 537: '이고', 538: '▁이제', 539: '▁걸', 540: '▁절대', 541: '▁9', 542: '보는', 543: '▁싶다', 544: '▁반전', 545: '▁우', 546: '!!!!', 547: '배', 548: '못', 549: '▁0', 550: '티', 551: '들을', 552: '점이', 553: 't', 554: '~~~', 555: 'ᄒ', 556: '공', 557: '▁때문에', 558: '생각', 559: '다니', 560: '▁영화라고', 561: '회', 562: '▁시간이', 563: '키', 564: '▁영화의', 565: '▁인생', 566: '토', 567: '달', 568: '태', 569: '년대', 570: '▁아직도', 571: '▁세', 572: '매', 573: '따', 574: '▁여운이', 575: '▁아까운', 576: '▁주는', 577: '▁차라리', 578: '▁재미도', 579: '▁되는', 580: '포', 581: '짱', 582: '▁나름', 583: '양', 584: '▁망', 585: '왜', 586: '건지', 587: '▁눈', 588: '▁나온', 589: '\"\"', 590: '▁특히', 591: '으', 592: '▁엄청', 593: '라도', 594: '▁몇', 595: '▁좋았다', 596: '▁영화입니다', 597: '▁보면서', 598: '실', 599: '▁나도', 600: '▁남는', 601: '▁표현', 602: '속', 603: '▁도대체', 604: '4', 605: '했는데', 606: '▁조금', 607: '▁진심', 608: 'ᅳ', 609: '▁속', 610: '이라고', 611: '▁스토리도', 612: '석', 613: '▁걍', 614: '▁우리나라', 615: '▁원', 616: '▁대사', 617: '▁감독의', 618: '종', 619: '▁진', 620: '▁눈물', 621: '▁불', 622: '▁캐릭터', 623: '▁오랜만에', 624: '참', 625: '뿐', 626: '▁배', 627: '▁마지막에', 628: '▁피', 629: '져', 630: '▁멋진', 631: '문', 632: '▁노', 633: '▁공포영화', 634: '죽', 635: '다가', 636: '▁이해가', 637: '▁뻔한', 638: '쳐', 639: '점은', 640: '▁결말', 641: '평점', 642: '해요', 643: '인듯', 644: '정도', 645: 'ᅮᅮ', 646: '역', 647: '▁없', 648: '금', 649: '▁시리즈', 650: '▁없음', 651: '▁사람들', 652: '릴', 653: '▁좋아하는', 654: '▁영', 655: '▁좋고', 656: '▁봤습니다', 657: '어서', 658: '것도', 659: '▁생각이', 660: '코', 661: '▁재밌어요', 662: '▁B', 663: '▁시작', 664: '밖에', 665: '▁봤던', 666: '▁기분', 667: '▁쓰', 668: '▁ᄏᄏᄏᄏ', 669: '▁막', 670: '▁20', 671: 'd', 672: ';;;', 673: '스토리', 674: '▁싶은', 675: '집', 676: '▁수작', 677: 'ᄏᄏᄏᄏ', 678: '▁심', 679: '더라', 680: '???', 681: '였다', 682: '▁공감', 683: '볼', 684: '체', 685: '▁지루한', 686: '▁영화에', 687: '▁지루하고', 688: '이런', 689: '▁재미가', 690: '력', 691: '▁가슴', 692: '▁재밌', 693: '▁연', 694: '▁미국', 695: '는거', 696: '배우', 697: '/', 698: '만큼', 699: '▁초', 700: '▁재', 701: '▁오늘', 702: '▁ᅲ', 703: '▁없이', 704: '▁될', 705: '던데', 706: '▁원작', 707: '▁동', 708: '넘', 709: '▁재밌는', 710: '사람', 711: '장면', 712: '해도', 713: '▁어떤', 714: '▁함께', 715: '▁공', 716: '▁뭔', 717: '▁끝', 718: '▁정도', 719: '극', 720: '는게', 721: '려고', 722: '계', 723: '▁그저', 724: '▁뭘', 725: '▁사람이', 726: '▁OOO', 727: '▁지루함', 728: '▁된', 729: '녀', 730: '▁배우들의', 731: '봤다', 732: '▁날', 733: '있다', 734: '▁노래', 735: '하며', 736: '▁개인적으로', 737: '▁큰', 738: '▁성', 739: '▁울', 740: '그냥', 741: '▁여', 742: '▁^^', 743: '▁나오', 744: '▁보세요', 745: '▁졸작', 746: '▁필요', 747: '▁애니메이션', 748: '▁있', 749: '▁못한', 750: '탄', 751: '5', 752: '▁괜찮은', 753: '중에', 754: '등', 755: '▁얼마나', 756: '▁알바', 757: '예', 758: '는지', 759: '▁최고다', 760: '▁보는내내', 761: '▁캐스팅', 762: '불', 763: '▁연기력', 764: '▁소재', 765: '▁몰입도', 766: '▁안되는', 767: '▁아무리', 768: '~!', 769: '▁인간', 770: '▁영화로', 771: '▁만들', 772: '▁발', 773: '잼', 774: '했', 775: '담', 776: ',,,', 777: '돈', 778: '▁후회', 779: '▁기억에', 780: '▁매', 781: '병', 782: '대로', 783: '▁\"', 784: '김', 785: 's', 786: '강', 787: 'e', 788: '▁시나리오', 789: '구만', 790: '최고', 791: '▁예', 792: '▁머', 793: '▁선', 794: '▁억지', 795: '하면서', 796: '사랑', 797: '스트', 798: '7', 799: '▁결국', 800: '▁제발', 801: '있', 802: '리는', 803: '꺼', 804: '했음', 805: '▁6', 806: '▁매우', 807: '갈', 808: '격', 809: '▁살', 810: '▁만화', 811: '▁연기는', 812: '▁그렇게', 813: '▁인', 814: '▁않', 815: '감동', 816: '감독', 817: '움', 818: '▁제목', 819: '악', 820: '▁보지', 821: '▁사실', 822: '글', 823: '▁것이', 824: 'a', 825: '▁영상', 826: '▁지루하다', 827: '슨', 828: '투', 829: '론', 830: '▁가족', 831: '▁봤어요', 832: '업', 833: '▁찾아', 834: '▁허', 835: '작품', 836: '봐도', 837: '이지만', 838: '기에', 839: '▁같이', 840: '▁있고', 841: '▁화', 842: '▁모르겠다', 843: '초', 844: '▁들', 845: '었는데', 846: '▁분위기', 847: '기도', 848: '▁코믹', 849: '교', 850: '주는', 851: '잔', 852: '이었다', 853: '증', 854: '▁맞', 855: '▁하나도', 856: '▁현실', 857: '▁극장에서', 858: '액션', 859: '▁\"\"', 860: '▁강추', 861: '능', 862: '하는데', 863: '▁않는다', 864: '▁애들', 865: '통', 866: '알', 867: '▁준', 868: '▁행복', 869: '▁아이', 870: '▁더빙', 871: '권', 872: '▁문제', 873: '▁차', 874: '▁위해', 875: '8', 876: '봄', 877: '▁별점', 878: '▁너무나', 879: '▁위한', 880: '▁마음이', 881: '▁알고', 882: '케', 883: '▁긴장감', 884: '이네', 885: '설', 886: '된다', 887: '잡', 888: '맨', 889: '점을', 890: '군요', 891: '너', 892: '▁없어', 893: '▁한다', 894: '▁있을', 895: '기는', 896: '절', 897: '봐', 898: '▁정신', 899: '보단', 900: '▁너', 901: '근', 902: '▁한국영화', 903: '▁봐야', 904: '▁좋아요', 905: '6', 906: '▁총', 907: '▁잼', 908: '▁엔딩', 909: '▁단', 910: '입', 911: '▁보게', 912: '머', 913: '새', 914: '▁느낌이', 915: '▁주연', 916: '▁존나', 917: '▁들어', 918: '그리고', 919: '었던', 920: 'ᅮ', 921: '▁그만', 922: '▁토', 923: '▁게', 924: '▁대체', 925: '테', 926: '▁모습', 927: '▁누가', 928: '▁상', 929: '보니', 930: '이야', 931: '▁미친', 932: '▁입', 933: '창', 934: '범', 935: '▁웃', 936: '▁눈물이', 937: '싶', 938: '▁로맨스', 939: '버린', 940: '▁내용은', 941: '▁훨씬', 942: '학', 943: '결', 944: '▁매력', 945: '▁졸', 946: '온', 947: '▁죽', 948: '▁갈수록', 949: '▁설정', 950: '락', 951: '▁감동이', 952: '▁음', 953: '이네요', 954: '재미', 955: '▁영화네요', 956: '좋아', 957: '▁CG', 958: '빠', 959: '▁열', 960: '▁그나마', 961: '없', 962: '▁재밌음', 963: '▁ᄒ', 964: '난다', 965: '었음', 966: '거야', 967: '▁가슴이', 968: '점대', 969: '▁존', 970: '▁꽤', 971: '끼', 972: '뭐', 973: '을까', 974: '9', 975: '▁ᅮᅮ', 976: '언', 977: '해야', 978: '▁전쟁', 979: '내용', 980: '▁결말이', 981: '▁기억이', 982: '▁마음', 983: '에도', 984: '▁유치', 985: '▁없었다', 986: '수준', 987: '▁어느', 988: '▁백', 989: '▁밖에', 990: '▁엄마', 991: '영화는', 992: '▁감', 993: '▁중국', 994: '▁위', 995: '▁발연기', 996: '▁물', 997: '▁잡', 998: '▁그래서', 999: '▁뿐', 1000: '▁보여주는', 1001: '블', 1002: '▁따라', 1003: '▁타', 1004: '▁최', 1005: '쓰레기', 1006: '행', 1007: '▁적', 1008: '▁평', 1009: '▁어설픈', 1010: '▁작가', 1011: '▁재밌고', 1012: '먹', 1013: '▁연기를', 1014: '▁치', 1015: '▁-', 1016: '▁주고', 1017: '▁다큐', 1018: '색', 1019: '아니', 1020: '년이', 1021: '▁않다', 1022: '다고', 1023: '나는', 1024: '▁호', 1025: '▁똥', 1026: '+', 1027: '환', 1028: '았', 1029: '여자', 1030: '었어요', 1031: '▁약', 1032: '▁극', 1033: '기를', 1034: '잇', 1035: '▁그러', 1036: '막', 1037: '이지', 1038: '▁딸', 1039: '▁감동도', 1040: '션', 1041: '좋', 1042: '소리', 1043: '씬', 1044: '▁다들', 1045: '평', 1046: '재밌', 1047: '▁아쉽다', 1048: '▁길', 1049: '완전', 1050: '▁시즌', 1051: '천', 1052: '▁평가', 1053: '▁지루', 1054: '했지만', 1055: '▁상황', 1056: '▁자기', 1057: '▁걸작', 1058: '이상', 1059: '▁영화중', 1060: '▁당시', 1061: '\"', 1062: '▁영화관에서', 1063: '▁소리', 1064: '▁손', 1065: '승', 1066: '없고', 1067: '나요', 1068: '▁좋', 1069: '▁사람들이', 1070: '▁것도', 1071: '▁잔잔한', 1072: '▁성룡', 1073: '짐', 1074: '나오는', 1075: '▁올', 1076: '▁쓰레기영화', 1077: '▁재미없음', 1078: '▁의미', 1079: '플', 1080: '▁노잼', 1081: '▁것을', 1082: '▁간만에', 1083: '록', 1084: '쓰', 1085: '>', 1086: '▁예술', 1087: '될', 1088: '▁베', 1089: '리고', 1090: '건가', 1091: '외', 1092: '▁같아요', 1093: '▁재미없', 1094: '▁좋은데', 1095: '슬', 1096: '이라도', 1097: '▁30', 1098: '▁맘에', 1099: '▁전부', 1100: '않', 1101: '치는', 1102: '▁영화였다', 1103: '인줄', 1104: '▁당', 1105: '칠', 1106: '듯한', 1107: '▁대해', 1108: '이거', 1109: '▁변', 1110: '▁명', 1111: '순', 1112: '▁아님', 1113: '▁재미있다', 1114: '친', 1115: '▁있을까', 1116: '뻔', 1117: '할수', 1118: '▁바로', 1119: '▁감동적인', 1120: '느낌', 1121: '이건', 1122: '▁재미있는', 1123: '직', 1124: '라면', 1125: '▁생각을', 1126: '습', 1127: '▁야', 1128: '▁간', 1129: '니다', 1130: '▁생각보다', 1131: '또', 1132: '▁상당히', 1133: '▁약간', 1134: '▁진정한', 1135: '▁자체', 1136: '▁준다', 1137: '▁그대로', 1138: '거지', 1139: '▁정도로', 1140: '▁점수', 1141: '할때', 1142: '▁배경', 1143: '께', 1144: '됨', 1145: '▁출연', 1146: '을때', 1147: '▁얼굴', 1148: '▁네이버', 1149: '▁편', 1150: '▁친구', 1151: '향', 1152: 'b', 1153: '웃', 1154: '것이', 1155: '▁분', 1156: '▁장난', 1157: '▁같은데', 1158: 'h', 1159: '짜', 1160: '영화를', 1161: '▁스토리는', 1162: '▁갈', 1163: '치고', 1164: '▁웃기', 1165: '수가', 1166: '▁배우들이', 1167: '낸', 1168: '▁중간에', 1169: '▁높은', 1170: '셨', 1171: '▁번', 1172: '같이', 1173: '▁구성', 1174: '▁판타지', 1175: '겠', 1176: 'y', 1177: '▁감성', 1178: '▁여주인공', 1179: '▁살아', 1180: '였음', 1181: '기만', 1182: '▁감동을', 1183: '▁재미는', 1184: '▁거의', 1185: '이야기', 1186: '▁했는데', 1187: '있고', 1188: '▁뭐야', 1189: '편이', 1190: '▁충격', 1191: '눈', 1192: '▁재미없는', 1193: '더니', 1194: '▁나와서', 1195: '느', 1196: '린다', 1197: '▁얘기', 1198: '▁아무', 1199: '▁웃음', 1200: '▁힘들', 1201: '▁볼만한', 1202: '표', 1203: '▁된다', 1204: '구요', 1205: '▁있지만', 1206: '열', 1207: '는건', 1208: '출', 1209: '▁순', 1210: '았다', 1211: '▁외', 1212: '▁카', 1213: '없음', 1214: '짓', 1215: '▁봤지만', 1216: '▁코', 1217: '▁봐서', 1218: '다는', 1219: '▁장르', 1220: '에선', 1221: '▁보니', 1222: '조차', 1223: 'r', 1224: '▁등', 1225: '▁먹', 1226: '척', 1227: '퍼', 1228: '▁영화인데', 1229: '▁메', 1230: '름', 1231: '▁악', 1232: 'ᄉ', 1233: '▁이름', 1234: '▁추억', 1235: '레이', 1236: '▁줄거리', 1237: '▁장면이', 1238: '커', 1239: '채', 1240: '▁뭐지', 1241: '▁있었', 1242: '목', 1243: '▁각본', 1244: '진다', 1245: '▁암', 1246: '남자', 1247: '영화가', 1248: '▁감정', 1249: '0', 1250: '스러운', 1251: '▁왕', 1252: '했습니다', 1253: '▁만', 1254: '나오', 1255: '들도', 1256: '▁굉장히', 1257: '▁이딴', 1258: '▁재밌네요', 1259: '▁글', 1260: '▁끝나', 1261: '처', 1262: '편은', 1263: '백', 1264: '▁이영화를', 1265: '▁예상', 1266: '놓고', 1267: '건데', 1268: '▁훌륭한', 1269: '으나', 1270: '▁스릴', 1271: '▁어디서', 1272: '▁갑자기', 1273: '▁아버지', 1274: '▁싸', 1275: '복', 1276: '▁제가', 1277: '▁짜증', 1278: 'D', 1279: '▁많', 1280: '혜', 1281: '▁다음', 1282: '햇', 1283: '▁비교', 1284: '▁영화임', 1285: '들에게', 1286: 'ᄋ', 1287: '▁ᅳ', 1288: '▁누구', 1289: '▁오래', 1290: '▁경', 1291: '▁극장판', 1292: '주의', 1293: '욕', 1294: '▁있어서', 1295: '▁머리', 1296: '▁잠', 1297: '▁하지', 1298: '▁저런', 1299: '▁새로운', 1300: '▁역', 1301: '▁원작을', 1302: 'k', 1303: '해라', 1304: '▁관', 1305: '▁아이들', 1306: '▁방송', 1307: '▁레', 1308: '근데', 1309: '라서', 1310: '▁말도', 1311: '줘', 1312: '▁90', 1313: '베', 1314: '▁몸', 1315: '겠지', 1316: '~!!', 1317: '▁평점을', 1318: '▁그리', 1319: '▁안되', 1320: '▁뭐냐', 1321: '어야', 1322: '광', 1323: '▁감독님', 1324: '왕', 1325: '침', 1326: '좋은', 1327: '▁버', 1328: '▁양', 1329: '정도로', 1330: '▁가는', 1331: '되어', 1332: '▁화면', 1333: '♡', 1334: '▁주인공이', 1335: '▁마음에', 1336: '▁재미있어요', 1337: '▁주제', 1338: '▁아직', 1339: '▁달', 1340: '▁영상미', 1341: '▁허접', 1342: '▁포스터', 1343: '▁여배우', 1344: '메', 1345: '▁힘', 1346: '월', 1347: '였', 1348: '했어요', 1349: '각', 1350: '▁생각하게', 1351: '찍', 1352: '▁뒤', 1353: '추', 1354: 'n', 1355: '▁항상', 1356: '▁사회', 1357: '철', 1358: '브', 1359: '땜에', 1360: '▁재밋', 1361: '슴', 1362: '▁잼있', 1363: '들어', 1364: '▁맛', 1365: '▁있어', 1366: '었', 1367: '▁흥행', 1368: '▁깨', 1369: '합', 1370: '련', 1371: '귀', 1372: '▁영화도', 1373: '▁나올', 1374: 'g', 1375: '거다', 1376: '▁자체가', 1377: '▁봐라', 1378: '빈', 1379: '▁대단한', 1380: '땐', 1381: '▁일단', 1382: '▁못하는', 1383: '이라면', 1384: '▁그런지', 1385: '보기', 1386: '간다', 1387: '길래', 1388: '곡', 1389: '▁봤음', 1390: '▁그러나', 1391: '▁혼자', 1392: '한거', 1393: '▁여기', 1394: '른', 1395: '곤', 1396: '▁개연성', 1397: '▁비디오', 1398: '▁비해', 1399: '▁집중', 1400: '▁산', 1401: '▁있는데', 1402: '▁저는', 1403: '▁실', 1404: '▁처음부터', 1405: '▁없어서', 1406: '▁가지고', 1407: '적이', 1408: '▁요', 1409: '돌', 1410: '듬', 1411: '▁옛날', 1412: '▁충분히', 1413: '허', 1414: '▁뭐가', 1415: '▁종', 1416: '▁빨리', 1417: '▁언제', 1418: '▁했다', 1419: '▁사람은', 1420: '▁천', 1421: '앗', 1422: '▁TV', 1423: '였는데', 1424: '럽', 1425: '▁봄', 1426: '하냐', 1427: '에는', 1428: '전개', 1429: '▁궁금', 1430: '▁목', 1431: '마지막', 1432: '해지는', 1433: '_', 1434: '쯤', 1435: '기대', 1436: '▁제작', 1437: '▁팬', 1438: '츠', 1439: '▁싶', 1440: '▁세계', 1441: '거나', 1442: '▁나온다', 1443: '▁(', 1444: '▁부분', 1445: '▁나와', 1446: '▁너무너무', 1447: '법', 1448: '▁점점', 1449: '▁아까움', 1450: '▁순간', 1451: '▁생', 1452: '▁책', 1453: '별로', 1454: '도록', 1455: '▁따', 1456: '▁있었다', 1457: '했고', 1458: '▁몰입', 1459: 'i', 1460: '분들', 1461: '같다', 1462: '▁나이', 1463: '으니', 1464: '▁좋은영화', 1465: '▁잘못', 1466: '처음', 1467: '다면', 1468: '하니', 1469: '▁계', 1470: '▁여주', 1471: '▁시절', 1472: '끝', 1473: '▁하다', 1474: '▁꿈', 1475: '▁높', 1476: '▁꿀잼', 1477: '▁이런영화', 1478: '년전', 1479: '런', 1480: '났', 1481: '▁삼류', 1482: '▁안된다', 1483: '▁작', 1484: '▁좋네요', 1485: '▁나왔', 1486: '▁만점', 1487: '▁나의', 1488: '패', 1489: '▁삼', 1490: '▁패', 1491: '별', 1492: '벌', 1493: '▁더욱', 1494: '▁포', 1495: '▁추', 1496: '▁것은', 1497: '부분', 1498: '▁써', 1499: '▁멜로', 1500: '▁부족', 1501: '▁이유', 1502: 'm', 1503: '▁완벽', 1504: '▁초딩', 1505: '적이고', 1506: '▁현', 1507: '라니', 1508: '청', 1509: '지금', 1510: 'OO', 1511: '혀', 1512: '덕', 1513: '▁찾', 1514: '만한', 1515: '▁쳐', 1516: '▁같', 1517: '▁첨', 1518: '올', 1519: '내가', 1520: '잖아', 1521: '▁해서', 1522: '시대', 1523: '▁윤', 1524: '▁좋겠다', 1525: '▁보여주', 1526: '▁진행', 1527: '▁선택', 1528: '배우들', 1529: '▁무조건', 1530: '▁한마디로', 1531: '▁도저히', 1532: '▁불륜', 1533: '▁그때', 1534: '술', 1535: '되고', 1536: '▁전개가', 1537: '▁노력', 1538: '▁유치한', 1539: '약', 1540: '▁볼만', 1541: '▁아쉬운', 1542: '거냐', 1543: '▁참고', 1544: '▁엄청난', 1545: '▁과거', 1546: '▁그닥', 1547: '▁슬픈', 1548: '▁100', 1549: '▁보는데', 1550: '마다', 1551: '이라니', 1552: 'u', 1553: '규', 1554: '▁새', 1555: '효', 1556: '▁성우', 1557: '▁관객', 1558: '▁편집', 1559: '▁예전에', 1560: '▁어색', 1561: '▁M', 1562: '익', 1563: '▁감동적이', 1564: '▁대단', 1565: '▁소설', 1566: '▁아닌가', 1567: '▁돌아', 1568: '▁망작', 1569: '다시', 1570: '▁귀', 1571: '▁낮은', 1572: '졌', 1573: '염', 1574: '놈', 1575: '▁지금까지', 1576: '쉬', 1577: '▁원래', 1578: '▁낫다', 1579: '립', 1580: '하여', 1581: '▁지나', 1582: '▁재밌는데', 1583: '▁존재', 1584: '▁어릴때', 1585: '▁없네', 1586: '▁어디', 1587: '▁봐', 1588: '▁모르고', 1589: '▁돌', 1590: '▁따뜻한', 1591: '▁휴', 1592: '사람들', 1593: '써', 1594: '▁다시봐도', 1595: '이게', 1596: '▁이영화는', 1597: '▁봤네요', 1598: '추천', 1599: '연출', 1600: '성이', 1601: '▁재밌었다', 1602: 'c', 1603: '▁질', 1604: '최악', 1605: '튼', 1606: '보다는', 1607: '▁크', 1608: '재미있', 1609: 'l', 1610: '▁쓴', 1611: '▁만족', 1612: '▁숨', 1613: '▁감독은', 1614: '▁첫', 1615: '걸까', 1616: '▁이미', 1617: '먼', 1618: '하던', 1619: '▁있음', 1620: '▁어린', 1621: '▁댓글', 1622: '▁더럽게', 1623: '것같다', 1624: '▁80', 1625: '▁인물', 1626: '▁물론', 1627: '여서', 1628: '▁이것도', 1629: '▁사랑을', 1630: '나서', 1631: '▁초반', 1632: '▁두번', 1633: '▁돈주고', 1634: '대박', 1635: '엇', 1636: '-_-', 1637: '▁없을', 1638: '▁지루해', 1639: '▁사람들은', 1640: '▁설', 1641: '▁통', 1642: '나라', 1643: 'p', 1644: '라이', 1645: '▁합니다', 1646: '같', 1647: '뜨', 1648: '만든', 1649: '지않', 1650: '▁까', 1651: '▁모르는', 1652: '겟', 1653: '▁힘든', 1654: '▁복수', 1655: '▁이리', 1656: '▁결혼', 1657: '거리', 1658: ':', 1659: '▁찍', 1660: '▁자꾸', 1661: '롭', 1662: '▁ᄍᄍ', 1663: '▁죽음', 1664: '봐서', 1665: '▁역사', 1666: '▁미화', 1667: '세요', 1668: '▁리', 1669: '▁그게', 1670: '▁완벽한', 1671: '▁설명', 1672: '놈들', 1673: '풍', 1674: '▁만나', 1675: '▁수가', 1676: '▁바보', 1677: '▁그래픽', 1678: '년도', 1679: '▁짜', 1680: '▁흠', 1681: '▁괜히', 1682: '▁전형적인', 1683: '▁데', 1684: '졌다', 1685: '이냐', 1686: '▁귀신', 1687: '▁느낄', 1688: '▁아빠', 1689: '▁늘', 1690: '▁실화', 1691: '그래도', 1692: '기가', 1693: '▁감상', 1694: '료', 1695: '음악', 1696: '▁반전이', 1697: '만들', 1698: '지고', 1699: '▁알게', 1700: '▁저질', 1701: '도없고', 1702: '▁있다는', 1703: '시리즈', 1704: '겠지만', 1705: '▁여성', 1706: '년에', 1707: '▁나라', 1708: '들과', 1709: '▁연출이', 1710: '▁오히려', 1711: '찬', 1712: '함을', 1713: '▁예고편', 1714: '봐라', 1715: '▁알았다', 1716: '명작', 1717: '맞', 1718: '▁상상', 1719: '▁놀', 1720: '▁만들지', 1721: '▁없네요', 1722: '윤', 1723: '▁부족한', 1724: '▁웃긴', 1725: '▁목소리', 1726: '▁느끼게', 1727: '▁뭔지', 1728: '▁되어', 1729: '00', 1730: '▁무서운', 1731: '▁억지로', 1732: '▁방', 1733: '▁병맛', 1734: '▁만들었', 1735: '▁SF', 1736: '이에요', 1737: '▁평점은', 1738: '틀', 1739: '혹', 1740: '▁우연히', 1741: '변', 1742: '▁믿고', 1743: '싸', 1744: '점짜리', 1745: '▁스타일', 1746: '▁헐', 1747: '하세요', 1748: 'x', 1749: '▁완성도', 1750: '▁인간의', 1751: '▁인정', 1752: '본다', 1753: '리가', 1754: '아이', 1755: '▁골', 1756: '삼', 1757: '▁신기', 1758: '▁연출력', 1759: '▁현재', 1760: '탈', 1761: '▁이야기를', 1762: '십', 1763: '▁평점에', 1764: '▁대한민국', 1765: '▁재밌어', 1766: '에요', 1767: '일까', 1768: '그런', 1769: '▁형', 1770: '▁문', 1771: '▁담', 1772: '▁재미있', 1773: '▁아무것도', 1774: '▁훌륭', 1775: '보는데', 1776: '▁기대하고', 1777: '만으로도', 1778: '▁진실', 1779: '~~~~', 1780: '▁좋았어요', 1781: 'f', 1782: 'B', 1783: '▁이상한', 1784: '▁꼬', 1785: '▁트', 1786: '짝', 1787: '▁돈이', 1788: '억', 1789: '▁온', 1790: '주인공', 1791: '영화다', 1792: '▁세상', 1793: '하긴', 1794: '▁개그', 1795: '맛', 1796: '모르', 1797: '는걸', 1798: '▁볼수', 1799: '▁비슷한', 1800: '징', 1801: '▁알았는데', 1802: '▁재미없어', 1803: '훈', 1804: '▁이정도', 1805: '▁작품성', 1806: '축', 1807: '▁프랑스', 1808: '▁말고', 1809: '▁것이다', 1810: '▁지루하지', 1811: '을듯', 1812: '▁b', 1813: '▁서로', 1814: '▁영화라', 1815: '강추', 1816: '▁대작', 1817: '많이', 1818: '하는거', 1819: '했을', 1820: '▁황', 1821: '▁처음으로', 1822: '▁액션도', 1823: '▁재미있고', 1824: '좋다', 1825: '▁좋음', 1826: '^', 1827: '▁배우가', 1828: '▁이후', 1829: '답', 1830: '▁해도', 1831: '끔', 1832: '▁으', 1833: '▁특유의', 1834: '아서', 1835: '▁듯한', 1836: '숙', 1837: '▁ost', 1838: '더군요', 1839: '▁일본영화', 1840: '▁낮', 1841: '스럽다', 1842: '족', 1843: '한데', 1844: '힌', 1845: '▁여운', 1846: '▁태', 1847: '에겐', 1848: '▁둘', 1849: '▁성장', 1850: '▁유머', 1851: '함이', 1852: '▁앞으로', 1853: '속에', 1854: '존', 1855: '▁수준이', 1856: '▁가치', 1857: '▁이러', 1858: '주세요', 1859: '▁생각해', 1860: '▁천재', 1861: '▁청춘', 1862: '▁흥미', 1863: '▁만들었다', 1864: '▁않을', 1865: '▁전작', 1866: '렸다', 1867: '딱', 1868: '재밋', 1869: '▁대단하다', 1870: '으며', 1871: '갔', 1872: '▁했', 1873: '말이', 1874: '자가', 1875: '봐야', 1876: '▁본다', 1877: '▁소름', 1878: '킹', 1879: '▁흥미진진', 1880: '▁지금도', 1881: '▁급', 1882: '................', 1883: '▁이번', 1884: '▁마무리', 1885: '▁졸라', 1886: '지루', 1887: '이면', 1888: '▁코메디', 1889: '▁아이들이', 1890: '▁모습이', 1891: '였던', 1892: '▁감사', 1893: '▁보여', 1894: '▁않았다', 1895: '드는', 1896: '▁교훈', 1897: '랄', 1898: '▁유치하고', 1899: '▁재미없고', 1900: '▁지난', 1901: '굿', 1902: '한번', 1903: '▁맞는', 1904: '아깝다', 1905: '▁킬링타임용', 1906: '▁식', 1907: '념', 1908: '리스', 1909: '놓은', 1910: '▁이런거', 1911: '▁프로', 1912: '▁시대', 1913: '▁낚', 1914: '▁멋있', 1915: '▁또한', 1916: '▁장면은', 1917: '▁어렸을때', 1918: '보다가', 1919: '보이', 1920: '▁금', 1921: '▁병', 1922: '아닌', 1923: '▁영화보다', 1924: '▁실제', 1925: '책', 1926: '▁않음', 1927: '▁시청률', 1928: '역시', 1929: '▁노출', 1930: '▁않았', 1931: '▁tv', 1932: 'T', 1933: '▁이런걸', 1934: '보면서', 1935: '▁확', 1936: '▁알았', 1937: '반전', 1938: '▁뻔', 1939: '▁액션영화', 1940: '▁속편', 1941: '오는', 1942: '▁비추', 1943: '▁그렇고', 1944: 'S', 1945: '어도', 1946: '팬', 1947: '인거', 1948: '▁화이팅', 1949: '페', 1950: '▁아니지만', 1951: '였습니다', 1952: '한영화', 1953: '렌', 1954: '▁화려한', 1955: 'C', 1956: '품', 1957: '웃음', 1958: '▁작품이', 1959: '▁겁나', 1960: '▁몰', 1961: '▁알아', 1962: '▁ᄒᄒᄒ', 1963: '▁광', 1964: '▁아쉽', 1965: '▁괴', 1966: '▁중에', 1967: '▁명작이다', 1968: '▁하면', 1969: '▁사건', 1970: '▁귀여운', 1971: '얼', 1972: '▁왜이리', 1973: '무슨', 1974: '많', 1975: '▁빠져', 1976: '했는지', 1977: '%', 1978: '▁관계', 1979: '▁저도', 1980: '▁관람', 1981: '▁클', 1982: '▁사랑이', 1983: '▁남주', 1984: '▁아닐까', 1985: '밀', 1986: '▁게임', 1987: '방송', 1988: '하자', 1989: '▁진부한', 1990: '▁왠지', 1991: '▁먹먹', 1992: '▁좋았고', 1993: '는것', 1994: '▁회', 1995: '▁분명', 1996: '것이다', 1997: '▁신선', 1998: '애니', 1999: '가서', 2000: '▁보이는', 2001: '시켜', 2002: '▁최악이다', 2003: '량', 2004: '셔', 2005: '▁행동', 2006: '▁어찌', 2007: '수록', 2008: '▁복', 2009: '준다', 2010: '▁좋았습니다', 2011: '분이', 2012: '▁극장', 2013: '▁떠나', 2014: '▁심리', 2015: '▁터', 2016: '▁삶', 2017: '▁C', 2018: '받', 2019: '▁전체적으로', 2020: '갑', 2021: '▁그래', 2022: '꼭', 2023: '▁자유', 2024: '닥', 2025: '▁군대', 2026: '▁나만', 2027: '▁눈이', 2028: '했으면', 2029: '가족', 2030: '▁아들', 2031: '▁경찰', 2032: '▁드', 2033: '▁스토리에', 2034: '▁무엇보다', 2035: '작가', 2036: '▁같습니다', 2037: '점준다', 2038: '▁보여준', 2039: '었지만', 2040: '▁나쁜', 2041: '▁그런데', 2042: '▁생각한다', 2043: '▁마치', 2044: '@', 2045: '독', 2046: '노잼', 2047: '령', 2048: '▁없었', 2049: '▁영화였습니다', 2050: '▁성공', 2051: '▁먼저', 2052: '▁허접한', 2053: '▁받', 2054: '▁느끼', 2055: '▁삶을', 2056: '견', 2057: '▁끝내', 2058: '▁범죄', 2059: '▁떠', 2060: '이렇게', 2061: '▁살인', 2062: '▁상상력', 2063: 'ᅲᅲᅲ', 2064: '인이', 2065: '▁어이없', 2066: '▁집', 2067: '모습', 2068: '▁한계', 2069: '▁대충', 2070: '▁너무나도', 2071: '▁깊이', 2072: '▁시간낭비', 2073: '▁독', 2074: '▁재밌었어요', 2075: '▁내인생', 2076: '▁맥', 2077: '▁용', 2078: '졸', 2079: '풀', 2080: '▁지루하', 2081: '20', 2082: '사람이', 2083: '든다', 2084: '완', 2085: '▁그녀', 2086: '버렸다', 2087: '▁소재는', 2088: '순간', 2089: '앙', 2090: '▁일상', 2091: '전에', 2092: '▁디', 2093: '겠네', 2094: '▁못하고', 2095: '몰', 2096: '을텐데', 2097: '▁처', 2098: '▁좀비', 2099: '▁투', 2100: '▁로맨틱', 2101: '팅', 2102: '▁깊은', 2103: '있게', 2104: '▁싫어', 2105: '▁짜증나', 2106: '▁보고나서', 2107: '▁영화에서', 2108: '▁함', 2109: '려서', 2110: '황', 2111: '▁확실히', 2112: '▁취', 2113: '▁상영', 2114: '▁드라마를', 2115: '면서도', 2116: '▁이젠', 2117: '엄', 2118: '▁한편', 2119: '하는게', 2120: '되지', 2121: '▁액션이', 2122: '야지', 2123: '▁카메라', 2124: '네여', 2125: '▁표', 2126: '친구', 2127: '▁비슷', 2128: '▁어이없는', 2129: '▁하는데', 2130: '▁다소', 2131: '▁자신의', 2132: '▁별루', 2133: '인간', 2134: '▁안보', 2135: '▁질질', 2136: '필', 2137: '▁각', 2138: '▁바람', 2139: '▁지금봐도', 2140: '▁아오', 2141: '실망', 2142: '▁같네요', 2143: '버리', 2144: '▁좋았음', 2145: '와서', 2146: '거임', 2147: '쪽', 2148: '특히', 2149: '▁낭비', 2150: '▁키', 2151: '▁인상', 2152: '▁자신', 2153: '▁있었던', 2154: '--', 2155: '▁마음을', 2156: '▁좋았는데', 2157: '▁읽', 2158: '▁눈을', 2159: '▁영화중에', 2160: '▁사이', 2161: '▁어색한', 2162: '취', 2163: '던가', 2164: '=', 2165: '득', 2166: '한건', 2167: '▁영웅', 2168: '▁만드', 2169: '이제', 2170: '걸로', 2171: '▁여자들', 2172: '▁모습을', 2173: '▁세상에', 2174: '▁이야기가', 2175: '▁이영화가', 2176: '다운', 2177: '로운', 2178: '▁촬영', 2179: '들아', 2180: '▁답', 2181: '휴', 2182: 'w', 2183: '▁독립영화', 2184: '깨', 2185: '▁그런가', 2186: '▁평론가', 2187: '누', 2188: '나옴', 2189: '▁매력적인', 2190: '▁잘봤습니다', 2191: '▁절', 2192: '었습니다', 2193: '▁여자가', 2194: '▁흐', 2195: '최', 2196: '낮', 2197: '씩', 2198: '▁그랬', 2199: '▁범인', 2200: '▁부분이', 2201: '▁고민', 2202: '▁마라', 2203: '~^^', 2204: '▁입니다', 2205: '▁잘만든', 2206: '▁연애', 2207: '▁커', 2208: '????', 2209: '다른', 2210: '놓', 2211: '가지', 2212: '▁떨', 2213: '송', 2214: '▁프로그램', 2215: '때마다', 2216: '▁스케일', 2217: '▁유쾌한', 2218: '거같다', 2219: '▁분들', 2220: '▁국', 2221: '▁리얼', 2222: '▁순수한', 2223: '▁내용을', 2224: '없어', 2225: '▁동화', 2226: '▁느껴지는', 2227: '던지', 2228: '▁아놔', 2229: '▁감사합니다', 2230: 'ᄃ', 2231: '▁나오고', 2232: '▁왜이렇게', 2233: '▁딴', 2234: '시는', 2235: '▁긴', 2236: '▁훨', 2237: '스타', 2238: '▁교', 2239: 'ᄀ', 2240: '▁이것', 2241: '재밌게', 2242: '▁티', 2243: '성을', 2244: '코미디', 2245: '▁리메이크', 2246: '손', 2247: '껄', 2248: '그러', 2249: '이며', 2250: '▁단순', 2251: '▁해야', 2252: '시간이', 2253: '▁매력이', 2254: '▁저예산', 2255: '하라', 2256: '▁ᄉᄇ', 2257: '▁A', 2258: '▁팔', 2259: '▁끌', 2260: '▁15', 2261: '▁19', 2262: '▁든다', 2263: '▁찍은', 2264: '에서는', 2265: '있어', 2266: '▁이쁘', 2267: '▁벌', 2268: '▁아니면', 2269: '꼬', 2270: '▁싶어', 2271: '쿠', 2272: '▁해주는', 2273: '▁스토리와', 2274: '▁감탄', 2275: '▁OST', 2276: '▁ᄏᄏᄏᄏᄏ', 2277: '▁처음이다', 2278: '▁역대', 2279: '▁기분이', 2280: '최고의', 2281: '▁떨어지는', 2282: '스런', 2283: '▁나에게', 2284: '▁전달', 2285: '▁맨', 2286: '▁했지만', 2287: '빨', 2288: '▁하게', 2289: '▁아저씨', 2290: '▁중간중간', 2291: '됐', 2292: '▁현대', 2293: '▁여전히', 2294: '봤음', 2295: '▁됐', 2296: '▁민', 2297: '▁역할', 2298: '▁아닌데', 2299: '▁역시나', 2300: '▁독특한', 2301: '▁전에', 2302: '주고', 2303: '보세요', 2304: '▁예전', 2305: '고싶다', 2306: '▁나를', 2307: '항', 2308: '▁이런게', 2309: '▁봤었는데', 2310: '▁좋을', 2311: '딸', 2312: '▁잔', 2313: '▁돌려', 2314: '▁-_-', 2315: '것은', 2316: '▁현실성', 2317: '▁신선한', 2318: '▁연기력이', 2319: '▁소재를', 2320: '하려는', 2321: '▁중간', 2322: '쇼', 2323: '▁누', 2324: '▁권', 2325: '재미없', 2326: '시킨', 2327: '▁초반에', 2328: '▁젤', 2329: '▁드는', 2330: '▁유쾌', 2331: '▁슬픔', 2332: '▁<', 2333: '▁섹시', 2334: '끄', 2335: '드라', 2336: '일뿐', 2337: '었으면', 2338: '확', 2339: '▁시선', 2340: '더만', 2341: '돼', 2342: '▁찍어', 2343: '▁평범한', 2344: '▁해준', 2345: '▁정치', 2346: '▁미래', 2347: '*', 2348: '찌', 2349: '▁답답', 2350: '▁메세지', 2351: '▁사람을', 2352: '총', 2353: '만으로', 2354: '나온', 2355: '한듯', 2356: '▁얼', 2357: '소재', 2358: '해주는', 2359: '▁가진', 2360: '▁그림', 2361: '▁호러', 2362: '만화', 2363: '▁있다면', 2364: '(?)', 2365: '려는', 2366: '▁제작진', 2367: '▁전편', 2368: '▁평생', 2369: ';;;;', 2370: '▁보지마세요', 2371: '인것', 2372: '▁저렇게', 2373: 'ᄅ', 2374: '닝', 2375: '▁리뷰', 2376: '▁예쁜', 2377: '▁애들이', 2378: '까진', 2379: '내요', 2380: '시절', 2381: '충', 2382: '▁드라마가', 2383: '▁아름답고', 2384: '빵', 2385: '▁아름답다', 2386: '새끼', 2387: '아깝', 2388: '▁사극', 2389: '▁귀엽고', 2390: '▁흘러', 2391: '▁악역', 2392: '감독이', 2393: '응', 2394: '링', 2395: '▁이유가', 2396: '▁나서', 2397: '▁벗', 2398: '▁액션은', 2399: '▁나중에', 2400: '▁꼴', 2401: '▁볼때마다', 2402: '▁보고싶', 2403: '짜리', 2404: '▁그들의', 2405: 'ᄂ', 2406: 'ᄆ', 2407: '▁살짝', 2408: '▁표정', 2409: '▁웃겨', 2410: '되서', 2411: '▁굳이', 2412: '흔', 2413: '웠', 2414: '클', 2415: '▁죄', 2416: '▁끝나고', 2417: '▁난다', 2418: '▁아는', 2419: '▁괴물', 2420: '▁s', 2421: '▁감동적이고', 2422: '니깐', 2423: '▁보기엔', 2424: '▁슬프다', 2425: '▁통해', 2426: '▁않아', 2427: '▁고전', 2428: '급영화', 2429: '탕', 2430: '하시', 2431: '▁우울', 2432: '▁후반', 2433: '▁바라', 2434: '▁표절', 2435: '▁희생', 2436: '▁사랑하는', 2437: '유치', 2438: '▁보고싶다', 2439: '감이', 2440: '나올', 2441: '//', 2442: '나고', 2443: '▁등장', 2444: '▁뒷', 2445: '팔', 2446: '북', 2447: '▁메시지', 2448: '▁시원', 2449: '▁참신', 2450: '욱', 2451: '▁넣', 2452: '홍', 2453: '많은', 2454: '▁티비', 2455: '▁재밌었는데', 2456: '숨', 2457: '▁나가', 2458: 'ᄏᄏᄏᄏᄏᄏᄏᄏᄏᄏᄏᄏᄏᄏᄏᄏ', 2459: '▁춤', 2460: '쓴', 2461: 'ᄍᄍ', 2462: '▁아깝', 2463: '▁능력', 2464: '▁가지', 2465: '▁안되고', 2466: '프로', 2467: '▁어이가', 2468: '릭', 2469: '하는지', 2470: '▁과연', 2471: '▁분노', 2472: '▁근', 2473: '▁기대를', 2474: '▁연기에', 2475: '▁결과', 2476: 'A', 2477: '▁용서', 2478: '▁몰입감', 2479: '▁몰입이', 2480: '▁여러', 2481: '번째', 2482: '지마라', 2483: '▁남는다', 2484: '▁라는', 2485: '하려고', 2486: '낼', 2487: '▁압권', 2488: '만들어', 2489: '▁종교', 2490: '영화중', 2491: '▁스토리를', 2492: '마저', 2493: '골', 2494: '둘', 2495: '제목', 2496: '▁싫다', 2497: '센', 2498: '▁씨', 2499: '줌', 2500: '▁안나오', 2501: '▁안됨', 2502: '먹고', 2503: '로서', 2504: '▁어릴적', 2505: '▁느', 2506: '▁포장', 2507: '▁연기와', 2508: '▁그의', 2509: '▁재밌었', 2510: '하면서도', 2511: '암', 2512: '▁게이', 2513: '▁캐', 2514: 'E', 2515: '▁출', 2516: '▁짠', 2517: '▁허무', 2518: '▁무지', 2519: '▁우정', 2520: '▁이연걸', 2521: '▁같아', 2522: '▁음악이', 2523: '▁했던', 2524: '▁cg', 2525: '▁사는', 2526: '▁알수', 2527: '▁추천합니다', 2528: '혼', 2529: '결말', 2530: '▁처음엔', 2531: '▁풍', 2532: '폭', 2533: '▁아까워', 2534: '▁자연', 2535: '▁생각합니다', 2536: '뜻', 2537: '▁있지', 2538: '▁같음', 2539: '▁먼', 2540: '▁스타', 2541: '엉', 2542: '드리', 2543: '줬', 2544: '▁알바들', 2545: '▁말로', 2546: '▁모르겠', 2547: '▁나왔으면', 2548: '홀', 2549: '▁홍콩', 2550: '재미없다', 2551: 'an', 2552: '▁만들어진', 2553: '더라구요', 2554: '좋아요', 2555: '거라', 2556: '▁아닌듯', 2557: '씨가', 2558: '람', 2559: '▁보는게', 2560: '▁폭력', 2561: '에서도', 2562: '▁열심히', 2563: '▁잼있게', 2564: 'V', 2565: '▁봤으면', 2566: '시키는', 2567: '놀', 2568: '▁느끼는', 2569: '없네', 2570: '▁다행', 2571: '▁밀', 2572: '▁지루할', 2573: '▁공감이', 2574: '할듯', 2575: '랬', 2576: '영환', 2577: '▁포기', 2578: '▁접', 2579: '▁많다', 2580: '동안', 2581: '▁개판', 2582: '협', 2583: '폰', 2584: '▁긴장', 2585: '▁황당', 2586: '머리', 2587: '▁묘사', 2588: '하겠', 2589: '▁봤다가', 2590: '▁빛', 2591: '▁재미있음', 2592: '▁영화이다', 2593: '진심', 2594: '▁짜증나는', 2595: '험', 2596: 'ᄒᄒᄒ', 2597: '▁안하고', 2598: '었고', 2599: '▁뮤지컬', 2600: '했어', 2601: '잉', 2602: '▁희망', 2603: '▁주인공의', 2604: '▁몸매', 2605: '▁40', 2606: '한게', 2607: '괴', 2608: '인생', 2609: '▁소녀', 2610: '▁칼', 2611: '▁중요한', 2612: '▁되었다', 2613: '▁달리', 2614: '기엔', 2615: '▁기본', 2616: '첨', 2617: '죄', 2618: '▁주인공들', 2619: '말고', 2620: '▁+', 2621: '쯧', 2622: '▁빼', 2623: '▁이건뭐', 2624: '.\"', 2625: '▁티비에서', 2626: '▁만든다', 2627: '▁더이상', 2628: '▁밑에', 2629: '났다', 2630: '▁I', 2631: '▁낫', 2632: '점주는', 2633: '▁볼거리', 2634: '▁별로다', 2635: '▁자막', 2636: '▁보시길', 2637: '▁만큼', 2638: '▁올리', 2639: '▁재미를', 2640: '뒤', 2641: '표현', 2642: '▁다만', 2643: '빡', 2644: '▁퀄리티', 2645: '▁이유는', 2646: '▁그렇다', 2647: '▁고생', 2648: ',,,,', 2649: '▁설레', 2650: '▁진심으로', 2651: '▁인기', 2652: '▁무섭다', 2653: '▁빠', 2654: '▁크게', 2655: '짜증', 2656: '폐', 2657: '▁사랑과', 2658: '▁굳', 2659: '▁사랑에', 2660: '렉', 2661: '▁덜', 2662: '▁밥', 2663: '재밌어요', 2664: '▁재밌습니다', 2665: '아님', 2666: '오빠', 2667: '▁생각나는', 2668: '하셨', 2669: '내는', 2670: '것을', 2671: '일이', 2672: '영상', 2673: '잼있', 2674: '▁짓', 2675: '▁오버', 2676: '&', 2677: '탁', 2678: '힐', 2679: '▁없지만', 2680: '왔', 2681: '르는', 2682: '▁되게', 2683: '▁흐름', 2684: '▁가서', 2685: '▁이어', 2686: '▁놓', 2687: '▁다큐멘터리', 2688: '으로서', 2689: '랜', 2690: '▁어쩔', 2691: '▁쉽게', 2692: '▁볼수록', 2693: '▁이정도면', 2694: '▁그럭저럭', 2695: '▁죽어', 2696: '▁북한', 2697: '해준', 2698: '▁최근', 2699: '▁풀어', 2700: '▁제목이', 2701: '년전에', 2702: '▁네', 2703: '▁어제', 2704: '▁임', 2705: '자들', 2706: '아주', 2707: '▁지루해서', 2708: '엄마', 2709: '▁후반부', 2710: '▁그다지', 2711: '▁성인', 2712: '▁좋았던', 2713: '▁정서', 2714: '▁건지', 2715: '▁아깝지', 2716: '▁재미없네', 2717: '▁친', 2718: '▁해피엔딩', 2719: '▁드라마는', 2720: '▁영화지만', 2721: '▁언제나', 2722: '▁삶의', 2723: '▁동생', 2724: '롱', 2725: '좋았', 2726: '▁디즈니', 2727: '▁비주얼', 2728: '▁힐링', 2729: '인의', 2730: '▁영화보고', 2731: '속에서', 2732: '얘기', 2733: '봣', 2734: '▁거지', 2735: '전쟁', 2736: '▁감동과', 2737: '▁남아', 2738: '▁몇번을', 2739: '▁그걸', 2740: '▁남을', 2741: '▁그려', 2742: '▁S', 2743: '▁아쉬움', 2744: '껏', 2745: '▁젊은', 2746: '▁가볍게', 2747: '봤던', 2748: '엘', 2749: '▁불편', 2750: '▁돋', 2751: '킨', 2752: '▁유치함', 2753: '했나', 2754: '였지만', 2755: '였어요', 2756: '▁폭', 2757: '▁소재가', 2758: '★', 2759: '▁마세요', 2760: '▁못했다', 2761: '▁보이', 2762: '안에', 2763: '▁ᅮ', 2764: '▁소재로', 2765: '▁붙', 2766: '웨', 2767: '▁배우의', 2768: '막장', 2769: '▁싫', 2770: '▁몰라도', 2771: '▁엉성한', 2772: '▁좋아서', 2773: '▁추억의', 2774: '▁샤', 2775: '▁올해', 2776: '▁돌아가', 2777: 'ᅡ', 2778: '▁싸구려', 2779: '▁눈빛', 2780: '있는데', 2781: '이해', 2782: '▁청', 2783: '로써', 2784: '▁놀라', 2785: '▁관심', 2786: '▁12', 2787: '는건지', 2788: '▁와닿', 2789: '▁채널', 2790: '▁높다', 2791: '▁똑같', 2792: '왔다', 2793: '▁맘', 2794: '▁쓰래기', 2795: '▁갔', 2796: '▁명작이', 2797: '뿌', 2798: '하지도', 2799: '캐릭터', 2800: 'ᄏᄏᄏᄏᄏ', 2801: '웠다', 2802: 'ᄃᄃ', 2803: '쁘', 2804: '하구', 2805: '▁재미있네요', 2806: '▁잊', 2807: '▁홍', 2808: '▁70', 2809: '▁봐야할', 2810: '예요', 2811: '▁동물', 2812: '랐', 2813: '▁있나', 2814: '하신', 2815: '▁국민', 2816: '지마', 2817: '▁무시', 2818: '압', 2819: 'N', 2820: 'j', 2821: '녕', 2822: '▁연예인', 2823: '재밌다', 2824: '접', 2825: '▁잔인한', 2826: '▁광고', 2827: '했네', 2828: '가지고', 2829: '▁보았', 2830: '▁몰랐', 2831: '▁찡', 2832: '▁슬프고', 2833: '세기', 2834: '용으로', 2835: '대사', 2836: '▁끊', 2837: '텔', 2838: '▁섹스', 2839: '멋', 2840: '▁필요없다', 2841: '▁우리가', 2842: '나와', 2843: '▁법', 2844: '▁킬링타임', 2845: '▁그럼', 2846: '▁요소', 2847: '▁끝나는', 2848: '봣는데', 2849: '▁보고싶은', 2850: '▁있게', 2851: '춘', 2852: '콜', 2853: '내용이', 2854: '▁사람의', 2855: '▁재밋게', 2856: '▁늘어', 2857: '▁필요없는', 2858: '애들', 2859: '▁틀', 2860: '▁슬프', 2861: '킬', 2862: '함과', 2863: '▁만들고', 2864: '▁이제야', 2865: '▁글쎄', 2866: '봉', 2867: '▁재밌네', 2868: '겹', 2869: '▁문화', 2870: '명이', 2871: '되면', 2872: '털', 2873: '칸', 2874: '한다는', 2875: '▁아픔', 2876: '▁가끔', 2877: '▁되고', 2878: '▁악당', 2879: '▁반전도', 2880: '사이', 2881: '▁ᄃᄃ', 2882: '끈', 2883: '▁되었', 2884: '▁홍보', 2885: '▁점수를', 2886: '▁브', 2887: '▁되지', 2888: '▁그린', 2889: '웅', 2890: '▁실패', 2891: '▁불구하고', 2892: '봤어요', 2893: '▁방금', 2894: '▁짱짱', 2895: '▁사랑스러운', 2896: '▁다시한번', 2897: '한다면', 2898: '▁이쁜', 2899: '▁지구', 2900: '▁멀', 2901: 'M', 2902: '▁않게', 2903: '기분', 2904: '일본', 2905: '▁우주', 2906: '눈물', 2907: '▁페', 2908: '중의', 2909: '▁루', 2910: '▁에로', 2911: '좋고', 2912: '▁채', 2913: '▁펑펑', 2914: '▁헐리우드', 2915: '현실', 2916: '▁뛰어난', 2917: '▁돋보', 2918: '사회', 2919: '겁', 2920: '▁볼만함', 2921: '▁인생을', 2922: '▁헤', 2923: '스릴러', 2924: '▁음악도', 2925: '먹는', 2926: '▁영화관', 2927: '으면서', 2928: '마음', 2929: '온다', 2930: '틈', 2931: '▁어려운', 2932: '▁생애', 2933: '으론', 2934: '픈', 2935: '▁낮아서', 2936: '나와서', 2937: '▁진정', 2938: '▁달라', 2939: '▁없나', 2940: '웃기', 2941: '▁의심', 2942: '▁연출도', 2943: 'O', 2944: '시키', 2945: '▁아마', 2946: '▁웃기고', 2947: '섭', 2948: '▁자극', 2949: '▁발전', 2950: '▁로그인', 2951: '▁무언가', 2952: '▁시사회', 2953: '르고', 2954: '▁연결', 2955: '끌', 2956: '▁좋습니다', 2957: '♥♥', 2958: '했으나', 2959: '▁그것', 2960: '▁열정', 2961: '▁찍었', 2962: '▁식상', 2963: '괜찮', 2964: '▁딱히', 2965: '▁탈', 2966: '▁산으로', 2967: '시고', 2968: '빙', 2969: '공포', 2970: '▁월', 2971: '▁다르', 2972: '▁풀', 2973: '▁개인', 2974: '▁엉망', 2975: '▁아름다움', 2976: ']', 2977: '▁들었', 2978: '▁행', 2979: '점준', 2980: '▁니', 2981: '있음', 2982: '알바', 2983: 'on', 2984: '▁불쌍', 2985: '▁차이', 2986: '▁갑', 2987: '▁쓸', 2988: '슈', 2989: '떠', 2990: '▁유치하다', 2991: '▁무섭', 2992: '▁철', 2993: '▁유명', 2994: '▁순수', 2995: '▁죄다', 2996: '▁죽이', 2997: '이유', 2998: '▁나옴', 2999: '▁많아', 3000: '솔', 3001: '▁청소년', 3002: '▁베스트', 3003: '▁잊혀지지', 3004: '대는', 3005: '▁생생', 3006: '할까', 3007: '▁단연', 3008: '▁재밌었음', 3009: '옥', 3010: '▁평이', 3011: '력이', 3012: '▁반성', 3013: '▁나왔다', 3014: '▁킬링타임용으로', 3015: '▁꺼', 3016: '▁시간을', 3017: '▁푹', 3018: '▁정말로', 3019: '▁빌려', 3020: '▁c', 3021: '택', 3022: '벽', 3023: '▁눈물을', 3024: '▁어머니', 3025: '▁캐릭터들', 3026: '한것', 3027: '▁운', 3028: '지않은', 3029: '▁평범', 3030: '▁의도', 3031: '▁어른', 3032: '▁조폭', 3033: 'er', 3034: '▁인간이', 3035: '착', 3036: '나가는', 3037: '답답', 3038: '겠어요', 3039: '널', 3040: '개봉', 3041: '높', 3042: '▁괜찮았', 3043: '빼고', 3044: '틱', 3045: '엠', 3046: '▁죽는', 3047: '▁남녀', 3048: '▁몰입해서', 3049: '▁남겨', 3050: '무비', 3051: '했다는', 3052: '▁말을', 3053: '▁출연진', 3054: '▁쫌', 3055: '▁무서워', 3056: '지않고', 3057: '▁힘들다', 3058: '사가', 3059: '땅', 3060: '▁귀엽', 3061: '▁투자', 3062: '▁하면서', 3063: '▁끌어', 3064: '▁멋지다', 3065: '▁핵', 3066: '▁믿', 3067: '▁한국인', 3068: '▁연속', 3069: '▁d', 3070: '값', 3071: '▁결말은', 3072: '자는', 3073: '▁당신', 3074: '같음', 3075: '▁괜찮', 3076: '인가요', 3077: '에대한', 3078: '▁있습니다', 3079: '▁뜻', 3080: '▁인간들', 3081: '▁빈', 3082: '▁탄탄한', 3083: '▁보니까', 3084: '▁여기서', 3085: '자체가', 3086: '워서', 3087: '▁단순한', 3088: '▁뻔하고', 3089: '▁결말도', 3090: '됬', 3091: '▁봣는데', 3092: '우리', 3093: '▁나오면', 3094: '컨', 3095: '▁헐리웃', 3096: '▁스스로', 3097: '▁멍청한', 3098: '▁질리지', 3099: '▁직', 3100: '▁좋았', 3101: '▁좋았을', 3102: '정신', 3103: '▁둘다', 3104: '▁느와르', 3105: '▁해주', 3106: '▁집에서', 3107: '원작', 3108: '▁표현한', 3109: '것만', 3110: '▁아직까지', 3111: '▁현실적인', 3112: '▁볼만하다', 3113: '연기도', 3114: '▁시걸', 3115: '세상', 3116: '▁보았다', 3117: '▁전문가', 3118: '▁사기', 3119: '쳤', 3120: '▁관객들', 3121: '연기가', 3122: '▁하루', 3123: '감을', 3124: '▁옛날에', 3125: '▁있어요', 3126: '▁견자단', 3127: '▁흔한', 3128: '버리는', 3129: '▁;;', 3130: '▁환상', 3131: '▁볼만하', 3132: '▁잭', 3133: '줘야', 3134: '했네요', 3135: '편보다', 3136: '▁떠나서', 3137: '스터', 3138: '▁좀더', 3139: '헤', 3140: '시다', 3141: '평점이', 3142: '▁끼', 3143: '영화의', 3144: '캐', 3145: '▁대화', 3146: '싱', 3147: '▁전체', 3148: '!!!!!', 3149: '한다고', 3150: '▁느낌을', 3151: '스타일', 3152: '▁못한다', 3153: '▁시시', 3154: '▁제작비', 3155: '해주세요', 3156: '으려', 3157: '▁싶지', 3158: '▁무엇을', 3159: '구성', 3160: '▁어렸을', 3161: '▁매력있', 3162: '럼', 3163: '▁재미있었다', 3164: '친다', 3165: '▁미드', 3166: '▁느낀', 3167: '▁시대를', 3168: '▁같아서', 3169: '▁높아', 3170: '내고', 3171: '▁레전드', 3172: '▁장면에서', 3173: '스러워', 3174: '▁벌써', 3175: '▁뜨', 3176: '▁배우들도', 3177: '▁시각', 3178: '▁매력적이', 3179: '▁영국', 3180: '▁끝난', 3181: '텐데', 3182: '▁하네요', 3183: '▁굿굿', 3184: '▁있으면', 3185: '▁말할', 3186: '▁슬', 3187: '▁말하는', 3188: '▁지금은', 3189: '늘', 3190: '▁끝이', 3191: '내용도', 3192: '▁않지만', 3193: '▁이후로', 3194: '긴한데', 3195: '▁이해할', 3196: '신이', 3197: '▁50', 3198: '▁조연', 3199: '▁팬이', 3200: '나게', 3201: '스러움', 3202: '▁T', 3203: '▁특', 3204: '▁싶네요', 3205: '▁지켜', 3206: '▁반복', 3207: '▁주변', 3208: '▁외모', 3209: '▁단지', 3210: '영화라고', 3211: '세계', 3212: '점수', 3213: '▁즐겁게', 3214: '사는', 3215: '▁잔잔하고', 3216: '▁작가가', 3217: '꾸', 3218: '▁남편', 3219: '▁야한', 3220: '▁영화냐', 3221: '▁남자가', 3222: '안되', 3223: '▁나오지', 3224: '스가', 3225: '면에서', 3226: '엿', 3227: '넣', 3228: '▁찌', 3229: '혁', 3230: '릿', 3231: '▁초등학생', 3232: '▁위대한', 3233: '편의', 3234: '▁발견', 3235: '▁창', 3236: '▁느껴', 3237: '받는', 3238: '부족', 3239: '언니', 3240: '▁영어', 3241: '▁유쾌하고', 3242: '▁할말', 3243: '▁재밋다', 3244: '▁생각없이', 3245: '▁누구나', 3246: '냥', 3247: '으로써', 3248: '묘', 3249: '중에서', 3250: '▁못해', 3251: '들만', 3252: '▁유명한', 3253: '▁발로', 3254: '톱', 3255: '▁누군가', 3256: '▁재밌을', 3257: '▁갈등', 3258: '겁니다', 3259: '놨', 3260: '▁모든게', 3261: '▁\"\"\"', 3262: '었어', 3263: '였고', 3264: '▁부르', 3265: '▁안돼', 3266: '▁필', 3267: '영화로', 3268: '▁한심', 3269: '▁속에', 3270: 'OOO', 3271: '거면', 3272: '▁생각하는', 3273: '기위해', 3274: '▁받아', 3275: '시작', 3276: '▁시도', 3277: '았던', 3278: '수도', 3279: '▁쇼', 3280: '▁않나', 3281: '`', 3282: '만드는', 3283: '\"\"\"', 3284: '▁맨날', 3285: '갔다', 3286: '지를', 3287: '보자', 3288: '11', 3289: '▁못할', 3290: '님의', 3291: '▁국내', 3292: '▁김기덕', 3293: '젠', 3294: '▁안타깝다', 3295: '노래', 3296: '하는것', 3297: '가슴', 3298: '려면', 3299: '▁잊지', 3300: '하는건', 3301: '떡', 3302: '▁하나하나', 3303: '▁눈에', 3304: '▁받았', 3305: '떄', 3306: '보는내내', 3307: '관계', 3308: '이니', 3309: '▁왠', 3310: '▁편견', 3311: '계의', 3312: '▁기대안하고', 3313: '▁인물들', 3314: '▁떨어지', 3315: '볼만', 3316: '▁이거보고', 3317: '와는', 3318: '▁아나', 3319: '▁허세', 3320: '▁보길', 3321: '계속', 3322: '해진', 3323: '▁안보고', 3324: '▁영화에요', 3325: '만의', 3326: '▁하는지', 3327: '냈', 3328: '시간에', 3329: '▁멋', 3330: '아까', 3331: '▁넘어', 3332: '▁시트콤', 3333: '닌', 3334: '흐', 3335: '▁있네요', 3336: '하려', 3337: '▁한참', 3338: '잠', 3339: '▁어쩌', 3340: '▁공부', 3341: '잤', 3342: '나온다', 3343: '혈', 3344: '따라', 3345: '▁내려', 3346: '기억', 3347: '▁생각하고', 3348: '▁꾸', 3349: '▁빼고', 3350: '▁줌', 3351: '▁진지', 3352: '스의', 3353: '▁아이돌', 3354: '▁할말이', 3355: '이었', 3356: '▁멋있다', 3357: '그리', 3358: '딩', 3359: '▁고통', 3360: '줘서', 3361: '▁보인다', 3362: '▁ᅲᅲᅲ', 3363: '져서', 3364: '▁드럽게', 3365: 'v', 3366: '▁모르겠고', 3367: '님들', 3368: '▁빨', 3369: '▁울고', 3370: '즘', 3371: '▁송', 3372: '▁불쾌', 3373: '▁무척', 3374: '봐요', 3375: '.......', 3376: '장면이', 3377: 'ᅲᅮ', 3378: '▁미모', 3379: '리지', 3380: '냈다', 3381: '▁개연성이', 3382: '을수', 3383: '▁그렇다고', 3384: '남는', 3385: '상을', 3386: '▁이기', 3387: '해야지', 3388: '▁울었다', 3389: '몽', 3390: '자의', 3391: '밥', 3392: 'I', 3393: '있네', 3394: '차라리', 3395: '례', 3396: '▁뭉클', 3397: '▁즐거운', 3398: '▁멍청', 3399: '▁로봇', 3400: '봅니다', 3401: 'or', 3402: '▁아줌마', 3403: '▁이쁘고', 3404: '▁죽여', 3405: '▁코난', 3406: '........', 3407: '▁앞', 3408: '편을', 3409: '돌아', 3410: '▁한데', 3411: '▁부모', 3412: '▁영화였어요', 3413: '▁힘이', 3414: '정이', 3415: '▁덕분에', 3416: '사람은', 3417: '▁음악과', 3418: '▁인생의', 3419: '겠네요', 3420: '▁당시에', 3421: '▁이때', 3422: '▁살고', 3423: '▁이런영화가', 3424: '뻐', 3425: '▁좋게', 3426: '▁의외로', 3427: '▁대부분', 3428: '▁달달', 3429: '▁찌질', 3430: '수있는', 3431: 'ᄏᄏᄏᄏᄏᄏᄏᄏᄏ', 3432: '겠음', 3433: '▁대사가', 3434: '▁씬', 3435: '▁아쉽네요', 3436: '째', 3437: '▁있어야', 3438: '▁에피소드', 3439: '▁착한', 3440: '▁필요한', 3441: '▁나쁘지', 3442: '▁히', 3443: '▁웃음이', 3444: '부작', 3445: '메이', 3446: '▁진리', 3447: '쉽', 3448: '▁[', 3449: '들고', 3450: '▁여행', 3451: '▁기술', 3452: '뽑', 3453: 'ᄌ', 3454: '▁007', 3455: '▁보고나면', 3456: '▁착', 3457: '▁와우', 3458: '형님', 3459: 'in', 3460: '▁친구들', 3461: '▁옛', 3462: '▁썩', 3463: '▁이쁘다', 3464: '는것도', 3465: '▁망한', 3466: '▁긴장감도', 3467: '▁우와', 3468: '지말고', 3469: '▁재미없어요', 3470: '▁에휴', 3471: '씬은', 3472: '▁논', 3473: '보게', 3474: '영화임', 3475: '▁돼', 3476: '해진다', 3477: '하던데', 3478: '▁엉성', 3479: '▁이미지', 3480: '▁전투', 3481: '▁마이너스', 3482: '▁봤더니', 3483: '▁쵝오', 3484: '▁수도', 3485: '▁경험', 3486: '▁복잡', 3487: '▁낳', 3488: '▁재미있었어요', 3489: '▁혼', 3490: '▁없는데', 3491: '▁침', 3492: '▁학교에서', 3493: '▁무비', 3494: '▁자살', 3495: '▁결', 3496: '▁작은', 3497: '▁암튼', 3498: '설정', 3499: '▁시청자', 3500: '자체', 3501: '왔는데', 3502: '▁바뀌', 3503: '▁짝퉁', 3504: '▁신선하고', 3505: '▁good', 3506: '▁헤어', 3507: '쌍', 3508: '댄', 3509: '▁빼고는', 3510: '버리고', 3511: 'ᅵ', 3512: '뮤', 3513: '▁the', 3514: '▁더불어', 3515: '▁마이클', 3516: '▁작품을', 3517: '▁슈퍼', 3518: '떨', 3519: '▁자식', 3520: '▁최강', 3521: '▁더러운', 3522: '▁어휴', 3523: '집니다', 3524: '벨', 3525: '▁조합', 3526: '▁살려', 3527: '▁좋았지만', 3528: '무섭', 3529: '▁모르겠지만', 3530: '이라서', 3531: '▁박수를', 3532: '▁지루했다', 3533: '▁꽃', 3534: '끼리', 3535: '▁감동적', 3536: '▁충', 3537: '▁판', 3538: '▁좋지만', 3539: 'ar', 3540: '▁왜케', 3541: '만큼은', 3542: '▁적당', 3543: '▁작품이다', 3544: '▁어렵', 3545: '▁동안', 3546: '것들', 3547: '▁명품', 3548: '▁제로', 3549: '▁받을', 3550: '균', 3551: '▁카리스마', 3552: '뽕', 3553: '버릴', 3554: '▁민망', 3555: '▁놈', 3556: '▁무서웠', 3557: '▁삶에', 3558: '▁없었던', 3559: '▁취향', 3560: '▁극치', 3561: '▁양심', 3562: '있나', 3563: '▁13', 3564: '▁볼게', 3565: '학교', 3566: '영화에', 3567: '▁미안', 3568: '였어', 3569: 'ᅲᅲᅲᅲ', 3570: '지네요', 3571: '▁군', 3572: '▁본인', 3573: '▁손발이', 3574: '식으로', 3575: '했었는데', 3576: '흘리', 3577: '짧', 3578: '끝나', 3579: '칭', 3580: '▁외계인', 3581: '▁흥미로운', 3582: '받고', 3583: '▁중에서', 3584: '▁방법', 3585: '▁말하고', 3586: '▁최고입니다', 3587: '쩔', 3588: '깔', 3589: '샤', 3590: '▁쩐다', 3591: '▁죽은', 3592: '리를', 3593: '켜', 3594: '느라', 3595: '다는게', 3596: '문화', 3597: '▁썼', 3598: '▁체', 3599: '까요', 3600: '지않는', 3601: '하다가', 3602: '내내', 3603: '있어서', 3604: '▁기다리', 3605: '씨의', 3606: '▁비극', 3607: '퀴', 3608: '▁주성치', 3609: '▁직접', 3610: '▁바꿔', 3611: '▁감정을', 3612: '▁일품', 3613: '▁없다는', 3614: '▁부족하다', 3615: '▁노답', 3616: '활', 3617: '상황', 3618: '▁독특', 3619: '▁피해자', 3620: '▁학교', 3621: '▁즐기', 3622: '끝까지', 3623: '▁앤', 3624: '▁들어가', 3625: '아니다', 3626: '▁어린이', 3627: '▁뇌', 3628: '▁잊을', 3629: '▁지루하게', 3630: '하다니', 3631: '이였다', 3632: '겟다', 3633: '이런영화', 3634: '렁', 3635: 'W', 3636: '▁봣', 3637: '▁좋았으나', 3638: '▁따뜻해지는', 3639: '▁의리', 3640: '▁미소', 3641: '한국', 3642: '▁역대급', 3643: '▁아이가', 3644: '요즘', 3645: '놔', 3646: '▁해석', 3647: '장난', 3648: '럴', 3649: '인들', 3650: '만들었', 3651: '아쉽', 3652: '▁있던', 3653: '▁싶은데', 3654: '▁뭐라', 3655: '간의', 3656: '재밌음', 3657: '▁본다면', 3658: '▁보러', 3659: '동생', 3660: '▁오바', 3661: '▁이하', 3662: '같고', 3663: '힘', 3664: '연기력', 3665: '▁중반', 3666: '겠습니다', 3667: '필요', 3668: '율', 3669: '▁용기', 3670: '농', 3671: '▁고양이', 3672: '▁18', 3673: '▁좋겠어요', 3674: '▁다룬', 3675: '▁영화인듯', 3676: '▁완전히', 3677: '하지마라', 3678: '젤', 3679: '이자', 3680: '시즌', 3681: '짜증나', 3682: '문제', 3683: '▁올라', 3684: '▁의미를', 3685: '▁십', 3686: '▁설마', 3687: '▁괜찮다', 3688: '▁부터', 3689: '까지는', 3690: '▁싸이코', 3691: '▁주말', 3692: '▁간다', 3693: '▁실제로', 3694: '상태', 3695: '▁아침', 3696: '버려', 3697: '라는게', 3698: '있었', 3699: '▁철학', 3700: '▁원작의', 3701: 'it', 3702: '▁그럴', 3703: '이었음', 3704: '쳤다', 3705: '▁사랑은', 3706: '컷', 3707: '둔', 3708: '뜬', 3709: '▁지나치게', 3710: '적은', 3711: '▁웃기지도', 3712: '▁이유를', 3713: '▁교육', 3714: '▁안타깝', 3715: '▁사랑의', 3716: '더라도', 3717: '▁연기력도', 3718: '▁이래', 3719: '셔서', 3720: '▁기대했는데', 3721: '콩', 3722: '▁보자', 3723: '잡고', 3724: '▁포르노', 3725: '보여', 3726: '▁비판', 3727: '▁곳', 3728: '▁웃김', 3729: '▁도전', 3730: '엔딩', 3731: '▁게다가', 3732: '▁좋아해서', 3733: '출연', 3734: '▁찬', 3735: '▁퇴', 3736: '▁알려', 3737: '매력', 3738: '명의', 3739: '님이', 3740: '새끼들', 3741: '▁없지', 3742: '▁볼수있', 3743: '튀', 3744: '▁많았', 3745: 'ᄇ', 3746: '▁패러디', 3747: '▁느껴진다', 3748: '▁먹고', 3749: '▁영혼', 3750: '▁일어나', 3751: 'ing', 3752: '▁모를', 3753: '▁희', 3754: '▁엄', 3755: '▁좋아할', 3756: '▁오글', 3757: '▁크리스마스', 3758: '쥐', 3759: '▁올려', 3760: '▁케이블', 3761: '▁개봉한', 3762: '배경', 3763: '감동적', 3764: '▁뛰어', 3765: '▁보며', 3766: '▁꿈을', 3767: '할수있', 3768: '▁남자의', 3769: '층', 3770: 'K', 3771: '흘', 3772: '▁몇몇', 3773: '년만에', 3774: '▁쓰레기같은', 3775: '▁뿐이다', 3776: '▁어른들', 3777: '▁생각나', 3778: '중독', 3779: '인건', 3780: '▁원작이', 3781: '▁모르게', 3782: '▁느낄수', 3783: '▁잔인하', 3784: '▁무협', 3785: '꼴', 3786: '▁진부하고', 3787: '었네요', 3788: '▁연기자들', 3789: '▁할까', 3790: '생겼', 3791: '▁않을까', 3792: '▁견', 3793: '점정도', 3794: '▁인상적이', 3795: '기로', 3796: '슬프', 3797: '곳', 3798: '▁상처', 3799: '▁보려고', 3800: '▁밤', 3801: '▁보여준다', 3802: '▁어릴', 3803: '물이', 3804: '▁똑같은', 3805: '▁합', 3806: '▁전설의', 3807: '▁이해하기', 3808: '멘', 3809: '▁답답한', 3810: '▁한명', 3811: '▁넘치는', 3812: '▁아까울', 3813: '▁잠깐', 3814: '▁개성', 3815: '▁:', 3816: '▁검', 3817: '▁속에서', 3818: '좋아하는', 3819: '▁평점보고', 3820: '▁아프', 3821: '▁신경', 3822: '않는', 3823: '하시는', 3824: '▁주기', 3825: '▁시청', 3826: '▁행복한', 3827: '치곤', 3828: '▁대중', 3829: '▁언', 3830: '▁무섭지도', 3831: '개도', 3832: '▁밑', 3833: '▁재밌다고', 3834: '안되는', 3835: '?!', 3836: '았음', 3837: '없어서', 3838: '▁싶을', 3839: '▁가능', 3840: '만이', 3841: '▁화가', 3842: 'ᅮᅮᅮ', 3843: '▁커플', 3844: '▁따로', 3845: '감독님', 3846: '▁블랙', 3847: '냄새', 3848: '▁뒤로', 3849: '.........', 3850: '▁레알', 3851: '줬다', 3852: '▁많고', 3853: '잇는', 3854: '하기도', 3855: '받아', 3856: '공감', 3857: '똥', 3858: '▁현실이', 3859: '읽', 3860: '▁이럴', 3861: '아까움', 3862: '▁최대', 3863: '▁가득', 3864: 're', 3865: '▁훈훈한', 3866: '▁관한', 3867: '엇다', 3868: '버림', 3869: '▁가슴에', 3870: '하고싶은', 3871: '..;;', 3872: '▁들었다', 3873: '룡', 3874: '▁싶었', 3875: '는듯', 3876: '붕', 3877: '쟁이', 3878: '제발', 3879: '껴', 3880: '롤', 3881: '▁디테일', 3882: '▁스트레스', 3883: '▁감흥', 3884: '▁봤을때', 3885: '지지', 3886: '▁빠진', 3887: '▁해결', 3888: '▁꼽', 3889: '▁보내', 3890: '올리', 3891: '▁낚시', 3892: '▁선생님', 3893: '얼굴', 3894: '▁m', 3895: 'F', 3896: '받은', 3897: '▁오랜만', 3898: '▁ᄋᄋ', 3899: '▁관점', 3900: '▁한마디', 3901: '그래서', 3902: '▁대해서', 3903: '속의', 3904: '▁폴', 3905: '▁얼마', 3906: '▁홍콩영화', 3907: '콘', 3908: '고싶은', 3909: '▁쓰는', 3910: '▁전기세', 3911: '▁사랑이야기', 3912: '▁빠져들', 3913: '0%', 3914: '▁안나', 3915: '▁하는거', 3916: '▁실력', 3917: '▁필름', 3918: '뭔가', 3919: '▁보여줬', 3920: '기까지', 3921: 'X', 3922: '덤', 3923: '되네요', 3924: '▁미치', 3925: '▁긴장감이', 3926: '더빙', 3927: '▁좋아하는데', 3928: '식이', 3929: '▁그녀의', 3930: '▁웬', 3931: '▁울었', 3932: '▁생각하면', 3933: '▁소중한', 3934: '딴', 3935: '▁기다려', 3936: '이뻐', 3937: '▁이제서야', 3938: '▁한번쯤', 3939: '▁변태', 3940: '▁존경', 3941: '▁이용', 3942: '냐고', 3943: '▁됨', 3944: '▁인해', 3945: '▁막판에', 3946: '▁있었지만', 3947: '어진', 3948: '특', 3949: '으니까', 3950: '받아서', 3951: '▁재미와', 3952: '붙', 3953: '밤', 3954: '돋', 3955: '푸', 3956: '사람들은', 3957: '▁콩', 3958: '틴', 3959: '▁모르', 3960: '▁맞아', 3961: '억지', 3962: '▁그거', 3963: '고싶어', 3964: '▁웃기다', 3965: '▁앞으로도', 3966: '▁꽝', 3967: '점줌', 3968: '때부터', 3969: '▁아련', 3970: '▁DVD', 3971: '넹', 3972: '▁젠장', 3973: '▁개뿔', 3974: '▁통쾌', 3975: '▁할머니', 3976: '▁기자', 3977: '스크', 3978: '시길', 3979: '▁풍경', 3980: '▁개막장', 3981: '▁전개도', 3982: '▁욕망', 3983: '▁작가님', 3984: '▁보지마', 3985: '▁감히', 3986: '누나', 3987: '▁애기', 3988: '▁악마', 3989: '!!!!!!!!!', 3990: '장애', 3991: '▁탑', 3992: '살아', 3993: '▁없어요', 3994: '▁못함', 3995: '가요', 3996: '공포영화', 3997: '빛', 3998: '따위', 3999: '▁왠만하면', 4000: '▁w', 4001: '▁한심한', 4002: '▁믿을', 4003: '▁갖', 4004: '쓸', 4005: '몸', 4006: '▁봤을', 4007: 'G', 4008: '사람들이', 4009: '▁웃고', 4010: '▁재미잇', 4011: '▁쓰레기다', 4012: '▁미쳤', 4013: '▁보긴', 4014: '▁괜찮은데', 4015: '▁자주', 4016: '▁그렇지', 4017: '▁죽이는', 4018: '♥♥♥', 4019: '▁스크린', 4020: '▁점수가', 4021: '납니다', 4022: '▁겨우', 4023: '▁반개도', 4024: '▁에이', 4025: '그래', 4026: '겼', 4027: '▁잼있다', 4028: '랜드', 4029: '▁야동', 4030: '리아', 4031: '▁하나의', 4032: '더라면', 4033: '▁추억이', 4034: '▁망치', 4035: '▁감동적이다', 4036: '▁퍼', 4037: '▁보여주고', 4038: '보지', 4039: '▁결론', 4040: '▁심하게', 4041: '어떻게', 4042: '▁우리의', 4043: '쏘', 4044: '▁생각함', 4045: '주면', 4046: '감독의', 4047: '오늘', 4048: '보다도', 4049: '▁봤었', 4050: '편도', 4051: '▁정의', 4052: '▁승', 4053: '▁말도안되는', 4054: '빨리', 4055: '▁영화인', 4056: '▁케', 4057: '▁무술', 4058: '▁강력', 4059: '▁있구나', 4060: '▁보기에', 4061: '자를', 4062: '▁이루', 4063: '▁줬', 4064: '▁내면', 4065: '있냐', 4066: '▁색', 4067: '자나', 4068: '▁보통', 4069: '쩌', 4070: '하겠다', 4071: '배우들의', 4072: '▁헛', 4073: '▁한국영화는', 4074: '▁세상을', 4075: '▁옥', 4076: '▁형님', 4077: '았는데', 4078: '맥', 4079: '▁졸리', 4080: 'P', 4081: '스키', 4082: '초반', 4083: '혹은', 4084: '▁자신이', 4085: '나오고', 4086: '스톤', 4087: '점이다', 4088: '잃', 4089: '▁심각', 4090: '옹', 4091: '깍', 4092: '낯', 4093: '거같은데', 4094: '나왔', 4095: '▁정도의', 4096: '▁맹', 4097: '▁둘이', 4098: '▁최초', 4099: '다니는', 4100: '▁짝이', 4101: '싶다', 4102: '▁깨닫게', 4103: '▁빵점', 4104: '마지막에', 4105: '▁할수', 4106: '▁왜이래', 4107: '편에', 4108: '▁영화들', 4109: '▁흑인', 4110: '로만', 4111: '▁O', 4112: '▁모두가', 4113: '▁본영화', 4114: '논', 4115: '상실', 4116: '굴', 4117: '▁본방사수', 4118: '▁장르가', 4119: '싸움', 4120: '절대', 4121: '년도에', 4122: '~!!!', 4123: '▁우리는', 4124: '보구', 4125: '▁재미없게', 4126: '▁비디오로', 4127: '컬', 4128: '핀', 4129: '▁어린시절', 4130: '▁떨어진다', 4131: '▁영원히', 4132: '▁거짓말', 4133: '▁아내', 4134: '▁만들면', 4135: '▁참신한', 4136: 'st', 4137: '▁위해서', 4138: '▁아픈', 4139: '▁낮다', 4140: '▁안맞', 4141: '▁완', 4142: '우스', 4143: '▁위로', 4144: '보이는', 4145: '듯이', 4146: '것같아요', 4147: '▁다루', 4148: '버전', 4149: '임에도', 4150: '▁않네요', 4151: '▁관객을', 4152: '흥', 4153: '하기만', 4154: '▁있는지', 4155: '관람', 4156: '학년', 4157: '▁전쟁영화', 4158: '▁못하다', 4159: '셀', 4160: '▁2014', 4161: '▁짜증난다', 4162: '▁캐릭터가', 4163: '▁방영', 4164: '▁재밌던데', 4165: '이걸', 4166: '▁색감', 4167: '▁사진', 4168: '▁평론가들', 4169: '스럽게', 4170: '저리', 4171: '▁11', 4172: '▁어이', 4173: '▁소름이', 4174: '이즈', 4175: '아요', 4176: '스럽고', 4177: '▁옷', 4178: '▁야구', 4179: '▁재미있었', 4180: '▁조화', 4181: '옴', 4182: '꿀잼', 4183: '됩니다', 4184: '감정', 4185: '▁라고', 4186: '▁받는', 4187: '▁끄', 4188: '멸', 4189: '▁동성애', 4190: '손가락', 4191: '▁특별한', 4192: '▁바꾸', 4193: '▁모험', 4194: '~~~~~~~~', 4195: '▁하늘', 4196: '▁화려하', 4197: '당한', 4198: '▁심심', 4199: '▁일이', 4200: '▁어쩔수', 4201: '검', 4202: '물을', 4203: '▁생각나서', 4204: '▁척', 4205: '했지', 4206: '▁느꼈다', 4207: '▁쥐', 4208: '▁빌', 4209: '도아니고', 4210: '▁시리즈중', 4211: '▁노래도', 4212: '▁감동의', 4213: '▁국가', 4214: '쾌', 4215: '▁가치가', 4216: '▁오로', 4217: '▁조작', 4218: '▁다르다', 4219: '▁만든영화', 4220: '묵', 4221: '▁잔뜩', 4222: '▁단어', 4223: '▁여름', 4224: '▁알겠는데', 4225: '▁죽는줄', 4226: '몇', 4227: '▁대놓고', 4228: '▁그건', 4229: '▁본거', 4230: '안됨', 4231: '▁영화보면서', 4232: '▁잇', 4233: '▁만들다니', 4234: '그만', 4235: '▁감안', 4236: '▁훌륭하다', 4237: '생활', 4238: '▁자신을', 4239: '어린', 4240: '모든', 4241: '거리는', 4242: '▁배우를', 4243: '▁없습니다', 4244: '▁불러', 4245: '▁안타까운', 4246: '▁잊을수', 4247: '▁나은', 4248: '▁중요', 4249: '분은', 4250: '인물', 4251: '▁대본', 4252: '30', 4253: '▁충격적이', 4254: '▁명작입니다', 4255: '▁작품은', 4256: '▁끈', 4257: '하길', 4258: '▁영화보는', 4259: '큰', 4260: '▁돌리', 4261: '모두', 4262: '부분이', 4263: '▁부모님', 4264: '낀', 4265: '닉', 4266: '▁아닙니다', 4267: '▁재난영화', 4268: '▁색다른', 4269: '머니', 4270: '소설', 4271: '▁쿠', 4272: '▁효과', 4273: '▁이것이', 4274: '▁죽을', 4275: '건가요', 4276: '▁도망', 4277: '▁사고', 4278: '같네', 4279: '▁있었는데', 4280: '▁보았습니다', 4281: '좋음', 4282: '코드', 4283: '했다고', 4284: '▁분들은', 4285: '▁오빠', 4286: '▁ᄋ', 4287: '뭐야', 4288: '▁드립니다', 4289: '▁술', 4290: '원이', 4291: '랄까', 4292: '▁제외', 4293: '▁최근에', 4294: '▁촌스럽', 4295: '▁갖고', 4296: '▁이런영화를', 4297: '▁형사', 4298: '▁아예', 4299: '닐', 4300: '▁흥', 4301: '솔직히', 4302: 'L', 4303: '보지말', 4304: '춰', 4305: '숭', 4306: '▁짜임새', 4307: '▁아이디어', 4308: '▁제임스', 4309: '제작', 4310: '▁무엇인지', 4311: '▁억지스러운', 4312: 'ᄏᄏᄏᄏᄏᄏᄏᄏᄏᄏᄏᄏᄏ', 4313: '▁액션씬', 4314: '▁비밀', 4315: '▁배역', 4316: '▁등등', 4317: '▁D', 4318: '▁모르겠음', 4319: '▁몇번', 4320: '▁살아가는', 4321: '▁명화', 4322: '▁이래서', 4323: '큐', 4324: '▁나머지', 4325: '▁듣고', 4326: '▁멋지', 4327: '있습니다', 4328: '▁최고였다', 4329: '▁예쁘', 4330: '▁좋겠', 4331: '▁수준의', 4332: '▁지나도', 4333: '현실을', 4334: '▁집에', 4335: '▁에로영화', 4336: '▁죽이고', 4337: '▁환', 4338: '▁쩝', 4339: '▁ᄏᄏᄏᄏᄏᄏ', 4340: '▁때문', 4341: '▁높게', 4342: '▁뛰어나', 4343: '▁즐겁', 4344: '▁영상이', 4345: '요소', 4346: '▁문제가', 4347: '▁분위기가', 4348: '자리', 4349: '허접', 4350: '에서의', 4351: '렷', 4352: '찔', 4353: 'ᅥ', 4354: '▁sf', 4355: '▁싸우는', 4356: '▁여러가지', 4357: '▁가정', 4358: '▁이따위', 4359: '▁외국', 4360: '어디', 4361: '▁하나같이', 4362: '▁21', 4363: '▁엉성하고', 4364: '짱짱', 4365: '적이다', 4366: '▁답답하고', 4367: '아가', 4368: '▁감정이', 4369: '▁비하면', 4370: '▁기준', 4371: '▁잔인', 4372: '▁재미없었다', 4373: '▁끝났', 4374: '만듬', 4375: '셈', 4376: '지도않고', 4377: '▁정말이지', 4378: '▁빠지', 4379: '▁개연성도', 4380: '덜', 4381: '헌', 4382: '▁출연한', 4383: '쥬', 4384: 'U', 4385: 'z', 4386: '▁블록버스터', 4387: '▁소소한', 4388: '▁울컥', 4389: '▁후속작', 4390: '▁감정이입', 4391: '▁잔혹', 4392: '주연', 4393: '수없는', 4394: '▁데리고', 4395: '▁아역', 4396: '▁보지마라', 4397: '▁성격', 4398: '▁맡', 4399: '▁낙', 4400: '울리', 4401: '▁부실', 4402: '극장', 4403: '였으면', 4404: '▁몇년', 4405: '티비', 4406: '▁남은', 4407: '▁막장드라마', 4408: '▁싸움', 4409: '▁구성이', 4410: '▁결정', 4411: '▁보려', 4412: '▁죽인', 4413: '▁여운을', 4414: '..^^', 4415: '얻', 4416: '▁뭐하나', 4417: '겠죠', 4418: '찾', 4419: '▁연출과', 4420: '▁쩌', 4421: '▁만한', 4422: '▁추리', 4423: '어지는', 4424: '▁p', 4425: '이름', 4426: '랫', 4427: '빠르', 4428: '▁거기에', 4429: '브라', 4430: '▁충실', 4431: '▁결코', 4432: '▁어쩜', 4433: '▁낚였다', 4434: '▁남자주인공', 4435: '▁L', 4436: '▁촌', 4437: '▁또다른', 4438: '되나', 4439: '▁연극', 4440: '영이', 4441: '▁슬퍼', 4442: '▁오래된', 4443: '▁니들', 4444: '▁열연', 4445: '놈이', 4446: '▁예쁘고', 4447: '▁낮네', 4448: '▁만남', 4449: '되었다', 4450: '▁a', 4451: '줄이야', 4452: '▁푸', 4453: '지않아', 4454: '▁남자들', 4455: '오글', 4456: '하더라', 4457: '덕에', 4458: '▁노래가', 4459: '대단', 4460: '▁먼가', 4461: '▁응', 4462: '▁가족영화', 4463: '▁가슴을', 4464: '▁낮아', 4465: '▁전설', 4466: '▁매력을', 4467: '야겠다', 4468: '었을', 4469: '거같아요', 4470: '▁공포물', 4471: '닿', 4472: '▁봅니다', 4473: '▁시간가는줄', 4474: '▁왔', 4475: '▁그저그런', 4476: '▁방식', 4477: '▁감각', 4478: '헐', 4479: '▁치고', 4480: '▁적당히', 4481: '19', 4482: '▁코드', 4483: '▁타임', 4484: '▁길게', 4485: '▁의미가', 4486: '▁가면', 4487: '▁주인공은', 4488: '개그', 4489: '▁까지', 4490: '아닌가', 4491: '▁아니야', 4492: '도대체', 4493: '다음', 4494: '▁아래', 4495: '▁반전은', 4496: '하진', 4497: '..........', 4498: '지요', 4499: '▁보고싶어', 4500: '▁애들은', 4501: '▁해라', 4502: '쓰레기영화', 4503: '▁식상한', 4504: '왓', 4505: '▁엿', 4506: '장이', 4507: '쓰고', 4508: '않다', 4509: '▁많은데', 4510: '▁결말을', 4511: '객', 4512: '▁다운받아', 4513: '좌', 4514: '뚱', 4515: '뽀', 4516: '룩', 4517: '▁탄생', 4518: '▁극장가서', 4519: '▁그만큼', 4520: '▁주기도', 4521: '▁흔들', 4522: '두고', 4523: '사건', 4524: '<', 4525: '커플', 4526: '본사람', 4527: '햇다', 4528: '▁멍', 4529: '▁잼없', 4530: '▁빼면', 4531: '▁기대이상', 4532: '▁집중해서', 4533: '▁잼나게', 4534: '▁마이', 4535: '번은', 4536: '▁잡아', 4537: '▁생각했는데', 4538: '장르', 4539: '▁매력적', 4540: 'as', 4541: '년작', 4542: '▁못보', 4543: 'ᄋᄋ', 4544: '만하다', 4545: '▁승리', 4546: '▁풍자', 4547: '때매', 4548: '생각이', 4549: '▁헬', 4550: '스카', 4551: '▁의문', 4552: '기전에', 4553: '어라', 4554: '주고싶다', 4555: '▁봤네', 4556: '야할', 4557: '▁사상', 4558: '아빠', 4559: '▁기독교', 4560: '렵', 4561: '▁요리', 4562: '▁보기에는', 4563: '뻔한', 4564: '▁살다살다', 4565: '▁아류작', 4566: '▁즐거웠', 4567: '▁다양한', 4568: '▁짧은', 4569: '영화인데', 4570: '▁아무런', 4571: '▁f', 4572: '▁만들었는지', 4573: '도안', 4574: '비디오', 4575: '▁찰', 4576: '▁허술', 4577: '갑니다', 4578: '관객', 4579: '즐', 4580: '본영화', 4581: '▁현실적이', 4582: '▁돈을', 4583: '뇌', 4584: '여주', 4585: '보니까', 4586: '▁살면서', 4587: '▁수많은', 4588: '▁짐', 4589: 'bb', 4590: '▁조카', 4591: '었네', 4592: '▁내용인지', 4593: '▁변화', 4594: '▁살린', 4595: '▁낮게', 4596: '▁궁', 4597: '믿', 4598: '▁두고', 4599: '▁여러분', 4600: '어이없', 4601: '굿굿', 4602: '트리', 4603: '했다면', 4604: '부러', 4605: 'ut', 4606: '▁로버트', 4607: '▁사운드', 4608: '▁핵노잼', 4609: '▁집착', 4610: '▁앞뒤', 4611: '▁바랍니다', 4612: '둥이', 4613: '▁담배', 4614: '▁여자친구', 4615: '떨어진', 4616: '▁남네요', 4617: '▁다운', 4618: '벗', 4619: '▁낮지', 4620: '▁특이', 4621: '▁생활', 4622: '턴', 4623: '거죠', 4624: '▁궁금하다', 4625: '▁G', 4626: '기법', 4627: '▁놀랍다', 4628: '▁과정', 4629: '점이상', 4630: '혼자', 4631: '▁한국에서', 4632: '여행', 4633: '지루함', 4634: '▁199', 4635: '들에', 4636: '▁몰랐다', 4637: '이죠', 4638: '▁밋밋', 4639: '▁냉', 4640: '법한', 4641: '▁그당시', 4642: '▁자체는', 4643: '시아', 4644: '▁대단하', 4645: '▁샘', 4646: '하하하', 4647: '▁손에', 4648: '씬이', 4649: '▁새로', 4650: '▁책을', 4651: '것만으로도', 4652: '▁마지막장면', 4653: '▁뭘까', 4654: '인데도', 4655: '둥', 4656: '야한다', 4657: '핑', 4658: '벼', 4659: '찐', 4660: '▁플롯', 4661: '▁끔찍', 4662: '▁특수효과', 4663: '▁ᄌ', 4664: '▁니콜', 4665: '할만한', 4666: '▁북', 4667: '▁넌', 4668: '자신', 4669: '▁놀라운', 4670: '▁내가본', 4671: '마리', 4672: '▁느껴지', 4673: '게임', 4674: '▁좋겠네요', 4675: '갓', 4676: '과는', 4677: '▁재미있습니다', 4678: '▁원작에', 4679: '▁등장인물', 4680: '▁처럼', 4681: '▁레이', 4682: '찡', 4683: '▁운명', 4684: '▁신파', 4685: '▁별로임', 4686: '▁인도', 4687: '해주고', 4688: '▁부분도', 4689: '▁생긴', 4690: '보셈', 4691: '점대는', 4692: '▁형편없', 4693: '했었', 4694: '▁신비', 4695: '▁넘게', 4696: '▁몰라', 4697: '는거야', 4698: '든지', 4699: '▁연기력은', 4700: '▁안습', 4701: 'le', 4702: '못해', 4703: '▁때려', 4704: '▁망친', 4705: '▁예쁘다', 4706: '▁잘하고', 4707: '▁이상하게', 4708: '재밌어', 4709: '80', 4710: '찮', 4711: '엑', 4712: '긋', 4713: '▁교과서', 4714: '▁러시아', 4715: '▁심지어', 4716: '▁위험', 4717: '▁몽', 4718: '▁볼수있는', 4719: '쓰는', 4720: '▁보아', 4721: '▁무료', 4722: '▁ᄀ', 4723: '▁꽤나', 4724: '영화입니다', 4725: '▁주제를', 4726: '▁순수함', 4727: '▁좀비영화', 4728: '▁조절', 4729: '!!!!!!!!!!!!!!!!', 4730: '삶', 4731: '아저씨', 4732: '▁아쉽지만', 4733: '▁포스', 4734: '평가', 4735: '▁휘', 4736: '▁여주가', 4737: '▁않아서', 4738: '▁솔직', 4739: '▁마지막까지', 4740: '▁교훈을', 4741: '후회', 4742: '재미없음', 4743: '▁거리', 4744: '▁어울리는', 4745: '조금', 4746: '▁인상적', 4747: '▁코미디영화', 4748: '있었다', 4749: '배우가', 4750: '▁폐', 4751: '쳐서', 4752: '아쉬', 4753: '싫어', 4754: '▁소설을', 4755: '▁불쌍하다', 4756: '듣', 4757: '▁업', 4758: '않은', 4759: '▁뭐니', 4760: '▁최고로', 4761: '픽', 4762: '▁어처구니', 4763: '▁가벼운', 4764: '▁반드시', 4765: '▁첫사랑', 4766: '▁봤을까', 4767: '▁짜증만', 4768: '오르', 4769: '후에', 4770: '▁잼잇', 4771: '▁60', 4772: '촌', 4773: '흠', 4774: '시오', 4775: '옆', 4776: '▁있다니', 4777: '▁잠이', 4778: '것처럼', 4779: '학생', 4780: '▁그자체', 4781: '없네요', 4782: '▁빵', 4783: '▁언니', 4784: '▁호구', 4785: '▁잘만들었', 4786: '이었습니다', 4787: '▁확인', 4788: '▁정작', 4789: '▁시리즈는', 4790: '모르겟', 4791: '▁반대', 4792: '것같은', 4793: '▁명성', 4794: '▁매일', 4795: '▁맞추', 4796: '▁웃겼', 4797: '드가', 4798: '▁모른다', 4799: '▁쓰고', 4800: '▁떨어지고', 4801: '▁일반', 4802: '▁자리', 4803: '깝', 4804: '▁처음에는', 4805: '▁내용과', 4806: '▁러닝타임', 4807: '▁소재도', 4808: '▁시청률이', 4809: '▁1,2', 4810: 'ᄏᄏᄏᄏᄏᄏᄏᄏᄏᄏ', 4811: '부분은', 4812: '할것', 4813: '▁역사를', 4814: '▁임팩트', 4815: '▁스티븐', 4816: '▁주윤발', 4817: '▁인내심', 4818: '▁캬', 4819: '▁어설프고', 4820: '▁태어나서', 4821: '▁크리스', 4822: '▁이야기는', 4823: '▁그야말로', 4824: '▁약간의', 4825: '12', 4826: '▁말하고자', 4827: '좋았다', 4828: '▁따분', 4829: '▁욕심', 4830: '▁훈훈', 4831: '는구나', 4832: '▁생각으로', 4833: '▁한숨', 4834: '▁아름답게', 4835: '▁재미도없고', 4836: '▁만들수', 4837: '▁잘봤어요', 4838: '팀', 4839: '▁삶이', 4840: '긴장감', 4841: '▁스토리의', 4842: '▁심장', 4843: '라지만', 4844: '▁불편한', 4845: '주기', 4846: '▁여전', 4847: '▁상업', 4848: '▁그립다', 4849: '뿐이다', 4850: '▁책임', 4851: '▁배신', 4852: '▁안볼', 4853: '▁포스터가', 4854: '거같음', 4855: '▁안맞는', 4856: '지말자', 4857: '사를', 4858: '▁선물', 4859: '▁잼나', 4860: '▁당신은', 4861: '▁안본', 4862: '▁목적', 4863: '▁했으면', 4864: '었나', 4865: '▁소년', 4866: '▁무리', 4867: '씨는', 4868: '보는게', 4869: '받았', 4870: '▁최고임', 4871: '▁한편의', 4872: '스토', 4873: '보고싶다', 4874: '▁가족이', 4875: '▁맞지', 4876: '거같', 4877: '▁아닐', 4878: '탱', 4879: '퓨', 4880: '^-^', 4881: '▁쓸데없이', 4882: '▁장국영', 4883: '▁유일한', 4884: '▁친구가', 4885: '▁당연히', 4886: '▁일부러', 4887: '▁여자주인공', 4888: '▁첨엔', 4889: '긴하지만', 4890: '▁나름대로', 4891: '▁잼있어요', 4892: '▁하나로', 4893: '른다', 4894: '류의', 4895: '보기싫', 4896: '▁쉬', 4897: '▁인디', 4898: '궁', 4899: '빌', 4900: '▁명작을', 4901: '▁벤', 4902: '▁강렬한', 4903: '▁명장면', 4904: '▁됬', 4905: '▁짜증나서', 4906: '▁가져', 4907: '▁엘', 4908: '▁없으면', 4909: '▁폐지', 4910: '▁잘하는', 4911: '미가', 4912: '▁격', 4913: '좋은영화', 4914: '▁영화화', 4915: '▁멋졌', 4916: '꾼', 4917: '▁해리포터', 4918: '▁배트맨', 4919: '▁설득력', 4920: '▁할리우드', 4921: '▁심형래', 4922: '▁짜집기', 4923: '▁유일하게', 4924: '▁희망을', 4925: '▁귀여워', 4926: '▁엉망이', 4927: '▁로코', 4928: '이후', 4929: '▁근래', 4930: '▁가수', 4931: '라는걸', 4932: '25', 4933: '▁바다', 4934: '로드', 4935: '고요', 4936: '▁이딴걸', 4937: '▁어렵다', 4938: '▁보던', 4939: '아무', 4940: '스토리도', 4941: '먹은', 4942: '▁어른이', 4943: '와의', 4944: '▁신선하', 4945: '이든', 4946: '▁살리', 4947: '달아', 4948: '추억', 4949: '▁피해', 4950: '▁새벽에', 4951: '▁연기자', 4952: '방식', 4953: '졸작', 4954: '▁엔딩이', 4955: '듯하다', 4956: '▁느낌의', 4957: '웨이', 4958: '▁볼때', 4959: '▁무엇', 4960: '이여', 4961: '▁보다는', 4962: '았지만', 4963: '▁조선', 4964: '▁다시보니', 4965: '▁아름답', 4966: '▁재미없어서', 4967: '▁수작이다', 4968: '▁재밌지', 4969: '제로', 4970: '▁음식', 4971: '▁수입', 4972: '▁혹시', 4973: '레스', 4974: '▁후에', 4975: '같아서', 4976: '▁틀어', 4977: '해야할', 4978: '▁상대', 4979: '▁죽었', 4980: '▁괜찮았다', 4981: '하는영화', 4982: '딘', 4983: '깃', 4984: 'ᄁ', 4985: '▁dvd', 4986: '▁아까운영화', 4987: '▁기회', 4988: '▁배경음악', 4989: '▁할아버지', 4990: '▁웃으면서', 4991: '▁어느정도', 4992: '▁따뜻하고', 4993: '▁생각할', 4994: '없는영화', 4995: '▁영상과', 4996: '▁나에겐', 4997: '▁케이블에서', 4998: '었는지', 4999: '200', 5000: '같은영화', 5001: '▁많아서', 5002: '당시', 5003: '▁기억나는', 5004: '▁키스', 5005: '썼', 5006: '▁타고', 5007: '화이팅', 5008: '걍', 5009: '▁보다니', 5010: '뛰', 5011: '▁감동은', 5012: '▁영화인지', 5013: '▁한번도', 5014: '▁어디에', 5015: '▁있네', 5016: '보인다', 5017: '언제', 5018: '려나', 5019: '씀', 5020: '테러', 5021: '▁이상하고', 5022: '▁나랑', 5023: '▁연인', 5024: '▁오락영화', 5025: '▁배우들은', 5026: '신분', 5027: '▁봤어', 5028: '▁장면도', 5029: 'ᅮᅲ', 5030: '▁저급', 5031: '밝', 5032: '임을', 5033: '육', 5034: '▁영화라는', 5035: '쫓', 5036: '▁뱀파이어', 5037: '셋', 5038: '▁제니퍼', 5039: '▁이소룡', 5040: '▁홍상수', 5041: '▁of', 5042: '▁빵빵', 5043: '▁강한', 5044: '▁착각', 5045: '갠적으로', 5046: '받을', 5047: '곳에', 5048: '▁짜증이', 5049: '톤', 5050: '▁놓고', 5051: '오브', 5052: '▁버리', 5053: '될듯', 5054: '▁동양', 5055: '질질끌', 5056: '▁울리는', 5057: '▁톰', 5058: '빠져', 5059: '▁처음에', 5060: '▁현실과', 5061: '▁하네', 5062: '역사', 5063: '▁^', 5064: '▁들고', 5065: '▁포인트', 5066: '▁다시는', 5067: '아버지', 5068: '▁싶어요', 5069: '꿈', 5070: '시나리오', 5071: '▁잘만들', 5072: '웃김', 5073: '▁받은', 5074: '▁재밌어서', 5075: '▁밀려', 5076: '▁꼬마', 5077: '▁슬펐', 5078: '▁ᄏᄏᄏᄏᄏᄏᄏ', 5079: '▁만든거', 5080: '낫', 5081: '▁한국의', 5082: '▁인생에', 5083: '알아', 5084: '▁보이지', 5085: '▁난해하', 5086: '▁재미있을', 5087: '▁남았', 5088: '▁흐르는', 5089: '▁이해할수', 5090: '▁ᄍᄍᄍ', 5091: '게하는', 5092: '능력', 5093: '적이지', 5094: '▁마음으로', 5095: '▁하길래', 5096: '▁이해를', 5097: '됐다', 5098: '또한', 5099: '▁삼류영화', 5100: '▁아깝고', 5101: '▁여자의', 5102: '데요', 5103: '▁재미로', 5104: '▁살아있', 5105: '▁조니뎁', 5106: '▁고등학교', 5107: '▁대통령', 5108: '럭', 5109: '▁제이슨', 5110: '▁내생에', 5111: '▁영환데', 5112: '▁맞춰', 5113: '▁돋보이는', 5114: '▁이런건', 5115: '▁어째', 5116: '못하는', 5117: '▁동심', 5118: '미국', 5119: '높은', 5120: '▁잘못된', 5121: '▁아쉬움이', 5122: '▁줄수', 5123: '▁혹시나', 5124: '▁독일', 5125: '재미도', 5126: '조연', 5127: '타임', 5128: '부터가', 5129: '!!!!!!', 5130: '본영화중', 5131: '▁난잡', 5132: '▁쩔', 5133: '▁모든걸', 5134: '분의', 5135: '연기는', 5136: '느껴', 5137: '분위기', 5138: 'R', 5139: '▁많은걸', 5140: '아프', 5141: '▁주제가', 5142: '약한', 5143: '목소리', 5144: '포스터', 5145: '느끼', 5146: '▁부부', 5147: '드립니다', 5148: '▁곧', 5149: '보시길', 5150: '▁시간만', 5151: '멜로', 5152: '갈때', 5153: '치고는', 5154: '............', 5155: '▁쉽지', 5156: '보긴', 5157: '▁의사', 5158: '▁정보', 5159: '▁나네요', 5160: '▁실화를', 5161: '▁정상', 5162: '젊', 5163: '▁you', 5164: '젖', 5165: '▁숨겨진', 5166: '컴', 5167: '▁익숙', 5168: '▁늑대', 5169: '▁깜짝', 5170: '▁과학', 5171: '였나', 5172: '▁사라지', 5173: '▁언제봐도', 5174: '맘', 5175: '▁다섯', 5176: '▁두번째', 5177: '▁프리', 5178: '▁단순히', 5179: '▁재능', 5180: '▁영화인가', 5181: '재미있게', 5182: '▁=', 5183: '▁섬', 5184: 'me', 5185: '▁마약', 5186: '어색', 5187: '▁아니라고', 5188: '...........', 5189: '▁아까웠다', 5190: '▁우연', 5191: '▁모르겠네요', 5192: '▁없었음', 5193: '▁하다가', 5194: '▁장면들', 5195: '▁넘치', 5196: '▁클레멘타인', 5197: '놀이', 5198: '란다', 5199: '보여주', 5200: '려다가', 5201: '필요없', 5202: '▁가족들', 5203: '기도하고', 5204: '▁하아', 5205: '앤', 5206: '트가', 5207: '춤', 5208: '▁제목만', 5209: '▁어색하고', 5210: '▁멋지고', 5211: '▁발상', 5212: '▁실수', 5213: '▁아냐', 5214: '베리', 5215: '▁검색', 5216: '에게는', 5217: '▁아니지', 5218: '▁머리가', 5219: '▁땜에', 5220: '▁봉', 5221: '▁장면을', 5222: '▁줍니다', 5223: '간에', 5224: '위에', 5225: '▁진수', 5226: '낭', 5227: '몰입', 5228: '▁좋네', 5229: '쩜', 5230: '납', 5231: '쿵', 5232: '눌', 5233: '뢰', 5234: '곱', 5235: '밴', 5236: '템', 5237: '▁떨어짐', 5238: '부끄럽', 5239: '▁박진감', 5240: '▁희대의', 5241: '▁이뻐서', 5242: '▁빠른', 5243: '▁응원', 5244: '▁만들기', 5245: '▁처절', 5246: '▁서양', 5247: '▁여러번', 5248: '▁상영관', 5249: '으려고', 5250: '▁갔다', 5251: '▁엄마가', 5252: '▁별로고', 5253: '▁예능', 5254: '▁충분', 5255: '하니까', 5256: '▁높아서', 5257: '에대해', 5258: '할뿐', 5259: '▁다르게', 5260: '▁터미네이터', 5261: '▁조잡', 5262: '일듯', 5263: '▁지겹다', 5264: '▁불쌍한', 5265: '▁F', 5266: '▁세상이', 5267: '맞추', 5268: '▁X', 5269: '100', 5270: '지훈', 5271: '칼', 5272: '무시', 5273: '▁공감할', 5274: '▁본게', 5275: '▁초딩때', 5276: '▁끝에', 5277: '극장에서', 5278: '▁사용', 5279: '▁깔', 5280: '▁재미없을', 5281: '섹', 5282: '40', 5283: '뭔', 5284: '15', 5285: '맞는', 5286: '앨', 5287: '펜', 5288: '뎅', 5289: '▁이토록', 5290: '▁사투리', 5291: '▁실험', 5292: '▁잤다', 5293: '배우들이', 5294: '♥♥♥♥', 5295: '▁디워', 5296: 'es', 5297: '▁뛰', 5298: '▁꿀', 5299: '▁시간아깝다', 5300: '▁최고봉', 5301: '▁짜증남', 5302: '▁괜찮음', 5303: '▁그것도', 5304: '▁개노잼', 5305: '올라', 5306: '겨운', 5307: '▁봤다면', 5308: '▁그동안', 5309: '▁없나요', 5310: 'en', 5311: '▁유발', 5312: '▁멋있는', 5313: '▁봐야하는', 5314: '장면은', 5315: '▁주연배우', 5316: '▁있다고', 5317: '▁반전을', 5318: '▁슈', 5319: '▁중심', 5320: '내용은', 5321: '캐스팅', 5322: '▁내게', 5323: '▁거장', 5324: '▁안간다', 5325: 'ᄍ', 5326: '▁달려', 5327: '스러웠', 5328: '▁논리', 5329: '▁느꼈', 5330: '▁얼굴이', 5331: '▁알겠다', 5332: '▁점수는', 5333: '있지', 5334: '▁여주인공이', 5335: '▁아이들과', 5336: '▁/', 5337: '바라', 5338: '▁배우도', 5339: '차별', 5340: '제대로', 5341: '▁흑', 5342: '▁현실감', 5343: '▁감독을', 5344: '먹어', 5345: '차이', 5346: '표정', 5347: '팍', 5348: 'ᄎ', 5349: '▁네티즌', 5350: '숀', 5351: '켄', 5352: '넬', 5353: '▁도무지', 5354: '▁맛이', 5355: '▁탈출', 5356: '▁기가', 5357: '분만에', 5358: '▁폭발', 5359: '▁설정이', 5360: '▁판단', 5361: '하시길', 5362: '▁없게', 5363: '▁집중이', 5364: '▁거북', 5365: '▁공짜로', 5366: '▁보라', 5367: '이었던', 5368: '▁반담', 5369: '▁하는게', 5370: '▁됩니다', 5371: '▁그럴듯', 5372: '▁궁금해서', 5373: '▁같고', 5374: '▁본지', 5375: '▁재미있어', 5376: '▁이상해', 5377: '재밌는', 5378: '아까운', 5379: '아쉬웠', 5380: '▁인형', 5381: '▁정신병자', 5382: '물로', 5383: '분을', 5384: '▁기타', 5385: '신고', 5386: '▁알겠', 5387: '하지말고', 5388: '보소', 5389: '▁내일', 5390: '때문', 5391: '▁다운받', 5392: '▁어디가', 5393: '하기에', 5394: '애들이', 5395: '▁말자', 5396: '▁사람도', 5397: '▁따위', 5398: '보게되', 5399: '엄청', 5400: '같지만', 5401: '번에', 5402: '려다', 5403: '곳에서', 5404: '▁정도면', 5405: '▁오브', 5406: '▁이런영화는', 5407: '▁작품입니다', 5408: '▁갑니다', 5409: '모자', 5410: '략', 5411: '▁겁', 5412: '▁남기', 5413: '삭', 5414: '랙', 5415: '▁쓸데없는', 5416: '▁하정우', 5417: '▁흑백', 5418: '▁뭐하자는', 5419: '▁폭풍', 5420: '▁ᄏᄏᄏᄏᄏᄏᄏᄏ', 5421: '▁재개봉', 5422: '▁만화책', 5423: '▁2000', 5424: '않음', 5425: '▁만약', 5426: '▁담겨', 5427: '▁배경이', 5428: '▁영화라니', 5429: '▁하품', 5430: '▁괜찮았는데', 5431: '▁잔잔하게', 5432: '▁봐도봐도', 5433: '▁죽고', 5434: '▁쭉', 5435: '▁앞에', 5436: '여운이', 5437: '▁배우는', 5438: '티가', 5439: '▁뭣', 5440: '▁찾는', 5441: '▁하지원', 5442: '트로', 5443: '▁뒤에', 5444: '드립', 5445: '구리', 5446: '▁공간', 5447: '▁여자애', 5448: '기에는', 5449: '서야', 5450: 'th', 5451: '▁잊고', 5452: '것보다', 5453: '았어요', 5454: '▁가득한', 5455: '불쌍', 5456: '멋있', 5457: '꽃', 5458: '탑', 5459: '▁없냐', 5460: '▁부정', 5461: '▁인생이', 5462: '하지마', 5463: '▁사랑해', 5464: '아무리', 5465: '▁떼', 5466: '▁지루하기', 5467: '▁가고', 5468: '자고', 5469: '▁대신', 5470: '모르고', 5471: '만큼이나', 5472: '▁불안', 5473: '▁빅', 5474: '줄은', 5475: '뷰', 5476: '▁끌고', 5477: '▁왤케', 5478: '▁우뢰매', 5479: '닷', 5480: '▁늦게', 5481: '▁아놀드', 5482: '▁걱정', 5483: '덩어리', 5484: '었을까', 5485: '▁꿈꾸', 5486: '▁스릴도', 5487: '▁났', 5488: '▁환경', 5489: '▁적어도', 5490: '▁극복', 5491: '▁to', 5492: '▁무엇인가', 5493: '▁무겁', 5494: '▁짜증나고', 5495: '뭐냐', 5496: '▁소중함을', 5497: '▁관련', 5498: '▁진부', 5499: '▁히어로', 5500: '▁으리', 5501: '▁이름이', 5502: '▁평소', 5503: '햇는데', 5504: '하군', 5505: '씁쓸', 5506: '류영화', 5507: '나왓', 5508: '▁따뜻해', 5509: '▁신의', 5510: '▁김치', 5511: '▁있으', 5512: '▁유치해', 5513: '못하고', 5514: '▁테러', 5515: '▁결론은', 5516: '▁영상미가', 5517: '하거나', 5518: '▁놀랍', 5519: '▁전쟁의', 5520: '▁연출은', 5521: '▁아우', 5522: '▁찾아볼', 5523: '있지만', 5524: '▁링', 5525: '포인트', 5526: '뭘', 5527: '벤', 5528: 'CG', 5529: '비슷', 5530: '맞고', 5531: '▁가능한', 5532: '▁얘', 5533: '▁귀엽다', 5534: '▁박수', 5535: '열받', 5536: '잖', 5537: '▁여자는', 5538: '▁어울리지', 5539: '흡', 5540: '키드', 5541: '앉', 5542: '▁매니아', 5543: '랩', 5544: '갱', 5545: '랭', 5546: '▁오프닝', 5547: '뻥', 5548: '▁컨셉', 5549: '▁리얼리티', 5550: '▁달콤', 5551: '▁따라가', 5552: '▁평균', 5553: '▁명대사', 5554: '^^*', 5555: '▁각색', 5556: '▁사랑한다', 5557: '자들이', 5558: '▁빛을', 5559: '가면서', 5560: '▁만들었나', 5561: '비가', 5562: '자마자', 5563: '▁오랫만에', 5564: '▁내용전개', 5565: '발연기', 5566: '▁유럽', 5567: '▁데이', 5568: '~~!!', 5569: '▁정신없', 5570: '자들의', 5571: '▁유행', 5572: '▁유쾌하게', 5573: '있으면', 5574: '▁시대에', 5575: '▁좋다고', 5576: '▁평화', 5577: '▁초등학교', 5578: '▁않았지만', 5579: '▁손발', 5580: '~~^^', 5581: '▁아깝네', 5582: '▁담은', 5583: '▁봐야지', 5584: '글자', 5585: '어가는', 5586: '존나', 5587: '▁찍고', 5588: '-_-;', 5589: '▁화나', 5590: '▁케릭터', 5591: '▁유덕화', 5592: '▁소화', 5593: '▁볼만했다', 5594: '500', 5595: '▁아들이', 5596: '할수가', 5597: '▁탐', 5598: '▁재밋어요', 5599: '▁읽고', 5600: '▁허술한', 5601: '▁강렬', 5602: '휘', 5603: '렬', 5604: '▁답이', 5605: '늙', 5606: '멜', 5607: '▁일본은', 5608: '웃겨', 5609: '▁의상', 5610: '하는건지', 5611: '▁갓', 5612: '등록', 5613: '소름', 5614: '앞으로', 5615: '▁안봐도', 5616: '▁먹는', 5617: '기억이', 5618: '▁액션신', 5619: '에만', 5620: '▁읽어', 5621: '▁묻어', 5622: '▁파괴', 5623: '▁재미있는데', 5624: '뚝', 5625: '셉', 5626: '켰', 5627: '▁인터넷', 5628: '▁나레이션', 5629: '▁송강호', 5630: '▁자동차', 5631: '▁우려먹', 5632: '▁동시에', 5633: '▁보시면', 5634: '▁자극적인', 5635: '▁루즈', 5636: '줄알았는데', 5637: '▁서울', 5638: '▁포스터에', 5639: '▁거품', 5640: '외로', 5641: '▁살인마', 5642: '▁최고의영화', 5643: '▁사실을', 5644: '있던', 5645: '▁쪽', 5646: '▁하시', 5647: '▁보았는데', 5648: '▁마니', 5649: '▁넣어', 5650: '그러나', 5651: '▁녹아', 5652: '▁절정', 5653: '▁적당한', 5654: '▁의지', 5655: '하자면', 5656: '▁원조', 5657: '▁만난', 5658: '추격', 5659: '▁잼있음', 5660: '있어요', 5661: '▁사랑해요', 5662: '▁땅', 5663: '▁아니었다', 5664: '래도', 5665: '빠진', 5666: '▁기대없이', 5667: '▁받고', 5668: '▁황당한', 5669: '▁만들어서', 5670: '▁육', 5671: '▁갖다', 5672: '놨네', 5673: '특별', 5674: '돌이', 5675: '▁인간은', 5676: '해지고', 5677: '코믹', 5678: '잭', 5679: '낮은', 5680: '▁자아', 5681: '없을', 5682: '▁알았네', 5683: '할지', 5684: '▁재미없다고', 5685: '▁겨울', 5686: '▁믿기지', 5687: '▁안될', 5688: '▁분들이', 5689: '▁최소', 5690: '▁곰', 5691: '엽', 5692: '잖아요', 5693: '빗', 5694: '▁명불허전', 5695: '▁짐캐리', 5696: '걷', 5697: '웟', 5698: '▁가까운', 5699: '▁깡패', 5700: '▁뭥미', 5701: '▁첩보', 5702: '보느니', 5703: '마누라', 5704: '▁귀여움', 5705: '▁축구', 5706: '▁역량', 5707: '▁목소리가', 5708: '▁전반적으로', 5709: '왔어요', 5710: '▁돈내고', 5711: '▁믿고보는', 5712: '아이들', 5713: '것같은데', 5714: '▁떡', 5715: '▁일본의', 5716: '감독은', 5717: '▁난리', 5718: '세여', 5719: '▁고어', 5720: '▁뻔하', 5721: '▁형제', 5722: '▁오락', 5723: '▁탄탄하고', 5724: '▁답답함', 5725: '▁시작부터', 5726: '▁아깝네요', 5727: '스티', 5728: '▁한국판', 5729: '▁이끌어', 5730: '▁본건데', 5731: '▁어쩌면', 5732: '▁눈물나', 5733: '▁영화였음', 5734: '▁웃을', 5735: '▁이드라마', 5736: '▁왜곡', 5737: '▁놓치', 5738: '▁이보다', 5739: '▁좋을듯', 5740: '찾아', 5741: '델', 5742: '▁명연기', 5743: '▁예술영화', 5744: '▁포스터만', 5745: '▁사람들에게', 5746: '▁녹', 5747: '▁무섭고', 5748: '몬', 5749: '개인적으로', 5750: '꼽', 5751: '므', 5752: '▁등장인물들', 5753: '▁마지막회', 5754: '범죄', 5755: '스토리가', 5756: '▁일부', 5757: '바람', 5758: '그럼', 5759: '노답', 5760: '▁벨', 5761: '할줄', 5762: '윈', 5763: '쩐다', 5764: '행복', 5765: '이딴', 5766: '▁그립', 5767: '▁표현할', 5768: '벅', 5769: '껀', 5770: '똘', 5771: '몫', 5772: '썸', 5773: '▁내생애', 5774: '▁양아치', 5775: '▁정우성', 5776: '▁스포츠', 5777: '▁블랙코미디', 5778: '스텝', 5779: '▁은근히', 5780: '▁다시보고', 5781: '였지', 5782: '▁장난하냐', 5783: '져요', 5784: '▁소장', 5785: '▁만들어낸', 5786: '분동안', 5787: '▁기존', 5788: '▁담긴', 5789: '▁보게된', 5790: '▁어거지', 5791: '▁일본인', 5792: '▁사람이라면', 5793: '▁시나리오가', 5794: '▁굴', 5795: '▁재난', 5796: '▁액션과', 5797: '▁생각난다', 5798: '▁세번', 5799: '▁싱', 5800: '▁스토리전개', 5801: '▁친구랑', 5802: '▁알았음', 5803: '▁즐', 5804: '▁최소한', 5805: '▁강간', 5806: '▁아파', 5807: '▁한방', 5808: '▁전개와', 5809: '▁길이', 5810: '였을', 5811: '▁나오는데', 5812: '▁매력에', 5813: '▁생명', 5814: '▁그것이', 5815: '광고', 5816: '▁잔잔하면서', 5817: '▁싶었다', 5818: '편에서', 5819: '▁영화예요', 5820: '봣다', 5821: '▁느낌은', 5822: '▁듣', 5823: '겠는데', 5824: '같아', 5825: '▁:)', 5826: '▁찍는', 5827: ',,,,,,', 5828: '▁불가능', 5829: '소녀', 5830: '▁지겹', 5831: '상영', 5832: '스케', 5833: '▁팀', 5834: '재미없어', 5835: '멍', 5836: '섬', 5837: '▁보는거', 5838: '나오네', 5839: '▁봤는데도', 5840: '▁제목을', 5841: '▁동네', 5842: '심을', 5843: '꼈', 5844: '뭉', 5845: '▁깊게', 5846: '뱀', 5847: '▁혐오', 5848: '▁누군지', 5849: '▁헛웃음', 5850: '▁역겨운', 5851: '▁민폐', 5852: '▁죄송', 5853: '▁이것보단', 5854: 'al', 5855: '▁말아야', 5856: '안돼', 5857: '굳굳', 5858: '습니까', 5859: '▁여태', 5860: '▁그것을', 5861: '▁괜찮아', 5862: '▁이런류의', 5863: '▁P', 5864: '▁100%', 5865: '미친', 5866: '꺼면', 5867: '드만', 5868: '▁치유', 5869: '▁과장', 5870: '▁느낌이다', 5871: '▁영원한', 5872: '심이', 5873: '▁상관없', 5874: '팬이', 5875: '▁이번에', 5876: '보고있어요', 5877: '▁숙', 5878: '볼수있', 5879: '분들은', 5880: '천원', 5881: '▁사랑합니다', 5882: '겠어', 5883: '▁시점', 5884: '살이', 5885: '▁재밌다는', 5886: '▁되네요', 5887: '께요', 5888: '낚', 5889: '하실', 5890: '▁아동', 5891: '▁남성', 5892: '흑', 5893: '셔야', 5894: '느낌이', 5895: '▁거기다', 5896: '▁책으로', 5897: '▁떨어져', 5898: '여운', 5899: '새롭', 5900: '굳', 5901: '▁반전에', 5902: '▁진지한', 5903: '엇는데', 5904: '▁탓', 5905: '할수있는', 5906: '갖', 5907: '▁각자', 5908: '평론가', 5909: '이예요', 5910: '꿀', 5911: '갈수록', 5912: '에비해', 5913: '▁생에', 5914: '▁한국영화의', 5915: '▁시대의', 5916: '퀄', 5917: '▁아무생각없이', 5918: '▁웰메이드', 5919: '▁어두운', 5920: '▁호기심', 5921: '▁고뇌', 5922: '▁무섭지', 5923: '줄알았', 5924: '▁극단적', 5925: '▁즐길', 5926: '▁못보겠다', 5927: '▁고독', 5928: '답게', 5929: '▁이해불가', 5930: '▁ᅲᅲᅲᅲ', 5931: '▁상징', 5932: '나쁜', 5933: '▁잔잔하', 5934: '▁요새', 5935: '▁나무', 5936: '▁교훈도', 5937: '▁개똥', 5938: '▁억지감동', 5939: '▁좋지', 5940: '▁볼만합니다', 5941: '▁첨부터', 5942: '▁생각도', 5943: '▁무한', 5944: '▁천국', 5945: '▁옳', 5946: '▁한개도', 5947: '▁심한', 5948: '▁씹', 5949: '먹었', 5950: '▁적절한', 5951: '▁마지막엔', 5952: '▁울면서', 5953: '▁애매', 5954: '볼까', 5955: '▁허무한', 5956: '특집', 5957: '성과', 5958: '시간동안', 5959: '▁잠시', 5960: '▁드네요', 5961: '▁뜬금없는', 5962: '선수', 5963: '힘들', 5964: '러스', 5965: '되요', 5966: '▁뗄', 5967: '▁덤', 5968: '▁유치해서', 5969: '▁쩔어', 5970: '▁반영', 5971: '오래', 5972: '▁내용에', 5973: '▁미스', 5974: '자식', 5975: '▁나이가', 5976: '▁만들어주', 5977: '주고싶', 5978: '▁기적', 5979: '▁아프다', 5980: '▁볼려고', 5981: '▁진한', 5982: '▁명작은', 5983: '없나', 5984: '나름', 5985: '봐야지', 5986: '찰', 5987: '▁만드네', 5988: '스럽지', 5989: '귀엽', 5990: '▁작품이라', 5991: '▁다신', 5992: '▁초반부', 5993: '▁김정', 5994: '▁전화', 5995: '선택', 5996: '▁찾아서', 5997: '▁신인', 5998: '였네요', 5999: '으시', 6000: '리스트', 6001: '렀', 6002: '쯔', 6003: '덴', 6004: '▁류승범', 6005: '▁컴퓨터', 6006: '랴', 6007: '듦', 6008: '▁놀랐다', 6009: '▁제시카', 6010: '▁배급사', 6011: '▁풋풋한', 6012: '▁한다는', 6013: '▁짜릿', 6014: '▁좋았을텐데', 6015: '▁빛나는', 6016: '▁앉아', 6017: '▁줘야', 6018: '▁라스트', 6019: '▁장애인', 6020: '답니다', 6021: '▁절망', 6022: '▁전체적인', 6023: '달라', 6024: '사실', 6025: '긴다', 6026: 'ᄏᄏᄏᄏᄏᄏᄏᄏᄏᄏᄏᄏ', 6027: '▁싶었던', 6028: '▁괜찮았음', 6029: '▁있었으면', 6030: '주시', 6031: '처리', 6032: '해놓고', 6033: '시대에', 6034: '▁실감', 6035: '므로', 6036: '어리', 6037: '아직도', 6038: '당하는', 6039: 'ᄏᄏᄏᄏᄏᄏ', 6040: '하시고', 6041: '타고', 6042: '▁부족함', 6043: 'ck', 6044: '▁되는데', 6045: '에다가', 6046: '아니면', 6047: '▁액', 6048: '▁본듯', 6049: '▁것에', 6050: '▁버려', 6051: '터짐', 6052: '▁추천하고', 6053: '▁매미', 6054: '▁소재의', 6055: '▁세월', 6056: '쁜', 6057: '▁벗어나', 6058: '▁것만', 6059: '빼', 6060: '▁밤에', 6061: '▁않은데', 6062: '너무너무', 6063: '▁정신병', 6064: '▁괜찮고', 6065: '▁배경으로', 6066: '▁ᄃᄃᄃ', 6067: '▁벗어', 6068: '▁아무도', 6069: '브리', 6070: '것같아', 6071: '▁만났', 6072: '▁미국의', 6073: '▁장면들이', 6074: '▁백인', 6075: 'TV', 6076: '코메디', 6077: '▁시간에', 6078: '▁같지', 6079: '닫', 6080: '윌', 6081: '닭', 6082: '뺏', 6083: '▁빨갱이', 6084: '쟈', 6085: '▁드디어', 6086: '▁라이언', 6087: '▁엑소', 6088: '▁이도저도', 6089: '▁러브라인', 6090: '▁쓸쓸', 6091: '▁흥미로웠', 6092: '▁왠만한', 6093: '▁돼지', 6094: '▁향수', 6095: '무엇', 6096: '재미있어요', 6097: '▁그림체', 6098: '▁여친', 6099: '▁대표', 6100: '▁센스', 6101: '▁아만다', 6102: '작이라', 6103: '50', 6104: '▁가족의', 6105: '▁모르지만', 6106: '▁말하려는', 6107: '▁살다', 6108: '편집', 6109: '▁내리', 6110: '▁다행이다', 6111: '센스', 6112: '▁의도가', 6113: '▁놀란', 6114: '▁연출력이', 6115: '했을까', 6116: '▁액션을', 6117: '었지', 6118: '▁아진짜', 6119: '▁자극적', 6120: '복수', 6121: '▁연기하는', 6122: '▁널', 6123: '▁감독과', 6124: '지못한', 6125: '▁그렇지만', 6126: '▁괜찮게', 6127: '으신', 6128: '지루하고', 6129: '▁단편', 6130: '좋네요', 6131: '▁빠져서', 6132: '▁별하나', 6133: '안된다', 6134: '가며', 6135: '당시엔', 6136: '▁때리', 6137: '해줄', 6138: '▁보고나니', 6139: '▁편안', 6140: '귀신', 6141: '다큐', 6142: '▁작가의', 6143: '놈들은', 6144: '▁그리워', 6145: '▁잘한다', 6146: '▁인류', 6147: '->', 6148: '▁소개', 6149: '▁잘만들었다', 6150: '효과', 6151: 'un', 6152: '▁여신', 6153: '▁없는게', 6154: '▁말아먹', 6155: '앞', 6156: '살인', 6157: '▁빠지는', 6158: '▁대사들', 6159: '▁옆에', 6160: '없구', 6161: '▁인상적인', 6162: '▁유지', 6163: '▁파리', 6164: '는거지', 6165: '맹', 6166: '그렇게', 6167: '측', 6168: '▁날아', 6169: '▁자기가', 6170: '▁재밋음', 6171: '칙', 6172: '덩', 6173: '욤', 6174: '룰', 6175: '쉐', 6176: '▁브루스', 6177: '▁이병헌', 6178: '▁화장실', 6179: 'ᅢ', 6180: '▁베드신', 6181: '▁삭제', 6182: '▁배꼽', 6183: '▁부탁', 6184: '월드', 6185: '▁동영상', 6186: '▁창피', 6187: '▁버리고', 6188: '▁만들었을까', 6189: '아아아', 6190: '같아요', 6191: '▁던져', 6192: '▁안본다', 6193: '▁재미있었습니다', 6194: '▁드림', 6195: '연기를', 6196: '했을때', 6197: '▁진지하게', 6198: '▁가족애', 6199: '전혀', 6200: '▁나오네', 6201: '▁조금은', 6202: '▁장난아니', 6203: '▁안보는게', 6204: '▁보았던', 6205: '▁재밌었던', 6206: '순위', 6207: '▁나을듯', 6208: '▁깔끔한', 6209: '▁앞서', 6210: '▁군인', 6211: '하기엔', 6212: '▁요소가', 6213: '▁생기', 6214: '아까워', 6215: '▁ᄡ', 6216: '▁정도는', 6217: '▁졸았', 6218: '소재와', 6219: '▁인생은', 6220: '▁공감도', 6221: '형제', 6222: '것같네요', 6223: '보신분들', 6224: '▁뭐임', 6225: '▁있기', 6226: '▁보라고', 6227: '보임', 6228: '보내', 6229: '▁선사', 6230: '▁빠졌', 6231: '▁시키', 6232: '▁않았던', 6233: '편까지', 6234: '았습니다', 6235: '▁살았', 6236: '▁정도가', 6237: '▁끝나서', 6238: '장난치', 6239: '▁ᄒᄃᄃ', 6240: '▁품', 6241: '거라고', 6242: '▁빼곤', 6243: '▁사랑하고', 6244: '▁마리', 6245: '▁도시', 6246: '▁대학', 6247: '해줘서', 6248: '외엔', 6249: '▁EBS', 6250: '▁언젠가', 6251: '▁흡입력', 6252: '홈', 6253: '▁하이틴', 6254: '▁무거운', 6255: '▁박보영', 6256: '차승원', 6257: '..............', 6258: '▁낭만', 6259: '▁생각해보게', 6260: '▁분량', 6261: '▁쪼', 6262: '▁누나', 6263: '▁개콘', 6264: '합시다', 6265: '밖', 6266: '▁미안하다', 6267: '▁좋앗', 6268: '▁맞나', 6269: '곳이', 6270: '▁극중', 6271: '▁챙겨', 6272: '▁거지같은', 6273: '물론', 6274: '▁같았다', 6275: '▁쏘', 6276: '보네요', 6277: '▁내돈', 6278: '▁신선함', 6279: '였다면', 6280: '▁사랑스럽다', 6281: '회가', 6282: '맘에', 6283: '같지', 6284: '애들은', 6285: '라인', 6286: '▁들어간', 6287: '▁시작해서', 6288: '▁탄탄', 6289: '▁뜬금없이', 6290: '▁기대하지', 6291: '자기', 6292: '▁소름돋', 6293: '▁보겠다', 6294: '▁땀', 6295: '▁확실', 6296: '▁14', 6297: '뭐지', 6298: '▁것들이', 6299: '스릴', 6300: '년대에', 6301: '▁캐릭터들이', 6302: '▁하나님', 6303: '▁드라마입니다', 6304: '▁전문', 6305: '▁깎', 6306: '▁말고는', 6307: '싫다', 6308: '시키고', 6309: '쟁', 6310: '더군', 6311: '▁가시', 6312: '광구', 6313: '▁드러', 6314: '셜', 6315: '。', 6316: '덮', 6317: '셧', 6318: '툭', 6319: '헉', 6320: '▁박중훈', 6321: '▁신하균', 6322: '곽', 6323: '렐', 6324: '뤄', 6325: '쉴', 6326: '▁거부감', 6327: '▁둘째치고', 6328: '▁블루', 6329: '▁어설프다', 6330: '▁예측', 6331: '▁비행기', 6332: '▁도둑', 6333: '▁잃은', 6334: '▁2012', 6335: '▁따름', 6336: '▁넘어가', 6337: '▁은근', 6338: '▁낫겠다', 6339: '▁마시길', 6340: '▁내용의', 6341: '▁흘러가는', 6342: '으러', 6343: '▁러브', 6344: '▁재미있었음', 6345: '▁망할', 6346: '▁만들려', 6347: '▁답답하다', 6348: '보고나서', 6349: '역할', 6350: '▁영원', 6351: '▁이거보다', 6352: '▁멋지게', 6353: '▁언제까지', 6354: '▁텐데', 6355: 'am', 6356: '▁순수하고', 6357: '▁첨이다', 6358: '▁숨은', 6359: '▁어이없다', 6360: '▁조아', 6361: '▁했더니', 6362: '▁가히', 6363: '▁실망스럽', 6364: '▁기대이하', 6365: '▁맡은', 6366: '맞음', 6367: '▁주지', 6368: '▁뛰어넘는', 6369: 've', 6370: '▁여인', 6371: '하겠습니다', 6372: '▁미국식', 6373: '▁몰아', 6374: '▁소장하고', 6375: '▁따뜻', 6376: '▁짜증나게', 6377: '▁요즘은', 6378: '▁화끈', 6379: '▁나와야', 6380: '▁절로', 6381: 'se', 6382: '▁및', 6383: '▁씁쓸하', 6384: '▁불쌍하', 6385: '▁최고네요', 6386: '극히', 6387: '▁조연들', 6388: '▁여배우들', 6389: '▁다시보기', 6390: '▁나올때', 6391: '공주', 6392: '▁당연', 6393: '지루해', 6394: '갠', 6395: '램', 6396: '븐', 6397: '▁아름다워', 6398: '킴', 6399: '▁임창정', 6400: '▁명복을', 6401: '▁비호감', 6402: '▁칭찬', 6403: '▁워낙', 6404: '▁아쉬울', 6405: '스코', 6406: '▁오글오글', 6407: '잊지못할', 6408: '▁향연', 6409: '▁더러워', 6410: '▁뭐고', 6411: '하나하나가', 6412: '▁부활', 6413: '▁엄청나게', 6414: '▁개그맨', 6415: '▁중학생', 6416: '▁혼란', 6417: '립니다', 6418: '▁좋겠습니다', 6419: '경찰', 6420: '훌륭', 6421: '▁마음속', 6422: '뻔했다', 6423: '주제', 6424: '당신', 6425: '▁사람들을', 6426: '결국', 6427: '꺼야', 6428: '▁감명', 6429: '▁잃었', 6430: '90', 6431: '▁부산', 6432: '▁역겹다', 6433: 'ᄏᄏᄏᄏᄏᄏᄏ', 6434: '생각을', 6435: '▁지났', 6436: '돈주고', 6437: '▁캐릭터를', 6438: '▁H', 6439: '도좋고', 6440: '▁극장에', 6441: '▁활', 6442: '▁원하는', 6443: '실력', 6444: '▁연상', 6445: '수밖에', 6446: '중국', 6447: 'ed', 6448: '▁것인가', 6449: '인걸', 6450: '▁오지', 6451: '줘야지', 6452: '▁새벽', 6453: '여배우', 6454: '▁싶어서', 6455: '▁귀여', 6456: '후반', 6457: '▁작위적', 6458: '▁역사에', 6459: '▁됐다', 6460: '▁어디로', 6461: '어야지', 6462: '▁영상도', 6463: '▁의문이', 6464: '▁속이', 6465: '▁건가', 6466: '▁연기력에', 6467: '▁입장', 6468: '▁무대', 6469: '▁참나', 6470: '▁J', 6471: '풋', 6472: '맺', 6473: '켓', 6474: '▁디카프리오', 6475: '밧', 6476: '팩', 6477: '▁스타워즈', 6478: '▁왕조현', 6479: '▁도데체', 6480: '▁스타뎀', 6481: '▁무간도', 6482: '▁나타나', 6483: '잊', 6484: '▁격투', 6485: '▁그려낸', 6486: '▁고딩', 6487: '▁잠을', 6488: '▁로빈', 6489: '▁시도는', 6490: '▁철저', 6491: '재미있다', 6492: '▁어우', 6493: '뉴', 6494: '맞아', 6495: '프로그램', 6496: '▁뭐하는', 6497: '▁꼭보세요', 6498: '▁오글거리는', 6499: '▁귀여워요', 6500: '▁그들이', 6501: '볼수', 6502: '겼다', 6503: '▁재미있었는데', 6504: '▁소통', 6505: '▁당신이', 6506: '▁어이없음', 6507: '▁케미', 6508: '▁독특하고', 6509: '이었는데', 6510: '점만점에', 6511: '▁읽는', 6512: '▁있으나', 6513: '점부터', 6514: '▁끝도', 6515: '▁타란티노', 6516: '▁감동적이네요', 6517: '▁볼것', 6518: '▁말투', 6519: '▁넘넘', 6520: '▁E', 6521: '시킬', 6522: '▁한번더', 6523: '▁웃기는', 6524: '최고다', 6525: '하고싶다', 6526: '싫', 6527: '거같아', 6528: '본적', 6529: '못함', 6530: 'ne', 6531: '하하하하', 6532: '▁형편없는', 6533: '▁뭐라고', 6534: '▁살아야', 6535: '안하고', 6536: '▁볼만했', 6537: '▁한시간', 6538: '▁쩌는', 6539: '▁빈약', 6540: '▁있긴', 6541: '▁코믹영화', 6542: '텐', 6543: '▁구분', 6544: '이랄까', 6545: '구먼', 6546: '▁상어', 6547: '▁범죄자', 6548: '으면서도', 6549: '▁충분한', 6550: '~~~~~', 6551: '틀리', 6552: '▁이상하다', 6553: '▁막판', 6554: '▁있었고', 6555: '게만드는', 6556: '있네요', 6557: '▁정체', 6558: '▁부담', 6559: '▁두시간', 6560: '▁웃는', 6561: '이어서', 6562: '▁안에', 6563: '▁힘을', 6564: '버렸네', 6565: '▁뒤죽박죽', 6566: '▁소름끼치는', 6567: '▁시종일관', 6568: '▁알파치노', 6569: '쌓', 6570: '얄', 6571: '혔', 6572: '퉤', 6573: '▁괜찬', 6574: '▁아기자기', 6575: '▁여러모로', 6576: '▁일주일', 6577: '▁킬러', 6578: '▁총체적', 6579: '▁감명깊게', 6580: '▁스파이', 6581: 'com', 6582: '▁케빈', 6583: '▁묘한', 6584: '못보겠', 6585: '▁말그대로', 6586: '▁살렸다', 6587: '▁에효', 6588: '는것을', 6589: '▁속았다', 6590: '14', 6591: '▁가짜', 6592: '▁&', 6593: '▁이별', 6594: '▁최후', 6595: '시청률', 6596: '핵', 6597: '▁재미없었', 6598: '▁미스터리', 6599: '나왔으면', 6600: '▁글을', 6601: '▁작화', 6602: '▁입장에서', 6603: '▁최고라고', 6604: '싶은데', 6605: '▁말인가', 6606: '것인가', 6607: '▁완벽하다', 6608: '▁공유', 6609: '▁시기', 6610: '▁이제는', 6611: '없지', 6612: '▁아이들에게', 6613: '▁영화인줄', 6614: '지루하다', 6615: '없었', 6616: '느냐', 6617: '겨울', 6618: '▁말밖에', 6619: '이후로', 6620: '▁방해', 6621: '▁다시금', 6622: '▁이딴영화', 6623: '▁삶과', 6624: '▁분장', 6625: '▁건질', 6626: '▁만화영화', 6627: '▁ᄒᄒᄒᄒ', 6628: '▁지키', 6629: 'ᄃᄃᄃ', 6630: '▁R', 6631: '성우', 6632: '▁전편보다', 6633: '▁싫어하는', 6634: '~~~~~~', 6635: '▁났다', 6636: '▁별로였다', 6637: '▁소름돋는', 6638: '▁뉴', 6639: '▁흉내', 6640: '외에는', 6641: '▁땡', 6642: '▁최악의영화', 6643: '▁아무튼', 6644: '▁만들다', 6645: '둑', 6646: '바로', 6647: '▁비쥬얼', 6648: '됫', 6649: '렛', 6650: '캡', 6651: '▁아마추어', 6652: '▁섬세한', 6653: '▁펼쳐', 6654: '▁김수현', 6655: '▁닥치고', 6656: '▁한효주', 6657: '▁바탕으로', 6658: '▁엽기', 6659: '▁혁명', 6660: '▁섬세하', 6661: '▁난해한', 6662: '▁오래전에', 6663: '▁직업', 6664: '▁억지스럽고', 6665: '하더니', 6666: '▁말씀', 6667: '▁충분하다', 6668: '▁모욕', 6669: '▁울었어요', 6670: '▁믿음', 6671: '빼곤', 6672: '땡', 6673: '그나마', 6674: '▁줄이야', 6675: '판타지', 6676: '였구나', 6677: '▁다운받아서', 6678: '▁역사상', 6679: '▁충격적인', 6680: '▁아니잖아', 6681: '▁단점', 6682: 'tv', 6683: '▁모르겠네', 6684: '▁사람에게', 6685: '허무', 6686: '▁산만하고', 6687: '▁사랑스럽고', 6688: '▁미녀', 6689: '▁안나온다', 6690: '▁사회적', 6691: '주기도', 6692: '▁학생', 6693: '▁당장', 6694: '었구나', 6695: '▁듣기', 6696: '여주인공', 6697: '▁우선', 6698: '▁받았다', 6699: '▁개봉당시', 6700: '거에요', 6701: '▁준비', 6702: '▁당황', 6703: '▁위트', 6704: '▁불과', 6705: '걸린', 6706: '▁철학적', 6707: '았으면', 6708: '▁주려', 6709: '▁자고', 6710: '▁슬픈영화', 6711: '지않게', 6712: '인들의', 6713: '▁살아있는', 6714: '▁프랑스영화', 6715: '▁스릴러물', 6716: '▁똑같이', 6717: '▁영화라서', 6718: '▁비교해', 6719: '▁보지마셈', 6720: '▁보아도', 6721: '▁재미없네요', 6722: '!!!!!!!!', 6723: '▁세상에서', 6724: '▁또보고싶', 6725: '버스', 6726: 'ce', 6727: '야말로', 6728: '▁선동', 6729: '구려', 6730: '▁미쳐', 6731: '▁긴장감을', 6732: '아니고', 6733: '멋잇', 6734: '▁노인', 6735: '▁미소가', 6736: '▁빕니다', 6737: '덧', 6738: '▁마찬가지', 6739: '▁강동원', 6740: '▁Good', 6741: '▁섬뜩', 6742: '▁미스캐스팅', 6743: '▁두고두고', 6744: '▁픽사', 6745: '▁풀어낸', 6746: '▁보는것', 6747: '▁돈아까워', 6748: '▁가야', 6749: '▁감동적이에요', 6750: '▁좋으나', 6751: '▁시험', 6752: '▁모자라', 6753: '▁승부', 6754: '▁로망', 6755: '▁뻔한스토리', 6756: '▁보여줄', 6757: '▁못하겠다', 6758: '▁다른영화', 6759: '▁늙어', 6760: '▁한심하다', 6761: '▁했을까', 6762: '해야하나', 6763: '되길', 6764: '▁매번', 6765: '▁조낸', 6766: '▁흥분', 6767: '▁당신의', 6768: '▁보고있는데', 6769: '얼마나', 6770: '떼', 6771: '▁조금만', 6772: '우리나라', 6773: '예술', 6774: '있었는데', 6775: '샘', 6776: '어떤', 6777: '병맛', 6778: '▁어쩌다', 6779: '까봐', 6780: '▁고마', 6781: '▁부자', 6782: '스틴', 6783: '각본', 6784: '형사', 6785: '▁팬들', 6786: '▁movie', 6787: '▁스파이더맨', 6788: '속으로', 6789: '▁잼있네요', 6790: '▁예술이', 6791: '▁소유', 6792: '▁무서움', 6793: '▁올라가', 6794: '▁만들어라', 6795: '▁좋아하지만', 6796: '자꾸', 6797: '▁들게', 6798: '▁왔습니다', 6799: '▁뭐여', 6800: '▁낮은지', 6801: '▁심하다', 6802: '▁하다니', 6803: '▁이야', 6804: '투성이', 6805: '▁끝을', 6806: 'ic', 6807: '▁연기잘하', 6808: '우드', 6809: '▁살리지', 6810: '▁대부', 6811: '▁그런거', 6812: '▁나머지는', 6813: '▁뻔하다', 6814: '▁이해도', 6815: '▁알게되', 6816: '▁느껴지지', 6817: '▁이것보다', 6818: '아까운영화', 6819: '▁잘생겼', 6820: '▁하하', 6821: '판에', 6822: '기술', 6823: '점주기도', 6824: '하는듯', 6825: '▁후하게', 6826: '▁욕먹', 6827: '▁실사', 6828: '▁하드', 6829: '괜', 6830: '싹', 6831: '그대로', 6832: 'ᅩ', 6833: '▁캐릭', 6834: '퀸', 6835: '솜', 6836: '▁엔딩크레딧', 6837: '▁유치찬란', 6838: '쏴', 6839: '오랫동안', 6840: '▁클래식', 6841: '▁납득', 6842: '▁원숭이', 6843: '어울림', 6844: '생겨서', 6845: '▁떡밥', 6846: '비추', 6847: '▁극혐', 6848: '▁그럴싸', 6849: '▁레옹', 6850: '▁민족', 6851: '▁쉬운', 6852: '▁방향', 6853: '행위', 6854: '▁고문', 6855: '▁지옥', 6856: '▁장난하나', 6857: '▁웃었다', 6858: '▁싶습니다', 6859: '▁중년', 6860: '▁비록', 6861: '▁남아있', 6862: '판을', 6863: '탓', 6864: '폴', 6865: '줍니다', 6866: '▁몬', 6867: '거보고', 6868: '댓글', 6869: '▁망쳐놓', 6870: 'ost', 6871: '났음', 6872: 'is', 6873: '▁멋져', 6874: '▁우린', 6875: '▁나열', 6876: '점이나', 6877: '▁조잡한', 6878: '저런', 6879: '▁아까워서', 6880: '▁화질', 6881: '▁현실은', 6882: '▁무섭게', 6883: '▁관심이', 6884: '▁만들어졌', 6885: '▁쿨', 6886: '▁있었음', 6887: '▁아이유', 6888: '▁귀여웠', 6889: '▁나음', 6890: '버린다', 6891: '▁믿어', 6892: '▁행복하게', 6893: '미화', 6894: '영활', 6895: '▁구성도', 6896: '나올때', 6897: '▁찾기', 6898: '▁한가지', 6899: 'il', 6900: '▁세월이', 6901: '▁잔인함', 6902: '▁천사', 6903: '▁끝날', 6904: '▁is', 6905: '▁넘어서', 6906: '뻔함', 6907: '믿고', 6908: '더라고요', 6909: '그저', 6910: '^^;', 6911: '▁장진', 6912: '재밋다', 6913: '▁되야', 6914: '돌려', 6915: '닮', 6916: '륜', 6917: '▁안나오는', 6918: '▁마시', 6919: '▁같았', 6920: '멈', 6921: '핫', 6922: '팽', 6923: '▁즐거움', 6924: '왈', 6925: '츄', 6926: '뜸', 6927: '▁잔잔함', 6928: '▁머릿속', 6929: '드려요', 6930: '▁ᄌᄂ', 6931: '▁온갖', 6932: '▁니콜라스', 6933: '▁상큼', 6934: '▁인생영화', 6935: '▁맞다', 6936: '▁4.44', 6937: '▁돌아보게', 6938: '페이스', 6939: '▁재앙', 6940: '▁예수', 6941: '다시보고싶', 6942: '봣어요', 6943: '▁아쉬워요', 6944: '▁태국', 6945: '▁세계관', 6946: '▁권력', 6947: '▁느껴질', 6948: '▁재밌게봤어요', 6949: '▁의도는', 6950: '분짜리', 6951: '▁괜찮았던', 6952: 'us', 6953: '재밌고', 6954: '만드나', 6955: '▁자연스럽게', 6956: '▁들어서', 6957: '살때', 6958: '▁될수', 6959: '▁재방', 6960: '▁영화라지만', 6961: '▁한동안', 6962: '▁이만한', 6963: '▁괜찮네요', 6964: '▁알리', 6965: '죽이고', 6966: '내려', 6967: '낭비', 6968: '▁마냥', 6969: '▁보게되는', 6970: '제일', 6971: '로맨스', 6972: '▁언어', 6973: '뒤에', 6974: '것인지', 6975: '현실적', 6976: '▁눈으로', 6977: '마저도', 6978: '누님', 6979: '▁커서', 6980: '▁외국인', 6981: '줘요', 6982: '▁웃겼다', 6983: '▁이거보단', 6984: '보길', 6985: '▁엘리', 6986: '하더라도', 6987: '달라고', 6988: '▁학생들', 6989: '▁진부하', 6990: '로서는', 6991: '충격', 6992: '▁해준다', 6993: '▁살아남', 6994: '▁깜', 6995: '하길래', 6996: '그런데', 6997: '본거', 6998: '▁일반인', 6999: '주었다', 7000: '될까', 7001: '스턴', 7002: '▁원작과', 7003: '▁캐리', 7004: '하러', 7005: '▁완성', 7006: '▁나오네요', 7007: '치기', 7008: '결말이', 7009: '▁눈치', 7010: '▁별거', 7011: '▁배우분들', 7012: '▁많네', 7013: '감명깊', 7014: '렴', 7015: '☆', 7016: '▁고등학생', 7017: '▁안타까움', 7018: '잣', 7019: '짙', 7020: '▁감성팔이', 7021: '▁김혜수', 7022: '▁피아노', 7023: '▁치밀하', 7024: '▁파격적', 7025: '▁방황', 7026: '▁아니라면', 7027: '시끄러', 7028: '▁바란다', 7029: '졌음', 7030: '▁자랑', 7031: '▁얻어', 7032: '▁후반부에', 7033: '▁개꿀잼', 7034: '▁남기는', 7035: 'ᄀᄀ', 7036: '답다', 7037: '▁제작비가', 7038: 'sh', 7039: 'ha', 7040: '▁전기', 7041: '▁하기엔', 7042: '간만에', 7043: '방에서', 7044: '▁신고', 7045: '보려고', 7046: '만족', 7047: '▁도와', 7048: '▁기발한', 7049: '▁봐주', 7050: '▁오그라들', 7051: '잼씀', 7052: '▁느껴졌다', 7053: '▁채워', 7054: '▁공주', 7055: '애니메이션', 7056: '▁나왔던', 7057: '좀비', 7058: '결혼', 7059: '들끼리', 7060: '▁필요한가', 7061: '구역', 7062: '▁느끼고', 7063: '바닥', 7064: '긴했지만', 7065: 'he', 7066: '▁빠져들게', 7067: '피디', 7068: '▁신화', 7069: '어쩌', 7070: '하였다', 7071: '▁뛰어넘', 7072: '빠짐', 7073: '▁삐', 7074: '▁짱구', 7075: '싶네요', 7076: '▁발음', 7077: '검사', 7078: '▁잼있는', 7079: '▁평을', 7080: '▁없던', 7081: '▁가르', 7082: '▁잠들', 7083: '진행', 7084: '국민', 7085: '▁알려주는', 7086: '하하', 7087: '▁바닥', 7088: '▁낚인', 7089: '▁알아야', 7090: '▁짤', 7091: '▁자연스럽', 7092: '▁나오기', 7093: '▁실망이다', 7094: '▁관객이', 7095: '보려', 7096: 'ch', 7097: '▁두명', 7098: '▁남는게', 7099: '▁제작자', 7100: '제국', 7101: '▁무엇이', 7102: '▁킬링', 7103: '팝', 7104: '쭈', 7105: '▁뒤늦게', 7106: '▁어정쩡', 7107: '띠', 7108: '랏', 7109: '뻑', 7110: '▁짬뽕', 7111: '▁애초에', 7112: '▁오그라드는', 7113: '▁전성기', 7114: '▁로맨틱코미디', 7115: '▁프레', 7116: '▁멋짐', 7117: '▁자연스러운', 7118: '▁챙겨보', 7119: '동화', 7120: '▁닮았', 7121: 'vs', 7122: '흑흑', 7123: '▁사이코', 7124: '▁앞에서', 7125: '▁감동적입니다', 7126: '▁고증', 7127: '지않는다', 7128: 'la', 7129: '▁되었습니다', 7130: '▁멋있고', 7131: '▁않으', 7132: '▁웃음을', 7133: '▁옛날영화', 7134: '▁재밋엇', 7135: '프라', 7136: '▁영화보다가', 7137: '▁또라이', 7138: '학원', 7139: 'id', 7140: '▁담고', 7141: '쩝', 7142: '덕분에', 7143: '▁못봐주겠', 7144: '왠', 7145: '▁밋밋한', 7146: '▁화끈한', 7147: '놈은', 7148: '▁낮네요', 7149: '▁역작', 7150: '▁예고', 7151: '▁막상', 7152: '▁답답해', 7153: '치면', 7154: '보지마라', 7155: '올려', 7156: '할수없는', 7157: '것들이', 7158: '수작', 7159: '보러', 7160: '▁티비로', 7161: '재밋음', 7162: '▁부족하고', 7163: '억지스럽', 7164: '▁본격', 7165: '했어도', 7166: '▁재밋는', 7167: '거든', 7168: '떨어지', 7169: '안되고', 7170: '▁무협영화', 7171: '보던', 7172: '▁전율', 7173: '▁폼', 7174: '▁짜증났', 7175: '좋은데', 7176: '하지않고', 7177: '분정도', 7178: '▁열라', 7179: '삼류', 7180: '▁추가', 7181: '▁대박이다', 7182: '▁독립', 7183: '▁제목에', 7184: '▁아무나', 7185: '▁허허', 7186: '부리', 7187: '▁받아야', 7188: '끝나고', 7189: '뎀', 7190: '아카데미', 7191: '쩍', 7192: '▁시간때우기', 7193: '▁크레딧', 7194: '꽁', 7195: '뚫', 7196: '▁세련된', 7197: '▁엄정화', 7198: '▁한석규', 7199: '▁스페인', 7200: '▁완젼', 7201: '누구', 7202: '▁늙은', 7203: '▁흘렸', 7204: '▁바라는', 7205: '▁찬양', 7206: '▁억지스런', 7207: '▁먹칠', 7208: '▁짱이다', 7209: '▁간직', 7210: '▁에라이', 7211: '▁듣는', 7212: '▁브레', 7213: '▁정리', 7214: '▁불쌍해', 7215: '▁환장', 7216: '▁니가', 7217: '▁멋져요', 7218: '▁처음본다', 7219: '▁복선', 7220: '깐', 7221: '▁빠질', 7222: '▁여기에', 7223: '▁재밌었습니다', 7224: '▁채우', 7225: '▁의미있는', 7226: '▁거짓', 7227: 'ter', 7228: '▁있겠지만', 7229: '▁부인', 7230: '▁당연한', 7231: '▁봐줄만', 7232: '▁느낀다', 7233: '▁최고에요', 7234: '▁주온', 7235: '▁모방', 7236: '▁절대로', 7237: '▁성인이', 7238: '▁않습니다', 7239: '▁웃겨서', 7240: '▁얘기를', 7241: '▁오해', 7242: '▁다가오', 7243: '▁만들었으면', 7244: '멀', 7245: '▁의해', 7246: '첫', 7247: '▁정체성', 7248: '초딩', 7249: '▁편하게', 7250: '▁점에서', 7251: '철학', 7252: '▁힘들어', 7253: '폭력', 7254: '▁니네', 7255: '남주', 7256: '▁영상은', 7257: '▁안되네', 7258: '▁미스테리', 7259: '▁현실적이고', 7260: '▁커버', 7261: '▁본능', 7262: '▁무식', 7263: '▁높이', 7264: '▁17', 7265: '▁감독에게', 7266: '짓을', 7267: '예전', 7268: '▁상업영화', 7269: '▁꿈과', 7270: '내리', 7271: '지마세요', 7272: '▁지경', 7273: '▁아까웠', 7274: '▁높지', 7275: '▁그이상', 7276: '▁정부', 7277: '▁글고', 7278: '조아', 7279: '하든', 7280: '▁즐겨', 7281: '▁안가는', 7282: '마음이', 7283: '크리', 7284: '▁아이를', 7285: '▁역사적', 7286: '호러', 7287: '어설프', 7288: '▁일깨워', 7289: '혐', 7290: '냄', 7291: '썰', 7292: 'ᄐ', 7293: '▁포켓몬', 7294: '▁호불호가', 7295: '뜯', 7296: '▁그냥저냥', 7297: '쇄', 7298: '****', 7299: '▁설경구', 7300: '▁나루토', 7301: '▁원피스', 7302: '▁후속편', 7303: '▁데이빗', 7304: '하기에는', 7305: '▁귀찮', 7306: '▁호흡', 7307: '어지럽', 7308: '▁공룡', 7309: '▁생존', 7310: '것같음', 7311: '▁시골', 7312: '▁개인적인', 7313: '▁초반엔', 7314: '실화', 7315: '▁안감', 7316: '차원', 7317: '▁심장이', 7318: '지르는', 7319: '▁설정은', 7320: '줄알고', 7321: '▁감정선', 7322: '▁가족과', 7323: '▁마블', 7324: '▁시청자들', 7325: '▁강추합니다', 7326: '▁성형', 7327: '▁극본', 7328: '▁러닝타임이', 7329: '▁이런식으로', 7330: '▁미학', 7331: '▁스포', 7332: '▁시체', 7333: '학년때', 7334: '▁기대된다', 7335: '져야', 7336: '▁않아요', 7337: '어른', 7338: '회부터', 7339: '??????', 7340: '▁쓰러', 7341: '점주고', 7342: '▁싶음', 7343: '▁편인데', 7344: '▁갖게', 7345: '▁물어', 7346: '▁16', 7347: '▁제대로된', 7348: '옛날', 7349: '갑자기', 7350: '▁최고최고', 7351: '▁기대했던', 7352: '▁상처를', 7353: '해가는', 7354: '에휴', 7355: '▁내취향', 7356: '▁진부하다', 7357: '▁취향이', 7358: '▁안보면', 7359: '▁첨으로', 7360: '좋아하는데', 7361: '아직', 7362: '말이필요없', 7363: '▁남아있는', 7364: '▁과정이', 7365: '겠는가', 7366: '▁흔하', 7367: 'ver', 7368: '남긴다', 7369: '▁해외', 7370: '같애', 7371: '앞에서', 7372: '졌으면', 7373: '할정도로', 7374: '▁않으면', 7375: '할려고', 7376: 'ᅲᅲᅲᅲᅲ', 7377: '▁주인공들이', 7378: '▁니들이', 7379: '바른', 7380: '룬', 7381: '작가님', 7382: '하려면', 7383: '▁한사람', 7384: '랍', 7385: '댓', 7386: '콤', 7387: '봇', 7388: 'ᄊ', 7389: '▁듭니다', 7390: '▁런닝타임', 7391: '▁박찬욱', 7392: '▁아이언맨', 7393: '▁에드워드', 7394: '▁영웅본색', 7395: '▁테이큰', 7396: '숲', 7397: '좆', 7398: '턱', 7399: '▁2.22', 7400: '넷', 7401: '▁팝콘', 7402: '▁웬만하면', 7403: 'Y', 7404: '▁김희선', 7405: '▁정주행', 7406: '▁어딘가', 7407: '▁흥미롭게', 7408: '▁수면제', 7409: '▁출연자', 7410: '▁이하도', 7411: '▁가슴아프', 7412: '▁슈퍼맨', 7413: '▁새삼', 7414: '▁믿는', 7415: '▁경악', 7416: '▁반갑', 7417: '▁거기서', 7418: '▁히어로물', 7419: '▁긴장감과', 7420: '▁액션물', 7421: '▁심각하게', 7422: '▁감동적이었다', 7423: '▁일찍', 7424: '▁게스트', 7425: '▁광기', 7426: '▁두개', 7427: '▁가능성', 7428: '두번', 7429: '▁믿지', 7430: '▁귀여워서', 7431: '▁회상', 7432: '게다가', 7433: '▁만들었냐', 7434: 'im', 7435: '▁흉내내', 7436: '▁보고싶은데', 7437: '하겠지만', 7438: '▁웃기기', 7439: '앞에', 7440: '릴때', 7441: '▁어린아이', 7442: '▁좋더라', 7443: '있다면', 7444: '▁전율이', 7445: '▁피식', 7446: '▁대역', 7447: '▁멜로영화', 7448: '▁몰입하게', 7449: '▁경우', 7450: '▁허구', 7451: '▁명배우', 7452: '▁포함', 7453: '▁모든것이', 7454: '▁우리에게', 7455: '분들께', 7456: '▁걸작이다', 7457: '옷', 7458: '▁연주', 7459: '깜', 7460: '무서운', 7461: '탐', 7462: '오랜만에', 7463: '스러웠다', 7464: '러운', 7465: '보지마세요', 7466: '전체', 7467: '▁머냐', 7468: '눈물이', 7469: '년간', 7470: '▁머야', 7471: ':)', 7472: '▁일본에서', 7473: '▁어울리', 7474: '▁다름', 7475: '끝내', 7476: '▁허접하고', 7477: '공부', 7478: '잘못', 7479: '▁만들어야', 7480: '입장', 7481: '▁무기', 7482: '볼때', 7483: '▁밝혀', 7484: '▁못했던', 7485: '웃긴', 7486: '▁적절', 7487: '▁망쳐', 7488: '▁싶다면', 7489: '▁오랜', 7490: '70', 7491: '▁중학교', 7492: '▁찍지', 7493: '▁거기', 7494: '말도안되', 7495: '▁못만들', 7496: '▁반감', 7497: '랍니다', 7498: '밍', 7499: '▁군더더기', 7500: '즉', 7501: '▁송승헌', 7502: '늬', 7503: '믄', 7504: '▁손예진', 7505: '▁어차피', 7506: '▁권상우', 7507: '▁엉뚱', 7508: '▁오페라', 7509: '▁외로움', 7510: '▁흠잡을', 7511: '▁왕가위', 7512: '▁보낸다', 7513: '점준것중', 7514: '▁엠마', 7515: '▁심리묘사', 7516: '▁어설프게', 7517: '▁택시', 7518: '▁색채', 7519: '땜시', 7520: '▁웃으며', 7521: '▁재탕', 7522: '▁의한', 7523: '시키지', 7524: '▁반응', 7525: 'ri', 7526: '▁음향', 7527: '▁아깝습니다', 7528: '▁동화같은', 7529: '▁힘들었다', 7530: '▁상식', 7531: '었을텐데', 7532: '▁웃다가', 7533: '▁뜬금없', 7534: '▁느껴졌', 7535: '▁결국엔', 7536: '▁기발', 7537: 'op', 7538: '레기', 7539: '▁면이', 7540: '▁레오', 7541: '▁봐야한다', 7542: '▁말았다', 7543: '▁공연', 7544: '높아', 7545: '드리고', 7546: '뭔지', 7547: '▁인연', 7548: '▁여유', 7549: '▁자세', 7550: '▁괜찮을', 7551: 'el', 7552: '장님', 7553: '▁지금보면', 7554: '엇음', 7555: '▁벌어', 7556: '한국영화', 7557: '▁재수없', 7558: '▁검색해', 7559: '그녀', 7560: '▁전라도', 7561: '삐', 7562: '▁자위', 7563: '▁보이고', 7564: '▁안봐서', 7565: '촬영', 7566: '▁나올까', 7567: '▁매주', 7568: '암튼', 7569: '킬링타임', 7570: '학대', 7571: 'ie', 7572: '많고', 7573: '죽여', 7574: '많은것을', 7575: '▁ᄏᄏᄏᄏᄏᄏᄏᄏᄏᄏᄏᄏᄏᄏ', 7576: '좋겠다', 7577: '▁다시봤는데', 7578: '▁와닿지', 7579: '▁인식', 7580: '아닌데', 7581: '▁이어지는', 7582: '였네', 7583: '▁말이필요', 7584: '▁싫은', 7585: '▁재밋어', 7586: '같네요', 7587: '▁필요하다', 7588: '▁본듯한', 7589: '줄거리', 7590: '▁명작임', 7591: '▁바라보는', 7592: '밋', 7593: '순수', 7594: '룸', 7595: '▁가볍지', 7596: '▁스필버그', 7597: '넓', 7598: '▁예뻐서', 7599: '릅', 7600: '▁깨달음', 7601: '▁나머진', 7602: '▁픽션', 7603: '▁아바타', 7604: '▁드니로', 7605: '▁컬트', 7606: '▁가까이', 7607: '▁절묘', 7608: '><', 7609: '버그', 7610: '▁2015', 7611: '▁낮추', 7612: '▁십점', 7613: '▁과장된', 7614: '할게요', 7615: '▁치료', 7616: '▁커피', 7617: '않았다', 7618: '▁대사와', 7619: '▁소품', 7620: '▁번역', 7621: '별점', 7622: '▁남긴', 7623: '나봐요', 7624: '▁향한', 7625: '▁우승', 7626: '▁모순', 7627: '▁경계', 7628: '▁기억난다', 7629: '▁식상하다', 7630: '주고싶은', 7631: '▁내시간', 7632: '▁싶었는데', 7633: '▁-_-;;', 7634: '▁애정', 7635: '▁로마', 7636: '테니', 7637: '▁울어', 7638: '▁불쌍해서', 7639: '▁오직', 7640: '없어요', 7641: '한텐', 7642: '▁장점', 7643: '▁이딴거', 7644: '▁정석', 7645: '▁이따위로', 7646: '▁있어보이', 7647: '되네', 7648: '▁허나', 7649: '있었던', 7650: '모델', 7651: '▁훈훈하고', 7652: '.,.,', 7653: '큼', 7654: '▁외면', 7655: '입니까', 7656: '▁청년', 7657: '▁스릴감', 7658: '▁동감', 7659: '미치', 7660: '▁풀어내', 7661: '▁후반부로', 7662: '마무리', 7663: '▁토니', 7664: '그래픽', 7665: '더럽게', 7666: '▁성적', 7667: '▁우울한', 7668: '볼때마다', 7669: '모르겠다', 7670: '▁비해서', 7671: '민호', 7672: '▁없으니', 7673: '▁영상미와', 7674: '▁알려주', 7675: '▁흥미진진한', 7676: '천재', 7677: '원주고', 7678: '집에서', 7679: '▁전설이', 7680: '▁최악임', 7681: '됬다', 7682: 'av', 7683: '▁등장하는', 7684: '▁이딴게', 7685: '▁기사', 7686: '▁안봄', 7687: '지루한', 7688: '▁잼없다', 7689: '나이트', 7690: '▁깨닫', 7691: '▁시대적', 7692: '없었다', 7693: '▁머리속', 7694: '▁산만하', 7695: '듣고', 7696: '그림', 7697: '▁본방', 7698: '킥', 7699: '▁봤는지', 7700: '▁점수준것들', 7701: '▁학창시절', 7702: '▁다이하드', 7703: '▁도라에몽', 7704: '▁싸이코패스', 7705: '▁엉망진창', 7706: '삘', 7707: '썬', 7708: '▁구혜선', 7709: '▁김명민', 7710: '▁지저분', 7711: '▁최민수', 7712: '▁영향을', 7713: '2005', 7714: '▁실상', 7715: '▁저평가', 7716: '▁패션', 7717: '▁발랄', 7718: '▁열광', 7719: '▁흥미롭지', 7720: '▁국산', 7721: '▁의견', 7722: '▁중반부터', 7723: '▁공허', 7724: '▁냉정', 7725: '보니깐', 7726: '▁감동적임', 7727: '몰입도', 7728: '했었다', 7729: '▁좋아하지', 7730: '▁천만', 7731: '▁인간적으로', 7732: '▁처음이네', 7733: '설명', 7734: '▁법정', 7735: '떨어지는', 7736: '신부', 7737: '▁이은주', 7738: '▁있었습니다', 7739: '▁끝남', 7740: '▁어디까지', 7741: '▁에로물', 7742: '▁자체로', 7743: '척하는', 7744: '낫다', 7745: '▁크다', 7746: '▁아닌것', 7747: '18', 7748: '▁좋아했던', 7749: '▁go', 7750: '▁빈약한', 7751: '▁따스', 7752: '▁감동받', 7753: '▁약하다', 7754: '▁만들었네', 7755: '▁손색이', 7756: '▁최고인듯', 7757: '썩', 7758: '궁금해', 7759: '질러', 7760: '무서움', 7761: '선생님', 7762: '▁의도를', 7763: 'ma', 7764: '▁이것은', 7765: '▁형식', 7766: '▁미안해', 7767: '감상', 7768: '▁없을까', 7769: '노출', 7770: '평생', 7771: '▁가져다', 7772: '꼬마', 7773: '▁OOOO', 7774: '대체', 7775: '▁감동입니다', 7776: '▁끄는', 7777: '웠던', 7778: '걸작', 7779: '▁날리', 7780: '▁살인자', 7781: '▁이런것도', 7782: '▁알게된', 7783: '콧', 7784: '긍', 7785: '맴', 7786: '헨', 7787: '떳', 7788: '▁겨울왕국', 7789: '▁소피마르소', 7790: '꾹', 7791: '▁어쨌든', 7792: '쇠', 7793: '졋', 7794: '▁국어책', 7795: '▁안타까웠', 7796: '▁간간히', 7797: '깁', 7798: '▁멘탈', 7799: '스러울', 7800: '▁콜린', 7801: '▁틀림없', 7802: '▁심오한', 7803: '밑에', 7804: 'very', 7805: '▁강아지', 7806: '▁관람객', 7807: '▁기다렸', 7808: '▁람보', 7809: '▁문득', 7810: '-.-', 7811: '▁재방송', 7812: '▁아침드라마', 7813: '▁출발', 7814: '▁여태까지', 7815: '▁뭐랄까', 7816: '▁지루했음', 7817: '▁이기적인', 7818: '▁적극', 7819: '▁뉴스', 7820: '▁재미없었음', 7821: '▁미술', 7822: '▁보는동안', 7823: '보기엔', 7824: '▁향기', 7825: '▁미치는', 7826: '▁없애', 7827: '▁알바생', 7828: '▁고작', 7829: '하죠', 7830: '▁배울', 7831: '▁네이버평점', 7832: '▁믿을게', 7833: '영씨', 7834: '▁괴수', 7835: '▁야하지도', 7836: '▁만든건지', 7837: '쪽으로', 7838: '왔습니다', 7839: '▁개소리', 7840: '▁들여', 7841: '넘치는', 7842: '하는것도', 7843: '재미없는', 7844: '▁장소', 7845: '편부터', 7846: '▁죽일', 7847: '▁데려다', 7848: '▁아련한', 7849: '▁마법', 7850: '▁이어지', 7851: '▁통해서', 7852: '▁흐르', 7853: '무서워', 7854: '액', 7855: '아름다운', 7856: '쿨', 7857: 'ᄉᄇ', 7858: '힘든', 7859: '중간에', 7860: '▁베일', 7861: '▁지금이나', 7862: '▁잘했다', 7863: '▁찍으', 7864: '▁죽는다', 7865: '▁메세지를', 7866: '엉성', 7867: '멋진', 7868: '시티', 7869: '▁역겹', 7870: '▁지워', 7871: '잇엇', 7872: '것들은', 7873: 'ᄍᄍᄍ', 7874: '▁불쾌한', 7875: 'ᄒᄒᄒᄒ', 7876: '▁태어나', 7877: '번이나', 7878: '▁호감', 7879: '롯', 7880: '싼', 7881: '앵', 7882: '읍', 7883: '흉', 7884: '뚜', 7885: '▁엑스맨', 7886: '▁트랜스포머', 7887: '겸', 7888: '묶', 7889: '캠', 7890: '훗', 7891: '▁숨막히', 7892: '▁이탈리아', 7893: '▁김민종', 7894: '▁힙합', 7895: '끓', 7896: '▁멈추', 7897: '▁엽문', 7898: '▁농담', 7899: '▁전지현', 7900: '▁다운로드', 7901: '▁갖춘', 7902: '▁증명', 7903: '▁사라진', 7904: '▁안성기', 7905: '▁중후반', 7906: '▁시간아까워', 7907: '▁애국심', 7908: '▁꺼져', 7909: '▁욕나온다', 7910: '▁빨간', 7911: '▁허탈', 7912: '▁러브스토리', 7913: '▁모독', 7914: '▁피곤', 7915: '▁환상적인', 7916: '▁부각', 7917: '▁터지는', 7918: '▁적당하다', 7919: '▁신경쓰', 7920: '▁못따라', 7921: '▁제왕', 7922: '▁이따구로', 7923: '▁더욱더', 7924: '▁남기고', 7925: '▁소중하', 7926: '작전', 7927: '▁굉장한', 7928: '▁자격', 7929: '▁데뷔작', 7930: '▁가관', 7931: '▁걸리', 7932: '▁정통', 7933: '▁조악', 7934: '봤을땐', 7935: '대장', 7936: '▁보고싶네요', 7937: '▁중국영화', 7938: '▁많음', 7939: '▁명작이라고', 7940: '▁내놓', 7941: '것도아니고', 7942: '▁명작이네요', 7943: '▁못하네', 7944: '▁변신', 7945: '사극', 7946: '▁돌아오', 7947: '▁모여', 7948: '주관적', 7949: '혀서', 7950: '▁198', 7951: '▁이영화보고', 7952: 'H', 7953: '몰랐', 7954: '잘봤습니다', 7955: '▁안되나', 7956: '네이버', 7957: '▁되어야', 7958: '60', 7959: '▁가상', 7960: '성룡', 7961: '억울', 7962: '비행', 7963: '재밋어요', 7964: '으세요', 7965: '▁대학생', 7966: '끝날때까지', 7967: '웠음', 7968: '하나하나', 7969: '▁통쾌한', 7970: '설마', 7971: '▁보게되었', 7972: '▁인도영화', 7973: '즌', 7974: '▁운동', 7975: '있을까', 7976: '▁떠오르는', 7977: '인상깊었', 7978: '펠', 7979: '▁신데렐라', 7980: '▁흐지부지', 7981: '뎌', 7982: '헝', 7983: '^_^', 7984: '▁정확히', 7985: '▁키아누', 7986: '뎁', 7987: '줫', 7988: '▁오우삼', 7989: '찜찜', 7990: '▁더더욱', 7991: '▁박평식', 7992: '▁사무라이', 7993: '▁신세경', 7994: '그나저나', 7995: '▁어떠한', 7996: '▁장동건', 7997: '▁드래곤볼', 7998: '▁함부로', 7999: '꼬맹이', 8000: '▁다니엘', 8001: '▁흑역사', 8002: '▁일어날', 8003: '▁스킵', 8004: '▁색다르', 8005: '▁아쉬웠지만', 8006: '▁색깔', 8007: '▁전도연', 8008: '▁모자란', 8009: '▁깜놀', 8010: '▁학살', 8011: '안쓰는데', 8012: '▁첫번째', 8013: '밖엔', 8014: '▁미친듯이', 8015: '▁이민기', 8016: '▁에릭', 8017: '▁몰락', 8018: '▁신세계', 8019: '▁복수극', 8020: '▁지브리', 8021: '▁가라', 8022: '▁쏘우', 8023: '▁태양', 8024: '▁재미나게', 8025: '▁99', 8026: '▁교회', 8027: '▁백배', 8028: '▁모아', 8029: '▁좋아하시는', 8030: '▁초반부터', 8031: '▁틀어주', 8032: '원래', 8033: '▁울림', 8034: '▁잼나요', 8035: '주의자', 8036: '▁소소하', 8037: '▁임신', 8038: '▁성경', 8039: '갈수', 8040: '▁유치하기', 8041: '▁빠지게', 8042: '닼', 8043: '타령', 8044: '할정도', 8045: '▁추천한다', 8046: '▁그시절', 8047: '직원', 8048: '▁최하', 8049: '▁화가나', 8050: '▁슬펐다', 8051: '▁특이한', 8052: '▁퇴보', 8053: '▁장난감', 8054: '▁도움이', 8055: '▁본적이', 8056: '▁생각나게', 8057: '필드', 8058: '▁재밌게봤는데', 8059: '볼려고', 8060: '▁만날', 8061: '▁따뜻함', 8062: '사장', 8063: '▁남자배우', 8064: '▁낚였네', 8065: '하잖아', 8066: '거같네요', 8067: '쫌', 8068: '특유의', 8069: '한마디로', 8070: '유쾌', 8071: '▁아름다웠', 8072: '했더니', 8073: '키우', 8074: '▁공포감', 8075: '▁잔인하고', 8076: '▁다시보게', 8077: '졌어요', 8078: '년동안', 8079: '▁높네', 8080: '▁않네', 8081: '▁비교하면', 8082: 'ᄒᄒᄒᄒᄒ', 8083: '▁공감대', 8084: '▁만세', 8085: '자매', 8086: '섯', 8087: '▁이해되', 8088: '▁싶으면', 8089: '▁보는사람', 8090: '딜', 8091: '날때', 8092: '믹', 8093: '끗', 8094: '드래곤', 8095: '▁매끄럽지', 8096: '▁톰크루즈', 8097: '뼈', 8098: '탠', 8099: '펴', 8100: '▁미장센', 8101: '▁어설퍼', 8102: '▁엉터리', 8103: '딕', 8104: '▁황정민', 8105: '▁최민식', 8106: '깡', 8107: '▁윌리스', 8108: '▁ᄇᄉ', 8109: '▁멀쩡', 8110: '▁2003', 8111: '▁이정재', 8112: '▁8.5', 8113: '▁보여줌', 8114: '://', 8115: '▁낚여서', 8116: '▁말이필요없다', 8117: '헌터', 8118: '십니다', 8119: '▁극찬', 8120: '▁마틴', 8121: '▁우롱', 8122: '▁나올수', 8123: '▁심정', 8124: '▁실패작', 8125: '▁노튼', 8126: '▁드문', 8127: '▁오글거려서', 8128: '점도아깝다', 8129: '▁질문', 8130: '▁영광', 8131: '▁잔잔하지만', 8132: '▁끝난다', 8133: '▁존잼', 8134: '▁재밌기만', 8135: '▁집단', 8136: '▁유령', 8137: '와이프', 8138: '▁돈아깝다', 8139: '▁울었습니다', 8140: '▁카피', 8141: '▁사람마다', 8142: '▁한번씩', 8143: '▁단역', 8144: '▁히트', 8145: '▁남친', 8146: '▁무슨말이', 8147: '▁드물', 8148: '엿다', 8149: '▁늙었', 8150: '▁의미없는', 8151: '▁슬프네요', 8152: '하루', 8153: '탁월한', 8154: '연애', 8155: '▁담아', 8156: '▁아름다웠다', 8157: '얘', 8158: '▁있나요', 8159: '지않나', 8160: '▁말아먹은', 8161: '▁so', 8162: '몇번', 8163: '볼꺼', 8164: '▁날려', 8165: '바탕', 8166: '자막', 8167: '▁생각했던', 8168: '하시네요', 8169: '▁혼자서', 8170: '▁재밌게본', 8171: '점만점', 8172: '▁결말까지', 8173: '취향', 8174: '페이지', 8175: '▁깔끔', 8176: '▁조폭영화', 8177: '퇴', 8178: '귀여워', 8179: '그렇지', 8180: '▁다음편', 8181: '필름', 8182: '▁밀어', 8183: 'cg', 8184: '▁강하게', 8185: '▁진정성', 8186: '영웅', 8187: '할텐데', 8188: '인것같다', 8189: '▁허무함', 8190: '씩이나', 8191: 'ᄃᄃᄃᄃ', 8192: '유머', 8193: '▁멋있어', 8194: '▁미스터', 8195: '재미있음', 8196: '중딩', 8197: '퉁', 8198: '뱅', 8199: '밉', 8200: '펼', 8201: '윽', 8202: '▁과대평가', 8203: '▁윌리엄', 8204: '뉘', 8205: '맷', 8206: '벙', 8207: '쉣', 8208: '앜', 8209: '▁가슴아픈', 8210: '▁차태현', 8211: '겄', 8212: '습니당', 8213: '▁정당화', 8214: '▁징징', 8215: '▁완죤', 8216: '▁클라스', 8217: '▁솔까', 8218: '것같습니다', 8219: '▁납치', 8220: '▁거슬리', 8221: '▁젊음', 8222: '▁더럽다', 8223: '▁찬사를', 8224: '▁사라져', 8225: '▁경의를', 8226: '징그러', 8227: '▁고마운', 8228: '▁상당한', 8229: '▁뽑아', 8230: '▁짱짱맨', 8231: '▁댄스', 8232: '▁장혁', 8233: '▁황금', 8234: '▁존스', 8235: '노동자', 8236: '나보네', 8237: '▁겉멋만', 8238: '▁볼만했는데', 8239: '금지', 8240: '▁몰랐는데', 8241: '▁슬퍼요', 8242: '▁안타깝네요', 8243: '▁나오다니', 8244: '수가없다', 8245: 'PD', 8246: '아침', 8247: '▁재현', 8248: '▁기록', 8249: '▁힘내', 8250: '▁하던가', 8251: '감성', 8252: '▁좋구', 8253: '▁집어', 8254: '▁답답해서', 8255: '▁재미있어서', 8256: '▁에러', 8257: '작렬', 8258: '▁없었는데', 8259: '가아니라', 8260: '클럽', 8261: '하느라', 8262: '▁있으니', 8263: '▁사망', 8264: '줄알았다', 8265: '▁꺼내', 8266: '▁볼만한데', 8267: '갔으면', 8268: '▁어색함', 8269: '달리', 8270: '개연성', 8271: '히어로', 8272: '▁모르나', 8273: '▁비현실적이', 8274: '변화', 8275: '알바들', 8276: '했냐', 8277: '뿔', 8278: '▁아쉬워', 8279: '풋풋', 8280: '▁부끄러', 8281: '쎄', 8282: '옵', 8283: '썻', 8284: '▁다크나이트', 8285: '▁인상깊게', 8286: '럿', 8287: '밨', 8288: '빤', 8289: '쏙', 8290: '웰', 8291: '코스프레', 8292: '▁끝판왕', 8293: '푼', 8294: '▁아프리카', 8295: '띵', 8296: '릉', 8297: '안타까워', 8298: '▁김태희', 8299: '▁공중파', 8300: '▁긴박감', 8301: '▁모성애', 8302: '▁여기저기', 8303: '▁임청하', 8304: '▁타이틀', 8305: '▁아이러니', 8306: '▁2004', 8307: '▁레이첼', 8308: '▁혹평', 8309: '▁어지간', 8310: '▁감수성', 8311: '▁사기꾼', 8312: '▁노골적', 8313: '▁크리스찬', 8314: '▁담백하', 8315: '▁부끄러운', 8316: '▁죽기전에', 8317: '▁성찰', 8318: '▁어딜', 8319: '창있네', 8320: '▁원작소설', 8321: '▁돈낭비', 8322: '▁억지설정', 8323: '▁바꾼', 8324: '펙트', 8325: '▁대표적인', 8326: '▁서극', 8327: '였으나', 8328: '▁뿌리', 8329: '▁제정신', 8330: '▁재주', 8331: '▁불행', 8332: '▁어렸을적', 8333: '▁못생겼', 8334: '▁분명히', 8335: '▁요약', 8336: '▁알려준', 8337: '▁예산', 8338: '▁짧아', 8339: '▁도중에', 8340: '▁특수', 8341: '▁실화라는', 8342: '겁니까', 8343: '▁알겠지만', 8344: '▁없구나', 8345: '▁무색', 8346: '▁오글거리고', 8347: '▁재밌당', 8348: '▁썩어', 8349: '합니까', 8350: '활동', 8351: '남편', 8352: '▁좋아하네요', 8353: 'll', 8354: '▁처음이네요', 8355: '▁남발', 8356: '▁또봐도', 8357: '▁꼭봐야', 8358: '▁현실에서', 8359: '▁데미', 8360: '▁고수', 8361: '▁해피', 8362: '▁부디', 8363: '▁무리수', 8364: '▁할배', 8365: '▁빌리', 8366: '▁재밋는데', 8367: '▁일본판', 8368: '▁마크', 8369: '▁존재하는', 8370: '등급', 8371: '였다니', 8372: '지마시길', 8373: '▁유혹', 8374: '▁다른사람', 8375: '▁황당하', 8376: '▁주먹', 8377: '▁떠들', 8378: '▁기독교인', 8379: '-_', 8380: '▁외국영화', 8381: '▁300', 8382: '▁좋아한다', 8383: '▁손색', 8384: '해야한다', 8385: '▁오글거리', 8386: '▁강제', 8387: '쭉', 8388: '왜이래', 8389: '저예산', 8390: '완벽', 8391: '▁배려', 8392: '슬퍼', 8393: '123', 8394: '▁메리', 8395: '▁끝날때', 8396: '명성에', 8397: '다시봐도', 8398: '아이돌', 8399: '▁느껴져', 8400: '▁마르', 8401: '▁드러나', 8402: '별루', 8403: '마른', 8404: '▁이따구', 8405: '▁표정연기', 8406: '영상미', 8407: '▁봐줄', 8408: '▁있겠지', 8409: '티비에서', 8410: '▁터져', 8411: '뜩', 8412: '둡', 8413: '욬', 8414: '▁고맙습니다', 8415: '▁다세포소녀', 8416: '▁드림웍스', 8417: '▁똑바로', 8418: '▁미야자키', 8419: '▁인종차별', 8420: '▁홧팅', 8421: '둬', 8422: '룹', 8423: '켈', 8424: '펀', 8425: '핏', 8426: '▁모티브', 8427: '▁송혜교', 8428: '▁절제된', 8429: '나옵니다', 8430: '▁어둡고', 8431: '▁자본주의', 8432: '개인적으론', 8433: '▁2013', 8434: '▁태어난', 8435: '▁오인혜', 8436: '▁사로잡', 8437: '▁더럽고', 8438: '▁best', 8439: '▁끊임없', 8440: '▁7.5', 8441: '▁돋보인다', 8442: '▁눈요기', 8443: '▁짧게', 8444: 'ᄂᄂ', 8445: '▁가해자', 8446: '▁짐승', 8447: '등등', 8448: '▁감옥', 8449: '▁휴먼', 8450: '▁접근', 8451: '▁사라졌', 8452: '▁지나친', 8453: '▁존경합니다', 8454: '엇어요', 8455: '▁출현', 8456: '▁절반', 8457: 'ol', 8458: '라이브', 8459: '묘사', 8460: '▁필요없음', 8461: '덕후', 8462: '▁스토리라인', 8463: '▁총알', 8464: '▁중간부터', 8465: '▁우왕', 8466: '따윈', 8467: '▁대실망', 8468: '▁일탈', 8469: '▁남자라면', 8470: '▁건강', 8471: '▁됐는데', 8472: '▁경제', 8473: '▁슬프지만', 8474: '▁나은듯', 8475: '▁발레', 8476: '▁울었던', 8477: '과도한', 8478: '▁그지같은', 8479: '▁글쎄요', 8480: '▁않았음', 8481: '▁예쁘게', 8482: '▁철학적인', 8483: '▁아까워요', 8484: '▁전락', 8485: '▁잃어', 8486: '▁차마', 8487: '▁예술성', 8488: '왔던', 8489: '느님', 8490: '▁재밋네요', 8491: '이아니라', 8492: '▁좋았어', 8493: '찾기', 8494: '▁향해', 8495: '▁지루하기만', 8496: '▁감동받았', 8497: '써서', 8498: '▁솔직한', 8499: '▁존재한다', 8500: '▁느낄수있', 8501: '▁존재감', 8502: '--;', 8503: '▁어린이들', 8504: '짓거리', 8505: '▁압도', 8506: '대단히', 8507: '▁몰입되', 8508: '챙겨', 8509: '만들엇', 8510: '마냥', 8511: '▁죽을뻔', 8512: '달까', 8513: '▁환상적이', 8514: '챙', 8515: '꿔', 8516: '첩', 8517: 'mbc', 8518: '↓', 8519: '▁고스란히', 8520: '▁뮤직비디오', 8521: '▁임권택', 8522: '▁팀버튼', 8523: '▁파워레인저', 8524: '툰', 8525: '▁뚝뚝', 8526: '▁뜨거운', 8527: '▁송지효', 8528: '▁클린트', 8529: '▁팍팍', 8530: '쌩', 8531: '▁나쁘진', 8532: '▁두려움', 8533: '▁한쿡영화', 8534: '▁비정상', 8535: '▁이연희', 8536: '▁흐뭇', 8537: '줬으면', 8538: '▁힘내세요', 8539: '▁무너지', 8540: '▁은퇴', 8541: '▁뉴욕', 8542: '앵글', 8543: '배속으로', 8544: '▁놀랬', 8545: '▁초능력', 8546: '▁비싼', 8547: '▁비롯', 8548: '▁끼워', 8549: '▁몇번이나', 8550: '홍보', 8551: '▁넘어선', 8552: '▁타락', 8553: '▁끌려', 8554: '부턴', 8555: '♡♡', 8556: '▁얘들', 8557: '영화관에서', 8558: '▁광팬', 8559: '▁받아들이', 8560: '▁현실적으로', 8561: '▁그지없', 8562: '▁사실적으로', 8563: '▁가졌', 8564: '▁사랑스럽', 8565: '▁피터', 8566: '싶어서', 8567: '▁최고였습니다', 8568: '▁부럽다', 8569: '▁개독', 8570: '▁첨이네', 8571: '것일까', 8572: '▁깎아', 8573: '약간', 8574: '▁미국판', 8575: '이건뭐', 8576: '▁담아내', 8577: '▁훌륭함', 8578: '▁않았나', 8579: '▁되었는데', 8580: '▁인간적인', 8581: '▁생각해볼', 8582: '▁멀리', 8583: '라기보다', 8584: '▁일생', 8585: '▁엉성함', 8586: '만드네', 8587: '낚였', 8588: '▁잃지', 8589: '▁재미있네', 8590: '하고픈', 8591: '녀석들', 8592: '▁허접하다', 8593: '▁불편함', 8594: '▁환자', 8595: '별반개도', 8596: '겐', 8597: '▁확실한', 8598: '▁빨아', 8599: '▁be', 8600: '릇', 8601: '일수도', 8602: '▁기억될', 8603: '▁표현했다', 8604: '▁잠자', 8605: '톰', 8606: '씹', 8607: '낙', 8608: '흐름', 8609: '▁훈훈하', 8610: '진정한', 8611: '러브', 8612: '죽는줄', 8613: '좋았어요', 8614: '45', 8615: '먼저', 8616: '빠지고', 8617: '조각', 8618: '♡♡♡', 8619: 'est', 8620: '▁누워', 8621: '펑', 8622: '넼', 8623: '꿨', 8624: '▁서프라이즈', 8625: '▁엉덩이', 8626: '▁인터뷰', 8627: '▁찝찝한', 8628: '▁카메론', 8629: '▁클리셰', 8630: '▁펭귄', 8631: '제작비', 8632: '▁양동근', 8633: '▁원주율', 8634: '꺄', 8635: '▁말았어야', 8636: '▁어우러진', 8637: '▁주상욱', 8638: '▁조승우', 8639: '떄문에', 8640: '▁김강우', 8641: '▁정신나간', 8642: '▁구역질', 8643: '▁일요일', 8644: '▁닥터', 8645: '▁일베충', 8646: '▁신민아', 8647: '▁암걸리', 8648: '▁The', 8649: '▁웅장', 8650: '▁퍼즐', 8651: '▁이범수', 8652: '▁흥미롭고', 8653: '▁잃어버린', 8654: '▁김구라', 8655: '▁스콧', 8656: '▁알게해준', 8657: '▁유지태', 8658: '▁튀어', 8659: '▁움직이는', 8660: '▁빠져드는', 8661: 'up', 8662: '▁구멍', 8663: '▁친절', 8664: '▁그럼에도', 8665: '▁활용', 8666: '▁고인의', 8667: '점대라니', 8668: '▁추락', 8669: '▁잘생기고', 8670: '▁어이없어서', 8671: '▁성숙', 8672: '▁선정적', 8673: '▁볼만해요', 8674: '▁간절', 8675: '▁불법', 8676: '▁신념', 8677: '▁여왕', 8678: '▁기념', 8679: '▁좋아한다면', 8680: '▁때문이다', 8681: '▁상영시간', 8682: '▁없었으면', 8683: '▁98', 8684: '▁뻔히', 8685: '▁중학교때', 8686: '고싶지', 8687: '▁관객에게', 8688: '▁잼없음', 8689: '▁허무하게', 8690: '▁허술하고', 8691: '▁먹먹하다', 8692: '▁어케', 8693: '▁애국', 8694: '▁좋아해요', 8695: '겠군', 8696: '▁어린이용', 8697: '▁않았으면', 8698: '영화자체는', 8699: '▁동호', 8700: '▁나왔음', 8701: '거예요', 8702: '베르', 8703: '▁전투씬', 8704: '번씩', 8705: '▁다시보고싶은', 8706: '▁심히', 8707: '배우님', 8708: 'ge', 8709: '재미잇', 8710: '영환줄', 8711: '하지않은', 8712: '▁던지는', 8713: '▁외치', 8714: '▁의식', 8715: '가능한', 8716: '▁197', 8717: '하곤', 8718: '▁조금씩', 8719: '▁되돌아', 8720: '그래요', 8721: '봣음', 8722: '▁제작사', 8723: '▁단편영화', 8724: '이쁘고', 8725: '▁초중반', 8726: '이쁘다', 8727: '때메', 8728: '예능', 8729: '알았', 8730: '탭', 8731: '흰', 8732: '▁ebs', 8733: '▁내러티브', 8734: '▁서스펜스', 8735: '텀', 8736: '▁웹툰', 8737: '▁어울린다', 8738: '▁베트남', 8739: '▁조용히', 8740: '▁큐브', 8741: '▁강지환', 8742: '▁임수정', 8743: '▁불후의', 8744: '▁플레이', 8745: '▁러셀', 8746: '▁어울려', 8747: '▁이해안가', 8748: '▁리메이크작', 8749: '▁일깨워주는', 8750: '▁온몸', 8751: '같았음', 8752: '▁가끔씩', 8753: '▁푸른', 8754: '▁고찰', 8755: '▁특징', 8756: '▁웬만한', 8757: '▁모르겟다', 8758: '▁언론', 8759: '관련', 8760: '▁자세히', 8761: '▁알았더니', 8762: '▁닮아', 8763: '▁않았을까', 8764: '▁산만한', 8765: '▁지루했어요', 8766: '▁놀라울', 8767: '▁여튼', 8768: '▁물씬', 8769: '▁중반부', 8770: '▁지났지만', 8771: '▁공감가는', 8772: '▁내보내', 8773: '▁우익', 8774: '거든요', 8775: '▁깔끔하고', 8776: '▁원표', 8777: '▁돌려줘', 8778: '스럽네', 8779: '▁엉성하다', 8780: '▁도통', 8781: '▁최고였어요', 8782: '▁말해주는', 8783: '▁종영', 8784: '▁모르겠는데', 8785: '▁생각나네요', 8786: '95', 8787: '▁나누', 8788: '멘트', 8789: '▁주목', 8790: '▁아동용', 8791: '▁뻔해서', 8792: '▁초등학교때', 8793: '하지마세요', 8794: '▁드러내', 8795: '교육', 8796: '▁비극적', 8797: '▁그지같', 8798: '▁압도적', 8799: '졌습니다', 8800: '▁선동영화', 8801: '영화제에서', 8802: '▁나왔는데', 8803: '엿음', 8804: '▁중반까지', 8805: '흥미를', 8806: '레이드', 8807: '야되는데', 8808: '▁진부함', 8809: '▁재미있었던', 8810: '시켜주', 8811: '요소를', 8812: '▁괜찮네', 8813: '▁아쉽긴', 8814: '하지않는', 8815: '▁wh', 8816: '▁상관', 8817: '아줌마', 8818: '느와르', 8819: 'OST', 8820: '카메라', 8821: '감사합니다', 8822: '훨씬', 8823: '불륜', 8824: '왜이리', 8825: '▁부럽', 8826: '시간낭비', 8827: '▁오글거려', 8828: '보았습니다', 8829: '그자체', 8830: '쿡', 8831: '맙', 8832: '뒀', 8833: '쌈', 8834: '엎', 8835: '▁ocn', 8836: '▁묻혀', 8837: '▁보냅니다', 8838: '▁에일리언', 8839: '▁오리지널', 8840: '▁용두사미', 8841: '▁재발견', 8842: '▁채플린', 8843: '▁컨저링', 8844: '人', 8845: '뺨', 8846: '재밌게봤습니다', 8847: '췄', 8848: '톨', 8849: '헷', 8850: '▁놀래키', 8851: '뱉', 8852: '쉰', 8853: '▁멘붕', 8854: '▁삽입', 8855: '▁스티브', 8856: '▁하이킥', 8857: '▁환타지', 8858: '▁케이트', 8859: '▁저절로', 8860: '▁잠수함', 8861: '씨리즈', 8862: '▁나타내', 8863: '▁흡사', 8864: '^.^', 8865: '▁위대함', 8866: '▁간첩', 8867: '▁어처구니없', 8868: '▁묘미', 8869: '▁새롭게', 8870: '▁증말', 8871: '▁생략', 8872: '▁닮은', 8873: '▁말아라', 8874: '▁묻어나는', 8875: '▁잔인하기만', 8876: '▁잃고', 8877: '▁증거', 8878: '▁떠오르', 8879: '▁대표작', 8880: '▁맞춘', 8881: '▁케이지', 8882: '▁구리다', 8883: '▁깨알', 8884: '시리즈중', 8885: '완성', 8886: '▁절실', 8887: '▁악플', 8888: '▁기대됩니다', 8889: '▁정치적', 8890: '▁재료', 8891: '▁해도해도', 8892: '동아리', 8893: '▁가르쳐', 8894: '▁창조', 8895: '▁만들어주세요', 8896: '▁딱딱', 8897: '▁언급', 8898: '▁심심해서', 8899: '▁전세계', 8900: '▁장나라', 8901: '▁헐크', 8902: '같으니', 8903: '▁말이필요없는', 8904: '▁별기대', 8905: '▁이나영', 8906: '▁가려', 8907: '▁만들겠다', 8908: '▁고발', 8909: '▁실소', 8910: '봣습니다', 8911: '▁더빙판', 8912: '▁계시', 8913: '▁필수', 8914: '▁가식', 8915: '▁모른', 8916: '▁비현실적인', 8917: '▁초딩들', 8918: '채널에서', 8919: '폭탄', 8920: '관계를', 8921: '▁읽어보', 8922: '인간들', 8923: '▁악평', 8924: '괴물', 8925: '쳤던', 8926: '▁비현실적', 8927: '안됐', 8928: '끼들', 8929: '쳐먹', 8930: '10000', 8931: '녀석', 8932: '▁겉멋', 8933: '방울', 8934: '▁붙여', 8935: '퀄리티', 8936: '88', 8937: '깎', 8938: '픔', 8939: '▁성우들', 8940: '좋앗', 8941: '극장판', 8942: '▁심심하', 8943: '▁공짜', 8944: '움직이', 8945: '▁평점조절', 8946: '률', 8947: '샷', 8948: '쏠', 8949: '엣', 8950: '짬', 8951: 'Z', 8952: '▁매트릭스', 8953: '▁슬래셔', 8954: '▁어설픔', 8955: '▁인터스텔라', 8956: '▁혹성탈출', 8957: '댕', 8958: '륵', 8959: '콕', 8960: '펄', 8961: '▁오타쿠', 8962: '▁이스트우드', 8963: '댐', 8964: '핳', 8965: '흙', 8966: 'q', 8967: '▁맙시다', 8968: '▁홍금보', 8969: '륙', 8970: '▁박신양', 8971: '▁불면증', 8972: '▁기분좋게', 8973: '▁두근두근', 8974: '▁관람불가', 8975: '▁엉엉', 8976: '▁섭외', 8977: '▁ᄅᄋ', 8978: '▁빅뱅', 8979: '▁화려함', 8980: '▁집어넣', 8981: '▁그들만의', 8982: '▁록키', 8983: '▁잘만들어진', 8984: '▁묘하게', 8985: '씁니다', 8986: '▁유아인', 8987: '▁별한개도', 8988: '▁패턴', 8989: '즐거워', 8990: '▁미치도록', 8991: '▁씁쓸한', 8992: '▁경쾌', 8993: '▁내인생최고의', 8994: '▁때우기', 8995: '▁재평가', 8996: '▁적절히', 8997: '▁당최', 8998: '천국', 8999: '▁아까웠던', 9000: '▁느낌이랄까', 9001: '▁빡치', 9002: '▁지들끼리', 9003: '▁공존', 9004: '▁신나게', 9005: '▁웃어야', 9006: '▁줄리아', 9007: '▁모든것을', 9008: '▁동료', 9009: '▁속아서', 9010: '다음으로', 9011: '▁고향', 9012: '▁이번엔', 9013: '▁지금껏', 9014: '▁멋있었다', 9015: '▁허술하다', 9016: '붕괴', 9017: '▁중요하다', 9018: '▁많았던', 9019: '▁무얼', 9020: '▁노예', 9021: '▁최저', 9022: '▁예매', 9023: '▁일베', 9024: '▁몽환적인', 9025: '같았는데', 9026: '▁졸면서', 9027: '▁뻔하지만', 9028: '▁멋있어요', 9029: '▁불편하다', 9030: '▁아니겠지', 9031: '▁서사', 9032: '▁작위적인', 9033: '그릇', 9034: '해주길래', 9035: '▁볼거없', 9036: 'ul', 9037: '올림', 9038: '▁합쳐', 9039: '파티', 9040: '내놔', 9041: '버렸음', 9042: '알수있', 9043: 'ᅳᅮ', 9044: 'ᅲᅲᅲᅲᅲᅲᅲᅲ', 9045: '▁소름돋았', 9046: '▁평론', 9047: '빼놓', 9048: '젼', 9049: '낳', 9050: '쪼', 9051: '넌', 9052: '슈퍼', 9053: '낮아서', 9054: '을위해', 9055: '씁', 9056: '▁보여주려', 9057: '긔', 9058: '댈', 9059: '샹', 9060: '쌀', 9061: '▁KBS', 9062: '▁가볍고', 9063: '▁스칼렛', 9064: '▁쏠쏠', 9065: '▁역사왜곡', 9066: '▁콘서트', 9067: '▁크리스토퍼', 9068: '샀', 9069: '숫', 9070: '엌', 9071: '웩', 9072: '쿄', 9073: '묵직한', 9074: '▁강혜정', 9075: '▁탕웨이', 9076: '#', 9077: '▁나발이고', 9078: '▁못생긴', 9079: '▁스텝업', 9080: '교훈', 9081: '▁사다코', 9082: '▁오그라든다', 9083: '▁2001', 9084: 'ᅩᅩ', 9085: '▁훈남', 9086: '바이러스', 9087: '▁고질라', 9088: '▁고르', 9089: '▁담아낸', 9090: '▁둘째', 9091: '▁이승기', 9092: '▁저녁', 9093: '▁무게감', 9094: '▁과잉', 9095: '▁용가리', 9096: '▁결합', 9097: '▁이름값', 9098: '결론', 9099: '▁No', 9100: '▁환불', 9101: '▁감동적이었습니다', 9102: '▁질질짜', 9103: '▁응원합니다', 9104: 'ent', 9105: '방법', 9106: '▁역쉬', 9107: '▁정도껏', 9108: '▁내겐', 9109: '▁깔끔하게', 9110: '▁스릴있고', 9111: '▁위하여', 9112: '▁바랬', 9113: '▁팬이라면', 9114: '▁치열', 9115: '▁따뜻하게', 9116: '▁씨발', 9117: '▁느린', 9118: '섹스', 9119: '▁어쩌라고', 9120: '▁봤었던', 9121: '▁바라보', 9122: '▁차원이', 9123: '▁실화라니', 9124: '▁느꼈던', 9125: '헤헤', 9126: '▁젊은이들', 9127: '▁대책', 9128: '▁알수없는', 9129: '잔인하', 9130: '▁볼만했음', 9131: '▁죽을때', 9132: '▁예수님', 9133: '▁좀비물', 9134: '▁첫장면', 9135: '▁오락성', 9136: '▁봐왔', 9137: '▁고래', 9138: '▁서우', 9139: '해줬으면', 9140: '재밋게봣', 9141: 'ap', 9142: '황당', 9143: '▁집중력', 9144: '▁풀었', 9145: '객관적으로', 9146: '▁밑에분', 9147: '▁탄탄하', 9148: '본것중', 9149: '몇번이고', 9150: '▁보러갔', 9151: '줍', 9152: '녹', 9153: '캬', 9154: 'ᅦ', 9155: '▁리암니슨', 9156: '▁쌩뚱맞', 9157: '▁휴머니즘', 9158: '꽂', 9159: '됴', 9160: '샬', 9161: '칩', 9162: '횽', 9163: '▁뭔내용인지', 9164: '됌', 9165: '샌', 9166: '팡', 9167: '▁김하늘', 9168: '▁양조위', 9169: '▁신현준', 9170: '안남기는데', 9171: '▁흘렀', 9172: '냅', 9173: '▁강호동', 9174: '▁어떨까', 9175: '▁충무로', 9176: '▁불필요한', 9177: '▁어려울', 9178: '스캔들', 9179: '▁이순신', 9180: '▁정재영', 9181: '▁이성재', 9182: '▁몬스터', 9183: '김남길', 9184: '▁0.5', 9185: '▁침묵', 9186: '▁레이싱', 9187: '▁팔아먹', 9188: '▁어려웠', 9189: '▁루이스', 9190: '▁촬영기법', 9191: '▁거대한', 9192: '▁자칫', 9193: '▁에로틱', 9194: '▁촌스러운', 9195: '▁꺼버렸다', 9196: '▁새롭고', 9197: '▁갖추', 9198: '@@', 9199: '점드림', 9200: '▁프레디', 9201: '슬픈', 9202: '▁과장되', 9203: '탈출', 9204: '▁와이어', 9205: '▁졸려서', 9206: '▁오싹', 9207: '▁말할것도', 9208: '▁느꼈습니다', 9209: '▁처참', 9210: '▁아름다웠던', 9211: '▁재미있던데', 9212: '▁질투', 9213: '▁호평', 9214: '▁도덕', 9215: '▁남주인공', 9216: '존재', 9217: '엉망', 9218: '▁어쩌라는', 9219: '▁맞지않', 9220: '할수밖에', 9221: '중요한', 9222: '▁앞부분', 9223: 'ig', 9224: '좋아할만한', 9225: '▁어수선하', 9226: '▁교감', 9227: 'ill', 9228: '▁도움', 9229: '닼ᄏᄏᄏ', 9230: '▁굉장', 9231: '재밋엇', 9232: '종류', 9233: '훔', 9234: '쵝', 9235: '▁페이크', 9236: '▁kbs', 9237: '▁리즈시절', 9238: '▁스탤론', 9239: '▁후덜덜', 9240: '닦', 9241: '듀', 9242: '젓', 9243: '촉', 9244: '▁서부극', 9245: '▁크루즈', 9246: '킷', 9247: '탔', 9248: '▁홍진호', 9249: '▁무슨내용인지', 9250: '▁로드무비', 9251: '▁올레티비', 9252: '▁치밀한', 9253: '-0-', 9254: '▁알맹이', 9255: '▁이동욱', 9256: '▁나중엔', 9257: '쥐어짜', 9258: '▁and', 9259: '▁한정된', 9260: '▁콤비', 9261: '▁박해일', 9262: '▁흔히', 9263: 'bbbb', 9264: '▁유아용', 9265: '▁슈렉', 9266: '▁안쓰러', 9267: '▁가득찬', 9268: '▁이준기', 9269: '말아야', 9270: '▁실컷', 9271: '▁발휘', 9272: '▁황홀', 9273: '▁악몽', 9274: '▁끝내준다', 9275: '▁신파극', 9276: '▁깨알같은', 9277: '▁느껴짐', 9278: '▁적나라하', 9279: '▁얼른', 9280: '▁저평가된', 9281: '▁사실적이', 9282: '▁선율', 9283: '▁첨본다', 9284: '▁억지스러움', 9285: '▁뇌리에', 9286: 'J', 9287: '곰', 9288: 'gt', 9289: '빅', 9290: '▁습작', 9291: '▁언제쯤', 9292: '매니아', 9293: '끊', 9294: '저렇게', 9295: '오히려', 9296: '▁놓친', 9297: '▁얻을', 9298: '▁찾았다', 9299: '▁미안하지만', 9300: '예고편', 9301: '▁바람피', 9302: '▁몰입하면서', 9303: '▁끝내주는', 9304: '▁시간아까움', 9305: '▁고백', 9306: '버젼', 9307: 'ore', 9308: '▁조용하', 9309: '그치만', 9310: '▁어린애들', 9311: '때문인지', 9312: '▁떠난', 9313: '파괴', 9314: '과정을', 9315: '▁느려', 9316: '어수선', 9317: '▁탁월', 9318: '찾았', 9319: '볼수없', 9320: '▁명배우들', 9321: '버렸어', 9322: '로인해', 9323: '▁실망스러웠', 9324: '뭇', 9325: '죤', 9326: 'naver', 9327: '훼', 9328: '▁왠만해선', 9329: '▁웨슬리', 9330: '▁인상깊은', 9331: '▁찝찝함', 9332: '멕', 9333: '솟', 9334: '씌', 9335: '안봤으면', 9336: '쫙', 9337: '햄', 9338: 'zzz', 9339: '▁떠올리게', 9340: '▁브래드피트', 9341: '▁에이리언', 9342: '▁최곱니다', 9343: '뺀', 9344: '쬐', 9345: '프로젝트', 9346: '▁무의미한', 9347: '▁브래드', 9348: '▁줄리엣', 9349: '▁문근영', 9350: '▁한예슬', 9351: '○', 9352: '▁추악한', 9353: '▁부자연스럽', 9354: '▁단체로', 9355: '▁잘생김', 9356: '▁뒤집어', 9357: '▁고현정', 9358: '▁2008', 9359: '▁쌍욕', 9360: '봅시다', 9361: '▁암울한', 9362: '▁연관성', 9363: '▁옹박', 9364: 'tion', 9365: '▁유오성', 9366: '▁전문성우', 9367: '▁빵터짐', 9368: '허니잼', 9369: '▁설렘', 9370: '▁졸업작품', 9371: '▁매튜', 9372: '뿐더러', 9373: '▁깜찍', 9374: '▁꺼버림', 9375: '▁일어난', 9376: '▁조인성', 9377: '▁하얀', 9378: '▁my', 9379: '▁육체', 9380: '▁지루하지않고', 9381: '▁화가난다', 9382: '▁일대기', 9383: '▁투표', 9384: '▁껏다', 9385: '▁괜찮던데', 9386: '▁미치겠다', 9387: '▁적응', 9388: '▁미흡', 9389: '▁대략', 9390: '▁녹화', 9391: '▁문학', 9392: '▁추잡', 9393: '▁다를게', 9394: '별한개', 9395: '▁대가리', 9396: '▁완소', 9397: '▁교차', 9398: '펑펑', 9399: '▁창작', 9400: 'good', 9401: '▁졸업', 9402: '흥행', 9403: '괜히', 9404: '을위한', 9405: '취향은', 9406: '찍었', 9407: '먹으면서', 9408: '▁객관적', 9409: '▁서민', 9410: '나쁘지않', 9411: '기억에남는', 9412: '▁드러난', 9413: '▁특별하', 9414: 'all', 9415: '▁몽환적', 9416: '잊혀지', 9417: '같았다', 9418: '444', 9419: '뀌', 9420: '튜', 9421: '펐', 9422: '뻘', 9423: '▁듣보잡', 9424: '▁떠오른다', 9425: '▁로보캅', 9426: '▁멜깁슨', 9427: '▁어벤져스', 9428: '▁엑스트라', 9429: '▁원맨쇼', 9430: '▁유치뽕짝', 9431: '귓', 9432: '뇨', 9433: '돕', 9434: '쌔', 9435: '쑤', 9436: '욜', 9437: '힛', 9438: 'ᄑ', 9439: '▁까메오', 9440: '▁빠순이들', 9441: '덥', 9442: '욧', 9443: '▁보면볼수록', 9444: '괘', 9445: '도그렇고', 9446: '▁노무현', 9447: '▁덴젤', 9448: '▁무책임', 9449: '▁장쯔이', 9450: '▁지하철', 9451: '▁눈뜨고', 9452: '▁애절한', 9453: '▁페이크다큐', 9454: '▁중딩때', 9455: '▁훈련', 9456: '▁금요일', 9457: '▁못미치는', 9458: '▁피라냐', 9459: '▁최선을', 9460: '▁빨리감기', 9461: '▁차가운', 9462: '▁옹호', 9463: '▁믿겨지지', 9464: '▁에너지', 9465: '오디션', 9466: '기승전', 9467: '▁효민', 9468: '▁여진구', 9469: '▁크리스틴', 9470: '▁싱겁', 9471: '▁나눠', 9472: '▁어려워', 9473: '▁나타난', 9474: '▁시청율', 9475: '▁한지민', 9476: '연기너무잘', 9477: '▁갑갑', 9478: '▁흥해라', 9479: '▁반성해라', 9480: '▁재치있', 9481: 'ain', 9482: '▁독백', 9483: '▁외로운', 9484: '▁측면', 9485: '▁회복', 9486: '▁출연료', 9487: '▁명곡', 9488: '▁의존', 9489: '흐흐', 9490: '훈훈', 9491: '뮤지컬', 9492: '프랑스', 9493: '홍콩', 9494: 'ᄋᄋᄋ', 9495: 'cgv', 9496: '뻔한스토리', 9497: '▁즐겨보', 9498: '▁경쟁', 9499: '▁갑작스', 9500: '기다리', 9501: '▁따듯하', 9502: '기위한', 9503: '보게됨', 9504: '메시지를', 9505: '▁나쁜놈', 9506: '▁시간아까운', 9507: 'ir', 9508: '▁아역배우', 9509: '▁짧지', 9510: '▁이해못하', 9511: '렘', 9512: '▁OCN', 9513: '▁love', 9514: '▁아날로그', 9515: '▁어땠을까', 9516: '▁옴니버스', 9517: '▁핸드폰', 9518: '궈', 9519: '껍', 9520: '롬', 9521: '좁', 9522: '짖', 9523: '쪄', 9524: '갸', 9525: '썽', 9526: '꽝', 9527: '웬', 9528: '[', 9529: '꽤', 9530: '겻', 9531: '갇', 9532: '삽', 9533: '훌', 9534: 'ᆞ', 9535: '·', 9536: 'ᅭ', 9537: '’', 9538: '씽', 9539: '쨩', 9540: '퍽', 9541: '밭', 9542: '캅', 9543: '톡', 9544: '꿋', 9545: '폼', 9546: '짠', 9547: '곁', 9548: '윙', 9549: '엥', 9550: '훅', 9551: '꼼', 9552: '댔', 9553: '쌤', 9554: '햐', 9555: '갤', 9556: '\\\\', 9557: '짤', 9558: '밌', 9559: '쩡', 9560: '륭', 9561: '붓', 9562: '늠', 9563: '얕', 9564: '쵸', 9565: '핍', 9566: '횡', 9567: '뛴', 9568: '뤽', 9569: '셰', 9570: '깬', 9571: '몹', 9572: '얀', 9573: '걱', 9574: '늑', 9575: '뭥', 9576: '힙', 9577: '뎈', 9578: '‘', 9579: '낰', 9580: '놉', 9581: '뤘', 9582: '쟝', 9583: '깽', 9584: '낱', 9585: '뜰', 9586: '붐', 9587: '썅', 9588: '윗', 9589: 'Q', 9590: '밑', 9591: '낌', 9592: '낄', 9593: '캔', 9594: '겜', 9595: '밸', 9596: '슌', 9597: '힝', 9598: '곸', 9599: '굼', 9600: '꺅', 9601: '됀', 9602: '앳', 9603: '얌', 9604: '웁', 9605: '짭', 9606: '팜', 9607: '“', 9608: '|', 9609: 'ᅧ', 9610: '냉', 9611: '및', 9612: '헬', 9613: '떤', 9614: '펙', 9615: '첼', 9616: 'ᅣ', 9617: '뵈', 9618: '꿉', 9619: '뱃', 9620: '융', 9621: '텍', 9622: '꾀', 9623: '뚤', 9624: '젬', 9625: '퀼', 9626: '휼', 9627: '찜', 9628: '얔', 9629: '돠', 9630: '빔', 9631: '빽', 9632: '샴', 9633: '섰', 9634: '쑈', 9635: '푹', 9636: '땀', 9637: '맡', 9638: '뷔', 9639: '쿤', 9640: '퀘', 9641: '”', 9642: '→', 9643: '甲', 9644: '땟', 9645: '떴', 9646: '쁠', 9647: '싯', 9648: '욘', 9649: '욯', 9650: '읎', 9651: '쟤', 9652: '짚', 9653: '캣', 9654: '쾅', 9655: '댜', 9656: '칫', 9657: '쉘', 9658: '乃', 9659: '걔', 9660: '뇬', 9661: '룻', 9662: '숴', 9663: '웡', 9664: '웹', 9665: '퉷', 9666: '훤', 9667: '댁', 9668: '뺐', 9669: '갚', 9670: '훨', 9671: '곧', 9672: '쩐', 9673: '、', 9674: '됏', 9675: '젝', 9676: '챔', 9677: '♬', 9678: '괄', 9679: '귄', 9680: '뭍', 9681: '뮬', 9682: '좃', 9683: '죵', 9684: '쨔', 9685: '핰', 9686: '無', 9687: '넉', 9688: '뤠', 9689: '꿰', 9690: '헛', 9691: '겔', 9692: '맬', 9693: '벡', 9694: '쏜', 9695: '멧', 9696: '믓', 9697: '뿅', 9698: '쪙', 9699: '킁', 9700: '겅', 9701: '뿍', 9702: '슥', 9703: '첸', 9704: '땜', 9705: '녁', 9706: '썹', 9707: '넥', 9708: '홉', 9709: '끽', 9710: '얍', 9711: '륨', 9712: '잌', 9713: '잰', 9714: '찼', 9715: '툴', 9716: '풉', 9717: '굽', 9718: '껌', 9719: '넴', 9720: '눅', 9721: '쳇', 9722: '칵', 9723: '퐁', 9724: '휙', 9725: '흣', 9726: '뺑', 9727: '텨', 9728: '렜', 9729: '뗄', 9730: '뒷', 9731: '챈', 9732: '깼', 9733: '쫑', 9734: '뷁', 9735: '섀', 9736: '슐', 9737: '쒯', 9738: '』', 9739: '굶', 9740: '꼐', 9741: '꽈', 9742: '넛', 9743: '돔', 9744: '볶', 9745: '샵', 9746: '넝', 9747: '뒹', 9748: '춥', 9749: '캄', 9750: '『', 9751: '뻗', 9752: '쎈', 9753: '갯', 9754: '끙', 9755: '뎃', 9756: '멱', 9757: '뿡', 9758: '왁', 9759: '졷', 9760: '콱', 9761: '팰', 9762: '헿', 9763: '냔', 9764: '넨', 9765: '욥', 9766: '햅', 9767: '괸', 9768: '눕', 9769: 'ᄡ', 9770: '꼇', 9771: '밓', 9772: '{', 9773: '혓', 9774: '랖', 9775: '쑥', 9776: '}', 9777: '곀', 9778: '궤', 9779: '꺠', 9780: '벳', 9781: '컵', 9782: '뒈', 9783: '딥', 9784: '쒸', 9785: '줏', 9786: '컥', 9787: '봅', 9788: '잎', 9789: '갘', 9790: 'ᄈ', 9791: '짰', 9792: '死', 9793: '눔', 9794: '떵', 9795: '롹', 9796: '쨰', 9797: '쫘', 9798: '챤', 9799: '쿼', 9800: '큭', 9801: '툼', 9802: '깟', 9803: '딛', 9804: '앰', 9805: '잦', 9806: '닛', 9807: '$', 9808: '뭣', 9809: '쮸', 9810: '女', 9811: '읭', 9812: '뭄', 9813: '쳣', 9814: '팟', 9815: 'ᆪ', 9816: '⌒', 9817: '♪', 9818: '作', 9819: '뺄', 9820: '앱', 9821: '읊', 9822: '펭', 9823: '쏭', 9824: '컹', 9825: '옛', 9826: '촬', 9827: '킵', 9828: '랔', 9829: '롸', 9830: '찟', 9831: '꿇', 9832: '뤼', 9833: '찹', 9834: '냠', 9835: '믈', 9836: '뽐', 9837: '숏', 9838: '웍', 9839: '웜', 9840: '쥰', 9841: '쨍', 9842: '캉', 9843: '콰', 9844: '떙', 9845: '렙', 9846: '뮈', 9847: '븅', 9848: '슝', 9849: '옇', 9850: '챦', 9851: '촐', 9852: '헥', 9853: '팥', 9854: '캘', 9855: 'ン', 9856: '밈', 9857: '퀀', 9858: '×', 9859: '굉', 9860: '옳', 9861: '눠', 9862: '췌', 9863: '텝', 9864: '슷', 9865: '탤', 9866: '햏', 9867: '햌', 9868: '츈', 9869: '챘', 9870: '짘', 9871: '죨', 9872: '썪', 9873: '뛸', 9874: '덟', 9875: '훠', 9876: '짊', 9877: '왘', 9878: '씸', 9879: '쌉', 9880: '숟', 9881: '빴', 9882: '벚', 9883: '랗', 9884: '냨', 9885: '괭', 9886: '흩', 9887: '헵', 9888: '쥑', 9889: '故', 9890: '잴', 9891: '윅', 9892: '땔', 9893: '닠', 9894: '놧', 9895: '뀜', 9896: '껑', 9897: '홥', 9898: '헴', 9899: '촛', 9900: '앍', 9901: '뉜', 9902: '훑', 9903: '샛', 9904: '덱', 9905: '낍', 9906: '괞', 9907: '휠', 9908: '헠', 9909: '츤', 9910: '좔', 9911: '꺾', 9912: '횟', 9913: '핥', 9914: '폄', 9915: '큽', 9916: '샐', 9917: '뀔', 9918: '휩', 9919: '쁩', 9920: '핡', 9921: '큘', 9922: '콥', 9923: '촘', 9924: '옜', 9925: '뺴', 9926: '멎', 9927: '뵙', 9928: '꺽', 9929: '긁', 9930: '딪', 9931: '낡', 9932: '펏', 9933: '릎', 9934: '녔', 9935: '굵', 9936: '씻', 9937: '닳', 9938: '얹', 9939: '켠', 9940: '쥔', 9941: '왼', 9942: '셸', 9943: '픕', 9944: '딨', 9945: '넋', 9946: '빚', 9947: '꽥', 9948: '뀐', 9949: '뭡', 9950: '얽', 9951: '앓', 9952: '쫒', 9953: '쨋', 9954: '텅', 9955: '꽉', 9956: '붉', 9957: '땠', 9958: '멤', 9959: '둠', 9960: '홧', 9961: '밟', 9962: '틋', 9963: '뿜', 9964: '뻣', 9965: '빕', 9966: '컸', 9967: '옮', 9968: '핸', 9969: '맑', 9970: '찢', 9971: '엮', 9972: '팠', 9973: '쨌', 9974: '쫄', 9975: '틸', 9976: '띄', 9977: '겪', 9978: '껐', 9979: '왤', 9980: '뻤', 9981: '쏟', 9982: '닙', 9983: '딧', 9984: '듭', 9985: '섞', 9986: '획', 9987: '겉', 9988: '쁨', 9989: '됩', 9990: '늦', 9991: '볍', 9992: '찝', 9993: '묻', 9994: '똑', 9995: '깊', 9996: '떻', 9997: '렸', 9998: '렇', 9999: '봤'}\n",
            "index_word {'[PAD]': 0, '[UNK]': 1, '[BOS]': 2, '[EOS]': 3, '▁': 4, '.': 5, '..': 6, '이': 7, '▁영화': 8, '...': 9, '의': 10, '가': 11, '도': 12, '는': 13, ',': 14, '을': 15, '에': 16, '고': 17, '은': 18, '?': 19, '다': 20, '지': 21, '한': 22, '▁너무': 23, '를': 24, '!': 25, '만': 26, '▁정말': 27, '▁이': 28, '로': 29, '나': 30, '▁진짜': 31, '게': 32, '~': 33, '영화': 34, '과': 35, '기': 36, '으로': 37, '어': 38, '라': 39, '하고': 40, '점': 41, '인': 42, '서': 43, '▁안': 44, '▁잘': 45, '리': 46, '▁그': 47, '네': 48, '에서': 49, '▁왜': 50, '와': 51, '아': 52, '▁다': 53, '▁수': 54, '▁1': 55, '▁더': 56, '들': 57, '!!': 58, '▁이런': 59, '....': 60, '해': 61, '▁아': 62, '요': 63, '하는': 64, '▁그냥': 65, '거': 66, '▁드라마': 67, '자': 68, '네요': 69, '면': 70, '대': 71, '▁본': 72, '▁보고': 73, '스': 74, '▁10': 75, '▁연기': 76, '수': 77, '시': 78, '▁평점': 79, '지만': 80, '▁한': 81, '니': 82, '▁영화를': 83, '▁좀': 84, '▁내': 85, '야': 86, '일': 87, '음': 88, '함': 89, '사': 90, '하게': 91, '이다': 92, '하': 93, '▁참': 94, '진': 95, '▁쓰레기': 96, '▁봤는데': 97, '데': 98, '▁ᄏᄏ': 99, '▁없는': 100, '▁못': 101, '하다': 102, '▁이거': 103, '주': 104, '▁영화는': 105, '▁영화가': 106, '▁스토리': 107, '미': 108, '▁내가': 109, '보다': 110, '까지': 111, '▁최고의': 112, '▁없다': 113, '할': 114, '우': 115, '▁이건': 116, '▁완전': 117, '여': 118, '▁있는': 119, '▁2': 120, '는데': 121, '구': 122, '임': 123, '▁개': 124, '정': 125, '▁좋은': 126, '들이': 127, '▁최고': 128, '해서': 129, 'ᄏᄏ': 130, '안': 131, '▁보는': 132, '!!!': 133, '냐': 134, '▁나': 135, '▁이렇게': 136, '드': 137, '▁것': 138, '▁이게': 139, '성': 140, '건': 141, '▁3': 142, '듯': 143, '▁다시': 144, '보': 145, '상': 146, '▁난': 147, '▁보': 148, '랑': 149, '적': 150, '중': 151, '던': 152, '▁말': 153, '전': 154, '^^': 155, '치': 156, '장': 157, 'ᄏ': 158, '보고': 159, '신': 160, '▁많이': 161, '▁평점이': 162, '▁지': 163, '~~': 164, '부': 165, '마': 166, '▁뭐': 167, '▁넘': 168, '▁작품': 169, '▁역시': 170, '1': 171, '년': 172, '개': 173, '오': 174, '질': 175, '▁그리고': 176, '▁재밌게': 177, '세': 178, '▁볼': 179, '인데': 180, '▁저': 181, '것': 182, '▁하는': 183, '트': 184, '비': 185, '▁또': 186, '그': 187, '▁마지막': 188, ';;': 189, '▁전': 190, '원': 191, '려': 192, '▁생각': 193, '??': 194, '분': 195, '화': 196, '했다': 197, \"'\": 198, '▁별로': 199, '▁재미': 200, '때': 201, '▁오': 202, '말': 203, '히': 204, '용': 205, '내': 206, '하지': 207, '▁감동': 208, '▁꼭': 209, '2': 210, '적인': 211, '소': 212, '라고': 213, '진짜': 214, '같은': 215, '급': 216, '▁없고': 217, '습니다': 218, '▁가장': 219, '입니다': 220, '▁ᄏᄏᄏ': 221, '▁하나': 222, '▁하': 223, '▁감독': 224, '러': 225, '▁무슨': 226, '▁기대': 227, '▁아깝다': 228, ')': 229, '▁주': 230, '▁이야기': 231, '▁시간': 232, '▁보면': 233, '더': 234, '물': 235, '제': 236, '▁별': 237, '▁사': 238, '▁무': 239, 'ᅲᅲ': 240, '▁다른': 241, '선': 242, '▁지금': 243, '된': 244, '▁아니': 245, '▁만든': 246, '▁액션': 247, '걸': 248, '좀': 249, '▁할': 250, '란': 251, '▁한국': 252, '라는': 253, '너무': 254, '있는': 255, 'ᄏᄏᄏ': 256, '▁중': 257, '씨': 258, '이나': 259, '무': 260, '군': 261, '▁비': 262, '조': 263, '드라마': 264, '유': 265, '▁사랑': 266, '본': 267, '편': 268, ';': 269, '없는': 270, '호': 271, '▁거': 272, '모': 273, '영': 274, '▁조': 275, '▁같은': 276, '▁때': 277, '식': 278, '줄': 279, '▁대': 280, '부터': 281, '▁ᄏ': 282, '어요': 283, '▁ᅲᅲ': 284, '▁명작': 285, '▁처음': 286, '3': 287, '에게': 288, '감': 289, '▁말이': 290, '▁영화다': 291, '정말': 292, '동': 293, '연': 294, '▁미': 295, 'ᅲ': 296, '▁돈': 297, '남': 298, '긴': 299, '▁유': 300, '▁연출': 301, '▁두': 302, '▁정': 303, \"▁'\": 304, '▁김': 305, '▁끝까지': 306, '▁배우': 307, '▁느낌': 308, '처럼': 309, '명': 310, '디': 311, '울': 312, '작': 313, '당': 314, '난': 315, '▁마': 316, '▁와': 317, '▁일': 318, '▁ᅳᅳ': 319, '으면': 320, '▁내용': 321, '▁솔직히': 322, '(': 323, '▁전혀': 324, '▁하지만': 325, '한다': 326, '▁해': 327, '인지': 328, '▁같다': 329, '린': 330, '단': 331, '▁뭔가': 332, '되는': 333, '들의': 334, '▁대한': 335, '▁어': 336, '워': 337, '준': 338, '▁있다': 339, '살': 340, '▁제': 341, '심': 342, '크': 343, '바': 344, '▁알': 345, '▁아주': 346, '▁봤다': 347, '▁짱': 348, '▁기': 349, '위': 350, '두': 351, '▁좋다': 352, '▁봐도': 353, '합니다': 354, '노': 355, '며': 356, '르': 357, '▁구': 358, 'ᅳᅳ': 359, '길': 360, '▁사람': 361, '▁일본': 362, '이랑': 363, '래': 364, '운': 365, '▁많은': 366, '타': 367, '면서': 368, '재': 369, '류': 370, '잘': 371, '▁좋아': 372, '▁줄': 373, '죠': 374, '생': 375, '때문에': 376, '▁ᄒᄒ': 377, '하지만': 378, '▁모두': 379, '레': 380, '하면': 381, '희': 382, '경': 383, '▁여자': 384, '이라': 385, '▁내내': 386, '▁어떻게': 387, '인가': 388, '▁나오는': 389, '▁후': 390, '▁재미있게': 391, '▁계속': 392, '▁이걸': 393, '▁그런': 394, '▁않고': 395, '▁자': 396, '▁내용이': 397, '▁코미디': 398, ',,': 399, '▁시': 400, '▁최악': 401, '루': 402, '▁소': 403, '없이': 404, '▁보기': 405, '박': 406, '간': 407, '-': 408, '었다': 409, '하나': 410, '▁아니라': 411, '▁배우들': 412, '▁대박': 413, '되': 414, '▁듯': 415, '▁아닌': 416, '▁재밌다': 417, '들은': 418, '엔': 419, '연기': 420, '발': 421, '▁애': 422, '▁최악의': 423, '날': 424, '저': 425, '▁모든': 426, '한테': 427, '▁남': 428, '▁하고': 429, '했던': 430, '▁이영화': 431, '▁4': 432, '▁반': 433, '▁이상': 434, '▁그래도': 435, '▁한번': 436, '▁되': 437, '민': 438, '파': 439, '지는': 440, 'o': 441, '▁주인공': 442, '▁신': 443, '구나': 444, '든': 445, '▁딱': 446, '판': 447, '▁아니다': 448, '▁남자': 449, '방': 450, '▁모': 451, '이라는': 452, '▁7': 453, '까': 454, '시간': 455, '▁실망': 456, '▁연기가': 457, '프': 458, '▁5': 459, '▁만드는': 460, '▁아름다운': 461, '차': 462, '▁욕': 463, '▁우리': 464, '▁제일': 465, '봤는데': 466, '애': 467, '▁근데': 468, '번': 469, '▁않은': 470, '점도': 471, '▁전개': 472, '▁공포': 473, '▁굿': 474, '없다': 475, '국': 476, '▁애니': 477, '형': 478, '겨': 479, '지도': 480, '▁감독이': 481, '하네요': 482, '10': 483, '▁스릴러': 484, '림': 485, '▁않는': 486, '▁건': 487, '겠다': 488, '반': 489, '▁연기도': 490, '▁수준': 491, '▁음악': 492, '▁부': 493, '▁제대로': 494, '▁바': 495, '▁기억': 496, '▁장': 497, '터': 498, '▁보다가': 499, '▁이해': 500, '▁장면': 501, '피': 502, '님': 503, '▁내용도': 504, '▁개봉': 505, 'ᄒᄒ': 506, '▁8': 507, '▁스토리가': 508, '이란': 509, '현': 510, '▁나는': 511, '▁재미없다': 512, '▁요즘': 513, '▁보다': 514, '▁아니고': 515, '▁추천': 516, '▁만들어': 517, '후': 518, '▁파': 519, '망': 520, '적으로': 521, '산': 522, '▁강': 523, '보면': 524, '♥': 525, '니까': 526, '▁스': 527, '카': 528, '즈': 529, '하네': 530, '▁OO': 531, '관': 532, '버': 533, '▁막장': 534, '하기': 535, '▁박': 536, '이고': 537, '▁이제': 538, '▁걸': 539, '▁절대': 540, '▁9': 541, '보는': 542, '▁싶다': 543, '▁반전': 544, '▁우': 545, '!!!!': 546, '배': 547, '못': 548, '▁0': 549, '티': 550, '들을': 551, '점이': 552, 't': 553, '~~~': 554, 'ᄒ': 555, '공': 556, '▁때문에': 557, '생각': 558, '다니': 559, '▁영화라고': 560, '회': 561, '▁시간이': 562, '키': 563, '▁영화의': 564, '▁인생': 565, '토': 566, '달': 567, '태': 568, '년대': 569, '▁아직도': 570, '▁세': 571, '매': 572, '따': 573, '▁여운이': 574, '▁아까운': 575, '▁주는': 576, '▁차라리': 577, '▁재미도': 578, '▁되는': 579, '포': 580, '짱': 581, '▁나름': 582, '양': 583, '▁망': 584, '왜': 585, '건지': 586, '▁눈': 587, '▁나온': 588, '\"\"': 589, '▁특히': 590, '으': 591, '▁엄청': 592, '라도': 593, '▁몇': 594, '▁좋았다': 595, '▁영화입니다': 596, '▁보면서': 597, '실': 598, '▁나도': 599, '▁남는': 600, '▁표현': 601, '속': 602, '▁도대체': 603, '4': 604, '했는데': 605, '▁조금': 606, '▁진심': 607, 'ᅳ': 608, '▁속': 609, '이라고': 610, '▁스토리도': 611, '석': 612, '▁걍': 613, '▁우리나라': 614, '▁원': 615, '▁대사': 616, '▁감독의': 617, '종': 618, '▁진': 619, '▁눈물': 620, '▁불': 621, '▁캐릭터': 622, '▁오랜만에': 623, '참': 624, '뿐': 625, '▁배': 626, '▁마지막에': 627, '▁피': 628, '져': 629, '▁멋진': 630, '문': 631, '▁노': 632, '▁공포영화': 633, '죽': 634, '다가': 635, '▁이해가': 636, '▁뻔한': 637, '쳐': 638, '점은': 639, '▁결말': 640, '평점': 641, '해요': 642, '인듯': 643, '정도': 644, 'ᅮᅮ': 645, '역': 646, '▁없': 647, '금': 648, '▁시리즈': 649, '▁없음': 650, '▁사람들': 651, '릴': 652, '▁좋아하는': 653, '▁영': 654, '▁좋고': 655, '▁봤습니다': 656, '어서': 657, '것도': 658, '▁생각이': 659, '코': 660, '▁재밌어요': 661, '▁B': 662, '▁시작': 663, '밖에': 664, '▁봤던': 665, '▁기분': 666, '▁쓰': 667, '▁ᄏᄏᄏᄏ': 668, '▁막': 669, '▁20': 670, 'd': 671, ';;;': 672, '스토리': 673, '▁싶은': 674, '집': 675, '▁수작': 676, 'ᄏᄏᄏᄏ': 677, '▁심': 678, '더라': 679, '???': 680, '였다': 681, '▁공감': 682, '볼': 683, '체': 684, '▁지루한': 685, '▁영화에': 686, '▁지루하고': 687, '이런': 688, '▁재미가': 689, '력': 690, '▁가슴': 691, '▁재밌': 692, '▁연': 693, '▁미국': 694, '는거': 695, '배우': 696, '/': 697, '만큼': 698, '▁초': 699, '▁재': 700, '▁오늘': 701, '▁ᅲ': 702, '▁없이': 703, '▁될': 704, '던데': 705, '▁원작': 706, '▁동': 707, '넘': 708, '▁재밌는': 709, '사람': 710, '장면': 711, '해도': 712, '▁어떤': 713, '▁함께': 714, '▁공': 715, '▁뭔': 716, '▁끝': 717, '▁정도': 718, '극': 719, '는게': 720, '려고': 721, '계': 722, '▁그저': 723, '▁뭘': 724, '▁사람이': 725, '▁OOO': 726, '▁지루함': 727, '▁된': 728, '녀': 729, '▁배우들의': 730, '봤다': 731, '▁날': 732, '있다': 733, '▁노래': 734, '하며': 735, '▁개인적으로': 736, '▁큰': 737, '▁성': 738, '▁울': 739, '그냥': 740, '▁여': 741, '▁^^': 742, '▁나오': 743, '▁보세요': 744, '▁졸작': 745, '▁필요': 746, '▁애니메이션': 747, '▁있': 748, '▁못한': 749, '탄': 750, '5': 751, '▁괜찮은': 752, '중에': 753, '등': 754, '▁얼마나': 755, '▁알바': 756, '예': 757, '는지': 758, '▁최고다': 759, '▁보는내내': 760, '▁캐스팅': 761, '불': 762, '▁연기력': 763, '▁소재': 764, '▁몰입도': 765, '▁안되는': 766, '▁아무리': 767, '~!': 768, '▁인간': 769, '▁영화로': 770, '▁만들': 771, '▁발': 772, '잼': 773, '했': 774, '담': 775, ',,,': 776, '돈': 777, '▁후회': 778, '▁기억에': 779, '▁매': 780, '병': 781, '대로': 782, '▁\"': 783, '김': 784, 's': 785, '강': 786, 'e': 787, '▁시나리오': 788, '구만': 789, '최고': 790, '▁예': 791, '▁머': 792, '▁선': 793, '▁억지': 794, '하면서': 795, '사랑': 796, '스트': 797, '7': 798, '▁결국': 799, '▁제발': 800, '있': 801, '리는': 802, '꺼': 803, '했음': 804, '▁6': 805, '▁매우': 806, '갈': 807, '격': 808, '▁살': 809, '▁만화': 810, '▁연기는': 811, '▁그렇게': 812, '▁인': 813, '▁않': 814, '감동': 815, '감독': 816, '움': 817, '▁제목': 818, '악': 819, '▁보지': 820, '▁사실': 821, '글': 822, '▁것이': 823, 'a': 824, '▁영상': 825, '▁지루하다': 826, '슨': 827, '투': 828, '론': 829, '▁가족': 830, '▁봤어요': 831, '업': 832, '▁찾아': 833, '▁허': 834, '작품': 835, '봐도': 836, '이지만': 837, '기에': 838, '▁같이': 839, '▁있고': 840, '▁화': 841, '▁모르겠다': 842, '초': 843, '▁들': 844, '었는데': 845, '▁분위기': 846, '기도': 847, '▁코믹': 848, '교': 849, '주는': 850, '잔': 851, '이었다': 852, '증': 853, '▁맞': 854, '▁하나도': 855, '▁현실': 856, '▁극장에서': 857, '액션': 858, '▁\"\"': 859, '▁강추': 860, '능': 861, '하는데': 862, '▁않는다': 863, '▁애들': 864, '통': 865, '알': 866, '▁준': 867, '▁행복': 868, '▁아이': 869, '▁더빙': 870, '권': 871, '▁문제': 872, '▁차': 873, '▁위해': 874, '8': 875, '봄': 876, '▁별점': 877, '▁너무나': 878, '▁위한': 879, '▁마음이': 880, '▁알고': 881, '케': 882, '▁긴장감': 883, '이네': 884, '설': 885, '된다': 886, '잡': 887, '맨': 888, '점을': 889, '군요': 890, '너': 891, '▁없어': 892, '▁한다': 893, '▁있을': 894, '기는': 895, '절': 896, '봐': 897, '▁정신': 898, '보단': 899, '▁너': 900, '근': 901, '▁한국영화': 902, '▁봐야': 903, '▁좋아요': 904, '6': 905, '▁총': 906, '▁잼': 907, '▁엔딩': 908, '▁단': 909, '입': 910, '▁보게': 911, '머': 912, '새': 913, '▁느낌이': 914, '▁주연': 915, '▁존나': 916, '▁들어': 917, '그리고': 918, '었던': 919, 'ᅮ': 920, '▁그만': 921, '▁토': 922, '▁게': 923, '▁대체': 924, '테': 925, '▁모습': 926, '▁누가': 927, '▁상': 928, '보니': 929, '이야': 930, '▁미친': 931, '▁입': 932, '창': 933, '범': 934, '▁웃': 935, '▁눈물이': 936, '싶': 937, '▁로맨스': 938, '버린': 939, '▁내용은': 940, '▁훨씬': 941, '학': 942, '결': 943, '▁매력': 944, '▁졸': 945, '온': 946, '▁죽': 947, '▁갈수록': 948, '▁설정': 949, '락': 950, '▁감동이': 951, '▁음': 952, '이네요': 953, '재미': 954, '▁영화네요': 955, '좋아': 956, '▁CG': 957, '빠': 958, '▁열': 959, '▁그나마': 960, '없': 961, '▁재밌음': 962, '▁ᄒ': 963, '난다': 964, '었음': 965, '거야': 966, '▁가슴이': 967, '점대': 968, '▁존': 969, '▁꽤': 970, '끼': 971, '뭐': 972, '을까': 973, '9': 974, '▁ᅮᅮ': 975, '언': 976, '해야': 977, '▁전쟁': 978, '내용': 979, '▁결말이': 980, '▁기억이': 981, '▁마음': 982, '에도': 983, '▁유치': 984, '▁없었다': 985, '수준': 986, '▁어느': 987, '▁백': 988, '▁밖에': 989, '▁엄마': 990, '영화는': 991, '▁감': 992, '▁중국': 993, '▁위': 994, '▁발연기': 995, '▁물': 996, '▁잡': 997, '▁그래서': 998, '▁뿐': 999, '▁보여주는': 1000, '블': 1001, '▁따라': 1002, '▁타': 1003, '▁최': 1004, '쓰레기': 1005, '행': 1006, '▁적': 1007, '▁평': 1008, '▁어설픈': 1009, '▁작가': 1010, '▁재밌고': 1011, '먹': 1012, '▁연기를': 1013, '▁치': 1014, '▁-': 1015, '▁주고': 1016, '▁다큐': 1017, '색': 1018, '아니': 1019, '년이': 1020, '▁않다': 1021, '다고': 1022, '나는': 1023, '▁호': 1024, '▁똥': 1025, '+': 1026, '환': 1027, '았': 1028, '여자': 1029, '었어요': 1030, '▁약': 1031, '▁극': 1032, '기를': 1033, '잇': 1034, '▁그러': 1035, '막': 1036, '이지': 1037, '▁딸': 1038, '▁감동도': 1039, '션': 1040, '좋': 1041, '소리': 1042, '씬': 1043, '▁다들': 1044, '평': 1045, '재밌': 1046, '▁아쉽다': 1047, '▁길': 1048, '완전': 1049, '▁시즌': 1050, '천': 1051, '▁평가': 1052, '▁지루': 1053, '했지만': 1054, '▁상황': 1055, '▁자기': 1056, '▁걸작': 1057, '이상': 1058, '▁영화중': 1059, '▁당시': 1060, '\"': 1061, '▁영화관에서': 1062, '▁소리': 1063, '▁손': 1064, '승': 1065, '없고': 1066, '나요': 1067, '▁좋': 1068, '▁사람들이': 1069, '▁것도': 1070, '▁잔잔한': 1071, '▁성룡': 1072, '짐': 1073, '나오는': 1074, '▁올': 1075, '▁쓰레기영화': 1076, '▁재미없음': 1077, '▁의미': 1078, '플': 1079, '▁노잼': 1080, '▁것을': 1081, '▁간만에': 1082, '록': 1083, '쓰': 1084, '>': 1085, '▁예술': 1086, '될': 1087, '▁베': 1088, '리고': 1089, '건가': 1090, '외': 1091, '▁같아요': 1092, '▁재미없': 1093, '▁좋은데': 1094, '슬': 1095, '이라도': 1096, '▁30': 1097, '▁맘에': 1098, '▁전부': 1099, '않': 1100, '치는': 1101, '▁영화였다': 1102, '인줄': 1103, '▁당': 1104, '칠': 1105, '듯한': 1106, '▁대해': 1107, '이거': 1108, '▁변': 1109, '▁명': 1110, '순': 1111, '▁아님': 1112, '▁재미있다': 1113, '친': 1114, '▁있을까': 1115, '뻔': 1116, '할수': 1117, '▁바로': 1118, '▁감동적인': 1119, '느낌': 1120, '이건': 1121, '▁재미있는': 1122, '직': 1123, '라면': 1124, '▁생각을': 1125, '습': 1126, '▁야': 1127, '▁간': 1128, '니다': 1129, '▁생각보다': 1130, '또': 1131, '▁상당히': 1132, '▁약간': 1133, '▁진정한': 1134, '▁자체': 1135, '▁준다': 1136, '▁그대로': 1137, '거지': 1138, '▁정도로': 1139, '▁점수': 1140, '할때': 1141, '▁배경': 1142, '께': 1143, '됨': 1144, '▁출연': 1145, '을때': 1146, '▁얼굴': 1147, '▁네이버': 1148, '▁편': 1149, '▁친구': 1150, '향': 1151, 'b': 1152, '웃': 1153, '것이': 1154, '▁분': 1155, '▁장난': 1156, '▁같은데': 1157, 'h': 1158, '짜': 1159, '영화를': 1160, '▁스토리는': 1161, '▁갈': 1162, '치고': 1163, '▁웃기': 1164, '수가': 1165, '▁배우들이': 1166, '낸': 1167, '▁중간에': 1168, '▁높은': 1169, '셨': 1170, '▁번': 1171, '같이': 1172, '▁구성': 1173, '▁판타지': 1174, '겠': 1175, 'y': 1176, '▁감성': 1177, '▁여주인공': 1178, '▁살아': 1179, '였음': 1180, '기만': 1181, '▁감동을': 1182, '▁재미는': 1183, '▁거의': 1184, '이야기': 1185, '▁했는데': 1186, '있고': 1187, '▁뭐야': 1188, '편이': 1189, '▁충격': 1190, '눈': 1191, '▁재미없는': 1192, '더니': 1193, '▁나와서': 1194, '느': 1195, '린다': 1196, '▁얘기': 1197, '▁아무': 1198, '▁웃음': 1199, '▁힘들': 1200, '▁볼만한': 1201, '표': 1202, '▁된다': 1203, '구요': 1204, '▁있지만': 1205, '열': 1206, '는건': 1207, '출': 1208, '▁순': 1209, '았다': 1210, '▁외': 1211, '▁카': 1212, '없음': 1213, '짓': 1214, '▁봤지만': 1215, '▁코': 1216, '▁봐서': 1217, '다는': 1218, '▁장르': 1219, '에선': 1220, '▁보니': 1221, '조차': 1222, 'r': 1223, '▁등': 1224, '▁먹': 1225, '척': 1226, '퍼': 1227, '▁영화인데': 1228, '▁메': 1229, '름': 1230, '▁악': 1231, 'ᄉ': 1232, '▁이름': 1233, '▁추억': 1234, '레이': 1235, '▁줄거리': 1236, '▁장면이': 1237, '커': 1238, '채': 1239, '▁뭐지': 1240, '▁있었': 1241, '목': 1242, '▁각본': 1243, '진다': 1244, '▁암': 1245, '남자': 1246, '영화가': 1247, '▁감정': 1248, '0': 1249, '스러운': 1250, '▁왕': 1251, '했습니다': 1252, '▁만': 1253, '나오': 1254, '들도': 1255, '▁굉장히': 1256, '▁이딴': 1257, '▁재밌네요': 1258, '▁글': 1259, '▁끝나': 1260, '처': 1261, '편은': 1262, '백': 1263, '▁이영화를': 1264, '▁예상': 1265, '놓고': 1266, '건데': 1267, '▁훌륭한': 1268, '으나': 1269, '▁스릴': 1270, '▁어디서': 1271, '▁갑자기': 1272, '▁아버지': 1273, '▁싸': 1274, '복': 1275, '▁제가': 1276, '▁짜증': 1277, 'D': 1278, '▁많': 1279, '혜': 1280, '▁다음': 1281, '햇': 1282, '▁비교': 1283, '▁영화임': 1284, '들에게': 1285, 'ᄋ': 1286, '▁ᅳ': 1287, '▁누구': 1288, '▁오래': 1289, '▁경': 1290, '▁극장판': 1291, '주의': 1292, '욕': 1293, '▁있어서': 1294, '▁머리': 1295, '▁잠': 1296, '▁하지': 1297, '▁저런': 1298, '▁새로운': 1299, '▁역': 1300, '▁원작을': 1301, 'k': 1302, '해라': 1303, '▁관': 1304, '▁아이들': 1305, '▁방송': 1306, '▁레': 1307, '근데': 1308, '라서': 1309, '▁말도': 1310, '줘': 1311, '▁90': 1312, '베': 1313, '▁몸': 1314, '겠지': 1315, '~!!': 1316, '▁평점을': 1317, '▁그리': 1318, '▁안되': 1319, '▁뭐냐': 1320, '어야': 1321, '광': 1322, '▁감독님': 1323, '왕': 1324, '침': 1325, '좋은': 1326, '▁버': 1327, '▁양': 1328, '정도로': 1329, '▁가는': 1330, '되어': 1331, '▁화면': 1332, '♡': 1333, '▁주인공이': 1334, '▁마음에': 1335, '▁재미있어요': 1336, '▁주제': 1337, '▁아직': 1338, '▁달': 1339, '▁영상미': 1340, '▁허접': 1341, '▁포스터': 1342, '▁여배우': 1343, '메': 1344, '▁힘': 1345, '월': 1346, '였': 1347, '했어요': 1348, '각': 1349, '▁생각하게': 1350, '찍': 1351, '▁뒤': 1352, '추': 1353, 'n': 1354, '▁항상': 1355, '▁사회': 1356, '철': 1357, '브': 1358, '땜에': 1359, '▁재밋': 1360, '슴': 1361, '▁잼있': 1362, '들어': 1363, '▁맛': 1364, '▁있어': 1365, '었': 1366, '▁흥행': 1367, '▁깨': 1368, '합': 1369, '련': 1370, '귀': 1371, '▁영화도': 1372, '▁나올': 1373, 'g': 1374, '거다': 1375, '▁자체가': 1376, '▁봐라': 1377, '빈': 1378, '▁대단한': 1379, '땐': 1380, '▁일단': 1381, '▁못하는': 1382, '이라면': 1383, '▁그런지': 1384, '보기': 1385, '간다': 1386, '길래': 1387, '곡': 1388, '▁봤음': 1389, '▁그러나': 1390, '▁혼자': 1391, '한거': 1392, '▁여기': 1393, '른': 1394, '곤': 1395, '▁개연성': 1396, '▁비디오': 1397, '▁비해': 1398, '▁집중': 1399, '▁산': 1400, '▁있는데': 1401, '▁저는': 1402, '▁실': 1403, '▁처음부터': 1404, '▁없어서': 1405, '▁가지고': 1406, '적이': 1407, '▁요': 1408, '돌': 1409, '듬': 1410, '▁옛날': 1411, '▁충분히': 1412, '허': 1413, '▁뭐가': 1414, '▁종': 1415, '▁빨리': 1416, '▁언제': 1417, '▁했다': 1418, '▁사람은': 1419, '▁천': 1420, '앗': 1421, '▁TV': 1422, '였는데': 1423, '럽': 1424, '▁봄': 1425, '하냐': 1426, '에는': 1427, '전개': 1428, '▁궁금': 1429, '▁목': 1430, '마지막': 1431, '해지는': 1432, '_': 1433, '쯤': 1434, '기대': 1435, '▁제작': 1436, '▁팬': 1437, '츠': 1438, '▁싶': 1439, '▁세계': 1440, '거나': 1441, '▁나온다': 1442, '▁(': 1443, '▁부분': 1444, '▁나와': 1445, '▁너무너무': 1446, '법': 1447, '▁점점': 1448, '▁아까움': 1449, '▁순간': 1450, '▁생': 1451, '▁책': 1452, '별로': 1453, '도록': 1454, '▁따': 1455, '▁있었다': 1456, '했고': 1457, '▁몰입': 1458, 'i': 1459, '분들': 1460, '같다': 1461, '▁나이': 1462, '으니': 1463, '▁좋은영화': 1464, '▁잘못': 1465, '처음': 1466, '다면': 1467, '하니': 1468, '▁계': 1469, '▁여주': 1470, '▁시절': 1471, '끝': 1472, '▁하다': 1473, '▁꿈': 1474, '▁높': 1475, '▁꿀잼': 1476, '▁이런영화': 1477, '년전': 1478, '런': 1479, '났': 1480, '▁삼류': 1481, '▁안된다': 1482, '▁작': 1483, '▁좋네요': 1484, '▁나왔': 1485, '▁만점': 1486, '▁나의': 1487, '패': 1488, '▁삼': 1489, '▁패': 1490, '별': 1491, '벌': 1492, '▁더욱': 1493, '▁포': 1494, '▁추': 1495, '▁것은': 1496, '부분': 1497, '▁써': 1498, '▁멜로': 1499, '▁부족': 1500, '▁이유': 1501, 'm': 1502, '▁완벽': 1503, '▁초딩': 1504, '적이고': 1505, '▁현': 1506, '라니': 1507, '청': 1508, '지금': 1509, 'OO': 1510, '혀': 1511, '덕': 1512, '▁찾': 1513, '만한': 1514, '▁쳐': 1515, '▁같': 1516, '▁첨': 1517, '올': 1518, '내가': 1519, '잖아': 1520, '▁해서': 1521, '시대': 1522, '▁윤': 1523, '▁좋겠다': 1524, '▁보여주': 1525, '▁진행': 1526, '▁선택': 1527, '배우들': 1528, '▁무조건': 1529, '▁한마디로': 1530, '▁도저히': 1531, '▁불륜': 1532, '▁그때': 1533, '술': 1534, '되고': 1535, '▁전개가': 1536, '▁노력': 1537, '▁유치한': 1538, '약': 1539, '▁볼만': 1540, '▁아쉬운': 1541, '거냐': 1542, '▁참고': 1543, '▁엄청난': 1544, '▁과거': 1545, '▁그닥': 1546, '▁슬픈': 1547, '▁100': 1548, '▁보는데': 1549, '마다': 1550, '이라니': 1551, 'u': 1552, '규': 1553, '▁새': 1554, '효': 1555, '▁성우': 1556, '▁관객': 1557, '▁편집': 1558, '▁예전에': 1559, '▁어색': 1560, '▁M': 1561, '익': 1562, '▁감동적이': 1563, '▁대단': 1564, '▁소설': 1565, '▁아닌가': 1566, '▁돌아': 1567, '▁망작': 1568, '다시': 1569, '▁귀': 1570, '▁낮은': 1571, '졌': 1572, '염': 1573, '놈': 1574, '▁지금까지': 1575, '쉬': 1576, '▁원래': 1577, '▁낫다': 1578, '립': 1579, '하여': 1580, '▁지나': 1581, '▁재밌는데': 1582, '▁존재': 1583, '▁어릴때': 1584, '▁없네': 1585, '▁어디': 1586, '▁봐': 1587, '▁모르고': 1588, '▁돌': 1589, '▁따뜻한': 1590, '▁휴': 1591, '사람들': 1592, '써': 1593, '▁다시봐도': 1594, '이게': 1595, '▁이영화는': 1596, '▁봤네요': 1597, '추천': 1598, '연출': 1599, '성이': 1600, '▁재밌었다': 1601, 'c': 1602, '▁질': 1603, '최악': 1604, '튼': 1605, '보다는': 1606, '▁크': 1607, '재미있': 1608, 'l': 1609, '▁쓴': 1610, '▁만족': 1611, '▁숨': 1612, '▁감독은': 1613, '▁첫': 1614, '걸까': 1615, '▁이미': 1616, '먼': 1617, '하던': 1618, '▁있음': 1619, '▁어린': 1620, '▁댓글': 1621, '▁더럽게': 1622, '것같다': 1623, '▁80': 1624, '▁인물': 1625, '▁물론': 1626, '여서': 1627, '▁이것도': 1628, '▁사랑을': 1629, '나서': 1630, '▁초반': 1631, '▁두번': 1632, '▁돈주고': 1633, '대박': 1634, '엇': 1635, '-_-': 1636, '▁없을': 1637, '▁지루해': 1638, '▁사람들은': 1639, '▁설': 1640, '▁통': 1641, '나라': 1642, 'p': 1643, '라이': 1644, '▁합니다': 1645, '같': 1646, '뜨': 1647, '만든': 1648, '지않': 1649, '▁까': 1650, '▁모르는': 1651, '겟': 1652, '▁힘든': 1653, '▁복수': 1654, '▁이리': 1655, '▁결혼': 1656, '거리': 1657, ':': 1658, '▁찍': 1659, '▁자꾸': 1660, '롭': 1661, '▁ᄍᄍ': 1662, '▁죽음': 1663, '봐서': 1664, '▁역사': 1665, '▁미화': 1666, '세요': 1667, '▁리': 1668, '▁그게': 1669, '▁완벽한': 1670, '▁설명': 1671, '놈들': 1672, '풍': 1673, '▁만나': 1674, '▁수가': 1675, '▁바보': 1676, '▁그래픽': 1677, '년도': 1678, '▁짜': 1679, '▁흠': 1680, '▁괜히': 1681, '▁전형적인': 1682, '▁데': 1683, '졌다': 1684, '이냐': 1685, '▁귀신': 1686, '▁느낄': 1687, '▁아빠': 1688, '▁늘': 1689, '▁실화': 1690, '그래도': 1691, '기가': 1692, '▁감상': 1693, '료': 1694, '음악': 1695, '▁반전이': 1696, '만들': 1697, '지고': 1698, '▁알게': 1699, '▁저질': 1700, '도없고': 1701, '▁있다는': 1702, '시리즈': 1703, '겠지만': 1704, '▁여성': 1705, '년에': 1706, '▁나라': 1707, '들과': 1708, '▁연출이': 1709, '▁오히려': 1710, '찬': 1711, '함을': 1712, '▁예고편': 1713, '봐라': 1714, '▁알았다': 1715, '명작': 1716, '맞': 1717, '▁상상': 1718, '▁놀': 1719, '▁만들지': 1720, '▁없네요': 1721, '윤': 1722, '▁부족한': 1723, '▁웃긴': 1724, '▁목소리': 1725, '▁느끼게': 1726, '▁뭔지': 1727, '▁되어': 1728, '00': 1729, '▁무서운': 1730, '▁억지로': 1731, '▁방': 1732, '▁병맛': 1733, '▁만들었': 1734, '▁SF': 1735, '이에요': 1736, '▁평점은': 1737, '틀': 1738, '혹': 1739, '▁우연히': 1740, '변': 1741, '▁믿고': 1742, '싸': 1743, '점짜리': 1744, '▁스타일': 1745, '▁헐': 1746, '하세요': 1747, 'x': 1748, '▁완성도': 1749, '▁인간의': 1750, '▁인정': 1751, '본다': 1752, '리가': 1753, '아이': 1754, '▁골': 1755, '삼': 1756, '▁신기': 1757, '▁연출력': 1758, '▁현재': 1759, '탈': 1760, '▁이야기를': 1761, '십': 1762, '▁평점에': 1763, '▁대한민국': 1764, '▁재밌어': 1765, '에요': 1766, '일까': 1767, '그런': 1768, '▁형': 1769, '▁문': 1770, '▁담': 1771, '▁재미있': 1772, '▁아무것도': 1773, '▁훌륭': 1774, '보는데': 1775, '▁기대하고': 1776, '만으로도': 1777, '▁진실': 1778, '~~~~': 1779, '▁좋았어요': 1780, 'f': 1781, 'B': 1782, '▁이상한': 1783, '▁꼬': 1784, '▁트': 1785, '짝': 1786, '▁돈이': 1787, '억': 1788, '▁온': 1789, '주인공': 1790, '영화다': 1791, '▁세상': 1792, '하긴': 1793, '▁개그': 1794, '맛': 1795, '모르': 1796, '는걸': 1797, '▁볼수': 1798, '▁비슷한': 1799, '징': 1800, '▁알았는데': 1801, '▁재미없어': 1802, '훈': 1803, '▁이정도': 1804, '▁작품성': 1805, '축': 1806, '▁프랑스': 1807, '▁말고': 1808, '▁것이다': 1809, '▁지루하지': 1810, '을듯': 1811, '▁b': 1812, '▁서로': 1813, '▁영화라': 1814, '강추': 1815, '▁대작': 1816, '많이': 1817, '하는거': 1818, '했을': 1819, '▁황': 1820, '▁처음으로': 1821, '▁액션도': 1822, '▁재미있고': 1823, '좋다': 1824, '▁좋음': 1825, '^': 1826, '▁배우가': 1827, '▁이후': 1828, '답': 1829, '▁해도': 1830, '끔': 1831, '▁으': 1832, '▁특유의': 1833, '아서': 1834, '▁듯한': 1835, '숙': 1836, '▁ost': 1837, '더군요': 1838, '▁일본영화': 1839, '▁낮': 1840, '스럽다': 1841, '족': 1842, '한데': 1843, '힌': 1844, '▁여운': 1845, '▁태': 1846, '에겐': 1847, '▁둘': 1848, '▁성장': 1849, '▁유머': 1850, '함이': 1851, '▁앞으로': 1852, '속에': 1853, '존': 1854, '▁수준이': 1855, '▁가치': 1856, '▁이러': 1857, '주세요': 1858, '▁생각해': 1859, '▁천재': 1860, '▁청춘': 1861, '▁흥미': 1862, '▁만들었다': 1863, '▁않을': 1864, '▁전작': 1865, '렸다': 1866, '딱': 1867, '재밋': 1868, '▁대단하다': 1869, '으며': 1870, '갔': 1871, '▁했': 1872, '말이': 1873, '자가': 1874, '봐야': 1875, '▁본다': 1876, '▁소름': 1877, '킹': 1878, '▁흥미진진': 1879, '▁지금도': 1880, '▁급': 1881, '................': 1882, '▁이번': 1883, '▁마무리': 1884, '▁졸라': 1885, '지루': 1886, '이면': 1887, '▁코메디': 1888, '▁아이들이': 1889, '▁모습이': 1890, '였던': 1891, '▁감사': 1892, '▁보여': 1893, '▁않았다': 1894, '드는': 1895, '▁교훈': 1896, '랄': 1897, '▁유치하고': 1898, '▁재미없고': 1899, '▁지난': 1900, '굿': 1901, '한번': 1902, '▁맞는': 1903, '아깝다': 1904, '▁킬링타임용': 1905, '▁식': 1906, '념': 1907, '리스': 1908, '놓은': 1909, '▁이런거': 1910, '▁프로': 1911, '▁시대': 1912, '▁낚': 1913, '▁멋있': 1914, '▁또한': 1915, '▁장면은': 1916, '▁어렸을때': 1917, '보다가': 1918, '보이': 1919, '▁금': 1920, '▁병': 1921, '아닌': 1922, '▁영화보다': 1923, '▁실제': 1924, '책': 1925, '▁않음': 1926, '▁시청률': 1927, '역시': 1928, '▁노출': 1929, '▁않았': 1930, '▁tv': 1931, 'T': 1932, '▁이런걸': 1933, '보면서': 1934, '▁확': 1935, '▁알았': 1936, '반전': 1937, '▁뻔': 1938, '▁액션영화': 1939, '▁속편': 1940, '오는': 1941, '▁비추': 1942, '▁그렇고': 1943, 'S': 1944, '어도': 1945, '팬': 1946, '인거': 1947, '▁화이팅': 1948, '페': 1949, '▁아니지만': 1950, '였습니다': 1951, '한영화': 1952, '렌': 1953, '▁화려한': 1954, 'C': 1955, '품': 1956, '웃음': 1957, '▁작품이': 1958, '▁겁나': 1959, '▁몰': 1960, '▁알아': 1961, '▁ᄒᄒᄒ': 1962, '▁광': 1963, '▁아쉽': 1964, '▁괴': 1965, '▁중에': 1966, '▁명작이다': 1967, '▁하면': 1968, '▁사건': 1969, '▁귀여운': 1970, '얼': 1971, '▁왜이리': 1972, '무슨': 1973, '많': 1974, '▁빠져': 1975, '했는지': 1976, '%': 1977, '▁관계': 1978, '▁저도': 1979, '▁관람': 1980, '▁클': 1981, '▁사랑이': 1982, '▁남주': 1983, '▁아닐까': 1984, '밀': 1985, '▁게임': 1986, '방송': 1987, '하자': 1988, '▁진부한': 1989, '▁왠지': 1990, '▁먹먹': 1991, '▁좋았고': 1992, '는것': 1993, '▁회': 1994, '▁분명': 1995, '것이다': 1996, '▁신선': 1997, '애니': 1998, '가서': 1999, '▁보이는': 2000, '시켜': 2001, '▁최악이다': 2002, '량': 2003, '셔': 2004, '▁행동': 2005, '▁어찌': 2006, '수록': 2007, '▁복': 2008, '준다': 2009, '▁좋았습니다': 2010, '분이': 2011, '▁극장': 2012, '▁떠나': 2013, '▁심리': 2014, '▁터': 2015, '▁삶': 2016, '▁C': 2017, '받': 2018, '▁전체적으로': 2019, '갑': 2020, '▁그래': 2021, '꼭': 2022, '▁자유': 2023, '닥': 2024, '▁군대': 2025, '▁나만': 2026, '▁눈이': 2027, '했으면': 2028, '가족': 2029, '▁아들': 2030, '▁경찰': 2031, '▁드': 2032, '▁스토리에': 2033, '▁무엇보다': 2034, '작가': 2035, '▁같습니다': 2036, '점준다': 2037, '▁보여준': 2038, '었지만': 2039, '▁나쁜': 2040, '▁그런데': 2041, '▁생각한다': 2042, '▁마치': 2043, '@': 2044, '독': 2045, '노잼': 2046, '령': 2047, '▁없었': 2048, '▁영화였습니다': 2049, '▁성공': 2050, '▁먼저': 2051, '▁허접한': 2052, '▁받': 2053, '▁느끼': 2054, '▁삶을': 2055, '견': 2056, '▁끝내': 2057, '▁범죄': 2058, '▁떠': 2059, '이렇게': 2060, '▁살인': 2061, '▁상상력': 2062, 'ᅲᅲᅲ': 2063, '인이': 2064, '▁어이없': 2065, '▁집': 2066, '모습': 2067, '▁한계': 2068, '▁대충': 2069, '▁너무나도': 2070, '▁깊이': 2071, '▁시간낭비': 2072, '▁독': 2073, '▁재밌었어요': 2074, '▁내인생': 2075, '▁맥': 2076, '▁용': 2077, '졸': 2078, '풀': 2079, '▁지루하': 2080, '20': 2081, '사람이': 2082, '든다': 2083, '완': 2084, '▁그녀': 2085, '버렸다': 2086, '▁소재는': 2087, '순간': 2088, '앙': 2089, '▁일상': 2090, '전에': 2091, '▁디': 2092, '겠네': 2093, '▁못하고': 2094, '몰': 2095, '을텐데': 2096, '▁처': 2097, '▁좀비': 2098, '▁투': 2099, '▁로맨틱': 2100, '팅': 2101, '▁깊은': 2102, '있게': 2103, '▁싫어': 2104, '▁짜증나': 2105, '▁보고나서': 2106, '▁영화에서': 2107, '▁함': 2108, '려서': 2109, '황': 2110, '▁확실히': 2111, '▁취': 2112, '▁상영': 2113, '▁드라마를': 2114, '면서도': 2115, '▁이젠': 2116, '엄': 2117, '▁한편': 2118, '하는게': 2119, '되지': 2120, '▁액션이': 2121, '야지': 2122, '▁카메라': 2123, '네여': 2124, '▁표': 2125, '친구': 2126, '▁비슷': 2127, '▁어이없는': 2128, '▁하는데': 2129, '▁다소': 2130, '▁자신의': 2131, '▁별루': 2132, '인간': 2133, '▁안보': 2134, '▁질질': 2135, '필': 2136, '▁각': 2137, '▁바람': 2138, '▁지금봐도': 2139, '▁아오': 2140, '실망': 2141, '▁같네요': 2142, '버리': 2143, '▁좋았음': 2144, '와서': 2145, '거임': 2146, '쪽': 2147, '특히': 2148, '▁낭비': 2149, '▁키': 2150, '▁인상': 2151, '▁자신': 2152, '▁있었던': 2153, '--': 2154, '▁마음을': 2155, '▁좋았는데': 2156, '▁읽': 2157, '▁눈을': 2158, '▁영화중에': 2159, '▁사이': 2160, '▁어색한': 2161, '취': 2162, '던가': 2163, '=': 2164, '득': 2165, '한건': 2166, '▁영웅': 2167, '▁만드': 2168, '이제': 2169, '걸로': 2170, '▁여자들': 2171, '▁모습을': 2172, '▁세상에': 2173, '▁이야기가': 2174, '▁이영화가': 2175, '다운': 2176, '로운': 2177, '▁촬영': 2178, '들아': 2179, '▁답': 2180, '휴': 2181, 'w': 2182, '▁독립영화': 2183, '깨': 2184, '▁그런가': 2185, '▁평론가': 2186, '누': 2187, '나옴': 2188, '▁매력적인': 2189, '▁잘봤습니다': 2190, '▁절': 2191, '었습니다': 2192, '▁여자가': 2193, '▁흐': 2194, '최': 2195, '낮': 2196, '씩': 2197, '▁그랬': 2198, '▁범인': 2199, '▁부분이': 2200, '▁고민': 2201, '▁마라': 2202, '~^^': 2203, '▁입니다': 2204, '▁잘만든': 2205, '▁연애': 2206, '▁커': 2207, '????': 2208, '다른': 2209, '놓': 2210, '가지': 2211, '▁떨': 2212, '송': 2213, '▁프로그램': 2214, '때마다': 2215, '▁스케일': 2216, '▁유쾌한': 2217, '거같다': 2218, '▁분들': 2219, '▁국': 2220, '▁리얼': 2221, '▁순수한': 2222, '▁내용을': 2223, '없어': 2224, '▁동화': 2225, '▁느껴지는': 2226, '던지': 2227, '▁아놔': 2228, '▁감사합니다': 2229, 'ᄃ': 2230, '▁나오고': 2231, '▁왜이렇게': 2232, '▁딴': 2233, '시는': 2234, '▁긴': 2235, '▁훨': 2236, '스타': 2237, '▁교': 2238, 'ᄀ': 2239, '▁이것': 2240, '재밌게': 2241, '▁티': 2242, '성을': 2243, '코미디': 2244, '▁리메이크': 2245, '손': 2246, '껄': 2247, '그러': 2248, '이며': 2249, '▁단순': 2250, '▁해야': 2251, '시간이': 2252, '▁매력이': 2253, '▁저예산': 2254, '하라': 2255, '▁ᄉᄇ': 2256, '▁A': 2257, '▁팔': 2258, '▁끌': 2259, '▁15': 2260, '▁19': 2261, '▁든다': 2262, '▁찍은': 2263, '에서는': 2264, '있어': 2265, '▁이쁘': 2266, '▁벌': 2267, '▁아니면': 2268, '꼬': 2269, '▁싶어': 2270, '쿠': 2271, '▁해주는': 2272, '▁스토리와': 2273, '▁감탄': 2274, '▁OST': 2275, '▁ᄏᄏᄏᄏᄏ': 2276, '▁처음이다': 2277, '▁역대': 2278, '▁기분이': 2279, '최고의': 2280, '▁떨어지는': 2281, '스런': 2282, '▁나에게': 2283, '▁전달': 2284, '▁맨': 2285, '▁했지만': 2286, '빨': 2287, '▁하게': 2288, '▁아저씨': 2289, '▁중간중간': 2290, '됐': 2291, '▁현대': 2292, '▁여전히': 2293, '봤음': 2294, '▁됐': 2295, '▁민': 2296, '▁역할': 2297, '▁아닌데': 2298, '▁역시나': 2299, '▁독특한': 2300, '▁전에': 2301, '주고': 2302, '보세요': 2303, '▁예전': 2304, '고싶다': 2305, '▁나를': 2306, '항': 2307, '▁이런게': 2308, '▁봤었는데': 2309, '▁좋을': 2310, '딸': 2311, '▁잔': 2312, '▁돌려': 2313, '▁-_-': 2314, '것은': 2315, '▁현실성': 2316, '▁신선한': 2317, '▁연기력이': 2318, '▁소재를': 2319, '하려는': 2320, '▁중간': 2321, '쇼': 2322, '▁누': 2323, '▁권': 2324, '재미없': 2325, '시킨': 2326, '▁초반에': 2327, '▁젤': 2328, '▁드는': 2329, '▁유쾌': 2330, '▁슬픔': 2331, '▁<': 2332, '▁섹시': 2333, '끄': 2334, '드라': 2335, '일뿐': 2336, '었으면': 2337, '확': 2338, '▁시선': 2339, '더만': 2340, '돼': 2341, '▁찍어': 2342, '▁평범한': 2343, '▁해준': 2344, '▁정치': 2345, '▁미래': 2346, '*': 2347, '찌': 2348, '▁답답': 2349, '▁메세지': 2350, '▁사람을': 2351, '총': 2352, '만으로': 2353, '나온': 2354, '한듯': 2355, '▁얼': 2356, '소재': 2357, '해주는': 2358, '▁가진': 2359, '▁그림': 2360, '▁호러': 2361, '만화': 2362, '▁있다면': 2363, '(?)': 2364, '려는': 2365, '▁제작진': 2366, '▁전편': 2367, '▁평생': 2368, ';;;;': 2369, '▁보지마세요': 2370, '인것': 2371, '▁저렇게': 2372, 'ᄅ': 2373, '닝': 2374, '▁리뷰': 2375, '▁예쁜': 2376, '▁애들이': 2377, '까진': 2378, '내요': 2379, '시절': 2380, '충': 2381, '▁드라마가': 2382, '▁아름답고': 2383, '빵': 2384, '▁아름답다': 2385, '새끼': 2386, '아깝': 2387, '▁사극': 2388, '▁귀엽고': 2389, '▁흘러': 2390, '▁악역': 2391, '감독이': 2392, '응': 2393, '링': 2394, '▁이유가': 2395, '▁나서': 2396, '▁벗': 2397, '▁액션은': 2398, '▁나중에': 2399, '▁꼴': 2400, '▁볼때마다': 2401, '▁보고싶': 2402, '짜리': 2403, '▁그들의': 2404, 'ᄂ': 2405, 'ᄆ': 2406, '▁살짝': 2407, '▁표정': 2408, '▁웃겨': 2409, '되서': 2410, '▁굳이': 2411, '흔': 2412, '웠': 2413, '클': 2414, '▁죄': 2415, '▁끝나고': 2416, '▁난다': 2417, '▁아는': 2418, '▁괴물': 2419, '▁s': 2420, '▁감동적이고': 2421, '니깐': 2422, '▁보기엔': 2423, '▁슬프다': 2424, '▁통해': 2425, '▁않아': 2426, '▁고전': 2427, '급영화': 2428, '탕': 2429, '하시': 2430, '▁우울': 2431, '▁후반': 2432, '▁바라': 2433, '▁표절': 2434, '▁희생': 2435, '▁사랑하는': 2436, '유치': 2437, '▁보고싶다': 2438, '감이': 2439, '나올': 2440, '//': 2441, '나고': 2442, '▁등장': 2443, '▁뒷': 2444, '팔': 2445, '북': 2446, '▁메시지': 2447, '▁시원': 2448, '▁참신': 2449, '욱': 2450, '▁넣': 2451, '홍': 2452, '많은': 2453, '▁티비': 2454, '▁재밌었는데': 2455, '숨': 2456, '▁나가': 2457, 'ᄏᄏᄏᄏᄏᄏᄏᄏᄏᄏᄏᄏᄏᄏᄏᄏ': 2458, '▁춤': 2459, '쓴': 2460, 'ᄍᄍ': 2461, '▁아깝': 2462, '▁능력': 2463, '▁가지': 2464, '▁안되고': 2465, '프로': 2466, '▁어이가': 2467, '릭': 2468, '하는지': 2469, '▁과연': 2470, '▁분노': 2471, '▁근': 2472, '▁기대를': 2473, '▁연기에': 2474, '▁결과': 2475, 'A': 2476, '▁용서': 2477, '▁몰입감': 2478, '▁몰입이': 2479, '▁여러': 2480, '번째': 2481, '지마라': 2482, '▁남는다': 2483, '▁라는': 2484, '하려고': 2485, '낼': 2486, '▁압권': 2487, '만들어': 2488, '▁종교': 2489, '영화중': 2490, '▁스토리를': 2491, '마저': 2492, '골': 2493, '둘': 2494, '제목': 2495, '▁싫다': 2496, '센': 2497, '▁씨': 2498, '줌': 2499, '▁안나오': 2500, '▁안됨': 2501, '먹고': 2502, '로서': 2503, '▁어릴적': 2504, '▁느': 2505, '▁포장': 2506, '▁연기와': 2507, '▁그의': 2508, '▁재밌었': 2509, '하면서도': 2510, '암': 2511, '▁게이': 2512, '▁캐': 2513, 'E': 2514, '▁출': 2515, '▁짠': 2516, '▁허무': 2517, '▁무지': 2518, '▁우정': 2519, '▁이연걸': 2520, '▁같아': 2521, '▁음악이': 2522, '▁했던': 2523, '▁cg': 2524, '▁사는': 2525, '▁알수': 2526, '▁추천합니다': 2527, '혼': 2528, '결말': 2529, '▁처음엔': 2530, '▁풍': 2531, '폭': 2532, '▁아까워': 2533, '▁자연': 2534, '▁생각합니다': 2535, '뜻': 2536, '▁있지': 2537, '▁같음': 2538, '▁먼': 2539, '▁스타': 2540, '엉': 2541, '드리': 2542, '줬': 2543, '▁알바들': 2544, '▁말로': 2545, '▁모르겠': 2546, '▁나왔으면': 2547, '홀': 2548, '▁홍콩': 2549, '재미없다': 2550, 'an': 2551, '▁만들어진': 2552, '더라구요': 2553, '좋아요': 2554, '거라': 2555, '▁아닌듯': 2556, '씨가': 2557, '람': 2558, '▁보는게': 2559, '▁폭력': 2560, '에서도': 2561, '▁열심히': 2562, '▁잼있게': 2563, 'V': 2564, '▁봤으면': 2565, '시키는': 2566, '놀': 2567, '▁느끼는': 2568, '없네': 2569, '▁다행': 2570, '▁밀': 2571, '▁지루할': 2572, '▁공감이': 2573, '할듯': 2574, '랬': 2575, '영환': 2576, '▁포기': 2577, '▁접': 2578, '▁많다': 2579, '동안': 2580, '▁개판': 2581, '협': 2582, '폰': 2583, '▁긴장': 2584, '▁황당': 2585, '머리': 2586, '▁묘사': 2587, '하겠': 2588, '▁봤다가': 2589, '▁빛': 2590, '▁재미있음': 2591, '▁영화이다': 2592, '진심': 2593, '▁짜증나는': 2594, '험': 2595, 'ᄒᄒᄒ': 2596, '▁안하고': 2597, '었고': 2598, '▁뮤지컬': 2599, '했어': 2600, '잉': 2601, '▁희망': 2602, '▁주인공의': 2603, '▁몸매': 2604, '▁40': 2605, '한게': 2606, '괴': 2607, '인생': 2608, '▁소녀': 2609, '▁칼': 2610, '▁중요한': 2611, '▁되었다': 2612, '▁달리': 2613, '기엔': 2614, '▁기본': 2615, '첨': 2616, '죄': 2617, '▁주인공들': 2618, '말고': 2619, '▁+': 2620, '쯧': 2621, '▁빼': 2622, '▁이건뭐': 2623, '.\"': 2624, '▁티비에서': 2625, '▁만든다': 2626, '▁더이상': 2627, '▁밑에': 2628, '났다': 2629, '▁I': 2630, '▁낫': 2631, '점주는': 2632, '▁볼거리': 2633, '▁별로다': 2634, '▁자막': 2635, '▁보시길': 2636, '▁만큼': 2637, '▁올리': 2638, '▁재미를': 2639, '뒤': 2640, '표현': 2641, '▁다만': 2642, '빡': 2643, '▁퀄리티': 2644, '▁이유는': 2645, '▁그렇다': 2646, '▁고생': 2647, ',,,,': 2648, '▁설레': 2649, '▁진심으로': 2650, '▁인기': 2651, '▁무섭다': 2652, '▁빠': 2653, '▁크게': 2654, '짜증': 2655, '폐': 2656, '▁사랑과': 2657, '▁굳': 2658, '▁사랑에': 2659, '렉': 2660, '▁덜': 2661, '▁밥': 2662, '재밌어요': 2663, '▁재밌습니다': 2664, '아님': 2665, '오빠': 2666, '▁생각나는': 2667, '하셨': 2668, '내는': 2669, '것을': 2670, '일이': 2671, '영상': 2672, '잼있': 2673, '▁짓': 2674, '▁오버': 2675, '&': 2676, '탁': 2677, '힐': 2678, '▁없지만': 2679, '왔': 2680, '르는': 2681, '▁되게': 2682, '▁흐름': 2683, '▁가서': 2684, '▁이어': 2685, '▁놓': 2686, '▁다큐멘터리': 2687, '으로서': 2688, '랜': 2689, '▁어쩔': 2690, '▁쉽게': 2691, '▁볼수록': 2692, '▁이정도면': 2693, '▁그럭저럭': 2694, '▁죽어': 2695, '▁북한': 2696, '해준': 2697, '▁최근': 2698, '▁풀어': 2699, '▁제목이': 2700, '년전에': 2701, '▁네': 2702, '▁어제': 2703, '▁임': 2704, '자들': 2705, '아주': 2706, '▁지루해서': 2707, '엄마': 2708, '▁후반부': 2709, '▁그다지': 2710, '▁성인': 2711, '▁좋았던': 2712, '▁정서': 2713, '▁건지': 2714, '▁아깝지': 2715, '▁재미없네': 2716, '▁친': 2717, '▁해피엔딩': 2718, '▁드라마는': 2719, '▁영화지만': 2720, '▁언제나': 2721, '▁삶의': 2722, '▁동생': 2723, '롱': 2724, '좋았': 2725, '▁디즈니': 2726, '▁비주얼': 2727, '▁힐링': 2728, '인의': 2729, '▁영화보고': 2730, '속에서': 2731, '얘기': 2732, '봣': 2733, '▁거지': 2734, '전쟁': 2735, '▁감동과': 2736, '▁남아': 2737, '▁몇번을': 2738, '▁그걸': 2739, '▁남을': 2740, '▁그려': 2741, '▁S': 2742, '▁아쉬움': 2743, '껏': 2744, '▁젊은': 2745, '▁가볍게': 2746, '봤던': 2747, '엘': 2748, '▁불편': 2749, '▁돋': 2750, '킨': 2751, '▁유치함': 2752, '했나': 2753, '였지만': 2754, '였어요': 2755, '▁폭': 2756, '▁소재가': 2757, '★': 2758, '▁마세요': 2759, '▁못했다': 2760, '▁보이': 2761, '안에': 2762, '▁ᅮ': 2763, '▁소재로': 2764, '▁붙': 2765, '웨': 2766, '▁배우의': 2767, '막장': 2768, '▁싫': 2769, '▁몰라도': 2770, '▁엉성한': 2771, '▁좋아서': 2772, '▁추억의': 2773, '▁샤': 2774, '▁올해': 2775, '▁돌아가': 2776, 'ᅡ': 2777, '▁싸구려': 2778, '▁눈빛': 2779, '있는데': 2780, '이해': 2781, '▁청': 2782, '로써': 2783, '▁놀라': 2784, '▁관심': 2785, '▁12': 2786, '는건지': 2787, '▁와닿': 2788, '▁채널': 2789, '▁높다': 2790, '▁똑같': 2791, '왔다': 2792, '▁맘': 2793, '▁쓰래기': 2794, '▁갔': 2795, '▁명작이': 2796, '뿌': 2797, '하지도': 2798, '캐릭터': 2799, 'ᄏᄏᄏᄏᄏ': 2800, '웠다': 2801, 'ᄃᄃ': 2802, '쁘': 2803, '하구': 2804, '▁재미있네요': 2805, '▁잊': 2806, '▁홍': 2807, '▁70': 2808, '▁봐야할': 2809, '예요': 2810, '▁동물': 2811, '랐': 2812, '▁있나': 2813, '하신': 2814, '▁국민': 2815, '지마': 2816, '▁무시': 2817, '압': 2818, 'N': 2819, 'j': 2820, '녕': 2821, '▁연예인': 2822, '재밌다': 2823, '접': 2824, '▁잔인한': 2825, '▁광고': 2826, '했네': 2827, '가지고': 2828, '▁보았': 2829, '▁몰랐': 2830, '▁찡': 2831, '▁슬프고': 2832, '세기': 2833, '용으로': 2834, '대사': 2835, '▁끊': 2836, '텔': 2837, '▁섹스': 2838, '멋': 2839, '▁필요없다': 2840, '▁우리가': 2841, '나와': 2842, '▁법': 2843, '▁킬링타임': 2844, '▁그럼': 2845, '▁요소': 2846, '▁끝나는': 2847, '봣는데': 2848, '▁보고싶은': 2849, '▁있게': 2850, '춘': 2851, '콜': 2852, '내용이': 2853, '▁사람의': 2854, '▁재밋게': 2855, '▁늘어': 2856, '▁필요없는': 2857, '애들': 2858, '▁틀': 2859, '▁슬프': 2860, '킬': 2861, '함과': 2862, '▁만들고': 2863, '▁이제야': 2864, '▁글쎄': 2865, '봉': 2866, '▁재밌네': 2867, '겹': 2868, '▁문화': 2869, '명이': 2870, '되면': 2871, '털': 2872, '칸': 2873, '한다는': 2874, '▁아픔': 2875, '▁가끔': 2876, '▁되고': 2877, '▁악당': 2878, '▁반전도': 2879, '사이': 2880, '▁ᄃᄃ': 2881, '끈': 2882, '▁되었': 2883, '▁홍보': 2884, '▁점수를': 2885, '▁브': 2886, '▁되지': 2887, '▁그린': 2888, '웅': 2889, '▁실패': 2890, '▁불구하고': 2891, '봤어요': 2892, '▁방금': 2893, '▁짱짱': 2894, '▁사랑스러운': 2895, '▁다시한번': 2896, '한다면': 2897, '▁이쁜': 2898, '▁지구': 2899, '▁멀': 2900, 'M': 2901, '▁않게': 2902, '기분': 2903, '일본': 2904, '▁우주': 2905, '눈물': 2906, '▁페': 2907, '중의': 2908, '▁루': 2909, '▁에로': 2910, '좋고': 2911, '▁채': 2912, '▁펑펑': 2913, '▁헐리우드': 2914, '현실': 2915, '▁뛰어난': 2916, '▁돋보': 2917, '사회': 2918, '겁': 2919, '▁볼만함': 2920, '▁인생을': 2921, '▁헤': 2922, '스릴러': 2923, '▁음악도': 2924, '먹는': 2925, '▁영화관': 2926, '으면서': 2927, '마음': 2928, '온다': 2929, '틈': 2930, '▁어려운': 2931, '▁생애': 2932, '으론': 2933, '픈': 2934, '▁낮아서': 2935, '나와서': 2936, '▁진정': 2937, '▁달라': 2938, '▁없나': 2939, '웃기': 2940, '▁의심': 2941, '▁연출도': 2942, 'O': 2943, '시키': 2944, '▁아마': 2945, '▁웃기고': 2946, '섭': 2947, '▁자극': 2948, '▁발전': 2949, '▁로그인': 2950, '▁무언가': 2951, '▁시사회': 2952, '르고': 2953, '▁연결': 2954, '끌': 2955, '▁좋습니다': 2956, '♥♥': 2957, '했으나': 2958, '▁그것': 2959, '▁열정': 2960, '▁찍었': 2961, '▁식상': 2962, '괜찮': 2963, '▁딱히': 2964, '▁탈': 2965, '▁산으로': 2966, '시고': 2967, '빙': 2968, '공포': 2969, '▁월': 2970, '▁다르': 2971, '▁풀': 2972, '▁개인': 2973, '▁엉망': 2974, '▁아름다움': 2975, ']': 2976, '▁들었': 2977, '▁행': 2978, '점준': 2979, '▁니': 2980, '있음': 2981, '알바': 2982, 'on': 2983, '▁불쌍': 2984, '▁차이': 2985, '▁갑': 2986, '▁쓸': 2987, '슈': 2988, '떠': 2989, '▁유치하다': 2990, '▁무섭': 2991, '▁철': 2992, '▁유명': 2993, '▁순수': 2994, '▁죄다': 2995, '▁죽이': 2996, '이유': 2997, '▁나옴': 2998, '▁많아': 2999, '솔': 3000, '▁청소년': 3001, '▁베스트': 3002, '▁잊혀지지': 3003, '대는': 3004, '▁생생': 3005, '할까': 3006, '▁단연': 3007, '▁재밌었음': 3008, '옥': 3009, '▁평이': 3010, '력이': 3011, '▁반성': 3012, '▁나왔다': 3013, '▁킬링타임용으로': 3014, '▁꺼': 3015, '▁시간을': 3016, '▁푹': 3017, '▁정말로': 3018, '▁빌려': 3019, '▁c': 3020, '택': 3021, '벽': 3022, '▁눈물을': 3023, '▁어머니': 3024, '▁캐릭터들': 3025, '한것': 3026, '▁운': 3027, '지않은': 3028, '▁평범': 3029, '▁의도': 3030, '▁어른': 3031, '▁조폭': 3032, 'er': 3033, '▁인간이': 3034, '착': 3035, '나가는': 3036, '답답': 3037, '겠어요': 3038, '널': 3039, '개봉': 3040, '높': 3041, '▁괜찮았': 3042, '빼고': 3043, '틱': 3044, '엠': 3045, '▁죽는': 3046, '▁남녀': 3047, '▁몰입해서': 3048, '▁남겨': 3049, '무비': 3050, '했다는': 3051, '▁말을': 3052, '▁출연진': 3053, '▁쫌': 3054, '▁무서워': 3055, '지않고': 3056, '▁힘들다': 3057, '사가': 3058, '땅': 3059, '▁귀엽': 3060, '▁투자': 3061, '▁하면서': 3062, '▁끌어': 3063, '▁멋지다': 3064, '▁핵': 3065, '▁믿': 3066, '▁한국인': 3067, '▁연속': 3068, '▁d': 3069, '값': 3070, '▁결말은': 3071, '자는': 3072, '▁당신': 3073, '같음': 3074, '▁괜찮': 3075, '인가요': 3076, '에대한': 3077, '▁있습니다': 3078, '▁뜻': 3079, '▁인간들': 3080, '▁빈': 3081, '▁탄탄한': 3082, '▁보니까': 3083, '▁여기서': 3084, '자체가': 3085, '워서': 3086, '▁단순한': 3087, '▁뻔하고': 3088, '▁결말도': 3089, '됬': 3090, '▁봣는데': 3091, '우리': 3092, '▁나오면': 3093, '컨': 3094, '▁헐리웃': 3095, '▁스스로': 3096, '▁멍청한': 3097, '▁질리지': 3098, '▁직': 3099, '▁좋았': 3100, '▁좋았을': 3101, '정신': 3102, '▁둘다': 3103, '▁느와르': 3104, '▁해주': 3105, '▁집에서': 3106, '원작': 3107, '▁표현한': 3108, '것만': 3109, '▁아직까지': 3110, '▁현실적인': 3111, '▁볼만하다': 3112, '연기도': 3113, '▁시걸': 3114, '세상': 3115, '▁보았다': 3116, '▁전문가': 3117, '▁사기': 3118, '쳤': 3119, '▁관객들': 3120, '연기가': 3121, '▁하루': 3122, '감을': 3123, '▁옛날에': 3124, '▁있어요': 3125, '▁견자단': 3126, '▁흔한': 3127, '버리는': 3128, '▁;;': 3129, '▁환상': 3130, '▁볼만하': 3131, '▁잭': 3132, '줘야': 3133, '했네요': 3134, '편보다': 3135, '▁떠나서': 3136, '스터': 3137, '▁좀더': 3138, '헤': 3139, '시다': 3140, '평점이': 3141, '▁끼': 3142, '영화의': 3143, '캐': 3144, '▁대화': 3145, '싱': 3146, '▁전체': 3147, '!!!!!': 3148, '한다고': 3149, '▁느낌을': 3150, '스타일': 3151, '▁못한다': 3152, '▁시시': 3153, '▁제작비': 3154, '해주세요': 3155, '으려': 3156, '▁싶지': 3157, '▁무엇을': 3158, '구성': 3159, '▁어렸을': 3160, '▁매력있': 3161, '럼': 3162, '▁재미있었다': 3163, '친다': 3164, '▁미드': 3165, '▁느낀': 3166, '▁시대를': 3167, '▁같아서': 3168, '▁높아': 3169, '내고': 3170, '▁레전드': 3171, '▁장면에서': 3172, '스러워': 3173, '▁벌써': 3174, '▁뜨': 3175, '▁배우들도': 3176, '▁시각': 3177, '▁매력적이': 3178, '▁영국': 3179, '▁끝난': 3180, '텐데': 3181, '▁하네요': 3182, '▁굿굿': 3183, '▁있으면': 3184, '▁말할': 3185, '▁슬': 3186, '▁말하는': 3187, '▁지금은': 3188, '늘': 3189, '▁끝이': 3190, '내용도': 3191, '▁않지만': 3192, '▁이후로': 3193, '긴한데': 3194, '▁이해할': 3195, '신이': 3196, '▁50': 3197, '▁조연': 3198, '▁팬이': 3199, '나게': 3200, '스러움': 3201, '▁T': 3202, '▁특': 3203, '▁싶네요': 3204, '▁지켜': 3205, '▁반복': 3206, '▁주변': 3207, '▁외모': 3208, '▁단지': 3209, '영화라고': 3210, '세계': 3211, '점수': 3212, '▁즐겁게': 3213, '사는': 3214, '▁잔잔하고': 3215, '▁작가가': 3216, '꾸': 3217, '▁남편': 3218, '▁야한': 3219, '▁영화냐': 3220, '▁남자가': 3221, '안되': 3222, '▁나오지': 3223, '스가': 3224, '면에서': 3225, '엿': 3226, '넣': 3227, '▁찌': 3228, '혁': 3229, '릿': 3230, '▁초등학생': 3231, '▁위대한': 3232, '편의': 3233, '▁발견': 3234, '▁창': 3235, '▁느껴': 3236, '받는': 3237, '부족': 3238, '언니': 3239, '▁영어': 3240, '▁유쾌하고': 3241, '▁할말': 3242, '▁재밋다': 3243, '▁생각없이': 3244, '▁누구나': 3245, '냥': 3246, '으로써': 3247, '묘': 3248, '중에서': 3249, '▁못해': 3250, '들만': 3251, '▁유명한': 3252, '▁발로': 3253, '톱': 3254, '▁누군가': 3255, '▁재밌을': 3256, '▁갈등': 3257, '겁니다': 3258, '놨': 3259, '▁모든게': 3260, '▁\"\"\"': 3261, '었어': 3262, '였고': 3263, '▁부르': 3264, '▁안돼': 3265, '▁필': 3266, '영화로': 3267, '▁한심': 3268, '▁속에': 3269, 'OOO': 3270, '거면': 3271, '▁생각하는': 3272, '기위해': 3273, '▁받아': 3274, '시작': 3275, '▁시도': 3276, '았던': 3277, '수도': 3278, '▁쇼': 3279, '▁않나': 3280, '`': 3281, '만드는': 3282, '\"\"\"': 3283, '▁맨날': 3284, '갔다': 3285, '지를': 3286, '보자': 3287, '11': 3288, '▁못할': 3289, '님의': 3290, '▁국내': 3291, '▁김기덕': 3292, '젠': 3293, '▁안타깝다': 3294, '노래': 3295, '하는것': 3296, '가슴': 3297, '려면': 3298, '▁잊지': 3299, '하는건': 3300, '떡': 3301, '▁하나하나': 3302, '▁눈에': 3303, '▁받았': 3304, '떄': 3305, '보는내내': 3306, '관계': 3307, '이니': 3308, '▁왠': 3309, '▁편견': 3310, '계의': 3311, '▁기대안하고': 3312, '▁인물들': 3313, '▁떨어지': 3314, '볼만': 3315, '▁이거보고': 3316, '와는': 3317, '▁아나': 3318, '▁허세': 3319, '▁보길': 3320, '계속': 3321, '해진': 3322, '▁안보고': 3323, '▁영화에요': 3324, '만의': 3325, '▁하는지': 3326, '냈': 3327, '시간에': 3328, '▁멋': 3329, '아까': 3330, '▁넘어': 3331, '▁시트콤': 3332, '닌': 3333, '흐': 3334, '▁있네요': 3335, '하려': 3336, '▁한참': 3337, '잠': 3338, '▁어쩌': 3339, '▁공부': 3340, '잤': 3341, '나온다': 3342, '혈': 3343, '따라': 3344, '▁내려': 3345, '기억': 3346, '▁생각하고': 3347, '▁꾸': 3348, '▁빼고': 3349, '▁줌': 3350, '▁진지': 3351, '스의': 3352, '▁아이돌': 3353, '▁할말이': 3354, '이었': 3355, '▁멋있다': 3356, '그리': 3357, '딩': 3358, '▁고통': 3359, '줘서': 3360, '▁보인다': 3361, '▁ᅲᅲᅲ': 3362, '져서': 3363, '▁드럽게': 3364, 'v': 3365, '▁모르겠고': 3366, '님들': 3367, '▁빨': 3368, '▁울고': 3369, '즘': 3370, '▁송': 3371, '▁불쾌': 3372, '▁무척': 3373, '봐요': 3374, '.......': 3375, '장면이': 3376, 'ᅲᅮ': 3377, '▁미모': 3378, '리지': 3379, '냈다': 3380, '▁개연성이': 3381, '을수': 3382, '▁그렇다고': 3383, '남는': 3384, '상을': 3385, '▁이기': 3386, '해야지': 3387, '▁울었다': 3388, '몽': 3389, '자의': 3390, '밥': 3391, 'I': 3392, '있네': 3393, '차라리': 3394, '례': 3395, '▁뭉클': 3396, '▁즐거운': 3397, '▁멍청': 3398, '▁로봇': 3399, '봅니다': 3400, 'or': 3401, '▁아줌마': 3402, '▁이쁘고': 3403, '▁죽여': 3404, '▁코난': 3405, '........': 3406, '▁앞': 3407, '편을': 3408, '돌아': 3409, '▁한데': 3410, '▁부모': 3411, '▁영화였어요': 3412, '▁힘이': 3413, '정이': 3414, '▁덕분에': 3415, '사람은': 3416, '▁음악과': 3417, '▁인생의': 3418, '겠네요': 3419, '▁당시에': 3420, '▁이때': 3421, '▁살고': 3422, '▁이런영화가': 3423, '뻐': 3424, '▁좋게': 3425, '▁의외로': 3426, '▁대부분': 3427, '▁달달': 3428, '▁찌질': 3429, '수있는': 3430, 'ᄏᄏᄏᄏᄏᄏᄏᄏᄏ': 3431, '겠음': 3432, '▁대사가': 3433, '▁씬': 3434, '▁아쉽네요': 3435, '째': 3436, '▁있어야': 3437, '▁에피소드': 3438, '▁착한': 3439, '▁필요한': 3440, '▁나쁘지': 3441, '▁히': 3442, '▁웃음이': 3443, '부작': 3444, '메이': 3445, '▁진리': 3446, '쉽': 3447, '▁[': 3448, '들고': 3449, '▁여행': 3450, '▁기술': 3451, '뽑': 3452, 'ᄌ': 3453, '▁007': 3454, '▁보고나면': 3455, '▁착': 3456, '▁와우': 3457, '형님': 3458, 'in': 3459, '▁친구들': 3460, '▁옛': 3461, '▁썩': 3462, '▁이쁘다': 3463, '는것도': 3464, '▁망한': 3465, '▁긴장감도': 3466, '▁우와': 3467, '지말고': 3468, '▁재미없어요': 3469, '▁에휴': 3470, '씬은': 3471, '▁논': 3472, '보게': 3473, '영화임': 3474, '▁돼': 3475, '해진다': 3476, '하던데': 3477, '▁엉성': 3478, '▁이미지': 3479, '▁전투': 3480, '▁마이너스': 3481, '▁봤더니': 3482, '▁쵝오': 3483, '▁수도': 3484, '▁경험': 3485, '▁복잡': 3486, '▁낳': 3487, '▁재미있었어요': 3488, '▁혼': 3489, '▁없는데': 3490, '▁침': 3491, '▁학교에서': 3492, '▁무비': 3493, '▁자살': 3494, '▁결': 3495, '▁작은': 3496, '▁암튼': 3497, '설정': 3498, '▁시청자': 3499, '자체': 3500, '왔는데': 3501, '▁바뀌': 3502, '▁짝퉁': 3503, '▁신선하고': 3504, '▁good': 3505, '▁헤어': 3506, '쌍': 3507, '댄': 3508, '▁빼고는': 3509, '버리고': 3510, 'ᅵ': 3511, '뮤': 3512, '▁the': 3513, '▁더불어': 3514, '▁마이클': 3515, '▁작품을': 3516, '▁슈퍼': 3517, '떨': 3518, '▁자식': 3519, '▁최강': 3520, '▁더러운': 3521, '▁어휴': 3522, '집니다': 3523, '벨': 3524, '▁조합': 3525, '▁살려': 3526, '▁좋았지만': 3527, '무섭': 3528, '▁모르겠지만': 3529, '이라서': 3530, '▁박수를': 3531, '▁지루했다': 3532, '▁꽃': 3533, '끼리': 3534, '▁감동적': 3535, '▁충': 3536, '▁판': 3537, '▁좋지만': 3538, 'ar': 3539, '▁왜케': 3540, '만큼은': 3541, '▁적당': 3542, '▁작품이다': 3543, '▁어렵': 3544, '▁동안': 3545, '것들': 3546, '▁명품': 3547, '▁제로': 3548, '▁받을': 3549, '균': 3550, '▁카리스마': 3551, '뽕': 3552, '버릴': 3553, '▁민망': 3554, '▁놈': 3555, '▁무서웠': 3556, '▁삶에': 3557, '▁없었던': 3558, '▁취향': 3559, '▁극치': 3560, '▁양심': 3561, '있나': 3562, '▁13': 3563, '▁볼게': 3564, '학교': 3565, '영화에': 3566, '▁미안': 3567, '였어': 3568, 'ᅲᅲᅲᅲ': 3569, '지네요': 3570, '▁군': 3571, '▁본인': 3572, '▁손발이': 3573, '식으로': 3574, '했었는데': 3575, '흘리': 3576, '짧': 3577, '끝나': 3578, '칭': 3579, '▁외계인': 3580, '▁흥미로운': 3581, '받고': 3582, '▁중에서': 3583, '▁방법': 3584, '▁말하고': 3585, '▁최고입니다': 3586, '쩔': 3587, '깔': 3588, '샤': 3589, '▁쩐다': 3590, '▁죽은': 3591, '리를': 3592, '켜': 3593, '느라': 3594, '다는게': 3595, '문화': 3596, '▁썼': 3597, '▁체': 3598, '까요': 3599, '지않는': 3600, '하다가': 3601, '내내': 3602, '있어서': 3603, '▁기다리': 3604, '씨의': 3605, '▁비극': 3606, '퀴': 3607, '▁주성치': 3608, '▁직접': 3609, '▁바꿔': 3610, '▁감정을': 3611, '▁일품': 3612, '▁없다는': 3613, '▁부족하다': 3614, '▁노답': 3615, '활': 3616, '상황': 3617, '▁독특': 3618, '▁피해자': 3619, '▁학교': 3620, '▁즐기': 3621, '끝까지': 3622, '▁앤': 3623, '▁들어가': 3624, '아니다': 3625, '▁어린이': 3626, '▁뇌': 3627, '▁잊을': 3628, '▁지루하게': 3629, '하다니': 3630, '이였다': 3631, '겟다': 3632, '이런영화': 3633, '렁': 3634, 'W': 3635, '▁봣': 3636, '▁좋았으나': 3637, '▁따뜻해지는': 3638, '▁의리': 3639, '▁미소': 3640, '한국': 3641, '▁역대급': 3642, '▁아이가': 3643, '요즘': 3644, '놔': 3645, '▁해석': 3646, '장난': 3647, '럴': 3648, '인들': 3649, '만들었': 3650, '아쉽': 3651, '▁있던': 3652, '▁싶은데': 3653, '▁뭐라': 3654, '간의': 3655, '재밌음': 3656, '▁본다면': 3657, '▁보러': 3658, '동생': 3659, '▁오바': 3660, '▁이하': 3661, '같고': 3662, '힘': 3663, '연기력': 3664, '▁중반': 3665, '겠습니다': 3666, '필요': 3667, '율': 3668, '▁용기': 3669, '농': 3670, '▁고양이': 3671, '▁18': 3672, '▁좋겠어요': 3673, '▁다룬': 3674, '▁영화인듯': 3675, '▁완전히': 3676, '하지마라': 3677, '젤': 3678, '이자': 3679, '시즌': 3680, '짜증나': 3681, '문제': 3682, '▁올라': 3683, '▁의미를': 3684, '▁십': 3685, '▁설마': 3686, '▁괜찮다': 3687, '▁부터': 3688, '까지는': 3689, '▁싸이코': 3690, '▁주말': 3691, '▁간다': 3692, '▁실제로': 3693, '상태': 3694, '▁아침': 3695, '버려': 3696, '라는게': 3697, '있었': 3698, '▁철학': 3699, '▁원작의': 3700, 'it': 3701, '▁그럴': 3702, '이었음': 3703, '쳤다': 3704, '▁사랑은': 3705, '컷': 3706, '둔': 3707, '뜬': 3708, '▁지나치게': 3709, '적은': 3710, '▁웃기지도': 3711, '▁이유를': 3712, '▁교육': 3713, '▁안타깝': 3714, '▁사랑의': 3715, '더라도': 3716, '▁연기력도': 3717, '▁이래': 3718, '셔서': 3719, '▁기대했는데': 3720, '콩': 3721, '▁보자': 3722, '잡고': 3723, '▁포르노': 3724, '보여': 3725, '▁비판': 3726, '▁곳': 3727, '▁웃김': 3728, '▁도전': 3729, '엔딩': 3730, '▁게다가': 3731, '▁좋아해서': 3732, '출연': 3733, '▁찬': 3734, '▁퇴': 3735, '▁알려': 3736, '매력': 3737, '명의': 3738, '님이': 3739, '새끼들': 3740, '▁없지': 3741, '▁볼수있': 3742, '튀': 3743, '▁많았': 3744, 'ᄇ': 3745, '▁패러디': 3746, '▁느껴진다': 3747, '▁먹고': 3748, '▁영혼': 3749, '▁일어나': 3750, 'ing': 3751, '▁모를': 3752, '▁희': 3753, '▁엄': 3754, '▁좋아할': 3755, '▁오글': 3756, '▁크리스마스': 3757, '쥐': 3758, '▁올려': 3759, '▁케이블': 3760, '▁개봉한': 3761, '배경': 3762, '감동적': 3763, '▁뛰어': 3764, '▁보며': 3765, '▁꿈을': 3766, '할수있': 3767, '▁남자의': 3768, '층': 3769, 'K': 3770, '흘': 3771, '▁몇몇': 3772, '년만에': 3773, '▁쓰레기같은': 3774, '▁뿐이다': 3775, '▁어른들': 3776, '▁생각나': 3777, '중독': 3778, '인건': 3779, '▁원작이': 3780, '▁모르게': 3781, '▁느낄수': 3782, '▁잔인하': 3783, '▁무협': 3784, '꼴': 3785, '▁진부하고': 3786, '었네요': 3787, '▁연기자들': 3788, '▁할까': 3789, '생겼': 3790, '▁않을까': 3791, '▁견': 3792, '점정도': 3793, '▁인상적이': 3794, '기로': 3795, '슬프': 3796, '곳': 3797, '▁상처': 3798, '▁보려고': 3799, '▁밤': 3800, '▁보여준다': 3801, '▁어릴': 3802, '물이': 3803, '▁똑같은': 3804, '▁합': 3805, '▁전설의': 3806, '▁이해하기': 3807, '멘': 3808, '▁답답한': 3809, '▁한명': 3810, '▁넘치는': 3811, '▁아까울': 3812, '▁잠깐': 3813, '▁개성': 3814, '▁:': 3815, '▁검': 3816, '▁속에서': 3817, '좋아하는': 3818, '▁평점보고': 3819, '▁아프': 3820, '▁신경': 3821, '않는': 3822, '하시는': 3823, '▁주기': 3824, '▁시청': 3825, '▁행복한': 3826, '치곤': 3827, '▁대중': 3828, '▁언': 3829, '▁무섭지도': 3830, '개도': 3831, '▁밑': 3832, '▁재밌다고': 3833, '안되는': 3834, '?!': 3835, '았음': 3836, '없어서': 3837, '▁싶을': 3838, '▁가능': 3839, '만이': 3840, '▁화가': 3841, 'ᅮᅮᅮ': 3842, '▁커플': 3843, '▁따로': 3844, '감독님': 3845, '▁블랙': 3846, '냄새': 3847, '▁뒤로': 3848, '.........': 3849, '▁레알': 3850, '줬다': 3851, '▁많고': 3852, '잇는': 3853, '하기도': 3854, '받아': 3855, '공감': 3856, '똥': 3857, '▁현실이': 3858, '읽': 3859, '▁이럴': 3860, '아까움': 3861, '▁최대': 3862, '▁가득': 3863, 're': 3864, '▁훈훈한': 3865, '▁관한': 3866, '엇다': 3867, '버림': 3868, '▁가슴에': 3869, '하고싶은': 3870, '..;;': 3871, '▁들었다': 3872, '룡': 3873, '▁싶었': 3874, '는듯': 3875, '붕': 3876, '쟁이': 3877, '제발': 3878, '껴': 3879, '롤': 3880, '▁디테일': 3881, '▁스트레스': 3882, '▁감흥': 3883, '▁봤을때': 3884, '지지': 3885, '▁빠진': 3886, '▁해결': 3887, '▁꼽': 3888, '▁보내': 3889, '올리': 3890, '▁낚시': 3891, '▁선생님': 3892, '얼굴': 3893, '▁m': 3894, 'F': 3895, '받은': 3896, '▁오랜만': 3897, '▁ᄋᄋ': 3898, '▁관점': 3899, '▁한마디': 3900, '그래서': 3901, '▁대해서': 3902, '속의': 3903, '▁폴': 3904, '▁얼마': 3905, '▁홍콩영화': 3906, '콘': 3907, '고싶은': 3908, '▁쓰는': 3909, '▁전기세': 3910, '▁사랑이야기': 3911, '▁빠져들': 3912, '0%': 3913, '▁안나': 3914, '▁하는거': 3915, '▁실력': 3916, '▁필름': 3917, '뭔가': 3918, '▁보여줬': 3919, '기까지': 3920, 'X': 3921, '덤': 3922, '되네요': 3923, '▁미치': 3924, '▁긴장감이': 3925, '더빙': 3926, '▁좋아하는데': 3927, '식이': 3928, '▁그녀의': 3929, '▁웬': 3930, '▁울었': 3931, '▁생각하면': 3932, '▁소중한': 3933, '딴': 3934, '▁기다려': 3935, '이뻐': 3936, '▁이제서야': 3937, '▁한번쯤': 3938, '▁변태': 3939, '▁존경': 3940, '▁이용': 3941, '냐고': 3942, '▁됨': 3943, '▁인해': 3944, '▁막판에': 3945, '▁있었지만': 3946, '어진': 3947, '특': 3948, '으니까': 3949, '받아서': 3950, '▁재미와': 3951, '붙': 3952, '밤': 3953, '돋': 3954, '푸': 3955, '사람들은': 3956, '▁콩': 3957, '틴': 3958, '▁모르': 3959, '▁맞아': 3960, '억지': 3961, '▁그거': 3962, '고싶어': 3963, '▁웃기다': 3964, '▁앞으로도': 3965, '▁꽝': 3966, '점줌': 3967, '때부터': 3968, '▁아련': 3969, '▁DVD': 3970, '넹': 3971, '▁젠장': 3972, '▁개뿔': 3973, '▁통쾌': 3974, '▁할머니': 3975, '▁기자': 3976, '스크': 3977, '시길': 3978, '▁풍경': 3979, '▁개막장': 3980, '▁전개도': 3981, '▁욕망': 3982, '▁작가님': 3983, '▁보지마': 3984, '▁감히': 3985, '누나': 3986, '▁애기': 3987, '▁악마': 3988, '!!!!!!!!!': 3989, '장애': 3990, '▁탑': 3991, '살아': 3992, '▁없어요': 3993, '▁못함': 3994, '가요': 3995, '공포영화': 3996, '빛': 3997, '따위': 3998, '▁왠만하면': 3999, '▁w': 4000, '▁한심한': 4001, '▁믿을': 4002, '▁갖': 4003, '쓸': 4004, '몸': 4005, '▁봤을': 4006, 'G': 4007, '사람들이': 4008, '▁웃고': 4009, '▁재미잇': 4010, '▁쓰레기다': 4011, '▁미쳤': 4012, '▁보긴': 4013, '▁괜찮은데': 4014, '▁자주': 4015, '▁그렇지': 4016, '▁죽이는': 4017, '♥♥♥': 4018, '▁스크린': 4019, '▁점수가': 4020, '납니다': 4021, '▁겨우': 4022, '▁반개도': 4023, '▁에이': 4024, '그래': 4025, '겼': 4026, '▁잼있다': 4027, '랜드': 4028, '▁야동': 4029, '리아': 4030, '▁하나의': 4031, '더라면': 4032, '▁추억이': 4033, '▁망치': 4034, '▁감동적이다': 4035, '▁퍼': 4036, '▁보여주고': 4037, '보지': 4038, '▁결론': 4039, '▁심하게': 4040, '어떻게': 4041, '▁우리의': 4042, '쏘': 4043, '▁생각함': 4044, '주면': 4045, '감독의': 4046, '오늘': 4047, '보다도': 4048, '▁봤었': 4049, '편도': 4050, '▁정의': 4051, '▁승': 4052, '▁말도안되는': 4053, '빨리': 4054, '▁영화인': 4055, '▁케': 4056, '▁무술': 4057, '▁강력': 4058, '▁있구나': 4059, '▁보기에': 4060, '자를': 4061, '▁이루': 4062, '▁줬': 4063, '▁내면': 4064, '있냐': 4065, '▁색': 4066, '자나': 4067, '▁보통': 4068, '쩌': 4069, '하겠다': 4070, '배우들의': 4071, '▁헛': 4072, '▁한국영화는': 4073, '▁세상을': 4074, '▁옥': 4075, '▁형님': 4076, '았는데': 4077, '맥': 4078, '▁졸리': 4079, 'P': 4080, '스키': 4081, '초반': 4082, '혹은': 4083, '▁자신이': 4084, '나오고': 4085, '스톤': 4086, '점이다': 4087, '잃': 4088, '▁심각': 4089, '옹': 4090, '깍': 4091, '낯': 4092, '거같은데': 4093, '나왔': 4094, '▁정도의': 4095, '▁맹': 4096, '▁둘이': 4097, '▁최초': 4098, '다니는': 4099, '▁짝이': 4100, '싶다': 4101, '▁깨닫게': 4102, '▁빵점': 4103, '마지막에': 4104, '▁할수': 4105, '▁왜이래': 4106, '편에': 4107, '▁영화들': 4108, '▁흑인': 4109, '로만': 4110, '▁O': 4111, '▁모두가': 4112, '▁본영화': 4113, '논': 4114, '상실': 4115, '굴': 4116, '▁본방사수': 4117, '▁장르가': 4118, '싸움': 4119, '절대': 4120, '년도에': 4121, '~!!!': 4122, '▁우리는': 4123, '보구': 4124, '▁재미없게': 4125, '▁비디오로': 4126, '컬': 4127, '핀': 4128, '▁어린시절': 4129, '▁떨어진다': 4130, '▁영원히': 4131, '▁거짓말': 4132, '▁아내': 4133, '▁만들면': 4134, '▁참신한': 4135, 'st': 4136, '▁위해서': 4137, '▁아픈': 4138, '▁낮다': 4139, '▁안맞': 4140, '▁완': 4141, '우스': 4142, '▁위로': 4143, '보이는': 4144, '듯이': 4145, '것같아요': 4146, '▁다루': 4147, '버전': 4148, '임에도': 4149, '▁않네요': 4150, '▁관객을': 4151, '흥': 4152, '하기만': 4153, '▁있는지': 4154, '관람': 4155, '학년': 4156, '▁전쟁영화': 4157, '▁못하다': 4158, '셀': 4159, '▁2014': 4160, '▁짜증난다': 4161, '▁캐릭터가': 4162, '▁방영': 4163, '▁재밌던데': 4164, '이걸': 4165, '▁색감': 4166, '▁사진': 4167, '▁평론가들': 4168, '스럽게': 4169, '저리': 4170, '▁11': 4171, '▁어이': 4172, '▁소름이': 4173, '이즈': 4174, '아요': 4175, '스럽고': 4176, '▁옷': 4177, '▁야구': 4178, '▁재미있었': 4179, '▁조화': 4180, '옴': 4181, '꿀잼': 4182, '됩니다': 4183, '감정': 4184, '▁라고': 4185, '▁받는': 4186, '▁끄': 4187, '멸': 4188, '▁동성애': 4189, '손가락': 4190, '▁특별한': 4191, '▁바꾸': 4192, '▁모험': 4193, '~~~~~~~~': 4194, '▁하늘': 4195, '▁화려하': 4196, '당한': 4197, '▁심심': 4198, '▁일이': 4199, '▁어쩔수': 4200, '검': 4201, '물을': 4202, '▁생각나서': 4203, '▁척': 4204, '했지': 4205, '▁느꼈다': 4206, '▁쥐': 4207, '▁빌': 4208, '도아니고': 4209, '▁시리즈중': 4210, '▁노래도': 4211, '▁감동의': 4212, '▁국가': 4213, '쾌': 4214, '▁가치가': 4215, '▁오로': 4216, '▁조작': 4217, '▁다르다': 4218, '▁만든영화': 4219, '묵': 4220, '▁잔뜩': 4221, '▁단어': 4222, '▁여름': 4223, '▁알겠는데': 4224, '▁죽는줄': 4225, '몇': 4226, '▁대놓고': 4227, '▁그건': 4228, '▁본거': 4229, '안됨': 4230, '▁영화보면서': 4231, '▁잇': 4232, '▁만들다니': 4233, '그만': 4234, '▁감안': 4235, '▁훌륭하다': 4236, '생활': 4237, '▁자신을': 4238, '어린': 4239, '모든': 4240, '거리는': 4241, '▁배우를': 4242, '▁없습니다': 4243, '▁불러': 4244, '▁안타까운': 4245, '▁잊을수': 4246, '▁나은': 4247, '▁중요': 4248, '분은': 4249, '인물': 4250, '▁대본': 4251, '30': 4252, '▁충격적이': 4253, '▁명작입니다': 4254, '▁작품은': 4255, '▁끈': 4256, '하길': 4257, '▁영화보는': 4258, '큰': 4259, '▁돌리': 4260, '모두': 4261, '부분이': 4262, '▁부모님': 4263, '낀': 4264, '닉': 4265, '▁아닙니다': 4266, '▁재난영화': 4267, '▁색다른': 4268, '머니': 4269, '소설': 4270, '▁쿠': 4271, '▁효과': 4272, '▁이것이': 4273, '▁죽을': 4274, '건가요': 4275, '▁도망': 4276, '▁사고': 4277, '같네': 4278, '▁있었는데': 4279, '▁보았습니다': 4280, '좋음': 4281, '코드': 4282, '했다고': 4283, '▁분들은': 4284, '▁오빠': 4285, '▁ᄋ': 4286, '뭐야': 4287, '▁드립니다': 4288, '▁술': 4289, '원이': 4290, '랄까': 4291, '▁제외': 4292, '▁최근에': 4293, '▁촌스럽': 4294, '▁갖고': 4295, '▁이런영화를': 4296, '▁형사': 4297, '▁아예': 4298, '닐': 4299, '▁흥': 4300, '솔직히': 4301, 'L': 4302, '보지말': 4303, '춰': 4304, '숭': 4305, '▁짜임새': 4306, '▁아이디어': 4307, '▁제임스': 4308, '제작': 4309, '▁무엇인지': 4310, '▁억지스러운': 4311, 'ᄏᄏᄏᄏᄏᄏᄏᄏᄏᄏᄏᄏᄏ': 4312, '▁액션씬': 4313, '▁비밀': 4314, '▁배역': 4315, '▁등등': 4316, '▁D': 4317, '▁모르겠음': 4318, '▁몇번': 4319, '▁살아가는': 4320, '▁명화': 4321, '▁이래서': 4322, '큐': 4323, '▁나머지': 4324, '▁듣고': 4325, '▁멋지': 4326, '있습니다': 4327, '▁최고였다': 4328, '▁예쁘': 4329, '▁좋겠': 4330, '▁수준의': 4331, '▁지나도': 4332, '현실을': 4333, '▁집에': 4334, '▁에로영화': 4335, '▁죽이고': 4336, '▁환': 4337, '▁쩝': 4338, '▁ᄏᄏᄏᄏᄏᄏ': 4339, '▁때문': 4340, '▁높게': 4341, '▁뛰어나': 4342, '▁즐겁': 4343, '▁영상이': 4344, '요소': 4345, '▁문제가': 4346, '▁분위기가': 4347, '자리': 4348, '허접': 4349, '에서의': 4350, '렷': 4351, '찔': 4352, 'ᅥ': 4353, '▁sf': 4354, '▁싸우는': 4355, '▁여러가지': 4356, '▁가정': 4357, '▁이따위': 4358, '▁외국': 4359, '어디': 4360, '▁하나같이': 4361, '▁21': 4362, '▁엉성하고': 4363, '짱짱': 4364, '적이다': 4365, '▁답답하고': 4366, '아가': 4367, '▁감정이': 4368, '▁비하면': 4369, '▁기준': 4370, '▁잔인': 4371, '▁재미없었다': 4372, '▁끝났': 4373, '만듬': 4374, '셈': 4375, '지도않고': 4376, '▁정말이지': 4377, '▁빠지': 4378, '▁개연성도': 4379, '덜': 4380, '헌': 4381, '▁출연한': 4382, '쥬': 4383, 'U': 4384, 'z': 4385, '▁블록버스터': 4386, '▁소소한': 4387, '▁울컥': 4388, '▁후속작': 4389, '▁감정이입': 4390, '▁잔혹': 4391, '주연': 4392, '수없는': 4393, '▁데리고': 4394, '▁아역': 4395, '▁보지마라': 4396, '▁성격': 4397, '▁맡': 4398, '▁낙': 4399, '울리': 4400, '▁부실': 4401, '극장': 4402, '였으면': 4403, '▁몇년': 4404, '티비': 4405, '▁남은': 4406, '▁막장드라마': 4407, '▁싸움': 4408, '▁구성이': 4409, '▁결정': 4410, '▁보려': 4411, '▁죽인': 4412, '▁여운을': 4413, '..^^': 4414, '얻': 4415, '▁뭐하나': 4416, '겠죠': 4417, '찾': 4418, '▁연출과': 4419, '▁쩌': 4420, '▁만한': 4421, '▁추리': 4422, '어지는': 4423, '▁p': 4424, '이름': 4425, '랫': 4426, '빠르': 4427, '▁거기에': 4428, '브라': 4429, '▁충실': 4430, '▁결코': 4431, '▁어쩜': 4432, '▁낚였다': 4433, '▁남자주인공': 4434, '▁L': 4435, '▁촌': 4436, '▁또다른': 4437, '되나': 4438, '▁연극': 4439, '영이': 4440, '▁슬퍼': 4441, '▁오래된': 4442, '▁니들': 4443, '▁열연': 4444, '놈이': 4445, '▁예쁘고': 4446, '▁낮네': 4447, '▁만남': 4448, '되었다': 4449, '▁a': 4450, '줄이야': 4451, '▁푸': 4452, '지않아': 4453, '▁남자들': 4454, '오글': 4455, '하더라': 4456, '덕에': 4457, '▁노래가': 4458, '대단': 4459, '▁먼가': 4460, '▁응': 4461, '▁가족영화': 4462, '▁가슴을': 4463, '▁낮아': 4464, '▁전설': 4465, '▁매력을': 4466, '야겠다': 4467, '었을': 4468, '거같아요': 4469, '▁공포물': 4470, '닿': 4471, '▁봅니다': 4472, '▁시간가는줄': 4473, '▁왔': 4474, '▁그저그런': 4475, '▁방식': 4476, '▁감각': 4477, '헐': 4478, '▁치고': 4479, '▁적당히': 4480, '19': 4481, '▁코드': 4482, '▁타임': 4483, '▁길게': 4484, '▁의미가': 4485, '▁가면': 4486, '▁주인공은': 4487, '개그': 4488, '▁까지': 4489, '아닌가': 4490, '▁아니야': 4491, '도대체': 4492, '다음': 4493, '▁아래': 4494, '▁반전은': 4495, '하진': 4496, '..........': 4497, '지요': 4498, '▁보고싶어': 4499, '▁애들은': 4500, '▁해라': 4501, '쓰레기영화': 4502, '▁식상한': 4503, '왓': 4504, '▁엿': 4505, '장이': 4506, '쓰고': 4507, '않다': 4508, '▁많은데': 4509, '▁결말을': 4510, '객': 4511, '▁다운받아': 4512, '좌': 4513, '뚱': 4514, '뽀': 4515, '룩': 4516, '▁탄생': 4517, '▁극장가서': 4518, '▁그만큼': 4519, '▁주기도': 4520, '▁흔들': 4521, '두고': 4522, '사건': 4523, '<': 4524, '커플': 4525, '본사람': 4526, '햇다': 4527, '▁멍': 4528, '▁잼없': 4529, '▁빼면': 4530, '▁기대이상': 4531, '▁집중해서': 4532, '▁잼나게': 4533, '▁마이': 4534, '번은': 4535, '▁잡아': 4536, '▁생각했는데': 4537, '장르': 4538, '▁매력적': 4539, 'as': 4540, '년작': 4541, '▁못보': 4542, 'ᄋᄋ': 4543, '만하다': 4544, '▁승리': 4545, '▁풍자': 4546, '때매': 4547, '생각이': 4548, '▁헬': 4549, '스카': 4550, '▁의문': 4551, '기전에': 4552, '어라': 4553, '주고싶다': 4554, '▁봤네': 4555, '야할': 4556, '▁사상': 4557, '아빠': 4558, '▁기독교': 4559, '렵': 4560, '▁요리': 4561, '▁보기에는': 4562, '뻔한': 4563, '▁살다살다': 4564, '▁아류작': 4565, '▁즐거웠': 4566, '▁다양한': 4567, '▁짧은': 4568, '영화인데': 4569, '▁아무런': 4570, '▁f': 4571, '▁만들었는지': 4572, '도안': 4573, '비디오': 4574, '▁찰': 4575, '▁허술': 4576, '갑니다': 4577, '관객': 4578, '즐': 4579, '본영화': 4580, '▁현실적이': 4581, '▁돈을': 4582, '뇌': 4583, '여주': 4584, '보니까': 4585, '▁살면서': 4586, '▁수많은': 4587, '▁짐': 4588, 'bb': 4589, '▁조카': 4590, '었네': 4591, '▁내용인지': 4592, '▁변화': 4593, '▁살린': 4594, '▁낮게': 4595, '▁궁': 4596, '믿': 4597, '▁두고': 4598, '▁여러분': 4599, '어이없': 4600, '굿굿': 4601, '트리': 4602, '했다면': 4603, '부러': 4604, 'ut': 4605, '▁로버트': 4606, '▁사운드': 4607, '▁핵노잼': 4608, '▁집착': 4609, '▁앞뒤': 4610, '▁바랍니다': 4611, '둥이': 4612, '▁담배': 4613, '▁여자친구': 4614, '떨어진': 4615, '▁남네요': 4616, '▁다운': 4617, '벗': 4618, '▁낮지': 4619, '▁특이': 4620, '▁생활': 4621, '턴': 4622, '거죠': 4623, '▁궁금하다': 4624, '▁G': 4625, '기법': 4626, '▁놀랍다': 4627, '▁과정': 4628, '점이상': 4629, '혼자': 4630, '▁한국에서': 4631, '여행': 4632, '지루함': 4633, '▁199': 4634, '들에': 4635, '▁몰랐다': 4636, '이죠': 4637, '▁밋밋': 4638, '▁냉': 4639, '법한': 4640, '▁그당시': 4641, '▁자체는': 4642, '시아': 4643, '▁대단하': 4644, '▁샘': 4645, '하하하': 4646, '▁손에': 4647, '씬이': 4648, '▁새로': 4649, '▁책을': 4650, '것만으로도': 4651, '▁마지막장면': 4652, '▁뭘까': 4653, '인데도': 4654, '둥': 4655, '야한다': 4656, '핑': 4657, '벼': 4658, '찐': 4659, '▁플롯': 4660, '▁끔찍': 4661, '▁특수효과': 4662, '▁ᄌ': 4663, '▁니콜': 4664, '할만한': 4665, '▁북': 4666, '▁넌': 4667, '자신': 4668, '▁놀라운': 4669, '▁내가본': 4670, '마리': 4671, '▁느껴지': 4672, '게임': 4673, '▁좋겠네요': 4674, '갓': 4675, '과는': 4676, '▁재미있습니다': 4677, '▁원작에': 4678, '▁등장인물': 4679, '▁처럼': 4680, '▁레이': 4681, '찡': 4682, '▁운명': 4683, '▁신파': 4684, '▁별로임': 4685, '▁인도': 4686, '해주고': 4687, '▁부분도': 4688, '▁생긴': 4689, '보셈': 4690, '점대는': 4691, '▁형편없': 4692, '했었': 4693, '▁신비': 4694, '▁넘게': 4695, '▁몰라': 4696, '는거야': 4697, '든지': 4698, '▁연기력은': 4699, '▁안습': 4700, 'le': 4701, '못해': 4702, '▁때려': 4703, '▁망친': 4704, '▁예쁘다': 4705, '▁잘하고': 4706, '▁이상하게': 4707, '재밌어': 4708, '80': 4709, '찮': 4710, '엑': 4711, '긋': 4712, '▁교과서': 4713, '▁러시아': 4714, '▁심지어': 4715, '▁위험': 4716, '▁몽': 4717, '▁볼수있는': 4718, '쓰는': 4719, '▁보아': 4720, '▁무료': 4721, '▁ᄀ': 4722, '▁꽤나': 4723, '영화입니다': 4724, '▁주제를': 4725, '▁순수함': 4726, '▁좀비영화': 4727, '▁조절': 4728, '!!!!!!!!!!!!!!!!': 4729, '삶': 4730, '아저씨': 4731, '▁아쉽지만': 4732, '▁포스': 4733, '평가': 4734, '▁휘': 4735, '▁여주가': 4736, '▁않아서': 4737, '▁솔직': 4738, '▁마지막까지': 4739, '▁교훈을': 4740, '후회': 4741, '재미없음': 4742, '▁거리': 4743, '▁어울리는': 4744, '조금': 4745, '▁인상적': 4746, '▁코미디영화': 4747, '있었다': 4748, '배우가': 4749, '▁폐': 4750, '쳐서': 4751, '아쉬': 4752, '싫어': 4753, '▁소설을': 4754, '▁불쌍하다': 4755, '듣': 4756, '▁업': 4757, '않은': 4758, '▁뭐니': 4759, '▁최고로': 4760, '픽': 4761, '▁어처구니': 4762, '▁가벼운': 4763, '▁반드시': 4764, '▁첫사랑': 4765, '▁봤을까': 4766, '▁짜증만': 4767, '오르': 4768, '후에': 4769, '▁잼잇': 4770, '▁60': 4771, '촌': 4772, '흠': 4773, '시오': 4774, '옆': 4775, '▁있다니': 4776, '▁잠이': 4777, '것처럼': 4778, '학생': 4779, '▁그자체': 4780, '없네요': 4781, '▁빵': 4782, '▁언니': 4783, '▁호구': 4784, '▁잘만들었': 4785, '이었습니다': 4786, '▁확인': 4787, '▁정작': 4788, '▁시리즈는': 4789, '모르겟': 4790, '▁반대': 4791, '것같은': 4792, '▁명성': 4793, '▁매일': 4794, '▁맞추': 4795, '▁웃겼': 4796, '드가': 4797, '▁모른다': 4798, '▁쓰고': 4799, '▁떨어지고': 4800, '▁일반': 4801, '▁자리': 4802, '깝': 4803, '▁처음에는': 4804, '▁내용과': 4805, '▁러닝타임': 4806, '▁소재도': 4807, '▁시청률이': 4808, '▁1,2': 4809, 'ᄏᄏᄏᄏᄏᄏᄏᄏᄏᄏ': 4810, '부분은': 4811, '할것': 4812, '▁역사를': 4813, '▁임팩트': 4814, '▁스티븐': 4815, '▁주윤발': 4816, '▁인내심': 4817, '▁캬': 4818, '▁어설프고': 4819, '▁태어나서': 4820, '▁크리스': 4821, '▁이야기는': 4822, '▁그야말로': 4823, '▁약간의': 4824, '12': 4825, '▁말하고자': 4826, '좋았다': 4827, '▁따분': 4828, '▁욕심': 4829, '▁훈훈': 4830, '는구나': 4831, '▁생각으로': 4832, '▁한숨': 4833, '▁아름답게': 4834, '▁재미도없고': 4835, '▁만들수': 4836, '▁잘봤어요': 4837, '팀': 4838, '▁삶이': 4839, '긴장감': 4840, '▁스토리의': 4841, '▁심장': 4842, '라지만': 4843, '▁불편한': 4844, '주기': 4845, '▁여전': 4846, '▁상업': 4847, '▁그립다': 4848, '뿐이다': 4849, '▁책임': 4850, '▁배신': 4851, '▁안볼': 4852, '▁포스터가': 4853, '거같음': 4854, '▁안맞는': 4855, '지말자': 4856, '사를': 4857, '▁선물': 4858, '▁잼나': 4859, '▁당신은': 4860, '▁안본': 4861, '▁목적': 4862, '▁했으면': 4863, '었나': 4864, '▁소년': 4865, '▁무리': 4866, '씨는': 4867, '보는게': 4868, '받았': 4869, '▁최고임': 4870, '▁한편의': 4871, '스토': 4872, '보고싶다': 4873, '▁가족이': 4874, '▁맞지': 4875, '거같': 4876, '▁아닐': 4877, '탱': 4878, '퓨': 4879, '^-^': 4880, '▁쓸데없이': 4881, '▁장국영': 4882, '▁유일한': 4883, '▁친구가': 4884, '▁당연히': 4885, '▁일부러': 4886, '▁여자주인공': 4887, '▁첨엔': 4888, '긴하지만': 4889, '▁나름대로': 4890, '▁잼있어요': 4891, '▁하나로': 4892, '른다': 4893, '류의': 4894, '보기싫': 4895, '▁쉬': 4896, '▁인디': 4897, '궁': 4898, '빌': 4899, '▁명작을': 4900, '▁벤': 4901, '▁강렬한': 4902, '▁명장면': 4903, '▁됬': 4904, '▁짜증나서': 4905, '▁가져': 4906, '▁엘': 4907, '▁없으면': 4908, '▁폐지': 4909, '▁잘하는': 4910, '미가': 4911, '▁격': 4912, '좋은영화': 4913, '▁영화화': 4914, '▁멋졌': 4915, '꾼': 4916, '▁해리포터': 4917, '▁배트맨': 4918, '▁설득력': 4919, '▁할리우드': 4920, '▁심형래': 4921, '▁짜집기': 4922, '▁유일하게': 4923, '▁희망을': 4924, '▁귀여워': 4925, '▁엉망이': 4926, '▁로코': 4927, '이후': 4928, '▁근래': 4929, '▁가수': 4930, '라는걸': 4931, '25': 4932, '▁바다': 4933, '로드': 4934, '고요': 4935, '▁이딴걸': 4936, '▁어렵다': 4937, '▁보던': 4938, '아무': 4939, '스토리도': 4940, '먹은': 4941, '▁어른이': 4942, '와의': 4943, '▁신선하': 4944, '이든': 4945, '▁살리': 4946, '달아': 4947, '추억': 4948, '▁피해': 4949, '▁새벽에': 4950, '▁연기자': 4951, '방식': 4952, '졸작': 4953, '▁엔딩이': 4954, '듯하다': 4955, '▁느낌의': 4956, '웨이': 4957, '▁볼때': 4958, '▁무엇': 4959, '이여': 4960, '▁보다는': 4961, '았지만': 4962, '▁조선': 4963, '▁다시보니': 4964, '▁아름답': 4965, '▁재미없어서': 4966, '▁수작이다': 4967, '▁재밌지': 4968, '제로': 4969, '▁음식': 4970, '▁수입': 4971, '▁혹시': 4972, '레스': 4973, '▁후에': 4974, '같아서': 4975, '▁틀어': 4976, '해야할': 4977, '▁상대': 4978, '▁죽었': 4979, '▁괜찮았다': 4980, '하는영화': 4981, '딘': 4982, '깃': 4983, 'ᄁ': 4984, '▁dvd': 4985, '▁아까운영화': 4986, '▁기회': 4987, '▁배경음악': 4988, '▁할아버지': 4989, '▁웃으면서': 4990, '▁어느정도': 4991, '▁따뜻하고': 4992, '▁생각할': 4993, '없는영화': 4994, '▁영상과': 4995, '▁나에겐': 4996, '▁케이블에서': 4997, '었는지': 4998, '200': 4999, '같은영화': 5000, '▁많아서': 5001, '당시': 5002, '▁기억나는': 5003, '▁키스': 5004, '썼': 5005, '▁타고': 5006, '화이팅': 5007, '걍': 5008, '▁보다니': 5009, '뛰': 5010, '▁감동은': 5011, '▁영화인지': 5012, '▁한번도': 5013, '▁어디에': 5014, '▁있네': 5015, '보인다': 5016, '언제': 5017, '려나': 5018, '씀': 5019, '테러': 5020, '▁이상하고': 5021, '▁나랑': 5022, '▁연인': 5023, '▁오락영화': 5024, '▁배우들은': 5025, '신분': 5026, '▁봤어': 5027, '▁장면도': 5028, 'ᅮᅲ': 5029, '▁저급': 5030, '밝': 5031, '임을': 5032, '육': 5033, '▁영화라는': 5034, '쫓': 5035, '▁뱀파이어': 5036, '셋': 5037, '▁제니퍼': 5038, '▁이소룡': 5039, '▁홍상수': 5040, '▁of': 5041, '▁빵빵': 5042, '▁강한': 5043, '▁착각': 5044, '갠적으로': 5045, '받을': 5046, '곳에': 5047, '▁짜증이': 5048, '톤': 5049, '▁놓고': 5050, '오브': 5051, '▁버리': 5052, '될듯': 5053, '▁동양': 5054, '질질끌': 5055, '▁울리는': 5056, '▁톰': 5057, '빠져': 5058, '▁처음에': 5059, '▁현실과': 5060, '▁하네': 5061, '역사': 5062, '▁^': 5063, '▁들고': 5064, '▁포인트': 5065, '▁다시는': 5066, '아버지': 5067, '▁싶어요': 5068, '꿈': 5069, '시나리오': 5070, '▁잘만들': 5071, '웃김': 5072, '▁받은': 5073, '▁재밌어서': 5074, '▁밀려': 5075, '▁꼬마': 5076, '▁슬펐': 5077, '▁ᄏᄏᄏᄏᄏᄏᄏ': 5078, '▁만든거': 5079, '낫': 5080, '▁한국의': 5081, '▁인생에': 5082, '알아': 5083, '▁보이지': 5084, '▁난해하': 5085, '▁재미있을': 5086, '▁남았': 5087, '▁흐르는': 5088, '▁이해할수': 5089, '▁ᄍᄍᄍ': 5090, '게하는': 5091, '능력': 5092, '적이지': 5093, '▁마음으로': 5094, '▁하길래': 5095, '▁이해를': 5096, '됐다': 5097, '또한': 5098, '▁삼류영화': 5099, '▁아깝고': 5100, '▁여자의': 5101, '데요': 5102, '▁재미로': 5103, '▁살아있': 5104, '▁조니뎁': 5105, '▁고등학교': 5106, '▁대통령': 5107, '럭': 5108, '▁제이슨': 5109, '▁내생에': 5110, '▁영환데': 5111, '▁맞춰': 5112, '▁돋보이는': 5113, '▁이런건': 5114, '▁어째': 5115, '못하는': 5116, '▁동심': 5117, '미국': 5118, '높은': 5119, '▁잘못된': 5120, '▁아쉬움이': 5121, '▁줄수': 5122, '▁혹시나': 5123, '▁독일': 5124, '재미도': 5125, '조연': 5126, '타임': 5127, '부터가': 5128, '!!!!!!': 5129, '본영화중': 5130, '▁난잡': 5131, '▁쩔': 5132, '▁모든걸': 5133, '분의': 5134, '연기는': 5135, '느껴': 5136, '분위기': 5137, 'R': 5138, '▁많은걸': 5139, '아프': 5140, '▁주제가': 5141, '약한': 5142, '목소리': 5143, '포스터': 5144, '느끼': 5145, '▁부부': 5146, '드립니다': 5147, '▁곧': 5148, '보시길': 5149, '▁시간만': 5150, '멜로': 5151, '갈때': 5152, '치고는': 5153, '............': 5154, '▁쉽지': 5155, '보긴': 5156, '▁의사': 5157, '▁정보': 5158, '▁나네요': 5159, '▁실화를': 5160, '▁정상': 5161, '젊': 5162, '▁you': 5163, '젖': 5164, '▁숨겨진': 5165, '컴': 5166, '▁익숙': 5167, '▁늑대': 5168, '▁깜짝': 5169, '▁과학': 5170, '였나': 5171, '▁사라지': 5172, '▁언제봐도': 5173, '맘': 5174, '▁다섯': 5175, '▁두번째': 5176, '▁프리': 5177, '▁단순히': 5178, '▁재능': 5179, '▁영화인가': 5180, '재미있게': 5181, '▁=': 5182, '▁섬': 5183, 'me': 5184, '▁마약': 5185, '어색': 5186, '▁아니라고': 5187, '...........': 5188, '▁아까웠다': 5189, '▁우연': 5190, '▁모르겠네요': 5191, '▁없었음': 5192, '▁하다가': 5193, '▁장면들': 5194, '▁넘치': 5195, '▁클레멘타인': 5196, '놀이': 5197, '란다': 5198, '보여주': 5199, '려다가': 5200, '필요없': 5201, '▁가족들': 5202, '기도하고': 5203, '▁하아': 5204, '앤': 5205, '트가': 5206, '춤': 5207, '▁제목만': 5208, '▁어색하고': 5209, '▁멋지고': 5210, '▁발상': 5211, '▁실수': 5212, '▁아냐': 5213, '베리': 5214, '▁검색': 5215, '에게는': 5216, '▁아니지': 5217, '▁머리가': 5218, '▁땜에': 5219, '▁봉': 5220, '▁장면을': 5221, '▁줍니다': 5222, '간에': 5223, '위에': 5224, '▁진수': 5225, '낭': 5226, '몰입': 5227, '▁좋네': 5228, '쩜': 5229, '납': 5230, '쿵': 5231, '눌': 5232, '뢰': 5233, '곱': 5234, '밴': 5235, '템': 5236, '▁떨어짐': 5237, '부끄럽': 5238, '▁박진감': 5239, '▁희대의': 5240, '▁이뻐서': 5241, '▁빠른': 5242, '▁응원': 5243, '▁만들기': 5244, '▁처절': 5245, '▁서양': 5246, '▁여러번': 5247, '▁상영관': 5248, '으려고': 5249, '▁갔다': 5250, '▁엄마가': 5251, '▁별로고': 5252, '▁예능': 5253, '▁충분': 5254, '하니까': 5255, '▁높아서': 5256, '에대해': 5257, '할뿐': 5258, '▁다르게': 5259, '▁터미네이터': 5260, '▁조잡': 5261, '일듯': 5262, '▁지겹다': 5263, '▁불쌍한': 5264, '▁F': 5265, '▁세상이': 5266, '맞추': 5267, '▁X': 5268, '100': 5269, '지훈': 5270, '칼': 5271, '무시': 5272, '▁공감할': 5273, '▁본게': 5274, '▁초딩때': 5275, '▁끝에': 5276, '극장에서': 5277, '▁사용': 5278, '▁깔': 5279, '▁재미없을': 5280, '섹': 5281, '40': 5282, '뭔': 5283, '15': 5284, '맞는': 5285, '앨': 5286, '펜': 5287, '뎅': 5288, '▁이토록': 5289, '▁사투리': 5290, '▁실험': 5291, '▁잤다': 5292, '배우들이': 5293, '♥♥♥♥': 5294, '▁디워': 5295, 'es': 5296, '▁뛰': 5297, '▁꿀': 5298, '▁시간아깝다': 5299, '▁최고봉': 5300, '▁짜증남': 5301, '▁괜찮음': 5302, '▁그것도': 5303, '▁개노잼': 5304, '올라': 5305, '겨운': 5306, '▁봤다면': 5307, '▁그동안': 5308, '▁없나요': 5309, 'en': 5310, '▁유발': 5311, '▁멋있는': 5312, '▁봐야하는': 5313, '장면은': 5314, '▁주연배우': 5315, '▁있다고': 5316, '▁반전을': 5317, '▁슈': 5318, '▁중심': 5319, '내용은': 5320, '캐스팅': 5321, '▁내게': 5322, '▁거장': 5323, '▁안간다': 5324, 'ᄍ': 5325, '▁달려': 5326, '스러웠': 5327, '▁논리': 5328, '▁느꼈': 5329, '▁얼굴이': 5330, '▁알겠다': 5331, '▁점수는': 5332, '있지': 5333, '▁여주인공이': 5334, '▁아이들과': 5335, '▁/': 5336, '바라': 5337, '▁배우도': 5338, '차별': 5339, '제대로': 5340, '▁흑': 5341, '▁현실감': 5342, '▁감독을': 5343, '먹어': 5344, '차이': 5345, '표정': 5346, '팍': 5347, 'ᄎ': 5348, '▁네티즌': 5349, '숀': 5350, '켄': 5351, '넬': 5352, '▁도무지': 5353, '▁맛이': 5354, '▁탈출': 5355, '▁기가': 5356, '분만에': 5357, '▁폭발': 5358, '▁설정이': 5359, '▁판단': 5360, '하시길': 5361, '▁없게': 5362, '▁집중이': 5363, '▁거북': 5364, '▁공짜로': 5365, '▁보라': 5366, '이었던': 5367, '▁반담': 5368, '▁하는게': 5369, '▁됩니다': 5370, '▁그럴듯': 5371, '▁궁금해서': 5372, '▁같고': 5373, '▁본지': 5374, '▁재미있어': 5375, '▁이상해': 5376, '재밌는': 5377, '아까운': 5378, '아쉬웠': 5379, '▁인형': 5380, '▁정신병자': 5381, '물로': 5382, '분을': 5383, '▁기타': 5384, '신고': 5385, '▁알겠': 5386, '하지말고': 5387, '보소': 5388, '▁내일': 5389, '때문': 5390, '▁다운받': 5391, '▁어디가': 5392, '하기에': 5393, '애들이': 5394, '▁말자': 5395, '▁사람도': 5396, '▁따위': 5397, '보게되': 5398, '엄청': 5399, '같지만': 5400, '번에': 5401, '려다': 5402, '곳에서': 5403, '▁정도면': 5404, '▁오브': 5405, '▁이런영화는': 5406, '▁작품입니다': 5407, '▁갑니다': 5408, '모자': 5409, '략': 5410, '▁겁': 5411, '▁남기': 5412, '삭': 5413, '랙': 5414, '▁쓸데없는': 5415, '▁하정우': 5416, '▁흑백': 5417, '▁뭐하자는': 5418, '▁폭풍': 5419, '▁ᄏᄏᄏᄏᄏᄏᄏᄏ': 5420, '▁재개봉': 5421, '▁만화책': 5422, '▁2000': 5423, '않음': 5424, '▁만약': 5425, '▁담겨': 5426, '▁배경이': 5427, '▁영화라니': 5428, '▁하품': 5429, '▁괜찮았는데': 5430, '▁잔잔하게': 5431, '▁봐도봐도': 5432, '▁죽고': 5433, '▁쭉': 5434, '▁앞에': 5435, '여운이': 5436, '▁배우는': 5437, '티가': 5438, '▁뭣': 5439, '▁찾는': 5440, '▁하지원': 5441, '트로': 5442, '▁뒤에': 5443, '드립': 5444, '구리': 5445, '▁공간': 5446, '▁여자애': 5447, '기에는': 5448, '서야': 5449, 'th': 5450, '▁잊고': 5451, '것보다': 5452, '았어요': 5453, '▁가득한': 5454, '불쌍': 5455, '멋있': 5456, '꽃': 5457, '탑': 5458, '▁없냐': 5459, '▁부정': 5460, '▁인생이': 5461, '하지마': 5462, '▁사랑해': 5463, '아무리': 5464, '▁떼': 5465, '▁지루하기': 5466, '▁가고': 5467, '자고': 5468, '▁대신': 5469, '모르고': 5470, '만큼이나': 5471, '▁불안': 5472, '▁빅': 5473, '줄은': 5474, '뷰': 5475, '▁끌고': 5476, '▁왤케': 5477, '▁우뢰매': 5478, '닷': 5479, '▁늦게': 5480, '▁아놀드': 5481, '▁걱정': 5482, '덩어리': 5483, '었을까': 5484, '▁꿈꾸': 5485, '▁스릴도': 5486, '▁났': 5487, '▁환경': 5488, '▁적어도': 5489, '▁극복': 5490, '▁to': 5491, '▁무엇인가': 5492, '▁무겁': 5493, '▁짜증나고': 5494, '뭐냐': 5495, '▁소중함을': 5496, '▁관련': 5497, '▁진부': 5498, '▁히어로': 5499, '▁으리': 5500, '▁이름이': 5501, '▁평소': 5502, '햇는데': 5503, '하군': 5504, '씁쓸': 5505, '류영화': 5506, '나왓': 5507, '▁따뜻해': 5508, '▁신의': 5509, '▁김치': 5510, '▁있으': 5511, '▁유치해': 5512, '못하고': 5513, '▁테러': 5514, '▁결론은': 5515, '▁영상미가': 5516, '하거나': 5517, '▁놀랍': 5518, '▁전쟁의': 5519, '▁연출은': 5520, '▁아우': 5521, '▁찾아볼': 5522, '있지만': 5523, '▁링': 5524, '포인트': 5525, '뭘': 5526, '벤': 5527, 'CG': 5528, '비슷': 5529, '맞고': 5530, '▁가능한': 5531, '▁얘': 5532, '▁귀엽다': 5533, '▁박수': 5534, '열받': 5535, '잖': 5536, '▁여자는': 5537, '▁어울리지': 5538, '흡': 5539, '키드': 5540, '앉': 5541, '▁매니아': 5542, '랩': 5543, '갱': 5544, '랭': 5545, '▁오프닝': 5546, '뻥': 5547, '▁컨셉': 5548, '▁리얼리티': 5549, '▁달콤': 5550, '▁따라가': 5551, '▁평균': 5552, '▁명대사': 5553, '^^*': 5554, '▁각색': 5555, '▁사랑한다': 5556, '자들이': 5557, '▁빛을': 5558, '가면서': 5559, '▁만들었나': 5560, '비가': 5561, '자마자': 5562, '▁오랫만에': 5563, '▁내용전개': 5564, '발연기': 5565, '▁유럽': 5566, '▁데이': 5567, '~~!!': 5568, '▁정신없': 5569, '자들의': 5570, '▁유행': 5571, '▁유쾌하게': 5572, '있으면': 5573, '▁시대에': 5574, '▁좋다고': 5575, '▁평화': 5576, '▁초등학교': 5577, '▁않았지만': 5578, '▁손발': 5579, '~~^^': 5580, '▁아깝네': 5581, '▁담은': 5582, '▁봐야지': 5583, '글자': 5584, '어가는': 5585, '존나': 5586, '▁찍고': 5587, '-_-;': 5588, '▁화나': 5589, '▁케릭터': 5590, '▁유덕화': 5591, '▁소화': 5592, '▁볼만했다': 5593, '500': 5594, '▁아들이': 5595, '할수가': 5596, '▁탐': 5597, '▁재밋어요': 5598, '▁읽고': 5599, '▁허술한': 5600, '▁강렬': 5601, '휘': 5602, '렬': 5603, '▁답이': 5604, '늙': 5605, '멜': 5606, '▁일본은': 5607, '웃겨': 5608, '▁의상': 5609, '하는건지': 5610, '▁갓': 5611, '등록': 5612, '소름': 5613, '앞으로': 5614, '▁안봐도': 5615, '▁먹는': 5616, '기억이': 5617, '▁액션신': 5618, '에만': 5619, '▁읽어': 5620, '▁묻어': 5621, '▁파괴': 5622, '▁재미있는데': 5623, '뚝': 5624, '셉': 5625, '켰': 5626, '▁인터넷': 5627, '▁나레이션': 5628, '▁송강호': 5629, '▁자동차': 5630, '▁우려먹': 5631, '▁동시에': 5632, '▁보시면': 5633, '▁자극적인': 5634, '▁루즈': 5635, '줄알았는데': 5636, '▁서울': 5637, '▁포스터에': 5638, '▁거품': 5639, '외로': 5640, '▁살인마': 5641, '▁최고의영화': 5642, '▁사실을': 5643, '있던': 5644, '▁쪽': 5645, '▁하시': 5646, '▁보았는데': 5647, '▁마니': 5648, '▁넣어': 5649, '그러나': 5650, '▁녹아': 5651, '▁절정': 5652, '▁적당한': 5653, '▁의지': 5654, '하자면': 5655, '▁원조': 5656, '▁만난': 5657, '추격': 5658, '▁잼있음': 5659, '있어요': 5660, '▁사랑해요': 5661, '▁땅': 5662, '▁아니었다': 5663, '래도': 5664, '빠진': 5665, '▁기대없이': 5666, '▁받고': 5667, '▁황당한': 5668, '▁만들어서': 5669, '▁육': 5670, '▁갖다': 5671, '놨네': 5672, '특별': 5673, '돌이': 5674, '▁인간은': 5675, '해지고': 5676, '코믹': 5677, '잭': 5678, '낮은': 5679, '▁자아': 5680, '없을': 5681, '▁알았네': 5682, '할지': 5683, '▁재미없다고': 5684, '▁겨울': 5685, '▁믿기지': 5686, '▁안될': 5687, '▁분들이': 5688, '▁최소': 5689, '▁곰': 5690, '엽': 5691, '잖아요': 5692, '빗': 5693, '▁명불허전': 5694, '▁짐캐리': 5695, '걷': 5696, '웟': 5697, '▁가까운': 5698, '▁깡패': 5699, '▁뭥미': 5700, '▁첩보': 5701, '보느니': 5702, '마누라': 5703, '▁귀여움': 5704, '▁축구': 5705, '▁역량': 5706, '▁목소리가': 5707, '▁전반적으로': 5708, '왔어요': 5709, '▁돈내고': 5710, '▁믿고보는': 5711, '아이들': 5712, '것같은데': 5713, '▁떡': 5714, '▁일본의': 5715, '감독은': 5716, '▁난리': 5717, '세여': 5718, '▁고어': 5719, '▁뻔하': 5720, '▁형제': 5721, '▁오락': 5722, '▁탄탄하고': 5723, '▁답답함': 5724, '▁시작부터': 5725, '▁아깝네요': 5726, '스티': 5727, '▁한국판': 5728, '▁이끌어': 5729, '▁본건데': 5730, '▁어쩌면': 5731, '▁눈물나': 5732, '▁영화였음': 5733, '▁웃을': 5734, '▁이드라마': 5735, '▁왜곡': 5736, '▁놓치': 5737, '▁이보다': 5738, '▁좋을듯': 5739, '찾아': 5740, '델': 5741, '▁명연기': 5742, '▁예술영화': 5743, '▁포스터만': 5744, '▁사람들에게': 5745, '▁녹': 5746, '▁무섭고': 5747, '몬': 5748, '개인적으로': 5749, '꼽': 5750, '므': 5751, '▁등장인물들': 5752, '▁마지막회': 5753, '범죄': 5754, '스토리가': 5755, '▁일부': 5756, '바람': 5757, '그럼': 5758, '노답': 5759, '▁벨': 5760, '할줄': 5761, '윈': 5762, '쩐다': 5763, '행복': 5764, '이딴': 5765, '▁그립': 5766, '▁표현할': 5767, '벅': 5768, '껀': 5769, '똘': 5770, '몫': 5771, '썸': 5772, '▁내생애': 5773, '▁양아치': 5774, '▁정우성': 5775, '▁스포츠': 5776, '▁블랙코미디': 5777, '스텝': 5778, '▁은근히': 5779, '▁다시보고': 5780, '였지': 5781, '▁장난하냐': 5782, '져요': 5783, '▁소장': 5784, '▁만들어낸': 5785, '분동안': 5786, '▁기존': 5787, '▁담긴': 5788, '▁보게된': 5789, '▁어거지': 5790, '▁일본인': 5791, '▁사람이라면': 5792, '▁시나리오가': 5793, '▁굴': 5794, '▁재난': 5795, '▁액션과': 5796, '▁생각난다': 5797, '▁세번': 5798, '▁싱': 5799, '▁스토리전개': 5800, '▁친구랑': 5801, '▁알았음': 5802, '▁즐': 5803, '▁최소한': 5804, '▁강간': 5805, '▁아파': 5806, '▁한방': 5807, '▁전개와': 5808, '▁길이': 5809, '였을': 5810, '▁나오는데': 5811, '▁매력에': 5812, '▁생명': 5813, '▁그것이': 5814, '광고': 5815, '▁잔잔하면서': 5816, '▁싶었다': 5817, '편에서': 5818, '▁영화예요': 5819, '봣다': 5820, '▁느낌은': 5821, '▁듣': 5822, '겠는데': 5823, '같아': 5824, '▁:)': 5825, '▁찍는': 5826, ',,,,,,': 5827, '▁불가능': 5828, '소녀': 5829, '▁지겹': 5830, '상영': 5831, '스케': 5832, '▁팀': 5833, '재미없어': 5834, '멍': 5835, '섬': 5836, '▁보는거': 5837, '나오네': 5838, '▁봤는데도': 5839, '▁제목을': 5840, '▁동네': 5841, '심을': 5842, '꼈': 5843, '뭉': 5844, '▁깊게': 5845, '뱀': 5846, '▁혐오': 5847, '▁누군지': 5848, '▁헛웃음': 5849, '▁역겨운': 5850, '▁민폐': 5851, '▁죄송': 5852, '▁이것보단': 5853, 'al': 5854, '▁말아야': 5855, '안돼': 5856, '굳굳': 5857, '습니까': 5858, '▁여태': 5859, '▁그것을': 5860, '▁괜찮아': 5861, '▁이런류의': 5862, '▁P': 5863, '▁100%': 5864, '미친': 5865, '꺼면': 5866, '드만': 5867, '▁치유': 5868, '▁과장': 5869, '▁느낌이다': 5870, '▁영원한': 5871, '심이': 5872, '▁상관없': 5873, '팬이': 5874, '▁이번에': 5875, '보고있어요': 5876, '▁숙': 5877, '볼수있': 5878, '분들은': 5879, '천원': 5880, '▁사랑합니다': 5881, '겠어': 5882, '▁시점': 5883, '살이': 5884, '▁재밌다는': 5885, '▁되네요': 5886, '께요': 5887, '낚': 5888, '하실': 5889, '▁아동': 5890, '▁남성': 5891, '흑': 5892, '셔야': 5893, '느낌이': 5894, '▁거기다': 5895, '▁책으로': 5896, '▁떨어져': 5897, '여운': 5898, '새롭': 5899, '굳': 5900, '▁반전에': 5901, '▁진지한': 5902, '엇는데': 5903, '▁탓': 5904, '할수있는': 5905, '갖': 5906, '▁각자': 5907, '평론가': 5908, '이예요': 5909, '꿀': 5910, '갈수록': 5911, '에비해': 5912, '▁생에': 5913, '▁한국영화의': 5914, '▁시대의': 5915, '퀄': 5916, '▁아무생각없이': 5917, '▁웰메이드': 5918, '▁어두운': 5919, '▁호기심': 5920, '▁고뇌': 5921, '▁무섭지': 5922, '줄알았': 5923, '▁극단적': 5924, '▁즐길': 5925, '▁못보겠다': 5926, '▁고독': 5927, '답게': 5928, '▁이해불가': 5929, '▁ᅲᅲᅲᅲ': 5930, '▁상징': 5931, '나쁜': 5932, '▁잔잔하': 5933, '▁요새': 5934, '▁나무': 5935, '▁교훈도': 5936, '▁개똥': 5937, '▁억지감동': 5938, '▁좋지': 5939, '▁볼만합니다': 5940, '▁첨부터': 5941, '▁생각도': 5942, '▁무한': 5943, '▁천국': 5944, '▁옳': 5945, '▁한개도': 5946, '▁심한': 5947, '▁씹': 5948, '먹었': 5949, '▁적절한': 5950, '▁마지막엔': 5951, '▁울면서': 5952, '▁애매': 5953, '볼까': 5954, '▁허무한': 5955, '특집': 5956, '성과': 5957, '시간동안': 5958, '▁잠시': 5959, '▁드네요': 5960, '▁뜬금없는': 5961, '선수': 5962, '힘들': 5963, '러스': 5964, '되요': 5965, '▁뗄': 5966, '▁덤': 5967, '▁유치해서': 5968, '▁쩔어': 5969, '▁반영': 5970, '오래': 5971, '▁내용에': 5972, '▁미스': 5973, '자식': 5974, '▁나이가': 5975, '▁만들어주': 5976, '주고싶': 5977, '▁기적': 5978, '▁아프다': 5979, '▁볼려고': 5980, '▁진한': 5981, '▁명작은': 5982, '없나': 5983, '나름': 5984, '봐야지': 5985, '찰': 5986, '▁만드네': 5987, '스럽지': 5988, '귀엽': 5989, '▁작품이라': 5990, '▁다신': 5991, '▁초반부': 5992, '▁김정': 5993, '▁전화': 5994, '선택': 5995, '▁찾아서': 5996, '▁신인': 5997, '였네요': 5998, '으시': 5999, '리스트': 6000, '렀': 6001, '쯔': 6002, '덴': 6003, '▁류승범': 6004, '▁컴퓨터': 6005, '랴': 6006, '듦': 6007, '▁놀랐다': 6008, '▁제시카': 6009, '▁배급사': 6010, '▁풋풋한': 6011, '▁한다는': 6012, '▁짜릿': 6013, '▁좋았을텐데': 6014, '▁빛나는': 6015, '▁앉아': 6016, '▁줘야': 6017, '▁라스트': 6018, '▁장애인': 6019, '답니다': 6020, '▁절망': 6021, '▁전체적인': 6022, '달라': 6023, '사실': 6024, '긴다': 6025, 'ᄏᄏᄏᄏᄏᄏᄏᄏᄏᄏᄏᄏ': 6026, '▁싶었던': 6027, '▁괜찮았음': 6028, '▁있었으면': 6029, '주시': 6030, '처리': 6031, '해놓고': 6032, '시대에': 6033, '▁실감': 6034, '므로': 6035, '어리': 6036, '아직도': 6037, '당하는': 6038, 'ᄏᄏᄏᄏᄏᄏ': 6039, '하시고': 6040, '타고': 6041, '▁부족함': 6042, 'ck': 6043, '▁되는데': 6044, '에다가': 6045, '아니면': 6046, '▁액': 6047, '▁본듯': 6048, '▁것에': 6049, '▁버려': 6050, '터짐': 6051, '▁추천하고': 6052, '▁매미': 6053, '▁소재의': 6054, '▁세월': 6055, '쁜': 6056, '▁벗어나': 6057, '▁것만': 6058, '빼': 6059, '▁밤에': 6060, '▁않은데': 6061, '너무너무': 6062, '▁정신병': 6063, '▁괜찮고': 6064, '▁배경으로': 6065, '▁ᄃᄃᄃ': 6066, '▁벗어': 6067, '▁아무도': 6068, '브리': 6069, '것같아': 6070, '▁만났': 6071, '▁미국의': 6072, '▁장면들이': 6073, '▁백인': 6074, 'TV': 6075, '코메디': 6076, '▁시간에': 6077, '▁같지': 6078, '닫': 6079, '윌': 6080, '닭': 6081, '뺏': 6082, '▁빨갱이': 6083, '쟈': 6084, '▁드디어': 6085, '▁라이언': 6086, '▁엑소': 6087, '▁이도저도': 6088, '▁러브라인': 6089, '▁쓸쓸': 6090, '▁흥미로웠': 6091, '▁왠만한': 6092, '▁돼지': 6093, '▁향수': 6094, '무엇': 6095, '재미있어요': 6096, '▁그림체': 6097, '▁여친': 6098, '▁대표': 6099, '▁센스': 6100, '▁아만다': 6101, '작이라': 6102, '50': 6103, '▁가족의': 6104, '▁모르지만': 6105, '▁말하려는': 6106, '▁살다': 6107, '편집': 6108, '▁내리': 6109, '▁다행이다': 6110, '센스': 6111, '▁의도가': 6112, '▁놀란': 6113, '▁연출력이': 6114, '했을까': 6115, '▁액션을': 6116, '었지': 6117, '▁아진짜': 6118, '▁자극적': 6119, '복수': 6120, '▁연기하는': 6121, '▁널': 6122, '▁감독과': 6123, '지못한': 6124, '▁그렇지만': 6125, '▁괜찮게': 6126, '으신': 6127, '지루하고': 6128, '▁단편': 6129, '좋네요': 6130, '▁빠져서': 6131, '▁별하나': 6132, '안된다': 6133, '가며': 6134, '당시엔': 6135, '▁때리': 6136, '해줄': 6137, '▁보고나니': 6138, '▁편안': 6139, '귀신': 6140, '다큐': 6141, '▁작가의': 6142, '놈들은': 6143, '▁그리워': 6144, '▁잘한다': 6145, '▁인류': 6146, '->': 6147, '▁소개': 6148, '▁잘만들었다': 6149, '효과': 6150, 'un': 6151, '▁여신': 6152, '▁없는게': 6153, '▁말아먹': 6154, '앞': 6155, '살인': 6156, '▁빠지는': 6157, '▁대사들': 6158, '▁옆에': 6159, '없구': 6160, '▁인상적인': 6161, '▁유지': 6162, '▁파리': 6163, '는거지': 6164, '맹': 6165, '그렇게': 6166, '측': 6167, '▁날아': 6168, '▁자기가': 6169, '▁재밋음': 6170, '칙': 6171, '덩': 6172, '욤': 6173, '룰': 6174, '쉐': 6175, '▁브루스': 6176, '▁이병헌': 6177, '▁화장실': 6178, 'ᅢ': 6179, '▁베드신': 6180, '▁삭제': 6181, '▁배꼽': 6182, '▁부탁': 6183, '월드': 6184, '▁동영상': 6185, '▁창피': 6186, '▁버리고': 6187, '▁만들었을까': 6188, '아아아': 6189, '같아요': 6190, '▁던져': 6191, '▁안본다': 6192, '▁재미있었습니다': 6193, '▁드림': 6194, '연기를': 6195, '했을때': 6196, '▁진지하게': 6197, '▁가족애': 6198, '전혀': 6199, '▁나오네': 6200, '▁조금은': 6201, '▁장난아니': 6202, '▁안보는게': 6203, '▁보았던': 6204, '▁재밌었던': 6205, '순위': 6206, '▁나을듯': 6207, '▁깔끔한': 6208, '▁앞서': 6209, '▁군인': 6210, '하기엔': 6211, '▁요소가': 6212, '▁생기': 6213, '아까워': 6214, '▁ᄡ': 6215, '▁정도는': 6216, '▁졸았': 6217, '소재와': 6218, '▁인생은': 6219, '▁공감도': 6220, '형제': 6221, '것같네요': 6222, '보신분들': 6223, '▁뭐임': 6224, '▁있기': 6225, '▁보라고': 6226, '보임': 6227, '보내': 6228, '▁선사': 6229, '▁빠졌': 6230, '▁시키': 6231, '▁않았던': 6232, '편까지': 6233, '았습니다': 6234, '▁살았': 6235, '▁정도가': 6236, '▁끝나서': 6237, '장난치': 6238, '▁ᄒᄃᄃ': 6239, '▁품': 6240, '거라고': 6241, '▁빼곤': 6242, '▁사랑하고': 6243, '▁마리': 6244, '▁도시': 6245, '▁대학': 6246, '해줘서': 6247, '외엔': 6248, '▁EBS': 6249, '▁언젠가': 6250, '▁흡입력': 6251, '홈': 6252, '▁하이틴': 6253, '▁무거운': 6254, '▁박보영': 6255, '차승원': 6256, '..............': 6257, '▁낭만': 6258, '▁생각해보게': 6259, '▁분량': 6260, '▁쪼': 6261, '▁누나': 6262, '▁개콘': 6263, '합시다': 6264, '밖': 6265, '▁미안하다': 6266, '▁좋앗': 6267, '▁맞나': 6268, '곳이': 6269, '▁극중': 6270, '▁챙겨': 6271, '▁거지같은': 6272, '물론': 6273, '▁같았다': 6274, '▁쏘': 6275, '보네요': 6276, '▁내돈': 6277, '▁신선함': 6278, '였다면': 6279, '▁사랑스럽다': 6280, '회가': 6281, '맘에': 6282, '같지': 6283, '애들은': 6284, '라인': 6285, '▁들어간': 6286, '▁시작해서': 6287, '▁탄탄': 6288, '▁뜬금없이': 6289, '▁기대하지': 6290, '자기': 6291, '▁소름돋': 6292, '▁보겠다': 6293, '▁땀': 6294, '▁확실': 6295, '▁14': 6296, '뭐지': 6297, '▁것들이': 6298, '스릴': 6299, '년대에': 6300, '▁캐릭터들이': 6301, '▁하나님': 6302, '▁드라마입니다': 6303, '▁전문': 6304, '▁깎': 6305, '▁말고는': 6306, '싫다': 6307, '시키고': 6308, '쟁': 6309, '더군': 6310, '▁가시': 6311, '광구': 6312, '▁드러': 6313, '셜': 6314, '。': 6315, '덮': 6316, '셧': 6317, '툭': 6318, '헉': 6319, '▁박중훈': 6320, '▁신하균': 6321, '곽': 6322, '렐': 6323, '뤄': 6324, '쉴': 6325, '▁거부감': 6326, '▁둘째치고': 6327, '▁블루': 6328, '▁어설프다': 6329, '▁예측': 6330, '▁비행기': 6331, '▁도둑': 6332, '▁잃은': 6333, '▁2012': 6334, '▁따름': 6335, '▁넘어가': 6336, '▁은근': 6337, '▁낫겠다': 6338, '▁마시길': 6339, '▁내용의': 6340, '▁흘러가는': 6341, '으러': 6342, '▁러브': 6343, '▁재미있었음': 6344, '▁망할': 6345, '▁만들려': 6346, '▁답답하다': 6347, '보고나서': 6348, '역할': 6349, '▁영원': 6350, '▁이거보다': 6351, '▁멋지게': 6352, '▁언제까지': 6353, '▁텐데': 6354, 'am': 6355, '▁순수하고': 6356, '▁첨이다': 6357, '▁숨은': 6358, '▁어이없다': 6359, '▁조아': 6360, '▁했더니': 6361, '▁가히': 6362, '▁실망스럽': 6363, '▁기대이하': 6364, '▁맡은': 6365, '맞음': 6366, '▁주지': 6367, '▁뛰어넘는': 6368, 've': 6369, '▁여인': 6370, '하겠습니다': 6371, '▁미국식': 6372, '▁몰아': 6373, '▁소장하고': 6374, '▁따뜻': 6375, '▁짜증나게': 6376, '▁요즘은': 6377, '▁화끈': 6378, '▁나와야': 6379, '▁절로': 6380, 'se': 6381, '▁및': 6382, '▁씁쓸하': 6383, '▁불쌍하': 6384, '▁최고네요': 6385, '극히': 6386, '▁조연들': 6387, '▁여배우들': 6388, '▁다시보기': 6389, '▁나올때': 6390, '공주': 6391, '▁당연': 6392, '지루해': 6393, '갠': 6394, '램': 6395, '븐': 6396, '▁아름다워': 6397, '킴': 6398, '▁임창정': 6399, '▁명복을': 6400, '▁비호감': 6401, '▁칭찬': 6402, '▁워낙': 6403, '▁아쉬울': 6404, '스코': 6405, '▁오글오글': 6406, '잊지못할': 6407, '▁향연': 6408, '▁더러워': 6409, '▁뭐고': 6410, '하나하나가': 6411, '▁부활': 6412, '▁엄청나게': 6413, '▁개그맨': 6414, '▁중학생': 6415, '▁혼란': 6416, '립니다': 6417, '▁좋겠습니다': 6418, '경찰': 6419, '훌륭': 6420, '▁마음속': 6421, '뻔했다': 6422, '주제': 6423, '당신': 6424, '▁사람들을': 6425, '결국': 6426, '꺼야': 6427, '▁감명': 6428, '▁잃었': 6429, '90': 6430, '▁부산': 6431, '▁역겹다': 6432, 'ᄏᄏᄏᄏᄏᄏᄏ': 6433, '생각을': 6434, '▁지났': 6435, '돈주고': 6436, '▁캐릭터를': 6437, '▁H': 6438, '도좋고': 6439, '▁극장에': 6440, '▁활': 6441, '▁원하는': 6442, '실력': 6443, '▁연상': 6444, '수밖에': 6445, '중국': 6446, 'ed': 6447, '▁것인가': 6448, '인걸': 6449, '▁오지': 6450, '줘야지': 6451, '▁새벽': 6452, '여배우': 6453, '▁싶어서': 6454, '▁귀여': 6455, '후반': 6456, '▁작위적': 6457, '▁역사에': 6458, '▁됐다': 6459, '▁어디로': 6460, '어야지': 6461, '▁영상도': 6462, '▁의문이': 6463, '▁속이': 6464, '▁건가': 6465, '▁연기력에': 6466, '▁입장': 6467, '▁무대': 6468, '▁참나': 6469, '▁J': 6470, '풋': 6471, '맺': 6472, '켓': 6473, '▁디카프리오': 6474, '밧': 6475, '팩': 6476, '▁스타워즈': 6477, '▁왕조현': 6478, '▁도데체': 6479, '▁스타뎀': 6480, '▁무간도': 6481, '▁나타나': 6482, '잊': 6483, '▁격투': 6484, '▁그려낸': 6485, '▁고딩': 6486, '▁잠을': 6487, '▁로빈': 6488, '▁시도는': 6489, '▁철저': 6490, '재미있다': 6491, '▁어우': 6492, '뉴': 6493, '맞아': 6494, '프로그램': 6495, '▁뭐하는': 6496, '▁꼭보세요': 6497, '▁오글거리는': 6498, '▁귀여워요': 6499, '▁그들이': 6500, '볼수': 6501, '겼다': 6502, '▁재미있었는데': 6503, '▁소통': 6504, '▁당신이': 6505, '▁어이없음': 6506, '▁케미': 6507, '▁독특하고': 6508, '이었는데': 6509, '점만점에': 6510, '▁읽는': 6511, '▁있으나': 6512, '점부터': 6513, '▁끝도': 6514, '▁타란티노': 6515, '▁감동적이네요': 6516, '▁볼것': 6517, '▁말투': 6518, '▁넘넘': 6519, '▁E': 6520, '시킬': 6521, '▁한번더': 6522, '▁웃기는': 6523, '최고다': 6524, '하고싶다': 6525, '싫': 6526, '거같아': 6527, '본적': 6528, '못함': 6529, 'ne': 6530, '하하하하': 6531, '▁형편없는': 6532, '▁뭐라고': 6533, '▁살아야': 6534, '안하고': 6535, '▁볼만했': 6536, '▁한시간': 6537, '▁쩌는': 6538, '▁빈약': 6539, '▁있긴': 6540, '▁코믹영화': 6541, '텐': 6542, '▁구분': 6543, '이랄까': 6544, '구먼': 6545, '▁상어': 6546, '▁범죄자': 6547, '으면서도': 6548, '▁충분한': 6549, '~~~~~': 6550, '틀리': 6551, '▁이상하다': 6552, '▁막판': 6553, '▁있었고': 6554, '게만드는': 6555, '있네요': 6556, '▁정체': 6557, '▁부담': 6558, '▁두시간': 6559, '▁웃는': 6560, '이어서': 6561, '▁안에': 6562, '▁힘을': 6563, '버렸네': 6564, '▁뒤죽박죽': 6565, '▁소름끼치는': 6566, '▁시종일관': 6567, '▁알파치노': 6568, '쌓': 6569, '얄': 6570, '혔': 6571, '퉤': 6572, '▁괜찬': 6573, '▁아기자기': 6574, '▁여러모로': 6575, '▁일주일': 6576, '▁킬러': 6577, '▁총체적': 6578, '▁감명깊게': 6579, '▁스파이': 6580, 'com': 6581, '▁케빈': 6582, '▁묘한': 6583, '못보겠': 6584, '▁말그대로': 6585, '▁살렸다': 6586, '▁에효': 6587, '는것을': 6588, '▁속았다': 6589, '14': 6590, '▁가짜': 6591, '▁&': 6592, '▁이별': 6593, '▁최후': 6594, '시청률': 6595, '핵': 6596, '▁재미없었': 6597, '▁미스터리': 6598, '나왔으면': 6599, '▁글을': 6600, '▁작화': 6601, '▁입장에서': 6602, '▁최고라고': 6603, '싶은데': 6604, '▁말인가': 6605, '것인가': 6606, '▁완벽하다': 6607, '▁공유': 6608, '▁시기': 6609, '▁이제는': 6610, '없지': 6611, '▁아이들에게': 6612, '▁영화인줄': 6613, '지루하다': 6614, '없었': 6615, '느냐': 6616, '겨울': 6617, '▁말밖에': 6618, '이후로': 6619, '▁방해': 6620, '▁다시금': 6621, '▁이딴영화': 6622, '▁삶과': 6623, '▁분장': 6624, '▁건질': 6625, '▁만화영화': 6626, '▁ᄒᄒᄒᄒ': 6627, '▁지키': 6628, 'ᄃᄃᄃ': 6629, '▁R': 6630, '성우': 6631, '▁전편보다': 6632, '▁싫어하는': 6633, '~~~~~~': 6634, '▁났다': 6635, '▁별로였다': 6636, '▁소름돋는': 6637, '▁뉴': 6638, '▁흉내': 6639, '외에는': 6640, '▁땡': 6641, '▁최악의영화': 6642, '▁아무튼': 6643, '▁만들다': 6644, '둑': 6645, '바로': 6646, '▁비쥬얼': 6647, '됫': 6648, '렛': 6649, '캡': 6650, '▁아마추어': 6651, '▁섬세한': 6652, '▁펼쳐': 6653, '▁김수현': 6654, '▁닥치고': 6655, '▁한효주': 6656, '▁바탕으로': 6657, '▁엽기': 6658, '▁혁명': 6659, '▁섬세하': 6660, '▁난해한': 6661, '▁오래전에': 6662, '▁직업': 6663, '▁억지스럽고': 6664, '하더니': 6665, '▁말씀': 6666, '▁충분하다': 6667, '▁모욕': 6668, '▁울었어요': 6669, '▁믿음': 6670, '빼곤': 6671, '땡': 6672, '그나마': 6673, '▁줄이야': 6674, '판타지': 6675, '였구나': 6676, '▁다운받아서': 6677, '▁역사상': 6678, '▁충격적인': 6679, '▁아니잖아': 6680, '▁단점': 6681, 'tv': 6682, '▁모르겠네': 6683, '▁사람에게': 6684, '허무': 6685, '▁산만하고': 6686, '▁사랑스럽고': 6687, '▁미녀': 6688, '▁안나온다': 6689, '▁사회적': 6690, '주기도': 6691, '▁학생': 6692, '▁당장': 6693, '었구나': 6694, '▁듣기': 6695, '여주인공': 6696, '▁우선': 6697, '▁받았다': 6698, '▁개봉당시': 6699, '거에요': 6700, '▁준비': 6701, '▁당황': 6702, '▁위트': 6703, '▁불과': 6704, '걸린': 6705, '▁철학적': 6706, '았으면': 6707, '▁주려': 6708, '▁자고': 6709, '▁슬픈영화': 6710, '지않게': 6711, '인들의': 6712, '▁살아있는': 6713, '▁프랑스영화': 6714, '▁스릴러물': 6715, '▁똑같이': 6716, '▁영화라서': 6717, '▁비교해': 6718, '▁보지마셈': 6719, '▁보아도': 6720, '▁재미없네요': 6721, '!!!!!!!!': 6722, '▁세상에서': 6723, '▁또보고싶': 6724, '버스': 6725, 'ce': 6726, '야말로': 6727, '▁선동': 6728, '구려': 6729, '▁미쳐': 6730, '▁긴장감을': 6731, '아니고': 6732, '멋잇': 6733, '▁노인': 6734, '▁미소가': 6735, '▁빕니다': 6736, '덧': 6737, '▁마찬가지': 6738, '▁강동원': 6739, '▁Good': 6740, '▁섬뜩': 6741, '▁미스캐스팅': 6742, '▁두고두고': 6743, '▁픽사': 6744, '▁풀어낸': 6745, '▁보는것': 6746, '▁돈아까워': 6747, '▁가야': 6748, '▁감동적이에요': 6749, '▁좋으나': 6750, '▁시험': 6751, '▁모자라': 6752, '▁승부': 6753, '▁로망': 6754, '▁뻔한스토리': 6755, '▁보여줄': 6756, '▁못하겠다': 6757, '▁다른영화': 6758, '▁늙어': 6759, '▁한심하다': 6760, '▁했을까': 6761, '해야하나': 6762, '되길': 6763, '▁매번': 6764, '▁조낸': 6765, '▁흥분': 6766, '▁당신의': 6767, '▁보고있는데': 6768, '얼마나': 6769, '떼': 6770, '▁조금만': 6771, '우리나라': 6772, '예술': 6773, '있었는데': 6774, '샘': 6775, '어떤': 6776, '병맛': 6777, '▁어쩌다': 6778, '까봐': 6779, '▁고마': 6780, '▁부자': 6781, '스틴': 6782, '각본': 6783, '형사': 6784, '▁팬들': 6785, '▁movie': 6786, '▁스파이더맨': 6787, '속으로': 6788, '▁잼있네요': 6789, '▁예술이': 6790, '▁소유': 6791, '▁무서움': 6792, '▁올라가': 6793, '▁만들어라': 6794, '▁좋아하지만': 6795, '자꾸': 6796, '▁들게': 6797, '▁왔습니다': 6798, '▁뭐여': 6799, '▁낮은지': 6800, '▁심하다': 6801, '▁하다니': 6802, '▁이야': 6803, '투성이': 6804, '▁끝을': 6805, 'ic': 6806, '▁연기잘하': 6807, '우드': 6808, '▁살리지': 6809, '▁대부': 6810, '▁그런거': 6811, '▁나머지는': 6812, '▁뻔하다': 6813, '▁이해도': 6814, '▁알게되': 6815, '▁느껴지지': 6816, '▁이것보다': 6817, '아까운영화': 6818, '▁잘생겼': 6819, '▁하하': 6820, '판에': 6821, '기술': 6822, '점주기도': 6823, '하는듯': 6824, '▁후하게': 6825, '▁욕먹': 6826, '▁실사': 6827, '▁하드': 6828, '괜': 6829, '싹': 6830, '그대로': 6831, 'ᅩ': 6832, '▁캐릭': 6833, '퀸': 6834, '솜': 6835, '▁엔딩크레딧': 6836, '▁유치찬란': 6837, '쏴': 6838, '오랫동안': 6839, '▁클래식': 6840, '▁납득': 6841, '▁원숭이': 6842, '어울림': 6843, '생겨서': 6844, '▁떡밥': 6845, '비추': 6846, '▁극혐': 6847, '▁그럴싸': 6848, '▁레옹': 6849, '▁민족': 6850, '▁쉬운': 6851, '▁방향': 6852, '행위': 6853, '▁고문': 6854, '▁지옥': 6855, '▁장난하나': 6856, '▁웃었다': 6857, '▁싶습니다': 6858, '▁중년': 6859, '▁비록': 6860, '▁남아있': 6861, '판을': 6862, '탓': 6863, '폴': 6864, '줍니다': 6865, '▁몬': 6866, '거보고': 6867, '댓글': 6868, '▁망쳐놓': 6869, 'ost': 6870, '났음': 6871, 'is': 6872, '▁멋져': 6873, '▁우린': 6874, '▁나열': 6875, '점이나': 6876, '▁조잡한': 6877, '저런': 6878, '▁아까워서': 6879, '▁화질': 6880, '▁현실은': 6881, '▁무섭게': 6882, '▁관심이': 6883, '▁만들어졌': 6884, '▁쿨': 6885, '▁있었음': 6886, '▁아이유': 6887, '▁귀여웠': 6888, '▁나음': 6889, '버린다': 6890, '▁믿어': 6891, '▁행복하게': 6892, '미화': 6893, '영활': 6894, '▁구성도': 6895, '나올때': 6896, '▁찾기': 6897, '▁한가지': 6898, 'il': 6899, '▁세월이': 6900, '▁잔인함': 6901, '▁천사': 6902, '▁끝날': 6903, '▁is': 6904, '▁넘어서': 6905, '뻔함': 6906, '믿고': 6907, '더라고요': 6908, '그저': 6909, '^^;': 6910, '▁장진': 6911, '재밋다': 6912, '▁되야': 6913, '돌려': 6914, '닮': 6915, '륜': 6916, '▁안나오는': 6917, '▁마시': 6918, '▁같았': 6919, '멈': 6920, '핫': 6921, '팽': 6922, '▁즐거움': 6923, '왈': 6924, '츄': 6925, '뜸': 6926, '▁잔잔함': 6927, '▁머릿속': 6928, '드려요': 6929, '▁ᄌᄂ': 6930, '▁온갖': 6931, '▁니콜라스': 6932, '▁상큼': 6933, '▁인생영화': 6934, '▁맞다': 6935, '▁4.44': 6936, '▁돌아보게': 6937, '페이스': 6938, '▁재앙': 6939, '▁예수': 6940, '다시보고싶': 6941, '봣어요': 6942, '▁아쉬워요': 6943, '▁태국': 6944, '▁세계관': 6945, '▁권력': 6946, '▁느껴질': 6947, '▁재밌게봤어요': 6948, '▁의도는': 6949, '분짜리': 6950, '▁괜찮았던': 6951, 'us': 6952, '재밌고': 6953, '만드나': 6954, '▁자연스럽게': 6955, '▁들어서': 6956, '살때': 6957, '▁될수': 6958, '▁재방': 6959, '▁영화라지만': 6960, '▁한동안': 6961, '▁이만한': 6962, '▁괜찮네요': 6963, '▁알리': 6964, '죽이고': 6965, '내려': 6966, '낭비': 6967, '▁마냥': 6968, '▁보게되는': 6969, '제일': 6970, '로맨스': 6971, '▁언어': 6972, '뒤에': 6973, '것인지': 6974, '현실적': 6975, '▁눈으로': 6976, '마저도': 6977, '누님': 6978, '▁커서': 6979, '▁외국인': 6980, '줘요': 6981, '▁웃겼다': 6982, '▁이거보단': 6983, '보길': 6984, '▁엘리': 6985, '하더라도': 6986, '달라고': 6987, '▁학생들': 6988, '▁진부하': 6989, '로서는': 6990, '충격': 6991, '▁해준다': 6992, '▁살아남': 6993, '▁깜': 6994, '하길래': 6995, '그런데': 6996, '본거': 6997, '▁일반인': 6998, '주었다': 6999, '될까': 7000, '스턴': 7001, '▁원작과': 7002, '▁캐리': 7003, '하러': 7004, '▁완성': 7005, '▁나오네요': 7006, '치기': 7007, '결말이': 7008, '▁눈치': 7009, '▁별거': 7010, '▁배우분들': 7011, '▁많네': 7012, '감명깊': 7013, '렴': 7014, '☆': 7015, '▁고등학생': 7016, '▁안타까움': 7017, '잣': 7018, '짙': 7019, '▁감성팔이': 7020, '▁김혜수': 7021, '▁피아노': 7022, '▁치밀하': 7023, '▁파격적': 7024, '▁방황': 7025, '▁아니라면': 7026, '시끄러': 7027, '▁바란다': 7028, '졌음': 7029, '▁자랑': 7030, '▁얻어': 7031, '▁후반부에': 7032, '▁개꿀잼': 7033, '▁남기는': 7034, 'ᄀᄀ': 7035, '답다': 7036, '▁제작비가': 7037, 'sh': 7038, 'ha': 7039, '▁전기': 7040, '▁하기엔': 7041, '간만에': 7042, '방에서': 7043, '▁신고': 7044, '보려고': 7045, '만족': 7046, '▁도와': 7047, '▁기발한': 7048, '▁봐주': 7049, '▁오그라들': 7050, '잼씀': 7051, '▁느껴졌다': 7052, '▁채워': 7053, '▁공주': 7054, '애니메이션': 7055, '▁나왔던': 7056, '좀비': 7057, '결혼': 7058, '들끼리': 7059, '▁필요한가': 7060, '구역': 7061, '▁느끼고': 7062, '바닥': 7063, '긴했지만': 7064, 'he': 7065, '▁빠져들게': 7066, '피디': 7067, '▁신화': 7068, '어쩌': 7069, '하였다': 7070, '▁뛰어넘': 7071, '빠짐': 7072, '▁삐': 7073, '▁짱구': 7074, '싶네요': 7075, '▁발음': 7076, '검사': 7077, '▁잼있는': 7078, '▁평을': 7079, '▁없던': 7080, '▁가르': 7081, '▁잠들': 7082, '진행': 7083, '국민': 7084, '▁알려주는': 7085, '하하': 7086, '▁바닥': 7087, '▁낚인': 7088, '▁알아야': 7089, '▁짤': 7090, '▁자연스럽': 7091, '▁나오기': 7092, '▁실망이다': 7093, '▁관객이': 7094, '보려': 7095, 'ch': 7096, '▁두명': 7097, '▁남는게': 7098, '▁제작자': 7099, '제국': 7100, '▁무엇이': 7101, '▁킬링': 7102, '팝': 7103, '쭈': 7104, '▁뒤늦게': 7105, '▁어정쩡': 7106, '띠': 7107, '랏': 7108, '뻑': 7109, '▁짬뽕': 7110, '▁애초에': 7111, '▁오그라드는': 7112, '▁전성기': 7113, '▁로맨틱코미디': 7114, '▁프레': 7115, '▁멋짐': 7116, '▁자연스러운': 7117, '▁챙겨보': 7118, '동화': 7119, '▁닮았': 7120, 'vs': 7121, '흑흑': 7122, '▁사이코': 7123, '▁앞에서': 7124, '▁감동적입니다': 7125, '▁고증': 7126, '지않는다': 7127, 'la': 7128, '▁되었습니다': 7129, '▁멋있고': 7130, '▁않으': 7131, '▁웃음을': 7132, '▁옛날영화': 7133, '▁재밋엇': 7134, '프라': 7135, '▁영화보다가': 7136, '▁또라이': 7137, '학원': 7138, 'id': 7139, '▁담고': 7140, '쩝': 7141, '덕분에': 7142, '▁못봐주겠': 7143, '왠': 7144, '▁밋밋한': 7145, '▁화끈한': 7146, '놈은': 7147, '▁낮네요': 7148, '▁역작': 7149, '▁예고': 7150, '▁막상': 7151, '▁답답해': 7152, '치면': 7153, '보지마라': 7154, '올려': 7155, '할수없는': 7156, '것들이': 7157, '수작': 7158, '보러': 7159, '▁티비로': 7160, '재밋음': 7161, '▁부족하고': 7162, '억지스럽': 7163, '▁본격': 7164, '했어도': 7165, '▁재밋는': 7166, '거든': 7167, '떨어지': 7168, '안되고': 7169, '▁무협영화': 7170, '보던': 7171, '▁전율': 7172, '▁폼': 7173, '▁짜증났': 7174, '좋은데': 7175, '하지않고': 7176, '분정도': 7177, '▁열라': 7178, '삼류': 7179, '▁추가': 7180, '▁대박이다': 7181, '▁독립': 7182, '▁제목에': 7183, '▁아무나': 7184, '▁허허': 7185, '부리': 7186, '▁받아야': 7187, '끝나고': 7188, '뎀': 7189, '아카데미': 7190, '쩍': 7191, '▁시간때우기': 7192, '▁크레딧': 7193, '꽁': 7194, '뚫': 7195, '▁세련된': 7196, '▁엄정화': 7197, '▁한석규': 7198, '▁스페인': 7199, '▁완젼': 7200, '누구': 7201, '▁늙은': 7202, '▁흘렸': 7203, '▁바라는': 7204, '▁찬양': 7205, '▁억지스런': 7206, '▁먹칠': 7207, '▁짱이다': 7208, '▁간직': 7209, '▁에라이': 7210, '▁듣는': 7211, '▁브레': 7212, '▁정리': 7213, '▁불쌍해': 7214, '▁환장': 7215, '▁니가': 7216, '▁멋져요': 7217, '▁처음본다': 7218, '▁복선': 7219, '깐': 7220, '▁빠질': 7221, '▁여기에': 7222, '▁재밌었습니다': 7223, '▁채우': 7224, '▁의미있는': 7225, '▁거짓': 7226, 'ter': 7227, '▁있겠지만': 7228, '▁부인': 7229, '▁당연한': 7230, '▁봐줄만': 7231, '▁느낀다': 7232, '▁최고에요': 7233, '▁주온': 7234, '▁모방': 7235, '▁절대로': 7236, '▁성인이': 7237, '▁않습니다': 7238, '▁웃겨서': 7239, '▁얘기를': 7240, '▁오해': 7241, '▁다가오': 7242, '▁만들었으면': 7243, '멀': 7244, '▁의해': 7245, '첫': 7246, '▁정체성': 7247, '초딩': 7248, '▁편하게': 7249, '▁점에서': 7250, '철학': 7251, '▁힘들어': 7252, '폭력': 7253, '▁니네': 7254, '남주': 7255, '▁영상은': 7256, '▁안되네': 7257, '▁미스테리': 7258, '▁현실적이고': 7259, '▁커버': 7260, '▁본능': 7261, '▁무식': 7262, '▁높이': 7263, '▁17': 7264, '▁감독에게': 7265, '짓을': 7266, '예전': 7267, '▁상업영화': 7268, '▁꿈과': 7269, '내리': 7270, '지마세요': 7271, '▁지경': 7272, '▁아까웠': 7273, '▁높지': 7274, '▁그이상': 7275, '▁정부': 7276, '▁글고': 7277, '조아': 7278, '하든': 7279, '▁즐겨': 7280, '▁안가는': 7281, '마음이': 7282, '크리': 7283, '▁아이를': 7284, '▁역사적': 7285, '호러': 7286, '어설프': 7287, '▁일깨워': 7288, '혐': 7289, '냄': 7290, '썰': 7291, 'ᄐ': 7292, '▁포켓몬': 7293, '▁호불호가': 7294, '뜯': 7295, '▁그냥저냥': 7296, '쇄': 7297, '****': 7298, '▁설경구': 7299, '▁나루토': 7300, '▁원피스': 7301, '▁후속편': 7302, '▁데이빗': 7303, '하기에는': 7304, '▁귀찮': 7305, '▁호흡': 7306, '어지럽': 7307, '▁공룡': 7308, '▁생존': 7309, '것같음': 7310, '▁시골': 7311, '▁개인적인': 7312, '▁초반엔': 7313, '실화': 7314, '▁안감': 7315, '차원': 7316, '▁심장이': 7317, '지르는': 7318, '▁설정은': 7319, '줄알고': 7320, '▁감정선': 7321, '▁가족과': 7322, '▁마블': 7323, '▁시청자들': 7324, '▁강추합니다': 7325, '▁성형': 7326, '▁극본': 7327, '▁러닝타임이': 7328, '▁이런식으로': 7329, '▁미학': 7330, '▁스포': 7331, '▁시체': 7332, '학년때': 7333, '▁기대된다': 7334, '져야': 7335, '▁않아요': 7336, '어른': 7337, '회부터': 7338, '??????': 7339, '▁쓰러': 7340, '점주고': 7341, '▁싶음': 7342, '▁편인데': 7343, '▁갖게': 7344, '▁물어': 7345, '▁16': 7346, '▁제대로된': 7347, '옛날': 7348, '갑자기': 7349, '▁최고최고': 7350, '▁기대했던': 7351, '▁상처를': 7352, '해가는': 7353, '에휴': 7354, '▁내취향': 7355, '▁진부하다': 7356, '▁취향이': 7357, '▁안보면': 7358, '▁첨으로': 7359, '좋아하는데': 7360, '아직': 7361, '말이필요없': 7362, '▁남아있는': 7363, '▁과정이': 7364, '겠는가': 7365, '▁흔하': 7366, 'ver': 7367, '남긴다': 7368, '▁해외': 7369, '같애': 7370, '앞에서': 7371, '졌으면': 7372, '할정도로': 7373, '▁않으면': 7374, '할려고': 7375, 'ᅲᅲᅲᅲᅲ': 7376, '▁주인공들이': 7377, '▁니들이': 7378, '바른': 7379, '룬': 7380, '작가님': 7381, '하려면': 7382, '▁한사람': 7383, '랍': 7384, '댓': 7385, '콤': 7386, '봇': 7387, 'ᄊ': 7388, '▁듭니다': 7389, '▁런닝타임': 7390, '▁박찬욱': 7391, '▁아이언맨': 7392, '▁에드워드': 7393, '▁영웅본색': 7394, '▁테이큰': 7395, '숲': 7396, '좆': 7397, '턱': 7398, '▁2.22': 7399, '넷': 7400, '▁팝콘': 7401, '▁웬만하면': 7402, 'Y': 7403, '▁김희선': 7404, '▁정주행': 7405, '▁어딘가': 7406, '▁흥미롭게': 7407, '▁수면제': 7408, '▁출연자': 7409, '▁이하도': 7410, '▁가슴아프': 7411, '▁슈퍼맨': 7412, '▁새삼': 7413, '▁믿는': 7414, '▁경악': 7415, '▁반갑': 7416, '▁거기서': 7417, '▁히어로물': 7418, '▁긴장감과': 7419, '▁액션물': 7420, '▁심각하게': 7421, '▁감동적이었다': 7422, '▁일찍': 7423, '▁게스트': 7424, '▁광기': 7425, '▁두개': 7426, '▁가능성': 7427, '두번': 7428, '▁믿지': 7429, '▁귀여워서': 7430, '▁회상': 7431, '게다가': 7432, '▁만들었냐': 7433, 'im': 7434, '▁흉내내': 7435, '▁보고싶은데': 7436, '하겠지만': 7437, '▁웃기기': 7438, '앞에': 7439, '릴때': 7440, '▁어린아이': 7441, '▁좋더라': 7442, '있다면': 7443, '▁전율이': 7444, '▁피식': 7445, '▁대역': 7446, '▁멜로영화': 7447, '▁몰입하게': 7448, '▁경우': 7449, '▁허구': 7450, '▁명배우': 7451, '▁포함': 7452, '▁모든것이': 7453, '▁우리에게': 7454, '분들께': 7455, '▁걸작이다': 7456, '옷': 7457, '▁연주': 7458, '깜': 7459, '무서운': 7460, '탐': 7461, '오랜만에': 7462, '스러웠다': 7463, '러운': 7464, '보지마세요': 7465, '전체': 7466, '▁머냐': 7467, '눈물이': 7468, '년간': 7469, '▁머야': 7470, ':)': 7471, '▁일본에서': 7472, '▁어울리': 7473, '▁다름': 7474, '끝내': 7475, '▁허접하고': 7476, '공부': 7477, '잘못': 7478, '▁만들어야': 7479, '입장': 7480, '▁무기': 7481, '볼때': 7482, '▁밝혀': 7483, '▁못했던': 7484, '웃긴': 7485, '▁적절': 7486, '▁망쳐': 7487, '▁싶다면': 7488, '▁오랜': 7489, '70': 7490, '▁중학교': 7491, '▁찍지': 7492, '▁거기': 7493, '말도안되': 7494, '▁못만들': 7495, '▁반감': 7496, '랍니다': 7497, '밍': 7498, '▁군더더기': 7499, '즉': 7500, '▁송승헌': 7501, '늬': 7502, '믄': 7503, '▁손예진': 7504, '▁어차피': 7505, '▁권상우': 7506, '▁엉뚱': 7507, '▁오페라': 7508, '▁외로움': 7509, '▁흠잡을': 7510, '▁왕가위': 7511, '▁보낸다': 7512, '점준것중': 7513, '▁엠마': 7514, '▁심리묘사': 7515, '▁어설프게': 7516, '▁택시': 7517, '▁색채': 7518, '땜시': 7519, '▁웃으며': 7520, '▁재탕': 7521, '▁의한': 7522, '시키지': 7523, '▁반응': 7524, 'ri': 7525, '▁음향': 7526, '▁아깝습니다': 7527, '▁동화같은': 7528, '▁힘들었다': 7529, '▁상식': 7530, '었을텐데': 7531, '▁웃다가': 7532, '▁뜬금없': 7533, '▁느껴졌': 7534, '▁결국엔': 7535, '▁기발': 7536, 'op': 7537, '레기': 7538, '▁면이': 7539, '▁레오': 7540, '▁봐야한다': 7541, '▁말았다': 7542, '▁공연': 7543, '높아': 7544, '드리고': 7545, '뭔지': 7546, '▁인연': 7547, '▁여유': 7548, '▁자세': 7549, '▁괜찮을': 7550, 'el': 7551, '장님': 7552, '▁지금보면': 7553, '엇음': 7554, '▁벌어': 7555, '한국영화': 7556, '▁재수없': 7557, '▁검색해': 7558, '그녀': 7559, '▁전라도': 7560, '삐': 7561, '▁자위': 7562, '▁보이고': 7563, '▁안봐서': 7564, '촬영': 7565, '▁나올까': 7566, '▁매주': 7567, '암튼': 7568, '킬링타임': 7569, '학대': 7570, 'ie': 7571, '많고': 7572, '죽여': 7573, '많은것을': 7574, '▁ᄏᄏᄏᄏᄏᄏᄏᄏᄏᄏᄏᄏᄏᄏ': 7575, '좋겠다': 7576, '▁다시봤는데': 7577, '▁와닿지': 7578, '▁인식': 7579, '아닌데': 7580, '▁이어지는': 7581, '였네': 7582, '▁말이필요': 7583, '▁싫은': 7584, '▁재밋어': 7585, '같네요': 7586, '▁필요하다': 7587, '▁본듯한': 7588, '줄거리': 7589, '▁명작임': 7590, '▁바라보는': 7591, '밋': 7592, '순수': 7593, '룸': 7594, '▁가볍지': 7595, '▁스필버그': 7596, '넓': 7597, '▁예뻐서': 7598, '릅': 7599, '▁깨달음': 7600, '▁나머진': 7601, '▁픽션': 7602, '▁아바타': 7603, '▁드니로': 7604, '▁컬트': 7605, '▁가까이': 7606, '▁절묘': 7607, '><': 7608, '버그': 7609, '▁2015': 7610, '▁낮추': 7611, '▁십점': 7612, '▁과장된': 7613, '할게요': 7614, '▁치료': 7615, '▁커피': 7616, '않았다': 7617, '▁대사와': 7618, '▁소품': 7619, '▁번역': 7620, '별점': 7621, '▁남긴': 7622, '나봐요': 7623, '▁향한': 7624, '▁우승': 7625, '▁모순': 7626, '▁경계': 7627, '▁기억난다': 7628, '▁식상하다': 7629, '주고싶은': 7630, '▁내시간': 7631, '▁싶었는데': 7632, '▁-_-;;': 7633, '▁애정': 7634, '▁로마': 7635, '테니': 7636, '▁울어': 7637, '▁불쌍해서': 7638, '▁오직': 7639, '없어요': 7640, '한텐': 7641, '▁장점': 7642, '▁이딴거': 7643, '▁정석': 7644, '▁이따위로': 7645, '▁있어보이': 7646, '되네': 7647, '▁허나': 7648, '있었던': 7649, '모델': 7650, '▁훈훈하고': 7651, '.,.,': 7652, '큼': 7653, '▁외면': 7654, '입니까': 7655, '▁청년': 7656, '▁스릴감': 7657, '▁동감': 7658, '미치': 7659, '▁풀어내': 7660, '▁후반부로': 7661, '마무리': 7662, '▁토니': 7663, '그래픽': 7664, '더럽게': 7665, '▁성적': 7666, '▁우울한': 7667, '볼때마다': 7668, '모르겠다': 7669, '▁비해서': 7670, '민호': 7671, '▁없으니': 7672, '▁영상미와': 7673, '▁알려주': 7674, '▁흥미진진한': 7675, '천재': 7676, '원주고': 7677, '집에서': 7678, '▁전설이': 7679, '▁최악임': 7680, '됬다': 7681, 'av': 7682, '▁등장하는': 7683, '▁이딴게': 7684, '▁기사': 7685, '▁안봄': 7686, '지루한': 7687, '▁잼없다': 7688, '나이트': 7689, '▁깨닫': 7690, '▁시대적': 7691, '없었다': 7692, '▁머리속': 7693, '▁산만하': 7694, '듣고': 7695, '그림': 7696, '▁본방': 7697, '킥': 7698, '▁봤는지': 7699, '▁점수준것들': 7700, '▁학창시절': 7701, '▁다이하드': 7702, '▁도라에몽': 7703, '▁싸이코패스': 7704, '▁엉망진창': 7705, '삘': 7706, '썬': 7707, '▁구혜선': 7708, '▁김명민': 7709, '▁지저분': 7710, '▁최민수': 7711, '▁영향을': 7712, '2005': 7713, '▁실상': 7714, '▁저평가': 7715, '▁패션': 7716, '▁발랄': 7717, '▁열광': 7718, '▁흥미롭지': 7719, '▁국산': 7720, '▁의견': 7721, '▁중반부터': 7722, '▁공허': 7723, '▁냉정': 7724, '보니깐': 7725, '▁감동적임': 7726, '몰입도': 7727, '했었다': 7728, '▁좋아하지': 7729, '▁천만': 7730, '▁인간적으로': 7731, '▁처음이네': 7732, '설명': 7733, '▁법정': 7734, '떨어지는': 7735, '신부': 7736, '▁이은주': 7737, '▁있었습니다': 7738, '▁끝남': 7739, '▁어디까지': 7740, '▁에로물': 7741, '▁자체로': 7742, '척하는': 7743, '낫다': 7744, '▁크다': 7745, '▁아닌것': 7746, '18': 7747, '▁좋아했던': 7748, '▁go': 7749, '▁빈약한': 7750, '▁따스': 7751, '▁감동받': 7752, '▁약하다': 7753, '▁만들었네': 7754, '▁손색이': 7755, '▁최고인듯': 7756, '썩': 7757, '궁금해': 7758, '질러': 7759, '무서움': 7760, '선생님': 7761, '▁의도를': 7762, 'ma': 7763, '▁이것은': 7764, '▁형식': 7765, '▁미안해': 7766, '감상': 7767, '▁없을까': 7768, '노출': 7769, '평생': 7770, '▁가져다': 7771, '꼬마': 7772, '▁OOOO': 7773, '대체': 7774, '▁감동입니다': 7775, '▁끄는': 7776, '웠던': 7777, '걸작': 7778, '▁날리': 7779, '▁살인자': 7780, '▁이런것도': 7781, '▁알게된': 7782, '콧': 7783, '긍': 7784, '맴': 7785, '헨': 7786, '떳': 7787, '▁겨울왕국': 7788, '▁소피마르소': 7789, '꾹': 7790, '▁어쨌든': 7791, '쇠': 7792, '졋': 7793, '▁국어책': 7794, '▁안타까웠': 7795, '▁간간히': 7796, '깁': 7797, '▁멘탈': 7798, '스러울': 7799, '▁콜린': 7800, '▁틀림없': 7801, '▁심오한': 7802, '밑에': 7803, 'very': 7804, '▁강아지': 7805, '▁관람객': 7806, '▁기다렸': 7807, '▁람보': 7808, '▁문득': 7809, '-.-': 7810, '▁재방송': 7811, '▁아침드라마': 7812, '▁출발': 7813, '▁여태까지': 7814, '▁뭐랄까': 7815, '▁지루했음': 7816, '▁이기적인': 7817, '▁적극': 7818, '▁뉴스': 7819, '▁재미없었음': 7820, '▁미술': 7821, '▁보는동안': 7822, '보기엔': 7823, '▁향기': 7824, '▁미치는': 7825, '▁없애': 7826, '▁알바생': 7827, '▁고작': 7828, '하죠': 7829, '▁배울': 7830, '▁네이버평점': 7831, '▁믿을게': 7832, '영씨': 7833, '▁괴수': 7834, '▁야하지도': 7835, '▁만든건지': 7836, '쪽으로': 7837, '왔습니다': 7838, '▁개소리': 7839, '▁들여': 7840, '넘치는': 7841, '하는것도': 7842, '재미없는': 7843, '▁장소': 7844, '편부터': 7845, '▁죽일': 7846, '▁데려다': 7847, '▁아련한': 7848, '▁마법': 7849, '▁이어지': 7850, '▁통해서': 7851, '▁흐르': 7852, '무서워': 7853, '액': 7854, '아름다운': 7855, '쿨': 7856, 'ᄉᄇ': 7857, '힘든': 7858, '중간에': 7859, '▁베일': 7860, '▁지금이나': 7861, '▁잘했다': 7862, '▁찍으': 7863, '▁죽는다': 7864, '▁메세지를': 7865, '엉성': 7866, '멋진': 7867, '시티': 7868, '▁역겹': 7869, '▁지워': 7870, '잇엇': 7871, '것들은': 7872, 'ᄍᄍᄍ': 7873, '▁불쾌한': 7874, 'ᄒᄒᄒᄒ': 7875, '▁태어나': 7876, '번이나': 7877, '▁호감': 7878, '롯': 7879, '싼': 7880, '앵': 7881, '읍': 7882, '흉': 7883, '뚜': 7884, '▁엑스맨': 7885, '▁트랜스포머': 7886, '겸': 7887, '묶': 7888, '캠': 7889, '훗': 7890, '▁숨막히': 7891, '▁이탈리아': 7892, '▁김민종': 7893, '▁힙합': 7894, '끓': 7895, '▁멈추': 7896, '▁엽문': 7897, '▁농담': 7898, '▁전지현': 7899, '▁다운로드': 7900, '▁갖춘': 7901, '▁증명': 7902, '▁사라진': 7903, '▁안성기': 7904, '▁중후반': 7905, '▁시간아까워': 7906, '▁애국심': 7907, '▁꺼져': 7908, '▁욕나온다': 7909, '▁빨간': 7910, '▁허탈': 7911, '▁러브스토리': 7912, '▁모독': 7913, '▁피곤': 7914, '▁환상적인': 7915, '▁부각': 7916, '▁터지는': 7917, '▁적당하다': 7918, '▁신경쓰': 7919, '▁못따라': 7920, '▁제왕': 7921, '▁이따구로': 7922, '▁더욱더': 7923, '▁남기고': 7924, '▁소중하': 7925, '작전': 7926, '▁굉장한': 7927, '▁자격': 7928, '▁데뷔작': 7929, '▁가관': 7930, '▁걸리': 7931, '▁정통': 7932, '▁조악': 7933, '봤을땐': 7934, '대장': 7935, '▁보고싶네요': 7936, '▁중국영화': 7937, '▁많음': 7938, '▁명작이라고': 7939, '▁내놓': 7940, '것도아니고': 7941, '▁명작이네요': 7942, '▁못하네': 7943, '▁변신': 7944, '사극': 7945, '▁돌아오': 7946, '▁모여': 7947, '주관적': 7948, '혀서': 7949, '▁198': 7950, '▁이영화보고': 7951, 'H': 7952, '몰랐': 7953, '잘봤습니다': 7954, '▁안되나': 7955, '네이버': 7956, '▁되어야': 7957, '60': 7958, '▁가상': 7959, '성룡': 7960, '억울': 7961, '비행': 7962, '재밋어요': 7963, '으세요': 7964, '▁대학생': 7965, '끝날때까지': 7966, '웠음': 7967, '하나하나': 7968, '▁통쾌한': 7969, '설마': 7970, '▁보게되었': 7971, '▁인도영화': 7972, '즌': 7973, '▁운동': 7974, '있을까': 7975, '▁떠오르는': 7976, '인상깊었': 7977, '펠': 7978, '▁신데렐라': 7979, '▁흐지부지': 7980, '뎌': 7981, '헝': 7982, '^_^': 7983, '▁정확히': 7984, '▁키아누': 7985, '뎁': 7986, '줫': 7987, '▁오우삼': 7988, '찜찜': 7989, '▁더더욱': 7990, '▁박평식': 7991, '▁사무라이': 7992, '▁신세경': 7993, '그나저나': 7994, '▁어떠한': 7995, '▁장동건': 7996, '▁드래곤볼': 7997, '▁함부로': 7998, '꼬맹이': 7999, '▁다니엘': 8000, '▁흑역사': 8001, '▁일어날': 8002, '▁스킵': 8003, '▁색다르': 8004, '▁아쉬웠지만': 8005, '▁색깔': 8006, '▁전도연': 8007, '▁모자란': 8008, '▁깜놀': 8009, '▁학살': 8010, '안쓰는데': 8011, '▁첫번째': 8012, '밖엔': 8013, '▁미친듯이': 8014, '▁이민기': 8015, '▁에릭': 8016, '▁몰락': 8017, '▁신세계': 8018, '▁복수극': 8019, '▁지브리': 8020, '▁가라': 8021, '▁쏘우': 8022, '▁태양': 8023, '▁재미나게': 8024, '▁99': 8025, '▁교회': 8026, '▁백배': 8027, '▁모아': 8028, '▁좋아하시는': 8029, '▁초반부터': 8030, '▁틀어주': 8031, '원래': 8032, '▁울림': 8033, '▁잼나요': 8034, '주의자': 8035, '▁소소하': 8036, '▁임신': 8037, '▁성경': 8038, '갈수': 8039, '▁유치하기': 8040, '▁빠지게': 8041, '닼': 8042, '타령': 8043, '할정도': 8044, '▁추천한다': 8045, '▁그시절': 8046, '직원': 8047, '▁최하': 8048, '▁화가나': 8049, '▁슬펐다': 8050, '▁특이한': 8051, '▁퇴보': 8052, '▁장난감': 8053, '▁도움이': 8054, '▁본적이': 8055, '▁생각나게': 8056, '필드': 8057, '▁재밌게봤는데': 8058, '볼려고': 8059, '▁만날': 8060, '▁따뜻함': 8061, '사장': 8062, '▁남자배우': 8063, '▁낚였네': 8064, '하잖아': 8065, '거같네요': 8066, '쫌': 8067, '특유의': 8068, '한마디로': 8069, '유쾌': 8070, '▁아름다웠': 8071, '했더니': 8072, '키우': 8073, '▁공포감': 8074, '▁잔인하고': 8075, '▁다시보게': 8076, '졌어요': 8077, '년동안': 8078, '▁높네': 8079, '▁않네': 8080, '▁비교하면': 8081, 'ᄒᄒᄒᄒᄒ': 8082, '▁공감대': 8083, '▁만세': 8084, '자매': 8085, '섯': 8086, '▁이해되': 8087, '▁싶으면': 8088, '▁보는사람': 8089, '딜': 8090, '날때': 8091, '믹': 8092, '끗': 8093, '드래곤': 8094, '▁매끄럽지': 8095, '▁톰크루즈': 8096, '뼈': 8097, '탠': 8098, '펴': 8099, '▁미장센': 8100, '▁어설퍼': 8101, '▁엉터리': 8102, '딕': 8103, '▁황정민': 8104, '▁최민식': 8105, '깡': 8106, '▁윌리스': 8107, '▁ᄇᄉ': 8108, '▁멀쩡': 8109, '▁2003': 8110, '▁이정재': 8111, '▁8.5': 8112, '▁보여줌': 8113, '://': 8114, '▁낚여서': 8115, '▁말이필요없다': 8116, '헌터': 8117, '십니다': 8118, '▁극찬': 8119, '▁마틴': 8120, '▁우롱': 8121, '▁나올수': 8122, '▁심정': 8123, '▁실패작': 8124, '▁노튼': 8125, '▁드문': 8126, '▁오글거려서': 8127, '점도아깝다': 8128, '▁질문': 8129, '▁영광': 8130, '▁잔잔하지만': 8131, '▁끝난다': 8132, '▁존잼': 8133, '▁재밌기만': 8134, '▁집단': 8135, '▁유령': 8136, '와이프': 8137, '▁돈아깝다': 8138, '▁울었습니다': 8139, '▁카피': 8140, '▁사람마다': 8141, '▁한번씩': 8142, '▁단역': 8143, '▁히트': 8144, '▁남친': 8145, '▁무슨말이': 8146, '▁드물': 8147, '엿다': 8148, '▁늙었': 8149, '▁의미없는': 8150, '▁슬프네요': 8151, '하루': 8152, '탁월한': 8153, '연애': 8154, '▁담아': 8155, '▁아름다웠다': 8156, '얘': 8157, '▁있나요': 8158, '지않나': 8159, '▁말아먹은': 8160, '▁so': 8161, '몇번': 8162, '볼꺼': 8163, '▁날려': 8164, '바탕': 8165, '자막': 8166, '▁생각했던': 8167, '하시네요': 8168, '▁혼자서': 8169, '▁재밌게본': 8170, '점만점': 8171, '▁결말까지': 8172, '취향': 8173, '페이지': 8174, '▁깔끔': 8175, '▁조폭영화': 8176, '퇴': 8177, '귀여워': 8178, '그렇지': 8179, '▁다음편': 8180, '필름': 8181, '▁밀어': 8182, 'cg': 8183, '▁강하게': 8184, '▁진정성': 8185, '영웅': 8186, '할텐데': 8187, '인것같다': 8188, '▁허무함': 8189, '씩이나': 8190, 'ᄃᄃᄃᄃ': 8191, '유머': 8192, '▁멋있어': 8193, '▁미스터': 8194, '재미있음': 8195, '중딩': 8196, '퉁': 8197, '뱅': 8198, '밉': 8199, '펼': 8200, '윽': 8201, '▁과대평가': 8202, '▁윌리엄': 8203, '뉘': 8204, '맷': 8205, '벙': 8206, '쉣': 8207, '앜': 8208, '▁가슴아픈': 8209, '▁차태현': 8210, '겄': 8211, '습니당': 8212, '▁정당화': 8213, '▁징징': 8214, '▁완죤': 8215, '▁클라스': 8216, '▁솔까': 8217, '것같습니다': 8218, '▁납치': 8219, '▁거슬리': 8220, '▁젊음': 8221, '▁더럽다': 8222, '▁찬사를': 8223, '▁사라져': 8224, '▁경의를': 8225, '징그러': 8226, '▁고마운': 8227, '▁상당한': 8228, '▁뽑아': 8229, '▁짱짱맨': 8230, '▁댄스': 8231, '▁장혁': 8232, '▁황금': 8233, '▁존스': 8234, '노동자': 8235, '나보네': 8236, '▁겉멋만': 8237, '▁볼만했는데': 8238, '금지': 8239, '▁몰랐는데': 8240, '▁슬퍼요': 8241, '▁안타깝네요': 8242, '▁나오다니': 8243, '수가없다': 8244, 'PD': 8245, '아침': 8246, '▁재현': 8247, '▁기록': 8248, '▁힘내': 8249, '▁하던가': 8250, '감성': 8251, '▁좋구': 8252, '▁집어': 8253, '▁답답해서': 8254, '▁재미있어서': 8255, '▁에러': 8256, '작렬': 8257, '▁없었는데': 8258, '가아니라': 8259, '클럽': 8260, '하느라': 8261, '▁있으니': 8262, '▁사망': 8263, '줄알았다': 8264, '▁꺼내': 8265, '▁볼만한데': 8266, '갔으면': 8267, '▁어색함': 8268, '달리': 8269, '개연성': 8270, '히어로': 8271, '▁모르나': 8272, '▁비현실적이': 8273, '변화': 8274, '알바들': 8275, '했냐': 8276, '뿔': 8277, '▁아쉬워': 8278, '풋풋': 8279, '▁부끄러': 8280, '쎄': 8281, '옵': 8282, '썻': 8283, '▁다크나이트': 8284, '▁인상깊게': 8285, '럿': 8286, '밨': 8287, '빤': 8288, '쏙': 8289, '웰': 8290, '코스프레': 8291, '▁끝판왕': 8292, '푼': 8293, '▁아프리카': 8294, '띵': 8295, '릉': 8296, '안타까워': 8297, '▁김태희': 8298, '▁공중파': 8299, '▁긴박감': 8300, '▁모성애': 8301, '▁여기저기': 8302, '▁임청하': 8303, '▁타이틀': 8304, '▁아이러니': 8305, '▁2004': 8306, '▁레이첼': 8307, '▁혹평': 8308, '▁어지간': 8309, '▁감수성': 8310, '▁사기꾼': 8311, '▁노골적': 8312, '▁크리스찬': 8313, '▁담백하': 8314, '▁부끄러운': 8315, '▁죽기전에': 8316, '▁성찰': 8317, '▁어딜': 8318, '창있네': 8319, '▁원작소설': 8320, '▁돈낭비': 8321, '▁억지설정': 8322, '▁바꾼': 8323, '펙트': 8324, '▁대표적인': 8325, '▁서극': 8326, '였으나': 8327, '▁뿌리': 8328, '▁제정신': 8329, '▁재주': 8330, '▁불행': 8331, '▁어렸을적': 8332, '▁못생겼': 8333, '▁분명히': 8334, '▁요약': 8335, '▁알려준': 8336, '▁예산': 8337, '▁짧아': 8338, '▁도중에': 8339, '▁특수': 8340, '▁실화라는': 8341, '겁니까': 8342, '▁알겠지만': 8343, '▁없구나': 8344, '▁무색': 8345, '▁오글거리고': 8346, '▁재밌당': 8347, '▁썩어': 8348, '합니까': 8349, '활동': 8350, '남편': 8351, '▁좋아하네요': 8352, 'll': 8353, '▁처음이네요': 8354, '▁남발': 8355, '▁또봐도': 8356, '▁꼭봐야': 8357, '▁현실에서': 8358, '▁데미': 8359, '▁고수': 8360, '▁해피': 8361, '▁부디': 8362, '▁무리수': 8363, '▁할배': 8364, '▁빌리': 8365, '▁재밋는데': 8366, '▁일본판': 8367, '▁마크': 8368, '▁존재하는': 8369, '등급': 8370, '였다니': 8371, '지마시길': 8372, '▁유혹': 8373, '▁다른사람': 8374, '▁황당하': 8375, '▁주먹': 8376, '▁떠들': 8377, '▁기독교인': 8378, '-_': 8379, '▁외국영화': 8380, '▁300': 8381, '▁좋아한다': 8382, '▁손색': 8383, '해야한다': 8384, '▁오글거리': 8385, '▁강제': 8386, '쭉': 8387, '왜이래': 8388, '저예산': 8389, '완벽': 8390, '▁배려': 8391, '슬퍼': 8392, '123': 8393, '▁메리': 8394, '▁끝날때': 8395, '명성에': 8396, '다시봐도': 8397, '아이돌': 8398, '▁느껴져': 8399, '▁마르': 8400, '▁드러나': 8401, '별루': 8402, '마른': 8403, '▁이따구': 8404, '▁표정연기': 8405, '영상미': 8406, '▁봐줄': 8407, '▁있겠지': 8408, '티비에서': 8409, '▁터져': 8410, '뜩': 8411, '둡': 8412, '욬': 8413, '▁고맙습니다': 8414, '▁다세포소녀': 8415, '▁드림웍스': 8416, '▁똑바로': 8417, '▁미야자키': 8418, '▁인종차별': 8419, '▁홧팅': 8420, '둬': 8421, '룹': 8422, '켈': 8423, '펀': 8424, '핏': 8425, '▁모티브': 8426, '▁송혜교': 8427, '▁절제된': 8428, '나옵니다': 8429, '▁어둡고': 8430, '▁자본주의': 8431, '개인적으론': 8432, '▁2013': 8433, '▁태어난': 8434, '▁오인혜': 8435, '▁사로잡': 8436, '▁더럽고': 8437, '▁best': 8438, '▁끊임없': 8439, '▁7.5': 8440, '▁돋보인다': 8441, '▁눈요기': 8442, '▁짧게': 8443, 'ᄂᄂ': 8444, '▁가해자': 8445, '▁짐승': 8446, '등등': 8447, '▁감옥': 8448, '▁휴먼': 8449, '▁접근': 8450, '▁사라졌': 8451, '▁지나친': 8452, '▁존경합니다': 8453, '엇어요': 8454, '▁출현': 8455, '▁절반': 8456, 'ol': 8457, '라이브': 8458, '묘사': 8459, '▁필요없음': 8460, '덕후': 8461, '▁스토리라인': 8462, '▁총알': 8463, '▁중간부터': 8464, '▁우왕': 8465, '따윈': 8466, '▁대실망': 8467, '▁일탈': 8468, '▁남자라면': 8469, '▁건강': 8470, '▁됐는데': 8471, '▁경제': 8472, '▁슬프지만': 8473, '▁나은듯': 8474, '▁발레': 8475, '▁울었던': 8476, '과도한': 8477, '▁그지같은': 8478, '▁글쎄요': 8479, '▁않았음': 8480, '▁예쁘게': 8481, '▁철학적인': 8482, '▁아까워요': 8483, '▁전락': 8484, '▁잃어': 8485, '▁차마': 8486, '▁예술성': 8487, '왔던': 8488, '느님': 8489, '▁재밋네요': 8490, '이아니라': 8491, '▁좋았어': 8492, '찾기': 8493, '▁향해': 8494, '▁지루하기만': 8495, '▁감동받았': 8496, '써서': 8497, '▁솔직한': 8498, '▁존재한다': 8499, '▁느낄수있': 8500, '▁존재감': 8501, '--;': 8502, '▁어린이들': 8503, '짓거리': 8504, '▁압도': 8505, '대단히': 8506, '▁몰입되': 8507, '챙겨': 8508, '만들엇': 8509, '마냥': 8510, '▁죽을뻔': 8511, '달까': 8512, '▁환상적이': 8513, '챙': 8514, '꿔': 8515, '첩': 8516, 'mbc': 8517, '↓': 8518, '▁고스란히': 8519, '▁뮤직비디오': 8520, '▁임권택': 8521, '▁팀버튼': 8522, '▁파워레인저': 8523, '툰': 8524, '▁뚝뚝': 8525, '▁뜨거운': 8526, '▁송지효': 8527, '▁클린트': 8528, '▁팍팍': 8529, '쌩': 8530, '▁나쁘진': 8531, '▁두려움': 8532, '▁한쿡영화': 8533, '▁비정상': 8534, '▁이연희': 8535, '▁흐뭇': 8536, '줬으면': 8537, '▁힘내세요': 8538, '▁무너지': 8539, '▁은퇴': 8540, '▁뉴욕': 8541, '앵글': 8542, '배속으로': 8543, '▁놀랬': 8544, '▁초능력': 8545, '▁비싼': 8546, '▁비롯': 8547, '▁끼워': 8548, '▁몇번이나': 8549, '홍보': 8550, '▁넘어선': 8551, '▁타락': 8552, '▁끌려': 8553, '부턴': 8554, '♡♡': 8555, '▁얘들': 8556, '영화관에서': 8557, '▁광팬': 8558, '▁받아들이': 8559, '▁현실적으로': 8560, '▁그지없': 8561, '▁사실적으로': 8562, '▁가졌': 8563, '▁사랑스럽': 8564, '▁피터': 8565, '싶어서': 8566, '▁최고였습니다': 8567, '▁부럽다': 8568, '▁개독': 8569, '▁첨이네': 8570, '것일까': 8571, '▁깎아': 8572, '약간': 8573, '▁미국판': 8574, '이건뭐': 8575, '▁담아내': 8576, '▁훌륭함': 8577, '▁않았나': 8578, '▁되었는데': 8579, '▁인간적인': 8580, '▁생각해볼': 8581, '▁멀리': 8582, '라기보다': 8583, '▁일생': 8584, '▁엉성함': 8585, '만드네': 8586, '낚였': 8587, '▁잃지': 8588, '▁재미있네': 8589, '하고픈': 8590, '녀석들': 8591, '▁허접하다': 8592, '▁불편함': 8593, '▁환자': 8594, '별반개도': 8595, '겐': 8596, '▁확실한': 8597, '▁빨아': 8598, '▁be': 8599, '릇': 8600, '일수도': 8601, '▁기억될': 8602, '▁표현했다': 8603, '▁잠자': 8604, '톰': 8605, '씹': 8606, '낙': 8607, '흐름': 8608, '▁훈훈하': 8609, '진정한': 8610, '러브': 8611, '죽는줄': 8612, '좋았어요': 8613, '45': 8614, '먼저': 8615, '빠지고': 8616, '조각': 8617, '♡♡♡': 8618, 'est': 8619, '▁누워': 8620, '펑': 8621, '넼': 8622, '꿨': 8623, '▁서프라이즈': 8624, '▁엉덩이': 8625, '▁인터뷰': 8626, '▁찝찝한': 8627, '▁카메론': 8628, '▁클리셰': 8629, '▁펭귄': 8630, '제작비': 8631, '▁양동근': 8632, '▁원주율': 8633, '꺄': 8634, '▁말았어야': 8635, '▁어우러진': 8636, '▁주상욱': 8637, '▁조승우': 8638, '떄문에': 8639, '▁김강우': 8640, '▁정신나간': 8641, '▁구역질': 8642, '▁일요일': 8643, '▁닥터': 8644, '▁일베충': 8645, '▁신민아': 8646, '▁암걸리': 8647, '▁The': 8648, '▁웅장': 8649, '▁퍼즐': 8650, '▁이범수': 8651, '▁흥미롭고': 8652, '▁잃어버린': 8653, '▁김구라': 8654, '▁스콧': 8655, '▁알게해준': 8656, '▁유지태': 8657, '▁튀어': 8658, '▁움직이는': 8659, '▁빠져드는': 8660, 'up': 8661, '▁구멍': 8662, '▁친절': 8663, '▁그럼에도': 8664, '▁활용': 8665, '▁고인의': 8666, '점대라니': 8667, '▁추락': 8668, '▁잘생기고': 8669, '▁어이없어서': 8670, '▁성숙': 8671, '▁선정적': 8672, '▁볼만해요': 8673, '▁간절': 8674, '▁불법': 8675, '▁신념': 8676, '▁여왕': 8677, '▁기념': 8678, '▁좋아한다면': 8679, '▁때문이다': 8680, '▁상영시간': 8681, '▁없었으면': 8682, '▁98': 8683, '▁뻔히': 8684, '▁중학교때': 8685, '고싶지': 8686, '▁관객에게': 8687, '▁잼없음': 8688, '▁허무하게': 8689, '▁허술하고': 8690, '▁먹먹하다': 8691, '▁어케': 8692, '▁애국': 8693, '▁좋아해요': 8694, '겠군': 8695, '▁어린이용': 8696, '▁않았으면': 8697, '영화자체는': 8698, '▁동호': 8699, '▁나왔음': 8700, '거예요': 8701, '베르': 8702, '▁전투씬': 8703, '번씩': 8704, '▁다시보고싶은': 8705, '▁심히': 8706, '배우님': 8707, 'ge': 8708, '재미잇': 8709, '영환줄': 8710, '하지않은': 8711, '▁던지는': 8712, '▁외치': 8713, '▁의식': 8714, '가능한': 8715, '▁197': 8716, '하곤': 8717, '▁조금씩': 8718, '▁되돌아': 8719, '그래요': 8720, '봣음': 8721, '▁제작사': 8722, '▁단편영화': 8723, '이쁘고': 8724, '▁초중반': 8725, '이쁘다': 8726, '때메': 8727, '예능': 8728, '알았': 8729, '탭': 8730, '흰': 8731, '▁ebs': 8732, '▁내러티브': 8733, '▁서스펜스': 8734, '텀': 8735, '▁웹툰': 8736, '▁어울린다': 8737, '▁베트남': 8738, '▁조용히': 8739, '▁큐브': 8740, '▁강지환': 8741, '▁임수정': 8742, '▁불후의': 8743, '▁플레이': 8744, '▁러셀': 8745, '▁어울려': 8746, '▁이해안가': 8747, '▁리메이크작': 8748, '▁일깨워주는': 8749, '▁온몸': 8750, '같았음': 8751, '▁가끔씩': 8752, '▁푸른': 8753, '▁고찰': 8754, '▁특징': 8755, '▁웬만한': 8756, '▁모르겟다': 8757, '▁언론': 8758, '관련': 8759, '▁자세히': 8760, '▁알았더니': 8761, '▁닮아': 8762, '▁않았을까': 8763, '▁산만한': 8764, '▁지루했어요': 8765, '▁놀라울': 8766, '▁여튼': 8767, '▁물씬': 8768, '▁중반부': 8769, '▁지났지만': 8770, '▁공감가는': 8771, '▁내보내': 8772, '▁우익': 8773, '거든요': 8774, '▁깔끔하고': 8775, '▁원표': 8776, '▁돌려줘': 8777, '스럽네': 8778, '▁엉성하다': 8779, '▁도통': 8780, '▁최고였어요': 8781, '▁말해주는': 8782, '▁종영': 8783, '▁모르겠는데': 8784, '▁생각나네요': 8785, '95': 8786, '▁나누': 8787, '멘트': 8788, '▁주목': 8789, '▁아동용': 8790, '▁뻔해서': 8791, '▁초등학교때': 8792, '하지마세요': 8793, '▁드러내': 8794, '교육': 8795, '▁비극적': 8796, '▁그지같': 8797, '▁압도적': 8798, '졌습니다': 8799, '▁선동영화': 8800, '영화제에서': 8801, '▁나왔는데': 8802, '엿음': 8803, '▁중반까지': 8804, '흥미를': 8805, '레이드': 8806, '야되는데': 8807, '▁진부함': 8808, '▁재미있었던': 8809, '시켜주': 8810, '요소를': 8811, '▁괜찮네': 8812, '▁아쉽긴': 8813, '하지않는': 8814, '▁wh': 8815, '▁상관': 8816, '아줌마': 8817, '느와르': 8818, 'OST': 8819, '카메라': 8820, '감사합니다': 8821, '훨씬': 8822, '불륜': 8823, '왜이리': 8824, '▁부럽': 8825, '시간낭비': 8826, '▁오글거려': 8827, '보았습니다': 8828, '그자체': 8829, '쿡': 8830, '맙': 8831, '뒀': 8832, '쌈': 8833, '엎': 8834, '▁ocn': 8835, '▁묻혀': 8836, '▁보냅니다': 8837, '▁에일리언': 8838, '▁오리지널': 8839, '▁용두사미': 8840, '▁재발견': 8841, '▁채플린': 8842, '▁컨저링': 8843, '人': 8844, '뺨': 8845, '재밌게봤습니다': 8846, '췄': 8847, '톨': 8848, '헷': 8849, '▁놀래키': 8850, '뱉': 8851, '쉰': 8852, '▁멘붕': 8853, '▁삽입': 8854, '▁스티브': 8855, '▁하이킥': 8856, '▁환타지': 8857, '▁케이트': 8858, '▁저절로': 8859, '▁잠수함': 8860, '씨리즈': 8861, '▁나타내': 8862, '▁흡사': 8863, '^.^': 8864, '▁위대함': 8865, '▁간첩': 8866, '▁어처구니없': 8867, '▁묘미': 8868, '▁새롭게': 8869, '▁증말': 8870, '▁생략': 8871, '▁닮은': 8872, '▁말아라': 8873, '▁묻어나는': 8874, '▁잔인하기만': 8875, '▁잃고': 8876, '▁증거': 8877, '▁떠오르': 8878, '▁대표작': 8879, '▁맞춘': 8880, '▁케이지': 8881, '▁구리다': 8882, '▁깨알': 8883, '시리즈중': 8884, '완성': 8885, '▁절실': 8886, '▁악플': 8887, '▁기대됩니다': 8888, '▁정치적': 8889, '▁재료': 8890, '▁해도해도': 8891, '동아리': 8892, '▁가르쳐': 8893, '▁창조': 8894, '▁만들어주세요': 8895, '▁딱딱': 8896, '▁언급': 8897, '▁심심해서': 8898, '▁전세계': 8899, '▁장나라': 8900, '▁헐크': 8901, '같으니': 8902, '▁말이필요없는': 8903, '▁별기대': 8904, '▁이나영': 8905, '▁가려': 8906, '▁만들겠다': 8907, '▁고발': 8908, '▁실소': 8909, '봣습니다': 8910, '▁더빙판': 8911, '▁계시': 8912, '▁필수': 8913, '▁가식': 8914, '▁모른': 8915, '▁비현실적인': 8916, '▁초딩들': 8917, '채널에서': 8918, '폭탄': 8919, '관계를': 8920, '▁읽어보': 8921, '인간들': 8922, '▁악평': 8923, '괴물': 8924, '쳤던': 8925, '▁비현실적': 8926, '안됐': 8927, '끼들': 8928, '쳐먹': 8929, '10000': 8930, '녀석': 8931, '▁겉멋': 8932, '방울': 8933, '▁붙여': 8934, '퀄리티': 8935, '88': 8936, '깎': 8937, '픔': 8938, '▁성우들': 8939, '좋앗': 8940, '극장판': 8941, '▁심심하': 8942, '▁공짜': 8943, '움직이': 8944, '▁평점조절': 8945, '률': 8946, '샷': 8947, '쏠': 8948, '엣': 8949, '짬': 8950, 'Z': 8951, '▁매트릭스': 8952, '▁슬래셔': 8953, '▁어설픔': 8954, '▁인터스텔라': 8955, '▁혹성탈출': 8956, '댕': 8957, '륵': 8958, '콕': 8959, '펄': 8960, '▁오타쿠': 8961, '▁이스트우드': 8962, '댐': 8963, '핳': 8964, '흙': 8965, 'q': 8966, '▁맙시다': 8967, '▁홍금보': 8968, '륙': 8969, '▁박신양': 8970, '▁불면증': 8971, '▁기분좋게': 8972, '▁두근두근': 8973, '▁관람불가': 8974, '▁엉엉': 8975, '▁섭외': 8976, '▁ᄅᄋ': 8977, '▁빅뱅': 8978, '▁화려함': 8979, '▁집어넣': 8980, '▁그들만의': 8981, '▁록키': 8982, '▁잘만들어진': 8983, '▁묘하게': 8984, '씁니다': 8985, '▁유아인': 8986, '▁별한개도': 8987, '▁패턴': 8988, '즐거워': 8989, '▁미치도록': 8990, '▁씁쓸한': 8991, '▁경쾌': 8992, '▁내인생최고의': 8993, '▁때우기': 8994, '▁재평가': 8995, '▁적절히': 8996, '▁당최': 8997, '천국': 8998, '▁아까웠던': 8999, '▁느낌이랄까': 9000, '▁빡치': 9001, '▁지들끼리': 9002, '▁공존': 9003, '▁신나게': 9004, '▁웃어야': 9005, '▁줄리아': 9006, '▁모든것을': 9007, '▁동료': 9008, '▁속아서': 9009, '다음으로': 9010, '▁고향': 9011, '▁이번엔': 9012, '▁지금껏': 9013, '▁멋있었다': 9014, '▁허술하다': 9015, '붕괴': 9016, '▁중요하다': 9017, '▁많았던': 9018, '▁무얼': 9019, '▁노예': 9020, '▁최저': 9021, '▁예매': 9022, '▁일베': 9023, '▁몽환적인': 9024, '같았는데': 9025, '▁졸면서': 9026, '▁뻔하지만': 9027, '▁멋있어요': 9028, '▁불편하다': 9029, '▁아니겠지': 9030, '▁서사': 9031, '▁작위적인': 9032, '그릇': 9033, '해주길래': 9034, '▁볼거없': 9035, 'ul': 9036, '올림': 9037, '▁합쳐': 9038, '파티': 9039, '내놔': 9040, '버렸음': 9041, '알수있': 9042, 'ᅳᅮ': 9043, 'ᅲᅲᅲᅲᅲᅲᅲᅲ': 9044, '▁소름돋았': 9045, '▁평론': 9046, '빼놓': 9047, '젼': 9048, '낳': 9049, '쪼': 9050, '넌': 9051, '슈퍼': 9052, '낮아서': 9053, '을위해': 9054, '씁': 9055, '▁보여주려': 9056, '긔': 9057, '댈': 9058, '샹': 9059, '쌀': 9060, '▁KBS': 9061, '▁가볍고': 9062, '▁스칼렛': 9063, '▁쏠쏠': 9064, '▁역사왜곡': 9065, '▁콘서트': 9066, '▁크리스토퍼': 9067, '샀': 9068, '숫': 9069, '엌': 9070, '웩': 9071, '쿄': 9072, '묵직한': 9073, '▁강혜정': 9074, '▁탕웨이': 9075, '#': 9076, '▁나발이고': 9077, '▁못생긴': 9078, '▁스텝업': 9079, '교훈': 9080, '▁사다코': 9081, '▁오그라든다': 9082, '▁2001': 9083, 'ᅩᅩ': 9084, '▁훈남': 9085, '바이러스': 9086, '▁고질라': 9087, '▁고르': 9088, '▁담아낸': 9089, '▁둘째': 9090, '▁이승기': 9091, '▁저녁': 9092, '▁무게감': 9093, '▁과잉': 9094, '▁용가리': 9095, '▁결합': 9096, '▁이름값': 9097, '결론': 9098, '▁No': 9099, '▁환불': 9100, '▁감동적이었습니다': 9101, '▁질질짜': 9102, '▁응원합니다': 9103, 'ent': 9104, '방법': 9105, '▁역쉬': 9106, '▁정도껏': 9107, '▁내겐': 9108, '▁깔끔하게': 9109, '▁스릴있고': 9110, '▁위하여': 9111, '▁바랬': 9112, '▁팬이라면': 9113, '▁치열': 9114, '▁따뜻하게': 9115, '▁씨발': 9116, '▁느린': 9117, '섹스': 9118, '▁어쩌라고': 9119, '▁봤었던': 9120, '▁바라보': 9121, '▁차원이': 9122, '▁실화라니': 9123, '▁느꼈던': 9124, '헤헤': 9125, '▁젊은이들': 9126, '▁대책': 9127, '▁알수없는': 9128, '잔인하': 9129, '▁볼만했음': 9130, '▁죽을때': 9131, '▁예수님': 9132, '▁좀비물': 9133, '▁첫장면': 9134, '▁오락성': 9135, '▁봐왔': 9136, '▁고래': 9137, '▁서우': 9138, '해줬으면': 9139, '재밋게봣': 9140, 'ap': 9141, '황당': 9142, '▁집중력': 9143, '▁풀었': 9144, '객관적으로': 9145, '▁밑에분': 9146, '▁탄탄하': 9147, '본것중': 9148, '몇번이고': 9149, '▁보러갔': 9150, '줍': 9151, '녹': 9152, '캬': 9153, 'ᅦ': 9154, '▁리암니슨': 9155, '▁쌩뚱맞': 9156, '▁휴머니즘': 9157, '꽂': 9158, '됴': 9159, '샬': 9160, '칩': 9161, '횽': 9162, '▁뭔내용인지': 9163, '됌': 9164, '샌': 9165, '팡': 9166, '▁김하늘': 9167, '▁양조위': 9168, '▁신현준': 9169, '안남기는데': 9170, '▁흘렀': 9171, '냅': 9172, '▁강호동': 9173, '▁어떨까': 9174, '▁충무로': 9175, '▁불필요한': 9176, '▁어려울': 9177, '스캔들': 9178, '▁이순신': 9179, '▁정재영': 9180, '▁이성재': 9181, '▁몬스터': 9182, '김남길': 9183, '▁0.5': 9184, '▁침묵': 9185, '▁레이싱': 9186, '▁팔아먹': 9187, '▁어려웠': 9188, '▁루이스': 9189, '▁촬영기법': 9190, '▁거대한': 9191, '▁자칫': 9192, '▁에로틱': 9193, '▁촌스러운': 9194, '▁꺼버렸다': 9195, '▁새롭고': 9196, '▁갖추': 9197, '@@': 9198, '점드림': 9199, '▁프레디': 9200, '슬픈': 9201, '▁과장되': 9202, '탈출': 9203, '▁와이어': 9204, '▁졸려서': 9205, '▁오싹': 9206, '▁말할것도': 9207, '▁느꼈습니다': 9208, '▁처참': 9209, '▁아름다웠던': 9210, '▁재미있던데': 9211, '▁질투': 9212, '▁호평': 9213, '▁도덕': 9214, '▁남주인공': 9215, '존재': 9216, '엉망': 9217, '▁어쩌라는': 9218, '▁맞지않': 9219, '할수밖에': 9220, '중요한': 9221, '▁앞부분': 9222, 'ig': 9223, '좋아할만한': 9224, '▁어수선하': 9225, '▁교감': 9226, 'ill': 9227, '▁도움': 9228, '닼ᄏᄏᄏ': 9229, '▁굉장': 9230, '재밋엇': 9231, '종류': 9232, '훔': 9233, '쵝': 9234, '▁페이크': 9235, '▁kbs': 9236, '▁리즈시절': 9237, '▁스탤론': 9238, '▁후덜덜': 9239, '닦': 9240, '듀': 9241, '젓': 9242, '촉': 9243, '▁서부극': 9244, '▁크루즈': 9245, '킷': 9246, '탔': 9247, '▁홍진호': 9248, '▁무슨내용인지': 9249, '▁로드무비': 9250, '▁올레티비': 9251, '▁치밀한': 9252, '-0-': 9253, '▁알맹이': 9254, '▁이동욱': 9255, '▁나중엔': 9256, '쥐어짜': 9257, '▁and': 9258, '▁한정된': 9259, '▁콤비': 9260, '▁박해일': 9261, '▁흔히': 9262, 'bbbb': 9263, '▁유아용': 9264, '▁슈렉': 9265, '▁안쓰러': 9266, '▁가득찬': 9267, '▁이준기': 9268, '말아야': 9269, '▁실컷': 9270, '▁발휘': 9271, '▁황홀': 9272, '▁악몽': 9273, '▁끝내준다': 9274, '▁신파극': 9275, '▁깨알같은': 9276, '▁느껴짐': 9277, '▁적나라하': 9278, '▁얼른': 9279, '▁저평가된': 9280, '▁사실적이': 9281, '▁선율': 9282, '▁첨본다': 9283, '▁억지스러움': 9284, '▁뇌리에': 9285, 'J': 9286, '곰': 9287, 'gt': 9288, '빅': 9289, '▁습작': 9290, '▁언제쯤': 9291, '매니아': 9292, '끊': 9293, '저렇게': 9294, '오히려': 9295, '▁놓친': 9296, '▁얻을': 9297, '▁찾았다': 9298, '▁미안하지만': 9299, '예고편': 9300, '▁바람피': 9301, '▁몰입하면서': 9302, '▁끝내주는': 9303, '▁시간아까움': 9304, '▁고백': 9305, '버젼': 9306, 'ore': 9307, '▁조용하': 9308, '그치만': 9309, '▁어린애들': 9310, '때문인지': 9311, '▁떠난': 9312, '파괴': 9313, '과정을': 9314, '▁느려': 9315, '어수선': 9316, '▁탁월': 9317, '찾았': 9318, '볼수없': 9319, '▁명배우들': 9320, '버렸어': 9321, '로인해': 9322, '▁실망스러웠': 9323, '뭇': 9324, '죤': 9325, 'naver': 9326, '훼': 9327, '▁왠만해선': 9328, '▁웨슬리': 9329, '▁인상깊은': 9330, '▁찝찝함': 9331, '멕': 9332, '솟': 9333, '씌': 9334, '안봤으면': 9335, '쫙': 9336, '햄': 9337, 'zzz': 9338, '▁떠올리게': 9339, '▁브래드피트': 9340, '▁에이리언': 9341, '▁최곱니다': 9342, '뺀': 9343, '쬐': 9344, '프로젝트': 9345, '▁무의미한': 9346, '▁브래드': 9347, '▁줄리엣': 9348, '▁문근영': 9349, '▁한예슬': 9350, '○': 9351, '▁추악한': 9352, '▁부자연스럽': 9353, '▁단체로': 9354, '▁잘생김': 9355, '▁뒤집어': 9356, '▁고현정': 9357, '▁2008': 9358, '▁쌍욕': 9359, '봅시다': 9360, '▁암울한': 9361, '▁연관성': 9362, '▁옹박': 9363, 'tion': 9364, '▁유오성': 9365, '▁전문성우': 9366, '▁빵터짐': 9367, '허니잼': 9368, '▁설렘': 9369, '▁졸업작품': 9370, '▁매튜': 9371, '뿐더러': 9372, '▁깜찍': 9373, '▁꺼버림': 9374, '▁일어난': 9375, '▁조인성': 9376, '▁하얀': 9377, '▁my': 9378, '▁육체': 9379, '▁지루하지않고': 9380, '▁화가난다': 9381, '▁일대기': 9382, '▁투표': 9383, '▁껏다': 9384, '▁괜찮던데': 9385, '▁미치겠다': 9386, '▁적응': 9387, '▁미흡': 9388, '▁대략': 9389, '▁녹화': 9390, '▁문학': 9391, '▁추잡': 9392, '▁다를게': 9393, '별한개': 9394, '▁대가리': 9395, '▁완소': 9396, '▁교차': 9397, '펑펑': 9398, '▁창작': 9399, 'good': 9400, '▁졸업': 9401, '흥행': 9402, '괜히': 9403, '을위한': 9404, '취향은': 9405, '찍었': 9406, '먹으면서': 9407, '▁객관적': 9408, '▁서민': 9409, '나쁘지않': 9410, '기억에남는': 9411, '▁드러난': 9412, '▁특별하': 9413, 'all': 9414, '▁몽환적': 9415, '잊혀지': 9416, '같았다': 9417, '444': 9418, '뀌': 9419, '튜': 9420, '펐': 9421, '뻘': 9422, '▁듣보잡': 9423, '▁떠오른다': 9424, '▁로보캅': 9425, '▁멜깁슨': 9426, '▁어벤져스': 9427, '▁엑스트라': 9428, '▁원맨쇼': 9429, '▁유치뽕짝': 9430, '귓': 9431, '뇨': 9432, '돕': 9433, '쌔': 9434, '쑤': 9435, '욜': 9436, '힛': 9437, 'ᄑ': 9438, '▁까메오': 9439, '▁빠순이들': 9440, '덥': 9441, '욧': 9442, '▁보면볼수록': 9443, '괘': 9444, '도그렇고': 9445, '▁노무현': 9446, '▁덴젤': 9447, '▁무책임': 9448, '▁장쯔이': 9449, '▁지하철': 9450, '▁눈뜨고': 9451, '▁애절한': 9452, '▁페이크다큐': 9453, '▁중딩때': 9454, '▁훈련': 9455, '▁금요일': 9456, '▁못미치는': 9457, '▁피라냐': 9458, '▁최선을': 9459, '▁빨리감기': 9460, '▁차가운': 9461, '▁옹호': 9462, '▁믿겨지지': 9463, '▁에너지': 9464, '오디션': 9465, '기승전': 9466, '▁효민': 9467, '▁여진구': 9468, '▁크리스틴': 9469, '▁싱겁': 9470, '▁나눠': 9471, '▁어려워': 9472, '▁나타난': 9473, '▁시청율': 9474, '▁한지민': 9475, '연기너무잘': 9476, '▁갑갑': 9477, '▁흥해라': 9478, '▁반성해라': 9479, '▁재치있': 9480, 'ain': 9481, '▁독백': 9482, '▁외로운': 9483, '▁측면': 9484, '▁회복': 9485, '▁출연료': 9486, '▁명곡': 9487, '▁의존': 9488, '흐흐': 9489, '훈훈': 9490, '뮤지컬': 9491, '프랑스': 9492, '홍콩': 9493, 'ᄋᄋᄋ': 9494, 'cgv': 9495, '뻔한스토리': 9496, '▁즐겨보': 9497, '▁경쟁': 9498, '▁갑작스': 9499, '기다리': 9500, '▁따듯하': 9501, '기위한': 9502, '보게됨': 9503, '메시지를': 9504, '▁나쁜놈': 9505, '▁시간아까운': 9506, 'ir': 9507, '▁아역배우': 9508, '▁짧지': 9509, '▁이해못하': 9510, '렘': 9511, '▁OCN': 9512, '▁love': 9513, '▁아날로그': 9514, '▁어땠을까': 9515, '▁옴니버스': 9516, '▁핸드폰': 9517, '궈': 9518, '껍': 9519, '롬': 9520, '좁': 9521, '짖': 9522, '쪄': 9523, '갸': 9524, '썽': 9525, '꽝': 9526, '웬': 9527, '[': 9528, '꽤': 9529, '겻': 9530, '갇': 9531, '삽': 9532, '훌': 9533, 'ᆞ': 9534, '·': 9535, 'ᅭ': 9536, '’': 9537, '씽': 9538, '쨩': 9539, '퍽': 9540, '밭': 9541, '캅': 9542, '톡': 9543, '꿋': 9544, '폼': 9545, '짠': 9546, '곁': 9547, '윙': 9548, '엥': 9549, '훅': 9550, '꼼': 9551, '댔': 9552, '쌤': 9553, '햐': 9554, '갤': 9555, '\\\\': 9556, '짤': 9557, '밌': 9558, '쩡': 9559, '륭': 9560, '붓': 9561, '늠': 9562, '얕': 9563, '쵸': 9564, '핍': 9565, '횡': 9566, '뛴': 9567, '뤽': 9568, '셰': 9569, '깬': 9570, '몹': 9571, '얀': 9572, '걱': 9573, '늑': 9574, '뭥': 9575, '힙': 9576, '뎈': 9577, '‘': 9578, '낰': 9579, '놉': 9580, '뤘': 9581, '쟝': 9582, '깽': 9583, '낱': 9584, '뜰': 9585, '붐': 9586, '썅': 9587, '윗': 9588, 'Q': 9589, '밑': 9590, '낌': 9591, '낄': 9592, '캔': 9593, '겜': 9594, '밸': 9595, '슌': 9596, '힝': 9597, '곸': 9598, '굼': 9599, '꺅': 9600, '됀': 9601, '앳': 9602, '얌': 9603, '웁': 9604, '짭': 9605, '팜': 9606, '“': 9607, '|': 9608, 'ᅧ': 9609, '냉': 9610, '및': 9611, '헬': 9612, '떤': 9613, '펙': 9614, '첼': 9615, 'ᅣ': 9616, '뵈': 9617, '꿉': 9618, '뱃': 9619, '융': 9620, '텍': 9621, '꾀': 9622, '뚤': 9623, '젬': 9624, '퀼': 9625, '휼': 9626, '찜': 9627, '얔': 9628, '돠': 9629, '빔': 9630, '빽': 9631, '샴': 9632, '섰': 9633, '쑈': 9634, '푹': 9635, '땀': 9636, '맡': 9637, '뷔': 9638, '쿤': 9639, '퀘': 9640, '”': 9641, '→': 9642, '甲': 9643, '땟': 9644, '떴': 9645, '쁠': 9646, '싯': 9647, '욘': 9648, '욯': 9649, '읎': 9650, '쟤': 9651, '짚': 9652, '캣': 9653, '쾅': 9654, '댜': 9655, '칫': 9656, '쉘': 9657, '乃': 9658, '걔': 9659, '뇬': 9660, '룻': 9661, '숴': 9662, '웡': 9663, '웹': 9664, '퉷': 9665, '훤': 9666, '댁': 9667, '뺐': 9668, '갚': 9669, '훨': 9670, '곧': 9671, '쩐': 9672, '、': 9673, '됏': 9674, '젝': 9675, '챔': 9676, '♬': 9677, '괄': 9678, '귄': 9679, '뭍': 9680, '뮬': 9681, '좃': 9682, '죵': 9683, '쨔': 9684, '핰': 9685, '無': 9686, '넉': 9687, '뤠': 9688, '꿰': 9689, '헛': 9690, '겔': 9691, '맬': 9692, '벡': 9693, '쏜': 9694, '멧': 9695, '믓': 9696, '뿅': 9697, '쪙': 9698, '킁': 9699, '겅': 9700, '뿍': 9701, '슥': 9702, '첸': 9703, '땜': 9704, '녁': 9705, '썹': 9706, '넥': 9707, '홉': 9708, '끽': 9709, '얍': 9710, '륨': 9711, '잌': 9712, '잰': 9713, '찼': 9714, '툴': 9715, '풉': 9716, '굽': 9717, '껌': 9718, '넴': 9719, '눅': 9720, '쳇': 9721, '칵': 9722, '퐁': 9723, '휙': 9724, '흣': 9725, '뺑': 9726, '텨': 9727, '렜': 9728, '뗄': 9729, '뒷': 9730, '챈': 9731, '깼': 9732, '쫑': 9733, '뷁': 9734, '섀': 9735, '슐': 9736, '쒯': 9737, '』': 9738, '굶': 9739, '꼐': 9740, '꽈': 9741, '넛': 9742, '돔': 9743, '볶': 9744, '샵': 9745, '넝': 9746, '뒹': 9747, '춥': 9748, '캄': 9749, '『': 9750, '뻗': 9751, '쎈': 9752, '갯': 9753, '끙': 9754, '뎃': 9755, '멱': 9756, '뿡': 9757, '왁': 9758, '졷': 9759, '콱': 9760, '팰': 9761, '헿': 9762, '냔': 9763, '넨': 9764, '욥': 9765, '햅': 9766, '괸': 9767, '눕': 9768, 'ᄡ': 9769, '꼇': 9770, '밓': 9771, '{': 9772, '혓': 9773, '랖': 9774, '쑥': 9775, '}': 9776, '곀': 9777, '궤': 9778, '꺠': 9779, '벳': 9780, '컵': 9781, '뒈': 9782, '딥': 9783, '쒸': 9784, '줏': 9785, '컥': 9786, '봅': 9787, '잎': 9788, '갘': 9789, 'ᄈ': 9790, '짰': 9791, '死': 9792, '눔': 9793, '떵': 9794, '롹': 9795, '쨰': 9796, '쫘': 9797, '챤': 9798, '쿼': 9799, '큭': 9800, '툼': 9801, '깟': 9802, '딛': 9803, '앰': 9804, '잦': 9805, '닛': 9806, '$': 9807, '뭣': 9808, '쮸': 9809, '女': 9810, '읭': 9811, '뭄': 9812, '쳣': 9813, '팟': 9814, 'ᆪ': 9815, '⌒': 9816, '♪': 9817, '作': 9818, '뺄': 9819, '앱': 9820, '읊': 9821, '펭': 9822, '쏭': 9823, '컹': 9824, '옛': 9825, '촬': 9826, '킵': 9827, '랔': 9828, '롸': 9829, '찟': 9830, '꿇': 9831, '뤼': 9832, '찹': 9833, '냠': 9834, '믈': 9835, '뽐': 9836, '숏': 9837, '웍': 9838, '웜': 9839, '쥰': 9840, '쨍': 9841, '캉': 9842, '콰': 9843, '떙': 9844, '렙': 9845, '뮈': 9846, '븅': 9847, '슝': 9848, '옇': 9849, '챦': 9850, '촐': 9851, '헥': 9852, '팥': 9853, '캘': 9854, 'ン': 9855, '밈': 9856, '퀀': 9857, '×': 9858, '굉': 9859, '옳': 9860, '눠': 9861, '췌': 9862, '텝': 9863, '슷': 9864, '탤': 9865, '햏': 9866, '햌': 9867, '츈': 9868, '챘': 9869, '짘': 9870, '죨': 9871, '썪': 9872, '뛸': 9873, '덟': 9874, '훠': 9875, '짊': 9876, '왘': 9877, '씸': 9878, '쌉': 9879, '숟': 9880, '빴': 9881, '벚': 9882, '랗': 9883, '냨': 9884, '괭': 9885, '흩': 9886, '헵': 9887, '쥑': 9888, '故': 9889, '잴': 9890, '윅': 9891, '땔': 9892, '닠': 9893, '놧': 9894, '뀜': 9895, '껑': 9896, '홥': 9897, '헴': 9898, '촛': 9899, '앍': 9900, '뉜': 9901, '훑': 9902, '샛': 9903, '덱': 9904, '낍': 9905, '괞': 9906, '휠': 9907, '헠': 9908, '츤': 9909, '좔': 9910, '꺾': 9911, '횟': 9912, '핥': 9913, '폄': 9914, '큽': 9915, '샐': 9916, '뀔': 9917, '휩': 9918, '쁩': 9919, '핡': 9920, '큘': 9921, '콥': 9922, '촘': 9923, '옜': 9924, '뺴': 9925, '멎': 9926, '뵙': 9927, '꺽': 9928, '긁': 9929, '딪': 9930, '낡': 9931, '펏': 9932, '릎': 9933, '녔': 9934, '굵': 9935, '씻': 9936, '닳': 9937, '얹': 9938, '켠': 9939, '쥔': 9940, '왼': 9941, '셸': 9942, '픕': 9943, '딨': 9944, '넋': 9945, '빚': 9946, '꽥': 9947, '뀐': 9948, '뭡': 9949, '얽': 9950, '앓': 9951, '쫒': 9952, '쨋': 9953, '텅': 9954, '꽉': 9955, '붉': 9956, '땠': 9957, '멤': 9958, '둠': 9959, '홧': 9960, '밟': 9961, '틋': 9962, '뿜': 9963, '뻣': 9964, '빕': 9965, '컸': 9966, '옮': 9967, '핸': 9968, '맑': 9969, '찢': 9970, '엮': 9971, '팠': 9972, '쨌': 9973, '쫄': 9974, '틸': 9975, '띄': 9976, '겪': 9977, '껐': 9978, '왤': 9979, '뻤': 9980, '쏟': 9981, '닙': 9982, '딧': 9983, '듭': 9984, '섞': 9985, '획': 9986, '겉': 9987, '쁨': 9988, '됩': 9989, '늦': 9990, '볍': 9991, '찝': 9992, '묻': 9993, '똑': 9994, '깊': 9995, '떻': 9996, '렸': 9997, '렇': 9998, '봤': 9999}\n"
          ]
        }
      ]
    },
    {
      "cell_type": "markdown",
      "source": [
        "# Step 4. 네이버 영화리뷰 감정 분석 문제에 SentencePiece 적용해보기\n",
        "\n",
        "### 1. 학습데이터, 테스트데이터 만들기\n",
        "### 2. 모델생성 및 학습\n",
        "### 3. 시각화\n",
        "\n",
        "# 1. 학습데이터, 테스트데이터 만들기"
      ],
      "metadata": {
        "id": "Gs_8T1-w1eIR"
      }
    },
    {
      "cell_type": "code",
      "source": [
        "len(raw_data)"
      ],
      "metadata": {
        "colab": {
          "base_uri": "https://localhost:8080/"
        },
        "id": "ZF2aC5p12FAC",
        "outputId": "dda0e54f-40f8-481e-bc5c-75f6c8d3439e"
      },
      "execution_count": null,
      "outputs": [
        {
          "output_type": "execute_result",
          "data": {
            "text/plain": [
              "146083"
            ]
          },
          "metadata": {},
          "execution_count": 38
        }
      ]
    },
    {
      "cell_type": "markdown",
      "source": [
        "### 현재 raw_data의 크기가 146081이다. 20%의 데이터는 약 3만개이므로, train데이터를 약 11만개, test 데이터를 3만개로 하여 테스트를 진행할 것이다."
      ],
      "metadata": {
        "id": "k40UUZD164Gp"
      }
    },
    {
      "cell_type": "code",
      "source": [
        "train_data = raw_data[:-30000]\n",
        "valid_data = raw_data[-30000:]"
      ],
      "metadata": {
        "id": "N_mP4kmX63yv"
      },
      "execution_count": null,
      "outputs": []
    },
    {
      "cell_type": "code",
      "source": [
        "print(len(train_data), len(valid_data))"
      ],
      "metadata": {
        "colab": {
          "base_uri": "https://localhost:8080/"
        },
        "id": "igGdtaci2E9P",
        "outputId": "0088ee0c-301d-4d91-dfb2-e36c8c9c91a4"
      },
      "execution_count": null,
      "outputs": [
        {
          "output_type": "stream",
          "name": "stdout",
          "text": [
            "116083 30000\n"
          ]
        }
      ]
    },
    {
      "cell_type": "markdown",
      "source": [
        "train_data와 valid_data 수의 합이 기존 데이터와 같으니, 잘 나뉘어졌습니다 :>\n",
        "\n",
        "### 로드데이터 수정"
      ],
      "metadata": {
        "id": "5oSiXi4n7-2Y"
      }
    },
    {
      "cell_type": "code",
      "source": [
        "def load_data(train_data, valid_data, num_words=10000):\n",
        "\n",
        "  # 전처리 과정을 추가해주려면 위에서 해줘야함 ㅠ_ㅠ\n",
        "\n",
        "\n",
        "    train_list = []\n",
        "    for sentence in train_data['document']:\n",
        "        train_list.append(sentence)\n",
        "\n",
        "    val_list = []\n",
        "    for sentence in valid_data['document']:\n",
        "        val_list.append(sentence)\n",
        "    \n",
        "    X_train, word_to_index, index_to_word = sp_tokenize(s, train_list)\n",
        "    X_val , _,_ = sp_tokenize(s, val_list)\n",
        "\n",
        "        \n",
        "    return X_train, np.array(list(train_data['label'])), X_val, np.array(list(valid_data['label'])), word_to_index\n",
        "    \n",
        "X_train, y_train, X_val, y_val, word_to_index = load_data(train_data, valid_data)\n"
      ],
      "metadata": {
        "id": "0ZnNxAvf2E7k"
      },
      "execution_count": null,
      "outputs": []
    },
    {
      "cell_type": "code",
      "source": [
        "X_train\n"
      ],
      "metadata": {
        "colab": {
          "base_uri": "https://localhost:8080/"
        },
        "id": "Ke7IOdKZ2E43",
        "outputId": "1ceb4dde-6957-4d4d-c333-7b7c9a91d1db"
      },
      "execution_count": null,
      "outputs": [
        {
          "output_type": "execute_result",
          "data": {
            "text/plain": [
              "array([[  62,  870,    6, ...,    0,    0,    0],\n",
              "       [1680,    9, 1342, ...,    0,    0,    0],\n",
              "       [  23,  369, 9771, ...,    0,    0,    0],\n",
              "       ...,\n",
              "       [ 226,  558,   37, ...,    0,    0,    0],\n",
              "       [ 869,   17,  726, ...,    0,    0,    0],\n",
              "       [  47, 1411, 1397, ...,    0,    0,    0]], dtype=int32)"
            ]
          },
          "metadata": {},
          "execution_count": 42
        }
      ]
    },
    {
      "cell_type": "code",
      "source": [
        "y_train\n"
      ],
      "metadata": {
        "colab": {
          "base_uri": "https://localhost:8080/"
        },
        "id": "ACJy2gfJ2E2D",
        "outputId": "3af97025-35cd-4fce-8eb1-3cdedf9d730c"
      },
      "execution_count": null,
      "outputs": [
        {
          "output_type": "execute_result",
          "data": {
            "text/plain": [
              "array([0, 1, 0, ..., 0, 0, 1])"
            ]
          },
          "metadata": {},
          "execution_count": 43
        }
      ]
    },
    {
      "cell_type": "code",
      "source": [
        "X_val\n"
      ],
      "metadata": {
        "colab": {
          "base_uri": "https://localhost:8080/"
        },
        "id": "1tU1plWf2EzS",
        "outputId": "f3e53d43-939d-4974-a59a-cb4c6ed481ab"
      },
      "execution_count": null,
      "outputs": [
        {
          "output_type": "execute_result",
          "data": {
            "text/plain": [
              "array([[ 139,  162,   50, ...,    0,    0,    0],\n",
              "       [ 139,   50, 2424, ...,    0,    0,    0],\n",
              "       [  27,    4, 4513, ...,    0,    0,    0],\n",
              "       ...,\n",
              "       [ 139,  167,   63, ...,    0,    0,    0],\n",
              "       [1861,  564, 5300, ...,    0,    0,    0],\n",
              "       [ 252,    8, 4098, ...,    0,    0,    0]], dtype=int32)"
            ]
          },
          "metadata": {},
          "execution_count": 44
        }
      ]
    },
    {
      "cell_type": "code",
      "source": [
        "y_val"
      ],
      "metadata": {
        "id": "nZIBgeyuanU_",
        "colab": {
          "base_uri": "https://localhost:8080/"
        },
        "outputId": "ec05444e-ed22-48f0-8a1e-a80b95cf88f0"
      },
      "execution_count": null,
      "outputs": [
        {
          "output_type": "execute_result",
          "data": {
            "text/plain": [
              "array([0, 0, 0, ..., 0, 1, 0])"
            ]
          },
          "metadata": {},
          "execution_count": 45
        }
      ]
    },
    {
      "cell_type": "code",
      "source": [
        "print(len(X_train), len(y_train))\n",
        "print(len(X_val), len(y_val))"
      ],
      "metadata": {
        "id": "Ykzjhy--anSi",
        "colab": {
          "base_uri": "https://localhost:8080/"
        },
        "outputId": "2c147248-50ec-4d44-c3be-8755d784745f"
      },
      "execution_count": null,
      "outputs": [
        {
          "output_type": "stream",
          "name": "stdout",
          "text": [
            "116083 116083\n",
            "30000 30000\n"
          ]
        }
      ]
    },
    {
      "cell_type": "markdown",
      "source": [
        "# 2. 모델생성 및 학습\n",
        "\n",
        "지쳤으므로 LSTM만 생성해서 사용해봅니다.\n"
      ],
      "metadata": {
        "id": "62tDBjkn9VzF"
      }
    },
    {
      "cell_type": "code",
      "source": [
        "import keras\n",
        "vocab_size = 10000    # 어휘 사전의 크기입니다(10,000개의 단어)\n",
        "word_vector_dim = 256  # 워드 벡터의 차원 수 (변경 가능한 하이퍼파라미터)"
      ],
      "metadata": {
        "id": "zzJtBW8N_Z9k"
      },
      "execution_count": null,
      "outputs": []
    },
    {
      "cell_type": "code",
      "source": [
        "# model_LSTM 설계 - 딥러닝 모델 코드를 직접 작성해 주세요.\n",
        "model_LSTM = keras.Sequential()\n",
        "model_LSTM.add(keras.layers.Embedding(vocab_size, word_vector_dim, input_shape=(None,)))\n",
        "model_LSTM.add(keras.layers.LSTM(20))   # 가장 널리 쓰이는 RNN인 LSTM 레이어를 사용하였습니다. 이때 LSTM state 벡터의 차원수는 8로 하였습니다. (변경 가능)\n",
        "model_LSTM.add(keras.layers.Dense(8, activation='relu'))\n",
        "model_LSTM.add(keras.layers.Dense(1, activation='sigmoid'))  # 최종 출력은 긍정/부정을 나타내는 1dim 입니다.\n",
        "\n",
        "model_LSTM.summary()"
      ],
      "metadata": {
        "id": "6ZsNdxiCanQI",
        "colab": {
          "base_uri": "https://localhost:8080/"
        },
        "outputId": "f9763053-86b1-440e-8d59-d4effb0b4a34"
      },
      "execution_count": null,
      "outputs": [
        {
          "output_type": "stream",
          "name": "stdout",
          "text": [
            "Model: \"sequential\"\n",
            "_________________________________________________________________\n",
            " Layer (type)                Output Shape              Param #   \n",
            "=================================================================\n",
            " embedding (Embedding)       (None, None, 256)         2560000   \n",
            "                                                                 \n",
            " lstm (LSTM)                 (None, 20)                22160     \n",
            "                                                                 \n",
            " dense (Dense)               (None, 8)                 168       \n",
            "                                                                 \n",
            " dense_1 (Dense)             (None, 1)                 9         \n",
            "                                                                 \n",
            "=================================================================\n",
            "Total params: 2,582,337\n",
            "Trainable params: 2,582,337\n",
            "Non-trainable params: 0\n",
            "_________________________________________________________________\n"
          ]
        }
      ]
    },
    {
      "cell_type": "code",
      "source": [
        "model_LSTM.compile(optimizer='adam',\n",
        "            loss='binary_crossentropy',\n",
        "            metrics=['accuracy'])\n",
        "\n",
        "epochs=10 # 훈련결과 보고 바꿔보기\n",
        "\n",
        "history_lstm = model_LSTM.fit(X_train,\n",
        "                  y_train,\n",
        "                  epochs=epochs,\n",
        "                  batch_size=512,\n",
        "                  validation_data=(X_val,\n",
        "                  y_val), \n",
        "                   verbose=1)"
      ],
      "metadata": {
        "id": "Muy-H0GKanN3",
        "colab": {
          "base_uri": "https://localhost:8080/"
        },
        "outputId": "68324708-1029-42c2-ef67-83fe1a64c328"
      },
      "execution_count": null,
      "outputs": [
        {
          "output_type": "stream",
          "name": "stdout",
          "text": [
            "Epoch 1/10\n",
            "227/227 [==============================] - 12s 24ms/step - loss: 0.6932 - accuracy: 0.5004 - val_loss: 0.6931 - val_accuracy: 0.5044\n",
            "Epoch 2/10\n",
            "227/227 [==============================] - 5s 22ms/step - loss: 0.6932 - accuracy: 0.5011 - val_loss: 0.6931 - val_accuracy: 0.5044\n",
            "Epoch 3/10\n",
            "227/227 [==============================] - 5s 22ms/step - loss: 0.6932 - accuracy: 0.5000 - val_loss: 0.6931 - val_accuracy: 0.5044\n",
            "Epoch 4/10\n",
            "227/227 [==============================] - 5s 22ms/step - loss: 0.6931 - accuracy: 0.5011 - val_loss: 0.6931 - val_accuracy: 0.5044\n",
            "Epoch 5/10\n",
            "227/227 [==============================] - 5s 22ms/step - loss: 0.6932 - accuracy: 0.5004 - val_loss: 0.6931 - val_accuracy: 0.4957\n",
            "Epoch 6/10\n",
            "227/227 [==============================] - 5s 22ms/step - loss: 0.6931 - accuracy: 0.5007 - val_loss: 0.6931 - val_accuracy: 0.5044\n",
            "Epoch 7/10\n",
            "227/227 [==============================] - 5s 22ms/step - loss: 0.6931 - accuracy: 0.5011 - val_loss: 0.6931 - val_accuracy: 0.5044\n",
            "Epoch 8/10\n",
            "227/227 [==============================] - 5s 22ms/step - loss: 0.6931 - accuracy: 0.4995 - val_loss: 0.6931 - val_accuracy: 0.5044\n",
            "Epoch 9/10\n",
            "227/227 [==============================] - 5s 22ms/step - loss: 0.6931 - accuracy: 0.5007 - val_loss: 0.6931 - val_accuracy: 0.4957\n",
            "Epoch 10/10\n",
            "227/227 [==============================] - 4s 20ms/step - loss: 0.6932 - accuracy: 0.4973 - val_loss: 0.6931 - val_accuracy: 0.5044\n"
          ]
        }
      ]
    },
    {
      "cell_type": "markdown",
      "source": [
        "# 3. 시각화"
      ],
      "metadata": {
        "id": "wg7NczMjAqt1"
      }
    },
    {
      "cell_type": "code",
      "source": [
        "history_lstm_dict = history_lstm.history\n",
        "print(history_lstm_dict.keys()) # epoch에 따른 그래프를 그려볼 수 있는 항목들\n"
      ],
      "metadata": {
        "id": "JDQjHdujanLo",
        "colab": {
          "base_uri": "https://localhost:8080/"
        },
        "outputId": "4fb2d27f-d248-4c76-c074-36cf4dd33bae"
      },
      "execution_count": null,
      "outputs": [
        {
          "output_type": "stream",
          "name": "stdout",
          "text": [
            "dict_keys(['loss', 'accuracy', 'val_loss', 'val_accuracy'])\n"
          ]
        }
      ]
    },
    {
      "cell_type": "code",
      "source": [
        "acc = history_lstm_dict['accuracy']\n",
        "val_acc = history_lstm_dict['val_accuracy']\n",
        "loss = history_lstm_dict['loss']\n",
        "val_loss = history_lstm_dict['val_loss']\n",
        "\n",
        "epochs = range(1, len(acc) + 1)"
      ],
      "metadata": {
        "id": "umo8VXB0Avsg"
      },
      "execution_count": null,
      "outputs": []
    },
    {
      "cell_type": "code",
      "source": [
        "import matplotlib.pyplot as plt\n",
        "plt.figure(figsize=(10, 4))\n",
        "\n",
        "# Loss 그래프\n",
        "plt.subplot(1, 2, 1)\n",
        "plt.plot(epochs, loss, 'bo', label='Training loss') # \"bo\"는 \"파란색 점\"\n",
        "plt.plot(epochs, val_loss, 'b', label='Validation loss') # \"b\"는 \"파란 실선\"\n",
        "plt.title('Training and validation loss')\n",
        "plt.xlabel('Epochs')\n",
        "plt.ylabel('Loss')\n",
        "plt.legend()\n",
        "\n",
        "# Accuracy 그래프\n",
        "plt.subplot(1, 2, 2)\n",
        "plt.plot(epochs, acc, 'bo', label='Training acc')\n",
        "plt.plot(epochs, val_acc, 'b', label='Validation acc')\n",
        "plt.title('Training and validation accuracy')\n",
        "plt.xlabel('Epochs')\n",
        "plt.ylabel('Accuracy')\n",
        "plt.legend()\n",
        "plt.show()"
      ],
      "metadata": {
        "id": "ELnSdwa6AvrC",
        "colab": {
          "base_uri": "https://localhost:8080/",
          "height": 295
        },
        "outputId": "49f458c7-d266-4c71-e7b7-f4a03c97a91c"
      },
      "execution_count": null,
      "outputs": [
        {
          "output_type": "display_data",
          "data": {
            "text/plain": [
              "<Figure size 720x288 with 2 Axes>"
            ],
            "image/png": "[encoded data removed]"
          },
          "metadata": {
            "needs_background": "light"
          }
        }
      ]
    },
    {
      "cell_type": "code",
      "source": [
        "# print(lstm_results)\n"
      ],
      "metadata": {
        "id": "mfOtT4vPAvpf",
        "colab": {
          "base_uri": "https://localhost:8080/",
          "height": 174
        },
        "outputId": "bc76e9c1-74db-4cc1-a273-71a6a940e6d3"
      },
      "execution_count": null,
      "outputs": [
        {
          "output_type": "error",
          "ename": "NameError",
          "evalue": "ignored",
          "traceback": [
            "\u001b[0;31m---------------------------------------------------------------------------\u001b[0m",
            "\u001b[0;31mNameError\u001b[0m                                 Traceback (most recent call last)",
            "\u001b[0;32m<ipython-input-53-35eec886dbb8>\u001b[0m in \u001b[0;36m<module>\u001b[0;34m()\u001b[0m\n\u001b[0;32m----> 1\u001b[0;31m \u001b[0mprint\u001b[0m\u001b[0;34m(\u001b[0m\u001b[0mlstm_results\u001b[0m\u001b[0;34m)\u001b[0m\u001b[0;34m\u001b[0m\u001b[0;34m\u001b[0m\u001b[0m\n\u001b[0m",
            "\u001b[0;31mNameError\u001b[0m: name 'lstm_results' is not defined"
          ]
        }
      ]
    },
    {
      "cell_type": "markdown",
      "source": [
        "# 지쳤으므로 익스 6에서 konlpy를 사용해서 나온 결과를 복붙해서 가져왔습니다^^\n",
        "\n",
        "Word2Vec을 이용한부분아니고 konlpy를 했던 부분을 가져왔습니다.\n",
        "\n",
        "![image.png](data:image/png;base64,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)"
      ],
      "metadata": {
        "id": "PW5SvXvwA1vY"
      }
    },
    {
      "cell_type": "markdown",
      "source": [
        "- konlpy 결과 loss와  acc\n",
        "\n",
        "[0.4712178111076355, 0.8473259210586548]\n"
      ],
      "metadata": {
        "id": "jRE_C59ZCSHT"
      }
    },
    {
      "cell_type": "code",
      "source": [
        ""
      ],
      "metadata": {
        "id": "PLZZRBgaAvlG"
      },
      "execution_count": null,
      "outputs": []
    },
    {
      "cell_type": "code",
      "source": [
        ""
      ],
      "metadata": {
        "id": "GitaNyjqAvix"
      },
      "execution_count": null,
      "outputs": []
    },
    {
      "cell_type": "markdown",
      "source": [
        "# 결과 비교\n",
        "\n",
        "이해한 대로 프로젝트를 만들었는데 예상과 다르게 학습이 전혀 진행되지 않은 것을 알 수 있습니다.ㅠㅠ 뭐가문젤가!!!"
      ],
      "metadata": {
        "id": "OZt8XydAS5Kz"
      }
    },
    {
      "cell_type": "code",
      "source": [
        ""
      ],
      "metadata": {
        "id": "5GghagkbAvgy"
      },
      "execution_count": null,
      "outputs": []
    },
    {
      "cell_type": "code",
      "source": [
        ""
      ],
      "metadata": {
        "id": "oS0rT2nuAvfE"
      },
      "execution_count": null,
      "outputs": []
    },
    {
      "cell_type": "code",
      "source": [
        ""
      ],
      "metadata": {
        "id": "6MaQrd9mAvX-"
      },
      "execution_count": null,
      "outputs": []
    },
    {
      "cell_type": "code",
      "source": [
        ""
      ],
      "metadata": {
        "id": "fQrxcNclAvWk"
      },
      "execution_count": null,
      "outputs": []
    },
    {
      "cell_type": "code",
      "source": [
        ""
      ],
      "metadata": {
        "id": "2T0Kuw_OAvSn"
      },
      "execution_count": null,
      "outputs": []
    },
    {
      "cell_type": "code",
      "source": [
        ""
      ],
      "metadata": {
        "id": "TEYIT81qanI7"
      },
      "execution_count": null,
      "outputs": []
    },
    {
      "cell_type": "code",
      "source": [
        ""
      ],
      "metadata": {
        "id": "tG7HY8N5anGG"
      },
      "execution_count": null,
      "outputs": []
    },
    {
      "cell_type": "markdown",
      "source": [
        "# 회고\n",
        "\n",
        "1.다음과 같이 raw_data의 길이를 뽑는데 TypeError가 났다. 이 경우는 Nan값이 존재하는 경우 길이를 구할 수 없어서 나는 오류이다."
      ],
      "metadata": {
        "id": "_FPLD6F6-3HK"
      }
    },
    {
      "cell_type": "markdown",
      "source": [
        "![image.png](data:image/png;base64,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)"
      ],
      "metadata": {
        "id": "Q3jXW0eSdMZJ"
      }
    },
    {
      "cell_type": "markdown",
      "source": [
        "2. 판다스에서 특정 조건을 삭제하는 메소드가 자주 쓰인다. 이에 대해서 정리해보았다.\n",
        "\n",
        "- 방법 1.\n",
        "\n",
        "![image.png](data:image/png;base64,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)\n"
      ],
      "metadata": {
        "id": "Rd1Qfpy5e_tj"
      }
    },
    {
      "cell_type": "markdown",
      "source": [
        "- 방법 2. DF = DF[DF.메뉴 != '돈까스']"
      ],
      "metadata": {
        "id": "hL5SyFoTfTYz"
      }
    },
    {
      "cell_type": "markdown",
      "source": [
        "3. 방법 1을 pandas 데이터 프레임을 이용해서 사용하면 keyError가 일어납니다. len(string)을 포함하는 조건식을 기반으로 pandas dataframe 행을 삭제하는 방법\n",
        "\n",
        "- [출처](http://daplus.net/python-keyerror%EB%A5%BC%EC%A3%BC%EB%8A%94-len-string%EC%9D%84-%ED%8F%AC%ED%95%A8%ED%95%98%EB%8A%94-%EC%A1%B0%EA%B1%B4%EC%8B%9D%EC%9D%84-%EA%B8%B0%EB%B0%98%EC%9C%BC%EB%A1%9C-%ED%8C%AC%EB%8D%94-dat/)\n",
        "\n",
        "> 오류 코드 : df[(len(df['column name']) < 2)]\n",
        "\n",
        "> 해결 코드 : df[df['column name'].map(len) < 2]\n",
        "\n",
        "4. 데이터의 양이 많아 모든 데이터에 hanspell 처리를 해주려면 정말 오래걸렸습니다. 데이터프레임을 병렬처리해주는 방법을 연구하고싶습니다.\n",
        "\n"
      ],
      "metadata": {
        "id": "tckiP-XDfiYq"
      }
    },
    {
      "cell_type": "markdown",
      "source": [
        " 5. 저번부터 계속 헷갈렸던 건데, 판다스 dataframe을 for문으로 돌리려면 (컬럼 정보를 주고 값을 뽑아 낼 수 있는 for 문)으로 돌리려면 `for df in dataframe:`형식으로 뽑으면 안된다\n",
        "\n",
        "\n",
        " - [참고한 사이트](https://www.delftstack.com/ko/howto/python-pandas/how-to-iterate-through-rows-of-a-dataframe-in-pandas/)\n",
        "1. Pandas DataFrame에서 행을 반복하는index 속성\n",
        "2. 파이썬에서 DataFrame의 행을 반복하는loc[]메소드\n",
        "3. 파이썬에서 DataFrame의 행을 반복하는iloc[]메소드\n",
        "4. pandas.DataFrame.iterrows()는 행 Pandas를 반복합니다\n",
        "5. pandas.DataFrame.itertuples는 행 Pandas를 반복합니다\n",
        "6. pandas.DataFrame.apply는 행 Pandas를 반복합니다\n",
        "\n",
        "메소드가 다양하므로 각각을 어떤 상황에서 써야하는지를 꼭 알아두자!\n",
        "\n",
        "6. 특수문자 ♥과 ♥♥를 다르게 인식할것이므로, 전처리 단계에 특수문자 앞뒤로 공백을 추가하는 전처리를 추가해야겠다.\n",
        "\n",
        "7. 파이썬에서 임시파일을 작성하는 방법\n",
        "\n",
        "여기 노트북에서 이걸 시도했다가, 파일명을 설정하는방법을 모르겠고 일단 임시파일이 내가원하는 위치에 만들어지는게 아니라 특정 디렉토리에 자동으로 만들어지는 것 같아서 사용하지않았다.\n",
        "\n",
        "- [참고 사이트](https://codechacha.com/ko/python-temp-file-and-dir/\n",
        "\n",
        "8. 프로젝트를 진행 하다보니 네이버의 train데이터만 썼는데, 다음에는 처음부터 train과 test데이터를 concatenate 해서 그걸 다시 train / validate / test 데이터로 나눠서 사용해야겠다ㅠ_ㅠ\n",
        "\n",
        "9. 전처리에서 불용어를 제거하지 않았다. ㅋㅋㅋㅋㅋㅋ 를 ㅋㅋ로, ㅠㅠㅠㅠㅠ를 ㅠㅠ정도로 작게 처리해주는 전처리작업도 추가하고싶다.\n",
        "\n",
        "10. 고잉딥퍼가 이정도 수준일줄 몰랐따 진짜어렵다 정말정말정말정말정말정말정말 어렵다. 익스를 제대로 이해하고 있어야 하고, nlp에 대해 전반적인 이해가 좀 된 상태여야 막히지 않았을것같다. 정말 개념을 계속보고, 익스도 계속보고 고잉딥퍼도 계속봤는데 정~~~~~~~~~~말 어려워서 눈물날거같다 ㅋㅋㅋㅋㅋㅋㅋㅋㅋㅋㅋㅋㅋㅋㅋㅋㅋㅋㅋㅋㅋㅋㅋㅋㅋㅋ \n",
        "\n",
        "익스는 그래도 코드블록을 다 복붙으로 사용하면 프로젝트가 돌아갔는데 고잉딥퍼는 수정하지 않은 블록이 없는것같다. 오히려 너무 많이 수정해서 이렇게 하는게 맞는지 의구심이 들지경,, 사실 제출못할 줄알고 아예 천천히(물론 의도적인 천천히는 아니었따. 내 속도가 이정도밖에 안나는거지) 진행하고 있었는데 그래도 제출은 할 수있어 너무행복하다 ㅋㅋㅋㅋㅋㅋㅋㅋㅋㅋㅋㅋㅋㅋㅋㅋㅋㅋㅋㅋㅋㅋㅋㅋ 이게 고잉딥퍼 첫번재 프로젝트면 후반부는 어떻게 되는거지 넘무 두렵다,,!\n",
        " \n",
        "11. 학습이 제대로 되고있지 않은거 같은데 뭐가문젤까,,제발알려줘라ㅠ"
      ],
      "metadata": {
        "id": "T5ZQsYQLe9Qm"
      }
    },
    {
      "cell_type": "code",
      "source": [
        ""
      ],
      "metadata": {
        "id": "PLFSvqH16TQA"
      },
      "execution_count": null,
      "outputs": []
    }
  ]
}