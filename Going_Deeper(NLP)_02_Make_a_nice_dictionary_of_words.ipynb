{
  "nbformat": 4,
  "nbformat_minor": 0,
  "metadata": {
    "colab": {
      "name": "Going Deeper(NLP) 02. Make a nice dictionary of words.ipynb",
      "provenance": [],
      "collapsed_sections": [],
      "machine_shape": "hm",
      "mount_file_id": "1u4MxOfkAChPNf-hufE4pPQXDvsdIwhoU",
      "authorship_tag": "ABX9TyPVP4qmcvU0rSr7XuLXM5HL",
      "include_colab_link": true
    },
    "kernelspec": {
      "name": "python3",
      "display_name": "Python 3"
    },
    "language_info": {
      "name": "python"
    },
    "accelerator": "GPU"
  },
  "cells": [
    {
      "cell_type": "markdown",
      "metadata": {
        "id": "view-in-github",
        "colab_type": "text"
      },
      "source": [
        "<a href=\"https://colab.research.google.com/github/Nega0619/Aiffel_Submitted_Exploration_nodes/blob/main/Going_Deeper(NLP)_02_Make_a_nice_dictionary_of_words.ipynb\" target=\"_parent\"><img src=\"https://colab.research.google.com/assets/colab-badge.svg\" alt=\"Open In Colab\"/></a>"
      ]
    },
    {
      "cell_type": "markdown",
      "source": [
        ""
      ],
      "metadata": {
        "id": "Y8Mu61WjSxUO"
      }
    },
    {
      "cell_type": "code",
      "source": [
        "cd /content/drive/MyDrive/GoingDeeper(NLP)"
      ],
      "metadata": {
        "colab": {
          "base_uri": "https://localhost:8080/"
        },
        "id": "_8KhNNSF5uv5",
        "outputId": "c894b9b4-b83d-44f3-d89e-8f941401020e"
      },
      "execution_count": 1,
      "outputs": [
        {
          "output_type": "stream",
          "name": "stdout",
          "text": [
            "/content/drive/MyDrive/GoingDeeper(NLP)\n"
          ]
        }
      ]
    },
    {
      "cell_type": "code",
      "source": [
        "pwd"
      ],
      "metadata": {
        "colab": {
          "base_uri": "https://localhost:8080/",
          "height": 35
        },
        "id": "PYeZWhh85u0i",
        "outputId": "d295da73-c508-4d82-b4eb-f7b112bc8f78"
      },
      "execution_count": 2,
      "outputs": [
        {
          "output_type": "execute_result",
          "data": {
            "text/plain": [
              "'/content/drive/MyDrive/GoingDeeper(NLP)'"
            ],
            "application/vnd.google.colaboratory.intrinsic+json": {
              "type": "string"
            }
          },
          "metadata": {},
          "execution_count": 2
        }
      ]
    },
    {
      "cell_type": "code",
      "source": [
        "! pip install konlpy"
      ],
      "metadata": {
        "colab": {
          "base_uri": "https://localhost:8080/"
        },
        "id": "prfUzQCD5u3E",
        "outputId": "76ac7901-8990-4bf8-9923-4952fde05359"
      },
      "execution_count": 3,
      "outputs": [
        {
          "output_type": "stream",
          "name": "stdout",
          "text": [
            "Collecting konlpy\n",
            "  Downloading konlpy-0.6.0-py2.py3-none-any.whl (19.4 MB)\n",
            "\u001b[K     |████████████████████████████████| 19.4 MB 4.1 MB/s \n",
            "\u001b[?25hRequirement already satisfied: lxml>=4.1.0 in /usr/local/lib/python3.7/dist-packages (from konlpy) (4.2.6)\n",
            "Collecting JPype1>=0.7.0\n",
            "  Downloading JPype1-1.3.0-cp37-cp37m-manylinux_2_5_x86_64.manylinux1_x86_64.whl (448 kB)\n",
            "\u001b[K     |████████████████████████████████| 448 kB 53.5 MB/s \n",
            "\u001b[?25hRequirement already satisfied: numpy>=1.6 in /usr/local/lib/python3.7/dist-packages (from konlpy) (1.21.5)\n",
            "Requirement already satisfied: typing-extensions in /usr/local/lib/python3.7/dist-packages (from JPype1>=0.7.0->konlpy) (3.10.0.2)\n",
            "Installing collected packages: JPype1, konlpy\n",
            "Successfully installed JPype1-1.3.0 konlpy-0.6.0\n"
          ]
        }
      ]
    },
    {
      "cell_type": "code",
      "source": [
        "!curl -s https://raw.githubusercontent.com/teddylee777/machine-learning/master/99-Misc/01-Colab/mecab-colab.sh | bash\n"
      ],
      "metadata": {
        "colab": {
          "base_uri": "https://localhost:8080/"
        },
        "id": "-nnotBsc5u5V",
        "outputId": "4f3551f9-0c25-4667-e502-73d42380df61"
      },
      "execution_count": 4,
      "outputs": [
        {
          "output_type": "stream",
          "name": "stdout",
          "text": [
            "--2022-03-25 15:35:33--  https://www.dropbox.com/s/9xls0tgtf3edgns/mecab-0.996-ko-0.9.2.tar.gz?dl=1\n",
            "Resolving www.dropbox.com (www.dropbox.com)... 162.125.85.18, 2620:100:6035:18::a27d:5512\n",
            "Connecting to www.dropbox.com (www.dropbox.com)|162.125.85.18|:443... connected.\n",
            "HTTP request sent, awaiting response... 301 Moved Permanently\n",
            "Location: /s/dl/9xls0tgtf3edgns/mecab-0.996-ko-0.9.2.tar.gz [following]\n",
            "--2022-03-25 15:35:34--  https://www.dropbox.com/s/dl/9xls0tgtf3edgns/mecab-0.996-ko-0.9.2.tar.gz\n",
            "Reusing existing connection to www.dropbox.com:443.\n",
            "HTTP request sent, awaiting response... 302 Found\n",
            "Location: https://uc5d9b8e0f81127a4a982129e295.dl.dropboxusercontent.com/cd/0/get/BiImanrVnpabPToirdbcxTlUhGSD9bQG_NDNL-ZEJ09xmD9pTSabRbcqBkH_JcQqrcXtiGxO3NRBDm5IDQpFKg6eV-zKNXHM7p4E65WbOKeDCAv0_QUEkxe_6Y0_ElaUJc0tFcsXHcbK6PcjynS_8WbOPTkR__MLUu1Q7ljMoRPOnCZpJHen1MEGMFCNBQxgkww/file?dl=1# [following]\n",
            "--2022-03-25 15:35:34--  https://uc5d9b8e0f81127a4a982129e295.dl.dropboxusercontent.com/cd/0/get/BiImanrVnpabPToirdbcxTlUhGSD9bQG_NDNL-ZEJ09xmD9pTSabRbcqBkH_JcQqrcXtiGxO3NRBDm5IDQpFKg6eV-zKNXHM7p4E65WbOKeDCAv0_QUEkxe_6Y0_ElaUJc0tFcsXHcbK6PcjynS_8WbOPTkR__MLUu1Q7ljMoRPOnCZpJHen1MEGMFCNBQxgkww/file?dl=1\n",
            "Resolving uc5d9b8e0f81127a4a982129e295.dl.dropboxusercontent.com (uc5d9b8e0f81127a4a982129e295.dl.dropboxusercontent.com)... 162.125.7.15, 2620:100:6035:15::a27d:550f\n",
            "Connecting to uc5d9b8e0f81127a4a982129e295.dl.dropboxusercontent.com (uc5d9b8e0f81127a4a982129e295.dl.dropboxusercontent.com)|162.125.7.15|:443... connected.\n",
            "HTTP request sent, awaiting response... 200 OK\n",
            "Length: 1414979 (1.3M) [application/binary]\n",
            "Saving to: ‘mecab-0.996-ko-0.9.2.tar.gz?dl=1’\n",
            "\n",
            "mecab-0.996-ko-0.9. 100%[===================>]   1.35M  1.45MB/s    in 0.9s    \n",
            "\n",
            "2022-03-25 15:35:37 (1.45 MB/s) - ‘mecab-0.996-ko-0.9.2.tar.gz?dl=1’ saved [1414979/1414979]\n",
            "\n",
            "mecab-0.996-ko-0.9.2/\n",
            "mecab-0.996-ko-0.9.2/example/\n",
            "mecab-0.996-ko-0.9.2/example/example.cpp\n",
            "mecab-0.996-ko-0.9.2/example/example_lattice.cpp\n",
            "mecab-0.996-ko-0.9.2/example/example_lattice.c\n",
            "mecab-0.996-ko-0.9.2/example/example.c\n",
            "mecab-0.996-ko-0.9.2/example/thread_test.cpp\n",
            "mecab-0.996-ko-0.9.2/mecab-config.in\n",
            "mecab-0.996-ko-0.9.2/man/\n",
            "mecab-0.996-ko-0.9.2/man/Makefile.am\n",
            "mecab-0.996-ko-0.9.2/man/mecab.1\n",
            "mecab-0.996-ko-0.9.2/man/Makefile.in\n",
            "mecab-0.996-ko-0.9.2/mecab.iss.in\n",
            "mecab-0.996-ko-0.9.2/config.guess\n",
            "mecab-0.996-ko-0.9.2/README\n",
            "mecab-0.996-ko-0.9.2/COPYING\n",
            "mecab-0.996-ko-0.9.2/CHANGES.md\n",
            "mecab-0.996-ko-0.9.2/README.md\n",
            "mecab-0.996-ko-0.9.2/INSTALL\n",
            "mecab-0.996-ko-0.9.2/config.sub\n",
            "mecab-0.996-ko-0.9.2/configure.in\n",
            "mecab-0.996-ko-0.9.2/swig/\n",
            "mecab-0.996-ko-0.9.2/swig/Makefile\n",
            "mecab-0.996-ko-0.9.2/swig/version.h.in\n",
            "mecab-0.996-ko-0.9.2/swig/version.h\n",
            "mecab-0.996-ko-0.9.2/swig/MeCab.i\n",
            "mecab-0.996-ko-0.9.2/aclocal.m4\n",
            "mecab-0.996-ko-0.9.2/LGPL\n",
            "mecab-0.996-ko-0.9.2/Makefile.am\n",
            "mecab-0.996-ko-0.9.2/configure\n",
            "mecab-0.996-ko-0.9.2/tests/\n",
            "mecab-0.996-ko-0.9.2/tests/autolink/\n",
            "mecab-0.996-ko-0.9.2/tests/autolink/unk.def\n",
            "mecab-0.996-ko-0.9.2/tests/autolink/dicrc\n",
            "mecab-0.996-ko-0.9.2/tests/autolink/dic.csv\n",
            "mecab-0.996-ko-0.9.2/tests/autolink/test\n",
            "mecab-0.996-ko-0.9.2/tests/autolink/char.def\n",
            "mecab-0.996-ko-0.9.2/tests/autolink/matrix.def\n",
            "mecab-0.996-ko-0.9.2/tests/autolink/test.gld\n",
            "mecab-0.996-ko-0.9.2/tests/t9/\n",
            "mecab-0.996-ko-0.9.2/tests/t9/unk.def\n",
            "mecab-0.996-ko-0.9.2/tests/t9/ipadic.pl\n",
            "mecab-0.996-ko-0.9.2/tests/t9/dicrc\n",
            "mecab-0.996-ko-0.9.2/tests/t9/dic.csv\n",
            "mecab-0.996-ko-0.9.2/tests/t9/test\n",
            "mecab-0.996-ko-0.9.2/tests/t9/char.def\n",
            "mecab-0.996-ko-0.9.2/tests/t9/matrix.def\n",
            "mecab-0.996-ko-0.9.2/tests/t9/mkdic.pl\n",
            "mecab-0.996-ko-0.9.2/tests/t9/test.gld\n",
            "mecab-0.996-ko-0.9.2/tests/cost-train/\n",
            "mecab-0.996-ko-0.9.2/tests/cost-train/ipa.train\n",
            "mecab-0.996-ko-0.9.2/tests/cost-train/ipa.test\n",
            "mecab-0.996-ko-0.9.2/tests/cost-train/seed/\n",
            "mecab-0.996-ko-0.9.2/tests/cost-train/seed/rewrite.def\n",
            "mecab-0.996-ko-0.9.2/tests/cost-train/seed/feature.def\n",
            "mecab-0.996-ko-0.9.2/tests/cost-train/seed/unk.def\n",
            "mecab-0.996-ko-0.9.2/tests/cost-train/seed/dicrc\n",
            "mecab-0.996-ko-0.9.2/tests/cost-train/seed/dic.csv\n",
            "mecab-0.996-ko-0.9.2/tests/cost-train/seed/char.def\n",
            "mecab-0.996-ko-0.9.2/tests/cost-train/seed/matrix.def\n",
            "mecab-0.996-ko-0.9.2/tests/run-eval.sh\n",
            "mecab-0.996-ko-0.9.2/tests/run-cost-train.sh\n",
            "mecab-0.996-ko-0.9.2/tests/Makefile.am\n",
            "mecab-0.996-ko-0.9.2/tests/katakana/\n",
            "mecab-0.996-ko-0.9.2/tests/katakana/unk.def\n",
            "mecab-0.996-ko-0.9.2/tests/katakana/dicrc\n",
            "mecab-0.996-ko-0.9.2/tests/katakana/dic.csv\n",
            "mecab-0.996-ko-0.9.2/tests/katakana/test\n",
            "mecab-0.996-ko-0.9.2/tests/katakana/char.def\n",
            "mecab-0.996-ko-0.9.2/tests/katakana/matrix.def\n",
            "mecab-0.996-ko-0.9.2/tests/katakana/test.gld\n",
            "mecab-0.996-ko-0.9.2/tests/eval/\n",
            "mecab-0.996-ko-0.9.2/tests/eval/answer\n",
            "mecab-0.996-ko-0.9.2/tests/eval/system\n",
            "mecab-0.996-ko-0.9.2/tests/eval/test.gld\n",
            "mecab-0.996-ko-0.9.2/tests/shiin/\n",
            "mecab-0.996-ko-0.9.2/tests/shiin/unk.def\n",
            "mecab-0.996-ko-0.9.2/tests/shiin/dicrc\n",
            "mecab-0.996-ko-0.9.2/tests/shiin/dic.csv\n",
            "mecab-0.996-ko-0.9.2/tests/shiin/test\n",
            "mecab-0.996-ko-0.9.2/tests/shiin/char.def\n",
            "mecab-0.996-ko-0.9.2/tests/shiin/matrix.def\n",
            "mecab-0.996-ko-0.9.2/tests/shiin/mkdic.pl\n",
            "mecab-0.996-ko-0.9.2/tests/shiin/test.gld\n",
            "mecab-0.996-ko-0.9.2/tests/latin/\n",
            "mecab-0.996-ko-0.9.2/tests/latin/unk.def\n",
            "mecab-0.996-ko-0.9.2/tests/latin/dicrc\n",
            "mecab-0.996-ko-0.9.2/tests/latin/dic.csv\n",
            "mecab-0.996-ko-0.9.2/tests/latin/test\n",
            "mecab-0.996-ko-0.9.2/tests/latin/char.def\n",
            "mecab-0.996-ko-0.9.2/tests/latin/matrix.def\n",
            "mecab-0.996-ko-0.9.2/tests/latin/test.gld\n",
            "mecab-0.996-ko-0.9.2/tests/chartype/\n",
            "mecab-0.996-ko-0.9.2/tests/chartype/unk.def\n",
            "mecab-0.996-ko-0.9.2/tests/chartype/dicrc\n",
            "mecab-0.996-ko-0.9.2/tests/chartype/dic.csv\n",
            "mecab-0.996-ko-0.9.2/tests/chartype/test\n",
            "mecab-0.996-ko-0.9.2/tests/chartype/char.def\n",
            "mecab-0.996-ko-0.9.2/tests/chartype/matrix.def\n",
            "mecab-0.996-ko-0.9.2/tests/chartype/test.gld\n",
            "mecab-0.996-ko-0.9.2/tests/run-dics.sh\n",
            "mecab-0.996-ko-0.9.2/tests/ngram/\n",
            "mecab-0.996-ko-0.9.2/tests/ngram/unk.def\n",
            "mecab-0.996-ko-0.9.2/tests/ngram/dicrc\n",
            "mecab-0.996-ko-0.9.2/tests/ngram/dic.csv\n",
            "mecab-0.996-ko-0.9.2/tests/ngram/test\n",
            "mecab-0.996-ko-0.9.2/tests/ngram/char.def\n",
            "mecab-0.996-ko-0.9.2/tests/ngram/matrix.def\n",
            "mecab-0.996-ko-0.9.2/tests/ngram/test.gld\n",
            "mecab-0.996-ko-0.9.2/tests/Makefile.in\n",
            "mecab-0.996-ko-0.9.2/ltmain.sh\n",
            "mecab-0.996-ko-0.9.2/config.rpath\n",
            "mecab-0.996-ko-0.9.2/config.h.in\n",
            "mecab-0.996-ko-0.9.2/mecabrc.in\n",
            "mecab-0.996-ko-0.9.2/GPL\n",
            "mecab-0.996-ko-0.9.2/Makefile.train\n",
            "mecab-0.996-ko-0.9.2/ChangeLog\n",
            "mecab-0.996-ko-0.9.2/install-sh\n",
            "mecab-0.996-ko-0.9.2/AUTHORS\n",
            "mecab-0.996-ko-0.9.2/doc/\n",
            "mecab-0.996-ko-0.9.2/doc/bindings.html\n",
            "mecab-0.996-ko-0.9.2/doc/posid.html\n",
            "mecab-0.996-ko-0.9.2/doc/unk.html\n",
            "mecab-0.996-ko-0.9.2/doc/learn.html\n",
            "mecab-0.996-ko-0.9.2/doc/format.html\n",
            "mecab-0.996-ko-0.9.2/doc/libmecab.html\n",
            "mecab-0.996-ko-0.9.2/doc/mecab.css\n",
            "mecab-0.996-ko-0.9.2/doc/feature.html\n",
            "mecab-0.996-ko-0.9.2/doc/Makefile.am\n",
            "mecab-0.996-ko-0.9.2/doc/soft.html\n",
            "mecab-0.996-ko-0.9.2/doc/en/\n",
            "mecab-0.996-ko-0.9.2/doc/en/bindings.html\n",
            "mecab-0.996-ko-0.9.2/doc/dic-detail.html\n",
            "mecab-0.996-ko-0.9.2/doc/flow.png\n",
            "mecab-0.996-ko-0.9.2/doc/mecab.html\n",
            "mecab-0.996-ko-0.9.2/doc/index.html\n",
            "mecab-0.996-ko-0.9.2/doc/result.png\n",
            "mecab-0.996-ko-0.9.2/doc/doxygen/\n",
            "mecab-0.996-ko-0.9.2/doc/doxygen/tab_a.png\n",
            "mecab-0.996-ko-0.9.2/doc/doxygen/globals_eval.html\n",
            "mecab-0.996-ko-0.9.2/doc/doxygen/classMeCab_1_1Tagger-members.html\n",
            "mecab-0.996-ko-0.9.2/doc/doxygen/functions_vars.html\n",
            "mecab-0.996-ko-0.9.2/doc/doxygen/doxygen.css\n",
            "mecab-0.996-ko-0.9.2/doc/doxygen/tab_r.gif\n",
            "mecab-0.996-ko-0.9.2/doc/doxygen/classMeCab_1_1Lattice.html\n",
            "mecab-0.996-ko-0.9.2/doc/doxygen/functions.html\n",
            "mecab-0.996-ko-0.9.2/doc/doxygen/classMeCab_1_1Tagger.html\n",
            "mecab-0.996-ko-0.9.2/doc/doxygen/mecab_8h_source.html\n",
            "mecab-0.996-ko-0.9.2/doc/doxygen/tabs.css\n",
            "mecab-0.996-ko-0.9.2/doc/doxygen/nav_f.png\n",
            "mecab-0.996-ko-0.9.2/doc/doxygen/tab_b.png\n",
            "mecab-0.996-ko-0.9.2/doc/doxygen/globals.html\n",
            "mecab-0.996-ko-0.9.2/doc/doxygen/nav_h.png\n",
            "mecab-0.996-ko-0.9.2/doc/doxygen/tab_h.png\n",
            "mecab-0.996-ko-0.9.2/doc/doxygen/classMeCab_1_1Model.html\n",
            "mecab-0.996-ko-0.9.2/doc/doxygen/globals_func.html\n",
            "mecab-0.996-ko-0.9.2/doc/doxygen/closed.png\n",
            "mecab-0.996-ko-0.9.2/doc/doxygen/tab_l.gif\n",
            "mecab-0.996-ko-0.9.2/doc/doxygen/structmecab__path__t-members.html\n",
            "mecab-0.996-ko-0.9.2/doc/doxygen/functions_func.html\n",
            "mecab-0.996-ko-0.9.2/doc/doxygen/globals_type.html\n",
            "mecab-0.996-ko-0.9.2/doc/doxygen/classMeCab_1_1Lattice-members.html\n",
            "mecab-0.996-ko-0.9.2/doc/doxygen/structmecab__node__t.html\n",
            "mecab-0.996-ko-0.9.2/doc/doxygen/namespacemembers_func.html\n",
            "mecab-0.996-ko-0.9.2/doc/doxygen/tab_s.png\n",
            "mecab-0.996-ko-0.9.2/doc/doxygen/structmecab__dictionary__info__t-members.html\n",
            "mecab-0.996-ko-0.9.2/doc/doxygen/namespacemembers_type.html\n",
            "mecab-0.996-ko-0.9.2/doc/doxygen/classMeCab_1_1Model-members.html\n",
            "mecab-0.996-ko-0.9.2/doc/doxygen/structmecab__dictionary__info__t.html\n",
            "mecab-0.996-ko-0.9.2/doc/doxygen/namespaces.html\n",
            "mecab-0.996-ko-0.9.2/doc/doxygen/namespacemembers.html\n",
            "mecab-0.996-ko-0.9.2/doc/doxygen/namespaceMeCab.html\n",
            "mecab-0.996-ko-0.9.2/doc/doxygen/structmecab__path__t.html\n",
            "mecab-0.996-ko-0.9.2/doc/doxygen/files.html\n",
            "mecab-0.996-ko-0.9.2/doc/doxygen/structmecab__node__t-members.html\n",
            "mecab-0.996-ko-0.9.2/doc/doxygen/index.html\n",
            "mecab-0.996-ko-0.9.2/doc/doxygen/annotated.html\n",
            "mecab-0.996-ko-0.9.2/doc/doxygen/globals_defs.html\n",
            "mecab-0.996-ko-0.9.2/doc/doxygen/classes.html\n",
            "mecab-0.996-ko-0.9.2/doc/doxygen/mecab_8h-source.html\n",
            "mecab-0.996-ko-0.9.2/doc/doxygen/doxygen.png\n",
            "mecab-0.996-ko-0.9.2/doc/doxygen/tab_b.gif\n",
            "mecab-0.996-ko-0.9.2/doc/doxygen/bc_s.png\n",
            "mecab-0.996-ko-0.9.2/doc/doxygen/open.png\n",
            "mecab-0.996-ko-0.9.2/doc/doxygen/mecab_8h.html\n",
            "mecab-0.996-ko-0.9.2/doc/dic.html\n",
            "mecab-0.996-ko-0.9.2/doc/partial.html\n",
            "mecab-0.996-ko-0.9.2/doc/feature.png\n",
            "mecab-0.996-ko-0.9.2/doc/Makefile.in\n",
            "mecab-0.996-ko-0.9.2/missing\n",
            "mecab-0.996-ko-0.9.2/BSD\n",
            "mecab-0.996-ko-0.9.2/NEWS\n",
            "mecab-0.996-ko-0.9.2/mkinstalldirs\n",
            "mecab-0.996-ko-0.9.2/src/\n",
            "mecab-0.996-ko-0.9.2/src/dictionary.h\n",
            "mecab-0.996-ko-0.9.2/src/writer.h\n",
            "mecab-0.996-ko-0.9.2/src/utils.h\n",
            "mecab-0.996-ko-0.9.2/src/string_buffer.cpp\n",
            "mecab-0.996-ko-0.9.2/src/tokenizer.cpp\n",
            "mecab-0.996-ko-0.9.2/src/make.bat\n",
            "mecab-0.996-ko-0.9.2/src/mecab.h\n",
            "mecab-0.996-ko-0.9.2/src/freelist.h\n",
            "mecab-0.996-ko-0.9.2/src/string_buffer.h\n",
            "mecab-0.996-ko-0.9.2/src/learner_tagger.h\n",
            "mecab-0.996-ko-0.9.2/src/dictionary_compiler.cpp\n",
            "mecab-0.996-ko-0.9.2/src/eval.cpp\n",
            "mecab-0.996-ko-0.9.2/src/mecab-system-eval.cpp\n",
            "mecab-0.996-ko-0.9.2/src/darts.h\n",
            "mecab-0.996-ko-0.9.2/src/param.h\n",
            "mecab-0.996-ko-0.9.2/src/char_property.h\n",
            "mecab-0.996-ko-0.9.2/src/learner_node.h\n",
            "mecab-0.996-ko-0.9.2/src/mecab-dict-gen.cpp\n",
            "mecab-0.996-ko-0.9.2/src/mecab-dict-index.cpp\n",
            "mecab-0.996-ko-0.9.2/src/winmain.h\n",
            "mecab-0.996-ko-0.9.2/src/thread.h\n",
            "mecab-0.996-ko-0.9.2/src/context_id.cpp\n",
            "mecab-0.996-ko-0.9.2/src/Makefile.am\n",
            "mecab-0.996-ko-0.9.2/src/connector.h\n",
            "mecab-0.996-ko-0.9.2/src/common.h\n",
            "mecab-0.996-ko-0.9.2/src/dictionary_rewriter.cpp\n",
            "mecab-0.996-ko-0.9.2/src/Makefile.msvc.in\n",
            "mecab-0.996-ko-0.9.2/src/dictionary_rewriter.h\n",
            "mecab-0.996-ko-0.9.2/src/feature_index.h\n",
            "mecab-0.996-ko-0.9.2/src/iconv_utils.cpp\n",
            "mecab-0.996-ko-0.9.2/src/char_property.cpp\n",
            "mecab-0.996-ko-0.9.2/src/mecab-test-gen.cpp\n",
            "mecab-0.996-ko-0.9.2/src/tagger.cpp\n",
            "mecab-0.996-ko-0.9.2/src/mecab-cost-train.cpp\n",
            "mecab-0.996-ko-0.9.2/src/learner.cpp\n",
            "mecab-0.996-ko-0.9.2/src/dictionary.cpp\n",
            "mecab-0.996-ko-0.9.2/src/lbfgs.cpp\n",
            "mecab-0.996-ko-0.9.2/src/ucs.h\n",
            "mecab-0.996-ko-0.9.2/src/writer.cpp\n",
            "mecab-0.996-ko-0.9.2/src/learner_tagger.cpp\n",
            "mecab-0.996-ko-0.9.2/src/lbfgs.h\n",
            "mecab-0.996-ko-0.9.2/src/libmecab.cpp\n",
            "mecab-0.996-ko-0.9.2/src/tokenizer.h\n",
            "mecab-0.996-ko-0.9.2/src/mecab.cpp\n",
            "mecab-0.996-ko-0.9.2/src/utils.cpp\n",
            "mecab-0.996-ko-0.9.2/src/dictionary_generator.cpp\n",
            "mecab-0.996-ko-0.9.2/src/param.cpp\n",
            "mecab-0.996-ko-0.9.2/src/context_id.h\n",
            "mecab-0.996-ko-0.9.2/src/mmap.h\n",
            "mecab-0.996-ko-0.9.2/src/viterbi.h\n",
            "mecab-0.996-ko-0.9.2/src/viterbi.cpp\n",
            "mecab-0.996-ko-0.9.2/src/stream_wrapper.h\n",
            "mecab-0.996-ko-0.9.2/src/feature_index.cpp\n",
            "mecab-0.996-ko-0.9.2/src/nbest_generator.h\n",
            "mecab-0.996-ko-0.9.2/src/ucstable.h\n",
            "mecab-0.996-ko-0.9.2/src/nbest_generator.cpp\n",
            "mecab-0.996-ko-0.9.2/src/iconv_utils.h\n",
            "mecab-0.996-ko-0.9.2/src/connector.cpp\n",
            "mecab-0.996-ko-0.9.2/src/Makefile.in\n",
            "mecab-0.996-ko-0.9.2/src/scoped_ptr.h\n",
            "mecab-0.996-ko-0.9.2/Makefile.in\n",
            "checking for a BSD-compatible install... /usr/bin/install -c\n",
            "checking whether build environment is sane... yes\n",
            "checking for a thread-safe mkdir -p... /bin/mkdir -p\n",
            "checking for gawk... no\n",
            "checking for mawk... mawk\n",
            "checking whether make sets $(MAKE)... yes\n",
            "checking for gcc... gcc\n",
            "checking whether the C compiler works... yes\n",
            "checking for C compiler default output file name... a.out\n",
            "checking for suffix of executables... \n",
            "checking whether we are cross compiling... no\n",
            "checking for suffix of object files... o\n",
            "checking whether we are using the GNU C compiler... yes\n",
            "checking whether gcc accepts -g... yes\n",
            "checking for gcc option to accept ISO C89... none needed\n",
            "checking for style of include used by make... GNU\n",
            "checking dependency style of gcc... none\n",
            "checking for g++... g++\n",
            "checking whether we are using the GNU C++ compiler... yes\n",
            "checking whether g++ accepts -g... yes\n",
            "checking dependency style of g++... none\n",
            "checking how to run the C preprocessor... gcc -E\n",
            "checking for grep that handles long lines and -e... /bin/grep\n",
            "checking for egrep... /bin/grep -E\n",
            "checking whether gcc needs -traditional... no\n",
            "checking whether make sets $(MAKE)... (cached) yes\n",
            "checking build system type... x86_64-unknown-linux-gnu\n",
            "checking host system type... x86_64-unknown-linux-gnu\n",
            "checking how to print strings... printf\n",
            "checking for a sed that does not truncate output... /bin/sed\n",
            "checking for fgrep... /bin/grep -F\n",
            "checking for ld used by gcc... /usr/bin/ld\n",
            "checking if the linker (/usr/bin/ld) is GNU ld... yes\n",
            "checking for BSD- or MS-compatible name lister (nm)... /usr/bin/nm -B\n",
            "checking the name lister (/usr/bin/nm -B) interface... BSD nm\n",
            "checking whether ln -s works... yes\n",
            "checking the maximum length of command line arguments... 1572864\n",
            "checking whether the shell understands some XSI constructs... yes\n",
            "checking whether the shell understands \"+=\"... yes\n",
            "checking how to convert x86_64-unknown-linux-gnu file names to x86_64-unknown-linux-gnu format... func_convert_file_noop\n",
            "checking how to convert x86_64-unknown-linux-gnu file names to toolchain format... func_convert_file_noop\n",
            "checking for /usr/bin/ld option to reload object files... -r\n",
            "checking for objdump... objdump\n",
            "checking how to recognize dependent libraries... pass_all\n",
            "checking for dlltool... dlltool\n",
            "checking how to associate runtime and link libraries... printf %s\\n\n",
            "checking for ar... ar\n",
            "checking for archiver @FILE support... @\n",
            "checking for strip... strip\n",
            "checking for ranlib... ranlib\n",
            "checking command to parse /usr/bin/nm -B output from gcc object... ok\n",
            "checking for sysroot... no\n",
            "./configure: line 7378: /usr/bin/file: No such file or directory\n",
            "checking for mt... no\n",
            "checking if : is a manifest tool... no\n",
            "checking for ANSI C header files... yes\n",
            "checking for sys/types.h... yes\n",
            "checking for sys/stat.h... yes\n",
            "checking for stdlib.h... yes\n",
            "checking for string.h... yes\n",
            "checking for memory.h... yes\n",
            "checking for strings.h... yes\n",
            "checking for inttypes.h... yes\n",
            "checking for stdint.h... yes\n",
            "checking for unistd.h... yes\n",
            "checking for dlfcn.h... yes\n",
            "checking for objdir... .libs\n",
            "checking if gcc supports -fno-rtti -fno-exceptions... no\n",
            "checking for gcc option to produce PIC... -fPIC -DPIC\n",
            "checking if gcc PIC flag -fPIC -DPIC works... yes\n",
            "checking if gcc static flag -static works... yes\n",
            "checking if gcc supports -c -o file.o... yes\n",
            "checking if gcc supports -c -o file.o... (cached) yes\n",
            "checking whether the gcc linker (/usr/bin/ld) supports shared libraries... yes\n",
            "checking whether -lc should be explicitly linked in... no\n",
            "checking dynamic linker characteristics... GNU/Linux ld.so\n",
            "checking how to hardcode library paths into programs... immediate\n",
            "checking whether stripping libraries is possible... yes\n",
            "checking if libtool supports shared libraries... yes\n",
            "checking whether to build shared libraries... yes\n",
            "checking whether to build static libraries... yes\n",
            "checking how to run the C++ preprocessor... g++ -E\n",
            "checking for ld used by g++... /usr/bin/ld\n",
            "checking if the linker (/usr/bin/ld) is GNU ld... yes\n",
            "checking whether the g++ linker (/usr/bin/ld) supports shared libraries... yes\n",
            "checking for g++ option to produce PIC... -fPIC -DPIC\n",
            "checking if g++ PIC flag -fPIC -DPIC works... yes\n",
            "checking if g++ static flag -static works... yes\n",
            "checking if g++ supports -c -o file.o... yes\n",
            "checking if g++ supports -c -o file.o... (cached) yes\n",
            "checking whether the g++ linker (/usr/bin/ld) supports shared libraries... yes\n",
            "checking dynamic linker characteristics... (cached) GNU/Linux ld.so\n",
            "checking how to hardcode library paths into programs... immediate\n",
            "checking for library containing strerror... none required\n",
            "checking whether byte ordering is bigendian... no\n",
            "checking for ld used by GCC... /usr/bin/ld\n",
            "checking if the linker (/usr/bin/ld) is GNU ld... yes\n",
            "checking for shared library run path origin... done\n",
            "checking for iconv... yes\n",
            "checking for working iconv... yes\n",
            "checking for iconv declaration... \n",
            "         extern size_t iconv (iconv_t cd, char * *inbuf, size_t *inbytesleft, char * *outbuf, size_t *outbytesleft);\n",
            "checking for ANSI C header files... (cached) yes\n",
            "checking for an ANSI C-conforming const... yes\n",
            "checking whether byte ordering is bigendian... (cached) no\n",
            "checking for string.h... (cached) yes\n",
            "checking for stdlib.h... (cached) yes\n",
            "checking for unistd.h... (cached) yes\n",
            "checking fcntl.h usability... yes\n",
            "checking fcntl.h presence... yes\n",
            "checking for fcntl.h... yes\n",
            "checking for stdint.h... (cached) yes\n",
            "checking for sys/stat.h... (cached) yes\n",
            "checking sys/mman.h usability... yes\n",
            "checking sys/mman.h presence... yes\n",
            "checking for sys/mman.h... yes\n",
            "checking sys/times.h usability... yes\n",
            "checking sys/times.h presence... yes\n",
            "checking for sys/times.h... yes\n",
            "checking for sys/types.h... (cached) yes\n",
            "checking dirent.h usability... yes\n",
            "checking dirent.h presence... yes\n",
            "checking for dirent.h... yes\n",
            "checking ctype.h usability... yes\n",
            "checking ctype.h presence... yes\n",
            "checking for ctype.h... yes\n",
            "checking for sys/types.h... (cached) yes\n",
            "checking io.h usability... no\n",
            "checking io.h presence... no\n",
            "checking for io.h... no\n",
            "checking windows.h usability... no\n",
            "checking windows.h presence... no\n",
            "checking for windows.h... no\n",
            "checking pthread.h usability... yes\n",
            "checking pthread.h presence... yes\n",
            "checking for pthread.h... yes\n",
            "checking for off_t... yes\n",
            "checking for size_t... yes\n",
            "checking size of char... 1\n",
            "checking size of short... 2\n",
            "checking size of int... 4\n",
            "checking size of long... 8\n",
            "checking size of long long... 8\n",
            "checking size of size_t... 8\n",
            "checking for size_t... (cached) yes\n",
            "checking for unsigned long long int... yes\n",
            "checking for stdlib.h... (cached) yes\n",
            "checking for unistd.h... (cached) yes\n",
            "checking for sys/param.h... yes\n",
            "checking for getpagesize... yes\n",
            "checking for working mmap... yes\n",
            "checking for main in -lstdc++... yes\n",
            "checking for pthread_create in -lpthread... yes\n",
            "checking for pthread_join in -lpthread... yes\n",
            "checking for getenv... yes\n",
            "checking for opendir... yes\n",
            "checking whether make is GNU Make... yes\n",
            "checking if g++ supports stl <vector> (required)... yes\n",
            "checking if g++ supports stl <list> (required)... yes\n",
            "checking if g++ supports stl <map> (required)... yes\n",
            "checking if g++ supports stl <set> (required)... yes\n",
            "checking if g++ supports stl <queue> (required)... yes\n",
            "checking if g++ supports stl <functional> (required)... yes\n",
            "checking if g++ supports stl <algorithm> (required)... yes\n",
            "checking if g++ supports stl <string> (required)... yes\n",
            "checking if g++ supports stl <iostream> (required)... yes\n",
            "checking if g++ supports stl <sstream> (required)... yes\n",
            "checking if g++ supports stl <fstream> (required)... yes\n",
            "checking if g++ supports template <class T> (required)... yes\n",
            "checking if g++ supports const_cast<> (required)... yes\n",
            "checking if g++ supports static_cast<> (required)... yes\n",
            "checking if g++ supports reinterpret_cast<> (required)... yes\n",
            "checking if g++ supports namespaces (required) ... yes\n",
            "checking if g++ supports __thread (optional)... yes\n",
            "checking if g++ supports template <class T> (required)... yes\n",
            "checking if g++ supports GCC native atomic operations (optional)... yes\n",
            "checking if g++ supports OSX native atomic operations (optional)... no\n",
            "checking if g++ environment provides all required features... yes\n",
            "configure: creating ./config.status\n",
            "config.status: creating Makefile\n",
            "config.status: creating src/Makefile\n",
            "config.status: creating src/Makefile.msvc\n",
            "config.status: creating man/Makefile\n",
            "config.status: creating doc/Makefile\n",
            "config.status: creating tests/Makefile\n",
            "config.status: creating swig/version.h\n",
            "config.status: creating mecab.iss\n",
            "config.status: creating mecab-config\n",
            "config.status: creating mecabrc\n",
            "config.status: creating config.h\n",
            "config.status: executing depfiles commands\n",
            "config.status: executing libtool commands\n",
            "config.status: executing default commands\n",
            "make  all-recursive\n",
            "make[1]: Entering directory '/tmp/mecab-0.996-ko-0.9.2'\n",
            "Making all in src\n",
            "make[2]: Entering directory '/tmp/mecab-0.996-ko-0.9.2/src'\n",
            "/bin/bash ../libtool --tag=CXX   --mode=compile g++ -DHAVE_CONFIG_H -I. -I.. -DDIC_VERSION=102   -DMECAB_DEFAULT_RC=\"\\\"/usr/local/etc/mecabrc\\\"\"    -O3 -Wall  -c -o viterbi.lo viterbi.cpp\n",
            "libtool: compile:  g++ -DHAVE_CONFIG_H -I. -I.. -DDIC_VERSION=102 -DMECAB_DEFAULT_RC=\\\"/usr/local/etc/mecabrc\\\" -O3 -Wall -c viterbi.cpp  -fPIC -DPIC -o .libs/viterbi.o\n",
            "In file included from \u001b[01m\u001b[Kviterbi.cpp:14:0\u001b[m\u001b[K:\n",
            "\u001b[01m\u001b[Kparam.h:30:13:\u001b[m\u001b[K \u001b[01;35m\u001b[Kwarning: \u001b[m\u001b[K'\u001b[01m\u001b[KTarget {anonymous}::lexical_cast(Source) [with Target = std::__cxx11::basic_string<char>; Source = std::__cxx11::basic_string<char>]\u001b[m\u001b[K' defined but not used [\u001b[01;35m\u001b[K-Wunused-function\u001b[m\u001b[K]\n",
            " std::string \u001b[01;35m\u001b[Klexical_cast<std::string, std::string>\u001b[m\u001b[K(std::string arg) {\n",
            "             \u001b[01;35m\u001b[K^~~~~~~~~~~~~~~~~~~~~~~~~~~~~~~~~~~~~~\u001b[m\u001b[K\n",
            "libtool: compile:  g++ -DHAVE_CONFIG_H -I. -I.. -DDIC_VERSION=102 -DMECAB_DEFAULT_RC=\\\"/usr/local/etc/mecabrc\\\" -O3 -Wall -c viterbi.cpp -o viterbi.o >/dev/null 2>&1\n",
            "/bin/bash ../libtool --tag=CXX   --mode=compile g++ -DHAVE_CONFIG_H -I. -I.. -DDIC_VERSION=102   -DMECAB_DEFAULT_RC=\"\\\"/usr/local/etc/mecabrc\\\"\"    -O3 -Wall  -c -o tagger.lo tagger.cpp\n",
            "libtool: compile:  g++ -DHAVE_CONFIG_H -I. -I.. -DDIC_VERSION=102 -DMECAB_DEFAULT_RC=\\\"/usr/local/etc/mecabrc\\\" -O3 -Wall -c tagger.cpp  -fPIC -DPIC -o .libs/tagger.o\n",
            "libtool: compile:  g++ -DHAVE_CONFIG_H -I. -I.. -DDIC_VERSION=102 -DMECAB_DEFAULT_RC=\\\"/usr/local/etc/mecabrc\\\" -O3 -Wall -c tagger.cpp -o tagger.o >/dev/null 2>&1\n",
            "/bin/bash ../libtool --tag=CXX   --mode=compile g++ -DHAVE_CONFIG_H -I. -I.. -DDIC_VERSION=102   -DMECAB_DEFAULT_RC=\"\\\"/usr/local/etc/mecabrc\\\"\"    -O3 -Wall  -c -o utils.lo utils.cpp\n",
            "libtool: compile:  g++ -DHAVE_CONFIG_H -I. -I.. -DDIC_VERSION=102 -DMECAB_DEFAULT_RC=\\\"/usr/local/etc/mecabrc\\\" -O3 -Wall -c utils.cpp  -fPIC -DPIC -o .libs/utils.o\n",
            "libtool: compile:  g++ -DHAVE_CONFIG_H -I. -I.. -DDIC_VERSION=102 -DMECAB_DEFAULT_RC=\\\"/usr/local/etc/mecabrc\\\" -O3 -Wall -c utils.cpp -o utils.o >/dev/null 2>&1\n",
            "/bin/bash ../libtool --tag=CXX   --mode=compile g++ -DHAVE_CONFIG_H -I. -I.. -DDIC_VERSION=102   -DMECAB_DEFAULT_RC=\"\\\"/usr/local/etc/mecabrc\\\"\"    -O3 -Wall  -c -o eval.lo eval.cpp\n",
            "libtool: compile:  g++ -DHAVE_CONFIG_H -I. -I.. -DDIC_VERSION=102 -DMECAB_DEFAULT_RC=\\\"/usr/local/etc/mecabrc\\\" -O3 -Wall -c eval.cpp  -fPIC -DPIC -o .libs/eval.o\n",
            "libtool: compile:  g++ -DHAVE_CONFIG_H -I. -I.. -DDIC_VERSION=102 -DMECAB_DEFAULT_RC=\\\"/usr/local/etc/mecabrc\\\" -O3 -Wall -c eval.cpp -o eval.o >/dev/null 2>&1\n",
            "/bin/bash ../libtool --tag=CXX   --mode=compile g++ -DHAVE_CONFIG_H -I. -I.. -DDIC_VERSION=102   -DMECAB_DEFAULT_RC=\"\\\"/usr/local/etc/mecabrc\\\"\"    -O3 -Wall  -c -o iconv_utils.lo iconv_utils.cpp\n",
            "libtool: compile:  g++ -DHAVE_CONFIG_H -I. -I.. -DDIC_VERSION=102 -DMECAB_DEFAULT_RC=\\\"/usr/local/etc/mecabrc\\\" -O3 -Wall -c iconv_utils.cpp  -fPIC -DPIC -o .libs/iconv_utils.o\n",
            "libtool: compile:  g++ -DHAVE_CONFIG_H -I. -I.. -DDIC_VERSION=102 -DMECAB_DEFAULT_RC=\\\"/usr/local/etc/mecabrc\\\" -O3 -Wall -c iconv_utils.cpp -o iconv_utils.o >/dev/null 2>&1\n",
            "/bin/bash ../libtool --tag=CXX   --mode=compile g++ -DHAVE_CONFIG_H -I. -I.. -DDIC_VERSION=102   -DMECAB_DEFAULT_RC=\"\\\"/usr/local/etc/mecabrc\\\"\"    -O3 -Wall  -c -o dictionary_rewriter.lo dictionary_rewriter.cpp\n",
            "libtool: compile:  g++ -DHAVE_CONFIG_H -I. -I.. -DDIC_VERSION=102 -DMECAB_DEFAULT_RC=\\\"/usr/local/etc/mecabrc\\\" -O3 -Wall -c dictionary_rewriter.cpp  -fPIC -DPIC -o .libs/dictionary_rewriter.o\n",
            "libtool: compile:  g++ -DHAVE_CONFIG_H -I. -I.. -DDIC_VERSION=102 -DMECAB_DEFAULT_RC=\\\"/usr/local/etc/mecabrc\\\" -O3 -Wall -c dictionary_rewriter.cpp -o dictionary_rewriter.o >/dev/null 2>&1\n",
            "/bin/bash ../libtool --tag=CXX   --mode=compile g++ -DHAVE_CONFIG_H -I. -I.. -DDIC_VERSION=102   -DMECAB_DEFAULT_RC=\"\\\"/usr/local/etc/mecabrc\\\"\"    -O3 -Wall  -c -o dictionary_generator.lo dictionary_generator.cpp\n",
            "libtool: compile:  g++ -DHAVE_CONFIG_H -I. -I.. -DDIC_VERSION=102 -DMECAB_DEFAULT_RC=\\\"/usr/local/etc/mecabrc\\\" -O3 -Wall -c dictionary_generator.cpp  -fPIC -DPIC -o .libs/dictionary_generator.o\n",
            "libtool: compile:  g++ -DHAVE_CONFIG_H -I. -I.. -DDIC_VERSION=102 -DMECAB_DEFAULT_RC=\\\"/usr/local/etc/mecabrc\\\" -O3 -Wall -c dictionary_generator.cpp -o dictionary_generator.o >/dev/null 2>&1\n",
            "/bin/bash ../libtool --tag=CXX   --mode=compile g++ -DHAVE_CONFIG_H -I. -I.. -DDIC_VERSION=102   -DMECAB_DEFAULT_RC=\"\\\"/usr/local/etc/mecabrc\\\"\"    -O3 -Wall  -c -o dictionary_compiler.lo dictionary_compiler.cpp\n",
            "libtool: compile:  g++ -DHAVE_CONFIG_H -I. -I.. -DDIC_VERSION=102 -DMECAB_DEFAULT_RC=\\\"/usr/local/etc/mecabrc\\\" -O3 -Wall -c dictionary_compiler.cpp  -fPIC -DPIC -o .libs/dictionary_compiler.o\n",
            "libtool: compile:  g++ -DHAVE_CONFIG_H -I. -I.. -DDIC_VERSION=102 -DMECAB_DEFAULT_RC=\\\"/usr/local/etc/mecabrc\\\" -O3 -Wall -c dictionary_compiler.cpp -o dictionary_compiler.o >/dev/null 2>&1\n",
            "/bin/bash ../libtool --tag=CXX   --mode=compile g++ -DHAVE_CONFIG_H -I. -I.. -DDIC_VERSION=102   -DMECAB_DEFAULT_RC=\"\\\"/usr/local/etc/mecabrc\\\"\"    -O3 -Wall  -c -o context_id.lo context_id.cpp\n",
            "libtool: compile:  g++ -DHAVE_CONFIG_H -I. -I.. -DDIC_VERSION=102 -DMECAB_DEFAULT_RC=\\\"/usr/local/etc/mecabrc\\\" -O3 -Wall -c context_id.cpp  -fPIC -DPIC -o .libs/context_id.o\n",
            "libtool: compile:  g++ -DHAVE_CONFIG_H -I. -I.. -DDIC_VERSION=102 -DMECAB_DEFAULT_RC=\\\"/usr/local/etc/mecabrc\\\" -O3 -Wall -c context_id.cpp -o context_id.o >/dev/null 2>&1\n",
            "/bin/bash ../libtool --tag=CXX   --mode=compile g++ -DHAVE_CONFIG_H -I. -I.. -DDIC_VERSION=102   -DMECAB_DEFAULT_RC=\"\\\"/usr/local/etc/mecabrc\\\"\"    -O3 -Wall  -c -o connector.lo connector.cpp\n",
            "libtool: compile:  g++ -DHAVE_CONFIG_H -I. -I.. -DDIC_VERSION=102 -DMECAB_DEFAULT_RC=\\\"/usr/local/etc/mecabrc\\\" -O3 -Wall -c connector.cpp  -fPIC -DPIC -o .libs/connector.o\n",
            "libtool: compile:  g++ -DHAVE_CONFIG_H -I. -I.. -DDIC_VERSION=102 -DMECAB_DEFAULT_RC=\\\"/usr/local/etc/mecabrc\\\" -O3 -Wall -c connector.cpp -o connector.o >/dev/null 2>&1\n",
            "/bin/bash ../libtool --tag=CXX   --mode=compile g++ -DHAVE_CONFIG_H -I. -I.. -DDIC_VERSION=102   -DMECAB_DEFAULT_RC=\"\\\"/usr/local/etc/mecabrc\\\"\"    -O3 -Wall  -c -o nbest_generator.lo nbest_generator.cpp\n",
            "libtool: compile:  g++ -DHAVE_CONFIG_H -I. -I.. -DDIC_VERSION=102 -DMECAB_DEFAULT_RC=\\\"/usr/local/etc/mecabrc\\\" -O3 -Wall -c nbest_generator.cpp  -fPIC -DPIC -o .libs/nbest_generator.o\n",
            "libtool: compile:  g++ -DHAVE_CONFIG_H -I. -I.. -DDIC_VERSION=102 -DMECAB_DEFAULT_RC=\\\"/usr/local/etc/mecabrc\\\" -O3 -Wall -c nbest_generator.cpp -o nbest_generator.o >/dev/null 2>&1\n",
            "/bin/bash ../libtool --tag=CXX   --mode=compile g++ -DHAVE_CONFIG_H -I. -I.. -DDIC_VERSION=102   -DMECAB_DEFAULT_RC=\"\\\"/usr/local/etc/mecabrc\\\"\"    -O3 -Wall  -c -o writer.lo writer.cpp\n",
            "libtool: compile:  g++ -DHAVE_CONFIG_H -I. -I.. -DDIC_VERSION=102 -DMECAB_DEFAULT_RC=\\\"/usr/local/etc/mecabrc\\\" -O3 -Wall -c writer.cpp  -fPIC -DPIC -o .libs/writer.o\n",
            "libtool: compile:  g++ -DHAVE_CONFIG_H -I. -I.. -DDIC_VERSION=102 -DMECAB_DEFAULT_RC=\\\"/usr/local/etc/mecabrc\\\" -O3 -Wall -c writer.cpp -o writer.o >/dev/null 2>&1\n",
            "/bin/bash ../libtool --tag=CXX   --mode=compile g++ -DHAVE_CONFIG_H -I. -I.. -DDIC_VERSION=102   -DMECAB_DEFAULT_RC=\"\\\"/usr/local/etc/mecabrc\\\"\"    -O3 -Wall  -c -o string_buffer.lo string_buffer.cpp\n",
            "libtool: compile:  g++ -DHAVE_CONFIG_H -I. -I.. -DDIC_VERSION=102 -DMECAB_DEFAULT_RC=\\\"/usr/local/etc/mecabrc\\\" -O3 -Wall -c string_buffer.cpp  -fPIC -DPIC -o .libs/string_buffer.o\n",
            "libtool: compile:  g++ -DHAVE_CONFIG_H -I. -I.. -DDIC_VERSION=102 -DMECAB_DEFAULT_RC=\\\"/usr/local/etc/mecabrc\\\" -O3 -Wall -c string_buffer.cpp -o string_buffer.o >/dev/null 2>&1\n",
            "/bin/bash ../libtool --tag=CXX   --mode=compile g++ -DHAVE_CONFIG_H -I. -I.. -DDIC_VERSION=102   -DMECAB_DEFAULT_RC=\"\\\"/usr/local/etc/mecabrc\\\"\"    -O3 -Wall  -c -o param.lo param.cpp\n",
            "libtool: compile:  g++ -DHAVE_CONFIG_H -I. -I.. -DDIC_VERSION=102 -DMECAB_DEFAULT_RC=\\\"/usr/local/etc/mecabrc\\\" -O3 -Wall -c param.cpp  -fPIC -DPIC -o .libs/param.o\n",
            "libtool: compile:  g++ -DHAVE_CONFIG_H -I. -I.. -DDIC_VERSION=102 -DMECAB_DEFAULT_RC=\\\"/usr/local/etc/mecabrc\\\" -O3 -Wall -c param.cpp -o param.o >/dev/null 2>&1\n",
            "/bin/bash ../libtool --tag=CXX   --mode=compile g++ -DHAVE_CONFIG_H -I. -I.. -DDIC_VERSION=102   -DMECAB_DEFAULT_RC=\"\\\"/usr/local/etc/mecabrc\\\"\"    -O3 -Wall  -c -o tokenizer.lo tokenizer.cpp\n",
            "libtool: compile:  g++ -DHAVE_CONFIG_H -I. -I.. -DDIC_VERSION=102 -DMECAB_DEFAULT_RC=\\\"/usr/local/etc/mecabrc\\\" -O3 -Wall -c tokenizer.cpp  -fPIC -DPIC -o .libs/tokenizer.o\n",
            "libtool: compile:  g++ -DHAVE_CONFIG_H -I. -I.. -DDIC_VERSION=102 -DMECAB_DEFAULT_RC=\\\"/usr/local/etc/mecabrc\\\" -O3 -Wall -c tokenizer.cpp -o tokenizer.o >/dev/null 2>&1\n",
            "/bin/bash ../libtool --tag=CXX   --mode=compile g++ -DHAVE_CONFIG_H -I. -I.. -DDIC_VERSION=102   -DMECAB_DEFAULT_RC=\"\\\"/usr/local/etc/mecabrc\\\"\"    -O3 -Wall  -c -o char_property.lo char_property.cpp\n",
            "libtool: compile:  g++ -DHAVE_CONFIG_H -I. -I.. -DDIC_VERSION=102 -DMECAB_DEFAULT_RC=\\\"/usr/local/etc/mecabrc\\\" -O3 -Wall -c char_property.cpp  -fPIC -DPIC -o .libs/char_property.o\n",
            "libtool: compile:  g++ -DHAVE_CONFIG_H -I. -I.. -DDIC_VERSION=102 -DMECAB_DEFAULT_RC=\\\"/usr/local/etc/mecabrc\\\" -O3 -Wall -c char_property.cpp -o char_property.o >/dev/null 2>&1\n",
            "/bin/bash ../libtool --tag=CXX   --mode=compile g++ -DHAVE_CONFIG_H -I. -I.. -DDIC_VERSION=102   -DMECAB_DEFAULT_RC=\"\\\"/usr/local/etc/mecabrc\\\"\"    -O3 -Wall  -c -o dictionary.lo dictionary.cpp\n",
            "libtool: compile:  g++ -DHAVE_CONFIG_H -I. -I.. -DDIC_VERSION=102 -DMECAB_DEFAULT_RC=\\\"/usr/local/etc/mecabrc\\\" -O3 -Wall -c dictionary.cpp  -fPIC -DPIC -o .libs/dictionary.o\n",
            "libtool: compile:  g++ -DHAVE_CONFIG_H -I. -I.. -DDIC_VERSION=102 -DMECAB_DEFAULT_RC=\\\"/usr/local/etc/mecabrc\\\" -O3 -Wall -c dictionary.cpp -o dictionary.o >/dev/null 2>&1\n",
            "/bin/bash ../libtool --tag=CXX   --mode=compile g++ -DHAVE_CONFIG_H -I. -I.. -DDIC_VERSION=102   -DMECAB_DEFAULT_RC=\"\\\"/usr/local/etc/mecabrc\\\"\"    -O3 -Wall  -c -o feature_index.lo feature_index.cpp\n",
            "libtool: compile:  g++ -DHAVE_CONFIG_H -I. -I.. -DDIC_VERSION=102 -DMECAB_DEFAULT_RC=\\\"/usr/local/etc/mecabrc\\\" -O3 -Wall -c feature_index.cpp  -fPIC -DPIC -o .libs/feature_index.o\n",
            "libtool: compile:  g++ -DHAVE_CONFIG_H -I. -I.. -DDIC_VERSION=102 -DMECAB_DEFAULT_RC=\\\"/usr/local/etc/mecabrc\\\" -O3 -Wall -c feature_index.cpp -o feature_index.o >/dev/null 2>&1\n",
            "/bin/bash ../libtool --tag=CXX   --mode=compile g++ -DHAVE_CONFIG_H -I. -I.. -DDIC_VERSION=102   -DMECAB_DEFAULT_RC=\"\\\"/usr/local/etc/mecabrc\\\"\"    -O3 -Wall  -c -o lbfgs.lo lbfgs.cpp\n",
            "libtool: compile:  g++ -DHAVE_CONFIG_H -I. -I.. -DDIC_VERSION=102 -DMECAB_DEFAULT_RC=\\\"/usr/local/etc/mecabrc\\\" -O3 -Wall -c lbfgs.cpp  -fPIC -DPIC -o .libs/lbfgs.o\n",
            "libtool: compile:  g++ -DHAVE_CONFIG_H -I. -I.. -DDIC_VERSION=102 -DMECAB_DEFAULT_RC=\\\"/usr/local/etc/mecabrc\\\" -O3 -Wall -c lbfgs.cpp -o lbfgs.o >/dev/null 2>&1\n",
            "/bin/bash ../libtool --tag=CXX   --mode=compile g++ -DHAVE_CONFIG_H -I. -I.. -DDIC_VERSION=102   -DMECAB_DEFAULT_RC=\"\\\"/usr/local/etc/mecabrc\\\"\"    -O3 -Wall  -c -o learner_tagger.lo learner_tagger.cpp\n",
            "libtool: compile:  g++ -DHAVE_CONFIG_H -I. -I.. -DDIC_VERSION=102 -DMECAB_DEFAULT_RC=\\\"/usr/local/etc/mecabrc\\\" -O3 -Wall -c learner_tagger.cpp  -fPIC -DPIC -o .libs/learner_tagger.o\n",
            "\u001b[01m\u001b[Klearner_tagger.cpp:25:7:\u001b[m\u001b[K \u001b[01;35m\u001b[Kwarning: \u001b[m\u001b[K'\u001b[01m\u001b[Kchar* MeCab::{anonymous}::mystrdup(const string&)\u001b[m\u001b[K' defined but not used [\u001b[01;35m\u001b[K-Wunused-function\u001b[m\u001b[K]\n",
            " char *\u001b[01;35m\u001b[Kmystrdup\u001b[m\u001b[K(const std::string &str) {\n",
            "       \u001b[01;35m\u001b[K^~~~~~~~\u001b[m\u001b[K\n",
            "libtool: compile:  g++ -DHAVE_CONFIG_H -I. -I.. -DDIC_VERSION=102 -DMECAB_DEFAULT_RC=\\\"/usr/local/etc/mecabrc\\\" -O3 -Wall -c learner_tagger.cpp -o learner_tagger.o >/dev/null 2>&1\n",
            "/bin/bash ../libtool --tag=CXX   --mode=compile g++ -DHAVE_CONFIG_H -I. -I.. -DDIC_VERSION=102   -DMECAB_DEFAULT_RC=\"\\\"/usr/local/etc/mecabrc\\\"\"    -O3 -Wall  -c -o learner.lo learner.cpp\n",
            "libtool: compile:  g++ -DHAVE_CONFIG_H -I. -I.. -DDIC_VERSION=102 -DMECAB_DEFAULT_RC=\\\"/usr/local/etc/mecabrc\\\" -O3 -Wall -c learner.cpp  -fPIC -DPIC -o .libs/learner.o\n",
            "libtool: compile:  g++ -DHAVE_CONFIG_H -I. -I.. -DDIC_VERSION=102 -DMECAB_DEFAULT_RC=\\\"/usr/local/etc/mecabrc\\\" -O3 -Wall -c learner.cpp -o learner.o >/dev/null 2>&1\n",
            "/bin/bash ../libtool --tag=CXX   --mode=compile g++ -DHAVE_CONFIG_H -I. -I.. -DDIC_VERSION=102   -DMECAB_DEFAULT_RC=\"\\\"/usr/local/etc/mecabrc\\\"\"    -O3 -Wall  -c -o libmecab.lo libmecab.cpp\n",
            "libtool: compile:  g++ -DHAVE_CONFIG_H -I. -I.. -DDIC_VERSION=102 -DMECAB_DEFAULT_RC=\\\"/usr/local/etc/mecabrc\\\" -O3 -Wall -c libmecab.cpp  -fPIC -DPIC -o .libs/libmecab.o\n",
            "libtool: compile:  g++ -DHAVE_CONFIG_H -I. -I.. -DDIC_VERSION=102 -DMECAB_DEFAULT_RC=\\\"/usr/local/etc/mecabrc\\\" -O3 -Wall -c libmecab.cpp -o libmecab.o >/dev/null 2>&1\n",
            "/bin/bash ../libtool --tag=CXX   --mode=link g++  -O3 -Wall  -no-undefined -version-info 2:0:0  -o libmecab.la -rpath /usr/local/lib viterbi.lo tagger.lo utils.lo eval.lo iconv_utils.lo dictionary_rewriter.lo dictionary_generator.lo dictionary_compiler.lo context_id.lo connector.lo nbest_generator.lo writer.lo string_buffer.lo param.lo tokenizer.lo char_property.lo dictionary.lo feature_index.lo lbfgs.lo learner_tagger.lo learner.lo libmecab.lo  -lpthread -lpthread  -lstdc++ \n",
            "libtool: link: g++  -fPIC -DPIC -shared -nostdlib /usr/lib/gcc/x86_64-linux-gnu/7/../../../x86_64-linux-gnu/crti.o /usr/lib/gcc/x86_64-linux-gnu/7/crtbeginS.o  .libs/viterbi.o .libs/tagger.o .libs/utils.o .libs/eval.o .libs/iconv_utils.o .libs/dictionary_rewriter.o .libs/dictionary_generator.o .libs/dictionary_compiler.o .libs/context_id.o .libs/connector.o .libs/nbest_generator.o .libs/writer.o .libs/string_buffer.o .libs/param.o .libs/tokenizer.o .libs/char_property.o .libs/dictionary.o .libs/feature_index.o .libs/lbfgs.o .libs/learner_tagger.o .libs/learner.o .libs/libmecab.o   -lpthread -L/usr/lib/gcc/x86_64-linux-gnu/7 -L/usr/lib/gcc/x86_64-linux-gnu/7/../../../x86_64-linux-gnu -L/usr/lib/gcc/x86_64-linux-gnu/7/../../../../lib -L/lib/x86_64-linux-gnu -L/lib/../lib -L/usr/lib/x86_64-linux-gnu -L/usr/lib/../lib -L/usr/local/cuda/lib64/stubs -L/usr/lib/gcc/x86_64-linux-gnu/7/../../.. -lstdc++ -lm -lc -lgcc_s /usr/lib/gcc/x86_64-linux-gnu/7/crtendS.o /usr/lib/gcc/x86_64-linux-gnu/7/../../../x86_64-linux-gnu/crtn.o  -O3   -Wl,-soname -Wl,libmecab.so.2 -o .libs/libmecab.so.2.0.0\n",
            "libtool: link: (cd \".libs\" && rm -f \"libmecab.so.2\" && ln -s \"libmecab.so.2.0.0\" \"libmecab.so.2\")\n",
            "libtool: link: (cd \".libs\" && rm -f \"libmecab.so\" && ln -s \"libmecab.so.2.0.0\" \"libmecab.so\")\n",
            "libtool: link: ar cru .libs/libmecab.a  viterbi.o tagger.o utils.o eval.o iconv_utils.o dictionary_rewriter.o dictionary_generator.o dictionary_compiler.o context_id.o connector.o nbest_generator.o writer.o string_buffer.o param.o tokenizer.o char_property.o dictionary.o feature_index.o lbfgs.o learner_tagger.o learner.o libmecab.o\n",
            "ar: `u' modifier ignored since `D' is the default (see `U')\n",
            "libtool: link: ranlib .libs/libmecab.a\n",
            "libtool: link: ( cd \".libs\" && rm -f \"libmecab.la\" && ln -s \"../libmecab.la\" \"libmecab.la\" )\n",
            "g++ -DHAVE_CONFIG_H -I. -I.. -DDIC_VERSION=102   -DMECAB_DEFAULT_RC=\"\\\"/usr/local/etc/mecabrc\\\"\"    -O3 -Wall  -c -o mecab.o mecab.cpp\n",
            "/bin/bash ../libtool --tag=CXX   --mode=link g++  -O3 -Wall    -o mecab mecab.o libmecab.la -lpthread -lpthread  -lstdc++ \n",
            "libtool: link: g++ -O3 -Wall -o .libs/mecab mecab.o  ./.libs/libmecab.so -lpthread -lstdc++\n",
            "g++ -DHAVE_CONFIG_H -I. -I.. -DDIC_VERSION=102   -DMECAB_DEFAULT_RC=\"\\\"/usr/local/etc/mecabrc\\\"\"    -O3 -Wall  -c -o mecab-dict-index.o mecab-dict-index.cpp\n",
            "/bin/bash ../libtool --tag=CXX   --mode=link g++  -O3 -Wall    -o mecab-dict-index mecab-dict-index.o libmecab.la -lpthread -lpthread  -lstdc++ \n",
            "libtool: link: g++ -O3 -Wall -o .libs/mecab-dict-index mecab-dict-index.o  ./.libs/libmecab.so -lpthread -lstdc++\n",
            "g++ -DHAVE_CONFIG_H -I. -I.. -DDIC_VERSION=102   -DMECAB_DEFAULT_RC=\"\\\"/usr/local/etc/mecabrc\\\"\"    -O3 -Wall  -c -o mecab-dict-gen.o mecab-dict-gen.cpp\n",
            "/bin/bash ../libtool --tag=CXX   --mode=link g++  -O3 -Wall    -o mecab-dict-gen mecab-dict-gen.o libmecab.la -lpthread -lpthread  -lstdc++ \n",
            "libtool: link: g++ -O3 -Wall -o .libs/mecab-dict-gen mecab-dict-gen.o  ./.libs/libmecab.so -lpthread -lstdc++\n",
            "g++ -DHAVE_CONFIG_H -I. -I.. -DDIC_VERSION=102   -DMECAB_DEFAULT_RC=\"\\\"/usr/local/etc/mecabrc\\\"\"    -O3 -Wall  -c -o mecab-cost-train.o mecab-cost-train.cpp\n",
            "/bin/bash ../libtool --tag=CXX   --mode=link g++  -O3 -Wall    -o mecab-cost-train mecab-cost-train.o libmecab.la -lpthread -lpthread  -lstdc++ \n",
            "libtool: link: g++ -O3 -Wall -o .libs/mecab-cost-train mecab-cost-train.o  ./.libs/libmecab.so -lpthread -lstdc++\n",
            "g++ -DHAVE_CONFIG_H -I. -I.. -DDIC_VERSION=102   -DMECAB_DEFAULT_RC=\"\\\"/usr/local/etc/mecabrc\\\"\"    -O3 -Wall  -c -o mecab-system-eval.o mecab-system-eval.cpp\n",
            "/bin/bash ../libtool --tag=CXX   --mode=link g++  -O3 -Wall    -o mecab-system-eval mecab-system-eval.o libmecab.la -lpthread -lpthread  -lstdc++ \n",
            "libtool: link: g++ -O3 -Wall -o .libs/mecab-system-eval mecab-system-eval.o  ./.libs/libmecab.so -lpthread -lstdc++\n",
            "g++ -DHAVE_CONFIG_H -I. -I.. -DDIC_VERSION=102   -DMECAB_DEFAULT_RC=\"\\\"/usr/local/etc/mecabrc\\\"\"    -O3 -Wall  -c -o mecab-test-gen.o mecab-test-gen.cpp\n",
            "/bin/bash ../libtool --tag=CXX   --mode=link g++  -O3 -Wall    -o mecab-test-gen mecab-test-gen.o libmecab.la -lpthread -lpthread  -lstdc++ \n",
            "libtool: link: g++ -O3 -Wall -o .libs/mecab-test-gen mecab-test-gen.o  ./.libs/libmecab.so -lpthread -lstdc++\n",
            "make[2]: Leaving directory '/tmp/mecab-0.996-ko-0.9.2/src'\n",
            "Making all in man\n",
            "make[2]: Entering directory '/tmp/mecab-0.996-ko-0.9.2/man'\n",
            "make[2]: Nothing to be done for 'all'.\n",
            "make[2]: Leaving directory '/tmp/mecab-0.996-ko-0.9.2/man'\n",
            "Making all in doc\n",
            "make[2]: Entering directory '/tmp/mecab-0.996-ko-0.9.2/doc'\n",
            "make[2]: Nothing to be done for 'all'.\n",
            "make[2]: Leaving directory '/tmp/mecab-0.996-ko-0.9.2/doc'\n",
            "Making all in tests\n",
            "make[2]: Entering directory '/tmp/mecab-0.996-ko-0.9.2/tests'\n",
            "make[2]: Nothing to be done for 'all'.\n",
            "make[2]: Leaving directory '/tmp/mecab-0.996-ko-0.9.2/tests'\n",
            "make[2]: Entering directory '/tmp/mecab-0.996-ko-0.9.2'\n",
            "make[2]: Leaving directory '/tmp/mecab-0.996-ko-0.9.2'\n",
            "make[1]: Leaving directory '/tmp/mecab-0.996-ko-0.9.2'\n",
            "Making check in src\n",
            "make[1]: Entering directory '/tmp/mecab-0.996-ko-0.9.2/src'\n",
            "make[1]: Nothing to be done for 'check'.\n",
            "make[1]: Leaving directory '/tmp/mecab-0.996-ko-0.9.2/src'\n",
            "Making check in man\n",
            "make[1]: Entering directory '/tmp/mecab-0.996-ko-0.9.2/man'\n",
            "make[1]: Nothing to be done for 'check'.\n",
            "make[1]: Leaving directory '/tmp/mecab-0.996-ko-0.9.2/man'\n",
            "Making check in doc\n",
            "make[1]: Entering directory '/tmp/mecab-0.996-ko-0.9.2/doc'\n",
            "make[1]: Nothing to be done for 'check'.\n",
            "make[1]: Leaving directory '/tmp/mecab-0.996-ko-0.9.2/doc'\n",
            "Making check in tests\n",
            "make[1]: Entering directory '/tmp/mecab-0.996-ko-0.9.2/tests'\n",
            "make  check-TESTS\n",
            "make[2]: Entering directory '/tmp/mecab-0.996-ko-0.9.2/tests'\n",
            "./pos-id.def is not found. minimum setting is used\n",
            "reading ./unk.def ... 2\n",
            "emitting double-array: 100% |###########################################| \n",
            "./model.def is not found. skipped.\n",
            "./pos-id.def is not found. minimum setting is used\n",
            "reading ./dic.csv ... 177\n",
            "emitting double-array: 100% |###########################################| \n",
            "reading ./matrix.def ... 178x178\n",
            "emitting matrix      : 100% |###########################################| \n",
            "\n",
            "done!\n",
            "./pos-id.def is not found. minimum setting is used\n",
            "reading ./unk.def ... 2\n",
            "emitting double-array: 100% |###########################################| \n",
            "./model.def is not found. skipped.\n",
            "./pos-id.def is not found. minimum setting is used\n",
            "reading ./dic.csv ... 83\n",
            "emitting double-array: 100% |###########################################| \n",
            "reading ./matrix.def ... 84x84\n",
            "emitting matrix      : 100% |###########################################| \n",
            "\n",
            "done!\n",
            "./pos-id.def is not found. minimum setting is used\n",
            "reading ./unk.def ... 2\n",
            "emitting double-array: 100% |###########################################| \n",
            "./model.def is not found. skipped.\n",
            "./pos-id.def is not found. minimum setting is used\n",
            "reading ./dic.csv ... 450\n",
            "emitting double-array: 100% |###########################################| \n",
            "reading ./matrix.def ... 1x1\n",
            "\n",
            "done!\n",
            "./pos-id.def is not found. minimum setting is used\n",
            "reading ./unk.def ... 2\n",
            "emitting double-array: 100% |###########################################| \n",
            "./model.def is not found. skipped.\n",
            "./pos-id.def is not found. minimum setting is used\n",
            "reading ./dic.csv ... 162\n",
            "emitting double-array: 100% |###########################################| \n",
            "reading ./matrix.def ... 3x3\n",
            "emitting matrix      : 100% |###########################################| \n",
            "\n",
            "done!\n",
            "./pos-id.def is not found. minimum setting is used\n",
            "reading ./unk.def ... 2\n",
            "emitting double-array: 100% |###########################################| \n",
            "./model.def is not found. skipped.\n",
            "./pos-id.def is not found. minimum setting is used\n",
            "reading ./dic.csv ... 4\n",
            "emitting double-array: 100% |###########################################| \n",
            "reading ./matrix.def ... 1x1\n",
            "\n",
            "done!\n",
            "./pos-id.def is not found. minimum setting is used\n",
            "reading ./unk.def ... 11\n",
            "emitting double-array: 100% |###########################################| \n",
            "./model.def is not found. skipped.\n",
            "./pos-id.def is not found. minimum setting is used\n",
            "reading ./dic.csv ... 1\n",
            "reading ./matrix.def ... 1x1\n",
            "\n",
            "done!\n",
            "./pos-id.def is not found. minimum setting is used\n",
            "reading ./unk.def ... 2\n",
            "emitting double-array: 100% |###########################################| \n",
            "./model.def is not found. skipped.\n",
            "./pos-id.def is not found. minimum setting is used\n",
            "reading ./dic.csv ... 1\n",
            "reading ./matrix.def ... 1x1\n",
            "\n",
            "done!\n",
            "PASS: run-dics.sh\n",
            "PASS: run-eval.sh\n",
            "seed/pos-id.def is not found. minimum setting is used\n",
            "reading seed/unk.def ... 40\n",
            "emitting double-array: 100% |###########################################| \n",
            "seed/model.def is not found. skipped.\n",
            "seed/pos-id.def is not found. minimum setting is used\n",
            "reading seed/dic.csv ... 4335\n",
            "emitting double-array: 100% |###########################################| \n",
            "reading seed/matrix.def ... 1x1\n",
            "\n",
            "done!\n",
            "reading corpus ...\n",
            "Number of sentences: 34\n",
            "Number of features:  64108\n",
            "eta:                 0.00005\n",
            "freq:                1\n",
            "eval-size:           6\n",
            "unk-eval-size:       4\n",
            "threads:             1\n",
            "charset:             EUC-JP\n",
            "C(sigma^2):          1.00000\n",
            "\n",
            "iter=0 err=1.00000 F=0.35771 target=2406.28355 diff=1.00000\n",
            "iter=1 err=0.97059 F=0.65652 target=1484.25231 diff=0.38318\n",
            "iter=2 err=0.91176 F=0.79331 target=863.32765 diff=0.41834\n",
            "iter=3 err=0.85294 F=0.89213 target=596.72480 diff=0.30881\n",
            "iter=4 err=0.61765 F=0.95467 target=336.30744 diff=0.43641\n",
            "iter=5 err=0.50000 F=0.96702 target=246.53039 diff=0.26695\n",
            "iter=6 err=0.35294 F=0.95472 target=188.93963 diff=0.23361\n",
            "iter=7 err=0.20588 F=0.99106 target=168.62665 diff=0.10751\n",
            "iter=8 err=0.05882 F=0.99777 target=158.64865 diff=0.05917\n",
            "iter=9 err=0.08824 F=0.99665 target=154.14530 diff=0.02839\n",
            "iter=10 err=0.08824 F=0.99665 target=151.94257 diff=0.01429\n",
            "iter=11 err=0.02941 F=0.99888 target=147.20825 diff=0.03116\n",
            "iter=12 err=0.00000 F=1.00000 target=147.34956 diff=0.00096\n",
            "iter=13 err=0.02941 F=0.99888 target=146.32592 diff=0.00695\n",
            "iter=14 err=0.00000 F=1.00000 target=145.77299 diff=0.00378\n",
            "iter=15 err=0.02941 F=0.99888 target=145.24641 diff=0.00361\n",
            "iter=16 err=0.00000 F=1.00000 target=144.96490 diff=0.00194\n",
            "iter=17 err=0.02941 F=0.99888 target=144.90246 diff=0.00043\n",
            "iter=18 err=0.00000 F=1.00000 target=144.75959 diff=0.00099\n",
            "iter=19 err=0.00000 F=1.00000 target=144.71727 diff=0.00029\n",
            "iter=20 err=0.00000 F=1.00000 target=144.66337 diff=0.00037\n",
            "iter=21 err=0.00000 F=1.00000 target=144.61349 diff=0.00034\n",
            "iter=22 err=0.00000 F=1.00000 target=144.62987 diff=0.00011\n",
            "iter=23 err=0.00000 F=1.00000 target=144.60060 diff=0.00020\n",
            "iter=24 err=0.00000 F=1.00000 target=144.59125 diff=0.00006\n",
            "iter=25 err=0.00000 F=1.00000 target=144.58619 diff=0.00004\n",
            "iter=26 err=0.00000 F=1.00000 target=144.58219 diff=0.00003\n",
            "iter=27 err=0.00000 F=1.00000 target=144.58059 diff=0.00001\n",
            "\n",
            "Done! writing model file ... \n",
            "model-ipadic.c1.0.f1.model is not a binary model. reopen it as text mode...\n",
            "reading seed/unk.def ... 40\n",
            "reading seed/dic.csv ... 4335\n",
            "emitting model-ipadic.c1.0.f1.dic/left-id.def/ model-ipadic.c1.0.f1.dic/right-id.def\n",
            "emitting model-ipadic.c1.0.f1.dic/unk.def ... 40\n",
            "emitting model-ipadic.c1.0.f1.dic/dic.csv ... 4335\n",
            "emitting matrix      : 100% |###########################################| \n",
            "copying seed/char.def to model-ipadic.c1.0.f1.dic/char.def\n",
            "copying seed/rewrite.def to model-ipadic.c1.0.f1.dic/rewrite.def\n",
            "copying seed/dicrc to model-ipadic.c1.0.f1.dic/dicrc\n",
            "copying seed/feature.def to model-ipadic.c1.0.f1.dic/feature.def\n",
            "copying model-ipadic.c1.0.f1.model to model-ipadic.c1.0.f1.dic/model.def\n",
            "\n",
            "done!\n",
            "model-ipadic.c1.0.f1.dic/pos-id.def is not found. minimum setting is used\n",
            "reading model-ipadic.c1.0.f1.dic/unk.def ... 40\n",
            "emitting double-array: 100% |###########################################| \n",
            "model-ipadic.c1.0.f1.dic/pos-id.def is not found. minimum setting is used\n",
            "reading model-ipadic.c1.0.f1.dic/dic.csv ... 4335\n",
            "emitting double-array: 100% |###########################################| \n",
            "reading model-ipadic.c1.0.f1.dic/matrix.def ... 346x346\n",
            "emitting matrix      : 100% |###########################################| \n",
            "\n",
            "done!\n",
            "              precision          recall         F\n",
            "LEVEL 0:    12.8959(57/442) 11.8998(57/479) 12.3779\n",
            "LEVEL 1:    12.2172(54/442) 11.2735(54/479) 11.7264\n",
            "LEVEL 2:    11.7647(52/442) 10.8559(52/479) 11.2921\n",
            "LEVEL 4:    11.7647(52/442) 10.8559(52/479) 11.2921\n",
            "PASS: run-cost-train.sh\n",
            "==================\n",
            "All 3 tests passed\n",
            "==================\n",
            "make[2]: Leaving directory '/tmp/mecab-0.996-ko-0.9.2/tests'\n",
            "make[1]: Leaving directory '/tmp/mecab-0.996-ko-0.9.2/tests'\n",
            "make[1]: Entering directory '/tmp/mecab-0.996-ko-0.9.2'\n",
            "make[1]: Leaving directory '/tmp/mecab-0.996-ko-0.9.2'\n",
            "Making install in src\n",
            "make[1]: Entering directory '/tmp/mecab-0.996-ko-0.9.2/src'\n",
            "make[2]: Entering directory '/tmp/mecab-0.996-ko-0.9.2/src'\n",
            "test -z \"/usr/local/lib\" || /bin/mkdir -p \"/usr/local/lib\"\n",
            " /bin/bash ../libtool   --mode=install /usr/bin/install -c   libmecab.la '/usr/local/lib'\n",
            "libtool: install: /usr/bin/install -c .libs/libmecab.so.2.0.0 /usr/local/lib/libmecab.so.2.0.0\n",
            "libtool: install: (cd /usr/local/lib && { ln -s -f libmecab.so.2.0.0 libmecab.so.2 || { rm -f libmecab.so.2 && ln -s libmecab.so.2.0.0 libmecab.so.2; }; })\n",
            "libtool: install: (cd /usr/local/lib && { ln -s -f libmecab.so.2.0.0 libmecab.so || { rm -f libmecab.so && ln -s libmecab.so.2.0.0 libmecab.so; }; })\n",
            "libtool: install: /usr/bin/install -c .libs/libmecab.lai /usr/local/lib/libmecab.la\n",
            "libtool: install: /usr/bin/install -c .libs/libmecab.a /usr/local/lib/libmecab.a\n",
            "libtool: install: chmod 644 /usr/local/lib/libmecab.a\n",
            "libtool: install: ranlib /usr/local/lib/libmecab.a\n",
            "libtool: finish: PATH=\"/opt/bin:/usr/local/nvidia/bin:/usr/local/cuda/bin:/usr/local/sbin:/usr/local/bin:/usr/sbin:/usr/bin:/sbin:/bin:/tools/node/bin:/tools/google-cloud-sdk/bin:/sbin\" ldconfig -n /usr/local/lib\n",
            "----------------------------------------------------------------------\n",
            "Libraries have been installed in:\n",
            "   /usr/local/lib\n",
            "\n",
            "If you ever happen to want to link against installed libraries\n",
            "in a given directory, LIBDIR, you must either use libtool, and\n",
            "specify the full pathname of the library, or use the `-LLIBDIR'\n",
            "flag during linking and do at least one of the following:\n",
            "   - add LIBDIR to the `LD_LIBRARY_PATH' environment variable\n",
            "     during execution\n",
            "   - add LIBDIR to the `LD_RUN_PATH' environment variable\n",
            "     during linking\n",
            "   - use the `-Wl,-rpath -Wl,LIBDIR' linker flag\n",
            "   - have your system administrator add LIBDIR to `/etc/ld.so.conf'\n",
            "\n",
            "See any operating system documentation about shared libraries for\n",
            "more information, such as the ld(1) and ld.so(8) manual pages.\n",
            "----------------------------------------------------------------------\n",
            "test -z \"/usr/local/bin\" || /bin/mkdir -p \"/usr/local/bin\"\n",
            "  /bin/bash ../libtool   --mode=install /usr/bin/install -c mecab '/usr/local/bin'\n",
            "libtool: install: /usr/bin/install -c .libs/mecab /usr/local/bin/mecab\n",
            "test -z \"/usr/local/libexec/mecab\" || /bin/mkdir -p \"/usr/local/libexec/mecab\"\n",
            "  /bin/bash ../libtool   --mode=install /usr/bin/install -c mecab-dict-index mecab-dict-gen mecab-cost-train mecab-system-eval mecab-test-gen '/usr/local/libexec/mecab'\n",
            "libtool: install: /usr/bin/install -c .libs/mecab-dict-index /usr/local/libexec/mecab/mecab-dict-index\n",
            "libtool: install: /usr/bin/install -c .libs/mecab-dict-gen /usr/local/libexec/mecab/mecab-dict-gen\n",
            "libtool: install: /usr/bin/install -c .libs/mecab-cost-train /usr/local/libexec/mecab/mecab-cost-train\n",
            "libtool: install: /usr/bin/install -c .libs/mecab-system-eval /usr/local/libexec/mecab/mecab-system-eval\n",
            "libtool: install: /usr/bin/install -c .libs/mecab-test-gen /usr/local/libexec/mecab/mecab-test-gen\n",
            "test -z \"/usr/local/include\" || /bin/mkdir -p \"/usr/local/include\"\n",
            " /usr/bin/install -c -m 644 mecab.h '/usr/local/include'\n",
            "make[2]: Leaving directory '/tmp/mecab-0.996-ko-0.9.2/src'\n",
            "make[1]: Leaving directory '/tmp/mecab-0.996-ko-0.9.2/src'\n",
            "Making install in man\n",
            "make[1]: Entering directory '/tmp/mecab-0.996-ko-0.9.2/man'\n",
            "make[2]: Entering directory '/tmp/mecab-0.996-ko-0.9.2/man'\n",
            "make[2]: Nothing to be done for 'install-exec-am'.\n",
            "test -z \"/usr/local/share/man/man1\" || /bin/mkdir -p \"/usr/local/share/man/man1\"\n",
            " /usr/bin/install -c -m 644 mecab.1 '/usr/local/share/man/man1'\n",
            "make[2]: Leaving directory '/tmp/mecab-0.996-ko-0.9.2/man'\n",
            "make[1]: Leaving directory '/tmp/mecab-0.996-ko-0.9.2/man'\n",
            "Making install in doc\n",
            "make[1]: Entering directory '/tmp/mecab-0.996-ko-0.9.2/doc'\n",
            "make[2]: Entering directory '/tmp/mecab-0.996-ko-0.9.2/doc'\n",
            "make[2]: Nothing to be done for 'install-exec-am'.\n",
            "make[2]: Nothing to be done for 'install-data-am'.\n",
            "make[2]: Leaving directory '/tmp/mecab-0.996-ko-0.9.2/doc'\n",
            "make[1]: Leaving directory '/tmp/mecab-0.996-ko-0.9.2/doc'\n",
            "Making install in tests\n",
            "make[1]: Entering directory '/tmp/mecab-0.996-ko-0.9.2/tests'\n",
            "make[2]: Entering directory '/tmp/mecab-0.996-ko-0.9.2/tests'\n",
            "make[2]: Nothing to be done for 'install-exec-am'.\n",
            "make[2]: Nothing to be done for 'install-data-am'.\n",
            "make[2]: Leaving directory '/tmp/mecab-0.996-ko-0.9.2/tests'\n",
            "make[1]: Leaving directory '/tmp/mecab-0.996-ko-0.9.2/tests'\n",
            "make[1]: Entering directory '/tmp/mecab-0.996-ko-0.9.2'\n",
            "make[2]: Entering directory '/tmp/mecab-0.996-ko-0.9.2'\n",
            "test -z \"/usr/local/bin\" || /bin/mkdir -p \"/usr/local/bin\"\n",
            " /usr/bin/install -c mecab-config '/usr/local/bin'\n",
            "test -z \"/usr/local/etc\" || /bin/mkdir -p \"/usr/local/etc\"\n",
            " /usr/bin/install -c -m 644 mecabrc '/usr/local/etc'\n",
            "make[2]: Leaving directory '/tmp/mecab-0.996-ko-0.9.2'\n",
            "make[1]: Leaving directory '/tmp/mecab-0.996-ko-0.9.2'\n",
            "/sbin/ldconfig.real: /usr/local/lib/python3.7/dist-packages/ideep4py/lib/libmkldnn.so.0 is not a symbolic link\n",
            "\n",
            "--2022-03-25 15:36:52--  https://www.dropbox.com/s/i8girnk5p80076c/mecab-ko-dic-2.1.1-20180720.tar.gz?dl=1\n",
            "Resolving www.dropbox.com (www.dropbox.com)... 162.125.7.18, 2620:100:6035:18::a27d:5512\n",
            "Connecting to www.dropbox.com (www.dropbox.com)|162.125.7.18|:443... connected.\n",
            "HTTP request sent, awaiting response... 301 Moved Permanently\n",
            "Location: /s/dl/i8girnk5p80076c/mecab-ko-dic-2.1.1-20180720.tar.gz [following]\n",
            "--2022-03-25 15:36:53--  https://www.dropbox.com/s/dl/i8girnk5p80076c/mecab-ko-dic-2.1.1-20180720.tar.gz\n",
            "Reusing existing connection to www.dropbox.com:443.\n",
            "HTTP request sent, awaiting response... 302 Found\n",
            "Location: https://uc3a20870b10ea28b017aad0c0fb.dl.dropboxusercontent.com/cd/0/get/BiLzgkZp8SmKJqklFFHbgFv_RkvHr_87iInhyBYVaUreRznQBCO-kGlnnB680JwNt1Q2c6dQqpWZRsZ-ufcmXugmgPRYG8cmFce6A3Bpbhw5jCCOeBXz3--yIXCfnhViFdnWgnXo_FaX_Bk0M3ZydGM_i5BupaRmNJLS0Txz_Obr0Bgkk5ktqsP5bJB0DtDvyKo/file?dl=1# [following]\n",
            "--2022-03-25 15:36:53--  https://uc3a20870b10ea28b017aad0c0fb.dl.dropboxusercontent.com/cd/0/get/BiLzgkZp8SmKJqklFFHbgFv_RkvHr_87iInhyBYVaUreRznQBCO-kGlnnB680JwNt1Q2c6dQqpWZRsZ-ufcmXugmgPRYG8cmFce6A3Bpbhw5jCCOeBXz3--yIXCfnhViFdnWgnXo_FaX_Bk0M3ZydGM_i5BupaRmNJLS0Txz_Obr0Bgkk5ktqsP5bJB0DtDvyKo/file?dl=1\n",
            "Resolving uc3a20870b10ea28b017aad0c0fb.dl.dropboxusercontent.com (uc3a20870b10ea28b017aad0c0fb.dl.dropboxusercontent.com)... 162.125.85.15, 2620:100:6035:15::a27d:550f\n",
            "Connecting to uc3a20870b10ea28b017aad0c0fb.dl.dropboxusercontent.com (uc3a20870b10ea28b017aad0c0fb.dl.dropboxusercontent.com)|162.125.85.15|:443... connected.\n",
            "HTTP request sent, awaiting response... 200 OK\n",
            "Length: 49775061 (47M) [application/binary]\n",
            "Saving to: ‘mecab-ko-dic-2.1.1-20180720.tar.gz?dl=1’\n",
            "\n",
            "mecab-ko-dic-2.1.1- 100%[===================>]  47.47M  20.3MB/s    in 2.3s    \n",
            "\n",
            "2022-03-25 15:36:57 (20.3 MB/s) - ‘mecab-ko-dic-2.1.1-20180720.tar.gz?dl=1’ saved [49775061/49775061]\n",
            "\n",
            "Reading package lists... Done\n",
            "Building dependency tree       \n",
            "Reading state information... Done\n",
            "The following additional packages will be installed:\n",
            "  automake autotools-dev libsigsegv2 m4\n",
            "Suggested packages:\n",
            "  autoconf-archive gnu-standards autoconf-doc libtool gettext m4-doc\n",
            "The following NEW packages will be installed:\n",
            "  autoconf automake autotools-dev libsigsegv2 m4\n",
            "0 upgraded, 5 newly installed, 0 to remove and 39 not upgraded.\n",
            "Need to get 1,082 kB of archives.\n",
            "After this operation, 3,994 kB of additional disk space will be used.\n",
            "Get:1 http://archive.ubuntu.com/ubuntu bionic/main amd64 libsigsegv2 amd64 2.12-1 [14.7 kB]\n",
            "Get:2 http://archive.ubuntu.com/ubuntu bionic/main amd64 m4 amd64 1.4.18-1 [197 kB]\n",
            "Get:3 http://archive.ubuntu.com/ubuntu bionic/main amd64 autoconf all 2.69-11 [322 kB]\n",
            "Get:4 http://archive.ubuntu.com/ubuntu bionic/main amd64 autotools-dev all 20180224.1 [39.6 kB]\n",
            "Get:5 http://archive.ubuntu.com/ubuntu bionic/main amd64 automake all 1:1.15.1-3ubuntu2 [509 kB]\n",
            "Fetched 1,082 kB in 2s (462 kB/s)\n",
            "Selecting previously unselected package libsigsegv2:amd64.\n",
            "(Reading database ... 156210 files and directories currently installed.)\n",
            "Preparing to unpack .../libsigsegv2_2.12-1_amd64.deb ...\n",
            "Unpacking libsigsegv2:amd64 (2.12-1) ...\n",
            "Selecting previously unselected package m4.\n",
            "Preparing to unpack .../archives/m4_1.4.18-1_amd64.deb ...\n",
            "Unpacking m4 (1.4.18-1) ...\n",
            "Selecting previously unselected package autoconf.\n",
            "Preparing to unpack .../autoconf_2.69-11_all.deb ...\n",
            "Unpacking autoconf (2.69-11) ...\n",
            "Selecting previously unselected package autotools-dev.\n",
            "Preparing to unpack .../autotools-dev_20180224.1_all.deb ...\n",
            "Unpacking autotools-dev (20180224.1) ...\n",
            "Selecting previously unselected package automake.\n",
            "Preparing to unpack .../automake_1%3a1.15.1-3ubuntu2_all.deb ...\n",
            "Unpacking automake (1:1.15.1-3ubuntu2) ...\n",
            "Setting up libsigsegv2:amd64 (2.12-1) ...\n",
            "Setting up m4 (1.4.18-1) ...\n",
            "Setting up autotools-dev (20180224.1) ...\n",
            "Setting up autoconf (2.69-11) ...\n",
            "Setting up automake (1:1.15.1-3ubuntu2) ...\n",
            "update-alternatives: using /usr/bin/automake-1.15 to provide /usr/bin/automake (automake) in auto mode\n",
            "Processing triggers for libc-bin (2.27-3ubuntu1.3) ...\n",
            "/sbin/ldconfig.real: /usr/local/lib/python3.7/dist-packages/ideep4py/lib/libmkldnn.so.0 is not a symbolic link\n",
            "\n",
            "Processing triggers for man-db (2.8.3-2ubuntu0.1) ...\n",
            "mecab-ko-dic-2.1.1-20180720/\n",
            "mecab-ko-dic-2.1.1-20180720/configure\n",
            "mecab-ko-dic-2.1.1-20180720/COPYING\n",
            "mecab-ko-dic-2.1.1-20180720/autogen.sh\n",
            "mecab-ko-dic-2.1.1-20180720/Place-station.csv\n",
            "mecab-ko-dic-2.1.1-20180720/NNG.csv\n",
            "mecab-ko-dic-2.1.1-20180720/README\n",
            "mecab-ko-dic-2.1.1-20180720/EF.csv\n",
            "mecab-ko-dic-2.1.1-20180720/MAG.csv\n",
            "mecab-ko-dic-2.1.1-20180720/Preanalysis.csv\n",
            "mecab-ko-dic-2.1.1-20180720/NNB.csv\n",
            "mecab-ko-dic-2.1.1-20180720/Person-actor.csv\n",
            "mecab-ko-dic-2.1.1-20180720/VV.csv\n",
            "mecab-ko-dic-2.1.1-20180720/Makefile.in\n",
            "mecab-ko-dic-2.1.1-20180720/matrix.def\n",
            "mecab-ko-dic-2.1.1-20180720/EC.csv\n",
            "mecab-ko-dic-2.1.1-20180720/NNBC.csv\n",
            "mecab-ko-dic-2.1.1-20180720/clean\n",
            "mecab-ko-dic-2.1.1-20180720/ChangeLog\n",
            "mecab-ko-dic-2.1.1-20180720/J.csv\n",
            "mecab-ko-dic-2.1.1-20180720/.keep\n",
            "mecab-ko-dic-2.1.1-20180720/feature.def\n",
            "mecab-ko-dic-2.1.1-20180720/Foreign.csv\n",
            "mecab-ko-dic-2.1.1-20180720/XPN.csv\n",
            "mecab-ko-dic-2.1.1-20180720/EP.csv\n",
            "mecab-ko-dic-2.1.1-20180720/NR.csv\n",
            "mecab-ko-dic-2.1.1-20180720/left-id.def\n",
            "mecab-ko-dic-2.1.1-20180720/Place.csv\n",
            "mecab-ko-dic-2.1.1-20180720/Symbol.csv\n",
            "mecab-ko-dic-2.1.1-20180720/dicrc\n",
            "mecab-ko-dic-2.1.1-20180720/NP.csv\n",
            "mecab-ko-dic-2.1.1-20180720/ETM.csv\n",
            "mecab-ko-dic-2.1.1-20180720/IC.csv\n",
            "mecab-ko-dic-2.1.1-20180720/Place-address.csv\n",
            "mecab-ko-dic-2.1.1-20180720/Group.csv\n",
            "mecab-ko-dic-2.1.1-20180720/model.def\n",
            "mecab-ko-dic-2.1.1-20180720/XSN.csv\n",
            "mecab-ko-dic-2.1.1-20180720/INSTALL\n",
            "mecab-ko-dic-2.1.1-20180720/rewrite.def\n",
            "mecab-ko-dic-2.1.1-20180720/Inflect.csv\n",
            "mecab-ko-dic-2.1.1-20180720/configure.ac\n",
            "mecab-ko-dic-2.1.1-20180720/NNP.csv\n",
            "mecab-ko-dic-2.1.1-20180720/CoinedWord.csv\n",
            "mecab-ko-dic-2.1.1-20180720/XSV.csv\n",
            "mecab-ko-dic-2.1.1-20180720/pos-id.def\n",
            "mecab-ko-dic-2.1.1-20180720/Makefile.am\n",
            "mecab-ko-dic-2.1.1-20180720/unk.def\n",
            "mecab-ko-dic-2.1.1-20180720/missing\n",
            "mecab-ko-dic-2.1.1-20180720/VCP.csv\n",
            "mecab-ko-dic-2.1.1-20180720/install-sh\n",
            "mecab-ko-dic-2.1.1-20180720/Hanja.csv\n",
            "mecab-ko-dic-2.1.1-20180720/MAJ.csv\n",
            "mecab-ko-dic-2.1.1-20180720/XSA.csv\n",
            "mecab-ko-dic-2.1.1-20180720/Wikipedia.csv\n",
            "mecab-ko-dic-2.1.1-20180720/tools/\n",
            "mecab-ko-dic-2.1.1-20180720/tools/add-userdic.sh\n",
            "mecab-ko-dic-2.1.1-20180720/tools/mecab-bestn.sh\n",
            "mecab-ko-dic-2.1.1-20180720/tools/convert_for_using_store.sh\n",
            "mecab-ko-dic-2.1.1-20180720/user-dic/\n",
            "mecab-ko-dic-2.1.1-20180720/user-dic/nnp.csv\n",
            "mecab-ko-dic-2.1.1-20180720/user-dic/place.csv\n",
            "mecab-ko-dic-2.1.1-20180720/user-dic/person.csv\n",
            "mecab-ko-dic-2.1.1-20180720/user-dic/README.md\n",
            "mecab-ko-dic-2.1.1-20180720/NorthKorea.csv\n",
            "mecab-ko-dic-2.1.1-20180720/VX.csv\n",
            "mecab-ko-dic-2.1.1-20180720/right-id.def\n",
            "mecab-ko-dic-2.1.1-20180720/VA.csv\n",
            "mecab-ko-dic-2.1.1-20180720/char.def\n",
            "mecab-ko-dic-2.1.1-20180720/NEWS\n",
            "mecab-ko-dic-2.1.1-20180720/MM.csv\n",
            "mecab-ko-dic-2.1.1-20180720/ETN.csv\n",
            "mecab-ko-dic-2.1.1-20180720/AUTHORS\n",
            "mecab-ko-dic-2.1.1-20180720/Person.csv\n",
            "mecab-ko-dic-2.1.1-20180720/XR.csv\n",
            "mecab-ko-dic-2.1.1-20180720/VCN.csv\n",
            "Looking in current directory for macros.\n",
            "configure.ac:2: warning: AM_INIT_AUTOMAKE: two- and three-arguments forms are deprecated.  For more info, see:\n",
            "configure.ac:2: http://www.gnu.org/software/automake/manual/automake.html#Modernize-AM_005fINIT_005fAUTOMAKE-invocation\n",
            "checking for a BSD-compatible install... /usr/bin/install -c\n",
            "checking whether build environment is sane... yes\n",
            "/tmp/mecab-ko-dic-2.1.1-20180720/missing: Unknown `--is-lightweight' option\n",
            "Try `/tmp/mecab-ko-dic-2.1.1-20180720/missing --help' for more information\n",
            "configure: WARNING: 'missing' script is too old or missing\n",
            "checking for a thread-safe mkdir -p... /bin/mkdir -p\n",
            "checking for gawk... no\n",
            "checking for mawk... mawk\n",
            "checking whether make sets $(MAKE)... yes\n",
            "checking whether make supports nested variables... yes\n",
            "checking for mecab-config... /usr/local/bin/mecab-config\n",
            "checking that generated files are newer than configure... done\n",
            "configure: creating ./config.status\n",
            "config.status: creating Makefile\n",
            "/usr/local/libexec/mecab/mecab-dict-index -d . -o . -f UTF-8 -t UTF-8\n",
            "reading ./unk.def ... 13\n",
            "emitting double-array: 100% |###########################################| \n",
            "reading ./Place-address.csv ... 19301\n",
            "reading ./Place.csv ... 30303\n",
            "reading ./XPN.csv ... 83\n",
            "reading ./EC.csv ... 2547\n",
            "reading ./J.csv ... 416\n",
            "reading ./Symbol.csv ... 16\n",
            "reading ./MAG.csv ... 14242\n",
            "reading ./NNBC.csv ... 677\n",
            "reading ./Person.csv ... 196459\n",
            "reading ./EP.csv ... 51\n",
            "reading ./NorthKorea.csv ... 3\n",
            "reading ./Person-actor.csv ... 99230\n",
            "reading ./Hanja.csv ... 125750\n",
            "reading ./XR.csv ... 3637\n",
            "reading ./MM.csv ... 453\n",
            "reading ./ETN.csv ... 14\n",
            "reading ./Preanalysis.csv ... 5\n",
            "reading ./Inflect.csv ... 44820\n",
            "reading ./Place-station.csv ... 1145\n",
            "reading ./XSA.csv ... 19\n",
            "reading ./ETM.csv ... 133\n",
            "reading ./XSN.csv ... 124\n",
            "reading ./VCN.csv ... 7\n",
            "reading ./NNP.csv ... 2371\n",
            "reading ./Foreign.csv ... 11690\n",
            "reading ./Wikipedia.csv ... 36762\n",
            "reading ./NNB.csv ... 140\n",
            "reading ./MAJ.csv ... 240\n",
            "reading ./VA.csv ... 2360\n",
            "reading ./VX.csv ... 125\n",
            "reading ./NR.csv ... 482\n",
            "reading ./NP.csv ... 342\n",
            "reading ./IC.csv ... 1305\n",
            "reading ./EF.csv ... 1820\n",
            "reading ./VV.csv ... 7331\n",
            "reading ./XSV.csv ... 23\n",
            "reading ./VCP.csv ... 9\n",
            "reading ./Group.csv ... 3176\n",
            "reading ./CoinedWord.csv ... 148\n",
            "reading ./NNG.csv ... 208524\n",
            "emitting double-array: 100% |###########################################| \n",
            "reading ./matrix.def ... 3822x2693\n",
            "emitting matrix      : 100% |###########################################| \n",
            "\n",
            "done!\n",
            "echo To enable dictionary, rewrite /usr/local/etc/mecabrc as \\\"dicdir = /usr/local/lib/mecab/dic/mecab-ko-dic\\\"\n",
            "To enable dictionary, rewrite /usr/local/etc/mecabrc as \"dicdir = /usr/local/lib/mecab/dic/mecab-ko-dic\"\n",
            "make[1]: Entering directory '/tmp/mecab-ko-dic-2.1.1-20180720'\n",
            "make[1]: Nothing to be done for 'install-exec-am'.\n",
            " /bin/mkdir -p '/usr/local/lib/mecab/dic/mecab-ko-dic'\n",
            " /usr/bin/install -c -m 644 model.bin matrix.bin char.bin sys.dic unk.dic left-id.def right-id.def rewrite.def pos-id.def dicrc '/usr/local/lib/mecab/dic/mecab-ko-dic'\n",
            "make[1]: Leaving directory '/tmp/mecab-ko-dic-2.1.1-20180720'\n",
            "/sbin/ldconfig.real: /usr/local/lib/python3.7/dist-packages/ideep4py/lib/libmkldnn.so.0 is not a symbolic link\n",
            "\n",
            "Cloning into 'mecab-python-0.996'...\n",
            "Unpacking objects: 100% (17/17), done.\n",
            "running build\n",
            "running build_py\n",
            "creating build\n",
            "creating build/lib.linux-x86_64-3.7\n",
            "copying MeCab.py -> build/lib.linux-x86_64-3.7\n",
            "running build_ext\n",
            "building '_MeCab' extension\n",
            "creating build/temp.linux-x86_64-3.7\n",
            "x86_64-linux-gnu-gcc -pthread -Wno-unused-result -Wsign-compare -DNDEBUG -g -fwrapv -O2 -Wall -g -fdebug-prefix-map=/build/python3.7-dIfpci/python3.7-3.7.13=. -fstack-protector-strong -Wformat -Werror=format-security -g -fdebug-prefix-map=/build/python3.7-dIfpci/python3.7-3.7.13=. -fstack-protector-strong -Wformat -Werror=format-security -Wdate-time -D_FORTIFY_SOURCE=2 -fPIC -I/usr/local/include -I/usr/include/python3.7m -c MeCab_wrap.cxx -o build/temp.linux-x86_64-3.7/MeCab_wrap.o\n",
            "x86_64-linux-gnu-g++ -pthread -shared -Wl,-O1 -Wl,-Bsymbolic-functions -Wl,-Bsymbolic-functions -Wl,-z,relro -Wl,-Bsymbolic-functions -Wl,-z,relro -g -fdebug-prefix-map=/build/python3.7-dIfpci/python3.7-3.7.13=. -fstack-protector-strong -Wformat -Werror=format-security -Wdate-time -D_FORTIFY_SOURCE=2 build/temp.linux-x86_64-3.7/MeCab_wrap.o -L/usr/local/lib -lmecab -lstdc++ -o build/lib.linux-x86_64-3.7/_MeCab.cpython-37m-x86_64-linux-gnu.so\n",
            "running install\n",
            "running build\n",
            "running build_py\n",
            "running build_ext\n",
            "running install_lib\n",
            "copying build/lib.linux-x86_64-3.7/_MeCab.cpython-37m-x86_64-linux-gnu.so -> /usr/local/lib/python3.7/dist-packages\n",
            "copying build/lib.linux-x86_64-3.7/MeCab.py -> /usr/local/lib/python3.7/dist-packages\n",
            "byte-compiling /usr/local/lib/python3.7/dist-packages/MeCab.py to MeCab.cpython-37.pyc\n",
            "running install_egg_info\n",
            "Writing /usr/local/lib/python3.7/dist-packages/mecab_python-0.996_ko_0.9.2.egg-info\n",
            "Requirement already satisfied: konlpy in /usr/local/lib/python3.7/dist-packages (0.6.0)\n",
            "Requirement already satisfied: JPype1>=0.7.0 in /usr/local/lib/python3.7/dist-packages (from konlpy) (1.3.0)\n",
            "Requirement already satisfied: numpy>=1.6 in /usr/local/lib/python3.7/dist-packages (from konlpy) (1.21.5)\n",
            "Requirement already satisfied: lxml>=4.1.0 in /usr/local/lib/python3.7/dist-packages (from konlpy) (4.2.6)\n",
            "Requirement already satisfied: typing-extensions in /usr/local/lib/python3.7/dist-packages (from JPype1>=0.7.0->konlpy) (3.10.0.2)\n"
          ]
        }
      ]
    },
    {
      "cell_type": "code",
      "source": [
        "mkdir -p /content/drive/MyDrive/GoingDeeper\\(NLP\\)/sp_tokenizer/data"
      ],
      "metadata": {
        "id": "jqXBQt1F4nDG"
      },
      "execution_count": 5,
      "outputs": []
    },
    {
      "cell_type": "code",
      "source": [
        "cd /content/drive/MyDrive/GoingDeeper(NLP)/sp_tokenizer/data"
      ],
      "metadata": {
        "colab": {
          "base_uri": "https://localhost:8080/"
        },
        "id": "HhIR1uM75RcG",
        "outputId": "1ae8ccf8-05b2-4b9f-c00f-2a91f96eadc4"
      },
      "execution_count": 6,
      "outputs": [
        {
          "output_type": "stream",
          "name": "stdout",
          "text": [
            "/content/drive/MyDrive/GoingDeeper(NLP)/sp_tokenizer/data\n"
          ]
        }
      ]
    },
    {
      "cell_type": "code",
      "source": [
        "! wget https://github.com/jungyeul/korean-parallel-corpora/raw/master/korean-english-news-v1/korean-english-park.train.tar.gz"
      ],
      "metadata": {
        "id": "DoqXlkdn5eX2",
        "colab": {
          "base_uri": "https://localhost:8080/"
        },
        "outputId": "e50373d6-65dc-42b9-b7c9-ca9823799787"
      },
      "execution_count": 7,
      "outputs": [
        {
          "output_type": "stream",
          "name": "stdout",
          "text": [
            "--2022-03-25 15:37:17--  https://github.com/jungyeul/korean-parallel-corpora/raw/master/korean-english-news-v1/korean-english-park.train.tar.gz\n",
            "Resolving github.com (github.com)... 52.69.186.44\n",
            "Connecting to github.com (github.com)|52.69.186.44|:443... connected.\n",
            "HTTP request sent, awaiting response... 302 Found\n",
            "Location: https://raw.githubusercontent.com/jungyeul/korean-parallel-corpora/master/korean-english-news-v1/korean-english-park.train.tar.gz [following]\n",
            "--2022-03-25 15:37:18--  https://raw.githubusercontent.com/jungyeul/korean-parallel-corpora/master/korean-english-news-v1/korean-english-park.train.tar.gz\n",
            "Resolving raw.githubusercontent.com (raw.githubusercontent.com)... 185.199.108.133, 185.199.109.133, 185.199.111.133, ...\n",
            "Connecting to raw.githubusercontent.com (raw.githubusercontent.com)|185.199.108.133|:443... connected.\n",
            "HTTP request sent, awaiting response... 200 OK\n",
            "Length: 8718893 (8.3M) [application/octet-stream]\n",
            "Saving to: ‘korean-english-park.train.tar.gz.4’\n",
            "\n",
            "korean-english-park 100%[===================>]   8.31M  48.3MB/s    in 0.2s    \n",
            "\n",
            "2022-03-25 15:37:19 (48.3 MB/s) - ‘korean-english-park.train.tar.gz.4’ saved [8718893/8718893]\n",
            "\n"
          ]
        }
      ]
    },
    {
      "cell_type": "code",
      "source": [
        "! tar -xzvf korean-english-park.train.tar.gz"
      ],
      "metadata": {
        "id": "BaZb7PyC5oTi",
        "colab": {
          "base_uri": "https://localhost:8080/"
        },
        "outputId": "526fc740-acb5-459c-dad6-61432f53c706"
      },
      "execution_count": 8,
      "outputs": [
        {
          "output_type": "stream",
          "name": "stdout",
          "text": [
            "korean-english-park.train.en\n",
            "korean-english-park.train.ko\n"
          ]
        }
      ]
    },
    {
      "cell_type": "code",
      "source": [
        "! ls"
      ],
      "metadata": {
        "colab": {
          "base_uri": "https://localhost:8080/"
        },
        "id": "pr8xKVTI7aMf",
        "outputId": "3d09e250-8029-4cef-de4b-78dfe0718c83"
      },
      "execution_count": 9,
      "outputs": [
        {
          "output_type": "stream",
          "name": "stdout",
          "text": [
            "korean-english-park.train.en\t    korean-english-park.train.tar.gz.4\n",
            "korean-english-park.train.ko\t    korean_spm.model\n",
            "korean-english-park.train.ko.temp   korean_spm.vocab\n",
            "korean-english-park.train.tar.gz    naver_review_corpus.temp\n",
            "korean-english-park.train.tar.gz.1  ratings_test.txt\n",
            "korean-english-park.train.tar.gz.2  ratings_train.txt\n",
            "korean-english-park.train.tar.gz.3\n"
          ]
        }
      ]
    },
    {
      "cell_type": "code",
      "source": [
        "from konlpy.tag import Mecab\n",
        "\n",
        "mecab = Mecab()\n",
        "print(mecab.morphs('자연어처리가너무재밌어서밥먹는것도가끔까먹어요'))"
      ],
      "metadata": {
        "colab": {
          "base_uri": "https://localhost:8080/"
        },
        "id": "-Ar2j-hn87oC",
        "outputId": "2e69e680-1670-4ec9-a259-d1338b316b57"
      },
      "execution_count": 10,
      "outputs": [
        {
          "output_type": "stream",
          "name": "stdout",
          "text": [
            "['자연어', '처리', '가', '너무', '재밌', '어서', '밥', '먹', '는', '것', '도', '가끔', '까먹', '어요']\n"
          ]
        }
      ]
    },
    {
      "cell_type": "markdown",
      "source": [
        "# 0. 여기까지 환경설정 끝!\n",
        "\n",
        "이제 사용된 "
      ],
      "metadata": {
        "id": "hcy7rMry9SDF"
      }
    },
    {
      "cell_type": "code",
      "source": [
        "import tensorflow as tf\n",
        "import numpy as np\n",
        "import matplotlib as plt\n",
        "import konlpy\n",
        "\n",
        "%matplotlib inline\n",
        "\n",
        "print(tf.__version__)\n",
        "print(np.__version__)\n",
        "print(plt.__version__)\n",
        "print(konlpy.__version__)"
      ],
      "metadata": {
        "colab": {
          "base_uri": "https://localhost:8080/"
        },
        "id": "gCx-l5p-9Wn6",
        "outputId": "d376c201-f41e-423a-da6b-08660e971088"
      },
      "execution_count": 11,
      "outputs": [
        {
          "output_type": "stream",
          "name": "stdout",
          "text": [
            "2.8.0\n",
            "1.21.5\n",
            "3.2.2\n",
            "0.6.0\n"
          ]
        }
      ]
    },
    {
      "cell_type": "markdown",
      "source": [
        "# Step 1. SentencePiece 설치하기"
      ],
      "metadata": {
        "id": "aq2QHCu37mer"
      }
    },
    {
      "cell_type": "code",
      "source": [
        "!pip install sentencepiece"
      ],
      "metadata": {
        "colab": {
          "base_uri": "https://localhost:8080/"
        },
        "id": "IZ2qNFYR7RY3",
        "outputId": "0ce004fd-9835-41c8-cce9-50a5ce067751"
      },
      "execution_count": 12,
      "outputs": [
        {
          "output_type": "stream",
          "name": "stdout",
          "text": [
            "Collecting sentencepiece\n",
            "  Downloading sentencepiece-0.1.96-cp37-cp37m-manylinux_2_17_x86_64.manylinux2014_x86_64.whl (1.2 MB)\n",
            "\u001b[?25l\r\u001b[K     |▎                               | 10 kB 34.4 MB/s eta 0:00:01\r\u001b[K     |▌                               | 20 kB 8.8 MB/s eta 0:00:01\r\u001b[K     |▉                               | 30 kB 7.8 MB/s eta 0:00:01\r\u001b[K     |█                               | 40 kB 3.6 MB/s eta 0:00:01\r\u001b[K     |█▍                              | 51 kB 3.6 MB/s eta 0:00:01\r\u001b[K     |█▋                              | 61 kB 4.3 MB/s eta 0:00:01\r\u001b[K     |██                              | 71 kB 4.5 MB/s eta 0:00:01\r\u001b[K     |██▏                             | 81 kB 4.8 MB/s eta 0:00:01\r\u001b[K     |██▍                             | 92 kB 5.4 MB/s eta 0:00:01\r\u001b[K     |██▊                             | 102 kB 4.3 MB/s eta 0:00:01\r\u001b[K     |███                             | 112 kB 4.3 MB/s eta 0:00:01\r\u001b[K     |███▎                            | 122 kB 4.3 MB/s eta 0:00:01\r\u001b[K     |███▌                            | 133 kB 4.3 MB/s eta 0:00:01\r\u001b[K     |███▉                            | 143 kB 4.3 MB/s eta 0:00:01\r\u001b[K     |████                            | 153 kB 4.3 MB/s eta 0:00:01\r\u001b[K     |████▎                           | 163 kB 4.3 MB/s eta 0:00:01\r\u001b[K     |████▋                           | 174 kB 4.3 MB/s eta 0:00:01\r\u001b[K     |████▉                           | 184 kB 4.3 MB/s eta 0:00:01\r\u001b[K     |█████▏                          | 194 kB 4.3 MB/s eta 0:00:01\r\u001b[K     |█████▍                          | 204 kB 4.3 MB/s eta 0:00:01\r\u001b[K     |█████▊                          | 215 kB 4.3 MB/s eta 0:00:01\r\u001b[K     |██████                          | 225 kB 4.3 MB/s eta 0:00:01\r\u001b[K     |██████▏                         | 235 kB 4.3 MB/s eta 0:00:01\r\u001b[K     |██████▌                         | 245 kB 4.3 MB/s eta 0:00:01\r\u001b[K     |██████▊                         | 256 kB 4.3 MB/s eta 0:00:01\r\u001b[K     |███████                         | 266 kB 4.3 MB/s eta 0:00:01\r\u001b[K     |███████▎                        | 276 kB 4.3 MB/s eta 0:00:01\r\u001b[K     |███████▋                        | 286 kB 4.3 MB/s eta 0:00:01\r\u001b[K     |███████▉                        | 296 kB 4.3 MB/s eta 0:00:01\r\u001b[K     |████████                        | 307 kB 4.3 MB/s eta 0:00:01\r\u001b[K     |████████▍                       | 317 kB 4.3 MB/s eta 0:00:01\r\u001b[K     |████████▋                       | 327 kB 4.3 MB/s eta 0:00:01\r\u001b[K     |█████████                       | 337 kB 4.3 MB/s eta 0:00:01\r\u001b[K     |█████████▏                      | 348 kB 4.3 MB/s eta 0:00:01\r\u001b[K     |█████████▌                      | 358 kB 4.3 MB/s eta 0:00:01\r\u001b[K     |█████████▊                      | 368 kB 4.3 MB/s eta 0:00:01\r\u001b[K     |██████████                      | 378 kB 4.3 MB/s eta 0:00:01\r\u001b[K     |██████████▎                     | 389 kB 4.3 MB/s eta 0:00:01\r\u001b[K     |██████████▌                     | 399 kB 4.3 MB/s eta 0:00:01\r\u001b[K     |██████████▉                     | 409 kB 4.3 MB/s eta 0:00:01\r\u001b[K     |███████████                     | 419 kB 4.3 MB/s eta 0:00:01\r\u001b[K     |███████████▍                    | 430 kB 4.3 MB/s eta 0:00:01\r\u001b[K     |███████████▋                    | 440 kB 4.3 MB/s eta 0:00:01\r\u001b[K     |███████████▉                    | 450 kB 4.3 MB/s eta 0:00:01\r\u001b[K     |████████████▏                   | 460 kB 4.3 MB/s eta 0:00:01\r\u001b[K     |████████████▍                   | 471 kB 4.3 MB/s eta 0:00:01\r\u001b[K     |████████████▊                   | 481 kB 4.3 MB/s eta 0:00:01\r\u001b[K     |█████████████                   | 491 kB 4.3 MB/s eta 0:00:01\r\u001b[K     |█████████████▎                  | 501 kB 4.3 MB/s eta 0:00:01\r\u001b[K     |█████████████▌                  | 512 kB 4.3 MB/s eta 0:00:01\r\u001b[K     |█████████████▊                  | 522 kB 4.3 MB/s eta 0:00:01\r\u001b[K     |██████████████                  | 532 kB 4.3 MB/s eta 0:00:01\r\u001b[K     |██████████████▎                 | 542 kB 4.3 MB/s eta 0:00:01\r\u001b[K     |██████████████▋                 | 552 kB 4.3 MB/s eta 0:00:01\r\u001b[K     |██████████████▉                 | 563 kB 4.3 MB/s eta 0:00:01\r\u001b[K     |███████████████▏                | 573 kB 4.3 MB/s eta 0:00:01\r\u001b[K     |███████████████▍                | 583 kB 4.3 MB/s eta 0:00:01\r\u001b[K     |███████████████▋                | 593 kB 4.3 MB/s eta 0:00:01\r\u001b[K     |████████████████                | 604 kB 4.3 MB/s eta 0:00:01\r\u001b[K     |████████████████▏               | 614 kB 4.3 MB/s eta 0:00:01\r\u001b[K     |████████████████▌               | 624 kB 4.3 MB/s eta 0:00:01\r\u001b[K     |████████████████▊               | 634 kB 4.3 MB/s eta 0:00:01\r\u001b[K     |█████████████████               | 645 kB 4.3 MB/s eta 0:00:01\r\u001b[K     |█████████████████▎              | 655 kB 4.3 MB/s eta 0:00:01\r\u001b[K     |█████████████████▌              | 665 kB 4.3 MB/s eta 0:00:01\r\u001b[K     |█████████████████▉              | 675 kB 4.3 MB/s eta 0:00:01\r\u001b[K     |██████████████████              | 686 kB 4.3 MB/s eta 0:00:01\r\u001b[K     |██████████████████▍             | 696 kB 4.3 MB/s eta 0:00:01\r\u001b[K     |██████████████████▋             | 706 kB 4.3 MB/s eta 0:00:01\r\u001b[K     |███████████████████             | 716 kB 4.3 MB/s eta 0:00:01\r\u001b[K     |███████████████████▏            | 727 kB 4.3 MB/s eta 0:00:01\r\u001b[K     |███████████████████▍            | 737 kB 4.3 MB/s eta 0:00:01\r\u001b[K     |███████████████████▊            | 747 kB 4.3 MB/s eta 0:00:01\r\u001b[K     |████████████████████            | 757 kB 4.3 MB/s eta 0:00:01\r\u001b[K     |████████████████████▎           | 768 kB 4.3 MB/s eta 0:00:01\r\u001b[K     |████████████████████▌           | 778 kB 4.3 MB/s eta 0:00:01\r\u001b[K     |████████████████████▉           | 788 kB 4.3 MB/s eta 0:00:01\r\u001b[K     |█████████████████████           | 798 kB 4.3 MB/s eta 0:00:01\r\u001b[K     |█████████████████████▎          | 808 kB 4.3 MB/s eta 0:00:01\r\u001b[K     |█████████████████████▋          | 819 kB 4.3 MB/s eta 0:00:01\r\u001b[K     |█████████████████████▉          | 829 kB 4.3 MB/s eta 0:00:01\r\u001b[K     |██████████████████████▏         | 839 kB 4.3 MB/s eta 0:00:01\r\u001b[K     |██████████████████████▍         | 849 kB 4.3 MB/s eta 0:00:01\r\u001b[K     |██████████████████████▊         | 860 kB 4.3 MB/s eta 0:00:01\r\u001b[K     |███████████████████████         | 870 kB 4.3 MB/s eta 0:00:01\r\u001b[K     |███████████████████████▏        | 880 kB 4.3 MB/s eta 0:00:01\r\u001b[K     |███████████████████████▌        | 890 kB 4.3 MB/s eta 0:00:01\r\u001b[K     |███████████████████████▊        | 901 kB 4.3 MB/s eta 0:00:01\r\u001b[K     |████████████████████████        | 911 kB 4.3 MB/s eta 0:00:01\r\u001b[K     |████████████████████████▎       | 921 kB 4.3 MB/s eta 0:00:01\r\u001b[K     |████████████████████████▋       | 931 kB 4.3 MB/s eta 0:00:01\r\u001b[K     |████████████████████████▉       | 942 kB 4.3 MB/s eta 0:00:01\r\u001b[K     |█████████████████████████       | 952 kB 4.3 MB/s eta 0:00:01\r\u001b[K     |█████████████████████████▍      | 962 kB 4.3 MB/s eta 0:00:01\r\u001b[K     |█████████████████████████▋      | 972 kB 4.3 MB/s eta 0:00:01\r\u001b[K     |██████████████████████████      | 983 kB 4.3 MB/s eta 0:00:01\r\u001b[K     |██████████████████████████▏     | 993 kB 4.3 MB/s eta 0:00:01\r\u001b[K     |██████████████████████████▌     | 1.0 MB 4.3 MB/s eta 0:00:01\r\u001b[K     |██████████████████████████▊     | 1.0 MB 4.3 MB/s eta 0:00:01\r\u001b[K     |███████████████████████████     | 1.0 MB 4.3 MB/s eta 0:00:01\r\u001b[K     |███████████████████████████▎    | 1.0 MB 4.3 MB/s eta 0:00:01\r\u001b[K     |███████████████████████████▌    | 1.0 MB 4.3 MB/s eta 0:00:01\r\u001b[K     |███████████████████████████▉    | 1.1 MB 4.3 MB/s eta 0:00:01\r\u001b[K     |████████████████████████████    | 1.1 MB 4.3 MB/s eta 0:00:01\r\u001b[K     |████████████████████████████▍   | 1.1 MB 4.3 MB/s eta 0:00:01\r\u001b[K     |████████████████████████████▋   | 1.1 MB 4.3 MB/s eta 0:00:01\r\u001b[K     |████████████████████████████▉   | 1.1 MB 4.3 MB/s eta 0:00:01\r\u001b[K     |█████████████████████████████▏  | 1.1 MB 4.3 MB/s eta 0:00:01\r\u001b[K     |█████████████████████████████▍  | 1.1 MB 4.3 MB/s eta 0:00:01\r\u001b[K     |█████████████████████████████▊  | 1.1 MB 4.3 MB/s eta 0:00:01\r\u001b[K     |██████████████████████████████  | 1.1 MB 4.3 MB/s eta 0:00:01\r\u001b[K     |██████████████████████████████▎ | 1.1 MB 4.3 MB/s eta 0:00:01\r\u001b[K     |██████████████████████████████▌ | 1.2 MB 4.3 MB/s eta 0:00:01\r\u001b[K     |██████████████████████████████▊ | 1.2 MB 4.3 MB/s eta 0:00:01\r\u001b[K     |███████████████████████████████ | 1.2 MB 4.3 MB/s eta 0:00:01\r\u001b[K     |███████████████████████████████▎| 1.2 MB 4.3 MB/s eta 0:00:01\r\u001b[K     |███████████████████████████████▋| 1.2 MB 4.3 MB/s eta 0:00:01\r\u001b[K     |███████████████████████████████▉| 1.2 MB 4.3 MB/s eta 0:00:01\r\u001b[K     |████████████████████████████████| 1.2 MB 4.3 MB/s \n",
            "\u001b[?25hInstalling collected packages: sentencepiece\n",
            "Successfully installed sentencepiece-0.1.96\n"
          ]
        }
      ]
    },
    {
      "cell_type": "markdown",
      "source": [
        "# Step 2. SentencePiece 모델 학습\n",
        "\n",
        "네이버 영화 리뷰 데이터를 이용하여 filtered_corpus를 먼저 제작하였습니다."
      ],
      "metadata": {
        "id": "sdfYwWEl-hP2"
      }
    },
    {
      "cell_type": "code",
      "source": [
        "import sentencepiece as spm\n",
        "import os\n",
        "import pandas as pd\n",
        "\n",
        "data_file = '/content/drive/MyDrive/GoingDeeper(NLP)/sp_tokenizer/data/ratings_train.txt'\n",
        "\n",
        "test_file = '/content/drive/MyDrive/GoingDeeper(NLP)/sp_tokenizer/data/ratings_test.txt'\n",
        "\n",
        "raw_data = pd.read_table(data_file)\n",
        "raw_data.head(30)"
      ],
      "metadata": {
        "colab": {
          "base_uri": "https://localhost:8080/",
          "height": 990
        },
        "id": "9WQ3v3Sb-8HE",
        "outputId": "a3754fc5-b655-49f9-91bf-4c4f84f09dea"
      },
      "execution_count": 13,
      "outputs": [
        {
          "output_type": "execute_result",
          "data": {
            "text/plain": [
              "          id                                           document  label\n",
              "0    9976970                                아 더빙.. 진짜 짜증나네요 목소리      0\n",
              "1    3819312                  흠...포스터보고 초딩영화줄....오버연기조차 가볍지 않구나      1\n",
              "2   10265843                                  너무재밓었다그래서보는것을추천한다      0\n",
              "3    9045019                      교도소 이야기구먼 ..솔직히 재미는 없다..평점 조정      0\n",
              "4    6483659  사이몬페그의 익살스런 연기가 돋보였던 영화!스파이더맨에서 늙어보이기만 했던 커스틴 ...      1\n",
              "5    5403919      막 걸음마 뗀 3세부터 초등학교 1학년생인 8살용영화.ㅋㅋㅋ...별반개도 아까움.      0\n",
              "6    7797314                              원작의 긴장감을 제대로 살려내지못했다.      0\n",
              "7    9443947  별 반개도 아깝다 욕나온다 이응경 길용우 연기생활이몇년인지..정말 발로해도 그것보단...      0\n",
              "8    7156791                             액션이 없는데도 재미 있는 몇안되는 영화      1\n",
              "9    5912145      왜케 평점이 낮은건데? 꽤 볼만한데.. 헐리우드식 화려함에만 너무 길들여져 있나?      1\n",
              "10   9008700                                   걍인피니트가짱이다.진짜짱이다♥      1\n",
              "11  10217543        볼때마다 눈물나서 죽겠다90년대의 향수자극!!허진호는 감성절제멜로의 달인이다~      1\n",
              "12   5957425                울면서 손들고 횡단보도 건널때 뛰쳐나올뻔 이범수 연기 드럽게못해      0\n",
              "13   8628627  담백하고 깔끔해서 좋다. 신문기사로만 보다 보면 자꾸 잊어버린다. 그들도 사람이었다...      1\n",
              "14   9864035  취향은 존중한다지만 진짜 내생에 극장에서 본 영화중 가장 노잼 노감동임 스토리도 어...      0\n",
              "15   6852435                                   ㄱ냥 매번 긴장되고 재밋음ㅠㅠ      1\n",
              "16   9143163  참 사람들 웃긴게 바스코가 이기면 락스코라고 까고바비가 이기면 아이돌이라고 깐다.그...      1\n",
              "17   4891476                 굿바이 레닌 표절인것은 이해하는데 왜 뒤로 갈수록 재미없어지냐      0\n",
              "18   7465483      이건 정말 깨알 캐스팅과 질퍽하지않은 산뜻한 내용구성이 잘 버무러진 깨알일드!!♥      1\n",
              "19   3989148                 약탈자를 위한 변명, 이라. 저놈들은 착한놈들 절대 아닌걸요.      1\n",
              "20   4581211          나름 심오한 뜻도 있는 듯. 그냥 학생이 선생과 놀아나는 영화는 절대 아님      1\n",
              "21   2718894                                  보면서 웃지 않는 건 불가능하다      1\n",
              "22   9705777  재미없다 지루하고. 같은 음식 영화인데도 바베트의 만찬하고 넘 차이남....바베트의...      0\n",
              "23    471131                       절대 평범한 영화가 아닌 수작이라는걸 말씀드립니다.      1\n",
              "24   8480268                                  주제는 좋은데 중반부터 지루하다      0\n",
              "25   4254115       다 짤랐을꺼야. 그래서 납득할 수 없었던거야.. 그럴꺼야.. 꼭 그랬던걸꺼야..      0\n",
              "26   7295746                                 kl2g 고추를 털어버려야 할텐데      1\n",
              "27   5457633                                           카밀라벨 발연기      0\n",
              "28   6091784                                               재밋는뎅      1\n",
              "29   8322926             센스있는 연출력..탁월한 캐스팅..90년대의 향수.. 그래서 9점..      1"
            ],
            "text/html": [
              "\n",
              "  <div id=\"df-972e5fd0-d0eb-4357-b632-f3dc0ec1198d\">\n",
              "    <div class=\"colab-df-container\">\n",
              "      <div>\n",
              "<style scoped>\n",
              "    .dataframe tbody tr th:only-of-type {\n",
              "        vertical-align: middle;\n",
              "    }\n",
              "\n",
              "    .dataframe tbody tr th {\n",
              "        vertical-align: top;\n",
              "    }\n",
              "\n",
              "    .dataframe thead th {\n",
              "        text-align: right;\n",
              "    }\n",
              "</style>\n",
              "<table border=\"1\" class=\"dataframe\">\n",
              "  <thead>\n",
              "    <tr style=\"text-align: right;\">\n",
              "      <th></th>\n",
              "      <th>id</th>\n",
              "      <th>document</th>\n",
              "      <th>label</th>\n",
              "    </tr>\n",
              "  </thead>\n",
              "  <tbody>\n",
              "    <tr>\n",
              "      <th>0</th>\n",
              "      <td>9976970</td>\n",
              "      <td>아 더빙.. 진짜 짜증나네요 목소리</td>\n",
              "      <td>0</td>\n",
              "    </tr>\n",
              "    <tr>\n",
              "      <th>1</th>\n",
              "      <td>3819312</td>\n",
              "      <td>흠...포스터보고 초딩영화줄....오버연기조차 가볍지 않구나</td>\n",
              "      <td>1</td>\n",
              "    </tr>\n",
              "    <tr>\n",
              "      <th>2</th>\n",
              "      <td>10265843</td>\n",
              "      <td>너무재밓었다그래서보는것을추천한다</td>\n",
              "      <td>0</td>\n",
              "    </tr>\n",
              "    <tr>\n",
              "      <th>3</th>\n",
              "      <td>9045019</td>\n",
              "      <td>교도소 이야기구먼 ..솔직히 재미는 없다..평점 조정</td>\n",
              "      <td>0</td>\n",
              "    </tr>\n",
              "    <tr>\n",
              "      <th>4</th>\n",
              "      <td>6483659</td>\n",
              "      <td>사이몬페그의 익살스런 연기가 돋보였던 영화!스파이더맨에서 늙어보이기만 했던 커스틴 ...</td>\n",
              "      <td>1</td>\n",
              "    </tr>\n",
              "    <tr>\n",
              "      <th>5</th>\n",
              "      <td>5403919</td>\n",
              "      <td>막 걸음마 뗀 3세부터 초등학교 1학년생인 8살용영화.ㅋㅋㅋ...별반개도 아까움.</td>\n",
              "      <td>0</td>\n",
              "    </tr>\n",
              "    <tr>\n",
              "      <th>6</th>\n",
              "      <td>7797314</td>\n",
              "      <td>원작의 긴장감을 제대로 살려내지못했다.</td>\n",
              "      <td>0</td>\n",
              "    </tr>\n",
              "    <tr>\n",
              "      <th>7</th>\n",
              "      <td>9443947</td>\n",
              "      <td>별 반개도 아깝다 욕나온다 이응경 길용우 연기생활이몇년인지..정말 발로해도 그것보단...</td>\n",
              "      <td>0</td>\n",
              "    </tr>\n",
              "    <tr>\n",
              "      <th>8</th>\n",
              "      <td>7156791</td>\n",
              "      <td>액션이 없는데도 재미 있는 몇안되는 영화</td>\n",
              "      <td>1</td>\n",
              "    </tr>\n",
              "    <tr>\n",
              "      <th>9</th>\n",
              "      <td>5912145</td>\n",
              "      <td>왜케 평점이 낮은건데? 꽤 볼만한데.. 헐리우드식 화려함에만 너무 길들여져 있나?</td>\n",
              "      <td>1</td>\n",
              "    </tr>\n",
              "    <tr>\n",
              "      <th>10</th>\n",
              "      <td>9008700</td>\n",
              "      <td>걍인피니트가짱이다.진짜짱이다♥</td>\n",
              "      <td>1</td>\n",
              "    </tr>\n",
              "    <tr>\n",
              "      <th>11</th>\n",
              "      <td>10217543</td>\n",
              "      <td>볼때마다 눈물나서 죽겠다90년대의 향수자극!!허진호는 감성절제멜로의 달인이다~</td>\n",
              "      <td>1</td>\n",
              "    </tr>\n",
              "    <tr>\n",
              "      <th>12</th>\n",
              "      <td>5957425</td>\n",
              "      <td>울면서 손들고 횡단보도 건널때 뛰쳐나올뻔 이범수 연기 드럽게못해</td>\n",
              "      <td>0</td>\n",
              "    </tr>\n",
              "    <tr>\n",
              "      <th>13</th>\n",
              "      <td>8628627</td>\n",
              "      <td>담백하고 깔끔해서 좋다. 신문기사로만 보다 보면 자꾸 잊어버린다. 그들도 사람이었다...</td>\n",
              "      <td>1</td>\n",
              "    </tr>\n",
              "    <tr>\n",
              "      <th>14</th>\n",
              "      <td>9864035</td>\n",
              "      <td>취향은 존중한다지만 진짜 내생에 극장에서 본 영화중 가장 노잼 노감동임 스토리도 어...</td>\n",
              "      <td>0</td>\n",
              "    </tr>\n",
              "    <tr>\n",
              "      <th>15</th>\n",
              "      <td>6852435</td>\n",
              "      <td>ㄱ냥 매번 긴장되고 재밋음ㅠㅠ</td>\n",
              "      <td>1</td>\n",
              "    </tr>\n",
              "    <tr>\n",
              "      <th>16</th>\n",
              "      <td>9143163</td>\n",
              "      <td>참 사람들 웃긴게 바스코가 이기면 락스코라고 까고바비가 이기면 아이돌이라고 깐다.그...</td>\n",
              "      <td>1</td>\n",
              "    </tr>\n",
              "    <tr>\n",
              "      <th>17</th>\n",
              "      <td>4891476</td>\n",
              "      <td>굿바이 레닌 표절인것은 이해하는데 왜 뒤로 갈수록 재미없어지냐</td>\n",
              "      <td>0</td>\n",
              "    </tr>\n",
              "    <tr>\n",
              "      <th>18</th>\n",
              "      <td>7465483</td>\n",
              "      <td>이건 정말 깨알 캐스팅과 질퍽하지않은 산뜻한 내용구성이 잘 버무러진 깨알일드!!♥</td>\n",
              "      <td>1</td>\n",
              "    </tr>\n",
              "    <tr>\n",
              "      <th>19</th>\n",
              "      <td>3989148</td>\n",
              "      <td>약탈자를 위한 변명, 이라. 저놈들은 착한놈들 절대 아닌걸요.</td>\n",
              "      <td>1</td>\n",
              "    </tr>\n",
              "    <tr>\n",
              "      <th>20</th>\n",
              "      <td>4581211</td>\n",
              "      <td>나름 심오한 뜻도 있는 듯. 그냥 학생이 선생과 놀아나는 영화는 절대 아님</td>\n",
              "      <td>1</td>\n",
              "    </tr>\n",
              "    <tr>\n",
              "      <th>21</th>\n",
              "      <td>2718894</td>\n",
              "      <td>보면서 웃지 않는 건 불가능하다</td>\n",
              "      <td>1</td>\n",
              "    </tr>\n",
              "    <tr>\n",
              "      <th>22</th>\n",
              "      <td>9705777</td>\n",
              "      <td>재미없다 지루하고. 같은 음식 영화인데도 바베트의 만찬하고 넘 차이남....바베트의...</td>\n",
              "      <td>0</td>\n",
              "    </tr>\n",
              "    <tr>\n",
              "      <th>23</th>\n",
              "      <td>471131</td>\n",
              "      <td>절대 평범한 영화가 아닌 수작이라는걸 말씀드립니다.</td>\n",
              "      <td>1</td>\n",
              "    </tr>\n",
              "    <tr>\n",
              "      <th>24</th>\n",
              "      <td>8480268</td>\n",
              "      <td>주제는 좋은데 중반부터 지루하다</td>\n",
              "      <td>0</td>\n",
              "    </tr>\n",
              "    <tr>\n",
              "      <th>25</th>\n",
              "      <td>4254115</td>\n",
              "      <td>다 짤랐을꺼야. 그래서 납득할 수 없었던거야.. 그럴꺼야.. 꼭 그랬던걸꺼야..</td>\n",
              "      <td>0</td>\n",
              "    </tr>\n",
              "    <tr>\n",
              "      <th>26</th>\n",
              "      <td>7295746</td>\n",
              "      <td>kl2g 고추를 털어버려야 할텐데</td>\n",
              "      <td>1</td>\n",
              "    </tr>\n",
              "    <tr>\n",
              "      <th>27</th>\n",
              "      <td>5457633</td>\n",
              "      <td>카밀라벨 발연기</td>\n",
              "      <td>0</td>\n",
              "    </tr>\n",
              "    <tr>\n",
              "      <th>28</th>\n",
              "      <td>6091784</td>\n",
              "      <td>재밋는뎅</td>\n",
              "      <td>1</td>\n",
              "    </tr>\n",
              "    <tr>\n",
              "      <th>29</th>\n",
              "      <td>8322926</td>\n",
              "      <td>센스있는 연출력..탁월한 캐스팅..90년대의 향수.. 그래서 9점..</td>\n",
              "      <td>1</td>\n",
              "    </tr>\n",
              "  </tbody>\n",
              "</table>\n",
              "</div>\n",
              "      <button class=\"colab-df-convert\" onclick=\"convertToInteractive('df-972e5fd0-d0eb-4357-b632-f3dc0ec1198d')\"\n",
              "              title=\"Convert this dataframe to an interactive table.\"\n",
              "              style=\"display:none;\">\n",
              "        \n",
              "  <svg xmlns=\"http://www.w3.org/2000/svg\" height=\"24px\"viewBox=\"0 0 24 24\"\n",
              "       width=\"24px\">\n",
              "    <path d=\"M0 0h24v24H0V0z\" fill=\"none\"/>\n",
              "    <path d=\"M18.56 5.44l.94 2.06.94-2.06 2.06-.94-2.06-.94-.94-2.06-.94 2.06-2.06.94zm-11 1L8.5 8.5l.94-2.06 2.06-.94-2.06-.94L8.5 2.5l-.94 2.06-2.06.94zm10 10l.94 2.06.94-2.06 2.06-.94-2.06-.94-.94-2.06-.94 2.06-2.06.94z\"/><path d=\"M17.41 7.96l-1.37-1.37c-.4-.4-.92-.59-1.43-.59-.52 0-1.04.2-1.43.59L10.3 9.45l-7.72 7.72c-.78.78-.78 2.05 0 2.83L4 21.41c.39.39.9.59 1.41.59.51 0 1.02-.2 1.41-.59l7.78-7.78 2.81-2.81c.8-.78.8-2.07 0-2.86zM5.41 20L4 18.59l7.72-7.72 1.47 1.35L5.41 20z\"/>\n",
              "  </svg>\n",
              "      </button>\n",
              "      \n",
              "  <style>\n",
              "    .colab-df-container {\n",
              "      display:flex;\n",
              "      flex-wrap:wrap;\n",
              "      gap: 12px;\n",
              "    }\n",
              "\n",
              "    .colab-df-convert {\n",
              "      background-color: #E8F0FE;\n",
              "      border: none;\n",
              "      border-radius: 50%;\n",
              "      cursor: pointer;\n",
              "      display: none;\n",
              "      fill: #1967D2;\n",
              "      height: 32px;\n",
              "      padding: 0 0 0 0;\n",
              "      width: 32px;\n",
              "    }\n",
              "\n",
              "    .colab-df-convert:hover {\n",
              "      background-color: #E2EBFA;\n",
              "      box-shadow: 0px 1px 2px rgba(60, 64, 67, 0.3), 0px 1px 3px 1px rgba(60, 64, 67, 0.15);\n",
              "      fill: #174EA6;\n",
              "    }\n",
              "\n",
              "    [theme=dark] .colab-df-convert {\n",
              "      background-color: #3B4455;\n",
              "      fill: #D2E3FC;\n",
              "    }\n",
              "\n",
              "    [theme=dark] .colab-df-convert:hover {\n",
              "      background-color: #434B5C;\n",
              "      box-shadow: 0px 1px 3px 1px rgba(0, 0, 0, 0.15);\n",
              "      filter: drop-shadow(0px 1px 2px rgba(0, 0, 0, 0.3));\n",
              "      fill: #FFFFFF;\n",
              "    }\n",
              "  </style>\n",
              "\n",
              "      <script>\n",
              "        const buttonEl =\n",
              "          document.querySelector('#df-972e5fd0-d0eb-4357-b632-f3dc0ec1198d button.colab-df-convert');\n",
              "        buttonEl.style.display =\n",
              "          google.colab.kernel.accessAllowed ? 'block' : 'none';\n",
              "\n",
              "        async function convertToInteractive(key) {\n",
              "          const element = document.querySelector('#df-972e5fd0-d0eb-4357-b632-f3dc0ec1198d');\n",
              "          const dataTable =\n",
              "            await google.colab.kernel.invokeFunction('convertToInteractive',\n",
              "                                                     [key], {});\n",
              "          if (!dataTable) return;\n",
              "\n",
              "          const docLinkHtml = 'Like what you see? Visit the ' +\n",
              "            '<a target=\"_blank\" href=https://colab.research.google.com/notebooks/data_table.ipynb>data table notebook</a>'\n",
              "            + ' to learn more about interactive tables.';\n",
              "          element.innerHTML = '';\n",
              "          dataTable['output_type'] = 'display_data';\n",
              "          await google.colab.output.renderOutput(dataTable, element);\n",
              "          const docLink = document.createElement('div');\n",
              "          docLink.innerHTML = docLinkHtml;\n",
              "          element.appendChild(docLink);\n",
              "        }\n",
              "      </script>\n",
              "    </div>\n",
              "  </div>\n",
              "  "
            ]
          },
          "metadata": {},
          "execution_count": 13
        }
      ]
    },
    {
      "cell_type": "markdown",
      "source": [
        "# 데이터 전처리를 먼저 해주었습니다.\n",
        "\n",
        "1. 한글 맞춤법 검사기 사용 \n",
        "2. 중복된 데이터 제거, 너무 긴 혹은 짧은 데이터 삭제를 통한 데이터 정제\n",
        "\n",
        "### 1. 한글 맞춤법 검사기 사용"
      ],
      "metadata": {
        "id": "maoqF04dRqlb"
      }
    },
    {
      "cell_type": "code",
      "source": [
        "# !pip install git+https://github.com/ssut/py-hanspell.git"
      ],
      "metadata": {
        "id": "_hqEmRJ2-8dP"
      },
      "execution_count": 14,
      "outputs": []
    },
    {
      "cell_type": "code",
      "source": [
        "# from hanspell import spell_checker\n",
        "\n",
        "# sent = \"맞춤법 틀리면 외 않되? 쓰고싶은대로쓰면돼지 \"\n",
        "# spelled_sent = spell_checker.check(sent)\n",
        "\n",
        "# hanspell_sent = spelled_sent.checked\n",
        "# print(hanspell_sent)"
      ],
      "metadata": {
        "id": "INmP99rR-8kO"
      },
      "execution_count": 15,
      "outputs": []
    },
    {
      "cell_type": "markdown",
      "source": [
        "위 블록이 제대로 동작하는 것을 확인하고 raw_data 전체를 한글 맞춤법을 수정해주었습니다.\n",
        "\n",
        "> Not well-formed (invalid token): line 1, column 96 에러가 발생하였으나, 해결하지 못해서 try-except로 구문을 감싸고 예외 처리발생시 그냥 그 문장을 무시하도록 진행하였습니다."
      ],
      "metadata": {
        "id": "haiwqkqcSLUl"
      }
    },
    {
      "cell_type": "code",
      "source": [
        "# corrected_data = raw_data['document']"
      ],
      "metadata": {
        "id": "pchssiBASOk0"
      },
      "execution_count": 16,
      "outputs": []
    },
    {
      "cell_type": "code",
      "source": [
        "# try:\n",
        "#   for idx in range(len(corrected_data)):\n",
        "#     spelled_sent = spell_checker.check(corrected_data[idx])\n",
        "#     hanspell_sent = spelled_sent.checked  \n",
        "\n",
        "#     corrected_data.iloc[idx] = hanspell_sent\n",
        "    \n",
        "#     # 제대로 되고있는지 확인하기 위하여 중간중간 뽑아봄.\n",
        "#     if idx % 100 == 0:\n",
        "#       print(idx, hanspell_sent)\n",
        "# except Exception:\n",
        "#   pass      "
      ],
      "metadata": {
        "id": "KywT491B-8nx"
      },
      "execution_count": 17,
      "outputs": []
    },
    {
      "cell_type": "code",
      "source": [
        "# raw_data['document'] = corrected_data\n",
        "# del corrected_data"
      ],
      "metadata": {
        "id": "VaBTa8-q-8z0"
      },
      "execution_count": 18,
      "outputs": []
    },
    {
      "cell_type": "code",
      "source": [
        ""
      ],
      "metadata": {
        "id": "JmOrtQonELGc"
      },
      "execution_count": 18,
      "outputs": []
    },
    {
      "cell_type": "markdown",
      "source": [
        "### 2. 중복된 데이터 제거, 너무 긴 혹은 짧은 데이터 삭제를 통한 데이터 정제"
      ],
      "metadata": {
        "id": "JKi9Gzf9Waz_"
      }
    },
    {
      "cell_type": "code",
      "source": [
        "#리뷰 전체길이 확인\n",
        "train_length = raw_data['document'].astype(str).apply(len)\n",
        "train_length.head()"
      ],
      "metadata": {
        "id": "JmRwTVJR-82n",
        "colab": {
          "base_uri": "https://localhost:8080/"
        },
        "outputId": "57ace837-4290-4ee0-efea-317a77ccc334"
      },
      "execution_count": 19,
      "outputs": [
        {
          "output_type": "execute_result",
          "data": {
            "text/plain": [
              "0    19\n",
              "1    33\n",
              "2    17\n",
              "3    29\n",
              "4    61\n",
              "Name: document, dtype: int64"
            ]
          },
          "metadata": {},
          "execution_count": 19
        }
      ]
    },
    {
      "cell_type": "markdown",
      "source": [
        ""
      ],
      "metadata": {
        "id": "VvIGKj_zWost"
      }
    },
    {
      "cell_type": "code",
      "source": [
        "#리뷰 통계 정보\n",
        "print('리뷰 길이 최댓값: {}'.format(np.max(train_length)))\n",
        "print('리뷰 길이 최솟값: {}'.format(np.min(train_length)))\n",
        "print('리뷰 길이 평균값: {:.2f}'.format(np.mean(train_length)))\n",
        "print('리뷰 길이 표준편차: {:.2f}'.format(np.std(train_length)))\n",
        "print('리뷰 길이 중간값: {}'.format(np.median(train_length)))\n",
        "print('리뷰 길이 제1사분위: {}'.format(np.percentile(train_length,25)))\n",
        "print('리뷰 길이 제3사분위: {}'.format(np.percentile(train_length,75)))"
      ],
      "metadata": {
        "id": "CXH-DVy9-88e",
        "colab": {
          "base_uri": "https://localhost:8080/"
        },
        "outputId": "05d1818b-c356-4c26-a26c-f3566f92add4"
      },
      "execution_count": 20,
      "outputs": [
        {
          "output_type": "stream",
          "name": "stdout",
          "text": [
            "리뷰 길이 최댓값: 146\n",
            "리뷰 길이 최솟값: 1\n",
            "리뷰 길이 평균값: 35.20\n",
            "리뷰 길이 표준편차: 29.53\n",
            "리뷰 길이 중간값: 27.0\n",
            "리뷰 길이 제1사분위: 16.0\n",
            "리뷰 길이 제3사분위: 42.0\n"
          ]
        }
      ]
    },
    {
      "cell_type": "markdown",
      "source": [
        ""
      ],
      "metadata": {
        "id": "eTXkAReVdU9g"
      }
    },
    {
      "cell_type": "markdown",
      "source": [
        "### nan값 제거 및 중복 값 제거"
      ],
      "metadata": {
        "id": "k_Y4ouIfc-uZ"
      }
    },
    {
      "cell_type": "code",
      "source": [
        "raw_data = raw_data.dropna()"
      ],
      "metadata": {
        "id": "Tq3s9MjvddjE"
      },
      "execution_count": 21,
      "outputs": []
    },
    {
      "cell_type": "code",
      "source": [
        "raw_data = raw_data.drop_duplicates('document')"
      ],
      "metadata": {
        "id": "jAgFnVKAdjVl"
      },
      "execution_count": 22,
      "outputs": []
    },
    {
      "cell_type": "markdown",
      "source": [
        "### 문장 길이 분포 확인하기"
      ],
      "metadata": {
        "id": "aDSM9JfkdE1d"
      }
    },
    {
      "cell_type": "code",
      "source": [
        "min_len = 999\n",
        "max_len = 0\n",
        "sum_len = 0\n",
        "\n",
        "for sen in raw_data['document']:\n",
        "  length = len(sen)\n",
        "  if min_len > length: min_len = length\n",
        "  if max_len < length: max_len = length\n",
        "  sum_len += length\n",
        "\n",
        "print(\"문장의 최단 길이:\", min_len)\n",
        "print(\"문장의 최장 길이:\", max_len)\n",
        "print(\"문장의 평균 길이:\", sum_len // len( raw_data['document']))\n",
        "\n",
        "sentence_length = np.zeros((max_len), dtype=np.int)\n",
        "\n",
        "for sen in  raw_data['document']:\n",
        "  sentence_length[len(sen)-1] += 1\n",
        "\n",
        "plt.pyplot.bar(range(max_len), sentence_length, width=1.0)\n",
        "plt.pyplot.title(\"Sentence Length Distribution\")\n",
        "plt.pyplot.show()"
      ],
      "metadata": {
        "id": "rEWAE_bp-8_l",
        "colab": {
          "base_uri": "https://localhost:8080/",
          "height": 411
        },
        "outputId": "ce88d41d-4b4a-4f7a-9f2f-32f7a3d8105d"
      },
      "execution_count": 23,
      "outputs": [
        {
          "output_type": "stream",
          "name": "stdout",
          "text": [
            "문장의 최단 길이: 1\n",
            "문장의 최장 길이: 146\n",
            "문장의 평균 길이: 35\n"
          ]
        },
        {
          "output_type": "stream",
          "name": "stderr",
          "text": [
            "/usr/local/lib/python3.7/dist-packages/ipykernel_launcher.py:15: DeprecationWarning: `np.int` is a deprecated alias for the builtin `int`. To silence this warning, use `int` by itself. Doing this will not modify any behavior and is safe. When replacing `np.int`, you may wish to use e.g. `np.int64` or `np.int32` to specify the precision. If you wish to review your current use, check the release note link for additional information.\n",
            "Deprecated in NumPy 1.20; for more details and guidance: https://numpy.org/devdocs/release/1.20.0-notes.html#deprecations\n",
            "  from ipykernel import kernelapp as app\n"
          ]
        },
        {
          "output_type": "display_data",
          "data": {
            "text/plain": [
              "<Figure size 432x288 with 1 Axes>"
            ],
            "image/png": "[encoded data removed]"
          },
          "metadata": {
            "needs_background": "light"
          }
        }
      ]
    },
    {
      "cell_type": "markdown",
      "source": [
        "### 기존의 check_sentence_with_length는 길이가 1인 corpus만 출력해주기 때문에 raw_data를 입력으로 정답라벨과 corpus를 같이 뽑아주도록 수정했습니다."
      ],
      "metadata": {
        "id": "xEbAC9F_doxT"
      }
    },
    {
      "cell_type": "code",
      "source": [
        "def check_sentence_with_length(raw_data, length):\n",
        "    count = 0\n",
        "    \n",
        "    for index in raw_data.index:\n",
        "        if len(raw_data['document'][index]) == length:\n",
        "            print(raw_data['label'][index], raw_data['document'][index])\n",
        "            count += 1\n",
        "            if count > 100: return"
      ],
      "metadata": {
        "id": "ojrGWYLYanoG"
      },
      "execution_count": 24,
      "outputs": []
    },
    {
      "cell_type": "code",
      "source": [
        "check_sentence_with_length(raw_data, 1)"
      ],
      "metadata": {
        "colab": {
          "base_uri": "https://localhost:8080/"
        },
        "id": "_-UoqomljMCE",
        "outputId": "188dd2b8-2954-4520-ea2d-e3a72b129a79"
      },
      "execution_count": 25,
      "outputs": [
        {
          "output_type": "stream",
          "name": "stdout",
          "text": [
            "0 아\n",
            "1 잼\n",
            "0 1\n",
            "0 4\n",
            "1 굿\n",
            "1 짱\n",
            "1 휴\n",
            "1 .\n",
            "1 음\n",
            "1 ?\n",
            "1 ㅎ\n",
            "1 ㅋ\n",
            "0 즐\n",
            "1 ♥\n",
            "1 굳\n",
            "1 네\n",
            "0 ㅇ\n",
            "1 k\n",
            "1 ㅠ\n",
            "0 쒯\n",
            "1 ♬\n",
            "1 토\n",
            "1 O\n",
            "0 똥\n",
            "0 z\n",
            "0 헐\n",
            "0 삼\n",
            "0 꽝\n",
            "1 !\n",
            "0 풉\n",
            "0 ㅅ\n",
            "0 왜\n",
            "1 ㄴ\n",
            "0 쉣\n",
            "1 봐\n",
            "1 뿌\n",
            "0 ㅜ\n",
            "1 ♡\n",
            "1 ㅁ\n",
            "0 0\n",
            "0 ㅉ\n",
            "1 d\n",
            "0 흥\n",
            "1 乃\n",
            "1 찜\n",
            "1 귯\n",
            "1 린\n",
            "1 시\n",
            "0 ㅗ\n",
            "1 a\n",
            "0 c\n",
            "0 흠\n",
            "1 웅\n",
            "1 ㅣ\n",
            "0 오\n",
            "1 9\n",
            "1 쩜\n",
            "1 애\n",
            "0 헝\n",
            "1 쨩\n",
            "1 f\n",
            "1 움\n",
            "1 ㄳ\n",
            "1 업\n",
            "0 헉\n",
            "1 군\n",
            "0 b\n",
            "1 ;\n",
            "1 g\n",
            "1 올\n",
            "0 걍\n",
            "0 허\n",
            "1 -\n",
            "0 쀍\n",
            "0 로\n",
            "0 ㄹ\n",
            "1 ㅂ\n",
            "1 갑\n",
            "0 즛\n",
            "0 킥\n",
            "0 함\n",
            "0 진\n",
            "0 ㅡ\n",
            "0 잠\n",
            "0 곧\n",
            "1 ㅍ\n",
            "0 h\n",
            "1 ·\n",
            "1 캬\n",
            "1 ㅆ\n",
            "1 ,\n",
            "0 풋\n",
            "0 ㄱ\n",
            "0 파\n",
            "0 ㄷ\n",
            "0 웩\n",
            "0 꺅\n",
            "0 욜\n",
            "0 ㅄ\n",
            "0 2\n",
            "1 핡\n"
          ]
        }
      ]
    },
    {
      "cell_type": "code",
      "source": [
        "check_sentence_with_length(raw_data, 2)"
      ],
      "metadata": {
        "colab": {
          "base_uri": "https://localhost:8080/"
        },
        "id": "o5907oOAanmR",
        "outputId": "ebc6decc-a506-49ea-8272-e42b99d0658a"
      },
      "execution_count": 26,
      "outputs": [
        {
          "output_type": "stream",
          "name": "stdout",
          "text": [
            "0 최고\n",
            "0 졸작\n",
            "1 대박\n",
            "0 버려\n",
            "0 망함\n",
            "1 굳굳\n",
            "0 안습\n",
            "0 망작\n",
            "0 ㅇㅇ\n",
            "1 쵝오\n",
            "1 굿!\n",
            "0 별루\n",
            "1 씐나\n",
            "0 쓰렉\n",
            "0 볼만\n",
            "0 허접\n",
            "0 비추\n",
            "1 좋다\n",
            "1 ㅎㅎ\n",
            "0 아나\n",
            "0 ㅉㅉ\n",
            "0 야.\n",
            "1 역시\n",
            "1 ^^\n",
            "1 오오\n",
            "0 평이\n",
            "0 지루\n",
            "0 오욈\n",
            "0 ㅋㅋ\n",
            "0 지송\n",
            "0 별로\n",
            "1 눈물\n",
            "1 당연\n",
            "1 쩔어\n",
            "0 별노\n",
            "1 몰입\n",
            "1 졸잼\n",
            "1 돋네\n",
            "0 오글\n",
            "1 이응\n",
            "0 첨봄\n",
            "0 최악\n",
            "1 잼씀\n",
            "0 ok\n",
            "1 유후\n",
            "1 감동\n",
            "1 gg\n",
            "0 ;;\n",
            "1 조앙\n",
            "0 1점\n",
            "0 표절\n",
            "1 명작\n",
            "0 으휴\n",
            "0 에효\n",
            "1 ㄱ굿\n",
            "1 굿잡\n",
            "1 잼나\n",
            "1 10\n",
            "1 ㅜㅜ\n",
            "1 우왕\n",
            "0 거지\n",
            "1 굿굿\n",
            "1 좋음\n",
            "0 실망\n",
            "0 굿.\n",
            "0 애이\n",
            "1 짱임\n",
            "1 전설\n",
            "0 mm\n",
            "1 와우\n",
            "0 등록\n",
            "0 하위\n",
            "0 그닥\n",
            "1 뭉클\n",
            "0 삼류\n",
            "0 HN\n",
            "1 윤하\n",
            "1 섹시\n",
            "1 실화\n",
            "0 머냐\n",
            "1 수작\n",
            "1 꿀잼\n",
            "0 동감\n",
            "1 dd\n",
            "1 굳ㅋ\n",
            "1 굳!\n",
            "1 추천\n",
            "1 좋아\n",
            "0 55\n",
            "0 안봐\n",
            "1 개쩜\n",
            "1 올레\n",
            "0 난해\n",
            "0 ㅠㅠ\n",
            "0 뭐니\n",
            "0 ㅁㅁ\n",
            "0 뭥미\n",
            "0 쓰랙\n",
            "0 좇~\n",
            "1 오우\n",
            "0 미안\n"
          ]
        }
      ]
    },
    {
      "cell_type": "code",
      "source": [
        "check_sentence_with_length(raw_data, 3)"
      ],
      "metadata": {
        "colab": {
          "base_uri": "https://localhost:8080/"
        },
        "id": "vD7lO_BTkTQJ",
        "outputId": "4b87a10a-0342-4c4d-f7e7-9ca6b2ed475b"
      },
      "execution_count": 27,
      "outputs": [
        {
          "output_type": "stream",
          "name": "stdout",
          "text": [
            "1 좋구나\n",
            "1 10점\n",
            "1 처ㅝ주\n",
            "0 솔직히\n",
            "1 4대강\n",
            "1 재밌다\n",
            "1 재밌군\n",
            "1 좋았다\n",
            "0 재미무\n",
            "0 보지마\n",
            "1 볼만함\n",
            "1 b b\n",
            "1 dsa\n",
            "1 웃스!\n",
            "1 ♥♥♥\n",
            "1 재밋네\n",
            "1 최고다\n",
            "1 재밌음\n",
            "0 쓰래기\n",
            "1 갑이다\n",
            "1 료코짱\n",
            "1 2빠닼\n",
            "1 만세-\n",
            "0 OOO\n",
            "1 ㅋㅋㅋ\n",
            "1 아하!\n",
            "1 재및음\n",
            "1 좋아여\n",
            "1 재미쪙\n",
            "1 대박!\n",
            "0 에혀~\n",
            "0 3.6\n",
            "0 가보자\n",
            "0 bad\n",
            "1 신선함\n",
            "1 와우!\n",
            "0 즐ㄹㅋ\n",
            "1 좋아요\n",
            "0 아ㅅㅂ\n",
            "1 쨩이야\n",
            "1 굿~!\n",
            "0 ㅉㅉㅉ\n",
            "1 재밋다\n",
            "0 지못미\n",
            "0 나이스\n",
            "0 오짱!\n",
            "0 전형적\n",
            "0 원주율\n",
            "1 좋은테\n",
            "0 2.6\n",
            "1 굿!!\n",
            "1 1등?\n",
            "1 보세요\n",
            "0 잼없다\n",
            "1 다섯개\n",
            "0 접어라\n",
            "0 쓰중쓰\n",
            "1 좋다.\n",
            "0 음..\n",
            "1 좋군.\n",
            "0 싸우자\n",
            "1 멋져.\n",
            "0 ...\n",
            "0 직인다\n",
            "1 짱짱짱\n",
            "0 별로임\n",
            "1 진리임\n",
            "1 감동적\n",
            "1 최고!\n",
            "1 재밌어\n",
            "1 걍 굿\n",
            "0 아시바\n",
            "1 최고~\n",
            "1 팬이다\n",
            "0 별로다\n",
            "1 좋다,\n",
            "1 잼있다\n",
            "0 최고.\n",
            "1 감동!\n",
            "0 잠온다\n",
            "1 의리!\n",
            "0 별로~\n",
            "0 즐..\n",
            "0 썩었내\n",
            "1 짱멋짐\n",
            "1 ㄴㄹㄴ\n",
            "1 성룡짱\n",
            "1 꿀잼♥\n",
            "1 쵝오!\n",
            "1 괜찮네\n",
            "0 막장.\n",
            "0 억지.\n",
            "0 김서울\n",
            "1 철규찡\n",
            "1 무셔움\n",
            "0 지겨워\n",
            "1 꼭보셈\n",
            "0 쓰레기\n",
            "0 그다지\n",
            "1 훌륭함\n",
            "1 최고임\n"
          ]
        }
      ]
    },
    {
      "cell_type": "markdown",
      "source": [
        "### 길이 1인 데이터는 의미없는 데이터 비율이 높아서 삭제하기로 하였습니다. 길이 2, 3 라벨링하기에 문제가 없어서 남겨두기로 하였습니다."
      ],
      "metadata": {
        "id": "nmU19wxYeakj"
      }
    },
    {
      "cell_type": "code",
      "source": [
        "# drop_idx = raw_data[len(raw_data['document'])>1]"
      ],
      "metadata": {
        "id": "Qq-AfRhPanjL"
      },
      "execution_count": 28,
      "outputs": []
    },
    {
      "cell_type": "code",
      "source": [
        "raw_data = raw_data[raw_data['document'].map(len) > 1]"
      ],
      "metadata": {
        "id": "MJ4WCtgTang8"
      },
      "execution_count": 29,
      "outputs": []
    },
    {
      "cell_type": "markdown",
      "source": [
        "# Sentence piece 학습 시작\n",
        "\n"
      ],
      "metadata": {
        "id": "vYKyVxJIqACx"
      }
    },
    {
      "cell_type": "code",
      "source": [
        "pwd"
      ],
      "metadata": {
        "colab": {
          "base_uri": "https://localhost:8080/",
          "height": 35
        },
        "id": "qaOWBuzLrJA8",
        "outputId": "08e56138-e986-4ba8-8804-348bcceaa0cc"
      },
      "execution_count": 30,
      "outputs": [
        {
          "output_type": "execute_result",
          "data": {
            "text/plain": [
              "'/content/drive/MyDrive/GoingDeeper(NLP)/sp_tokenizer/data'"
            ],
            "application/vnd.google.colaboratory.intrinsic+json": {
              "type": "string"
            }
          },
          "metadata": {},
          "execution_count": 30
        }
      ]
    },
    {
      "cell_type": "markdown",
      "source": [
        "### 네이버 리뷰 부분 temp파일로 저장하기"
      ],
      "metadata": {
        "id": "u_sDARTosWt4"
      }
    },
    {
      "cell_type": "code",
      "source": [
        "# import tempfile"
      ],
      "metadata": {
        "id": "FhC2jK5Lsbfd"
      },
      "execution_count": 31,
      "outputs": []
    },
    {
      "cell_type": "code",
      "source": [
        "naver_review_corpus_temp = raw_data['document']\n",
        "naver_review_file_name = 'naver_review_corpus.temp'\n",
        "\n",
        "f = open(naver_review_file_name, 'w')\n",
        "for review in naver_review_corpus_temp:\n",
        "  f.write(review+'\\n')\n",
        "f.close()"
      ],
      "metadata": {
        "id": "5nqD7JtWsTcb"
      },
      "execution_count": 32,
      "outputs": []
    },
    {
      "cell_type": "code",
      "source": [
        "vocab_size = 10000\n",
        "\n",
        "spm.SentencePieceTrainer.Train(\n",
        "    \"--input={} --model_prefix=korean_spm --vocab_size={}\".format(naver_review_file_name, vocab_size) +\n",
        "    \" --pad_id=0 --pad_piece=[PAD]\" + # pad (0)\n",
        "    \" --unk_id=1 --unk_piece=[UNK]\" + # unknown (1)\n",
        "    \" --bos_id=2 --bos_piece=[BOS]\" + # begin of sequence (2)\n",
        "    \" --eos_id=3 --eos_piece=[EOS]\" ) # end of sequence (3)   \n",
        "\n",
        "!ls -l korean_spm*"
      ],
      "metadata": {
        "id": "6HFjNOVLanef",
        "colab": {
          "base_uri": "https://localhost:8080/"
        },
        "outputId": "f79209bc-2aca-4bac-89ee-4cb4fc571ec2"
      },
      "execution_count": 33,
      "outputs": [
        {
          "output_type": "stream",
          "name": "stdout",
          "text": [
            "-rw------- 1 root root 413731 Mar 25 15:38 korean_spm.model\n",
            "-rw------- 1 root root 184965 Mar 25 15:38 korean_spm.vocab\n"
          ]
        }
      ]
    },
    {
      "cell_type": "markdown",
      "source": [
        "### sentencepiece 모델 확인"
      ],
      "metadata": {
        "id": "BbeJN40t1L5j"
      }
    },
    {
      "cell_type": "code",
      "source": [
        "s = spm.SentencePieceProcessor()\n",
        "s.Load('korean_spm.model')\n",
        "\n",
        "# SentencePiece를 활용한 sentence -> encoding\n",
        "tokensIDs = s.EncodeAsIds('아버지가방에들어가신다.')\n",
        "print(tokensIDs)\n",
        "\n",
        "# SentencePiece를 활용한 sentence -> encoded pieces\n",
        "print(s.SampleEncodeAsPieces('아버지가방에들어가신다.',1, 0.0))\n",
        "\n",
        "# SentencePiece를 활용한 encoding -> sentence 복원\n",
        "print(s.DecodeIds(tokensIDs))"
      ],
      "metadata": {
        "id": "020qob6Oanb_",
        "colab": {
          "base_uri": "https://localhost:8080/"
        },
        "outputId": "fb88ad35-add0-4ffd-9fdc-eebcf49f004c"
      },
      "execution_count": 34,
      "outputs": [
        {
          "output_type": "stream",
          "name": "stdout",
          "text": [
            "[1281, 11, 448, 16, 1310, 11, 147, 19, 5]\n",
            "['▁아버지', '가', '방', '에', '들어', '가', '신', '다', '.']\n",
            "아버지가방에들어가신다.\n"
          ]
        }
      ]
    },
    {
      "cell_type": "markdown",
      "source": [
        "# Step 3. Tokenizer 함수 작성"
      ],
      "metadata": {
        "id": "12SYkiK21UxF"
      }
    },
    {
      "cell_type": "code",
      "source": [
        "def sp_tokenize(s, corpus):\n",
        "\n",
        "    tensor = []\n",
        "\n",
        "    for sen in corpus:\n",
        "        tensor.append(s.EncodeAsIds(sen))\n",
        "\n",
        "    with open(\"./korean_spm.vocab\", 'r') as f:\n",
        "        vocab = f.readlines()\n",
        "\n",
        "    word_index = {}\n",
        "    index_word = {}\n",
        "\n",
        "    for idx, line in enumerate(vocab):\n",
        "        word = line.split(\"\\t\")[0]\n",
        "\n",
        "        word_index.update({idx:word})\n",
        "        index_word.update({word:idx})\n",
        "\n",
        "    tensor = tf.keras.preprocessing.sequence.pad_sequences(tensor, padding='post')\n",
        "\n",
        "    return tensor, word_index, index_word"
      ],
      "metadata": {
        "id": "uNoDvecOanZ4"
      },
      "execution_count": 35,
      "outputs": []
    },
    {
      "cell_type": "code",
      "source": [
        "#sp_tokenize(s, corpus) 사용예제\n",
        "\n",
        "my_corpus = ['나는 밥을 먹었습니다.', '그러나 여전히 ㅠㅠ 배가 고픕니다...']\n",
        "tensor, word_index, index_word = sp_tokenize(s, my_corpus)\n",
        "print('tensor', tensor)\n",
        "print('word_index', word_index)\n",
        "print('index_word', index_word)"
      ],
      "metadata": {
        "id": "mEn80qS6anXZ",
        "colab": {
          "base_uri": "https://localhost:8080/"
        },
        "outputId": "18382b72-6b44-426c-f8a7-6fd64f51141c"
      },
      "execution_count": 36,
      "outputs": [
        {
          "output_type": "stream",
          "name": "stdout",
          "text": [
            "tensor [[ 518 3257   15 1198 2392    5    0    0    0    0]\n",
            " [1384 2297  285  628   11    4   17 9941  873    9]]\n",
            "word_index {0: '[PAD]', 1: '[UNK]', 2: '[BOS]', 3: '[EOS]', 4: '▁', 5: '.', 6: '..', 7: '이', 8: '▁영화', 9: '...', 10: '의', 11: '가', 12: '도', 13: '는', 14: ',', 15: '을', 16: '에', 17: '고', 18: '은', 19: '다', 20: '?', 21: '지', 22: '한', 23: '▁너무', 24: '를', 25: '!', 26: '만', 27: '▁정말', 28: '▁이', 29: '로', 30: '나', 31: '▁진짜', 32: '게', 33: '~', 34: '영화', 35: '과', 36: '기', 37: '으로', 38: '어', 39: '하고', 40: '라', 41: '인', 42: '점', 43: '서', 44: '리', 45: '▁잘', 46: '▁그', 47: '네', 48: '에서', 49: '▁안', 50: '▁왜', 51: '와', 52: '▁다', 53: '아', 54: '▁수', 55: '▁1', 56: '▁더', 57: '!!', 58: '들', 59: '....', 60: '▁이런', 61: '해', 62: '▁아', 63: '요', 64: '하는', 65: '거', 66: '▁그냥', 67: '▁드라마', 68: '네요', 69: '자', 70: '스', 71: '면', 72: '대', 73: '▁본', 74: '▁10', 75: '▁보고', 76: '지만', 77: '수', 78: '시', 79: '▁연기', 80: '▁평점', 81: '니', 82: '▁한', 83: '음', 84: '▁영화를', 85: '▁좀', 86: '야', 87: '▁내', 88: '일', 89: '사', 90: '함', 91: '하게', 92: '이다', 93: '진', 94: '▁참', 95: '▁ᄏᄏ', 96: '▁봤는데', 97: '▁쓰레기', 98: '데', 99: '▁없는', 100: '하다', 101: '하', 102: '▁이거', 103: '▁영화가', 104: '▁영화는', 105: '할', 106: '미', 107: '▁스토리', 108: '우', 109: '▁내가', 110: '▁최고의', 111: '주', 112: '▁못', 113: '▁완전', 114: '▁이건', 115: '▁없다', 116: '구', 117: '▁2', 118: '여', 119: '보다', 120: '임', 121: '▁있는', 122: '까지', 123: '정', 124: '▁좋은', 125: '는데', 126: '▁개', 127: 'ᄏᄏ', 128: '들이', 129: '해서', 130: '▁최고', 131: '안', 132: '!!!', 133: '드', 134: '▁이렇게', 135: '▁보는', 136: '성', 137: '건', 138: '보', 139: '냐', 140: '듯', 141: '▁이게', 142: '▁나', 143: '▁3', 144: '상', 145: '▁다시', 146: '▁것', 147: '신', 148: '▁난', 149: '랑', 150: '▁보', 151: '적', 152: '중', 153: '던', 154: '▁말', 155: '^^', 156: '치', 157: '전', 158: 'ᄏ', 159: '장', 160: '보고', 161: '▁많이', 162: '▁평점이', 163: '마', 164: '▁지', 165: '~~', 166: '▁넘', 167: '오', 168: '1', 169: '▁뭐', 170: '▁작품', 171: '개', 172: '▁역시', 173: '부', 174: '▁그리고', 175: '비', 176: '세', 177: '▁재밌게', 178: '인데', 179: '질', 180: '▁저', 181: '년', 182: '▁볼', 183: '트', 184: '▁또', 185: '▁마지막', 186: ';;', 187: '그', 188: '▁전', 189: '▁하는', 190: '2', 191: '분', 192: '것', 193: '??', 194: '려', 195: '원', 196: '화', 197: '히', 198: \"'\", 199: '했다', 200: '▁재미', 201: '말', 202: '▁오', 203: '라고', 204: '▁생각', 205: '하지', 206: '진짜', 207: '내', 208: '용', 209: '▁별로', 210: '때', 211: '▁꼭', 212: '적인', 213: '▁감동', 214: '급', 215: '같은', 216: '소', 217: '▁없고', 218: '러', 219: '▁가장', 220: '습니다', 221: '입니다', 222: '▁ᄏᄏᄏ', 223: '▁하나', 224: '▁감독', 225: '▁하', 226: '▁무슨', 227: ')', 228: '▁시간', 229: '▁아깝다', 230: '▁기대', 231: '▁이야기', 232: '▁주', 233: '▁별', 234: '란', 235: '더', 236: '물', 237: '▁보면', 238: '제', 239: '▁사', 240: 'ᅲᅲ', 241: '▁무', 242: '좀', 243: '된', 244: '▁다른', 245: '▁지금', 246: '▁아니', 247: '선', 248: '있는', 249: '이나', 250: '▁액션', 251: '▁만든', 252: '너무', 253: '걸', 254: 'ᄏᄏᄏ', 255: '씨', 256: '무', 257: '라는', 258: '▁할', 259: '▁한국', 260: '호', 261: '조', 262: '유', 263: '▁중', 264: '드라마', 265: '없는', 266: '본', 267: '편', 268: '▁비', 269: ';', 270: '▁사랑', 271: '군', 272: '영', 273: '식', 274: '▁조', 275: '동', 276: '▁ᄏ', 277: '어요', 278: '부터', 279: '정말', 280: '3', 281: '감', 282: '▁말이', 283: '▁대', 284: '에게', 285: '▁ᅲᅲ', 286: '▁처음', 287: '▁명작', 288: '연', 289: '긴', 290: '▁같은', 291: 'ᅲ', 292: '▁영화다', 293: '▁미', 294: '모', 295: '▁정', 296: '▁김', 297: '▁연출', 298: '▁내용', 299: \"▁'\", 300: '▁유', 301: '▁끝까지', 302: '▁두', 303: '▁배우', 304: '명', 305: '으면', 306: '▁느낌', 307: '처럼', 308: '당', 309: '▁돈', 310: '작', 311: '디', 312: '울', 313: '줄', 314: '▁때', 315: '난', 316: '▁일', 317: '▁와', 318: '▁거', 319: '▁ᅳᅳ', 320: '(', 321: '운', 322: '▁솔직히', 323: '단', 324: '남', 325: '▁전혀', 326: '▁마', 327: '인지', 328: '▁하지만', 329: '한다', 330: '▁해', 331: '되는', 332: '심', 333: '들의', 334: '▁뭔가', 335: '▁같다', 336: '준', 337: '▁대한', 338: '살', 339: '▁기', 340: '▁어', 341: '▁있다', 342: '크', 343: '워', 344: '두', 345: '바', 346: '▁제', 347: '▁아주', 348: '린', 349: '▁짱', 350: '▁봤다', 351: '▁좋다', 352: '합니다', 353: '며', 354: '경', 355: '길', 356: 'ᅳᅳ', 357: '생', 358: '노', 359: '▁구', 360: '▁봐도', 361: '이랑', 362: '위', 363: '래', 364: '▁알', 365: '타', 366: '▁사람', 367: '재', 368: '잘', 369: '▁많은', 370: '면서', 371: '류', 372: '▁일본', 373: '때문에', 374: '▁좋아', 375: '죠', 376: '하지만', 377: '하면', 378: '▁ᄒᄒ', 379: '르', 380: '▁모두', 381: '희', 382: '▁재밌다', 383: '이라', 384: '▁여자', 385: '인가', 386: '레', 387: '▁어떻게', 388: '▁재미있게', 389: '▁내내', 390: '▁이걸', 391: '▁계속', 392: '▁나오는', 393: '▁후', 394: ',,', 395: '▁그런', 396: '루', 397: '▁줄', 398: '▁내용이', 399: '▁시', 400: '▁코미디', 401: '▁않고', 402: '없이', 403: '▁최악', 404: '박', 405: '간', 406: '연기', 407: '▁소', 408: '하나', 409: '-', 410: '▁대박', 411: '▁배우들', 412: '▁아니라', 413: '▁이영화', 414: '들은', 415: '▁자', 416: '날', 417: '었다', 418: '발', 419: '▁반', 420: '엔', 421: '▁보기', 422: '▁아닌', 423: '저', 424: '한테', 425: '▁최악의', 426: '▁애', 427: '되', 428: '했던', 429: '▁남', 430: '▁신', 431: '▁모든', 432: '▁그래도', 433: '▁한번', 434: '▁4', 435: '민', 436: '▁하고', 437: '지는', 438: '▁이상', 439: '▁주인공', 440: '▁되', 441: 'o', 442: '구나', 443: '파', 444: '번', 445: '든', 446: '판', 447: '시간', 448: '방', 449: '▁딱', 450: '▁아니다', 451: '▁모', 452: '애', 453: '▁듯', 454: '▁남자', 455: '▁실망', 456: '▁7', 457: '▁연기가', 458: '프', 459: '봤는데', 460: '까', 461: '▁5', 462: '▁아름다운', 463: '차', 464: '▁우리', 465: '▁만드는', 466: '▁제일', 467: '이라는', 468: '▁욕', 469: '피', 470: '점도', 471: '▁근데', 472: '▁공포', 473: '국', 474: '형', 475: '▁전개', 476: '지도', 477: '10', 478: '▁않은', 479: '반', 480: '없다', 481: '겨', 482: '하네요', 483: '▁감독이', 484: '▁스릴러', 485: '▁연기도', 486: '▁않는', 487: '터', 488: '▁바', 489: '▁수준', 490: '▁음악', 491: '▁제대로', 492: '▁기억', 493: '▁8', 494: '▁굿', 495: '님', 496: '▁이해', 497: '▁보다가', 498: 'ᄒᄒ', 499: '▁장면', 500: '림', 501: '▁건', 502: '▁개봉', 503: '현', 504: '▁스토리가', 505: '▁내용도', 506: '이란', 507: '회', 508: '후', 509: '겠다', 510: '관', 511: '망', 512: '▁요즘', 513: '이고', 514: '▁만들어', 515: '산', 516: '▁재미없다', 517: '▁장', 518: '▁나는', 519: '보면', 520: '▁보다', 521: '니까', 522: '카', 523: '못', 524: '▁아니고', 525: '▁애니', 526: '▁추천', 527: '▁강', 528: '하네', 529: '♥', 530: '즈', 531: '적으로', 532: '버', 533: '하기', 534: '▁막장', 535: '▁이제', 536: '▁부', 537: '▁박', 538: '▁반전', 539: '배', 540: '▁스', 541: '보는', 542: '▁OO', 543: '▁9', 544: '!!!!', 545: '▁절대', 546: '생각', 547: '공', 548: '▁우', 549: '들을', 550: '▁0', 551: '토', 552: '▁싶다', 553: '점이', 554: 'ᄒ', 555: '~~~', 556: '키', 557: '다니', 558: '따', 559: '▁때문에', 560: '▁영화라고', 561: '▁시간이', 562: '년대', 563: '다가', 564: '태', 565: '▁인생', 566: '▁파', 567: '티', 568: '▁영화의', 569: '▁아직도', 570: '왜', 571: '짱', 572: '▁걸', 573: '▁여운이', 574: '포', 575: '▁주는', 576: '▁아까운', 577: '▁심', 578: '▁세', 579: '건지', 580: '으', 581: '▁차라리', 582: '양', 583: '▁재미도', 584: '▁나름', 585: '▁망', 586: '속', 587: '▁눈', 588: '\"\"', 589: '4', 590: '실', 591: '라도', 592: '석', 593: '▁나온', 594: '했는데', 595: '▁엄청', 596: '▁특히', 597: '▁좋았다', 598: '▁되는', 599: '▁표현', 600: '▁걍', 601: '▁영화입니다', 602: '▁남는', 603: '▁도대체', 604: '▁나도', 605: '▁보면서', 606: '달', 607: 'ᅳ', 608: '▁몇', 609: '▁조금', 610: '▁진심', 611: '5', 612: '이라고', 613: '▁스토리도', 614: '종', 615: '▁우리나라', 616: '참', 617: '▁속', 618: '▁대사', 619: '져', 620: '▁감독의', 621: '▁진', 622: '▁오랜만에', 623: '평점', 624: '뿐', 625: '▁원', 626: '▁불', 627: '▁눈물', 628: '▁배', 629: '문', 630: '▁캐릭터', 631: '▁마지막에', 632: '인듯', 633: '정도', 634: '▁멋진', 635: '역', 636: '점은', 637: '▁공포영화', 638: '▁이해가', 639: '▁뻔한', 640: '▁피', 641: '▁노', 642: 'ᅮᅮ', 643: '▁결말', 644: '것도', 645: '해요', 646: 't', 647: '금', 648: '▁동', 649: '▁시리즈', 650: '▁없음', 651: '▁울', 652: '▁사람들', 653: '▁좋고', 654: '▁좋아하는', 655: '코', 656: '▁B', 657: '▁ᄏᄏᄏᄏ', 658: '어서', 659: '▁없', 660: '스토리', 661: '력', 662: '▁영', 663: '▁생각이', 664: '죽', 665: '계', 666: '밖에', 667: '▁봤습니다', 668: '▁재밌어요', 669: '▁시작', 670: '는거', 671: '▁봤던', 672: '극', 673: '▁쓰', 674: '▁20', 675: ';;;', 676: 'e', 677: 'd', 678: '▁막', 679: '볼', 680: '매', 681: '쳐', 682: 'ᄏᄏᄏᄏ', 683: '이런', 684: '▁수작', 685: '체', 686: '???', 687: '없', 688: '만큼', 689: '사람', 690: '▁공감', 691: '더라', 692: '였다', 693: '▁발', 694: '▁영화에', 695: '▁지루하고', 696: '배우', 697: '▁지루한', 698: '넘', 699: '해도', 700: '▁재미가', 701: '는게', 702: '▁재밌', 703: '▁싶은', 704: '▁미국', 705: '▁가슴', 706: '장면', 707: '예', 708: '/', 709: '▁연', 710: '던데', 711: '려고', 712: '▁초', 713: '봤다', 714: '▁원작', 715: '▁오늘', 716: '▁재밌는', 717: '▁ᅲ', 718: '▁어떤', 719: '▁함께', 720: '▁끝', 721: '▁뭘', 722: '그냥', 723: '▁뭔', 724: '▁될', 725: '▁재', 726: '▁공', 727: '있다', 728: '▁그저', 729: '▁지루함', 730: '▁OOO', 731: '▁기분', 732: '▁사람이', 733: '▁배우들의', 734: '▁없이', 735: '하며', 736: '▁노래', 737: '릴', 738: '▁날', 739: '▁큰', 740: '▁개인적으로', 741: '▁된', 742: '▁^^', 743: '등', 744: '집', 745: '▁보는내내', 746: '탄', 747: '▁여', 748: '▁졸작', 749: '▁알바', 750: '▁괜찮은', 751: '▁나오', 752: '는지', 753: '불', 754: '▁애니메이션', 755: '▁정도', 756: '▁얼마나', 757: '▁않', 758: '▁못한', 759: '김', 760: '7', 761: '▁보세요', 762: '중에', 763: '▁안되는', 764: '▁연기력', 765: '▁몰입도', 766: '▁성', 767: '▁아무리', 768: '▁최고다', 769: '▁캐스팅', 770: '▁소재', 771: '잼', 772: '▁인간', 773: '돈', 774: '~!', 775: '담', 776: '▁영화로', 777: '▁필요', 778: '▁만들', 779: '녀', 780: ',,,', 781: '8', 782: '병', 783: '▁매', 784: '구만', 785: '최고', 786: '꺼', 787: '▁후회', 788: '▁기억에', 789: '사랑', 790: '대로', 791: '▁\"', 792: '강', 793: '▁현실', 794: '있', 795: '움', 796: '▁시나리오', 797: '감동', 798: 's', 799: '▁머', 800: '스트', 801: '감독', 802: '▁예', 803: '하면서', 804: '▁인', 805: '▁결국', 806: '▁선', 807: '갈', 808: '격', 809: '▁매우', 810: '▁억지', 811: '악', 812: '▁살', 813: '▁제발', 814: '했음', 815: '▁연기는', 816: '▁6', 817: '▁만화', 818: '했', 819: '작품', 820: '▁제목', 821: '▁그렇게', 822: '글', 823: '이지만', 824: '투', 825: '▁사실', 826: '▁지루하다', 827: '론', 828: '▁영상', 829: '업', 830: '봐도', 831: '기에', 832: 'a', 833: '슨', 834: '이었다', 835: '리는', 836: '초', 837: '▁가족', 838: '▁같이', 839: '▁것이', 840: '주는', 841: '었는데', 842: '▁허', 843: '▁모르겠다', 844: '▁분위기', 845: '6', 846: '기도', 847: '교', 848: '▁설정', 849: '▁코믹', 850: '▁있', 851: '▁있고', 852: '액션', 853: '▁화', 854: '▁보지', 855: '증', 856: '하는데', 857: '▁봤어요', 858: '통', 859: '봄', 860: '▁들', 861: '▁강추', 862: '▁극장에서', 863: '▁\"\"', 864: '▁하나도', 865: '능', 866: '권', 867: '▁행복', 868: '쓰레기', 869: '▁더빙', 870: '이네', 871: '▁않는다', 872: '▁단', 873: '니다', 874: '▁아이', 875: '▁문제', 876: '▁애들', 877: '▁준', 878: '학', 879: '▁한국영화', 880: '머', 881: '케', 882: '▁별점', 883: '너', 884: '▁위해', 885: '된다', 886: '▁위한', 887: '▁너무나', 888: '절', 889: '▁마음이', 890: '봐', 891: '잡', 892: '▁차', 893: '새', 894: '맨', 895: '▁긴장감', 896: '점을', 897: '군요', 898: '▁알고', 899: '입', 900: '▁있을', 901: '▁맞', 902: '근', 903: '▁없어', 904: '▁한다', 905: '보단', 906: '▁보게', 907: '기는', 908: '▁정신', 909: '▁총', 910: '그리고', 911: '▁좋아요', 912: '9', 913: '이네요', 914: '아니', 915: '▁존나', 916: '▁명', 917: 'ᅮ', 918: '▁주연', 919: '▁너', 920: '▁토', 921: '▁봐야', 922: '설', 923: '▁그만', 924: '테', 925: '▁느낌이', 926: '창', 927: '▁누가', 928: '▁대체', 929: '보니', 930: '▁들어', 931: '▁모습', 932: '▁상', 933: '▁미친', 934: '범', 935: '알', 936: '버린', 937: '온', 938: '결', 939: '▁눈물이', 940: '▁로맨스', 941: '▁내용은', 942: '이야', 943: '재미', 944: '▁훨씬', 945: '내용', 946: '락', 947: '▁매력', 948: '▁죽', 949: '▁잼', 950: '싶', 951: '을까', 952: '▁입', 953: '뭐', 954: '▁갈수록', 955: '▁CG', 956: '끼', 957: '▁그나마', 958: '▁영화네요', 959: '▁열', 960: '▁음', 961: '>', 962: '▁ᄒ', 963: '건가', 964: '점대', 965: '▁감동이', 966: '▁가슴이', 967: '▁꽤', 968: '이지', 969: '수준', 970: '었던', 971: '막', 972: '▁재밌음', 973: '▁장난', 974: '▁밖에', 975: '▁엔딩', 976: '▁없었다', 977: '▁결말이', 978: '▁기억이', 979: '▁전쟁', 980: '해야', 981: '거야', 982: '▁ᅮᅮ', 983: '영화는', 984: '▁마음', 985: '먹', 986: '에도', 987: '았', 988: '▁엄마', 989: '▁발연기', 990: '▁백', 991: '▁어느', 992: '언', 993: '▁중국', 994: '▁보여주는', 995: '▁최', 996: '▁잡', 997: '▁평', 998: '▁어설픈', 999: '잇', 1000: '▁타', 1001: '블', 1002: '▁그래서', 1003: '▁감', 1004: '색', 1005: '▁유치', 1006: '▁따라', 1007: '나는', 1008: '재밌', 1009: '여자', 1010: '▁재밌고', 1011: '▁물', 1012: '▁-', 1013: '▁연기를', 1014: '▁작가', 1015: '▁다큐', 1016: '▁않다', 1017: '▁졸', 1018: '▁치', 1019: '난다', 1020: '다고', 1021: '환', 1022: '▁똥', 1023: '+', 1024: '빠', 1025: '▁뿐', 1026: '었음', 1027: '년이', 1028: '씬', 1029: '완전', 1030: '소리', 1031: '기를', 1032: '▁극', 1033: '평', 1034: '▁적', 1035: '이상', 1036: '나요', 1037: '▁위', 1038: '▁약', 1039: '▁찾아', 1040: '나오는', 1041: '천', 1042: '▁딸', 1043: '▁호', 1044: '▁주고', 1045: '▁다들', 1046: '▁그러', 1047: '▁영화중', 1048: '좋아', 1049: '▁아쉽다', 1050: '▁노잼', 1051: '▁시즌', 1052: '▁길', 1053: '칠', 1054: '쓰', 1055: '▁지루', 1056: '리고', 1057: '▁쓰레기영화', 1058: '▁평가', 1059: '▁걸작', 1060: '승', 1061: '\"', 1062: '▁영화관에서', 1063: '▁간만에', 1064: '▁상황', 1065: '행', 1066: '않', 1067: '짓', 1068: '될', 1069: '짐', 1070: '▁싶', 1071: '플', 1072: '했지만', 1073: '▁잔잔한', 1074: '▁존', 1075: '▁감동도', 1076: '▁좋', 1077: '▁사람들이', 1078: '▁자기', 1079: '없고', 1080: '인줄', 1081: '록', 1082: '▁손', 1083: '▁예술', 1084: '▁베', 1085: '▁의미', 1086: '▁당시', 1087: '▁올', 1088: '느낌', 1089: '이거', 1090: '▁간', 1091: '슬', 1092: '뻔', 1093: '치는', 1094: '▁30', 1095: '▁재미없', 1096: '▁좋은데', 1097: '▁재미없음', 1098: '▁것을', 1099: '직', 1100: '할수', 1101: '▁당', 1102: '▁전부', 1103: '▁맘에', 1104: '이건', 1105: '이라도', 1106: '영화를', 1107: '듯한', 1108: '▁변', 1109: '▁영화였다', 1110: '친', 1111: '할때', 1112: '▁아님', 1113: '▁같아요', 1114: '또', 1115: '▁것도', 1116: '▁바로', 1117: '▁감동적인', 1118: '▁있을까', 1119: '▁대해', 1120: '▁재미있는', 1121: '적이', 1122: '라면', 1123: '습', 1124: '▁생각보다', 1125: '▁재미있다', 1126: '것이', 1127: '께', 1128: '▁웃', 1129: '▁생각을', 1130: '거지', 1131: '▁상당히', 1132: '▁약간', 1133: '▁진정한', 1134: '▁야', 1135: '됨', 1136: '웃', 1137: '▁출연', 1138: '▁안되', 1139: '▁얼굴', 1140: 'b', 1141: '향', 1142: '▁배경', 1143: '돌', 1144: '침', 1145: '▁그대로', 1146: '라서', 1147: '짜', 1148: '▁자체', 1149: '▁점수', 1150: '▁준다', 1151: '▁네이버', 1152: '▁갈', 1153: '치고', 1154: '▁친구', 1155: '수가', 1156: '▁스토리는', 1157: '▁웃기', 1158: '있고', 1159: '낸', 1160: '▁중간에', 1161: '구요', 1162: '▁같은데', 1163: '눈', 1164: '▁편', 1165: '▁소리', 1166: '이야기', 1167: '▁구성', 1168: 'y', 1169: '▁높은', 1170: '셨', 1171: '같이', 1172: '기만', 1173: '빈', 1174: '▁여주인공', 1175: '▁감동을', 1176: '▁배우들이', 1177: '월', 1178: '▁판타지', 1179: '는건', 1180: '▁감성', 1181: '느', 1182: '▁거의', 1183: '▁재미는', 1184: '▁정도로', 1185: '표', 1186: '▁살아', 1187: '▁오래', 1188: '▁분', 1189: '을때', 1190: '편이', 1191: '순', 1192: '▁나와서', 1193: '더니', 1194: '▁했는데', 1195: '션', 1196: '다는', 1197: '▁재미없는', 1198: '▁먹', 1199: '▁성룡', 1200: '출', 1201: '열', 1202: '▁볼만한', 1203: '▁얘기', 1204: '▁아무', 1205: '▁웃음', 1206: '▁힘들', 1207: '린다', 1208: '▁있지만', 1209: '척', 1210: '▁뭐야', 1211: '▁외', 1212: '외', 1213: '았다', 1214: '▁카', 1215: '▁순', 1216: '▁봤지만', 1217: '퍼', 1218: '남자', 1219: '에선', 1220: '▁메', 1221: '조차', 1222: '나오', 1223: '름', 1224: '▁같', 1225: '영화가', 1226: '▁장르', 1227: '목', 1228: 'r', 1229: '▁된다', 1230: '▁이영화를', 1231: '레이', 1232: 'ᄉ', 1233: '▁게', 1234: '▁이름', 1235: '커', 1236: '▁있었', 1237: '기대', 1238: '0', 1239: '▁줄거리', 1240: '▁코', 1241: '▁추억', 1242: '▁봐서', 1243: '처', 1244: '▁악', 1245: '백', 1246: '▁충격', 1247: '▁뭐지', 1248: '▁등', 1249: '햇', 1250: '▁영화인데', 1251: '▁각본', 1252: '▁암', 1253: '복', 1254: '▁감정', 1255: '▁굉장히', 1256: '했습니다', 1257: '들도', 1258: '편은', 1259: '▁장면이', 1260: '▁예상', 1261: '놓고', 1262: '욕', 1263: '▁보니', 1264: '으나', 1265: '▁글', 1266: '었어요', 1267: '▁갑자기', 1268: '혜', 1269: '▁왕', 1270: '▁스릴', 1271: '▁끝나', 1272: '▁어디서', 1273: 'D', 1274: '해라', 1275: '▁재밌네요', 1276: 'ᄋ', 1277: '건데', 1278: '▁많', 1279: '정도로', 1280: '들에게', 1281: '▁아버지', 1282: '▁비교', 1283: '▁훌륭한', 1284: '▁싸', 1285: '▁제가', 1286: '▁다음', 1287: '▁이딴', 1288: '어야', 1289: '근데', 1290: '베', 1291: '▁누구', 1292: '▁ᅳ', 1293: '▁영화임', 1294: '▁저런', 1295: '▁잠', 1296: '▁새로운', 1297: '▁극장판', 1298: 'k', 1299: '▁원작을', 1300: '▁있어서', 1301: '▁번', 1302: '없음', 1303: '▁아이들', 1304: '▁머리', 1305: '▁경', 1306: '였음', 1307: '▁몸', 1308: '왕', 1309: '찍', 1310: '들어', 1311: '줘', 1312: '겠지', 1313: '▁계', 1314: '광', 1315: '~!!', 1316: '되어', 1317: '▁관', 1318: '▁방송', 1319: '▁말도', 1320: '▁90', 1321: '▁그리', 1322: '스러운', 1323: '▁하지', 1324: '▁역', 1325: '▁뭐냐', 1326: '▁생', 1327: '▁평점을', 1328: '▁화면', 1329: '였', 1330: '♡', 1331: '각', 1332: '땜에', 1333: '추', 1334: '▁아직', 1335: '▁감독님', 1336: '▁양', 1337: 'h', 1338: '▁마음에', 1339: '▁힘', 1340: '▁주제', 1341: '▁만', 1342: '▁영상미', 1343: '▁허접', 1344: '▁따', 1345: '▁달', 1346: '▁잼있', 1347: '주의', 1348: '했어요', 1349: '▁재미있어요', 1350: '▁여배우', 1351: '슴', 1352: '▁생각하게', 1353: '철', 1354: '▁주인공이', 1355: 'm', 1356: '거다', 1357: '▁포스터', 1358: '▁항상', 1359: '합', 1360: '▁사회', 1361: '▁뒤', 1362: '한거', 1363: '▁크', 1364: 'n', 1365: '▁깨', 1366: '▁현', 1367: '련', 1368: '▁맛', 1369: '간다', 1370: 'g', 1371: '▁흥행', 1372: '▁대단한', 1373: '럽', 1374: '땐', 1375: '▁있어', 1376: '채', 1377: '▁일단', 1378: '▁그런지', 1379: '▁나올', 1380: '길래', 1381: '▁버', 1382: '좋', 1383: '▁못하는', 1384: '▁그러나', 1385: '곤', 1386: '▁자체가', 1387: '마지막', 1388: '허', 1389: '듬', 1390: '▁봤음', 1391: '으니', 1392: '▁비해', 1393: '▁혼자', 1394: '▁봐라', 1395: '▁개연성', 1396: '▁비디오', 1397: '▁윤', 1398: '▁여기', 1399: '▁영화도', 1400: '▁팬', 1401: '▁처음부터', 1402: '▁집중', 1403: '이라면', 1404: '▁가지고', 1405: '▁뭐가', 1406: '▁저는', 1407: '보기', 1408: '▁충분히', 1409: '별로', 1410: '▁가는', 1411: '년전', 1412: '▁있는데', 1413: '였는데', 1414: '▁산', 1415: '▁언제', 1416: '▁했다', 1417: '었', 1418: '▁실', 1419: '▁TV', 1420: '분들', 1421: '해지는', 1422: '▁없어서', 1423: '_', 1424: '에는', 1425: '▁빨리', 1426: '▁요', 1427: '▁궁금', 1428: '▁천', 1429: '▁종', 1430: '츠', 1431: '▁짜증', 1432: '하냐', 1433: '덕', 1434: '귀', 1435: '▁세계', 1436: '진다', 1437: '같다', 1438: '▁좋은영화', 1439: '부분', 1440: '거나', 1441: '▁제작', 1442: '처음', 1443: '▁목', 1444: '▁꿀잼', 1445: '▁옛날', 1446: '▁사람은', 1447: '법', 1448: '▁이런영화', 1449: '▁점점', 1450: '잔', 1451: '▁너무너무', 1452: '▁책', 1453: '도록', 1454: '▁(', 1455: '▁있었다', 1456: '끝', 1457: '▁순간', 1458: '▁봄', 1459: '▁아까움', 1460: '▁레', 1461: '런', 1462: '▁몰입', 1463: '▁안된다', 1464: 'OO', 1465: '▁잘못', 1466: '별', 1467: '쯤', 1468: '적이고', 1469: '▁꿈', 1470: 'i', 1471: '하니', 1472: '▁초딩', 1473: '▁여주', 1474: '▁나와', 1475: '벌', 1476: '패', 1477: '▁나이', 1478: '▁높', 1479: '났', 1480: '▁나의', 1481: '▁만점', 1482: '▁삼류', 1483: '브', 1484: '청', 1485: '▁나온다', 1486: '지금', 1487: '▁더욱', 1488: '다면', 1489: '▁포', 1490: '▁좋네요', 1491: '배우들', 1492: '▁나왔', 1493: '메', 1494: '했고', 1495: '라니', 1496: '▁부분', 1497: '▁하다', 1498: '▁패', 1499: '내가', 1500: '▁완벽', 1501: '▁추', 1502: '▁작', 1503: '▁부족', 1504: '▁시절', 1505: '혀', 1506: '▁멜로', 1507: '시대', 1508: '약', 1509: '▁써', 1510: '다시', 1511: '▁이유', 1512: '겠지만', 1513: '삼', 1514: '▁돌', 1515: '▁찾', 1516: '술', 1517: '▁첨', 1518: '▁좋겠다', 1519: '▁쳐', 1520: '▁그닥', 1521: '▁것은', 1522: '▁삼', 1523: '되고', 1524: '▁선택', 1525: '▁볼만', 1526: '잖아', 1527: '곡', 1528: '▁도저히', 1529: '▁보여주', 1530: '거냐', 1531: '사람들', 1532: '최악', 1533: '▁유치한', 1534: '▁무조건', 1535: '▁한마디로', 1536: '▁해서', 1537: '▁진행', 1538: '마다', 1539: 'u', 1540: '이라니', 1541: '▁엄청난', 1542: '랄', 1543: '▁과거', 1544: '▁관객', 1545: '▁어릴때', 1546: '▁노력', 1547: '▁놀', 1548: '▁실화', 1549: '추천', 1550: '익', 1551: '규', 1552: '효', 1553: '▁참고', 1554: '▁생각해', 1555: '연출', 1556: '▁아쉬운', 1557: '▁이영화는', 1558: '성이', 1559: '써', 1560: '▁불륜', 1561: '▁전개가', 1562: '▁어색', 1563: '▁성우', 1564: '▁다시봐도', 1565: '전개', 1566: '▁새', 1567: '놈', 1568: '이게', 1569: '른', 1570: '▁편집', 1571: '▁예전에', 1572: '▁슬픈', 1573: '▁대단', 1574: '▁망작', 1575: '재미있', 1576: '▁돌아', 1577: '▁100', 1578: '▁M', 1579: '앗', 1580: '염', 1581: '▁지금까지', 1582: '만한', 1583: '롭', 1584: '▁소설', 1585: '▁귀', 1586: '▁낮은', 1587: '립', 1588: '▁두번', 1589: '▁아닌가', 1590: '▁그때', 1591: '▁짜', 1592: '▁질', 1593: '▁지나', 1594: '▁어디', 1595: '올', 1596: '▁문', 1597: '▁낫다', 1598: '▁따뜻한', 1599: '▁감동적이', 1600: '▁휴', 1601: '▁재밌는데', 1602: '▁재밌었다', 1603: '것같다', 1604: '하여', 1605: '튼', 1606: '▁보는데', 1607: '▁모르고', 1608: 'c', 1609: '▁쓴', 1610: '▁원래', 1611: 'l', 1612: '걸까', 1613: '▁돈주고', 1614: '▁봤네요', 1615: '나서', 1616: '나라', 1617: '보다는', 1618: '▁이미', 1619: '▁존재', 1620: '존', 1621: '▁만족', 1622: '▁숨', 1623: '▁감독은', 1624: '하던', 1625: '▁첫', 1626: '먼', 1627: '▁없네', 1628: '뜨', 1629: '대박', 1630: '봐서', 1631: '▁80', 1632: '▁없을', 1633: '▁인물', 1634: '엇', 1635: '▁댓글', 1636: '▁사랑을', 1637: '념', 1638: '▁물론', 1639: '-_-', 1640: '▁이것도', 1641: '▁지루해', 1642: '▁사람들은', 1643: '▁늘', 1644: '▁설', 1645: '거리', 1646: '▁통', 1647: '▁모르는', 1648: '▁어린', 1649: '▁힘든', 1650: ':', 1651: '▁복수', 1652: '▁합니다', 1653: '▁자꾸', 1654: '이냐', 1655: '기가', 1656: '▁봐', 1657: '세요', 1658: '▁있음', 1659: '▁찍', 1660: '▁초반', 1661: '지고', 1662: '▁결혼', 1663: '▁않았', 1664: '▁ᄍᄍ', 1665: '만들', 1666: '▁역사', 1667: '▁완벽한', 1668: '▁설명', 1669: '봐라', 1670: '년도', 1671: '명작', 1672: '졌다', 1673: '▁그래픽', 1674: '여서', 1675: '음악', 1676: '료', 1677: '시리즈', 1678: '▁흠', 1679: '▁죽음', 1680: '풍', 1681: '▁까', 1682: '링', 1683: '▁전형적인', 1684: '쉬', 1685: '▁바보', 1686: '▁귀신', 1687: '▁더럽게', 1688: '그래도', 1689: '몰', 1690: '▁그게', 1691: '▁감상', 1692: '▁아빠', 1693: '▁미화', 1694: '▁느낄', 1695: '라이', 1696: '▁저질', 1697: '▁만나', 1698: '본다', 1699: '윤', 1700: '년에', 1701: '▁괜히', 1702: '졌', 1703: '▁여성', 1704: '좋은', 1705: '함을', 1706: '▁반전이', 1707: '싸', 1708: '▁오히려', 1709: '▁데', 1710: '들과', 1711: '▁예고편', 1712: '▁상상', 1713: '보는데', 1714: '주인공', 1715: '00', 1716: '▁있다는', 1717: '▁웃긴', 1718: '겟', 1719: '▁목소리', 1720: '▁느끼게', 1721: '▁연출이', 1722: '혹', 1723: '▁없네요', 1724: '▁만들었', 1725: '▁나라', 1726: '이에요', 1727: '변', 1728: '▁부족한', 1729: '▁알았다', 1730: '▁이정도', 1731: '▁억지로', 1732: '▁무서운', 1733: '▁이리', 1734: '▁되어', 1735: '▁뭔지', 1736: '아이', 1737: '▁병맛', 1738: '▁만들지', 1739: '찬', 1740: '▁방', 1741: '▁알게', 1742: '▁평점은', 1743: '................', 1744: '하는거', 1745: '▁SF', 1746: '리가', 1747: '점짜리', 1748: '▁헐', 1749: '하세요', 1750: 'x', 1751: '▁우연히', 1752: '탈', 1753: '굿', 1754: '는걸', 1755: '▁완성도', 1756: '▁인정', 1757: '▁일본영화', 1758: '그런', 1759: '▁인간의', 1760: '틀', 1761: '많이', 1762: '아서', 1763: '▁연출력', 1764: '▁현재', 1765: '▁이야기를', 1766: '▁평점에', 1767: '을듯', 1768: '겠', 1769: '▁믿고', 1770: '▁대한민국', 1771: '일까', 1772: '만으로도', 1773: '지않', 1774: '▁신기', 1775: '모르', 1776: '맛', 1777: '십', 1778: '▁볼수', 1779: '▁리', 1780: '▁훌륭', 1781: '짝', 1782: '▁스타일', 1783: '징', 1784: '▁진실', 1785: '~~~~', 1786: '에요', 1787: 'f', 1788: '영화다', 1789: 'B', 1790: '▁돈이', 1791: '▁재밌어', 1792: '▁아무것도', 1793: '▁이상한', 1794: '▁기대하고', 1795: '▁담', 1796: '억', 1797: '▁좋았어요', 1798: '속에', 1799: '▁비슷한', 1800: '▁온', 1801: '훈', 1802: '▁꼬', 1803: '▁세상', 1804: '▁재미있', 1805: '하긴', 1806: '놈들', 1807: '축', 1808: '강추', 1809: '▁개그', 1810: '좋다', 1811: '꼬', 1812: '▁서로', 1813: '▁대작', 1814: '끔', 1815: '▁프랑스', 1816: '▁작품성', 1817: '▁액션도', 1818: '▁재미없어', 1819: '숙', 1820: '▁좋음', 1821: '^', 1822: '▁트', 1823: '▁b', 1824: '▁재밋', 1825: '▁형', 1826: '▁듯한', 1827: '▁영화라', 1828: '▁으', 1829: '▁처음으로', 1830: '▁배우가', 1831: '답', 1832: '▁교', 1833: '▁특유의', 1834: '더군요', 1835: '▁재미있고', 1836: '▁황', 1837: '딱', 1838: '한번', 1839: '▁ost', 1840: '전에', 1841: '힌', 1842: '함이', 1843: '에겐', 1844: '▁태', 1845: '▁성장', 1846: '▁수가', 1847: '▁유머', 1848: '도없고', 1849: '한데', 1850: '족', 1851: '▁가치', 1852: '▁여운', 1853: '▁알았는데', 1854: '아닌', 1855: '자가', 1856: '주세요', 1857: '▁천재', 1858: '▁낮', 1859: '지루', 1860: '▁앞으로', 1861: '인거', 1862: '▁않을', 1863: '재밋', 1864: '말이', 1865: '▁코메디', 1866: '▁했', 1867: '▁이후', 1868: '▁지루하지', 1869: '▁바람', 1870: '▁것이다', 1871: '▁흥미', 1872: '성을', 1873: '렸다', 1874: '봐야', 1875: '했을', 1876: '스럽다', 1877: '▁대단하다', 1878: '드는', 1879: '이면', 1880: '▁이러', 1881: '▁전작', 1882: '▁청춘', 1883: '킹', 1884: '▁흥미진진', 1885: '▁지금도', 1886: '▁해도', 1887: '아깝다', 1888: '였던', 1889: '▁졸라', 1890: '▁말고', 1891: '▁마무리', 1892: '으며', 1893: '▁화이팅', 1894: '▁이런걸', 1895: '▁이런거', 1896: '▁아이들이', 1897: '역시', 1898: '▁감사', 1899: '▁이번', 1900: '▁만드', 1901: '▁보여', 1902: '▁어렸을때', 1903: '▁모습이', 1904: '▁않았다', 1905: '▁교훈', 1906: '▁유치하고', 1907: '보다가', 1908: '▁왜이리', 1909: '▁만들었다', 1910: '▁킬링타임용', 1911: '▁떨', 1912: '▁액션영화', 1913: '▁재미없고', 1914: '▁골', 1915: '책', 1916: '▁멋있', 1917: '▁지난', 1918: '▁소름', 1919: '보면서', 1920: '무슨', 1921: '▁영화보다', 1922: '놓은', 1923: '품', 1924: '▁둘', 1925: '▁프로', 1926: '▁금', 1927: '▁실제', 1928: '▁시청률', 1929: '보이', 1930: '맞', 1931: '▁낚', 1932: '났다', 1933: '어도', 1934: '는것', 1935: '▁맞는', 1936: '페', 1937: '반전', 1938: '▁노출', 1939: '▁tv', 1940: 'T', 1941: '▁병', 1942: '▁않음', 1943: 'S', 1944: '웃음', 1945: '많', 1946: '▁장면은', 1947: '▁시대', 1948: '▁확', 1949: '것이다', 1950: '▁식', 1951: '였습니다', 1952: '▁속편', 1953: '만든', 1954: '▁본다', 1955: '▁아쉽', 1956: '가족', 1957: '오는', 1958: '▁또한', 1959: '얼', 1960: '렌', 1961: '▁화려한', 1962: '방송', 1963: 'C', 1964: '가서', 1965: '▁빠져', 1966: '▁ᄒᄒᄒ', 1967: '▁아니지만', 1968: '▁괴', 1969: '▁명작이다', 1970: '영화중', 1971: '▁그렇고', 1972: '▁귀여운', 1973: '애니', 1974: '▁광', 1975: '▁겁나', 1976: '%', 1977: '했는지', 1978: '▁알아', 1979: '밀', 1980: '▁사랑이', 1981: '▁관계', 1982: '▁비추', 1983: '▁관람', 1984: '▁남주', 1985: '▁몰', 1986: '▁아닐까', 1987: '▁게임', 1988: '점준다', 1989: '▁알았', 1990: '▁저도', 1991: '▁진부한', 1992: '▁클', 1993: '▁먹먹', 1994: '▁분명', 1995: '수록', 1996: '▁왠지', 1997: '▁뻔', 1998: '한영화', 1999: 'p', 2000: '시켜', 2001: '작가', 2002: '▁최악이다', 2003: '량', 2004: '셔', 2005: '▁작품이', 2006: '갑', 2007: '▁어찌', 2008: '네여', 2009: '리스', 2010: '▁사건', 2011: '▁신선', 2012: '▁좋았고', 2013: '▁행동', 2014: '하자', 2015: '▁좋았습니다', 2016: '▁떠나', 2017: '닥', 2018: '▁삶', 2019: '▁C', 2020: '▁복', 2021: '▁터', 2022: '분이', 2023: '▁전체적으로', 2024: '팬', 2025: '▁자유', 2026: '모습', 2027: '려서', 2028: '▁짜증나', 2029: '▁그래', 2030: '▁보이는', 2031: '독', 2032: '이렇게', 2033: '▁경찰', 2034: '든다', 2035: '▁내인생', 2036: '면서도', 2037: '받', 2038: '꼭', 2039: '▁보여준', 2040: '노잼', 2041: '▁하면', 2042: '끄', 2043: '▁나쁜', 2044: '▁나만', 2045: '▁군대', 2046: '▁생각한다', 2047: '▁없었', 2048: '▁심리', 2049: '▁스토리에', 2050: '▁안보', 2051: '@', 2052: '사람이', 2053: '하는게', 2054: '었지만', 2055: '풀', 2056: '▁중에', 2057: '완', 2058: '령', 2059: '▁그런데', 2060: '을텐데', 2061: '했으면', 2062: '▁느끼', 2063: '▁눈이', 2064: '▁마치', 2065: '있게', 2066: '▁무엇보다', 2067: '▁영화였습니다', 2068: '▁시간낭비', 2069: '▁허접한', 2070: '▁같습니다', 2071: '▁먼저', 2072: '▁지루하', 2073: '▁삶을', 2074: '▁받', 2075: '겠네', 2076: '▁끝내', 2077: '인이', 2078: '▁살인', 2079: '▁성공', 2080: 'ᅲᅲᅲ', 2081: '졸', 2082: '▁상상력', 2083: '▁보고나서', 2084: '실망', 2085: '▁극장', 2086: '▁별루', 2087: '▁한계', 2088: '▁집', 2089: '순간', 2090: '▁대충', 2091: '▁너무나도', 2092: '▁아들', 2093: '▁재밌었어요', 2094: '▁독', 2095: '견', 2096: '▁어이없', 2097: '20', 2098: '▁범죄', 2099: '황', 2100: '버렸다', 2101: '앙', 2102: '▁깊이', 2103: '▁일상', 2104: '▁질질', 2105: '▁맥', 2106: '▁그녀', 2107: '▁소재는', 2108: '▁비슷', 2109: '▁회', 2110: '친구', 2111: '엄', 2112: '특히', 2113: '▁한편', 2114: '▁못하고', 2115: '▁좀비', 2116: '▁떠', 2117: '▁로맨틱', 2118: '▁깊은', 2119: '▁지금봐도', 2120: '▁취', 2121: '▁함', 2122: '▁이젠', 2123: '▁영화에서', 2124: '인간', 2125: '▁인상적', 2126: '▁확실히', 2127: '▁영화중에', 2128: '▁드라마를', 2129: '▁투', 2130: '와서', 2131: '거같다', 2132: '▁상영', 2133: '낮', 2134: '▁액션이', 2135: '▁다소', 2136: '▁자신의', 2137: '▁디', 2138: '▁싫어', 2139: '▁용', 2140: '필', 2141: '다른', 2142: '버리', 2143: '▁각', 2144: '쪽', 2145: '▁어이없는', 2146: '재밌게', 2147: '에서는', 2148: '▁카메라', 2149: '▁잘봤습니다', 2150: '거임', 2151: '▁아오', 2152: '최', 2153: '▁급', 2154: '▁하는데', 2155: '야지', 2156: '득', 2157: '--', 2158: '▁마음을', 2159: '누', 2160: '▁있었던', 2161: '▁자신', 2162: '▁좋았는데', 2163: '▁어색한', 2164: '▁처', 2165: '준다', 2166: '▁표', 2167: '이제', 2168: '휴', 2169: '취', 2170: '=', 2171: '걸로', 2172: '▁읽', 2173: '던가', 2174: '그러', 2175: '▁입니다', 2176: '되지', 2177: '▁좋았음', 2178: '으면서', 2179: '▁눈을', 2180: '▁영웅', 2181: '▁여자들', 2182: '들아', 2183: '▁해준', 2184: '깨', 2185: '손', 2186: '▁모습을', 2187: '시는', 2188: '▁같네요', 2189: '▁세상에', 2190: '▁왜이렇게', 2191: '▁자연', 2192: '▁이영화가', 2193: '▁사이', 2194: 'w', 2195: '송', 2196: '코미디', 2197: '▁독립영화', 2198: '로운', 2199: '뿌', 2200: '▁그런가', 2201: '▁이야기가', 2202: '▁평론가', 2203: '▁매력적인', 2204: '▁잘만든', 2205: '▁여자가', 2206: '던지', 2207: '놓', 2208: '▁절', 2209: '▁흐', 2210: '▁범인', 2211: '한건', 2212: '▁고민', 2213: '최고의', 2214: '가지', 2215: '~^^', 2216: '▁연애', 2217: '????', 2218: '▁촬영', 2219: '보세요', 2220: '▁커', 2221: '▁낭비', 2222: '씩', 2223: '▁프로그램', 2224: '▁스케일', 2225: '있어', 2226: '▁그랬', 2227: '▁유쾌한', 2228: '▁믿', 2229: '▁수준이', 2230: '▁부분이', 2231: '▁이런게', 2232: '스런', 2233: '빨', 2234: '▁인상', 2235: '▁키', 2236: '시간이', 2237: '▁이것', 2238: '▁순수한', 2239: '▁리얼', 2240: '▁국', 2241: '껄', 2242: '▁느껴지는', 2243: '▁아놔', 2244: '▁감사합니다', 2245: 'ᄃ', 2246: '것은', 2247: '스타', 2248: '▁훨', 2249: 'ᄀ', 2250: '일뿐', 2251: '▁동화', 2252: '이며', 2253: '▁리메이크', 2254: '없어', 2255: '▁단순', 2256: '하라', 2257: '한듯', 2258: '▁긴', 2259: '소재', 2260: '▁이쁘', 2261: '▁ᄉᄇ', 2262: '고싶다', 2263: '텐데', 2264: '▁답', 2265: '▁A', 2266: '▁팔', 2267: '▁티', 2268: '갔', 2269: '▁내용을', 2270: '▁ᄏᄏᄏᄏᄏ', 2271: '▁매력이', 2272: '▁저예산', 2273: '▁찍은', 2274: '▁딴', 2275: '드라', 2276: '▁스토리와', 2277: '딸', 2278: '봤음', 2279: '▁해주는', 2280: '▁감탄', 2281: '▁OST', 2282: '▁예전', 2283: '때마다', 2284: '▁역대', 2285: '▁떨어지는', 2286: '▁15', 2287: '▁나에게', 2288: '됐', 2289: '▁기분이', 2290: '더만', 2291: '▁역시나', 2292: '▁해야', 2293: '▁19', 2294: '▁벌', 2295: '쿠', 2296: '▁중간중간', 2297: '▁여전히', 2298: '▁현대', 2299: '재미없', 2300: '▁처음이다', 2301: '나온', 2302: '▁독특한', 2303: '▁끌', 2304: '주고', 2305: '▁아니면', 2306: '항', 2307: '▁메세지', 2308: '하려는', 2309: '▁-_-', 2310: '▁했지만', 2311: '▁현실성', 2312: '▁나를', 2313: '▁아저씨', 2314: '시절', 2315: '쇼', 2316: '었으면', 2317: '▁중간', 2318: '확', 2319: '▁든다', 2320: '▁돌려', 2321: '▁권', 2322: '▁초반에', 2323: '시킨', 2324: '▁아닌데', 2325: 'ᄏᄏᄏᄏᄏᄏᄏᄏᄏᄏᄏᄏᄏᄏᄏᄏ', 2326: '만화', 2327: '▁맨', 2328: '▁전달', 2329: '▁젤', 2330: '▁민', 2331: '찌', 2332: '▁유쾌', 2333: '▁<', 2334: '▁소재를', 2335: '▁섹시', 2336: '▁봤었는데', 2337: '▁마라', 2338: '▁좋을', 2339: '▁나오고', 2340: '▁연기력이', 2341: '▁됐', 2342: '▁하게', 2343: '돼', 2344: '▁역할', 2345: '▁보지마세요', 2346: '▁평범한', 2347: '▁찍어', 2348: '*', 2349: '▁사람을', 2350: '떨', 2351: '▁답답', 2352: '총', 2353: '▁분들', 2354: '려는', 2355: '▁시선', 2356: '아깝', 2357: '감독이', 2358: '▁볼때마다', 2359: '해주는', 2360: '▁그림', 2361: '▁신선한', 2362: '▁있다면', 2363: '▁슬픔', 2364: '▁정치', 2365: '▁안나오', 2366: '(?)', 2367: '만으로', 2368: '응', 2369: '▁전편', 2370: '▁제작진', 2371: '▁미래', 2372: '▁드는', 2373: '▁싶어', 2374: ';;;;', 2375: '▁얼', 2376: '나고', 2377: '▁저렇게', 2378: 'ᄅ', 2379: '닝', 2380: '▁리뷰', 2381: '▁애들이', 2382: '까진', 2383: '충', 2384: '급영화', 2385: '빵', 2386: '▁아름답고', 2387: '내요', 2388: '▁아름답다', 2389: '▁사극', 2390: '▁귀엽고', 2391: '▁가진', 2392: '었습니다', 2393: '인것', 2394: '▁흘러', 2395: '▁호러', 2396: '▁괜찮', 2397: '▁예쁜', 2398: '▁전에', 2399: '▁이유가', 2400: '▁드라마가', 2401: '200', 2402: '▁나중에', 2403: '▁꼴', 2404: '▁평생', 2405: '되서', 2406: '짜리', 2407: '▁그들의', 2408: 'ᄂ', 2409: 'ᄆ', 2410: '유치', 2411: '▁표정', 2412: '▁굳이', 2413: '클', 2414: '흔', 2415: '▁잊지', 2416: '니깐', 2417: '웠', 2418: '▁티비', 2419: '▁액션은', 2420: '▁괴물', 2421: '▁벗', 2422: '▁라는', 2423: '▁s', 2424: '▁아는', 2425: '홍', 2426: '▁살짝', 2427: '▁악역', 2428: '많은', 2429: '지마', 2430: '끌', 2431: '▁등장', 2432: '북', 2433: '▁끝나고', 2434: '▁고전', 2435: '▁뒷', 2436: '▁감동적이고', 2437: '▁죄', 2438: '탕', 2439: '▁넣', 2440: '에서도', 2441: '▁슬프다', 2442: '▁안되고', 2443: '▁표절', 2444: '▁희생', 2445: '▁통해', 2446: '▁사랑하는', 2447: '//', 2448: '▁않아', 2449: '둘', 2450: '팔', 2451: 'ᄍᄍ', 2452: '▁보고싶다', 2453: '▁누', 2454: '▁시원', 2455: '프로', 2456: '욱', 2457: '▁참신', 2458: '▁우울', 2459: '재미없다', 2460: '▁바라', 2461: '감이', 2462: '릭', 2463: '▁후반', 2464: '▁어릴적', 2465: '▁아깝', 2466: '▁웃겨', 2467: '▁재밌었는데', 2468: '숨', 2469: '제목', 2470: '▁근', 2471: '쓴', 2472: '하는지', 2473: '▁춤', 2474: '▁보는게', 2475: '▁드', 2476: '▁보기엔', 2477: '▁과연', 2478: '나올', 2479: '▁분노', 2480: '▁연기에', 2481: '▁기대를', 2482: 'A', 2483: '▁용서', 2484: '▁결과', 2485: '▁몰입이', 2486: '지마라', 2487: '▁남는다', 2488: '▁능력', 2489: '만들어', 2490: '할듯', 2491: '말고', 2492: '▁나가', 2493: '낼', 2494: '▁압권', 2495: '▁종교', 2496: '▁스토리를', 2497: '놀', 2498: '▁게이', 2499: '마저', 2500: '골', 2501: '암', 2502: '▁느', 2503: '하면서도', 2504: '▁다르', 2505: '센', 2506: '줌', 2507: '▁안됨', 2508: '같', 2509: '인생', 2510: '결말', 2511: '▁연기와', 2512: '▁포장', 2513: '▁싫다', 2514: '▁알수', 2515: '▁그의', 2516: '▁아닌듯', 2517: '▁메시지', 2518: '▁몰입감', 2519: 'E', 2520: '번째', 2521: '▁캐', 2522: '엉', 2523: '▁재밌었', 2524: '먹고', 2525: '▁우정', 2526: '▁월', 2527: '▁짜증나는', 2528: '▁무지', 2529: '거라', 2530: '로서', 2531: '더라구요', 2532: '좋아요', 2533: '▁음악이', 2534: '▁cg', 2535: '혼', 2536: '▁추천합니다', 2537: '▁모르겠', 2538: '▁안하고', 2539: '람', 2540: '▁했던', 2541: '뜻', 2542: '▁생각합니다', 2543: '진심', 2544: 'an', 2545: '▁먼', 2546: '줬', 2547: '하려고', 2548: '▁잼있게', 2549: '▁짠', 2550: '▁허무', 2551: '▁출', 2552: '▁이연걸', 2553: '▁난다', 2554: '어진', 2555: '씨가', 2556: '▁만들어진', 2557: '머리', 2558: '하시', 2559: '드리', 2560: '▁처음엔', 2561: '▁짓', 2562: '▁여러', 2563: '랬', 2564: '▁폭력', 2565: '▁열심히', 2566: '동안', 2567: '험', 2568: '▁알바들', 2569: '▁스타', 2570: '▁말로', 2571: '▁홍콩', 2572: '협', 2573: 'V', 2574: '잉', 2575: '홀', 2576: '▁나왔으면', 2577: '시키는', 2578: '▁가지', 2579: '▁다행', 2580: '첨', 2581: '▁나서', 2582: '기엔', 2583: '▁공감이', 2584: '죄', 2585: '▁더이상', 2586: '▁느끼는', 2587: '▁포기', 2588: '▁접', 2589: '▁사는', 2590: '▁긴장', 2591: '▁이건뭐', 2592: '▁묘사', 2593: '뻐', 2594: '▁티비에서', 2595: '▁밀', 2596: 'ᄒᄒᄒ', 2597: '▁개판', 2598: '▁뮤지컬', 2599: '영환', 2600: '것을', 2601: '▁지루할', 2602: '폰', 2603: '없네', 2604: '오빠', 2605: '▁빼', 2606: '괴', 2607: '▁봤다가', 2608: '▁같아', 2609: '▁달리', 2610: '▁있지', 2611: '▁칼', 2612: '▁빛', 2613: '▁되었다', 2614: '▁아까워', 2615: '▁황당', 2616: '했어', 2617: '뒤', 2618: '표현', 2619: '▁영화이다', 2620: '▁많다', 2621: '좋았', 2622: '▁같음', 2623: '▁희망', 2624: '▁봤으면', 2625: '▁+', 2626: '▁주인공의', 2627: '▁낫', 2628: '한게', 2629: '▁설레', 2630: '▁중요한', 2631: '.\"', 2632: '킬', 2633: '▁기본', 2634: '▁밑에', 2635: '▁주인공들', 2636: '잼있', 2637: '▁I', 2638: '▁그렇다', 2639: '▁볼거리', 2640: '▁40', 2641: '...........', 2642: '▁보시길', 2643: '영상', 2644: '▁다만', 2645: '▁재미를', 2646: '▁관심', 2647: '탁', 2648: '빡', 2649: '▁몸매', 2650: '속에서', 2651: '▁고생', 2652: ',,,,', 2653: '▁인기', 2654: '▁소녀', 2655: '▁자막', 2656: '▁재미있음', 2657: '▁영화보고', 2658: '폐', 2659: '▁올리', 2660: '▁사랑과', 2661: '▁크게', 2662: '▁사랑에', 2663: '년전에', 2664: '▁만든다', 2665: '▁굳', 2666: '렉', 2667: '힐', 2668: '는건지', 2669: '▁덜', 2670: '▁이유는', 2671: '재밌어요', 2672: '아님', 2673: '▁이정도면', 2674: '▁재밌습니다', 2675: '▁진심으로', 2676: '▁생각나는', 2677: '내는', 2678: '점주는', 2679: '일이', 2680: '▁무섭다', 2681: '&', 2682: '왔', 2683: '▁퀄리티', 2684: '▁되게', 2685: '▁흐름', 2686: '▁별로다', 2687: '아주', 2688: '다운', 2689: '▁씨', 2690: '랜', 2691: '하셨', 2692: '엄마', 2693: '▁어쩌', 2694: '▁쉽게', 2695: '얘기', 2696: '▁그럭저럭', 2697: '전쟁', 2698: '▁북한', 2699: '자들', 2700: '▁풀어', 2701: '▁다큐멘터리', 2702: '▁제목이', 2703: '▁놓', 2704: '▁오버', 2705: '롱', 2706: '▁없지만', 2707: '▁볼수록', 2708: '▁좋았던', 2709: '있는데', 2710: '▁최근', 2711: '▁죽어', 2712: '인의', 2713: '▁재미없네', 2714: '▁어제', 2715: '▁보고싶', 2716: '▁친', 2717: '▁그려', 2718: '▁삶의', 2719: '껏', 2720: '▁어쩔', 2721: '었고', 2722: '▁지루해서', 2723: '▁언제나', 2724: '▁아깝지', 2725: '안에', 2726: '▁영화지만', 2727: '▁디즈니', 2728: '▁후반부', 2729: '▁성인', 2730: '▁감동과', 2731: '▁드라마는', 2732: '▁몇번을', 2733: '▁얻', 2734: '▁해피엔딩', 2735: '였지만', 2736: '▁그걸', 2737: '▁쓰래기', 2738: '였어요', 2739: '▁남을', 2740: '▁아쉬움', 2741: '이해', 2742: '▁젊은', 2743: '캐릭터', 2744: '▁S', 2745: '봤던', 2746: '▁가볍게', 2747: '▁비주얼', 2748: '▁힐링', 2749: '나와', 2750: '엘', 2751: '▁불편', 2752: '하구', 2753: '킨', 2754: '▁정서', 2755: '▁남아', 2756: '으로서', 2757: '▁봐야할', 2758: '막장', 2759: '멋', 2760: '▁싫', 2761: '▁소재가', 2762: '★', 2763: '▁동생', 2764: '재밌다', 2765: '▁그다지', 2766: '▁재밋게', 2767: '웠다', 2768: '▁폭', 2769: '로써', 2770: '▁유치함', 2771: '▁배우의', 2772: '▁만큼', 2773: '▁붙', 2774: '▁엉성한', 2775: '▁추억의', 2776: '▁샤', 2777: '▁12', 2778: '▁돌아가', 2779: 'ᅡ', 2780: '▁싸구려', 2781: '▁눈빛', 2782: '▁임', 2783: 'ᄏᄏᄏᄏᄏ', 2784: '▁보고싶은', 2785: '내용이', 2786: '▁소재로', 2787: '▁높다', 2788: '▁똑같', 2789: '웨', 2790: '▁네', 2791: '대사', 2792: '애들', 2793: '▁못했다', 2794: '▁몰라도', 2795: '가지고', 2796: '왔다', 2797: '콜', 2798: '▁놀라', 2799: 'ᄃᄃ', 2800: '▁필요없는', 2801: '▁재미있네요', 2802: '▁청', 2803: '▁70', 2804: '▁ᅮ', 2805: '했나', 2806: '▁느낄수', 2807: '▁무시', 2808: '압', 2809: 'N', 2810: 'j', 2811: '녕', 2812: '접', 2813: '▁필요없다', 2814: '하신', 2815: '▁몰랐', 2816: '▁되었', 2817: '▁명작이', 2818: '눈물', 2819: '▁잔인한', 2820: '▁이어', 2821: '세기', 2822: '▁채널', 2823: '하지도', 2824: '▁동물', 2825: '줄이야', 2826: '▁있나', 2827: '▁보이', 2828: '▁맘', 2829: '봤어요', 2830: '▁국민', 2831: '예요', 2832: '했네', 2833: '▁연예인', 2834: '일본', 2835: '▁섹스', 2836: '기분', 2837: '▁우리가', 2838: '▁광고', 2839: '사이', 2840: '▁킬링타임', 2841: '마음', 2842: '▁가서', 2843: '▁홍', 2844: '봣는데', 2845: '▁슬프', 2846: '▁슬프고', 2847: '춘', 2848: '▁헐리우드', 2849: '텔', 2850: '▁끊', 2851: '▁보았', 2852: '▁다시한번', 2853: '끈', 2854: '▁좋아서', 2855: '▁브', 2856: '현실', 2857: '▁법', 2858: '함과', 2859: '▁그럼', 2860: '▁끝나는', 2861: '되면', 2862: '▁만들고', 2863: '봉', 2864: '▁글쎄', 2865: '▁페', 2866: '▁요소', 2867: '중의', 2868: '있음', 2869: '겹', 2870: '▁재밌네', 2871: '▁가끔', 2872: '▁악당', 2873: '▁틀', 2874: '▁반전도', 2875: 'M', 2876: '스릴러', 2877: '한다는', 2878: '▁ᄃᄃ', 2879: '▁점수를', 2880: '▁돋', 2881: '▁홍보', 2882: '▁미치', 2883: '▁이제야', 2884: '나옴', 2885: '웅', 2886: '▁찡', 2887: '▁문화', 2888: '털', 2889: '▁불구하고', 2890: '▁아픔', 2891: '폭', 2892: '▁마세요', 2893: '한다면', 2894: '▁사람의', 2895: '사회', 2896: '▁이쁜', 2897: '떠', 2898: '▁지구', 2899: '력이', 2900: '▁풍', 2901: '▁우주', 2902: '▁잊', 2903: '▁않게', 2904: '▁그린', 2905: '이유', 2906: '▁펑펑', 2907: '▁실패', 2908: '▁뛰어난', 2909: '▁방금', 2910: '▁돋보', 2911: '좋고', 2912: '▁사랑스러운', 2913: '시고', 2914: '▁짱짱', 2915: '▁멀', 2916: '웃기', 2917: '공포', 2918: '시키', 2919: '▁음악도', 2920: '▁들었', 2921: '▁에로', 2922: '온다', 2923: '먹는', 2924: '▁있게', 2925: '팅', 2926: '틈', 2927: '▁어려운', 2928: '▁잊혀지지', 2929: '으론', 2930: '▁진정', 2931: '▁채', 2932: '나와서', 2933: '▁인생을', 2934: '픈', 2935: '개봉', 2936: '▁의심', 2937: '▁연출도', 2938: 'O', 2939: '명이', 2940: '▁아마', 2941: '▁웃기고', 2942: '섭', 2943: '▁찍었', 2944: '▁로그인', 2945: '▁발전', 2946: '점준', 2947: '▁시사회', 2948: '▁둘다', 2949: '알바', 2950: '▁생애', 2951: '옥', 2952: '▁좋습니다', 2953: '♥♥', 2954: 'on', 2955: '▁낮아서', 2956: '▁볼만함', 2957: '▁되지', 2958: '했으나', 2959: '착', 2960: '▁쫌', 2961: '▁식상', 2962: '▁엉망', 2963: '▁갑', 2964: '▁딱히', 2965: '▁늘어', 2966: '▁열정', 2967: '▁올해', 2968: '빼고', 2969: '▁산으로', 2970: '▁개인', 2971: '▁영화관', 2972: '빙', 2973: '▁달라', 2974: '필요', 2975: '택', 2976: 'er', 2977: '▁없나', 2978: ']', 2979: '▁아름다움', 2980: '▁무언가', 2981: '▁연결', 2982: '▁되고', 2983: '헤', 2984: '▁거지', 2985: '▁그것', 2986: '▁불쌍', 2987: '▁쓸', 2988: '땅', 2989: '▁헤', 2990: '▁유치하다', 2991: '▁행', 2992: '▁탈', 2993: '▁유명', 2994: '▁철', 2995: '▁순수', 2996: '▁죄다', 2997: '▁많아', 2998: '솔', 2999: '▁죽이', 3000: '▁베스트', 3001: '▁루', 3002: '▁생생', 3003: '▁느와르', 3004: '용으로', 3005: '▁단연', 3006: '할까', 3007: '▁빠', 3008: '▁평이', 3009: '▁나왔다', 3010: '대는', 3011: '▁차이', 3012: '자체가', 3013: '답답', 3014: '▁킬링타임용으로', 3015: '▁반성', 3016: '높', 3017: '▁무섭', 3018: '▁빌려', 3019: '▁죽는', 3020: '▁어이가', 3021: '▁봣는데', 3022: '같음', 3023: '벽', 3024: '▁c', 3025: '틱', 3026: '▁캐릭터들', 3027: '▁어머니', 3028: '▁풀', 3029: '정신', 3030: '무비', 3031: '▁재밌었음', 3032: '▁평범', 3033: '▁정말로', 3034: '에대한', 3035: '▁조폭', 3036: '▁의도', 3037: '세상', 3038: '하겠', 3039: '나가는', 3040: '▁푹', 3041: '▁시간을', 3042: '봣', 3043: '엠', 3044: '▁청소년', 3045: '지않은', 3046: '것만', 3047: '▁m', 3048: '원작', 3049: '▁몰입해서', 3050: '▁남겨', 3051: '▁출연진', 3052: '한것', 3053: '했다는', 3054: '▁좀더', 3055: '▁어른', 3056: '연기가', 3057: '캐', 3058: '슈', 3059: '▁자극', 3060: '▁귀엽', 3061: '▁하면서', 3062: '▁인간이', 3063: '▁멋지다', 3064: '▁한국인', 3065: '사가', 3066: '▁연속', 3067: '▁눈물을', 3068: '값', 3069: '▁결말은', 3070: '르는', 3071: '우리', 3072: '줘야', 3073: '▁d', 3074: '▁니', 3075: '인가요', 3076: '아니다', 3077: '스터', 3078: '▁뜻', 3079: '▁힘들다', 3080: '▁무서워', 3081: '평점이', 3082: '▁탄탄한', 3083: '▁여기서', 3084: '싱', 3085: '▁투자', 3086: '시다', 3087: '구성', 3088: '▁결말도', 3089: '▁핵', 3090: '스타일', 3091: '▁헐리웃', 3092: '컨', 3093: '▁스스로', 3094: '▁멍청한', 3095: '▁해주', 3096: '▁집에서', 3097: '▁꺼', 3098: '영화라고', 3099: '▁좋았', 3100: '▁아직까지', 3101: '▁질리지', 3102: '▁말을', 3103: '▁현실적인', 3104: '노래', 3105: '▁당신', 3106: '▁볼만하다', 3107: '자는', 3108: '▁시걸', 3109: '▁보았다', 3110: '▁전문가', 3111: '쳤', 3112: '정이', 3113: '▁표현한', 3114: '연기도', 3115: '▁사기', 3116: '스가', 3117: '내용도', 3118: '▁끌어', 3119: '▁단순한', 3120: '▁괜찮았', 3121: '▁뻔하고', 3122: '▁옛날에', 3123: '만드는', 3124: '▁하루', 3125: '짜증', 3126: '▁나오면', 3127: '▁견자단', 3128: '중에서', 3129: '▁흔한', 3130: '감을', 3131: '▁환상', 3132: '▁볼만하', 3133: '▁매력있', 3134: '▁잭', 3135: '늘', 3136: '편보다', 3137: '▁남녀', 3138: '▁있습니다', 3139: '▁떠나서', 3140: '▁인간들', 3141: '한다고', 3142: '으로써', 3143: '▁;;', 3144: '버리는', 3145: '▁대화', 3146: '지않고', 3147: '▁전체', 3148: '▁운', 3149: '을수', 3150: '▁빈', 3151: '!!!!!', 3152: '았던', 3153: '나게', 3154: '▁시시', 3155: '▁못한다', 3156: '▁제작비', 3157: '해주세요', 3158: '안되', 3159: '▁생각없이', 3160: '▁무엇을', 3161: '▁안돼', 3162: '엿', 3163: '▁보니까', 3164: '▁나옴', 3165: '▁드럽게', 3166: '▁재미있었다', 3167: '▁건지', 3168: '나온다', 3169: '▁미드', 3170: '▁느낀', 3171: '친다', 3172: '▁관객들', 3173: '▁시대를', 3174: '점수', 3175: '▁찌', 3176: '릿', 3177: '으려', 3178: '스러워', 3179: '▁벌써', 3180: '▁장면에서', 3181: '부족', 3182: '사는', 3183: '▁느낌을', 3184: '▁영국', 3185: '▁끝난', 3186: '했네요', 3187: '내고', 3188: '▁지금은', 3189: '긴한데', 3190: '▁직', 3191: '▁끝이', 3192: '▁말할', 3193: '갔다', 3194: '▁팬이', 3195: '▁이후로', 3196: '럼', 3197: '시작', 3198: '하는것', 3199: '보는내내', 3200: '▁조연', 3201: '스러움', 3202: '▁매력적이', 3203: '▁레전드', 3204: '▁즐겁게', 3205: '▁높아', 3206: '▁T', 3207: '▁지켜', 3208: '▁시각', 3209: '언니', 3210: '▁좋았을', 3211: '영화의', 3212: '▁외모', 3213: '▁모든게', 3214: '편의', 3215: '▁단지', 3216: '▁할말', 3217: '꾸', 3218: '▁잔잔하고', 3219: '▁작가가', 3220: '▁남편', 3221: '▁남자가', 3222: '▁야한', 3223: '이었', 3224: '냥', 3225: '▁나오지', 3226: '▁않지만', 3227: '하는건', 3228: '면에서', 3229: '▁이해할', 3230: '▁재밋다', 3231: '혁', 3232: '▁위대한', 3233: '▁기대안하고', 3234: '▁발견', 3235: '▁같아서', 3236: '▁끼', 3237: '▁말하는', 3238: '▁배우들도', 3239: '장면이', 3240: '▁주변', 3241: '세계', 3242: '계속', 3243: '▁느껴', 3244: '▁뜨', 3245: '기위해', 3246: '▁영어', 3247: '▁하네요', 3248: '스의', 3249: '▁누구나', 3250: '▁어렸을', 3251: '이라서', 3252: 'OOO', 3253: '잠', 3254: '거면', 3255: '못한', 3256: '넣', 3257: '▁밥', 3258: '기억', 3259: '떄', 3260: '톱', 3261: '▁누군가', 3262: '▁있어요', 3263: '11', 3264: '▁재밌을', 3265: '겁니다', 3266: '▁발로', 3267: '놨', 3268: '들만', 3269: '▁특', 3270: '▁50', 3271: '▁싶네요', 3272: '▁안보고', 3273: '아까', 3274: '보자', 3275: '▁\"\"\"', 3276: '가슴', 3277: '센스', 3278: '▁유쾌하고', 3279: '▁창', 3280: '영화로', 3281: '▁생각하는', 3282: '였고', 3283: '▁할말이', 3284: '묘', 3285: '▁필', 3286: '▁영화냐', 3287: '차라리', 3288: '▁받아', 3289: '님의', 3290: '▁앞', 3291: '▁시도', 3292: '푸', 3293: '\"\"\"', 3294: '`', 3295: '▁김기덕', 3296: '▁이런영화가', 3297: '▁맨날', 3298: '▁갈등', 3299: '려면', 3300: '▁반복', 3301: '▁이거보고', 3302: '사람은', 3303: '시간에', 3304: '▁국내', 3305: '젠', 3306: '지를', 3307: '▁못해', 3308: '▁한심', 3309: '수도', 3310: '받는', 3311: '........', 3312: '떡', 3313: '▁유명한', 3314: '▁눈에', 3315: '관계', 3316: '이였다', 3317: '따라', 3318: '▁못할', 3319: '해진', 3320: '▁보길', 3321: '그리', 3322: '▁허세', 3323: '▁아나', 3324: '▁하는지', 3325: '▁영화에요', 3326: '계의', 3327: '만의', 3328: 'ᅲᅮ', 3329: '냈', 3330: '▁싶지', 3331: '▁않나', 3332: '▁안타깝다', 3333: '▁시트콤', 3334: '닌', 3335: '이니', 3336: '▁한참', 3337: '었어', 3338: '▁보지마', 3339: '남는', 3340: '▁공부', 3341: '▁인물들', 3342: '와는', 3343: '잤', 3344: '혈', 3345: '▁쵝오', 3346: '▁쇼', 3347: '▁생각하고', 3348: '즘', 3349: '▁내려', 3350: '.......', 3351: '▁떨어지', 3352: '▁꾸', 3353: '▁아이돌', 3354: '▁줌', 3355: '▁진지', 3356: '▁멋있다', 3357: '▁씬', 3358: '딩', 3359: '하려', 3360: '새끼', 3361: '흐', 3362: '▁고통', 3363: '줘서', 3364: '▁보인다', 3365: '▁멋', 3366: '▁있네요', 3367: '▁ᅲᅲᅲ', 3368: '져서', 3369: 'v', 3370: '▁넘어', 3371: '몽', 3372: '▁모르겠고', 3373: '는것도', 3374: '봅니다', 3375: '▁부르', 3376: '뛰', 3377: '님들', 3378: '▁보고나면', 3379: '몰입', 3380: '▁찌질', 3381: '▁울고', 3382: '자의', 3383: '설정', 3384: '쁘', 3385: '잔잔', 3386: '해야지', 3387: '▁개연성이', 3388: '냈다', 3389: '씬은', 3390: '▁있으면', 3391: '상을', 3392: '▁이기', 3393: 'ᄏᄏᄏᄏᄏᄏᄏᄏᄏ', 3394: '▁미모', 3395: '지말고', 3396: 'or', 3397: 'I', 3398: '▁울었다', 3399: '밥', 3400: '▁받았', 3401: '있네', 3402: '▁즐거운', 3403: '례', 3404: '▁멍청', 3405: '▁로봇', 3406: '워서', 3407: '▁코난', 3408: '▁불쾌', 3409: '▁죽여', 3410: '▁무척', 3411: '▁송', 3412: '편을', 3413: '▁빼고', 3414: '▁한데', 3415: '이었음', 3416: '돌아', 3417: '▁그렇다고', 3418: '▁에휴', 3419: '▁부모', 3420: '▁당시에', 3421: '▁음악과', 3422: '리를', 3423: '쉽', 3424: '▁뭉클', 3425: '괜찮', 3426: '▁의외로', 3427: '형님', 3428: '▁대부분', 3429: '▁힘이', 3430: '▁달달', 3431: '들고', 3432: '▁아줌마', 3433: '▁이쁘고', 3434: '▁대사가', 3435: '▁필요한', 3436: '▁옛', 3437: '▁감동적', 3438: '됬', 3439: '▁속에', 3440: '▁에피소드', 3441: '▁착한', 3442: '부작', 3443: '▁영화였어요', 3444: '르고', 3445: '▁웃음이', 3446: '▁진리', 3447: '끝나', 3448: '▁살고', 3449: 'in', 3450: '▁[', 3451: '버리고', 3452: '▁여행', 3453: 'ᄌ', 3454: '메이', 3455: '▁007', 3456: '▁새롭', 3457: '▁없는데', 3458: '무섭', 3459: '▁와우', 3460: '영화임', 3461: '째', 3462: '학교', 3463: '.........', 3464: '▁빨', 3465: '리지', 3466: '▁긴장감도', 3467: '▁아쉽네요', 3468: '▁우와', 3469: '해진다', 3470: '▁있어야', 3471: '봐요', 3472: '▁재미없어요', 3473: '자체', 3474: '▁잔', 3475: '▁망한', 3476: '▁나쁘지', 3477: '기로', 3478: '▁하나하나', 3479: '▁인생의', 3480: '▁덕분에', 3481: '▁왜케', 3482: '▁엉성', 3483: '장난', 3484: '▁전투', 3485: '▁마이너스', 3486: '▁봤더니', 3487: '▁초등학생', 3488: '▁좋게', 3489: '▁경험', 3490: '▁복잡', 3491: '▁이미지', 3492: '벨', 3493: '수있는', 3494: '▁낳', 3495: '▁친구들', 3496: '것들', 3497: '▁혼', 3498: '▁썩', 3499: '하던데', 3500: '▁이쁘다', 3501: '▁노답', 3502: '있었', 3503: '▁자살', 3504: '왔는데', 3505: '▁결', 3506: '▁듣', 3507: '▁신선하고', 3508: '▁짝퉁', 3509: '끼리', 3510: '짧', 3511: '있나', 3512: '▁받을', 3513: '겁', 3514: '▁good', 3515: '쌍', 3516: '겟다', 3517: '댄', 3518: '뮤', 3519: 'ᅵ', 3520: '▁the', 3521: '▁마이클', 3522: '▁기술', 3523: '▁작품을', 3524: '▁재미있었어요', 3525: '▁최강', 3526: '▁조합', 3527: '상황', 3528: '있어서', 3529: '▁모르겠지만', 3530: '▁학교에서', 3531: '▁지루했다', 3532: '▁무비', 3533: '▁꽃', 3534: '만큼은', 3535: '▁충', 3536: '▁좋지만', 3537: '였어', 3538: '▁시청자', 3539: '▁적당', 3540: '다는게', 3541: '내내', 3542: 'ar', 3543: '▁침', 3544: '짜증나', 3545: '▁작품이다', 3546: '▁논', 3547: '▁어렵', 3548: '이런영화', 3549: '▁바뀌', 3550: '보게', 3551: '버릴', 3552: '▁제로', 3553: '▁빼고는', 3554: '균', 3555: '▁더불어', 3556: '만들었', 3557: '▁민망', 3558: '▁슈퍼', 3559: '깔', 3560: '▁헤어', 3561: '집니다', 3562: '▁착', 3563: '▁살려', 3564: '▁없었던', 3565: '하지마라', 3566: '▁극치', 3567: '▁13', 3568: '해준', 3569: '▁작은', 3570: '문화', 3571: '▁부터', 3572: '▁미안', 3573: 'ᅲᅲᅲᅲ', 3574: '▁암튼', 3575: '식으로', 3576: '▁히', 3577: '▁본인', 3578: '했었는데', 3579: '▁손발이', 3580: '▁명품', 3581: '겠어요', 3582: '흘리', 3583: '칭', 3584: '▁카리스마', 3585: '▁더러운', 3586: '▁흥미로운', 3587: '지네요', 3588: '▁취향', 3589: '요즘', 3590: '셈', 3591: '▁자식', 3592: '쩔', 3593: '샤', 3594: '▁좋았지만', 3595: '활', 3596: '▁죽은', 3597: '문제', 3598: '▁무서웠', 3599: '▁쩐다', 3600: '▁삶에', 3601: '▁판', 3602: '▁양심', 3603: '켜', 3604: '동생', 3605: '▁수도', 3606: '느라', 3607: '연기력', 3608: '씨의', 3609: '간의', 3610: '한국', 3611: '하다가', 3612: '▁기다리', 3613: '▁동안', 3614: '뚱', 3615: '▁바꿔', 3616: '퀴', 3617: '칸', 3618: '▁외계인', 3619: '▁주성치', 3620: '▁비극', 3621: '▁직접', 3622: '받고', 3623: '▁일품', 3624: '▁방법', 3625: '▁최고입니다', 3626: '▁영화인듯', 3627: '▁부족하다', 3628: '▁박수를', 3629: '아쉽', 3630: '럴', 3631: '까요', 3632: '끝까지', 3633: '점정도', 3634: '▁피해자', 3635: '▁독특', 3636: '▁즐기', 3637: '재밌음', 3638: '▁싸이코', 3639: '영화에', 3640: '▁오바', 3641: '이자', 3642: '▁학교', 3643: '인들', 3644: '▁썼', 3645: '▁어린이', 3646: '▁뇌', 3647: '..........', 3648: '▁군', 3649: '▁지루하게', 3650: '▁체', 3651: '▁굿굿', 3652: '렁', 3653: 'W', 3654: '▁좋았으나', 3655: '▁따뜻해지는', 3656: '▁어휴', 3657: '▁감정을', 3658: '▁의리', 3659: '▁역대급', 3660: '▁있던', 3661: '▁말하고', 3662: '보지', 3663: '보여', 3664: '▁해석', 3665: '▁없다는', 3666: '▁들어가', 3667: '▁18', 3668: '▁이하', 3669: '▁미소', 3670: '▁뭐라', 3671: '감동적', 3672: '하다니', 3673: '엔딩', 3674: '▁본다면', 3675: '힘', 3676: '제발', 3677: '적은', 3678: '매력', 3679: '할수있', 3680: '버려', 3681: '▁용기', 3682: '율', 3683: '잡고', 3684: '것같', 3685: '농', 3686: '▁고양이', 3687: '았습니다', 3688: '▁좋겠어요', 3689: '▁한번쯤', 3690: '▁다룬', 3691: '▁아이가', 3692: '▁게다가', 3693: '쥐', 3694: '젤', 3695: '시즌', 3696: '▁완전히', 3697: '놔', 3698: '지지', 3699: '▁의미를', 3700: '까지는', 3701: '▁올라', 3702: '▁아침', 3703: '상태', 3704: '▁설마', 3705: '▁앤', 3706: '▁주말', 3707: '▁보러', 3708: '▁실제로', 3709: '좋아하는', 3710: '▁중반', 3711: '▁철학', 3712: '▁원작의', 3713: '▁잊을', 3714: 'it', 3715: '▁사랑은', 3716: '▁그럴', 3717: '컷', 3718: '뜬', 3719: '둔', 3720: '▁지나치게', 3721: '쳤다', 3722: '▁쓰레기같은', 3723: '▁웃기지도', 3724: '지않는', 3725: '▁교육', 3726: '▁뛰어', 3727: '▁사랑의', 3728: '▁안타깝', 3729: '더라도', 3730: '▁연기력도', 3731: '인건', 3732: '콩', 3733: '셔서', 3734: '▁기대했는데', 3735: '▁중에서', 3736: '슬프', 3737: '겠음', 3738: '▁보자', 3739: '배경', 3740: '▁포르노', 3741: '▁비판', 3742: '▁빌', 3743: '▁충격적', 3744: '▁웃김', 3745: '안되는', 3746: '▁도전', 3747: '출연', 3748: '▁알려', 3749: '▁퇴', 3750: '튀', 3751: '▁괜찮다', 3752: 'ᄇ', 3753: '년만에', 3754: '▁패러디', 3755: '흘', 3756: '▁느껴진다', 3757: '▁영혼', 3758: '▁일어나', 3759: 'ing', 3760: '▁이유를', 3761: '님이', 3762: '▁십', 3763: '읽', 3764: '▁크리스마스', 3765: '▁엄', 3766: '▁올려', 3767: '▁케이블', 3768: '명의', 3769: '▁많았', 3770: '▁볼수있', 3771: '▁갔', 3772: '생겼', 3773: '▁보며', 3774: '▁좋아해서', 3775: '▁남자의', 3776: '▁꿈을', 3777: '▁곳', 3778: '감독님', 3779: '▁한명', 3780: 'K', 3781: '층', 3782: '▁어른들', 3783: '엇다', 3784: '▁평점보고', 3785: '중독', 3786: '▁없지', 3787: '는듯', 3788: '▁잔인하', 3789: '▁모르게', 3790: '▁원작이', 3791: '▁이래', 3792: '▁연기자들', 3793: '꼴', 3794: '▁진부하고', 3795: '▁할까', 3796: '▁오글', 3797: '▁않을까', 3798: '곳', 3799: '배우들의', 3800: '▁견', 3801: '그래서', 3802: '▁상처', 3803: '▁보여준다', 3804: '물이', 3805: '▁똑같은', 3806: '▁이해하기', 3807: '▁안나', 3808: '▁전설의', 3809: '▁찬', 3810: '▁답답한', 3811: '▁넘치는', 3812: '▁합', 3813: '하시는', 3814: '▁생각나', 3815: '▁아까울', 3816: '▁몇몇', 3817: '▁반개도', 3818: '▁봤을때', 3819: '▁:', 3820: '▁왠', 3821: '▁개성', 3822: '▁사랑이야기', 3823: '▁뿐이다', 3824: '▁무협', 3825: '▁시청', 3826: '▁좋아할', 3827: '▁언', 3828: '▁행복한', 3829: '않는', 3830: '받은', 3831: '치곤', 3832: '▁대중', 3833: '하고싶은', 3834: '▁희', 3835: '▁개봉한', 3836: '만이', 3837: '▁밤', 3838: '?!', 3839: '룡', 3840: '▁가능', 3841: '▁먹고', 3842: '▁간다', 3843: '줬다', 3844: '껴', 3845: 'ᅮᅮᅮ', 3846: '▁블랙', 3847: '▁뒤로', 3848: '롤', 3849: '▁재밌다고', 3850: '▁잠깐', 3851: '냄새', 3852: '잇는', 3853: '▁레알', 3854: '개도', 3855: '하기도', 3856: '▁아프', 3857: '▁많고', 3858: '▁신경', 3859: '올리', 3860: '공감', 3861: '▁검', 3862: '▁슬', 3863: '뭔가', 3864: '똥', 3865: '아까움', 3866: '얼굴', 3867: 'F', 3868: '▁최대', 3869: '▁가득', 3870: '▁싶은데', 3871: '돋', 3872: '▁관한', 3873: '▁훈훈한', 3874: 're', 3875: '▁무섭지도', 3876: '버림', 3877: '▁가슴에', 3878: '▁밑', 3879: '멘', 3880: '▁들었다', 3881: '..;;', 3882: '붕', 3883: '쟁이', 3884: '뽕', 3885: '▁디테일', 3886: '속의', 3887: '▁홍콩영화', 3888: '▁빠진', 3889: '▁따로', 3890: '0%', 3891: '▁주기', 3892: '▁해결', 3893: '▁꼽', 3894: '▁모를', 3895: '따위', 3896: '특', 3897: '▁하는거', 3898: '억지', 3899: '▁오랜만', 3900: '사람들이', 3901: '▁ᄋᄋ', 3902: '나오고', 3903: '감독의', 3904: '겠네요', 3905: '▁대해서', 3906: '▁재미잇', 3907: '▁폴', 3908: '▁얼마', 3909: '콘', 3910: '딴', 3911: '겠습니다', 3912: '넹', 3913: '▁스트레스', 3914: '▁감흥', 3915: '▁전기세', 3916: '▁커플', 3917: '▁빠져들', 3918: '시길', 3919: '▁보내', 3920: '았음', 3921: '▁보여줬', 3922: '으니까', 3923: '▁낚시', 3924: '▁이럴', 3925: 'X', 3926: '▁선생님', 3927: '덤', 3928: '밤', 3929: '공포영화', 3930: '기까지', 3931: '▁긴장감이', 3932: '▁왠만하면', 3933: '더빙', 3934: '초반', 3935: '오늘', 3936: '사람들은', 3937: '▁한마디', 3938: '▁울었', 3939: '▁좋아하는데', 3940: '▁그녀의', 3941: '▁생각하면', 3942: '▁소중한', 3943: '▁기다려', 3944: '▁이제서야', 3945: '마지막에', 3946: '▁변태', 3947: '▁존경', 3948: '식이', 3949: '▁이용', 3950: '살아', 3951: '▁싶었', 3952: '누나', 3953: '▁애기', 3954: '▁관점', 3955: '▁필름', 3956: '빛', 3957: '▁막판에', 3958: '▁실력', 3959: '▁재미와', 3960: '붙', 3961: '▁갖', 3962: '▁한국영화는', 3963: '▁보려고', 3964: '쏘', 3965: '▁콩', 3966: '▁화가', 3967: '▁앞으로도', 3968: '▁꽝', 3969: '가요', 3970: '▁안맞', 3971: '그래', 3972: '점줌', 3973: 'ᄏᄏᄏᄏᄏᄏᄏᄏᄏᄏᄏᄏᄏ', 3974: '▁아련', 3975: '▁모르', 3976: '▁DVD', 3977: '▁젠장', 3978: '▁개뿔', 3979: '▁풍경', 3980: '▁통쾌', 3981: '▁잼있다', 3982: '▁개막장', 3983: '▁봣', 3984: '▁감히', 3985: '▁현실이', 3986: '▁악마', 3987: '▁속에서', 3988: '!!!!!!!!!', 3989: '장애', 3990: '▁기자', 3991: '▁탑', 3992: '▁있었지만', 3993: '리아', 3994: '자나', 3995: '때부터', 3996: '▁한심한', 3997: '쓸', 3998: '논', 3999: '어떻게', 4000: 'G', 4001: '널', 4002: '절대', 4003: '▁w', 4004: '▁미쳤', 4005: '▁쓰레기다', 4006: '▁맞아', 4007: '▁자주', 4008: '▁그거', 4009: '▁괜찮은데', 4010: '▁웃기다', 4011: '나왔', 4012: '되네요', 4013: '▁그렇지', 4014: '▁죽이는', 4015: '▁점수가', 4016: '♥♥♥', 4017: '빨리', 4018: '더라면', 4019: '납니다', 4020: '▁겨우', 4021: '▁말도안되는', 4022: '겼', 4023: '▁할머니', 4024: '▁전개도', 4025: '랜드', 4026: '▁하나의', 4027: '▁야동', 4028: '▁욕망', 4029: '▁웃고', 4030: '▁작가님', 4031: '▁이때', 4032: '▁추억이', 4033: '▁망치', 4034: '▁믿을', 4035: '▁못함', 4036: '▁인해', 4037: '있냐', 4038: '▁감동적이다', 4039: '편도', 4040: '새끼들', 4041: '▁됨', 4042: '▁보여주고', 4043: '▁결론', 4044: '맥', 4045: '▁우리의', 4046: '▁퍼', 4047: '▁심하게', 4048: '이걸', 4049: '▁편견', 4050: '자를', 4051: '▁웬', 4052: '▁보긴', 4053: '하겠다', 4054: '핀', 4055: '▁스크린', 4056: '▁어린시절', 4057: '▁할수', 4058: '▁있으', 4059: '보다도', 4060: '▁정의', 4061: '▁무술', 4062: '▁에이', 4063: '▁있구나', 4064: '▁강력', 4065: '싶다', 4066: '▁없어요', 4067: '▁케', 4068: '▁영화들', 4069: '▁졸리', 4070: '▁줬', 4071: '▁헛', 4072: '틴', 4073: '것같아요', 4074: '▁생각함', 4075: 'st', 4076: 'P', 4077: '거같은데', 4078: '굴', 4079: '싸움', 4080: '로만', 4081: '스키', 4082: '▁봤었', 4083: '혹은', 4084: '▁보기에', 4085: '스톤', 4086: '▁둘이', 4087: '점이다', 4088: '▁돼', 4089: '잃', 4090: '옹', 4091: '깍', 4092: '▁짜증난다', 4093: '볼만', 4094: '▁짝이', 4095: '▁빵점', 4096: '다니는', 4097: '▁깨닫게', 4098: '▁영화보면서', 4099: '편에', 4100: '▁내면', 4101: '▁승', 4102: '▁못하', 4103: '▁왜이래', 4104: '▁보통', 4105: '냐고', 4106: '▁흑인', 4107: '▁O', 4108: '보이는', 4109: '▁모두가', 4110: '흥', 4111: '▁옥', 4112: '하기만', 4113: '상실', 4114: '보구', 4115: '▁장르가', 4116: '▁죽는줄', 4117: '▁어릴', 4118: '감정', 4119: '▁본방사수', 4120: '아요', 4121: '다운받', 4122: '년도에', 4123: '▁자신이', 4124: '~!!!', 4125: '▁비디오로', 4126: '▁재미없게', 4127: '컬', 4128: '▁떨어진다', 4129: '▁쓰는', 4130: '▁거짓말', 4131: '▁최초', 4132: '▁만들면', 4133: '모든', 4134: '▁참신한', 4135: '▁맹', 4136: '▁아픈', 4137: '몇', 4138: '받아서', 4139: '주면', 4140: '▁본거', 4141: '되나', 4142: '▁세상을', 4143: '▁다루', 4144: '임에도', 4145: '꿀잼', 4146: '▁않네요', 4147: '큰', 4148: '▁영화보는', 4149: '쾌', 4150: '▁있는지', 4151: '관람', 4152: '▁본영화', 4153: '보고싶다', 4154: '▁우리는', 4155: '▁심각', 4156: '셀', 4157: '멸', 4158: '▁2014', 4159: '▁영원히', 4160: '어린', 4161: '▁아내', 4162: '▁방영', 4163: '듯이', 4164: '▁어쩔수', 4165: '저리', 4166: '▁낮다', 4167: '▁위해서', 4168: '▁색감', 4169: '▁잊을수', 4170: '검', 4171: '▁위로', 4172: '고싶어', 4173: '▁재미있었', 4174: '▁평론가들', 4175: '버전', 4176: '▁소름이', 4177: '이즈', 4178: '▁전쟁영화', 4179: '▁완', 4180: '▁색', 4181: '▁형님', 4182: '▁봤을', 4183: '▁조화', 4184: '▁시리즈중', 4185: '▁관객을', 4186: '제작', 4187: '도아니고', 4188: '▁정도의', 4189: '▁동성애', 4190: '손가락', 4191: '▁특별한', 4192: '거리는', 4193: '▁바꾸', 4194: '▁캐릭터가', 4195: '~~~~~~~~', 4196: '▁화려하', 4197: '▁못하다', 4198: '생활', 4199: '옴', 4200: '▁끄', 4201: '보지말', 4202: '▁받는', 4203: '도안', 4204: '당한', 4205: '그만', 4206: '코드', 4207: '▁사진', 4208: '▁생각나서', 4209: '없어서', 4210: '▁11', 4211: '인물', 4212: '물을', 4213: '▁라고', 4214: '▁심심', 4215: '▁일이', 4216: '스럽게', 4217: '▁야구', 4218: '하길', 4219: '▁옷', 4220: '▁놈', 4221: '▁어이', 4222: '모두', 4223: '▁국가', 4224: '▁오로', 4225: '부분이', 4226: '▁조작', 4227: '베리', 4228: '낀', 4229: '▁몇번', 4230: '학년', 4231: '묵', 4232: '소설', 4233: '▁시간가는줄', 4234: '▁잔뜩', 4235: '▁여러가지', 4236: '▁모험', 4237: '머니', 4238: '▁재난영화', 4239: '▁단어', 4240: '▁하늘', 4241: '티비', 4242: '▁알겠는데', 4243: '▁재밌던데', 4244: '안됨', 4245: '▁대놓고', 4246: '▁나은', 4247: '▁감안', 4248: '분은', 4249: '스럽고', 4250: '▁그건', 4251: '▁훌륭하다', 4252: '▁자신을', 4253: '▁배우를', 4254: '▁불러', 4255: '뭐야', 4256: '에서의', 4257: '는줄', 4258: '건가요', 4259: '▁만든영화', 4260: '▁느꼈다', 4261: '▁감동의', 4262: '30', 4263: '▁명작입니다', 4264: '▁작품은', 4265: '요소', 4266: '허접', 4267: '솔직히', 4268: 'L', 4269: '▁가치가', 4270: '지도않고', 4271: '었네요', 4272: '▁부모님', 4273: '쿵', 4274: '닉', 4275: '본영화', 4276: '어디', 4277: '했지', 4278: '▁액션씬', 4279: '▁여름', 4280: '▁효과', 4281: '▁쿠', 4282: '▁이것이', 4283: '▁보았습니다', 4284: '했다고', 4285: '▁다르다', 4286: '▁도망', 4287: '▁만들다니', 4288: '▁있었는데', 4289: '▁보지마라', 4290: '▁분들은', 4291: '▁없습니다', 4292: '▁중요', 4293: '적이다', 4294: '▁안타까운', 4295: '있습니다', 4296: '았는데', 4297: '▁드립니다', 4298: '▁몇년', 4299: '▁대본', 4300: '▁제외', 4301: '▁최근에', 4302: '▁촌스럽', 4303: '▁형사', 4304: '▁갖고', 4305: '▁척', 4306: '▁이런영화를', 4307: '▁쥐', 4308: '랄까', 4309: '▁끈', 4310: '닐', 4311: '▁아예', 4312: '▁돌리', 4313: '춰', 4314: '좋음', 4315: '▁흥', 4316: '숭', 4317: '▁짜임새', 4318: '렷', 4319: '쥬', 4320: '▁아이디어', 4321: '▁색다른', 4322: '▁무엇인지', 4323: '▁억지스러운', 4324: '극장', 4325: '▁비밀', 4326: '▁등등', 4327: '▁배역', 4328: '짱짱', 4329: '▁모르겠음', 4330: '▁살아가는', 4331: '▁이래서', 4332: '▁명화', 4333: '오글', 4334: '▁D', 4335: '▁나머지', 4336: '▁멋지', 4337: '▁최고였다', 4338: '▁다운', 4339: '▁ᄏᄏᄏᄏᄏᄏ', 4340: '▁ᄋ', 4341: '만듬', 4342: '같고', 4343: '▁노래도', 4344: '▁높게', 4345: '▁빠지', 4346: '▁술', 4347: '▁환', 4348: '자리', 4349: '▁영상이', 4350: '어지는', 4351: '거같아요', 4352: '▁분위기가', 4353: '주연', 4354: '사건', 4355: '닿', 4356: '헌', 4357: '혐', 4358: '개그', 4359: '랫', 4360: '▁아닙니다', 4361: '찔', 4362: 'ᅥ', 4363: '▁제임스', 4364: '▁sf', 4365: '▁극장가서', 4366: '앞에서', 4367: '▁싶을', 4368: '▁까지', 4369: '▁하나같이', 4370: '▁사고', 4371: '▁21', 4372: '▁기대이상', 4373: '큐', 4374: '빠르', 4375: '도대체', 4376: '때매', 4377: '▁잇', 4378: '▁죽을', 4379: '▁답답하고', 4380: '▁감정이', 4381: '어라', 4382: '▁비하면', 4383: '▁수준의', 4384: '▁잔인', 4385: '찾', 4386: '▁집에', 4387: '▁지나도', 4388: '지요', 4389: '생각이', 4390: '▁뭐하나', 4391: '▁에로영화', 4392: '▁죽이고', 4393: '오래', 4394: '아쉬웠', 4395: '▁쩝', 4396: '▁p', 4397: '▁뛰어나', 4398: '▁개연성도', 4399: '▁문제가', 4400: '19', 4401: '덜', 4402: '▁출연한', 4403: '엽', 4404: 'U', 4405: 'z', 4406: '▁블록버스터', 4407: '▁소소한', 4408: '▁후속작', 4409: '▁잔혹', 4410: '▁감정이입', 4411: '▁끝났', 4412: '▁싸우는', 4413: '▁듣고', 4414: '▁니들', 4415: '▁그저그런', 4416: '▁아역', 4417: '▁남자주인공', 4418: '▁이따위', 4419: '쓰레기영화', 4420: '▁가정', 4421: '장르', 4422: '▁외국', 4423: '▁성격', 4424: '▁또다른', 4425: '본사람', 4426: '▁맡', 4427: '▁부실', 4428: '▁낙', 4429: '▁엉성하고', 4430: '▁잼없', 4431: '아닌가', 4432: '야겠다', 4433: '▁내가본', 4434: '▁결정', 4435: '▁기준', 4436: '▁여운을', 4437: '부러', 4438: '▁예쁘고', 4439: '▁재미없었다', 4440: '..^^', 4441: '▁연출과', 4442: '▁죽인', 4443: '놈이', 4444: '쓰고', 4445: '▁추리', 4446: '아가', 4447: '▁정말이지', 4448: '원이', 4449: '었을', 4450: '이름', 4451: '만하다', 4452: '▁거기에', 4453: '▁울컥', 4454: '커플', 4455: '지않아', 4456: '▁결코', 4457: '▁어쩜', 4458: '▁낚였다', 4459: '▁촌', 4460: '▁볼게', 4461: '▁연극', 4462: '▁오래된', 4463: '▁슬퍼', 4464: '▁열연', 4465: '햇다', 4466: '였으면', 4467: '현실을', 4468: '▁낮네', 4469: '▁남은', 4470: '영이', 4471: '▁막장드라마', 4472: '▁a', 4473: '▁싸움', 4474: '해준다', 4475: '브라', 4476: '덕에', 4477: '▁오빠', 4478: '대단', 4479: '영화인데', 4480: '▁전설', 4481: '▁낮아', 4482: '라는게', 4483: '▁매력을', 4484: '다음', 4485: '이었습니다', 4486: '▁왔', 4487: '헐', 4488: '관객', 4489: '▁데리고', 4490: '▁감각', 4491: '▁영화인', 4492: '▁적당히', 4493: '하더라', 4494: '▁의미가', 4495: '▁푸', 4496: '▁타임', 4497: '▁길게', 4498: '▁L', 4499: '▁예쁘', 4500: '자신', 4501: '받아', 4502: '▁만남', 4503: '▁잼나게', 4504: '되었다', 4505: '▁치고', 4506: '주고싶다', 4507: '▁매력적', 4508: '▁아니야', 4509: '보니까', 4510: '않다', 4511: '▁남자들', 4512: '▁처럼', 4513: '▁뽑', 4514: '▁구성이', 4515: '▁노래가', 4516: '▁반전은', 4517: '▁그당시', 4518: '어이없', 4519: '▁먼가', 4520: '쓰는', 4521: '▁두고', 4522: '▁가슴을', 4523: '▁식상한', 4524: '하진', 4525: '▁좋겠', 4526: '왓', 4527: '아빠', 4528: '▁가족영화', 4529: '▁다운받아', 4530: '▁엿', 4531: '▁많은데', 4532: '여주', 4533: '▁결말을', 4534: '▁공포물', 4535: '객', 4536: '좌', 4537: '룩', 4538: '뽀', 4539: '▁살다살다', 4540: '컴', 4541: '▁탄생', 4542: '비디오', 4543: '<', 4544: '▁흔들', 4545: '▁봅니다', 4546: '두고', 4547: '찡', 4548: '년작', 4549: '마리', 4550: '▁방식', 4551: '▁멍', 4552: '▁집중해서', 4553: '▁잘봤어요', 4554: '재미없음', 4555: '혼자', 4556: 'ᄋᄋ', 4557: '점이상', 4558: '▁아래', 4559: '믿', 4560: '장이', 4561: '기전에', 4562: '▁승리', 4563: '▁잡아', 4564: '▁풍자', 4565: '▁애들은', 4566: '▁의문', 4567: '스카', 4568: '▁만한', 4569: '▁보려', 4570: '▁현실적이', 4571: '▁봤네', 4572: 'ᄏᄏᄏᄏᄏᄏᄏᄏᄏᄏ', 4573: '▁기독교', 4574: '렵', 4575: '▁요리', 4576: '찐', 4577: '▁아류작', 4578: '▁즐거웠', 4579: '▁다양한', 4580: '뻔한', 4581: '▁아무런', 4582: '▁코드', 4583: 'as', 4584: '▁그만큼', 4585: '벗', 4586: '▁만들었는지', 4587: '트리', 4588: '갑니다', 4589: '▁주인공은', 4590: '▁허술', 4591: '뇌', 4592: '겠죠', 4593: '턴', 4594: '▁살면서', 4595: '▁안볼', 4596: '▁수많은', 4597: 'bb', 4598: '▁f', 4599: '▁생각했는데', 4600: '▁마이', 4601: '는거야', 4602: '▁내용인지', 4603: '▁짐', 4604: '지루함', 4605: '번은', 4606: '▁변화', 4607: '같네', 4608: '▁낮게', 4609: '못해', 4610: '▁응', 4611: '이죠', 4612: '▁헬', 4613: '▁여러분', 4614: '했다면', 4615: '보셈', 4616: '▁잘만들었', 4617: '▁마지막장면', 4618: '▁사상', 4619: '았어요', 4620: '이후', 4621: '▁돈을', 4622: '씬이', 4623: '▁로버트', 4624: '▁사운드', 4625: 'ut', 4626: '▁핵노잼', 4627: '▁집착', 4628: '▁바랍니다', 4629: '▁볼수있는', 4630: '▁찾아보', 4631: '둥이', 4632: '▁담배', 4633: '▁남네요', 4634: '아쉬', 4635: '삶', 4636: '아저씨', 4637: '▁찰', 4638: '▁특이', 4639: '거죠', 4640: '▁가면', 4641: '들에', 4642: '▁빼면', 4643: '▁신파', 4644: '▁조카', 4645: '후회', 4646: '▁G', 4647: '조금', 4648: '▁놀랍다', 4649: '기법', 4650: '여행', 4651: '▁한국에서', 4652: '법한', 4653: '▁살린', 4654: '▁과정', 4655: '▁밋밋', 4656: '▁몰랐다', 4657: '▁냉', 4658: '시아', 4659: '▁대단하', 4660: '하하하', 4661: '▁궁', 4662: '▁손에', 4663: '영화입니다', 4664: '▁샘', 4665: '받았', 4666: '▁해라', 4667: '▁책을', 4668: '▁뭘까', 4669: '할만한', 4670: '둥', 4671: '▁보기에는', 4672: '인데도', 4673: '야한다', 4674: '엑', 4675: '핑', 4676: '벼', 4677: '▁플롯', 4678: '▁특수효과', 4679: '▁니콜', 4680: '▁앞뒤', 4681: '▁짧은', 4682: '▁ᄌ', 4683: '▁놀라운', 4684: '과는', 4685: '▁넌', 4686: '▁주기도', 4687: '▁북', 4688: '갓', 4689: '▁느껴지', 4690: '▁원작에', 4691: '▁재미있습니다', 4692: '▁잼잇', 4693: '▁199', 4694: '평가', 4695: '▁운명', 4696: '▁등장인물', 4697: '▁생활', 4698: '▁별로임', 4699: '▁궁금하다', 4700: '게임', 4701: '▁인도', 4702: '해주고', 4703: '▁솔직', 4704: '▁그자체', 4705: '▁생긴', 4706: '재밌어', 4707: '점대는', 4708: '▁신비', 4709: '▁형편없', 4710: '▁안습', 4711: '야할', 4712: '배우가', 4713: '않은', 4714: '있었다', 4715: '후에', 4716: '▁망친', 4717: '80', 4718: '▁예쁘다', 4719: '것같은', 4720: '▁코미디영화', 4721: '것만으로도', 4722: '▁이상하게', 4723: '▁새로', 4724: '▁거리', 4725: '수없는', 4726: '12', 4727: '찮', 4728: '긋', 4729: '▁끔찍', 4730: '▁교과서', 4731: '▁러시아', 4732: '▁짜증만', 4733: '▁심지어', 4734: '▁위험', 4735: '▁만들수', 4736: '▁여자친구', 4737: '▁좋겠네요', 4738: '오르', 4739: '▁몽', 4740: '▁주제를', 4741: '▁꽤나', 4742: 'le', 4743: '▁ᄀ', 4744: '▁낮지', 4745: '스크', 4746: '!!!!!!!!!!!!!!!!', 4747: '▁재미도없고', 4748: '▁아쉽지만', 4749: '▁부분도', 4750: '학생', 4751: '▁마지막까지', 4752: '▁좀비영화', 4753: '▁여주가', 4754: '▁않아서', 4755: '▁교훈을', 4756: '▁어울리는', 4757: '모르겟', 4758: '든지', 4759: '쳐서', 4760: '▁와닿', 4761: '▁때려', 4762: '거같음', 4763: '▁연기력은', 4764: '▁소설을', 4765: '▁폐', 4766: '듣', 4767: '▁잘하고', 4768: '▁안맞는', 4769: '▁불쌍하다', 4770: '▁몰라', 4771: '▁최고로', 4772: '라는걸', 4773: '필요없', 4774: '이여', 4775: '▁뭐니', 4776: '픽', 4777: '▁가벼운', 4778: '▁반드시', 4779: '▁어처구니', 4780: '▁첫사랑', 4781: '▁봤을까', 4782: '▁어느정도', 4783: '▁무료', 4784: '▁잼있어요', 4785: '부분은', 4786: '좋았다', 4787: '흠', 4788: '긴장감', 4789: '▁순수함', 4790: '옆', 4791: '촌', 4792: '▁있다니', 4793: '▁60', 4794: '었나', 4795: '▁포스', 4796: '▁잠이', 4797: '▁휘', 4798: '것처럼', 4799: '▁호구', 4800: '▁확인', 4801: '▁정작', 4802: '▁안본', 4803: '▁잼나', 4804: '았지만', 4805: '▁웃겼', 4806: '지말자', 4807: '▁맞추', 4808: '▁자체는', 4809: '▁자리', 4810: '▁반대', 4811: '▁떨어지고', 4812: '는구나', 4813: '▁일반', 4814: '▁넘게', 4815: '깝', 4816: '뿐이다', 4817: '▁처음에는', 4818: '긴하지만', 4819: '▁레이', 4820: '▁시청률이', 4821: '▁없으면', 4822: '▁내용과', 4823: '▁역사를', 4824: '퓨', 4825: '▁임팩트', 4826: '▁스티븐', 4827: '▁주윤발', 4828: '▁짜집기', 4829: '▁인내심', 4830: '▁어설프고', 4831: '▁캬', 4832: '했었', 4833: '할것', 4834: '▁태어나서', 4835: '▁여자주인공', 4836: '▁크리스', 4837: '▁그야말로', 4838: '▁약간의', 4839: '▁말하고자', 4840: '당시', 4841: '▁욕심', 4842: '스토리도', 4843: '▁따분', 4844: '▁조절', 4845: '▁한숨', 4846: '▁아름답게', 4847: '궁', 4848: '팀', 4849: '화이팅', 4850: '▁스토리의', 4851: '류의', 4852: '▁못보겠', 4853: '졸작', 4854: '▁불편한', 4855: '▁여전', 4856: '▁짜증나서', 4857: '▁언니', 4858: '▁빵', 4859: '▁그립다', 4860: '▁책임', 4861: '▁보다는', 4862: '라지만', 4863: '▁포스터가', 4864: '▁보아', 4865: '▁매일', 4866: '▁볼때', 4867: '씨는', 4868: '▁다시보니', 4869: '사를', 4870: '▁모른다', 4871: '▁당신은', 4872: '해야할', 4873: '또한', 4874: '재미도', 4875: '▁목적', 4876: '▁훈훈', 4877: '▁무리', 4878: '▁러닝타임', 4879: '▁했으면', 4880: '▁맞지', 4881: '이든', 4882: '▁최고임', 4883: '▁때문', 4884: '▁한편의', 4885: 'ᄏᄏᄏᄏᄏᄏᄏᄏᄏᄏᄏᄏ', 4886: '▁1,2', 4887: '▁줄수', 4888: '하는영화', 4889: '스토', 4890: '보는게', 4891: '▁아닐', 4892: '이었던', 4893: '시오', 4894: '▁아까운영화', 4895: '탱', 4896: '^-^', 4897: '▁쓸데없이', 4898: '▁장국영', 4899: '▁친구가', 4900: '▁유일한', 4901: '▁당연히', 4902: '▁업', 4903: '▁이야기는', 4904: '▁일부러', 4905: '▁첨엔', 4906: '▁생각으로', 4907: '아무', 4908: '같아서', 4909: '▁나름대로', 4910: '▁이딴걸', 4911: '▁삶이', 4912: '빌', 4913: '▁인디', 4914: '▁명작을', 4915: '방식', 4916: '▁강렬한', 4917: '▁심장', 4918: '▁상업', 4919: '▁명장면', 4920: '▁가져', 4921: '웨이', 4922: '▁폐지', 4923: '▁시리즈는', 4924: '먹은', 4925: '▁배신', 4926: '▁엘', 4927: '▁아름답', 4928: '미가', 4929: '▁선물', 4930: '▁영화화', 4931: '같은영화', 4932: '▁격', 4933: '없네요', 4934: '게하는', 4935: '▁멋졌', 4936: '▁소재도', 4937: '레스', 4938: '▁신선하', 4939: '▁쉬', 4940: '꾼', 4941: '될듯', 4942: '▁해리포터', 4943: '▁배트맨', 4944: '▁설득력', 4945: '▁심형래', 4946: '▁유일하게', 4947: '▁희망을', 4948: '▁로코', 4949: '▁근래', 4950: '▁귀여워', 4951: '▁하나로', 4952: '▁엔딩이', 4953: '▁어렵다', 4954: '▁바다', 4955: '▁어른이', 4956: '▁보던', 4957: '느껴', 4958: '추억', 4959: '▁피해', 4960: '로드', 4961: '포스터', 4962: '▁모든걸', 4963: '▁재밌지', 4964: '거같', 4965: '▁소년', 4966: '▁무엇', 4967: '스럽지', 4968: '언제', 4969: '▁엉망이', 4970: '▁재미없어서', 4971: '제로', 4972: '▁잘하는', 4973: '▁수작이다', 4974: '▁죽었', 4975: '▁음식', 4976: '▁영화라는', 4977: '▁연기자', 4978: '▁수입', 4979: '▁쓰고', 4980: '려나', 4981: '주기', 4982: '▁틀어', 4983: '못하는', 4984: '밝', 4985: '▁괜찮았다', 4986: '빠져', 4987: '딘', 4988: '▁dvd', 4989: '▁뱀파이어', 4990: 'ᄁ', 4991: '갠적으로', 4992: '▁웃으면서', 4993: '▁배경음악', 4994: '▁할아버지', 4995: '▁만든거', 4996: '달아', 4997: '▁ᄏᄏᄏᄏᄏᄏᄏ', 4998: '▁가수', 4999: '고요', 5000: '▁따뜻하고', 5001: '▁꼬마', 5002: '▁영상과', 5003: '듯하다', 5004: '신분', 5005: '▁나에겐', 5006: '▁케이블에서', 5007: '▁기회', 5008: '에대해', 5009: '▁가족이', 5010: '맞는', 5011: '▁많아서', 5012: '썼', 5013: '▁기억나는', 5014: '▁영화인지', 5015: '▁새벽에', 5016: '시나리오', 5017: '걍', 5018: '▁타고', 5019: '▁보다니', 5020: '곳에', 5021: '▁많은걸', 5022: '▁느낌의', 5023: '없는영화', 5024: '▁조선', 5025: '보인다', 5026: '▁한번도', 5027: '었는지', 5028: '낫', 5029: '▁나랑', 5030: '▁이해할수', 5031: '테러', 5032: '▁이상하고', 5033: '씀', 5034: '▁배우들은', 5035: '▁본게', 5036: '▁오락영화', 5037: '▁혹시', 5038: '▁흐르는', 5039: '능력', 5040: '▁봤어', 5041: '▁장면도', 5042: '알아', 5043: 'ᅮᅲ', 5044: '맘', 5045: '▁상대', 5046: '육', 5047: '드가', 5048: '쫓', 5049: '깃', 5050: '뗄', 5051: '셋', 5052: '▁제니퍼', 5053: '▁홍상수', 5054: '▁이소룡', 5055: '▁of', 5056: '▁강한', 5057: '▁빵빵', 5058: '▁내생에', 5059: '미국', 5060: '▁착각', 5061: '높은', 5062: '배우들이', 5063: '▁생각할', 5064: '톤', 5065: '오브', 5066: '▁버리', 5067: '▁이런건', 5068: '▁처음에', 5069: '▁동양', 5070: '▁울리는', 5071: '100', 5072: '임을', 5073: '있지', 5074: '▁놓고', 5075: '좋은영화', 5076: '받을', 5077: '역사', 5078: '할뿐', 5079: '▁다시는', 5080: '▁저급', 5081: '▁감동은', 5082: '아버지', 5083: '▁포인트', 5084: '▁^', 5085: '꿈', 5086: '른다', 5087: '▁봐야하는', 5088: '웃김', 5089: '연기는', 5090: '보여주', 5091: '▁있네', 5092: '▁한국의', 5093: '▁어디에', 5094: '▁짜증이', 5095: '보긴', 5096: '▁재밌어서', 5097: '▁밀려', 5098: '멜로', 5099: '▁슬펐', 5100: '▁받은', 5101: '같지', 5102: '뭔', 5103: '었네', 5104: '▁난해하', 5105: '▁후에', 5106: '▁ᄍᄍᄍ', 5107: '▁이해를', 5108: '▁여자의', 5109: '▁아깝고', 5110: '분의', 5111: '▁잘만들', 5112: '▁살아있', 5113: '▁재미로', 5114: '▁고등학교', 5115: '▁대통령', 5116: '▁부끄러', 5117: '▁조니뎁', 5118: '▁할리우드', 5119: '럭', 5120: '▁제이슨', 5121: '▁영환데', 5122: '▁맞춰', 5123: '▁돋보이는', 5124: '▁어째', 5125: '▁재미있을', 5126: '▁두번째', 5127: '재미있게', 5128: '▁동심', 5129: '▁시간아깝다', 5130: '▁잘못된', 5131: '▁아쉬움이', 5132: '▁독일', 5133: '▁섬', 5134: '▁우연', 5135: '조연', 5136: '타임', 5137: '▁없었음', 5138: '▁현실과', 5139: '!!!!!!', 5140: '▁들고', 5141: '▁키스', 5142: '▁난잡', 5143: '였나', 5144: '▁살리', 5145: '몸', 5146: '일듯', 5147: '앤', 5148: '분위기', 5149: '캐스팅', 5150: '아프', 5151: 'R', 5152: '▁싶어요', 5153: '▁남았', 5154: '트가', 5155: '목소리', 5156: '▁주제가', 5157: '느끼', 5158: '▁오글거리', 5159: '드립니다', 5160: '▁곧', 5161: '고싶은', 5162: '기도하고', 5163: '▁초딩때', 5164: '치고는', 5165: '▁쩔', 5166: '부터가', 5167: '▁인생에', 5168: '▁연인', 5169: '놀이', 5170: '40', 5171: '보시길', 5172: '▁갔다', 5173: '▁마음으로', 5174: '위에', 5175: '약한', 5176: '▁의사', 5177: '▁정보', 5178: '▁하길래', 5179: '▁삼류영화', 5180: '젊', 5181: '▁you', 5182: '▁됩니다', 5183: '젖', 5184: '▁숨겨진', 5185: '▁늑대', 5186: '▁실화를', 5187: '▁과학', 5188: '▁여러번', 5189: '▁사라지', 5190: '▁언제봐도', 5191: '▁영화인가', 5192: '▁다섯', 5193: '▁재능', 5194: '▁단순히', 5195: '와의', 5196: '어색', 5197: '▁마약', 5198: '▁보이지', 5199: '▁가족들', 5200: '▁톰', 5201: '▁혹시나', 5202: '▁=', 5203: '▁장면들', 5204: '▁충분', 5205: '장면은', 5206: '▁클레멘타인', 5207: '▁하다가', 5208: '간에', 5209: '▁하는게', 5210: '춤', 5211: '▁부부', 5212: '▁제목만', 5213: '려다가', 5214: '▁어색하고', 5215: '▁안간다', 5216: '데요', 5217: '▁실수', 5218: '▁검색', 5219: 'en', 5220: '▁발상', 5221: '▁시간만', 5222: '▁공감할', 5223: '극장에서', 5224: '▁머리가', 5225: '에게는', 5226: '▁아니지', 5227: '▁장면을', 5228: '▁쉽지', 5229: '▁진수', 5230: '▁별로고', 5231: '낭', 5232: '쩜', 5233: '15', 5234: '납', 5235: '▁정상', 5236: '눌', 5237: '곱', 5238: '밴', 5239: '템', 5240: '▁떨어짐', 5241: '뎅', 5242: '부끄럽', 5243: '▁박진감', 5244: '▁익숙', 5245: '▁희대의', 5246: '▁깜짝', 5247: '▁빠른', 5248: '▁처절', 5249: '▁서양', 5250: '▁ᄏᄏᄏᄏᄏᄏᄏᄏ', 5251: '▁프리', 5252: '▁엄마가', 5253: '▁이루', 5254: '▁짜증남', 5255: '됐다', 5256: '바라', 5257: '으려고', 5258: '▁개노잼', 5259: '싫어', 5260: '하니까', 5261: '아까운', 5262: '▁예능', 5263: '▁아까웠다', 5264: '▁넘치', 5265: '▁모르겠네요', 5266: '려다', 5267: '▁좋네', 5268: '▁하아', 5269: '▁터미네이터', 5270: '하는건지', 5271: '▁아냐', 5272: '▁불쌍한', 5273: '맞추', 5274: '▁지겹다', 5275: '▁다르게', 5276: '▁조잡', 5277: '칼', 5278: '엄청', 5279: '▁세상이', 5280: '▁멋지고', 5281: '▁X', 5282: '▁F', 5283: '무시', 5284: '지훈', 5285: '▁하네', 5286: '차이', 5287: '▁사용', 5288: '갈때', 5289: '▁줍니다', 5290: '▁안봐도', 5291: '▁깔', 5292: '▁나네요', 5293: '섹', 5294: '아라', 5295: '▁매니아', 5296: '▁이토록', 5297: '▁사투리', 5298: '▁뭐하자는', 5299: '▁실험', 5300: '▁잤다', 5301: '▁응원', 5302: '분만에', 5303: '▁만들기', 5304: '♥♥♥♥', 5305: '▁상영관', 5306: '줄알았는데', 5307: '▁디워', 5308: '▁최고봉', 5309: '▁이뻐서', 5310: '재밌는', 5311: '▁그것도', 5312: '함에', 5313: '▁봐도봐도', 5314: '▁괜찮음', 5315: '▁아니라고', 5316: '어진다', 5317: '▁앞에', 5318: '▁봤다면', 5319: '올라', 5320: '▁높아서', 5321: '겨운', 5322: '▁없나요', 5323: '▁그동안', 5324: '▁충실', 5325: '갔는데', 5326: '▁유발', 5327: '▁있다고', 5328: '▁거장', 5329: '▁슈', 5330: '▁중심', 5331: '▁반전을', 5332: 'ᄍ', 5333: '▁달려', 5334: '내용은', 5335: '▁멋있는', 5336: '▁논리', 5337: '스러웠', 5338: '▁느꼈', 5339: '▁알겠다', 5340: '보소', 5341: '▁내게', 5342: '▁끝에', 5343: '▁점수는', 5344: '▁주연배우', 5345: '말이필요없', 5346: '▁같지', 5347: '줄은', 5348: '▁아이들과', 5349: '모르고', 5350: '차별', 5351: '▁감독을', 5352: '제대로', 5353: '▁이런영화는', 5354: '▁흑', 5355: '표정', 5356: '뷰', 5357: '팍', 5358: 'ᄎ', 5359: '▁네티즌', 5360: '넬', 5361: '앨', 5362: '켄', 5363: '▁도무지', 5364: '▁/', 5365: '하시길', 5366: '▁맛이', 5367: '▁판단', 5368: '▁집중이', 5369: '▁내용전개', 5370: '▁보라', 5371: '▁이상해', 5372: '여운이', 5373: '▁그럴듯', 5374: '▁궁금해서', 5375: '▁재미없을', 5376: '물로', 5377: '▁재미있어', 5378: '분을', 5379: '쩌', 5380: '▁정신병자', 5381: '▁내일', 5382: '▁본지', 5383: '기에는', 5384: '▁났', 5385: '못하고', 5386: '하지말고', 5387: '모자', 5388: '먹어', 5389: '▁어디가', 5390: '하기에', 5391: '할수가', 5392: '곳에서', 5393: '애들이', 5394: '있지만', 5395: '▁얼굴이', 5396: '것보다', 5397: '▁오브', 5398: '보게되', 5399: '▁여주인공이', 5400: '번에', 5401: '▁떼', 5402: '신고', 5403: '하지마', 5404: '티가', 5405: '▁배우도', 5406: 'th', 5407: '략', 5408: '▁갑니다', 5409: '슷', 5410: '▁현실감', 5411: '삭', 5412: '랙', 5413: '▁왤케', 5414: '닷', 5415: '▁아놀드', 5416: '▁하정우', 5417: '▁흑백', 5418: '▁폭풍', 5419: '▁재개봉', 5420: '▁만화책', 5421: '▁루즈', 5422: '▁폭발', 5423: '▁2000', 5424: '뭐냐', 5425: '▁담겨', 5426: '▁거북', 5427: '▁공짜로', 5428: '▁짜증나고', 5429: '▁없게', 5430: '▁하품', 5431: '▁괜찮았는데', 5432: '▁배경이', 5433: '▁반담', 5434: '▁죽고', 5435: '트로', 5436: '▁배우는', 5437: '▁쭉', 5438: '나왓', 5439: '구리', 5440: '▁뭣', 5441: '▁겁', 5442: '▁하지원', 5443: '▁찾는', 5444: '▁인형', 5445: '드립', 5446: '▁기가', 5447: '▁기타', 5448: '▁공간', 5449: '서야', 5450: '▁알겠', 5451: '▁인생이', 5452: '자고', 5453: '▁사람도', 5454: '▁말자', 5455: '▁이드라마', 5456: '▁잊고', 5457: '▁최고의영화', 5458: '때까지', 5459: '불쌍', 5460: '잊', 5461: '꽃', 5462: '탑', 5463: 'CG', 5464: '벤', 5465: '▁부정', 5466: '웃겨', 5467: '▁사랑해', 5468: '할지', 5469: '멋있', 5470: '아무리', 5471: '▁박수', 5472: '▁지루하기', 5473: '만큼이나', 5474: '▁작품입니다', 5475: '▁스릴도', 5476: '▁대신', 5477: '▁불안', 5478: '흡', 5479: '▁빅', 5480: '▁나레이션', 5481: '▁쓸데없는', 5482: '▁컨셉', 5483: '덩어리', 5484: '▁꿈꾸', 5485: '▁환경', 5486: '▁적어도', 5487: '▁극복', 5488: '▁무엇인가', 5489: '▁보게된', 5490: '▁설정이', 5491: '▁to', 5492: '▁탈출', 5493: '않음', 5494: '▁소중함을', 5495: '열받', 5496: '▁잔잔하게', 5497: '▁어거지', 5498: '▁으리', 5499: '▁진부', 5500: '▁평소', 5501: '햇는데', 5502: '▁이름이', 5503: '씁쓸', 5504: '류영화', 5505: '▁유치해', 5506: '▁벤', 5507: '▁따뜻해', 5508: '▁케릭터', 5509: '▁기대없이', 5510: '▁김치', 5511: '▁뒤에', 5512: '상영', 5513: '▁결론은', 5514: '▁영상미가', 5515: '▁여자애', 5516: '▁테러', 5517: '▁가득한', 5518: '▁연출은', 5519: '▁재밋어요', 5520: '▁없냐', 5521: '▁아우', 5522: '휘', 5523: '포인트', 5524: '뭘', 5525: '개인적으로', 5526: '범죄', 5527: '▁따위', 5528: '▁가능한', 5529: '▁얘', 5530: '▁귀엽다', 5531: '소름', 5532: '▁마지막회', 5533: '앞으로', 5534: '하거나', 5535: '▁어울리지', 5536: '잖', 5537: '맞고', 5538: '자들이', 5539: '▁땡', 5540: '▁같고', 5541: '키드', 5542: '어가는', 5543: '하군', 5544: '▁끌고', 5545: '갱', 5546: '뚝', 5547: '랭', 5548: '▁오프닝', 5549: '뻥', 5550: '웟', 5551: '랩', 5552: '▁리얼리티', 5553: '▁뭥미', 5554: '▁걱정', 5555: '▁달콤', 5556: '▁평균', 5557: '^^*', 5558: '▁명대사', 5559: '▁각색', 5560: '▁빛을', 5561: '▁돈내고', 5562: '▁무겁', 5563: '▁믿고보는', 5564: '▁만약', 5565: '▁사랑한다', 5566: '▁부럽', 5567: '▁영화라니', 5568: '발연기', 5569: '자마자', 5570: '▁오랫만에', 5571: '~~!!', 5572: '▁유행', 5573: '▁유쾌하게', 5574: '글자', 5575: '▁시대에', 5576: '있던', 5577: '세여', 5578: '▁관련', 5579: '▁히어로', 5580: '자들의', 5581: '▁손발', 5582: '~~^^', 5583: '▁담은', 5584: '▁않았지만', 5585: '-_-;', 5586: '었을까', 5587: '▁본건데', 5588: '있어요', 5589: '존나', 5590: '▁넣어', 5591: '울리', 5592: '▁우뢰매', 5593: '▁아들이', 5594: '▁정신없', 5595: '▁소화', 5596: '▁유덕화', 5597: '▁볼만했다', 5598: '▁놀랍', 5599: '▁탐', 5600: '에만', 5601: '▁좋을듯', 5602: '비가', 5603: '▁전쟁의', 5604: '▁허술한', 5605: '▁신의', 5606: '몬', 5607: '▁강렬', 5608: '▁눈물나', 5609: '500', 5610: '▁세번', 5611: '렬', 5612: '▁정도면', 5613: '▁남기', 5614: '▁일본은', 5615: '볼수있', 5616: '낮은', 5617: '늙', 5618: '▁읽어', 5619: '멜', 5620: '외로', 5621: '▁의상', 5622: '등록', 5623: '▁여자는', 5624: '이딴', 5625: '▁갓', 5626: '▁가고', 5627: '▁액션신', 5628: '기억이', 5629: 'es', 5630: '앉', 5631: '▁묻어', 5632: '▁따라가', 5633: '켰', 5634: '▁늦게', 5635: '▁송강호', 5636: '▁인터넷', 5637: '껀', 5638: '▁자동차', 5639: '▁동시에', 5640: '▁파괴', 5641: '▁뻔하', 5642: '▁포스터에', 5643: '▁서울', 5644: '▁보시면', 5645: '▁자극적인', 5646: '가면서', 5647: '▁거품', 5648: '▁유럽', 5649: '▁웃을', 5650: '빠진', 5651: '▁살인마', 5652: '▁이루어', 5653: '감독은', 5654: '▁사실을', 5655: '▁먹는', 5656: '▁좋다고', 5657: '▁보았는데', 5658: '그러나', 5659: '▁평화', 5660: '▁만난', 5661: '같아', 5662: '▁절정', 5663: '하자면', 5664: '추격', 5665: '래도', 5666: '▁원조', 5667: '▁적당한', 5668: '▁아깝네', 5669: '▁녹아', 5670: '▁잼있음', 5671: '▁찍고', 5672: '▁사랑해요', 5673: '소녀', 5674: '▁의지', 5675: '▁아니었다', 5676: '▁황당한', 5677: '▁받고', 5678: '▁만들어서', 5679: '▁보는거', 5680: '느낌이', 5681: '▁갖다', 5682: '▁육', 5683: '특별', 5684: '놨네', 5685: '▁분들이', 5686: '▁인간은', 5687: '▁자아', 5688: '코믹', 5689: '▁다시보고', 5690: '바람', 5691: '므', 5692: '그럼', 5693: '이예요', 5694: '▁안될', 5695: '▁재미없다고', 5696: '봣다', 5697: '해지고', 5698: '▁최소', 5699: '▁답이', 5700: '안돼', 5701: '▁재미있는데', 5702: '빗', 5703: '벅', 5704: '셉', 5705: '▁명불허전', 5706: '▁짐캐리', 5707: '걷', 5708: '똘', 5709: '▁가까운', 5710: '▁내생애', 5711: '▁우려먹', 5712: '보느니', 5713: '져요', 5714: '마누라', 5715: '▁축구', 5716: '스텝', 5717: '▁역량', 5718: '▁목소리가', 5719: '▁전반적으로', 5720: '▁일본의', 5721: '아이들', 5722: '▁영화였음', 5723: '분동안', 5724: '줄알았', 5725: '▁믿기지', 5726: '왔어요', 5727: '▁떡', 5728: '▁난리', 5729: '힘들', 5730: '▁고어', 5731: '▁스토리전개', 5732: '▁오락', 5733: '성과', 5734: '▁탄탄하고', 5735: '▁쪽', 5736: '보고있어요', 5737: '▁시작부터', 5738: '▁이보다', 5739: '광고', 5740: '▁아깝네요', 5741: '▁답답함', 5742: '▁이끌어', 5743: '▁한국판', 5744: '▁화나', 5745: '것같은데', 5746: '▁왜곡', 5747: '점주', 5748: '▁즐', 5749: '낚', 5750: '▁어쩌면', 5751: '▁놓치', 5752: '찾아', 5753: '여운', 5754: '나름', 5755: '스케', 5756: '델', 5757: '아니고', 5758: '▁읽고', 5759: '▁포스터만', 5760: '봐야지', 5761: '재미없어', 5762: '▁명배우', 5763: '섬', 5764: '잭', 5765: '▁무섭고', 5766: '꼽', 5767: '▁명연기', 5768: '▁등장인물들', 5769: '할줄', 5770: '노답', 5771: '▁일부', 5772: '스토리가', 5773: '쩐다', 5774: '▁알았네', 5775: '윈', 5776: '나보다', 5777: '▁겨울', 5778: '행복', 5779: '▁그립', 5780: '▁소장', 5781: '▁만들었나', 5782: '몫', 5783: '▁아무생각없이', 5784: '썸', 5785: '▁깡패', 5786: '▁양아치', 5787: '▁첩보', 5788: '▁정우성', 5789: '▁곰', 5790: '▁좋았을텐데', 5791: '▁은근히', 5792: '잖아요', 5793: '였지', 5794: '▁꿀', 5795: '▁만들어낸', 5796: '▁표현할', 5797: '▁기존', 5798: '보고싶어요', 5799: '▁이런류의', 5800: '▁일본인', 5801: '였을', 5802: '▁사람이라면', 5803: '드만', 5804: '▁액션과', 5805: '▁생각난다', 5806: '▁시나리오가', 5807: '▁한방', 5808: '▁아파', 5809: '겠는데', 5810: '▁친구랑', 5811: '▁초등학교', 5812: '▁전개와', 5813: '▁강간', 5814: '자식', 5815: '▁본듯', 5816: '▁그것이', 5817: '▁되네요', 5818: '나오네', 5819: '▁생명', 5820: '▁싱', 5821: '▁싶었다', 5822: '편에서', 5823: '▁봐야지', 5824: '먹었', 5825: '께요', 5826: '▁느낌은', 5827: '▁자극적', 5828: '▁녹', 5829: ',,,,,,', 5830: '▁:)', 5831: '▁불가능', 5832: '▁지겹', 5833: '▁사람들에게', 5834: '우스', 5835: '멍', 5836: '▁팀', 5837: '그렇게', 5838: '▁봤는데도', 5839: '▁좋지', 5840: '▁벨', 5841: '▁하시', 5842: '꼈', 5843: '뭉', 5844: '▁누군지', 5845: '아들', 5846: '괜찬', 5847: '▁스포츠', 5848: '▁블랙코미디', 5849: '▁헛웃음', 5850: '▁역겨운', 5851: '▁민폐', 5852: '▁왠만한', 5853: '▁이것보단', 5854: '▁한국영화의', 5855: '▁장난하냐', 5856: 'al', 5857: '▁말아야', 5858: '굳굳', 5859: '심을', 5860: '습니까', 5861: '▁여태', 5862: '▁담긴', 5863: '미친', 5864: '▁그것을', 5865: '▁재난', 5866: '▁웃었', 5867: '아직도', 5868: '▁P', 5869: '▁과장', 5870: '▁치유', 5871: '▁데이', 5872: '꺼면', 5873: '▁영원한', 5874: '▁이번에', 5875: 'am', 5876: '▁상관없', 5877: '▁나오는데', 5878: '▁최소한', 5879: '▁보고싶어', 5880: '▁굴', 5881: '▁매력에', 5882: '되요', 5883: '아니면', 5884: '▁길이', 5885: '분들은', 5886: '천원', 5887: '▁잔잔하면서', 5888: '▁사랑합니다', 5889: '▁숙', 5890: '▁영화예요', 5891: '▁이뻐', 5892: '러스', 5893: '▁귀여움', 5894: '흑', 5895: '▁땅', 5896: '살이', 5897: '심이', 5898: '셔야', 5899: '주고싶', 5900: '▁아동', 5901: '▁떨어져', 5902: '굳', 5903: '▁반전에', 5904: '▁진지한', 5905: '달라', 5906: '▁생각도', 5907: '▁볼려고', 5908: '갖', 5909: '하실', 5910: '▁예술영화', 5911: '50', 5912: '평론가', 5913: '갈수록', 5914: '▁각자', 5915: '할수있는', 5916: '에비해', 5917: '재미있어요', 5918: '▁시대의', 5919: '무엇', 5920: '▁찍는', 5921: '▁땜에', 5922: '회가', 5923: '선수', 5924: '▁무섭지', 5925: '쯔', 5926: '▁웰메이드', 5927: '퀄', 5928: '뱀', 5929: '▁어두운', 5930: '▁호기심', 5931: '답게', 5932: '▁죄송', 5933: '▁고뇌', 5934: '▁극단적', 5935: '▁즐길', 5936: '▁교훈도', 5937: '나쁜', 5938: '▁고독', 5939: '▁이해불가', 5940: '▁상징', 5941: '사실', 5942: '▁나무', 5943: '▁만들어주', 5944: '▁요새', 5945: '▁여친', 5946: '▁ᅲᅲᅲᅲ', 5947: '▁개똥', 5948: '▁억지감동', 5949: '▁볼만합니다', 5950: '▁동네', 5951: '▁첨부터', 5952: '▁무한', 5953: '엇는데', 5954: '▁100%', 5955: '▁옳', 5956: '▁한개도', 5957: '▁천국', 5958: '▁애매', 5959: '▁씹', 5960: '▁적절한', 5961: '없나', 5962: '▁마니', 5963: '▁울면서', 5964: '▁느낌이다', 5965: '▁허무한', 5966: '▁알았음', 5967: '특집', 5968: '▁아진짜', 5969: '▁형제', 5970: '▁드러', 5971: '▁잠시', 5972: '▁뜬금없는', 5973: '시간동안', 5974: '안된다', 5975: '스티', 5976: '질질', 5977: '▁못보겠다', 5978: '▁시점', 5979: '▁유치해서', 5980: '쁜', 5981: '▁덤', 5982: '▁반영', 5983: '는거지', 5984: '▁나이가', 5985: '▁쩔어', 5986: '▁책으로', 5987: '▁거기다', 5988: '앞', 5989: '▁아프다', 5990: '▁잔잔하', 5991: '▁명작은', 5992: '▁제목을', 5993: '▁괜찮아', 5994: '->', 5995: '▁찾아서', 5996: '찰', 5997: '것같아', 5998: '시면', 5999: '▁다신', 6000: '▁됬', 6001: '귀엽', 6002: 'TV', 6003: '코메디', 6004: '꿀', 6005: '볼까', 6006: '선택', 6007: '▁전화', 6008: '▁기적', 6009: '▁김정', 6010: '▁재밋음', 6011: '였네요', 6012: '어리', 6013: '덴', 6014: '▁류승범', 6015: '랴', 6016: '▁제시카', 6017: '▁배급사', 6018: '▁이도저도', 6019: '▁풋풋한', 6020: '연기를', 6021: '▁빛나는', 6022: '▁앉아', 6023: '▁라스트', 6024: '▁장애인', 6025: '▁생에', 6026: '전혀', 6027: '▁신인', 6028: '답니다', 6029: '▁절망', 6030: '▁전체적인', 6031: '편집', 6032: '처리', 6033: '▁좋앗', 6034: '해놓고', 6035: '▁싶었던', 6036: '▁괜찮았음', 6037: '▁마지막엔', 6038: '시대에', 6039: '▁안보는게', 6040: '아까워', 6041: '▁실감', 6042: '므로', 6043: '긴다', 6044: '하시고', 6045: 'ᄏᄏᄏᄏᄏᄏ', 6046: '타고', 6047: '▁초반부', 6048: '▁드네요', 6049: '▁부족함', 6050: '▁널', 6051: '보신분들', 6052: 'ck', 6053: '▁별하나', 6054: '당하는', 6055: '▁소재의', 6056: '▁매미', 6057: '보내', 6058: '▁세월', 6059: '▁추천하고', 6060: '▁남성', 6061: '▁벗어나', 6062: '▁밤에', 6063: '▁않은데', 6064: '브리', 6065: '▁잘만들었다', 6066: '▁진한', 6067: '▁정신병', 6068: '▁배경으로', 6069: '▁ᄃᄃᄃ', 6070: '▁심한', 6071: '▁없는게', 6072: '에다가', 6073: '너무너무', 6074: '▁벗어', 6075: '▁아무도', 6076: '▁탓', 6077: '▁장면들이', 6078: '맹', 6079: '▁돼지', 6080: '▁내리', 6081: '▁미국의', 6082: '즐', 6083: '▁백인', 6084: '해줄', 6085: '같아요', 6086: '▁보기싫', 6087: '닫', 6088: '렀', 6089: '윌', 6090: '▁놀랐다', 6091: '닭', 6092: '뢰', 6093: '룰', 6094: '▁빨갱이', 6095: '뺏', 6096: '쟈', 6097: '▁드디어', 6098: '▁엑소', 6099: '▁러브라인', 6100: '▁쓸쓸', 6101: '▁흥미로웠', 6102: '▁짜릿', 6103: '▁향수', 6104: '▁그림체', 6105: '없구', 6106: '이어서', 6107: '▁가족의', 6108: '▁대표', 6109: '▁아만다', 6110: '했을까', 6111: '▁모르지만', 6112: '▁놀란', 6113: '▁있었으면', 6114: '했을때', 6115: '▁소름돋', 6116: '▁다행이다', 6117: '▁거지같은', 6118: '모를', 6119: '▁의도가', 6120: '▁액션을', 6121: '▁나을듯', 6122: '었지', 6123: '귀신', 6124: '복수', 6125: '▁것만', 6126: '▁감독과', 6127: '▁만났', 6128: '형제', 6129: '지루하고', 6130: '▁그렇지만', 6131: '▁단편', 6132: '▁빠져서', 6133: '▁액', 6134: '터짐', 6135: '▁여신', 6136: '▁괜찮게', 6137: '다큐', 6138: '가며', 6139: '▁보고나니', 6140: '당시엔', 6141: '▁편안', 6142: '▁버려', 6143: '▁때리', 6144: '▁그리워', 6145: 'un', 6146: '▁파리', 6147: '▁인류', 6148: '효과', 6149: '▁소개', 6150: '▁있기', 6151: '▁말아먹', 6152: '살인', 6153: '▁옆에', 6154: '소재와', 6155: '▁내용에', 6156: '좋네요', 6157: '▁유지', 6158: '▁괜찮고', 6159: '▁빠지는', 6160: '▁것에', 6161: '▁자기가', 6162: '▁졸았', 6163: '측', 6164: '▁시간에', 6165: '칙', 6166: '덩', 6167: '쉐', 6168: '▁깊게', 6169: '▁이병헌', 6170: '셧', 6171: '욤', 6172: '▁브루스', 6173: 'ᅢ', 6174: '▁화장실', 6175: '▁삭제', 6176: '▁배꼽', 6177: '▁창피', 6178: '▁만들었을까', 6179: '아아아', 6180: '▁던져', 6181: '▁안본다', 6182: '▁재미있었습니다', 6183: '▁드림', 6184: '순위', 6185: '꺼야', 6186: '▁연기하는', 6187: '▁진지하게', 6188: '▁작품이라', 6189: '▁말하려는', 6190: '역할', 6191: '물론', 6192: '▁재밌었던', 6193: '▁보았던', 6194: '▁한다는', 6195: '▁줘야', 6196: '▁군인', 6197: '▁깔끔한', 6198: '하기엔', 6199: '▁되는데', 6200: '▁연출력이', 6201: '▁인상적인', 6202: '보임', 6203: '맘에', 6204: '놈들은', 6205: '▁인생은', 6206: '애들은', 6207: '▁ᄡ', 6208: '있으면', 6209: '▁공감도', 6210: '▁와닿는', 6211: '▁작가의', 6212: '▁주지', 6213: '▁선사', 6214: '것같네요', 6215: '편까지', 6216: '▁잘한다', 6217: '으신', 6218: '▁미스', 6219: '곳이', 6220: '▁끝나서', 6221: '당신', 6222: '뭐지', 6223: '겠어', 6224: '▁시키', 6225: '▁ᄒᄃᄃ', 6226: '게만드는', 6227: '자기', 6228: '라인', 6229: '▁대사들', 6230: '▁살았', 6231: '외엔', 6232: '▁생기', 6233: '▁도시', 6234: '스코', 6235: '해줘서', 6236: '재미있다', 6237: '훌륭', 6238: '▁EBS', 6239: '▁컴퓨터', 6240: '홈', 6241: '▁언젠가', 6242: '▁베드신', 6243: '쯧쯧', 6244: '▁하이틴', 6245: '▁무거운', 6246: '▁박보영', 6247: '차승원', 6248: '▁낭만', 6249: '▁비행기', 6250: '▁생각해보게', 6251: '▁분량', 6252: '▁동영상', 6253: '▁은근', 6254: '▁쪼', 6255: '▁개콘', 6256: '밖', 6257: '합시다', 6258: '▁미안하다', 6259: '▁가족애', 6260: '90', 6261: '볼수', 6262: '▁극중', 6263: '▁조금은', 6264: '▁탄탄', 6265: '▁앞서', 6266: '▁요소가', 6267: '돈주고', 6268: '생각을', 6269: '▁내돈', 6270: '▁신선함', 6271: '거라고', 6272: '▁사랑스럽다', 6273: '였다면', 6274: '▁빠졌', 6275: '▁기대하지', 6276: '▁살다', 6277: '▁쩌', 6278: '▁들어간', 6279: '▁뭐임', 6280: '▁뜬금없이', 6281: '▁보라고', 6282: '▁뭐하는', 6283: '▁정도가', 6284: '맞은', 6285: '작이라', 6286: '스릴', 6287: '▁것들이', 6288: '▁땀', 6289: '년대에', 6290: '▁확실', 6291: '▁만드네', 6292: '후반', 6293: '으시', 6294: '▁않았던', 6295: '▁14', 6296: '▁캐릭터들이', 6297: '더군', 6298: '공주', 6299: '▁하나님', 6300: '▁드라마입니다', 6301: '▁있겠', 6302: '시키고', 6303: '쟁', 6304: '▁깎', 6305: '▁사랑하고', 6306: '▁빼곤', 6307: '줄알았다', 6308: '주제', 6309: '▁넘어가', 6310: '광구', 6311: '갠', 6312: '▁품', 6313: '곽', 6314: '덮', 6315: '쉴', 6316: '툭', 6317: '▁박중훈', 6318: '▁흡입력', 6319: '듦', 6320: '렐', 6321: '뤄', 6322: '▁신하균', 6323: '。', 6324: '헉', 6325: '셜', 6326: '▁라이언', 6327: '▁거부감', 6328: '▁둘째치고', 6329: '▁블루', 6330: '▁어설프다', 6331: '▁예측', 6332: '▁도둑', 6333: '▁잃은', 6334: '보네요', 6335: '▁2012', 6336: '▁부탁', 6337: '▁고딩', 6338: '▁나올때', 6339: '▁말그대로', 6340: '▁흘러가는', 6341: '결국', 6342: '▁대학', 6343: '▁버리고', 6344: '으러', 6345: '▁누나', 6346: '▁이거보다', 6347: '장난치', 6348: '▁답답하다', 6349: '▁나오네', 6350: '보고나서', 6351: '▁영원', 6352: '▁실망스럽', 6353: '▁언제까지', 6354: '▁챙겨', 6355: '하나하나가', 6356: '▁순수하고', 6357: '▁첨이다', 6358: '▁맞나', 6359: '▁숨은', 6360: '최고다', 6361: '▁가히', 6362: '▁날아', 6363: '▁기대이하', 6364: '여배우', 6365: '▁시작해서', 6366: '실력', 6367: '▁뛰어넘는', 6368: '▁보겠다', 6369: '중국', 6370: '▁따뜻', 6371: '▁미국식', 6372: '▁나와야', 6373: '지루해', 6374: '▁불쌍하', 6375: '▁요즘은', 6376: '▁몰아', 6377: '▁화끈', 6378: '▁짜증나게', 6379: '▁절로', 6380: 've', 6381: '▁소장하고', 6382: '하겠습니다', 6383: '▁및', 6384: '▁씁쓸하', 6385: '▁봉', 6386: '극히', 6387: '▁조연들', 6388: 'ed', 6389: '▁전문', 6390: '▁다시보기', 6391: '▁뭐고', 6392: '▁당연', 6393: '▁망할', 6394: '맞음', 6395: '맞아', 6396: '▁같았다', 6397: '램', 6398: '븐', 6399: '킴', 6400: '▁아름다워', 6401: '▁임창정', 6402: '▁명복을', 6403: '▁비호감', 6404: '▁칭찬', 6405: '▁워낙', 6406: '▁아쉬울', 6407: '▁오글오글', 6408: '▁감명깊게', 6409: '▁향연', 6410: '▁부활', 6411: '▁엄청나게', 6412: 'se', 6413: '▁따름', 6414: '▁개그맨', 6415: '▁낫겠다', 6416: '경찰', 6417: '▁마시길', 6418: '▁혼란', 6419: '▁좋겠습니다', 6420: '것인가', 6421: '립니다', 6422: '▁꼭보세요', 6423: '▁조아', 6424: '뻔했다', 6425: '틀리', 6426: '▁재미있었음', 6427: '▁러브', 6428: 'ᄏᄏᄏᄏᄏᄏᄏ', 6429: '▁잃었', 6430: '▁마음속', 6431: '▁멋지게', 6432: '▁역겹다', 6433: '▁쏘', 6434: '도좋고', 6435: '▁캐릭터를', 6436: '▁극장에', 6437: '▁어이없다', 6438: '▁H', 6439: '▁한번더', 6440: '▁했더니', 6441: '못함', 6442: '하고싶다', 6443: '▁가시', 6444: '▁지났', 6445: '▁맡은', 6446: '▁여인', 6447: '쩌네', 6448: '▁졸려', 6449: '▁활', 6450: '▁연상', 6451: '▁쩌는', 6452: '인걸', 6453: '줘야지', 6454: '▁새벽', 6455: '▁코믹영화', 6456: '주시', 6457: '▁웃는', 6458: '▁여배우들', 6459: '까봐', 6460: '▁오지', 6461: '▁최고네요', 6462: '▁작위적', 6463: '▁볼것', 6464: '어야지', 6465: '▁역사에', 6466: '있네요', 6467: '본적', 6468: '▁만들려', 6469: '▁말고는', 6470: '▁어디로', 6471: '▁영상도', 6472: '▁연기력에', 6473: '▁재미없었', 6474: '▁무대', 6475: '▁의문이', 6476: '▁입장', 6477: '겼다', 6478: '▁J', 6479: '풋', 6480: '▁디카프리오', 6481: '▁소름끼치는', 6482: '팩', 6483: '▁스타워즈', 6484: '밧', 6485: '▁왕조현', 6486: '맺', 6487: '켓', 6488: '▁도데체', 6489: '▁스타뎀', 6490: '▁무간도', 6491: '▁나타나', 6492: '▁격투', 6493: '▁그려낸', 6494: '▁묘한', 6495: '▁시도는', 6496: '▁로빈', 6497: '▁중학생', 6498: '▁철저', 6499: '▁참나', 6500: '뉴', 6501: '프로그램', 6502: '굿굿', 6503: '예술', 6504: '핵', 6505: '▁그들이', 6506: '▁어우', 6507: '▁재밌게봤어요', 6508: '싫', 6509: '▁마리', 6510: '▁새끼', 6511: '▁귀여워요', 6512: '▁사람들을', 6513: '▁재미있었는데', 6514: '▁소통', 6515: '▁다운받아서', 6516: '▁당신이', 6517: '▁부산', 6518: '▁살아야', 6519: '▁케미', 6520: '▁어이없음', 6521: '▁독특하고', 6522: '점만점에', 6523: '점부터', 6524: '▁정도는', 6525: '▁끝도', 6526: '▁감동적이네요', 6527: '▁있으나', 6528: '▁말투', 6529: '▁넘넘', 6530: '▁형편없는', 6531: '▁원하는', 6532: '▁볼만했', 6533: '시킬', 6534: '▁웃기는', 6535: '자와', 6536: '▁E', 6537: '▁분장', 6538: '▁있긴', 6539: '하하하하', 6540: '▁이딴영화', 6541: '는것을', 6542: '▁뭐라고', 6543: '▁슬픈영화', 6544: '▁한시간', 6545: '거같아', 6546: '▁속이', 6547: '▁빈약', 6548: '▁구분', 6549: '텐', 6550: '▁영화인줄', 6551: '▁읽는', 6552: '▁살리지', 6553: '▁상어', 6554: '▁귀여', 6555: '▁싶어서', 6556: '▁충분한', 6557: '▁이상하다', 6558: '이랄까', 6559: '~~~~~', 6560: '▁있었고', 6561: '▁막판', 6562: '안하고', 6563: '▁정체', 6564: '▁부담', 6565: '비추', 6566: '▁두시간', 6567: '이었는데', 6568: '▁최악의영화', 6569: '았으면', 6570: '멋잇', 6571: '▁힘을', 6572: '버렸네', 6573: 'com', 6574: '▁뒤죽박죽', 6575: '▁비쥬얼', 6576: '▁시종일관', 6577: '▁알파치노', 6578: '쌓', 6579: '얄', 6580: '퉤', 6581: '혔', 6582: '▁아기자기', 6583: '▁여러모로', 6584: '▁일주일', 6585: '▁미스캐스팅', 6586: '▁킬러', 6587: '▁총체적', 6588: '▁스파이', 6589: '▁더러워', 6590: '▁케빈', 6591: '▁돈아까워', 6592: '▁잠을', 6593: '▁살렸다', 6594: '▁에효', 6595: '▁속았다', 6596: '땡', 6597: '14', 6598: '빼곤', 6599: '시청률', 6600: '▁가짜', 6601: '그나마', 6602: '판타지', 6603: '우리나라', 6604: '▁이별', 6605: '▁최후', 6606: '나왔으면', 6607: '▁미스터리', 6608: '▁&', 6609: '▁글을', 6610: '▁작화', 6611: '허무', 6612: '▁감명', 6613: '▁입장에서', 6614: '▁말인가', 6615: '▁최고라고', 6616: '▁안나온다', 6617: '▁개나', 6618: '▁완벽하다', 6619: '주기도', 6620: '▁공유', 6621: '여주인공', 6622: '▁이제는', 6623: '▁시기', 6624: '었구나', 6625: '▁아이들에게', 6626: '미화', 6627: '지루하다', 6628: '▁타란티노', 6629: '느냐', 6630: '겨울', 6631: '▁말밖에', 6632: '이후로', 6633: '▁방해', 6634: '▁다시금', 6635: '▁개봉당시', 6636: '▁않으', 6637: '▁건질', 6638: '▁삶과', 6639: 'ᄃᄃᄃ', 6640: '▁ᄒᄒᄒᄒ', 6641: '▁지키', 6642: '▁전편보다', 6643: '▁R', 6644: '거에요', 6645: '성우', 6646: '~~~~~~', 6647: '▁싫어하는', 6648: '▁되야', 6649: '▁별로였다', 6650: '▁알게되', 6651: '▁것인가', 6652: '▁안에', 6653: '▁만화영화', 6654: '▁됐다', 6655: '▁소름돋는', 6656: '기술', 6657: '외에는', 6658: '▁범죄자', 6659: '▁흉내', 6660: '점주기도', 6661: '▁뉴', 6662: '구려', 6663: '▁프랑스영화', 6664: 'ne', 6665: '바로', 6666: '깁', 6667: '캡', 6668: '됫', 6669: '▁아마추어', 6670: '렛', 6671: '▁펼쳐', 6672: '▁김수현', 6673: '▁닥치고', 6674: '▁한효주', 6675: '▁바탕으로', 6676: '▁혁명', 6677: '▁보지마셈', 6678: '▁엽기', 6679: '▁섬세하', 6680: '▁난해한', 6681: '▁직업', 6682: '▁억지스럽고', 6683: '▁오래전에', 6684: '▁말씀', 6685: '▁충분하다', 6686: '▁보여줄', 6687: '▁모욕', 6688: '▁다른영화', 6689: '해야하나', 6690: '탓', 6691: '▁옛날영화', 6692: '걸린', 6693: '▁장난하나', 6694: '▁만들다', 6695: '▁아니잖아', 6696: '였구나', 6697: 'tv', 6698: '어떤', 6699: '▁역사상', 6700: '▁믿음', 6701: '▁사회적', 6702: '▁미녀', 6703: '▁산만하고', 6704: 'ic', 6705: '▁사랑스럽고', 6706: '각본', 6707: '▁당장', 6708: '▁학생', 6709: '▁우선', 6710: '▁받았다', 6711: '▁잼있네요', 6712: '▁충격적인', 6713: '▁모르겠네', 6714: '이었어요', 6715: '▁자고', 6716: '스틴', 6717: '▁뭐여', 6718: '▁단점', 6719: '▁위트', 6720: '▁오글거리는', 6721: '▁불과', 6722: '▁준비', 6723: '▁질질끌', 6724: '▁들게', 6725: '▁당황', 6726: '▁이야', 6727: '▁듣기', 6728: '▁철학적', 6729: '▁그런거', 6730: '지않게', 6731: '▁스릴러물', 6732: '▁살아있는', 6733: '▁보아도', 6734: '▁비교해', 6735: '인들의', 6736: '▁재미없네요', 6737: '!!!!!!!!', 6738: '버스', 6739: '▁세상에서', 6740: '부르', 6741: '▁욕먹', 6742: '▁선동', 6743: '싶은데', 6744: '▁긴장감을', 6745: '▁노인', 6746: '둑', 6747: '▁미소가', 6748: '▁빕니다', 6749: '덧', 6750: '▁섬세한', 6751: '▁강동원', 6752: '▁Good', 6753: '▁섬뜩', 6754: '수밖에', 6755: '▁픽사', 6756: '▁풀어낸', 6757: '되길', 6758: '▁감동적이에요', 6759: '▁좋으나', 6760: '▁못했', 6761: '알고', 6762: '▁승부', 6763: '▁로망', 6764: '본거', 6765: '▁뻔한스토리', 6766: '▁늙어', 6767: '▁울었어요', 6768: '▁보는것', 6769: '▁못하겠다', 6770: '▁가야', 6771: '살때', 6772: '▁조낸', 6773: '▁흥분', 6774: '얼마나', 6775: '떼', 6776: '▁조금만', 6777: '댓글', 6778: '▁보고있는데', 6779: 'ost', 6780: '샘', 6781: '줍니다', 6782: '병맛', 6783: '▁사람에게', 6784: '있었는데', 6785: '▁멋져', 6786: '▁고마', 6787: 'ce', 6788: '속으로', 6789: '형사', 6790: '▁movie', 6791: '▁팬들', 6792: '▁만들어라', 6793: '판에', 6794: '영활', 6795: '하더니', 6796: '자꾸', 6797: '▁올라가', 6798: '▁좋아하지만', 6799: '▁왔습니다', 6800: '▁낮은지', 6801: '▁하다니', 6802: '투성이', 6803: '▁끝을', 6804: '▁어쩌다', 6805: '▁연기잘하', 6806: '▁심하다', 6807: '▁대부', 6808: '믿고', 6809: '그저', 6810: '우드', 6811: '▁똑같이', 6812: '▁나머지는', 6813: '▁뻔하다', 6814: '▁느껴지지', 6815: '하는듯', 6816: '▁이것보다', 6817: '아까운영화', 6818: '재밋다', 6819: '▁잘생겼', 6820: '▁하하', 6821: '▁알리', 6822: '야말로', 6823: '▁후하게', 6824: '닮', 6825: '▁아무튼', 6826: '그대로', 6827: '▁실사', 6828: '▁미쳐', 6829: '싹', 6830: '▁하드', 6831: 'ᅩ', 6832: '▁캐릭', 6833: '돌려', 6834: '쏴', 6835: '퀸', 6836: '펜', 6837: '▁엔딩크레딧', 6838: '▁유치찬란', 6839: '▁마찬가지', 6840: '솜', 6841: '오랫동안', 6842: '▁클래식', 6843: '▁납득', 6844: '▁원숭이', 6845: '어울림', 6846: '생겨서', 6847: '▁떡밥', 6848: '▁두고두고', 6849: '▁ᄌᄂ', 6850: '▁그럴싸', 6851: '▁레옹', 6852: '▁극혐', 6853: '▁민족', 6854: '행위', 6855: '▁쉬운', 6856: '▁방향', 6857: '▁시험', 6858: '▁모자라', 6859: '▁중년', 6860: '재밌고', 6861: '긴했지만', 6862: '▁고문', 6863: '▁한심하다', 6864: '판을', 6865: '▁매번', 6866: '▁했을까', 6867: '▁비록', 6868: '▁당신의', 6869: '▁남아있', 6870: '제일', 6871: '폴', 6872: '보러', 6873: '로맨스', 6874: '뒤에', 6875: '거보고', 6876: '▁망쳐놓', 6877: '좀비', 6878: 'il', 6879: '▁우린', 6880: '▁나열', 6881: '저런', 6882: '▁아까워서', 6883: '▁화질', 6884: '▁몬', 6885: '▁부자', 6886: '점이나', 6887: '▁주려', 6888: '▁안나오는', 6889: '▁예술이', 6890: '▁무섭게', 6891: '▁소유', 6892: '▁귀여웠', 6893: '버린다', 6894: '▁쿨', 6895: '▁아이유', 6896: '▁행복하게', 6897: '▁나음', 6898: '그런데', 6899: '▁무서움', 6900: '▁현실은', 6901: '뻔함', 6902: '진행', 6903: '▁관심이', 6904: '없었', 6905: '▁티비로', 6906: '▁세월이', 6907: '▁한가지', 6908: '▁잔인함', 6909: '▁천사', 6910: 'sh', 6911: '났음', 6912: '▁넘어서', 6913: 'is', 6914: '▁is', 6915: '^^;', 6916: '▁이해도', 6917: '누님', 6918: '나올때', 6919: '소년', 6920: '▁장진', 6921: '것인지', 6922: '어쩌', 6923: '▁남는게', 6924: '실화', 6925: '▁웃었다', 6926: '륜', 6927: '간만에', 6928: '현실적', 6929: '낯', 6930: '멈', 6931: '봣어요', 6932: '숀', 6933: '▁즐거움', 6934: '왈', 6935: '츄', 6936: '팽', 6937: '핫', 6938: '뜸', 6939: '▁감성팔이', 6940: '드려요', 6941: '▁온갖', 6942: '▁자연스럽게', 6943: '▁영화라서', 6944: '▁4.44', 6945: '▁잔잔함', 6946: '▁돌아보게', 6947: '즐겁', 6948: '페이스', 6949: '▁인생영화', 6950: '▁맞다', 6951: '▁예수', 6952: '▁될수', 6953: '▁재앙', 6954: '▁아쉬워요', 6955: '명성에', 6956: '▁세계관', 6957: '▁권력', 6958: '▁개꿀잼', 6959: '▁의도는', 6960: '분짜리', 6961: '▁괜찮았던', 6962: '▁지옥', 6963: '만족', 6964: '방에서', 6965: '죽이고', 6966: '▁재방', 6967: '▁이만한', 6968: '▁싶습니다', 6969: '▁영화라지만', 6970: '낭비', 6971: '덕분에', 6972: '내려', 6973: '결혼', 6974: '▁보게되는', 6975: '▁언어', 6976: '▁조잡한', 6977: '▁마냥', 6978: '▁눈으로', 6979: '▁커서', 6980: '보지마라', 6981: '▁만들어졌', 6982: '줘요', 6983: '▁진부하', 6984: '▁스파이더맨', 6985: '▁이거보단', 6986: '달라고', 6987: '▁엘리', 6988: '충격', 6989: '▁학생들', 6990: '▁생각만', 6991: '로서는', 6992: '▁믿어', 6993: '하더라도', 6994: '하길래', 6995: '▁구성도', 6996: '▁삐', 6997: '▁깜', 6998: '▁가르', 6999: '싶네요', 7000: '국민', 7001: '▁일반인', 7002: '▁찾기', 7003: '▁끝날', 7004: '될까', 7005: '스턴', 7006: '▁원작과', 7007: '▁캐리', 7008: '▁살아남', 7009: '하러', 7010: '▁또보고', 7011: '▁완성', 7012: '▁짤', 7013: '지않는다', 7014: '결말이', 7015: '▁배우분들', 7016: '▁별거', 7017: 'us', 7018: '삼류', 7019: '▁남기는', 7020: '▁챙겨보', 7021: '치기', 7022: '▁아니라면', 7023: '감명깊', 7024: '렴', 7025: '띠', 7026: '▁안타까움', 7027: '☆', 7028: '잣', 7029: '짙', 7030: '▁김혜수', 7031: '▁머릿속', 7032: '▁피아노', 7033: '▁니콜라스', 7034: '▁상큼', 7035: '▁치밀하', 7036: '▁로맨틱코미디', 7037: '▁파격적', 7038: '답다', 7039: '▁방황', 7040: '▁에라이', 7041: '▁자랑', 7042: '▁짱이다', 7043: '▁태국', 7044: '▁후반부에', 7045: '▁느껴질', 7046: '졌음', 7047: 'ᄀᄀ', 7048: '▁많네', 7049: '보던', 7050: '▁제작비가', 7051: '▁전기', 7052: '▁들어서', 7053: '리스트', 7054: '▁하기엔', 7055: '▁기발한', 7056: '▁한동안', 7057: '▁괜찮네요', 7058: '▁영화보다가', 7059: '▁마시', 7060: '잼씀', 7061: '▁느껴졌다', 7062: '▁오그라들', 7063: '▁채워', 7064: '▁재밋는', 7065: '쩝', 7066: '멀', 7067: '애니메이션', 7068: '▁재밋엇', 7069: '▁나왔던', 7070: '왠', 7071: '▁못봐주겠', 7072: '▁신고', 7073: '▁필요한가', 7074: '바닥', 7075: '마저도', 7076: '구역', 7077: '▁외국인', 7078: '▁웃겼다', 7079: '▁있었음', 7080: '▁느끼고', 7081: '주었다', 7082: '할수없는', 7083: '피디', 7084: '검사', 7085: '빠짐', 7086: '수작', 7087: '싫다', 7088: '▁뛰어넘', 7089: '▁신화', 7090: '▁짱구', 7091: 'ch', 7092: '하하', 7093: '▁잼있는', 7094: '▁평을', 7095: '▁발음', 7096: '▁없던', 7097: '▁짜증났', 7098: '지마세요', 7099: 'he', 7100: '떨어지', 7101: '더라고요', 7102: '▁알려주는', 7103: '▁바닥', 7104: '▁나오기', 7105: '놈은', 7106: '▁낚인', 7107: '▁두명', 7108: '▁실망이다', 7109: '▁눈치', 7110: '제국', 7111: '▁관객이', 7112: '호러', 7113: '분정도', 7114: '▁알아야', 7115: '부리', 7116: '누구', 7117: '끝나고', 7118: '좋은데', 7119: '▁킬링', 7120: '랏', 7121: '팝', 7122: '▁뒤늦게', 7123: '▁어정쩡', 7124: '꽁', 7125: '뻑', 7126: '쭈', 7127: '▁애초에', 7128: '▁데이빗', 7129: '▁오그라드는', 7130: '▁바란다', 7131: '▁전성기', 7132: '▁멋짐', 7133: '▁자연스러운', 7134: 'vs', 7135: '동화', 7136: '흑흑', 7137: '▁무엇이', 7138: '좋겠', 7139: '▁프레', 7140: '▁봐주', 7141: '▁감동적입니다', 7142: '▁고증', 7143: '▁니가', 7144: '만원', 7145: '▁처음본다', 7146: 'la', 7147: '▁웃음을', 7148: '▁의미있는', 7149: '팬이', 7150: '학년때', 7151: '▁보고싶은데', 7152: '보려', 7153: '▁도와', 7154: '▁또라이', 7155: '▁안나옴', 7156: 'ha', 7157: '릴때', 7158: '학원', 7159: '▁담고', 7160: 'id', 7161: '▁공주', 7162: '▁모든것이', 7163: '예쁘', 7164: '▁화끈한', 7165: '▁역작', 7166: '▁밋밋한', 7167: '하였다', 7168: '▁예고', 7169: '치면', 7170: '올려', 7171: '▁막상', 7172: '▁빠져들게', 7173: '것들이', 7174: '▁답답해', 7175: '재밋음', 7176: '▁부족하고', 7177: '▁안되네', 7178: '▁본격', 7179: '깐', 7180: '거든', 7181: '레드', 7182: '했어도', 7183: '안되고', 7184: 'im', 7185: '억지스럽', 7186: '▁글고', 7187: '할려고', 7188: '▁전율', 7189: '▁잠들', 7190: '하지않고', 7191: '▁폼', 7192: '▁열라', 7193: '▁무협영화', 7194: '▁니들이', 7195: '보려고', 7196: '올린', 7197: '▁제목에', 7198: '▁대박이다', 7199: '▁독립', 7200: '▁아무나', 7201: '▁허허', 7202: '뎀', 7203: '쩍', 7204: '▁고등학생', 7205: '▁런닝타임', 7206: '▁엄정화', 7207: '▁크레딧', 7208: '뚫', 7209: '좆', 7210: '▁세련된', 7211: '▁짬뽕', 7212: '▁한석규', 7213: '▁스페인', 7214: '아카데미', 7215: '▁완젼', 7216: '▁늙은', 7217: '▁닮았', 7218: '▁찬양', 7219: '프라', 7220: '▁억지스런', 7221: '▁사이코', 7222: '▁먹칠', 7223: '▁부인', 7224: '▁환장', 7225: '▁여기에', 7226: '▁빠질', 7227: '▁불쌍해', 7228: '▁복선', 7229: '▁재밌었습니다', 7230: '▁채우', 7231: '▁정리', 7232: '어른', 7233: '▁멋있고', 7234: '▁느낀다', 7235: '▁봐줄만', 7236: '남주', 7237: '▁최고에요', 7238: '▁당연한', 7239: 'ter', 7240: '▁받아야', 7241: '▁주온', 7242: '▁절대로', 7243: '▁모방', 7244: '▁있겠지만', 7245: '두번', 7246: '▁성인이', 7247: '▁않습니다', 7248: '▁한사람', 7249: '▁웃겨서', 7250: '▁얘기를', 7251: '▁오해', 7252: '첫', 7253: '옛날', 7254: '▁제대로된', 7255: '▁다가오', 7256: '초딩', 7257: '▁의해', 7258: '철학', 7259: '▁편하게', 7260: '폭력', 7261: '에휴', 7262: '▁못만들', 7263: '▁최고최고', 7264: '하든', 7265: '▁낮네요', 7266: '▁정체성', 7267: '▁영상은', 7268: '▁니네', 7269: '▁안보면', 7270: '▁힘들어', 7271: '▁미스테리', 7272: '내리', 7273: '▁현실적이고', 7274: '▁본능', 7275: '▁무식', 7276: '▁커버', 7277: '▁감독에게', 7278: '▁높이', 7279: '▁17', 7280: '▁상업영화', 7281: '▁꿈과', 7282: '▁아까웠', 7283: '할정도로', 7284: '▁높지', 7285: '▁그이상', 7286: '▁안가는', 7287: '작가님', 7288: '▁역사적', 7289: '▁추가', 7290: '구먼', 7291: '어설프', 7292: '하기에는', 7293: '랍', 7294: '▁일깨워', 7295: '냄', 7296: '마음이', 7297: '▁제작자', 7298: '****', 7299: 'ᄐ', 7300: '▁애니매이션', 7301: '믄', 7302: '썰', 7303: '▁포켓몬', 7304: '▁호불호가', 7305: '뜯', 7306: '▁그냥저냥', 7307: '▁설경구', 7308: '▁나루토', 7309: '▁원피스', 7310: '▁드니로', 7311: '▁후속편', 7312: '▁브레', 7313: '▁귀찮', 7314: '▁호흡', 7315: '어지럽', 7316: '▁가슴아프', 7317: '▁흘렸', 7318: '▁안감', 7319: '차원', 7320: '▁생존', 7321: '▁간직', 7322: '▁시골', 7323: '▁얻어', 7324: '▁개인적인', 7325: '▁초반엔', 7326: '됬다', 7327: '▁시청자들', 7328: '▁거짓', 7329: '▁심장이', 7330: '▁두개', 7331: '▁되었습니다', 7332: '▁가족과', 7333: '▁감정선', 7334: '▁마블', 7335: '것같음', 7336: '▁성형', 7337: '크리', 7338: '▁극본', 7339: '▁이런식으로', 7340: '▁스포', 7341: '▁미학', 7342: '▁시체', 7343: '▁기대된다', 7344: '져야', 7345: '▁멜로영화', 7346: '▁않아요', 7347: '높아', 7348: '??????', 7349: '회부터', 7350: '▁쓰러', 7351: '▁물어', 7352: '▁갖게', 7353: '▁바라는', 7354: '같은데', 7355: '조아', 7356: '옷', 7357: '▁16', 7358: '▁재수없', 7359: '▁점에서', 7360: '촬영', 7361: '갑자기', 7362: '암튼', 7363: '▁기대했던', 7364: '보지마세요', 7365: '▁상처를', 7366: '▁만들었으면', 7367: '해가는', 7368: '▁내취향', 7369: '▁진부하다', 7370: '좋아하는데', 7371: '끝내', 7372: '눈물이', 7373: '▁첨으로', 7374: '보길', 7375: '아직', 7376: '아닌데', 7377: '▁남아있는', 7378: '▁과정이', 7379: '있었던', 7380: '▁흔하', 7381: '남긴다', 7382: '▁해외', 7383: 'ver', 7384: '됬는데', 7385: '볼때', 7386: '▁즐겨', 7387: '졌으면', 7388: '▁정부', 7389: '점주고', 7390: '▁나오네요', 7391: 'ᅲᅲᅲᅲᅲ', 7392: '바른', 7393: '▁주인공들이', 7394: '들끼리', 7395: '룬', 7396: '하려면', 7397: '▁아이를', 7398: '댓', 7399: '콤', 7400: '봇', 7401: '랍니다', 7402: 'Y', 7403: 'ᄊ', 7404: '▁듭니다', 7405: '▁박찬욱', 7406: '▁아이언맨', 7407: '▁에드워드', 7408: '▁영웅본색', 7409: '▁테이큰', 7410: '쇄', 7411: '숲', 7412: '턱', 7413: '▁2.22', 7414: '▁팝콘', 7415: '▁정주행', 7416: '▁김희선', 7417: '▁어딘가', 7418: '▁흥미롭게', 7419: '▁수면제', 7420: '▁이하도', 7421: '▁슈퍼맨', 7422: '▁공룡', 7423: '▁새삼', 7424: '보고싶은', 7425: '▁경악', 7426: '▁반갑', 7427: '▁취향이', 7428: '▁멋져요', 7429: '▁액션물', 7430: '▁긴장감과', 7431: '▁히어로물', 7432: '▁거기서', 7433: '▁동화같은', 7434: '▁심각하게', 7435: '▁감동적이었다', 7436: '▁게스트', 7437: '▁출연자', 7438: '시키지', 7439: '▁광기', 7440: '▁귀여워서', 7441: '▁회상', 7442: '▁웃기기', 7443: '▁강추합니다', 7444: '있다면', 7445: '▁좋더라', 7446: '▁만들었냐', 7447: '▁러닝타임이', 7448: '▁않으면', 7449: '▁흉내내', 7450: '주고싶은', 7451: '뭔지', 7452: '▁있어보이', 7453: '▁어린아이', 7454: '▁봐야한다', 7455: '▁가능성', 7456: '▁전율이', 7457: '▁피식', 7458: '▁대역', 7459: '▁몰입하게', 7460: '▁허구', 7461: '▁포함', 7462: '▁편인데', 7463: '나봐요', 7464: '앞에', 7465: '그녀', 7466: '한국영화', 7467: '▁우리에게', 7468: '분들께', 7469: '스러웠다', 7470: '▁연주', 7471: '▁걸작이다', 7472: '깜', 7473: '무서운', 7474: '탐', 7475: '오랜만에', 7476: '잇엇', 7477: '▁안봐서', 7478: '전체', 7479: '▁머냐', 7480: '▁거기', 7481: ':)', 7482: '었을텐데', 7483: '▁머야', 7484: '▁일본에서', 7485: '▁다름', 7486: '▁믿는', 7487: '공부', 7488: '▁만들어야', 7489: '입장', 7490: '레기', 7491: '▁못했던', 7492: '남기', 7493: '▁무기', 7494: '웃긴', 7495: '▁이딴게', 7496: '▁적절', 7497: '▁싶다면', 7498: '▁망쳐', 7499: '순수', 7500: '▁오랜', 7501: '같애', 7502: '말도안되', 7503: '때문', 7504: '70', 7505: '▁재밋어', 7506: '밍', 7507: '룸', 7508: '릅', 7509: '잘못', 7510: '▁송승헌', 7511: '▁점수준것들', 7512: '늬', 7513: '▁군더더기', 7514: '즉', 7515: '▁손예진', 7516: '▁어차피', 7517: '넷', 7518: '▁권상우', 7519: '보기엔', 7520: '▁오페라', 7521: '▁외로움', 7522: '▁흠잡을', 7523: '▁왕가위', 7524: '▁보낸다', 7525: '점준것중', 7526: '▁심리묘사', 7527: '▁엠마', 7528: '▁어설프게', 7529: '▁반감', 7530: '▁색채', 7531: '땜시', 7532: '미치', 7533: '▁웃으며', 7534: '▁재탕', 7535: '▁반응', 7536: '▁의한', 7537: '▁아깝습니다', 7538: '▁웃다가', 7539: '▁상식', 7540: '▁힘들었다', 7541: 'op', 7542: '▁느껴졌', 7543: '▁뜬금없', 7544: '낫다', 7545: '▁결국엔', 7546: '▁기발', 7547: '드리고', 7548: '년간', 7549: '▁레오', 7550: '▁이딴거', 7551: '▁말았다', 7552: '▁공연', 7553: '하겠지만', 7554: '▁자세', 7555: '▁인연', 7556: '▁여유', 7557: '▁경우', 7558: '장님', 7559: '▁지금보면', 7560: '▁허나', 7561: '▁검색해', 7562: '▁전라도', 7563: '▁십점', 7564: '▁자위', 7565: '삐', 7566: '▁매주', 7567: '▁보이고', 7568: '더럽게', 7569: '죽여', 7570: '킬링타임', 7571: 'ie', 7572: '볼때마다', 7573: '▁최고인듯', 7574: '▁나올까', 7575: '많고', 7576: '학대', 7577: '많은것을', 7578: '▁다시봤는데', 7579: '평생', 7580: '▁허접하고', 7581: '▁인식', 7582: '엇음', 7583: '같네요', 7584: '▁이어지는', 7585: '▁싫은', 7586: '▁필요하다', 7587: '지루한', 7588: '▁장점', 7589: '줄거리', 7590: '▁안봄', 7591: '▁본듯한', 7592: '듣고', 7593: '좋겠다', 7594: '▁명작임', 7595: '겠고', 7596: '버그', 7597: '괜', 7598: '밋', 7599: 'ri', 7600: 'el', 7601: '▁가볍지', 7602: '▁스필버그', 7603: '넓', 7604: '▁예뻐서', 7605: '▁깨달음', 7606: '▁엉뚱', 7607: '▁멘탈', 7608: '▁픽션', 7609: '▁나머진', 7610: '▁아바타', 7611: '▁컬트', 7612: '▁가까이', 7613: '▁택시', 7614: '▁절묘', 7615: '><', 7616: '▁2015', 7617: '▁낮추', 7618: '않았다', 7619: '▁과장된', 7620: '할게요', 7621: '▁치료', 7622: '▁대사와', 7623: '줄알고', 7624: '▁음향', 7625: '▁소품', 7626: '▁찍지', 7627: '▁번역', 7628: '▁남긴', 7629: '별점', 7630: '▁모순', 7631: '▁기억난다', 7632: '▁향한', 7633: '▁우승', 7634: '▁못따라', 7635: '▁경계', 7636: '▁일찍', 7637: '▁내시간', 7638: '▁싶었는데', 7639: '▁-_-;;', 7640: '▁로마', 7641: '▁알바생', 7642: '▁면이', 7643: '▁불쌍해서', 7644: '▁오직', 7645: '▁벌어', 7646: '테니', 7647: '한텐', 7648: '▁재밋고', 7649: '▁애정', 7650: '▁정석', 7651: '겠는가', 7652: '▁괜찮을', 7653: '모델', 7654: '큼', 7655: '.,.,', 7656: '만든영화', 7657: '▁외면', 7658: '▁밝혀', 7659: '입니까', 7660: '▁청년', 7661: '마무리', 7662: '무서움', 7663: '그래픽', 7664: '▁스릴감', 7665: '▁성적', 7666: '▁후반부로', 7667: '▁풀어내', 7668: '▁알려주', 7669: '▁동감', 7670: '▁토니', 7671: '▁우울한', 7672: '모르겠다', 7673: '▁비해서', 7674: '▁영상미와', 7675: '민호', 7676: '천재', 7677: '▁흥미진진한', 7678: '▁없으니', 7679: '멋진', 7680: '집에서', 7681: 'av', 7682: '▁메세지를', 7683: '였네', 7684: '▁어울리', 7685: '▁최악임', 7686: '되네', 7687: '원주고', 7688: '나이트', 7689: '▁전설이', 7690: '신부', 7691: '▁시대적', 7692: '▁잼없다', 7693: '▁바라보는', 7694: '그림', 7695: '팬이라', 7696: '▁와닿지', 7697: '▁본방', 7698: '졋', 7699: '▁겨울왕국', 7700: '▁구혜선', 7701: '▁도라에몽', 7702: '▁봤는지', 7703: '▁소피마르소', 7704: '▁학창시절', 7705: '삘', 7706: '쇠', 7707: '▁싸이코패스', 7708: '▁엉망진창', 7709: '썬', 7710: '▁간간히', 7711: '▁다이하드', 7712: '▁김명민', 7713: '▁최민수', 7714: '▁지저분', 7715: '▁영향을', 7716: '▁실상', 7717: '▁머리속', 7718: '▁저평가', 7719: '▁욕나온다', 7720: '2005', 7721: '▁열광', 7722: '▁커피', 7723: '▁국산', 7724: '▁흥미롭지', 7725: '▁의견', 7726: '떨어지는', 7727: '▁공허', 7728: '▁냉정', 7729: '보니깐', 7730: '▁감동적임', 7731: '설명', 7732: '▁좋아하지', 7733: '원래', 7734: '▁식상하다', 7735: '▁인간적으로', 7736: '▁처음이네', 7737: '▁있었습니다', 7738: '▁이은주', 7739: '▁자체로', 7740: '▁끝남', 7741: '▁어디까지', 7742: '▁에로물', 7743: '했었다', 7744: '▁좋아했던', 7745: '▁아닌것', 7746: '▁이따위로', 7747: '▁만든건지', 7748: '▁법정', 7749: '▁빈약한', 7750: '하는것도', 7751: '▁go', 7752: '18', 7753: '▁약하다', 7754: '▁훈훈하고', 7755: '궁금해', 7756: '▁손색이', 7757: '웠던', 7758: '▁화가나', 7759: '▁천만', 7760: '무서워', 7761: '선생님', 7762: '아름다운', 7763: '▁의도를', 7764: '▁중국영화', 7765: '그때', 7766: '위주', 7767: '거같네요', 7768: '▁형식', 7769: '질러', 7770: '감상', 7771: '▁이것은', 7772: '▁미안해', 7773: '노출', 7774: '엉성', 7775: '▁감동받', 7776: '▁가져다', 7777: '대체', 7778: '▁OOOO', 7779: '▁감동입니다', 7780: '▁날리', 7781: '없었다', 7782: '▁보게되었', 7783: '걸작', 7784: '▁등장하는', 7785: '▁알게된', 7786: '▁중학교', 7787: '▁기사', 7788: '▁산만하', 7789: '▁이런것도', 7790: '드릴', 7791: '인상깊었', 7792: '긍', 7793: '킥', 7794: '헨', 7795: '맴', 7796: '꾹', 7797: '▁숨막히', 7798: '▁안타까웠', 7799: '▁어쨌든', 7800: '떳', 7801: '▁국어책', 7802: '▁웬만하면', 7803: '스러울', 7804: '▁콜린', 7805: '▁틀림없', 7806: '▁심오한', 7807: '밑에', 7808: 'very', 7809: '▁강아지', 7810: '▁관람객', 7811: '▁기다렸', 7812: '▁람보', 7813: '▁미친듯이', 7814: '▁문득', 7815: '▁패션', 7816: '장군', 7817: '-.-', 7818: '▁재방송', 7819: '▁살인자', 7820: '▁출발', 7821: '▁여태까지', 7822: '▁중반부터', 7823: '▁뭐랄까', 7824: '▁지루했음', 7825: '▁이기적인', 7826: '▁적극', 7827: '▁뉴스', 7828: '▁미술', 7829: '▁신경쓰', 7830: '▁보는동안', 7831: '▁향기', 7832: '▁없애', 7833: '▁고작', 7834: '▁배울', 7835: '▁네이버평점', 7836: '▁믿을게', 7837: '좋아서', 7838: '영씨', 7839: '▁야하지도', 7840: '쪽으로', 7841: '▁괴수', 7842: '왔습니다', 7843: '▁끄는', 7844: '척하는', 7845: '▁개소리', 7846: '넘치는', 7847: '▁걸리', 7848: '▁장소', 7849: '편부터', 7850: '▁데려다', 7851: '▁죽일', 7852: '▁아련한', 7853: '혀서', 7854: '재미없는', 7855: '▁이어지', 7856: '썩', 7857: '▁흐르', 7858: '▁통해서', 7859: '것도아니고', 7860: '잘봤습니다', 7861: '액', 7862: '쿨', 7863: '▁만들었네', 7864: 'ᄉᄇ', 7865: '네이버', 7866: '힘든', 7867: 'ma', 7868: '▁마법', 7869: '중간에', 7870: '시티', 7871: '▁잘했다', 7872: '것들은', 7873: '성룡', 7874: '▁베일', 7875: '재밋어요', 7876: '없어요', 7877: '▁지금이나', 7878: '하죠', 7879: '▁죽는다', 7880: '끝날때까지', 7881: '▁역겹', 7882: '하나하나', 7883: '▁지워', 7884: 'ᄍᄍᄍ', 7885: 'ᄒᄒᄒᄒ', 7886: '▁깨닫', 7887: '▁태어나', 7888: '▁호감', 7889: '롯', 7890: '앵', 7891: '읍', 7892: '흉', 7893: '뚜', 7894: '▁엑스맨', 7895: '▁트랜스포머', 7896: '겸', 7897: '묶', 7898: '훗', 7899: '▁힙합', 7900: '끓', 7901: '캠', 7902: '▁김민종', 7903: '▁멈추', 7904: '▁박평식', 7905: '▁농담', 7906: '▁전지현', 7907: '▁갖춘', 7908: '▁증명', 7909: '파이팅', 7910: '▁사라진', 7911: '▁말이필요없다', 7912: '▁첫번째', 7913: '▁안성기', 7914: '▁중후반', 7915: '▁시간아까워', 7916: '▁애국심', 7917: '▁빨간', 7918: '▁허탈', 7919: '▁아침드라마', 7920: '▁러브스토리', 7921: '▁모독', 7922: '▁피곤', 7923: '▁환상적인', 7924: '▁부각', 7925: '▁터지는', 7926: '▁적당하다', 7927: '▁재미없었음', 7928: '▁이따구로', 7929: '▁데뷔작', 7930: '▁더욱더', 7931: '▁198', 7932: '▁소중하', 7933: '▁찍으', 7934: '▁자격', 7935: '▁굉장한', 7936: '사장', 7937: '▁가관', 7938: '▁정통', 7939: '봤을땐', 7940: '작전', 7941: '▁조악', 7942: '▁보고싶네요', 7943: '할정도', 7944: '▁내놓', 7945: '▁들여', 7946: '▁많음', 7947: '▁명작이라고', 7948: '▁모여', 7949: '▁좋구', 7950: '▁없을까', 7951: '▁돌아오', 7952: '▁본적이', 7953: '사극', 7954: '주관적', 7955: 'H', 7956: '특유의', 7957: '한마디로', 7958: '유쾌', 7959: '▁이영화보고', 7960: '했더니', 7961: '▁되어야', 7962: '▁못하네', 7963: '▁가상', 7964: '60', 7965: '억울', 7966: '▁대학생', 7967: '웠음', 7968: '년동안', 7969: '▁통쾌한', 7970: '▁나올수', 7971: '▁불쾌한', 7972: '있을까', 7973: '설마', 7974: '으세요', 7975: '재미있음', 7976: '▁보는사람', 7977: '▁인도영화', 7978: '즌', 7979: '▁운동', 7980: '싼', 7981: '▁떠오르는', 7982: 'http', 7983: '드래곤', 7984: '^_^', 7985: '▁신데렐라', 7986: '▁톰크루즈', 7987: '▁흐지부지', 7988: '뎁', 7989: '뎌', 7990: '줫', 7991: '펠', 7992: '▁이탈리아', 7993: '▁정확히', 7994: '헝', 7995: '▁더더욱', 7996: '▁사무라이', 7997: '▁오우삼', 7998: '찜찜', 7999: '▁신세경', 8000: '그나저나', 8001: '▁어떠한', 8002: '▁장동건', 8003: '▁드래곤볼', 8004: '▁엽문', 8005: '꼬맹이', 8006: '▁다니엘', 8007: '▁모자란', 8008: '▁도움이', 8009: '▁흑역사', 8010: '▁색다르', 8011: '▁스킵', 8012: '▁아쉬웠지만', 8013: '▁색깔', 8014: '▁전도연', 8015: '▁깜놀', 8016: '▁학살', 8017: '안쓰는데', 8018: '밖엔', 8019: '▁이민기', 8020: '▁에릭', 8021: '▁몰락', 8022: '▁꺼져', 8023: '▁신세계', 8024: '▁지브리', 8025: '▁복수극', 8026: '▁쏘우', 8027: '▁태양', 8028: '▁가라', 8029: '안좋', 8030: '▁99', 8031: '▁좋아하시는', 8032: '▁백배', 8033: '갈수', 8034: '▁남친', 8035: '수가없다', 8036: '▁제왕', 8037: '▁초반부터', 8038: '▁틀어주', 8039: '▁남기고', 8040: '▁의미없는', 8041: '▁울림', 8042: '▁임신', 8043: '▁소소하', 8044: '▁잼나요', 8045: '주의자', 8046: '직원', 8047: '▁성경', 8048: '닼', 8049: '이라는게', 8050: '▁모아', 8051: '▁빠지게', 8052: '타령', 8053: '▁변신', 8054: '▁추천한다', 8055: '▁최하', 8056: '▁그시절', 8057: '다시보고싶', 8058: '자매', 8059: '▁슬펐다', 8060: '▁명작이네요', 8061: '▁특이한', 8062: '▁퇴보', 8063: '▁생각나게', 8064: '필드', 8065: '자막', 8066: '비행', 8067: '▁재밌게봤는데', 8068: '▁장난감', 8069: '▁만날', 8070: '▁따뜻함', 8071: '키우', 8072: '볼려고', 8073: '하잖아', 8074: '취향', 8075: '▁낚였네', 8076: '▁남자배우', 8077: '퇴', 8078: '쫌', 8079: '본영화중에', 8080: '필름', 8081: '▁아름다웠', 8082: '▁공포감', 8083: '▁잔인하고', 8084: '▁다시보게', 8085: '▁비교하면', 8086: '졌어요', 8087: 'ᄒᄒᄒᄒᄒ', 8088: '▁공감대', 8089: '▁만세', 8090: '▁높네', 8091: '섯', 8092: '딜', 8093: '중딩', 8094: '믹', 8095: '끗', 8096: '깡', 8097: '▁인상깊게', 8098: '겄', 8099: '딕', 8100: '탠', 8101: '▁매끄럽지', 8102: '▁미장센', 8103: '▁엉터리', 8104: '▁키아누', 8105: '뼈', 8106: '펴', 8107: '▁어설퍼', 8108: '▁황정민', 8109: '▁최민식', 8110: '습니당', 8111: '▁윌리스', 8112: '▁ᄇᄉ', 8113: '▁함부로', 8114: '▁완죤', 8115: '▁일어날', 8116: '▁2003', 8117: '▁이정재', 8118: '▁8.5', 8119: '▁보여줌', 8120: '://', 8121: '▁낚여서', 8122: '헌터', 8123: '▁극찬', 8124: '십니다', 8125: '▁마틴', 8126: '몇번', 8127: '▁실패작', 8128: '▁드문', 8129: '▁노튼', 8130: '▁오글거려서', 8131: '점도아깝다', 8132: '▁끝난다', 8133: '탁월한', 8134: '▁영광', 8135: '▁질문', 8136: '▁존잼', 8137: '▁잔잔하지만', 8138: '▁집단', 8139: '▁유령', 8140: '와이프', 8141: '▁돈아깝다', 8142: '▁사람마다', 8143: '▁카피', 8144: '▁한번씩', 8145: '▁히트', 8146: '▁단역', 8147: '▁무슨말이', 8148: '▁드물', 8149: '▁늙었', 8150: '엿다', 8151: '볼꺼', 8152: '하루', 8153: '▁보러갔', 8154: '연애', 8155: '▁유치하기', 8156: '▁담아', 8157: '▁아름다웠다', 8158: '할텐데', 8159: '▁또봐도', 8160: '얘', 8161: '감성', 8162: '▁말아먹은', 8163: '대장', 8164: '가아니라', 8165: '▁날려', 8166: '바탕', 8167: '▁생각했던', 8168: '하시네요', 8169: '▁혼자서', 8170: '▁결말까지', 8171: '점만점', 8172: '▁깔끔', 8173: '귀여워', 8174: '▁다음편', 8175: '개연성', 8176: '그렇지', 8177: '히어로', 8178: '페이지', 8179: '▁이해되', 8180: 'cg', 8181: '▁밀어', 8182: '▁재밌게본', 8183: '▁조폭영화', 8184: '▁강하게', 8185: '영웅', 8186: '인것같다', 8187: '▁허무함', 8188: '▁진정성', 8189: '씩이나', 8190: '유머', 8191: 'ᄃᄃᄃᄃ', 8192: '나보네', 8193: '▁미스터', 8194: '남편', 8195: '지르는', 8196: '퉁', 8197: '뱅', 8198: '밉', 8199: '펼', 8200: '▁윌리엄', 8201: '뉘', 8202: '▁과대평가', 8203: '쉣', 8204: '썻', 8205: '앜', 8206: '윽', 8207: '▁가슴아픈', 8208: '▁차태현', 8209: '밨', 8210: '벙', 8211: '▁존스', 8212: '▁정당화', 8213: '▁징징', 8214: '▁의외의', 8215: '▁클라스', 8216: '▁멀쩡', 8217: '▁솔까', 8218: '▁납치', 8219: '▁거슬리', 8220: '▁젊음', 8221: '▁찬사를', 8222: '▁사라져', 8223: '▁경의를', 8224: '▁죽기전에', 8225: '징그러', 8226: '▁상당한', 8227: '▁고마운', 8228: '▁돈낭비', 8229: '▁짱짱맨', 8230: '전달', 8231: '▁댄스', 8232: '▁장혁', 8233: '▁우롱', 8234: '▁굿굿굿', 8235: '▁황금', 8236: '▁필요없음', 8237: '▁재밌기만', 8238: '노동자', 8239: '달리', 8240: '▁재미나게', 8241: '▁울었습니다', 8242: '▁겉멋만', 8243: '▁몰랐는데', 8244: '▁슬퍼요', 8245: '▁나오다니', 8246: '▁안타깝네요', 8247: 'PD', 8248: '▁재현', 8249: '▁기록', 8250: '▁하던가', 8251: '금지', 8252: '▁슬프네요', 8253: '▁어케', 8254: '▁힘내', 8255: '▁집어', 8256: '▁답답해서', 8257: '▁재미있어서', 8258: '▁없었는데', 8259: '죽음', 8260: '작렬', 8261: '▁에러', 8262: '▁꼭봐야', 8263: '▁안좋은', 8264: '클럽', 8265: '하느라', 8266: '▁사망', 8267: '것같습니다', 8268: '갔으면', 8269: '▁꺼내', 8270: '만들엇', 8271: '이아니라', 8272: '▁볼만한데', 8273: '▁다른사람', 8274: '▁뽑아', 8275: '▁어색함', 8276: '지않나', 8277: '겠냐', 8278: 'll', 8279: '저예산', 8280: '▁모르나', 8281: '▁비현실적이', 8282: '변화', 8283: '지마시길', 8284: '영상미', 8285: '알바들', 8286: '▁이따구', 8287: '뿔', 8288: '▁아쉬워', 8289: '날때', 8290: '풋풋', 8291: '쎄', 8292: '옵', 8293: '웰', 8294: '▁다세포소녀', 8295: '럿', 8296: '맷', 8297: '쏙', 8298: '코스프레', 8299: '▁끝판왕', 8300: '▁다크나이트', 8301: '띵', 8302: '릉', 8303: '빤', 8304: '푼', 8305: '▁아프리카', 8306: '안타까워', 8307: '▁김태희', 8308: '▁공중파', 8309: '▁긴박감', 8310: '▁모성애', 8311: '▁여기저기', 8312: '▁평점조절', 8313: '▁임청하', 8314: '▁타이틀', 8315: '▁아이러니', 8316: '▁레이첼', 8317: '▁혹평', 8318: '▁2004', 8319: '▁어지간', 8320: '▁다운로드', 8321: '▁더럽다', 8322: '▁사기꾼', 8323: '▁노골적', 8324: '▁크리스찬', 8325: '▁담백하', 8326: '▁성찰', 8327: '▁어딜', 8328: '창있네', 8329: '▁원작소설', 8330: '▁멋있어', 8331: '▁바꾼', 8332: '▁억지설정', 8333: '펙트', 8334: '▁재주', 8335: '▁대표적인', 8336: '였으나', 8337: '▁몇번이나', 8338: '▁제정신', 8339: '▁실화라는', 8340: '▁불행', 8341: '▁어렸을적', 8342: '▁볼만했는데', 8343: '▁분명히', 8344: '▁요약', 8345: '▁알려준', 8346: '▁짧아', 8347: '▁도중에', 8348: '▁특수', 8349: '겁니까', 8350: '▁알겠지만', 8351: '볼만한', 8352: '▁무색', 8353: '▁황당하', 8354: '▁그지같은', 8355: '▁썩어', 8356: '▁재밌당', 8357: '영화자체는', 8358: '합니까', 8359: '▁좋아하네요', 8360: '활동', 8361: '▁남발', 8362: '▁처음이네요', 8363: '▁데미', 8364: '▁재밋는데', 8365: '▁재밋네요', 8366: '▁있나요', 8367: '▁고수', 8368: '▁찾아볼', 8369: '▁해피', 8370: '만드네', 8371: '▁무리수', 8372: '▁할배', 8373: '▁일본판', 8374: '등급', 8375: '▁존재하는', 8376: '▁빌리', 8377: '찾기', 8378: '죽는줄', 8379: '▁유혹', 8380: '되지않', 8381: '▁주먹', 8382: '였다니', 8383: '▁떠들', 8384: '-_', 8385: '▁기독교인', 8386: '▁외국영화', 8387: '▁좋아한다', 8388: '해야한다', 8389: '▁300', 8390: '▁손색', 8391: '싶어서', 8392: '했냐', 8393: '▁강제', 8394: '쭉', 8395: '왜이래', 8396: '완벽', 8397: '슬퍼', 8398: '▁배려', 8399: '마른', 8400: '아이돌', 8401: '123', 8402: '다시봐도', 8403: '▁메리', 8404: '마냥', 8405: '별루', 8406: '▁끝날때', 8407: '▁표정연기', 8408: '▁봐줄', 8409: '▁드러나', 8410: '티비에서', 8411: 'ol', 8412: '뜩', 8413: '둡', 8414: '펀', 8415: '▁송혜교', 8416: '켈', 8417: '▁고맙습니다', 8418: '▁드림웍스', 8419: '▁똑바로', 8420: '▁미야자키', 8421: '▁인종차별', 8422: '▁홧팅', 8423: '둬', 8424: '룹', 8425: '쌩', 8426: '핏', 8427: '▁자본주의', 8428: '▁절제된', 8429: '욬', 8430: '▁어둡고', 8431: '개인적으론', 8432: '▁2013', 8433: '나옵니다', 8434: '▁태어난', 8435: '▁오인혜', 8436: '▁정신나간', 8437: '▁사로잡', 8438: '▁더럽고', 8439: '▁감수성', 8440: '▁best', 8441: '▁끊임없', 8442: '▁돋보인다', 8443: '▁7.5', 8444: '▁눈요기', 8445: '▁모티브', 8446: 'ᄂᄂ', 8447: '▁가해자', 8448: '▁짐승', 8449: '▁감옥', 8450: '▁휴먼', 8451: '▁접근', 8452: '등등', 8453: '▁지나친', 8454: '▁서극', 8455: '▁존경합니다', 8456: '묘사', 8457: '▁출현', 8458: '▁절반', 8459: '라이브', 8460: '▁총알', 8461: '▁스토리라인', 8462: '덕후', 8463: '▁중간부터', 8464: '▁우왕', 8465: '▁대실망', 8466: '따윈', 8467: '▁못생겼', 8468: '▁일탈', 8469: '집중', 8470: '▁남자라면', 8471: '▁예산', 8472: '▁건강', 8473: '하지않은', 8474: '▁경제', 8475: '▁슬프지만', 8476: '▁초등학교때', 8477: '▁나은듯', 8478: '▁없구나', 8479: '▁울었던', 8480: '▁발레', 8481: '과도한', 8482: '▁글쎄요', 8483: '▁있겠지', 8484: '▁훈훈하', 8485: '▁아까워요', 8486: '▁예쁘게', 8487: '▁철학적인', 8488: '▁전락', 8489: '▁잃어', 8490: '▁부디', 8491: '▁차마', 8492: '엇어요', 8493: '왔던', 8494: '느님', 8495: '▁마크', 8496: '▁좋았어', 8497: '▁예술성', 8498: '별반개도', 8499: '▁향해', 8500: '▁지루하기만', 8501: '써서', 8502: '알았', 8503: '▁몰입되', 8504: '▁솔직한', 8505: '때문이', 8506: '▁존재한다', 8507: '▁존재감', 8508: '▁어린이들', 8509: '--;', 8510: '때메', 8511: '짓거리', 8512: '▁압도', 8513: '일수도', 8514: '▁마르', 8515: '챙겨', 8516: '불륜', 8517: '대단히', 8518: '달까', 8519: '▁느껴져', 8520: '▁환상적이', 8521: '챙', 8522: '첩', 8523: '펑', 8524: '탭', 8525: '↓', 8526: '▁뮤직비디오', 8527: '▁팀버튼', 8528: '▁파워레인저', 8529: '툰', 8530: '▁클린트', 8531: 'mbc', 8532: '▁뚝뚝', 8533: '▁뜨거운', 8534: '▁송지효', 8535: '▁팍팍', 8536: '▁나쁘진', 8537: '▁두려움', 8538: '떄문에', 8539: '▁한쿡영화', 8540: '▁비정상', 8541: '▁이연희', 8542: '▁흐뭇', 8543: '▁터져', 8544: '▁힘내세요', 8545: '▁무너지', 8546: '▁뉴욕', 8547: '앵글', 8548: '▁즐겁고', 8549: '▁짧게', 8550: '배속으로', 8551: '▁놀랬', 8552: '▁초능력', 8553: '▁비싼', 8554: '▁비롯', 8555: '▁사라졌', 8556: '줬으면', 8557: '보기싫', 8558: '홍보', 8559: '것일까', 8560: '▁끌려', 8561: '▁넘어선', 8562: '부턴', 8563: '▁성룡영화', 8564: '♡♡', 8565: '▁얘들', 8566: '영화관에서', 8567: '▁받아들이', 8568: '▁중학교때', 8569: '▁사실적으로', 8570: '▁그지없', 8571: '▁현실적으로', 8572: '▁잼없음', 8573: '▁가졌', 8574: '▁피터', 8575: '▁최고였습니다', 8576: '스럽네', 8577: '▁개독', 8578: '▁사랑스럽', 8579: '약간', 8580: '이건뭐', 8581: '▁미국판', 8582: '낚였', 8583: '▁담아내', 8584: '▁훌륭함', 8585: '▁되었는데', 8586: '▁않았음', 8587: '▁인간적인', 8588: '▁그지같', 8589: '하고픈', 8590: '▁첨이네', 8591: '▁멀리', 8592: '라기보다', 8593: '▁다시보고싶은', 8594: '▁엉성함', 8595: '▁잃지', 8596: '녀석들', 8597: '▁허접하다', 8598: '▁재미있네', 8599: '▁광팬', 8600: '▁불편함', 8601: '▁환자', 8602: '겐', 8603: '▁확실한', 8604: '고싶지', 8605: '봣음', 8606: '▁be', 8607: '릇', 8608: '▁표현했다', 8609: '▁기억될', 8610: '▁잠자', 8611: '톰', 8612: '▁죽을뻔', 8613: '씹', 8614: '낙', 8615: '흐름', 8616: '카메라', 8617: '러브', 8618: '진정한', 8619: '이쁘고', 8620: '시간낭비', 8621: '좋았어요', 8622: '먼저', 8623: '조각', 8624: 'est', 8625: '▁감동받았', 8626: '관련', 8627: '♡♡♡', 8628: '제작비', 8629: '쯧', 8630: '넼', 8631: '▁고스란히', 8632: '▁엉덩이', 8633: '▁인터뷰', 8634: '▁임권택', 8635: '▁찝찝한', 8636: '▁클리셰', 8637: '▁양동근', 8638: '▁카메론', 8639: '▁서프라이즈', 8640: '▁어우러진', 8641: '▁원주율', 8642: '▁주상욱', 8643: '꺄', 8644: '꿨', 8645: '▁말았어야', 8646: '▁김강우', 8647: '▁조승우', 8648: '▁구역질', 8649: '▁암걸리', 8650: '▁일베충', 8651: '▁신민아', 8652: '▁The', 8653: '▁웅장', 8654: '▁이범수', 8655: '▁흥미롭고', 8656: '▁잃어버린', 8657: '▁김구라', 8658: '▁은퇴', 8659: '▁알게해준', 8660: '남녀', 8661: '▁유지태', 8662: '▁모르겟다', 8663: 'up', 8664: '▁튀어', 8665: '▁움직이는', 8666: '▁구멍', 8667: '▁친절', 8668: '봣습니다', 8669: '▁그럼에도', 8670: '▁활용', 8671: '45', 8672: '▁고인의', 8673: '▁지들끼리', 8674: '점대라니', 8675: '▁추락', 8676: '▁잘생기고', 8677: '▁어이없어서', 8678: '▁성숙', 8679: '▁선정적', 8680: '▁볼만해요', 8681: '▁불법', 8682: '▁간절', 8683: '▁타락', 8684: '▁여왕', 8685: '▁신념', 8686: '▁좋아한다면', 8687: '▁없었으면', 8688: '▁뻔히', 8689: '▁98', 8690: '▁관객에게', 8691: '▁허무하게', 8692: '▁먹먹하다', 8693: '베르', 8694: '▁깎아', 8695: '▁애국', 8696: '▁좋아해요', 8697: '▁어린이용', 8698: '같았음', 8699: '영환줄', 8700: '▁나왔음', 8701: '▁전투씬', 8702: '배우님', 8703: '▁않았으면', 8704: 'ge', 8705: '그래요', 8706: '번씩', 8707: '인간들', 8708: '재미잇', 8709: '▁던지는', 8710: '▁외치', 8711: '▁so', 8712: '▁197', 8713: '가능한', 8714: '▁의식', 8715: '볼걸', 8716: '빠지고', 8717: '▁수준이하', 8718: '▁빨아', 8719: '▁누워', 8720: '▁조금씩', 8721: '▁되돌아', 8722: '▁제작사', 8723: '아줌마', 8724: '느와르', 8725: '왜이리', 8726: '이쁘다', 8727: '▁단편영화', 8728: '그자체', 8729: '▁초중반', 8730: '존재', 8731: '예능', 8732: '하곤', 8733: '▁서스펜스', 8734: '▁웹툰', 8735: '▁펭귄', 8736: '텀', 8737: '흰', 8738: '▁ebs', 8739: '▁놀래키', 8740: '▁베트남', 8741: '▁환타지', 8742: '▁큐브', 8743: '▁조용히', 8744: '▁강지환', 8745: '▁임수정', 8746: '▁불후의', 8747: '▁플레이', 8748: '▁러셀', 8749: '▁일요일', 8750: '씨리즈', 8751: '▁닥터', 8752: '▁퍼즐', 8753: '▁어울려', 8754: '▁이해안가', 8755: '▁리메이크작', 8756: '▁증말', 8757: '▁일깨워주는', 8758: '▁푸른', 8759: '▁가끔씩', 8760: '▁특징', 8761: '▁고찰', 8762: '▁언론', 8763: '▁빠져드는', 8764: '▁알았더니', 8765: '▁자세히', 8766: '▁찾아볼수', 8767: '▁닮아', 8768: '▁않았을까', 8769: '▁산만한', 8770: '▁지루했어요', 8771: '▁끼워', 8772: '▁놀라울', 8773: '▁여튼', 8774: '▁중반부', 8775: '▁물씬', 8776: '▁지났지만', 8777: '▁공감가는', 8778: '흥미를', 8779: '▁우익', 8780: '거든요', 8781: '▁깔끔하고', 8782: '▁돌려줘', 8783: '▁때문이다', 8784: '▁엉성하다', 8785: '▁최고였어요', 8786: '▁도통', 8787: '▁상영시간', 8788: '▁말해주는', 8789: '▁생각나네요', 8790: '▁됐는데', 8791: '싶을때', 8792: '▁나누', 8793: '멘트', 8794: '▁주목', 8795: '▁아동용', 8796: '▁감동도없고', 8797: '▁허술하고', 8798: '▁뻔해서', 8799: '▁존내', 8800: '교육', 8801: '하지마세요', 8802: '▁비극적', 8803: '▁볼거없', 8804: '▁압도적', 8805: '▁드러내', 8806: '졌습니다', 8807: '▁선동영화', 8808: '영화제에서', 8809: '▁나왔는데', 8810: '엿음', 8811: '▁중반까지', 8812: '▁초딩들', 8813: '요소를', 8814: '야되는데', 8815: '레이드', 8816: '겠군', 8817: '▁진부함', 8818: '▁재미있었던', 8819: '시켜주', 8820: '쳐먹', 8821: '▁부른', 8822: '하지않는', 8823: '▁wh', 8824: '▁상관', 8825: '깎', 8826: 'OST', 8827: '감사합니다', 8828: '훨씬', 8829: '극장판', 8830: '▁오글거려', 8831: '픔', 8832: '95', 8833: '▁어처구니없', 8834: '콧', 8835: '쿡', 8836: '맙', 8837: '뱉', 8838: '뺨', 8839: '엎', 8840: '톨', 8841: '▁ocn', 8842: '▁기대됩니다', 8843: '▁묻혀', 8844: '▁보냅니다', 8845: '▁오리지널', 8846: '▁용두사미', 8847: '▁재발견', 8848: '▁컨저링', 8849: '人', 8850: '긔', 8851: '뒀', 8852: '쉰', 8853: '쌈', 8854: '재밌게봤습니다', 8855: '췄', 8856: '콕', 8857: '▁내러티브', 8858: '▁어울린다', 8859: '▁멘붕', 8860: '▁삽입', 8861: '▁하이킥', 8862: '▁ᄅᄋ', 8863: '▁저절로', 8864: '▁잠수함', 8865: '▁흡사', 8866: '^.^', 8867: '▁록키', 8868: '▁정치적', 8869: '▁위대함', 8870: '▁간첩', 8871: '▁묘미', 8872: '▁온몸', 8873: '▁생략', 8874: '▁스티브', 8875: '▁말이필요없는', 8876: '▁잔인하기만', 8877: '▁잃고', 8878: '▁증거', 8879: '▁떠오르', 8880: '▁대표작', 8881: '▁역쉬', 8882: '▁깨알', 8883: '▁구리다', 8884: '완성', 8885: '▁빡치', 8886: '▁바랬', 8887: '▁절실', 8888: '시리즈중', 8889: '▁재료', 8890: '▁해도해도', 8891: '동아리', 8892: '▁가르쳐', 8893: '▁만들어주세요', 8894: '▁언급', 8895: '▁딱딱', 8896: '거예요', 8897: '▁내보내', 8898: '▁전세계', 8899: '▁원표', 8900: '▁헐크', 8901: '안됐', 8902: '▁모르겠는데', 8903: '▁아쉽긴', 8904: '▁이나영', 8905: '▁고발', 8906: '▁실소', 8907: '▁별로였음', 8908: '▁더빙판', 8909: '▁가려', 8910: '▁필수', 8911: '관계를', 8912: '▁가식', 8913: '보냐', 8914: '▁모른', 8915: '폭탄', 8916: '▁비현실적인', 8917: '내놔', 8918: '채널에서', 8919: '▁악평', 8920: '티브', 8921: '괴물', 8922: '빼', 8923: '▁심심하', 8924: '같으니', 8925: '▁비현실적', 8926: '▁읽어보', 8927: '쳤던', 8928: '▁겉멋', 8929: '▁붙여', 8930: '다음으로', 8931: '퀄리티', 8932: '▁성우들', 8933: '10000', 8934: '녀석', 8935: '넌', 8936: '방울', 8937: '젼', 8938: '슈퍼', 8939: '괜히', 8940: '탈출', 8941: '낮아서', 8942: '좋앗', 8943: '▁공짜', 8944: '움직이', 8945: '방법', 8946: '률', 8947: 'q', 8948: '엣', 8949: '샷', 8950: '헷', 8951: 'Z', 8952: '▁매트릭스', 8953: '▁슬래셔', 8954: '▁에일리언', 8955: '▁인터스텔라', 8956: '▁채플린', 8957: '▁혹성탈출', 8958: '댐', 8959: '댕', 8960: '륵', 8961: '쏠', 8962: '핳', 8963: '흙', 8964: '▁오타쿠', 8965: '륙', 8966: '▁이스트우드', 8967: '▁박신양', 8968: '▁홍금보', 8969: '▁불면증', 8970: '▁기분좋게', 8971: '▁두근두근', 8972: '▁엉엉', 8973: '▁관람불가', 8974: '▁섭외', 8975: '▁케이트', 8976: '▁빅뱅', 8977: '▁화려함', 8978: '▁나타내', 8979: '▁그들만의', 8980: '▁묘하게', 8981: '▁잘만들어진', 8982: '씁니다', 8983: '▁유아인', 8984: '▁별한개도', 8985: '▁닮은', 8986: '▁패턴', 8987: '즐거워', 8988: '▁스콧', 8989: '▁묻어나는', 8990: '▁씁쓸한', 8991: '▁경쾌', 8992: '▁내인생최고의', 8993: '▁미치도록', 8994: '▁재평가', 8995: '천국', 8996: '▁맞춘', 8997: '▁적절히', 8998: '▁당최', 8999: '▁케이지', 9000: '▁아까웠던', 9001: '▁느낌이랄까', 9002: '▁웃어야', 9003: '▁악플', 9004: '▁신나게', 9005: '▁공존', 9006: '▁모든것을', 9007: '▁속아서', 9008: '▁동료', 9009: '▁고향', 9010: '▁창조', 9011: '▁말아라', 9012: '▁이번엔', 9013: '▁지금껏', 9014: '▁심심해서', 9015: '▁장나라', 9016: '▁허술하다', 9017: '붕괴', 9018: '▁중요하다', 9019: '▁소름돋았', 9020: '▁많았던', 9021: '▁무얼', 9022: '▁알수없는', 9023: '▁예매', 9024: '같았는데', 9025: '▁최저', 9026: '▁노예', 9027: '▁일베', 9028: '▁종영', 9029: '▁몽환적인', 9030: '봣던', 9031: '▁졸면서', 9032: '▁만들겠다', 9033: '▁뻔하지만', 9034: '▁멋있어요', 9035: '▁불편하다', 9036: '끼들', 9037: '▁서사', 9038: '▁아니겠지', 9039: '그릇', 9040: '▁죽을때', 9041: '▁작위적인', 9042: '파티', 9043: '해주길래', 9044: '올림', 9045: 'ul', 9046: '황당', 9047: '▁합쳐', 9048: '알수있', 9049: '버렸음', 9050: 'ᅳᅮ', 9051: 'ᅲᅲᅲᅲᅲᅲᅲᅲ', 9052: '본것중', 9053: '▁고르', 9054: '빼놓', 9055: '채널', 9056: '낳', 9057: '쪼', 9058: '▁바라보', 9059: '슬픈', 9060: '을위해', 9061: '교훈', 9062: '빼면', 9063: '잔인하', 9064: '씁', 9065: '#', 9066: '▁쏠쏠', 9067: '쌀', 9068: 'ᅦ', 9069: '▁KBS', 9070: '▁가볍고', 9071: '▁스칼렛', 9072: '▁쌩뚱맞', 9073: '▁어설픔', 9074: '▁역사왜곡', 9075: '▁콘서트', 9076: '▁크리스토퍼', 9077: '댈', 9078: '됌', 9079: '샀', 9080: '숫', 9081: '엌', 9082: '웩', 9083: '쿄', 9084: '펄', 9085: '샹', 9086: '팡', 9087: '▁맙시다', 9088: '묵직한', 9089: '▁탕웨이', 9090: '▁나발이고', 9091: '▁못생긴', 9092: '▁스텝업', 9093: '▁사다코', 9094: '▁오그라든다', 9095: '▁집어넣', 9096: 'ᅩᅩ', 9097: '▁훈남', 9098: '▁2001', 9099: '▁고질라', 9100: '바이러스', 9101: '결론', 9102: '▁담아낸', 9103: '▁둘째', 9104: '▁이승기', 9105: '▁저녁', 9106: '▁무게감', 9107: '▁용가리', 9108: '▁과잉', 9109: '▁웬만한', 9110: '▁결합', 9111: '▁이름값', 9112: '▁지루하지않고', 9113: '▁No', 9114: '▁감동적이었습니다', 9115: '▁환불', 9116: 'ent', 9117: '▁질질짜', 9118: '▁응원합니다', 9119: '▁내겐', 9120: '▁위하여', 9121: '▁깔끔하게', 9122: '▁스릴있고', 9123: '▁줄리아', 9124: '▁팬이라면', 9125: '▁시간아까움', 9126: '중요한', 9127: '섹스', 9128: '▁치열', 9129: '▁따뜻하게', 9130: '▁씨발', 9131: '▁느린', 9132: '▁봤었던', 9133: '▁멋있었다', 9134: '▁차원이', 9135: '▁실화라니', 9136: '▁느꼈던', 9137: '헤헤', 9138: '▁젊은이들', 9139: '▁대책', 9140: '▁볼만했음', 9141: '▁봐왔', 9142: '▁좀비물', 9143: '좋아할만한', 9144: '▁첫장면', 9145: '▁오락성', 9146: '▁고래', 9147: 'ap', 9148: '▁서우', 9149: '해줬으면', 9150: '▁놈들이', 9151: '재밋게봣', 9152: '▁집중력', 9153: '객관적으로', 9154: '로인해', 9155: '▁밑에분', 9156: '▁평론', 9157: '같습니다', 9158: '▁보여주려', 9159: '몇번이고', 9160: '▁맞지않', 9161: '곰', 9162: '캬', 9163: '뽑', 9164: '녹', 9165: '끊', 9166: '줍', 9167: '냅', 9168: '▁리암니슨', 9169: '▁휴머니즘', 9170: '꽂', 9171: '샌', 9172: '샬', 9173: '칩', 9174: '횽', 9175: '▁뭔내용인지', 9176: '▁줄리엣', 9177: '됴', 9178: '▁신현준', 9179: '▁양조위', 9180: '▁강혜정', 9181: '▁흘렀', 9182: '▁강호동', 9183: '▁충무로', 9184: '▁어떨까', 9185: '▁어려울', 9186: '위원회', 9187: '스캔들', 9188: '▁이순신', 9189: '안남기는데', 9190: '▁정재영', 9191: '▁몬스터', 9192: '김남길', 9193: '▁침묵', 9194: '▁레이싱', 9195: '▁0.5', 9196: '▁거대한', 9197: '▁어려웠', 9198: '▁팔아먹', 9199: '▁촬영기법', 9200: '▁자칫', 9201: '▁에로틱', 9202: '▁촌스러운', 9203: '▁꺼버렸다', 9204: '▁갖추', 9205: '@@', 9206: '점드림', 9207: '▁때우기', 9208: '▁프레디', 9209: '▁과장되', 9210: '▁와이어', 9211: '▁오싹', 9212: '▁정도껏', 9213: '▁말할것도', 9214: '▁느꼈습니다', 9215: '할수밖에', 9216: '▁처참', 9217: '▁아름다웠던', 9218: '▁재미있던데', 9219: '▁다를게', 9220: '▁질투', 9221: '▁호평', 9222: '버젼', 9223: '엉망', 9224: '▁남주인공', 9225: '▁도덕', 9226: '▁알앗', 9227: '▁어쩌라는', 9228: '▁예수님', 9229: '▁앞부분', 9230: 'ig', 9231: '▁어수선하', 9232: '▁풀었', 9233: '▁교감', 9234: '하우스', 9235: 'ill', 9236: '닼ᄏᄏᄏ', 9237: '▁굉장', 9238: '잊혀지', 9239: '▁탄탄하', 9240: '종류', 9241: '재밋엇', 9242: '▁사실적이', 9243: '훔', 9244: '죤', 9245: '쵝', 9246: '훼', 9247: '듀', 9248: '▁kbs', 9249: '▁리즈시절', 9250: '▁스탤론', 9251: '▁인상깊은', 9252: '▁후덜덜', 9253: '닦', 9254: '안봤으면', 9255: '탔', 9256: '햄', 9257: '▁브래드피트', 9258: '▁서부극', 9259: '▁에이리언', 9260: '▁왠만해선', 9261: '촉', 9262: '▁김하늘', 9263: '▁홍진호', 9264: '▁무슨내용인지', 9265: '▁로드무비', 9266: '▁올레티비', 9267: '▁치밀한', 9268: '▁불필요한', 9269: '-0-', 9270: '▁알맹이', 9271: '▁이동욱', 9272: '▁안쓰러', 9273: '▁나중엔', 9274: '쥐어짜', 9275: '▁뛰쳐', 9276: '▁못미치는', 9277: '▁and', 9278: '▁전문성우', 9279: '▁한정된', 9280: '▁콤비', 9281: '▁박해일', 9282: '▁빵터짐', 9283: '▁이성재', 9284: '▁흔히', 9285: 'bbbb', 9286: '▁유아용', 9287: '▁슈렉', 9288: '▁루이스', 9289: '▁가득찬', 9290: '▁이준기', 9291: '▁실컷', 9292: '▁황홀', 9293: 'gt', 9294: '▁발휘', 9295: '▁악몽', 9296: 'J', 9297: '▁깨알같은', 9298: '▁적나라하', 9299: '▁얼른', 9300: '▁신파극', 9301: '빅', 9302: '웬', 9303: '▁저평가된', 9304: '매니아', 9305: '저렇게', 9306: '▁선율', 9307: '오히려', 9308: '▁억지스러움', 9309: '▁첨본다', 9310: '▁뇌리에', 9311: '▁습작', 9312: '▁언제쯤', 9313: '예고편', 9314: '▁놓친', 9315: '흥행', 9316: '▁찾았다', 9317: '짜증난다', 9318: '▁미안하지만', 9319: '▁몰입하면서', 9320: '▁끝내주는', 9321: '▁고백', 9322: '▁조용하', 9323: '그치만', 9324: 'ore', 9325: '때문인지', 9326: '▁어린애들', 9327: '▁떠난', 9328: '나쁘지않', 9329: '과정을', 9330: '싶을정도', 9331: '파괴', 9332: '볼수없', 9333: '▁기분좋은', 9334: '▁느려', 9335: '어수선', 9336: '찍었', 9337: '찾았', 9338: '▁어이가없', 9339: '취향은', 9340: '▁탁월', 9341: '버렸어', 9342: '뀌', 9343: '뭇', 9344: 'naver', 9345: '뻘', 9346: '○', 9347: 'zzz', 9348: '▁찝찝함', 9349: '▁최곱니다', 9350: '뺀', 9351: '씌', 9352: '▁아메리칸', 9353: '▁원맨쇼', 9354: '▁웨슬리', 9355: '솟', 9356: '젓', 9357: '쫙', 9358: '쬐', 9359: '▁떠올리게', 9360: '▁무의미한', 9361: '▁크루즈', 9362: '프로젝트', 9363: '▁문근영', 9364: '▁한예슬', 9365: '도그렇고', 9366: '▁추악한', 9367: '▁부자연스럽', 9368: '▁단체로', 9369: '▁뒤집어', 9370: '▁잘생김', 9371: '▁고현정', 9372: '▁쌍욕', 9373: '봅시다', 9374: '▁페이크다큐', 9375: '▁암울한', 9376: '▁연관성', 9377: '▁2008', 9378: '▁옹박', 9379: 'tion', 9380: '▁빨리감기', 9381: '▁유오성', 9382: '허니잼', 9383: '▁졸업작품', 9384: '▁매튜', 9385: '▁깜찍', 9386: '▁꺼버림', 9387: '뿐더러', 9388: '▁일어난', 9389: '▁조인성', 9390: '▁하얀', 9391: '▁끝내준다', 9392: '▁육체', 9393: '▁화가난다', 9394: '▁느껴짐', 9395: '▁my', 9396: '재미가없', 9397: '▁재치있', 9398: '▁일대기', 9399: '▁투표', 9400: '▁껏다', 9401: '▁적응', 9402: '▁미흡', 9403: '▁대략', 9404: '▁괜찮던데', 9405: '▁녹화', 9406: '▁미치겠다', 9407: '▁추잡', 9408: '펑펑', 9409: '별한개', 9410: '▁완소', 9411: '▁대가리', 9412: 'good', 9413: '▁창작', 9414: '▁졸업', 9415: '▁교차', 9416: '청춘', 9417: '▁소리지르', 9418: '을위한', 9419: '▁밥먹', 9420: '▁볼게없', 9421: '지말아야', 9422: '▁즐겨보', 9423: '같았다', 9424: '▁객관적', 9425: '▁서민', 9426: '기억에남는', 9427: '▁드러난', 9428: '▁특별하', 9429: 'all', 9430: 'ain', 9431: '444', 9432: '시끄러', 9433: '튜', 9434: '펐', 9435: '▁페이크', 9436: 'ᄑ', 9437: '▁떠오른다', 9438: '▁로보캅', 9439: '▁멜깁슨', 9440: '▁엑스트라', 9441: '궈', 9442: '귓', 9443: '돕', 9444: '쌔', 9445: '욜', 9446: '욧', 9447: '힛', 9448: '▁까메오', 9449: '▁보면볼수록', 9450: '▁어벤져스', 9451: '▁유치뽕짝', 9452: '뇨', 9453: '덥', 9454: '쑤', 9455: '▁듣보잡', 9456: '▁브래드', 9457: '▁스타일리쉬', 9458: '괘', 9459: '▁노무현', 9460: '▁덴젤', 9461: '▁무책임', 9462: '▁눈뜨고', 9463: '▁장쯔이', 9464: '▁지하철', 9465: '지맙시다', 9466: '▁애절한', 9467: '▁중딩때', 9468: '▁금요일', 9469: '▁훈련', 9470: '▁피라냐', 9471: '▁최선을', 9472: '▁옹호', 9473: '▁차가운', 9474: '테잎', 9475: '오디션', 9476: '▁에너지', 9477: '▁가면갈수록', 9478: '▁믿겨지지', 9479: '기승전', 9480: '▁효민', 9481: '▁여진구', 9482: '▁크리스틴', 9483: '▁싱겁', 9484: '▁어려워', 9485: '▁나눠', 9486: '▁나타난', 9487: '▁시청율', 9488: '▁한지민', 9489: '▁자연스럽고', 9490: '어쩔수없', 9491: '▁즐겁다', 9492: '연기너무잘', 9493: '▁갑갑', 9494: '▁흥해라', 9495: '있으면서', 9496: '▁영화관가서', 9497: '보고난후', 9498: '▁빠순이들', 9499: '▁개념없', 9500: '▁독백', 9501: '▁급전개', 9502: '▁외로운', 9503: '▁회복', 9504: '▁측면', 9505: '▁출연료', 9506: '▁이해못하', 9507: '▁엔딩곡', 9508: '▁명곡', 9509: '슬픔', 9510: '훈훈', 9511: '흐흐', 9512: '뮤지컬', 9513: '프랑스', 9514: '겻', 9515: '렘', 9516: '껍', 9517: '갸', 9518: '롬', 9519: '썽', 9520: '좁', 9521: '짖', 9522: '쪄', 9523: '짠', 9524: '꽝', 9525: '[', 9526: '꽤', 9527: '갇', 9528: '훌', 9529: 'ᅭ', 9530: 'ᆞ', 9531: '’', 9532: '꿋', 9533: '쌤', 9534: '씽', 9535: '쨩', 9536: '톡', 9537: '퍽', 9538: '·', 9539: '밭', 9540: '얹', 9541: '캅', 9542: '훅', 9543: '폼', 9544: '곁', 9545: '쩡', 9546: '삽', 9547: '륭', 9548: '\\\\', 9549: '엥', 9550: '꼼', 9551: '댔', 9552: '햐', 9553: '갤', 9554: '윙', 9555: '짤', 9556: '밌', 9557: '걱', 9558: '뭥', 9559: '횡', 9560: '깬', 9561: '뛴', 9562: '뤘', 9563: '뤽', 9564: '몹', 9565: '붓', 9566: '핍', 9567: '늠', 9568: '셰', 9569: '얕', 9570: '쵸', 9571: '밑', 9572: '얀', 9573: '늑', 9574: '힙', 9575: '짬', 9576: '뎈', 9577: '얌', 9578: '낱', 9579: '윗', 9580: '힝', 9581: '‘', 9582: '놉', 9583: '뜰', 9584: '붐', 9585: '썅', 9586: '쟝', 9587: '퀼', 9588: 'Q', 9589: '깽', 9590: '낰', 9591: '얻', 9592: '헬', 9593: '낌', 9594: '낄', 9595: '캔', 9596: '겜', 9597: '굼', 9598: '앳', 9599: '짭', 9600: '팜', 9601: '“', 9602: '곸', 9603: '꺅', 9604: '됀', 9605: '밸', 9606: '휼', 9607: '슌', 9608: '웁', 9609: 'ᅧ', 9610: '|', 9611: '및', 9612: '떤', 9613: '첼', 9614: '뵈', 9615: '꿉', 9616: '뚤', 9617: '젬', 9618: '꾀', 9619: '싯', 9620: '쑈', 9621: '융', 9622: '텍', 9623: '뱃', 9624: 'ᅣ', 9625: '냉', 9626: '푹', 9627: '맡', 9628: '펙', 9629: '뷔', 9630: '찜', 9631: '얔', 9632: '댜', 9633: '빔', 9634: '빽', 9635: '샴', 9636: '섰', 9637: '돠', 9638: '땀', 9639: '멕', 9640: '”', 9641: '甲', 9642: '땟', 9643: '떴', 9644: '쁠', 9645: '쉘', 9646: '욘', 9647: '욯', 9648: '읎', 9649: '쟤', 9650: '짚', 9651: '캣', 9652: '쿤', 9653: '퀘', 9654: '→', 9655: '쾅', 9656: '훨', 9657: '칫', 9658: '맬', 9659: '훤', 9660: '乃', 9661: '갚', 9662: '귄', 9663: '뇬', 9664: '댁', 9665: '룻', 9666: '뭍', 9667: '뺐', 9668: '숴', 9669: '웡', 9670: '웹', 9671: '킷', 9672: '퉷', 9673: '걔', 9674: '넉', 9675: '곧', 9676: '쩐', 9677: '♬', 9678: '됏', 9679: '젝', 9680: '쨔', 9681: '괄', 9682: '뤠', 9683: '뮬', 9684: '좃', 9685: '죵', 9686: '핰', 9687: '、', 9688: '無', 9689: '꿰', 9690: '챔', 9691: '헛', 9692: '멧', 9693: '겅', 9694: '겔', 9695: '넥', 9696: '믓', 9697: '벡', 9698: '뿅', 9699: '슥', 9700: '쪙', 9701: '뿍', 9702: '쏜', 9703: '첸', 9704: '킁', 9705: '땜', 9706: '녁', 9707: '썹', 9708: '뺑', 9709: '껌', 9710: '굽', 9711: '넴', 9712: '눅', 9713: '뷁', 9714: '찼', 9715: '륨', 9716: '얍', 9717: '잌', 9718: '잰', 9719: '쳇', 9720: '칵', 9721: '텨', 9722: '툴', 9723: '퐁', 9724: '풉', 9725: '홉', 9726: '휙', 9727: '흣', 9728: '끽', 9729: '뒷', 9730: '넝', 9731: '』', 9732: '굶', 9733: '꼐', 9734: '돔', 9735: '뒹', 9736: '렜', 9737: '볶', 9738: '슐', 9739: '쒯', 9740: '춥', 9741: '넛', 9742: '쫑', 9743: '챈', 9744: '꽈', 9745: '샵', 9746: '섀', 9747: '깼', 9748: '눕', 9749: '『', 9750: '괸', 9751: '냔', 9752: '멱', 9753: '쎈', 9754: '욥', 9755: '팰', 9756: '햅', 9757: '헿', 9758: '넨', 9759: '뎃', 9760: '졷', 9761: '콱', 9762: '갯', 9763: '뿡', 9764: '왁', 9765: '캄', 9766: '뻗', 9767: '끙', 9768: 'ᄡ', 9769: '컥', 9770: '꼇', 9771: '밓', 9772: '줏', 9773: '궤', 9774: '뒈', 9775: '쑥', 9776: '컵', 9777: '}', 9778: '곀', 9779: '벳', 9780: '쒸', 9781: '혓', 9782: '꺠', 9783: '랖', 9784: '읭', 9785: '{', 9786: '봅', 9787: '잎', 9788: '$', 9789: '깟', 9790: '딥', 9791: '떵', 9792: '닛', 9793: '딛', 9794: '잦', 9795: '짰', 9796: '쨰', 9797: '챤', 9798: '큭', 9799: '툼', 9800: '펭', 9801: 'ᄈ', 9802: '눔', 9803: '쿼', 9804: '롹', 9805: '앰', 9806: '쫘', 9807: '死', 9808: '갘', 9809: '옛', 9810: '뭣', 9811: '컹', 9812: '♪', 9813: '쳣', 9814: '팟', 9815: 'ᆪ', 9816: '⌒', 9817: '作', 9818: '뭄', 9819: '뺄', 9820: '쏭', 9821: '앱', 9822: '읊', 9823: '쮸', 9824: '女', 9825: '촬', 9826: '킵', 9827: 'ン', 9828: '콰', 9829: '랔', 9830: '팥', 9831: '떙', 9832: '촐', 9833: '렙', 9834: '뤼', 9835: '븅', 9836: '슝', 9837: '찟', 9838: '헥', 9839: '꿇', 9840: '롸', 9841: '뮈', 9842: '믈', 9843: '뽐', 9844: '숏', 9845: '옇', 9846: '쥰', 9847: '쨍', 9848: '찹', 9849: '챦', 9850: '캉', 9851: '퀵', 9852: '웜', 9853: '냠', 9854: '웍', 9855: '캘', 9856: '×', 9857: '퀀', 9858: '밈', 9859: '굉', 9860: '옳', 9861: '눠', 9862: '췌', 9863: '텝', 9864: '탤', 9865: '햏', 9866: '햌', 9867: '츈', 9868: '챘', 9869: '짘', 9870: '죨', 9871: '뛸', 9872: '덟', 9873: '훠', 9874: '짊', 9875: '왘', 9876: '씸', 9877: '썪', 9878: '쌉', 9879: '숟', 9880: '빴', 9881: '벚', 9882: '랗', 9883: '냨', 9884: '괭', 9885: '흩', 9886: '헵', 9887: '故', 9888: '쥑', 9889: '잴', 9890: '윅', 9891: '땔', 9892: '닠', 9893: '놧', 9894: '뀜', 9895: '껑', 9896: '홥', 9897: '헴', 9898: '촛', 9899: '앍', 9900: '뉜', 9901: '훑', 9902: '샛', 9903: '덱', 9904: '낍', 9905: '괞', 9906: '휠', 9907: '헠', 9908: '츤', 9909: '좔', 9910: '꺾', 9911: '횟', 9912: '핥', 9913: '폄', 9914: '큽', 9915: '옜', 9916: '샐', 9917: '쁩', 9918: '뀔', 9919: '휩', 9920: '핡', 9921: '큘', 9922: '콥', 9923: '촘', 9924: '뺴', 9925: '멎', 9926: '뵙', 9927: '꺽', 9928: '긁', 9929: '딪', 9930: '릎', 9931: '낡', 9932: '펏', 9933: '씻', 9934: '녔', 9935: '굵', 9936: '셸', 9937: '닳', 9938: '켠', 9939: '쥔', 9940: '왼', 9941: '픕', 9942: '딨', 9943: '넋', 9944: '빚', 9945: '꽥', 9946: '뀐', 9947: '뭡', 9948: '얽', 9949: '앓', 9950: '쫒', 9951: '쨋', 9952: '텅', 9953: '꽉', 9954: '붉', 9955: '땠', 9956: '멤', 9957: '둠', 9958: '홧', 9959: '밟', 9960: '틋', 9961: '뿜', 9962: '빕', 9963: '컸', 9964: '뻣', 9965: '옮', 9966: '핸', 9967: '맑', 9968: '찢', 9969: '엮', 9970: '팠', 9971: '쨌', 9972: '쫄', 9973: '틸', 9974: '띄', 9975: '겪', 9976: '껐', 9977: '왤', 9978: '뻤', 9979: '쏟', 9980: '닙', 9981: '딧', 9982: '듭', 9983: '꿔', 9984: '섞', 9985: '획', 9986: '겉', 9987: '쁨', 9988: '됩', 9989: '늦', 9990: '볍', 9991: '찝', 9992: '묻', 9993: '똑', 9994: '랐', 9995: '깊', 9996: '떻', 9997: '렸', 9998: '렇', 9999: '봤'}\n",
            "index_word {'[PAD]': 0, '[UNK]': 1, '[BOS]': 2, '[EOS]': 3, '▁': 4, '.': 5, '..': 6, '이': 7, '▁영화': 8, '...': 9, '의': 10, '가': 11, '도': 12, '는': 13, ',': 14, '을': 15, '에': 16, '고': 17, '은': 18, '다': 19, '?': 20, '지': 21, '한': 22, '▁너무': 23, '를': 24, '!': 25, '만': 26, '▁정말': 27, '▁이': 28, '로': 29, '나': 30, '▁진짜': 31, '게': 32, '~': 33, '영화': 34, '과': 35, '기': 36, '으로': 37, '어': 38, '하고': 39, '라': 40, '인': 41, '점': 42, '서': 43, '리': 44, '▁잘': 45, '▁그': 46, '네': 47, '에서': 48, '▁안': 49, '▁왜': 50, '와': 51, '▁다': 52, '아': 53, '▁수': 54, '▁1': 55, '▁더': 56, '!!': 57, '들': 58, '....': 59, '▁이런': 60, '해': 61, '▁아': 62, '요': 63, '하는': 64, '거': 65, '▁그냥': 66, '▁드라마': 67, '네요': 68, '자': 69, '스': 70, '면': 71, '대': 72, '▁본': 73, '▁10': 74, '▁보고': 75, '지만': 76, '수': 77, '시': 78, '▁연기': 79, '▁평점': 80, '니': 81, '▁한': 82, '음': 83, '▁영화를': 84, '▁좀': 85, '야': 86, '▁내': 87, '일': 88, '사': 89, '함': 90, '하게': 91, '이다': 92, '진': 93, '▁참': 94, '▁ᄏᄏ': 95, '▁봤는데': 96, '▁쓰레기': 97, '데': 98, '▁없는': 99, '하다': 100, '하': 101, '▁이거': 102, '▁영화가': 103, '▁영화는': 104, '할': 105, '미': 106, '▁스토리': 107, '우': 108, '▁내가': 109, '▁최고의': 110, '주': 111, '▁못': 112, '▁완전': 113, '▁이건': 114, '▁없다': 115, '구': 116, '▁2': 117, '여': 118, '보다': 119, '임': 120, '▁있는': 121, '까지': 122, '정': 123, '▁좋은': 124, '는데': 125, '▁개': 126, 'ᄏᄏ': 127, '들이': 128, '해서': 129, '▁최고': 130, '안': 131, '!!!': 132, '드': 133, '▁이렇게': 134, '▁보는': 135, '성': 136, '건': 137, '보': 138, '냐': 139, '듯': 140, '▁이게': 141, '▁나': 142, '▁3': 143, '상': 144, '▁다시': 145, '▁것': 146, '신': 147, '▁난': 148, '랑': 149, '▁보': 150, '적': 151, '중': 152, '던': 153, '▁말': 154, '^^': 155, '치': 156, '전': 157, 'ᄏ': 158, '장': 159, '보고': 160, '▁많이': 161, '▁평점이': 162, '마': 163, '▁지': 164, '~~': 165, '▁넘': 166, '오': 167, '1': 168, '▁뭐': 169, '▁작품': 170, '개': 171, '▁역시': 172, '부': 173, '▁그리고': 174, '비': 175, '세': 176, '▁재밌게': 177, '인데': 178, '질': 179, '▁저': 180, '년': 181, '▁볼': 182, '트': 183, '▁또': 184, '▁마지막': 185, ';;': 186, '그': 187, '▁전': 188, '▁하는': 189, '2': 190, '분': 191, '것': 192, '??': 193, '려': 194, '원': 195, '화': 196, '히': 197, \"'\": 198, '했다': 199, '▁재미': 200, '말': 201, '▁오': 202, '라고': 203, '▁생각': 204, '하지': 205, '진짜': 206, '내': 207, '용': 208, '▁별로': 209, '때': 210, '▁꼭': 211, '적인': 212, '▁감동': 213, '급': 214, '같은': 215, '소': 216, '▁없고': 217, '러': 218, '▁가장': 219, '습니다': 220, '입니다': 221, '▁ᄏᄏᄏ': 222, '▁하나': 223, '▁감독': 224, '▁하': 225, '▁무슨': 226, ')': 227, '▁시간': 228, '▁아깝다': 229, '▁기대': 230, '▁이야기': 231, '▁주': 232, '▁별': 233, '란': 234, '더': 235, '물': 236, '▁보면': 237, '제': 238, '▁사': 239, 'ᅲᅲ': 240, '▁무': 241, '좀': 242, '된': 243, '▁다른': 244, '▁지금': 245, '▁아니': 246, '선': 247, '있는': 248, '이나': 249, '▁액션': 250, '▁만든': 251, '너무': 252, '걸': 253, 'ᄏᄏᄏ': 254, '씨': 255, '무': 256, '라는': 257, '▁할': 258, '▁한국': 259, '호': 260, '조': 261, '유': 262, '▁중': 263, '드라마': 264, '없는': 265, '본': 266, '편': 267, '▁비': 268, ';': 269, '▁사랑': 270, '군': 271, '영': 272, '식': 273, '▁조': 274, '동': 275, '▁ᄏ': 276, '어요': 277, '부터': 278, '정말': 279, '3': 280, '감': 281, '▁말이': 282, '▁대': 283, '에게': 284, '▁ᅲᅲ': 285, '▁처음': 286, '▁명작': 287, '연': 288, '긴': 289, '▁같은': 290, 'ᅲ': 291, '▁영화다': 292, '▁미': 293, '모': 294, '▁정': 295, '▁김': 296, '▁연출': 297, '▁내용': 298, \"▁'\": 299, '▁유': 300, '▁끝까지': 301, '▁두': 302, '▁배우': 303, '명': 304, '으면': 305, '▁느낌': 306, '처럼': 307, '당': 308, '▁돈': 309, '작': 310, '디': 311, '울': 312, '줄': 313, '▁때': 314, '난': 315, '▁일': 316, '▁와': 317, '▁거': 318, '▁ᅳᅳ': 319, '(': 320, '운': 321, '▁솔직히': 322, '단': 323, '남': 324, '▁전혀': 325, '▁마': 326, '인지': 327, '▁하지만': 328, '한다': 329, '▁해': 330, '되는': 331, '심': 332, '들의': 333, '▁뭔가': 334, '▁같다': 335, '준': 336, '▁대한': 337, '살': 338, '▁기': 339, '▁어': 340, '▁있다': 341, '크': 342, '워': 343, '두': 344, '바': 345, '▁제': 346, '▁아주': 347, '린': 348, '▁짱': 349, '▁봤다': 350, '▁좋다': 351, '합니다': 352, '며': 353, '경': 354, '길': 355, 'ᅳᅳ': 356, '생': 357, '노': 358, '▁구': 359, '▁봐도': 360, '이랑': 361, '위': 362, '래': 363, '▁알': 364, '타': 365, '▁사람': 366, '재': 367, '잘': 368, '▁많은': 369, '면서': 370, '류': 371, '▁일본': 372, '때문에': 373, '▁좋아': 374, '죠': 375, '하지만': 376, '하면': 377, '▁ᄒᄒ': 378, '르': 379, '▁모두': 380, '희': 381, '▁재밌다': 382, '이라': 383, '▁여자': 384, '인가': 385, '레': 386, '▁어떻게': 387, '▁재미있게': 388, '▁내내': 389, '▁이걸': 390, '▁계속': 391, '▁나오는': 392, '▁후': 393, ',,': 394, '▁그런': 395, '루': 396, '▁줄': 397, '▁내용이': 398, '▁시': 399, '▁코미디': 400, '▁않고': 401, '없이': 402, '▁최악': 403, '박': 404, '간': 405, '연기': 406, '▁소': 407, '하나': 408, '-': 409, '▁대박': 410, '▁배우들': 411, '▁아니라': 412, '▁이영화': 413, '들은': 414, '▁자': 415, '날': 416, '었다': 417, '발': 418, '▁반': 419, '엔': 420, '▁보기': 421, '▁아닌': 422, '저': 423, '한테': 424, '▁최악의': 425, '▁애': 426, '되': 427, '했던': 428, '▁남': 429, '▁신': 430, '▁모든': 431, '▁그래도': 432, '▁한번': 433, '▁4': 434, '민': 435, '▁하고': 436, '지는': 437, '▁이상': 438, '▁주인공': 439, '▁되': 440, 'o': 441, '구나': 442, '파': 443, '번': 444, '든': 445, '판': 446, '시간': 447, '방': 448, '▁딱': 449, '▁아니다': 450, '▁모': 451, '애': 452, '▁듯': 453, '▁남자': 454, '▁실망': 455, '▁7': 456, '▁연기가': 457, '프': 458, '봤는데': 459, '까': 460, '▁5': 461, '▁아름다운': 462, '차': 463, '▁우리': 464, '▁만드는': 465, '▁제일': 466, '이라는': 467, '▁욕': 468, '피': 469, '점도': 470, '▁근데': 471, '▁공포': 472, '국': 473, '형': 474, '▁전개': 475, '지도': 476, '10': 477, '▁않은': 478, '반': 479, '없다': 480, '겨': 481, '하네요': 482, '▁감독이': 483, '▁스릴러': 484, '▁연기도': 485, '▁않는': 486, '터': 487, '▁바': 488, '▁수준': 489, '▁음악': 490, '▁제대로': 491, '▁기억': 492, '▁8': 493, '▁굿': 494, '님': 495, '▁이해': 496, '▁보다가': 497, 'ᄒᄒ': 498, '▁장면': 499, '림': 500, '▁건': 501, '▁개봉': 502, '현': 503, '▁스토리가': 504, '▁내용도': 505, '이란': 506, '회': 507, '후': 508, '겠다': 509, '관': 510, '망': 511, '▁요즘': 512, '이고': 513, '▁만들어': 514, '산': 515, '▁재미없다': 516, '▁장': 517, '▁나는': 518, '보면': 519, '▁보다': 520, '니까': 521, '카': 522, '못': 523, '▁아니고': 524, '▁애니': 525, '▁추천': 526, '▁강': 527, '하네': 528, '♥': 529, '즈': 530, '적으로': 531, '버': 532, '하기': 533, '▁막장': 534, '▁이제': 535, '▁부': 536, '▁박': 537, '▁반전': 538, '배': 539, '▁스': 540, '보는': 541, '▁OO': 542, '▁9': 543, '!!!!': 544, '▁절대': 545, '생각': 546, '공': 547, '▁우': 548, '들을': 549, '▁0': 550, '토': 551, '▁싶다': 552, '점이': 553, 'ᄒ': 554, '~~~': 555, '키': 556, '다니': 557, '따': 558, '▁때문에': 559, '▁영화라고': 560, '▁시간이': 561, '년대': 562, '다가': 563, '태': 564, '▁인생': 565, '▁파': 566, '티': 567, '▁영화의': 568, '▁아직도': 569, '왜': 570, '짱': 571, '▁걸': 572, '▁여운이': 573, '포': 574, '▁주는': 575, '▁아까운': 576, '▁심': 577, '▁세': 578, '건지': 579, '으': 580, '▁차라리': 581, '양': 582, '▁재미도': 583, '▁나름': 584, '▁망': 585, '속': 586, '▁눈': 587, '\"\"': 588, '4': 589, '실': 590, '라도': 591, '석': 592, '▁나온': 593, '했는데': 594, '▁엄청': 595, '▁특히': 596, '▁좋았다': 597, '▁되는': 598, '▁표현': 599, '▁걍': 600, '▁영화입니다': 601, '▁남는': 602, '▁도대체': 603, '▁나도': 604, '▁보면서': 605, '달': 606, 'ᅳ': 607, '▁몇': 608, '▁조금': 609, '▁진심': 610, '5': 611, '이라고': 612, '▁스토리도': 613, '종': 614, '▁우리나라': 615, '참': 616, '▁속': 617, '▁대사': 618, '져': 619, '▁감독의': 620, '▁진': 621, '▁오랜만에': 622, '평점': 623, '뿐': 624, '▁원': 625, '▁불': 626, '▁눈물': 627, '▁배': 628, '문': 629, '▁캐릭터': 630, '▁마지막에': 631, '인듯': 632, '정도': 633, '▁멋진': 634, '역': 635, '점은': 636, '▁공포영화': 637, '▁이해가': 638, '▁뻔한': 639, '▁피': 640, '▁노': 641, 'ᅮᅮ': 642, '▁결말': 643, '것도': 644, '해요': 645, 't': 646, '금': 647, '▁동': 648, '▁시리즈': 649, '▁없음': 650, '▁울': 651, '▁사람들': 652, '▁좋고': 653, '▁좋아하는': 654, '코': 655, '▁B': 656, '▁ᄏᄏᄏᄏ': 657, '어서': 658, '▁없': 659, '스토리': 660, '력': 661, '▁영': 662, '▁생각이': 663, '죽': 664, '계': 665, '밖에': 666, '▁봤습니다': 667, '▁재밌어요': 668, '▁시작': 669, '는거': 670, '▁봤던': 671, '극': 672, '▁쓰': 673, '▁20': 674, ';;;': 675, 'e': 676, 'd': 677, '▁막': 678, '볼': 679, '매': 680, '쳐': 681, 'ᄏᄏᄏᄏ': 682, '이런': 683, '▁수작': 684, '체': 685, '???': 686, '없': 687, '만큼': 688, '사람': 689, '▁공감': 690, '더라': 691, '였다': 692, '▁발': 693, '▁영화에': 694, '▁지루하고': 695, '배우': 696, '▁지루한': 697, '넘': 698, '해도': 699, '▁재미가': 700, '는게': 701, '▁재밌': 702, '▁싶은': 703, '▁미국': 704, '▁가슴': 705, '장면': 706, '예': 707, '/': 708, '▁연': 709, '던데': 710, '려고': 711, '▁초': 712, '봤다': 713, '▁원작': 714, '▁오늘': 715, '▁재밌는': 716, '▁ᅲ': 717, '▁어떤': 718, '▁함께': 719, '▁끝': 720, '▁뭘': 721, '그냥': 722, '▁뭔': 723, '▁될': 724, '▁재': 725, '▁공': 726, '있다': 727, '▁그저': 728, '▁지루함': 729, '▁OOO': 730, '▁기분': 731, '▁사람이': 732, '▁배우들의': 733, '▁없이': 734, '하며': 735, '▁노래': 736, '릴': 737, '▁날': 738, '▁큰': 739, '▁개인적으로': 740, '▁된': 741, '▁^^': 742, '등': 743, '집': 744, '▁보는내내': 745, '탄': 746, '▁여': 747, '▁졸작': 748, '▁알바': 749, '▁괜찮은': 750, '▁나오': 751, '는지': 752, '불': 753, '▁애니메이션': 754, '▁정도': 755, '▁얼마나': 756, '▁않': 757, '▁못한': 758, '김': 759, '7': 760, '▁보세요': 761, '중에': 762, '▁안되는': 763, '▁연기력': 764, '▁몰입도': 765, '▁성': 766, '▁아무리': 767, '▁최고다': 768, '▁캐스팅': 769, '▁소재': 770, '잼': 771, '▁인간': 772, '돈': 773, '~!': 774, '담': 775, '▁영화로': 776, '▁필요': 777, '▁만들': 778, '녀': 779, ',,,': 780, '8': 781, '병': 782, '▁매': 783, '구만': 784, '최고': 785, '꺼': 786, '▁후회': 787, '▁기억에': 788, '사랑': 789, '대로': 790, '▁\"': 791, '강': 792, '▁현실': 793, '있': 794, '움': 795, '▁시나리오': 796, '감동': 797, 's': 798, '▁머': 799, '스트': 800, '감독': 801, '▁예': 802, '하면서': 803, '▁인': 804, '▁결국': 805, '▁선': 806, '갈': 807, '격': 808, '▁매우': 809, '▁억지': 810, '악': 811, '▁살': 812, '▁제발': 813, '했음': 814, '▁연기는': 815, '▁6': 816, '▁만화': 817, '했': 818, '작품': 819, '▁제목': 820, '▁그렇게': 821, '글': 822, '이지만': 823, '투': 824, '▁사실': 825, '▁지루하다': 826, '론': 827, '▁영상': 828, '업': 829, '봐도': 830, '기에': 831, 'a': 832, '슨': 833, '이었다': 834, '리는': 835, '초': 836, '▁가족': 837, '▁같이': 838, '▁것이': 839, '주는': 840, '었는데': 841, '▁허': 842, '▁모르겠다': 843, '▁분위기': 844, '6': 845, '기도': 846, '교': 847, '▁설정': 848, '▁코믹': 849, '▁있': 850, '▁있고': 851, '액션': 852, '▁화': 853, '▁보지': 854, '증': 855, '하는데': 856, '▁봤어요': 857, '통': 858, '봄': 859, '▁들': 860, '▁강추': 861, '▁극장에서': 862, '▁\"\"': 863, '▁하나도': 864, '능': 865, '권': 866, '▁행복': 867, '쓰레기': 868, '▁더빙': 869, '이네': 870, '▁않는다': 871, '▁단': 872, '니다': 873, '▁아이': 874, '▁문제': 875, '▁애들': 876, '▁준': 877, '학': 878, '▁한국영화': 879, '머': 880, '케': 881, '▁별점': 882, '너': 883, '▁위해': 884, '된다': 885, '▁위한': 886, '▁너무나': 887, '절': 888, '▁마음이': 889, '봐': 890, '잡': 891, '▁차': 892, '새': 893, '맨': 894, '▁긴장감': 895, '점을': 896, '군요': 897, '▁알고': 898, '입': 899, '▁있을': 900, '▁맞': 901, '근': 902, '▁없어': 903, '▁한다': 904, '보단': 905, '▁보게': 906, '기는': 907, '▁정신': 908, '▁총': 909, '그리고': 910, '▁좋아요': 911, '9': 912, '이네요': 913, '아니': 914, '▁존나': 915, '▁명': 916, 'ᅮ': 917, '▁주연': 918, '▁너': 919, '▁토': 920, '▁봐야': 921, '설': 922, '▁그만': 923, '테': 924, '▁느낌이': 925, '창': 926, '▁누가': 927, '▁대체': 928, '보니': 929, '▁들어': 930, '▁모습': 931, '▁상': 932, '▁미친': 933, '범': 934, '알': 935, '버린': 936, '온': 937, '결': 938, '▁눈물이': 939, '▁로맨스': 940, '▁내용은': 941, '이야': 942, '재미': 943, '▁훨씬': 944, '내용': 945, '락': 946, '▁매력': 947, '▁죽': 948, '▁잼': 949, '싶': 950, '을까': 951, '▁입': 952, '뭐': 953, '▁갈수록': 954, '▁CG': 955, '끼': 956, '▁그나마': 957, '▁영화네요': 958, '▁열': 959, '▁음': 960, '>': 961, '▁ᄒ': 962, '건가': 963, '점대': 964, '▁감동이': 965, '▁가슴이': 966, '▁꽤': 967, '이지': 968, '수준': 969, '었던': 970, '막': 971, '▁재밌음': 972, '▁장난': 973, '▁밖에': 974, '▁엔딩': 975, '▁없었다': 976, '▁결말이': 977, '▁기억이': 978, '▁전쟁': 979, '해야': 980, '거야': 981, '▁ᅮᅮ': 982, '영화는': 983, '▁마음': 984, '먹': 985, '에도': 986, '았': 987, '▁엄마': 988, '▁발연기': 989, '▁백': 990, '▁어느': 991, '언': 992, '▁중국': 993, '▁보여주는': 994, '▁최': 995, '▁잡': 996, '▁평': 997, '▁어설픈': 998, '잇': 999, '▁타': 1000, '블': 1001, '▁그래서': 1002, '▁감': 1003, '색': 1004, '▁유치': 1005, '▁따라': 1006, '나는': 1007, '재밌': 1008, '여자': 1009, '▁재밌고': 1010, '▁물': 1011, '▁-': 1012, '▁연기를': 1013, '▁작가': 1014, '▁다큐': 1015, '▁않다': 1016, '▁졸': 1017, '▁치': 1018, '난다': 1019, '다고': 1020, '환': 1021, '▁똥': 1022, '+': 1023, '빠': 1024, '▁뿐': 1025, '었음': 1026, '년이': 1027, '씬': 1028, '완전': 1029, '소리': 1030, '기를': 1031, '▁극': 1032, '평': 1033, '▁적': 1034, '이상': 1035, '나요': 1036, '▁위': 1037, '▁약': 1038, '▁찾아': 1039, '나오는': 1040, '천': 1041, '▁딸': 1042, '▁호': 1043, '▁주고': 1044, '▁다들': 1045, '▁그러': 1046, '▁영화중': 1047, '좋아': 1048, '▁아쉽다': 1049, '▁노잼': 1050, '▁시즌': 1051, '▁길': 1052, '칠': 1053, '쓰': 1054, '▁지루': 1055, '리고': 1056, '▁쓰레기영화': 1057, '▁평가': 1058, '▁걸작': 1059, '승': 1060, '\"': 1061, '▁영화관에서': 1062, '▁간만에': 1063, '▁상황': 1064, '행': 1065, '않': 1066, '짓': 1067, '될': 1068, '짐': 1069, '▁싶': 1070, '플': 1071, '했지만': 1072, '▁잔잔한': 1073, '▁존': 1074, '▁감동도': 1075, '▁좋': 1076, '▁사람들이': 1077, '▁자기': 1078, '없고': 1079, '인줄': 1080, '록': 1081, '▁손': 1082, '▁예술': 1083, '▁베': 1084, '▁의미': 1085, '▁당시': 1086, '▁올': 1087, '느낌': 1088, '이거': 1089, '▁간': 1090, '슬': 1091, '뻔': 1092, '치는': 1093, '▁30': 1094, '▁재미없': 1095, '▁좋은데': 1096, '▁재미없음': 1097, '▁것을': 1098, '직': 1099, '할수': 1100, '▁당': 1101, '▁전부': 1102, '▁맘에': 1103, '이건': 1104, '이라도': 1105, '영화를': 1106, '듯한': 1107, '▁변': 1108, '▁영화였다': 1109, '친': 1110, '할때': 1111, '▁아님': 1112, '▁같아요': 1113, '또': 1114, '▁것도': 1115, '▁바로': 1116, '▁감동적인': 1117, '▁있을까': 1118, '▁대해': 1119, '▁재미있는': 1120, '적이': 1121, '라면': 1122, '습': 1123, '▁생각보다': 1124, '▁재미있다': 1125, '것이': 1126, '께': 1127, '▁웃': 1128, '▁생각을': 1129, '거지': 1130, '▁상당히': 1131, '▁약간': 1132, '▁진정한': 1133, '▁야': 1134, '됨': 1135, '웃': 1136, '▁출연': 1137, '▁안되': 1138, '▁얼굴': 1139, 'b': 1140, '향': 1141, '▁배경': 1142, '돌': 1143, '침': 1144, '▁그대로': 1145, '라서': 1146, '짜': 1147, '▁자체': 1148, '▁점수': 1149, '▁준다': 1150, '▁네이버': 1151, '▁갈': 1152, '치고': 1153, '▁친구': 1154, '수가': 1155, '▁스토리는': 1156, '▁웃기': 1157, '있고': 1158, '낸': 1159, '▁중간에': 1160, '구요': 1161, '▁같은데': 1162, '눈': 1163, '▁편': 1164, '▁소리': 1165, '이야기': 1166, '▁구성': 1167, 'y': 1168, '▁높은': 1169, '셨': 1170, '같이': 1171, '기만': 1172, '빈': 1173, '▁여주인공': 1174, '▁감동을': 1175, '▁배우들이': 1176, '월': 1177, '▁판타지': 1178, '는건': 1179, '▁감성': 1180, '느': 1181, '▁거의': 1182, '▁재미는': 1183, '▁정도로': 1184, '표': 1185, '▁살아': 1186, '▁오래': 1187, '▁분': 1188, '을때': 1189, '편이': 1190, '순': 1191, '▁나와서': 1192, '더니': 1193, '▁했는데': 1194, '션': 1195, '다는': 1196, '▁재미없는': 1197, '▁먹': 1198, '▁성룡': 1199, '출': 1200, '열': 1201, '▁볼만한': 1202, '▁얘기': 1203, '▁아무': 1204, '▁웃음': 1205, '▁힘들': 1206, '린다': 1207, '▁있지만': 1208, '척': 1209, '▁뭐야': 1210, '▁외': 1211, '외': 1212, '았다': 1213, '▁카': 1214, '▁순': 1215, '▁봤지만': 1216, '퍼': 1217, '남자': 1218, '에선': 1219, '▁메': 1220, '조차': 1221, '나오': 1222, '름': 1223, '▁같': 1224, '영화가': 1225, '▁장르': 1226, '목': 1227, 'r': 1228, '▁된다': 1229, '▁이영화를': 1230, '레이': 1231, 'ᄉ': 1232, '▁게': 1233, '▁이름': 1234, '커': 1235, '▁있었': 1236, '기대': 1237, '0': 1238, '▁줄거리': 1239, '▁코': 1240, '▁추억': 1241, '▁봐서': 1242, '처': 1243, '▁악': 1244, '백': 1245, '▁충격': 1246, '▁뭐지': 1247, '▁등': 1248, '햇': 1249, '▁영화인데': 1250, '▁각본': 1251, '▁암': 1252, '복': 1253, '▁감정': 1254, '▁굉장히': 1255, '했습니다': 1256, '들도': 1257, '편은': 1258, '▁장면이': 1259, '▁예상': 1260, '놓고': 1261, '욕': 1262, '▁보니': 1263, '으나': 1264, '▁글': 1265, '었어요': 1266, '▁갑자기': 1267, '혜': 1268, '▁왕': 1269, '▁스릴': 1270, '▁끝나': 1271, '▁어디서': 1272, 'D': 1273, '해라': 1274, '▁재밌네요': 1275, 'ᄋ': 1276, '건데': 1277, '▁많': 1278, '정도로': 1279, '들에게': 1280, '▁아버지': 1281, '▁비교': 1282, '▁훌륭한': 1283, '▁싸': 1284, '▁제가': 1285, '▁다음': 1286, '▁이딴': 1287, '어야': 1288, '근데': 1289, '베': 1290, '▁누구': 1291, '▁ᅳ': 1292, '▁영화임': 1293, '▁저런': 1294, '▁잠': 1295, '▁새로운': 1296, '▁극장판': 1297, 'k': 1298, '▁원작을': 1299, '▁있어서': 1300, '▁번': 1301, '없음': 1302, '▁아이들': 1303, '▁머리': 1304, '▁경': 1305, '였음': 1306, '▁몸': 1307, '왕': 1308, '찍': 1309, '들어': 1310, '줘': 1311, '겠지': 1312, '▁계': 1313, '광': 1314, '~!!': 1315, '되어': 1316, '▁관': 1317, '▁방송': 1318, '▁말도': 1319, '▁90': 1320, '▁그리': 1321, '스러운': 1322, '▁하지': 1323, '▁역': 1324, '▁뭐냐': 1325, '▁생': 1326, '▁평점을': 1327, '▁화면': 1328, '였': 1329, '♡': 1330, '각': 1331, '땜에': 1332, '추': 1333, '▁아직': 1334, '▁감독님': 1335, '▁양': 1336, 'h': 1337, '▁마음에': 1338, '▁힘': 1339, '▁주제': 1340, '▁만': 1341, '▁영상미': 1342, '▁허접': 1343, '▁따': 1344, '▁달': 1345, '▁잼있': 1346, '주의': 1347, '했어요': 1348, '▁재미있어요': 1349, '▁여배우': 1350, '슴': 1351, '▁생각하게': 1352, '철': 1353, '▁주인공이': 1354, 'm': 1355, '거다': 1356, '▁포스터': 1357, '▁항상': 1358, '합': 1359, '▁사회': 1360, '▁뒤': 1361, '한거': 1362, '▁크': 1363, 'n': 1364, '▁깨': 1365, '▁현': 1366, '련': 1367, '▁맛': 1368, '간다': 1369, 'g': 1370, '▁흥행': 1371, '▁대단한': 1372, '럽': 1373, '땐': 1374, '▁있어': 1375, '채': 1376, '▁일단': 1377, '▁그런지': 1378, '▁나올': 1379, '길래': 1380, '▁버': 1381, '좋': 1382, '▁못하는': 1383, '▁그러나': 1384, '곤': 1385, '▁자체가': 1386, '마지막': 1387, '허': 1388, '듬': 1389, '▁봤음': 1390, '으니': 1391, '▁비해': 1392, '▁혼자': 1393, '▁봐라': 1394, '▁개연성': 1395, '▁비디오': 1396, '▁윤': 1397, '▁여기': 1398, '▁영화도': 1399, '▁팬': 1400, '▁처음부터': 1401, '▁집중': 1402, '이라면': 1403, '▁가지고': 1404, '▁뭐가': 1405, '▁저는': 1406, '보기': 1407, '▁충분히': 1408, '별로': 1409, '▁가는': 1410, '년전': 1411, '▁있는데': 1412, '였는데': 1413, '▁산': 1414, '▁언제': 1415, '▁했다': 1416, '었': 1417, '▁실': 1418, '▁TV': 1419, '분들': 1420, '해지는': 1421, '▁없어서': 1422, '_': 1423, '에는': 1424, '▁빨리': 1425, '▁요': 1426, '▁궁금': 1427, '▁천': 1428, '▁종': 1429, '츠': 1430, '▁짜증': 1431, '하냐': 1432, '덕': 1433, '귀': 1434, '▁세계': 1435, '진다': 1436, '같다': 1437, '▁좋은영화': 1438, '부분': 1439, '거나': 1440, '▁제작': 1441, '처음': 1442, '▁목': 1443, '▁꿀잼': 1444, '▁옛날': 1445, '▁사람은': 1446, '법': 1447, '▁이런영화': 1448, '▁점점': 1449, '잔': 1450, '▁너무너무': 1451, '▁책': 1452, '도록': 1453, '▁(': 1454, '▁있었다': 1455, '끝': 1456, '▁순간': 1457, '▁봄': 1458, '▁아까움': 1459, '▁레': 1460, '런': 1461, '▁몰입': 1462, '▁안된다': 1463, 'OO': 1464, '▁잘못': 1465, '별': 1466, '쯤': 1467, '적이고': 1468, '▁꿈': 1469, 'i': 1470, '하니': 1471, '▁초딩': 1472, '▁여주': 1473, '▁나와': 1474, '벌': 1475, '패': 1476, '▁나이': 1477, '▁높': 1478, '났': 1479, '▁나의': 1480, '▁만점': 1481, '▁삼류': 1482, '브': 1483, '청': 1484, '▁나온다': 1485, '지금': 1486, '▁더욱': 1487, '다면': 1488, '▁포': 1489, '▁좋네요': 1490, '배우들': 1491, '▁나왔': 1492, '메': 1493, '했고': 1494, '라니': 1495, '▁부분': 1496, '▁하다': 1497, '▁패': 1498, '내가': 1499, '▁완벽': 1500, '▁추': 1501, '▁작': 1502, '▁부족': 1503, '▁시절': 1504, '혀': 1505, '▁멜로': 1506, '시대': 1507, '약': 1508, '▁써': 1509, '다시': 1510, '▁이유': 1511, '겠지만': 1512, '삼': 1513, '▁돌': 1514, '▁찾': 1515, '술': 1516, '▁첨': 1517, '▁좋겠다': 1518, '▁쳐': 1519, '▁그닥': 1520, '▁것은': 1521, '▁삼': 1522, '되고': 1523, '▁선택': 1524, '▁볼만': 1525, '잖아': 1526, '곡': 1527, '▁도저히': 1528, '▁보여주': 1529, '거냐': 1530, '사람들': 1531, '최악': 1532, '▁유치한': 1533, '▁무조건': 1534, '▁한마디로': 1535, '▁해서': 1536, '▁진행': 1537, '마다': 1538, 'u': 1539, '이라니': 1540, '▁엄청난': 1541, '랄': 1542, '▁과거': 1543, '▁관객': 1544, '▁어릴때': 1545, '▁노력': 1546, '▁놀': 1547, '▁실화': 1548, '추천': 1549, '익': 1550, '규': 1551, '효': 1552, '▁참고': 1553, '▁생각해': 1554, '연출': 1555, '▁아쉬운': 1556, '▁이영화는': 1557, '성이': 1558, '써': 1559, '▁불륜': 1560, '▁전개가': 1561, '▁어색': 1562, '▁성우': 1563, '▁다시봐도': 1564, '전개': 1565, '▁새': 1566, '놈': 1567, '이게': 1568, '른': 1569, '▁편집': 1570, '▁예전에': 1571, '▁슬픈': 1572, '▁대단': 1573, '▁망작': 1574, '재미있': 1575, '▁돌아': 1576, '▁100': 1577, '▁M': 1578, '앗': 1579, '염': 1580, '▁지금까지': 1581, '만한': 1582, '롭': 1583, '▁소설': 1584, '▁귀': 1585, '▁낮은': 1586, '립': 1587, '▁두번': 1588, '▁아닌가': 1589, '▁그때': 1590, '▁짜': 1591, '▁질': 1592, '▁지나': 1593, '▁어디': 1594, '올': 1595, '▁문': 1596, '▁낫다': 1597, '▁따뜻한': 1598, '▁감동적이': 1599, '▁휴': 1600, '▁재밌는데': 1601, '▁재밌었다': 1602, '것같다': 1603, '하여': 1604, '튼': 1605, '▁보는데': 1606, '▁모르고': 1607, 'c': 1608, '▁쓴': 1609, '▁원래': 1610, 'l': 1611, '걸까': 1612, '▁돈주고': 1613, '▁봤네요': 1614, '나서': 1615, '나라': 1616, '보다는': 1617, '▁이미': 1618, '▁존재': 1619, '존': 1620, '▁만족': 1621, '▁숨': 1622, '▁감독은': 1623, '하던': 1624, '▁첫': 1625, '먼': 1626, '▁없네': 1627, '뜨': 1628, '대박': 1629, '봐서': 1630, '▁80': 1631, '▁없을': 1632, '▁인물': 1633, '엇': 1634, '▁댓글': 1635, '▁사랑을': 1636, '념': 1637, '▁물론': 1638, '-_-': 1639, '▁이것도': 1640, '▁지루해': 1641, '▁사람들은': 1642, '▁늘': 1643, '▁설': 1644, '거리': 1645, '▁통': 1646, '▁모르는': 1647, '▁어린': 1648, '▁힘든': 1649, ':': 1650, '▁복수': 1651, '▁합니다': 1652, '▁자꾸': 1653, '이냐': 1654, '기가': 1655, '▁봐': 1656, '세요': 1657, '▁있음': 1658, '▁찍': 1659, '▁초반': 1660, '지고': 1661, '▁결혼': 1662, '▁않았': 1663, '▁ᄍᄍ': 1664, '만들': 1665, '▁역사': 1666, '▁완벽한': 1667, '▁설명': 1668, '봐라': 1669, '년도': 1670, '명작': 1671, '졌다': 1672, '▁그래픽': 1673, '여서': 1674, '음악': 1675, '료': 1676, '시리즈': 1677, '▁흠': 1678, '▁죽음': 1679, '풍': 1680, '▁까': 1681, '링': 1682, '▁전형적인': 1683, '쉬': 1684, '▁바보': 1685, '▁귀신': 1686, '▁더럽게': 1687, '그래도': 1688, '몰': 1689, '▁그게': 1690, '▁감상': 1691, '▁아빠': 1692, '▁미화': 1693, '▁느낄': 1694, '라이': 1695, '▁저질': 1696, '▁만나': 1697, '본다': 1698, '윤': 1699, '년에': 1700, '▁괜히': 1701, '졌': 1702, '▁여성': 1703, '좋은': 1704, '함을': 1705, '▁반전이': 1706, '싸': 1707, '▁오히려': 1708, '▁데': 1709, '들과': 1710, '▁예고편': 1711, '▁상상': 1712, '보는데': 1713, '주인공': 1714, '00': 1715, '▁있다는': 1716, '▁웃긴': 1717, '겟': 1718, '▁목소리': 1719, '▁느끼게': 1720, '▁연출이': 1721, '혹': 1722, '▁없네요': 1723, '▁만들었': 1724, '▁나라': 1725, '이에요': 1726, '변': 1727, '▁부족한': 1728, '▁알았다': 1729, '▁이정도': 1730, '▁억지로': 1731, '▁무서운': 1732, '▁이리': 1733, '▁되어': 1734, '▁뭔지': 1735, '아이': 1736, '▁병맛': 1737, '▁만들지': 1738, '찬': 1739, '▁방': 1740, '▁알게': 1741, '▁평점은': 1742, '................': 1743, '하는거': 1744, '▁SF': 1745, '리가': 1746, '점짜리': 1747, '▁헐': 1748, '하세요': 1749, 'x': 1750, '▁우연히': 1751, '탈': 1752, '굿': 1753, '는걸': 1754, '▁완성도': 1755, '▁인정': 1756, '▁일본영화': 1757, '그런': 1758, '▁인간의': 1759, '틀': 1760, '많이': 1761, '아서': 1762, '▁연출력': 1763, '▁현재': 1764, '▁이야기를': 1765, '▁평점에': 1766, '을듯': 1767, '겠': 1768, '▁믿고': 1769, '▁대한민국': 1770, '일까': 1771, '만으로도': 1772, '지않': 1773, '▁신기': 1774, '모르': 1775, '맛': 1776, '십': 1777, '▁볼수': 1778, '▁리': 1779, '▁훌륭': 1780, '짝': 1781, '▁스타일': 1782, '징': 1783, '▁진실': 1784, '~~~~': 1785, '에요': 1786, 'f': 1787, '영화다': 1788, 'B': 1789, '▁돈이': 1790, '▁재밌어': 1791, '▁아무것도': 1792, '▁이상한': 1793, '▁기대하고': 1794, '▁담': 1795, '억': 1796, '▁좋았어요': 1797, '속에': 1798, '▁비슷한': 1799, '▁온': 1800, '훈': 1801, '▁꼬': 1802, '▁세상': 1803, '▁재미있': 1804, '하긴': 1805, '놈들': 1806, '축': 1807, '강추': 1808, '▁개그': 1809, '좋다': 1810, '꼬': 1811, '▁서로': 1812, '▁대작': 1813, '끔': 1814, '▁프랑스': 1815, '▁작품성': 1816, '▁액션도': 1817, '▁재미없어': 1818, '숙': 1819, '▁좋음': 1820, '^': 1821, '▁트': 1822, '▁b': 1823, '▁재밋': 1824, '▁형': 1825, '▁듯한': 1826, '▁영화라': 1827, '▁으': 1828, '▁처음으로': 1829, '▁배우가': 1830, '답': 1831, '▁교': 1832, '▁특유의': 1833, '더군요': 1834, '▁재미있고': 1835, '▁황': 1836, '딱': 1837, '한번': 1838, '▁ost': 1839, '전에': 1840, '힌': 1841, '함이': 1842, '에겐': 1843, '▁태': 1844, '▁성장': 1845, '▁수가': 1846, '▁유머': 1847, '도없고': 1848, '한데': 1849, '족': 1850, '▁가치': 1851, '▁여운': 1852, '▁알았는데': 1853, '아닌': 1854, '자가': 1855, '주세요': 1856, '▁천재': 1857, '▁낮': 1858, '지루': 1859, '▁앞으로': 1860, '인거': 1861, '▁않을': 1862, '재밋': 1863, '말이': 1864, '▁코메디': 1865, '▁했': 1866, '▁이후': 1867, '▁지루하지': 1868, '▁바람': 1869, '▁것이다': 1870, '▁흥미': 1871, '성을': 1872, '렸다': 1873, '봐야': 1874, '했을': 1875, '스럽다': 1876, '▁대단하다': 1877, '드는': 1878, '이면': 1879, '▁이러': 1880, '▁전작': 1881, '▁청춘': 1882, '킹': 1883, '▁흥미진진': 1884, '▁지금도': 1885, '▁해도': 1886, '아깝다': 1887, '였던': 1888, '▁졸라': 1889, '▁말고': 1890, '▁마무리': 1891, '으며': 1892, '▁화이팅': 1893, '▁이런걸': 1894, '▁이런거': 1895, '▁아이들이': 1896, '역시': 1897, '▁감사': 1898, '▁이번': 1899, '▁만드': 1900, '▁보여': 1901, '▁어렸을때': 1902, '▁모습이': 1903, '▁않았다': 1904, '▁교훈': 1905, '▁유치하고': 1906, '보다가': 1907, '▁왜이리': 1908, '▁만들었다': 1909, '▁킬링타임용': 1910, '▁떨': 1911, '▁액션영화': 1912, '▁재미없고': 1913, '▁골': 1914, '책': 1915, '▁멋있': 1916, '▁지난': 1917, '▁소름': 1918, '보면서': 1919, '무슨': 1920, '▁영화보다': 1921, '놓은': 1922, '품': 1923, '▁둘': 1924, '▁프로': 1925, '▁금': 1926, '▁실제': 1927, '▁시청률': 1928, '보이': 1929, '맞': 1930, '▁낚': 1931, '났다': 1932, '어도': 1933, '는것': 1934, '▁맞는': 1935, '페': 1936, '반전': 1937, '▁노출': 1938, '▁tv': 1939, 'T': 1940, '▁병': 1941, '▁않음': 1942, 'S': 1943, '웃음': 1944, '많': 1945, '▁장면은': 1946, '▁시대': 1947, '▁확': 1948, '것이다': 1949, '▁식': 1950, '였습니다': 1951, '▁속편': 1952, '만든': 1953, '▁본다': 1954, '▁아쉽': 1955, '가족': 1956, '오는': 1957, '▁또한': 1958, '얼': 1959, '렌': 1960, '▁화려한': 1961, '방송': 1962, 'C': 1963, '가서': 1964, '▁빠져': 1965, '▁ᄒᄒᄒ': 1966, '▁아니지만': 1967, '▁괴': 1968, '▁명작이다': 1969, '영화중': 1970, '▁그렇고': 1971, '▁귀여운': 1972, '애니': 1973, '▁광': 1974, '▁겁나': 1975, '%': 1976, '했는지': 1977, '▁알아': 1978, '밀': 1979, '▁사랑이': 1980, '▁관계': 1981, '▁비추': 1982, '▁관람': 1983, '▁남주': 1984, '▁몰': 1985, '▁아닐까': 1986, '▁게임': 1987, '점준다': 1988, '▁알았': 1989, '▁저도': 1990, '▁진부한': 1991, '▁클': 1992, '▁먹먹': 1993, '▁분명': 1994, '수록': 1995, '▁왠지': 1996, '▁뻔': 1997, '한영화': 1998, 'p': 1999, '시켜': 2000, '작가': 2001, '▁최악이다': 2002, '량': 2003, '셔': 2004, '▁작품이': 2005, '갑': 2006, '▁어찌': 2007, '네여': 2008, '리스': 2009, '▁사건': 2010, '▁신선': 2011, '▁좋았고': 2012, '▁행동': 2013, '하자': 2014, '▁좋았습니다': 2015, '▁떠나': 2016, '닥': 2017, '▁삶': 2018, '▁C': 2019, '▁복': 2020, '▁터': 2021, '분이': 2022, '▁전체적으로': 2023, '팬': 2024, '▁자유': 2025, '모습': 2026, '려서': 2027, '▁짜증나': 2028, '▁그래': 2029, '▁보이는': 2030, '독': 2031, '이렇게': 2032, '▁경찰': 2033, '든다': 2034, '▁내인생': 2035, '면서도': 2036, '받': 2037, '꼭': 2038, '▁보여준': 2039, '노잼': 2040, '▁하면': 2041, '끄': 2042, '▁나쁜': 2043, '▁나만': 2044, '▁군대': 2045, '▁생각한다': 2046, '▁없었': 2047, '▁심리': 2048, '▁스토리에': 2049, '▁안보': 2050, '@': 2051, '사람이': 2052, '하는게': 2053, '었지만': 2054, '풀': 2055, '▁중에': 2056, '완': 2057, '령': 2058, '▁그런데': 2059, '을텐데': 2060, '했으면': 2061, '▁느끼': 2062, '▁눈이': 2063, '▁마치': 2064, '있게': 2065, '▁무엇보다': 2066, '▁영화였습니다': 2067, '▁시간낭비': 2068, '▁허접한': 2069, '▁같습니다': 2070, '▁먼저': 2071, '▁지루하': 2072, '▁삶을': 2073, '▁받': 2074, '겠네': 2075, '▁끝내': 2076, '인이': 2077, '▁살인': 2078, '▁성공': 2079, 'ᅲᅲᅲ': 2080, '졸': 2081, '▁상상력': 2082, '▁보고나서': 2083, '실망': 2084, '▁극장': 2085, '▁별루': 2086, '▁한계': 2087, '▁집': 2088, '순간': 2089, '▁대충': 2090, '▁너무나도': 2091, '▁아들': 2092, '▁재밌었어요': 2093, '▁독': 2094, '견': 2095, '▁어이없': 2096, '20': 2097, '▁범죄': 2098, '황': 2099, '버렸다': 2100, '앙': 2101, '▁깊이': 2102, '▁일상': 2103, '▁질질': 2104, '▁맥': 2105, '▁그녀': 2106, '▁소재는': 2107, '▁비슷': 2108, '▁회': 2109, '친구': 2110, '엄': 2111, '특히': 2112, '▁한편': 2113, '▁못하고': 2114, '▁좀비': 2115, '▁떠': 2116, '▁로맨틱': 2117, '▁깊은': 2118, '▁지금봐도': 2119, '▁취': 2120, '▁함': 2121, '▁이젠': 2122, '▁영화에서': 2123, '인간': 2124, '▁인상적': 2125, '▁확실히': 2126, '▁영화중에': 2127, '▁드라마를': 2128, '▁투': 2129, '와서': 2130, '거같다': 2131, '▁상영': 2132, '낮': 2133, '▁액션이': 2134, '▁다소': 2135, '▁자신의': 2136, '▁디': 2137, '▁싫어': 2138, '▁용': 2139, '필': 2140, '다른': 2141, '버리': 2142, '▁각': 2143, '쪽': 2144, '▁어이없는': 2145, '재밌게': 2146, '에서는': 2147, '▁카메라': 2148, '▁잘봤습니다': 2149, '거임': 2150, '▁아오': 2151, '최': 2152, '▁급': 2153, '▁하는데': 2154, '야지': 2155, '득': 2156, '--': 2157, '▁마음을': 2158, '누': 2159, '▁있었던': 2160, '▁자신': 2161, '▁좋았는데': 2162, '▁어색한': 2163, '▁처': 2164, '준다': 2165, '▁표': 2166, '이제': 2167, '휴': 2168, '취': 2169, '=': 2170, '걸로': 2171, '▁읽': 2172, '던가': 2173, '그러': 2174, '▁입니다': 2175, '되지': 2176, '▁좋았음': 2177, '으면서': 2178, '▁눈을': 2179, '▁영웅': 2180, '▁여자들': 2181, '들아': 2182, '▁해준': 2183, '깨': 2184, '손': 2185, '▁모습을': 2186, '시는': 2187, '▁같네요': 2188, '▁세상에': 2189, '▁왜이렇게': 2190, '▁자연': 2191, '▁이영화가': 2192, '▁사이': 2193, 'w': 2194, '송': 2195, '코미디': 2196, '▁독립영화': 2197, '로운': 2198, '뿌': 2199, '▁그런가': 2200, '▁이야기가': 2201, '▁평론가': 2202, '▁매력적인': 2203, '▁잘만든': 2204, '▁여자가': 2205, '던지': 2206, '놓': 2207, '▁절': 2208, '▁흐': 2209, '▁범인': 2210, '한건': 2211, '▁고민': 2212, '최고의': 2213, '가지': 2214, '~^^': 2215, '▁연애': 2216, '????': 2217, '▁촬영': 2218, '보세요': 2219, '▁커': 2220, '▁낭비': 2221, '씩': 2222, '▁프로그램': 2223, '▁스케일': 2224, '있어': 2225, '▁그랬': 2226, '▁유쾌한': 2227, '▁믿': 2228, '▁수준이': 2229, '▁부분이': 2230, '▁이런게': 2231, '스런': 2232, '빨': 2233, '▁인상': 2234, '▁키': 2235, '시간이': 2236, '▁이것': 2237, '▁순수한': 2238, '▁리얼': 2239, '▁국': 2240, '껄': 2241, '▁느껴지는': 2242, '▁아놔': 2243, '▁감사합니다': 2244, 'ᄃ': 2245, '것은': 2246, '스타': 2247, '▁훨': 2248, 'ᄀ': 2249, '일뿐': 2250, '▁동화': 2251, '이며': 2252, '▁리메이크': 2253, '없어': 2254, '▁단순': 2255, '하라': 2256, '한듯': 2257, '▁긴': 2258, '소재': 2259, '▁이쁘': 2260, '▁ᄉᄇ': 2261, '고싶다': 2262, '텐데': 2263, '▁답': 2264, '▁A': 2265, '▁팔': 2266, '▁티': 2267, '갔': 2268, '▁내용을': 2269, '▁ᄏᄏᄏᄏᄏ': 2270, '▁매력이': 2271, '▁저예산': 2272, '▁찍은': 2273, '▁딴': 2274, '드라': 2275, '▁스토리와': 2276, '딸': 2277, '봤음': 2278, '▁해주는': 2279, '▁감탄': 2280, '▁OST': 2281, '▁예전': 2282, '때마다': 2283, '▁역대': 2284, '▁떨어지는': 2285, '▁15': 2286, '▁나에게': 2287, '됐': 2288, '▁기분이': 2289, '더만': 2290, '▁역시나': 2291, '▁해야': 2292, '▁19': 2293, '▁벌': 2294, '쿠': 2295, '▁중간중간': 2296, '▁여전히': 2297, '▁현대': 2298, '재미없': 2299, '▁처음이다': 2300, '나온': 2301, '▁독특한': 2302, '▁끌': 2303, '주고': 2304, '▁아니면': 2305, '항': 2306, '▁메세지': 2307, '하려는': 2308, '▁-_-': 2309, '▁했지만': 2310, '▁현실성': 2311, '▁나를': 2312, '▁아저씨': 2313, '시절': 2314, '쇼': 2315, '었으면': 2316, '▁중간': 2317, '확': 2318, '▁든다': 2319, '▁돌려': 2320, '▁권': 2321, '▁초반에': 2322, '시킨': 2323, '▁아닌데': 2324, 'ᄏᄏᄏᄏᄏᄏᄏᄏᄏᄏᄏᄏᄏᄏᄏᄏ': 2325, '만화': 2326, '▁맨': 2327, '▁전달': 2328, '▁젤': 2329, '▁민': 2330, '찌': 2331, '▁유쾌': 2332, '▁<': 2333, '▁소재를': 2334, '▁섹시': 2335, '▁봤었는데': 2336, '▁마라': 2337, '▁좋을': 2338, '▁나오고': 2339, '▁연기력이': 2340, '▁됐': 2341, '▁하게': 2342, '돼': 2343, '▁역할': 2344, '▁보지마세요': 2345, '▁평범한': 2346, '▁찍어': 2347, '*': 2348, '▁사람을': 2349, '떨': 2350, '▁답답': 2351, '총': 2352, '▁분들': 2353, '려는': 2354, '▁시선': 2355, '아깝': 2356, '감독이': 2357, '▁볼때마다': 2358, '해주는': 2359, '▁그림': 2360, '▁신선한': 2361, '▁있다면': 2362, '▁슬픔': 2363, '▁정치': 2364, '▁안나오': 2365, '(?)': 2366, '만으로': 2367, '응': 2368, '▁전편': 2369, '▁제작진': 2370, '▁미래': 2371, '▁드는': 2372, '▁싶어': 2373, ';;;;': 2374, '▁얼': 2375, '나고': 2376, '▁저렇게': 2377, 'ᄅ': 2378, '닝': 2379, '▁리뷰': 2380, '▁애들이': 2381, '까진': 2382, '충': 2383, '급영화': 2384, '빵': 2385, '▁아름답고': 2386, '내요': 2387, '▁아름답다': 2388, '▁사극': 2389, '▁귀엽고': 2390, '▁가진': 2391, '었습니다': 2392, '인것': 2393, '▁흘러': 2394, '▁호러': 2395, '▁괜찮': 2396, '▁예쁜': 2397, '▁전에': 2398, '▁이유가': 2399, '▁드라마가': 2400, '200': 2401, '▁나중에': 2402, '▁꼴': 2403, '▁평생': 2404, '되서': 2405, '짜리': 2406, '▁그들의': 2407, 'ᄂ': 2408, 'ᄆ': 2409, '유치': 2410, '▁표정': 2411, '▁굳이': 2412, '클': 2413, '흔': 2414, '▁잊지': 2415, '니깐': 2416, '웠': 2417, '▁티비': 2418, '▁액션은': 2419, '▁괴물': 2420, '▁벗': 2421, '▁라는': 2422, '▁s': 2423, '▁아는': 2424, '홍': 2425, '▁살짝': 2426, '▁악역': 2427, '많은': 2428, '지마': 2429, '끌': 2430, '▁등장': 2431, '북': 2432, '▁끝나고': 2433, '▁고전': 2434, '▁뒷': 2435, '▁감동적이고': 2436, '▁죄': 2437, '탕': 2438, '▁넣': 2439, '에서도': 2440, '▁슬프다': 2441, '▁안되고': 2442, '▁표절': 2443, '▁희생': 2444, '▁통해': 2445, '▁사랑하는': 2446, '//': 2447, '▁않아': 2448, '둘': 2449, '팔': 2450, 'ᄍᄍ': 2451, '▁보고싶다': 2452, '▁누': 2453, '▁시원': 2454, '프로': 2455, '욱': 2456, '▁참신': 2457, '▁우울': 2458, '재미없다': 2459, '▁바라': 2460, '감이': 2461, '릭': 2462, '▁후반': 2463, '▁어릴적': 2464, '▁아깝': 2465, '▁웃겨': 2466, '▁재밌었는데': 2467, '숨': 2468, '제목': 2469, '▁근': 2470, '쓴': 2471, '하는지': 2472, '▁춤': 2473, '▁보는게': 2474, '▁드': 2475, '▁보기엔': 2476, '▁과연': 2477, '나올': 2478, '▁분노': 2479, '▁연기에': 2480, '▁기대를': 2481, 'A': 2482, '▁용서': 2483, '▁결과': 2484, '▁몰입이': 2485, '지마라': 2486, '▁남는다': 2487, '▁능력': 2488, '만들어': 2489, '할듯': 2490, '말고': 2491, '▁나가': 2492, '낼': 2493, '▁압권': 2494, '▁종교': 2495, '▁스토리를': 2496, '놀': 2497, '▁게이': 2498, '마저': 2499, '골': 2500, '암': 2501, '▁느': 2502, '하면서도': 2503, '▁다르': 2504, '센': 2505, '줌': 2506, '▁안됨': 2507, '같': 2508, '인생': 2509, '결말': 2510, '▁연기와': 2511, '▁포장': 2512, '▁싫다': 2513, '▁알수': 2514, '▁그의': 2515, '▁아닌듯': 2516, '▁메시지': 2517, '▁몰입감': 2518, 'E': 2519, '번째': 2520, '▁캐': 2521, '엉': 2522, '▁재밌었': 2523, '먹고': 2524, '▁우정': 2525, '▁월': 2526, '▁짜증나는': 2527, '▁무지': 2528, '거라': 2529, '로서': 2530, '더라구요': 2531, '좋아요': 2532, '▁음악이': 2533, '▁cg': 2534, '혼': 2535, '▁추천합니다': 2536, '▁모르겠': 2537, '▁안하고': 2538, '람': 2539, '▁했던': 2540, '뜻': 2541, '▁생각합니다': 2542, '진심': 2543, 'an': 2544, '▁먼': 2545, '줬': 2546, '하려고': 2547, '▁잼있게': 2548, '▁짠': 2549, '▁허무': 2550, '▁출': 2551, '▁이연걸': 2552, '▁난다': 2553, '어진': 2554, '씨가': 2555, '▁만들어진': 2556, '머리': 2557, '하시': 2558, '드리': 2559, '▁처음엔': 2560, '▁짓': 2561, '▁여러': 2562, '랬': 2563, '▁폭력': 2564, '▁열심히': 2565, '동안': 2566, '험': 2567, '▁알바들': 2568, '▁스타': 2569, '▁말로': 2570, '▁홍콩': 2571, '협': 2572, 'V': 2573, '잉': 2574, '홀': 2575, '▁나왔으면': 2576, '시키는': 2577, '▁가지': 2578, '▁다행': 2579, '첨': 2580, '▁나서': 2581, '기엔': 2582, '▁공감이': 2583, '죄': 2584, '▁더이상': 2585, '▁느끼는': 2586, '▁포기': 2587, '▁접': 2588, '▁사는': 2589, '▁긴장': 2590, '▁이건뭐': 2591, '▁묘사': 2592, '뻐': 2593, '▁티비에서': 2594, '▁밀': 2595, 'ᄒᄒᄒ': 2596, '▁개판': 2597, '▁뮤지컬': 2598, '영환': 2599, '것을': 2600, '▁지루할': 2601, '폰': 2602, '없네': 2603, '오빠': 2604, '▁빼': 2605, '괴': 2606, '▁봤다가': 2607, '▁같아': 2608, '▁달리': 2609, '▁있지': 2610, '▁칼': 2611, '▁빛': 2612, '▁되었다': 2613, '▁아까워': 2614, '▁황당': 2615, '했어': 2616, '뒤': 2617, '표현': 2618, '▁영화이다': 2619, '▁많다': 2620, '좋았': 2621, '▁같음': 2622, '▁희망': 2623, '▁봤으면': 2624, '▁+': 2625, '▁주인공의': 2626, '▁낫': 2627, '한게': 2628, '▁설레': 2629, '▁중요한': 2630, '.\"': 2631, '킬': 2632, '▁기본': 2633, '▁밑에': 2634, '▁주인공들': 2635, '잼있': 2636, '▁I': 2637, '▁그렇다': 2638, '▁볼거리': 2639, '▁40': 2640, '...........': 2641, '▁보시길': 2642, '영상': 2643, '▁다만': 2644, '▁재미를': 2645, '▁관심': 2646, '탁': 2647, '빡': 2648, '▁몸매': 2649, '속에서': 2650, '▁고생': 2651, ',,,,': 2652, '▁인기': 2653, '▁소녀': 2654, '▁자막': 2655, '▁재미있음': 2656, '▁영화보고': 2657, '폐': 2658, '▁올리': 2659, '▁사랑과': 2660, '▁크게': 2661, '▁사랑에': 2662, '년전에': 2663, '▁만든다': 2664, '▁굳': 2665, '렉': 2666, '힐': 2667, '는건지': 2668, '▁덜': 2669, '▁이유는': 2670, '재밌어요': 2671, '아님': 2672, '▁이정도면': 2673, '▁재밌습니다': 2674, '▁진심으로': 2675, '▁생각나는': 2676, '내는': 2677, '점주는': 2678, '일이': 2679, '▁무섭다': 2680, '&': 2681, '왔': 2682, '▁퀄리티': 2683, '▁되게': 2684, '▁흐름': 2685, '▁별로다': 2686, '아주': 2687, '다운': 2688, '▁씨': 2689, '랜': 2690, '하셨': 2691, '엄마': 2692, '▁어쩌': 2693, '▁쉽게': 2694, '얘기': 2695, '▁그럭저럭': 2696, '전쟁': 2697, '▁북한': 2698, '자들': 2699, '▁풀어': 2700, '▁다큐멘터리': 2701, '▁제목이': 2702, '▁놓': 2703, '▁오버': 2704, '롱': 2705, '▁없지만': 2706, '▁볼수록': 2707, '▁좋았던': 2708, '있는데': 2709, '▁최근': 2710, '▁죽어': 2711, '인의': 2712, '▁재미없네': 2713, '▁어제': 2714, '▁보고싶': 2715, '▁친': 2716, '▁그려': 2717, '▁삶의': 2718, '껏': 2719, '▁어쩔': 2720, '었고': 2721, '▁지루해서': 2722, '▁언제나': 2723, '▁아깝지': 2724, '안에': 2725, '▁영화지만': 2726, '▁디즈니': 2727, '▁후반부': 2728, '▁성인': 2729, '▁감동과': 2730, '▁드라마는': 2731, '▁몇번을': 2732, '▁얻': 2733, '▁해피엔딩': 2734, '였지만': 2735, '▁그걸': 2736, '▁쓰래기': 2737, '였어요': 2738, '▁남을': 2739, '▁아쉬움': 2740, '이해': 2741, '▁젊은': 2742, '캐릭터': 2743, '▁S': 2744, '봤던': 2745, '▁가볍게': 2746, '▁비주얼': 2747, '▁힐링': 2748, '나와': 2749, '엘': 2750, '▁불편': 2751, '하구': 2752, '킨': 2753, '▁정서': 2754, '▁남아': 2755, '으로서': 2756, '▁봐야할': 2757, '막장': 2758, '멋': 2759, '▁싫': 2760, '▁소재가': 2761, '★': 2762, '▁동생': 2763, '재밌다': 2764, '▁그다지': 2765, '▁재밋게': 2766, '웠다': 2767, '▁폭': 2768, '로써': 2769, '▁유치함': 2770, '▁배우의': 2771, '▁만큼': 2772, '▁붙': 2773, '▁엉성한': 2774, '▁추억의': 2775, '▁샤': 2776, '▁12': 2777, '▁돌아가': 2778, 'ᅡ': 2779, '▁싸구려': 2780, '▁눈빛': 2781, '▁임': 2782, 'ᄏᄏᄏᄏᄏ': 2783, '▁보고싶은': 2784, '내용이': 2785, '▁소재로': 2786, '▁높다': 2787, '▁똑같': 2788, '웨': 2789, '▁네': 2790, '대사': 2791, '애들': 2792, '▁못했다': 2793, '▁몰라도': 2794, '가지고': 2795, '왔다': 2796, '콜': 2797, '▁놀라': 2798, 'ᄃᄃ': 2799, '▁필요없는': 2800, '▁재미있네요': 2801, '▁청': 2802, '▁70': 2803, '▁ᅮ': 2804, '했나': 2805, '▁느낄수': 2806, '▁무시': 2807, '압': 2808, 'N': 2809, 'j': 2810, '녕': 2811, '접': 2812, '▁필요없다': 2813, '하신': 2814, '▁몰랐': 2815, '▁되었': 2816, '▁명작이': 2817, '눈물': 2818, '▁잔인한': 2819, '▁이어': 2820, '세기': 2821, '▁채널': 2822, '하지도': 2823, '▁동물': 2824, '줄이야': 2825, '▁있나': 2826, '▁보이': 2827, '▁맘': 2828, '봤어요': 2829, '▁국민': 2830, '예요': 2831, '했네': 2832, '▁연예인': 2833, '일본': 2834, '▁섹스': 2835, '기분': 2836, '▁우리가': 2837, '▁광고': 2838, '사이': 2839, '▁킬링타임': 2840, '마음': 2841, '▁가서': 2842, '▁홍': 2843, '봣는데': 2844, '▁슬프': 2845, '▁슬프고': 2846, '춘': 2847, '▁헐리우드': 2848, '텔': 2849, '▁끊': 2850, '▁보았': 2851, '▁다시한번': 2852, '끈': 2853, '▁좋아서': 2854, '▁브': 2855, '현실': 2856, '▁법': 2857, '함과': 2858, '▁그럼': 2859, '▁끝나는': 2860, '되면': 2861, '▁만들고': 2862, '봉': 2863, '▁글쎄': 2864, '▁페': 2865, '▁요소': 2866, '중의': 2867, '있음': 2868, '겹': 2869, '▁재밌네': 2870, '▁가끔': 2871, '▁악당': 2872, '▁틀': 2873, '▁반전도': 2874, 'M': 2875, '스릴러': 2876, '한다는': 2877, '▁ᄃᄃ': 2878, '▁점수를': 2879, '▁돋': 2880, '▁홍보': 2881, '▁미치': 2882, '▁이제야': 2883, '나옴': 2884, '웅': 2885, '▁찡': 2886, '▁문화': 2887, '털': 2888, '▁불구하고': 2889, '▁아픔': 2890, '폭': 2891, '▁마세요': 2892, '한다면': 2893, '▁사람의': 2894, '사회': 2895, '▁이쁜': 2896, '떠': 2897, '▁지구': 2898, '력이': 2899, '▁풍': 2900, '▁우주': 2901, '▁잊': 2902, '▁않게': 2903, '▁그린': 2904, '이유': 2905, '▁펑펑': 2906, '▁실패': 2907, '▁뛰어난': 2908, '▁방금': 2909, '▁돋보': 2910, '좋고': 2911, '▁사랑스러운': 2912, '시고': 2913, '▁짱짱': 2914, '▁멀': 2915, '웃기': 2916, '공포': 2917, '시키': 2918, '▁음악도': 2919, '▁들었': 2920, '▁에로': 2921, '온다': 2922, '먹는': 2923, '▁있게': 2924, '팅': 2925, '틈': 2926, '▁어려운': 2927, '▁잊혀지지': 2928, '으론': 2929, '▁진정': 2930, '▁채': 2931, '나와서': 2932, '▁인생을': 2933, '픈': 2934, '개봉': 2935, '▁의심': 2936, '▁연출도': 2937, 'O': 2938, '명이': 2939, '▁아마': 2940, '▁웃기고': 2941, '섭': 2942, '▁찍었': 2943, '▁로그인': 2944, '▁발전': 2945, '점준': 2946, '▁시사회': 2947, '▁둘다': 2948, '알바': 2949, '▁생애': 2950, '옥': 2951, '▁좋습니다': 2952, '♥♥': 2953, 'on': 2954, '▁낮아서': 2955, '▁볼만함': 2956, '▁되지': 2957, '했으나': 2958, '착': 2959, '▁쫌': 2960, '▁식상': 2961, '▁엉망': 2962, '▁갑': 2963, '▁딱히': 2964, '▁늘어': 2965, '▁열정': 2966, '▁올해': 2967, '빼고': 2968, '▁산으로': 2969, '▁개인': 2970, '▁영화관': 2971, '빙': 2972, '▁달라': 2973, '필요': 2974, '택': 2975, 'er': 2976, '▁없나': 2977, ']': 2978, '▁아름다움': 2979, '▁무언가': 2980, '▁연결': 2981, '▁되고': 2982, '헤': 2983, '▁거지': 2984, '▁그것': 2985, '▁불쌍': 2986, '▁쓸': 2987, '땅': 2988, '▁헤': 2989, '▁유치하다': 2990, '▁행': 2991, '▁탈': 2992, '▁유명': 2993, '▁철': 2994, '▁순수': 2995, '▁죄다': 2996, '▁많아': 2997, '솔': 2998, '▁죽이': 2999, '▁베스트': 3000, '▁루': 3001, '▁생생': 3002, '▁느와르': 3003, '용으로': 3004, '▁단연': 3005, '할까': 3006, '▁빠': 3007, '▁평이': 3008, '▁나왔다': 3009, '대는': 3010, '▁차이': 3011, '자체가': 3012, '답답': 3013, '▁킬링타임용으로': 3014, '▁반성': 3015, '높': 3016, '▁무섭': 3017, '▁빌려': 3018, '▁죽는': 3019, '▁어이가': 3020, '▁봣는데': 3021, '같음': 3022, '벽': 3023, '▁c': 3024, '틱': 3025, '▁캐릭터들': 3026, '▁어머니': 3027, '▁풀': 3028, '정신': 3029, '무비': 3030, '▁재밌었음': 3031, '▁평범': 3032, '▁정말로': 3033, '에대한': 3034, '▁조폭': 3035, '▁의도': 3036, '세상': 3037, '하겠': 3038, '나가는': 3039, '▁푹': 3040, '▁시간을': 3041, '봣': 3042, '엠': 3043, '▁청소년': 3044, '지않은': 3045, '것만': 3046, '▁m': 3047, '원작': 3048, '▁몰입해서': 3049, '▁남겨': 3050, '▁출연진': 3051, '한것': 3052, '했다는': 3053, '▁좀더': 3054, '▁어른': 3055, '연기가': 3056, '캐': 3057, '슈': 3058, '▁자극': 3059, '▁귀엽': 3060, '▁하면서': 3061, '▁인간이': 3062, '▁멋지다': 3063, '▁한국인': 3064, '사가': 3065, '▁연속': 3066, '▁눈물을': 3067, '값': 3068, '▁결말은': 3069, '르는': 3070, '우리': 3071, '줘야': 3072, '▁d': 3073, '▁니': 3074, '인가요': 3075, '아니다': 3076, '스터': 3077, '▁뜻': 3078, '▁힘들다': 3079, '▁무서워': 3080, '평점이': 3081, '▁탄탄한': 3082, '▁여기서': 3083, '싱': 3084, '▁투자': 3085, '시다': 3086, '구성': 3087, '▁결말도': 3088, '▁핵': 3089, '스타일': 3090, '▁헐리웃': 3091, '컨': 3092, '▁스스로': 3093, '▁멍청한': 3094, '▁해주': 3095, '▁집에서': 3096, '▁꺼': 3097, '영화라고': 3098, '▁좋았': 3099, '▁아직까지': 3100, '▁질리지': 3101, '▁말을': 3102, '▁현실적인': 3103, '노래': 3104, '▁당신': 3105, '▁볼만하다': 3106, '자는': 3107, '▁시걸': 3108, '▁보았다': 3109, '▁전문가': 3110, '쳤': 3111, '정이': 3112, '▁표현한': 3113, '연기도': 3114, '▁사기': 3115, '스가': 3116, '내용도': 3117, '▁끌어': 3118, '▁단순한': 3119, '▁괜찮았': 3120, '▁뻔하고': 3121, '▁옛날에': 3122, '만드는': 3123, '▁하루': 3124, '짜증': 3125, '▁나오면': 3126, '▁견자단': 3127, '중에서': 3128, '▁흔한': 3129, '감을': 3130, '▁환상': 3131, '▁볼만하': 3132, '▁매력있': 3133, '▁잭': 3134, '늘': 3135, '편보다': 3136, '▁남녀': 3137, '▁있습니다': 3138, '▁떠나서': 3139, '▁인간들': 3140, '한다고': 3141, '으로써': 3142, '▁;;': 3143, '버리는': 3144, '▁대화': 3145, '지않고': 3146, '▁전체': 3147, '▁운': 3148, '을수': 3149, '▁빈': 3150, '!!!!!': 3151, '았던': 3152, '나게': 3153, '▁시시': 3154, '▁못한다': 3155, '▁제작비': 3156, '해주세요': 3157, '안되': 3158, '▁생각없이': 3159, '▁무엇을': 3160, '▁안돼': 3161, '엿': 3162, '▁보니까': 3163, '▁나옴': 3164, '▁드럽게': 3165, '▁재미있었다': 3166, '▁건지': 3167, '나온다': 3168, '▁미드': 3169, '▁느낀': 3170, '친다': 3171, '▁관객들': 3172, '▁시대를': 3173, '점수': 3174, '▁찌': 3175, '릿': 3176, '으려': 3177, '스러워': 3178, '▁벌써': 3179, '▁장면에서': 3180, '부족': 3181, '사는': 3182, '▁느낌을': 3183, '▁영국': 3184, '▁끝난': 3185, '했네요': 3186, '내고': 3187, '▁지금은': 3188, '긴한데': 3189, '▁직': 3190, '▁끝이': 3191, '▁말할': 3192, '갔다': 3193, '▁팬이': 3194, '▁이후로': 3195, '럼': 3196, '시작': 3197, '하는것': 3198, '보는내내': 3199, '▁조연': 3200, '스러움': 3201, '▁매력적이': 3202, '▁레전드': 3203, '▁즐겁게': 3204, '▁높아': 3205, '▁T': 3206, '▁지켜': 3207, '▁시각': 3208, '언니': 3209, '▁좋았을': 3210, '영화의': 3211, '▁외모': 3212, '▁모든게': 3213, '편의': 3214, '▁단지': 3215, '▁할말': 3216, '꾸': 3217, '▁잔잔하고': 3218, '▁작가가': 3219, '▁남편': 3220, '▁남자가': 3221, '▁야한': 3222, '이었': 3223, '냥': 3224, '▁나오지': 3225, '▁않지만': 3226, '하는건': 3227, '면에서': 3228, '▁이해할': 3229, '▁재밋다': 3230, '혁': 3231, '▁위대한': 3232, '▁기대안하고': 3233, '▁발견': 3234, '▁같아서': 3235, '▁끼': 3236, '▁말하는': 3237, '▁배우들도': 3238, '장면이': 3239, '▁주변': 3240, '세계': 3241, '계속': 3242, '▁느껴': 3243, '▁뜨': 3244, '기위해': 3245, '▁영어': 3246, '▁하네요': 3247, '스의': 3248, '▁누구나': 3249, '▁어렸을': 3250, '이라서': 3251, 'OOO': 3252, '잠': 3253, '거면': 3254, '못한': 3255, '넣': 3256, '▁밥': 3257, '기억': 3258, '떄': 3259, '톱': 3260, '▁누군가': 3261, '▁있어요': 3262, '11': 3263, '▁재밌을': 3264, '겁니다': 3265, '▁발로': 3266, '놨': 3267, '들만': 3268, '▁특': 3269, '▁50': 3270, '▁싶네요': 3271, '▁안보고': 3272, '아까': 3273, '보자': 3274, '▁\"\"\"': 3275, '가슴': 3276, '센스': 3277, '▁유쾌하고': 3278, '▁창': 3279, '영화로': 3280, '▁생각하는': 3281, '였고': 3282, '▁할말이': 3283, '묘': 3284, '▁필': 3285, '▁영화냐': 3286, '차라리': 3287, '▁받아': 3288, '님의': 3289, '▁앞': 3290, '▁시도': 3291, '푸': 3292, '\"\"\"': 3293, '`': 3294, '▁김기덕': 3295, '▁이런영화가': 3296, '▁맨날': 3297, '▁갈등': 3298, '려면': 3299, '▁반복': 3300, '▁이거보고': 3301, '사람은': 3302, '시간에': 3303, '▁국내': 3304, '젠': 3305, '지를': 3306, '▁못해': 3307, '▁한심': 3308, '수도': 3309, '받는': 3310, '........': 3311, '떡': 3312, '▁유명한': 3313, '▁눈에': 3314, '관계': 3315, '이였다': 3316, '따라': 3317, '▁못할': 3318, '해진': 3319, '▁보길': 3320, '그리': 3321, '▁허세': 3322, '▁아나': 3323, '▁하는지': 3324, '▁영화에요': 3325, '계의': 3326, '만의': 3327, 'ᅲᅮ': 3328, '냈': 3329, '▁싶지': 3330, '▁않나': 3331, '▁안타깝다': 3332, '▁시트콤': 3333, '닌': 3334, '이니': 3335, '▁한참': 3336, '었어': 3337, '▁보지마': 3338, '남는': 3339, '▁공부': 3340, '▁인물들': 3341, '와는': 3342, '잤': 3343, '혈': 3344, '▁쵝오': 3345, '▁쇼': 3346, '▁생각하고': 3347, '즘': 3348, '▁내려': 3349, '.......': 3350, '▁떨어지': 3351, '▁꾸': 3352, '▁아이돌': 3353, '▁줌': 3354, '▁진지': 3355, '▁멋있다': 3356, '▁씬': 3357, '딩': 3358, '하려': 3359, '새끼': 3360, '흐': 3361, '▁고통': 3362, '줘서': 3363, '▁보인다': 3364, '▁멋': 3365, '▁있네요': 3366, '▁ᅲᅲᅲ': 3367, '져서': 3368, 'v': 3369, '▁넘어': 3370, '몽': 3371, '▁모르겠고': 3372, '는것도': 3373, '봅니다': 3374, '▁부르': 3375, '뛰': 3376, '님들': 3377, '▁보고나면': 3378, '몰입': 3379, '▁찌질': 3380, '▁울고': 3381, '자의': 3382, '설정': 3383, '쁘': 3384, '잔잔': 3385, '해야지': 3386, '▁개연성이': 3387, '냈다': 3388, '씬은': 3389, '▁있으면': 3390, '상을': 3391, '▁이기': 3392, 'ᄏᄏᄏᄏᄏᄏᄏᄏᄏ': 3393, '▁미모': 3394, '지말고': 3395, 'or': 3396, 'I': 3397, '▁울었다': 3398, '밥': 3399, '▁받았': 3400, '있네': 3401, '▁즐거운': 3402, '례': 3403, '▁멍청': 3404, '▁로봇': 3405, '워서': 3406, '▁코난': 3407, '▁불쾌': 3408, '▁죽여': 3409, '▁무척': 3410, '▁송': 3411, '편을': 3412, '▁빼고': 3413, '▁한데': 3414, '이었음': 3415, '돌아': 3416, '▁그렇다고': 3417, '▁에휴': 3418, '▁부모': 3419, '▁당시에': 3420, '▁음악과': 3421, '리를': 3422, '쉽': 3423, '▁뭉클': 3424, '괜찮': 3425, '▁의외로': 3426, '형님': 3427, '▁대부분': 3428, '▁힘이': 3429, '▁달달': 3430, '들고': 3431, '▁아줌마': 3432, '▁이쁘고': 3433, '▁대사가': 3434, '▁필요한': 3435, '▁옛': 3436, '▁감동적': 3437, '됬': 3438, '▁속에': 3439, '▁에피소드': 3440, '▁착한': 3441, '부작': 3442, '▁영화였어요': 3443, '르고': 3444, '▁웃음이': 3445, '▁진리': 3446, '끝나': 3447, '▁살고': 3448, 'in': 3449, '▁[': 3450, '버리고': 3451, '▁여행': 3452, 'ᄌ': 3453, '메이': 3454, '▁007': 3455, '▁새롭': 3456, '▁없는데': 3457, '무섭': 3458, '▁와우': 3459, '영화임': 3460, '째': 3461, '학교': 3462, '.........': 3463, '▁빨': 3464, '리지': 3465, '▁긴장감도': 3466, '▁아쉽네요': 3467, '▁우와': 3468, '해진다': 3469, '▁있어야': 3470, '봐요': 3471, '▁재미없어요': 3472, '자체': 3473, '▁잔': 3474, '▁망한': 3475, '▁나쁘지': 3476, '기로': 3477, '▁하나하나': 3478, '▁인생의': 3479, '▁덕분에': 3480, '▁왜케': 3481, '▁엉성': 3482, '장난': 3483, '▁전투': 3484, '▁마이너스': 3485, '▁봤더니': 3486, '▁초등학생': 3487, '▁좋게': 3488, '▁경험': 3489, '▁복잡': 3490, '▁이미지': 3491, '벨': 3492, '수있는': 3493, '▁낳': 3494, '▁친구들': 3495, '것들': 3496, '▁혼': 3497, '▁썩': 3498, '하던데': 3499, '▁이쁘다': 3500, '▁노답': 3501, '있었': 3502, '▁자살': 3503, '왔는데': 3504, '▁결': 3505, '▁듣': 3506, '▁신선하고': 3507, '▁짝퉁': 3508, '끼리': 3509, '짧': 3510, '있나': 3511, '▁받을': 3512, '겁': 3513, '▁good': 3514, '쌍': 3515, '겟다': 3516, '댄': 3517, '뮤': 3518, 'ᅵ': 3519, '▁the': 3520, '▁마이클': 3521, '▁기술': 3522, '▁작품을': 3523, '▁재미있었어요': 3524, '▁최강': 3525, '▁조합': 3526, '상황': 3527, '있어서': 3528, '▁모르겠지만': 3529, '▁학교에서': 3530, '▁지루했다': 3531, '▁무비': 3532, '▁꽃': 3533, '만큼은': 3534, '▁충': 3535, '▁좋지만': 3536, '였어': 3537, '▁시청자': 3538, '▁적당': 3539, '다는게': 3540, '내내': 3541, 'ar': 3542, '▁침': 3543, '짜증나': 3544, '▁작품이다': 3545, '▁논': 3546, '▁어렵': 3547, '이런영화': 3548, '▁바뀌': 3549, '보게': 3550, '버릴': 3551, '▁제로': 3552, '▁빼고는': 3553, '균': 3554, '▁더불어': 3555, '만들었': 3556, '▁민망': 3557, '▁슈퍼': 3558, '깔': 3559, '▁헤어': 3560, '집니다': 3561, '▁착': 3562, '▁살려': 3563, '▁없었던': 3564, '하지마라': 3565, '▁극치': 3566, '▁13': 3567, '해준': 3568, '▁작은': 3569, '문화': 3570, '▁부터': 3571, '▁미안': 3572, 'ᅲᅲᅲᅲ': 3573, '▁암튼': 3574, '식으로': 3575, '▁히': 3576, '▁본인': 3577, '했었는데': 3578, '▁손발이': 3579, '▁명품': 3580, '겠어요': 3581, '흘리': 3582, '칭': 3583, '▁카리스마': 3584, '▁더러운': 3585, '▁흥미로운': 3586, '지네요': 3587, '▁취향': 3588, '요즘': 3589, '셈': 3590, '▁자식': 3591, '쩔': 3592, '샤': 3593, '▁좋았지만': 3594, '활': 3595, '▁죽은': 3596, '문제': 3597, '▁무서웠': 3598, '▁쩐다': 3599, '▁삶에': 3600, '▁판': 3601, '▁양심': 3602, '켜': 3603, '동생': 3604, '▁수도': 3605, '느라': 3606, '연기력': 3607, '씨의': 3608, '간의': 3609, '한국': 3610, '하다가': 3611, '▁기다리': 3612, '▁동안': 3613, '뚱': 3614, '▁바꿔': 3615, '퀴': 3616, '칸': 3617, '▁외계인': 3618, '▁주성치': 3619, '▁비극': 3620, '▁직접': 3621, '받고': 3622, '▁일품': 3623, '▁방법': 3624, '▁최고입니다': 3625, '▁영화인듯': 3626, '▁부족하다': 3627, '▁박수를': 3628, '아쉽': 3629, '럴': 3630, '까요': 3631, '끝까지': 3632, '점정도': 3633, '▁피해자': 3634, '▁독특': 3635, '▁즐기': 3636, '재밌음': 3637, '▁싸이코': 3638, '영화에': 3639, '▁오바': 3640, '이자': 3641, '▁학교': 3642, '인들': 3643, '▁썼': 3644, '▁어린이': 3645, '▁뇌': 3646, '..........': 3647, '▁군': 3648, '▁지루하게': 3649, '▁체': 3650, '▁굿굿': 3651, '렁': 3652, 'W': 3653, '▁좋았으나': 3654, '▁따뜻해지는': 3655, '▁어휴': 3656, '▁감정을': 3657, '▁의리': 3658, '▁역대급': 3659, '▁있던': 3660, '▁말하고': 3661, '보지': 3662, '보여': 3663, '▁해석': 3664, '▁없다는': 3665, '▁들어가': 3666, '▁18': 3667, '▁이하': 3668, '▁미소': 3669, '▁뭐라': 3670, '감동적': 3671, '하다니': 3672, '엔딩': 3673, '▁본다면': 3674, '힘': 3675, '제발': 3676, '적은': 3677, '매력': 3678, '할수있': 3679, '버려': 3680, '▁용기': 3681, '율': 3682, '잡고': 3683, '것같': 3684, '농': 3685, '▁고양이': 3686, '았습니다': 3687, '▁좋겠어요': 3688, '▁한번쯤': 3689, '▁다룬': 3690, '▁아이가': 3691, '▁게다가': 3692, '쥐': 3693, '젤': 3694, '시즌': 3695, '▁완전히': 3696, '놔': 3697, '지지': 3698, '▁의미를': 3699, '까지는': 3700, '▁올라': 3701, '▁아침': 3702, '상태': 3703, '▁설마': 3704, '▁앤': 3705, '▁주말': 3706, '▁보러': 3707, '▁실제로': 3708, '좋아하는': 3709, '▁중반': 3710, '▁철학': 3711, '▁원작의': 3712, '▁잊을': 3713, 'it': 3714, '▁사랑은': 3715, '▁그럴': 3716, '컷': 3717, '뜬': 3718, '둔': 3719, '▁지나치게': 3720, '쳤다': 3721, '▁쓰레기같은': 3722, '▁웃기지도': 3723, '지않는': 3724, '▁교육': 3725, '▁뛰어': 3726, '▁사랑의': 3727, '▁안타깝': 3728, '더라도': 3729, '▁연기력도': 3730, '인건': 3731, '콩': 3732, '셔서': 3733, '▁기대했는데': 3734, '▁중에서': 3735, '슬프': 3736, '겠음': 3737, '▁보자': 3738, '배경': 3739, '▁포르노': 3740, '▁비판': 3741, '▁빌': 3742, '▁충격적': 3743, '▁웃김': 3744, '안되는': 3745, '▁도전': 3746, '출연': 3747, '▁알려': 3748, '▁퇴': 3749, '튀': 3750, '▁괜찮다': 3751, 'ᄇ': 3752, '년만에': 3753, '▁패러디': 3754, '흘': 3755, '▁느껴진다': 3756, '▁영혼': 3757, '▁일어나': 3758, 'ing': 3759, '▁이유를': 3760, '님이': 3761, '▁십': 3762, '읽': 3763, '▁크리스마스': 3764, '▁엄': 3765, '▁올려': 3766, '▁케이블': 3767, '명의': 3768, '▁많았': 3769, '▁볼수있': 3770, '▁갔': 3771, '생겼': 3772, '▁보며': 3773, '▁좋아해서': 3774, '▁남자의': 3775, '▁꿈을': 3776, '▁곳': 3777, '감독님': 3778, '▁한명': 3779, 'K': 3780, '층': 3781, '▁어른들': 3782, '엇다': 3783, '▁평점보고': 3784, '중독': 3785, '▁없지': 3786, '는듯': 3787, '▁잔인하': 3788, '▁모르게': 3789, '▁원작이': 3790, '▁이래': 3791, '▁연기자들': 3792, '꼴': 3793, '▁진부하고': 3794, '▁할까': 3795, '▁오글': 3796, '▁않을까': 3797, '곳': 3798, '배우들의': 3799, '▁견': 3800, '그래서': 3801, '▁상처': 3802, '▁보여준다': 3803, '물이': 3804, '▁똑같은': 3805, '▁이해하기': 3806, '▁안나': 3807, '▁전설의': 3808, '▁찬': 3809, '▁답답한': 3810, '▁넘치는': 3811, '▁합': 3812, '하시는': 3813, '▁생각나': 3814, '▁아까울': 3815, '▁몇몇': 3816, '▁반개도': 3817, '▁봤을때': 3818, '▁:': 3819, '▁왠': 3820, '▁개성': 3821, '▁사랑이야기': 3822, '▁뿐이다': 3823, '▁무협': 3824, '▁시청': 3825, '▁좋아할': 3826, '▁언': 3827, '▁행복한': 3828, '않는': 3829, '받은': 3830, '치곤': 3831, '▁대중': 3832, '하고싶은': 3833, '▁희': 3834, '▁개봉한': 3835, '만이': 3836, '▁밤': 3837, '?!': 3838, '룡': 3839, '▁가능': 3840, '▁먹고': 3841, '▁간다': 3842, '줬다': 3843, '껴': 3844, 'ᅮᅮᅮ': 3845, '▁블랙': 3846, '▁뒤로': 3847, '롤': 3848, '▁재밌다고': 3849, '▁잠깐': 3850, '냄새': 3851, '잇는': 3852, '▁레알': 3853, '개도': 3854, '하기도': 3855, '▁아프': 3856, '▁많고': 3857, '▁신경': 3858, '올리': 3859, '공감': 3860, '▁검': 3861, '▁슬': 3862, '뭔가': 3863, '똥': 3864, '아까움': 3865, '얼굴': 3866, 'F': 3867, '▁최대': 3868, '▁가득': 3869, '▁싶은데': 3870, '돋': 3871, '▁관한': 3872, '▁훈훈한': 3873, 're': 3874, '▁무섭지도': 3875, '버림': 3876, '▁가슴에': 3877, '▁밑': 3878, '멘': 3879, '▁들었다': 3880, '..;;': 3881, '붕': 3882, '쟁이': 3883, '뽕': 3884, '▁디테일': 3885, '속의': 3886, '▁홍콩영화': 3887, '▁빠진': 3888, '▁따로': 3889, '0%': 3890, '▁주기': 3891, '▁해결': 3892, '▁꼽': 3893, '▁모를': 3894, '따위': 3895, '특': 3896, '▁하는거': 3897, '억지': 3898, '▁오랜만': 3899, '사람들이': 3900, '▁ᄋᄋ': 3901, '나오고': 3902, '감독의': 3903, '겠네요': 3904, '▁대해서': 3905, '▁재미잇': 3906, '▁폴': 3907, '▁얼마': 3908, '콘': 3909, '딴': 3910, '겠습니다': 3911, '넹': 3912, '▁스트레스': 3913, '▁감흥': 3914, '▁전기세': 3915, '▁커플': 3916, '▁빠져들': 3917, '시길': 3918, '▁보내': 3919, '았음': 3920, '▁보여줬': 3921, '으니까': 3922, '▁낚시': 3923, '▁이럴': 3924, 'X': 3925, '▁선생님': 3926, '덤': 3927, '밤': 3928, '공포영화': 3929, '기까지': 3930, '▁긴장감이': 3931, '▁왠만하면': 3932, '더빙': 3933, '초반': 3934, '오늘': 3935, '사람들은': 3936, '▁한마디': 3937, '▁울었': 3938, '▁좋아하는데': 3939, '▁그녀의': 3940, '▁생각하면': 3941, '▁소중한': 3942, '▁기다려': 3943, '▁이제서야': 3944, '마지막에': 3945, '▁변태': 3946, '▁존경': 3947, '식이': 3948, '▁이용': 3949, '살아': 3950, '▁싶었': 3951, '누나': 3952, '▁애기': 3953, '▁관점': 3954, '▁필름': 3955, '빛': 3956, '▁막판에': 3957, '▁실력': 3958, '▁재미와': 3959, '붙': 3960, '▁갖': 3961, '▁한국영화는': 3962, '▁보려고': 3963, '쏘': 3964, '▁콩': 3965, '▁화가': 3966, '▁앞으로도': 3967, '▁꽝': 3968, '가요': 3969, '▁안맞': 3970, '그래': 3971, '점줌': 3972, 'ᄏᄏᄏᄏᄏᄏᄏᄏᄏᄏᄏᄏᄏ': 3973, '▁아련': 3974, '▁모르': 3975, '▁DVD': 3976, '▁젠장': 3977, '▁개뿔': 3978, '▁풍경': 3979, '▁통쾌': 3980, '▁잼있다': 3981, '▁개막장': 3982, '▁봣': 3983, '▁감히': 3984, '▁현실이': 3985, '▁악마': 3986, '▁속에서': 3987, '!!!!!!!!!': 3988, '장애': 3989, '▁기자': 3990, '▁탑': 3991, '▁있었지만': 3992, '리아': 3993, '자나': 3994, '때부터': 3995, '▁한심한': 3996, '쓸': 3997, '논': 3998, '어떻게': 3999, 'G': 4000, '널': 4001, '절대': 4002, '▁w': 4003, '▁미쳤': 4004, '▁쓰레기다': 4005, '▁맞아': 4006, '▁자주': 4007, '▁그거': 4008, '▁괜찮은데': 4009, '▁웃기다': 4010, '나왔': 4011, '되네요': 4012, '▁그렇지': 4013, '▁죽이는': 4014, '▁점수가': 4015, '♥♥♥': 4016, '빨리': 4017, '더라면': 4018, '납니다': 4019, '▁겨우': 4020, '▁말도안되는': 4021, '겼': 4022, '▁할머니': 4023, '▁전개도': 4024, '랜드': 4025, '▁하나의': 4026, '▁야동': 4027, '▁욕망': 4028, '▁웃고': 4029, '▁작가님': 4030, '▁이때': 4031, '▁추억이': 4032, '▁망치': 4033, '▁믿을': 4034, '▁못함': 4035, '▁인해': 4036, '있냐': 4037, '▁감동적이다': 4038, '편도': 4039, '새끼들': 4040, '▁됨': 4041, '▁보여주고': 4042, '▁결론': 4043, '맥': 4044, '▁우리의': 4045, '▁퍼': 4046, '▁심하게': 4047, '이걸': 4048, '▁편견': 4049, '자를': 4050, '▁웬': 4051, '▁보긴': 4052, '하겠다': 4053, '핀': 4054, '▁스크린': 4055, '▁어린시절': 4056, '▁할수': 4057, '▁있으': 4058, '보다도': 4059, '▁정의': 4060, '▁무술': 4061, '▁에이': 4062, '▁있구나': 4063, '▁강력': 4064, '싶다': 4065, '▁없어요': 4066, '▁케': 4067, '▁영화들': 4068, '▁졸리': 4069, '▁줬': 4070, '▁헛': 4071, '틴': 4072, '것같아요': 4073, '▁생각함': 4074, 'st': 4075, 'P': 4076, '거같은데': 4077, '굴': 4078, '싸움': 4079, '로만': 4080, '스키': 4081, '▁봤었': 4082, '혹은': 4083, '▁보기에': 4084, '스톤': 4085, '▁둘이': 4086, '점이다': 4087, '▁돼': 4088, '잃': 4089, '옹': 4090, '깍': 4091, '▁짜증난다': 4092, '볼만': 4093, '▁짝이': 4094, '▁빵점': 4095, '다니는': 4096, '▁깨닫게': 4097, '▁영화보면서': 4098, '편에': 4099, '▁내면': 4100, '▁승': 4101, '▁못하': 4102, '▁왜이래': 4103, '▁보통': 4104, '냐고': 4105, '▁흑인': 4106, '▁O': 4107, '보이는': 4108, '▁모두가': 4109, '흥': 4110, '▁옥': 4111, '하기만': 4112, '상실': 4113, '보구': 4114, '▁장르가': 4115, '▁죽는줄': 4116, '▁어릴': 4117, '감정': 4118, '▁본방사수': 4119, '아요': 4120, '다운받': 4121, '년도에': 4122, '▁자신이': 4123, '~!!!': 4124, '▁비디오로': 4125, '▁재미없게': 4126, '컬': 4127, '▁떨어진다': 4128, '▁쓰는': 4129, '▁거짓말': 4130, '▁최초': 4131, '▁만들면': 4132, '모든': 4133, '▁참신한': 4134, '▁맹': 4135, '▁아픈': 4136, '몇': 4137, '받아서': 4138, '주면': 4139, '▁본거': 4140, '되나': 4141, '▁세상을': 4142, '▁다루': 4143, '임에도': 4144, '꿀잼': 4145, '▁않네요': 4146, '큰': 4147, '▁영화보는': 4148, '쾌': 4149, '▁있는지': 4150, '관람': 4151, '▁본영화': 4152, '보고싶다': 4153, '▁우리는': 4154, '▁심각': 4155, '셀': 4156, '멸': 4157, '▁2014': 4158, '▁영원히': 4159, '어린': 4160, '▁아내': 4161, '▁방영': 4162, '듯이': 4163, '▁어쩔수': 4164, '저리': 4165, '▁낮다': 4166, '▁위해서': 4167, '▁색감': 4168, '▁잊을수': 4169, '검': 4170, '▁위로': 4171, '고싶어': 4172, '▁재미있었': 4173, '▁평론가들': 4174, '버전': 4175, '▁소름이': 4176, '이즈': 4177, '▁전쟁영화': 4178, '▁완': 4179, '▁색': 4180, '▁형님': 4181, '▁봤을': 4182, '▁조화': 4183, '▁시리즈중': 4184, '▁관객을': 4185, '제작': 4186, '도아니고': 4187, '▁정도의': 4188, '▁동성애': 4189, '손가락': 4190, '▁특별한': 4191, '거리는': 4192, '▁바꾸': 4193, '▁캐릭터가': 4194, '~~~~~~~~': 4195, '▁화려하': 4196, '▁못하다': 4197, '생활': 4198, '옴': 4199, '▁끄': 4200, '보지말': 4201, '▁받는': 4202, '도안': 4203, '당한': 4204, '그만': 4205, '코드': 4206, '▁사진': 4207, '▁생각나서': 4208, '없어서': 4209, '▁11': 4210, '인물': 4211, '물을': 4212, '▁라고': 4213, '▁심심': 4214, '▁일이': 4215, '스럽게': 4216, '▁야구': 4217, '하길': 4218, '▁옷': 4219, '▁놈': 4220, '▁어이': 4221, '모두': 4222, '▁국가': 4223, '▁오로': 4224, '부분이': 4225, '▁조작': 4226, '베리': 4227, '낀': 4228, '▁몇번': 4229, '학년': 4230, '묵': 4231, '소설': 4232, '▁시간가는줄': 4233, '▁잔뜩': 4234, '▁여러가지': 4235, '▁모험': 4236, '머니': 4237, '▁재난영화': 4238, '▁단어': 4239, '▁하늘': 4240, '티비': 4241, '▁알겠는데': 4242, '▁재밌던데': 4243, '안됨': 4244, '▁대놓고': 4245, '▁나은': 4246, '▁감안': 4247, '분은': 4248, '스럽고': 4249, '▁그건': 4250, '▁훌륭하다': 4251, '▁자신을': 4252, '▁배우를': 4253, '▁불러': 4254, '뭐야': 4255, '에서의': 4256, '는줄': 4257, '건가요': 4258, '▁만든영화': 4259, '▁느꼈다': 4260, '▁감동의': 4261, '30': 4262, '▁명작입니다': 4263, '▁작품은': 4264, '요소': 4265, '허접': 4266, '솔직히': 4267, 'L': 4268, '▁가치가': 4269, '지도않고': 4270, '었네요': 4271, '▁부모님': 4272, '쿵': 4273, '닉': 4274, '본영화': 4275, '어디': 4276, '했지': 4277, '▁액션씬': 4278, '▁여름': 4279, '▁효과': 4280, '▁쿠': 4281, '▁이것이': 4282, '▁보았습니다': 4283, '했다고': 4284, '▁다르다': 4285, '▁도망': 4286, '▁만들다니': 4287, '▁있었는데': 4288, '▁보지마라': 4289, '▁분들은': 4290, '▁없습니다': 4291, '▁중요': 4292, '적이다': 4293, '▁안타까운': 4294, '있습니다': 4295, '았는데': 4296, '▁드립니다': 4297, '▁몇년': 4298, '▁대본': 4299, '▁제외': 4300, '▁최근에': 4301, '▁촌스럽': 4302, '▁형사': 4303, '▁갖고': 4304, '▁척': 4305, '▁이런영화를': 4306, '▁쥐': 4307, '랄까': 4308, '▁끈': 4309, '닐': 4310, '▁아예': 4311, '▁돌리': 4312, '춰': 4313, '좋음': 4314, '▁흥': 4315, '숭': 4316, '▁짜임새': 4317, '렷': 4318, '쥬': 4319, '▁아이디어': 4320, '▁색다른': 4321, '▁무엇인지': 4322, '▁억지스러운': 4323, '극장': 4324, '▁비밀': 4325, '▁등등': 4326, '▁배역': 4327, '짱짱': 4328, '▁모르겠음': 4329, '▁살아가는': 4330, '▁이래서': 4331, '▁명화': 4332, '오글': 4333, '▁D': 4334, '▁나머지': 4335, '▁멋지': 4336, '▁최고였다': 4337, '▁다운': 4338, '▁ᄏᄏᄏᄏᄏᄏ': 4339, '▁ᄋ': 4340, '만듬': 4341, '같고': 4342, '▁노래도': 4343, '▁높게': 4344, '▁빠지': 4345, '▁술': 4346, '▁환': 4347, '자리': 4348, '▁영상이': 4349, '어지는': 4350, '거같아요': 4351, '▁분위기가': 4352, '주연': 4353, '사건': 4354, '닿': 4355, '헌': 4356, '혐': 4357, '개그': 4358, '랫': 4359, '▁아닙니다': 4360, '찔': 4361, 'ᅥ': 4362, '▁제임스': 4363, '▁sf': 4364, '▁극장가서': 4365, '앞에서': 4366, '▁싶을': 4367, '▁까지': 4368, '▁하나같이': 4369, '▁사고': 4370, '▁21': 4371, '▁기대이상': 4372, '큐': 4373, '빠르': 4374, '도대체': 4375, '때매': 4376, '▁잇': 4377, '▁죽을': 4378, '▁답답하고': 4379, '▁감정이': 4380, '어라': 4381, '▁비하면': 4382, '▁수준의': 4383, '▁잔인': 4384, '찾': 4385, '▁집에': 4386, '▁지나도': 4387, '지요': 4388, '생각이': 4389, '▁뭐하나': 4390, '▁에로영화': 4391, '▁죽이고': 4392, '오래': 4393, '아쉬웠': 4394, '▁쩝': 4395, '▁p': 4396, '▁뛰어나': 4397, '▁개연성도': 4398, '▁문제가': 4399, '19': 4400, '덜': 4401, '▁출연한': 4402, '엽': 4403, 'U': 4404, 'z': 4405, '▁블록버스터': 4406, '▁소소한': 4407, '▁후속작': 4408, '▁잔혹': 4409, '▁감정이입': 4410, '▁끝났': 4411, '▁싸우는': 4412, '▁듣고': 4413, '▁니들': 4414, '▁그저그런': 4415, '▁아역': 4416, '▁남자주인공': 4417, '▁이따위': 4418, '쓰레기영화': 4419, '▁가정': 4420, '장르': 4421, '▁외국': 4422, '▁성격': 4423, '▁또다른': 4424, '본사람': 4425, '▁맡': 4426, '▁부실': 4427, '▁낙': 4428, '▁엉성하고': 4429, '▁잼없': 4430, '아닌가': 4431, '야겠다': 4432, '▁내가본': 4433, '▁결정': 4434, '▁기준': 4435, '▁여운을': 4436, '부러': 4437, '▁예쁘고': 4438, '▁재미없었다': 4439, '..^^': 4440, '▁연출과': 4441, '▁죽인': 4442, '놈이': 4443, '쓰고': 4444, '▁추리': 4445, '아가': 4446, '▁정말이지': 4447, '원이': 4448, '었을': 4449, '이름': 4450, '만하다': 4451, '▁거기에': 4452, '▁울컥': 4453, '커플': 4454, '지않아': 4455, '▁결코': 4456, '▁어쩜': 4457, '▁낚였다': 4458, '▁촌': 4459, '▁볼게': 4460, '▁연극': 4461, '▁오래된': 4462, '▁슬퍼': 4463, '▁열연': 4464, '햇다': 4465, '였으면': 4466, '현실을': 4467, '▁낮네': 4468, '▁남은': 4469, '영이': 4470, '▁막장드라마': 4471, '▁a': 4472, '▁싸움': 4473, '해준다': 4474, '브라': 4475, '덕에': 4476, '▁오빠': 4477, '대단': 4478, '영화인데': 4479, '▁전설': 4480, '▁낮아': 4481, '라는게': 4482, '▁매력을': 4483, '다음': 4484, '이었습니다': 4485, '▁왔': 4486, '헐': 4487, '관객': 4488, '▁데리고': 4489, '▁감각': 4490, '▁영화인': 4491, '▁적당히': 4492, '하더라': 4493, '▁의미가': 4494, '▁푸': 4495, '▁타임': 4496, '▁길게': 4497, '▁L': 4498, '▁예쁘': 4499, '자신': 4500, '받아': 4501, '▁만남': 4502, '▁잼나게': 4503, '되었다': 4504, '▁치고': 4505, '주고싶다': 4506, '▁매력적': 4507, '▁아니야': 4508, '보니까': 4509, '않다': 4510, '▁남자들': 4511, '▁처럼': 4512, '▁뽑': 4513, '▁구성이': 4514, '▁노래가': 4515, '▁반전은': 4516, '▁그당시': 4517, '어이없': 4518, '▁먼가': 4519, '쓰는': 4520, '▁두고': 4521, '▁가슴을': 4522, '▁식상한': 4523, '하진': 4524, '▁좋겠': 4525, '왓': 4526, '아빠': 4527, '▁가족영화': 4528, '▁다운받아': 4529, '▁엿': 4530, '▁많은데': 4531, '여주': 4532, '▁결말을': 4533, '▁공포물': 4534, '객': 4535, '좌': 4536, '룩': 4537, '뽀': 4538, '▁살다살다': 4539, '컴': 4540, '▁탄생': 4541, '비디오': 4542, '<': 4543, '▁흔들': 4544, '▁봅니다': 4545, '두고': 4546, '찡': 4547, '년작': 4548, '마리': 4549, '▁방식': 4550, '▁멍': 4551, '▁집중해서': 4552, '▁잘봤어요': 4553, '재미없음': 4554, '혼자': 4555, 'ᄋᄋ': 4556, '점이상': 4557, '▁아래': 4558, '믿': 4559, '장이': 4560, '기전에': 4561, '▁승리': 4562, '▁잡아': 4563, '▁풍자': 4564, '▁애들은': 4565, '▁의문': 4566, '스카': 4567, '▁만한': 4568, '▁보려': 4569, '▁현실적이': 4570, '▁봤네': 4571, 'ᄏᄏᄏᄏᄏᄏᄏᄏᄏᄏ': 4572, '▁기독교': 4573, '렵': 4574, '▁요리': 4575, '찐': 4576, '▁아류작': 4577, '▁즐거웠': 4578, '▁다양한': 4579, '뻔한': 4580, '▁아무런': 4581, '▁코드': 4582, 'as': 4583, '▁그만큼': 4584, '벗': 4585, '▁만들었는지': 4586, '트리': 4587, '갑니다': 4588, '▁주인공은': 4589, '▁허술': 4590, '뇌': 4591, '겠죠': 4592, '턴': 4593, '▁살면서': 4594, '▁안볼': 4595, '▁수많은': 4596, 'bb': 4597, '▁f': 4598, '▁생각했는데': 4599, '▁마이': 4600, '는거야': 4601, '▁내용인지': 4602, '▁짐': 4603, '지루함': 4604, '번은': 4605, '▁변화': 4606, '같네': 4607, '▁낮게': 4608, '못해': 4609, '▁응': 4610, '이죠': 4611, '▁헬': 4612, '▁여러분': 4613, '했다면': 4614, '보셈': 4615, '▁잘만들었': 4616, '▁마지막장면': 4617, '▁사상': 4618, '았어요': 4619, '이후': 4620, '▁돈을': 4621, '씬이': 4622, '▁로버트': 4623, '▁사운드': 4624, 'ut': 4625, '▁핵노잼': 4626, '▁집착': 4627, '▁바랍니다': 4628, '▁볼수있는': 4629, '▁찾아보': 4630, '둥이': 4631, '▁담배': 4632, '▁남네요': 4633, '아쉬': 4634, '삶': 4635, '아저씨': 4636, '▁찰': 4637, '▁특이': 4638, '거죠': 4639, '▁가면': 4640, '들에': 4641, '▁빼면': 4642, '▁신파': 4643, '▁조카': 4644, '후회': 4645, '▁G': 4646, '조금': 4647, '▁놀랍다': 4648, '기법': 4649, '여행': 4650, '▁한국에서': 4651, '법한': 4652, '▁살린': 4653, '▁과정': 4654, '▁밋밋': 4655, '▁몰랐다': 4656, '▁냉': 4657, '시아': 4658, '▁대단하': 4659, '하하하': 4660, '▁궁': 4661, '▁손에': 4662, '영화입니다': 4663, '▁샘': 4664, '받았': 4665, '▁해라': 4666, '▁책을': 4667, '▁뭘까': 4668, '할만한': 4669, '둥': 4670, '▁보기에는': 4671, '인데도': 4672, '야한다': 4673, '엑': 4674, '핑': 4675, '벼': 4676, '▁플롯': 4677, '▁특수효과': 4678, '▁니콜': 4679, '▁앞뒤': 4680, '▁짧은': 4681, '▁ᄌ': 4682, '▁놀라운': 4683, '과는': 4684, '▁넌': 4685, '▁주기도': 4686, '▁북': 4687, '갓': 4688, '▁느껴지': 4689, '▁원작에': 4690, '▁재미있습니다': 4691, '▁잼잇': 4692, '▁199': 4693, '평가': 4694, '▁운명': 4695, '▁등장인물': 4696, '▁생활': 4697, '▁별로임': 4698, '▁궁금하다': 4699, '게임': 4700, '▁인도': 4701, '해주고': 4702, '▁솔직': 4703, '▁그자체': 4704, '▁생긴': 4705, '재밌어': 4706, '점대는': 4707, '▁신비': 4708, '▁형편없': 4709, '▁안습': 4710, '야할': 4711, '배우가': 4712, '않은': 4713, '있었다': 4714, '후에': 4715, '▁망친': 4716, '80': 4717, '▁예쁘다': 4718, '것같은': 4719, '▁코미디영화': 4720, '것만으로도': 4721, '▁이상하게': 4722, '▁새로': 4723, '▁거리': 4724, '수없는': 4725, '12': 4726, '찮': 4727, '긋': 4728, '▁끔찍': 4729, '▁교과서': 4730, '▁러시아': 4731, '▁짜증만': 4732, '▁심지어': 4733, '▁위험': 4734, '▁만들수': 4735, '▁여자친구': 4736, '▁좋겠네요': 4737, '오르': 4738, '▁몽': 4739, '▁주제를': 4740, '▁꽤나': 4741, 'le': 4742, '▁ᄀ': 4743, '▁낮지': 4744, '스크': 4745, '!!!!!!!!!!!!!!!!': 4746, '▁재미도없고': 4747, '▁아쉽지만': 4748, '▁부분도': 4749, '학생': 4750, '▁마지막까지': 4751, '▁좀비영화': 4752, '▁여주가': 4753, '▁않아서': 4754, '▁교훈을': 4755, '▁어울리는': 4756, '모르겟': 4757, '든지': 4758, '쳐서': 4759, '▁와닿': 4760, '▁때려': 4761, '거같음': 4762, '▁연기력은': 4763, '▁소설을': 4764, '▁폐': 4765, '듣': 4766, '▁잘하고': 4767, '▁안맞는': 4768, '▁불쌍하다': 4769, '▁몰라': 4770, '▁최고로': 4771, '라는걸': 4772, '필요없': 4773, '이여': 4774, '▁뭐니': 4775, '픽': 4776, '▁가벼운': 4777, '▁반드시': 4778, '▁어처구니': 4779, '▁첫사랑': 4780, '▁봤을까': 4781, '▁어느정도': 4782, '▁무료': 4783, '▁잼있어요': 4784, '부분은': 4785, '좋았다': 4786, '흠': 4787, '긴장감': 4788, '▁순수함': 4789, '옆': 4790, '촌': 4791, '▁있다니': 4792, '▁60': 4793, '었나': 4794, '▁포스': 4795, '▁잠이': 4796, '▁휘': 4797, '것처럼': 4798, '▁호구': 4799, '▁확인': 4800, '▁정작': 4801, '▁안본': 4802, '▁잼나': 4803, '았지만': 4804, '▁웃겼': 4805, '지말자': 4806, '▁맞추': 4807, '▁자체는': 4808, '▁자리': 4809, '▁반대': 4810, '▁떨어지고': 4811, '는구나': 4812, '▁일반': 4813, '▁넘게': 4814, '깝': 4815, '뿐이다': 4816, '▁처음에는': 4817, '긴하지만': 4818, '▁레이': 4819, '▁시청률이': 4820, '▁없으면': 4821, '▁내용과': 4822, '▁역사를': 4823, '퓨': 4824, '▁임팩트': 4825, '▁스티븐': 4826, '▁주윤발': 4827, '▁짜집기': 4828, '▁인내심': 4829, '▁어설프고': 4830, '▁캬': 4831, '했었': 4832, '할것': 4833, '▁태어나서': 4834, '▁여자주인공': 4835, '▁크리스': 4836, '▁그야말로': 4837, '▁약간의': 4838, '▁말하고자': 4839, '당시': 4840, '▁욕심': 4841, '스토리도': 4842, '▁따분': 4843, '▁조절': 4844, '▁한숨': 4845, '▁아름답게': 4846, '궁': 4847, '팀': 4848, '화이팅': 4849, '▁스토리의': 4850, '류의': 4851, '▁못보겠': 4852, '졸작': 4853, '▁불편한': 4854, '▁여전': 4855, '▁짜증나서': 4856, '▁언니': 4857, '▁빵': 4858, '▁그립다': 4859, '▁책임': 4860, '▁보다는': 4861, '라지만': 4862, '▁포스터가': 4863, '▁보아': 4864, '▁매일': 4865, '▁볼때': 4866, '씨는': 4867, '▁다시보니': 4868, '사를': 4869, '▁모른다': 4870, '▁당신은': 4871, '해야할': 4872, '또한': 4873, '재미도': 4874, '▁목적': 4875, '▁훈훈': 4876, '▁무리': 4877, '▁러닝타임': 4878, '▁했으면': 4879, '▁맞지': 4880, '이든': 4881, '▁최고임': 4882, '▁때문': 4883, '▁한편의': 4884, 'ᄏᄏᄏᄏᄏᄏᄏᄏᄏᄏᄏᄏ': 4885, '▁1,2': 4886, '▁줄수': 4887, '하는영화': 4888, '스토': 4889, '보는게': 4890, '▁아닐': 4891, '이었던': 4892, '시오': 4893, '▁아까운영화': 4894, '탱': 4895, '^-^': 4896, '▁쓸데없이': 4897, '▁장국영': 4898, '▁친구가': 4899, '▁유일한': 4900, '▁당연히': 4901, '▁업': 4902, '▁이야기는': 4903, '▁일부러': 4904, '▁첨엔': 4905, '▁생각으로': 4906, '아무': 4907, '같아서': 4908, '▁나름대로': 4909, '▁이딴걸': 4910, '▁삶이': 4911, '빌': 4912, '▁인디': 4913, '▁명작을': 4914, '방식': 4915, '▁강렬한': 4916, '▁심장': 4917, '▁상업': 4918, '▁명장면': 4919, '▁가져': 4920, '웨이': 4921, '▁폐지': 4922, '▁시리즈는': 4923, '먹은': 4924, '▁배신': 4925, '▁엘': 4926, '▁아름답': 4927, '미가': 4928, '▁선물': 4929, '▁영화화': 4930, '같은영화': 4931, '▁격': 4932, '없네요': 4933, '게하는': 4934, '▁멋졌': 4935, '▁소재도': 4936, '레스': 4937, '▁신선하': 4938, '▁쉬': 4939, '꾼': 4940, '될듯': 4941, '▁해리포터': 4942, '▁배트맨': 4943, '▁설득력': 4944, '▁심형래': 4945, '▁유일하게': 4946, '▁희망을': 4947, '▁로코': 4948, '▁근래': 4949, '▁귀여워': 4950, '▁하나로': 4951, '▁엔딩이': 4952, '▁어렵다': 4953, '▁바다': 4954, '▁어른이': 4955, '▁보던': 4956, '느껴': 4957, '추억': 4958, '▁피해': 4959, '로드': 4960, '포스터': 4961, '▁모든걸': 4962, '▁재밌지': 4963, '거같': 4964, '▁소년': 4965, '▁무엇': 4966, '스럽지': 4967, '언제': 4968, '▁엉망이': 4969, '▁재미없어서': 4970, '제로': 4971, '▁잘하는': 4972, '▁수작이다': 4973, '▁죽었': 4974, '▁음식': 4975, '▁영화라는': 4976, '▁연기자': 4977, '▁수입': 4978, '▁쓰고': 4979, '려나': 4980, '주기': 4981, '▁틀어': 4982, '못하는': 4983, '밝': 4984, '▁괜찮았다': 4985, '빠져': 4986, '딘': 4987, '▁dvd': 4988, '▁뱀파이어': 4989, 'ᄁ': 4990, '갠적으로': 4991, '▁웃으면서': 4992, '▁배경음악': 4993, '▁할아버지': 4994, '▁만든거': 4995, '달아': 4996, '▁ᄏᄏᄏᄏᄏᄏᄏ': 4997, '▁가수': 4998, '고요': 4999, '▁따뜻하고': 5000, '▁꼬마': 5001, '▁영상과': 5002, '듯하다': 5003, '신분': 5004, '▁나에겐': 5005, '▁케이블에서': 5006, '▁기회': 5007, '에대해': 5008, '▁가족이': 5009, '맞는': 5010, '▁많아서': 5011, '썼': 5012, '▁기억나는': 5013, '▁영화인지': 5014, '▁새벽에': 5015, '시나리오': 5016, '걍': 5017, '▁타고': 5018, '▁보다니': 5019, '곳에': 5020, '▁많은걸': 5021, '▁느낌의': 5022, '없는영화': 5023, '▁조선': 5024, '보인다': 5025, '▁한번도': 5026, '었는지': 5027, '낫': 5028, '▁나랑': 5029, '▁이해할수': 5030, '테러': 5031, '▁이상하고': 5032, '씀': 5033, '▁배우들은': 5034, '▁본게': 5035, '▁오락영화': 5036, '▁혹시': 5037, '▁흐르는': 5038, '능력': 5039, '▁봤어': 5040, '▁장면도': 5041, '알아': 5042, 'ᅮᅲ': 5043, '맘': 5044, '▁상대': 5045, '육': 5046, '드가': 5047, '쫓': 5048, '깃': 5049, '뗄': 5050, '셋': 5051, '▁제니퍼': 5052, '▁홍상수': 5053, '▁이소룡': 5054, '▁of': 5055, '▁강한': 5056, '▁빵빵': 5057, '▁내생에': 5058, '미국': 5059, '▁착각': 5060, '높은': 5061, '배우들이': 5062, '▁생각할': 5063, '톤': 5064, '오브': 5065, '▁버리': 5066, '▁이런건': 5067, '▁처음에': 5068, '▁동양': 5069, '▁울리는': 5070, '100': 5071, '임을': 5072, '있지': 5073, '▁놓고': 5074, '좋은영화': 5075, '받을': 5076, '역사': 5077, '할뿐': 5078, '▁다시는': 5079, '▁저급': 5080, '▁감동은': 5081, '아버지': 5082, '▁포인트': 5083, '▁^': 5084, '꿈': 5085, '른다': 5086, '▁봐야하는': 5087, '웃김': 5088, '연기는': 5089, '보여주': 5090, '▁있네': 5091, '▁한국의': 5092, '▁어디에': 5093, '▁짜증이': 5094, '보긴': 5095, '▁재밌어서': 5096, '▁밀려': 5097, '멜로': 5098, '▁슬펐': 5099, '▁받은': 5100, '같지': 5101, '뭔': 5102, '었네': 5103, '▁난해하': 5104, '▁후에': 5105, '▁ᄍᄍᄍ': 5106, '▁이해를': 5107, '▁여자의': 5108, '▁아깝고': 5109, '분의': 5110, '▁잘만들': 5111, '▁살아있': 5112, '▁재미로': 5113, '▁고등학교': 5114, '▁대통령': 5115, '▁부끄러': 5116, '▁조니뎁': 5117, '▁할리우드': 5118, '럭': 5119, '▁제이슨': 5120, '▁영환데': 5121, '▁맞춰': 5122, '▁돋보이는': 5123, '▁어째': 5124, '▁재미있을': 5125, '▁두번째': 5126, '재미있게': 5127, '▁동심': 5128, '▁시간아깝다': 5129, '▁잘못된': 5130, '▁아쉬움이': 5131, '▁독일': 5132, '▁섬': 5133, '▁우연': 5134, '조연': 5135, '타임': 5136, '▁없었음': 5137, '▁현실과': 5138, '!!!!!!': 5139, '▁들고': 5140, '▁키스': 5141, '▁난잡': 5142, '였나': 5143, '▁살리': 5144, '몸': 5145, '일듯': 5146, '앤': 5147, '분위기': 5148, '캐스팅': 5149, '아프': 5150, 'R': 5151, '▁싶어요': 5152, '▁남았': 5153, '트가': 5154, '목소리': 5155, '▁주제가': 5156, '느끼': 5157, '▁오글거리': 5158, '드립니다': 5159, '▁곧': 5160, '고싶은': 5161, '기도하고': 5162, '▁초딩때': 5163, '치고는': 5164, '▁쩔': 5165, '부터가': 5166, '▁인생에': 5167, '▁연인': 5168, '놀이': 5169, '40': 5170, '보시길': 5171, '▁갔다': 5172, '▁마음으로': 5173, '위에': 5174, '약한': 5175, '▁의사': 5176, '▁정보': 5177, '▁하길래': 5178, '▁삼류영화': 5179, '젊': 5180, '▁you': 5181, '▁됩니다': 5182, '젖': 5183, '▁숨겨진': 5184, '▁늑대': 5185, '▁실화를': 5186, '▁과학': 5187, '▁여러번': 5188, '▁사라지': 5189, '▁언제봐도': 5190, '▁영화인가': 5191, '▁다섯': 5192, '▁재능': 5193, '▁단순히': 5194, '와의': 5195, '어색': 5196, '▁마약': 5197, '▁보이지': 5198, '▁가족들': 5199, '▁톰': 5200, '▁혹시나': 5201, '▁=': 5202, '▁장면들': 5203, '▁충분': 5204, '장면은': 5205, '▁클레멘타인': 5206, '▁하다가': 5207, '간에': 5208, '▁하는게': 5209, '춤': 5210, '▁부부': 5211, '▁제목만': 5212, '려다가': 5213, '▁어색하고': 5214, '▁안간다': 5215, '데요': 5216, '▁실수': 5217, '▁검색': 5218, 'en': 5219, '▁발상': 5220, '▁시간만': 5221, '▁공감할': 5222, '극장에서': 5223, '▁머리가': 5224, '에게는': 5225, '▁아니지': 5226, '▁장면을': 5227, '▁쉽지': 5228, '▁진수': 5229, '▁별로고': 5230, '낭': 5231, '쩜': 5232, '15': 5233, '납': 5234, '▁정상': 5235, '눌': 5236, '곱': 5237, '밴': 5238, '템': 5239, '▁떨어짐': 5240, '뎅': 5241, '부끄럽': 5242, '▁박진감': 5243, '▁익숙': 5244, '▁희대의': 5245, '▁깜짝': 5246, '▁빠른': 5247, '▁처절': 5248, '▁서양': 5249, '▁ᄏᄏᄏᄏᄏᄏᄏᄏ': 5250, '▁프리': 5251, '▁엄마가': 5252, '▁이루': 5253, '▁짜증남': 5254, '됐다': 5255, '바라': 5256, '으려고': 5257, '▁개노잼': 5258, '싫어': 5259, '하니까': 5260, '아까운': 5261, '▁예능': 5262, '▁아까웠다': 5263, '▁넘치': 5264, '▁모르겠네요': 5265, '려다': 5266, '▁좋네': 5267, '▁하아': 5268, '▁터미네이터': 5269, '하는건지': 5270, '▁아냐': 5271, '▁불쌍한': 5272, '맞추': 5273, '▁지겹다': 5274, '▁다르게': 5275, '▁조잡': 5276, '칼': 5277, '엄청': 5278, '▁세상이': 5279, '▁멋지고': 5280, '▁X': 5281, '▁F': 5282, '무시': 5283, '지훈': 5284, '▁하네': 5285, '차이': 5286, '▁사용': 5287, '갈때': 5288, '▁줍니다': 5289, '▁안봐도': 5290, '▁깔': 5291, '▁나네요': 5292, '섹': 5293, '아라': 5294, '▁매니아': 5295, '▁이토록': 5296, '▁사투리': 5297, '▁뭐하자는': 5298, '▁실험': 5299, '▁잤다': 5300, '▁응원': 5301, '분만에': 5302, '▁만들기': 5303, '♥♥♥♥': 5304, '▁상영관': 5305, '줄알았는데': 5306, '▁디워': 5307, '▁최고봉': 5308, '▁이뻐서': 5309, '재밌는': 5310, '▁그것도': 5311, '함에': 5312, '▁봐도봐도': 5313, '▁괜찮음': 5314, '▁아니라고': 5315, '어진다': 5316, '▁앞에': 5317, '▁봤다면': 5318, '올라': 5319, '▁높아서': 5320, '겨운': 5321, '▁없나요': 5322, '▁그동안': 5323, '▁충실': 5324, '갔는데': 5325, '▁유발': 5326, '▁있다고': 5327, '▁거장': 5328, '▁슈': 5329, '▁중심': 5330, '▁반전을': 5331, 'ᄍ': 5332, '▁달려': 5333, '내용은': 5334, '▁멋있는': 5335, '▁논리': 5336, '스러웠': 5337, '▁느꼈': 5338, '▁알겠다': 5339, '보소': 5340, '▁내게': 5341, '▁끝에': 5342, '▁점수는': 5343, '▁주연배우': 5344, '말이필요없': 5345, '▁같지': 5346, '줄은': 5347, '▁아이들과': 5348, '모르고': 5349, '차별': 5350, '▁감독을': 5351, '제대로': 5352, '▁이런영화는': 5353, '▁흑': 5354, '표정': 5355, '뷰': 5356, '팍': 5357, 'ᄎ': 5358, '▁네티즌': 5359, '넬': 5360, '앨': 5361, '켄': 5362, '▁도무지': 5363, '▁/': 5364, '하시길': 5365, '▁맛이': 5366, '▁판단': 5367, '▁집중이': 5368, '▁내용전개': 5369, '▁보라': 5370, '▁이상해': 5371, '여운이': 5372, '▁그럴듯': 5373, '▁궁금해서': 5374, '▁재미없을': 5375, '물로': 5376, '▁재미있어': 5377, '분을': 5378, '쩌': 5379, '▁정신병자': 5380, '▁내일': 5381, '▁본지': 5382, '기에는': 5383, '▁났': 5384, '못하고': 5385, '하지말고': 5386, '모자': 5387, '먹어': 5388, '▁어디가': 5389, '하기에': 5390, '할수가': 5391, '곳에서': 5392, '애들이': 5393, '있지만': 5394, '▁얼굴이': 5395, '것보다': 5396, '▁오브': 5397, '보게되': 5398, '▁여주인공이': 5399, '번에': 5400, '▁떼': 5401, '신고': 5402, '하지마': 5403, '티가': 5404, '▁배우도': 5405, 'th': 5406, '략': 5407, '▁갑니다': 5408, '슷': 5409, '▁현실감': 5410, '삭': 5411, '랙': 5412, '▁왤케': 5413, '닷': 5414, '▁아놀드': 5415, '▁하정우': 5416, '▁흑백': 5417, '▁폭풍': 5418, '▁재개봉': 5419, '▁만화책': 5420, '▁루즈': 5421, '▁폭발': 5422, '▁2000': 5423, '뭐냐': 5424, '▁담겨': 5425, '▁거북': 5426, '▁공짜로': 5427, '▁짜증나고': 5428, '▁없게': 5429, '▁하품': 5430, '▁괜찮았는데': 5431, '▁배경이': 5432, '▁반담': 5433, '▁죽고': 5434, '트로': 5435, '▁배우는': 5436, '▁쭉': 5437, '나왓': 5438, '구리': 5439, '▁뭣': 5440, '▁겁': 5441, '▁하지원': 5442, '▁찾는': 5443, '▁인형': 5444, '드립': 5445, '▁기가': 5446, '▁기타': 5447, '▁공간': 5448, '서야': 5449, '▁알겠': 5450, '▁인생이': 5451, '자고': 5452, '▁사람도': 5453, '▁말자': 5454, '▁이드라마': 5455, '▁잊고': 5456, '▁최고의영화': 5457, '때까지': 5458, '불쌍': 5459, '잊': 5460, '꽃': 5461, '탑': 5462, 'CG': 5463, '벤': 5464, '▁부정': 5465, '웃겨': 5466, '▁사랑해': 5467, '할지': 5468, '멋있': 5469, '아무리': 5470, '▁박수': 5471, '▁지루하기': 5472, '만큼이나': 5473, '▁작품입니다': 5474, '▁스릴도': 5475, '▁대신': 5476, '▁불안': 5477, '흡': 5478, '▁빅': 5479, '▁나레이션': 5480, '▁쓸데없는': 5481, '▁컨셉': 5482, '덩어리': 5483, '▁꿈꾸': 5484, '▁환경': 5485, '▁적어도': 5486, '▁극복': 5487, '▁무엇인가': 5488, '▁보게된': 5489, '▁설정이': 5490, '▁to': 5491, '▁탈출': 5492, '않음': 5493, '▁소중함을': 5494, '열받': 5495, '▁잔잔하게': 5496, '▁어거지': 5497, '▁으리': 5498, '▁진부': 5499, '▁평소': 5500, '햇는데': 5501, '▁이름이': 5502, '씁쓸': 5503, '류영화': 5504, '▁유치해': 5505, '▁벤': 5506, '▁따뜻해': 5507, '▁케릭터': 5508, '▁기대없이': 5509, '▁김치': 5510, '▁뒤에': 5511, '상영': 5512, '▁결론은': 5513, '▁영상미가': 5514, '▁여자애': 5515, '▁테러': 5516, '▁가득한': 5517, '▁연출은': 5518, '▁재밋어요': 5519, '▁없냐': 5520, '▁아우': 5521, '휘': 5522, '포인트': 5523, '뭘': 5524, '개인적으로': 5525, '범죄': 5526, '▁따위': 5527, '▁가능한': 5528, '▁얘': 5529, '▁귀엽다': 5530, '소름': 5531, '▁마지막회': 5532, '앞으로': 5533, '하거나': 5534, '▁어울리지': 5535, '잖': 5536, '맞고': 5537, '자들이': 5538, '▁땡': 5539, '▁같고': 5540, '키드': 5541, '어가는': 5542, '하군': 5543, '▁끌고': 5544, '갱': 5545, '뚝': 5546, '랭': 5547, '▁오프닝': 5548, '뻥': 5549, '웟': 5550, '랩': 5551, '▁리얼리티': 5552, '▁뭥미': 5553, '▁걱정': 5554, '▁달콤': 5555, '▁평균': 5556, '^^*': 5557, '▁명대사': 5558, '▁각색': 5559, '▁빛을': 5560, '▁돈내고': 5561, '▁무겁': 5562, '▁믿고보는': 5563, '▁만약': 5564, '▁사랑한다': 5565, '▁부럽': 5566, '▁영화라니': 5567, '발연기': 5568, '자마자': 5569, '▁오랫만에': 5570, '~~!!': 5571, '▁유행': 5572, '▁유쾌하게': 5573, '글자': 5574, '▁시대에': 5575, '있던': 5576, '세여': 5577, '▁관련': 5578, '▁히어로': 5579, '자들의': 5580, '▁손발': 5581, '~~^^': 5582, '▁담은': 5583, '▁않았지만': 5584, '-_-;': 5585, '었을까': 5586, '▁본건데': 5587, '있어요': 5588, '존나': 5589, '▁넣어': 5590, '울리': 5591, '▁우뢰매': 5592, '▁아들이': 5593, '▁정신없': 5594, '▁소화': 5595, '▁유덕화': 5596, '▁볼만했다': 5597, '▁놀랍': 5598, '▁탐': 5599, '에만': 5600, '▁좋을듯': 5601, '비가': 5602, '▁전쟁의': 5603, '▁허술한': 5604, '▁신의': 5605, '몬': 5606, '▁강렬': 5607, '▁눈물나': 5608, '500': 5609, '▁세번': 5610, '렬': 5611, '▁정도면': 5612, '▁남기': 5613, '▁일본은': 5614, '볼수있': 5615, '낮은': 5616, '늙': 5617, '▁읽어': 5618, '멜': 5619, '외로': 5620, '▁의상': 5621, '등록': 5622, '▁여자는': 5623, '이딴': 5624, '▁갓': 5625, '▁가고': 5626, '▁액션신': 5627, '기억이': 5628, 'es': 5629, '앉': 5630, '▁묻어': 5631, '▁따라가': 5632, '켰': 5633, '▁늦게': 5634, '▁송강호': 5635, '▁인터넷': 5636, '껀': 5637, '▁자동차': 5638, '▁동시에': 5639, '▁파괴': 5640, '▁뻔하': 5641, '▁포스터에': 5642, '▁서울': 5643, '▁보시면': 5644, '▁자극적인': 5645, '가면서': 5646, '▁거품': 5647, '▁유럽': 5648, '▁웃을': 5649, '빠진': 5650, '▁살인마': 5651, '▁이루어': 5652, '감독은': 5653, '▁사실을': 5654, '▁먹는': 5655, '▁좋다고': 5656, '▁보았는데': 5657, '그러나': 5658, '▁평화': 5659, '▁만난': 5660, '같아': 5661, '▁절정': 5662, '하자면': 5663, '추격': 5664, '래도': 5665, '▁원조': 5666, '▁적당한': 5667, '▁아깝네': 5668, '▁녹아': 5669, '▁잼있음': 5670, '▁찍고': 5671, '▁사랑해요': 5672, '소녀': 5673, '▁의지': 5674, '▁아니었다': 5675, '▁황당한': 5676, '▁받고': 5677, '▁만들어서': 5678, '▁보는거': 5679, '느낌이': 5680, '▁갖다': 5681, '▁육': 5682, '특별': 5683, '놨네': 5684, '▁분들이': 5685, '▁인간은': 5686, '▁자아': 5687, '코믹': 5688, '▁다시보고': 5689, '바람': 5690, '므': 5691, '그럼': 5692, '이예요': 5693, '▁안될': 5694, '▁재미없다고': 5695, '봣다': 5696, '해지고': 5697, '▁최소': 5698, '▁답이': 5699, '안돼': 5700, '▁재미있는데': 5701, '빗': 5702, '벅': 5703, '셉': 5704, '▁명불허전': 5705, '▁짐캐리': 5706, '걷': 5707, '똘': 5708, '▁가까운': 5709, '▁내생애': 5710, '▁우려먹': 5711, '보느니': 5712, '져요': 5713, '마누라': 5714, '▁축구': 5715, '스텝': 5716, '▁역량': 5717, '▁목소리가': 5718, '▁전반적으로': 5719, '▁일본의': 5720, '아이들': 5721, '▁영화였음': 5722, '분동안': 5723, '줄알았': 5724, '▁믿기지': 5725, '왔어요': 5726, '▁떡': 5727, '▁난리': 5728, '힘들': 5729, '▁고어': 5730, '▁스토리전개': 5731, '▁오락': 5732, '성과': 5733, '▁탄탄하고': 5734, '▁쪽': 5735, '보고있어요': 5736, '▁시작부터': 5737, '▁이보다': 5738, '광고': 5739, '▁아깝네요': 5740, '▁답답함': 5741, '▁이끌어': 5742, '▁한국판': 5743, '▁화나': 5744, '것같은데': 5745, '▁왜곡': 5746, '점주': 5747, '▁즐': 5748, '낚': 5749, '▁어쩌면': 5750, '▁놓치': 5751, '찾아': 5752, '여운': 5753, '나름': 5754, '스케': 5755, '델': 5756, '아니고': 5757, '▁읽고': 5758, '▁포스터만': 5759, '봐야지': 5760, '재미없어': 5761, '▁명배우': 5762, '섬': 5763, '잭': 5764, '▁무섭고': 5765, '꼽': 5766, '▁명연기': 5767, '▁등장인물들': 5768, '할줄': 5769, '노답': 5770, '▁일부': 5771, '스토리가': 5772, '쩐다': 5773, '▁알았네': 5774, '윈': 5775, '나보다': 5776, '▁겨울': 5777, '행복': 5778, '▁그립': 5779, '▁소장': 5780, '▁만들었나': 5781, '몫': 5782, '▁아무생각없이': 5783, '썸': 5784, '▁깡패': 5785, '▁양아치': 5786, '▁첩보': 5787, '▁정우성': 5788, '▁곰': 5789, '▁좋았을텐데': 5790, '▁은근히': 5791, '잖아요': 5792, '였지': 5793, '▁꿀': 5794, '▁만들어낸': 5795, '▁표현할': 5796, '▁기존': 5797, '보고싶어요': 5798, '▁이런류의': 5799, '▁일본인': 5800, '였을': 5801, '▁사람이라면': 5802, '드만': 5803, '▁액션과': 5804, '▁생각난다': 5805, '▁시나리오가': 5806, '▁한방': 5807, '▁아파': 5808, '겠는데': 5809, '▁친구랑': 5810, '▁초등학교': 5811, '▁전개와': 5812, '▁강간': 5813, '자식': 5814, '▁본듯': 5815, '▁그것이': 5816, '▁되네요': 5817, '나오네': 5818, '▁생명': 5819, '▁싱': 5820, '▁싶었다': 5821, '편에서': 5822, '▁봐야지': 5823, '먹었': 5824, '께요': 5825, '▁느낌은': 5826, '▁자극적': 5827, '▁녹': 5828, ',,,,,,': 5829, '▁:)': 5830, '▁불가능': 5831, '▁지겹': 5832, '▁사람들에게': 5833, '우스': 5834, '멍': 5835, '▁팀': 5836, '그렇게': 5837, '▁봤는데도': 5838, '▁좋지': 5839, '▁벨': 5840, '▁하시': 5841, '꼈': 5842, '뭉': 5843, '▁누군지': 5844, '아들': 5845, '괜찬': 5846, '▁스포츠': 5847, '▁블랙코미디': 5848, '▁헛웃음': 5849, '▁역겨운': 5850, '▁민폐': 5851, '▁왠만한': 5852, '▁이것보단': 5853, '▁한국영화의': 5854, '▁장난하냐': 5855, 'al': 5856, '▁말아야': 5857, '굳굳': 5858, '심을': 5859, '습니까': 5860, '▁여태': 5861, '▁담긴': 5862, '미친': 5863, '▁그것을': 5864, '▁재난': 5865, '▁웃었': 5866, '아직도': 5867, '▁P': 5868, '▁과장': 5869, '▁치유': 5870, '▁데이': 5871, '꺼면': 5872, '▁영원한': 5873, '▁이번에': 5874, 'am': 5875, '▁상관없': 5876, '▁나오는데': 5877, '▁최소한': 5878, '▁보고싶어': 5879, '▁굴': 5880, '▁매력에': 5881, '되요': 5882, '아니면': 5883, '▁길이': 5884, '분들은': 5885, '천원': 5886, '▁잔잔하면서': 5887, '▁사랑합니다': 5888, '▁숙': 5889, '▁영화예요': 5890, '▁이뻐': 5891, '러스': 5892, '▁귀여움': 5893, '흑': 5894, '▁땅': 5895, '살이': 5896, '심이': 5897, '셔야': 5898, '주고싶': 5899, '▁아동': 5900, '▁떨어져': 5901, '굳': 5902, '▁반전에': 5903, '▁진지한': 5904, '달라': 5905, '▁생각도': 5906, '▁볼려고': 5907, '갖': 5908, '하실': 5909, '▁예술영화': 5910, '50': 5911, '평론가': 5912, '갈수록': 5913, '▁각자': 5914, '할수있는': 5915, '에비해': 5916, '재미있어요': 5917, '▁시대의': 5918, '무엇': 5919, '▁찍는': 5920, '▁땜에': 5921, '회가': 5922, '선수': 5923, '▁무섭지': 5924, '쯔': 5925, '▁웰메이드': 5926, '퀄': 5927, '뱀': 5928, '▁어두운': 5929, '▁호기심': 5930, '답게': 5931, '▁죄송': 5932, '▁고뇌': 5933, '▁극단적': 5934, '▁즐길': 5935, '▁교훈도': 5936, '나쁜': 5937, '▁고독': 5938, '▁이해불가': 5939, '▁상징': 5940, '사실': 5941, '▁나무': 5942, '▁만들어주': 5943, '▁요새': 5944, '▁여친': 5945, '▁ᅲᅲᅲᅲ': 5946, '▁개똥': 5947, '▁억지감동': 5948, '▁볼만합니다': 5949, '▁동네': 5950, '▁첨부터': 5951, '▁무한': 5952, '엇는데': 5953, '▁100%': 5954, '▁옳': 5955, '▁한개도': 5956, '▁천국': 5957, '▁애매': 5958, '▁씹': 5959, '▁적절한': 5960, '없나': 5961, '▁마니': 5962, '▁울면서': 5963, '▁느낌이다': 5964, '▁허무한': 5965, '▁알았음': 5966, '특집': 5967, '▁아진짜': 5968, '▁형제': 5969, '▁드러': 5970, '▁잠시': 5971, '▁뜬금없는': 5972, '시간동안': 5973, '안된다': 5974, '스티': 5975, '질질': 5976, '▁못보겠다': 5977, '▁시점': 5978, '▁유치해서': 5979, '쁜': 5980, '▁덤': 5981, '▁반영': 5982, '는거지': 5983, '▁나이가': 5984, '▁쩔어': 5985, '▁책으로': 5986, '▁거기다': 5987, '앞': 5988, '▁아프다': 5989, '▁잔잔하': 5990, '▁명작은': 5991, '▁제목을': 5992, '▁괜찮아': 5993, '->': 5994, '▁찾아서': 5995, '찰': 5996, '것같아': 5997, '시면': 5998, '▁다신': 5999, '▁됬': 6000, '귀엽': 6001, 'TV': 6002, '코메디': 6003, '꿀': 6004, '볼까': 6005, '선택': 6006, '▁전화': 6007, '▁기적': 6008, '▁김정': 6009, '▁재밋음': 6010, '였네요': 6011, '어리': 6012, '덴': 6013, '▁류승범': 6014, '랴': 6015, '▁제시카': 6016, '▁배급사': 6017, '▁이도저도': 6018, '▁풋풋한': 6019, '연기를': 6020, '▁빛나는': 6021, '▁앉아': 6022, '▁라스트': 6023, '▁장애인': 6024, '▁생에': 6025, '전혀': 6026, '▁신인': 6027, '답니다': 6028, '▁절망': 6029, '▁전체적인': 6030, '편집': 6031, '처리': 6032, '▁좋앗': 6033, '해놓고': 6034, '▁싶었던': 6035, '▁괜찮았음': 6036, '▁마지막엔': 6037, '시대에': 6038, '▁안보는게': 6039, '아까워': 6040, '▁실감': 6041, '므로': 6042, '긴다': 6043, '하시고': 6044, 'ᄏᄏᄏᄏᄏᄏ': 6045, '타고': 6046, '▁초반부': 6047, '▁드네요': 6048, '▁부족함': 6049, '▁널': 6050, '보신분들': 6051, 'ck': 6052, '▁별하나': 6053, '당하는': 6054, '▁소재의': 6055, '▁매미': 6056, '보내': 6057, '▁세월': 6058, '▁추천하고': 6059, '▁남성': 6060, '▁벗어나': 6061, '▁밤에': 6062, '▁않은데': 6063, '브리': 6064, '▁잘만들었다': 6065, '▁진한': 6066, '▁정신병': 6067, '▁배경으로': 6068, '▁ᄃᄃᄃ': 6069, '▁심한': 6070, '▁없는게': 6071, '에다가': 6072, '너무너무': 6073, '▁벗어': 6074, '▁아무도': 6075, '▁탓': 6076, '▁장면들이': 6077, '맹': 6078, '▁돼지': 6079, '▁내리': 6080, '▁미국의': 6081, '즐': 6082, '▁백인': 6083, '해줄': 6084, '같아요': 6085, '▁보기싫': 6086, '닫': 6087, '렀': 6088, '윌': 6089, '▁놀랐다': 6090, '닭': 6091, '뢰': 6092, '룰': 6093, '▁빨갱이': 6094, '뺏': 6095, '쟈': 6096, '▁드디어': 6097, '▁엑소': 6098, '▁러브라인': 6099, '▁쓸쓸': 6100, '▁흥미로웠': 6101, '▁짜릿': 6102, '▁향수': 6103, '▁그림체': 6104, '없구': 6105, '이어서': 6106, '▁가족의': 6107, '▁대표': 6108, '▁아만다': 6109, '했을까': 6110, '▁모르지만': 6111, '▁놀란': 6112, '▁있었으면': 6113, '했을때': 6114, '▁소름돋': 6115, '▁다행이다': 6116, '▁거지같은': 6117, '모를': 6118, '▁의도가': 6119, '▁액션을': 6120, '▁나을듯': 6121, '었지': 6122, '귀신': 6123, '복수': 6124, '▁것만': 6125, '▁감독과': 6126, '▁만났': 6127, '형제': 6128, '지루하고': 6129, '▁그렇지만': 6130, '▁단편': 6131, '▁빠져서': 6132, '▁액': 6133, '터짐': 6134, '▁여신': 6135, '▁괜찮게': 6136, '다큐': 6137, '가며': 6138, '▁보고나니': 6139, '당시엔': 6140, '▁편안': 6141, '▁버려': 6142, '▁때리': 6143, '▁그리워': 6144, 'un': 6145, '▁파리': 6146, '▁인류': 6147, '효과': 6148, '▁소개': 6149, '▁있기': 6150, '▁말아먹': 6151, '살인': 6152, '▁옆에': 6153, '소재와': 6154, '▁내용에': 6155, '좋네요': 6156, '▁유지': 6157, '▁괜찮고': 6158, '▁빠지는': 6159, '▁것에': 6160, '▁자기가': 6161, '▁졸았': 6162, '측': 6163, '▁시간에': 6164, '칙': 6165, '덩': 6166, '쉐': 6167, '▁깊게': 6168, '▁이병헌': 6169, '셧': 6170, '욤': 6171, '▁브루스': 6172, 'ᅢ': 6173, '▁화장실': 6174, '▁삭제': 6175, '▁배꼽': 6176, '▁창피': 6177, '▁만들었을까': 6178, '아아아': 6179, '▁던져': 6180, '▁안본다': 6181, '▁재미있었습니다': 6182, '▁드림': 6183, '순위': 6184, '꺼야': 6185, '▁연기하는': 6186, '▁진지하게': 6187, '▁작품이라': 6188, '▁말하려는': 6189, '역할': 6190, '물론': 6191, '▁재밌었던': 6192, '▁보았던': 6193, '▁한다는': 6194, '▁줘야': 6195, '▁군인': 6196, '▁깔끔한': 6197, '하기엔': 6198, '▁되는데': 6199, '▁연출력이': 6200, '▁인상적인': 6201, '보임': 6202, '맘에': 6203, '놈들은': 6204, '▁인생은': 6205, '애들은': 6206, '▁ᄡ': 6207, '있으면': 6208, '▁공감도': 6209, '▁와닿는': 6210, '▁작가의': 6211, '▁주지': 6212, '▁선사': 6213, '것같네요': 6214, '편까지': 6215, '▁잘한다': 6216, '으신': 6217, '▁미스': 6218, '곳이': 6219, '▁끝나서': 6220, '당신': 6221, '뭐지': 6222, '겠어': 6223, '▁시키': 6224, '▁ᄒᄃᄃ': 6225, '게만드는': 6226, '자기': 6227, '라인': 6228, '▁대사들': 6229, '▁살았': 6230, '외엔': 6231, '▁생기': 6232, '▁도시': 6233, '스코': 6234, '해줘서': 6235, '재미있다': 6236, '훌륭': 6237, '▁EBS': 6238, '▁컴퓨터': 6239, '홈': 6240, '▁언젠가': 6241, '▁베드신': 6242, '쯧쯧': 6243, '▁하이틴': 6244, '▁무거운': 6245, '▁박보영': 6246, '차승원': 6247, '▁낭만': 6248, '▁비행기': 6249, '▁생각해보게': 6250, '▁분량': 6251, '▁동영상': 6252, '▁은근': 6253, '▁쪼': 6254, '▁개콘': 6255, '밖': 6256, '합시다': 6257, '▁미안하다': 6258, '▁가족애': 6259, '90': 6260, '볼수': 6261, '▁극중': 6262, '▁조금은': 6263, '▁탄탄': 6264, '▁앞서': 6265, '▁요소가': 6266, '돈주고': 6267, '생각을': 6268, '▁내돈': 6269, '▁신선함': 6270, '거라고': 6271, '▁사랑스럽다': 6272, '였다면': 6273, '▁빠졌': 6274, '▁기대하지': 6275, '▁살다': 6276, '▁쩌': 6277, '▁들어간': 6278, '▁뭐임': 6279, '▁뜬금없이': 6280, '▁보라고': 6281, '▁뭐하는': 6282, '▁정도가': 6283, '맞은': 6284, '작이라': 6285, '스릴': 6286, '▁것들이': 6287, '▁땀': 6288, '년대에': 6289, '▁확실': 6290, '▁만드네': 6291, '후반': 6292, '으시': 6293, '▁않았던': 6294, '▁14': 6295, '▁캐릭터들이': 6296, '더군': 6297, '공주': 6298, '▁하나님': 6299, '▁드라마입니다': 6300, '▁있겠': 6301, '시키고': 6302, '쟁': 6303, '▁깎': 6304, '▁사랑하고': 6305, '▁빼곤': 6306, '줄알았다': 6307, '주제': 6308, '▁넘어가': 6309, '광구': 6310, '갠': 6311, '▁품': 6312, '곽': 6313, '덮': 6314, '쉴': 6315, '툭': 6316, '▁박중훈': 6317, '▁흡입력': 6318, '듦': 6319, '렐': 6320, '뤄': 6321, '▁신하균': 6322, '。': 6323, '헉': 6324, '셜': 6325, '▁라이언': 6326, '▁거부감': 6327, '▁둘째치고': 6328, '▁블루': 6329, '▁어설프다': 6330, '▁예측': 6331, '▁도둑': 6332, '▁잃은': 6333, '보네요': 6334, '▁2012': 6335, '▁부탁': 6336, '▁고딩': 6337, '▁나올때': 6338, '▁말그대로': 6339, '▁흘러가는': 6340, '결국': 6341, '▁대학': 6342, '▁버리고': 6343, '으러': 6344, '▁누나': 6345, '▁이거보다': 6346, '장난치': 6347, '▁답답하다': 6348, '▁나오네': 6349, '보고나서': 6350, '▁영원': 6351, '▁실망스럽': 6352, '▁언제까지': 6353, '▁챙겨': 6354, '하나하나가': 6355, '▁순수하고': 6356, '▁첨이다': 6357, '▁맞나': 6358, '▁숨은': 6359, '최고다': 6360, '▁가히': 6361, '▁날아': 6362, '▁기대이하': 6363, '여배우': 6364, '▁시작해서': 6365, '실력': 6366, '▁뛰어넘는': 6367, '▁보겠다': 6368, '중국': 6369, '▁따뜻': 6370, '▁미국식': 6371, '▁나와야': 6372, '지루해': 6373, '▁불쌍하': 6374, '▁요즘은': 6375, '▁몰아': 6376, '▁화끈': 6377, '▁짜증나게': 6378, '▁절로': 6379, 've': 6380, '▁소장하고': 6381, '하겠습니다': 6382, '▁및': 6383, '▁씁쓸하': 6384, '▁봉': 6385, '극히': 6386, '▁조연들': 6387, 'ed': 6388, '▁전문': 6389, '▁다시보기': 6390, '▁뭐고': 6391, '▁당연': 6392, '▁망할': 6393, '맞음': 6394, '맞아': 6395, '▁같았다': 6396, '램': 6397, '븐': 6398, '킴': 6399, '▁아름다워': 6400, '▁임창정': 6401, '▁명복을': 6402, '▁비호감': 6403, '▁칭찬': 6404, '▁워낙': 6405, '▁아쉬울': 6406, '▁오글오글': 6407, '▁감명깊게': 6408, '▁향연': 6409, '▁부활': 6410, '▁엄청나게': 6411, 'se': 6412, '▁따름': 6413, '▁개그맨': 6414, '▁낫겠다': 6415, '경찰': 6416, '▁마시길': 6417, '▁혼란': 6418, '▁좋겠습니다': 6419, '것인가': 6420, '립니다': 6421, '▁꼭보세요': 6422, '▁조아': 6423, '뻔했다': 6424, '틀리': 6425, '▁재미있었음': 6426, '▁러브': 6427, 'ᄏᄏᄏᄏᄏᄏᄏ': 6428, '▁잃었': 6429, '▁마음속': 6430, '▁멋지게': 6431, '▁역겹다': 6432, '▁쏘': 6433, '도좋고': 6434, '▁캐릭터를': 6435, '▁극장에': 6436, '▁어이없다': 6437, '▁H': 6438, '▁한번더': 6439, '▁했더니': 6440, '못함': 6441, '하고싶다': 6442, '▁가시': 6443, '▁지났': 6444, '▁맡은': 6445, '▁여인': 6446, '쩌네': 6447, '▁졸려': 6448, '▁활': 6449, '▁연상': 6450, '▁쩌는': 6451, '인걸': 6452, '줘야지': 6453, '▁새벽': 6454, '▁코믹영화': 6455, '주시': 6456, '▁웃는': 6457, '▁여배우들': 6458, '까봐': 6459, '▁오지': 6460, '▁최고네요': 6461, '▁작위적': 6462, '▁볼것': 6463, '어야지': 6464, '▁역사에': 6465, '있네요': 6466, '본적': 6467, '▁만들려': 6468, '▁말고는': 6469, '▁어디로': 6470, '▁영상도': 6471, '▁연기력에': 6472, '▁재미없었': 6473, '▁무대': 6474, '▁의문이': 6475, '▁입장': 6476, '겼다': 6477, '▁J': 6478, '풋': 6479, '▁디카프리오': 6480, '▁소름끼치는': 6481, '팩': 6482, '▁스타워즈': 6483, '밧': 6484, '▁왕조현': 6485, '맺': 6486, '켓': 6487, '▁도데체': 6488, '▁스타뎀': 6489, '▁무간도': 6490, '▁나타나': 6491, '▁격투': 6492, '▁그려낸': 6493, '▁묘한': 6494, '▁시도는': 6495, '▁로빈': 6496, '▁중학생': 6497, '▁철저': 6498, '▁참나': 6499, '뉴': 6500, '프로그램': 6501, '굿굿': 6502, '예술': 6503, '핵': 6504, '▁그들이': 6505, '▁어우': 6506, '▁재밌게봤어요': 6507, '싫': 6508, '▁마리': 6509, '▁새끼': 6510, '▁귀여워요': 6511, '▁사람들을': 6512, '▁재미있었는데': 6513, '▁소통': 6514, '▁다운받아서': 6515, '▁당신이': 6516, '▁부산': 6517, '▁살아야': 6518, '▁케미': 6519, '▁어이없음': 6520, '▁독특하고': 6521, '점만점에': 6522, '점부터': 6523, '▁정도는': 6524, '▁끝도': 6525, '▁감동적이네요': 6526, '▁있으나': 6527, '▁말투': 6528, '▁넘넘': 6529, '▁형편없는': 6530, '▁원하는': 6531, '▁볼만했': 6532, '시킬': 6533, '▁웃기는': 6534, '자와': 6535, '▁E': 6536, '▁분장': 6537, '▁있긴': 6538, '하하하하': 6539, '▁이딴영화': 6540, '는것을': 6541, '▁뭐라고': 6542, '▁슬픈영화': 6543, '▁한시간': 6544, '거같아': 6545, '▁속이': 6546, '▁빈약': 6547, '▁구분': 6548, '텐': 6549, '▁영화인줄': 6550, '▁읽는': 6551, '▁살리지': 6552, '▁상어': 6553, '▁귀여': 6554, '▁싶어서': 6555, '▁충분한': 6556, '▁이상하다': 6557, '이랄까': 6558, '~~~~~': 6559, '▁있었고': 6560, '▁막판': 6561, '안하고': 6562, '▁정체': 6563, '▁부담': 6564, '비추': 6565, '▁두시간': 6566, '이었는데': 6567, '▁최악의영화': 6568, '았으면': 6569, '멋잇': 6570, '▁힘을': 6571, '버렸네': 6572, 'com': 6573, '▁뒤죽박죽': 6574, '▁비쥬얼': 6575, '▁시종일관': 6576, '▁알파치노': 6577, '쌓': 6578, '얄': 6579, '퉤': 6580, '혔': 6581, '▁아기자기': 6582, '▁여러모로': 6583, '▁일주일': 6584, '▁미스캐스팅': 6585, '▁킬러': 6586, '▁총체적': 6587, '▁스파이': 6588, '▁더러워': 6589, '▁케빈': 6590, '▁돈아까워': 6591, '▁잠을': 6592, '▁살렸다': 6593, '▁에효': 6594, '▁속았다': 6595, '땡': 6596, '14': 6597, '빼곤': 6598, '시청률': 6599, '▁가짜': 6600, '그나마': 6601, '판타지': 6602, '우리나라': 6603, '▁이별': 6604, '▁최후': 6605, '나왔으면': 6606, '▁미스터리': 6607, '▁&': 6608, '▁글을': 6609, '▁작화': 6610, '허무': 6611, '▁감명': 6612, '▁입장에서': 6613, '▁말인가': 6614, '▁최고라고': 6615, '▁안나온다': 6616, '▁개나': 6617, '▁완벽하다': 6618, '주기도': 6619, '▁공유': 6620, '여주인공': 6621, '▁이제는': 6622, '▁시기': 6623, '었구나': 6624, '▁아이들에게': 6625, '미화': 6626, '지루하다': 6627, '▁타란티노': 6628, '느냐': 6629, '겨울': 6630, '▁말밖에': 6631, '이후로': 6632, '▁방해': 6633, '▁다시금': 6634, '▁개봉당시': 6635, '▁않으': 6636, '▁건질': 6637, '▁삶과': 6638, 'ᄃᄃᄃ': 6639, '▁ᄒᄒᄒᄒ': 6640, '▁지키': 6641, '▁전편보다': 6642, '▁R': 6643, '거에요': 6644, '성우': 6645, '~~~~~~': 6646, '▁싫어하는': 6647, '▁되야': 6648, '▁별로였다': 6649, '▁알게되': 6650, '▁것인가': 6651, '▁안에': 6652, '▁만화영화': 6653, '▁됐다': 6654, '▁소름돋는': 6655, '기술': 6656, '외에는': 6657, '▁범죄자': 6658, '▁흉내': 6659, '점주기도': 6660, '▁뉴': 6661, '구려': 6662, '▁프랑스영화': 6663, 'ne': 6664, '바로': 6665, '깁': 6666, '캡': 6667, '됫': 6668, '▁아마추어': 6669, '렛': 6670, '▁펼쳐': 6671, '▁김수현': 6672, '▁닥치고': 6673, '▁한효주': 6674, '▁바탕으로': 6675, '▁혁명': 6676, '▁보지마셈': 6677, '▁엽기': 6678, '▁섬세하': 6679, '▁난해한': 6680, '▁직업': 6681, '▁억지스럽고': 6682, '▁오래전에': 6683, '▁말씀': 6684, '▁충분하다': 6685, '▁보여줄': 6686, '▁모욕': 6687, '▁다른영화': 6688, '해야하나': 6689, '탓': 6690, '▁옛날영화': 6691, '걸린': 6692, '▁장난하나': 6693, '▁만들다': 6694, '▁아니잖아': 6695, '였구나': 6696, 'tv': 6697, '어떤': 6698, '▁역사상': 6699, '▁믿음': 6700, '▁사회적': 6701, '▁미녀': 6702, '▁산만하고': 6703, 'ic': 6704, '▁사랑스럽고': 6705, '각본': 6706, '▁당장': 6707, '▁학생': 6708, '▁우선': 6709, '▁받았다': 6710, '▁잼있네요': 6711, '▁충격적인': 6712, '▁모르겠네': 6713, '이었어요': 6714, '▁자고': 6715, '스틴': 6716, '▁뭐여': 6717, '▁단점': 6718, '▁위트': 6719, '▁오글거리는': 6720, '▁불과': 6721, '▁준비': 6722, '▁질질끌': 6723, '▁들게': 6724, '▁당황': 6725, '▁이야': 6726, '▁듣기': 6727, '▁철학적': 6728, '▁그런거': 6729, '지않게': 6730, '▁스릴러물': 6731, '▁살아있는': 6732, '▁보아도': 6733, '▁비교해': 6734, '인들의': 6735, '▁재미없네요': 6736, '!!!!!!!!': 6737, '버스': 6738, '▁세상에서': 6739, '부르': 6740, '▁욕먹': 6741, '▁선동': 6742, '싶은데': 6743, '▁긴장감을': 6744, '▁노인': 6745, '둑': 6746, '▁미소가': 6747, '▁빕니다': 6748, '덧': 6749, '▁섬세한': 6750, '▁강동원': 6751, '▁Good': 6752, '▁섬뜩': 6753, '수밖에': 6754, '▁픽사': 6755, '▁풀어낸': 6756, '되길': 6757, '▁감동적이에요': 6758, '▁좋으나': 6759, '▁못했': 6760, '알고': 6761, '▁승부': 6762, '▁로망': 6763, '본거': 6764, '▁뻔한스토리': 6765, '▁늙어': 6766, '▁울었어요': 6767, '▁보는것': 6768, '▁못하겠다': 6769, '▁가야': 6770, '살때': 6771, '▁조낸': 6772, '▁흥분': 6773, '얼마나': 6774, '떼': 6775, '▁조금만': 6776, '댓글': 6777, '▁보고있는데': 6778, 'ost': 6779, '샘': 6780, '줍니다': 6781, '병맛': 6782, '▁사람에게': 6783, '있었는데': 6784, '▁멋져': 6785, '▁고마': 6786, 'ce': 6787, '속으로': 6788, '형사': 6789, '▁movie': 6790, '▁팬들': 6791, '▁만들어라': 6792, '판에': 6793, '영활': 6794, '하더니': 6795, '자꾸': 6796, '▁올라가': 6797, '▁좋아하지만': 6798, '▁왔습니다': 6799, '▁낮은지': 6800, '▁하다니': 6801, '투성이': 6802, '▁끝을': 6803, '▁어쩌다': 6804, '▁연기잘하': 6805, '▁심하다': 6806, '▁대부': 6807, '믿고': 6808, '그저': 6809, '우드': 6810, '▁똑같이': 6811, '▁나머지는': 6812, '▁뻔하다': 6813, '▁느껴지지': 6814, '하는듯': 6815, '▁이것보다': 6816, '아까운영화': 6817, '재밋다': 6818, '▁잘생겼': 6819, '▁하하': 6820, '▁알리': 6821, '야말로': 6822, '▁후하게': 6823, '닮': 6824, '▁아무튼': 6825, '그대로': 6826, '▁실사': 6827, '▁미쳐': 6828, '싹': 6829, '▁하드': 6830, 'ᅩ': 6831, '▁캐릭': 6832, '돌려': 6833, '쏴': 6834, '퀸': 6835, '펜': 6836, '▁엔딩크레딧': 6837, '▁유치찬란': 6838, '▁마찬가지': 6839, '솜': 6840, '오랫동안': 6841, '▁클래식': 6842, '▁납득': 6843, '▁원숭이': 6844, '어울림': 6845, '생겨서': 6846, '▁떡밥': 6847, '▁두고두고': 6848, '▁ᄌᄂ': 6849, '▁그럴싸': 6850, '▁레옹': 6851, '▁극혐': 6852, '▁민족': 6853, '행위': 6854, '▁쉬운': 6855, '▁방향': 6856, '▁시험': 6857, '▁모자라': 6858, '▁중년': 6859, '재밌고': 6860, '긴했지만': 6861, '▁고문': 6862, '▁한심하다': 6863, '판을': 6864, '▁매번': 6865, '▁했을까': 6866, '▁비록': 6867, '▁당신의': 6868, '▁남아있': 6869, '제일': 6870, '폴': 6871, '보러': 6872, '로맨스': 6873, '뒤에': 6874, '거보고': 6875, '▁망쳐놓': 6876, '좀비': 6877, 'il': 6878, '▁우린': 6879, '▁나열': 6880, '저런': 6881, '▁아까워서': 6882, '▁화질': 6883, '▁몬': 6884, '▁부자': 6885, '점이나': 6886, '▁주려': 6887, '▁안나오는': 6888, '▁예술이': 6889, '▁무섭게': 6890, '▁소유': 6891, '▁귀여웠': 6892, '버린다': 6893, '▁쿨': 6894, '▁아이유': 6895, '▁행복하게': 6896, '▁나음': 6897, '그런데': 6898, '▁무서움': 6899, '▁현실은': 6900, '뻔함': 6901, '진행': 6902, '▁관심이': 6903, '없었': 6904, '▁티비로': 6905, '▁세월이': 6906, '▁한가지': 6907, '▁잔인함': 6908, '▁천사': 6909, 'sh': 6910, '났음': 6911, '▁넘어서': 6912, 'is': 6913, '▁is': 6914, '^^;': 6915, '▁이해도': 6916, '누님': 6917, '나올때': 6918, '소년': 6919, '▁장진': 6920, '것인지': 6921, '어쩌': 6922, '▁남는게': 6923, '실화': 6924, '▁웃었다': 6925, '륜': 6926, '간만에': 6927, '현실적': 6928, '낯': 6929, '멈': 6930, '봣어요': 6931, '숀': 6932, '▁즐거움': 6933, '왈': 6934, '츄': 6935, '팽': 6936, '핫': 6937, '뜸': 6938, '▁감성팔이': 6939, '드려요': 6940, '▁온갖': 6941, '▁자연스럽게': 6942, '▁영화라서': 6943, '▁4.44': 6944, '▁잔잔함': 6945, '▁돌아보게': 6946, '즐겁': 6947, '페이스': 6948, '▁인생영화': 6949, '▁맞다': 6950, '▁예수': 6951, '▁될수': 6952, '▁재앙': 6953, '▁아쉬워요': 6954, '명성에': 6955, '▁세계관': 6956, '▁권력': 6957, '▁개꿀잼': 6958, '▁의도는': 6959, '분짜리': 6960, '▁괜찮았던': 6961, '▁지옥': 6962, '만족': 6963, '방에서': 6964, '죽이고': 6965, '▁재방': 6966, '▁이만한': 6967, '▁싶습니다': 6968, '▁영화라지만': 6969, '낭비': 6970, '덕분에': 6971, '내려': 6972, '결혼': 6973, '▁보게되는': 6974, '▁언어': 6975, '▁조잡한': 6976, '▁마냥': 6977, '▁눈으로': 6978, '▁커서': 6979, '보지마라': 6980, '▁만들어졌': 6981, '줘요': 6982, '▁진부하': 6983, '▁스파이더맨': 6984, '▁이거보단': 6985, '달라고': 6986, '▁엘리': 6987, '충격': 6988, '▁학생들': 6989, '▁생각만': 6990, '로서는': 6991, '▁믿어': 6992, '하더라도': 6993, '하길래': 6994, '▁구성도': 6995, '▁삐': 6996, '▁깜': 6997, '▁가르': 6998, '싶네요': 6999, '국민': 7000, '▁일반인': 7001, '▁찾기': 7002, '▁끝날': 7003, '될까': 7004, '스턴': 7005, '▁원작과': 7006, '▁캐리': 7007, '▁살아남': 7008, '하러': 7009, '▁또보고': 7010, '▁완성': 7011, '▁짤': 7012, '지않는다': 7013, '결말이': 7014, '▁배우분들': 7015, '▁별거': 7016, 'us': 7017, '삼류': 7018, '▁남기는': 7019, '▁챙겨보': 7020, '치기': 7021, '▁아니라면': 7022, '감명깊': 7023, '렴': 7024, '띠': 7025, '▁안타까움': 7026, '☆': 7027, '잣': 7028, '짙': 7029, '▁김혜수': 7030, '▁머릿속': 7031, '▁피아노': 7032, '▁니콜라스': 7033, '▁상큼': 7034, '▁치밀하': 7035, '▁로맨틱코미디': 7036, '▁파격적': 7037, '답다': 7038, '▁방황': 7039, '▁에라이': 7040, '▁자랑': 7041, '▁짱이다': 7042, '▁태국': 7043, '▁후반부에': 7044, '▁느껴질': 7045, '졌음': 7046, 'ᄀᄀ': 7047, '▁많네': 7048, '보던': 7049, '▁제작비가': 7050, '▁전기': 7051, '▁들어서': 7052, '리스트': 7053, '▁하기엔': 7054, '▁기발한': 7055, '▁한동안': 7056, '▁괜찮네요': 7057, '▁영화보다가': 7058, '▁마시': 7059, '잼씀': 7060, '▁느껴졌다': 7061, '▁오그라들': 7062, '▁채워': 7063, '▁재밋는': 7064, '쩝': 7065, '멀': 7066, '애니메이션': 7067, '▁재밋엇': 7068, '▁나왔던': 7069, '왠': 7070, '▁못봐주겠': 7071, '▁신고': 7072, '▁필요한가': 7073, '바닥': 7074, '마저도': 7075, '구역': 7076, '▁외국인': 7077, '▁웃겼다': 7078, '▁있었음': 7079, '▁느끼고': 7080, '주었다': 7081, '할수없는': 7082, '피디': 7083, '검사': 7084, '빠짐': 7085, '수작': 7086, '싫다': 7087, '▁뛰어넘': 7088, '▁신화': 7089, '▁짱구': 7090, 'ch': 7091, '하하': 7092, '▁잼있는': 7093, '▁평을': 7094, '▁발음': 7095, '▁없던': 7096, '▁짜증났': 7097, '지마세요': 7098, 'he': 7099, '떨어지': 7100, '더라고요': 7101, '▁알려주는': 7102, '▁바닥': 7103, '▁나오기': 7104, '놈은': 7105, '▁낚인': 7106, '▁두명': 7107, '▁실망이다': 7108, '▁눈치': 7109, '제국': 7110, '▁관객이': 7111, '호러': 7112, '분정도': 7113, '▁알아야': 7114, '부리': 7115, '누구': 7116, '끝나고': 7117, '좋은데': 7118, '▁킬링': 7119, '랏': 7120, '팝': 7121, '▁뒤늦게': 7122, '▁어정쩡': 7123, '꽁': 7124, '뻑': 7125, '쭈': 7126, '▁애초에': 7127, '▁데이빗': 7128, '▁오그라드는': 7129, '▁바란다': 7130, '▁전성기': 7131, '▁멋짐': 7132, '▁자연스러운': 7133, 'vs': 7134, '동화': 7135, '흑흑': 7136, '▁무엇이': 7137, '좋겠': 7138, '▁프레': 7139, '▁봐주': 7140, '▁감동적입니다': 7141, '▁고증': 7142, '▁니가': 7143, '만원': 7144, '▁처음본다': 7145, 'la': 7146, '▁웃음을': 7147, '▁의미있는': 7148, '팬이': 7149, '학년때': 7150, '▁보고싶은데': 7151, '보려': 7152, '▁도와': 7153, '▁또라이': 7154, '▁안나옴': 7155, 'ha': 7156, '릴때': 7157, '학원': 7158, '▁담고': 7159, 'id': 7160, '▁공주': 7161, '▁모든것이': 7162, '예쁘': 7163, '▁화끈한': 7164, '▁역작': 7165, '▁밋밋한': 7166, '하였다': 7167, '▁예고': 7168, '치면': 7169, '올려': 7170, '▁막상': 7171, '▁빠져들게': 7172, '것들이': 7173, '▁답답해': 7174, '재밋음': 7175, '▁부족하고': 7176, '▁안되네': 7177, '▁본격': 7178, '깐': 7179, '거든': 7180, '레드': 7181, '했어도': 7182, '안되고': 7183, 'im': 7184, '억지스럽': 7185, '▁글고': 7186, '할려고': 7187, '▁전율': 7188, '▁잠들': 7189, '하지않고': 7190, '▁폼': 7191, '▁열라': 7192, '▁무협영화': 7193, '▁니들이': 7194, '보려고': 7195, '올린': 7196, '▁제목에': 7197, '▁대박이다': 7198, '▁독립': 7199, '▁아무나': 7200, '▁허허': 7201, '뎀': 7202, '쩍': 7203, '▁고등학생': 7204, '▁런닝타임': 7205, '▁엄정화': 7206, '▁크레딧': 7207, '뚫': 7208, '좆': 7209, '▁세련된': 7210, '▁짬뽕': 7211, '▁한석규': 7212, '▁스페인': 7213, '아카데미': 7214, '▁완젼': 7215, '▁늙은': 7216, '▁닮았': 7217, '▁찬양': 7218, '프라': 7219, '▁억지스런': 7220, '▁사이코': 7221, '▁먹칠': 7222, '▁부인': 7223, '▁환장': 7224, '▁여기에': 7225, '▁빠질': 7226, '▁불쌍해': 7227, '▁복선': 7228, '▁재밌었습니다': 7229, '▁채우': 7230, '▁정리': 7231, '어른': 7232, '▁멋있고': 7233, '▁느낀다': 7234, '▁봐줄만': 7235, '남주': 7236, '▁최고에요': 7237, '▁당연한': 7238, 'ter': 7239, '▁받아야': 7240, '▁주온': 7241, '▁절대로': 7242, '▁모방': 7243, '▁있겠지만': 7244, '두번': 7245, '▁성인이': 7246, '▁않습니다': 7247, '▁한사람': 7248, '▁웃겨서': 7249, '▁얘기를': 7250, '▁오해': 7251, '첫': 7252, '옛날': 7253, '▁제대로된': 7254, '▁다가오': 7255, '초딩': 7256, '▁의해': 7257, '철학': 7258, '▁편하게': 7259, '폭력': 7260, '에휴': 7261, '▁못만들': 7262, '▁최고최고': 7263, '하든': 7264, '▁낮네요': 7265, '▁정체성': 7266, '▁영상은': 7267, '▁니네': 7268, '▁안보면': 7269, '▁힘들어': 7270, '▁미스테리': 7271, '내리': 7272, '▁현실적이고': 7273, '▁본능': 7274, '▁무식': 7275, '▁커버': 7276, '▁감독에게': 7277, '▁높이': 7278, '▁17': 7279, '▁상업영화': 7280, '▁꿈과': 7281, '▁아까웠': 7282, '할정도로': 7283, '▁높지': 7284, '▁그이상': 7285, '▁안가는': 7286, '작가님': 7287, '▁역사적': 7288, '▁추가': 7289, '구먼': 7290, '어설프': 7291, '하기에는': 7292, '랍': 7293, '▁일깨워': 7294, '냄': 7295, '마음이': 7296, '▁제작자': 7297, '****': 7298, 'ᄐ': 7299, '▁애니매이션': 7300, '믄': 7301, '썰': 7302, '▁포켓몬': 7303, '▁호불호가': 7304, '뜯': 7305, '▁그냥저냥': 7306, '▁설경구': 7307, '▁나루토': 7308, '▁원피스': 7309, '▁드니로': 7310, '▁후속편': 7311, '▁브레': 7312, '▁귀찮': 7313, '▁호흡': 7314, '어지럽': 7315, '▁가슴아프': 7316, '▁흘렸': 7317, '▁안감': 7318, '차원': 7319, '▁생존': 7320, '▁간직': 7321, '▁시골': 7322, '▁얻어': 7323, '▁개인적인': 7324, '▁초반엔': 7325, '됬다': 7326, '▁시청자들': 7327, '▁거짓': 7328, '▁심장이': 7329, '▁두개': 7330, '▁되었습니다': 7331, '▁가족과': 7332, '▁감정선': 7333, '▁마블': 7334, '것같음': 7335, '▁성형': 7336, '크리': 7337, '▁극본': 7338, '▁이런식으로': 7339, '▁스포': 7340, '▁미학': 7341, '▁시체': 7342, '▁기대된다': 7343, '져야': 7344, '▁멜로영화': 7345, '▁않아요': 7346, '높아': 7347, '??????': 7348, '회부터': 7349, '▁쓰러': 7350, '▁물어': 7351, '▁갖게': 7352, '▁바라는': 7353, '같은데': 7354, '조아': 7355, '옷': 7356, '▁16': 7357, '▁재수없': 7358, '▁점에서': 7359, '촬영': 7360, '갑자기': 7361, '암튼': 7362, '▁기대했던': 7363, '보지마세요': 7364, '▁상처를': 7365, '▁만들었으면': 7366, '해가는': 7367, '▁내취향': 7368, '▁진부하다': 7369, '좋아하는데': 7370, '끝내': 7371, '눈물이': 7372, '▁첨으로': 7373, '보길': 7374, '아직': 7375, '아닌데': 7376, '▁남아있는': 7377, '▁과정이': 7378, '있었던': 7379, '▁흔하': 7380, '남긴다': 7381, '▁해외': 7382, 'ver': 7383, '됬는데': 7384, '볼때': 7385, '▁즐겨': 7386, '졌으면': 7387, '▁정부': 7388, '점주고': 7389, '▁나오네요': 7390, 'ᅲᅲᅲᅲᅲ': 7391, '바른': 7392, '▁주인공들이': 7393, '들끼리': 7394, '룬': 7395, '하려면': 7396, '▁아이를': 7397, '댓': 7398, '콤': 7399, '봇': 7400, '랍니다': 7401, 'Y': 7402, 'ᄊ': 7403, '▁듭니다': 7404, '▁박찬욱': 7405, '▁아이언맨': 7406, '▁에드워드': 7407, '▁영웅본색': 7408, '▁테이큰': 7409, '쇄': 7410, '숲': 7411, '턱': 7412, '▁2.22': 7413, '▁팝콘': 7414, '▁정주행': 7415, '▁김희선': 7416, '▁어딘가': 7417, '▁흥미롭게': 7418, '▁수면제': 7419, '▁이하도': 7420, '▁슈퍼맨': 7421, '▁공룡': 7422, '▁새삼': 7423, '보고싶은': 7424, '▁경악': 7425, '▁반갑': 7426, '▁취향이': 7427, '▁멋져요': 7428, '▁액션물': 7429, '▁긴장감과': 7430, '▁히어로물': 7431, '▁거기서': 7432, '▁동화같은': 7433, '▁심각하게': 7434, '▁감동적이었다': 7435, '▁게스트': 7436, '▁출연자': 7437, '시키지': 7438, '▁광기': 7439, '▁귀여워서': 7440, '▁회상': 7441, '▁웃기기': 7442, '▁강추합니다': 7443, '있다면': 7444, '▁좋더라': 7445, '▁만들었냐': 7446, '▁러닝타임이': 7447, '▁않으면': 7448, '▁흉내내': 7449, '주고싶은': 7450, '뭔지': 7451, '▁있어보이': 7452, '▁어린아이': 7453, '▁봐야한다': 7454, '▁가능성': 7455, '▁전율이': 7456, '▁피식': 7457, '▁대역': 7458, '▁몰입하게': 7459, '▁허구': 7460, '▁포함': 7461, '▁편인데': 7462, '나봐요': 7463, '앞에': 7464, '그녀': 7465, '한국영화': 7466, '▁우리에게': 7467, '분들께': 7468, '스러웠다': 7469, '▁연주': 7470, '▁걸작이다': 7471, '깜': 7472, '무서운': 7473, '탐': 7474, '오랜만에': 7475, '잇엇': 7476, '▁안봐서': 7477, '전체': 7478, '▁머냐': 7479, '▁거기': 7480, ':)': 7481, '었을텐데': 7482, '▁머야': 7483, '▁일본에서': 7484, '▁다름': 7485, '▁믿는': 7486, '공부': 7487, '▁만들어야': 7488, '입장': 7489, '레기': 7490, '▁못했던': 7491, '남기': 7492, '▁무기': 7493, '웃긴': 7494, '▁이딴게': 7495, '▁적절': 7496, '▁싶다면': 7497, '▁망쳐': 7498, '순수': 7499, '▁오랜': 7500, '같애': 7501, '말도안되': 7502, '때문': 7503, '70': 7504, '▁재밋어': 7505, '밍': 7506, '룸': 7507, '릅': 7508, '잘못': 7509, '▁송승헌': 7510, '▁점수준것들': 7511, '늬': 7512, '▁군더더기': 7513, '즉': 7514, '▁손예진': 7515, '▁어차피': 7516, '넷': 7517, '▁권상우': 7518, '보기엔': 7519, '▁오페라': 7520, '▁외로움': 7521, '▁흠잡을': 7522, '▁왕가위': 7523, '▁보낸다': 7524, '점준것중': 7525, '▁심리묘사': 7526, '▁엠마': 7527, '▁어설프게': 7528, '▁반감': 7529, '▁색채': 7530, '땜시': 7531, '미치': 7532, '▁웃으며': 7533, '▁재탕': 7534, '▁반응': 7535, '▁의한': 7536, '▁아깝습니다': 7537, '▁웃다가': 7538, '▁상식': 7539, '▁힘들었다': 7540, 'op': 7541, '▁느껴졌': 7542, '▁뜬금없': 7543, '낫다': 7544, '▁결국엔': 7545, '▁기발': 7546, '드리고': 7547, '년간': 7548, '▁레오': 7549, '▁이딴거': 7550, '▁말았다': 7551, '▁공연': 7552, '하겠지만': 7553, '▁자세': 7554, '▁인연': 7555, '▁여유': 7556, '▁경우': 7557, '장님': 7558, '▁지금보면': 7559, '▁허나': 7560, '▁검색해': 7561, '▁전라도': 7562, '▁십점': 7563, '▁자위': 7564, '삐': 7565, '▁매주': 7566, '▁보이고': 7567, '더럽게': 7568, '죽여': 7569, '킬링타임': 7570, 'ie': 7571, '볼때마다': 7572, '▁최고인듯': 7573, '▁나올까': 7574, '많고': 7575, '학대': 7576, '많은것을': 7577, '▁다시봤는데': 7578, '평생': 7579, '▁허접하고': 7580, '▁인식': 7581, '엇음': 7582, '같네요': 7583, '▁이어지는': 7584, '▁싫은': 7585, '▁필요하다': 7586, '지루한': 7587, '▁장점': 7588, '줄거리': 7589, '▁안봄': 7590, '▁본듯한': 7591, '듣고': 7592, '좋겠다': 7593, '▁명작임': 7594, '겠고': 7595, '버그': 7596, '괜': 7597, '밋': 7598, 'ri': 7599, 'el': 7600, '▁가볍지': 7601, '▁스필버그': 7602, '넓': 7603, '▁예뻐서': 7604, '▁깨달음': 7605, '▁엉뚱': 7606, '▁멘탈': 7607, '▁픽션': 7608, '▁나머진': 7609, '▁아바타': 7610, '▁컬트': 7611, '▁가까이': 7612, '▁택시': 7613, '▁절묘': 7614, '><': 7615, '▁2015': 7616, '▁낮추': 7617, '않았다': 7618, '▁과장된': 7619, '할게요': 7620, '▁치료': 7621, '▁대사와': 7622, '줄알고': 7623, '▁음향': 7624, '▁소품': 7625, '▁찍지': 7626, '▁번역': 7627, '▁남긴': 7628, '별점': 7629, '▁모순': 7630, '▁기억난다': 7631, '▁향한': 7632, '▁우승': 7633, '▁못따라': 7634, '▁경계': 7635, '▁일찍': 7636, '▁내시간': 7637, '▁싶었는데': 7638, '▁-_-;;': 7639, '▁로마': 7640, '▁알바생': 7641, '▁면이': 7642, '▁불쌍해서': 7643, '▁오직': 7644, '▁벌어': 7645, '테니': 7646, '한텐': 7647, '▁재밋고': 7648, '▁애정': 7649, '▁정석': 7650, '겠는가': 7651, '▁괜찮을': 7652, '모델': 7653, '큼': 7654, '.,.,': 7655, '만든영화': 7656, '▁외면': 7657, '▁밝혀': 7658, '입니까': 7659, '▁청년': 7660, '마무리': 7661, '무서움': 7662, '그래픽': 7663, '▁스릴감': 7664, '▁성적': 7665, '▁후반부로': 7666, '▁풀어내': 7667, '▁알려주': 7668, '▁동감': 7669, '▁토니': 7670, '▁우울한': 7671, '모르겠다': 7672, '▁비해서': 7673, '▁영상미와': 7674, '민호': 7675, '천재': 7676, '▁흥미진진한': 7677, '▁없으니': 7678, '멋진': 7679, '집에서': 7680, 'av': 7681, '▁메세지를': 7682, '였네': 7683, '▁어울리': 7684, '▁최악임': 7685, '되네': 7686, '원주고': 7687, '나이트': 7688, '▁전설이': 7689, '신부': 7690, '▁시대적': 7691, '▁잼없다': 7692, '▁바라보는': 7693, '그림': 7694, '팬이라': 7695, '▁와닿지': 7696, '▁본방': 7697, '졋': 7698, '▁겨울왕국': 7699, '▁구혜선': 7700, '▁도라에몽': 7701, '▁봤는지': 7702, '▁소피마르소': 7703, '▁학창시절': 7704, '삘': 7705, '쇠': 7706, '▁싸이코패스': 7707, '▁엉망진창': 7708, '썬': 7709, '▁간간히': 7710, '▁다이하드': 7711, '▁김명민': 7712, '▁최민수': 7713, '▁지저분': 7714, '▁영향을': 7715, '▁실상': 7716, '▁머리속': 7717, '▁저평가': 7718, '▁욕나온다': 7719, '2005': 7720, '▁열광': 7721, '▁커피': 7722, '▁국산': 7723, '▁흥미롭지': 7724, '▁의견': 7725, '떨어지는': 7726, '▁공허': 7727, '▁냉정': 7728, '보니깐': 7729, '▁감동적임': 7730, '설명': 7731, '▁좋아하지': 7732, '원래': 7733, '▁식상하다': 7734, '▁인간적으로': 7735, '▁처음이네': 7736, '▁있었습니다': 7737, '▁이은주': 7738, '▁자체로': 7739, '▁끝남': 7740, '▁어디까지': 7741, '▁에로물': 7742, '했었다': 7743, '▁좋아했던': 7744, '▁아닌것': 7745, '▁이따위로': 7746, '▁만든건지': 7747, '▁법정': 7748, '▁빈약한': 7749, '하는것도': 7750, '▁go': 7751, '18': 7752, '▁약하다': 7753, '▁훈훈하고': 7754, '궁금해': 7755, '▁손색이': 7756, '웠던': 7757, '▁화가나': 7758, '▁천만': 7759, '무서워': 7760, '선생님': 7761, '아름다운': 7762, '▁의도를': 7763, '▁중국영화': 7764, '그때': 7765, '위주': 7766, '거같네요': 7767, '▁형식': 7768, '질러': 7769, '감상': 7770, '▁이것은': 7771, '▁미안해': 7772, '노출': 7773, '엉성': 7774, '▁감동받': 7775, '▁가져다': 7776, '대체': 7777, '▁OOOO': 7778, '▁감동입니다': 7779, '▁날리': 7780, '없었다': 7781, '▁보게되었': 7782, '걸작': 7783, '▁등장하는': 7784, '▁알게된': 7785, '▁중학교': 7786, '▁기사': 7787, '▁산만하': 7788, '▁이런것도': 7789, '드릴': 7790, '인상깊었': 7791, '긍': 7792, '킥': 7793, '헨': 7794, '맴': 7795, '꾹': 7796, '▁숨막히': 7797, '▁안타까웠': 7798, '▁어쨌든': 7799, '떳': 7800, '▁국어책': 7801, '▁웬만하면': 7802, '스러울': 7803, '▁콜린': 7804, '▁틀림없': 7805, '▁심오한': 7806, '밑에': 7807, 'very': 7808, '▁강아지': 7809, '▁관람객': 7810, '▁기다렸': 7811, '▁람보': 7812, '▁미친듯이': 7813, '▁문득': 7814, '▁패션': 7815, '장군': 7816, '-.-': 7817, '▁재방송': 7818, '▁살인자': 7819, '▁출발': 7820, '▁여태까지': 7821, '▁중반부터': 7822, '▁뭐랄까': 7823, '▁지루했음': 7824, '▁이기적인': 7825, '▁적극': 7826, '▁뉴스': 7827, '▁미술': 7828, '▁신경쓰': 7829, '▁보는동안': 7830, '▁향기': 7831, '▁없애': 7832, '▁고작': 7833, '▁배울': 7834, '▁네이버평점': 7835, '▁믿을게': 7836, '좋아서': 7837, '영씨': 7838, '▁야하지도': 7839, '쪽으로': 7840, '▁괴수': 7841, '왔습니다': 7842, '▁끄는': 7843, '척하는': 7844, '▁개소리': 7845, '넘치는': 7846, '▁걸리': 7847, '▁장소': 7848, '편부터': 7849, '▁데려다': 7850, '▁죽일': 7851, '▁아련한': 7852, '혀서': 7853, '재미없는': 7854, '▁이어지': 7855, '썩': 7856, '▁흐르': 7857, '▁통해서': 7858, '것도아니고': 7859, '잘봤습니다': 7860, '액': 7861, '쿨': 7862, '▁만들었네': 7863, 'ᄉᄇ': 7864, '네이버': 7865, '힘든': 7866, 'ma': 7867, '▁마법': 7868, '중간에': 7869, '시티': 7870, '▁잘했다': 7871, '것들은': 7872, '성룡': 7873, '▁베일': 7874, '재밋어요': 7875, '없어요': 7876, '▁지금이나': 7877, '하죠': 7878, '▁죽는다': 7879, '끝날때까지': 7880, '▁역겹': 7881, '하나하나': 7882, '▁지워': 7883, 'ᄍᄍᄍ': 7884, 'ᄒᄒᄒᄒ': 7885, '▁깨닫': 7886, '▁태어나': 7887, '▁호감': 7888, '롯': 7889, '앵': 7890, '읍': 7891, '흉': 7892, '뚜': 7893, '▁엑스맨': 7894, '▁트랜스포머': 7895, '겸': 7896, '묶': 7897, '훗': 7898, '▁힙합': 7899, '끓': 7900, '캠': 7901, '▁김민종': 7902, '▁멈추': 7903, '▁박평식': 7904, '▁농담': 7905, '▁전지현': 7906, '▁갖춘': 7907, '▁증명': 7908, '파이팅': 7909, '▁사라진': 7910, '▁말이필요없다': 7911, '▁첫번째': 7912, '▁안성기': 7913, '▁중후반': 7914, '▁시간아까워': 7915, '▁애국심': 7916, '▁빨간': 7917, '▁허탈': 7918, '▁아침드라마': 7919, '▁러브스토리': 7920, '▁모독': 7921, '▁피곤': 7922, '▁환상적인': 7923, '▁부각': 7924, '▁터지는': 7925, '▁적당하다': 7926, '▁재미없었음': 7927, '▁이따구로': 7928, '▁데뷔작': 7929, '▁더욱더': 7930, '▁198': 7931, '▁소중하': 7932, '▁찍으': 7933, '▁자격': 7934, '▁굉장한': 7935, '사장': 7936, '▁가관': 7937, '▁정통': 7938, '봤을땐': 7939, '작전': 7940, '▁조악': 7941, '▁보고싶네요': 7942, '할정도': 7943, '▁내놓': 7944, '▁들여': 7945, '▁많음': 7946, '▁명작이라고': 7947, '▁모여': 7948, '▁좋구': 7949, '▁없을까': 7950, '▁돌아오': 7951, '▁본적이': 7952, '사극': 7953, '주관적': 7954, 'H': 7955, '특유의': 7956, '한마디로': 7957, '유쾌': 7958, '▁이영화보고': 7959, '했더니': 7960, '▁되어야': 7961, '▁못하네': 7962, '▁가상': 7963, '60': 7964, '억울': 7965, '▁대학생': 7966, '웠음': 7967, '년동안': 7968, '▁통쾌한': 7969, '▁나올수': 7970, '▁불쾌한': 7971, '있을까': 7972, '설마': 7973, '으세요': 7974, '재미있음': 7975, '▁보는사람': 7976, '▁인도영화': 7977, '즌': 7978, '▁운동': 7979, '싼': 7980, '▁떠오르는': 7981, 'http': 7982, '드래곤': 7983, '^_^': 7984, '▁신데렐라': 7985, '▁톰크루즈': 7986, '▁흐지부지': 7987, '뎁': 7988, '뎌': 7989, '줫': 7990, '펠': 7991, '▁이탈리아': 7992, '▁정확히': 7993, '헝': 7994, '▁더더욱': 7995, '▁사무라이': 7996, '▁오우삼': 7997, '찜찜': 7998, '▁신세경': 7999, '그나저나': 8000, '▁어떠한': 8001, '▁장동건': 8002, '▁드래곤볼': 8003, '▁엽문': 8004, '꼬맹이': 8005, '▁다니엘': 8006, '▁모자란': 8007, '▁도움이': 8008, '▁흑역사': 8009, '▁색다르': 8010, '▁스킵': 8011, '▁아쉬웠지만': 8012, '▁색깔': 8013, '▁전도연': 8014, '▁깜놀': 8015, '▁학살': 8016, '안쓰는데': 8017, '밖엔': 8018, '▁이민기': 8019, '▁에릭': 8020, '▁몰락': 8021, '▁꺼져': 8022, '▁신세계': 8023, '▁지브리': 8024, '▁복수극': 8025, '▁쏘우': 8026, '▁태양': 8027, '▁가라': 8028, '안좋': 8029, '▁99': 8030, '▁좋아하시는': 8031, '▁백배': 8032, '갈수': 8033, '▁남친': 8034, '수가없다': 8035, '▁제왕': 8036, '▁초반부터': 8037, '▁틀어주': 8038, '▁남기고': 8039, '▁의미없는': 8040, '▁울림': 8041, '▁임신': 8042, '▁소소하': 8043, '▁잼나요': 8044, '주의자': 8045, '직원': 8046, '▁성경': 8047, '닼': 8048, '이라는게': 8049, '▁모아': 8050, '▁빠지게': 8051, '타령': 8052, '▁변신': 8053, '▁추천한다': 8054, '▁최하': 8055, '▁그시절': 8056, '다시보고싶': 8057, '자매': 8058, '▁슬펐다': 8059, '▁명작이네요': 8060, '▁특이한': 8061, '▁퇴보': 8062, '▁생각나게': 8063, '필드': 8064, '자막': 8065, '비행': 8066, '▁재밌게봤는데': 8067, '▁장난감': 8068, '▁만날': 8069, '▁따뜻함': 8070, '키우': 8071, '볼려고': 8072, '하잖아': 8073, '취향': 8074, '▁낚였네': 8075, '▁남자배우': 8076, '퇴': 8077, '쫌': 8078, '본영화중에': 8079, '필름': 8080, '▁아름다웠': 8081, '▁공포감': 8082, '▁잔인하고': 8083, '▁다시보게': 8084, '▁비교하면': 8085, '졌어요': 8086, 'ᄒᄒᄒᄒᄒ': 8087, '▁공감대': 8088, '▁만세': 8089, '▁높네': 8090, '섯': 8091, '딜': 8092, '중딩': 8093, '믹': 8094, '끗': 8095, '깡': 8096, '▁인상깊게': 8097, '겄': 8098, '딕': 8099, '탠': 8100, '▁매끄럽지': 8101, '▁미장센': 8102, '▁엉터리': 8103, '▁키아누': 8104, '뼈': 8105, '펴': 8106, '▁어설퍼': 8107, '▁황정민': 8108, '▁최민식': 8109, '습니당': 8110, '▁윌리스': 8111, '▁ᄇᄉ': 8112, '▁함부로': 8113, '▁완죤': 8114, '▁일어날': 8115, '▁2003': 8116, '▁이정재': 8117, '▁8.5': 8118, '▁보여줌': 8119, '://': 8120, '▁낚여서': 8121, '헌터': 8122, '▁극찬': 8123, '십니다': 8124, '▁마틴': 8125, '몇번': 8126, '▁실패작': 8127, '▁드문': 8128, '▁노튼': 8129, '▁오글거려서': 8130, '점도아깝다': 8131, '▁끝난다': 8132, '탁월한': 8133, '▁영광': 8134, '▁질문': 8135, '▁존잼': 8136, '▁잔잔하지만': 8137, '▁집단': 8138, '▁유령': 8139, '와이프': 8140, '▁돈아깝다': 8141, '▁사람마다': 8142, '▁카피': 8143, '▁한번씩': 8144, '▁히트': 8145, '▁단역': 8146, '▁무슨말이': 8147, '▁드물': 8148, '▁늙었': 8149, '엿다': 8150, '볼꺼': 8151, '하루': 8152, '▁보러갔': 8153, '연애': 8154, '▁유치하기': 8155, '▁담아': 8156, '▁아름다웠다': 8157, '할텐데': 8158, '▁또봐도': 8159, '얘': 8160, '감성': 8161, '▁말아먹은': 8162, '대장': 8163, '가아니라': 8164, '▁날려': 8165, '바탕': 8166, '▁생각했던': 8167, '하시네요': 8168, '▁혼자서': 8169, '▁결말까지': 8170, '점만점': 8171, '▁깔끔': 8172, '귀여워': 8173, '▁다음편': 8174, '개연성': 8175, '그렇지': 8176, '히어로': 8177, '페이지': 8178, '▁이해되': 8179, 'cg': 8180, '▁밀어': 8181, '▁재밌게본': 8182, '▁조폭영화': 8183, '▁강하게': 8184, '영웅': 8185, '인것같다': 8186, '▁허무함': 8187, '▁진정성': 8188, '씩이나': 8189, '유머': 8190, 'ᄃᄃᄃᄃ': 8191, '나보네': 8192, '▁미스터': 8193, '남편': 8194, '지르는': 8195, '퉁': 8196, '뱅': 8197, '밉': 8198, '펼': 8199, '▁윌리엄': 8200, '뉘': 8201, '▁과대평가': 8202, '쉣': 8203, '썻': 8204, '앜': 8205, '윽': 8206, '▁가슴아픈': 8207, '▁차태현': 8208, '밨': 8209, '벙': 8210, '▁존스': 8211, '▁정당화': 8212, '▁징징': 8213, '▁의외의': 8214, '▁클라스': 8215, '▁멀쩡': 8216, '▁솔까': 8217, '▁납치': 8218, '▁거슬리': 8219, '▁젊음': 8220, '▁찬사를': 8221, '▁사라져': 8222, '▁경의를': 8223, '▁죽기전에': 8224, '징그러': 8225, '▁상당한': 8226, '▁고마운': 8227, '▁돈낭비': 8228, '▁짱짱맨': 8229, '전달': 8230, '▁댄스': 8231, '▁장혁': 8232, '▁우롱': 8233, '▁굿굿굿': 8234, '▁황금': 8235, '▁필요없음': 8236, '▁재밌기만': 8237, '노동자': 8238, '달리': 8239, '▁재미나게': 8240, '▁울었습니다': 8241, '▁겉멋만': 8242, '▁몰랐는데': 8243, '▁슬퍼요': 8244, '▁나오다니': 8245, '▁안타깝네요': 8246, 'PD': 8247, '▁재현': 8248, '▁기록': 8249, '▁하던가': 8250, '금지': 8251, '▁슬프네요': 8252, '▁어케': 8253, '▁힘내': 8254, '▁집어': 8255, '▁답답해서': 8256, '▁재미있어서': 8257, '▁없었는데': 8258, '죽음': 8259, '작렬': 8260, '▁에러': 8261, '▁꼭봐야': 8262, '▁안좋은': 8263, '클럽': 8264, '하느라': 8265, '▁사망': 8266, '것같습니다': 8267, '갔으면': 8268, '▁꺼내': 8269, '만들엇': 8270, '이아니라': 8271, '▁볼만한데': 8272, '▁다른사람': 8273, '▁뽑아': 8274, '▁어색함': 8275, '지않나': 8276, '겠냐': 8277, 'll': 8278, '저예산': 8279, '▁모르나': 8280, '▁비현실적이': 8281, '변화': 8282, '지마시길': 8283, '영상미': 8284, '알바들': 8285, '▁이따구': 8286, '뿔': 8287, '▁아쉬워': 8288, '날때': 8289, '풋풋': 8290, '쎄': 8291, '옵': 8292, '웰': 8293, '▁다세포소녀': 8294, '럿': 8295, '맷': 8296, '쏙': 8297, '코스프레': 8298, '▁끝판왕': 8299, '▁다크나이트': 8300, '띵': 8301, '릉': 8302, '빤': 8303, '푼': 8304, '▁아프리카': 8305, '안타까워': 8306, '▁김태희': 8307, '▁공중파': 8308, '▁긴박감': 8309, '▁모성애': 8310, '▁여기저기': 8311, '▁평점조절': 8312, '▁임청하': 8313, '▁타이틀': 8314, '▁아이러니': 8315, '▁레이첼': 8316, '▁혹평': 8317, '▁2004': 8318, '▁어지간': 8319, '▁다운로드': 8320, '▁더럽다': 8321, '▁사기꾼': 8322, '▁노골적': 8323, '▁크리스찬': 8324, '▁담백하': 8325, '▁성찰': 8326, '▁어딜': 8327, '창있네': 8328, '▁원작소설': 8329, '▁멋있어': 8330, '▁바꾼': 8331, '▁억지설정': 8332, '펙트': 8333, '▁재주': 8334, '▁대표적인': 8335, '였으나': 8336, '▁몇번이나': 8337, '▁제정신': 8338, '▁실화라는': 8339, '▁불행': 8340, '▁어렸을적': 8341, '▁볼만했는데': 8342, '▁분명히': 8343, '▁요약': 8344, '▁알려준': 8345, '▁짧아': 8346, '▁도중에': 8347, '▁특수': 8348, '겁니까': 8349, '▁알겠지만': 8350, '볼만한': 8351, '▁무색': 8352, '▁황당하': 8353, '▁그지같은': 8354, '▁썩어': 8355, '▁재밌당': 8356, '영화자체는': 8357, '합니까': 8358, '▁좋아하네요': 8359, '활동': 8360, '▁남발': 8361, '▁처음이네요': 8362, '▁데미': 8363, '▁재밋는데': 8364, '▁재밋네요': 8365, '▁있나요': 8366, '▁고수': 8367, '▁찾아볼': 8368, '▁해피': 8369, '만드네': 8370, '▁무리수': 8371, '▁할배': 8372, '▁일본판': 8373, '등급': 8374, '▁존재하는': 8375, '▁빌리': 8376, '찾기': 8377, '죽는줄': 8378, '▁유혹': 8379, '되지않': 8380, '▁주먹': 8381, '였다니': 8382, '▁떠들': 8383, '-_': 8384, '▁기독교인': 8385, '▁외국영화': 8386, '▁좋아한다': 8387, '해야한다': 8388, '▁300': 8389, '▁손색': 8390, '싶어서': 8391, '했냐': 8392, '▁강제': 8393, '쭉': 8394, '왜이래': 8395, '완벽': 8396, '슬퍼': 8397, '▁배려': 8398, '마른': 8399, '아이돌': 8400, '123': 8401, '다시봐도': 8402, '▁메리': 8403, '마냥': 8404, '별루': 8405, '▁끝날때': 8406, '▁표정연기': 8407, '▁봐줄': 8408, '▁드러나': 8409, '티비에서': 8410, 'ol': 8411, '뜩': 8412, '둡': 8413, '펀': 8414, '▁송혜교': 8415, '켈': 8416, '▁고맙습니다': 8417, '▁드림웍스': 8418, '▁똑바로': 8419, '▁미야자키': 8420, '▁인종차별': 8421, '▁홧팅': 8422, '둬': 8423, '룹': 8424, '쌩': 8425, '핏': 8426, '▁자본주의': 8427, '▁절제된': 8428, '욬': 8429, '▁어둡고': 8430, '개인적으론': 8431, '▁2013': 8432, '나옵니다': 8433, '▁태어난': 8434, '▁오인혜': 8435, '▁정신나간': 8436, '▁사로잡': 8437, '▁더럽고': 8438, '▁감수성': 8439, '▁best': 8440, '▁끊임없': 8441, '▁돋보인다': 8442, '▁7.5': 8443, '▁눈요기': 8444, '▁모티브': 8445, 'ᄂᄂ': 8446, '▁가해자': 8447, '▁짐승': 8448, '▁감옥': 8449, '▁휴먼': 8450, '▁접근': 8451, '등등': 8452, '▁지나친': 8453, '▁서극': 8454, '▁존경합니다': 8455, '묘사': 8456, '▁출현': 8457, '▁절반': 8458, '라이브': 8459, '▁총알': 8460, '▁스토리라인': 8461, '덕후': 8462, '▁중간부터': 8463, '▁우왕': 8464, '▁대실망': 8465, '따윈': 8466, '▁못생겼': 8467, '▁일탈': 8468, '집중': 8469, '▁남자라면': 8470, '▁예산': 8471, '▁건강': 8472, '하지않은': 8473, '▁경제': 8474, '▁슬프지만': 8475, '▁초등학교때': 8476, '▁나은듯': 8477, '▁없구나': 8478, '▁울었던': 8479, '▁발레': 8480, '과도한': 8481, '▁글쎄요': 8482, '▁있겠지': 8483, '▁훈훈하': 8484, '▁아까워요': 8485, '▁예쁘게': 8486, '▁철학적인': 8487, '▁전락': 8488, '▁잃어': 8489, '▁부디': 8490, '▁차마': 8491, '엇어요': 8492, '왔던': 8493, '느님': 8494, '▁마크': 8495, '▁좋았어': 8496, '▁예술성': 8497, '별반개도': 8498, '▁향해': 8499, '▁지루하기만': 8500, '써서': 8501, '알았': 8502, '▁몰입되': 8503, '▁솔직한': 8504, '때문이': 8505, '▁존재한다': 8506, '▁존재감': 8507, '▁어린이들': 8508, '--;': 8509, '때메': 8510, '짓거리': 8511, '▁압도': 8512, '일수도': 8513, '▁마르': 8514, '챙겨': 8515, '불륜': 8516, '대단히': 8517, '달까': 8518, '▁느껴져': 8519, '▁환상적이': 8520, '챙': 8521, '첩': 8522, '펑': 8523, '탭': 8524, '↓': 8525, '▁뮤직비디오': 8526, '▁팀버튼': 8527, '▁파워레인저': 8528, '툰': 8529, '▁클린트': 8530, 'mbc': 8531, '▁뚝뚝': 8532, '▁뜨거운': 8533, '▁송지효': 8534, '▁팍팍': 8535, '▁나쁘진': 8536, '▁두려움': 8537, '떄문에': 8538, '▁한쿡영화': 8539, '▁비정상': 8540, '▁이연희': 8541, '▁흐뭇': 8542, '▁터져': 8543, '▁힘내세요': 8544, '▁무너지': 8545, '▁뉴욕': 8546, '앵글': 8547, '▁즐겁고': 8548, '▁짧게': 8549, '배속으로': 8550, '▁놀랬': 8551, '▁초능력': 8552, '▁비싼': 8553, '▁비롯': 8554, '▁사라졌': 8555, '줬으면': 8556, '보기싫': 8557, '홍보': 8558, '것일까': 8559, '▁끌려': 8560, '▁넘어선': 8561, '부턴': 8562, '▁성룡영화': 8563, '♡♡': 8564, '▁얘들': 8565, '영화관에서': 8566, '▁받아들이': 8567, '▁중학교때': 8568, '▁사실적으로': 8569, '▁그지없': 8570, '▁현실적으로': 8571, '▁잼없음': 8572, '▁가졌': 8573, '▁피터': 8574, '▁최고였습니다': 8575, '스럽네': 8576, '▁개독': 8577, '▁사랑스럽': 8578, '약간': 8579, '이건뭐': 8580, '▁미국판': 8581, '낚였': 8582, '▁담아내': 8583, '▁훌륭함': 8584, '▁되었는데': 8585, '▁않았음': 8586, '▁인간적인': 8587, '▁그지같': 8588, '하고픈': 8589, '▁첨이네': 8590, '▁멀리': 8591, '라기보다': 8592, '▁다시보고싶은': 8593, '▁엉성함': 8594, '▁잃지': 8595, '녀석들': 8596, '▁허접하다': 8597, '▁재미있네': 8598, '▁광팬': 8599, '▁불편함': 8600, '▁환자': 8601, '겐': 8602, '▁확실한': 8603, '고싶지': 8604, '봣음': 8605, '▁be': 8606, '릇': 8607, '▁표현했다': 8608, '▁기억될': 8609, '▁잠자': 8610, '톰': 8611, '▁죽을뻔': 8612, '씹': 8613, '낙': 8614, '흐름': 8615, '카메라': 8616, '러브': 8617, '진정한': 8618, '이쁘고': 8619, '시간낭비': 8620, '좋았어요': 8621, '먼저': 8622, '조각': 8623, 'est': 8624, '▁감동받았': 8625, '관련': 8626, '♡♡♡': 8627, '제작비': 8628, '쯧': 8629, '넼': 8630, '▁고스란히': 8631, '▁엉덩이': 8632, '▁인터뷰': 8633, '▁임권택': 8634, '▁찝찝한': 8635, '▁클리셰': 8636, '▁양동근': 8637, '▁카메론': 8638, '▁서프라이즈': 8639, '▁어우러진': 8640, '▁원주율': 8641, '▁주상욱': 8642, '꺄': 8643, '꿨': 8644, '▁말았어야': 8645, '▁김강우': 8646, '▁조승우': 8647, '▁구역질': 8648, '▁암걸리': 8649, '▁일베충': 8650, '▁신민아': 8651, '▁The': 8652, '▁웅장': 8653, '▁이범수': 8654, '▁흥미롭고': 8655, '▁잃어버린': 8656, '▁김구라': 8657, '▁은퇴': 8658, '▁알게해준': 8659, '남녀': 8660, '▁유지태': 8661, '▁모르겟다': 8662, 'up': 8663, '▁튀어': 8664, '▁움직이는': 8665, '▁구멍': 8666, '▁친절': 8667, '봣습니다': 8668, '▁그럼에도': 8669, '▁활용': 8670, '45': 8671, '▁고인의': 8672, '▁지들끼리': 8673, '점대라니': 8674, '▁추락': 8675, '▁잘생기고': 8676, '▁어이없어서': 8677, '▁성숙': 8678, '▁선정적': 8679, '▁볼만해요': 8680, '▁불법': 8681, '▁간절': 8682, '▁타락': 8683, '▁여왕': 8684, '▁신념': 8685, '▁좋아한다면': 8686, '▁없었으면': 8687, '▁뻔히': 8688, '▁98': 8689, '▁관객에게': 8690, '▁허무하게': 8691, '▁먹먹하다': 8692, '베르': 8693, '▁깎아': 8694, '▁애국': 8695, '▁좋아해요': 8696, '▁어린이용': 8697, '같았음': 8698, '영환줄': 8699, '▁나왔음': 8700, '▁전투씬': 8701, '배우님': 8702, '▁않았으면': 8703, 'ge': 8704, '그래요': 8705, '번씩': 8706, '인간들': 8707, '재미잇': 8708, '▁던지는': 8709, '▁외치': 8710, '▁so': 8711, '▁197': 8712, '가능한': 8713, '▁의식': 8714, '볼걸': 8715, '빠지고': 8716, '▁수준이하': 8717, '▁빨아': 8718, '▁누워': 8719, '▁조금씩': 8720, '▁되돌아': 8721, '▁제작사': 8722, '아줌마': 8723, '느와르': 8724, '왜이리': 8725, '이쁘다': 8726, '▁단편영화': 8727, '그자체': 8728, '▁초중반': 8729, '존재': 8730, '예능': 8731, '하곤': 8732, '▁서스펜스': 8733, '▁웹툰': 8734, '▁펭귄': 8735, '텀': 8736, '흰': 8737, '▁ebs': 8738, '▁놀래키': 8739, '▁베트남': 8740, '▁환타지': 8741, '▁큐브': 8742, '▁조용히': 8743, '▁강지환': 8744, '▁임수정': 8745, '▁불후의': 8746, '▁플레이': 8747, '▁러셀': 8748, '▁일요일': 8749, '씨리즈': 8750, '▁닥터': 8751, '▁퍼즐': 8752, '▁어울려': 8753, '▁이해안가': 8754, '▁리메이크작': 8755, '▁증말': 8756, '▁일깨워주는': 8757, '▁푸른': 8758, '▁가끔씩': 8759, '▁특징': 8760, '▁고찰': 8761, '▁언론': 8762, '▁빠져드는': 8763, '▁알았더니': 8764, '▁자세히': 8765, '▁찾아볼수': 8766, '▁닮아': 8767, '▁않았을까': 8768, '▁산만한': 8769, '▁지루했어요': 8770, '▁끼워': 8771, '▁놀라울': 8772, '▁여튼': 8773, '▁중반부': 8774, '▁물씬': 8775, '▁지났지만': 8776, '▁공감가는': 8777, '흥미를': 8778, '▁우익': 8779, '거든요': 8780, '▁깔끔하고': 8781, '▁돌려줘': 8782, '▁때문이다': 8783, '▁엉성하다': 8784, '▁최고였어요': 8785, '▁도통': 8786, '▁상영시간': 8787, '▁말해주는': 8788, '▁생각나네요': 8789, '▁됐는데': 8790, '싶을때': 8791, '▁나누': 8792, '멘트': 8793, '▁주목': 8794, '▁아동용': 8795, '▁감동도없고': 8796, '▁허술하고': 8797, '▁뻔해서': 8798, '▁존내': 8799, '교육': 8800, '하지마세요': 8801, '▁비극적': 8802, '▁볼거없': 8803, '▁압도적': 8804, '▁드러내': 8805, '졌습니다': 8806, '▁선동영화': 8807, '영화제에서': 8808, '▁나왔는데': 8809, '엿음': 8810, '▁중반까지': 8811, '▁초딩들': 8812, '요소를': 8813, '야되는데': 8814, '레이드': 8815, '겠군': 8816, '▁진부함': 8817, '▁재미있었던': 8818, '시켜주': 8819, '쳐먹': 8820, '▁부른': 8821, '하지않는': 8822, '▁wh': 8823, '▁상관': 8824, '깎': 8825, 'OST': 8826, '감사합니다': 8827, '훨씬': 8828, '극장판': 8829, '▁오글거려': 8830, '픔': 8831, '95': 8832, '▁어처구니없': 8833, '콧': 8834, '쿡': 8835, '맙': 8836, '뱉': 8837, '뺨': 8838, '엎': 8839, '톨': 8840, '▁ocn': 8841, '▁기대됩니다': 8842, '▁묻혀': 8843, '▁보냅니다': 8844, '▁오리지널': 8845, '▁용두사미': 8846, '▁재발견': 8847, '▁컨저링': 8848, '人': 8849, '긔': 8850, '뒀': 8851, '쉰': 8852, '쌈': 8853, '재밌게봤습니다': 8854, '췄': 8855, '콕': 8856, '▁내러티브': 8857, '▁어울린다': 8858, '▁멘붕': 8859, '▁삽입': 8860, '▁하이킥': 8861, '▁ᄅᄋ': 8862, '▁저절로': 8863, '▁잠수함': 8864, '▁흡사': 8865, '^.^': 8866, '▁록키': 8867, '▁정치적': 8868, '▁위대함': 8869, '▁간첩': 8870, '▁묘미': 8871, '▁온몸': 8872, '▁생략': 8873, '▁스티브': 8874, '▁말이필요없는': 8875, '▁잔인하기만': 8876, '▁잃고': 8877, '▁증거': 8878, '▁떠오르': 8879, '▁대표작': 8880, '▁역쉬': 8881, '▁깨알': 8882, '▁구리다': 8883, '완성': 8884, '▁빡치': 8885, '▁바랬': 8886, '▁절실': 8887, '시리즈중': 8888, '▁재료': 8889, '▁해도해도': 8890, '동아리': 8891, '▁가르쳐': 8892, '▁만들어주세요': 8893, '▁언급': 8894, '▁딱딱': 8895, '거예요': 8896, '▁내보내': 8897, '▁전세계': 8898, '▁원표': 8899, '▁헐크': 8900, '안됐': 8901, '▁모르겠는데': 8902, '▁아쉽긴': 8903, '▁이나영': 8904, '▁고발': 8905, '▁실소': 8906, '▁별로였음': 8907, '▁더빙판': 8908, '▁가려': 8909, '▁필수': 8910, '관계를': 8911, '▁가식': 8912, '보냐': 8913, '▁모른': 8914, '폭탄': 8915, '▁비현실적인': 8916, '내놔': 8917, '채널에서': 8918, '▁악평': 8919, '티브': 8920, '괴물': 8921, '빼': 8922, '▁심심하': 8923, '같으니': 8924, '▁비현실적': 8925, '▁읽어보': 8926, '쳤던': 8927, '▁겉멋': 8928, '▁붙여': 8929, '다음으로': 8930, '퀄리티': 8931, '▁성우들': 8932, '10000': 8933, '녀석': 8934, '넌': 8935, '방울': 8936, '젼': 8937, '슈퍼': 8938, '괜히': 8939, '탈출': 8940, '낮아서': 8941, '좋앗': 8942, '▁공짜': 8943, '움직이': 8944, '방법': 8945, '률': 8946, 'q': 8947, '엣': 8948, '샷': 8949, '헷': 8950, 'Z': 8951, '▁매트릭스': 8952, '▁슬래셔': 8953, '▁에일리언': 8954, '▁인터스텔라': 8955, '▁채플린': 8956, '▁혹성탈출': 8957, '댐': 8958, '댕': 8959, '륵': 8960, '쏠': 8961, '핳': 8962, '흙': 8963, '▁오타쿠': 8964, '륙': 8965, '▁이스트우드': 8966, '▁박신양': 8967, '▁홍금보': 8968, '▁불면증': 8969, '▁기분좋게': 8970, '▁두근두근': 8971, '▁엉엉': 8972, '▁관람불가': 8973, '▁섭외': 8974, '▁케이트': 8975, '▁빅뱅': 8976, '▁화려함': 8977, '▁나타내': 8978, '▁그들만의': 8979, '▁묘하게': 8980, '▁잘만들어진': 8981, '씁니다': 8982, '▁유아인': 8983, '▁별한개도': 8984, '▁닮은': 8985, '▁패턴': 8986, '즐거워': 8987, '▁스콧': 8988, '▁묻어나는': 8989, '▁씁쓸한': 8990, '▁경쾌': 8991, '▁내인생최고의': 8992, '▁미치도록': 8993, '▁재평가': 8994, '천국': 8995, '▁맞춘': 8996, '▁적절히': 8997, '▁당최': 8998, '▁케이지': 8999, '▁아까웠던': 9000, '▁느낌이랄까': 9001, '▁웃어야': 9002, '▁악플': 9003, '▁신나게': 9004, '▁공존': 9005, '▁모든것을': 9006, '▁속아서': 9007, '▁동료': 9008, '▁고향': 9009, '▁창조': 9010, '▁말아라': 9011, '▁이번엔': 9012, '▁지금껏': 9013, '▁심심해서': 9014, '▁장나라': 9015, '▁허술하다': 9016, '붕괴': 9017, '▁중요하다': 9018, '▁소름돋았': 9019, '▁많았던': 9020, '▁무얼': 9021, '▁알수없는': 9022, '▁예매': 9023, '같았는데': 9024, '▁최저': 9025, '▁노예': 9026, '▁일베': 9027, '▁종영': 9028, '▁몽환적인': 9029, '봣던': 9030, '▁졸면서': 9031, '▁만들겠다': 9032, '▁뻔하지만': 9033, '▁멋있어요': 9034, '▁불편하다': 9035, '끼들': 9036, '▁서사': 9037, '▁아니겠지': 9038, '그릇': 9039, '▁죽을때': 9040, '▁작위적인': 9041, '파티': 9042, '해주길래': 9043, '올림': 9044, 'ul': 9045, '황당': 9046, '▁합쳐': 9047, '알수있': 9048, '버렸음': 9049, 'ᅳᅮ': 9050, 'ᅲᅲᅲᅲᅲᅲᅲᅲ': 9051, '본것중': 9052, '▁고르': 9053, '빼놓': 9054, '채널': 9055, '낳': 9056, '쪼': 9057, '▁바라보': 9058, '슬픈': 9059, '을위해': 9060, '교훈': 9061, '빼면': 9062, '잔인하': 9063, '씁': 9064, '#': 9065, '▁쏠쏠': 9066, '쌀': 9067, 'ᅦ': 9068, '▁KBS': 9069, '▁가볍고': 9070, '▁스칼렛': 9071, '▁쌩뚱맞': 9072, '▁어설픔': 9073, '▁역사왜곡': 9074, '▁콘서트': 9075, '▁크리스토퍼': 9076, '댈': 9077, '됌': 9078, '샀': 9079, '숫': 9080, '엌': 9081, '웩': 9082, '쿄': 9083, '펄': 9084, '샹': 9085, '팡': 9086, '▁맙시다': 9087, '묵직한': 9088, '▁탕웨이': 9089, '▁나발이고': 9090, '▁못생긴': 9091, '▁스텝업': 9092, '▁사다코': 9093, '▁오그라든다': 9094, '▁집어넣': 9095, 'ᅩᅩ': 9096, '▁훈남': 9097, '▁2001': 9098, '▁고질라': 9099, '바이러스': 9100, '결론': 9101, '▁담아낸': 9102, '▁둘째': 9103, '▁이승기': 9104, '▁저녁': 9105, '▁무게감': 9106, '▁용가리': 9107, '▁과잉': 9108, '▁웬만한': 9109, '▁결합': 9110, '▁이름값': 9111, '▁지루하지않고': 9112, '▁No': 9113, '▁감동적이었습니다': 9114, '▁환불': 9115, 'ent': 9116, '▁질질짜': 9117, '▁응원합니다': 9118, '▁내겐': 9119, '▁위하여': 9120, '▁깔끔하게': 9121, '▁스릴있고': 9122, '▁줄리아': 9123, '▁팬이라면': 9124, '▁시간아까움': 9125, '중요한': 9126, '섹스': 9127, '▁치열': 9128, '▁따뜻하게': 9129, '▁씨발': 9130, '▁느린': 9131, '▁봤었던': 9132, '▁멋있었다': 9133, '▁차원이': 9134, '▁실화라니': 9135, '▁느꼈던': 9136, '헤헤': 9137, '▁젊은이들': 9138, '▁대책': 9139, '▁볼만했음': 9140, '▁봐왔': 9141, '▁좀비물': 9142, '좋아할만한': 9143, '▁첫장면': 9144, '▁오락성': 9145, '▁고래': 9146, 'ap': 9147, '▁서우': 9148, '해줬으면': 9149, '▁놈들이': 9150, '재밋게봣': 9151, '▁집중력': 9152, '객관적으로': 9153, '로인해': 9154, '▁밑에분': 9155, '▁평론': 9156, '같습니다': 9157, '▁보여주려': 9158, '몇번이고': 9159, '▁맞지않': 9160, '곰': 9161, '캬': 9162, '뽑': 9163, '녹': 9164, '끊': 9165, '줍': 9166, '냅': 9167, '▁리암니슨': 9168, '▁휴머니즘': 9169, '꽂': 9170, '샌': 9171, '샬': 9172, '칩': 9173, '횽': 9174, '▁뭔내용인지': 9175, '▁줄리엣': 9176, '됴': 9177, '▁신현준': 9178, '▁양조위': 9179, '▁강혜정': 9180, '▁흘렀': 9181, '▁강호동': 9182, '▁충무로': 9183, '▁어떨까': 9184, '▁어려울': 9185, '위원회': 9186, '스캔들': 9187, '▁이순신': 9188, '안남기는데': 9189, '▁정재영': 9190, '▁몬스터': 9191, '김남길': 9192, '▁침묵': 9193, '▁레이싱': 9194, '▁0.5': 9195, '▁거대한': 9196, '▁어려웠': 9197, '▁팔아먹': 9198, '▁촬영기법': 9199, '▁자칫': 9200, '▁에로틱': 9201, '▁촌스러운': 9202, '▁꺼버렸다': 9203, '▁갖추': 9204, '@@': 9205, '점드림': 9206, '▁때우기': 9207, '▁프레디': 9208, '▁과장되': 9209, '▁와이어': 9210, '▁오싹': 9211, '▁정도껏': 9212, '▁말할것도': 9213, '▁느꼈습니다': 9214, '할수밖에': 9215, '▁처참': 9216, '▁아름다웠던': 9217, '▁재미있던데': 9218, '▁다를게': 9219, '▁질투': 9220, '▁호평': 9221, '버젼': 9222, '엉망': 9223, '▁남주인공': 9224, '▁도덕': 9225, '▁알앗': 9226, '▁어쩌라는': 9227, '▁예수님': 9228, '▁앞부분': 9229, 'ig': 9230, '▁어수선하': 9231, '▁풀었': 9232, '▁교감': 9233, '하우스': 9234, 'ill': 9235, '닼ᄏᄏᄏ': 9236, '▁굉장': 9237, '잊혀지': 9238, '▁탄탄하': 9239, '종류': 9240, '재밋엇': 9241, '▁사실적이': 9242, '훔': 9243, '죤': 9244, '쵝': 9245, '훼': 9246, '듀': 9247, '▁kbs': 9248, '▁리즈시절': 9249, '▁스탤론': 9250, '▁인상깊은': 9251, '▁후덜덜': 9252, '닦': 9253, '안봤으면': 9254, '탔': 9255, '햄': 9256, '▁브래드피트': 9257, '▁서부극': 9258, '▁에이리언': 9259, '▁왠만해선': 9260, '촉': 9261, '▁김하늘': 9262, '▁홍진호': 9263, '▁무슨내용인지': 9264, '▁로드무비': 9265, '▁올레티비': 9266, '▁치밀한': 9267, '▁불필요한': 9268, '-0-': 9269, '▁알맹이': 9270, '▁이동욱': 9271, '▁안쓰러': 9272, '▁나중엔': 9273, '쥐어짜': 9274, '▁뛰쳐': 9275, '▁못미치는': 9276, '▁and': 9277, '▁전문성우': 9278, '▁한정된': 9279, '▁콤비': 9280, '▁박해일': 9281, '▁빵터짐': 9282, '▁이성재': 9283, '▁흔히': 9284, 'bbbb': 9285, '▁유아용': 9286, '▁슈렉': 9287, '▁루이스': 9288, '▁가득찬': 9289, '▁이준기': 9290, '▁실컷': 9291, '▁황홀': 9292, 'gt': 9293, '▁발휘': 9294, '▁악몽': 9295, 'J': 9296, '▁깨알같은': 9297, '▁적나라하': 9298, '▁얼른': 9299, '▁신파극': 9300, '빅': 9301, '웬': 9302, '▁저평가된': 9303, '매니아': 9304, '저렇게': 9305, '▁선율': 9306, '오히려': 9307, '▁억지스러움': 9308, '▁첨본다': 9309, '▁뇌리에': 9310, '▁습작': 9311, '▁언제쯤': 9312, '예고편': 9313, '▁놓친': 9314, '흥행': 9315, '▁찾았다': 9316, '짜증난다': 9317, '▁미안하지만': 9318, '▁몰입하면서': 9319, '▁끝내주는': 9320, '▁고백': 9321, '▁조용하': 9322, '그치만': 9323, 'ore': 9324, '때문인지': 9325, '▁어린애들': 9326, '▁떠난': 9327, '나쁘지않': 9328, '과정을': 9329, '싶을정도': 9330, '파괴': 9331, '볼수없': 9332, '▁기분좋은': 9333, '▁느려': 9334, '어수선': 9335, '찍었': 9336, '찾았': 9337, '▁어이가없': 9338, '취향은': 9339, '▁탁월': 9340, '버렸어': 9341, '뀌': 9342, '뭇': 9343, 'naver': 9344, '뻘': 9345, '○': 9346, 'zzz': 9347, '▁찝찝함': 9348, '▁최곱니다': 9349, '뺀': 9350, '씌': 9351, '▁아메리칸': 9352, '▁원맨쇼': 9353, '▁웨슬리': 9354, '솟': 9355, '젓': 9356, '쫙': 9357, '쬐': 9358, '▁떠올리게': 9359, '▁무의미한': 9360, '▁크루즈': 9361, '프로젝트': 9362, '▁문근영': 9363, '▁한예슬': 9364, '도그렇고': 9365, '▁추악한': 9366, '▁부자연스럽': 9367, '▁단체로': 9368, '▁뒤집어': 9369, '▁잘생김': 9370, '▁고현정': 9371, '▁쌍욕': 9372, '봅시다': 9373, '▁페이크다큐': 9374, '▁암울한': 9375, '▁연관성': 9376, '▁2008': 9377, '▁옹박': 9378, 'tion': 9379, '▁빨리감기': 9380, '▁유오성': 9381, '허니잼': 9382, '▁졸업작품': 9383, '▁매튜': 9384, '▁깜찍': 9385, '▁꺼버림': 9386, '뿐더러': 9387, '▁일어난': 9388, '▁조인성': 9389, '▁하얀': 9390, '▁끝내준다': 9391, '▁육체': 9392, '▁화가난다': 9393, '▁느껴짐': 9394, '▁my': 9395, '재미가없': 9396, '▁재치있': 9397, '▁일대기': 9398, '▁투표': 9399, '▁껏다': 9400, '▁적응': 9401, '▁미흡': 9402, '▁대략': 9403, '▁괜찮던데': 9404, '▁녹화': 9405, '▁미치겠다': 9406, '▁추잡': 9407, '펑펑': 9408, '별한개': 9409, '▁완소': 9410, '▁대가리': 9411, 'good': 9412, '▁창작': 9413, '▁졸업': 9414, '▁교차': 9415, '청춘': 9416, '▁소리지르': 9417, '을위한': 9418, '▁밥먹': 9419, '▁볼게없': 9420, '지말아야': 9421, '▁즐겨보': 9422, '같았다': 9423, '▁객관적': 9424, '▁서민': 9425, '기억에남는': 9426, '▁드러난': 9427, '▁특별하': 9428, 'all': 9429, 'ain': 9430, '444': 9431, '시끄러': 9432, '튜': 9433, '펐': 9434, '▁페이크': 9435, 'ᄑ': 9436, '▁떠오른다': 9437, '▁로보캅': 9438, '▁멜깁슨': 9439, '▁엑스트라': 9440, '궈': 9441, '귓': 9442, '돕': 9443, '쌔': 9444, '욜': 9445, '욧': 9446, '힛': 9447, '▁까메오': 9448, '▁보면볼수록': 9449, '▁어벤져스': 9450, '▁유치뽕짝': 9451, '뇨': 9452, '덥': 9453, '쑤': 9454, '▁듣보잡': 9455, '▁브래드': 9456, '▁스타일리쉬': 9457, '괘': 9458, '▁노무현': 9459, '▁덴젤': 9460, '▁무책임': 9461, '▁눈뜨고': 9462, '▁장쯔이': 9463, '▁지하철': 9464, '지맙시다': 9465, '▁애절한': 9466, '▁중딩때': 9467, '▁금요일': 9468, '▁훈련': 9469, '▁피라냐': 9470, '▁최선을': 9471, '▁옹호': 9472, '▁차가운': 9473, '테잎': 9474, '오디션': 9475, '▁에너지': 9476, '▁가면갈수록': 9477, '▁믿겨지지': 9478, '기승전': 9479, '▁효민': 9480, '▁여진구': 9481, '▁크리스틴': 9482, '▁싱겁': 9483, '▁어려워': 9484, '▁나눠': 9485, '▁나타난': 9486, '▁시청율': 9487, '▁한지민': 9488, '▁자연스럽고': 9489, '어쩔수없': 9490, '▁즐겁다': 9491, '연기너무잘': 9492, '▁갑갑': 9493, '▁흥해라': 9494, '있으면서': 9495, '▁영화관가서': 9496, '보고난후': 9497, '▁빠순이들': 9498, '▁개념없': 9499, '▁독백': 9500, '▁급전개': 9501, '▁외로운': 9502, '▁회복': 9503, '▁측면': 9504, '▁출연료': 9505, '▁이해못하': 9506, '▁엔딩곡': 9507, '▁명곡': 9508, '슬픔': 9509, '훈훈': 9510, '흐흐': 9511, '뮤지컬': 9512, '프랑스': 9513, '겻': 9514, '렘': 9515, '껍': 9516, '갸': 9517, '롬': 9518, '썽': 9519, '좁': 9520, '짖': 9521, '쪄': 9522, '짠': 9523, '꽝': 9524, '[': 9525, '꽤': 9526, '갇': 9527, '훌': 9528, 'ᅭ': 9529, 'ᆞ': 9530, '’': 9531, '꿋': 9532, '쌤': 9533, '씽': 9534, '쨩': 9535, '톡': 9536, '퍽': 9537, '·': 9538, '밭': 9539, '얹': 9540, '캅': 9541, '훅': 9542, '폼': 9543, '곁': 9544, '쩡': 9545, '삽': 9546, '륭': 9547, '\\\\': 9548, '엥': 9549, '꼼': 9550, '댔': 9551, '햐': 9552, '갤': 9553, '윙': 9554, '짤': 9555, '밌': 9556, '걱': 9557, '뭥': 9558, '횡': 9559, '깬': 9560, '뛴': 9561, '뤘': 9562, '뤽': 9563, '몹': 9564, '붓': 9565, '핍': 9566, '늠': 9567, '셰': 9568, '얕': 9569, '쵸': 9570, '밑': 9571, '얀': 9572, '늑': 9573, '힙': 9574, '짬': 9575, '뎈': 9576, '얌': 9577, '낱': 9578, '윗': 9579, '힝': 9580, '‘': 9581, '놉': 9582, '뜰': 9583, '붐': 9584, '썅': 9585, '쟝': 9586, '퀼': 9587, 'Q': 9588, '깽': 9589, '낰': 9590, '얻': 9591, '헬': 9592, '낌': 9593, '낄': 9594, '캔': 9595, '겜': 9596, '굼': 9597, '앳': 9598, '짭': 9599, '팜': 9600, '“': 9601, '곸': 9602, '꺅': 9603, '됀': 9604, '밸': 9605, '휼': 9606, '슌': 9607, '웁': 9608, 'ᅧ': 9609, '|': 9610, '및': 9611, '떤': 9612, '첼': 9613, '뵈': 9614, '꿉': 9615, '뚤': 9616, '젬': 9617, '꾀': 9618, '싯': 9619, '쑈': 9620, '융': 9621, '텍': 9622, '뱃': 9623, 'ᅣ': 9624, '냉': 9625, '푹': 9626, '맡': 9627, '펙': 9628, '뷔': 9629, '찜': 9630, '얔': 9631, '댜': 9632, '빔': 9633, '빽': 9634, '샴': 9635, '섰': 9636, '돠': 9637, '땀': 9638, '멕': 9639, '”': 9640, '甲': 9641, '땟': 9642, '떴': 9643, '쁠': 9644, '쉘': 9645, '욘': 9646, '욯': 9647, '읎': 9648, '쟤': 9649, '짚': 9650, '캣': 9651, '쿤': 9652, '퀘': 9653, '→': 9654, '쾅': 9655, '훨': 9656, '칫': 9657, '맬': 9658, '훤': 9659, '乃': 9660, '갚': 9661, '귄': 9662, '뇬': 9663, '댁': 9664, '룻': 9665, '뭍': 9666, '뺐': 9667, '숴': 9668, '웡': 9669, '웹': 9670, '킷': 9671, '퉷': 9672, '걔': 9673, '넉': 9674, '곧': 9675, '쩐': 9676, '♬': 9677, '됏': 9678, '젝': 9679, '쨔': 9680, '괄': 9681, '뤠': 9682, '뮬': 9683, '좃': 9684, '죵': 9685, '핰': 9686, '、': 9687, '無': 9688, '꿰': 9689, '챔': 9690, '헛': 9691, '멧': 9692, '겅': 9693, '겔': 9694, '넥': 9695, '믓': 9696, '벡': 9697, '뿅': 9698, '슥': 9699, '쪙': 9700, '뿍': 9701, '쏜': 9702, '첸': 9703, '킁': 9704, '땜': 9705, '녁': 9706, '썹': 9707, '뺑': 9708, '껌': 9709, '굽': 9710, '넴': 9711, '눅': 9712, '뷁': 9713, '찼': 9714, '륨': 9715, '얍': 9716, '잌': 9717, '잰': 9718, '쳇': 9719, '칵': 9720, '텨': 9721, '툴': 9722, '퐁': 9723, '풉': 9724, '홉': 9725, '휙': 9726, '흣': 9727, '끽': 9728, '뒷': 9729, '넝': 9730, '』': 9731, '굶': 9732, '꼐': 9733, '돔': 9734, '뒹': 9735, '렜': 9736, '볶': 9737, '슐': 9738, '쒯': 9739, '춥': 9740, '넛': 9741, '쫑': 9742, '챈': 9743, '꽈': 9744, '샵': 9745, '섀': 9746, '깼': 9747, '눕': 9748, '『': 9749, '괸': 9750, '냔': 9751, '멱': 9752, '쎈': 9753, '욥': 9754, '팰': 9755, '햅': 9756, '헿': 9757, '넨': 9758, '뎃': 9759, '졷': 9760, '콱': 9761, '갯': 9762, '뿡': 9763, '왁': 9764, '캄': 9765, '뻗': 9766, '끙': 9767, 'ᄡ': 9768, '컥': 9769, '꼇': 9770, '밓': 9771, '줏': 9772, '궤': 9773, '뒈': 9774, '쑥': 9775, '컵': 9776, '}': 9777, '곀': 9778, '벳': 9779, '쒸': 9780, '혓': 9781, '꺠': 9782, '랖': 9783, '읭': 9784, '{': 9785, '봅': 9786, '잎': 9787, '$': 9788, '깟': 9789, '딥': 9790, '떵': 9791, '닛': 9792, '딛': 9793, '잦': 9794, '짰': 9795, '쨰': 9796, '챤': 9797, '큭': 9798, '툼': 9799, '펭': 9800, 'ᄈ': 9801, '눔': 9802, '쿼': 9803, '롹': 9804, '앰': 9805, '쫘': 9806, '死': 9807, '갘': 9808, '옛': 9809, '뭣': 9810, '컹': 9811, '♪': 9812, '쳣': 9813, '팟': 9814, 'ᆪ': 9815, '⌒': 9816, '作': 9817, '뭄': 9818, '뺄': 9819, '쏭': 9820, '앱': 9821, '읊': 9822, '쮸': 9823, '女': 9824, '촬': 9825, '킵': 9826, 'ン': 9827, '콰': 9828, '랔': 9829, '팥': 9830, '떙': 9831, '촐': 9832, '렙': 9833, '뤼': 9834, '븅': 9835, '슝': 9836, '찟': 9837, '헥': 9838, '꿇': 9839, '롸': 9840, '뮈': 9841, '믈': 9842, '뽐': 9843, '숏': 9844, '옇': 9845, '쥰': 9846, '쨍': 9847, '찹': 9848, '챦': 9849, '캉': 9850, '퀵': 9851, '웜': 9852, '냠': 9853, '웍': 9854, '캘': 9855, '×': 9856, '퀀': 9857, '밈': 9858, '굉': 9859, '옳': 9860, '눠': 9861, '췌': 9862, '텝': 9863, '탤': 9864, '햏': 9865, '햌': 9866, '츈': 9867, '챘': 9868, '짘': 9869, '죨': 9870, '뛸': 9871, '덟': 9872, '훠': 9873, '짊': 9874, '왘': 9875, '씸': 9876, '썪': 9877, '쌉': 9878, '숟': 9879, '빴': 9880, '벚': 9881, '랗': 9882, '냨': 9883, '괭': 9884, '흩': 9885, '헵': 9886, '故': 9887, '쥑': 9888, '잴': 9889, '윅': 9890, '땔': 9891, '닠': 9892, '놧': 9893, '뀜': 9894, '껑': 9895, '홥': 9896, '헴': 9897, '촛': 9898, '앍': 9899, '뉜': 9900, '훑': 9901, '샛': 9902, '덱': 9903, '낍': 9904, '괞': 9905, '휠': 9906, '헠': 9907, '츤': 9908, '좔': 9909, '꺾': 9910, '횟': 9911, '핥': 9912, '폄': 9913, '큽': 9914, '옜': 9915, '샐': 9916, '쁩': 9917, '뀔': 9918, '휩': 9919, '핡': 9920, '큘': 9921, '콥': 9922, '촘': 9923, '뺴': 9924, '멎': 9925, '뵙': 9926, '꺽': 9927, '긁': 9928, '딪': 9929, '릎': 9930, '낡': 9931, '펏': 9932, '씻': 9933, '녔': 9934, '굵': 9935, '셸': 9936, '닳': 9937, '켠': 9938, '쥔': 9939, '왼': 9940, '픕': 9941, '딨': 9942, '넋': 9943, '빚': 9944, '꽥': 9945, '뀐': 9946, '뭡': 9947, '얽': 9948, '앓': 9949, '쫒': 9950, '쨋': 9951, '텅': 9952, '꽉': 9953, '붉': 9954, '땠': 9955, '멤': 9956, '둠': 9957, '홧': 9958, '밟': 9959, '틋': 9960, '뿜': 9961, '빕': 9962, '컸': 9963, '뻣': 9964, '옮': 9965, '핸': 9966, '맑': 9967, '찢': 9968, '엮': 9969, '팠': 9970, '쨌': 9971, '쫄': 9972, '틸': 9973, '띄': 9974, '겪': 9975, '껐': 9976, '왤': 9977, '뻤': 9978, '쏟': 9979, '닙': 9980, '딧': 9981, '듭': 9982, '꿔': 9983, '섞': 9984, '획': 9985, '겉': 9986, '쁨': 9987, '됩': 9988, '늦': 9989, '볍': 9990, '찝': 9991, '묻': 9992, '똑': 9993, '랐': 9994, '깊': 9995, '떻': 9996, '렸': 9997, '렇': 9998, '봤': 9999}\n"
          ]
        }
      ]
    },
    {
      "cell_type": "markdown",
      "source": [
        "# Step 4. 네이버 영화리뷰 감정 분석 문제에 SentencePiece 적용해보기\n",
        "\n",
        "### 1. 학습데이터, 테스트데이터 만들기\n",
        "### 2. 모델생성 및 학습\n",
        "### 3. 시각화\n",
        "\n",
        "# 1. 학습데이터, 테스트데이터 만들기"
      ],
      "metadata": {
        "id": "Gs_8T1-w1eIR"
      }
    },
    {
      "cell_type": "code",
      "source": [
        "len(raw_data)"
      ],
      "metadata": {
        "colab": {
          "base_uri": "https://localhost:8080/"
        },
        "id": "ZF2aC5p12FAC",
        "outputId": "5707a5dc-9974-4d00-ce66-96e033118709"
      },
      "execution_count": 37,
      "outputs": [
        {
          "output_type": "execute_result",
          "data": {
            "text/plain": [
              "146081"
            ]
          },
          "metadata": {},
          "execution_count": 37
        }
      ]
    },
    {
      "cell_type": "markdown",
      "source": [
        "### 현재 raw_data의 크기가 146081이다. 20%의 데이터는 약 3만개이므로, train데이터를 약 11만개, test 데이터를 3만개로 하여 테스트를 진행할 것이다."
      ],
      "metadata": {
        "id": "k40UUZD164Gp"
      }
    },
    {
      "cell_type": "code",
      "source": [
        "train_data = raw_data[:-30000]\n",
        "valid_data = raw_data[-30000:]"
      ],
      "metadata": {
        "id": "N_mP4kmX63yv"
      },
      "execution_count": 38,
      "outputs": []
    },
    {
      "cell_type": "code",
      "source": [
        "print(len(train_data), len(valid_data))"
      ],
      "metadata": {
        "colab": {
          "base_uri": "https://localhost:8080/"
        },
        "id": "igGdtaci2E9P",
        "outputId": "c7a57f18-37b4-4628-fe00-48681d751a55"
      },
      "execution_count": 39,
      "outputs": [
        {
          "output_type": "stream",
          "name": "stdout",
          "text": [
            "116081 30000\n"
          ]
        }
      ]
    },
    {
      "cell_type": "markdown",
      "source": [
        "train_data와 valid_data 수의 합이 기존 데이터와 같으니, 잘 나뉘어졌습니다 :>\n",
        "\n",
        "### 로드데이터 수정"
      ],
      "metadata": {
        "id": "5oSiXi4n7-2Y"
      }
    },
    {
      "cell_type": "code",
      "source": [
        "def load_data(train_data, valid_data, num_words=10000):\n",
        "\n",
        "  # 전처리 과정을 추가해주려면 위에서 해줘야함 ㅠ_ㅠ\n",
        "\n",
        "\n",
        "    train_list = []\n",
        "    for sentence in train_data['document']:\n",
        "        train_list.append(sentence)\n",
        "\n",
        "    val_list = []\n",
        "    for sentence in valid_data['document']:\n",
        "        val_list.append(sentence)\n",
        "    \n",
        "    X_train, word_to_index, index_to_word = sp_tokenize(s, train_list)\n",
        "    X_val , _,_ = sp_tokenize(s, val_list)\n",
        "\n",
        "        \n",
        "    return X_train, np.array(list(train_data['label'])), X_val, np.array(list(valid_data['label'])), word_to_index\n",
        "    \n",
        "X_train, y_train, X_val, y_val, word_to_index = load_data(train_data, valid_data)\n"
      ],
      "metadata": {
        "id": "0ZnNxAvf2E7k"
      },
      "execution_count": 40,
      "outputs": []
    },
    {
      "cell_type": "code",
      "source": [
        "X_train\n"
      ],
      "metadata": {
        "colab": {
          "base_uri": "https://localhost:8080/"
        },
        "id": "Ke7IOdKZ2E43",
        "outputId": "cde619e7-da6a-4997-94d7-a1f274ac4f54"
      },
      "execution_count": 41,
      "outputs": [
        {
          "output_type": "execute_result",
          "data": {
            "text/plain": [
              "array([[  62,  869,    6, ...,    0,    0,    0],\n",
              "       [1678,    9, 4961, ...,    0,    0,    0],\n",
              "       [  23,  367, 9771, ...,    0,    0,    0],\n",
              "       ...,\n",
              "       [  46, 1445, 1396, ...,    0,    0,    0],\n",
              "       [ 141,  162,   50, ...,    0,    0,    0],\n",
              "       [ 141,   50, 2441, ...,    0,    0,    0]], dtype=int32)"
            ]
          },
          "metadata": {},
          "execution_count": 41
        }
      ]
    },
    {
      "cell_type": "code",
      "source": [
        "y_train\n"
      ],
      "metadata": {
        "colab": {
          "base_uri": "https://localhost:8080/"
        },
        "id": "ACJy2gfJ2E2D",
        "outputId": "3e820ee0-86bd-49ca-faab-19f359d7e08e"
      },
      "execution_count": 42,
      "outputs": [
        {
          "output_type": "execute_result",
          "data": {
            "text/plain": [
              "array([0, 1, 0, ..., 1, 0, 0])"
            ]
          },
          "metadata": {},
          "execution_count": 42
        }
      ]
    },
    {
      "cell_type": "code",
      "source": [
        "X_val\n"
      ],
      "metadata": {
        "colab": {
          "base_uri": "https://localhost:8080/"
        },
        "id": "1tU1plWf2EzS",
        "outputId": "77ebcbd5-8994-47a3-9707-1bf432017dfe"
      },
      "execution_count": 43,
      "outputs": [
        {
          "output_type": "execute_result",
          "data": {
            "text/plain": [
              "array([[  27,    4, 4536, ...,    0,    0,    0],\n",
              "       [5874,   13, 5447, ...,    0,    0,    0],\n",
              "       [  62,  262,  165, ...,    0,    0,    0],\n",
              "       ...,\n",
              "       [ 141,  169,   63, ...,    0,    0,    0],\n",
              "       [1882,  568, 5308, ...,    0,    0,    0],\n",
              "       [ 259,    8, 4131, ...,    0,    0,    0]], dtype=int32)"
            ]
          },
          "metadata": {},
          "execution_count": 43
        }
      ]
    },
    {
      "cell_type": "code",
      "source": [
        "y_val"
      ],
      "metadata": {
        "id": "nZIBgeyuanU_",
        "colab": {
          "base_uri": "https://localhost:8080/"
        },
        "outputId": "8a9f2a7f-fb5c-49e0-8444-adae24a16675"
      },
      "execution_count": 44,
      "outputs": [
        {
          "output_type": "execute_result",
          "data": {
            "text/plain": [
              "array([0, 1, 1, ..., 0, 1, 0])"
            ]
          },
          "metadata": {},
          "execution_count": 44
        }
      ]
    },
    {
      "cell_type": "code",
      "source": [
        "print(len(X_train), len(y_train))\n",
        "print(len(X_val), len(y_val))"
      ],
      "metadata": {
        "id": "Ykzjhy--anSi",
        "colab": {
          "base_uri": "https://localhost:8080/"
        },
        "outputId": "f070366e-c3d9-487c-c8b1-ef4816b30438"
      },
      "execution_count": 45,
      "outputs": [
        {
          "output_type": "stream",
          "name": "stdout",
          "text": [
            "116081 116081\n",
            "30000 30000\n"
          ]
        }
      ]
    },
    {
      "cell_type": "markdown",
      "source": [
        "# 2. 모델생성 및 학습\n",
        "\n",
        "지쳤으므로 LSTM만 생성해서 사용해봅니다.\n"
      ],
      "metadata": {
        "id": "62tDBjkn9VzF"
      }
    },
    {
      "cell_type": "code",
      "source": [
        "import keras\n",
        "vocab_size = 10000    # 어휘 사전의 크기입니다(10,000개의 단어)\n",
        "word_vector_dim = 256  # 워드 벡터의 차원 수 (변경 가능한 하이퍼파라미터)"
      ],
      "metadata": {
        "id": "zzJtBW8N_Z9k"
      },
      "execution_count": 46,
      "outputs": []
    },
    {
      "cell_type": "code",
      "source": [
        "# model_LSTM 설계 - 딥러닝 모델 코드를 직접 작성해 주세요.\n",
        "model_LSTM = keras.Sequential()\n",
        "model_LSTM.add(keras.layers.Embedding(vocab_size, word_vector_dim, input_shape=(None,)))\n",
        "model_LSTM.add(keras.layers.LSTM(20))   # 가장 널리 쓰이는 RNN인 LSTM 레이어를 사용하였습니다. 이때 LSTM state 벡터의 차원수는 8로 하였습니다. (변경 가능)\n",
        "model_LSTM.add(keras.layers.Dense(8, activation='relu'))\n",
        "model_LSTM.add(keras.layers.Dense(1, activation='sigmoid'))  # 최종 출력은 긍정/부정을 나타내는 1dim 입니다.\n",
        "\n",
        "model_LSTM.summary()"
      ],
      "metadata": {
        "id": "6ZsNdxiCanQI",
        "colab": {
          "base_uri": "https://localhost:8080/"
        },
        "outputId": "7cafee67-45e4-4c86-b86d-f9d1554a144a"
      },
      "execution_count": 47,
      "outputs": [
        {
          "output_type": "stream",
          "name": "stdout",
          "text": [
            "Model: \"sequential\"\n",
            "_________________________________________________________________\n",
            " Layer (type)                Output Shape              Param #   \n",
            "=================================================================\n",
            " embedding (Embedding)       (None, None, 256)         2560000   \n",
            "                                                                 \n",
            " lstm (LSTM)                 (None, 20)                22160     \n",
            "                                                                 \n",
            " dense (Dense)               (None, 8)                 168       \n",
            "                                                                 \n",
            " dense_1 (Dense)             (None, 1)                 9         \n",
            "                                                                 \n",
            "=================================================================\n",
            "Total params: 2,582,337\n",
            "Trainable params: 2,582,337\n",
            "Non-trainable params: 0\n",
            "_________________________________________________________________\n"
          ]
        }
      ]
    },
    {
      "cell_type": "code",
      "source": [
        "model_LSTM.compile(optimizer='adam',\n",
        "            loss='binary_crossentropy',\n",
        "            metrics=['accuracy'])\n",
        "\n",
        "epochs=10 # 훈련결과 보고 바꿔보기\n",
        "\n",
        "history_lstm = model_LSTM.fit(X_train,\n",
        "                  y_train,\n",
        "                  epochs=epochs,\n",
        "                  batch_size=512,\n",
        "                  validation_data=(X_val,\n",
        "                  y_val), \n",
        "                   verbose=1)"
      ],
      "metadata": {
        "id": "Muy-H0GKanN3",
        "colab": {
          "base_uri": "https://localhost:8080/"
        },
        "outputId": "eea94206-45aa-4f35-908f-6b723269e1a4"
      },
      "execution_count": 48,
      "outputs": [
        {
          "output_type": "stream",
          "name": "stdout",
          "text": [
            "Epoch 1/10\n",
            "227/227 [==============================] - 10s 16ms/step - loss: 0.6932 - accuracy: 0.4997 - val_loss: 0.6931 - val_accuracy: 0.5044\n",
            "Epoch 2/10\n",
            "227/227 [==============================] - 3s 13ms/step - loss: 0.6932 - accuracy: 0.5006 - val_loss: 0.6931 - val_accuracy: 0.5043\n",
            "Epoch 3/10\n",
            "227/227 [==============================] - 3s 13ms/step - loss: 0.6932 - accuracy: 0.5011 - val_loss: 0.6931 - val_accuracy: 0.5044\n",
            "Epoch 4/10\n",
            "227/227 [==============================] - 3s 14ms/step - loss: 0.6932 - accuracy: 0.4999 - val_loss: 0.6931 - val_accuracy: 0.5043\n",
            "Epoch 5/10\n",
            "227/227 [==============================] - 3s 14ms/step - loss: 0.6932 - accuracy: 0.5017 - val_loss: 0.6932 - val_accuracy: 0.4957\n",
            "Epoch 6/10\n",
            "227/227 [==============================] - 3s 14ms/step - loss: 0.6932 - accuracy: 0.4977 - val_loss: 0.6931 - val_accuracy: 0.5043\n",
            "Epoch 7/10\n",
            "227/227 [==============================] - 3s 14ms/step - loss: 0.6932 - accuracy: 0.5011 - val_loss: 0.6931 - val_accuracy: 0.5043\n",
            "Epoch 8/10\n",
            "227/227 [==============================] - 3s 14ms/step - loss: 0.6931 - accuracy: 0.5006 - val_loss: 0.6931 - val_accuracy: 0.5043\n",
            "Epoch 9/10\n",
            "227/227 [==============================] - 3s 14ms/step - loss: 0.6932 - accuracy: 0.4991 - val_loss: 0.6931 - val_accuracy: 0.5043\n",
            "Epoch 10/10\n",
            "227/227 [==============================] - 3s 14ms/step - loss: 0.6931 - accuracy: 0.5005 - val_loss: 0.6931 - val_accuracy: 0.5043\n"
          ]
        }
      ]
    },
    {
      "cell_type": "markdown",
      "source": [
        "# 3. 시각화"
      ],
      "metadata": {
        "id": "wg7NczMjAqt1"
      }
    },
    {
      "cell_type": "code",
      "source": [
        "history_lstm_dict = history_lstm.history\n",
        "print(history_lstm_dict.keys()) # epoch에 따른 그래프를 그려볼 수 있는 항목들\n"
      ],
      "metadata": {
        "id": "JDQjHdujanLo",
        "colab": {
          "base_uri": "https://localhost:8080/"
        },
        "outputId": "a9d1efdf-b290-48b2-d97c-3e5742f2070a"
      },
      "execution_count": 49,
      "outputs": [
        {
          "output_type": "stream",
          "name": "stdout",
          "text": [
            "dict_keys(['loss', 'accuracy', 'val_loss', 'val_accuracy'])\n"
          ]
        }
      ]
    },
    {
      "cell_type": "code",
      "source": [
        "acc = history_lstm_dict['accuracy']\n",
        "val_acc = history_lstm_dict['val_accuracy']\n",
        "loss = history_lstm_dict['loss']\n",
        "val_loss = history_lstm_dict['val_loss']\n",
        "\n",
        "epochs = range(1, len(acc) + 1)"
      ],
      "metadata": {
        "id": "umo8VXB0Avsg"
      },
      "execution_count": 50,
      "outputs": []
    },
    {
      "cell_type": "code",
      "source": [
        "import matplotlib.pyplot as plt\n",
        "plt.figure(figsize=(10, 4))\n",
        "\n",
        "# Loss 그래프\n",
        "plt.subplot(1, 2, 1)\n",
        "plt.plot(epochs, loss, 'bo', label='Training loss') # \"bo\"는 \"파란색 점\"\n",
        "plt.plot(epochs, val_loss, 'b', label='Validation loss') # \"b\"는 \"파란 실선\"\n",
        "plt.title('Training and validation loss')\n",
        "plt.xlabel('Epochs')\n",
        "plt.ylabel('Loss')\n",
        "plt.legend()\n",
        "\n",
        "# Accuracy 그래프\n",
        "plt.subplot(1, 2, 2)\n",
        "plt.plot(epochs, acc, 'bo', label='Training acc')\n",
        "plt.plot(epochs, val_acc, 'b', label='Validation acc')\n",
        "plt.title('Training and validation accuracy')\n",
        "plt.xlabel('Epochs')\n",
        "plt.ylabel('Accuracy')\n",
        "plt.legend()\n",
        "plt.show()"
      ],
      "metadata": {
        "id": "ELnSdwa6AvrC",
        "colab": {
          "base_uri": "https://localhost:8080/",
          "height": 295
        },
        "outputId": "1450037f-49d3-4e2d-eda3-2b5e1fa1c639"
      },
      "execution_count": 51,
      "outputs": [
        {
          "output_type": "display_data",
          "data": {
            "text/plain": [
              "<Figure size 720x288 with 2 Axes>"
            ],
            "image/png": "[encoded data removed]"
          },
          "metadata": {
            "needs_background": "light"
          }
        }
      ]
    },
    {
      "cell_type": "code",
      "source": [
        "# print(lstm_results)\n"
      ],
      "metadata": {
        "id": "mfOtT4vPAvpf"
      },
      "execution_count": 52,
      "outputs": []
    },
    {
      "cell_type": "markdown",
      "source": [
        "# 지쳤으므로 익스 6에서 konlpy를 사용해서 나온 결과를 복붙해서 가져왔습니다^^\n",
        "\n",
        "Word2Vec을 이용한부분아니고 konlpy를 했던 부분을 가져왔습니다.\n",
        "\n",
        "![image.png](data:image/png;base64,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)"
      ],
      "metadata": {
        "id": "PW5SvXvwA1vY"
      }
    },
    {
      "cell_type": "markdown",
      "source": [
        "- konlpy 결과 loss와  acc\n",
        "\n",
        "[0.4712178111076355, 0.8473259210586548]\n"
      ],
      "metadata": {
        "id": "jRE_C59ZCSHT"
      }
    },
    {
      "cell_type": "code",
      "source": [
        ""
      ],
      "metadata": {
        "id": "PLZZRBgaAvlG"
      },
      "execution_count": 52,
      "outputs": []
    },
    {
      "cell_type": "code",
      "source": [
        ""
      ],
      "metadata": {
        "id": "GitaNyjqAvix"
      },
      "execution_count": 52,
      "outputs": []
    },
    {
      "cell_type": "markdown",
      "source": [
        "# 결과 비교\n",
        "\n",
        "이해한 대로 프로젝트를 만들었는데 예상과 다르게 학습이 전혀 진행되지 않은 것을 알 수 있습니다.ㅠㅠ 뭐가문젤가!!!"
      ],
      "metadata": {
        "id": "OZt8XydAS5Kz"
      }
    },
    {
      "cell_type": "code",
      "source": [
        ""
      ],
      "metadata": {
        "id": "5GghagkbAvgy"
      },
      "execution_count": null,
      "outputs": []
    },
    {
      "cell_type": "code",
      "source": [
        ""
      ],
      "metadata": {
        "id": "oS0rT2nuAvfE"
      },
      "execution_count": null,
      "outputs": []
    },
    {
      "cell_type": "code",
      "source": [
        ""
      ],
      "metadata": {
        "id": "6MaQrd9mAvX-"
      },
      "execution_count": null,
      "outputs": []
    },
    {
      "cell_type": "code",
      "source": [
        ""
      ],
      "metadata": {
        "id": "fQrxcNclAvWk"
      },
      "execution_count": null,
      "outputs": []
    },
    {
      "cell_type": "code",
      "source": [
        ""
      ],
      "metadata": {
        "id": "2T0Kuw_OAvSn"
      },
      "execution_count": null,
      "outputs": []
    },
    {
      "cell_type": "code",
      "source": [
        ""
      ],
      "metadata": {
        "id": "TEYIT81qanI7"
      },
      "execution_count": null,
      "outputs": []
    },
    {
      "cell_type": "code",
      "source": [
        ""
      ],
      "metadata": {
        "id": "tG7HY8N5anGG"
      },
      "execution_count": null,
      "outputs": []
    },
    {
      "cell_type": "markdown",
      "source": [
        "# 회고\n",
        "\n",
        "1.다음과 같이 raw_data의 길이를 뽑는데 TypeError가 났다. 이 경우는 Nan값이 존재하는 경우 길이를 구할 수 없어서 나는 오류이다."
      ],
      "metadata": {
        "id": "_FPLD6F6-3HK"
      }
    },
    {
      "cell_type": "markdown",
      "source": [
        "![image.png](data:image/png;base64,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)"
      ],
      "metadata": {
        "id": "Q3jXW0eSdMZJ"
      }
    },
    {
      "cell_type": "markdown",
      "source": [
        "2. 판다스에서 특정 조건을 삭제하는 메소드가 자주 쓰인다. 이에 대해서 정리해보았다.\n",
        "\n",
        "- 방법 1.\n",
        "\n",
        "![image.png](data:image/png;base64,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)\n"
      ],
      "metadata": {
        "id": "Rd1Qfpy5e_tj"
      }
    },
    {
      "cell_type": "markdown",
      "source": [
        "- 방법 2. DF = DF[DF.메뉴 != '돈까스']"
      ],
      "metadata": {
        "id": "hL5SyFoTfTYz"
      }
    },
    {
      "cell_type": "markdown",
      "source": [
        "3. 방법 1을 pandas 데이터 프레임을 이용해서 사용하면 keyError가 일어납니다. len(string)을 포함하는 조건식을 기반으로 pandas dataframe 행을 삭제하는 방법\n",
        "\n",
        "- [출처](http://daplus.net/python-keyerror%EB%A5%BC%EC%A3%BC%EB%8A%94-len-string%EC%9D%84-%ED%8F%AC%ED%95%A8%ED%95%98%EB%8A%94-%EC%A1%B0%EA%B1%B4%EC%8B%9D%EC%9D%84-%EA%B8%B0%EB%B0%98%EC%9C%BC%EB%A1%9C-%ED%8C%AC%EB%8D%94-dat/)\n",
        "\n",
        "> 오류 코드 : df[(len(df['column name']) < 2)]\n",
        "\n",
        "> 해결 코드 : df[df['column name'].map(len) < 2]\n",
        "\n",
        "4. 데이터의 양이 많아 모든 데이터에 hanspell 처리를 해주려면 정말 오래걸렸습니다. 데이터프레임을 병렬처리해주는 방법을 연구하고싶습니다.\n",
        "\n"
      ],
      "metadata": {
        "id": "tckiP-XDfiYq"
      }
    },
    {
      "cell_type": "markdown",
      "source": [
        " 5. 저번부터 계속 헷갈렸던 건데, 판다스 dataframe을 for문으로 돌리려면 (컬럼 정보를 주고 값을 뽑아 낼 수 있는 for 문)으로 돌리려면 `for df in dataframe:`형식으로 뽑으면 안된다\n",
        "\n",
        "\n",
        " - [참고한 사이트](https://www.delftstack.com/ko/howto/python-pandas/how-to-iterate-through-rows-of-a-dataframe-in-pandas/)\n",
        "1. Pandas DataFrame에서 행을 반복하는index 속성\n",
        "2. 파이썬에서 DataFrame의 행을 반복하는loc[]메소드\n",
        "3. 파이썬에서 DataFrame의 행을 반복하는iloc[]메소드\n",
        "4. pandas.DataFrame.iterrows()는 행 Pandas를 반복합니다\n",
        "5. pandas.DataFrame.itertuples는 행 Pandas를 반복합니다\n",
        "6. pandas.DataFrame.apply는 행 Pandas를 반복합니다\n",
        "\n",
        "메소드가 다양하므로 각각을 어떤 상황에서 써야하는지를 꼭 알아두자!\n",
        "\n",
        "6. 특수문자 ♥과 ♥♥를 다르게 인식할것이므로, 전처리 단계에 특수문자 앞뒤로 공백을 추가하는 전처리를 추가해야겠다.\n",
        "\n",
        "7. 파이썬에서 임시파일을 작성하는 방법\n",
        "\n",
        "여기 노트북에서 이걸 시도했다가, 파일명을 설정하는방법을 모르겠고 일단 임시파일이 내가원하는 위치에 만들어지는게 아니라 특정 디렉토리에 자동으로 만들어지는 것 같아서 사용하지않았다.\n",
        "\n",
        "- [참고 사이트](https://codechacha.com/ko/python-temp-file-and-dir/\n",
        "\n",
        "8. 프로젝트를 진행 하다보니 네이버의 train데이터만 썼는데, 다음에는 처음부터 train과 test데이터를 concatenate 해서 그걸 다시 train / validate / test 데이터로 나눠서 사용해야겠다ㅠ_ㅠ\n",
        "\n",
        "9. 전처리에서 불용어를 제거하지 않았다. ㅋㅋㅋㅋㅋㅋ 를 ㅋㅋ로, ㅠㅠㅠㅠㅠ를 ㅠㅠ정도로 작게 처리해주는 전처리작업도 추가하고싶다.\n",
        "\n",
        "10. 고잉딥퍼가 이정도 수준일줄 몰랐따 진짜어렵다 정말정말정말정말정말정말정말 어렵다. 익스를 제대로 이해하고 있어야 하고, nlp에 대해 전반적인 이해가 좀 된 상태여야 막히지 않았을것같다. 정말 개념을 계속보고, 익스도 계속보고 고잉딥퍼도 계속봤는데 정~~~~~~~~~~말 어려워서 눈물날거같다 ㅋㅋㅋㅋㅋㅋㅋㅋㅋㅋㅋㅋㅋㅋㅋㅋㅋㅋㅋㅋㅋㅋㅋㅋㅋㅋ \n",
        "\n",
        "익스는 그래도 코드블록을 다 복붙으로 사용하면 프로젝트가 돌아갔는데 고잉딥퍼는 수정하지 않은 블록이 없는것같다. 오히려 너무 많이 수정해서 이렇게 하는게 맞는지 의구심이 들지경,, 사실 제출못할 줄알고 아예 천천히(물론 의도적인 천천히는 아니었따. 내 속도가 이정도밖에 안나는거지) 진행하고 있었는데 그래도 제출은 할 수있어 너무행복하다 ㅋㅋㅋㅋㅋㅋㅋㅋㅋㅋㅋㅋㅋㅋㅋㅋㅋㅋㅋㅋㅋㅋㅋㅋ 이게 고잉딥퍼 첫번재 프로젝트면 후반부는 어떻게 되는거지 넘무 두렵다,,!\n",
        " \n",
        "11. 학습이 제대로 되고있지 않은거 같은데 뭐가문젤까,,제발알려줘라ㅠ\n",
        "\n",
        "12. sp_tokenizer에서 `tensor = tf.keras.preprocessing.sequence.pad_sequences(tensor, padding='post')` 여기 post를 pre로 변경해보기!!\n",
        "\n",
        "13. 토큰화가 단어사전을 만들어주는거라고 이해를 했는데, 기존 LMS 노드에서는 토큰화를 해준 단어사전에서 불용어 [은 , 는, 이, 가]등의 조사를 삭제했다. 이부분이 이해가 안갔는데 강민영님과 조승우님과 토론을 해본 결과, 이 네이버 리뷰의 경우는 긍정인지 부정인지를 판단한다. 여기선은 는이가와 같은 조사보다는 실제 의미가 있는 단어에 집중하여 긍정 부정을 분류해야하기때문에 불용어를 삭제해준것같다는 결론이 나왔따.\n",
        "\n",
        "14. 학습이 제대로 되지 않은 점에 대해서 강민영님과 조승우님과 토론해본 결과, 한스펠 부분이 잘못되었거나, max Length를 끊어주지 않아서 학습이 되지 않았다는 결과가 나왔따. 맞는 말인것 같은게 처음에는 길이가 긴 문장이 진지하게 장문으로 리뷰를 쓴거라고 생각해서 중요한 데이터다! 라고 생각했는데 POST로 모델을 학습시키다보니 뒷편이 0으로 다 채워지게 되어 학습이 제대로 되지 않는 효과가 난것같다."
      ],
      "metadata": {
        "id": "T5ZQsYQLe9Qm"
      }
    },
    {
      "cell_type": "code",
      "source": [
        ""
      ],
      "metadata": {
        "id": "PLFSvqH16TQA"
      },
      "execution_count": null,
      "outputs": []
    }
  ]
}