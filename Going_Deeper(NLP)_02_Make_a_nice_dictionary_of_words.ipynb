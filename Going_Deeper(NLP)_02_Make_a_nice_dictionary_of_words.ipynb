{
  "nbformat": 4,
  "nbformat_minor": 0,
  "metadata": {
    "colab": {
      "name": "Going Deeper(NLP) 02. Make a nice dictionary of words.ipynb",
      "provenance": [],
      "collapsed_sections": []
    },
    "kernelspec": {
      "name": "python3",
      "display_name": "Python 3"
    },
    "language_info": {
      "name": "python"
    }
  },
  "cells": [
    {
      "cell_type": "code",
      "source": [
        "cd /content/drive/MyDrive/GoingDeeper(NLP)"
      ],
      "metadata": {
        "colab": {
          "base_uri": "https://localhost:8080/"
        },
        "id": "_8KhNNSF5uv5",
        "outputId": "8cd153d7-4313-4c8a-b223-75e048e75b7d"
      },
      "execution_count": 1,
      "outputs": [
        {
          "output_type": "stream",
          "name": "stdout",
          "text": [
            "/content/drive/MyDrive/GoingDeeper(NLP)\n"
          ]
        }
      ]
    },
    {
      "cell_type": "code",
      "source": [
        "pwd"
      ],
      "metadata": {
        "colab": {
          "base_uri": "https://localhost:8080/",
          "height": 35
        },
        "id": "PYeZWhh85u0i",
        "outputId": "14c72510-de04-42ea-ad30-ce70f419b4a1"
      },
      "execution_count": 2,
      "outputs": [
        {
          "output_type": "execute_result",
          "data": {
            "text/plain": [
              "'/content/drive/MyDrive/GoingDeeper(NLP)'"
            ],
            "application/vnd.google.colaboratory.intrinsic+json": {
              "type": "string"
            }
          },
          "metadata": {},
          "execution_count": 2
        }
      ]
    },
    {
      "cell_type": "code",
      "source": [
        "! pip install konlpy"
      ],
      "metadata": {
        "colab": {
          "base_uri": "https://localhost:8080/"
        },
        "id": "prfUzQCD5u3E",
        "outputId": "a5b34ebb-7f56-47ac-dded-7e4028981fbb"
      },
      "execution_count": 3,
      "outputs": [
        {
          "output_type": "stream",
          "name": "stdout",
          "text": [
            "Collecting konlpy\n",
            "  Downloading konlpy-0.6.0-py2.py3-none-any.whl (19.4 MB)\n",
            "\u001b[K     |████████████████████████████████| 19.4 MB 1.2 MB/s \n",
            "\u001b[?25hRequirement already satisfied: lxml>=4.1.0 in /usr/local/lib/python3.7/dist-packages (from konlpy) (4.2.6)\n",
            "Collecting JPype1>=0.7.0\n",
            "  Downloading JPype1-1.3.0-cp37-cp37m-manylinux_2_5_x86_64.manylinux1_x86_64.whl (448 kB)\n",
            "\u001b[K     |████████████████████████████████| 448 kB 44.6 MB/s \n",
            "\u001b[?25hRequirement already satisfied: numpy>=1.6 in /usr/local/lib/python3.7/dist-packages (from konlpy) (1.21.5)\n",
            "Requirement already satisfied: typing-extensions in /usr/local/lib/python3.7/dist-packages (from JPype1>=0.7.0->konlpy) (3.10.0.2)\n",
            "Installing collected packages: JPype1, konlpy\n",
            "Successfully installed JPype1-1.3.0 konlpy-0.6.0\n"
          ]
        }
      ]
    },
    {
      "cell_type": "code",
      "source": [
        "!curl -s https://raw.githubusercontent.com/teddylee777/machine-learning/master/99-Misc/01-Colab/mecab-colab.sh | bash\n"
      ],
      "metadata": {
        "colab": {
          "base_uri": "https://localhost:8080/"
        },
        "id": "-nnotBsc5u5V",
        "outputId": "c89855a8-30b1-471a-e2db-3a3284d9a5cc"
      },
      "execution_count": 4,
      "outputs": [
        {
          "output_type": "stream",
          "name": "stdout",
          "text": [
            "--2022-03-25 00:14:50--  https://www.dropbox.com/s/9xls0tgtf3edgns/mecab-0.996-ko-0.9.2.tar.gz?dl=1\n",
            "Resolving www.dropbox.com (www.dropbox.com)... 162.125.5.18, 2620:100:601d:18::a27d:512\n",
            "Connecting to www.dropbox.com (www.dropbox.com)|162.125.5.18|:443... connected.\n",
            "HTTP request sent, awaiting response... 301 Moved Permanently\n",
            "Location: /s/dl/9xls0tgtf3edgns/mecab-0.996-ko-0.9.2.tar.gz [following]\n",
            "--2022-03-25 00:14:50--  https://www.dropbox.com/s/dl/9xls0tgtf3edgns/mecab-0.996-ko-0.9.2.tar.gz\n",
            "Reusing existing connection to www.dropbox.com:443.\n",
            "HTTP request sent, awaiting response... 302 Found\n",
            "Location: https://uc3bbac84611e9f9d85637e75641.dl.dropboxusercontent.com/cd/0/get/BiGuDH_McU278ztvLlDan2D3Pu0386CFMAaB96UJRyPJ9Ktgz8Z-XXg8uD9Mc_bRfZuw2mvp-qYKDRoal_jICsCUkOFlLC2sA-WUwlf4112vas-r133D6ZkacKyJo7bn538Vgwti6oarliLwPEKN_BqsLWTnPMjaJhmsRG_WxA4WRuz97zlqOKcP9AKg4-fTxNE/file?dl=1# [following]\n",
            "--2022-03-25 00:14:50--  https://uc3bbac84611e9f9d85637e75641.dl.dropboxusercontent.com/cd/0/get/BiGuDH_McU278ztvLlDan2D3Pu0386CFMAaB96UJRyPJ9Ktgz8Z-XXg8uD9Mc_bRfZuw2mvp-qYKDRoal_jICsCUkOFlLC2sA-WUwlf4112vas-r133D6ZkacKyJo7bn538Vgwti6oarliLwPEKN_BqsLWTnPMjaJhmsRG_WxA4WRuz97zlqOKcP9AKg4-fTxNE/file?dl=1\n",
            "Resolving uc3bbac84611e9f9d85637e75641.dl.dropboxusercontent.com (uc3bbac84611e9f9d85637e75641.dl.dropboxusercontent.com)... 162.125.5.15, 2620:100:601d:15::a27d:50f\n",
            "Connecting to uc3bbac84611e9f9d85637e75641.dl.dropboxusercontent.com (uc3bbac84611e9f9d85637e75641.dl.dropboxusercontent.com)|162.125.5.15|:443... connected.\n",
            "HTTP request sent, awaiting response... 200 OK\n",
            "Length: 1414979 (1.3M) [application/binary]\n",
            "Saving to: ‘mecab-0.996-ko-0.9.2.tar.gz?dl=1’\n",
            "\n",
            "mecab-0.996-ko-0.9. 100%[===================>]   1.35M  --.-KB/s    in 0.1s    \n",
            "\n",
            "2022-03-25 00:14:51 (12.3 MB/s) - ‘mecab-0.996-ko-0.9.2.tar.gz?dl=1’ saved [1414979/1414979]\n",
            "\n",
            "mecab-0.996-ko-0.9.2/\n",
            "mecab-0.996-ko-0.9.2/example/\n",
            "mecab-0.996-ko-0.9.2/example/example.cpp\n",
            "mecab-0.996-ko-0.9.2/example/example_lattice.cpp\n",
            "mecab-0.996-ko-0.9.2/example/example_lattice.c\n",
            "mecab-0.996-ko-0.9.2/example/example.c\n",
            "mecab-0.996-ko-0.9.2/example/thread_test.cpp\n",
            "mecab-0.996-ko-0.9.2/mecab-config.in\n",
            "mecab-0.996-ko-0.9.2/man/\n",
            "mecab-0.996-ko-0.9.2/man/Makefile.am\n",
            "mecab-0.996-ko-0.9.2/man/mecab.1\n",
            "mecab-0.996-ko-0.9.2/man/Makefile.in\n",
            "mecab-0.996-ko-0.9.2/mecab.iss.in\n",
            "mecab-0.996-ko-0.9.2/config.guess\n",
            "mecab-0.996-ko-0.9.2/README\n",
            "mecab-0.996-ko-0.9.2/COPYING\n",
            "mecab-0.996-ko-0.9.2/CHANGES.md\n",
            "mecab-0.996-ko-0.9.2/README.md\n",
            "mecab-0.996-ko-0.9.2/INSTALL\n",
            "mecab-0.996-ko-0.9.2/config.sub\n",
            "mecab-0.996-ko-0.9.2/configure.in\n",
            "mecab-0.996-ko-0.9.2/swig/\n",
            "mecab-0.996-ko-0.9.2/swig/Makefile\n",
            "mecab-0.996-ko-0.9.2/swig/version.h.in\n",
            "mecab-0.996-ko-0.9.2/swig/version.h\n",
            "mecab-0.996-ko-0.9.2/swig/MeCab.i\n",
            "mecab-0.996-ko-0.9.2/aclocal.m4\n",
            "mecab-0.996-ko-0.9.2/LGPL\n",
            "mecab-0.996-ko-0.9.2/Makefile.am\n",
            "mecab-0.996-ko-0.9.2/configure\n",
            "mecab-0.996-ko-0.9.2/tests/\n",
            "mecab-0.996-ko-0.9.2/tests/autolink/\n",
            "mecab-0.996-ko-0.9.2/tests/autolink/unk.def\n",
            "mecab-0.996-ko-0.9.2/tests/autolink/dicrc\n",
            "mecab-0.996-ko-0.9.2/tests/autolink/dic.csv\n",
            "mecab-0.996-ko-0.9.2/tests/autolink/test\n",
            "mecab-0.996-ko-0.9.2/tests/autolink/char.def\n",
            "mecab-0.996-ko-0.9.2/tests/autolink/matrix.def\n",
            "mecab-0.996-ko-0.9.2/tests/autolink/test.gld\n",
            "mecab-0.996-ko-0.9.2/tests/t9/\n",
            "mecab-0.996-ko-0.9.2/tests/t9/unk.def\n",
            "mecab-0.996-ko-0.9.2/tests/t9/ipadic.pl\n",
            "mecab-0.996-ko-0.9.2/tests/t9/dicrc\n",
            "mecab-0.996-ko-0.9.2/tests/t9/dic.csv\n",
            "mecab-0.996-ko-0.9.2/tests/t9/test\n",
            "mecab-0.996-ko-0.9.2/tests/t9/char.def\n",
            "mecab-0.996-ko-0.9.2/tests/t9/matrix.def\n",
            "mecab-0.996-ko-0.9.2/tests/t9/mkdic.pl\n",
            "mecab-0.996-ko-0.9.2/tests/t9/test.gld\n",
            "mecab-0.996-ko-0.9.2/tests/cost-train/\n",
            "mecab-0.996-ko-0.9.2/tests/cost-train/ipa.train\n",
            "mecab-0.996-ko-0.9.2/tests/cost-train/ipa.test\n",
            "mecab-0.996-ko-0.9.2/tests/cost-train/seed/\n",
            "mecab-0.996-ko-0.9.2/tests/cost-train/seed/rewrite.def\n",
            "mecab-0.996-ko-0.9.2/tests/cost-train/seed/feature.def\n",
            "mecab-0.996-ko-0.9.2/tests/cost-train/seed/unk.def\n",
            "mecab-0.996-ko-0.9.2/tests/cost-train/seed/dicrc\n",
            "mecab-0.996-ko-0.9.2/tests/cost-train/seed/dic.csv\n",
            "mecab-0.996-ko-0.9.2/tests/cost-train/seed/char.def\n",
            "mecab-0.996-ko-0.9.2/tests/cost-train/seed/matrix.def\n",
            "mecab-0.996-ko-0.9.2/tests/run-eval.sh\n",
            "mecab-0.996-ko-0.9.2/tests/run-cost-train.sh\n",
            "mecab-0.996-ko-0.9.2/tests/Makefile.am\n",
            "mecab-0.996-ko-0.9.2/tests/katakana/\n",
            "mecab-0.996-ko-0.9.2/tests/katakana/unk.def\n",
            "mecab-0.996-ko-0.9.2/tests/katakana/dicrc\n",
            "mecab-0.996-ko-0.9.2/tests/katakana/dic.csv\n",
            "mecab-0.996-ko-0.9.2/tests/katakana/test\n",
            "mecab-0.996-ko-0.9.2/tests/katakana/char.def\n",
            "mecab-0.996-ko-0.9.2/tests/katakana/matrix.def\n",
            "mecab-0.996-ko-0.9.2/tests/katakana/test.gld\n",
            "mecab-0.996-ko-0.9.2/tests/eval/\n",
            "mecab-0.996-ko-0.9.2/tests/eval/answer\n",
            "mecab-0.996-ko-0.9.2/tests/eval/system\n",
            "mecab-0.996-ko-0.9.2/tests/eval/test.gld\n",
            "mecab-0.996-ko-0.9.2/tests/shiin/\n",
            "mecab-0.996-ko-0.9.2/tests/shiin/unk.def\n",
            "mecab-0.996-ko-0.9.2/tests/shiin/dicrc\n",
            "mecab-0.996-ko-0.9.2/tests/shiin/dic.csv\n",
            "mecab-0.996-ko-0.9.2/tests/shiin/test\n",
            "mecab-0.996-ko-0.9.2/tests/shiin/char.def\n",
            "mecab-0.996-ko-0.9.2/tests/shiin/matrix.def\n",
            "mecab-0.996-ko-0.9.2/tests/shiin/mkdic.pl\n",
            "mecab-0.996-ko-0.9.2/tests/shiin/test.gld\n",
            "mecab-0.996-ko-0.9.2/tests/latin/\n",
            "mecab-0.996-ko-0.9.2/tests/latin/unk.def\n",
            "mecab-0.996-ko-0.9.2/tests/latin/dicrc\n",
            "mecab-0.996-ko-0.9.2/tests/latin/dic.csv\n",
            "mecab-0.996-ko-0.9.2/tests/latin/test\n",
            "mecab-0.996-ko-0.9.2/tests/latin/char.def\n",
            "mecab-0.996-ko-0.9.2/tests/latin/matrix.def\n",
            "mecab-0.996-ko-0.9.2/tests/latin/test.gld\n",
            "mecab-0.996-ko-0.9.2/tests/chartype/\n",
            "mecab-0.996-ko-0.9.2/tests/chartype/unk.def\n",
            "mecab-0.996-ko-0.9.2/tests/chartype/dicrc\n",
            "mecab-0.996-ko-0.9.2/tests/chartype/dic.csv\n",
            "mecab-0.996-ko-0.9.2/tests/chartype/test\n",
            "mecab-0.996-ko-0.9.2/tests/chartype/char.def\n",
            "mecab-0.996-ko-0.9.2/tests/chartype/matrix.def\n",
            "mecab-0.996-ko-0.9.2/tests/chartype/test.gld\n",
            "mecab-0.996-ko-0.9.2/tests/run-dics.sh\n",
            "mecab-0.996-ko-0.9.2/tests/ngram/\n",
            "mecab-0.996-ko-0.9.2/tests/ngram/unk.def\n",
            "mecab-0.996-ko-0.9.2/tests/ngram/dicrc\n",
            "mecab-0.996-ko-0.9.2/tests/ngram/dic.csv\n",
            "mecab-0.996-ko-0.9.2/tests/ngram/test\n",
            "mecab-0.996-ko-0.9.2/tests/ngram/char.def\n",
            "mecab-0.996-ko-0.9.2/tests/ngram/matrix.def\n",
            "mecab-0.996-ko-0.9.2/tests/ngram/test.gld\n",
            "mecab-0.996-ko-0.9.2/tests/Makefile.in\n",
            "mecab-0.996-ko-0.9.2/ltmain.sh\n",
            "mecab-0.996-ko-0.9.2/config.rpath\n",
            "mecab-0.996-ko-0.9.2/config.h.in\n",
            "mecab-0.996-ko-0.9.2/mecabrc.in\n",
            "mecab-0.996-ko-0.9.2/GPL\n",
            "mecab-0.996-ko-0.9.2/Makefile.train\n",
            "mecab-0.996-ko-0.9.2/ChangeLog\n",
            "mecab-0.996-ko-0.9.2/install-sh\n",
            "mecab-0.996-ko-0.9.2/AUTHORS\n",
            "mecab-0.996-ko-0.9.2/doc/\n",
            "mecab-0.996-ko-0.9.2/doc/bindings.html\n",
            "mecab-0.996-ko-0.9.2/doc/posid.html\n",
            "mecab-0.996-ko-0.9.2/doc/unk.html\n",
            "mecab-0.996-ko-0.9.2/doc/learn.html\n",
            "mecab-0.996-ko-0.9.2/doc/format.html\n",
            "mecab-0.996-ko-0.9.2/doc/libmecab.html\n",
            "mecab-0.996-ko-0.9.2/doc/mecab.css\n",
            "mecab-0.996-ko-0.9.2/doc/feature.html\n",
            "mecab-0.996-ko-0.9.2/doc/Makefile.am\n",
            "mecab-0.996-ko-0.9.2/doc/soft.html\n",
            "mecab-0.996-ko-0.9.2/doc/en/\n",
            "mecab-0.996-ko-0.9.2/doc/en/bindings.html\n",
            "mecab-0.996-ko-0.9.2/doc/dic-detail.html\n",
            "mecab-0.996-ko-0.9.2/doc/flow.png\n",
            "mecab-0.996-ko-0.9.2/doc/mecab.html\n",
            "mecab-0.996-ko-0.9.2/doc/index.html\n",
            "mecab-0.996-ko-0.9.2/doc/result.png\n",
            "mecab-0.996-ko-0.9.2/doc/doxygen/\n",
            "mecab-0.996-ko-0.9.2/doc/doxygen/tab_a.png\n",
            "mecab-0.996-ko-0.9.2/doc/doxygen/globals_eval.html\n",
            "mecab-0.996-ko-0.9.2/doc/doxygen/classMeCab_1_1Tagger-members.html\n",
            "mecab-0.996-ko-0.9.2/doc/doxygen/functions_vars.html\n",
            "mecab-0.996-ko-0.9.2/doc/doxygen/doxygen.css\n",
            "mecab-0.996-ko-0.9.2/doc/doxygen/tab_r.gif\n",
            "mecab-0.996-ko-0.9.2/doc/doxygen/classMeCab_1_1Lattice.html\n",
            "mecab-0.996-ko-0.9.2/doc/doxygen/functions.html\n",
            "mecab-0.996-ko-0.9.2/doc/doxygen/classMeCab_1_1Tagger.html\n",
            "mecab-0.996-ko-0.9.2/doc/doxygen/mecab_8h_source.html\n",
            "mecab-0.996-ko-0.9.2/doc/doxygen/tabs.css\n",
            "mecab-0.996-ko-0.9.2/doc/doxygen/nav_f.png\n",
            "mecab-0.996-ko-0.9.2/doc/doxygen/tab_b.png\n",
            "mecab-0.996-ko-0.9.2/doc/doxygen/globals.html\n",
            "mecab-0.996-ko-0.9.2/doc/doxygen/nav_h.png\n",
            "mecab-0.996-ko-0.9.2/doc/doxygen/tab_h.png\n",
            "mecab-0.996-ko-0.9.2/doc/doxygen/classMeCab_1_1Model.html\n",
            "mecab-0.996-ko-0.9.2/doc/doxygen/globals_func.html\n",
            "mecab-0.996-ko-0.9.2/doc/doxygen/closed.png\n",
            "mecab-0.996-ko-0.9.2/doc/doxygen/tab_l.gif\n",
            "mecab-0.996-ko-0.9.2/doc/doxygen/structmecab__path__t-members.html\n",
            "mecab-0.996-ko-0.9.2/doc/doxygen/functions_func.html\n",
            "mecab-0.996-ko-0.9.2/doc/doxygen/globals_type.html\n",
            "mecab-0.996-ko-0.9.2/doc/doxygen/classMeCab_1_1Lattice-members.html\n",
            "mecab-0.996-ko-0.9.2/doc/doxygen/structmecab__node__t.html\n",
            "mecab-0.996-ko-0.9.2/doc/doxygen/namespacemembers_func.html\n",
            "mecab-0.996-ko-0.9.2/doc/doxygen/tab_s.png\n",
            "mecab-0.996-ko-0.9.2/doc/doxygen/structmecab__dictionary__info__t-members.html\n",
            "mecab-0.996-ko-0.9.2/doc/doxygen/namespacemembers_type.html\n",
            "mecab-0.996-ko-0.9.2/doc/doxygen/classMeCab_1_1Model-members.html\n",
            "mecab-0.996-ko-0.9.2/doc/doxygen/structmecab__dictionary__info__t.html\n",
            "mecab-0.996-ko-0.9.2/doc/doxygen/namespaces.html\n",
            "mecab-0.996-ko-0.9.2/doc/doxygen/namespacemembers.html\n",
            "mecab-0.996-ko-0.9.2/doc/doxygen/namespaceMeCab.html\n",
            "mecab-0.996-ko-0.9.2/doc/doxygen/structmecab__path__t.html\n",
            "mecab-0.996-ko-0.9.2/doc/doxygen/files.html\n",
            "mecab-0.996-ko-0.9.2/doc/doxygen/structmecab__node__t-members.html\n",
            "mecab-0.996-ko-0.9.2/doc/doxygen/index.html\n",
            "mecab-0.996-ko-0.9.2/doc/doxygen/annotated.html\n",
            "mecab-0.996-ko-0.9.2/doc/doxygen/globals_defs.html\n",
            "mecab-0.996-ko-0.9.2/doc/doxygen/classes.html\n",
            "mecab-0.996-ko-0.9.2/doc/doxygen/mecab_8h-source.html\n",
            "mecab-0.996-ko-0.9.2/doc/doxygen/doxygen.png\n",
            "mecab-0.996-ko-0.9.2/doc/doxygen/tab_b.gif\n",
            "mecab-0.996-ko-0.9.2/doc/doxygen/bc_s.png\n",
            "mecab-0.996-ko-0.9.2/doc/doxygen/open.png\n",
            "mecab-0.996-ko-0.9.2/doc/doxygen/mecab_8h.html\n",
            "mecab-0.996-ko-0.9.2/doc/dic.html\n",
            "mecab-0.996-ko-0.9.2/doc/partial.html\n",
            "mecab-0.996-ko-0.9.2/doc/feature.png\n",
            "mecab-0.996-ko-0.9.2/doc/Makefile.in\n",
            "mecab-0.996-ko-0.9.2/missing\n",
            "mecab-0.996-ko-0.9.2/BSD\n",
            "mecab-0.996-ko-0.9.2/NEWS\n",
            "mecab-0.996-ko-0.9.2/mkinstalldirs\n",
            "mecab-0.996-ko-0.9.2/src/\n",
            "mecab-0.996-ko-0.9.2/src/dictionary.h\n",
            "mecab-0.996-ko-0.9.2/src/writer.h\n",
            "mecab-0.996-ko-0.9.2/src/utils.h\n",
            "mecab-0.996-ko-0.9.2/src/string_buffer.cpp\n",
            "mecab-0.996-ko-0.9.2/src/tokenizer.cpp\n",
            "mecab-0.996-ko-0.9.2/src/make.bat\n",
            "mecab-0.996-ko-0.9.2/src/mecab.h\n",
            "mecab-0.996-ko-0.9.2/src/freelist.h\n",
            "mecab-0.996-ko-0.9.2/src/string_buffer.h\n",
            "mecab-0.996-ko-0.9.2/src/learner_tagger.h\n",
            "mecab-0.996-ko-0.9.2/src/dictionary_compiler.cpp\n",
            "mecab-0.996-ko-0.9.2/src/eval.cpp\n",
            "mecab-0.996-ko-0.9.2/src/mecab-system-eval.cpp\n",
            "mecab-0.996-ko-0.9.2/src/darts.h\n",
            "mecab-0.996-ko-0.9.2/src/param.h\n",
            "mecab-0.996-ko-0.9.2/src/char_property.h\n",
            "mecab-0.996-ko-0.9.2/src/learner_node.h\n",
            "mecab-0.996-ko-0.9.2/src/mecab-dict-gen.cpp\n",
            "mecab-0.996-ko-0.9.2/src/mecab-dict-index.cpp\n",
            "mecab-0.996-ko-0.9.2/src/winmain.h\n",
            "mecab-0.996-ko-0.9.2/src/thread.h\n",
            "mecab-0.996-ko-0.9.2/src/context_id.cpp\n",
            "mecab-0.996-ko-0.9.2/src/Makefile.am\n",
            "mecab-0.996-ko-0.9.2/src/connector.h\n",
            "mecab-0.996-ko-0.9.2/src/common.h\n",
            "mecab-0.996-ko-0.9.2/src/dictionary_rewriter.cpp\n",
            "mecab-0.996-ko-0.9.2/src/Makefile.msvc.in\n",
            "mecab-0.996-ko-0.9.2/src/dictionary_rewriter.h\n",
            "mecab-0.996-ko-0.9.2/src/feature_index.h\n",
            "mecab-0.996-ko-0.9.2/src/iconv_utils.cpp\n",
            "mecab-0.996-ko-0.9.2/src/char_property.cpp\n",
            "mecab-0.996-ko-0.9.2/src/mecab-test-gen.cpp\n",
            "mecab-0.996-ko-0.9.2/src/tagger.cpp\n",
            "mecab-0.996-ko-0.9.2/src/mecab-cost-train.cpp\n",
            "mecab-0.996-ko-0.9.2/src/learner.cpp\n",
            "mecab-0.996-ko-0.9.2/src/dictionary.cpp\n",
            "mecab-0.996-ko-0.9.2/src/lbfgs.cpp\n",
            "mecab-0.996-ko-0.9.2/src/ucs.h\n",
            "mecab-0.996-ko-0.9.2/src/writer.cpp\n",
            "mecab-0.996-ko-0.9.2/src/learner_tagger.cpp\n",
            "mecab-0.996-ko-0.9.2/src/lbfgs.h\n",
            "mecab-0.996-ko-0.9.2/src/libmecab.cpp\n",
            "mecab-0.996-ko-0.9.2/src/tokenizer.h\n",
            "mecab-0.996-ko-0.9.2/src/mecab.cpp\n",
            "mecab-0.996-ko-0.9.2/src/utils.cpp\n",
            "mecab-0.996-ko-0.9.2/src/dictionary_generator.cpp\n",
            "mecab-0.996-ko-0.9.2/src/param.cpp\n",
            "mecab-0.996-ko-0.9.2/src/context_id.h\n",
            "mecab-0.996-ko-0.9.2/src/mmap.h\n",
            "mecab-0.996-ko-0.9.2/src/viterbi.h\n",
            "mecab-0.996-ko-0.9.2/src/viterbi.cpp\n",
            "mecab-0.996-ko-0.9.2/src/stream_wrapper.h\n",
            "mecab-0.996-ko-0.9.2/src/feature_index.cpp\n",
            "mecab-0.996-ko-0.9.2/src/nbest_generator.h\n",
            "mecab-0.996-ko-0.9.2/src/ucstable.h\n",
            "mecab-0.996-ko-0.9.2/src/nbest_generator.cpp\n",
            "mecab-0.996-ko-0.9.2/src/iconv_utils.h\n",
            "mecab-0.996-ko-0.9.2/src/connector.cpp\n",
            "mecab-0.996-ko-0.9.2/src/Makefile.in\n",
            "mecab-0.996-ko-0.9.2/src/scoped_ptr.h\n",
            "mecab-0.996-ko-0.9.2/Makefile.in\n",
            "checking for a BSD-compatible install... /usr/bin/install -c\n",
            "checking whether build environment is sane... yes\n",
            "checking for a thread-safe mkdir -p... /bin/mkdir -p\n",
            "checking for gawk... no\n",
            "checking for mawk... mawk\n",
            "checking whether make sets $(MAKE)... yes\n",
            "checking for gcc... gcc\n",
            "checking whether the C compiler works... yes\n",
            "checking for C compiler default output file name... a.out\n",
            "checking for suffix of executables... \n",
            "checking whether we are cross compiling... no\n",
            "checking for suffix of object files... o\n",
            "checking whether we are using the GNU C compiler... yes\n",
            "checking whether gcc accepts -g... yes\n",
            "checking for gcc option to accept ISO C89... none needed\n",
            "checking for style of include used by make... GNU\n",
            "checking dependency style of gcc... none\n",
            "checking for g++... g++\n",
            "checking whether we are using the GNU C++ compiler... yes\n",
            "checking whether g++ accepts -g... yes\n",
            "checking dependency style of g++... none\n",
            "checking how to run the C preprocessor... gcc -E\n",
            "checking for grep that handles long lines and -e... /bin/grep\n",
            "checking for egrep... /bin/grep -E\n",
            "checking whether gcc needs -traditional... no\n",
            "checking whether make sets $(MAKE)... (cached) yes\n",
            "checking build system type... x86_64-unknown-linux-gnu\n",
            "checking host system type... x86_64-unknown-linux-gnu\n",
            "checking how to print strings... printf\n",
            "checking for a sed that does not truncate output... /bin/sed\n",
            "checking for fgrep... /bin/grep -F\n",
            "checking for ld used by gcc... /usr/bin/ld\n",
            "checking if the linker (/usr/bin/ld) is GNU ld... yes\n",
            "checking for BSD- or MS-compatible name lister (nm)... /usr/bin/nm -B\n",
            "checking the name lister (/usr/bin/nm -B) interface... BSD nm\n",
            "checking whether ln -s works... yes\n",
            "checking the maximum length of command line arguments... 1572864\n",
            "checking whether the shell understands some XSI constructs... yes\n",
            "checking whether the shell understands \"+=\"... yes\n",
            "checking how to convert x86_64-unknown-linux-gnu file names to x86_64-unknown-linux-gnu format... func_convert_file_noop\n",
            "checking how to convert x86_64-unknown-linux-gnu file names to toolchain format... func_convert_file_noop\n",
            "checking for /usr/bin/ld option to reload object files... -r\n",
            "checking for objdump... objdump\n",
            "checking how to recognize dependent libraries... pass_all\n",
            "checking for dlltool... dlltool\n",
            "checking how to associate runtime and link libraries... printf %s\\n\n",
            "checking for ar... ar\n",
            "checking for archiver @FILE support... @\n",
            "checking for strip... strip\n",
            "checking for ranlib... ranlib\n",
            "checking command to parse /usr/bin/nm -B output from gcc object... ok\n",
            "checking for sysroot... no\n",
            "./configure: line 7378: /usr/bin/file: No such file or directory\n",
            "checking for mt... no\n",
            "checking if : is a manifest tool... no\n",
            "checking for ANSI C header files... yes\n",
            "checking for sys/types.h... yes\n",
            "checking for sys/stat.h... yes\n",
            "checking for stdlib.h... yes\n",
            "checking for string.h... yes\n",
            "checking for memory.h... yes\n",
            "checking for strings.h... yes\n",
            "checking for inttypes.h... yes\n",
            "checking for stdint.h... yes\n",
            "checking for unistd.h... yes\n",
            "checking for dlfcn.h... yes\n",
            "checking for objdir... .libs\n",
            "checking if gcc supports -fno-rtti -fno-exceptions... no\n",
            "checking for gcc option to produce PIC... -fPIC -DPIC\n",
            "checking if gcc PIC flag -fPIC -DPIC works... yes\n",
            "checking if gcc static flag -static works... yes\n",
            "checking if gcc supports -c -o file.o... yes\n",
            "checking if gcc supports -c -o file.o... (cached) yes\n",
            "checking whether the gcc linker (/usr/bin/ld) supports shared libraries... yes\n",
            "checking whether -lc should be explicitly linked in... no\n",
            "checking dynamic linker characteristics... GNU/Linux ld.so\n",
            "checking how to hardcode library paths into programs... immediate\n",
            "checking whether stripping libraries is possible... yes\n",
            "checking if libtool supports shared libraries... yes\n",
            "checking whether to build shared libraries... yes\n",
            "checking whether to build static libraries... yes\n",
            "checking how to run the C++ preprocessor... g++ -E\n",
            "checking for ld used by g++... /usr/bin/ld\n",
            "checking if the linker (/usr/bin/ld) is GNU ld... yes\n",
            "checking whether the g++ linker (/usr/bin/ld) supports shared libraries... yes\n",
            "checking for g++ option to produce PIC... -fPIC -DPIC\n",
            "checking if g++ PIC flag -fPIC -DPIC works... yes\n",
            "checking if g++ static flag -static works... yes\n",
            "checking if g++ supports -c -o file.o... yes\n",
            "checking if g++ supports -c -o file.o... (cached) yes\n",
            "checking whether the g++ linker (/usr/bin/ld) supports shared libraries... yes\n",
            "checking dynamic linker characteristics... (cached) GNU/Linux ld.so\n",
            "checking how to hardcode library paths into programs... immediate\n",
            "checking for library containing strerror... none required\n",
            "checking whether byte ordering is bigendian... no\n",
            "checking for ld used by GCC... /usr/bin/ld\n",
            "checking if the linker (/usr/bin/ld) is GNU ld... yes\n",
            "checking for shared library run path origin... done\n",
            "checking for iconv... yes\n",
            "checking for working iconv... yes\n",
            "checking for iconv declaration... \n",
            "         extern size_t iconv (iconv_t cd, char * *inbuf, size_t *inbytesleft, char * *outbuf, size_t *outbytesleft);\n",
            "checking for ANSI C header files... (cached) yes\n",
            "checking for an ANSI C-conforming const... yes\n",
            "checking whether byte ordering is bigendian... (cached) no\n",
            "checking for string.h... (cached) yes\n",
            "checking for stdlib.h... (cached) yes\n",
            "checking for unistd.h... (cached) yes\n",
            "checking fcntl.h usability... yes\n",
            "checking fcntl.h presence... yes\n",
            "checking for fcntl.h... yes\n",
            "checking for stdint.h... (cached) yes\n",
            "checking for sys/stat.h... (cached) yes\n",
            "checking sys/mman.h usability... yes\n",
            "checking sys/mman.h presence... yes\n",
            "checking for sys/mman.h... yes\n",
            "checking sys/times.h usability... yes\n",
            "checking sys/times.h presence... yes\n",
            "checking for sys/times.h... yes\n",
            "checking for sys/types.h... (cached) yes\n",
            "checking dirent.h usability... yes\n",
            "checking dirent.h presence... yes\n",
            "checking for dirent.h... yes\n",
            "checking ctype.h usability... yes\n",
            "checking ctype.h presence... yes\n",
            "checking for ctype.h... yes\n",
            "checking for sys/types.h... (cached) yes\n",
            "checking io.h usability... no\n",
            "checking io.h presence... no\n",
            "checking for io.h... no\n",
            "checking windows.h usability... no\n",
            "checking windows.h presence... no\n",
            "checking for windows.h... no\n",
            "checking pthread.h usability... yes\n",
            "checking pthread.h presence... yes\n",
            "checking for pthread.h... yes\n",
            "checking for off_t... yes\n",
            "checking for size_t... yes\n",
            "checking size of char... 1\n",
            "checking size of short... 2\n",
            "checking size of int... 4\n",
            "checking size of long... 8\n",
            "checking size of long long... 8\n",
            "checking size of size_t... 8\n",
            "checking for size_t... (cached) yes\n",
            "checking for unsigned long long int... yes\n",
            "checking for stdlib.h... (cached) yes\n",
            "checking for unistd.h... (cached) yes\n",
            "checking for sys/param.h... yes\n",
            "checking for getpagesize... yes\n",
            "checking for working mmap... yes\n",
            "checking for main in -lstdc++... yes\n",
            "checking for pthread_create in -lpthread... yes\n",
            "checking for pthread_join in -lpthread... yes\n",
            "checking for getenv... yes\n",
            "checking for opendir... yes\n",
            "checking whether make is GNU Make... yes\n",
            "checking if g++ supports stl <vector> (required)... yes\n",
            "checking if g++ supports stl <list> (required)... yes\n",
            "checking if g++ supports stl <map> (required)... yes\n",
            "checking if g++ supports stl <set> (required)... yes\n",
            "checking if g++ supports stl <queue> (required)... yes\n",
            "checking if g++ supports stl <functional> (required)... yes\n",
            "checking if g++ supports stl <algorithm> (required)... yes\n",
            "checking if g++ supports stl <string> (required)... yes\n",
            "checking if g++ supports stl <iostream> (required)... yes\n",
            "checking if g++ supports stl <sstream> (required)... yes\n",
            "checking if g++ supports stl <fstream> (required)... yes\n",
            "checking if g++ supports template <class T> (required)... yes\n",
            "checking if g++ supports const_cast<> (required)... yes\n",
            "checking if g++ supports static_cast<> (required)... yes\n",
            "checking if g++ supports reinterpret_cast<> (required)... yes\n",
            "checking if g++ supports namespaces (required) ... yes\n",
            "checking if g++ supports __thread (optional)... yes\n",
            "checking if g++ supports template <class T> (required)... yes\n",
            "checking if g++ supports GCC native atomic operations (optional)... yes\n",
            "checking if g++ supports OSX native atomic operations (optional)... no\n",
            "checking if g++ environment provides all required features... yes\n",
            "configure: creating ./config.status\n",
            "config.status: creating Makefile\n",
            "config.status: creating src/Makefile\n",
            "config.status: creating src/Makefile.msvc\n",
            "config.status: creating man/Makefile\n",
            "config.status: creating doc/Makefile\n",
            "config.status: creating tests/Makefile\n",
            "config.status: creating swig/version.h\n",
            "config.status: creating mecab.iss\n",
            "config.status: creating mecab-config\n",
            "config.status: creating mecabrc\n",
            "config.status: creating config.h\n",
            "config.status: executing depfiles commands\n",
            "config.status: executing libtool commands\n",
            "config.status: executing default commands\n",
            "make  all-recursive\n",
            "make[1]: Entering directory '/tmp/mecab-0.996-ko-0.9.2'\n",
            "Making all in src\n",
            "make[2]: Entering directory '/tmp/mecab-0.996-ko-0.9.2/src'\n",
            "/bin/bash ../libtool --tag=CXX   --mode=compile g++ -DHAVE_CONFIG_H -I. -I.. -DDIC_VERSION=102   -DMECAB_DEFAULT_RC=\"\\\"/usr/local/etc/mecabrc\\\"\"    -O3 -Wall  -c -o viterbi.lo viterbi.cpp\n",
            "libtool: compile:  g++ -DHAVE_CONFIG_H -I. -I.. -DDIC_VERSION=102 -DMECAB_DEFAULT_RC=\\\"/usr/local/etc/mecabrc\\\" -O3 -Wall -c viterbi.cpp  -fPIC -DPIC -o .libs/viterbi.o\n",
            "In file included from \u001b[01m\u001b[Kviterbi.cpp:14:0\u001b[m\u001b[K:\n",
            "\u001b[01m\u001b[Kparam.h:30:13:\u001b[m\u001b[K \u001b[01;35m\u001b[Kwarning: \u001b[m\u001b[K'\u001b[01m\u001b[KTarget {anonymous}::lexical_cast(Source) [with Target = std::__cxx11::basic_string<char>; Source = std::__cxx11::basic_string<char>]\u001b[m\u001b[K' defined but not used [\u001b[01;35m\u001b[K-Wunused-function\u001b[m\u001b[K]\n",
            " std::string \u001b[01;35m\u001b[Klexical_cast<std::string, std::string>\u001b[m\u001b[K(std::string arg) {\n",
            "             \u001b[01;35m\u001b[K^~~~~~~~~~~~~~~~~~~~~~~~~~~~~~~~~~~~~~\u001b[m\u001b[K\n",
            "libtool: compile:  g++ -DHAVE_CONFIG_H -I. -I.. -DDIC_VERSION=102 -DMECAB_DEFAULT_RC=\\\"/usr/local/etc/mecabrc\\\" -O3 -Wall -c viterbi.cpp -o viterbi.o >/dev/null 2>&1\n",
            "/bin/bash ../libtool --tag=CXX   --mode=compile g++ -DHAVE_CONFIG_H -I. -I.. -DDIC_VERSION=102   -DMECAB_DEFAULT_RC=\"\\\"/usr/local/etc/mecabrc\\\"\"    -O3 -Wall  -c -o tagger.lo tagger.cpp\n",
            "libtool: compile:  g++ -DHAVE_CONFIG_H -I. -I.. -DDIC_VERSION=102 -DMECAB_DEFAULT_RC=\\\"/usr/local/etc/mecabrc\\\" -O3 -Wall -c tagger.cpp  -fPIC -DPIC -o .libs/tagger.o\n",
            "libtool: compile:  g++ -DHAVE_CONFIG_H -I. -I.. -DDIC_VERSION=102 -DMECAB_DEFAULT_RC=\\\"/usr/local/etc/mecabrc\\\" -O3 -Wall -c tagger.cpp -o tagger.o >/dev/null 2>&1\n",
            "/bin/bash ../libtool --tag=CXX   --mode=compile g++ -DHAVE_CONFIG_H -I. -I.. -DDIC_VERSION=102   -DMECAB_DEFAULT_RC=\"\\\"/usr/local/etc/mecabrc\\\"\"    -O3 -Wall  -c -o utils.lo utils.cpp\n",
            "libtool: compile:  g++ -DHAVE_CONFIG_H -I. -I.. -DDIC_VERSION=102 -DMECAB_DEFAULT_RC=\\\"/usr/local/etc/mecabrc\\\" -O3 -Wall -c utils.cpp  -fPIC -DPIC -o .libs/utils.o\n",
            "libtool: compile:  g++ -DHAVE_CONFIG_H -I. -I.. -DDIC_VERSION=102 -DMECAB_DEFAULT_RC=\\\"/usr/local/etc/mecabrc\\\" -O3 -Wall -c utils.cpp -o utils.o >/dev/null 2>&1\n",
            "/bin/bash ../libtool --tag=CXX   --mode=compile g++ -DHAVE_CONFIG_H -I. -I.. -DDIC_VERSION=102   -DMECAB_DEFAULT_RC=\"\\\"/usr/local/etc/mecabrc\\\"\"    -O3 -Wall  -c -o eval.lo eval.cpp\n",
            "libtool: compile:  g++ -DHAVE_CONFIG_H -I. -I.. -DDIC_VERSION=102 -DMECAB_DEFAULT_RC=\\\"/usr/local/etc/mecabrc\\\" -O3 -Wall -c eval.cpp  -fPIC -DPIC -o .libs/eval.o\n",
            "libtool: compile:  g++ -DHAVE_CONFIG_H -I. -I.. -DDIC_VERSION=102 -DMECAB_DEFAULT_RC=\\\"/usr/local/etc/mecabrc\\\" -O3 -Wall -c eval.cpp -o eval.o >/dev/null 2>&1\n",
            "/bin/bash ../libtool --tag=CXX   --mode=compile g++ -DHAVE_CONFIG_H -I. -I.. -DDIC_VERSION=102   -DMECAB_DEFAULT_RC=\"\\\"/usr/local/etc/mecabrc\\\"\"    -O3 -Wall  -c -o iconv_utils.lo iconv_utils.cpp\n",
            "libtool: compile:  g++ -DHAVE_CONFIG_H -I. -I.. -DDIC_VERSION=102 -DMECAB_DEFAULT_RC=\\\"/usr/local/etc/mecabrc\\\" -O3 -Wall -c iconv_utils.cpp  -fPIC -DPIC -o .libs/iconv_utils.o\n",
            "libtool: compile:  g++ -DHAVE_CONFIG_H -I. -I.. -DDIC_VERSION=102 -DMECAB_DEFAULT_RC=\\\"/usr/local/etc/mecabrc\\\" -O3 -Wall -c iconv_utils.cpp -o iconv_utils.o >/dev/null 2>&1\n",
            "/bin/bash ../libtool --tag=CXX   --mode=compile g++ -DHAVE_CONFIG_H -I. -I.. -DDIC_VERSION=102   -DMECAB_DEFAULT_RC=\"\\\"/usr/local/etc/mecabrc\\\"\"    -O3 -Wall  -c -o dictionary_rewriter.lo dictionary_rewriter.cpp\n",
            "libtool: compile:  g++ -DHAVE_CONFIG_H -I. -I.. -DDIC_VERSION=102 -DMECAB_DEFAULT_RC=\\\"/usr/local/etc/mecabrc\\\" -O3 -Wall -c dictionary_rewriter.cpp  -fPIC -DPIC -o .libs/dictionary_rewriter.o\n",
            "libtool: compile:  g++ -DHAVE_CONFIG_H -I. -I.. -DDIC_VERSION=102 -DMECAB_DEFAULT_RC=\\\"/usr/local/etc/mecabrc\\\" -O3 -Wall -c dictionary_rewriter.cpp -o dictionary_rewriter.o >/dev/null 2>&1\n",
            "/bin/bash ../libtool --tag=CXX   --mode=compile g++ -DHAVE_CONFIG_H -I. -I.. -DDIC_VERSION=102   -DMECAB_DEFAULT_RC=\"\\\"/usr/local/etc/mecabrc\\\"\"    -O3 -Wall  -c -o dictionary_generator.lo dictionary_generator.cpp\n",
            "libtool: compile:  g++ -DHAVE_CONFIG_H -I. -I.. -DDIC_VERSION=102 -DMECAB_DEFAULT_RC=\\\"/usr/local/etc/mecabrc\\\" -O3 -Wall -c dictionary_generator.cpp  -fPIC -DPIC -o .libs/dictionary_generator.o\n",
            "libtool: compile:  g++ -DHAVE_CONFIG_H -I. -I.. -DDIC_VERSION=102 -DMECAB_DEFAULT_RC=\\\"/usr/local/etc/mecabrc\\\" -O3 -Wall -c dictionary_generator.cpp -o dictionary_generator.o >/dev/null 2>&1\n",
            "/bin/bash ../libtool --tag=CXX   --mode=compile g++ -DHAVE_CONFIG_H -I. -I.. -DDIC_VERSION=102   -DMECAB_DEFAULT_RC=\"\\\"/usr/local/etc/mecabrc\\\"\"    -O3 -Wall  -c -o dictionary_compiler.lo dictionary_compiler.cpp\n",
            "libtool: compile:  g++ -DHAVE_CONFIG_H -I. -I.. -DDIC_VERSION=102 -DMECAB_DEFAULT_RC=\\\"/usr/local/etc/mecabrc\\\" -O3 -Wall -c dictionary_compiler.cpp  -fPIC -DPIC -o .libs/dictionary_compiler.o\n",
            "libtool: compile:  g++ -DHAVE_CONFIG_H -I. -I.. -DDIC_VERSION=102 -DMECAB_DEFAULT_RC=\\\"/usr/local/etc/mecabrc\\\" -O3 -Wall -c dictionary_compiler.cpp -o dictionary_compiler.o >/dev/null 2>&1\n",
            "/bin/bash ../libtool --tag=CXX   --mode=compile g++ -DHAVE_CONFIG_H -I. -I.. -DDIC_VERSION=102   -DMECAB_DEFAULT_RC=\"\\\"/usr/local/etc/mecabrc\\\"\"    -O3 -Wall  -c -o context_id.lo context_id.cpp\n",
            "libtool: compile:  g++ -DHAVE_CONFIG_H -I. -I.. -DDIC_VERSION=102 -DMECAB_DEFAULT_RC=\\\"/usr/local/etc/mecabrc\\\" -O3 -Wall -c context_id.cpp  -fPIC -DPIC -o .libs/context_id.o\n",
            "libtool: compile:  g++ -DHAVE_CONFIG_H -I. -I.. -DDIC_VERSION=102 -DMECAB_DEFAULT_RC=\\\"/usr/local/etc/mecabrc\\\" -O3 -Wall -c context_id.cpp -o context_id.o >/dev/null 2>&1\n",
            "/bin/bash ../libtool --tag=CXX   --mode=compile g++ -DHAVE_CONFIG_H -I. -I.. -DDIC_VERSION=102   -DMECAB_DEFAULT_RC=\"\\\"/usr/local/etc/mecabrc\\\"\"    -O3 -Wall  -c -o connector.lo connector.cpp\n",
            "libtool: compile:  g++ -DHAVE_CONFIG_H -I. -I.. -DDIC_VERSION=102 -DMECAB_DEFAULT_RC=\\\"/usr/local/etc/mecabrc\\\" -O3 -Wall -c connector.cpp  -fPIC -DPIC -o .libs/connector.o\n",
            "libtool: compile:  g++ -DHAVE_CONFIG_H -I. -I.. -DDIC_VERSION=102 -DMECAB_DEFAULT_RC=\\\"/usr/local/etc/mecabrc\\\" -O3 -Wall -c connector.cpp -o connector.o >/dev/null 2>&1\n",
            "/bin/bash ../libtool --tag=CXX   --mode=compile g++ -DHAVE_CONFIG_H -I. -I.. -DDIC_VERSION=102   -DMECAB_DEFAULT_RC=\"\\\"/usr/local/etc/mecabrc\\\"\"    -O3 -Wall  -c -o nbest_generator.lo nbest_generator.cpp\n",
            "libtool: compile:  g++ -DHAVE_CONFIG_H -I. -I.. -DDIC_VERSION=102 -DMECAB_DEFAULT_RC=\\\"/usr/local/etc/mecabrc\\\" -O3 -Wall -c nbest_generator.cpp  -fPIC -DPIC -o .libs/nbest_generator.o\n",
            "libtool: compile:  g++ -DHAVE_CONFIG_H -I. -I.. -DDIC_VERSION=102 -DMECAB_DEFAULT_RC=\\\"/usr/local/etc/mecabrc\\\" -O3 -Wall -c nbest_generator.cpp -o nbest_generator.o >/dev/null 2>&1\n",
            "/bin/bash ../libtool --tag=CXX   --mode=compile g++ -DHAVE_CONFIG_H -I. -I.. -DDIC_VERSION=102   -DMECAB_DEFAULT_RC=\"\\\"/usr/local/etc/mecabrc\\\"\"    -O3 -Wall  -c -o writer.lo writer.cpp\n",
            "libtool: compile:  g++ -DHAVE_CONFIG_H -I. -I.. -DDIC_VERSION=102 -DMECAB_DEFAULT_RC=\\\"/usr/local/etc/mecabrc\\\" -O3 -Wall -c writer.cpp  -fPIC -DPIC -o .libs/writer.o\n",
            "libtool: compile:  g++ -DHAVE_CONFIG_H -I. -I.. -DDIC_VERSION=102 -DMECAB_DEFAULT_RC=\\\"/usr/local/etc/mecabrc\\\" -O3 -Wall -c writer.cpp -o writer.o >/dev/null 2>&1\n",
            "/bin/bash ../libtool --tag=CXX   --mode=compile g++ -DHAVE_CONFIG_H -I. -I.. -DDIC_VERSION=102   -DMECAB_DEFAULT_RC=\"\\\"/usr/local/etc/mecabrc\\\"\"    -O3 -Wall  -c -o string_buffer.lo string_buffer.cpp\n",
            "libtool: compile:  g++ -DHAVE_CONFIG_H -I. -I.. -DDIC_VERSION=102 -DMECAB_DEFAULT_RC=\\\"/usr/local/etc/mecabrc\\\" -O3 -Wall -c string_buffer.cpp  -fPIC -DPIC -o .libs/string_buffer.o\n",
            "libtool: compile:  g++ -DHAVE_CONFIG_H -I. -I.. -DDIC_VERSION=102 -DMECAB_DEFAULT_RC=\\\"/usr/local/etc/mecabrc\\\" -O3 -Wall -c string_buffer.cpp -o string_buffer.o >/dev/null 2>&1\n",
            "/bin/bash ../libtool --tag=CXX   --mode=compile g++ -DHAVE_CONFIG_H -I. -I.. -DDIC_VERSION=102   -DMECAB_DEFAULT_RC=\"\\\"/usr/local/etc/mecabrc\\\"\"    -O3 -Wall  -c -o param.lo param.cpp\n",
            "libtool: compile:  g++ -DHAVE_CONFIG_H -I. -I.. -DDIC_VERSION=102 -DMECAB_DEFAULT_RC=\\\"/usr/local/etc/mecabrc\\\" -O3 -Wall -c param.cpp  -fPIC -DPIC -o .libs/param.o\n",
            "libtool: compile:  g++ -DHAVE_CONFIG_H -I. -I.. -DDIC_VERSION=102 -DMECAB_DEFAULT_RC=\\\"/usr/local/etc/mecabrc\\\" -O3 -Wall -c param.cpp -o param.o >/dev/null 2>&1\n",
            "/bin/bash ../libtool --tag=CXX   --mode=compile g++ -DHAVE_CONFIG_H -I. -I.. -DDIC_VERSION=102   -DMECAB_DEFAULT_RC=\"\\\"/usr/local/etc/mecabrc\\\"\"    -O3 -Wall  -c -o tokenizer.lo tokenizer.cpp\n",
            "libtool: compile:  g++ -DHAVE_CONFIG_H -I. -I.. -DDIC_VERSION=102 -DMECAB_DEFAULT_RC=\\\"/usr/local/etc/mecabrc\\\" -O3 -Wall -c tokenizer.cpp  -fPIC -DPIC -o .libs/tokenizer.o\n",
            "libtool: compile:  g++ -DHAVE_CONFIG_H -I. -I.. -DDIC_VERSION=102 -DMECAB_DEFAULT_RC=\\\"/usr/local/etc/mecabrc\\\" -O3 -Wall -c tokenizer.cpp -o tokenizer.o >/dev/null 2>&1\n",
            "/bin/bash ../libtool --tag=CXX   --mode=compile g++ -DHAVE_CONFIG_H -I. -I.. -DDIC_VERSION=102   -DMECAB_DEFAULT_RC=\"\\\"/usr/local/etc/mecabrc\\\"\"    -O3 -Wall  -c -o char_property.lo char_property.cpp\n",
            "libtool: compile:  g++ -DHAVE_CONFIG_H -I. -I.. -DDIC_VERSION=102 -DMECAB_DEFAULT_RC=\\\"/usr/local/etc/mecabrc\\\" -O3 -Wall -c char_property.cpp  -fPIC -DPIC -o .libs/char_property.o\n",
            "libtool: compile:  g++ -DHAVE_CONFIG_H -I. -I.. -DDIC_VERSION=102 -DMECAB_DEFAULT_RC=\\\"/usr/local/etc/mecabrc\\\" -O3 -Wall -c char_property.cpp -o char_property.o >/dev/null 2>&1\n",
            "/bin/bash ../libtool --tag=CXX   --mode=compile g++ -DHAVE_CONFIG_H -I. -I.. -DDIC_VERSION=102   -DMECAB_DEFAULT_RC=\"\\\"/usr/local/etc/mecabrc\\\"\"    -O3 -Wall  -c -o dictionary.lo dictionary.cpp\n",
            "libtool: compile:  g++ -DHAVE_CONFIG_H -I. -I.. -DDIC_VERSION=102 -DMECAB_DEFAULT_RC=\\\"/usr/local/etc/mecabrc\\\" -O3 -Wall -c dictionary.cpp  -fPIC -DPIC -o .libs/dictionary.o\n",
            "libtool: compile:  g++ -DHAVE_CONFIG_H -I. -I.. -DDIC_VERSION=102 -DMECAB_DEFAULT_RC=\\\"/usr/local/etc/mecabrc\\\" -O3 -Wall -c dictionary.cpp -o dictionary.o >/dev/null 2>&1\n",
            "/bin/bash ../libtool --tag=CXX   --mode=compile g++ -DHAVE_CONFIG_H -I. -I.. -DDIC_VERSION=102   -DMECAB_DEFAULT_RC=\"\\\"/usr/local/etc/mecabrc\\\"\"    -O3 -Wall  -c -o feature_index.lo feature_index.cpp\n",
            "libtool: compile:  g++ -DHAVE_CONFIG_H -I. -I.. -DDIC_VERSION=102 -DMECAB_DEFAULT_RC=\\\"/usr/local/etc/mecabrc\\\" -O3 -Wall -c feature_index.cpp  -fPIC -DPIC -o .libs/feature_index.o\n",
            "libtool: compile:  g++ -DHAVE_CONFIG_H -I. -I.. -DDIC_VERSION=102 -DMECAB_DEFAULT_RC=\\\"/usr/local/etc/mecabrc\\\" -O3 -Wall -c feature_index.cpp -o feature_index.o >/dev/null 2>&1\n",
            "/bin/bash ../libtool --tag=CXX   --mode=compile g++ -DHAVE_CONFIG_H -I. -I.. -DDIC_VERSION=102   -DMECAB_DEFAULT_RC=\"\\\"/usr/local/etc/mecabrc\\\"\"    -O3 -Wall  -c -o lbfgs.lo lbfgs.cpp\n",
            "libtool: compile:  g++ -DHAVE_CONFIG_H -I. -I.. -DDIC_VERSION=102 -DMECAB_DEFAULT_RC=\\\"/usr/local/etc/mecabrc\\\" -O3 -Wall -c lbfgs.cpp  -fPIC -DPIC -o .libs/lbfgs.o\n",
            "libtool: compile:  g++ -DHAVE_CONFIG_H -I. -I.. -DDIC_VERSION=102 -DMECAB_DEFAULT_RC=\\\"/usr/local/etc/mecabrc\\\" -O3 -Wall -c lbfgs.cpp -o lbfgs.o >/dev/null 2>&1\n",
            "/bin/bash ../libtool --tag=CXX   --mode=compile g++ -DHAVE_CONFIG_H -I. -I.. -DDIC_VERSION=102   -DMECAB_DEFAULT_RC=\"\\\"/usr/local/etc/mecabrc\\\"\"    -O3 -Wall  -c -o learner_tagger.lo learner_tagger.cpp\n",
            "libtool: compile:  g++ -DHAVE_CONFIG_H -I. -I.. -DDIC_VERSION=102 -DMECAB_DEFAULT_RC=\\\"/usr/local/etc/mecabrc\\\" -O3 -Wall -c learner_tagger.cpp  -fPIC -DPIC -o .libs/learner_tagger.o\n",
            "\u001b[01m\u001b[Klearner_tagger.cpp:25:7:\u001b[m\u001b[K \u001b[01;35m\u001b[Kwarning: \u001b[m\u001b[K'\u001b[01m\u001b[Kchar* MeCab::{anonymous}::mystrdup(const string&)\u001b[m\u001b[K' defined but not used [\u001b[01;35m\u001b[K-Wunused-function\u001b[m\u001b[K]\n",
            " char *\u001b[01;35m\u001b[Kmystrdup\u001b[m\u001b[K(const std::string &str) {\n",
            "       \u001b[01;35m\u001b[K^~~~~~~~\u001b[m\u001b[K\n",
            "libtool: compile:  g++ -DHAVE_CONFIG_H -I. -I.. -DDIC_VERSION=102 -DMECAB_DEFAULT_RC=\\\"/usr/local/etc/mecabrc\\\" -O3 -Wall -c learner_tagger.cpp -o learner_tagger.o >/dev/null 2>&1\n",
            "/bin/bash ../libtool --tag=CXX   --mode=compile g++ -DHAVE_CONFIG_H -I. -I.. -DDIC_VERSION=102   -DMECAB_DEFAULT_RC=\"\\\"/usr/local/etc/mecabrc\\\"\"    -O3 -Wall  -c -o learner.lo learner.cpp\n",
            "libtool: compile:  g++ -DHAVE_CONFIG_H -I. -I.. -DDIC_VERSION=102 -DMECAB_DEFAULT_RC=\\\"/usr/local/etc/mecabrc\\\" -O3 -Wall -c learner.cpp  -fPIC -DPIC -o .libs/learner.o\n",
            "libtool: compile:  g++ -DHAVE_CONFIG_H -I. -I.. -DDIC_VERSION=102 -DMECAB_DEFAULT_RC=\\\"/usr/local/etc/mecabrc\\\" -O3 -Wall -c learner.cpp -o learner.o >/dev/null 2>&1\n",
            "/bin/bash ../libtool --tag=CXX   --mode=compile g++ -DHAVE_CONFIG_H -I. -I.. -DDIC_VERSION=102   -DMECAB_DEFAULT_RC=\"\\\"/usr/local/etc/mecabrc\\\"\"    -O3 -Wall  -c -o libmecab.lo libmecab.cpp\n",
            "libtool: compile:  g++ -DHAVE_CONFIG_H -I. -I.. -DDIC_VERSION=102 -DMECAB_DEFAULT_RC=\\\"/usr/local/etc/mecabrc\\\" -O3 -Wall -c libmecab.cpp  -fPIC -DPIC -o .libs/libmecab.o\n",
            "libtool: compile:  g++ -DHAVE_CONFIG_H -I. -I.. -DDIC_VERSION=102 -DMECAB_DEFAULT_RC=\\\"/usr/local/etc/mecabrc\\\" -O3 -Wall -c libmecab.cpp -o libmecab.o >/dev/null 2>&1\n",
            "/bin/bash ../libtool --tag=CXX   --mode=link g++  -O3 -Wall  -no-undefined -version-info 2:0:0  -o libmecab.la -rpath /usr/local/lib viterbi.lo tagger.lo utils.lo eval.lo iconv_utils.lo dictionary_rewriter.lo dictionary_generator.lo dictionary_compiler.lo context_id.lo connector.lo nbest_generator.lo writer.lo string_buffer.lo param.lo tokenizer.lo char_property.lo dictionary.lo feature_index.lo lbfgs.lo learner_tagger.lo learner.lo libmecab.lo  -lpthread -lpthread  -lstdc++ \n",
            "libtool: link: g++  -fPIC -DPIC -shared -nostdlib /usr/lib/gcc/x86_64-linux-gnu/7/../../../x86_64-linux-gnu/crti.o /usr/lib/gcc/x86_64-linux-gnu/7/crtbeginS.o  .libs/viterbi.o .libs/tagger.o .libs/utils.o .libs/eval.o .libs/iconv_utils.o .libs/dictionary_rewriter.o .libs/dictionary_generator.o .libs/dictionary_compiler.o .libs/context_id.o .libs/connector.o .libs/nbest_generator.o .libs/writer.o .libs/string_buffer.o .libs/param.o .libs/tokenizer.o .libs/char_property.o .libs/dictionary.o .libs/feature_index.o .libs/lbfgs.o .libs/learner_tagger.o .libs/learner.o .libs/libmecab.o   -lpthread -L/usr/lib/gcc/x86_64-linux-gnu/7 -L/usr/lib/gcc/x86_64-linux-gnu/7/../../../x86_64-linux-gnu -L/usr/lib/gcc/x86_64-linux-gnu/7/../../../../lib -L/lib/x86_64-linux-gnu -L/lib/../lib -L/usr/lib/x86_64-linux-gnu -L/usr/lib/../lib -L/usr/local/cuda/lib64/stubs -L/usr/lib/gcc/x86_64-linux-gnu/7/../../.. -lstdc++ -lm -lc -lgcc_s /usr/lib/gcc/x86_64-linux-gnu/7/crtendS.o /usr/lib/gcc/x86_64-linux-gnu/7/../../../x86_64-linux-gnu/crtn.o  -O3   -Wl,-soname -Wl,libmecab.so.2 -o .libs/libmecab.so.2.0.0\n",
            "libtool: link: (cd \".libs\" && rm -f \"libmecab.so.2\" && ln -s \"libmecab.so.2.0.0\" \"libmecab.so.2\")\n",
            "libtool: link: (cd \".libs\" && rm -f \"libmecab.so\" && ln -s \"libmecab.so.2.0.0\" \"libmecab.so\")\n",
            "libtool: link: ar cru .libs/libmecab.a  viterbi.o tagger.o utils.o eval.o iconv_utils.o dictionary_rewriter.o dictionary_generator.o dictionary_compiler.o context_id.o connector.o nbest_generator.o writer.o string_buffer.o param.o tokenizer.o char_property.o dictionary.o feature_index.o lbfgs.o learner_tagger.o learner.o libmecab.o\n",
            "ar: `u' modifier ignored since `D' is the default (see `U')\n",
            "libtool: link: ranlib .libs/libmecab.a\n",
            "libtool: link: ( cd \".libs\" && rm -f \"libmecab.la\" && ln -s \"../libmecab.la\" \"libmecab.la\" )\n",
            "g++ -DHAVE_CONFIG_H -I. -I.. -DDIC_VERSION=102   -DMECAB_DEFAULT_RC=\"\\\"/usr/local/etc/mecabrc\\\"\"    -O3 -Wall  -c -o mecab.o mecab.cpp\n",
            "/bin/bash ../libtool --tag=CXX   --mode=link g++  -O3 -Wall    -o mecab mecab.o libmecab.la -lpthread -lpthread  -lstdc++ \n",
            "libtool: link: g++ -O3 -Wall -o .libs/mecab mecab.o  ./.libs/libmecab.so -lpthread -lstdc++\n",
            "g++ -DHAVE_CONFIG_H -I. -I.. -DDIC_VERSION=102   -DMECAB_DEFAULT_RC=\"\\\"/usr/local/etc/mecabrc\\\"\"    -O3 -Wall  -c -o mecab-dict-index.o mecab-dict-index.cpp\n",
            "/bin/bash ../libtool --tag=CXX   --mode=link g++  -O3 -Wall    -o mecab-dict-index mecab-dict-index.o libmecab.la -lpthread -lpthread  -lstdc++ \n",
            "libtool: link: g++ -O3 -Wall -o .libs/mecab-dict-index mecab-dict-index.o  ./.libs/libmecab.so -lpthread -lstdc++\n",
            "g++ -DHAVE_CONFIG_H -I. -I.. -DDIC_VERSION=102   -DMECAB_DEFAULT_RC=\"\\\"/usr/local/etc/mecabrc\\\"\"    -O3 -Wall  -c -o mecab-dict-gen.o mecab-dict-gen.cpp\n",
            "/bin/bash ../libtool --tag=CXX   --mode=link g++  -O3 -Wall    -o mecab-dict-gen mecab-dict-gen.o libmecab.la -lpthread -lpthread  -lstdc++ \n",
            "libtool: link: g++ -O3 -Wall -o .libs/mecab-dict-gen mecab-dict-gen.o  ./.libs/libmecab.so -lpthread -lstdc++\n",
            "g++ -DHAVE_CONFIG_H -I. -I.. -DDIC_VERSION=102   -DMECAB_DEFAULT_RC=\"\\\"/usr/local/etc/mecabrc\\\"\"    -O3 -Wall  -c -o mecab-cost-train.o mecab-cost-train.cpp\n",
            "/bin/bash ../libtool --tag=CXX   --mode=link g++  -O3 -Wall    -o mecab-cost-train mecab-cost-train.o libmecab.la -lpthread -lpthread  -lstdc++ \n",
            "libtool: link: g++ -O3 -Wall -o .libs/mecab-cost-train mecab-cost-train.o  ./.libs/libmecab.so -lpthread -lstdc++\n",
            "g++ -DHAVE_CONFIG_H -I. -I.. -DDIC_VERSION=102   -DMECAB_DEFAULT_RC=\"\\\"/usr/local/etc/mecabrc\\\"\"    -O3 -Wall  -c -o mecab-system-eval.o mecab-system-eval.cpp\n",
            "/bin/bash ../libtool --tag=CXX   --mode=link g++  -O3 -Wall    -o mecab-system-eval mecab-system-eval.o libmecab.la -lpthread -lpthread  -lstdc++ \n",
            "libtool: link: g++ -O3 -Wall -o .libs/mecab-system-eval mecab-system-eval.o  ./.libs/libmecab.so -lpthread -lstdc++\n",
            "g++ -DHAVE_CONFIG_H -I. -I.. -DDIC_VERSION=102   -DMECAB_DEFAULT_RC=\"\\\"/usr/local/etc/mecabrc\\\"\"    -O3 -Wall  -c -o mecab-test-gen.o mecab-test-gen.cpp\n",
            "/bin/bash ../libtool --tag=CXX   --mode=link g++  -O3 -Wall    -o mecab-test-gen mecab-test-gen.o libmecab.la -lpthread -lpthread  -lstdc++ \n",
            "libtool: link: g++ -O3 -Wall -o .libs/mecab-test-gen mecab-test-gen.o  ./.libs/libmecab.so -lpthread -lstdc++\n",
            "make[2]: Leaving directory '/tmp/mecab-0.996-ko-0.9.2/src'\n",
            "Making all in man\n",
            "make[2]: Entering directory '/tmp/mecab-0.996-ko-0.9.2/man'\n",
            "make[2]: Nothing to be done for 'all'.\n",
            "make[2]: Leaving directory '/tmp/mecab-0.996-ko-0.9.2/man'\n",
            "Making all in doc\n",
            "make[2]: Entering directory '/tmp/mecab-0.996-ko-0.9.2/doc'\n",
            "make[2]: Nothing to be done for 'all'.\n",
            "make[2]: Leaving directory '/tmp/mecab-0.996-ko-0.9.2/doc'\n",
            "Making all in tests\n",
            "make[2]: Entering directory '/tmp/mecab-0.996-ko-0.9.2/tests'\n",
            "make[2]: Nothing to be done for 'all'.\n",
            "make[2]: Leaving directory '/tmp/mecab-0.996-ko-0.9.2/tests'\n",
            "make[2]: Entering directory '/tmp/mecab-0.996-ko-0.9.2'\n",
            "make[2]: Leaving directory '/tmp/mecab-0.996-ko-0.9.2'\n",
            "make[1]: Leaving directory '/tmp/mecab-0.996-ko-0.9.2'\n",
            "Making check in src\n",
            "make[1]: Entering directory '/tmp/mecab-0.996-ko-0.9.2/src'\n",
            "make[1]: Nothing to be done for 'check'.\n",
            "make[1]: Leaving directory '/tmp/mecab-0.996-ko-0.9.2/src'\n",
            "Making check in man\n",
            "make[1]: Entering directory '/tmp/mecab-0.996-ko-0.9.2/man'\n",
            "make[1]: Nothing to be done for 'check'.\n",
            "make[1]: Leaving directory '/tmp/mecab-0.996-ko-0.9.2/man'\n",
            "Making check in doc\n",
            "make[1]: Entering directory '/tmp/mecab-0.996-ko-0.9.2/doc'\n",
            "make[1]: Nothing to be done for 'check'.\n",
            "make[1]: Leaving directory '/tmp/mecab-0.996-ko-0.9.2/doc'\n",
            "Making check in tests\n",
            "make[1]: Entering directory '/tmp/mecab-0.996-ko-0.9.2/tests'\n",
            "make  check-TESTS\n",
            "make[2]: Entering directory '/tmp/mecab-0.996-ko-0.9.2/tests'\n",
            "./pos-id.def is not found. minimum setting is used\n",
            "reading ./unk.def ... 2\n",
            "emitting double-array: 100% |###########################################| \n",
            "./model.def is not found. skipped.\n",
            "./pos-id.def is not found. minimum setting is used\n",
            "reading ./dic.csv ... 177\n",
            "emitting double-array: 100% |###########################################| \n",
            "reading ./matrix.def ... 178x178\n",
            "emitting matrix      : 100% |###########################################| \n",
            "\n",
            "done!\n",
            "./pos-id.def is not found. minimum setting is used\n",
            "reading ./unk.def ... 2\n",
            "emitting double-array: 100% |###########################################| \n",
            "./model.def is not found. skipped.\n",
            "./pos-id.def is not found. minimum setting is used\n",
            "reading ./dic.csv ... 83\n",
            "emitting double-array: 100% |###########################################| \n",
            "reading ./matrix.def ... 84x84\n",
            "emitting matrix      : 100% |###########################################| \n",
            "\n",
            "done!\n",
            "./pos-id.def is not found. minimum setting is used\n",
            "reading ./unk.def ... 2\n",
            "emitting double-array: 100% |###########################################| \n",
            "./model.def is not found. skipped.\n",
            "./pos-id.def is not found. minimum setting is used\n",
            "reading ./dic.csv ... 450\n",
            "emitting double-array: 100% |###########################################| \n",
            "reading ./matrix.def ... 1x1\n",
            "\n",
            "done!\n",
            "./pos-id.def is not found. minimum setting is used\n",
            "reading ./unk.def ... 2\n",
            "emitting double-array: 100% |###########################################| \n",
            "./model.def is not found. skipped.\n",
            "./pos-id.def is not found. minimum setting is used\n",
            "reading ./dic.csv ... 162\n",
            "emitting double-array: 100% |###########################################| \n",
            "reading ./matrix.def ... 3x3\n",
            "emitting matrix      : 100% |###########################################| \n",
            "\n",
            "done!\n",
            "./pos-id.def is not found. minimum setting is used\n",
            "reading ./unk.def ... 2\n",
            "emitting double-array: 100% |###########################################| \n",
            "./model.def is not found. skipped.\n",
            "./pos-id.def is not found. minimum setting is used\n",
            "reading ./dic.csv ... 4\n",
            "emitting double-array: 100% |###########################################| \n",
            "reading ./matrix.def ... 1x1\n",
            "\n",
            "done!\n",
            "./pos-id.def is not found. minimum setting is used\n",
            "reading ./unk.def ... 11\n",
            "emitting double-array: 100% |###########################################| \n",
            "./model.def is not found. skipped.\n",
            "./pos-id.def is not found. minimum setting is used\n",
            "reading ./dic.csv ... 1\n",
            "reading ./matrix.def ... 1x1\n",
            "\n",
            "done!\n",
            "./pos-id.def is not found. minimum setting is used\n",
            "reading ./unk.def ... 2\n",
            "emitting double-array: 100% |###########################################| \n",
            "./model.def is not found. skipped.\n",
            "./pos-id.def is not found. minimum setting is used\n",
            "reading ./dic.csv ... 1\n",
            "reading ./matrix.def ... 1x1\n",
            "\n",
            "done!\n",
            "PASS: run-dics.sh\n",
            "PASS: run-eval.sh\n",
            "seed/pos-id.def is not found. minimum setting is used\n",
            "reading seed/unk.def ... 40\n",
            "emitting double-array: 100% |###########################################| \n",
            "seed/model.def is not found. skipped.\n",
            "seed/pos-id.def is not found. minimum setting is used\n",
            "reading seed/dic.csv ... 4335\n",
            "emitting double-array: 100% |###########################################| \n",
            "reading seed/matrix.def ... 1x1\n",
            "\n",
            "done!\n",
            "reading corpus ...\n",
            "Number of sentences: 34\n",
            "Number of features:  64108\n",
            "eta:                 0.00005\n",
            "freq:                1\n",
            "eval-size:           6\n",
            "unk-eval-size:       4\n",
            "threads:             1\n",
            "charset:             EUC-JP\n",
            "C(sigma^2):          1.00000\n",
            "\n",
            "iter=0 err=1.00000 F=0.35771 target=2406.28355 diff=1.00000\n",
            "iter=1 err=0.97059 F=0.65652 target=1484.25231 diff=0.38318\n",
            "iter=2 err=0.91176 F=0.79331 target=863.32765 diff=0.41834\n",
            "iter=3 err=0.85294 F=0.89213 target=596.72480 diff=0.30881\n",
            "iter=4 err=0.61765 F=0.95467 target=336.30744 diff=0.43641\n",
            "iter=5 err=0.50000 F=0.96702 target=246.53039 diff=0.26695\n",
            "iter=6 err=0.35294 F=0.95472 target=188.93963 diff=0.23361\n",
            "iter=7 err=0.20588 F=0.99106 target=168.62665 diff=0.10751\n",
            "iter=8 err=0.05882 F=0.99777 target=158.64865 diff=0.05917\n",
            "iter=9 err=0.08824 F=0.99665 target=154.14530 diff=0.02839\n",
            "iter=10 err=0.08824 F=0.99665 target=151.94257 diff=0.01429\n",
            "iter=11 err=0.02941 F=0.99888 target=147.20825 diff=0.03116\n",
            "iter=12 err=0.00000 F=1.00000 target=147.34956 diff=0.00096\n",
            "iter=13 err=0.02941 F=0.99888 target=146.32592 diff=0.00695\n",
            "iter=14 err=0.00000 F=1.00000 target=145.77299 diff=0.00378\n",
            "iter=15 err=0.02941 F=0.99888 target=145.24641 diff=0.00361\n",
            "iter=16 err=0.00000 F=1.00000 target=144.96490 diff=0.00194\n",
            "iter=17 err=0.02941 F=0.99888 target=144.90246 diff=0.00043\n",
            "iter=18 err=0.00000 F=1.00000 target=144.75959 diff=0.00099\n",
            "iter=19 err=0.00000 F=1.00000 target=144.71727 diff=0.00029\n",
            "iter=20 err=0.00000 F=1.00000 target=144.66337 diff=0.00037\n",
            "iter=21 err=0.00000 F=1.00000 target=144.61349 diff=0.00034\n",
            "iter=22 err=0.00000 F=1.00000 target=144.62987 diff=0.00011\n",
            "iter=23 err=0.00000 F=1.00000 target=144.60060 diff=0.00020\n",
            "iter=24 err=0.00000 F=1.00000 target=144.59125 diff=0.00006\n",
            "iter=25 err=0.00000 F=1.00000 target=144.58619 diff=0.00004\n",
            "iter=26 err=0.00000 F=1.00000 target=144.58219 diff=0.00003\n",
            "iter=27 err=0.00000 F=1.00000 target=144.58059 diff=0.00001\n",
            "\n",
            "Done! writing model file ... \n",
            "model-ipadic.c1.0.f1.model is not a binary model. reopen it as text mode...\n",
            "reading seed/unk.def ... 40\n",
            "reading seed/dic.csv ... 4335\n",
            "emitting model-ipadic.c1.0.f1.dic/left-id.def/ model-ipadic.c1.0.f1.dic/right-id.def\n",
            "emitting model-ipadic.c1.0.f1.dic/unk.def ... 40\n",
            "emitting model-ipadic.c1.0.f1.dic/dic.csv ... 4335\n",
            "emitting matrix      : 100% |###########################################| \n",
            "copying seed/char.def to model-ipadic.c1.0.f1.dic/char.def\n",
            "copying seed/rewrite.def to model-ipadic.c1.0.f1.dic/rewrite.def\n",
            "copying seed/dicrc to model-ipadic.c1.0.f1.dic/dicrc\n",
            "copying seed/feature.def to model-ipadic.c1.0.f1.dic/feature.def\n",
            "copying model-ipadic.c1.0.f1.model to model-ipadic.c1.0.f1.dic/model.def\n",
            "\n",
            "done!\n",
            "model-ipadic.c1.0.f1.dic/pos-id.def is not found. minimum setting is used\n",
            "reading model-ipadic.c1.0.f1.dic/unk.def ... 40\n",
            "emitting double-array: 100% |###########################################| \n",
            "model-ipadic.c1.0.f1.dic/pos-id.def is not found. minimum setting is used\n",
            "reading model-ipadic.c1.0.f1.dic/dic.csv ... 4335\n",
            "emitting double-array: 100% |###########################################| \n",
            "reading model-ipadic.c1.0.f1.dic/matrix.def ... 346x346\n",
            "emitting matrix      : 100% |###########################################| \n",
            "\n",
            "done!\n",
            "              precision          recall         F\n",
            "LEVEL 0:    12.8959(57/442) 11.8998(57/479) 12.3779\n",
            "LEVEL 1:    12.2172(54/442) 11.2735(54/479) 11.7264\n",
            "LEVEL 2:    11.7647(52/442) 10.8559(52/479) 11.2921\n",
            "LEVEL 4:    11.7647(52/442) 10.8559(52/479) 11.2921\n",
            "PASS: run-cost-train.sh\n",
            "==================\n",
            "All 3 tests passed\n",
            "==================\n",
            "make[2]: Leaving directory '/tmp/mecab-0.996-ko-0.9.2/tests'\n",
            "make[1]: Leaving directory '/tmp/mecab-0.996-ko-0.9.2/tests'\n",
            "make[1]: Entering directory '/tmp/mecab-0.996-ko-0.9.2'\n",
            "make[1]: Leaving directory '/tmp/mecab-0.996-ko-0.9.2'\n",
            "Making install in src\n",
            "make[1]: Entering directory '/tmp/mecab-0.996-ko-0.9.2/src'\n",
            "make[2]: Entering directory '/tmp/mecab-0.996-ko-0.9.2/src'\n",
            "test -z \"/usr/local/lib\" || /bin/mkdir -p \"/usr/local/lib\"\n",
            " /bin/bash ../libtool   --mode=install /usr/bin/install -c   libmecab.la '/usr/local/lib'\n",
            "libtool: install: /usr/bin/install -c .libs/libmecab.so.2.0.0 /usr/local/lib/libmecab.so.2.0.0\n",
            "libtool: install: (cd /usr/local/lib && { ln -s -f libmecab.so.2.0.0 libmecab.so.2 || { rm -f libmecab.so.2 && ln -s libmecab.so.2.0.0 libmecab.so.2; }; })\n",
            "libtool: install: (cd /usr/local/lib && { ln -s -f libmecab.so.2.0.0 libmecab.so || { rm -f libmecab.so && ln -s libmecab.so.2.0.0 libmecab.so; }; })\n",
            "libtool: install: /usr/bin/install -c .libs/libmecab.lai /usr/local/lib/libmecab.la\n",
            "libtool: install: /usr/bin/install -c .libs/libmecab.a /usr/local/lib/libmecab.a\n",
            "libtool: install: chmod 644 /usr/local/lib/libmecab.a\n",
            "libtool: install: ranlib /usr/local/lib/libmecab.a\n",
            "libtool: finish: PATH=\"/opt/bin:/usr/local/nvidia/bin:/usr/local/cuda/bin:/usr/local/sbin:/usr/local/bin:/usr/sbin:/usr/bin:/sbin:/bin:/tools/node/bin:/tools/google-cloud-sdk/bin:/sbin\" ldconfig -n /usr/local/lib\n",
            "----------------------------------------------------------------------\n",
            "Libraries have been installed in:\n",
            "   /usr/local/lib\n",
            "\n",
            "If you ever happen to want to link against installed libraries\n",
            "in a given directory, LIBDIR, you must either use libtool, and\n",
            "specify the full pathname of the library, or use the `-LLIBDIR'\n",
            "flag during linking and do at least one of the following:\n",
            "   - add LIBDIR to the `LD_LIBRARY_PATH' environment variable\n",
            "     during execution\n",
            "   - add LIBDIR to the `LD_RUN_PATH' environment variable\n",
            "     during linking\n",
            "   - use the `-Wl,-rpath -Wl,LIBDIR' linker flag\n",
            "   - have your system administrator add LIBDIR to `/etc/ld.so.conf'\n",
            "\n",
            "See any operating system documentation about shared libraries for\n",
            "more information, such as the ld(1) and ld.so(8) manual pages.\n",
            "----------------------------------------------------------------------\n",
            "test -z \"/usr/local/bin\" || /bin/mkdir -p \"/usr/local/bin\"\n",
            "  /bin/bash ../libtool   --mode=install /usr/bin/install -c mecab '/usr/local/bin'\n",
            "libtool: install: /usr/bin/install -c .libs/mecab /usr/local/bin/mecab\n",
            "test -z \"/usr/local/libexec/mecab\" || /bin/mkdir -p \"/usr/local/libexec/mecab\"\n",
            "  /bin/bash ../libtool   --mode=install /usr/bin/install -c mecab-dict-index mecab-dict-gen mecab-cost-train mecab-system-eval mecab-test-gen '/usr/local/libexec/mecab'\n",
            "libtool: install: /usr/bin/install -c .libs/mecab-dict-index /usr/local/libexec/mecab/mecab-dict-index\n",
            "libtool: install: /usr/bin/install -c .libs/mecab-dict-gen /usr/local/libexec/mecab/mecab-dict-gen\n",
            "libtool: install: /usr/bin/install -c .libs/mecab-cost-train /usr/local/libexec/mecab/mecab-cost-train\n",
            "libtool: install: /usr/bin/install -c .libs/mecab-system-eval /usr/local/libexec/mecab/mecab-system-eval\n",
            "libtool: install: /usr/bin/install -c .libs/mecab-test-gen /usr/local/libexec/mecab/mecab-test-gen\n",
            "test -z \"/usr/local/include\" || /bin/mkdir -p \"/usr/local/include\"\n",
            " /usr/bin/install -c -m 644 mecab.h '/usr/local/include'\n",
            "make[2]: Leaving directory '/tmp/mecab-0.996-ko-0.9.2/src'\n",
            "make[1]: Leaving directory '/tmp/mecab-0.996-ko-0.9.2/src'\n",
            "Making install in man\n",
            "make[1]: Entering directory '/tmp/mecab-0.996-ko-0.9.2/man'\n",
            "make[2]: Entering directory '/tmp/mecab-0.996-ko-0.9.2/man'\n",
            "make[2]: Nothing to be done for 'install-exec-am'.\n",
            "test -z \"/usr/local/share/man/man1\" || /bin/mkdir -p \"/usr/local/share/man/man1\"\n",
            " /usr/bin/install -c -m 644 mecab.1 '/usr/local/share/man/man1'\n",
            "make[2]: Leaving directory '/tmp/mecab-0.996-ko-0.9.2/man'\n",
            "make[1]: Leaving directory '/tmp/mecab-0.996-ko-0.9.2/man'\n",
            "Making install in doc\n",
            "make[1]: Entering directory '/tmp/mecab-0.996-ko-0.9.2/doc'\n",
            "make[2]: Entering directory '/tmp/mecab-0.996-ko-0.9.2/doc'\n",
            "make[2]: Nothing to be done for 'install-exec-am'.\n",
            "make[2]: Nothing to be done for 'install-data-am'.\n",
            "make[2]: Leaving directory '/tmp/mecab-0.996-ko-0.9.2/doc'\n",
            "make[1]: Leaving directory '/tmp/mecab-0.996-ko-0.9.2/doc'\n",
            "Making install in tests\n",
            "make[1]: Entering directory '/tmp/mecab-0.996-ko-0.9.2/tests'\n",
            "make[2]: Entering directory '/tmp/mecab-0.996-ko-0.9.2/tests'\n",
            "make[2]: Nothing to be done for 'install-exec-am'.\n",
            "make[2]: Nothing to be done for 'install-data-am'.\n",
            "make[2]: Leaving directory '/tmp/mecab-0.996-ko-0.9.2/tests'\n",
            "make[1]: Leaving directory '/tmp/mecab-0.996-ko-0.9.2/tests'\n",
            "make[1]: Entering directory '/tmp/mecab-0.996-ko-0.9.2'\n",
            "make[2]: Entering directory '/tmp/mecab-0.996-ko-0.9.2'\n",
            "test -z \"/usr/local/bin\" || /bin/mkdir -p \"/usr/local/bin\"\n",
            " /usr/bin/install -c mecab-config '/usr/local/bin'\n",
            "test -z \"/usr/local/etc\" || /bin/mkdir -p \"/usr/local/etc\"\n",
            " /usr/bin/install -c -m 644 mecabrc '/usr/local/etc'\n",
            "make[2]: Leaving directory '/tmp/mecab-0.996-ko-0.9.2'\n",
            "make[1]: Leaving directory '/tmp/mecab-0.996-ko-0.9.2'\n",
            "/sbin/ldconfig.real: /usr/local/lib/python3.7/dist-packages/ideep4py/lib/libmkldnn.so.0 is not a symbolic link\n",
            "\n",
            "--2022-03-25 00:16:59--  https://www.dropbox.com/s/i8girnk5p80076c/mecab-ko-dic-2.1.1-20180720.tar.gz?dl=1\n",
            "Resolving www.dropbox.com (www.dropbox.com)... 162.125.5.18, 2620:100:601d:18::a27d:512\n",
            "Connecting to www.dropbox.com (www.dropbox.com)|162.125.5.18|:443... connected.\n",
            "HTTP request sent, awaiting response... 301 Moved Permanently\n",
            "Location: /s/dl/i8girnk5p80076c/mecab-ko-dic-2.1.1-20180720.tar.gz [following]\n",
            "--2022-03-25 00:17:00--  https://www.dropbox.com/s/dl/i8girnk5p80076c/mecab-ko-dic-2.1.1-20180720.tar.gz\n",
            "Reusing existing connection to www.dropbox.com:443.\n",
            "HTTP request sent, awaiting response... 302 Found\n",
            "Location: https://uc318389f6f1003271a55a97efaf.dl.dropboxusercontent.com/cd/0/get/BiGgB7eWrtA_AESoKgrWxJhXDm5Vcpi0MUEIMi9Lic7nwaTIhRe-vwq3XoVeDPiGGVpLvKiXjVvbE7W2REYIM2zzEAugOFhn_jFl07soc6fScIEPvp8JO-AXmPdQxGneZCsy6HCbYuA5sR7Hj4VKEu20lncfSPgVI4FTTteflwcNKfeVOegevycd0AwDVwCfsB4/file?dl=1# [following]\n",
            "--2022-03-25 00:17:00--  https://uc318389f6f1003271a55a97efaf.dl.dropboxusercontent.com/cd/0/get/BiGgB7eWrtA_AESoKgrWxJhXDm5Vcpi0MUEIMi9Lic7nwaTIhRe-vwq3XoVeDPiGGVpLvKiXjVvbE7W2REYIM2zzEAugOFhn_jFl07soc6fScIEPvp8JO-AXmPdQxGneZCsy6HCbYuA5sR7Hj4VKEu20lncfSPgVI4FTTteflwcNKfeVOegevycd0AwDVwCfsB4/file?dl=1\n",
            "Resolving uc318389f6f1003271a55a97efaf.dl.dropboxusercontent.com (uc318389f6f1003271a55a97efaf.dl.dropboxusercontent.com)... 162.125.5.15, 2620:100:601d:15::a27d:50f\n",
            "Connecting to uc318389f6f1003271a55a97efaf.dl.dropboxusercontent.com (uc318389f6f1003271a55a97efaf.dl.dropboxusercontent.com)|162.125.5.15|:443... connected.\n",
            "HTTP request sent, awaiting response... 200 OK\n",
            "Length: 49775061 (47M) [application/binary]\n",
            "Saving to: ‘mecab-ko-dic-2.1.1-20180720.tar.gz?dl=1’\n",
            "\n",
            "mecab-ko-dic-2.1.1- 100%[===================>]  47.47M  61.2MB/s    in 0.8s    \n",
            "\n",
            "2022-03-25 00:17:02 (61.2 MB/s) - ‘mecab-ko-dic-2.1.1-20180720.tar.gz?dl=1’ saved [49775061/49775061]\n",
            "\n",
            "Reading package lists... Done\n",
            "Building dependency tree       \n",
            "Reading state information... Done\n",
            "The following additional packages will be installed:\n",
            "  automake autotools-dev libsigsegv2 m4\n",
            "Suggested packages:\n",
            "  autoconf-archive gnu-standards autoconf-doc libtool gettext m4-doc\n",
            "The following NEW packages will be installed:\n",
            "  autoconf automake autotools-dev libsigsegv2 m4\n",
            "0 upgraded, 5 newly installed, 0 to remove and 39 not upgraded.\n",
            "Need to get 1,082 kB of archives.\n",
            "After this operation, 3,994 kB of additional disk space will be used.\n",
            "Get:1 http://archive.ubuntu.com/ubuntu bionic/main amd64 libsigsegv2 amd64 2.12-1 [14.7 kB]\n",
            "Get:2 http://archive.ubuntu.com/ubuntu bionic/main amd64 m4 amd64 1.4.18-1 [197 kB]\n",
            "Get:3 http://archive.ubuntu.com/ubuntu bionic/main amd64 autoconf all 2.69-11 [322 kB]\n",
            "Get:4 http://archive.ubuntu.com/ubuntu bionic/main amd64 autotools-dev all 20180224.1 [39.6 kB]\n",
            "Get:5 http://archive.ubuntu.com/ubuntu bionic/main amd64 automake all 1:1.15.1-3ubuntu2 [509 kB]\n",
            "Fetched 1,082 kB in 0s (2,582 kB/s)\n",
            "Selecting previously unselected package libsigsegv2:amd64.\n",
            "(Reading database ... 156210 files and directories currently installed.)\n",
            "Preparing to unpack .../libsigsegv2_2.12-1_amd64.deb ...\n",
            "Unpacking libsigsegv2:amd64 (2.12-1) ...\n",
            "Selecting previously unselected package m4.\n",
            "Preparing to unpack .../archives/m4_1.4.18-1_amd64.deb ...\n",
            "Unpacking m4 (1.4.18-1) ...\n",
            "Selecting previously unselected package autoconf.\n",
            "Preparing to unpack .../autoconf_2.69-11_all.deb ...\n",
            "Unpacking autoconf (2.69-11) ...\n",
            "Selecting previously unselected package autotools-dev.\n",
            "Preparing to unpack .../autotools-dev_20180224.1_all.deb ...\n",
            "Unpacking autotools-dev (20180224.1) ...\n",
            "Selecting previously unselected package automake.\n",
            "Preparing to unpack .../automake_1%3a1.15.1-3ubuntu2_all.deb ...\n",
            "Unpacking automake (1:1.15.1-3ubuntu2) ...\n",
            "Setting up libsigsegv2:amd64 (2.12-1) ...\n",
            "Setting up m4 (1.4.18-1) ...\n",
            "Setting up autotools-dev (20180224.1) ...\n",
            "Setting up autoconf (2.69-11) ...\n",
            "Setting up automake (1:1.15.1-3ubuntu2) ...\n",
            "update-alternatives: using /usr/bin/automake-1.15 to provide /usr/bin/automake (automake) in auto mode\n",
            "Processing triggers for libc-bin (2.27-3ubuntu1.3) ...\n",
            "/sbin/ldconfig.real: /usr/local/lib/python3.7/dist-packages/ideep4py/lib/libmkldnn.so.0 is not a symbolic link\n",
            "\n",
            "Processing triggers for man-db (2.8.3-2ubuntu0.1) ...\n",
            "mecab-ko-dic-2.1.1-20180720/\n",
            "mecab-ko-dic-2.1.1-20180720/configure\n",
            "mecab-ko-dic-2.1.1-20180720/COPYING\n",
            "mecab-ko-dic-2.1.1-20180720/autogen.sh\n",
            "mecab-ko-dic-2.1.1-20180720/Place-station.csv\n",
            "mecab-ko-dic-2.1.1-20180720/NNG.csv\n",
            "mecab-ko-dic-2.1.1-20180720/README\n",
            "mecab-ko-dic-2.1.1-20180720/EF.csv\n",
            "mecab-ko-dic-2.1.1-20180720/MAG.csv\n",
            "mecab-ko-dic-2.1.1-20180720/Preanalysis.csv\n",
            "mecab-ko-dic-2.1.1-20180720/NNB.csv\n",
            "mecab-ko-dic-2.1.1-20180720/Person-actor.csv\n",
            "mecab-ko-dic-2.1.1-20180720/VV.csv\n",
            "mecab-ko-dic-2.1.1-20180720/Makefile.in\n",
            "mecab-ko-dic-2.1.1-20180720/matrix.def\n",
            "mecab-ko-dic-2.1.1-20180720/EC.csv\n",
            "mecab-ko-dic-2.1.1-20180720/NNBC.csv\n",
            "mecab-ko-dic-2.1.1-20180720/clean\n",
            "mecab-ko-dic-2.1.1-20180720/ChangeLog\n",
            "mecab-ko-dic-2.1.1-20180720/J.csv\n",
            "mecab-ko-dic-2.1.1-20180720/.keep\n",
            "mecab-ko-dic-2.1.1-20180720/feature.def\n",
            "mecab-ko-dic-2.1.1-20180720/Foreign.csv\n",
            "mecab-ko-dic-2.1.1-20180720/XPN.csv\n",
            "mecab-ko-dic-2.1.1-20180720/EP.csv\n",
            "mecab-ko-dic-2.1.1-20180720/NR.csv\n",
            "mecab-ko-dic-2.1.1-20180720/left-id.def\n",
            "mecab-ko-dic-2.1.1-20180720/Place.csv\n",
            "mecab-ko-dic-2.1.1-20180720/Symbol.csv\n",
            "mecab-ko-dic-2.1.1-20180720/dicrc\n",
            "mecab-ko-dic-2.1.1-20180720/NP.csv\n",
            "mecab-ko-dic-2.1.1-20180720/ETM.csv\n",
            "mecab-ko-dic-2.1.1-20180720/IC.csv\n",
            "mecab-ko-dic-2.1.1-20180720/Place-address.csv\n",
            "mecab-ko-dic-2.1.1-20180720/Group.csv\n",
            "mecab-ko-dic-2.1.1-20180720/model.def\n",
            "mecab-ko-dic-2.1.1-20180720/XSN.csv\n",
            "mecab-ko-dic-2.1.1-20180720/INSTALL\n",
            "mecab-ko-dic-2.1.1-20180720/rewrite.def\n",
            "mecab-ko-dic-2.1.1-20180720/Inflect.csv\n",
            "mecab-ko-dic-2.1.1-20180720/configure.ac\n",
            "mecab-ko-dic-2.1.1-20180720/NNP.csv\n",
            "mecab-ko-dic-2.1.1-20180720/CoinedWord.csv\n",
            "mecab-ko-dic-2.1.1-20180720/XSV.csv\n",
            "mecab-ko-dic-2.1.1-20180720/pos-id.def\n",
            "mecab-ko-dic-2.1.1-20180720/Makefile.am\n",
            "mecab-ko-dic-2.1.1-20180720/unk.def\n",
            "mecab-ko-dic-2.1.1-20180720/missing\n",
            "mecab-ko-dic-2.1.1-20180720/VCP.csv\n",
            "mecab-ko-dic-2.1.1-20180720/install-sh\n",
            "mecab-ko-dic-2.1.1-20180720/Hanja.csv\n",
            "mecab-ko-dic-2.1.1-20180720/MAJ.csv\n",
            "mecab-ko-dic-2.1.1-20180720/XSA.csv\n",
            "mecab-ko-dic-2.1.1-20180720/Wikipedia.csv\n",
            "mecab-ko-dic-2.1.1-20180720/tools/\n",
            "mecab-ko-dic-2.1.1-20180720/tools/add-userdic.sh\n",
            "mecab-ko-dic-2.1.1-20180720/tools/mecab-bestn.sh\n",
            "mecab-ko-dic-2.1.1-20180720/tools/convert_for_using_store.sh\n",
            "mecab-ko-dic-2.1.1-20180720/user-dic/\n",
            "mecab-ko-dic-2.1.1-20180720/user-dic/nnp.csv\n",
            "mecab-ko-dic-2.1.1-20180720/user-dic/place.csv\n",
            "mecab-ko-dic-2.1.1-20180720/user-dic/person.csv\n",
            "mecab-ko-dic-2.1.1-20180720/user-dic/README.md\n",
            "mecab-ko-dic-2.1.1-20180720/NorthKorea.csv\n",
            "mecab-ko-dic-2.1.1-20180720/VX.csv\n",
            "mecab-ko-dic-2.1.1-20180720/right-id.def\n",
            "mecab-ko-dic-2.1.1-20180720/VA.csv\n",
            "mecab-ko-dic-2.1.1-20180720/char.def\n",
            "mecab-ko-dic-2.1.1-20180720/NEWS\n",
            "mecab-ko-dic-2.1.1-20180720/MM.csv\n",
            "mecab-ko-dic-2.1.1-20180720/ETN.csv\n",
            "mecab-ko-dic-2.1.1-20180720/AUTHORS\n",
            "mecab-ko-dic-2.1.1-20180720/Person.csv\n",
            "mecab-ko-dic-2.1.1-20180720/XR.csv\n",
            "mecab-ko-dic-2.1.1-20180720/VCN.csv\n",
            "Looking in current directory for macros.\n",
            "configure.ac:2: warning: AM_INIT_AUTOMAKE: two- and three-arguments forms are deprecated.  For more info, see:\n",
            "configure.ac:2: http://www.gnu.org/software/automake/manual/automake.html#Modernize-AM_005fINIT_005fAUTOMAKE-invocation\n",
            "checking for a BSD-compatible install... /usr/bin/install -c\n",
            "checking whether build environment is sane... yes\n",
            "/tmp/mecab-ko-dic-2.1.1-20180720/missing: Unknown `--is-lightweight' option\n",
            "Try `/tmp/mecab-ko-dic-2.1.1-20180720/missing --help' for more information\n",
            "configure: WARNING: 'missing' script is too old or missing\n",
            "checking for a thread-safe mkdir -p... /bin/mkdir -p\n",
            "checking for gawk... no\n",
            "checking for mawk... mawk\n",
            "checking whether make sets $(MAKE)... yes\n",
            "checking whether make supports nested variables... yes\n",
            "checking for mecab-config... /usr/local/bin/mecab-config\n",
            "checking that generated files are newer than configure... done\n",
            "configure: creating ./config.status\n",
            "config.status: creating Makefile\n",
            "/usr/local/libexec/mecab/mecab-dict-index -d . -o . -f UTF-8 -t UTF-8\n",
            "reading ./unk.def ... 13\n",
            "emitting double-array: 100% |###########################################| \n",
            "reading ./XR.csv ... 3637\n",
            "reading ./MAG.csv ... 14242\n",
            "reading ./NNB.csv ... 140\n",
            "reading ./XSV.csv ... 23\n",
            "reading ./CoinedWord.csv ... 148\n",
            "reading ./MAJ.csv ... 240\n",
            "reading ./Place.csv ... 30303\n",
            "reading ./NNBC.csv ... 677\n",
            "reading ./EC.csv ... 2547\n",
            "reading ./IC.csv ... 1305\n",
            "reading ./J.csv ... 416\n",
            "reading ./XPN.csv ... 83\n",
            "reading ./NorthKorea.csv ... 3\n",
            "reading ./EF.csv ... 1820\n",
            "reading ./NNP.csv ... 2371\n",
            "reading ./NR.csv ... 482\n",
            "reading ./VCP.csv ... 9\n",
            "reading ./VV.csv ... 7331\n",
            "reading ./MM.csv ... 453\n",
            "reading ./VA.csv ... 2360\n",
            "reading ./Preanalysis.csv ... 5\n",
            "reading ./Wikipedia.csv ... 36762\n",
            "reading ./NP.csv ... 342\n",
            "reading ./VX.csv ... 125\n",
            "reading ./XSA.csv ... 19\n",
            "reading ./Person.csv ... 196459\n",
            "reading ./VCN.csv ... 7\n",
            "reading ./NNG.csv ... 208524\n",
            "reading ./Group.csv ... 3176\n",
            "reading ./XSN.csv ... 124\n",
            "reading ./Symbol.csv ... 16\n",
            "reading ./Place-station.csv ... 1145\n",
            "reading ./Hanja.csv ... 125750\n",
            "reading ./ETN.csv ... 14\n",
            "reading ./Foreign.csv ... 11690\n",
            "reading ./Place-address.csv ... 19301\n",
            "reading ./Person-actor.csv ... 99230\n",
            "reading ./ETM.csv ... 133\n",
            "reading ./Inflect.csv ... 44820\n",
            "reading ./EP.csv ... 51\n",
            "emitting double-array: 100% |###########################################| \n",
            "reading ./matrix.def ... 3822x2693\n",
            "emitting matrix      : 100% |###########################################| \n",
            "\n",
            "done!\n",
            "echo To enable dictionary, rewrite /usr/local/etc/mecabrc as \\\"dicdir = /usr/local/lib/mecab/dic/mecab-ko-dic\\\"\n",
            "To enable dictionary, rewrite /usr/local/etc/mecabrc as \"dicdir = /usr/local/lib/mecab/dic/mecab-ko-dic\"\n",
            "make[1]: Entering directory '/tmp/mecab-ko-dic-2.1.1-20180720'\n",
            "make[1]: Nothing to be done for 'install-exec-am'.\n",
            " /bin/mkdir -p '/usr/local/lib/mecab/dic/mecab-ko-dic'\n",
            " /usr/bin/install -c -m 644 model.bin matrix.bin char.bin sys.dic unk.dic left-id.def right-id.def rewrite.def pos-id.def dicrc '/usr/local/lib/mecab/dic/mecab-ko-dic'\n",
            "make[1]: Leaving directory '/tmp/mecab-ko-dic-2.1.1-20180720'\n",
            "/sbin/ldconfig.real: /usr/local/lib/python3.7/dist-packages/ideep4py/lib/libmkldnn.so.0 is not a symbolic link\n",
            "\n",
            "Cloning into 'mecab-python-0.996'...\n",
            "Unpacking objects: 100% (17/17), done.\n",
            "running build\n",
            "running build_py\n",
            "creating build\n",
            "creating build/lib.linux-x86_64-3.7\n",
            "copying MeCab.py -> build/lib.linux-x86_64-3.7\n",
            "running build_ext\n",
            "building '_MeCab' extension\n",
            "creating build/temp.linux-x86_64-3.7\n",
            "x86_64-linux-gnu-gcc -pthread -Wno-unused-result -Wsign-compare -DNDEBUG -g -fwrapv -O2 -Wall -g -fdebug-prefix-map=/build/python3.7-dIfpci/python3.7-3.7.13=. -fstack-protector-strong -Wformat -Werror=format-security -g -fdebug-prefix-map=/build/python3.7-dIfpci/python3.7-3.7.13=. -fstack-protector-strong -Wformat -Werror=format-security -Wdate-time -D_FORTIFY_SOURCE=2 -fPIC -I/usr/local/include -I/usr/include/python3.7m -c MeCab_wrap.cxx -o build/temp.linux-x86_64-3.7/MeCab_wrap.o\n",
            "x86_64-linux-gnu-g++ -pthread -shared -Wl,-O1 -Wl,-Bsymbolic-functions -Wl,-Bsymbolic-functions -Wl,-z,relro -Wl,-Bsymbolic-functions -Wl,-z,relro -g -fdebug-prefix-map=/build/python3.7-dIfpci/python3.7-3.7.13=. -fstack-protector-strong -Wformat -Werror=format-security -Wdate-time -D_FORTIFY_SOURCE=2 build/temp.linux-x86_64-3.7/MeCab_wrap.o -L/usr/local/lib -lmecab -lstdc++ -o build/lib.linux-x86_64-3.7/_MeCab.cpython-37m-x86_64-linux-gnu.so\n",
            "running install\n",
            "running build\n",
            "running build_py\n",
            "running build_ext\n",
            "running install_lib\n",
            "copying build/lib.linux-x86_64-3.7/_MeCab.cpython-37m-x86_64-linux-gnu.so -> /usr/local/lib/python3.7/dist-packages\n",
            "copying build/lib.linux-x86_64-3.7/MeCab.py -> /usr/local/lib/python3.7/dist-packages\n",
            "byte-compiling /usr/local/lib/python3.7/dist-packages/MeCab.py to MeCab.cpython-37.pyc\n",
            "running install_egg_info\n",
            "Writing /usr/local/lib/python3.7/dist-packages/mecab_python-0.996_ko_0.9.2.egg-info\n",
            "Requirement already satisfied: konlpy in /usr/local/lib/python3.7/dist-packages (0.6.0)\n",
            "Requirement already satisfied: JPype1>=0.7.0 in /usr/local/lib/python3.7/dist-packages (from konlpy) (1.3.0)\n",
            "Requirement already satisfied: numpy>=1.6 in /usr/local/lib/python3.7/dist-packages (from konlpy) (1.21.5)\n",
            "Requirement already satisfied: lxml>=4.1.0 in /usr/local/lib/python3.7/dist-packages (from konlpy) (4.2.6)\n",
            "Requirement already satisfied: typing-extensions in /usr/local/lib/python3.7/dist-packages (from JPype1>=0.7.0->konlpy) (3.10.0.2)\n"
          ]
        }
      ]
    },
    {
      "cell_type": "code",
      "source": [
        ""
      ],
      "metadata": {
        "id": "Cz1v2AIu6zFs"
      },
      "execution_count": 4,
      "outputs": []
    },
    {
      "cell_type": "code",
      "source": [
        ""
      ],
      "metadata": {
        "id": "J4nTy-hD6zIf"
      },
      "execution_count": 4,
      "outputs": []
    },
    {
      "cell_type": "code",
      "source": [
        ""
      ],
      "metadata": {
        "id": "RQ1cREHH6zK3"
      },
      "execution_count": 4,
      "outputs": []
    },
    {
      "cell_type": "code",
      "source": [
        ""
      ],
      "metadata": {
        "id": "kOjIEyaX6zNi"
      },
      "execution_count": 4,
      "outputs": []
    },
    {
      "cell_type": "code",
      "source": [
        ""
      ],
      "metadata": {
        "id": "6PMEodur6zQJ"
      },
      "execution_count": 4,
      "outputs": []
    },
    {
      "cell_type": "code",
      "source": [
        "mkdir -p /content/drive/MyDrive/GoingDeeper\\(NLP\\)/sp_tokenizer/data"
      ],
      "metadata": {
        "id": "jqXBQt1F4nDG"
      },
      "execution_count": 5,
      "outputs": []
    },
    {
      "cell_type": "code",
      "source": [
        "cd /content/drive/MyDrive/GoingDeeper(NLP)/sp_tokenizer/data"
      ],
      "metadata": {
        "colab": {
          "base_uri": "https://localhost:8080/"
        },
        "id": "HhIR1uM75RcG",
        "outputId": "280d5478-0506-41f1-df94-83fea0bcf2a3"
      },
      "execution_count": 6,
      "outputs": [
        {
          "output_type": "stream",
          "name": "stdout",
          "text": [
            "/content/drive/MyDrive/GoingDeeper(NLP)/sp_tokenizer/data\n"
          ]
        }
      ]
    },
    {
      "cell_type": "code",
      "source": [
        "# ! wget https://github.com/jungyeul/korean-parallel-corpora/raw/master/korean-english-news-v1/korean-english-park.train.tar.gz"
      ],
      "metadata": {
        "id": "DoqXlkdn5eX2"
      },
      "execution_count": 7,
      "outputs": []
    },
    {
      "cell_type": "code",
      "source": [
        "# ! tar -xzvf korean-english-park.train.tar.gz"
      ],
      "metadata": {
        "id": "BaZb7PyC5oTi"
      },
      "execution_count": 8,
      "outputs": []
    },
    {
      "cell_type": "code",
      "source": [
        "! ls"
      ],
      "metadata": {
        "colab": {
          "base_uri": "https://localhost:8080/"
        },
        "id": "pr8xKVTI7aMf",
        "outputId": "d627515c-66fb-4737-937d-88f5e899388a"
      },
      "execution_count": 9,
      "outputs": [
        {
          "output_type": "stream",
          "name": "stdout",
          "text": [
            "korean-english-park.train.en\t   ratings_test.txt\n",
            "korean-english-park.train.ko\t   ratings_train.txt\n",
            "korean-english-park.train.ko.temp\n"
          ]
        }
      ]
    },
    {
      "cell_type": "code",
      "source": [
        "from konlpy.tag import Mecab\n",
        "\n",
        "mecab = Mecab()\n",
        "print(mecab.morphs('자연어처리가너무재밌어서밥먹는것도가끔까먹어요'))"
      ],
      "metadata": {
        "colab": {
          "base_uri": "https://localhost:8080/"
        },
        "id": "-Ar2j-hn87oC",
        "outputId": "855f1cd4-6e7f-411d-90ee-ceb79ff52714"
      },
      "execution_count": 10,
      "outputs": [
        {
          "output_type": "stream",
          "name": "stdout",
          "text": [
            "['자연어', '처리', '가', '너무', '재밌', '어서', '밥', '먹', '는', '것', '도', '가끔', '까먹', '어요']\n"
          ]
        }
      ]
    },
    {
      "cell_type": "markdown",
      "source": [
        "# 0. 여기까지 환경설정 끝!\n",
        "\n",
        "이제 사용된 "
      ],
      "metadata": {
        "id": "hcy7rMry9SDF"
      }
    },
    {
      "cell_type": "code",
      "source": [
        "import tensorflow as tf\n",
        "import numpy as np\n",
        "import matplotlib as plt\n",
        "import konlpy\n",
        "\n",
        "%matplotlib inline\n",
        "\n",
        "print(tf.__version__)\n",
        "print(np.__version__)\n",
        "print(plt.__version__)\n",
        "print(konlpy.__version__)"
      ],
      "metadata": {
        "colab": {
          "base_uri": "https://localhost:8080/"
        },
        "id": "gCx-l5p-9Wn6",
        "outputId": "762c3125-cab8-4e26-a33e-abcb3e538268"
      },
      "execution_count": 11,
      "outputs": [
        {
          "output_type": "stream",
          "name": "stdout",
          "text": [
            "2.8.0\n",
            "1.21.5\n",
            "3.2.2\n",
            "0.6.0\n"
          ]
        }
      ]
    },
    {
      "cell_type": "markdown",
      "source": [
        "# Step 1. SentencePiece 설치하기"
      ],
      "metadata": {
        "id": "aq2QHCu37mer"
      }
    },
    {
      "cell_type": "code",
      "source": [
        "!pip install sentencepiece"
      ],
      "metadata": {
        "colab": {
          "base_uri": "https://localhost:8080/"
        },
        "id": "IZ2qNFYR7RY3",
        "outputId": "b6a2d8b1-89cc-415b-b896-9f304746a1a2"
      },
      "execution_count": 12,
      "outputs": [
        {
          "output_type": "stream",
          "name": "stdout",
          "text": [
            "Collecting sentencepiece\n",
            "  Downloading sentencepiece-0.1.96-cp37-cp37m-manylinux_2_17_x86_64.manylinux2014_x86_64.whl (1.2 MB)\n",
            "\u001b[K     |████████████████████████████████| 1.2 MB 5.0 MB/s \n",
            "\u001b[?25hInstalling collected packages: sentencepiece\n",
            "Successfully installed sentencepiece-0.1.96\n"
          ]
        }
      ]
    },
    {
      "cell_type": "markdown",
      "source": [
        "# Step 2. SentencePiece 모델 학습\n",
        "\n",
        "네이버 영화 리뷰 데이터를 이용하여 filtered_corpus를 먼저 제작하였습니다."
      ],
      "metadata": {
        "id": "sdfYwWEl-hP2"
      }
    },
    {
      "cell_type": "code",
      "source": [
        "import sentencepiece as spm\n",
        "import os\n",
        "import pandas as pd\n",
        "\n",
        "data_file = '/content/drive/MyDrive/GoingDeeper(NLP)/sp_tokenizer/data/ratings_train.txt'\n",
        "\n",
        "raw_data = pd.read_table(data_file)\n",
        "raw_data.head(30)"
      ],
      "metadata": {
        "colab": {
          "base_uri": "https://localhost:8080/",
          "height": 990
        },
        "id": "9WQ3v3Sb-8HE",
        "outputId": "2b098d1c-a732-4c97-feea-5214c06c3153"
      },
      "execution_count": 13,
      "outputs": [
        {
          "output_type": "execute_result",
          "data": {
            "text/plain": [
              "          id                                           document  label\n",
              "0    9976970                                아 더빙.. 진짜 짜증나네요 목소리      0\n",
              "1    3819312                  흠...포스터보고 초딩영화줄....오버연기조차 가볍지 않구나      1\n",
              "2   10265843                                  너무재밓었다그래서보는것을추천한다      0\n",
              "3    9045019                      교도소 이야기구먼 ..솔직히 재미는 없다..평점 조정      0\n",
              "4    6483659  사이몬페그의 익살스런 연기가 돋보였던 영화!스파이더맨에서 늙어보이기만 했던 커스틴 ...      1\n",
              "5    5403919      막 걸음마 뗀 3세부터 초등학교 1학년생인 8살용영화.ㅋㅋㅋ...별반개도 아까움.      0\n",
              "6    7797314                              원작의 긴장감을 제대로 살려내지못했다.      0\n",
              "7    9443947  별 반개도 아깝다 욕나온다 이응경 길용우 연기생활이몇년인지..정말 발로해도 그것보단...      0\n",
              "8    7156791                             액션이 없는데도 재미 있는 몇안되는 영화      1\n",
              "9    5912145      왜케 평점이 낮은건데? 꽤 볼만한데.. 헐리우드식 화려함에만 너무 길들여져 있나?      1\n",
              "10   9008700                                   걍인피니트가짱이다.진짜짱이다♥      1\n",
              "11  10217543        볼때마다 눈물나서 죽겠다90년대의 향수자극!!허진호는 감성절제멜로의 달인이다~      1\n",
              "12   5957425                울면서 손들고 횡단보도 건널때 뛰쳐나올뻔 이범수 연기 드럽게못해      0\n",
              "13   8628627  담백하고 깔끔해서 좋다. 신문기사로만 보다 보면 자꾸 잊어버린다. 그들도 사람이었다...      1\n",
              "14   9864035  취향은 존중한다지만 진짜 내생에 극장에서 본 영화중 가장 노잼 노감동임 스토리도 어...      0\n",
              "15   6852435                                   ㄱ냥 매번 긴장되고 재밋음ㅠㅠ      1\n",
              "16   9143163  참 사람들 웃긴게 바스코가 이기면 락스코라고 까고바비가 이기면 아이돌이라고 깐다.그...      1\n",
              "17   4891476                 굿바이 레닌 표절인것은 이해하는데 왜 뒤로 갈수록 재미없어지냐      0\n",
              "18   7465483      이건 정말 깨알 캐스팅과 질퍽하지않은 산뜻한 내용구성이 잘 버무러진 깨알일드!!♥      1\n",
              "19   3989148                 약탈자를 위한 변명, 이라. 저놈들은 착한놈들 절대 아닌걸요.      1\n",
              "20   4581211          나름 심오한 뜻도 있는 듯. 그냥 학생이 선생과 놀아나는 영화는 절대 아님      1\n",
              "21   2718894                                  보면서 웃지 않는 건 불가능하다      1\n",
              "22   9705777  재미없다 지루하고. 같은 음식 영화인데도 바베트의 만찬하고 넘 차이남....바베트의...      0\n",
              "23    471131                       절대 평범한 영화가 아닌 수작이라는걸 말씀드립니다.      1\n",
              "24   8480268                                  주제는 좋은데 중반부터 지루하다      0\n",
              "25   4254115       다 짤랐을꺼야. 그래서 납득할 수 없었던거야.. 그럴꺼야.. 꼭 그랬던걸꺼야..      0\n",
              "26   7295746                                 kl2g 고추를 털어버려야 할텐데      1\n",
              "27   5457633                                           카밀라벨 발연기      0\n",
              "28   6091784                                               재밋는뎅      1\n",
              "29   8322926             센스있는 연출력..탁월한 캐스팅..90년대의 향수.. 그래서 9점..      1"
            ],
            "text/html": [
              "\n",
              "  <div id=\"df-54e12a2b-3521-4a0c-b6d2-64ac9adf6b76\">\n",
              "    <div class=\"colab-df-container\">\n",
              "      <div>\n",
              "<style scoped>\n",
              "    .dataframe tbody tr th:only-of-type {\n",
              "        vertical-align: middle;\n",
              "    }\n",
              "\n",
              "    .dataframe tbody tr th {\n",
              "        vertical-align: top;\n",
              "    }\n",
              "\n",
              "    .dataframe thead th {\n",
              "        text-align: right;\n",
              "    }\n",
              "</style>\n",
              "<table border=\"1\" class=\"dataframe\">\n",
              "  <thead>\n",
              "    <tr style=\"text-align: right;\">\n",
              "      <th></th>\n",
              "      <th>id</th>\n",
              "      <th>document</th>\n",
              "      <th>label</th>\n",
              "    </tr>\n",
              "  </thead>\n",
              "  <tbody>\n",
              "    <tr>\n",
              "      <th>0</th>\n",
              "      <td>9976970</td>\n",
              "      <td>아 더빙.. 진짜 짜증나네요 목소리</td>\n",
              "      <td>0</td>\n",
              "    </tr>\n",
              "    <tr>\n",
              "      <th>1</th>\n",
              "      <td>3819312</td>\n",
              "      <td>흠...포스터보고 초딩영화줄....오버연기조차 가볍지 않구나</td>\n",
              "      <td>1</td>\n",
              "    </tr>\n",
              "    <tr>\n",
              "      <th>2</th>\n",
              "      <td>10265843</td>\n",
              "      <td>너무재밓었다그래서보는것을추천한다</td>\n",
              "      <td>0</td>\n",
              "    </tr>\n",
              "    <tr>\n",
              "      <th>3</th>\n",
              "      <td>9045019</td>\n",
              "      <td>교도소 이야기구먼 ..솔직히 재미는 없다..평점 조정</td>\n",
              "      <td>0</td>\n",
              "    </tr>\n",
              "    <tr>\n",
              "      <th>4</th>\n",
              "      <td>6483659</td>\n",
              "      <td>사이몬페그의 익살스런 연기가 돋보였던 영화!스파이더맨에서 늙어보이기만 했던 커스틴 ...</td>\n",
              "      <td>1</td>\n",
              "    </tr>\n",
              "    <tr>\n",
              "      <th>5</th>\n",
              "      <td>5403919</td>\n",
              "      <td>막 걸음마 뗀 3세부터 초등학교 1학년생인 8살용영화.ㅋㅋㅋ...별반개도 아까움.</td>\n",
              "      <td>0</td>\n",
              "    </tr>\n",
              "    <tr>\n",
              "      <th>6</th>\n",
              "      <td>7797314</td>\n",
              "      <td>원작의 긴장감을 제대로 살려내지못했다.</td>\n",
              "      <td>0</td>\n",
              "    </tr>\n",
              "    <tr>\n",
              "      <th>7</th>\n",
              "      <td>9443947</td>\n",
              "      <td>별 반개도 아깝다 욕나온다 이응경 길용우 연기생활이몇년인지..정말 발로해도 그것보단...</td>\n",
              "      <td>0</td>\n",
              "    </tr>\n",
              "    <tr>\n",
              "      <th>8</th>\n",
              "      <td>7156791</td>\n",
              "      <td>액션이 없는데도 재미 있는 몇안되는 영화</td>\n",
              "      <td>1</td>\n",
              "    </tr>\n",
              "    <tr>\n",
              "      <th>9</th>\n",
              "      <td>5912145</td>\n",
              "      <td>왜케 평점이 낮은건데? 꽤 볼만한데.. 헐리우드식 화려함에만 너무 길들여져 있나?</td>\n",
              "      <td>1</td>\n",
              "    </tr>\n",
              "    <tr>\n",
              "      <th>10</th>\n",
              "      <td>9008700</td>\n",
              "      <td>걍인피니트가짱이다.진짜짱이다♥</td>\n",
              "      <td>1</td>\n",
              "    </tr>\n",
              "    <tr>\n",
              "      <th>11</th>\n",
              "      <td>10217543</td>\n",
              "      <td>볼때마다 눈물나서 죽겠다90년대의 향수자극!!허진호는 감성절제멜로의 달인이다~</td>\n",
              "      <td>1</td>\n",
              "    </tr>\n",
              "    <tr>\n",
              "      <th>12</th>\n",
              "      <td>5957425</td>\n",
              "      <td>울면서 손들고 횡단보도 건널때 뛰쳐나올뻔 이범수 연기 드럽게못해</td>\n",
              "      <td>0</td>\n",
              "    </tr>\n",
              "    <tr>\n",
              "      <th>13</th>\n",
              "      <td>8628627</td>\n",
              "      <td>담백하고 깔끔해서 좋다. 신문기사로만 보다 보면 자꾸 잊어버린다. 그들도 사람이었다...</td>\n",
              "      <td>1</td>\n",
              "    </tr>\n",
              "    <tr>\n",
              "      <th>14</th>\n",
              "      <td>9864035</td>\n",
              "      <td>취향은 존중한다지만 진짜 내생에 극장에서 본 영화중 가장 노잼 노감동임 스토리도 어...</td>\n",
              "      <td>0</td>\n",
              "    </tr>\n",
              "    <tr>\n",
              "      <th>15</th>\n",
              "      <td>6852435</td>\n",
              "      <td>ㄱ냥 매번 긴장되고 재밋음ㅠㅠ</td>\n",
              "      <td>1</td>\n",
              "    </tr>\n",
              "    <tr>\n",
              "      <th>16</th>\n",
              "      <td>9143163</td>\n",
              "      <td>참 사람들 웃긴게 바스코가 이기면 락스코라고 까고바비가 이기면 아이돌이라고 깐다.그...</td>\n",
              "      <td>1</td>\n",
              "    </tr>\n",
              "    <tr>\n",
              "      <th>17</th>\n",
              "      <td>4891476</td>\n",
              "      <td>굿바이 레닌 표절인것은 이해하는데 왜 뒤로 갈수록 재미없어지냐</td>\n",
              "      <td>0</td>\n",
              "    </tr>\n",
              "    <tr>\n",
              "      <th>18</th>\n",
              "      <td>7465483</td>\n",
              "      <td>이건 정말 깨알 캐스팅과 질퍽하지않은 산뜻한 내용구성이 잘 버무러진 깨알일드!!♥</td>\n",
              "      <td>1</td>\n",
              "    </tr>\n",
              "    <tr>\n",
              "      <th>19</th>\n",
              "      <td>3989148</td>\n",
              "      <td>약탈자를 위한 변명, 이라. 저놈들은 착한놈들 절대 아닌걸요.</td>\n",
              "      <td>1</td>\n",
              "    </tr>\n",
              "    <tr>\n",
              "      <th>20</th>\n",
              "      <td>4581211</td>\n",
              "      <td>나름 심오한 뜻도 있는 듯. 그냥 학생이 선생과 놀아나는 영화는 절대 아님</td>\n",
              "      <td>1</td>\n",
              "    </tr>\n",
              "    <tr>\n",
              "      <th>21</th>\n",
              "      <td>2718894</td>\n",
              "      <td>보면서 웃지 않는 건 불가능하다</td>\n",
              "      <td>1</td>\n",
              "    </tr>\n",
              "    <tr>\n",
              "      <th>22</th>\n",
              "      <td>9705777</td>\n",
              "      <td>재미없다 지루하고. 같은 음식 영화인데도 바베트의 만찬하고 넘 차이남....바베트의...</td>\n",
              "      <td>0</td>\n",
              "    </tr>\n",
              "    <tr>\n",
              "      <th>23</th>\n",
              "      <td>471131</td>\n",
              "      <td>절대 평범한 영화가 아닌 수작이라는걸 말씀드립니다.</td>\n",
              "      <td>1</td>\n",
              "    </tr>\n",
              "    <tr>\n",
              "      <th>24</th>\n",
              "      <td>8480268</td>\n",
              "      <td>주제는 좋은데 중반부터 지루하다</td>\n",
              "      <td>0</td>\n",
              "    </tr>\n",
              "    <tr>\n",
              "      <th>25</th>\n",
              "      <td>4254115</td>\n",
              "      <td>다 짤랐을꺼야. 그래서 납득할 수 없었던거야.. 그럴꺼야.. 꼭 그랬던걸꺼야..</td>\n",
              "      <td>0</td>\n",
              "    </tr>\n",
              "    <tr>\n",
              "      <th>26</th>\n",
              "      <td>7295746</td>\n",
              "      <td>kl2g 고추를 털어버려야 할텐데</td>\n",
              "      <td>1</td>\n",
              "    </tr>\n",
              "    <tr>\n",
              "      <th>27</th>\n",
              "      <td>5457633</td>\n",
              "      <td>카밀라벨 발연기</td>\n",
              "      <td>0</td>\n",
              "    </tr>\n",
              "    <tr>\n",
              "      <th>28</th>\n",
              "      <td>6091784</td>\n",
              "      <td>재밋는뎅</td>\n",
              "      <td>1</td>\n",
              "    </tr>\n",
              "    <tr>\n",
              "      <th>29</th>\n",
              "      <td>8322926</td>\n",
              "      <td>센스있는 연출력..탁월한 캐스팅..90년대의 향수.. 그래서 9점..</td>\n",
              "      <td>1</td>\n",
              "    </tr>\n",
              "  </tbody>\n",
              "</table>\n",
              "</div>\n",
              "      <button class=\"colab-df-convert\" onclick=\"convertToInteractive('df-54e12a2b-3521-4a0c-b6d2-64ac9adf6b76')\"\n",
              "              title=\"Convert this dataframe to an interactive table.\"\n",
              "              style=\"display:none;\">\n",
              "        \n",
              "  <svg xmlns=\"http://www.w3.org/2000/svg\" height=\"24px\"viewBox=\"0 0 24 24\"\n",
              "       width=\"24px\">\n",
              "    <path d=\"M0 0h24v24H0V0z\" fill=\"none\"/>\n",
              "    <path d=\"M18.56 5.44l.94 2.06.94-2.06 2.06-.94-2.06-.94-.94-2.06-.94 2.06-2.06.94zm-11 1L8.5 8.5l.94-2.06 2.06-.94-2.06-.94L8.5 2.5l-.94 2.06-2.06.94zm10 10l.94 2.06.94-2.06 2.06-.94-2.06-.94-.94-2.06-.94 2.06-2.06.94z\"/><path d=\"M17.41 7.96l-1.37-1.37c-.4-.4-.92-.59-1.43-.59-.52 0-1.04.2-1.43.59L10.3 9.45l-7.72 7.72c-.78.78-.78 2.05 0 2.83L4 21.41c.39.39.9.59 1.41.59.51 0 1.02-.2 1.41-.59l7.78-7.78 2.81-2.81c.8-.78.8-2.07 0-2.86zM5.41 20L4 18.59l7.72-7.72 1.47 1.35L5.41 20z\"/>\n",
              "  </svg>\n",
              "      </button>\n",
              "      \n",
              "  <style>\n",
              "    .colab-df-container {\n",
              "      display:flex;\n",
              "      flex-wrap:wrap;\n",
              "      gap: 12px;\n",
              "    }\n",
              "\n",
              "    .colab-df-convert {\n",
              "      background-color: #E8F0FE;\n",
              "      border: none;\n",
              "      border-radius: 50%;\n",
              "      cursor: pointer;\n",
              "      display: none;\n",
              "      fill: #1967D2;\n",
              "      height: 32px;\n",
              "      padding: 0 0 0 0;\n",
              "      width: 32px;\n",
              "    }\n",
              "\n",
              "    .colab-df-convert:hover {\n",
              "      background-color: #E2EBFA;\n",
              "      box-shadow: 0px 1px 2px rgba(60, 64, 67, 0.3), 0px 1px 3px 1px rgba(60, 64, 67, 0.15);\n",
              "      fill: #174EA6;\n",
              "    }\n",
              "\n",
              "    [theme=dark] .colab-df-convert {\n",
              "      background-color: #3B4455;\n",
              "      fill: #D2E3FC;\n",
              "    }\n",
              "\n",
              "    [theme=dark] .colab-df-convert:hover {\n",
              "      background-color: #434B5C;\n",
              "      box-shadow: 0px 1px 3px 1px rgba(0, 0, 0, 0.15);\n",
              "      filter: drop-shadow(0px 1px 2px rgba(0, 0, 0, 0.3));\n",
              "      fill: #FFFFFF;\n",
              "    }\n",
              "  </style>\n",
              "\n",
              "      <script>\n",
              "        const buttonEl =\n",
              "          document.querySelector('#df-54e12a2b-3521-4a0c-b6d2-64ac9adf6b76 button.colab-df-convert');\n",
              "        buttonEl.style.display =\n",
              "          google.colab.kernel.accessAllowed ? 'block' : 'none';\n",
              "\n",
              "        async function convertToInteractive(key) {\n",
              "          const element = document.querySelector('#df-54e12a2b-3521-4a0c-b6d2-64ac9adf6b76');\n",
              "          const dataTable =\n",
              "            await google.colab.kernel.invokeFunction('convertToInteractive',\n",
              "                                                     [key], {});\n",
              "          if (!dataTable) return;\n",
              "\n",
              "          const docLinkHtml = 'Like what you see? Visit the ' +\n",
              "            '<a target=\"_blank\" href=https://colab.research.google.com/notebooks/data_table.ipynb>data table notebook</a>'\n",
              "            + ' to learn more about interactive tables.';\n",
              "          element.innerHTML = '';\n",
              "          dataTable['output_type'] = 'display_data';\n",
              "          await google.colab.output.renderOutput(dataTable, element);\n",
              "          const docLink = document.createElement('div');\n",
              "          docLink.innerHTML = docLinkHtml;\n",
              "          element.appendChild(docLink);\n",
              "        }\n",
              "      </script>\n",
              "    </div>\n",
              "  </div>\n",
              "  "
            ]
          },
          "metadata": {},
          "execution_count": 13
        }
      ]
    },
    {
      "cell_type": "markdown",
      "source": [
        "# 데이터 전처리를 먼저 해주었습니다.\n",
        "\n",
        "1. 한글 맞춤법 검사기 사용 \n",
        "2. 중복된 데이터 제거, 너무 긴 혹은 짧은 데이터 삭제를 통한 데이터 정제\n",
        "\n",
        "### 1. 한글 맞춤법 검사기 사용"
      ],
      "metadata": {
        "id": "maoqF04dRqlb"
      }
    },
    {
      "cell_type": "code",
      "source": [
        "!pip install git+https://github.com/ssut/py-hanspell.git"
      ],
      "metadata": {
        "id": "_hqEmRJ2-8dP",
        "colab": {
          "base_uri": "https://localhost:8080/"
        },
        "outputId": "a6b7b406-616d-40df-a6ef-23f0ccb48dcf"
      },
      "execution_count": 14,
      "outputs": [
        {
          "output_type": "stream",
          "name": "stdout",
          "text": [
            "Collecting git+https://github.com/ssut/py-hanspell.git\n",
            "  Cloning https://github.com/ssut/py-hanspell.git to /tmp/pip-req-build-kkvy9t_w\n",
            "  Running command git clone -q https://github.com/ssut/py-hanspell.git /tmp/pip-req-build-kkvy9t_w\n",
            "Requirement already satisfied: requests in /usr/local/lib/python3.7/dist-packages (from py-hanspell==1.1) (2.23.0)\n",
            "Requirement already satisfied: certifi>=2017.4.17 in /usr/local/lib/python3.7/dist-packages (from requests->py-hanspell==1.1) (2021.10.8)\n",
            "Requirement already satisfied: urllib3!=1.25.0,!=1.25.1,<1.26,>=1.21.1 in /usr/local/lib/python3.7/dist-packages (from requests->py-hanspell==1.1) (1.24.3)\n",
            "Requirement already satisfied: chardet<4,>=3.0.2 in /usr/local/lib/python3.7/dist-packages (from requests->py-hanspell==1.1) (3.0.4)\n",
            "Requirement already satisfied: idna<3,>=2.5 in /usr/local/lib/python3.7/dist-packages (from requests->py-hanspell==1.1) (2.10)\n",
            "Building wheels for collected packages: py-hanspell\n",
            "  Building wheel for py-hanspell (setup.py) ... \u001b[?25l\u001b[?25hdone\n",
            "  Created wheel for py-hanspell: filename=py_hanspell-1.1-py3-none-any.whl size=4868 sha256=c96a1a6944ce94f0536ee17a311a408ba3bbf5f99725a1c456b3d2c7342a4004\n",
            "  Stored in directory: /tmp/pip-ephem-wheel-cache-amjs0c57/wheels/ab/f5/7b/d4124bb329c905301baed80e2ae45aa14e824f62ebc3ec2cc4\n",
            "Successfully built py-hanspell\n",
            "Installing collected packages: py-hanspell\n",
            "Successfully installed py-hanspell-1.1\n"
          ]
        }
      ]
    },
    {
      "cell_type": "code",
      "source": [
        "from hanspell import spell_checker\n",
        "\n",
        "sent = \"맞춤법 틀리면 외 않되? 쓰고싶은대로쓰면돼지 \"\n",
        "spelled_sent = spell_checker.check(sent)\n",
        "\n",
        "hanspell_sent = spelled_sent.checked\n",
        "print(hanspell_sent)"
      ],
      "metadata": {
        "id": "INmP99rR-8kO",
        "colab": {
          "base_uri": "https://localhost:8080/"
        },
        "outputId": "e30f936c-4f38-43cb-8e56-e7c233c109fa"
      },
      "execution_count": 15,
      "outputs": [
        {
          "output_type": "stream",
          "name": "stdout",
          "text": [
            "맞춤법 틀리면 왜 안돼? 쓰고 싶은 대로 쓰면 되지\n"
          ]
        }
      ]
    },
    {
      "cell_type": "markdown",
      "source": [
        "위 블록이 제대로 동작하는 것을 확인하고 raw_data 전체를 한글 맞춤법을 수정해주었습니다.\n",
        "\n",
        "> Not well-formed (invalid token): line 1, column 96 에러가 발생하였으나, 해결하지 못해서 try-except로 구문을 감싸고 예외 처리발생시 그냥 그 문장을 무시하도록 진행하였습니다."
      ],
      "metadata": {
        "id": "haiwqkqcSLUl"
      }
    },
    {
      "cell_type": "code",
      "source": [
        "corrected_data = raw_data['document']"
      ],
      "metadata": {
        "id": "pchssiBASOk0"
      },
      "execution_count": 16,
      "outputs": []
    },
    {
      "cell_type": "code",
      "source": [
        "try:\n",
        "  for idx in range(len(corrected_data)):\n",
        "    spelled_sent = spell_checker.check(corrected_data[idx])\n",
        "    hanspell_sent = spelled_sent.checked  \n",
        "\n",
        "    corrected_data.iloc[idx] = hanspell_sent\n",
        "    \n",
        "    # 제대로 되고있는지 확인하기 위하여 중간중간 뽑아봄.\n",
        "    if idx % 100 == 0:\n",
        "      print(idx, hanspell_sent)\n",
        "except Exception:\n",
        "  pass      "
      ],
      "metadata": {
        "id": "KywT491B-8nx",
        "colab": {
          "base_uri": "https://localhost:8080/"
        },
        "outputId": "5b2a3e6f-619b-49d4-fc27-70f287589520"
      },
      "execution_count": 17,
      "outputs": [
        {
          "output_type": "stream",
          "name": "stderr",
          "text": [
            "/usr/local/lib/python3.7/dist-packages/pandas/core/indexing.py:1732: SettingWithCopyWarning: \n",
            "A value is trying to be set on a copy of a slice from a DataFrame\n",
            "\n",
            "See the caveats in the documentation: https://pandas.pydata.org/pandas-docs/stable/user_guide/indexing.html#returning-a-view-versus-a-copy\n",
            "  self._setitem_single_block(indexer, value, name)\n"
          ]
        },
        {
          "output_type": "stream",
          "name": "stdout",
          "text": [
            "0 아 더빙.. 진짜 짜증 나네요 목소리\n",
            "100 신카이 마코토의 작화와, 미유와 하나하나가 연기를 잘해줘서 더대 박이었다.\n",
            "200 TV용 건담 시리즈 중에서 아직까지도 최고봉\n",
            "300 일본 영화 수입 금지 시절에도 비디오테이프로 돌려봤던 불후의 명작 아 그립다\n",
            "400 좀 검증된 애들 좀 출현시켜라 이탈리아 특집 장난하냐\n",
            "500 나 이거 보고 인형 절대 안 삽\n",
            "600 수많은 최루성 멜로는 여기에서...\n",
            "700 음악영화라 나에겐 취향 저격이지만... 비긴 어게인처럼 대중적으로 흥행하긴 힘들 영화네요.. 하지만 여주가 너무 매력적이에요 ㅎㅎ\n",
            "800 제발 전문 성우를 써주세요 ㅠㅠ\n",
            "900 유튜브 동영상을 돈 내고 보는 게 낫다는 생각이 들게 한 영화\n",
            "1000 정말 최고의 명작 성인이 되고 본 이집트의 왕자는 또 다른 감동 그 자체네요\n",
            "1100 반지의 제왕\n",
            "1200 특수효과 없이도 관객을 납득시키던 능력.\n",
            "1300 3분 2가 화면이 검하고 결말도 백이고 뭔 소리인 모르겠고 ㅡㅡ\n",
            "1400 노 답이다 진짜....\n",
            "1500 스파이더맨을 가장 좋아하는 1人~ 스파이더맨 정말 사랑합니다. 영원했으면 좋겠네요!!\n",
            "1600 괜히 봤다\n",
            "1700 10년 전에 봤던 영화인데도 귀 자르는 장면은 기억에 남아있는 영화\n",
            "1800 정말 괜찮은 영화. 행복이 묻어나는 ^^\n",
            "1900 처음엔 정신이 피폐해진 것 같아 불쾌했다. 막연히 걱정하지만 넘겨버릴법한 범죄 상황을 실감 나고 섬세하게 묘사한 감독이 대단하다... 박진감은 넘치지만 억지 상황이 난무해 문단속의 중요성을 잊게 한 불사 여인의 비현실 영화 '숨바꼭질'이 문득 생각난다.\n",
            "2000 최최최최악악악악 !!!!\n",
            "2100 한번 보면 빠져들어버리는... 재미있는 사신 드라마.\n",
            "2200 정윤희 씨 정말 아름답다는 말이 모자라네요.. 살아있는 인형이다..\n",
            "2300 짠하네요\n",
            "2400 정준용 씨 연기 너무 멋져요!!!\n",
            "2500 몰입도 쩔어요 정재영 씨를 드라마에서 볼 수 있어서 좋아요\n",
            "2600 주윤발이 이런 흐접 영화에 출연했던 게 당시에 참 안타깝더라는\n",
            "2700 맨땅에 시청률\n",
            "2800 에라... 정신만 혼란스럽고, 엄 사장, 김진수... 억지 연기하는 거 정말 짜증 난다.\n",
            "2900 \"중국 ( 홍콩 ) 작품에서 가장 여운이 남는 작품! 개인적으로 \"\" 천녀유혼, 이상\"\n",
            "3000 완전 재미있음 추천 ㅠㅠ♥ 생텀 파이팅!!! ♥\n"
          ]
        }
      ]
    },
    {
      "cell_type": "code",
      "source": [
        "raw_data['document'] = corrected_data\n",
        "del corrected_data"
      ],
      "metadata": {
        "id": "VaBTa8-q-8z0"
      },
      "execution_count": 18,
      "outputs": []
    },
    {
      "cell_type": "markdown",
      "source": [
        "### 2. 중복된 데이터 제거, 너무 긴 혹은 짧은 데이터 삭제를 통한 데이터 정제"
      ],
      "metadata": {
        "id": "JKi9Gzf9Waz_"
      }
    },
    {
      "cell_type": "code",
      "source": [
        "#리뷰 전체길이 확인\n",
        "train_length = raw_data['document'].astype(str).apply(len)\n",
        "train_length.head()"
      ],
      "metadata": {
        "id": "JmRwTVJR-82n",
        "colab": {
          "base_uri": "https://localhost:8080/"
        },
        "outputId": "c114a330-c199-40ab-b7b9-1d1d9dff9946"
      },
      "execution_count": 19,
      "outputs": [
        {
          "output_type": "execute_result",
          "data": {
            "text/plain": [
              "0    20\n",
              "1    40\n",
              "2    17\n",
              "3    31\n",
              "4    66\n",
              "Name: document, dtype: int64"
            ]
          },
          "metadata": {},
          "execution_count": 19
        }
      ]
    },
    {
      "cell_type": "markdown",
      "source": [
        ""
      ],
      "metadata": {
        "id": "VvIGKj_zWost"
      }
    },
    {
      "cell_type": "code",
      "source": [
        "#리뷰 통계 정보\n",
        "print('리뷰 길이 최댓값: {}'.format(np.max(train_length)))\n",
        "print('리뷰 길이 최솟값: {}'.format(np.min(train_length)))\n",
        "print('리뷰 길이 평균값: {:.2f}'.format(np.mean(train_length)))\n",
        "print('리뷰 길이 표준편차: {:.2f}'.format(np.std(train_length)))\n",
        "print('리뷰 길이 중간값: {}'.format(np.median(train_length)))\n",
        "print('리뷰 길이 제1사분위: {}'.format(np.percentile(train_length,25)))\n",
        "print('리뷰 길이 제3사분위: {}'.format(np.percentile(train_length,75)))"
      ],
      "metadata": {
        "id": "CXH-DVy9-88e",
        "colab": {
          "base_uri": "https://localhost:8080/"
        },
        "outputId": "3ebe7d43-6fac-4502-f677-0073066d48c6"
      },
      "execution_count": 20,
      "outputs": [
        {
          "output_type": "stream",
          "name": "stdout",
          "text": [
            "리뷰 길이 최댓값: 171\n",
            "리뷰 길이 최솟값: 1\n",
            "리뷰 길이 평균값: 35.24\n",
            "리뷰 길이 표준편차: 29.57\n",
            "리뷰 길이 중간값: 27.0\n",
            "리뷰 길이 제1사분위: 16.0\n",
            "리뷰 길이 제3사분위: 43.0\n"
          ]
        }
      ]
    },
    {
      "cell_type": "markdown",
      "source": [
        ""
      ],
      "metadata": {
        "id": "eTXkAReVdU9g"
      }
    },
    {
      "cell_type": "markdown",
      "source": [
        "### nan값 제거 및 중복 값 제거"
      ],
      "metadata": {
        "id": "k_Y4ouIfc-uZ"
      }
    },
    {
      "cell_type": "code",
      "source": [
        "raw_data = raw_data.dropna()"
      ],
      "metadata": {
        "id": "Tq3s9MjvddjE"
      },
      "execution_count": 21,
      "outputs": []
    },
    {
      "cell_type": "code",
      "source": [
        "raw_data = raw_data.drop_duplicates('document')"
      ],
      "metadata": {
        "id": "jAgFnVKAdjVl"
      },
      "execution_count": 22,
      "outputs": []
    },
    {
      "cell_type": "markdown",
      "source": [
        "### 문장 길이 분포 확인하기"
      ],
      "metadata": {
        "id": "aDSM9JfkdE1d"
      }
    },
    {
      "cell_type": "code",
      "source": [
        "min_len = 999\n",
        "max_len = 0\n",
        "sum_len = 0\n",
        "\n",
        "for sen in raw_data['document']:\n",
        "  length = len(sen)\n",
        "  if min_len > length: min_len = length\n",
        "  if max_len < length: max_len = length\n",
        "  sum_len += length\n",
        "\n",
        "print(\"문장의 최단 길이:\", min_len)\n",
        "print(\"문장의 최장 길이:\", max_len)\n",
        "print(\"문장의 평균 길이:\", sum_len // len( raw_data['document']))\n",
        "\n",
        "sentence_length = np.zeros((max_len), dtype=np.int)\n",
        "\n",
        "for sen in  raw_data['document']:\n",
        "  sentence_length[len(sen)-1] += 1\n",
        "\n",
        "plt.pyplot.bar(range(max_len), sentence_length, width=1.0)\n",
        "plt.pyplot.title(\"Sentence Length Distribution\")\n",
        "plt.pyplot.show()"
      ],
      "metadata": {
        "id": "rEWAE_bp-8_l",
        "colab": {
          "base_uri": "https://localhost:8080/",
          "height": 411
        },
        "outputId": "16d58437-300e-4235-943a-52cc9fc5cdb3"
      },
      "execution_count": 23,
      "outputs": [
        {
          "output_type": "stream",
          "name": "stdout",
          "text": [
            "문장의 최단 길이: 1\n",
            "문장의 최장 길이: 171\n",
            "문장의 평균 길이: 36\n"
          ]
        },
        {
          "output_type": "stream",
          "name": "stderr",
          "text": [
            "/usr/local/lib/python3.7/dist-packages/ipykernel_launcher.py:15: DeprecationWarning: `np.int` is a deprecated alias for the builtin `int`. To silence this warning, use `int` by itself. Doing this will not modify any behavior and is safe. When replacing `np.int`, you may wish to use e.g. `np.int64` or `np.int32` to specify the precision. If you wish to review your current use, check the release note link for additional information.\n",
            "Deprecated in NumPy 1.20; for more details and guidance: https://numpy.org/devdocs/release/1.20.0-notes.html#deprecations\n",
            "  from ipykernel import kernelapp as app\n"
          ]
        },
        {
          "output_type": "display_data",
          "data": {
            "text/plain": [
              "<Figure size 432x288 with 1 Axes>"
            ],
            "image/png": "[encoded data removed]"
          },
          "metadata": {
            "needs_background": "light"
          }
        }
      ]
    },
    {
      "cell_type": "markdown",
      "source": [
        "### 기존의 check_sentence_with_length는 길이가 1인 corpus만 출력해주기 때문에 raw_data를 입력으로 정답라벨과 corpus를 같이 뽑아주도록 수정했습니다."
      ],
      "metadata": {
        "id": "xEbAC9F_doxT"
      }
    },
    {
      "cell_type": "code",
      "source": [
        "def check_sentence_with_length(raw_data, length):\n",
        "    count = 0\n",
        "    \n",
        "    for column, item in raw_data.iteritems():\n",
        "        if len(item['document']) == length:\n",
        "            print(item['label'],item['document'])\n",
        "            count += 1\n",
        "            if count > 100: return\n",
        "\n",
        "check_sentence_with_length(raw_data, 1)"
      ],
      "metadata": {
        "colab": {
          "base_uri": "https://localhost:8080/",
          "height": 529
        },
        "id": "ojrGWYLYanoG",
        "outputId": "43da1490-a51f-4c72-f52d-31d34cfb5ed5"
      },
      "execution_count": 33,
      "outputs": [
        {
          "output_type": "error",
          "ename": "KeyError",
          "evalue": "ignored",
          "traceback": [
            "\u001b[0;31m---------------------------------------------------------------------------\u001b[0m",
            "\u001b[0;31mKeyError\u001b[0m                                  Traceback (most recent call last)",
            "\u001b[0;32m/usr/local/lib/python3.7/dist-packages/pandas/core/indexes/base.py\u001b[0m in \u001b[0;36mget_loc\u001b[0;34m(self, key, method, tolerance)\u001b[0m\n\u001b[1;32m   3360\u001b[0m             \u001b[0;32mtry\u001b[0m\u001b[0;34m:\u001b[0m\u001b[0;34m\u001b[0m\u001b[0;34m\u001b[0m\u001b[0m\n\u001b[0;32m-> 3361\u001b[0;31m                 \u001b[0;32mreturn\u001b[0m \u001b[0mself\u001b[0m\u001b[0;34m.\u001b[0m\u001b[0m_engine\u001b[0m\u001b[0;34m.\u001b[0m\u001b[0mget_loc\u001b[0m\u001b[0;34m(\u001b[0m\u001b[0mcasted_key\u001b[0m\u001b[0;34m)\u001b[0m\u001b[0;34m\u001b[0m\u001b[0;34m\u001b[0m\u001b[0m\n\u001b[0m\u001b[1;32m   3362\u001b[0m             \u001b[0;32mexcept\u001b[0m \u001b[0mKeyError\u001b[0m \u001b[0;32mas\u001b[0m \u001b[0merr\u001b[0m\u001b[0;34m:\u001b[0m\u001b[0;34m\u001b[0m\u001b[0;34m\u001b[0m\u001b[0m\n",
            "\u001b[0;32m/usr/local/lib/python3.7/dist-packages/pandas/_libs/index.pyx\u001b[0m in \u001b[0;36mpandas._libs.index.IndexEngine.get_loc\u001b[0;34m()\u001b[0m\n",
            "\u001b[0;32mpandas/_libs/index_class_helper.pxi\u001b[0m in \u001b[0;36mpandas._libs.index.Int64Engine._check_type\u001b[0;34m()\u001b[0m\n",
            "\u001b[0;32mpandas/_libs/index_class_helper.pxi\u001b[0m in \u001b[0;36mpandas._libs.index.Int64Engine._check_type\u001b[0;34m()\u001b[0m\n",
            "\u001b[0;31mKeyError\u001b[0m: 'document'",
            "\nThe above exception was the direct cause of the following exception:\n",
            "\u001b[0;31mKeyError\u001b[0m                                  Traceback (most recent call last)",
            "\u001b[0;32m<ipython-input-33-01212fbf241b>\u001b[0m in \u001b[0;36m<module>\u001b[0;34m()\u001b[0m\n\u001b[1;32m      8\u001b[0m             \u001b[0;32mif\u001b[0m \u001b[0mcount\u001b[0m \u001b[0;34m>\u001b[0m \u001b[0;36m100\u001b[0m\u001b[0;34m:\u001b[0m \u001b[0;32mreturn\u001b[0m\u001b[0;34m\u001b[0m\u001b[0;34m\u001b[0m\u001b[0m\n\u001b[1;32m      9\u001b[0m \u001b[0;34m\u001b[0m\u001b[0m\n\u001b[0;32m---> 10\u001b[0;31m \u001b[0mcheck_sentence_with_length\u001b[0m\u001b[0;34m(\u001b[0m\u001b[0mraw_data\u001b[0m\u001b[0;34m,\u001b[0m \u001b[0;36m1\u001b[0m\u001b[0;34m)\u001b[0m\u001b[0;34m\u001b[0m\u001b[0;34m\u001b[0m\u001b[0m\n\u001b[0m",
            "\u001b[0;32m<ipython-input-33-01212fbf241b>\u001b[0m in \u001b[0;36mcheck_sentence_with_length\u001b[0;34m(raw_data, length)\u001b[0m\n\u001b[1;32m      3\u001b[0m \u001b[0;34m\u001b[0m\u001b[0m\n\u001b[1;32m      4\u001b[0m     \u001b[0;32mfor\u001b[0m \u001b[0mcolumn\u001b[0m\u001b[0;34m,\u001b[0m \u001b[0mitem\u001b[0m \u001b[0;32min\u001b[0m \u001b[0mraw_data\u001b[0m\u001b[0;34m.\u001b[0m\u001b[0miteritems\u001b[0m\u001b[0;34m(\u001b[0m\u001b[0;34m)\u001b[0m\u001b[0;34m:\u001b[0m\u001b[0;34m\u001b[0m\u001b[0;34m\u001b[0m\u001b[0m\n\u001b[0;32m----> 5\u001b[0;31m         \u001b[0;32mif\u001b[0m \u001b[0mlen\u001b[0m\u001b[0;34m(\u001b[0m\u001b[0mitem\u001b[0m\u001b[0;34m[\u001b[0m\u001b[0;34m'document'\u001b[0m\u001b[0;34m]\u001b[0m\u001b[0;34m)\u001b[0m \u001b[0;34m==\u001b[0m \u001b[0mlength\u001b[0m\u001b[0;34m:\u001b[0m\u001b[0;34m\u001b[0m\u001b[0;34m\u001b[0m\u001b[0m\n\u001b[0m\u001b[1;32m      6\u001b[0m             \u001b[0mprint\u001b[0m\u001b[0;34m(\u001b[0m\u001b[0mitem\u001b[0m\u001b[0;34m[\u001b[0m\u001b[0;34m'label'\u001b[0m\u001b[0;34m]\u001b[0m\u001b[0;34m,\u001b[0m\u001b[0mitem\u001b[0m\u001b[0;34m[\u001b[0m\u001b[0;34m'document'\u001b[0m\u001b[0;34m]\u001b[0m\u001b[0;34m)\u001b[0m\u001b[0;34m\u001b[0m\u001b[0;34m\u001b[0m\u001b[0m\n\u001b[1;32m      7\u001b[0m             \u001b[0mcount\u001b[0m \u001b[0;34m+=\u001b[0m \u001b[0;36m1\u001b[0m\u001b[0;34m\u001b[0m\u001b[0;34m\u001b[0m\u001b[0m\n",
            "\u001b[0;32m/usr/local/lib/python3.7/dist-packages/pandas/core/series.py\u001b[0m in \u001b[0;36m__getitem__\u001b[0;34m(self, key)\u001b[0m\n\u001b[1;32m    940\u001b[0m \u001b[0;34m\u001b[0m\u001b[0m\n\u001b[1;32m    941\u001b[0m         \u001b[0;32melif\u001b[0m \u001b[0mkey_is_scalar\u001b[0m\u001b[0;34m:\u001b[0m\u001b[0;34m\u001b[0m\u001b[0;34m\u001b[0m\u001b[0m\n\u001b[0;32m--> 942\u001b[0;31m             \u001b[0;32mreturn\u001b[0m \u001b[0mself\u001b[0m\u001b[0;34m.\u001b[0m\u001b[0m_get_value\u001b[0m\u001b[0;34m(\u001b[0m\u001b[0mkey\u001b[0m\u001b[0;34m)\u001b[0m\u001b[0;34m\u001b[0m\u001b[0;34m\u001b[0m\u001b[0m\n\u001b[0m\u001b[1;32m    943\u001b[0m \u001b[0;34m\u001b[0m\u001b[0m\n\u001b[1;32m    944\u001b[0m         \u001b[0;32mif\u001b[0m \u001b[0mis_hashable\u001b[0m\u001b[0;34m(\u001b[0m\u001b[0mkey\u001b[0m\u001b[0;34m)\u001b[0m\u001b[0;34m:\u001b[0m\u001b[0;34m\u001b[0m\u001b[0;34m\u001b[0m\u001b[0m\n",
            "\u001b[0;32m/usr/local/lib/python3.7/dist-packages/pandas/core/series.py\u001b[0m in \u001b[0;36m_get_value\u001b[0;34m(self, label, takeable)\u001b[0m\n\u001b[1;32m   1049\u001b[0m \u001b[0;34m\u001b[0m\u001b[0m\n\u001b[1;32m   1050\u001b[0m         \u001b[0;31m# Similar to Index.get_value, but we do not fall back to positional\u001b[0m\u001b[0;34m\u001b[0m\u001b[0;34m\u001b[0m\u001b[0;34m\u001b[0m\u001b[0m\n\u001b[0;32m-> 1051\u001b[0;31m         \u001b[0mloc\u001b[0m \u001b[0;34m=\u001b[0m \u001b[0mself\u001b[0m\u001b[0;34m.\u001b[0m\u001b[0mindex\u001b[0m\u001b[0;34m.\u001b[0m\u001b[0mget_loc\u001b[0m\u001b[0;34m(\u001b[0m\u001b[0mlabel\u001b[0m\u001b[0;34m)\u001b[0m\u001b[0;34m\u001b[0m\u001b[0;34m\u001b[0m\u001b[0m\n\u001b[0m\u001b[1;32m   1052\u001b[0m         \u001b[0;32mreturn\u001b[0m \u001b[0mself\u001b[0m\u001b[0;34m.\u001b[0m\u001b[0mindex\u001b[0m\u001b[0;34m.\u001b[0m\u001b[0m_get_values_for_loc\u001b[0m\u001b[0;34m(\u001b[0m\u001b[0mself\u001b[0m\u001b[0;34m,\u001b[0m \u001b[0mloc\u001b[0m\u001b[0;34m,\u001b[0m \u001b[0mlabel\u001b[0m\u001b[0;34m)\u001b[0m\u001b[0;34m\u001b[0m\u001b[0;34m\u001b[0m\u001b[0m\n\u001b[1;32m   1053\u001b[0m \u001b[0;34m\u001b[0m\u001b[0m\n",
            "\u001b[0;32m/usr/local/lib/python3.7/dist-packages/pandas/core/indexes/base.py\u001b[0m in \u001b[0;36mget_loc\u001b[0;34m(self, key, method, tolerance)\u001b[0m\n\u001b[1;32m   3361\u001b[0m                 \u001b[0;32mreturn\u001b[0m \u001b[0mself\u001b[0m\u001b[0;34m.\u001b[0m\u001b[0m_engine\u001b[0m\u001b[0;34m.\u001b[0m\u001b[0mget_loc\u001b[0m\u001b[0;34m(\u001b[0m\u001b[0mcasted_key\u001b[0m\u001b[0;34m)\u001b[0m\u001b[0;34m\u001b[0m\u001b[0;34m\u001b[0m\u001b[0m\n\u001b[1;32m   3362\u001b[0m             \u001b[0;32mexcept\u001b[0m \u001b[0mKeyError\u001b[0m \u001b[0;32mas\u001b[0m \u001b[0merr\u001b[0m\u001b[0;34m:\u001b[0m\u001b[0;34m\u001b[0m\u001b[0;34m\u001b[0m\u001b[0m\n\u001b[0;32m-> 3363\u001b[0;31m                 \u001b[0;32mraise\u001b[0m \u001b[0mKeyError\u001b[0m\u001b[0;34m(\u001b[0m\u001b[0mkey\u001b[0m\u001b[0;34m)\u001b[0m \u001b[0;32mfrom\u001b[0m \u001b[0merr\u001b[0m\u001b[0;34m\u001b[0m\u001b[0;34m\u001b[0m\u001b[0m\n\u001b[0m\u001b[1;32m   3364\u001b[0m \u001b[0;34m\u001b[0m\u001b[0m\n\u001b[1;32m   3365\u001b[0m         \u001b[0;32mif\u001b[0m \u001b[0mis_scalar\u001b[0m\u001b[0;34m(\u001b[0m\u001b[0mkey\u001b[0m\u001b[0;34m)\u001b[0m \u001b[0;32mand\u001b[0m \u001b[0misna\u001b[0m\u001b[0;34m(\u001b[0m\u001b[0mkey\u001b[0m\u001b[0;34m)\u001b[0m \u001b[0;32mand\u001b[0m \u001b[0;32mnot\u001b[0m \u001b[0mself\u001b[0m\u001b[0;34m.\u001b[0m\u001b[0mhasnans\u001b[0m\u001b[0;34m:\u001b[0m\u001b[0;34m\u001b[0m\u001b[0;34m\u001b[0m\u001b[0m\n",
            "\u001b[0;31mKeyError\u001b[0m: 'document'"
          ]
        }
      ]
    },
    {
      "cell_type": "code",
      "source": [
        "check_sentence_with_length(raw_data, 2)"
      ],
      "metadata": {
        "colab": {
          "base_uri": "https://localhost:8080/"
        },
        "id": "o5907oOAanmR",
        "outputId": "4712443d-97b9-4d62-be42-849e38a5692c"
      },
      "execution_count": 25,
      "outputs": [
        {
          "output_type": "stream",
          "name": "stdout",
          "text": [
            "최고\n",
            "졸작\n",
            "대박\n",
            "버려\n",
            "망함\n",
            "굳굳\n",
            "안습\n",
            "망작\n",
            "굿!\n",
            "별로\n",
            "신나\n",
            "쓰래\n",
            "볼만\n",
            "허접\n",
            "비추\n",
            "좋다\n",
            "ㅎㅎ\n",
            "아나\n",
            "ㅉㅉ\n",
            "야.\n",
            "역시\n",
            "^^\n",
            "오오\n",
            "평이\n",
            "지루\n",
            "오욈\n",
            "ㅋㅋ\n",
            "지송\n",
            "눈물\n",
            "당연\n",
            "쩔어\n",
            "별노\n",
            "몰입\n",
            "졸잼\n",
            "쵝오\n",
            "돋네\n",
            "오글\n",
            "이응\n",
            "첨봄\n",
            "최악\n",
            "잼씀\n",
            "ok\n",
            "유후\n",
            "별루\n",
            "감동\n",
            "gg\n",
            ";;\n",
            "조앙\n",
            "1점\n",
            "표절\n",
            "명작\n",
            "으휴\n",
            "에효\n",
            "ㄱ굿\n",
            "굿잡\n",
            "잼나\n",
            "10\n",
            "ㅜㅜ\n",
            "우왕\n",
            "거지\n",
            "굿굿\n",
            "좋음\n",
            "실망\n",
            "굿.\n",
            "ㅇㅇ\n",
            "애이\n",
            "짱임\n",
            "전설\n",
            "mm\n",
            "와우\n",
            "등록\n",
            "하위\n",
            "그닥\n",
            "뭉클\n",
            "삼류\n",
            "HN\n",
            "윤하\n",
            "섹시\n",
            "실화\n",
            "머냐\n",
            "수작\n",
            "꿀잼\n",
            "동감\n",
            "dd\n",
            "굳ㅋ\n",
            "굳!\n",
            "추천\n",
            "좋아\n",
            "55\n",
            "안봐\n",
            "개쩜\n",
            "올레\n",
            "난해\n",
            "ㅠㅠ\n",
            "뭐니\n",
            "ㅁㅁ\n",
            "뭥미\n",
            "쓰랙\n",
            "좇~\n",
            "오우\n",
            "미안\n"
          ]
        }
      ]
    },
    {
      "cell_type": "markdown",
      "source": [
        "### 길이 1인 데이터는 의미없는 데이터 비율이 높아서 삭제하기로 하였습니다."
      ],
      "metadata": {
        "id": "nmU19wxYeakj"
      }
    },
    {
      "cell_type": "code",
      "source": [
        "# drop_idx = raw_data[len(raw_data['document'])>1]"
      ],
      "metadata": {
        "id": "Qq-AfRhPanjL"
      },
      "execution_count": 28,
      "outputs": []
    },
    {
      "cell_type": "code",
      "source": [
        "raw_data = raw_data[raw_data['document'].map(len) > 1]"
      ],
      "metadata": {
        "id": "MJ4WCtgTang8"
      },
      "execution_count": 29,
      "outputs": []
    },
    {
      "cell_type": "code",
      "source": [
        ""
      ],
      "metadata": {
        "id": "6HFjNOVLanef"
      },
      "execution_count": null,
      "outputs": []
    },
    {
      "cell_type": "code",
      "source": [
        ""
      ],
      "metadata": {
        "id": "020qob6Oanb_"
      },
      "execution_count": null,
      "outputs": []
    },
    {
      "cell_type": "code",
      "source": [
        ""
      ],
      "metadata": {
        "id": "uNoDvecOanZ4"
      },
      "execution_count": null,
      "outputs": []
    },
    {
      "cell_type": "code",
      "source": [
        ""
      ],
      "metadata": {
        "id": "mEn80qS6anXZ"
      },
      "execution_count": null,
      "outputs": []
    },
    {
      "cell_type": "code",
      "source": [
        ""
      ],
      "metadata": {
        "id": "nZIBgeyuanU_"
      },
      "execution_count": null,
      "outputs": []
    },
    {
      "cell_type": "code",
      "source": [
        ""
      ],
      "metadata": {
        "id": "Ykzjhy--anSi"
      },
      "execution_count": null,
      "outputs": []
    },
    {
      "cell_type": "code",
      "source": [
        ""
      ],
      "metadata": {
        "id": "6ZsNdxiCanQI"
      },
      "execution_count": null,
      "outputs": []
    },
    {
      "cell_type": "code",
      "source": [
        ""
      ],
      "metadata": {
        "id": "Muy-H0GKanN3"
      },
      "execution_count": null,
      "outputs": []
    },
    {
      "cell_type": "code",
      "source": [
        ""
      ],
      "metadata": {
        "id": "JDQjHdujanLo"
      },
      "execution_count": null,
      "outputs": []
    },
    {
      "cell_type": "code",
      "source": [
        ""
      ],
      "metadata": {
        "id": "TEYIT81qanI7"
      },
      "execution_count": null,
      "outputs": []
    },
    {
      "cell_type": "code",
      "source": [
        ""
      ],
      "metadata": {
        "id": "tG7HY8N5anGG"
      },
      "execution_count": null,
      "outputs": []
    },
    {
      "cell_type": "markdown",
      "source": [
        "# 회고\n",
        "\n",
        "1.다음과 같이 raw_data의 길이를 뽑는데 TypeError가 났다. 이 경우는 Nan값이 존재하는 경우 길이를 구할 수 없어서 나는 오류이다."
      ],
      "metadata": {
        "id": "_FPLD6F6-3HK"
      }
    },
    {
      "cell_type": "markdown",
      "source": [
        "![image.png](data:image/png;base64,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)"
      ],
      "metadata": {
        "id": "Q3jXW0eSdMZJ"
      }
    },
    {
      "cell_type": "markdown",
      "source": [
        "2. 판다스에서 특정 조건을 삭제하는 메소드가 자주 쓰인다. 이에 대해서 정리해보았다.\n",
        "\n",
        "- 방법 1.\n",
        "\n",
        "![image.png](data:image/png;base64,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)\n"
      ],
      "metadata": {
        "id": "Rd1Qfpy5e_tj"
      }
    },
    {
      "cell_type": "markdown",
      "source": [
        "- 방법 2. DF = DF[DF.메뉴 != '돈까스']"
      ],
      "metadata": {
        "id": "hL5SyFoTfTYz"
      }
    },
    {
      "cell_type": "markdown",
      "source": [
        "3. 방법 1을 pandas 데이터 프레임을 이용해서 사용하면 keyError가 일어납니다. len(string)을 포함하는 조건식을 기반으로 pandas dataframe 행을 삭제하는 방법\n",
        "\n",
        "- [출처](http://daplus.net/python-keyerror%EB%A5%BC%EC%A3%BC%EB%8A%94-len-string%EC%9D%84-%ED%8F%AC%ED%95%A8%ED%95%98%EB%8A%94-%EC%A1%B0%EA%B1%B4%EC%8B%9D%EC%9D%84-%EA%B8%B0%EB%B0%98%EC%9C%BC%EB%A1%9C-%ED%8C%AC%EB%8D%94-dat/)\n",
        "\n",
        "> 오류 코드 : df[(len(df['column name']) < 2)]\n",
        "\n",
        "> 해결 코드 : df[df['column name'].map(len) < 2]\n",
        "\n",
        "4. 데이터의 양이 많아 모든 데이터에 hanspell 처리를 해주려면 정말 오래걸렸습니다. 데이터프레임을 병렬처리해주는 방법을 연구하고싶습니다.\n",
        "\n"
      ],
      "metadata": {
        "id": "tckiP-XDfiYq"
      }
    },
    {
      "cell_type": "markdown",
      "source": [
        " 5. 저번부터 계속 헷갈렸던 건데, 판다스 dataframe을 for문으로 돌리려면 (컬럼 정보를 주고 값을 뽑아 낼 수 있는 for 문)으로 돌리려면 `for df in dataframe:`형식으로 뽑으면 안된다\n",
        "\n",
        "\n",
        " - [참고한 사이트](https://www.delftstack.com/ko/howto/python-pandas/how-to-iterate-through-rows-of-a-dataframe-in-pandas/)\n",
        "1. Pandas DataFrame에서 행을 반복하는index 속성\n",
        "2. 파이썬에서 DataFrame의 행을 반복하는loc[]메소드\n",
        "3. 파이썬에서 DataFrame의 행을 반복하는iloc[]메소드\n",
        "4. pandas.DataFrame.iterrows()는 행 Pandas를 반복합니다\n",
        "5. pandas.DataFrame.itertuples는 행 Pandas를 반복합니다\n",
        "6. pandas.DataFrame.apply는 행 Pandas를 반복합니다\n",
        "\n",
        "메소드가 다양하므로 각각을 어떤 상황에서 써야하는지를 꼭 알아두자!\n",
        " \n",
        " "
      ],
      "metadata": {
        "id": "T5ZQsYQLe9Qm"
      }
    }
  ]
}