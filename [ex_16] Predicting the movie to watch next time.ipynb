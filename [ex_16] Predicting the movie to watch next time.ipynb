{
 "cells": [
  {
   "cell_type": "markdown",
   "id": "67ce3d26",
   "metadata": {},
   "source": [
    "오늘은 Movielens 1M Dataset을 기반으로, Session based Recommendation 시스템을 제작해보았습니다.\n"
   ]
  },
  {
   "cell_type": "code",
   "execution_count": 1,
   "id": "92d2f4c0",
   "metadata": {
    "scrolled": false
   },
   "outputs": [
    {
     "name": "stdout",
     "output_type": "stream",
     "text": [
      "1.3.3\n",
      "2.6.0\n"
     ]
    }
   ],
   "source": [
    "import pandas\n",
    "import tensorflow\n",
    "\n",
    "from datetime import datetime as dt\n",
    "# import datetime as dt\n",
    "from pathlib import Path\n",
    "import os\n",
    "import numpy as np\n",
    "import pandas as pd\n",
    "import warnings\n",
    "warnings.filterwarnings('ignore')\n",
    "\n",
    "\n",
    "import numpy as np\n",
    "import tensorflow as tf\n",
    "from tensorflow.keras.layers import Input, Dense, Dropout, GRU\n",
    "from tensorflow.keras.losses import categorical_crossentropy\n",
    "from tensorflow.keras.models import Model\n",
    "from tensorflow.keras.optimizers import Adam\n",
    "from tensorflow.keras.utils import to_categorical\n",
    "from tqdm import tqdm\n",
    "\n",
    "print(pandas.__version__)\n",
    "print(tensorflow.__version__)"
   ]
  },
  {
   "cell_type": "code",
   "execution_count": 2,
   "id": "0705e767",
   "metadata": {},
   "outputs": [
    {
     "data": {
      "text/html": [
       "<div>\n",
       "<style scoped>\n",
       "    .dataframe tbody tr th:only-of-type {\n",
       "        vertical-align: middle;\n",
       "    }\n",
       "\n",
       "    .dataframe tbody tr th {\n",
       "        vertical-align: top;\n",
       "    }\n",
       "\n",
       "    .dataframe thead th {\n",
       "        text-align: right;\n",
       "    }\n",
       "</style>\n",
       "<table border=\"1\" class=\"dataframe\">\n",
       "  <thead>\n",
       "    <tr style=\"text-align: right;\">\n",
       "      <th></th>\n",
       "      <th>UserId</th>\n",
       "      <th>ItemId</th>\n",
       "      <th>Rating</th>\n",
       "      <th>Time</th>\n",
       "    </tr>\n",
       "  </thead>\n",
       "  <tbody>\n",
       "    <tr>\n",
       "      <th>0</th>\n",
       "      <td>1</td>\n",
       "      <td>1193</td>\n",
       "      <td>5</td>\n",
       "      <td>978300760</td>\n",
       "    </tr>\n",
       "    <tr>\n",
       "      <th>1</th>\n",
       "      <td>1</td>\n",
       "      <td>661</td>\n",
       "      <td>3</td>\n",
       "      <td>978302109</td>\n",
       "    </tr>\n",
       "    <tr>\n",
       "      <th>2</th>\n",
       "      <td>1</td>\n",
       "      <td>914</td>\n",
       "      <td>3</td>\n",
       "      <td>978301968</td>\n",
       "    </tr>\n",
       "    <tr>\n",
       "      <th>3</th>\n",
       "      <td>1</td>\n",
       "      <td>3408</td>\n",
       "      <td>4</td>\n",
       "      <td>978300275</td>\n",
       "    </tr>\n",
       "    <tr>\n",
       "      <th>4</th>\n",
       "      <td>1</td>\n",
       "      <td>2355</td>\n",
       "      <td>5</td>\n",
       "      <td>978824291</td>\n",
       "    </tr>\n",
       "    <tr>\n",
       "      <th>...</th>\n",
       "      <td>...</td>\n",
       "      <td>...</td>\n",
       "      <td>...</td>\n",
       "      <td>...</td>\n",
       "    </tr>\n",
       "    <tr>\n",
       "      <th>1000204</th>\n",
       "      <td>6040</td>\n",
       "      <td>1091</td>\n",
       "      <td>1</td>\n",
       "      <td>956716541</td>\n",
       "    </tr>\n",
       "    <tr>\n",
       "      <th>1000205</th>\n",
       "      <td>6040</td>\n",
       "      <td>1094</td>\n",
       "      <td>5</td>\n",
       "      <td>956704887</td>\n",
       "    </tr>\n",
       "    <tr>\n",
       "      <th>1000206</th>\n",
       "      <td>6040</td>\n",
       "      <td>562</td>\n",
       "      <td>5</td>\n",
       "      <td>956704746</td>\n",
       "    </tr>\n",
       "    <tr>\n",
       "      <th>1000207</th>\n",
       "      <td>6040</td>\n",
       "      <td>1096</td>\n",
       "      <td>4</td>\n",
       "      <td>956715648</td>\n",
       "    </tr>\n",
       "    <tr>\n",
       "      <th>1000208</th>\n",
       "      <td>6040</td>\n",
       "      <td>1097</td>\n",
       "      <td>4</td>\n",
       "      <td>956715569</td>\n",
       "    </tr>\n",
       "  </tbody>\n",
       "</table>\n",
       "<p>1000209 rows × 4 columns</p>\n",
       "</div>"
      ],
      "text/plain": [
       "         UserId  ItemId  Rating       Time\n",
       "0             1    1193       5  978300760\n",
       "1             1     661       3  978302109\n",
       "2             1     914       3  978301968\n",
       "3             1    3408       4  978300275\n",
       "4             1    2355       5  978824291\n",
       "...         ...     ...     ...        ...\n",
       "1000204    6040    1091       1  956716541\n",
       "1000205    6040    1094       5  956704887\n",
       "1000206    6040     562       5  956704746\n",
       "1000207    6040    1096       4  956715648\n",
       "1000208    6040    1097       4  956715569\n",
       "\n",
       "[1000209 rows x 4 columns]"
      ]
     },
     "execution_count": 2,
     "metadata": {},
     "output_type": "execute_result"
    }
   ],
   "source": [
    "data_path = Path(os.getenv('HOME')+'/aiffel/yoochoose/data/') \n",
    "train_path = data_path / 'ratings.dat'\n",
    "\n",
    "def load_data(data_path: Path, nrows=None):\n",
    "    data = pd.read_csv(data_path, sep='::', header=None, usecols=[0, 1, 2, 3], dtype={0: np.int32, 1: np.int32, 2: np.int32}, nrows=nrows)\n",
    "    data.columns = ['UserId', 'ItemId', 'Rating', 'Time']\n",
    "    return data\n",
    "\n",
    "data = load_data(train_path, None)\n",
    "# data.sort_values(['UserId', 'Time'], inplace=True)  # data를 id와 시간 순서로 정렬해줍니다.\n",
    "data"
   ]
  },
  {
   "cell_type": "markdown",
   "id": "ae17f598",
   "metadata": {},
   "source": [
    "# Step 1. 데이터의 전처리\n",
    "\n",
    "## 1-1. Time 컬럼을 yyyy-mm-dd형식으로 변경해 주었습니다"
   ]
  },
  {
   "cell_type": "code",
   "execution_count": null,
   "id": "ee7e45ac",
   "metadata": {},
   "outputs": [],
   "source": []
  },
  {
   "cell_type": "code",
   "execution_count": 3,
   "id": "72a60d72",
   "metadata": {},
   "outputs": [],
   "source": [
    "oldest, latest = data['Time'].min(), data['Time'].max()"
   ]
  },
  {
   "cell_type": "code",
   "execution_count": 4,
   "id": "77184e61",
   "metadata": {},
   "outputs": [
    {
     "data": {
      "text/plain": [
       "956703932"
      ]
     },
     "execution_count": 4,
     "metadata": {},
     "output_type": "execute_result"
    }
   ],
   "source": [
    "oldest"
   ]
  },
  {
   "cell_type": "code",
   "execution_count": 5,
   "id": "0f4341f4",
   "metadata": {},
   "outputs": [
    {
     "name": "stdout",
     "output_type": "stream",
     "text": [
      "2000-04-25 23:05:32\n"
     ]
    }
   ],
   "source": [
    "print(dt.fromtimestamp(oldest).strftime(\"%Y-%m-%d %H:%M:%S\"))"
   ]
  },
  {
   "cell_type": "code",
   "execution_count": 6,
   "id": "cce5e4a0",
   "metadata": {
    "scrolled": true
   },
   "outputs": [],
   "source": [
    "# test_time = pd.to_datetime(data['Time'])\n",
    "test_time = data['Time']\n",
    "for idx, time in enumerate(test_time):\n",
    "    test_time[idx] = dt.fromtimestamp((time)).strftime(\"%Y-%m-%d %H:%M:%S\")\n",
    "# # test_time.dt.hour\n",
    "# test_time.dt.date\n",
    "# test_time[0]"
   ]
  },
  {
   "cell_type": "code",
   "execution_count": 7,
   "id": "da5817e5",
   "metadata": {},
   "outputs": [],
   "source": [
    "test_time = pd.DataFrame(test_time)"
   ]
  },
  {
   "cell_type": "code",
   "execution_count": 8,
   "id": "5880efb5",
   "metadata": {},
   "outputs": [
    {
     "data": {
      "text/html": [
       "<div>\n",
       "<style scoped>\n",
       "    .dataframe tbody tr th:only-of-type {\n",
       "        vertical-align: middle;\n",
       "    }\n",
       "\n",
       "    .dataframe tbody tr th {\n",
       "        vertical-align: top;\n",
       "    }\n",
       "\n",
       "    .dataframe thead th {\n",
       "        text-align: right;\n",
       "    }\n",
       "</style>\n",
       "<table border=\"1\" class=\"dataframe\">\n",
       "  <thead>\n",
       "    <tr style=\"text-align: right;\">\n",
       "      <th></th>\n",
       "      <th>Time</th>\n",
       "    </tr>\n",
       "  </thead>\n",
       "  <tbody>\n",
       "    <tr>\n",
       "      <th>0</th>\n",
       "      <td>2000-12-31 22:12:40</td>\n",
       "    </tr>\n",
       "    <tr>\n",
       "      <th>1</th>\n",
       "      <td>2000-12-31 22:35:09</td>\n",
       "    </tr>\n",
       "    <tr>\n",
       "      <th>2</th>\n",
       "      <td>2000-12-31 22:32:48</td>\n",
       "    </tr>\n",
       "    <tr>\n",
       "      <th>3</th>\n",
       "      <td>2000-12-31 22:04:35</td>\n",
       "    </tr>\n",
       "    <tr>\n",
       "      <th>4</th>\n",
       "      <td>2001-01-06 23:38:11</td>\n",
       "    </tr>\n",
       "    <tr>\n",
       "      <th>...</th>\n",
       "      <td>...</td>\n",
       "    </tr>\n",
       "    <tr>\n",
       "      <th>1000204</th>\n",
       "      <td>2000-04-26 02:35:41</td>\n",
       "    </tr>\n",
       "    <tr>\n",
       "      <th>1000205</th>\n",
       "      <td>2000-04-25 23:21:27</td>\n",
       "    </tr>\n",
       "    <tr>\n",
       "      <th>1000206</th>\n",
       "      <td>2000-04-25 23:19:06</td>\n",
       "    </tr>\n",
       "    <tr>\n",
       "      <th>1000207</th>\n",
       "      <td>2000-04-26 02:20:48</td>\n",
       "    </tr>\n",
       "    <tr>\n",
       "      <th>1000208</th>\n",
       "      <td>2000-04-26 02:19:29</td>\n",
       "    </tr>\n",
       "  </tbody>\n",
       "</table>\n",
       "<p>1000209 rows × 1 columns</p>\n",
       "</div>"
      ],
      "text/plain": [
       "                        Time\n",
       "0        2000-12-31 22:12:40\n",
       "1        2000-12-31 22:35:09\n",
       "2        2000-12-31 22:32:48\n",
       "3        2000-12-31 22:04:35\n",
       "4        2001-01-06 23:38:11\n",
       "...                      ...\n",
       "1000204  2000-04-26 02:35:41\n",
       "1000205  2000-04-25 23:21:27\n",
       "1000206  2000-04-25 23:19:06\n",
       "1000207  2000-04-26 02:20:48\n",
       "1000208  2000-04-26 02:19:29\n",
       "\n",
       "[1000209 rows x 1 columns]"
      ]
     },
     "execution_count": 8,
     "metadata": {},
     "output_type": "execute_result"
    }
   ],
   "source": [
    "test_time"
   ]
  },
  {
   "cell_type": "code",
   "execution_count": 9,
   "id": "ebf4fcfe",
   "metadata": {},
   "outputs": [],
   "source": [
    "data['Time'] = test_time"
   ]
  },
  {
   "cell_type": "code",
   "execution_count": 10,
   "id": "8a71acf3",
   "metadata": {},
   "outputs": [],
   "source": [
    "del test_time"
   ]
  },
  {
   "cell_type": "code",
   "execution_count": 11,
   "id": "954e86f2",
   "metadata": {},
   "outputs": [
    {
     "data": {
      "text/plain": [
       "count                 1000209\n",
       "unique                 458455\n",
       "top       2000-11-29 20:06:42\n",
       "freq                       30\n",
       "Name: Time, dtype: object"
      ]
     },
     "execution_count": 11,
     "metadata": {},
     "output_type": "execute_result"
    }
   ],
   "source": [
    "data['Time'].describe()"
   ]
  },
  {
   "cell_type": "markdown",
   "id": "b043dca0",
   "metadata": {},
   "source": [
    "## 1-2. 영화 추천을 위해서는, 평점이 3점 이상인 것만 남겨주었습니다.\n",
    "\n",
    "아래 cleansing 메소드로 대체해서 사용 \\^_\\^"
   ]
  },
  {
   "cell_type": "code",
   "execution_count": 12,
   "id": "2dd3f1c8",
   "metadata": {},
   "outputs": [],
   "source": [
    "# data = data[data['Rating']>=3]"
   ]
  },
  {
   "cell_type": "code",
   "execution_count": 13,
   "id": "7271e98e",
   "metadata": {},
   "outputs": [],
   "source": [
    "# data['Rating'].describe()"
   ]
  },
  {
   "cell_type": "markdown",
   "id": "8aa32b33",
   "metadata": {},
   "source": [
    "## 1-3. Session ID 필터링"
   ]
  },
  {
   "cell_type": "code",
   "execution_count": 14,
   "id": "f4ed21a4",
   "metadata": {},
   "outputs": [],
   "source": [
    "# from pandas_visual_analysis import VisualAnalysis"
   ]
  },
  {
   "cell_type": "code",
   "execution_count": 15,
   "id": "56121533",
   "metadata": {},
   "outputs": [],
   "source": [
    "# VisualAnalysis(data)"
   ]
  },
  {
   "cell_type": "code",
   "execution_count": 16,
   "id": "76e46b5a",
   "metadata": {},
   "outputs": [
    {
     "data": {
      "text/plain": [
       "UserId\n",
       "1        53\n",
       "2       129\n",
       "3        51\n",
       "4        21\n",
       "5       198\n",
       "       ... \n",
       "6036    888\n",
       "6037    202\n",
       "6038     20\n",
       "6039    123\n",
       "6040    341\n",
       "Length: 6040, dtype: int64"
      ]
     },
     "execution_count": 16,
     "metadata": {},
     "output_type": "execute_result"
    }
   ],
   "source": [
    "session_length = data.groupby('UserId').size()\n",
    "session_length"
   ]
  },
  {
   "cell_type": "code",
   "execution_count": 17,
   "id": "4332f0d7",
   "metadata": {},
   "outputs": [
    {
     "data": {
      "text/plain": [
       "count    6040.000000\n",
       "mean      165.597517\n",
       "std       192.747029\n",
       "min        20.000000\n",
       "25%        44.000000\n",
       "50%        96.000000\n",
       "75%       208.000000\n",
       "max      2314.000000\n",
       "dtype: float64"
      ]
     },
     "execution_count": 17,
     "metadata": {},
     "output_type": "execute_result"
    }
   ],
   "source": [
    "session_length.describe()"
   ]
  },
  {
   "cell_type": "code",
   "execution_count": 18,
   "id": "efd12357",
   "metadata": {},
   "outputs": [
    {
     "data": {
      "text/plain": [
       "96.0"
      ]
     },
     "execution_count": 18,
     "metadata": {},
     "output_type": "execute_result"
    }
   ],
   "source": [
    "session_length.median()"
   ]
  },
  {
   "cell_type": "markdown",
   "id": "1b4adba7",
   "metadata": {},
   "source": [
    "# 세션의 길이 최소 : 1, 중간값 : 81, 평균 : 138, 최대 : 1968\n",
    "\n",
    "1. A 작품을 보고, B작품도 보았다 라는 추천을 하기 위해선, session 길이가 2이상인 것만 남겨주려합니다.\n",
    "2. 중간값은 81, 평균은 138입니다. 사용자 75%선의 Session 길이가 177입니다. 저는 사용자 75%의 데이터만 남겨주고 그 이상은 삭제할것입니다.\n",
    "\n",
    "그전에 Session 길이에 대한 감을 잘 파악하기 위해 시각화를 시도해보았습니다."
   ]
  },
  {
   "cell_type": "code",
   "execution_count": 19,
   "id": "755734a8",
   "metadata": {},
   "outputs": [
    {
     "data": {
      "text/plain": [
       "20      0.014238\n",
       "21      0.029305\n",
       "22      0.042053\n",
       "23      0.055464\n",
       "24      0.068874\n",
       "          ...   \n",
       "1271    0.998179\n",
       "1277    0.998344\n",
       "1286    0.998510\n",
       "1302    0.998675\n",
       "1323    0.998841\n",
       "Length: 736, dtype: float64"
      ]
     },
     "execution_count": 19,
     "metadata": {},
     "output_type": "execute_result"
    }
   ],
   "source": [
    "length_count = session_length.groupby(session_length).size()\n",
    "length_percent_cumsum = length_count.cumsum() / length_count.sum()\n",
    "length_percent_cumsum_999 = length_percent_cumsum[length_percent_cumsum < 0.999]\n",
    "\n",
    "length_percent_cumsum_999"
   ]
  },
  {
   "cell_type": "code",
   "execution_count": 20,
   "id": "993edebb",
   "metadata": {},
   "outputs": [
    {
     "data": {
      "image/png": "[encoded data removed]",
      "text/plain": [
       "<Figure size 864x720 with 1 Axes>"
      ]
     },
     "metadata": {
      "needs_background": "light"
     },
     "output_type": "display_data"
    }
   ],
   "source": [
    "import matplotlib.pyplot as plt\n",
    "\n",
    "plt.figure(figsize=(12, 10))\n",
    "plt.bar(x=length_percent_cumsum_999.index,\n",
    "        height=length_percent_cumsum_999, color='red')\n",
    "plt.xticks(length_percent_cumsum_999.index)\n",
    "plt.yticks(np.arange(0, 1.01, 0.05))\n",
    "plt.title('Cumsum Percentage Until 0.999', size=20)\n",
    "plt.show()"
   ]
  },
  {
   "cell_type": "markdown",
   "id": "046b8f56",
   "metadata": {},
   "source": [
    "# Datathon의 영향으로, x축의 라벨값을 좋게 보여주려고 코드를 수정했는데, ax와 plt의 차이를 더 공부해야겠습니다."
   ]
  },
  {
   "cell_type": "code",
   "execution_count": 21,
   "id": "f396559f",
   "metadata": {},
   "outputs": [
    {
     "data": {
      "image/png": "[encoded data removed]",
      "text/plain": [
       "<Figure size 864x720 with 1 Axes>"
      ]
     },
     "metadata": {
      "needs_background": "light"
     },
     "output_type": "display_data"
    },
    {
     "data": {
      "image/png": "[encoded data removed]",
      "text/plain": [
       "<Figure size 864x720 with 1 Axes>"
      ]
     },
     "metadata": {
      "needs_background": "light"
     },
     "output_type": "display_data"
    }
   ],
   "source": [
    "# 이게 젤 낫긴한데 title등의 옵션이사라져버림 ㅎㅎ\n",
    "import matplotlib.pyplot as plt\n",
    "\n",
    "fig = plt.figure(figsize=(12, 10))\n",
    "ax = plt.subplot(1, 1, 1)\n",
    "\n",
    "# ax.bar([i for i in range(len(length_percent_cumsum_999.index))], \n",
    "#        length_percent_cumsum_999, label='Session길이 누적합')\n",
    "\n",
    "plt.figure(figsize=(12, 10))\n",
    "ax.bar(x=length_percent_cumsum_999.index,\n",
    "        height=length_percent_cumsum_999, color='red', label='Session길이 누적합')\n",
    "plt.xticks(length_percent_cumsum_999.index)\n",
    "\n",
    "for label in ax.xaxis.get_ticklabels() :\n",
    "    label.set_rotation(45)\n",
    "\n",
    "plt.yticks(np.arange(0, 1.01, 0.05))\n",
    "plt.title('Cumsum Percentage Until 0.999', size=20)\n",
    "plt.show()"
   ]
  },
  {
   "cell_type": "markdown",
   "id": "7b8d7f94",
   "metadata": {},
   "source": [
    "# session 길이가 2미만인 그룹  & 177이상인 그룹 & Rating < 3인 그룹 삭제"
   ]
  },
  {
   "cell_type": "code",
   "execution_count": 22,
   "id": "3ce3590f",
   "metadata": {},
   "outputs": [],
   "source": [
    "# short_session을 제거한 다음 unpopular item을 제거하면 다시 길이가 1인 session이 생길 수 있습니다.\n",
    "# 이를 위해 반복문을 통해 지속적으로 제거 합니다.\n",
    "def cleanse_recursive(data: pd.DataFrame, shortest, longest, least_rating) -> pd.DataFrame:\n",
    "    while True:\n",
    "        before_len = len(data)\n",
    "        data = cleanse_unpopular_item(data, least_rating)\n",
    "        data = cleanse_short_session(data, shortest)\n",
    "        data = cleanse_long_session(data, longest)\n",
    "        after_len = len(data)\n",
    "        if before_len == after_len:\n",
    "            break\n",
    "    return data\n",
    "\n",
    "\n",
    "def cleanse_short_session(data: pd.DataFrame, shortest):\n",
    "    session_len = data.groupby('UserId').size()\n",
    "    session_use = session_len[session_len >= shortest].index\n",
    "    data = data[data['UserId'].isin(session_use)]\n",
    "    return data\n",
    "\n",
    "def cleanse_long_session(data: pd.DataFrame, longest):\n",
    "    session_len = data.groupby('UserId').size()\n",
    "    session_use = session_len[session_len < longest].index\n",
    "    data = data[data['UserId'].isin(session_use)]\n",
    "    return data\n",
    "\n",
    "# def cleanse_unpopular_item(data: pd.DataFrame, least_rating):\n",
    "#     item_popular = data.groupby('ItemId').size()\n",
    "#     item_use = item_popular[item_popular >= least_rating].index\n",
    "#     data = data[data['Rating'].isin(item_use)]\n",
    "#     return data\n",
    "\n",
    "\n",
    "def cleanse_unpopular_item(data: pd.DataFrame, least_rating):\n",
    "    data = data[data['Rating']>=least_rating]\n",
    "    return data"
   ]
  },
  {
   "cell_type": "code",
   "execution_count": 23,
   "id": "042c4f55",
   "metadata": {},
   "outputs": [
    {
     "data": {
      "text/html": [
       "<div>\n",
       "<style scoped>\n",
       "    .dataframe tbody tr th:only-of-type {\n",
       "        vertical-align: middle;\n",
       "    }\n",
       "\n",
       "    .dataframe tbody tr th {\n",
       "        vertical-align: top;\n",
       "    }\n",
       "\n",
       "    .dataframe thead th {\n",
       "        text-align: right;\n",
       "    }\n",
       "</style>\n",
       "<table border=\"1\" class=\"dataframe\">\n",
       "  <thead>\n",
       "    <tr style=\"text-align: right;\">\n",
       "      <th></th>\n",
       "      <th>UserId</th>\n",
       "      <th>ItemId</th>\n",
       "      <th>Rating</th>\n",
       "      <th>Time</th>\n",
       "    </tr>\n",
       "  </thead>\n",
       "  <tbody>\n",
       "    <tr>\n",
       "      <th>0</th>\n",
       "      <td>1</td>\n",
       "      <td>1193</td>\n",
       "      <td>5</td>\n",
       "      <td>2000-12-31 22:12:40</td>\n",
       "    </tr>\n",
       "    <tr>\n",
       "      <th>1</th>\n",
       "      <td>1</td>\n",
       "      <td>661</td>\n",
       "      <td>3</td>\n",
       "      <td>2000-12-31 22:35:09</td>\n",
       "    </tr>\n",
       "    <tr>\n",
       "      <th>2</th>\n",
       "      <td>1</td>\n",
       "      <td>914</td>\n",
       "      <td>3</td>\n",
       "      <td>2000-12-31 22:32:48</td>\n",
       "    </tr>\n",
       "    <tr>\n",
       "      <th>3</th>\n",
       "      <td>1</td>\n",
       "      <td>3408</td>\n",
       "      <td>4</td>\n",
       "      <td>2000-12-31 22:04:35</td>\n",
       "    </tr>\n",
       "    <tr>\n",
       "      <th>4</th>\n",
       "      <td>1</td>\n",
       "      <td>2355</td>\n",
       "      <td>5</td>\n",
       "      <td>2001-01-06 23:38:11</td>\n",
       "    </tr>\n",
       "    <tr>\n",
       "      <th>...</th>\n",
       "      <td>...</td>\n",
       "      <td>...</td>\n",
       "      <td>...</td>\n",
       "      <td>...</td>\n",
       "    </tr>\n",
       "    <tr>\n",
       "      <th>999863</th>\n",
       "      <td>6039</td>\n",
       "      <td>1081</td>\n",
       "      <td>4</td>\n",
       "      <td>2000-04-25 23:39:49</td>\n",
       "    </tr>\n",
       "    <tr>\n",
       "      <th>999864</th>\n",
       "      <td>6039</td>\n",
       "      <td>1083</td>\n",
       "      <td>3</td>\n",
       "      <td>2000-04-25 23:40:51</td>\n",
       "    </tr>\n",
       "    <tr>\n",
       "      <th>999865</th>\n",
       "      <td>6039</td>\n",
       "      <td>1086</td>\n",
       "      <td>4</td>\n",
       "      <td>2000-04-25 23:43:02</td>\n",
       "    </tr>\n",
       "    <tr>\n",
       "      <th>999866</th>\n",
       "      <td>6039</td>\n",
       "      <td>1088</td>\n",
       "      <td>4</td>\n",
       "      <td>2000-04-25 23:40:19</td>\n",
       "    </tr>\n",
       "    <tr>\n",
       "      <th>999867</th>\n",
       "      <td>6039</td>\n",
       "      <td>1097</td>\n",
       "      <td>4</td>\n",
       "      <td>2000-04-25 23:36:51</td>\n",
       "    </tr>\n",
       "  </tbody>\n",
       "</table>\n",
       "<p>308506 rows × 4 columns</p>\n",
       "</div>"
      ],
      "text/plain": [
       "        UserId  ItemId  Rating                 Time\n",
       "0            1    1193       5  2000-12-31 22:12:40\n",
       "1            1     661       3  2000-12-31 22:35:09\n",
       "2            1     914       3  2000-12-31 22:32:48\n",
       "3            1    3408       4  2000-12-31 22:04:35\n",
       "4            1    2355       5  2001-01-06 23:38:11\n",
       "...        ...     ...     ...                  ...\n",
       "999863    6039    1081       4  2000-04-25 23:39:49\n",
       "999864    6039    1083       3  2000-04-25 23:40:51\n",
       "999865    6039    1086       4  2000-04-25 23:43:02\n",
       "999866    6039    1088       4  2000-04-25 23:40:19\n",
       "999867    6039    1097       4  2000-04-25 23:36:51\n",
       "\n",
       "[308506 rows x 4 columns]"
      ]
     },
     "execution_count": 23,
     "metadata": {},
     "output_type": "execute_result"
    }
   ],
   "source": [
    "data = cleanse_recursive(data, shortest=2, longest=177, least_rating=3)\n",
    "data"
   ]
  },
  {
   "cell_type": "markdown",
   "id": "433ef6a1",
   "metadata": {},
   "source": [
    "# 너무 긴 세션을 삭제했더니 전체 컬럼 길이가 너무 짧아져서 후에 삭제해야 할 수도 있을 것 같습니다,,\n",
    "\n",
    "- cleanse_long_session 주석처리할 경우 : 836477 \n",
    "- cleanse_long_session 사용할 경우 :308506 "
   ]
  },
  {
   "cell_type": "code",
   "execution_count": 24,
   "id": "b62834aa",
   "metadata": {},
   "outputs": [
    {
     "data": {
      "text/plain": [
       "count    308506.000000\n",
       "mean          4.043853\n",
       "std           0.767743\n",
       "min           3.000000\n",
       "25%           3.000000\n",
       "50%           4.000000\n",
       "75%           5.000000\n",
       "max           5.000000\n",
       "Name: Rating, dtype: float64"
      ]
     },
     "execution_count": 24,
     "metadata": {},
     "output_type": "execute_result"
    }
   ],
   "source": [
    "data['Rating'].describe()"
   ]
  },
  {
   "cell_type": "markdown",
   "id": "caf5bcc3",
   "metadata": {},
   "source": [
    "\n",
    "# 1-4.  Train / Valid / Test split\n",
    "\n",
    "`date['TIme']`컬럼을 일자별 데이터로 변경"
   ]
  },
  {
   "cell_type": "code",
   "execution_count": 25,
   "id": "1ef04d81",
   "metadata": {},
   "outputs": [
    {
     "data": {
      "text/plain": [
       "0         2000-12-31 22:12:40\n",
       "1         2000-12-31 22:35:09\n",
       "2         2000-12-31 22:32:48\n",
       "3         2000-12-31 22:04:35\n",
       "4         2001-01-06 23:38:11\n",
       "                 ...         \n",
       "999863    2000-04-25 23:39:49\n",
       "999864    2000-04-25 23:40:51\n",
       "999865    2000-04-25 23:43:02\n",
       "999866    2000-04-25 23:40:19\n",
       "999867    2000-04-25 23:36:51\n",
       "Name: Time, Length: 308506, dtype: object"
      ]
     },
     "execution_count": 25,
     "metadata": {},
     "output_type": "execute_result"
    }
   ],
   "source": [
    "data['Time']"
   ]
  },
  {
   "cell_type": "code",
   "execution_count": 26,
   "id": "44d2e4b1",
   "metadata": {},
   "outputs": [],
   "source": [
    "test_time = pd.to_datetime(data['Time'])\n",
    "test_time = test_time.dt.date"
   ]
  },
  {
   "cell_type": "code",
   "execution_count": 27,
   "id": "8ee3d964",
   "metadata": {},
   "outputs": [
    {
     "data": {
      "text/plain": [
       "0         2000-12-31\n",
       "1         2000-12-31\n",
       "2         2000-12-31\n",
       "3         2000-12-31\n",
       "4         2001-01-06\n",
       "             ...    \n",
       "999863    2000-04-25\n",
       "999864    2000-04-25\n",
       "999865    2000-04-25\n",
       "999866    2000-04-25\n",
       "999867    2000-04-25\n",
       "Name: Time, Length: 308506, dtype: object"
      ]
     },
     "execution_count": 27,
     "metadata": {},
     "output_type": "execute_result"
    }
   ],
   "source": [
    "test_time"
   ]
  },
  {
   "cell_type": "code",
   "execution_count": 28,
   "id": "4ee61b18",
   "metadata": {},
   "outputs": [],
   "source": [
    "data['Time'] = test_time\n",
    "del test_time"
   ]
  },
  {
   "cell_type": "code",
   "execution_count": 29,
   "id": "c58e9ce2",
   "metadata": {},
   "outputs": [
    {
     "data": {
      "text/plain": [
       "datetime.date(2003, 2, 27)"
      ]
     },
     "execution_count": 29,
     "metadata": {},
     "output_type": "execute_result"
    }
   ],
   "source": [
    "data['Time'].max()"
   ]
  },
  {
   "cell_type": "code",
   "execution_count": 30,
   "id": "ac9e6699",
   "metadata": {},
   "outputs": [
    {
     "data": {
      "text/plain": [
       "count         308506\n",
       "unique           901\n",
       "top       2000-11-20\n",
       "freq           23211\n",
       "Name: Time, dtype: object"
      ]
     },
     "execution_count": 30,
     "metadata": {},
     "output_type": "execute_result"
    }
   ],
   "source": [
    "data['Time'].describe()"
   ]
  },
  {
   "cell_type": "code",
   "execution_count": 31,
   "id": "db96e9e9",
   "metadata": {},
   "outputs": [],
   "source": [
    "couted_date = data.groupby('Time').size()"
   ]
  },
  {
   "cell_type": "code",
   "execution_count": 32,
   "id": "14d520b1",
   "metadata": {},
   "outputs": [
    {
     "data": {
      "text/plain": [
       "Time\n",
       "2000-04-25     118\n",
       "2000-04-26    1784\n",
       "2000-04-27     618\n",
       "2000-04-28     605\n",
       "2000-04-29     375\n",
       "              ... \n",
       "2003-02-21      27\n",
       "2003-02-22       2\n",
       "2003-02-24      17\n",
       "2003-02-25       2\n",
       "2003-02-27       2\n",
       "Length: 901, dtype: int64"
      ]
     },
     "execution_count": 32,
     "metadata": {},
     "output_type": "execute_result"
    }
   ],
   "source": [
    "couted_date"
   ]
  },
  {
   "cell_type": "code",
   "execution_count": 33,
   "id": "d4cbf6ec",
   "metadata": {},
   "outputs": [
    {
     "data": {
      "text/html": [
       "<div>\n",
       "<style scoped>\n",
       "    .dataframe tbody tr th:only-of-type {\n",
       "        vertical-align: middle;\n",
       "    }\n",
       "\n",
       "    .dataframe tbody tr th {\n",
       "        vertical-align: top;\n",
       "    }\n",
       "\n",
       "    .dataframe thead th {\n",
       "        text-align: right;\n",
       "    }\n",
       "</style>\n",
       "<table border=\"1\" class=\"dataframe\">\n",
       "  <thead>\n",
       "    <tr style=\"text-align: right;\">\n",
       "      <th></th>\n",
       "      <th>0</th>\n",
       "    </tr>\n",
       "    <tr>\n",
       "      <th>Time</th>\n",
       "      <th></th>\n",
       "    </tr>\n",
       "  </thead>\n",
       "  <tbody>\n",
       "    <tr>\n",
       "      <th>2000-04-25</th>\n",
       "      <td>118</td>\n",
       "    </tr>\n",
       "    <tr>\n",
       "      <th>2000-04-26</th>\n",
       "      <td>1784</td>\n",
       "    </tr>\n",
       "    <tr>\n",
       "      <th>2000-04-27</th>\n",
       "      <td>618</td>\n",
       "    </tr>\n",
       "    <tr>\n",
       "      <th>2000-04-28</th>\n",
       "      <td>605</td>\n",
       "    </tr>\n",
       "    <tr>\n",
       "      <th>2000-04-29</th>\n",
       "      <td>375</td>\n",
       "    </tr>\n",
       "    <tr>\n",
       "      <th>...</th>\n",
       "      <td>...</td>\n",
       "    </tr>\n",
       "    <tr>\n",
       "      <th>2003-02-21</th>\n",
       "      <td>27</td>\n",
       "    </tr>\n",
       "    <tr>\n",
       "      <th>2003-02-22</th>\n",
       "      <td>2</td>\n",
       "    </tr>\n",
       "    <tr>\n",
       "      <th>2003-02-24</th>\n",
       "      <td>17</td>\n",
       "    </tr>\n",
       "    <tr>\n",
       "      <th>2003-02-25</th>\n",
       "      <td>2</td>\n",
       "    </tr>\n",
       "    <tr>\n",
       "      <th>2003-02-27</th>\n",
       "      <td>2</td>\n",
       "    </tr>\n",
       "  </tbody>\n",
       "</table>\n",
       "<p>901 rows × 1 columns</p>\n",
       "</div>"
      ],
      "text/plain": [
       "               0\n",
       "Time            \n",
       "2000-04-25   118\n",
       "2000-04-26  1784\n",
       "2000-04-27   618\n",
       "2000-04-28   605\n",
       "2000-04-29   375\n",
       "...          ...\n",
       "2003-02-21    27\n",
       "2003-02-22     2\n",
       "2003-02-24    17\n",
       "2003-02-25     2\n",
       "2003-02-27     2\n",
       "\n",
       "[901 rows x 1 columns]"
      ]
     },
     "execution_count": 33,
     "metadata": {},
     "output_type": "execute_result"
    }
   ],
   "source": [
    "couted_date = pd.DataFrame(couted_date)\n",
    "couted_date"
   ]
  },
  {
   "cell_type": "code",
   "execution_count": 34,
   "id": "33bc265a",
   "metadata": {},
   "outputs": [
    {
     "data": {
      "text/plain": [
       "Index([2000-04-25, 2000-04-26, 2000-04-27, 2000-04-28, 2000-04-29, 2000-04-30,\n",
       "       2000-05-01, 2000-05-02, 2000-05-03, 2000-05-04,\n",
       "       ...\n",
       "       2003-02-14, 2003-02-15, 2003-02-16, 2003-02-17, 2003-02-20, 2003-02-21,\n",
       "       2003-02-22, 2003-02-24, 2003-02-25, 2003-02-27],\n",
       "      dtype='object', name='Time', length=901)"
      ]
     },
     "execution_count": 34,
     "metadata": {},
     "output_type": "execute_result"
    }
   ],
   "source": [
    "date_index = couted_date.index\n",
    "date_index"
   ]
  },
  {
   "cell_type": "code",
   "execution_count": 35,
   "id": "bd8dbe29",
   "metadata": {
    "scrolled": true
   },
   "outputs": [
    {
     "data": {
      "text/plain": [
       "array([  118,  1784,   618,   605,   375,    87,  1133,   759,   911,\n",
       "         814,   564,   263,   370,   689,  1042,   331,   471,  1333,\n",
       "         344,   494,   340,   840,  1440,   615,   607,   667,   679,\n",
       "         453,   508,   819,  1663,   946,   314,   654,   878,   819,\n",
       "         819,  1102,  1443,   819,   497,   460,  1297,   474,   344,\n",
       "         372,   950,   892,   409,   722,   359,   888,   633,   357,\n",
       "         376,   628,   613,   763,   804,   493,   425,   657,   706,\n",
       "         452,   266,   402,  1041,  1374,  1746,  4285,  1748,  1825,\n",
       "        1318,  1442,   948,   261,   595,   777,   632,   555,   939,\n",
       "         756,   290,   667,   409,   906,   591,  1301,   299,   476,\n",
       "         824,   663,   326,   787,   333,   211,   701,  2107,  3076,\n",
       "        4008,  8399,  2702,  2638,  1309,  2134,  2680,  2159,  1626,\n",
       "        2300,  1300,  1555,  1100,  1782,  1214,   612,  1965,   719,\n",
       "        1137,   929,   829,  1168,   816,   898,   915,  1082,   587,\n",
       "         911,   543,   743,   977,   712,   743,   767,   348,   798,\n",
       "        1184,   980,   265,   914,   959,   639,   576,   880,   716,\n",
       "         286,   136,   390,   256,   324,   252,   849,   263,   349,\n",
       "         171,   499,   349,   457,   483,   283,   211,   727,   791,\n",
       "         378,   425,   130,   156,   567,   591,   708,   191,   356,\n",
       "         227,   251,   197,   209,   224,   277,   268,   395,   218,\n",
       "         247,   183,   340,  1211,   772,   299,   330,   692,   732,\n",
       "         690,   356,   812,  1946,  1154,  1079,   742,   991,   739,\n",
       "         553,   694,   956,  2089,  1736,  2259,  1978,  1819,  2377,\n",
       "        1838, 10899, 23211,  9510,  5850,  4629,  1730,  2583,  3104,\n",
       "        2196,  4009,  2437,  2238,  1582,  1713,  1321,  1407,  1519,\n",
       "        1355,  3229,  4351,  1556,  1218,  1354,  1106,  1081,  1428,\n",
       "         795,   433,   858,   818,   548,   360,  1009,  1061,   683,\n",
       "         611,   500,   424,   757,   603,   917,   648,  1039,    71,\n",
       "          43,    54,   110,     7,   217,   176,   112,   114,   128,\n",
       "          47,   119,    78,   155,    46,    27,   145,    97,   109,\n",
       "          43,    36,    50,    13,    23,   100,     3,   212,   112,\n",
       "          19,     7,    34,   114,    80,    21,   118,    79,    61,\n",
       "          21,    67,    32,    21,    18,   262,    43,   109,    37,\n",
       "          14,    36,    68,    45,    42,    93,    97,    46,   149,\n",
       "          27,    14,     1,    20,    68,    18,     7,    72,     8,\n",
       "          93,    29,     5,    12,    27,    19,     7,   103,     3,\n",
       "          20,     1,   134,     9,     3,    39,     4,    53,    19,\n",
       "           8,    17,    14,    10,    10,     5,   163,    21,    22,\n",
       "          70,    13,    11,    59,    47,    45,     4,    81,    72,\n",
       "           5,    72,    47,    18,     5,    22,     8,    11,    22,\n",
       "          20,     1,     2,    58,     2,    33,    32,     4,     1,\n",
       "           5,     3,    25,    34,     9,     8,    43,     9,    15,\n",
       "          44,    58,    64,     2,    58,     9,     4,    11,    20,\n",
       "           4,     4,     5,    83,    27,     3,    13,     1,    10,\n",
       "          12,    60,     7,     9,     8,    20,    17,    66,     7,\n",
       "          21,     7,    58,    13,     6,    17,    10,    33,     4,\n",
       "           7,    33,    14,    44,    24,    56,    30,   108,    47,\n",
       "           4,    16,     7,    50,    70,    32,    60,    23,    35,\n",
       "          14,    12,    10,    34,     7,    26,    35,    36,    22,\n",
       "           4,    14,    34,     6,     4,     1,    12,    14,     9,\n",
       "          22,     1,    36,   180,     4,    10,    36,    12,    40,\n",
       "           2,    11,    32,    22,     2,     2,    50,    18,    30,\n",
       "          23,   119,    24,    12,    55,   130,   101,   109,    31,\n",
       "          29,    34,    12,    20,    13,     4,    94,    29,    28,\n",
       "          42,    12,    11,    24,     1,     1,    19,    65,     1,\n",
       "           1,     1,    20,     5,     4,    83,    11,     1,     9,\n",
       "          27,    11,    12,    92,    68,     3,     5,    16,    58,\n",
       "          15,     1,     1,     9,     1,    20,     9,     3,     7,\n",
       "          14,    29,     2,     8,     4,     2,    38,    22,    24,\n",
       "           1,    31,     5,    43,    60,     4,    49,     3,    29,\n",
       "           3,    28,    18,     9,     2,    43,     2,    53,     4,\n",
       "          44,    60,    21,    12,     2,    15,    46,    45,     6,\n",
       "           4,    76,     3,     1,    16,     5,    60,     4,   106,\n",
       "           2,     1,   131,     2,     6,     2,    11,     1,    16,\n",
       "          41,     9,    18,     4,     4,     3,     1,    15,    51,\n",
       "           9,     1,    80,    62,     2,     8,    12,    10,     9,\n",
       "          33,   109,    45,    42,    76,     8,    79,     2,     6,\n",
       "           1,     8,    16,     4,    12,    17,     8,    36,     6,\n",
       "           2,     4,     7,     1,    87,     1,     4,     8,    17,\n",
       "          51,    86,     2,    29,     8,     5,     8,    12,     3,\n",
       "          17,    19,     5,     3,     4,     2,    39,     2,     5,\n",
       "           3,    17,     1,     8,     1,     1,    10,     2,     1,\n",
       "           8,    89,     5,     9,    22,     6,     7,     2,     2,\n",
       "           6,    20,     1,     1,     7,     8,     1,     8,    43,\n",
       "           1,     1,     3,     3,     8,    18,     2,     1,    26,\n",
       "          63,     1,     1,     1,    37,     3,    20,     5,     1,\n",
       "         128,     5,     3,     1,     3,    50,     8,     1,     6,\n",
       "          29,     8,     1,     3,    19,    27,     5,     6,    43,\n",
       "           1,     3,     2,     1,     6,     7,    50,    17,    24,\n",
       "          11,    13,    57,    19,     1,    13,    32,     1,    14,\n",
       "           2,    35,    27,     1,     1,    39,    17,     1,    13,\n",
       "           5,    20,     4,     5,     7,     1,     1,     2,     7,\n",
       "           3,    10,     2,    10,     2,     8,    60,    34,     5,\n",
       "          10,     2,     1,   110,     1,     2,     1,     5,     2,\n",
       "           2,     7,     9,     3,    13,    11,    15,    21,    39,\n",
       "          69,    19,    61,     6,     3,    20,     7,     3,     1,\n",
       "          19,     1,    16,    37,     1,    10,    28,    17,     5,\n",
       "          14,     1,     1,     3,   149,     3,     2,     1,     1,\n",
       "           1,    34,     5,     8,     1,    56,     4,     1,     1,\n",
       "           6,     3,     1,     4,    16,    46,     4,     1,     7,\n",
       "           1,    50,     6,     1,     1,     1,    65,     1,    33,\n",
       "          20,    12,    11,    31,   114,    23,     1,     2,    17,\n",
       "           1,     1,    15,     1,     1,     2,    94,    58,    35,\n",
       "           1,     3,   113,     2,     3,    16,     1,     6,     1,\n",
       "           1,     5,     8,     1,     5,     4,     1,     1,     8,\n",
       "          22,     1,    10,     2,     2,     3,    14,     2,    13,\n",
       "          32,     9,     2,     1,     3,    13,     6,    10,     2,\n",
       "          29,     1,     1,     1,    21,     2,     1,     7,     2,\n",
       "          76,    22,     3,     1,     3,     1,    72,     1,     2,\n",
       "           4,     3,     3,    35,    49,    27,     2,    17,     2,\n",
       "           2])"
      ]
     },
     "execution_count": 35,
     "metadata": {},
     "output_type": "execute_result"
    }
   ],
   "source": [
    "date_values = couted_date.values\n",
    "date_values.reshape(len(date_index))"
   ]
  },
  {
   "cell_type": "markdown",
   "id": "73c37c82",
   "metadata": {},
   "source": [
    "- train / valid / test 로 나누기 위해 각 날짜 별 데이터의 수를 histogram으로 그려보앗습니다. --> 더해봐야함 ㅠ_ㅠ"
   ]
  },
  {
   "cell_type": "code",
   "execution_count": 36,
   "id": "3bc530c8",
   "metadata": {},
   "outputs": [],
   "source": [
    "# plt.bar(len(date_index),date_values.astype('int'))\n",
    "# plt.xticks(len(date_index), date_index)\n",
    "# plt.show()"
   ]
  },
  {
   "cell_type": "code",
   "execution_count": null,
   "id": "64544b5a",
   "metadata": {},
   "outputs": [],
   "source": []
  },
  {
   "cell_type": "code",
   "execution_count": 37,
   "id": "c01ddb87",
   "metadata": {},
   "outputs": [],
   "source": [
    "def split_by_date(data: pd.DataFrame, n_days: int):\n",
    "    final_time = data['Time'].max()\n",
    "    session_last_time = data.groupby('UserId')['Time'].max()\n",
    "    session_in_train = session_last_time[session_last_time < final_time - dt.timedelta(n_days)].index\n",
    "    session_in_test = session_last_time[session_last_time >= final_time - dt.timedelta(n_days)].index\n",
    "\n",
    "    before_date = data[data['UserId'].isin(session_in_train)]\n",
    "    after_date = data[data['UserId'].isin(session_in_test)]\n",
    "    after_date = after_date[after_date['ItemId'].isin(before_date['ItemId'])]\n",
    "    return before_date, after_date\n",
    "\n",
    "def stats_info(data: pd.DataFrame, status: str):\n",
    "    print(f'* {status} Set Stats Info\\n'\n",
    "          f'\\t Events: {len(data)}\\n'\n",
    "          f'\\t Users: {data[\"UserId\"].nunique()}\\n'\n",
    "          f'\\t Items: {data[\"ItemId\"].nunique()}\\n'\n",
    "          f'\\t First Time : {data[\"Time\"].min()}\\n'\n",
    "          f'\\t Last Time : {data[\"Time\"].max()}\\n')"
   ]
  },
  {
   "cell_type": "code",
   "execution_count": 38,
   "id": "0fb72ae9",
   "metadata": {},
   "outputs": [
    {
     "ename": "AttributeError",
     "evalue": "type object 'datetime.datetime' has no attribute 'timedelta'",
     "output_type": "error",
     "traceback": [
      "\u001b[0;31m---------------------------------------------------------------------------\u001b[0m",
      "\u001b[0;31mAttributeError\u001b[0m                            Traceback (most recent call last)",
      "\u001b[0;32m/tmp/ipykernel_32/2199018649.py\u001b[0m in \u001b[0;36m<module>\u001b[0;34m\u001b[0m\n\u001b[0;32m----> 1\u001b[0;31m \u001b[0mtr\u001b[0m\u001b[0;34m,\u001b[0m \u001b[0mtest\u001b[0m \u001b[0;34m=\u001b[0m \u001b[0msplit_by_date\u001b[0m\u001b[0;34m(\u001b[0m\u001b[0mdata\u001b[0m\u001b[0;34m,\u001b[0m \u001b[0mn_days\u001b[0m\u001b[0;34m=\u001b[0m\u001b[0;36m31\u001b[0m\u001b[0;34m)\u001b[0m\u001b[0;34m\u001b[0m\u001b[0;34m\u001b[0m\u001b[0m\n\u001b[0m\u001b[1;32m      2\u001b[0m \u001b[0mtr\u001b[0m\u001b[0;34m,\u001b[0m \u001b[0mval\u001b[0m \u001b[0;34m=\u001b[0m \u001b[0msplit_by_date\u001b[0m\u001b[0;34m(\u001b[0m\u001b[0mtr\u001b[0m\u001b[0;34m,\u001b[0m \u001b[0mn_days\u001b[0m\u001b[0;34m=\u001b[0m\u001b[0;36m31\u001b[0m\u001b[0;34m)\u001b[0m\u001b[0;34m\u001b[0m\u001b[0;34m\u001b[0m\u001b[0m\n",
      "\u001b[0;32m/tmp/ipykernel_32/4103526672.py\u001b[0m in \u001b[0;36msplit_by_date\u001b[0;34m(data, n_days)\u001b[0m\n\u001b[1;32m      2\u001b[0m     \u001b[0mfinal_time\u001b[0m \u001b[0;34m=\u001b[0m \u001b[0mdata\u001b[0m\u001b[0;34m[\u001b[0m\u001b[0;34m'Time'\u001b[0m\u001b[0;34m]\u001b[0m\u001b[0;34m.\u001b[0m\u001b[0mmax\u001b[0m\u001b[0;34m(\u001b[0m\u001b[0;34m)\u001b[0m\u001b[0;34m\u001b[0m\u001b[0;34m\u001b[0m\u001b[0m\n\u001b[1;32m      3\u001b[0m     \u001b[0msession_last_time\u001b[0m \u001b[0;34m=\u001b[0m \u001b[0mdata\u001b[0m\u001b[0;34m.\u001b[0m\u001b[0mgroupby\u001b[0m\u001b[0;34m(\u001b[0m\u001b[0;34m'UserId'\u001b[0m\u001b[0;34m)\u001b[0m\u001b[0;34m[\u001b[0m\u001b[0;34m'Time'\u001b[0m\u001b[0;34m]\u001b[0m\u001b[0;34m.\u001b[0m\u001b[0mmax\u001b[0m\u001b[0;34m(\u001b[0m\u001b[0;34m)\u001b[0m\u001b[0;34m\u001b[0m\u001b[0;34m\u001b[0m\u001b[0m\n\u001b[0;32m----> 4\u001b[0;31m     \u001b[0msession_in_train\u001b[0m \u001b[0;34m=\u001b[0m \u001b[0msession_last_time\u001b[0m\u001b[0;34m[\u001b[0m\u001b[0msession_last_time\u001b[0m \u001b[0;34m<\u001b[0m \u001b[0mfinal_time\u001b[0m \u001b[0;34m-\u001b[0m \u001b[0mdt\u001b[0m\u001b[0;34m.\u001b[0m\u001b[0mtimedelta\u001b[0m\u001b[0;34m(\u001b[0m\u001b[0mn_days\u001b[0m\u001b[0;34m)\u001b[0m\u001b[0;34m]\u001b[0m\u001b[0;34m.\u001b[0m\u001b[0mindex\u001b[0m\u001b[0;34m\u001b[0m\u001b[0;34m\u001b[0m\u001b[0m\n\u001b[0m\u001b[1;32m      5\u001b[0m     \u001b[0msession_in_test\u001b[0m \u001b[0;34m=\u001b[0m \u001b[0msession_last_time\u001b[0m\u001b[0;34m[\u001b[0m\u001b[0msession_last_time\u001b[0m \u001b[0;34m>=\u001b[0m \u001b[0mfinal_time\u001b[0m \u001b[0;34m-\u001b[0m \u001b[0mdt\u001b[0m\u001b[0;34m.\u001b[0m\u001b[0mtimedelta\u001b[0m\u001b[0;34m(\u001b[0m\u001b[0mn_days\u001b[0m\u001b[0;34m)\u001b[0m\u001b[0;34m]\u001b[0m\u001b[0;34m.\u001b[0m\u001b[0mindex\u001b[0m\u001b[0;34m\u001b[0m\u001b[0;34m\u001b[0m\u001b[0m\n\u001b[1;32m      6\u001b[0m \u001b[0;34m\u001b[0m\u001b[0m\n",
      "\u001b[0;31mAttributeError\u001b[0m: type object 'datetime.datetime' has no attribute 'timedelta'"
     ]
    }
   ],
   "source": [
    "tr, test = split_by_date(data, n_days=31)\n",
    "tr, val = split_by_date(tr, n_days=31)"
   ]
  },
  {
   "cell_type": "code",
   "execution_count": null,
   "id": "e58cc902",
   "metadata": {},
   "outputs": [],
   "source": [
    "stats_info(tr, 'train')\n",
    "stats_info(val, 'valid')\n",
    "stats_info(test, 'test')"
   ]
  },
  {
   "cell_type": "code",
   "execution_count": null,
   "id": "3fa52e55",
   "metadata": {},
   "outputs": [],
   "source": [
    "id2idx = {item_id : index for index, item_id in enumerate(tr['ItemId'].unique())}\n",
    "\n",
    "def indexing(df, id2idx):\n",
    "    df['item_idx'] = df['ItemId'].map(lambda x: id2idx.get(x, -1))\n",
    "    return df\n",
    "\n",
    "tr = indexing(tr, id2idx)\n",
    "val = indexing(val, id2idx)\n",
    "test = indexing(test, id2idx)"
   ]
  },
  {
   "cell_type": "code",
   "execution_count": null,
   "id": "902af546",
   "metadata": {},
   "outputs": [],
   "source": [
    "save_path = data_path / 'processed'\n",
    "save_path.mkdir(parents=True, exist_ok=True)\n",
    "\n",
    "tr.to_pickle(save_path / 'train.pkl')\n",
    "val.to_pickle(save_path / 'valid.pkl')\n",
    "test.to_pickle(save_path / 'test.pkl')"
   ]
  },
  {
   "cell_type": "markdown",
   "id": "6f3760bf",
   "metadata": {},
   "source": [
    "# step 2. 미니배치 구성"
   ]
  },
  {
   "cell_type": "code",
   "execution_count": null,
   "id": "fc43d042",
   "metadata": {},
   "outputs": [],
   "source": [
    "class SessionDataset:\n",
    "    def __init__(self, data):\n",
    "        self.df = data\n",
    "        self.click_offsets = self.get_click_offsets()\n",
    "        self.session_idx = np.arange(self.df['UserId'].nunique())  # indexing to UserId\n",
    "\n",
    "    def get_click_offsets(self):\n",
    "        offsets = np.zeros(self.df['UserId'].nunique() + 1, dtype=np.int32)\n",
    "        offsets[1:] = self.df.groupby('UserId').size().cumsum()\n",
    "        return offsets"
   ]
  },
  {
   "cell_type": "code",
   "execution_count": null,
   "id": "f894fa68",
   "metadata": {},
   "outputs": [],
   "source": [
    "tr_dataset = SessionDataset(tr)\n",
    "tr_dataset.df.head(10)"
   ]
  },
  {
   "cell_type": "code",
   "execution_count": null,
   "id": "8dd23438",
   "metadata": {},
   "outputs": [],
   "source": [
    "tr_dataset.click_offsets\n"
   ]
  },
  {
   "cell_type": "code",
   "execution_count": null,
   "id": "140db289",
   "metadata": {},
   "outputs": [],
   "source": [
    "tr_dataset.session_idx\n"
   ]
  },
  {
   "cell_type": "code",
   "execution_count": null,
   "id": "6c8692f8",
   "metadata": {},
   "outputs": [],
   "source": []
  },
  {
   "cell_type": "code",
   "execution_count": null,
   "id": "6be8df61",
   "metadata": {},
   "outputs": [],
   "source": []
  },
  {
   "cell_type": "code",
   "execution_count": null,
   "id": "69ef3478",
   "metadata": {},
   "outputs": [],
   "source": []
  },
  {
   "cell_type": "code",
   "execution_count": null,
   "id": "780f7e8d",
   "metadata": {},
   "outputs": [],
   "source": []
  },
  {
   "cell_type": "code",
   "execution_count": null,
   "id": "7f2ef2ae",
   "metadata": {},
   "outputs": [],
   "source": []
  },
  {
   "cell_type": "code",
   "execution_count": null,
   "id": "8a199266",
   "metadata": {},
   "outputs": [],
   "source": []
  },
  {
   "cell_type": "code",
   "execution_count": null,
   "id": "5c1c30a3",
   "metadata": {},
   "outputs": [],
   "source": []
  },
  {
   "cell_type": "code",
   "execution_count": null,
   "id": "df6e634a",
   "metadata": {},
   "outputs": [],
   "source": []
  },
  {
   "cell_type": "code",
   "execution_count": null,
   "id": "df78ffb6",
   "metadata": {},
   "outputs": [],
   "source": []
  },
  {
   "cell_type": "code",
   "execution_count": null,
   "id": "914f2c72",
   "metadata": {},
   "outputs": [],
   "source": []
  },
  {
   "cell_type": "code",
   "execution_count": null,
   "id": "30831669",
   "metadata": {},
   "outputs": [],
   "source": []
  },
  {
   "cell_type": "code",
   "execution_count": null,
   "id": "a6e18003",
   "metadata": {},
   "outputs": [],
   "source": []
  },
  {
   "cell_type": "code",
   "execution_count": null,
   "id": "e6d0e8c7",
   "metadata": {},
   "outputs": [],
   "source": []
  },
  {
   "cell_type": "code",
   "execution_count": null,
   "id": "500484dc",
   "metadata": {},
   "outputs": [],
   "source": []
  },
  {
   "cell_type": "code",
   "execution_count": null,
   "id": "122e8f83",
   "metadata": {},
   "outputs": [],
   "source": []
  },
  {
   "cell_type": "code",
   "execution_count": null,
   "id": "9b488ea7",
   "metadata": {},
   "outputs": [],
   "source": []
  },
  {
   "cell_type": "code",
   "execution_count": null,
   "id": "c74345d9",
   "metadata": {},
   "outputs": [],
   "source": []
  },
  {
   "cell_type": "code",
   "execution_count": null,
   "id": "9d4c1d5a",
   "metadata": {},
   "outputs": [],
   "source": []
  },
  {
   "cell_type": "code",
   "execution_count": null,
   "id": "0a320d0f",
   "metadata": {},
   "outputs": [],
   "source": []
  },
  {
   "cell_type": "code",
   "execution_count": null,
   "id": "0d23d697",
   "metadata": {},
   "outputs": [],
   "source": []
  },
  {
   "cell_type": "code",
   "execution_count": null,
   "id": "d28e94e4",
   "metadata": {},
   "outputs": [],
   "source": []
  },
  {
   "cell_type": "code",
   "execution_count": null,
   "id": "9e9e2a3e",
   "metadata": {},
   "outputs": [],
   "source": []
  },
  {
   "cell_type": "code",
   "execution_count": null,
   "id": "9f5f824b",
   "metadata": {},
   "outputs": [],
   "source": []
  },
  {
   "cell_type": "code",
   "execution_count": null,
   "id": "2da75b50",
   "metadata": {},
   "outputs": [],
   "source": []
  },
  {
   "cell_type": "code",
   "execution_count": null,
   "id": "7422def4",
   "metadata": {},
   "outputs": [],
   "source": []
  },
  {
   "cell_type": "code",
   "execution_count": null,
   "id": "61070fd1",
   "metadata": {},
   "outputs": [],
   "source": []
  },
  {
   "cell_type": "code",
   "execution_count": null,
   "id": "09f2247c",
   "metadata": {},
   "outputs": [],
   "source": []
  },
  {
   "cell_type": "code",
   "execution_count": null,
   "id": "1c13536e",
   "metadata": {},
   "outputs": [],
   "source": []
  },
  {
   "cell_type": "code",
   "execution_count": null,
   "id": "32c82b23",
   "metadata": {},
   "outputs": [],
   "source": []
  },
  {
   "cell_type": "code",
   "execution_count": null,
   "id": "4d368758",
   "metadata": {},
   "outputs": [],
   "source": []
  },
  {
   "cell_type": "code",
   "execution_count": null,
   "id": "f063e8ed",
   "metadata": {},
   "outputs": [],
   "source": []
  },
  {
   "cell_type": "code",
   "execution_count": null,
   "id": "4e49febd",
   "metadata": {},
   "outputs": [],
   "source": []
  },
  {
   "cell_type": "code",
   "execution_count": null,
   "id": "f92ffa32",
   "metadata": {},
   "outputs": [],
   "source": []
  },
  {
   "cell_type": "code",
   "execution_count": null,
   "id": "b8d60341",
   "metadata": {},
   "outputs": [],
   "source": []
  },
  {
   "cell_type": "code",
   "execution_count": null,
   "id": "c11bdb41",
   "metadata": {},
   "outputs": [],
   "source": []
  },
  {
   "cell_type": "code",
   "execution_count": null,
   "id": "25bfbb1b",
   "metadata": {},
   "outputs": [],
   "source": []
  },
  {
   "cell_type": "code",
   "execution_count": null,
   "id": "c4e34aa3",
   "metadata": {},
   "outputs": [],
   "source": []
  },
  {
   "cell_type": "code",
   "execution_count": null,
   "id": "25dc94bc",
   "metadata": {},
   "outputs": [],
   "source": []
  },
  {
   "cell_type": "code",
   "execution_count": null,
   "id": "6a7cd735",
   "metadata": {},
   "outputs": [],
   "source": []
  },
  {
   "cell_type": "code",
   "execution_count": null,
   "id": "bf534a9a",
   "metadata": {},
   "outputs": [],
   "source": []
  },
  {
   "cell_type": "code",
   "execution_count": null,
   "id": "cef9733e",
   "metadata": {},
   "outputs": [],
   "source": []
  },
  {
   "cell_type": "code",
   "execution_count": null,
   "id": "d1502231",
   "metadata": {},
   "outputs": [],
   "source": []
  },
  {
   "cell_type": "code",
   "execution_count": null,
   "id": "2f20f82b",
   "metadata": {},
   "outputs": [],
   "source": []
  },
  {
   "cell_type": "code",
   "execution_count": null,
   "id": "3505eed8",
   "metadata": {},
   "outputs": [],
   "source": []
  },
  {
   "cell_type": "code",
   "execution_count": null,
   "id": "bdfa4725",
   "metadata": {},
   "outputs": [],
   "source": []
  },
  {
   "cell_type": "code",
   "execution_count": null,
   "id": "7aa301a3",
   "metadata": {},
   "outputs": [],
   "source": []
  },
  {
   "cell_type": "code",
   "execution_count": null,
   "id": "23e99c3c",
   "metadata": {},
   "outputs": [],
   "source": []
  },
  {
   "cell_type": "code",
   "execution_count": null,
   "id": "2f9b8666",
   "metadata": {},
   "outputs": [],
   "source": []
  },
  {
   "cell_type": "code",
   "execution_count": null,
   "id": "c1395644",
   "metadata": {},
   "outputs": [],
   "source": []
  },
  {
   "cell_type": "code",
   "execution_count": null,
   "id": "82808f1b",
   "metadata": {},
   "outputs": [],
   "source": []
  },
  {
   "cell_type": "code",
   "execution_count": null,
   "id": "42d6df44",
   "metadata": {},
   "outputs": [],
   "source": []
  },
  {
   "cell_type": "code",
   "execution_count": null,
   "id": "6a69f097",
   "metadata": {},
   "outputs": [],
   "source": []
  },
  {
   "cell_type": "code",
   "execution_count": null,
   "id": "3a4fe1bc",
   "metadata": {},
   "outputs": [],
   "source": []
  },
  {
   "cell_type": "code",
   "execution_count": null,
   "id": "28011eef",
   "metadata": {},
   "outputs": [],
   "source": []
  },
  {
   "cell_type": "code",
   "execution_count": null,
   "id": "d35d5732",
   "metadata": {},
   "outputs": [],
   "source": []
  },
  {
   "cell_type": "code",
   "execution_count": null,
   "id": "326e37f9",
   "metadata": {},
   "outputs": [],
   "source": []
  },
  {
   "cell_type": "code",
   "execution_count": null,
   "id": "78596810",
   "metadata": {},
   "outputs": [],
   "source": []
  },
  {
   "cell_type": "code",
   "execution_count": null,
   "id": "4a501145",
   "metadata": {},
   "outputs": [],
   "source": []
  },
  {
   "cell_type": "code",
   "execution_count": null,
   "id": "3e4d284a",
   "metadata": {},
   "outputs": [],
   "source": []
  },
  {
   "cell_type": "code",
   "execution_count": null,
   "id": "5664e06b",
   "metadata": {},
   "outputs": [],
   "source": []
  },
  {
   "cell_type": "code",
   "execution_count": null,
   "id": "82cd01d8",
   "metadata": {},
   "outputs": [],
   "source": []
  },
  {
   "cell_type": "code",
   "execution_count": null,
   "id": "744c9209",
   "metadata": {},
   "outputs": [],
   "source": []
  },
  {
   "cell_type": "code",
   "execution_count": null,
   "id": "70da7868",
   "metadata": {},
   "outputs": [],
   "source": []
  },
  {
   "cell_type": "code",
   "execution_count": null,
   "id": "7bb18ca7",
   "metadata": {},
   "outputs": [],
   "source": []
  },
  {
   "cell_type": "code",
   "execution_count": null,
   "id": "c502f326",
   "metadata": {},
   "outputs": [],
   "source": []
  },
  {
   "cell_type": "code",
   "execution_count": null,
   "id": "f3f6c7c5",
   "metadata": {},
   "outputs": [],
   "source": []
  },
  {
   "cell_type": "code",
   "execution_count": null,
   "id": "766025c9",
   "metadata": {},
   "outputs": [],
   "source": []
  },
  {
   "cell_type": "code",
   "execution_count": null,
   "id": "10741d86",
   "metadata": {},
   "outputs": [],
   "source": []
  },
  {
   "cell_type": "code",
   "execution_count": null,
   "id": "94f48b36",
   "metadata": {},
   "outputs": [],
   "source": []
  },
  {
   "cell_type": "code",
   "execution_count": null,
   "id": "8d289fa3",
   "metadata": {},
   "outputs": [],
   "source": []
  },
  {
   "cell_type": "code",
   "execution_count": null,
   "id": "33f95be1",
   "metadata": {},
   "outputs": [],
   "source": []
  },
  {
   "cell_type": "code",
   "execution_count": null,
   "id": "992bb170",
   "metadata": {},
   "outputs": [],
   "source": []
  },
  {
   "cell_type": "code",
   "execution_count": null,
   "id": "4835bc06",
   "metadata": {},
   "outputs": [],
   "source": []
  },
  {
   "cell_type": "code",
   "execution_count": null,
   "id": "ee77be4f",
   "metadata": {},
   "outputs": [],
   "source": []
  },
  {
   "cell_type": "code",
   "execution_count": null,
   "id": "d599494a",
   "metadata": {},
   "outputs": [],
   "source": []
  },
  {
   "cell_type": "code",
   "execution_count": null,
   "id": "1dc265af",
   "metadata": {},
   "outputs": [],
   "source": []
  },
  {
   "cell_type": "code",
   "execution_count": null,
   "id": "f54825af",
   "metadata": {},
   "outputs": [],
   "source": []
  },
  {
   "cell_type": "code",
   "execution_count": null,
   "id": "09ce3ac8",
   "metadata": {},
   "outputs": [],
   "source": []
  },
  {
   "cell_type": "code",
   "execution_count": null,
   "id": "63fe1074",
   "metadata": {},
   "outputs": [],
   "source": []
  },
  {
   "cell_type": "code",
   "execution_count": null,
   "id": "c4f7c38a",
   "metadata": {},
   "outputs": [],
   "source": []
  },
  {
   "cell_type": "code",
   "execution_count": null,
   "id": "fe156df8",
   "metadata": {},
   "outputs": [],
   "source": []
  },
  {
   "cell_type": "code",
   "execution_count": null,
   "id": "bd582303",
   "metadata": {},
   "outputs": [],
   "source": []
  },
  {
   "cell_type": "code",
   "execution_count": null,
   "id": "0263d841",
   "metadata": {},
   "outputs": [],
   "source": []
  },
  {
   "cell_type": "code",
   "execution_count": null,
   "id": "ed318be2",
   "metadata": {},
   "outputs": [],
   "source": []
  },
  {
   "cell_type": "code",
   "execution_count": null,
   "id": "83646a8a",
   "metadata": {},
   "outputs": [],
   "source": []
  },
  {
   "cell_type": "code",
   "execution_count": null,
   "id": "e6bca505",
   "metadata": {},
   "outputs": [],
   "source": []
  },
  {
   "cell_type": "code",
   "execution_count": null,
   "id": "8a2682d8",
   "metadata": {},
   "outputs": [],
   "source": []
  },
  {
   "cell_type": "code",
   "execution_count": null,
   "id": "ce4dcc80",
   "metadata": {},
   "outputs": [],
   "source": []
  },
  {
   "cell_type": "code",
   "execution_count": null,
   "id": "e109ea24",
   "metadata": {},
   "outputs": [],
   "source": []
  },
  {
   "cell_type": "code",
   "execution_count": null,
   "id": "d25e75b4",
   "metadata": {},
   "outputs": [],
   "source": []
  },
  {
   "cell_type": "code",
   "execution_count": null,
   "id": "3a6427ef",
   "metadata": {},
   "outputs": [],
   "source": []
  },
  {
   "cell_type": "code",
   "execution_count": null,
   "id": "1829b480",
   "metadata": {},
   "outputs": [],
   "source": []
  },
  {
   "cell_type": "code",
   "execution_count": null,
   "id": "598ccb79",
   "metadata": {},
   "outputs": [],
   "source": []
  },
  {
   "cell_type": "code",
   "execution_count": null,
   "id": "21feb348",
   "metadata": {},
   "outputs": [],
   "source": []
  },
  {
   "cell_type": "code",
   "execution_count": null,
   "id": "7f1425b8",
   "metadata": {},
   "outputs": [],
   "source": []
  },
  {
   "cell_type": "code",
   "execution_count": null,
   "id": "b49ccfa7",
   "metadata": {},
   "outputs": [],
   "source": []
  },
  {
   "cell_type": "code",
   "execution_count": null,
   "id": "b72985ff",
   "metadata": {},
   "outputs": [],
   "source": []
  },
  {
   "cell_type": "code",
   "execution_count": null,
   "id": "1d6805cd",
   "metadata": {},
   "outputs": [],
   "source": []
  },
  {
   "cell_type": "code",
   "execution_count": null,
   "id": "eb74404d",
   "metadata": {},
   "outputs": [],
   "source": []
  },
  {
   "cell_type": "code",
   "execution_count": null,
   "id": "2b420f25",
   "metadata": {},
   "outputs": [],
   "source": []
  },
  {
   "cell_type": "code",
   "execution_count": null,
   "id": "1f198f25",
   "metadata": {},
   "outputs": [],
   "source": []
  },
  {
   "cell_type": "code",
   "execution_count": null,
   "id": "e3093947",
   "metadata": {},
   "outputs": [],
   "source": []
  },
  {
   "cell_type": "code",
   "execution_count": null,
   "id": "477d9015",
   "metadata": {},
   "outputs": [],
   "source": []
  },
  {
   "cell_type": "code",
   "execution_count": null,
   "id": "8af94345",
   "metadata": {},
   "outputs": [],
   "source": []
  },
  {
   "cell_type": "code",
   "execution_count": null,
   "id": "f925bf33",
   "metadata": {},
   "outputs": [],
   "source": []
  },
  {
   "cell_type": "markdown",
   "id": "f9a40727",
   "metadata": {},
   "source": [
    "# 회고\n",
    "1. 처음에 UTC TIME으로 작성된 시간을 변환하는데 많은 어려움을 겪었습니다.\n",
    "\n",
    "`test_time = pd.to_datetime(data['Time'])`과 from datetime import datetime 해서 `dt.fromtimestamp((time))` 이코드의 차이는 뭘까\n",
    "\n",
    "전자로하니 1970-01-01로 전체 날짜가 변경되어 많은 혼란이있었습니다.\n",
    "\n",
    "2. Datathon의 영향으로, x축의 라벨값을 좋게 보여주려고 코드를 수정했는데, ax와 plt의 차이를 더 공부해야겠습니다. ~~seaborn만 사용했더니만,, matplotlib는 어렵네요ㅠㅠ~~"
   ]
  },
  {
   "cell_type": "markdown",
   "id": "6e4f40db",
   "metadata": {},
   "source": [
    "# 더 공부하고 싶은것\n",
    "\n",
    "### 데이터톤을 하고 난 이후 시각화에 관심이 많아졌습니다.\n",
    "\n",
    "1. barchart에서 x축 범위는 일정하게 나눠보여주고, 그래프는 그대로보였으면좋겠다. 그리고 글자가 안곂쳤으면 좋겠다."
   ]
  },
  {
   "cell_type": "code",
   "execution_count": null,
   "id": "61e11dbc",
   "metadata": {},
   "outputs": [],
   "source": [
    "# 그래프가 달라졌음 ㅠ x축 바뀐거도없음\n",
    "import matplotlib.pyplot as plt\n",
    "\n",
    "plt.figure(figsize=(20, 10))\n",
    "# plt.bar(x=length_percent_cumsum_999.index,\n",
    "#         height=length_percent_cumsum_999, color='red')\n",
    "plt.bar(range(len(length_percent_cumsum_999)),\n",
    "        length_percent_cumsum_999, color='red')\n",
    "# plt.xlabel(length_percent_cumsum_999.index)\n",
    "plt.xticks(length_percent_cumsum_999.index, fontsize=10, rotation=90)\n",
    "plt.yticks(np.arange(0, 1.01, 0.05))\n",
    "plt.title('Cumsum Percentage Until 0.999', size=20)\n",
    "plt.show()"
   ]
  },
  {
   "cell_type": "code",
   "execution_count": null,
   "id": "15f54b66",
   "metadata": {},
   "outputs": [],
   "source": [
    "# 이게 젤 낫긴한데 title등의 옵션이사라져버림 ㅎㅎ\n",
    "import matplotlib.pyplot as plt\n",
    "\n",
    "fig = plt.figure(figsize=(12, 10))\n",
    "ax = plt.subplot(1, 1, 1)\n",
    "\n",
    "# ax.bar([i for i in range(len(length_percent_cumsum_999.index))], \n",
    "#        length_percent_cumsum_999, label='Session길이 누적합')\n",
    "\n",
    "plt.figure(figsize=(12, 10))\n",
    "ax.bar(x=length_percent_cumsum_999.index,\n",
    "        height=length_percent_cumsum_999, color='red', label='Session길이 누적합')\n",
    "plt.xticks(length_percent_cumsum_999.index)\n",
    "\n",
    "for label in ax.xaxis.get_ticklabels() :\n",
    "    label.set_rotation(45)\n",
    "\n",
    "plt.yticks(np.arange(0, 1.01, 0.05))\n",
    "plt.title('Cumsum Percentage Until 0.999', size=20)\n",
    "plt.show()"
   ]
  },
  {
   "cell_type": "code",
   "execution_count": null,
   "id": "db26e387",
   "metadata": {},
   "outputs": [],
   "source": [
    "# 글자곂침해결해ㅏ,,\n",
    "import matplotlib.pyplot as plt\n",
    "\n",
    "plt.figure(figsize=(20, 10))\n",
    "plt.bar(x=length_percent_cumsum_999.index,\n",
    "        height=length_percent_cumsum_999, color='red')\n",
    "# plt.xlabel(length_percent_cumsum_999.index)\n",
    "plt.xticks(length_percent_cumsum_999.index, fontsize=10, rotation=90)\n",
    "plt.yticks(np.arange(0, 1.01, 0.05))\n",
    "plt.title('Cumsum Percentage Until 0.999', size=20)\n",
    "plt.show()"
   ]
  },
  {
   "cell_type": "markdown",
   "id": "450e6ba1",
   "metadata": {},
   "source": [
    "2. train / valid / test 로 나누기 위해 각 날짜 별 데이터의 수를 histogram으로 그려보기"
   ]
  },
  {
   "cell_type": "code",
   "execution_count": null,
   "id": "b192b837",
   "metadata": {},
   "outputs": [],
   "source": [
    "plt.bar(len(date_index),date_values.astype('int'))\n",
    "plt.xticks(len(date_index), date_index)\n",
    "plt.show()"
   ]
  }
 ],
 "metadata": {
  "kernelspec": {
   "display_name": "Python 3 (ipykernel)",
   "language": "python",
   "name": "python3"
  },
  "language_info": {
   "codemirror_mode": {
    "name": "ipython",
    "version": 3
   },
   "file_extension": ".py",
   "mimetype": "text/x-python",
   "name": "python",
   "nbconvert_exporter": "python",
   "pygments_lexer": "ipython3",
   "version": "3.9.7"
  }
 },
 "nbformat": 4,
 "nbformat_minor": 5
}
