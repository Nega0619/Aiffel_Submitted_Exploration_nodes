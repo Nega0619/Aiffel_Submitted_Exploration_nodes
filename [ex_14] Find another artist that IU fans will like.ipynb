{
 "cells": [
  {
   "cell_type": "markdown",
   "id": "d21cb2ec",
   "metadata": {},
   "source": [
    "오늘은 \n",
    "\n",
    "# 1. 데이터 준비와 전처리"
   ]
  },
  {
   "cell_type": "code",
   "execution_count": 1,
   "id": "76c3120e",
   "metadata": {},
   "outputs": [],
   "source": [
    "import pandas as pd\n",
    "import os\n"
   ]
  },
  {
   "cell_type": "code",
   "execution_count": 2,
   "id": "3ac605e3",
   "metadata": {},
   "outputs": [
    {
     "name": "stdout",
     "output_type": "stream",
     "text": [
      "1000209\n"
     ]
    }
   ],
   "source": [
    "rating_file_path=os.getenv('HOME') + '/aiffel/recommendata_iu/data/ml-1m/ratings.dat'\n",
    "ratings_cols = ['user_id', 'movie_id', 'ratings', 'timestamp']\n",
    "ratings = pd.read_csv(rating_file_path, sep='::', names=ratings_cols, engine='python', encoding = \"ISO-8859-1\")\n",
    "original_ratings = pd.read_csv(rating_file_path, sep='::', names=ratings_cols, engine='python', encoding = \"ISO-8859-1\")\n",
    "orginal_data_size = len(ratings)\n",
    "print(len(ratings))"
   ]
  },
  {
   "cell_type": "code",
   "execution_count": 3,
   "id": "c595a995",
   "metadata": {},
   "outputs": [
    {
     "name": "stdout",
     "output_type": "stream",
     "text": [
      "orginal_data_size: 1000209, filtered_data_size: 836478\n",
      "Ratio of Remaining Data is 83.63%\n"
     ]
    }
   ],
   "source": [
    "# 3점 이상만 남깁니다.\n",
    "ratings = ratings[ratings['ratings']>=3]\n",
    "filtered_data_size = len(ratings)\n",
    "\n",
    "print(f'orginal_data_size: {orginal_data_size}, filtered_data_size: {filtered_data_size}')\n",
    "print(f'Ratio of Remaining Data is {filtered_data_size / orginal_data_size:.2%}')"
   ]
  },
  {
   "cell_type": "code",
   "execution_count": 4,
   "id": "46581386",
   "metadata": {},
   "outputs": [],
   "source": [
    "# ratings 컬럼의 이름을 counts로 바꿉니다.\n",
    "ratings.rename(columns={'ratings':'counts'}, inplace=True)"
   ]
  },
  {
   "cell_type": "code",
   "execution_count": 5,
   "id": "084522f0",
   "metadata": {},
   "outputs": [
    {
     "data": {
      "text/plain": [
       "0          5\n",
       "1          3\n",
       "2          3\n",
       "3          4\n",
       "4          5\n",
       "          ..\n",
       "1000203    3\n",
       "1000205    5\n",
       "1000206    5\n",
       "1000207    4\n",
       "1000208    4\n",
       "Name: counts, Length: 836478, dtype: int64"
      ]
     },
     "execution_count": 5,
     "metadata": {},
     "output_type": "execute_result"
    }
   ],
   "source": [
    "ratings['counts']"
   ]
  },
  {
   "cell_type": "code",
   "execution_count": 6,
   "id": "9f6a5a57",
   "metadata": {},
   "outputs": [],
   "source": [
    "# print(ratings.head(30))\n",
    "# print(ratings.tail(30))"
   ]
  },
  {
   "cell_type": "code",
   "execution_count": 7,
   "id": "b085c1df",
   "metadata": {
    "scrolled": true
   },
   "outputs": [
    {
     "data": {
      "text/html": [
       "<div>\n",
       "<style scoped>\n",
       "    .dataframe tbody tr th:only-of-type {\n",
       "        vertical-align: middle;\n",
       "    }\n",
       "\n",
       "    .dataframe tbody tr th {\n",
       "        vertical-align: top;\n",
       "    }\n",
       "\n",
       "    .dataframe thead th {\n",
       "        text-align: right;\n",
       "    }\n",
       "</style>\n",
       "<table border=\"1\" class=\"dataframe\">\n",
       "  <thead>\n",
       "    <tr style=\"text-align: right;\">\n",
       "      <th></th>\n",
       "      <th>movie_id</th>\n",
       "      <th>title</th>\n",
       "      <th>genre</th>\n",
       "    </tr>\n",
       "  </thead>\n",
       "  <tbody>\n",
       "    <tr>\n",
       "      <th>0</th>\n",
       "      <td>1</td>\n",
       "      <td>Toy Story (1995)</td>\n",
       "      <td>Animation|Children's|Comedy</td>\n",
       "    </tr>\n",
       "    <tr>\n",
       "      <th>1</th>\n",
       "      <td>2</td>\n",
       "      <td>Jumanji (1995)</td>\n",
       "      <td>Adventure|Children's|Fantasy</td>\n",
       "    </tr>\n",
       "    <tr>\n",
       "      <th>2</th>\n",
       "      <td>3</td>\n",
       "      <td>Grumpier Old Men (1995)</td>\n",
       "      <td>Comedy|Romance</td>\n",
       "    </tr>\n",
       "    <tr>\n",
       "      <th>3</th>\n",
       "      <td>4</td>\n",
       "      <td>Waiting to Exhale (1995)</td>\n",
       "      <td>Comedy|Drama</td>\n",
       "    </tr>\n",
       "    <tr>\n",
       "      <th>4</th>\n",
       "      <td>5</td>\n",
       "      <td>Father of the Bride Part II (1995)</td>\n",
       "      <td>Comedy</td>\n",
       "    </tr>\n",
       "  </tbody>\n",
       "</table>\n",
       "</div>"
      ],
      "text/plain": [
       "   movie_id                               title                         genre\n",
       "0         1                    Toy Story (1995)   Animation|Children's|Comedy\n",
       "1         2                      Jumanji (1995)  Adventure|Children's|Fantasy\n",
       "2         3             Grumpier Old Men (1995)                Comedy|Romance\n",
       "3         4            Waiting to Exhale (1995)                  Comedy|Drama\n",
       "4         5  Father of the Bride Part II (1995)                        Comedy"
      ]
     },
     "execution_count": 7,
     "metadata": {},
     "output_type": "execute_result"
    }
   ],
   "source": [
    "# 영화 제목을 보기 위해 메타 데이터를 읽어옵니다.\n",
    "movie_file_path=os.getenv('HOME') + '/aiffel/recommendata_iu/data/ml-1m/movies.dat'\n",
    "cols = ['movie_id', 'title', 'genre'] \n",
    "movies = pd.read_csv(movie_file_path, sep='::', names=cols, engine='python', encoding='ISO-8859-1')\n",
    "movies.head()"
   ]
  },
  {
   "cell_type": "markdown",
   "id": "6538c2cf",
   "metadata": {},
   "source": [
    "# 2. 분석해보기\n",
    "\n",
    "## 2-1. ratings에 있는 유니크한 영화 개수"
   ]
  },
  {
   "cell_type": "code",
   "execution_count": 8,
   "id": "8900beee",
   "metadata": {},
   "outputs": [
    {
     "data": {
      "text/plain": [
       "3628"
      ]
     },
     "execution_count": 8,
     "metadata": {},
     "output_type": "execute_result"
    }
   ],
   "source": [
    "ratings['movie_id'].nunique()"
   ]
  },
  {
   "cell_type": "markdown",
   "id": "a1228e88",
   "metadata": {},
   "source": [
    "## 2-2. ratings에 있는 유니크한 사용자 수"
   ]
  },
  {
   "cell_type": "code",
   "execution_count": 9,
   "id": "bdd51bf0",
   "metadata": {},
   "outputs": [
    {
     "data": {
      "text/plain": [
       "6039"
      ]
     },
     "execution_count": 9,
     "metadata": {},
     "output_type": "execute_result"
    }
   ],
   "source": [
    "ratings['user_id'].nunique()"
   ]
  },
  {
   "cell_type": "markdown",
   "id": "4f329ca1",
   "metadata": {},
   "source": [
    "## 2-3. 가장 인기 있는 영화 30개(인기순)"
   ]
  },
  {
   "cell_type": "code",
   "execution_count": 10,
   "id": "3502c486",
   "metadata": {},
   "outputs": [
    {
     "data": {
      "text/plain": [
       "movie_id\n",
       "2858    3211\n",
       "260     2910\n",
       "1196    2885\n",
       "1210    2716\n",
       "2028    2561\n",
       "        ... \n",
       "1553       1\n",
       "1548       1\n",
       "2486       1\n",
       "138        1\n",
       "3876       1\n",
       "Name: counts, Length: 3628, dtype: int64"
      ]
     },
     "execution_count": 10,
     "metadata": {},
     "output_type": "execute_result"
    }
   ],
   "source": [
    "movie_count = ratings.groupby('movie_id')['counts'].count()\n",
    "(movie_count.sort_values(ascending=False))"
   ]
  },
  {
   "cell_type": "code",
   "execution_count": 11,
   "id": "f83fa68e",
   "metadata": {},
   "outputs": [
    {
     "data": {
      "text/plain": [
       "movie_id\n",
       "1     2000\n",
       "2      551\n",
       "3      339\n",
       "4      102\n",
       "5      214\n",
       "6      868\n",
       "7      391\n",
       "8       49\n",
       "9       57\n",
       "10     786\n",
       "11     960\n",
       "12      71\n",
       "13      79\n",
       "14     137\n",
       "15      74\n",
       "16     633\n",
       "17     791\n",
       "18     129\n",
       "19     186\n",
       "20      91\n",
       "21    1205\n",
       "22     314\n",
       "23      85\n",
       "24     468\n",
       "25     840\n",
       "26      87\n",
       "27      43\n",
       "28     172\n",
       "29     370\n",
       "30      67\n",
       "Name: counts, dtype: int64"
      ]
     },
     "execution_count": 11,
     "metadata": {},
     "output_type": "execute_result"
    }
   ],
   "source": [
    "movie_count.head(30)"
   ]
  },
  {
   "cell_type": "markdown",
   "id": "36791108",
   "metadata": {},
   "source": [
    "# 3. 내가 선호하는 영화 5가지를 고른 후, ratings에 추가하기"
   ]
  },
  {
   "cell_type": "markdown",
   "id": "4908bd78",
   "metadata": {},
   "source": [
    "## 3-1. movie.dat에 내가 좋아하는 영화 데이터 추가하기"
   ]
  },
  {
   "cell_type": "code",
   "execution_count": 12,
   "id": "c83a6144",
   "metadata": {},
   "outputs": [
    {
     "data": {
      "text/html": [
       "<div>\n",
       "<style scoped>\n",
       "    .dataframe tbody tr th:only-of-type {\n",
       "        vertical-align: middle;\n",
       "    }\n",
       "\n",
       "    .dataframe tbody tr th {\n",
       "        vertical-align: top;\n",
       "    }\n",
       "\n",
       "    .dataframe thead th {\n",
       "        text-align: right;\n",
       "    }\n",
       "</style>\n",
       "<table border=\"1\" class=\"dataframe\">\n",
       "  <thead>\n",
       "    <tr style=\"text-align: right;\">\n",
       "      <th></th>\n",
       "      <th>movie_id</th>\n",
       "      <th>title</th>\n",
       "      <th>genre</th>\n",
       "    </tr>\n",
       "  </thead>\n",
       "  <tbody>\n",
       "    <tr>\n",
       "      <th>3878</th>\n",
       "      <td>3948</td>\n",
       "      <td>Meet the Parents (2000)</td>\n",
       "      <td>Comedy</td>\n",
       "    </tr>\n",
       "    <tr>\n",
       "      <th>3879</th>\n",
       "      <td>3949</td>\n",
       "      <td>Requiem for a Dream (2000)</td>\n",
       "      <td>Drama</td>\n",
       "    </tr>\n",
       "    <tr>\n",
       "      <th>3880</th>\n",
       "      <td>3950</td>\n",
       "      <td>Tigerland (2000)</td>\n",
       "      <td>Drama</td>\n",
       "    </tr>\n",
       "    <tr>\n",
       "      <th>3881</th>\n",
       "      <td>3951</td>\n",
       "      <td>Two Family House (2000)</td>\n",
       "      <td>Drama</td>\n",
       "    </tr>\n",
       "    <tr>\n",
       "      <th>3882</th>\n",
       "      <td>3952</td>\n",
       "      <td>Contender, The (2000)</td>\n",
       "      <td>Drama|Thriller</td>\n",
       "    </tr>\n",
       "  </tbody>\n",
       "</table>\n",
       "</div>"
      ],
      "text/plain": [
       "      movie_id                       title           genre\n",
       "3878      3948     Meet the Parents (2000)          Comedy\n",
       "3879      3949  Requiem for a Dream (2000)           Drama\n",
       "3880      3950            Tigerland (2000)           Drama\n",
       "3881      3951     Two Family House (2000)           Drama\n",
       "3882      3952       Contender, The (2000)  Drama|Thriller"
      ]
     },
     "execution_count": 12,
     "metadata": {},
     "output_type": "execute_result"
    }
   ],
   "source": [
    "movies.tail()"
   ]
  },
  {
   "cell_type": "code",
   "execution_count": 13,
   "id": "b5faee91",
   "metadata": {},
   "outputs": [],
   "source": [
    "my_movie_id = [3953, 3954, 3955, 3956, 3957]\n",
    "my_movie_title = ['2012', 'letters to juliet', 'Amour', 'Moana', 'Real Steel']\n",
    "my_movie_genre = ['Adventure', 'Romance', 'Romance', 'Animation|Drama', 'Adventure|Drama']\n",
    "\n",
    "my_movie_list = pd.DataFrame({'movie_id': my_movie_id, 'title': my_movie_title, 'genre':my_movie_genre})"
   ]
  },
  {
   "cell_type": "code",
   "execution_count": 14,
   "id": "00b41d46",
   "metadata": {},
   "outputs": [],
   "source": [
    "movies = movies.append(my_movie_list)\n"
   ]
  },
  {
   "cell_type": "code",
   "execution_count": 15,
   "id": "9e637178",
   "metadata": {},
   "outputs": [
    {
     "data": {
      "text/html": [
       "<div>\n",
       "<style scoped>\n",
       "    .dataframe tbody tr th:only-of-type {\n",
       "        vertical-align: middle;\n",
       "    }\n",
       "\n",
       "    .dataframe tbody tr th {\n",
       "        vertical-align: top;\n",
       "    }\n",
       "\n",
       "    .dataframe thead th {\n",
       "        text-align: right;\n",
       "    }\n",
       "</style>\n",
       "<table border=\"1\" class=\"dataframe\">\n",
       "  <thead>\n",
       "    <tr style=\"text-align: right;\">\n",
       "      <th></th>\n",
       "      <th>movie_id</th>\n",
       "      <th>title</th>\n",
       "      <th>genre</th>\n",
       "    </tr>\n",
       "  </thead>\n",
       "  <tbody>\n",
       "    <tr>\n",
       "      <th>3878</th>\n",
       "      <td>3948</td>\n",
       "      <td>Meet the Parents (2000)</td>\n",
       "      <td>Comedy</td>\n",
       "    </tr>\n",
       "    <tr>\n",
       "      <th>3879</th>\n",
       "      <td>3949</td>\n",
       "      <td>Requiem for a Dream (2000)</td>\n",
       "      <td>Drama</td>\n",
       "    </tr>\n",
       "    <tr>\n",
       "      <th>3880</th>\n",
       "      <td>3950</td>\n",
       "      <td>Tigerland (2000)</td>\n",
       "      <td>Drama</td>\n",
       "    </tr>\n",
       "    <tr>\n",
       "      <th>3881</th>\n",
       "      <td>3951</td>\n",
       "      <td>Two Family House (2000)</td>\n",
       "      <td>Drama</td>\n",
       "    </tr>\n",
       "    <tr>\n",
       "      <th>3882</th>\n",
       "      <td>3952</td>\n",
       "      <td>Contender, The (2000)</td>\n",
       "      <td>Drama|Thriller</td>\n",
       "    </tr>\n",
       "    <tr>\n",
       "      <th>0</th>\n",
       "      <td>3953</td>\n",
       "      <td>2012</td>\n",
       "      <td>Adventure</td>\n",
       "    </tr>\n",
       "    <tr>\n",
       "      <th>1</th>\n",
       "      <td>3954</td>\n",
       "      <td>letters to juliet</td>\n",
       "      <td>Romance</td>\n",
       "    </tr>\n",
       "    <tr>\n",
       "      <th>2</th>\n",
       "      <td>3955</td>\n",
       "      <td>Amour</td>\n",
       "      <td>Romance</td>\n",
       "    </tr>\n",
       "    <tr>\n",
       "      <th>3</th>\n",
       "      <td>3956</td>\n",
       "      <td>Moana</td>\n",
       "      <td>Animation|Drama</td>\n",
       "    </tr>\n",
       "    <tr>\n",
       "      <th>4</th>\n",
       "      <td>3957</td>\n",
       "      <td>Real Steel</td>\n",
       "      <td>Adventure|Drama</td>\n",
       "    </tr>\n",
       "  </tbody>\n",
       "</table>\n",
       "</div>"
      ],
      "text/plain": [
       "      movie_id                       title            genre\n",
       "3878      3948     Meet the Parents (2000)           Comedy\n",
       "3879      3949  Requiem for a Dream (2000)            Drama\n",
       "3880      3950            Tigerland (2000)            Drama\n",
       "3881      3951     Two Family House (2000)            Drama\n",
       "3882      3952       Contender, The (2000)   Drama|Thriller\n",
       "0         3953                        2012        Adventure\n",
       "1         3954           letters to juliet          Romance\n",
       "2         3955                       Amour          Romance\n",
       "3         3956                       Moana  Animation|Drama\n",
       "4         3957                  Real Steel  Adventure|Drama"
      ]
     },
     "execution_count": 15,
     "metadata": {},
     "output_type": "execute_result"
    }
   ],
   "source": [
    "movies.tail(10)"
   ]
  },
  {
   "cell_type": "markdown",
   "id": "b7b19d53",
   "metadata": {},
   "source": [
    "## 3-2. users에 내 user 정보 추가하기"
   ]
  },
  {
   "cell_type": "code",
   "execution_count": 16,
   "id": "ec5feafe",
   "metadata": {
    "scrolled": true
   },
   "outputs": [
    {
     "data": {
      "text/html": [
       "<div>\n",
       "<style scoped>\n",
       "    .dataframe tbody tr th:only-of-type {\n",
       "        vertical-align: middle;\n",
       "    }\n",
       "\n",
       "    .dataframe tbody tr th {\n",
       "        vertical-align: top;\n",
       "    }\n",
       "\n",
       "    .dataframe thead th {\n",
       "        text-align: right;\n",
       "    }\n",
       "</style>\n",
       "<table border=\"1\" class=\"dataframe\">\n",
       "  <thead>\n",
       "    <tr style=\"text-align: right;\">\n",
       "      <th></th>\n",
       "      <th>user_id</th>\n",
       "      <th>gender</th>\n",
       "      <th>age</th>\n",
       "      <th>occupation</th>\n",
       "      <th>zip-code</th>\n",
       "    </tr>\n",
       "  </thead>\n",
       "  <tbody>\n",
       "    <tr>\n",
       "      <th>0</th>\n",
       "      <td>1</td>\n",
       "      <td>F</td>\n",
       "      <td>1</td>\n",
       "      <td>10</td>\n",
       "      <td>48067</td>\n",
       "    </tr>\n",
       "    <tr>\n",
       "      <th>1</th>\n",
       "      <td>2</td>\n",
       "      <td>M</td>\n",
       "      <td>56</td>\n",
       "      <td>16</td>\n",
       "      <td>70072</td>\n",
       "    </tr>\n",
       "    <tr>\n",
       "      <th>2</th>\n",
       "      <td>3</td>\n",
       "      <td>M</td>\n",
       "      <td>25</td>\n",
       "      <td>15</td>\n",
       "      <td>55117</td>\n",
       "    </tr>\n",
       "    <tr>\n",
       "      <th>3</th>\n",
       "      <td>4</td>\n",
       "      <td>M</td>\n",
       "      <td>45</td>\n",
       "      <td>7</td>\n",
       "      <td>02460</td>\n",
       "    </tr>\n",
       "    <tr>\n",
       "      <th>4</th>\n",
       "      <td>5</td>\n",
       "      <td>M</td>\n",
       "      <td>25</td>\n",
       "      <td>20</td>\n",
       "      <td>55455</td>\n",
       "    </tr>\n",
       "  </tbody>\n",
       "</table>\n",
       "</div>"
      ],
      "text/plain": [
       "   user_id gender  age  occupation zip-code\n",
       "0        1      F    1          10    48067\n",
       "1        2      M   56          16    70072\n",
       "2        3      M   25          15    55117\n",
       "3        4      M   45           7    02460\n",
       "4        5      M   25          20    55455"
      ]
     },
     "execution_count": 16,
     "metadata": {},
     "output_type": "execute_result"
    }
   ],
   "source": [
    "user_file_path=os.getenv('HOME') + '/aiffel/recommendata_iu/data/ml-1m/users.dat'\n",
    "user_cols = ['user_id', 'gender', 'age', 'occupation', 'zip-code'] \n",
    "users = pd.read_csv(user_file_path, sep='::', names=user_cols, engine='python', encoding='ISO-8859-1')\n",
    "users.head()"
   ]
  },
  {
   "cell_type": "code",
   "execution_count": 17,
   "id": "1cd34813",
   "metadata": {
    "scrolled": true
   },
   "outputs": [
    {
     "data": {
      "text/plain": [
       "6039    6040\n",
       "6038    6039\n",
       "6037    6038\n",
       "6036    6037\n",
       "6035    6036\n",
       "        ... \n",
       "4          5\n",
       "3          4\n",
       "2          3\n",
       "1          2\n",
       "0          1\n",
       "Name: user_id, Length: 6040, dtype: int64"
      ]
     },
     "execution_count": 17,
     "metadata": {},
     "output_type": "execute_result"
    }
   ],
   "source": [
    "my_userid = users['user_id'].sort_values(ascending=False)\n",
    "my_userid"
   ]
  },
  {
   "cell_type": "markdown",
   "id": "925f66a1",
   "metadata": {},
   "source": [
    "6039 개의 유저 아이디 존재\n",
    "\n",
    "제가 처음 이 서비스에 가입을 하게 된다면, 6041 id를 갖게 될것입니다.\n",
    "\n",
    "user에 추가해주었습니다."
   ]
  },
  {
   "cell_type": "code",
   "execution_count": 18,
   "id": "f7f4e9f1",
   "metadata": {},
   "outputs": [],
   "source": [
    "# user_cols = ['user_id', 'gender', 'age', 'occupation', 'zip-code'] \n",
    "\n",
    "my_user = pd.DataFrame({'user_id':6041, 'gender':'F', 'age':25, 'occupation':12, \\\n",
    "                       'zip-code':55117}, index =[0])"
   ]
  },
  {
   "cell_type": "code",
   "execution_count": 19,
   "id": "949c9a53",
   "metadata": {},
   "outputs": [],
   "source": [
    "users = users.append(my_user)"
   ]
  },
  {
   "cell_type": "code",
   "execution_count": 20,
   "id": "69ca28b3",
   "metadata": {},
   "outputs": [
    {
     "data": {
      "text/html": [
       "<div>\n",
       "<style scoped>\n",
       "    .dataframe tbody tr th:only-of-type {\n",
       "        vertical-align: middle;\n",
       "    }\n",
       "\n",
       "    .dataframe tbody tr th {\n",
       "        vertical-align: top;\n",
       "    }\n",
       "\n",
       "    .dataframe thead th {\n",
       "        text-align: right;\n",
       "    }\n",
       "</style>\n",
       "<table border=\"1\" class=\"dataframe\">\n",
       "  <thead>\n",
       "    <tr style=\"text-align: right;\">\n",
       "      <th></th>\n",
       "      <th>user_id</th>\n",
       "      <th>gender</th>\n",
       "      <th>age</th>\n",
       "      <th>occupation</th>\n",
       "      <th>zip-code</th>\n",
       "    </tr>\n",
       "  </thead>\n",
       "  <tbody>\n",
       "    <tr>\n",
       "      <th>6036</th>\n",
       "      <td>6037</td>\n",
       "      <td>F</td>\n",
       "      <td>45</td>\n",
       "      <td>1</td>\n",
       "      <td>76006</td>\n",
       "    </tr>\n",
       "    <tr>\n",
       "      <th>6037</th>\n",
       "      <td>6038</td>\n",
       "      <td>F</td>\n",
       "      <td>56</td>\n",
       "      <td>1</td>\n",
       "      <td>14706</td>\n",
       "    </tr>\n",
       "    <tr>\n",
       "      <th>6038</th>\n",
       "      <td>6039</td>\n",
       "      <td>F</td>\n",
       "      <td>45</td>\n",
       "      <td>0</td>\n",
       "      <td>01060</td>\n",
       "    </tr>\n",
       "    <tr>\n",
       "      <th>6039</th>\n",
       "      <td>6040</td>\n",
       "      <td>M</td>\n",
       "      <td>25</td>\n",
       "      <td>6</td>\n",
       "      <td>11106</td>\n",
       "    </tr>\n",
       "    <tr>\n",
       "      <th>0</th>\n",
       "      <td>6041</td>\n",
       "      <td>F</td>\n",
       "      <td>25</td>\n",
       "      <td>12</td>\n",
       "      <td>55117</td>\n",
       "    </tr>\n",
       "  </tbody>\n",
       "</table>\n",
       "</div>"
      ],
      "text/plain": [
       "      user_id gender  age  occupation zip-code\n",
       "6036     6037      F   45           1    76006\n",
       "6037     6038      F   56           1    14706\n",
       "6038     6039      F   45           0    01060\n",
       "6039     6040      M   25           6    11106\n",
       "0        6041      F   25          12    55117"
      ]
     },
     "execution_count": 20,
     "metadata": {},
     "output_type": "execute_result"
    }
   ],
   "source": [
    "users.tail()"
   ]
  },
  {
   "cell_type": "markdown",
   "id": "ae5a3b7d",
   "metadata": {},
   "source": [
    "# 3. 내가 선호하는 영화를 5가지 골라서 ratings에 추가해 줍시다.\n",
    "\n",
    "새로 추가한 영화에 대한 선호 + 기존에 존재하는 데이터에 대한 영화에 대한 선호를 넣어주었습니다."
   ]
  },
  {
   "cell_type": "code",
   "execution_count": 21,
   "id": "3e67e43a",
   "metadata": {},
   "outputs": [
    {
     "name": "stdout",
     "output_type": "stream",
     "text": [
      "1646148887.8726156\n"
     ]
    }
   ],
   "source": [
    "# 현재 시간 출력\n",
    "\n",
    "import time\n",
    "\n",
    "current = time.time()\n",
    "print(current)"
   ]
  },
  {
   "cell_type": "code",
   "execution_count": 22,
   "id": "9663a491",
   "metadata": {},
   "outputs": [
    {
     "name": "stdout",
     "output_type": "stream",
     "text": [
      "    user_id  movie_id  counts  timestamp\n",
      "0         1      1193       5  978300760\n",
      "1         1       661       3  978302109\n",
      "2         1       914       3  978301968\n",
      "3         1      3408       4  978300275\n",
      "4         1      2355       5  978824291\n",
      "5         1      1197       3  978302268\n",
      "6         1      1287       5  978302039\n",
      "7         1      2804       5  978300719\n",
      "8         1       594       4  978302268\n",
      "9         1       919       4  978301368\n",
      "10        1       595       5  978824268\n",
      "11        1       938       4  978301752\n",
      "12        1      2398       4  978302281\n",
      "13        1      2918       4  978302124\n",
      "14        1      1035       5  978301753\n",
      "15        1      2791       4  978302188\n",
      "16        1      2687       3  978824268\n",
      "17        1      2018       4  978301777\n",
      "18        1      3105       5  978301713\n",
      "19        1      2797       4  978302039\n",
      "20        1      2321       3  978302205\n",
      "21        1       720       3  978300760\n",
      "22        1      1270       5  978300055\n",
      "23        1       527       5  978824195\n",
      "24        1      2340       3  978300103\n",
      "25        1        48       5  978824351\n",
      "26        1      1097       4  978301953\n",
      "27        1      1721       4  978300055\n",
      "28        1      1545       4  978824139\n",
      "29        1       745       3  978824268\n",
      "         user_id  movie_id  counts  timestamp\n",
      "1000170     6040      2728       5  957717123\n",
      "1000172     6040      1784       3  997454464\n",
      "1000174     6040      2745       3  956716157\n",
      "1000178     6040      3703       4  964828575\n",
      "1000179     6040      2762       4  956704584\n",
      "1000180     6040      1036       3  956715455\n",
      "1000181     6040       508       4  956704972\n",
      "1000182     6040      1041       4  957717678\n",
      "1000183     6040      3735       4  960971654\n",
      "1000184     6040      2791       4  956715569\n",
      "1000186     6040       527       5  956704219\n",
      "1000188     6040       535       4  964828734\n",
      "1000189     6040      2010       5  957716795\n",
      "1000190     6040      2011       4  956716113\n",
      "1000191     6040      3751       4  964828782\n",
      "1000192     6040      2019       5  956703977\n",
      "1000193     6040       541       4  956715288\n",
      "1000194     6040      1077       5  964828799\n",
      "1000196     6040       549       4  956704746\n",
      "1000197     6040      2020       3  956715288\n",
      "1000198     6040      2021       3  956716374\n",
      "1000199     6040      2022       5  956716207\n",
      "1000200     6040      2028       5  956704519\n",
      "1000201     6040      1080       4  957717322\n",
      "1000202     6040      1089       4  956704996\n",
      "1000203     6040      1090       3  956715518\n",
      "1000205     6040      1094       5  956704887\n",
      "1000206     6040       562       5  956704746\n",
      "1000207     6040      1096       4  956715648\n",
      "1000208     6040      1097       4  956715569\n"
     ]
    }
   ],
   "source": [
    "print(ratings.head(30))\n",
    "print(ratings.tail(30))"
   ]
  },
  {
   "cell_type": "code",
   "execution_count": 23,
   "id": "bf5f7fe5",
   "metadata": {},
   "outputs": [],
   "source": [
    "my_movie_ratings = [5, 4, 3, 5, 5, 5, 5, 5, 5, 5]\n",
    "my_movie_id = [3953, 3954, 3956, 3956, 3957, 1240, 2571, 1580 , 648, 3623]\n",
    "# ['2012', 'letters to juliet', 'Amour', 'Moana', 'Real Steel', \\\n",
    "#                   'Terminator, The (1984)', 'Matrix, The (1999)', 'Men in Black (1997)', 'Mission: Impossible (1996)', 'Mission: Impossible 2 (2000)']\n",
    "\n",
    "\n",
    "my_ratings = pd.DataFrame({'user_id': ['6041']*10, 'movie_id': my_movie_id, \\\n",
    "                            'counts' : my_movie_ratings, 'timestamp': [current]*10})"
   ]
  },
  {
   "cell_type": "code",
   "execution_count": 24,
   "id": "cfb1d2ee",
   "metadata": {
    "scrolled": true
   },
   "outputs": [
    {
     "data": {
      "text/html": [
       "<div>\n",
       "<style scoped>\n",
       "    .dataframe tbody tr th:only-of-type {\n",
       "        vertical-align: middle;\n",
       "    }\n",
       "\n",
       "    .dataframe tbody tr th {\n",
       "        vertical-align: top;\n",
       "    }\n",
       "\n",
       "    .dataframe thead th {\n",
       "        text-align: right;\n",
       "    }\n",
       "</style>\n",
       "<table border=\"1\" class=\"dataframe\">\n",
       "  <thead>\n",
       "    <tr style=\"text-align: right;\">\n",
       "      <th></th>\n",
       "      <th>user_id</th>\n",
       "      <th>movie_id</th>\n",
       "      <th>counts</th>\n",
       "      <th>timestamp</th>\n",
       "    </tr>\n",
       "  </thead>\n",
       "  <tbody>\n",
       "    <tr>\n",
       "      <th>1000198</th>\n",
       "      <td>6040</td>\n",
       "      <td>2021</td>\n",
       "      <td>3</td>\n",
       "      <td>9.567164e+08</td>\n",
       "    </tr>\n",
       "    <tr>\n",
       "      <th>1000199</th>\n",
       "      <td>6040</td>\n",
       "      <td>2022</td>\n",
       "      <td>5</td>\n",
       "      <td>9.567162e+08</td>\n",
       "    </tr>\n",
       "    <tr>\n",
       "      <th>1000200</th>\n",
       "      <td>6040</td>\n",
       "      <td>2028</td>\n",
       "      <td>5</td>\n",
       "      <td>9.567045e+08</td>\n",
       "    </tr>\n",
       "    <tr>\n",
       "      <th>1000201</th>\n",
       "      <td>6040</td>\n",
       "      <td>1080</td>\n",
       "      <td>4</td>\n",
       "      <td>9.577173e+08</td>\n",
       "    </tr>\n",
       "    <tr>\n",
       "      <th>1000202</th>\n",
       "      <td>6040</td>\n",
       "      <td>1089</td>\n",
       "      <td>4</td>\n",
       "      <td>9.567050e+08</td>\n",
       "    </tr>\n",
       "    <tr>\n",
       "      <th>1000203</th>\n",
       "      <td>6040</td>\n",
       "      <td>1090</td>\n",
       "      <td>3</td>\n",
       "      <td>9.567155e+08</td>\n",
       "    </tr>\n",
       "    <tr>\n",
       "      <th>1000205</th>\n",
       "      <td>6040</td>\n",
       "      <td>1094</td>\n",
       "      <td>5</td>\n",
       "      <td>9.567049e+08</td>\n",
       "    </tr>\n",
       "    <tr>\n",
       "      <th>1000206</th>\n",
       "      <td>6040</td>\n",
       "      <td>562</td>\n",
       "      <td>5</td>\n",
       "      <td>9.567047e+08</td>\n",
       "    </tr>\n",
       "    <tr>\n",
       "      <th>1000207</th>\n",
       "      <td>6040</td>\n",
       "      <td>1096</td>\n",
       "      <td>4</td>\n",
       "      <td>9.567156e+08</td>\n",
       "    </tr>\n",
       "    <tr>\n",
       "      <th>1000208</th>\n",
       "      <td>6040</td>\n",
       "      <td>1097</td>\n",
       "      <td>4</td>\n",
       "      <td>9.567156e+08</td>\n",
       "    </tr>\n",
       "    <tr>\n",
       "      <th>0</th>\n",
       "      <td>6041</td>\n",
       "      <td>3953</td>\n",
       "      <td>5</td>\n",
       "      <td>1.646149e+09</td>\n",
       "    </tr>\n",
       "    <tr>\n",
       "      <th>1</th>\n",
       "      <td>6041</td>\n",
       "      <td>3954</td>\n",
       "      <td>4</td>\n",
       "      <td>1.646149e+09</td>\n",
       "    </tr>\n",
       "    <tr>\n",
       "      <th>2</th>\n",
       "      <td>6041</td>\n",
       "      <td>3956</td>\n",
       "      <td>3</td>\n",
       "      <td>1.646149e+09</td>\n",
       "    </tr>\n",
       "    <tr>\n",
       "      <th>3</th>\n",
       "      <td>6041</td>\n",
       "      <td>3956</td>\n",
       "      <td>5</td>\n",
       "      <td>1.646149e+09</td>\n",
       "    </tr>\n",
       "    <tr>\n",
       "      <th>4</th>\n",
       "      <td>6041</td>\n",
       "      <td>3957</td>\n",
       "      <td>5</td>\n",
       "      <td>1.646149e+09</td>\n",
       "    </tr>\n",
       "    <tr>\n",
       "      <th>5</th>\n",
       "      <td>6041</td>\n",
       "      <td>1240</td>\n",
       "      <td>5</td>\n",
       "      <td>1.646149e+09</td>\n",
       "    </tr>\n",
       "    <tr>\n",
       "      <th>6</th>\n",
       "      <td>6041</td>\n",
       "      <td>2571</td>\n",
       "      <td>5</td>\n",
       "      <td>1.646149e+09</td>\n",
       "    </tr>\n",
       "    <tr>\n",
       "      <th>7</th>\n",
       "      <td>6041</td>\n",
       "      <td>1580</td>\n",
       "      <td>5</td>\n",
       "      <td>1.646149e+09</td>\n",
       "    </tr>\n",
       "    <tr>\n",
       "      <th>8</th>\n",
       "      <td>6041</td>\n",
       "      <td>648</td>\n",
       "      <td>5</td>\n",
       "      <td>1.646149e+09</td>\n",
       "    </tr>\n",
       "    <tr>\n",
       "      <th>9</th>\n",
       "      <td>6041</td>\n",
       "      <td>3623</td>\n",
       "      <td>5</td>\n",
       "      <td>1.646149e+09</td>\n",
       "    </tr>\n",
       "  </tbody>\n",
       "</table>\n",
       "</div>"
      ],
      "text/plain": [
       "        user_id  movie_id  counts     timestamp\n",
       "1000198    6040      2021       3  9.567164e+08\n",
       "1000199    6040      2022       5  9.567162e+08\n",
       "1000200    6040      2028       5  9.567045e+08\n",
       "1000201    6040      1080       4  9.577173e+08\n",
       "1000202    6040      1089       4  9.567050e+08\n",
       "1000203    6040      1090       3  9.567155e+08\n",
       "1000205    6040      1094       5  9.567049e+08\n",
       "1000206    6040       562       5  9.567047e+08\n",
       "1000207    6040      1096       4  9.567156e+08\n",
       "1000208    6040      1097       4  9.567156e+08\n",
       "0          6041      3953       5  1.646149e+09\n",
       "1          6041      3954       4  1.646149e+09\n",
       "2          6041      3956       3  1.646149e+09\n",
       "3          6041      3956       5  1.646149e+09\n",
       "4          6041      3957       5  1.646149e+09\n",
       "5          6041      1240       5  1.646149e+09\n",
       "6          6041      2571       5  1.646149e+09\n",
       "7          6041      1580       5  1.646149e+09\n",
       "8          6041       648       5  1.646149e+09\n",
       "9          6041      3623       5  1.646149e+09"
      ]
     },
     "execution_count": 24,
     "metadata": {},
     "output_type": "execute_result"
    }
   ],
   "source": [
    "if not ratings.isin({'user_id':['6041']})['user_id'].any():\n",
    "    ratings = ratings.append(my_ratings)\n",
    "    \n",
    "ratings.tail(20)    \n"
   ]
  },
  {
   "cell_type": "markdown",
   "id": "62111f8e",
   "metadata": {},
   "source": [
    "# 4. CSR matrix를 직접 만들어 봅시다.\n",
    "\n",
    "## ratings 데이터 구조\n",
    "\n",
    "ratings = {UserID::MovieID::Rating::Timestamp}\n",
    "\n",
    "## users 데이터 구조\n",
    "\n",
    "users = {UserID::Gender::Age::Occupation::Zip-code}\n",
    "\n",
    "## movies 데이터 구조\n",
    "\n",
    "movies = {MovieID::Title::Genres}\n",
    "\n",
    "## CSR Matrix 1. ratings 사용법\n",
    "\n",
    "class scipy.sparse.csr_matrix(arg1, shape=None, dtype=None, copy=False)\n",
    "\n",
    "- csr_matrix((data, (row_ind, col_ind)), [shape=(M, N)])\n",
    "\n",
    "\n",
    "### 4-1. user_id * movie_id 구조의 평점 CSR_Matrix 구하기"
   ]
  },
  {
   "cell_type": "code",
   "execution_count": 25,
   "id": "8002f894",
   "metadata": {},
   "outputs": [],
   "source": [
    "# ratings['counts'][:10]"
   ]
  },
  {
   "cell_type": "code",
   "execution_count": 26,
   "id": "e001a465",
   "metadata": {},
   "outputs": [],
   "source": [
    "# print(ratings.head(30))\n",
    "# print(ratings.tail(30))"
   ]
  },
  {
   "cell_type": "code",
   "execution_count": 27,
   "id": "ee9fa5d4",
   "metadata": {},
   "outputs": [
    {
     "name": "stdout",
     "output_type": "stream",
     "text": [
      "6042 3958\n"
     ]
    }
   ],
   "source": [
    "from scipy.sparse import csr_matrix\n",
    "\n",
    "num_user_id = users['user_id'].astype(int).max()+1\n",
    "num_movie_id = movies['movie_id'].astype(int).max()+1\n",
    "\n",
    "print(num_user_id, num_movie_id)\n",
    "\n",
    "csr_data = csr_matrix((ratings['counts'], (ratings.user_id, ratings.movie_id)), \\\n",
    "                      shape= (num_user_id, num_movie_id))"
   ]
  },
  {
   "cell_type": "code",
   "execution_count": null,
   "id": "06c4bcf2",
   "metadata": {},
   "outputs": [],
   "source": []
  },
  {
   "cell_type": "markdown",
   "id": "0835ce0e",
   "metadata": {},
   "source": [
    "위 코드는 덕종님 글과 [stack overflow]( https://stackoverflow.com/questions/46396450/sparse-matrix-valueerror-row-index-exceeds-matrix-dimensions )를 작성하여 완성한 코드입니다.

    생각해보니, 4-1에서 생성한 user_id * movie_id 구조는 새로운 고객데이터 혹은 영화 데이터가 들어왔을때 추천을 해줄만한 구조는 아닌 것 같아서, 새롭게 Dataframe을 생성하고 CSR Matrix를 생성해보기로 하였습니다.\n",
    "\n",
    "## 4-2. movie_id * gender 구조의 평점 CSR_Matrix구하기\n"
   ]
  },
  {
   "cell_type": "code",
   "execution_count": 28,
   "id": "ec9db667",
   "metadata": {},
   "outputs": [
    {
     "data": {
      "text/html": [
       "<div>\n",
       "<style scoped>\n",
       "    .dataframe tbody tr th:only-of-type {\n",
       "        vertical-align: middle;\n",
       "    }\n",
       "\n",
       "    .dataframe tbody tr th {\n",
       "        vertical-align: top;\n",
       "    }\n",
       "\n",
       "    .dataframe thead th {\n",
       "        text-align: right;\n",
       "    }\n",
       "</style>\n",
       "<table border=\"1\" class=\"dataframe\">\n",
       "  <thead>\n",
       "    <tr style=\"text-align: right;\">\n",
       "      <th></th>\n",
       "      <th>user_id</th>\n",
       "      <th>movie_id</th>\n",
       "      <th>counts</th>\n",
       "      <th>timestamp</th>\n",
       "    </tr>\n",
       "  </thead>\n",
       "  <tbody>\n",
       "    <tr>\n",
       "      <th>0</th>\n",
       "      <td>1</td>\n",
       "      <td>1193</td>\n",
       "      <td>5</td>\n",
       "      <td>978300760.0</td>\n",
       "    </tr>\n",
       "    <tr>\n",
       "      <th>1</th>\n",
       "      <td>1</td>\n",
       "      <td>661</td>\n",
       "      <td>3</td>\n",
       "      <td>978302109.0</td>\n",
       "    </tr>\n",
       "    <tr>\n",
       "      <th>2</th>\n",
       "      <td>1</td>\n",
       "      <td>914</td>\n",
       "      <td>3</td>\n",
       "      <td>978301968.0</td>\n",
       "    </tr>\n",
       "    <tr>\n",
       "      <th>3</th>\n",
       "      <td>1</td>\n",
       "      <td>3408</td>\n",
       "      <td>4</td>\n",
       "      <td>978300275.0</td>\n",
       "    </tr>\n",
       "    <tr>\n",
       "      <th>4</th>\n",
       "      <td>1</td>\n",
       "      <td>2355</td>\n",
       "      <td>5</td>\n",
       "      <td>978824291.0</td>\n",
       "    </tr>\n",
       "  </tbody>\n",
       "</table>\n",
       "</div>"
      ],
      "text/plain": [
       "  user_id  movie_id  counts    timestamp\n",
       "0       1      1193       5  978300760.0\n",
       "1       1       661       3  978302109.0\n",
       "2       1       914       3  978301968.0\n",
       "3       1      3408       4  978300275.0\n",
       "4       1      2355       5  978824291.0"
      ]
     },
     "execution_count": 28,
     "metadata": {},
     "output_type": "execute_result"
    }
   ],
   "source": [
    "gen_ocp_data = ratings.copy()\n",
    "gen_ocp_data.head()"
   ]
  },
  {
   "cell_type": "markdown",
   "id": "1a2e94b6",
   "metadata": {},
   "source": [
    "여기에 ratings.user_id에 맞춰서 users.Gender와 users.occupation정보를 추가해주었습니다.\n",
    "\n",
    "- 참고 링크 : https://yganalyst.github.io/data_handling/Pd_12/"
   ]
  },
  {
   "cell_type": "code",
   "execution_count": 29,
   "id": "76acdd49",
   "metadata": {},
   "outputs": [
    {
     "name": "stdout",
     "output_type": "stream",
     "text": [
      "   user_id gender   age  occupation zip-code  movie_id  counts    timestamp\n",
      "40     1.0      F   1.0        10.0    48067         1       5  978824268.0\n",
      "41     1.0      F   1.0        10.0    48067      1961       5  978301590.0\n",
      "42     1.0      F   1.0        10.0    48067      1962       4  978301753.0\n",
      "43     1.0      F   1.0        10.0    48067      2692       4  978301570.0\n",
      "44     1.0      F   1.0        10.0    48067       260       4  978300760.0\n",
      "45     1.0      F   1.0        10.0    48067      1028       5  978301777.0\n",
      "46     1.0      F   1.0        10.0    48067      1029       5  978302205.0\n",
      "47     1.0      F   1.0        10.0    48067      1207       4  978300719.0\n",
      "48     1.0      F   1.0        10.0    48067      2028       5  978301619.0\n",
      "49     1.0      F   1.0        10.0    48067       531       4  978302149.0\n",
      "50     1.0      F   1.0        10.0    48067      3114       4  978302174.0\n",
      "51     1.0      F   1.0        10.0    48067       608       4  978301398.0\n",
      "52     1.0      F   1.0        10.0    48067      1246       4  978302091.0\n",
      "53     2.0      M  56.0        16.0    70072      1357       5  978298709.0\n",
      "54     2.0      M  56.0        16.0    70072      3068       4  978299000.0\n",
      "55     2.0      M  56.0        16.0    70072      1537       4  978299620.0\n",
      "56     2.0      M  56.0        16.0    70072       647       3  978299351.0\n",
      "57     2.0      M  56.0        16.0    70072      2194       4  978299297.0\n",
      "58     2.0      M  56.0        16.0    70072       648       4  978299913.0\n",
      "59     2.0      M  56.0        16.0    70072      2268       5  978299297.0\n",
      "(836488, 8)\n",
      "(836488, 4)\n"
     ]
    }
   ],
   "source": [
    "gen_ocp_data  = pd.merge(users, ratings, how = 'right', on='user_id')\n",
    "\n",
    "print(gen_ocp_data[40:60])\n",
    "print(gen_ocp_data.shape)\n",
    "\n",
    "print(ratings.shape)"
   ]
  },
  {
   "cell_type": "markdown",
   "id": "43031561",
   "metadata": {},
   "source": [
    "rating의 행 크기는 유지하 되,  ratings.user_id == users.user_id 인 곳에 users.gender, age, occupation, zip-code 열이 추가된 것을 볼 수 있습니다.\n",
    "\n"
   ]
  },
  {
   "cell_type": "code",
   "execution_count": 30,
   "id": "1e67957a",
   "metadata": {},
   "outputs": [
    {
     "name": "stdout",
     "output_type": "stream",
     "text": [
      "21 3958\n"
     ]
    }
   ],
   "source": [
    "num_occupation = users['occupation'].astype(int).max()+1\n",
    "num_movie_id = movies['movie_id'].astype(int).max()+1\n",
    "\n",
    "print(num_occupation, num_movie_id)\n",
    "\n",
    "# csr_data_occ_mvid = csr_matrix((gen_ocp_data.counts, (gen_ocp_data.occupation, gen_ocp_data.movie_id)), \\\n",
    "#                       shape= (num_occupation, num_movie_id))"
   ]
  },
  {
   "attachments": {
    "image.png": {
     "image/png": "[encoded data removed]"
    }
   },
   "cell_type": "markdown",
   "id": "97671ffe",
   "metadata": {},
   "source": [
    "![image.png](attachment:image.png)\n",
    "\n",
    "실패로 종결,,,\n",
    "\n",
    "# 5. als_model = AlternatingLeastSquares 모델을 직접 구성하여 훈련시켜 봅시다."
   ]
  },
  {
   "cell_type": "code",
   "execution_count": 31,
   "id": "5ecb8e1d",
   "metadata": {},
   "outputs": [],
   "source": [
    "from implicit.als import AlternatingLeastSquares\n",
    "import os\n",
    "import numpy as np\n",
    "\n",
    "# implicit 라이브러리에서 권장하고 있는 부분입니다. 학습 내용과는 무관합니다.\n",
    "os.environ['OPENBLAS_NUM_THREADS']='1'\n",
    "os.environ['KMP_DUPLICATE_LIB_OK']='True'\n",
    "os.environ['MKL_NUM_THREADS']='1'"
   ]
  },
  {
   "cell_type": "code",
   "execution_count": 32,
   "id": "9df69f58",
   "metadata": {},
   "outputs": [],
   "source": [
    "als_model = AlternatingLeastSquares(factors=100, regularization=0.01, use_gpu=False, iterations=15, dtype=np.float32)"
   ]
  },
  {
   "cell_type": "code",
   "execution_count": 33,
   "id": "1eee81fa",
   "metadata": {},
   "outputs": [
    {
     "data": {
      "text/plain": [
       "<3958x6042 sparse matrix of type '<class 'numpy.int64'>'\n",
       "\twith 836487 stored elements in Compressed Sparse Column format>"
      ]
     },
     "execution_count": 33,
     "metadata": {},
     "output_type": "execute_result"
    }
   ],
   "source": [
    "csr_data_transpose = csr_data.T\n",
    "csr_data_transpose"
   ]
  },
  {
   "cell_type": "code",
   "execution_count": 34,
   "id": "5add79c2",
   "metadata": {},
   "outputs": [
    {
     "data": {
      "application/vnd.jupyter.widget-view+json": {
       "model_id": "728955aef2cd466d8bd334a4e9ebde6b",
       "version_major": 2,
       "version_minor": 0
      },
      "text/plain": [
       "  0%|          | 0/15 [00:00<?, ?it/s]"
      ]
     },
     "metadata": {},
     "output_type": "display_data"
    }
   ],
   "source": [
    "als_model.fit(csr_data_transpose)"
   ]
  },
  {
   "cell_type": "markdown",
   "id": "68db0a26",
   "metadata": {},
   "source": [
    "# 6. 내가 선호하는 5가지 영화 중 하나와 그 외의 영화 하나를 골라 훈련된 모델이 예측한 나의 선호도를 파악해 보세요.\n",
    "\n",
    "선호하는 영화 : 미션 임파서블\n",
    "\n",
    "선호를 표현하지 않은 영화 : Toy story"
   ]
  },
  {
   "cell_type": "code",
   "execution_count": 35,
   "id": "46a14ea4",
   "metadata": {},
   "outputs": [],
   "source": [
    "user_unique = users['user_id'].unique()\n",
    "movie_unique = movies['movie_id'].unique()\n",
    "\n",
    "user_to_idx = {v:k for k,v in enumerate(user_unique)}\n",
    "movie_to_idx = {v:k for k,v in enumerate(movie_unique)}"
   ]
  },
  {
   "cell_type": "code",
   "execution_count": 36,
   "id": "283b44ec",
   "metadata": {},
   "outputs": [],
   "source": [
    "hwi, misson_impossible = user_to_idx[6041], movie_to_idx[3623]\n",
    "hwi_vector, misson_impossible_vector = als_model.user_factors[6041], als_model.item_factors[3623]\n"
   ]
  },
  {
   "cell_type": "code",
   "execution_count": 37,
   "id": "2d7876d2",
   "metadata": {},
   "outputs": [],
   "source": [
    "# print(movie_to_idx)"
   ]
  },
  {
   "cell_type": "markdown",
   "id": "53150d27",
   "metadata": {},
   "source": [
    "- 나의 벡터"
   ]
  },
  {
   "cell_type": "code",
   "execution_count": 38,
   "id": "6c1f66f8",
   "metadata": {},
   "outputs": [
    {
     "data": {
      "text/plain": [
       "array([ 0.62003297, -0.7556134 ,  0.13808799,  0.62177426, -0.52658236,\n",
       "       -0.5605486 , -0.02544573,  0.08452046,  0.339437  , -0.41704863,\n",
       "        0.20787989,  0.87312996,  0.06523794,  0.15845038,  0.17733708,\n",
       "       -0.38140053,  0.45259696,  0.19546415, -0.2396714 , -0.7184572 ,\n",
       "       -0.21338616, -0.15515928, -0.03339711, -0.71114695,  0.44303098,\n",
       "       -0.46344376, -0.0088208 , -0.5323733 , -0.01130344, -0.39425677,\n",
       "       -0.20535842,  0.26652062,  0.25976574,  0.76301074,  0.36908612,\n",
       "        0.29070276,  0.21209374,  0.31632733,  0.59942335, -0.39961517,\n",
       "        0.15037656,  0.2118045 , -0.9473944 , -0.8709823 ,  0.73912555,\n",
       "       -0.24184914, -1.0410861 ,  0.10144892,  0.9294994 ,  0.5386297 ,\n",
       "       -0.33846265, -0.02570308, -0.10956471, -0.64071524, -0.6545751 ,\n",
       "       -0.712265  , -0.44539797,  0.3943839 ,  0.6721295 ,  0.8393577 ,\n",
       "        0.42481634,  0.55074555, -0.8112672 ,  0.74683386,  0.85256046,\n",
       "        0.5085756 , -0.40605798, -0.60355306,  0.3107387 , -0.38921833,\n",
       "       -0.10053829, -0.12558371, -0.8801457 ,  0.64172006,  1.1773766 ,\n",
       "        0.5714282 , -0.27276403, -0.1445016 , -0.05761773, -0.83037907,\n",
       "       -0.76130384,  0.23302816,  1.0465887 ,  0.55952084,  0.08659551,\n",
       "       -0.99611753,  0.0791847 , -0.14390917,  0.9053871 ,  0.22346686,\n",
       "        0.9584214 , -0.7230588 , -0.27390638,  0.17487364, -0.6255789 ,\n",
       "        0.90959215,  0.05524984, -0.5283006 , -0.3275791 ,  0.37046313],\n",
       "      dtype=float32)"
      ]
     },
     "execution_count": 38,
     "metadata": {},
     "output_type": "execute_result"
    }
   ],
   "source": [
    "hwi_vector"
   ]
  },
  {
   "cell_type": "markdown",
   "id": "44ee9ff9",
   "metadata": {},
   "source": [
    "- 영화 미션임파서블의 벡터"
   ]
  },
  {
   "cell_type": "code",
   "execution_count": 39,
   "id": "f9dd787d",
   "metadata": {},
   "outputs": [
    {
     "data": {
      "text/plain": [
       "array([ 0.02844251, -0.01374319,  0.02098541,  0.00483689,  0.0149475 ,\n",
       "       -0.00470249,  0.00768064,  0.04043771,  0.01490492, -0.0073807 ,\n",
       "        0.01861903, -0.01116293,  0.00910435, -0.00746971,  0.01811553,\n",
       "       -0.00198499, -0.00143576,  0.04398594, -0.0142912 ,  0.0249058 ,\n",
       "        0.01345281, -0.02455298,  0.00051018, -0.00667156, -0.03313961,\n",
       "        0.01669158, -0.00110943, -0.02391664,  0.00196642, -0.04534372,\n",
       "       -0.00656085,  0.00480663,  0.02654536,  0.01958112,  0.00846807,\n",
       "       -0.00811577,  0.0126635 ,  0.00808695,  0.01182625, -0.0002339 ,\n",
       "       -0.00682052,  0.00976221, -0.02118974, -0.0470693 ,  0.02343792,\n",
       "       -0.00438968, -0.02293994,  0.01720507,  0.03806063, -0.02146297,\n",
       "        0.0207079 ,  0.00633719,  0.01862377,  0.01470186, -0.02801966,\n",
       "       -0.01991741,  0.01275959,  0.00793627,  0.03583127, -0.01062402,\n",
       "        0.02481186,  0.02534296,  0.0068161 ,  0.01823584,  0.01863405,\n",
       "        0.0273976 ,  0.02533316,  0.00577157,  0.00554614, -0.02062142,\n",
       "        0.00944163, -0.0035901 ,  0.01584741,  0.02319295,  0.02943976,\n",
       "        0.03618348,  0.01570266,  0.00945742, -0.01242824,  0.00583492,\n",
       "       -0.00908435,  0.02232961, -0.00987709, -0.00086616, -0.0437148 ,\n",
       "       -0.02171625, -0.00164083, -0.00313249,  0.02481315, -0.0075637 ,\n",
       "        0.03988827, -0.00535179,  0.01749789,  0.02174726,  0.01022493,\n",
       "        0.04718208,  0.01602004,  0.00485263, -0.01458829,  0.0128542 ],\n",
       "      dtype=float32)"
      ]
     },
     "execution_count": 39,
     "metadata": {},
     "output_type": "execute_result"
    }
   ],
   "source": [
    "misson_impossible_vector"
   ]
  },
  {
   "cell_type": "code",
   "execution_count": 40,
   "id": "61c5d9a7",
   "metadata": {},
   "outputs": [
    {
     "data": {
      "text/plain": [
       "0.46910316"
      ]
     },
     "execution_count": 40,
     "metadata": {},
     "output_type": "execute_result"
    }
   ],
   "source": [
    "np.dot(hwi_vector, misson_impossible_vector)\n"
   ]
  },
  {
   "cell_type": "code",
   "execution_count": 41,
   "id": "105c07c5",
   "metadata": {},
   "outputs": [
    {
     "data": {
      "text/plain": [
       "0.0"
      ]
     },
     "execution_count": 41,
     "metadata": {},
     "output_type": "execute_result"
    }
   ],
   "source": [
    "toystory = movie_to_idx[1]\n",
    "toystory_vector = als_model.item_factors[toystory]\n",
    "np.dot(hwi_vector, toystory_vector)"
   ]
  },
  {
   "cell_type": "markdown",
   "id": "5075da8f",
   "metadata": {},
   "source": [
    "선호 리스트에 있는 벡터는 선호도가 꽤 높았고, 리스트에 없는 벡터를 계산 했더니, 선호도가 0.0이 나왔습니다."
   ]
  },
  {
   "cell_type": "code",
   "execution_count": null,
   "id": "ca372f85",
   "metadata": {},
   "outputs": [],
   "source": []
  },
  {
   "cell_type": "markdown",
   "id": "e16ce855",
   "metadata": {},
   "source": [
    "# 7. 내가 좋아하는 영화와 비슷한 영화 추천"
   ]
  },
  {
   "cell_type": "code",
   "execution_count": 42,
   "id": "3574e308",
   "metadata": {},
   "outputs": [],
   "source": [
    "# LettersToJuliet = movie_to_idx['3954']\n",
    "# LettersToJuliet_vector = als_model.item_factors[3954]\n",
    "# np.dot(hwi_vector, LettersToJuliet_vector)"
   ]
  },
  {
   "cell_type": "code",
   "execution_count": 43,
   "id": "a2855690",
   "metadata": {},
   "outputs": [
    {
     "data": {
      "text/plain": [
       "[(3554, 1.0),\n",
       " (3562, 0.68672836),\n",
       " (3537, 0.6857346),\n",
       " (2812, 0.6777),\n",
       " (3453, 0.66127807)]"
      ]
     },
     "execution_count": 43,
     "metadata": {},
     "output_type": "execute_result"
    }
   ],
   "source": [
    "my_favorite_movie = 3623\n",
    "my_favorite_movie_id = movie_to_idx[my_favorite_movie]\n",
    "my_similar_movie = als_model.similar_items(my_favorite_movie_id, N=5)\n",
    "my_similar_movie "
   ]
  },
  {
   "cell_type": "code",
   "execution_count": 44,
   "id": "9451a71c",
   "metadata": {},
   "outputs": [
    {
     "data": {
      "text/plain": [
       "[3554, 3562, 3537, 2812, 3453]"
      ]
     },
     "execution_count": 44,
     "metadata": {},
     "output_type": "execute_result"
    }
   ],
   "source": [
    "my_similar_movie_list = []\n",
    "\n",
    "for f in my_similar_movie:\n",
    "    my_similar_movie_list.append(f[0])\n",
    "    \n",
    "my_similar_movie_list    "
   ]
  },
  {
   "cell_type": "markdown",
   "id": "37206a20",
   "metadata": {},
   "source": [
    "다음 영화가 나왔습니다.\n",
    "\n",
    "- 3554::Love and Basketball (2000)::Drama|Romance\n",
    "- 3562::Committed (2000)::Comedy|Drama\n",
    "- 3537::Where the Money Is (2000)::Comedy|Drama\n",
    "- 2812::In Too Deep (1999)::Action|Thriller\n",
    "- 3453::Here on Earth (2000)::Drama|Romance"
   ]
  },
  {
   "cell_type": "markdown",
   "id": "e9e3bca6",
   "metadata": {},
   "source": [
    "# 8. 내가 좋아할 만한 영화 추천"
   ]
  },
  {
   "cell_type": "code",
   "execution_count": 45,
   "id": "39fdae8e",
   "metadata": {},
   "outputs": [
    {
     "data": {
      "text/plain": [
       "[(3424, 1.2060647),\n",
       " (1233, 1.1682469),\n",
       " (1186, 1.1574887),\n",
       " (247, 1.1233125),\n",
       " (1293, 1.067859)]"
      ]
     },
     "execution_count": 45,
     "metadata": {},
     "output_type": "execute_result"
    }
   ],
   "source": [
    "user = user_to_idx[6041]\n",
    "\n",
    "movie_recommended = als_model.recommend(user, csr_data, N=5, filter_already_liked_items=True)\n",
    "movie_recommended"
   ]
  },
  {
   "cell_type": "markdown",
   "id": "84c632b6",
   "metadata": {},
   "source": [
    "추천 받은 영화\n",
    "\n",
    "- 3424::Do the Right Thing (1989)::Comedy|Drama\n",
    "- 1233::Boat, The (Das Boot) (1981)::Action|Drama|War\n",
    "- 1186::Sex, Lies, and Videotape (1989)::Drama\n",
    "- 247::Heavenly Creatures (1994)::Drama|Fantasy|Romance|Thriller\n",
    "- 1293::Gandhi (1982)::Drama\n"
   ]
  },
  {
   "cell_type": "markdown",
   "id": "b4cf771f",
   "metadata": {},
   "source": [
    "# 9. 내가 추가한 새로운 영화에 대한 선호도는?\n",
    "\n",
    "5점 선호도인 3953, 3957\n",
    "\n",
    "3점 선호도인 3955에 대해 선호도 조사를 해보았습니다.\n"
   ]
  },
  {
   "attachments": {
    "image-2.png": {
     "image/png": "[encoded data removed]"
    },
    "image-3.png": {
     "image/png": "[encoded data removed]"
    }
   },
   "cell_type": "markdown",
   "id": "0ef51a41",
   "metadata": {},
   "source": [
    "![image-3.png](attachment:image-3.png)\n",
    "\n",
    "![image-2.png](attachment:image-2.png)\n",
    "\n",
    "## 5점 선호도"
   ]
  },
  {
   "cell_type": "code",
   "execution_count": 46,
   "id": "a4cdde64",
   "metadata": {},
   "outputs": [
    {
     "data": {
      "text/plain": [
       "0.010452618"
      ]
     },
     "execution_count": 46,
     "metadata": {},
     "output_type": "execute_result"
    }
   ],
   "source": [
    "hwi, mv_2012 = user_to_idx[6041], movie_to_idx[3957]\n",
    "hwi_vector, mv_2012_vector = als_model.user_factors[6041], als_model.item_factors[3957]\n",
    "np.dot(hwi_vector, mv_2012_vector)\n"
   ]
  },
  {
   "cell_type": "code",
   "execution_count": 47,
   "id": "c5c1beb8",
   "metadata": {},
   "outputs": [
    {
     "data": {
      "text/plain": [
       "0.010452618"
      ]
     },
     "execution_count": 47,
     "metadata": {},
     "output_type": "execute_result"
    }
   ],
   "source": [
    "hwi, real_steel = user_to_idx[6041], movie_to_idx[3957]\n",
    "hwi_vector, real_steel_vector = als_model.user_factors[6041], als_model.item_factors[3957]\n",
    "np.dot(hwi_vector, real_steel_vector)\n"
   ]
  },
  {
   "cell_type": "markdown",
   "id": "0f841133",
   "metadata": {},
   "source": [
    "## 3점 선호도"
   ]
  },
  {
   "cell_type": "code",
   "execution_count": 48,
   "id": "e772316b",
   "metadata": {},
   "outputs": [
    {
     "data": {
      "text/plain": [
       "0.0"
      ]
     },
     "execution_count": 48,
     "metadata": {},
     "output_type": "execute_result"
    }
   ],
   "source": [
    "hwi, armour = user_to_idx[6041], movie_to_idx[3955]\n",
    "hwi_vector, armour_vector = als_model.user_factors[6041], als_model.item_factors[3955]\n",
    "np.dot(hwi_vector, armour_vector)\n"
   ]
  },
  {
   "attachments": {},
   "cell_type": "markdown",
   "id": "631e4882",
   "metadata": {},
   "source": [
    "새로 추가된 데이터에 대해서는 추천이 비교적 덜 되지만, 평점에 의해서는 정확히 움직이는 것을 알 수 있습니다."
   ]
  },
  {
   "cell_type": "code",
   "execution_count": null,
   "id": "e57e1624",
   "metadata": {},
   "outputs": [],
   "source": []
  },
  {
   "attachments": {
    "image.png": {
     "image/png": "[encoded data removed]"
    }
   },
   "cell_type": "markdown",
   "id": "572e5dcf",
   "metadata": {},
   "source": [
    "# 회고\n",
    "1. users 데이터에 새로운 데이터를 추가해 줄 때, 한 행만 가진 Dataframe을 생성하려니 다음과 같은오류가 발생했었습니다.\n",
    "    - ERROR : If using all scalar values, you must pass an index\n",
    "    - 참고 사이트 : https://rfriend.tistory.com/482\n",
    "    - 해결방법 : 아래 사진에서 1번 방법을 이용해서 해결하였습니다.\n",
    "    - ![image.png](attachment:image.png)\n",
    "    \n",
    "    \n",
    "<br><br>\n",
    "    \n",
    "2. 두 Dataframe을 합치고 싶을 때 SQL처럼 Join해줄 수 있는 명령어는 pandas.merge(how = 'outer / left / right') 입니다.\n",
    "    - 참고 사이트 : https://yganalyst.github.io/data_handling/Pd_12/"
   ]
  },
  {
   "attachments": {
    "image.png": {
     "image/png": "[encoded data removed]"
    }
   },
   "cell_type": "markdown",
   "id": "48a50387",
   "metadata": {},
   "source": [
    "3. CSR Matrix를 짤 때 정말 어려웠다.\n",
    "\n",
    "![image.png](attachment:image.png)"
   ]
  },
  {
   "cell_type": "markdown",
   "id": "21e0c8d0",
   "metadata": {},
   "source": [
    "처음에 이해한 것은, ratings에 존재하는 user_id, movie_id의 조합에서 counts 조합만 뿌려줘야 한다고 생각햇어서, 처음에 shape에 들어가는 값을 users 데이터와 movies 데이터에서 가져오지 않고, ratings에 존재하는 user_id와 movie_id를 가져왔었습니다.\n",
    "\n",
    "영민님과 한 2시간동안 토론한 결과, shape에는 user_id와 movie_id로 만들어 지는 조합 중, 가장 큰 조합의 값을 넣어줘야 한다는 결론이 났습니다. (즉, ratings에 존재하는 소수의 정보가 아니라 기존 users와 movies의 id값들로 만들 수 있는 모든 조합을 만들어 내야할 수도 있기때문에, users, movies의 id 갯수를 넣어야 한다로 결론났습니다.\n",
    "\n",
    "- 아직 이해안되는 점\n",
    "    - 왜 + 1을 해줘야하나. 딱맞으면 왜안되는데 -_-\n",
    "    - unique()로 돌리면 또 안되던데 왜 그런지,,\n",
    "\n",
    "4. CSR Matrix를 손으로 그렸을때가 제일 이해가 잘됐다.\n",
    "    다른 조합의 Matrix를 만들 때, 손으로 그려서 이해해보기\n",
    "    "
   ]
  },
  {
   "cell_type": "markdown",
   "id": "3621b60d",
   "metadata": {},
   "source": [
    "# 해보고 싶은점\n",
    "\n",
    "- 사용할 데이터를 SQL과 같은 DB에 저장해놓고 불러와서 사용해보고 싶습니다.\n",
    "- 세가지 정보를 한번에 고려하는 CSR matrix를 생성하고 싶습니다."
   ]
  },
  {
   "cell_type": "markdown",
   "id": "88b9efdf",
   "metadata": {},
   "source": [
    "- CSR Matrix에서 다른 조합을 만들어서 사용하고 싶었는데, 인덱스 오류가 났습니다ㅠㅠ.\n",
    "\n",
    "진짜 열심히 수정해봤는데도 고쳐지질 않아서 기록으로 남겨두고 꼭 해결하고싶습니다."
   ]
  },
  {
   "cell_type": "code",
   "execution_count": 52,
   "id": "b4f9d475",
   "metadata": {},
   "outputs": [
    {
     "name": "stdout",
     "output_type": "stream",
     "text": [
      "6042 22\n"
     ]
    }
   ],
   "source": [
    "num_user_id = users['user_id'].astype(int).max()+1\n",
    "num_gender = users['gender'].nunique()+1\n",
    "num_occupation = users['occupation'].nunique()+1\n",
    "\n",
    "print(num_user_id, num_occupation)"
   ]
  },
  {
   "cell_type": "code",
   "execution_count": 53,
   "id": "13f1ed0c",
   "metadata": {},
   "outputs": [
    {
     "ename": "ValueError",
     "evalue": "negative column index found",
     "output_type": "error",
     "traceback": [
      "\u001b[0;31m---------------------------------------------------------------------------\u001b[0m",
      "\u001b[0;31mValueError\u001b[0m                                Traceback (most recent call last)",
      "\u001b[0;32m/tmp/ipykernel_501/2555683648.py\u001b[0m in \u001b[0;36m<module>\u001b[0;34m\u001b[0m\n\u001b[0;32m----> 1\u001b[0;31m csr_mvid_gender = csr_matrix((gen_ocp_data.counts, (gen_ocp_data.user_id, gen_ocp_data.occupation)), \\\n\u001b[0m\u001b[1;32m      2\u001b[0m                       shape= (num_user_id, num_occupation))\n",
      "\u001b[0;32m/opt/conda/lib/python3.9/site-packages/scipy/sparse/compressed.py\u001b[0m in \u001b[0;36m__init__\u001b[0;34m(self, arg1, shape, dtype, copy)\u001b[0m\n\u001b[1;32m     52\u001b[0m                     \u001b[0;31m# (data, ij) format\u001b[0m\u001b[0;34m\u001b[0m\u001b[0;34m\u001b[0m\u001b[0m\n\u001b[1;32m     53\u001b[0m                     \u001b[0;32mfrom\u001b[0m \u001b[0;34m.\u001b[0m\u001b[0mcoo\u001b[0m \u001b[0;32mimport\u001b[0m \u001b[0mcoo_matrix\u001b[0m\u001b[0;34m\u001b[0m\u001b[0;34m\u001b[0m\u001b[0m\n\u001b[0;32m---> 54\u001b[0;31m                     other = self.__class__(coo_matrix(arg1, shape=shape,\n\u001b[0m\u001b[1;32m     55\u001b[0m                                                       dtype=dtype))\n\u001b[1;32m     56\u001b[0m                     \u001b[0mself\u001b[0m\u001b[0;34m.\u001b[0m\u001b[0m_set_self\u001b[0m\u001b[0;34m(\u001b[0m\u001b[0mother\u001b[0m\u001b[0;34m)\u001b[0m\u001b[0;34m\u001b[0m\u001b[0;34m\u001b[0m\u001b[0m\n",
      "\u001b[0;32m/opt/conda/lib/python3.9/site-packages/scipy/sparse/coo.py\u001b[0m in \u001b[0;36m__init__\u001b[0;34m(self, arg1, shape, dtype, copy)\u001b[0m\n\u001b[1;32m    194\u001b[0m             \u001b[0mself\u001b[0m\u001b[0;34m.\u001b[0m\u001b[0mdata\u001b[0m \u001b[0;34m=\u001b[0m \u001b[0mself\u001b[0m\u001b[0;34m.\u001b[0m\u001b[0mdata\u001b[0m\u001b[0;34m.\u001b[0m\u001b[0mastype\u001b[0m\u001b[0;34m(\u001b[0m\u001b[0mdtype\u001b[0m\u001b[0;34m,\u001b[0m \u001b[0mcopy\u001b[0m\u001b[0;34m=\u001b[0m\u001b[0;32mFalse\u001b[0m\u001b[0;34m)\u001b[0m\u001b[0;34m\u001b[0m\u001b[0;34m\u001b[0m\u001b[0m\n\u001b[1;32m    195\u001b[0m \u001b[0;34m\u001b[0m\u001b[0m\n\u001b[0;32m--> 196\u001b[0;31m         \u001b[0mself\u001b[0m\u001b[0;34m.\u001b[0m\u001b[0m_check\u001b[0m\u001b[0;34m(\u001b[0m\u001b[0;34m)\u001b[0m\u001b[0;34m\u001b[0m\u001b[0;34m\u001b[0m\u001b[0m\n\u001b[0m\u001b[1;32m    197\u001b[0m \u001b[0;34m\u001b[0m\u001b[0m\n\u001b[1;32m    198\u001b[0m     \u001b[0;32mdef\u001b[0m \u001b[0mreshape\u001b[0m\u001b[0;34m(\u001b[0m\u001b[0mself\u001b[0m\u001b[0;34m,\u001b[0m \u001b[0;34m*\u001b[0m\u001b[0margs\u001b[0m\u001b[0;34m,\u001b[0m \u001b[0;34m**\u001b[0m\u001b[0mkwargs\u001b[0m\u001b[0;34m)\u001b[0m\u001b[0;34m:\u001b[0m\u001b[0;34m\u001b[0m\u001b[0;34m\u001b[0m\u001b[0m\n",
      "\u001b[0;32m/opt/conda/lib/python3.9/site-packages/scipy/sparse/coo.py\u001b[0m in \u001b[0;36m_check\u001b[0;34m(self)\u001b[0m\n\u001b[1;32m    287\u001b[0m                 \u001b[0;32mraise\u001b[0m \u001b[0mValueError\u001b[0m\u001b[0;34m(\u001b[0m\u001b[0;34m'negative row index found'\u001b[0m\u001b[0;34m)\u001b[0m\u001b[0;34m\u001b[0m\u001b[0;34m\u001b[0m\u001b[0m\n\u001b[1;32m    288\u001b[0m             \u001b[0;32mif\u001b[0m \u001b[0mself\u001b[0m\u001b[0;34m.\u001b[0m\u001b[0mcol\u001b[0m\u001b[0;34m.\u001b[0m\u001b[0mmin\u001b[0m\u001b[0;34m(\u001b[0m\u001b[0;34m)\u001b[0m \u001b[0;34m<\u001b[0m \u001b[0;36m0\u001b[0m\u001b[0;34m:\u001b[0m\u001b[0;34m\u001b[0m\u001b[0;34m\u001b[0m\u001b[0m\n\u001b[0;32m--> 289\u001b[0;31m                 \u001b[0;32mraise\u001b[0m \u001b[0mValueError\u001b[0m\u001b[0;34m(\u001b[0m\u001b[0;34m'negative column index found'\u001b[0m\u001b[0;34m)\u001b[0m\u001b[0;34m\u001b[0m\u001b[0;34m\u001b[0m\u001b[0m\n\u001b[0m\u001b[1;32m    290\u001b[0m \u001b[0;34m\u001b[0m\u001b[0m\n\u001b[1;32m    291\u001b[0m     \u001b[0;32mdef\u001b[0m \u001b[0mtranspose\u001b[0m\u001b[0;34m(\u001b[0m\u001b[0mself\u001b[0m\u001b[0;34m,\u001b[0m \u001b[0maxes\u001b[0m\u001b[0;34m=\u001b[0m\u001b[0;32mNone\u001b[0m\u001b[0;34m,\u001b[0m \u001b[0mcopy\u001b[0m\u001b[0;34m=\u001b[0m\u001b[0;32mFalse\u001b[0m\u001b[0;34m)\u001b[0m\u001b[0;34m:\u001b[0m\u001b[0;34m\u001b[0m\u001b[0;34m\u001b[0m\u001b[0m\n",
      "\u001b[0;31mValueError\u001b[0m: negative column index found"
     ]
    }
   ],
   "source": [
    "csr_mvid_gender = csr_matrix((gen_ocp_data.counts, (gen_ocp_data.user_id, gen_ocp_data.occupation)), \\\n",
    "                      shape= (num_user_id, num_occupation))"
   ]
  },
  {
   "cell_type": "code",
   "execution_count": 54,
   "id": "cbae1c31",
   "metadata": {},
   "outputs": [
    {
     "ename": "ValueError",
     "evalue": "column index exceeds matrix dimensions",
     "output_type": "error",
     "traceback": [
      "\u001b[0;31m---------------------------------------------------------------------------\u001b[0m",
      "\u001b[0;31mValueError\u001b[0m                                Traceback (most recent call last)",
      "\u001b[0;32m/tmp/ipykernel_501/2559537214.py\u001b[0m in \u001b[0;36m<module>\u001b[0;34m\u001b[0m\n\u001b[0;32m----> 1\u001b[0;31m csr_mvid_gender = csr_matrix((gen_ocp_data.counts, (gen_ocp_data.user_id, gen_ocp_data.movie_id)), \\\n\u001b[0m\u001b[1;32m      2\u001b[0m                       shape= (num_user_id, num_gender))\n",
      "\u001b[0;32m/opt/conda/lib/python3.9/site-packages/scipy/sparse/compressed.py\u001b[0m in \u001b[0;36m__init__\u001b[0;34m(self, arg1, shape, dtype, copy)\u001b[0m\n\u001b[1;32m     52\u001b[0m                     \u001b[0;31m# (data, ij) format\u001b[0m\u001b[0;34m\u001b[0m\u001b[0;34m\u001b[0m\u001b[0m\n\u001b[1;32m     53\u001b[0m                     \u001b[0;32mfrom\u001b[0m \u001b[0;34m.\u001b[0m\u001b[0mcoo\u001b[0m \u001b[0;32mimport\u001b[0m \u001b[0mcoo_matrix\u001b[0m\u001b[0;34m\u001b[0m\u001b[0;34m\u001b[0m\u001b[0m\n\u001b[0;32m---> 54\u001b[0;31m                     other = self.__class__(coo_matrix(arg1, shape=shape,\n\u001b[0m\u001b[1;32m     55\u001b[0m                                                       dtype=dtype))\n\u001b[1;32m     56\u001b[0m                     \u001b[0mself\u001b[0m\u001b[0;34m.\u001b[0m\u001b[0m_set_self\u001b[0m\u001b[0;34m(\u001b[0m\u001b[0mother\u001b[0m\u001b[0;34m)\u001b[0m\u001b[0;34m\u001b[0m\u001b[0;34m\u001b[0m\u001b[0m\n",
      "\u001b[0;32m/opt/conda/lib/python3.9/site-packages/scipy/sparse/coo.py\u001b[0m in \u001b[0;36m__init__\u001b[0;34m(self, arg1, shape, dtype, copy)\u001b[0m\n\u001b[1;32m    194\u001b[0m             \u001b[0mself\u001b[0m\u001b[0;34m.\u001b[0m\u001b[0mdata\u001b[0m \u001b[0;34m=\u001b[0m \u001b[0mself\u001b[0m\u001b[0;34m.\u001b[0m\u001b[0mdata\u001b[0m\u001b[0;34m.\u001b[0m\u001b[0mastype\u001b[0m\u001b[0;34m(\u001b[0m\u001b[0mdtype\u001b[0m\u001b[0;34m,\u001b[0m \u001b[0mcopy\u001b[0m\u001b[0;34m=\u001b[0m\u001b[0;32mFalse\u001b[0m\u001b[0;34m)\u001b[0m\u001b[0;34m\u001b[0m\u001b[0;34m\u001b[0m\u001b[0m\n\u001b[1;32m    195\u001b[0m \u001b[0;34m\u001b[0m\u001b[0m\n\u001b[0;32m--> 196\u001b[0;31m         \u001b[0mself\u001b[0m\u001b[0;34m.\u001b[0m\u001b[0m_check\u001b[0m\u001b[0;34m(\u001b[0m\u001b[0;34m)\u001b[0m\u001b[0;34m\u001b[0m\u001b[0;34m\u001b[0m\u001b[0m\n\u001b[0m\u001b[1;32m    197\u001b[0m \u001b[0;34m\u001b[0m\u001b[0m\n\u001b[1;32m    198\u001b[0m     \u001b[0;32mdef\u001b[0m \u001b[0mreshape\u001b[0m\u001b[0;34m(\u001b[0m\u001b[0mself\u001b[0m\u001b[0;34m,\u001b[0m \u001b[0;34m*\u001b[0m\u001b[0margs\u001b[0m\u001b[0;34m,\u001b[0m \u001b[0;34m**\u001b[0m\u001b[0mkwargs\u001b[0m\u001b[0;34m)\u001b[0m\u001b[0;34m:\u001b[0m\u001b[0;34m\u001b[0m\u001b[0;34m\u001b[0m\u001b[0m\n",
      "\u001b[0;32m/opt/conda/lib/python3.9/site-packages/scipy/sparse/coo.py\u001b[0m in \u001b[0;36m_check\u001b[0;34m(self)\u001b[0m\n\u001b[1;32m    283\u001b[0m                 \u001b[0;32mraise\u001b[0m \u001b[0mValueError\u001b[0m\u001b[0;34m(\u001b[0m\u001b[0;34m'row index exceeds matrix dimensions'\u001b[0m\u001b[0;34m)\u001b[0m\u001b[0;34m\u001b[0m\u001b[0;34m\u001b[0m\u001b[0m\n\u001b[1;32m    284\u001b[0m             \u001b[0;32mif\u001b[0m \u001b[0mself\u001b[0m\u001b[0;34m.\u001b[0m\u001b[0mcol\u001b[0m\u001b[0;34m.\u001b[0m\u001b[0mmax\u001b[0m\u001b[0;34m(\u001b[0m\u001b[0;34m)\u001b[0m \u001b[0;34m>=\u001b[0m \u001b[0mself\u001b[0m\u001b[0;34m.\u001b[0m\u001b[0mshape\u001b[0m\u001b[0;34m[\u001b[0m\u001b[0;36m1\u001b[0m\u001b[0;34m]\u001b[0m\u001b[0;34m:\u001b[0m\u001b[0;34m\u001b[0m\u001b[0;34m\u001b[0m\u001b[0m\n\u001b[0;32m--> 285\u001b[0;31m                 \u001b[0;32mraise\u001b[0m \u001b[0mValueError\u001b[0m\u001b[0;34m(\u001b[0m\u001b[0;34m'column index exceeds matrix dimensions'\u001b[0m\u001b[0;34m)\u001b[0m\u001b[0;34m\u001b[0m\u001b[0;34m\u001b[0m\u001b[0m\n\u001b[0m\u001b[1;32m    286\u001b[0m             \u001b[0;32mif\u001b[0m \u001b[0mself\u001b[0m\u001b[0;34m.\u001b[0m\u001b[0mrow\u001b[0m\u001b[0;34m.\u001b[0m\u001b[0mmin\u001b[0m\u001b[0;34m(\u001b[0m\u001b[0;34m)\u001b[0m \u001b[0;34m<\u001b[0m \u001b[0;36m0\u001b[0m\u001b[0;34m:\u001b[0m\u001b[0;34m\u001b[0m\u001b[0;34m\u001b[0m\u001b[0m\n\u001b[1;32m    287\u001b[0m                 \u001b[0;32mraise\u001b[0m \u001b[0mValueError\u001b[0m\u001b[0;34m(\u001b[0m\u001b[0;34m'negative row index found'\u001b[0m\u001b[0;34m)\u001b[0m\u001b[0;34m\u001b[0m\u001b[0;34m\u001b[0m\u001b[0m\n",
      "\u001b[0;31mValueError\u001b[0m: column index exceeds matrix dimensions"
     ]
    }
   ],
   "source": [
    "csr_mvid_gender = csr_matrix((gen_ocp_data.counts, (gen_ocp_data.user_id, gen_ocp_data.movie_id)), \\\n",
    "                      shape= (num_user_id, num_gender))"
   ]
  },
  {
   "attachments": {
    "image-2.png": {
     "image/png": "[encoded data removed]"
    }
   },
   "cell_type": "markdown",
   "id": "d85ea1f8",
   "metadata": {},
   "source": [
    "![image-2.png](attachment:image-2.png)"
   ]
  },
  {
   "attachments": {},
   "cell_type": "markdown",
   "id": "e6fb58bc",
   "metadata": {},
   "source": [
    "생각해보니, gender별로 counts를 뽑고싶으면,, 그냥 CSR Matrix가 아니라 groupby와 median을 사용해서 무비 아이디별 female의 평점 평균과 male의 평점 평균을 뽑아야 하나,,?\n",
    "\n",
    "그렇다면 feature P와 Q 행렬이 될 수있는 조건은 무엇일까,,"
   ]
  }
 ],
 "metadata": {
  "kernelspec": {
   "display_name": "Python 3 (ipykernel)",
   "language": "python",
   "name": "python3"
  },
  "language_info": {
   "codemirror_mode": {
    "name": "ipython",
    "version": 3
   },
   "file_extension": ".py",
   "mimetype": "text/x-python",
   "name": "python",
   "nbconvert_exporter": "python",
   "pygments_lexer": "ipython3",
   "version": "3.9.7"
  }
 },
 "nbformat": 4,
 "nbformat_minor": 5
}
