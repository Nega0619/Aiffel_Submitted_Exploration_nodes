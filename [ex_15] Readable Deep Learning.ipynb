{
 "cells": [
  {
   "cell_type": "code",
   "execution_count": 2,
   "id": "c11c5245",
   "metadata": {},
   "outputs": [
    {
     "name": "stdout",
     "output_type": "stream",
     "text": [
      "0.8.8\n",
      "0.3.8\n"
     ]
    }
   ],
   "source": [
    "import keras_ocr\n",
    "import pytesseract\n",
    "\n",
    "print(keras_ocr.__version__)\n",
    "print(pytesseract.__version__)\n",
    "# pytesseract는 tesseract-ocr에 종속적입니다. 아래 명령어를 통해 설치해야 할 수도 있습니다.\n",
    "# !sudo apt install tesseract-ocr"
   ]
  },
  {
   "cell_type": "markdown",
   "id": "811f73dc",
   "metadata": {},
   "source": [
    "# Step 1. 검증용 데이터셋 준비\n",
    "\n"
   ]
  },
  {
   "cell_type": "code",
   "execution_count": 3,
   "id": "50477805",
   "metadata": {},
   "outputs": [
    {
     "ename": "NameError",
     "evalue": "name 'pipeline' is not defined",
     "output_type": "error",
     "traceback": [
      "\u001b[0;31m---------------------------------------------------------------------------\u001b[0m",
      "\u001b[0;31mNameError\u001b[0m                                 Traceback (most recent call last)",
      "\u001b[0;32m/tmp/ipykernel_32/1703357514.py\u001b[0m in \u001b[0;36m<module>\u001b[0;34m\u001b[0m\n\u001b[1;32m     14\u001b[0m \u001b[0;34m\u001b[0m\u001b[0m\n\u001b[1;32m     15\u001b[0m \u001b[0mimages\u001b[0m \u001b[0;34m=\u001b[0m \u001b[0;34m[\u001b[0m \u001b[0mkeras_ocr\u001b[0m\u001b[0;34m.\u001b[0m\u001b[0mtools\u001b[0m\u001b[0;34m.\u001b[0m\u001b[0mread\u001b[0m\u001b[0;34m(\u001b[0m\u001b[0murl\u001b[0m\u001b[0;34m)\u001b[0m \u001b[0;32mfor\u001b[0m \u001b[0murl\u001b[0m \u001b[0;32min\u001b[0m \u001b[0mimage_urls\u001b[0m\u001b[0;34m]\u001b[0m\u001b[0;34m\u001b[0m\u001b[0;34m\u001b[0m\u001b[0m\n\u001b[0;32m---> 16\u001b[0;31m \u001b[0mprediction_groups\u001b[0m \u001b[0;34m=\u001b[0m \u001b[0;34m[\u001b[0m\u001b[0mpipeline\u001b[0m\u001b[0;34m.\u001b[0m\u001b[0mrecognize\u001b[0m\u001b[0;34m(\u001b[0m\u001b[0;34m[\u001b[0m\u001b[0murl\u001b[0m\u001b[0;34m]\u001b[0m\u001b[0;34m)\u001b[0m \u001b[0;32mfor\u001b[0m \u001b[0murl\u001b[0m \u001b[0;32min\u001b[0m \u001b[0mimage_urls\u001b[0m\u001b[0;34m]\u001b[0m\u001b[0;34m\u001b[0m\u001b[0;34m\u001b[0m\u001b[0m\n\u001b[0m",
      "\u001b[0;32m/tmp/ipykernel_32/1703357514.py\u001b[0m in \u001b[0;36m<listcomp>\u001b[0;34m(.0)\u001b[0m\n\u001b[1;32m     14\u001b[0m \u001b[0;34m\u001b[0m\u001b[0m\n\u001b[1;32m     15\u001b[0m \u001b[0mimages\u001b[0m \u001b[0;34m=\u001b[0m \u001b[0;34m[\u001b[0m \u001b[0mkeras_ocr\u001b[0m\u001b[0;34m.\u001b[0m\u001b[0mtools\u001b[0m\u001b[0;34m.\u001b[0m\u001b[0mread\u001b[0m\u001b[0;34m(\u001b[0m\u001b[0murl\u001b[0m\u001b[0;34m)\u001b[0m \u001b[0;32mfor\u001b[0m \u001b[0murl\u001b[0m \u001b[0;32min\u001b[0m \u001b[0mimage_urls\u001b[0m\u001b[0;34m]\u001b[0m\u001b[0;34m\u001b[0m\u001b[0;34m\u001b[0m\u001b[0m\n\u001b[0;32m---> 16\u001b[0;31m \u001b[0mprediction_groups\u001b[0m \u001b[0;34m=\u001b[0m \u001b[0;34m[\u001b[0m\u001b[0mpipeline\u001b[0m\u001b[0;34m.\u001b[0m\u001b[0mrecognize\u001b[0m\u001b[0;34m(\u001b[0m\u001b[0;34m[\u001b[0m\u001b[0murl\u001b[0m\u001b[0;34m]\u001b[0m\u001b[0;34m)\u001b[0m \u001b[0;32mfor\u001b[0m \u001b[0murl\u001b[0m \u001b[0;32min\u001b[0m \u001b[0mimage_urls\u001b[0m\u001b[0;34m]\u001b[0m\u001b[0;34m\u001b[0m\u001b[0;34m\u001b[0m\u001b[0m\n\u001b[0m",
      "\u001b[0;31mNameError\u001b[0m: name 'pipeline' is not defined"
     ]
    }
   ],
   "source": [
    "image_urls = [\n",
    "    'https://source.unsplash.com/M7mu6jXlcns/640x460',\n",
    "    'https://source.unsplash.com/6jsp4iHc8hI/640x460',\n",
    "    'https://source.unsplash.com/98uYQ-KupiE',\n",
    "    'https://source.unsplash.com/j9JoYpaJH3A',\n",
    "    'https://source.unsplash.com/eBkEJ9cH5b4',\n",
    "    'https://iamabhik.files.wordpress.com/2011/04/32.jpg',\n",
    "    'https://iamabhik.files.wordpress.com/2011/04/32.jpg',\n",
    "    'https://encrypted-tbn0.gstatic.com/images?q=tbn:ANd9GcTEusy9xTlwS0rm3IjDHgk11hTZplHAq0UcTRzdMEpiNkdRD5rx9VMVOqjNDowCRIScyG8&usqp=CAU',\n",
    "    'https://opengraph.githubassets.com/9dbd9d4c5fda14473d2acd0d1fb8ce5347c59e1c6b9de893caca73cb25a171ab/OCR-D/assets',\n",
    "    'https://ocr-d.de/assets/dfg_logo_eng.jpg',\n",
    "    'https://m.media-amazon.com/images/I/41IZGtU2P1L._AC_.jpg'\n",
    "]\n",
    "\n",
    "images = [ keras_ocr.tools.read(url) for url in image_urls]\n",
    "prediction_groups = [pipeline.recognize([url]) for url in image_urls]"
   ]
  },
  {
   "cell_type": "markdown",
   "id": "de9b1585",
   "metadata": {},
   "source": [
    "# Step 2. keras-ocr, Tesseract로 테스트 진행(Google OCR API는 선택 사항)\n",
    "\n",
    "\n",
    "## keras-OCR"
   ]
  },
  {
   "cell_type": "markdown",
   "id": "d21da209",
   "metadata": {},
   "source": [
    "불러온 이미지 시각화해보기"
   ]
  },
  {
   "cell_type": "code",
   "execution_count": null,
   "id": "e0a2e841",
   "metadata": {},
   "outputs": [],
   "source": [
    "# Plot the predictions\n",
    "fig, axs = plt.subplots(nrows=len(images), figsize=(20, 20))\n",
    "for idx, ax in enumerate(axs):\n",
    "    keras_ocr.tools.drawAnnotations(image=images[idx], \n",
    "                                    predictions=prediction_groups[idx][0], ax=ax)"
   ]
  },
  {
   "cell_type": "markdown",
   "id": "0d97e55b",
   "metadata": {},
   "source": [
    "## Tesseract\n",
    "\n",
    "Tesseract에서 사용하기 위해서 위에 URL로 가지고 와있는 image들을 cloud에 실제로 저장해주었습니다.\n",
    "\n",
    "- 먼저 이미지의 데이터 형식을 파악해보았습니다.\n"
   ]
  },
  {
   "cell_type": "code",
   "execution_count": null,
   "id": "e2553406",
   "metadata": {},
   "outputs": [],
   "source": [
    "print(type(images[0]))"
   ]
  },
  {
   "cell_type": "markdown",
   "id": "a19bb9d7",
   "metadata": {},
   "source": [
    "- 파이썬 이미지를 로컬에 저장하는 메소드들\n",
    "https://www.delftstack.com/ko/howto/numpy/save-numpy-array-as-image/#cv2.imwrite%25ED%2595%25A8%25EC%2588%2598%25EB%25A5%25BC-%25EC%2582%25AC%25EC%259A%25A9%25ED%2595%2598%25EC%2597%25AC-numpy-%25EB%25B0%25B0%25EC%2597%25B4%25EC%259D%2584-%25EC%259D%25B4%25EB%25AF%25B8%25EC%25A7%2580%25EB%25A1%259C-%25EC%25A0%2580%25EC%259E%25A5\n"
   ]
  },
  {
   "cell_type": "code",
   "execution_count": 6,
   "id": "db798312",
   "metadata": {},
   "outputs": [],
   "source": [
    "import imageio\n",
    "\n",
    "for idx, f in enumerate(images):\n",
    "    imageio.imwrite('image{}.jpeg'.format(idx), f)"
   ]
  },
  {
   "cell_type": "code",
   "execution_count": 9,
   "id": "272de3d6",
   "metadata": {},
   "outputs": [
    {
     "name": "stdout",
     "output_type": "stream",
     "text": [
      "/aiffel/aiffel/ocr_python/0000.png\n",
      "/aiffel/aiffel/ocr_python/0000.png\n",
      "/aiffel/aiffel/ocr_python/0001.png\n",
      "/aiffel/aiffel/ocr_python/0002.png\n",
      "/aiffel/aiffel/ocr_python/0003.png\n",
      "/aiffel/aiffel/ocr_python/0004.png\n",
      "/aiffel/aiffel/ocr_python/0005.png\n",
      "/aiffel/aiffel/ocr_python/0006.png\n",
      "/aiffel/aiffel/ocr_python/0007.png\n",
      "/aiffel/aiffel/ocr_python/0000.png\n",
      "/aiffel/aiffel/ocr_python/0001.png\n",
      "/aiffel/aiffel/ocr_python/0002.png\n",
      "/aiffel/aiffel/ocr_python/0003.png\n",
      "/aiffel/aiffel/ocr_python/0004.png\n",
      "/aiffel/aiffel/ocr_python/0005.png\n",
      "/aiffel/aiffel/ocr_python/0006.png\n",
      "/aiffel/aiffel/ocr_python/0007.png\n",
      "/aiffel/aiffel/ocr_python/0008.png\n",
      "/aiffel/aiffel/ocr_python/0009.png\n",
      "/aiffel/aiffel/ocr_python/0010.png\n",
      "/aiffel/aiffel/ocr_python/0011.png\n",
      "/aiffel/aiffel/ocr_python/0012.png\n",
      "/aiffel/aiffel/ocr_python/0013.png\n",
      "/aiffel/aiffel/ocr_python/0014.png\n",
      "/aiffel/aiffel/ocr_python/0015.png\n",
      "/aiffel/aiffel/ocr_python/0016.png\n",
      "/aiffel/aiffel/ocr_python/0017.png\n",
      "/aiffel/aiffel/ocr_python/0018.png\n",
      "/aiffel/aiffel/ocr_python/0019.png\n",
      "/aiffel/aiffel/ocr_python/0020.png\n",
      "/aiffel/aiffel/ocr_python/0021.png\n",
      "/aiffel/aiffel/ocr_python/0022.png\n",
      "/aiffel/aiffel/ocr_python/0023.png\n",
      "/aiffel/aiffel/ocr_python/0024.png\n",
      "/aiffel/aiffel/ocr_python/0025.png\n",
      "/aiffel/aiffel/ocr_python/0026.png\n",
      "/aiffel/aiffel/ocr_python/0000.png\n",
      "/aiffel/aiffel/ocr_python/0001.png\n",
      "/aiffel/aiffel/ocr_python/0002.png\n",
      "/aiffel/aiffel/ocr_python/0003.png\n",
      "/aiffel/aiffel/ocr_python/0004.png\n",
      "/aiffel/aiffel/ocr_python/0005.png\n",
      "/aiffel/aiffel/ocr_python/0006.png\n",
      "/aiffel/aiffel/ocr_python/0007.png\n",
      "/aiffel/aiffel/ocr_python/0000.png\n",
      "/aiffel/aiffel/ocr_python/0001.png\n",
      "/aiffel/aiffel/ocr_python/0002.png\n",
      "/aiffel/aiffel/ocr_python/0003.png\n",
      "/aiffel/aiffel/ocr_python/0004.png\n",
      "/aiffel/aiffel/ocr_python/0005.png\n",
      "/aiffel/aiffel/ocr_python/0000.png\n",
      "/aiffel/aiffel/ocr_python/0001.png\n",
      "/aiffel/aiffel/ocr_python/0002.png\n",
      "/aiffel/aiffel/ocr_python/0003.png\n",
      "/aiffel/aiffel/ocr_python/0004.png\n",
      "/aiffel/aiffel/ocr_python/0000.png\n",
      "/aiffel/aiffel/ocr_python/0001.png\n",
      "/aiffel/aiffel/ocr_python/0002.png\n",
      "/aiffel/aiffel/ocr_python/0003.png\n",
      "/aiffel/aiffel/ocr_python/0004.png\n",
      "/aiffel/aiffel/ocr_python/0000.png\n",
      "/aiffel/aiffel/ocr_python/0001.png\n",
      "/aiffel/aiffel/ocr_python/0002.png\n",
      "/aiffel/aiffel/ocr_python/0003.png\n",
      "/aiffel/aiffel/ocr_python/0000.png\n",
      "/aiffel/aiffel/ocr_python/0001.png\n",
      "/aiffel/aiffel/ocr_python/0002.png\n",
      "/aiffel/aiffel/ocr_python/0003.png\n",
      "/aiffel/aiffel/ocr_python/0004.png\n",
      "/aiffel/aiffel/ocr_python/0005.png\n",
      "/aiffel/aiffel/ocr_python/0006.png\n",
      "/aiffel/aiffel/ocr_python/0007.png\n",
      "/aiffel/aiffel/ocr_python/0008.png\n",
      "/aiffel/aiffel/ocr_python/0009.png\n",
      "/aiffel/aiffel/ocr_python/0010.png\n",
      "/aiffel/aiffel/ocr_python/0011.png\n",
      "/aiffel/aiffel/ocr_python/0012.png\n",
      "/aiffel/aiffel/ocr_python/0013.png\n",
      "/aiffel/aiffel/ocr_python/0014.png\n",
      "/aiffel/aiffel/ocr_python/0015.png\n",
      "/aiffel/aiffel/ocr_python/0016.png\n",
      "/aiffel/aiffel/ocr_python/0017.png\n",
      "/aiffel/aiffel/ocr_python/0018.png\n",
      "/aiffel/aiffel/ocr_python/0019.png\n",
      "/aiffel/aiffel/ocr_python/0020.png\n",
      "/aiffel/aiffel/ocr_python/0021.png\n",
      "/aiffel/aiffel/ocr_python/0022.png\n",
      "/aiffel/aiffel/ocr_python/0000.png\n",
      "/aiffel/aiffel/ocr_python/0001.png\n",
      "/aiffel/aiffel/ocr_python/0002.png\n",
      "/aiffel/aiffel/ocr_python/0003.png\n",
      "/aiffel/aiffel/ocr_python/0004.png\n",
      "/aiffel/aiffel/ocr_python/0005.png\n",
      "/aiffel/aiffel/ocr_python/0006.png\n",
      "/aiffel/aiffel/ocr_python/0007.png\n",
      "/aiffel/aiffel/ocr_python/0008.png\n",
      "/aiffel/aiffel/ocr_python/0000.png\n"
     ]
    }
   ],
   "source": [
    "import os\n",
    "import pytesseract\n",
    "from PIL import Image\n",
    "from pytesseract import Output\n",
    "import matplotlib.pyplot as plt\n",
    "\n",
    "# OCR Engine modes(–oem):\n",
    "# 0 - Legacy engine only.\n",
    "# 1 - Neural nets LSTM engine only.\n",
    "# 2 - Legacy + LSTM engines.\n",
    "# 3 - Default, based on what is available.\n",
    "\n",
    "# Page segmentation modes(–psm):\n",
    "# 0 - Orientation and script detection (OSD) only.\n",
    "# 1 - Automatic page segmentation with OSD.\n",
    "# 2 - Automatic page segmentation, but no OSD, or OCR.\n",
    "# 3 - Fully automatic page segmentation, but no OSD. (Default)\n",
    "# 4 - Assume a single column of text of variable sizes.\n",
    "# 5 - Assume a single uniform block of vertically aligned text.\n",
    "# 6 - Assume a single uniform block of text.\n",
    "# 7 - Treat the image as a single text line.\n",
    "# 8 - Treat the image as a single word.\n",
    "# 9 - Treat the image as a single word in a circle.\n",
    "# 10 - Treat the image as a single character.\n",
    "# 11 - Sparse text. Find as much text as possible in no particular order.\n",
    "# 12 - Sparse text with OSD.\n",
    "# 13 - Raw line. Treat the image as a single text line, bypassing hacks that are Tesseract-specific.\n",
    "\n",
    "def crop_word_regions(image_path='./images/sample.png', output_path='./output'):\n",
    "    if not os.path.exists(output_path):\n",
    "        os.mkdir(output_path)\n",
    "    custom_oem_psm_config = r'--oem 3 --psm 3'\n",
    "    image = Image.open(image_path)\n",
    "\n",
    "    recognized_data = pytesseract.image_to_data(\n",
    "        image, lang='eng',    # 한국어라면 lang='kor'\n",
    "        config=custom_oem_psm_config,\n",
    "        output_type=Output.DICT\n",
    "    )\n",
    "    \n",
    "    top_level = max(recognized_data['level'])\n",
    "    index = 0\n",
    "    cropped_image_path_list = []\n",
    "    for i in range(len(recognized_data['level'])):\n",
    "        level = recognized_data['level'][i]\n",
    "    \n",
    "        if level == top_level:\n",
    "            left = recognized_data['left'][i]\n",
    "            top = recognized_data['top'][i]\n",
    "            width = recognized_data['width'][i]\n",
    "            height = recognized_data['height'][i]\n",
    "            \n",
    "            output_img_path = os.path.join(output_path, f\"{str(index).zfill(4)}.png\")\n",
    "            print(output_img_path)\n",
    "            cropped_image = image.crop((\n",
    "                left,\n",
    "                top,\n",
    "                left+width,\n",
    "                top+height\n",
    "            ))\n",
    "            cropped_image.save(output_img_path)\n",
    "            cropped_image_path_list.append(output_img_path)\n",
    "            index += 1\n",
    "    return cropped_image_path_list\n",
    "\n",
    "\n",
    "work_dir = os.getenv('HOME')+'/aiffel/ocr_python'\n",
    "\n",
    "for num in range(11):\n",
    "    img_file_path = work_dir + '/image{}.jpeg'.format(num)   #테스트용 이미지 경로입니다. 본인이 선택한 파일명으로 바꿔주세요. \n",
    "    cropped_image_path_list = crop_word_regions(img_file_path, work_dir)\n",
    "\n",
    "# cropped_image_path_list = crop_word_regions(img_file_path, work_dir)"
   ]
  },
  {
   "cell_type": "code",
   "execution_count": 8,
   "id": "1ca67654",
   "metadata": {},
   "outputs": [
    {
     "data": {
      "text/plain": [
       "'/aiffel/aiffel/ocr_python/image10.jpeg'"
      ]
     },
     "execution_count": 8,
     "metadata": {},
     "output_type": "execute_result"
    }
   ],
   "source": [
    "img_file_path"
   ]
  },
  {
   "cell_type": "code",
   "execution_count": null,
   "id": "83d7055e",
   "metadata": {},
   "outputs": [],
   "source": []
  },
  {
   "cell_type": "code",
   "execution_count": null,
   "id": "6b1a48c3",
   "metadata": {},
   "outputs": [],
   "source": []
  },
  {
   "cell_type": "code",
   "execution_count": null,
   "id": "0729b5e8",
   "metadata": {},
   "outputs": [],
   "source": []
  },
  {
   "cell_type": "code",
   "execution_count": null,
   "id": "02818f6c",
   "metadata": {},
   "outputs": [],
   "source": []
  },
  {
   "cell_type": "code",
   "execution_count": null,
   "id": "a5d11288",
   "metadata": {},
   "outputs": [],
   "source": []
  },
  {
   "cell_type": "code",
   "execution_count": null,
   "id": "2a8f08c7",
   "metadata": {},
   "outputs": [],
   "source": []
  },
  {
   "cell_type": "code",
   "execution_count": null,
   "id": "28391cc7",
   "metadata": {},
   "outputs": [],
   "source": []
  },
  {
   "cell_type": "code",
   "execution_count": null,
   "id": "d9f122c4",
   "metadata": {},
   "outputs": [],
   "source": []
  },
  {
   "cell_type": "code",
   "execution_count": null,
   "id": "bf143542",
   "metadata": {},
   "outputs": [],
   "source": []
  },
  {
   "cell_type": "code",
   "execution_count": null,
   "id": "70624535",
   "metadata": {},
   "outputs": [],
   "source": []
  },
  {
   "cell_type": "code",
   "execution_count": null,
   "id": "c9d680d0",
   "metadata": {},
   "outputs": [],
   "source": []
  },
  {
   "cell_type": "code",
   "execution_count": null,
   "id": "93d58f1a",
   "metadata": {},
   "outputs": [],
   "source": []
  },
  {
   "cell_type": "code",
   "execution_count": null,
   "id": "d5dbba66",
   "metadata": {},
   "outputs": [],
   "source": [
    "import matplotlib.pyplot as plt\n",
    "import keras_ocr\n",
    "\n",
    "# keras-ocr이 detector과 recognizer를 위한 모델을 자동으로 다운로드받게 됩니다. \n",
    "pipeline = keras_ocr.pipeline.Pipeline()"
   ]
  },
  {
   "cell_type": "code",
   "execution_count": null,
   "id": "727aeaee",
   "metadata": {},
   "outputs": [],
   "source": []
  },
  {
   "cell_type": "code",
   "execution_count": null,
   "id": "43c5f3c3",
   "metadata": {},
   "outputs": [],
   "source": []
  },
  {
   "cell_type": "markdown",
   "id": "16a2760a",
   "metadata": {},
   "source": []
  }
 ],
 "metadata": {
  "kernelspec": {
   "display_name": "Python 3 (ipykernel)",
   "language": "python",
   "name": "python3"
  },
  "language_info": {
   "codemirror_mode": {
    "name": "ipython",
    "version": 3
   },
   "file_extension": ".py",
   "mimetype": "text/x-python",
   "name": "python",
   "nbconvert_exporter": "python",
   "pygments_lexer": "ipython3",
   "version": "3.9.7"
  }
 },
 "nbformat": 4,
 "nbformat_minor": 5
}
