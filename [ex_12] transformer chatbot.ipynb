{
 "cells": [
  {
   "cell_type": "markdown",
   "id": "3754546d",
   "metadata": {},
   "source": [
    "오늘은 트랜스포머를 이용한 챗봇을 만들어보았습니다.\n",
    "\n",
    "\n",
    "# step 1. 데이터 수집하기"
   ]
  },
  {
   "cell_type": "code",
   "execution_count": 1,
   "id": "c4dfd641",
   "metadata": {},
   "outputs": [
    {
     "name": "stdout",
     "output_type": "stream",
     "text": [
      "슝=3\n"
     ]
    }
   ],
   "source": [
    "import tensorflow as tf\n",
    "import tensorflow_datasets as tfds\n",
    "import os\n",
    "import re\n",
    "import numpy as np\n",
    "import matplotlib.pyplot as plt\n",
    "print(\"슝=3\")"
   ]
  },
  {
   "cell_type": "code",
   "execution_count": 2,
   "id": "5b77bf7c",
   "metadata": {},
   "outputs": [
    {
     "name": "stdout",
     "output_type": "stream",
     "text": [
      "슝=3\n",
      "total 1740\n",
      "-rw-r--r-- 1 root root 889842 Feb 20 10:40 'ChatbotData .csv'\n",
      "-rw-r--r-- 1 root root  88938 Feb 20 10:34  KETI_Office_Conversation_dataset.csv\n",
      "-rw-r--r-- 1 root root 795159 Feb 20 10:34  Wellness_Conversation_dataset.csv\n"
     ]
    }
   ],
   "source": [
    "file_path = os.getenv('HOME')+'/aiffel/transformer_chatbot/data/'\n",
    "\n",
    "chatbot_data_path = os.path.join(file_path, 'ChatbotData .csv')\n",
    "print(\"슝=3\")\n",
    "\n",
    "!ls -l ~/aiffel/transformer_chatbot/data/"
   ]
  },
  {
   "cell_type": "markdown",
   "id": "8f1bc918",
   "metadata": {},
   "source": [
    "# step 2. 데이터 전처리하기\n",
    "\n",
    "- 영어가 아니라 한국어 전처리는 해주지않았는데 어케할지 생각"
   ]
  },
  {
   "cell_type": "code",
   "execution_count": 3,
   "id": "ebaadde8",
   "metadata": {},
   "outputs": [
    {
     "name": "stdout",
     "output_type": "stream",
     "text": [
      "슝=3\n"
     ]
    }
   ],
   "source": [
    "# 전처리 함수\n",
    "def preprocess_sentence(sentence):\n",
    "  sentence = sentence.lower().strip()\n",
    "\n",
    "  # 단어와 구두점(punctuation) 사이의 거리를 만듭니다.\n",
    "  # 예를 들어서 \"I am a student.\" => \"I am a student .\"와 같이\n",
    "  # student와 온점 사이에 거리를 만듭니다.\n",
    "  sentence = re.sub(r\"([?.!,])\", r\" \\1 \", sentence)\n",
    "  sentence = re.sub(r'[\" \"]+', \" \", sentence)\n",
    "\n",
    "  # (a-z\n",
    "  sentence = sentence.strip()\n",
    "  return sentence\n",
    "print(\"슝=3\")"
   ]
  },
  {
   "cell_type": "code",
   "execution_count": 4,
   "id": "3d1b2c13",
   "metadata": {},
   "outputs": [],
   "source": [
    "import pandas as pd\n",
    "# 질문과 답변의 쌍인 데이터셋을 구성하기 위한 데이터 로드 함수\n",
    "def load_conversations(file_path):\n",
    "    inputs, outputs = [],[]\n",
    "    \n",
    "    df = pd.read_csv(file_path)\n",
    "    \n",
    "    df_input = df['Q']\n",
    "    df_output = df['A']\n",
    "    \n",
    "    for idx in range(len(df)):\n",
    "        inputs.append(preprocess_sentence(df_input[idx]))\n",
    "        outputs.append(preprocess_sentence(df_output[idx]))\n",
    "        \n",
    "    return inputs, outputs\n",
    "        \n",
    "#   id2line = {}"
   ]
  },
  {
   "cell_type": "code",
   "execution_count": 5,
   "id": "de065e20",
   "metadata": {},
   "outputs": [
    {
     "name": "stdout",
     "output_type": "stream",
     "text": [
      "전체 샘플 수 : 11823\n",
      "전체 샘플 수 : 11823\n"
     ]
    }
   ],
   "source": [
    "questions, answers = load_conversations(chatbot_data_path)\n",
    "\n",
    "print('전체 샘플 수 :', len(questions))\n",
    "print('전체 샘플 수 :', len(answers))"
   ]
  },
  {
   "cell_type": "markdown",
   "id": "af505bc5",
   "metadata": {},
   "source": [
    "# Step 3. SubwordTextEncoder 사용하기\n"
   ]
  },
  {
   "cell_type": "code",
   "execution_count": 6,
   "id": "dd05e4ab",
   "metadata": {},
   "outputs": [
    {
     "name": "stdout",
     "output_type": "stream",
     "text": [
      "슝=3 \n"
     ]
    }
   ],
   "source": [
    "import tensorflow_datasets as tfds\n",
    "\n",
    "# 질문과 답변 데이터셋에 대해서 Vocabulary 생성. (Tensorflow 2.3.0 이상) (클라우드는 2.4 입니다)\n",
    "tokenizer = tfds.deprecated.text.SubwordTextEncoder.build_from_corpus(questions + answers, target_vocab_size=2**13)\n",
    "print(\"슝=3 \")"
   ]
  },
  {
   "cell_type": "code",
   "execution_count": 7,
   "id": "78671358",
   "metadata": {},
   "outputs": [],
   "source": [
    "# 시작 토큰과 종료 토큰에 고유한 정수를 부여합니다.\n",
    "START_TOKEN, END_TOKEN = [tokenizer.vocab_size], [tokenizer.vocab_size + 1]"
   ]
  },
  {
   "cell_type": "code",
   "execution_count": 8,
   "id": "c7765aa3",
   "metadata": {},
   "outputs": [
    {
     "name": "stdout",
     "output_type": "stream",
     "text": [
      "START_TOKEN의 번호 : [8173]\n",
      "END_TOKEN의 번호 : [8174]\n",
      "8175\n"
     ]
    }
   ],
   "source": [
    "print('START_TOKEN의 번호 :' ,[tokenizer.vocab_size])\n",
    "print('END_TOKEN의 번호 :' ,[tokenizer.vocab_size + 1])\n",
    "# 시작 토큰과 종료 토큰을 고려하여 +2를 하여 단어장의 크기를 산정합니다.\n",
    "VOCAB_SIZE = tokenizer.vocab_size + 2\n",
    "print(VOCAB_SIZE)"
   ]
  },
  {
   "cell_type": "code",
   "execution_count": 9,
   "id": "ca6811bf",
   "metadata": {},
   "outputs": [
    {
     "name": "stdout",
     "output_type": "stream",
     "text": [
      "전처리 후의 22번째 질문 샘플: 가스비 장난 아님\n",
      "전처리 후의 22번째 답변 샘플: 다음 달에는 더 절약해봐요 .\n"
     ]
    }
   ],
   "source": [
    "print('전처리 후의 22번째 질문 샘플: {}'.format(questions[21]))\n",
    "print('전처리 후의 22번째 답변 샘플: {}'.format(answers[21]))"
   ]
  },
  {
   "cell_type": "code",
   "execution_count": 10,
   "id": "a1f892d7",
   "metadata": {},
   "outputs": [
    {
     "name": "stdout",
     "output_type": "stream",
     "text": [
      "정수 인코딩 후의 21번째 질문 샘플: [5763, 610, 2492, 4164]\n",
      "정수 인코딩 후의 21번째 답변 샘플: [2356, 7513, 7, 6276, 97, 1]\n"
     ]
    }
   ],
   "source": [
    "# 임의의 22번째 샘플에 대해서 정수 인코딩 작업을 수행.\n",
    "# 각 토큰을 고유한 정수로 변환\n",
    "print('정수 인코딩 후의 21번째 질문 샘플: {}'.format(tokenizer.encode(questions[21])))\n",
    "print('정수 인코딩 후의 21번째 답변 샘플: {}'.format(tokenizer.encode(answers[21])))"
   ]
  },
  {
   "cell_type": "code",
   "execution_count": 11,
   "id": "8632e1cf",
   "metadata": {},
   "outputs": [],
   "source": [
    "MAX_LENGTH = 40"
   ]
  },
  {
   "cell_type": "code",
   "execution_count": 12,
   "id": "c1a545fb",
   "metadata": {},
   "outputs": [
    {
     "name": "stdout",
     "output_type": "stream",
     "text": [
      "슝=3\n"
     ]
    }
   ],
   "source": [
    "# 정수 인코딩, 최대 길이를 초과하는 샘플 제거, 패딩\n",
    "def tokenize_and_filter(inputs, outputs):\n",
    "  tokenized_inputs, tokenized_outputs = [], []\n",
    "  \n",
    "  for (sentence1, sentence2) in zip(inputs, outputs):\n",
    "    # 정수 인코딩 과정에서 시작 토큰과 종료 토큰을 추가\n",
    "    sentence1 = START_TOKEN + tokenizer.encode(sentence1) + END_TOKEN\n",
    "    sentence2 = START_TOKEN + tokenizer.encode(sentence2) + END_TOKEN\n",
    "\n",
    "    # 최대 길이 40 이하인 경우에만 데이터셋으로 허용\n",
    "    if len(sentence1) <= MAX_LENGTH and len(sentence2) <= MAX_LENGTH:\n",
    "      tokenized_inputs.append(sentence1)\n",
    "      tokenized_outputs.append(sentence2)\n",
    "  \n",
    "  # 최대 길이 40으로 모든 데이터셋을 패딩\n",
    "  tokenized_inputs = tf.keras.preprocessing.sequence.pad_sequences(\n",
    "      tokenized_inputs, maxlen=MAX_LENGTH, padding='post')\n",
    "  tokenized_outputs = tf.keras.preprocessing.sequence.pad_sequences(\n",
    "      tokenized_outputs, maxlen=MAX_LENGTH, padding='post')\n",
    "  \n",
    "  return tokenized_inputs, tokenized_outputs\n",
    "print(\"슝=3\")"
   ]
  },
  {
   "cell_type": "code",
   "execution_count": 13,
   "id": "812e8bd3",
   "metadata": {},
   "outputs": [
    {
     "name": "stdout",
     "output_type": "stream",
     "text": [
      "단어장의 크기 : 8175\n",
      "필터링 후의 질문 샘플 개수: 11823\n",
      "필터링 후의 답변 샘플 개수: 11823\n"
     ]
    }
   ],
   "source": [
    "questions, answers = tokenize_and_filter(questions, answers)\n",
    "print('단어장의 크기 :',(VOCAB_SIZE))\n",
    "print('필터링 후의 질문 샘플 개수: {}'.format(len(questions)))\n",
    "print('필터링 후의 답변 샘플 개수: {}'.format(len(answers)))"
   ]
  },
  {
   "cell_type": "code",
   "execution_count": 14,
   "id": "43150a43",
   "metadata": {},
   "outputs": [
    {
     "name": "stdout",
     "output_type": "stream",
     "text": [
      "슝=3\n"
     ]
    }
   ],
   "source": [
    "BATCH_SIZE = 64\n",
    "BUFFER_SIZE = 20000\n",
    "\n",
    "# 디코더는 이전의 target을 다음의 input으로 사용합니다.\n",
    "# 이에 따라 outputs에서는 START_TOKEN을 제거하겠습니다.\n",
    "dataset = tf.data.Dataset.from_tensor_slices((\n",
    "    {\n",
    "        'inputs': questions,\n",
    "        'dec_inputs': answers[:, :-1]\n",
    "    },\n",
    "    {\n",
    "        'outputs': answers[:, 1:]\n",
    "    },\n",
    "))\n",
    "\n",
    "dataset = dataset.cache()\n",
    "dataset = dataset.shuffle(BUFFER_SIZE)\n",
    "dataset = dataset.batch(BATCH_SIZE)\n",
    "dataset = dataset.prefetch(tf.data.experimental.AUTOTUNE)\n",
    "print(\"슝=3\")"
   ]
  },
  {
   "cell_type": "markdown",
   "id": "fe299fde",
   "metadata": {},
   "source": [
    "# Step 4. 모델 구성하기\n"
   ]
  },
  {
   "cell_type": "code",
   "execution_count": 15,
   "id": "899f449a",
   "metadata": {},
   "outputs": [
    {
     "name": "stdout",
     "output_type": "stream",
     "text": [
      "슝=3\n"
     ]
    }
   ],
   "source": [
    "def transformer(vocab_size,\n",
    "                num_layers,\n",
    "                units,\n",
    "                d_model,\n",
    "                num_heads,\n",
    "                dropout,\n",
    "                name=\"transformer\"):\n",
    "  inputs = tf.keras.Input(shape=(None,), name=\"inputs\")\n",
    "  dec_inputs = tf.keras.Input(shape=(None,), name=\"dec_inputs\")\n",
    "\n",
    "  # 인코더에서 패딩을 위한 마스크\n",
    "  enc_padding_mask = tf.keras.layers.Lambda(\n",
    "      create_padding_mask, output_shape=(1, 1, None),\n",
    "      name='enc_padding_mask')(inputs)\n",
    "\n",
    "  # 디코더에서 미래의 토큰을 마스크 하기 위해서 사용합니다.\n",
    "  # 내부적으로 패딩 마스크도 포함되어져 있습니다.\n",
    "  look_ahead_mask = tf.keras.layers.Lambda(\n",
    "      create_look_ahead_mask,\n",
    "      output_shape=(1, None, None),\n",
    "      name='look_ahead_mask')(dec_inputs)\n",
    "\n",
    "  # 두 번째 어텐션 블록에서 인코더의 벡터들을 마스킹\n",
    "  # 디코더에서 패딩을 위한 마스크\n",
    "  dec_padding_mask = tf.keras.layers.Lambda(\n",
    "      create_padding_mask, output_shape=(1, 1, None),\n",
    "      name='dec_padding_mask')(inputs)\n",
    "\n",
    "  # 인코더\n",
    "  enc_outputs = encoder(\n",
    "      vocab_size=vocab_size,\n",
    "      num_layers=num_layers,\n",
    "      units=units,\n",
    "      d_model=d_model,\n",
    "      num_heads=num_heads,\n",
    "      dropout=dropout,\n",
    "  )(inputs=[inputs, enc_padding_mask])\n",
    "\n",
    "  # 디코더\n",
    "  dec_outputs = decoder(\n",
    "      vocab_size=vocab_size,\n",
    "      num_layers=num_layers,\n",
    "      units=units,\n",
    "      d_model=d_model,\n",
    "      num_heads=num_heads,\n",
    "      dropout=dropout,\n",
    "  )(inputs=[dec_inputs, enc_outputs, look_ahead_mask, dec_padding_mask])\n",
    "\n",
    "  # 완전연결층\n",
    "  outputs = tf.keras.layers.Dense(units=vocab_size, name=\"outputs\")(dec_outputs)\n",
    "\n",
    "  return tf.keras.Model(inputs=[inputs, dec_inputs], outputs=outputs, name=name)\n",
    "print(\"슝=3\")"
   ]
  },
  {
   "cell_type": "code",
   "execution_count": 16,
   "id": "9972f62e",
   "metadata": {},
   "outputs": [
    {
     "name": "stdout",
     "output_type": "stream",
     "text": [
      "슝=3\n",
      "슝=3\n"
     ]
    }
   ],
   "source": [
    "def create_padding_mask(x):\n",
    "  mask = tf.cast(tf.math.equal(x, 0), tf.float32)\n",
    "  # (batch_size, 1, 1, sequence length)\n",
    "  return mask[:, tf.newaxis, tf.newaxis, :]\n",
    "print(\"슝=3\")\n",
    "\n",
    "def create_look_ahead_mask(x):\n",
    "  seq_len = tf.shape(x)[1]\n",
    "  look_ahead_mask = 1 - tf.linalg.band_part(tf.ones((seq_len, seq_len)), -1, 0)\n",
    "  padding_mask = create_padding_mask(x)\n",
    "  return tf.maximum(look_ahead_mask, padding_mask)\n",
    "print(\"슝=3\")"
   ]
  },
  {
   "cell_type": "code",
   "execution_count": 17,
   "id": "fe14613d",
   "metadata": {},
   "outputs": [
    {
     "name": "stdout",
     "output_type": "stream",
     "text": [
      "슝=3\n",
      "슝=3\n"
     ]
    }
   ],
   "source": [
    "# 인코더 하나의 레이어를 함수로 구현.\n",
    "# 이 하나의 레이어 안에는 두 개의 서브 레이어가 존재합니다.\n",
    "def encoder_layer(units, d_model, num_heads, dropout, name=\"encoder_layer\"):\n",
    "  inputs = tf.keras.Input(shape=(None, d_model), name=\"inputs\")\n",
    "\n",
    "  # 패딩 마스크 사용\n",
    "  padding_mask = tf.keras.Input(shape=(1, 1, None), name=\"padding_mask\")\n",
    "\n",
    "  # 첫 번째 서브 레이어 : 멀티 헤드 어텐션 수행 (셀프 어텐션)\n",
    "  attention = MultiHeadAttention(\n",
    "      d_model, num_heads, name=\"attention\")({\n",
    "          'query': inputs,\n",
    "          'key': inputs,\n",
    "          'value': inputs,\n",
    "          'mask': padding_mask\n",
    "      })\n",
    "\n",
    "  # 어텐션의 결과는 Dropout과 Layer Normalization이라는 훈련을 돕는 테크닉을 수행\n",
    "  attention = tf.keras.layers.Dropout(rate=dropout)(attention)\n",
    "  attention = tf.keras.layers.LayerNormalization(\n",
    "      epsilon=1e-6)(inputs + attention)\n",
    "\n",
    "  # 두 번째 서브 레이어 : 2개의 완전연결층\n",
    "  outputs = tf.keras.layers.Dense(units=units, activation='relu')(attention)\n",
    "  outputs = tf.keras.layers.Dense(units=d_model)(outputs)\n",
    "\n",
    "  # 완전연결층의 결과는 Dropout과 LayerNormalization이라는 훈련을 돕는 테크닉을 수행\n",
    "  outputs = tf.keras.layers.Dropout(rate=dropout)(outputs)\n",
    "  outputs = tf.keras.layers.LayerNormalization(\n",
    "      epsilon=1e-6)(attention + outputs)\n",
    "\n",
    "  return tf.keras.Model(\n",
    "      inputs=[inputs, padding_mask], outputs=outputs, name=name)\n",
    "print(\"슝=3\")\n",
    "\n",
    "def encoder(vocab_size,\n",
    "            num_layers,\n",
    "            units,\n",
    "            d_model,\n",
    "            num_heads,\n",
    "            dropout,\n",
    "            name=\"encoder\"):\n",
    "  inputs = tf.keras.Input(shape=(None,), name=\"inputs\")\n",
    "\n",
    "  # 패딩 마스크 사용\n",
    "  padding_mask = tf.keras.Input(shape=(1, 1, None), name=\"padding_mask\")\n",
    "\n",
    "  # 임베딩 레이어\n",
    "  embeddings = tf.keras.layers.Embedding(vocab_size, d_model)(inputs)\n",
    "  embeddings *= tf.math.sqrt(tf.cast(d_model, tf.float32))\n",
    "\n",
    "  # 포지셔널 인코딩\n",
    "  embeddings = PositionalEncoding(vocab_size, d_model)(embeddings)\n",
    "\n",
    "  outputs = tf.keras.layers.Dropout(rate=dropout)(embeddings)\n",
    "\n",
    "  # num_layers만큼 쌓아올린 인코더의 층.\n",
    "  for i in range(num_layers):\n",
    "    outputs = encoder_layer(\n",
    "        units=units,\n",
    "        d_model=d_model,\n",
    "        num_heads=num_heads,\n",
    "        dropout=dropout,\n",
    "        name=\"encoder_layer_{}\".format(i),\n",
    "    )([outputs, padding_mask])\n",
    "\n",
    "  return tf.keras.Model(\n",
    "      inputs=[inputs, padding_mask], outputs=outputs, name=name)\n",
    "print(\"슝=3\")"
   ]
  },
  {
   "cell_type": "code",
   "execution_count": 18,
   "id": "ef724321",
   "metadata": {},
   "outputs": [
    {
     "name": "stdout",
     "output_type": "stream",
     "text": [
      "슝=3\n"
     ]
    }
   ],
   "source": [
    "# 포지셔널 인코딩 레이어\n",
    "class PositionalEncoding(tf.keras.layers.Layer):\n",
    "\n",
    "  def __init__(self, position, d_model):\n",
    "    super(PositionalEncoding, self).__init__()\n",
    "    self.pos_encoding = self.positional_encoding(position, d_model)\n",
    "\n",
    "  def get_angles(self, position, i, d_model):\n",
    "    angles = 1 / tf.pow(10000, (2 * (i // 2)) / tf.cast(d_model, tf.float32))\n",
    "    return position * angles\n",
    "\n",
    "  def positional_encoding(self, position, d_model):\n",
    "    # 각도 배열 생성\n",
    "    angle_rads = self.get_angles(\n",
    "        position=tf.range(position, dtype=tf.float32)[:, tf.newaxis],\n",
    "        i=tf.range(d_model, dtype=tf.float32)[tf.newaxis, :],\n",
    "        d_model=d_model)\n",
    "\n",
    "    # 배열의 짝수 인덱스에는 sin 함수 적용\n",
    "    sines = tf.math.sin(angle_rads[:, 0::2])\n",
    "    # 배열의 홀수 인덱스에는 cosine 함수 적용\n",
    "    cosines = tf.math.cos(angle_rads[:, 1::2])\n",
    "\n",
    "    # sin과 cosine이 교차되도록 재배열\n",
    "    pos_encoding = tf.stack([sines, cosines], axis=0)\n",
    "    pos_encoding = tf.transpose(pos_encoding,[1, 2, 0]) \n",
    "    pos_encoding = tf.reshape(pos_encoding, [position, d_model])\n",
    "\n",
    "    pos_encoding = pos_encoding[tf.newaxis, ...]\n",
    "    return tf.cast(pos_encoding, tf.float32)\n",
    "\n",
    "  def call(self, inputs):\n",
    "    return inputs + self.pos_encoding[:, :tf.shape(inputs)[1], :]\n",
    "\n",
    "print(\"슝=3\")"
   ]
  },
  {
   "cell_type": "code",
   "execution_count": 19,
   "id": "ada26a0e",
   "metadata": {},
   "outputs": [
    {
     "name": "stdout",
     "output_type": "stream",
     "text": [
      "슝=3\n"
     ]
    }
   ],
   "source": [
    "class MultiHeadAttention(tf.keras.layers.Layer):\n",
    "\n",
    "  def __init__(self, d_model, num_heads, name=\"multi_head_attention\"):\n",
    "    super(MultiHeadAttention, self).__init__(name=name)\n",
    "    self.num_heads = num_heads\n",
    "    self.d_model = d_model\n",
    "\n",
    "    assert d_model % self.num_heads == 0\n",
    "\n",
    "    self.depth = d_model // self.num_heads\n",
    "\n",
    "    self.query_dense = tf.keras.layers.Dense(units=d_model)\n",
    "    self.key_dense = tf.keras.layers.Dense(units=d_model)\n",
    "    self.value_dense = tf.keras.layers.Dense(units=d_model)\n",
    "\n",
    "    self.dense = tf.keras.layers.Dense(units=d_model)\n",
    "\n",
    "  def split_heads(self, inputs, batch_size):\n",
    "    inputs = tf.reshape(\n",
    "        inputs, shape=(batch_size, -1, self.num_heads, self.depth))\n",
    "    return tf.transpose(inputs, perm=[0, 2, 1, 3])\n",
    "\n",
    "  def call(self, inputs):\n",
    "    query, key, value, mask = inputs['query'], inputs['key'], inputs[\n",
    "        'value'], inputs['mask']\n",
    "    batch_size = tf.shape(query)[0]\n",
    "\n",
    "    # Q, K, V에 각각 Dense를 적용합니다\n",
    "    query = self.query_dense(query)\n",
    "    key = self.key_dense(key)\n",
    "    value = self.value_dense(value)\n",
    "\n",
    "    # 병렬 연산을 위한 머리를 여러 개 만듭니다\n",
    "    query = self.split_heads(query, batch_size)\n",
    "    key = self.split_heads(key, batch_size)\n",
    "    value = self.split_heads(value, batch_size)\n",
    "\n",
    "    # 스케일드 닷 프로덕트 어텐션 함수\n",
    "    scaled_attention = scaled_dot_product_attention(query, key, value, mask)\n",
    "\n",
    "    scaled_attention = tf.transpose(scaled_attention, perm=[0, 2, 1, 3])\n",
    "\n",
    "    # 어텐션 연산 후에 각 결과를 다시 연결(concatenate)합니다\n",
    "    concat_attention = tf.reshape(scaled_attention,\n",
    "                                  (batch_size, -1, self.d_model))\n",
    "\n",
    "    # 최종 결과에도 Dense를 한 번 더 적용합니다\n",
    "    outputs = self.dense(concat_attention)\n",
    "\n",
    "    return outputs\n",
    "print(\"슝=3\")"
   ]
  },
  {
   "cell_type": "code",
   "execution_count": 20,
   "id": "34f9f8e6",
   "metadata": {},
   "outputs": [
    {
     "name": "stdout",
     "output_type": "stream",
     "text": [
      "슝=3\n"
     ]
    }
   ],
   "source": [
    "# 스케일드 닷 프로덕트 어텐션 함수\n",
    "def scaled_dot_product_attention(query, key, value, mask):\n",
    "  # 어텐션 가중치는 Q와 K의 닷 프로덕트\n",
    "  matmul_qk = tf.matmul(query, key, transpose_b=True)\n",
    "\n",
    "  # 가중치를 정규화\n",
    "  depth = tf.cast(tf.shape(key)[-1], tf.float32)\n",
    "  logits = matmul_qk / tf.math.sqrt(depth)\n",
    "\n",
    "  # 패딩에 마스크 추가\n",
    "  if mask is not None:\n",
    "    logits += (mask * -1e9)\n",
    "\n",
    "  # softmax적용\n",
    "  attention_weights = tf.nn.softmax(logits, axis=-1)\n",
    "\n",
    "  # 최종 어텐션은 가중치와 V의 닷 프로덕트\n",
    "  output = tf.matmul(attention_weights, value)\n",
    "  return output\n",
    "\n",
    "print(\"슝=3\")"
   ]
  },
  {
   "cell_type": "code",
   "execution_count": 21,
   "id": "40d1489e",
   "metadata": {},
   "outputs": [
    {
     "name": "stdout",
     "output_type": "stream",
     "text": [
      "슝=3\n",
      "슝=3\n"
     ]
    }
   ],
   "source": [
    "# 디코더 하나의 레이어를 함수로 구현.\n",
    "# 이 하나의 레이어 안에는 세 개의 서브 레이어가 존재합니다.\n",
    "def decoder_layer(units, d_model, num_heads, dropout, name=\"decoder_layer\"):\n",
    "  inputs = tf.keras.Input(shape=(None, d_model), name=\"inputs\")\n",
    "  enc_outputs = tf.keras.Input(shape=(None, d_model), name=\"encoder_outputs\")\n",
    "  look_ahead_mask = tf.keras.Input(\n",
    "      shape=(1, None, None), name=\"look_ahead_mask\")\n",
    "  padding_mask = tf.keras.Input(shape=(1, 1, None), name='padding_mask')\n",
    "\n",
    "  # 첫 번째 서브 레이어 : 멀티 헤드 어텐션 수행 (셀프 어텐션)\n",
    "  attention1 = MultiHeadAttention(\n",
    "      d_model, num_heads, name=\"attention_1\")(inputs={\n",
    "          'query': inputs,\n",
    "          'key': inputs,\n",
    "          'value': inputs,\n",
    "          'mask': look_ahead_mask\n",
    "      })\n",
    "\n",
    "  # 멀티 헤드 어텐션의 결과는 LayerNormalization이라는 훈련을 돕는 테크닉을 수행\n",
    "  attention1 = tf.keras.layers.LayerNormalization(\n",
    "      epsilon=1e-6)(attention1 + inputs)\n",
    "\n",
    "  # 두 번째 서브 레이어 : 마스크드 멀티 헤드 어텐션 수행 (인코더-디코더 어텐션)\n",
    "  attention2 = MultiHeadAttention(\n",
    "      d_model, num_heads, name=\"attention_2\")(inputs={\n",
    "          'query': attention1,\n",
    "          'key': enc_outputs,\n",
    "          'value': enc_outputs,\n",
    "          'mask': padding_mask\n",
    "      })\n",
    "\n",
    "  # 마스크드 멀티 헤드 어텐션의 결과는\n",
    "  # Dropout과 LayerNormalization이라는 훈련을 돕는 테크닉을 수행\n",
    "  attention2 = tf.keras.layers.Dropout(rate=dropout)(attention2)\n",
    "  attention2 = tf.keras.layers.LayerNormalization(\n",
    "      epsilon=1e-6)(attention2 + attention1)\n",
    "\n",
    "  # 세 번째 서브 레이어 : 2개의 완전연결층\n",
    "  outputs = tf.keras.layers.Dense(units=units, activation='relu')(attention2)\n",
    "  outputs = tf.keras.layers.Dense(units=d_model)(outputs)\n",
    "\n",
    "  # 완전연결층의 결과는 Dropout과 LayerNormalization 수행\n",
    "  outputs = tf.keras.layers.Dropout(rate=dropout)(outputs)\n",
    "  outputs = tf.keras.layers.LayerNormalization(\n",
    "      epsilon=1e-6)(outputs + attention2)\n",
    "\n",
    "  return tf.keras.Model(\n",
    "      inputs=[inputs, enc_outputs, look_ahead_mask, padding_mask],\n",
    "      outputs=outputs,\n",
    "      name=name)\n",
    "print(\"슝=3\")\n",
    "\n",
    "def decoder(vocab_size,\n",
    "            num_layers,\n",
    "            units,\n",
    "            d_model,\n",
    "            num_heads,\n",
    "            dropout,\n",
    "            name='decoder'):\n",
    "  inputs = tf.keras.Input(shape=(None,), name='inputs')\n",
    "  enc_outputs = tf.keras.Input(shape=(None, d_model), name='encoder_outputs')\n",
    "  look_ahead_mask = tf.keras.Input(\n",
    "      shape=(1, None, None), name='look_ahead_mask')\n",
    "\n",
    "  # 패딩 마스크\n",
    "  padding_mask = tf.keras.Input(shape=(1, 1, None), name='padding_mask')\n",
    "  \n",
    "  # 임베딩 레이어\n",
    "  embeddings = tf.keras.layers.Embedding(vocab_size, d_model)(inputs)\n",
    "  embeddings *= tf.math.sqrt(tf.cast(d_model, tf.float32))\n",
    "\n",
    "  # 포지셔널 인코딩\n",
    "  embeddings = PositionalEncoding(vocab_size, d_model)(embeddings)\n",
    "\n",
    "  # Dropout이라는 훈련을 돕는 테크닉을 수행\n",
    "  outputs = tf.keras.layers.Dropout(rate=dropout)(embeddings)\n",
    "\n",
    "  for i in range(num_layers):\n",
    "    outputs = decoder_layer(\n",
    "        units=units,\n",
    "        d_model=d_model,\n",
    "        num_heads=num_heads,\n",
    "        dropout=dropout,\n",
    "        name='decoder_layer_{}'.format(i),\n",
    "    )(inputs=[outputs, enc_outputs, look_ahead_mask, padding_mask])\n",
    "\n",
    "  return tf.keras.Model(\n",
    "      inputs=[inputs, enc_outputs, look_ahead_mask, padding_mask],\n",
    "      outputs=outputs,\n",
    "      name=name)\n",
    "print(\"슝=3\")"
   ]
  },
  {
   "cell_type": "markdown",
   "id": "0b09b6a3",
   "metadata": {},
   "source": []
  },
  {
   "cell_type": "code",
   "execution_count": 22,
   "id": "43a6076e",
   "metadata": {
    "scrolled": false
   },
   "outputs": [
    {
     "name": "stdout",
     "output_type": "stream",
     "text": [
      "Model: \"transformer\"\n",
      "__________________________________________________________________________________________________\n",
      "Layer (type)                    Output Shape         Param #     Connected to                     \n",
      "==================================================================================================\n",
      "inputs (InputLayer)             [(None, None)]       0                                            \n",
      "__________________________________________________________________________________________________\n",
      "dec_inputs (InputLayer)         [(None, None)]       0                                            \n",
      "__________________________________________________________________________________________________\n",
      "enc_padding_mask (Lambda)       (None, 1, 1, None)   0           inputs[0][0]                     \n",
      "__________________________________________________________________________________________________\n",
      "encoder (Functional)            (None, None, 256)    3147008     inputs[0][0]                     \n",
      "                                                                 enc_padding_mask[0][0]           \n",
      "__________________________________________________________________________________________________\n",
      "look_ahead_mask (Lambda)        (None, 1, None, None 0           dec_inputs[0][0]                 \n",
      "__________________________________________________________________________________________________\n",
      "dec_padding_mask (Lambda)       (None, 1, 1, None)   0           inputs[0][0]                     \n",
      "__________________________________________________________________________________________________\n",
      "decoder (Functional)            (None, None, 256)    3674368     dec_inputs[0][0]                 \n",
      "                                                                 encoder[0][0]                    \n",
      "                                                                 look_ahead_mask[0][0]            \n",
      "                                                                 dec_padding_mask[0][0]           \n",
      "__________________________________________________________________________________________________\n",
      "outputs (Dense)                 (None, None, 8175)   2100975     decoder[0][0]                    \n",
      "==================================================================================================\n",
      "Total params: 8,922,351\n",
      "Trainable params: 8,922,351\n",
      "Non-trainable params: 0\n",
      "__________________________________________________________________________________________________\n"
     ]
    }
   ],
   "source": [
    "tf.keras.backend.clear_session()\n",
    "\n",
    "# 하이퍼파라미터\n",
    "NUM_LAYERS = 2 # 인코더와 디코더의 층의 개수\n",
    "D_MODEL = 256 # 인코더와 디코더 내부의 입, 출력의 고정 차원\n",
    "NUM_HEADS = 8 # 멀티 헤드 어텐션에서의 헤드 수 \n",
    "UNITS = 512 # 피드 포워드 신경망의 은닉층의 크기\n",
    "DROPOUT = 0.1 # 드롭아웃의 비율\n",
    "\n",
    "model = transformer(\n",
    "    vocab_size=VOCAB_SIZE,\n",
    "    num_layers=NUM_LAYERS,\n",
    "    units=UNITS,\n",
    "    d_model=D_MODEL,\n",
    "    num_heads=NUM_HEADS,\n",
    "    dropout=DROPOUT)\n",
    "\n",
    "model.summary()"
   ]
  },
  {
   "cell_type": "markdown",
   "id": "1ec7702b",
   "metadata": {},
   "source": [
    "# Step 5. 모델 평가하기\n"
   ]
  },
  {
   "cell_type": "code",
   "execution_count": 23,
   "id": "5c8d2780",
   "metadata": {},
   "outputs": [
    {
     "name": "stdout",
     "output_type": "stream",
     "text": [
      "슝=3\n"
     ]
    }
   ],
   "source": [
    "def loss_function(y_true, y_pred):\n",
    "  y_true = tf.reshape(y_true, shape=(-1, MAX_LENGTH - 1))\n",
    "  \n",
    "  loss = tf.keras.losses.SparseCategoricalCrossentropy(\n",
    "      from_logits=True, reduction='none')(y_true, y_pred)\n",
    "\n",
    "  mask = tf.cast(tf.not_equal(y_true, 0), tf.float32)\n",
    "  loss = tf.multiply(loss, mask)\n",
    "\n",
    "  return tf.reduce_mean(loss)\n",
    "print(\"슝=3\")"
   ]
  },
  {
   "cell_type": "code",
   "execution_count": 24,
   "id": "26c17e89",
   "metadata": {},
   "outputs": [
    {
     "name": "stdout",
     "output_type": "stream",
     "text": [
      "슝=3\n"
     ]
    }
   ],
   "source": [
    "class CustomSchedule(tf.keras.optimizers.schedules.LearningRateSchedule):\n",
    "\n",
    "  def __init__(self, d_model, warmup_steps=4000):\n",
    "    super(CustomSchedule, self).__init__()\n",
    "\n",
    "    self.d_model = d_model\n",
    "    self.d_model = tf.cast(self.d_model, tf.float32)\n",
    "\n",
    "    self.warmup_steps = warmup_steps\n",
    "\n",
    "  def __call__(self, step):\n",
    "    arg1 = tf.math.rsqrt(step)\n",
    "    arg2 = step * (self.warmup_steps**-1.5)\n",
    "\n",
    "    return tf.math.rsqrt(self.d_model) * tf.math.minimum(arg1, arg2)\n",
    "print(\"슝=3\")"
   ]
  },
  {
   "cell_type": "code",
   "execution_count": 25,
   "id": "aae93f72",
   "metadata": {},
   "outputs": [
    {
     "data": {
      "text/plain": [
       "Text(0.5, 0, 'Train Step')"
      ]
     },
     "execution_count": 25,
     "metadata": {},
     "output_type": "execute_result"
    },
    {
     "data": {
      "image/png": "[encoded data removed]",
      "text/plain": [
       "<Figure size 432x288 with 1 Axes>"
      ]
     },
     "metadata": {
      "needs_background": "light"
     },
     "output_type": "display_data"
    }
   ],
   "source": [
    "sample_learning_rate = CustomSchedule(d_model=128)\n",
    "\n",
    "plt.plot(sample_learning_rate(tf.range(200000, dtype=tf.float32)))\n",
    "plt.ylabel(\"Learning Rate\")\n",
    "plt.xlabel(\"Train Step\")"
   ]
  },
  {
   "cell_type": "code",
   "execution_count": 26,
   "id": "4a58c387",
   "metadata": {},
   "outputs": [
    {
     "name": "stdout",
     "output_type": "stream",
     "text": [
      "슝=3\n"
     ]
    }
   ],
   "source": [
    "learning_rate = CustomSchedule(D_MODEL)\n",
    "\n",
    "optimizer = tf.keras.optimizers.Adam(\n",
    "    learning_rate, beta_1=0.9, beta_2=0.98, epsilon=1e-9)\n",
    "\n",
    "def accuracy(y_true, y_pred):\n",
    "  y_true = tf.reshape(y_true, shape=(-1, MAX_LENGTH - 1))\n",
    "  return tf.keras.metrics.sparse_categorical_accuracy(y_true, y_pred)\n",
    "\n",
    "model.compile(optimizer=optimizer, loss=loss_function, metrics=[accuracy])\n",
    "print(\"슝=3\")"
   ]
  },
  {
   "cell_type": "code",
   "execution_count": 27,
   "id": "382f6cda",
   "metadata": {},
   "outputs": [
    {
     "name": "stdout",
     "output_type": "stream",
     "text": [
      "Epoch 1/20\n",
      "185/185 [==============================] - 16s 53ms/step - loss: 1.4521 - accuracy: 0.0201\n",
      "Epoch 2/20\n",
      "185/185 [==============================] - 10s 53ms/step - loss: 1.1793 - accuracy: 0.0483\n",
      "Epoch 3/20\n",
      "185/185 [==============================] - 10s 54ms/step - loss: 1.0041 - accuracy: 0.0507\n",
      "Epoch 4/20\n",
      "185/185 [==============================] - 10s 54ms/step - loss: 0.9267 - accuracy: 0.0545\n",
      "Epoch 5/20\n",
      "185/185 [==============================] - 10s 54ms/step - loss: 0.8696 - accuracy: 0.0576\n",
      "Epoch 6/20\n",
      "185/185 [==============================] - 10s 54ms/step - loss: 0.8111 - accuracy: 0.0618\n",
      "Epoch 7/20\n",
      "185/185 [==============================] - 10s 53ms/step - loss: 0.7462 - accuracy: 0.0676\n",
      "Epoch 8/20\n",
      "185/185 [==============================] - 10s 53ms/step - loss: 0.6737 - accuracy: 0.0755\n",
      "Epoch 9/20\n",
      "185/185 [==============================] - 10s 53ms/step - loss: 0.5956 - accuracy: 0.0836\n",
      "Epoch 10/20\n",
      "185/185 [==============================] - 10s 53ms/step - loss: 0.5125 - accuracy: 0.0932\n",
      "Epoch 11/20\n",
      "185/185 [==============================] - 10s 53ms/step - loss: 0.4292 - accuracy: 0.1034\n",
      "Epoch 12/20\n",
      "185/185 [==============================] - 10s 54ms/step - loss: 0.3484 - accuracy: 0.1145\n",
      "Epoch 13/20\n",
      "185/185 [==============================] - 10s 53ms/step - loss: 0.2734 - accuracy: 0.1256\n",
      "Epoch 14/20\n",
      "185/185 [==============================] - 10s 53ms/step - loss: 0.2078 - accuracy: 0.1356\n",
      "Epoch 15/20\n",
      "185/185 [==============================] - 10s 53ms/step - loss: 0.1533 - accuracy: 0.1450\n",
      "Epoch 16/20\n",
      "185/185 [==============================] - 10s 53ms/step - loss: 0.1104 - accuracy: 0.1530\n",
      "Epoch 17/20\n",
      "185/185 [==============================] - 10s 53ms/step - loss: 0.0807 - accuracy: 0.1583\n",
      "Epoch 18/20\n",
      "185/185 [==============================] - 10s 53ms/step - loss: 0.0614 - accuracy: 0.1618\n",
      "Epoch 19/20\n",
      "185/185 [==============================] - 10s 53ms/step - loss: 0.0507 - accuracy: 0.1638\n",
      "Epoch 20/20\n",
      "185/185 [==============================] - 10s 53ms/step - loss: 0.0447 - accuracy: 0.1646\n"
     ]
    },
    {
     "data": {
      "text/plain": [
       "<keras.callbacks.History at 0x7f78431b4df0>"
      ]
     },
     "execution_count": 27,
     "metadata": {},
     "output_type": "execute_result"
    }
   ],
   "source": [
    "EPOCHS = 20\n",
    "model.fit(dataset, epochs=EPOCHS, verbose=1)"
   ]
  },
  {
   "cell_type": "markdown",
   "id": "2886113e",
   "metadata": {},
   "source": [
    "# 모델 저장하는 부분을 추가했습니다.\n"
   ]
  },
  {
   "cell_type": "code",
   "execution_count": 28,
   "id": "9f8baf4b",
   "metadata": {},
   "outputs": [],
   "source": [
    "# model.save(format='h5')"
   ]
  },
  {
   "cell_type": "code",
   "execution_count": 29,
   "id": "9395854b",
   "metadata": {},
   "outputs": [
    {
     "name": "stdout",
     "output_type": "stream",
     "text": [
      "슝=3\n"
     ]
    }
   ],
   "source": [
    "def decoder_inference(sentence):\n",
    "  sentence = preprocess_sentence(sentence)\n",
    "\n",
    "  # 입력된 문장을 정수 인코딩 후, 시작 토큰과 종료 토큰을 앞뒤로 추가.\n",
    "  # ex) Where have you been? → [[8331   86   30    5 1059    7 8332]]\n",
    "  sentence = tf.expand_dims(\n",
    "      START_TOKEN + tokenizer.encode(sentence) + END_TOKEN, axis=0)\n",
    "\n",
    "  # 디코더의 현재까지의 예측한 출력 시퀀스가 지속적으로 저장되는 변수.\n",
    "  # 처음에는 예측한 내용이 없음으로 시작 토큰만 별도 저장. ex) 8331\n",
    "  output_sequence = tf.expand_dims(START_TOKEN, 0)\n",
    "\n",
    "  # 디코더의 인퍼런스 단계\n",
    "  for i in range(MAX_LENGTH):\n",
    "    # 디코더는 최대 MAX_LENGTH의 길이만큼 다음 단어 예측을 반복합니다.\n",
    "    predictions = model(inputs=[sentence, output_sequence], training=False)\n",
    "    predictions = predictions[:, -1:, :]\n",
    "\n",
    "    # 현재 예측한 단어의 정수\n",
    "    predicted_id = tf.cast(tf.argmax(predictions, axis=-1), tf.int32)\n",
    "\n",
    "    # 만약 현재 예측한 단어가 종료 토큰이라면 for문을 종료\n",
    "    if tf.equal(predicted_id, END_TOKEN[0]):\n",
    "      break\n",
    "\n",
    "    # 예측한 단어들은 지속적으로 output_sequence에 추가됩니다.\n",
    "    # 이 output_sequence는 다시 디코더의 입력이 됩니다.\n",
    "    output_sequence = tf.concat([output_sequence, predicted_id], axis=-1)\n",
    "\n",
    "  return tf.squeeze(output_sequence, axis=0)\n",
    "print(\"슝=3\")"
   ]
  },
  {
   "cell_type": "code",
   "execution_count": 30,
   "id": "0c33b01c",
   "metadata": {},
   "outputs": [],
   "source": [
    "def sentence_generation(sentence):\n",
    "  # 입력 문장에 대해서 디코더를 동작 시켜 예측된 정수 시퀀스를 리턴받습니다.\n",
    "  prediction = decoder_inference(sentence)\n",
    "\n",
    "  # 정수 시퀀스를 다시 텍스트 시퀀스로 변환합니다.\n",
    "  predicted_sentence = tokenizer.decode(\n",
    "      [i for i in prediction if i < tokenizer.vocab_size])\n",
    "\n",
    "  print('입력 : {}'.format(sentence))\n",
    "  print('출력 : {}'.format(predicted_sentence))\n",
    "\n",
    "  return predicted_sentence"
   ]
  },
  {
   "cell_type": "code",
   "execution_count": 31,
   "id": "4f73139c",
   "metadata": {},
   "outputs": [
    {
     "name": "stdout",
     "output_type": "stream",
     "text": [
      "입력 : 드라마 너무 재밌더라\n",
      "출력 : 재미있는 다른걸 찾아보세요 .\n"
     ]
    },
    {
     "data": {
      "text/plain": [
       "'재미있는 다른걸 찾아보세요 .'"
      ]
     },
     "execution_count": 31,
     "metadata": {},
     "output_type": "execute_result"
    }
   ],
   "source": [
    "sentence_generation('드라마 너무 재밌더라')"
   ]
  },
  {
   "cell_type": "code",
   "execution_count": 32,
   "id": "46579923",
   "metadata": {},
   "outputs": [
    {
     "name": "stdout",
     "output_type": "stream",
     "text": [
      "입력 : 나 걔 좋아해\n",
      "출력 : 다른 날이 있죠 .\n"
     ]
    },
    {
     "data": {
      "text/plain": [
       "'다른 날이 있죠 .'"
      ]
     },
     "execution_count": 32,
     "metadata": {},
     "output_type": "execute_result"
    }
   ],
   "source": [
    "sentence_generation(\"나 걔 좋아해\")"
   ]
  },
  {
   "cell_type": "code",
   "execution_count": 33,
   "id": "dc36eb38",
   "metadata": {},
   "outputs": [
    {
     "name": "stdout",
     "output_type": "stream",
     "text": [
      "입력 : 어이없네\n",
      "출력 : 그냥 잊어버리세요 .\n"
     ]
    },
    {
     "data": {
      "text/plain": [
       "'그냥 잊어버리세요 .'"
      ]
     },
     "execution_count": 33,
     "metadata": {},
     "output_type": "execute_result"
    }
   ],
   "source": [
    "sentence_generation(\"어이없네\")"
   ]
  },
  {
   "cell_type": "code",
   "execution_count": 34,
   "id": "1405e877",
   "metadata": {},
   "outputs": [
    {
     "name": "stdout",
     "output_type": "stream",
     "text": [
      "입력 : 꾸졌네\n",
      "출력 : 직접 물어보세요 .\n"
     ]
    },
    {
     "data": {
      "text/plain": [
       "'직접 물어보세요 .'"
      ]
     },
     "execution_count": 34,
     "metadata": {},
     "output_type": "execute_result"
    }
   ],
   "source": [
    "sentence_generation(\"꾸졌네\")"
   ]
  },
  {
   "cell_type": "code",
   "execution_count": 35,
   "id": "ebce3711",
   "metadata": {},
   "outputs": [
    {
     "name": "stdout",
     "output_type": "stream",
     "text": [
      "입력 : 어떡하지 우울해 슬퍼\n",
      "출력 : 진짜 나빴네요 .\n"
     ]
    },
    {
     "data": {
      "text/plain": [
       "'진짜 나빴네요 .'"
      ]
     },
     "execution_count": 35,
     "metadata": {},
     "output_type": "execute_result"
    }
   ],
   "source": [
    "sentence_generation(\"어떡하지 우울해 슬퍼\")"
   ]
  },
  {
   "cell_type": "code",
   "execution_count": 36,
   "id": "a1c8cc3a",
   "metadata": {},
   "outputs": [
    {
     "name": "stdout",
     "output_type": "stream",
     "text": [
      "입력 : 그래서 있지, 오늘 너무 기쁘고 행복했어\n",
      "출력 : 항상 아쉽지요 .\n"
     ]
    },
    {
     "data": {
      "text/plain": [
       "'항상 아쉽지요 .'"
      ]
     },
     "execution_count": 36,
     "metadata": {},
     "output_type": "execute_result"
    }
   ],
   "source": [
    "sentence_generation(\"그래서 있지, 오늘 너무 기쁘고 행복했어\")"
   ]
  },
  {
   "cell_type": "code",
   "execution_count": 37,
   "id": "3227fa18",
   "metadata": {},
   "outputs": [
    {
     "name": "stdout",
     "output_type": "stream",
     "text": [
      "입력 : 좋은 아침\n",
      "출력 : 좋은 아침이에요 .\n"
     ]
    },
    {
     "data": {
      "text/plain": [
       "'좋은 아침이에요 .'"
      ]
     },
     "execution_count": 37,
     "metadata": {},
     "output_type": "execute_result"
    }
   ],
   "source": [
    "sentence_generation(\"좋은 아침\")"
   ]
  },
  {
   "cell_type": "code",
   "execution_count": 38,
   "id": "9a8db83e",
   "metadata": {},
   "outputs": [
    {
     "name": "stdout",
     "output_type": "stream",
     "text": [
      "입력 : 잘 지내?\n",
      "출력 : 잘 지내고 있어요 .\n"
     ]
    },
    {
     "data": {
      "text/plain": [
       "'잘 지내고 있어요 .'"
      ]
     },
     "execution_count": 38,
     "metadata": {},
     "output_type": "execute_result"
    }
   ],
   "source": [
    "sentence_generation(\"잘 지내?\")"
   ]
  },
  {
   "cell_type": "code",
   "execution_count": 39,
   "id": "9de5f53f",
   "metadata": {},
   "outputs": [
    {
     "name": "stdout",
     "output_type": "stream",
     "text": [
      "입력 : 진짜 걔 너무 싫지\n",
      "출력 : 그런 생각을 해보세요 .\n"
     ]
    },
    {
     "data": {
      "text/plain": [
       "'그런 생각을 해보세요 .'"
      ]
     },
     "execution_count": 39,
     "metadata": {},
     "output_type": "execute_result"
    }
   ],
   "source": [
    "sentence_generation(\"진짜 걔 너무 싫지\")"
   ]
  },
  {
   "cell_type": "markdown",
   "id": "094d5d75",
   "metadata": {},
   "source": [
    "수정\n",
    "\n",
    "- 전처리\n",
    "- 6층 레이어\n",
    "- 더 데이터\n",
    "\n",
    "# 챗봇 개선사항 1. 더 많은 데이터 넣기\n",
    "\n",
    "10000개의 데이터는 너무 적다는 생각이 들어서 더 많은 데이터를 넣기 위해 AI Hub, korQuad, 구글링 등 사용할 수 있는 데이터를 찾아보았습니다. 검색 시간과 깨진 데이터의 복구를 하며 몇시간을 보냈는데 유의미한 데이터를 찾지못하였습니다. 절망하고 있자 강민영(천사)님이 데이터를 던져주시고 가셨습니다. 감사인사를 드립니다..\n",
    "♥from 미뇽미뇽 광팬♥"
   ]
  },
  {
   "cell_type": "code",
   "execution_count": 40,
   "id": "ac1e5c18",
   "metadata": {},
   "outputs": [],
   "source": [
    "file_path = os.getenv('HOME')+'/aiffel/transformer_chatbot/data/'\n",
    "\n",
    "wellness_data_path = os.path.join(file_path, 'KETI_Office_Conversation_dataset.csv')\n",
    "office_data_path = os.path.join(file_path, 'Wellness_Conversation_dataset.csv')\n",
    "chatbot_data_path = os.path.join(file_path, 'ChatbotData .csv')\n",
    "\n",
    "file_paths=[wellness_data_path, office_data_path, chatbot_data_path]"
   ]
  },
  {
   "cell_type": "code",
   "execution_count": null,
   "id": "0dde40c1",
   "metadata": {},
   "outputs": [],
   "source": []
  },
  {
   "cell_type": "markdown",
   "id": "bd4b6446",
   "metadata": {},
   "source": [
    "# 챗봇 개선사항 2. 한국어 전처리하기\n",
    "\n",
    "- https://ebbnflow.tistory.com/246\n",
    "\n",
    "위의 링크를 참고하여서 한국어 전처리를 더 진행해 주었습니다.\n",
    "\n",
    "다음은 쓸데없는 문자와 특수문자등을 제거해주었습니다. "
   ]
  },
  {
   "cell_type": "code",
   "execution_count": 41,
   "id": "a49a6942",
   "metadata": {},
   "outputs": [],
   "source": [
    "punct = \"/-'?!.,#$%\\'()*+-/:;<=>@[\\\\]^_`{|}~\" + '\"\"“”’' + '∞θ÷α•à−β∅³π‘₹´°£€\\×™√²—–&'\n",
    "punct_mapping = {\"‘\": \"'\", \"₹\": \"e\", \"´\": \"'\", \"°\": \"\", \"€\": \"e\", \"™\": \"tm\", \"√\": \" sqrt \", \"×\": \"x\", \"²\": \"2\", \"—\": \"-\", \"–\": \"-\", \"’\": \"'\", \"_\": \"-\", \"`\": \"'\", '“': '\"', '”': '\"', '“': '\"', \"£\": \"e\", '∞': 'infinity', 'θ': 'theta', '÷': '/', 'α': 'alpha', '•': '.', 'à': 'a', '−': '-', 'β': 'beta', '∅': '', '³': '3', 'π': 'pi', }\n",
    "\n",
    "def clean_punc(text_lists, punct, mapping):\n",
    "    result_list = []\n",
    "    \n",
    "    for text in text_lists:\n",
    "        \n",
    "        for p in mapping: \n",
    "            text = text.replace(p, mapping[p])\n",
    "            \n",
    "        for p in punct: \n",
    "            text = text.replace(p, f' {p} ')\n",
    "            \n",
    "        specials = {'\\u200b': ' ', '…': ' ... ', '\\ufeff': '', 'करना': '', 'है': ''}\n",
    "        for s in specials: \n",
    "            text = text.replace(s, specials[s])\n",
    "            \n",
    "        result_list.append(text.strip())\n",
    "#         print(text.strip())\n",
    "    return result_list\n",
    "\n"
   ]
  },
  {
   "cell_type": "code",
   "execution_count": null,
   "id": "1600b946",
   "metadata": {},
   "outputs": [],
   "source": []
  },
  {
   "attachments": {
    "image-2.png": {
     "image/png": "[encoded data removed]"
    },
    "image.png": {
     "image/png": "[encoded data removed]"
    }
   },
   "cell_type": "markdown",
   "id": "c2b06931",
   "metadata": {},
   "source": [
    "# PyKoSpacing 시도\n",
    "\n",
    "> pip install git+https://github.com/haven-jeon/PyKoSpacing.git\n",
    "\n",
    "다음과 같은 오류 발생\n",
    "ERROR: pip's dependency resolver does not currently take into account all the packages that are installed. This behaviour is the source of the following dependency conflicts.\n",
    "tensorflow-gpu 2.6.0 requires grpcio<2.0,>=1.37.0, but you have grpcio 1.34.1 which is incompatible.\n",
    "tensorflow-gpu 2.6.0 requires tensorflow-estimator~=2.6, but you have tensorflow-estimator 2.5.0 which is incompatible.\n",
    "grpcio-status 1.42.0 requires grpcio>=1.42.0, but you have grpcio 1.34.1 which is incompatible.\n",
    "black 21.12b0 requires typing-extensions>=3.10.0.0, but you have typing-extensions 3.7.4.3 which is incompatible.\n",
    "\n",
    "패키지들의 버전 오류가 난것이므로, 먼저 pip install grpcio==1.37.0 을 이용하여 설치를 시도했고, 다음과 같은 오류가 나타났습니다.\n",
    "![image.png](attachment:image.png)\n",
    "\n",
    "tensorflow버전까지 충돌이 일어나는데, 클라우드 환경을 바꾸기엔 너무 무서워서 일단 여기서 그만뒀습니다.\n",
    "\n",
    "## 재시도 해서 성공\n",
    "\n",
    "py-hanspell 패키지설치 방법에서, git clone한후, python setup.py install 하는 방법으로 다음과 같이 설치가 성공했습니다.\n",
    "![image-2.png](attachment:image-2.png)\n"
   ]
  },
  {
   "attachments": {
    "image-2.png": {
     "image/png": "[encoded data removed]"
    },
    "image.png": {
     "image/png": "[encoded data removed]"
    }
   },
   "cell_type": "markdown",
   "id": "368e3997",
   "metadata": {},
   "source": [
    "## 아니어따.\n",
    "\n",
    "성공한줄 알았는데 Error : numpy 1.21.4 is installed but numpy~=1.19.2 is required by {'tensorflow'}가 떴습니다.\n",
    "![image-2.png](attachment:image-2.png)\n",
    "\n",
    "그래서 pip install numpy==1.19.2 로 강등해보았습니다.\n",
    "\n",
    "![image.png](attachment:image.png)\n",
    "\n",
    "포기했습니당 ^_^"
   ]
  },
  {
   "cell_type": "code",
   "execution_count": 84,
   "id": "2ad78823",
   "metadata": {},
   "outputs": [],
   "source": [
    "# from PyKoSpacing_master.pykospacing import kospacing\n",
    "\n",
    "# def spacing(text_list):\n",
    "#     result_list = []\n",
    "    \n",
    "#     for text in text_list:\n",
    "#         # 띄어쓰기 전부 제거\n",
    "#         text.repalce(\" \", \"\")\n",
    "#         result = kospacing(text)\n",
    "#         result_list.append(result)\n",
    "    \n",
    "#     return result_list"
   ]
  },
  {
   "attachments": {
    "image.png": {
     "image/png": "[encoded data removed]"
    }
   },
   "cell_type": "markdown",
   "id": "472d7fa4",
   "metadata": {},
   "source": [
    "# 한글 맞춤법 검사 라이브러리\n",
    "\n",
    "> pip install py-hanspell\n",
    "\n",
    "다음과 같은 오류발생\n",
    "\n",
    "root@wbgy2ldt2wn19saagkuakb3l5-75cc8dfcd5-jrcm4:~# pip install py-hanspell\n",
    "Collecting py-hanspell\n",
    "  Using cached py-hanspell-1.1.tar.gz (3.0 kB)\n",
    "  Preparing metadata (setup.py) ... error\n",
    "  ERROR: Command errored out with exit status 1:\n",
    "   command: /opt/conda/bin/python3.9 -c 'import io, os, sys, setuptools, tokenize; sys.argv[0] = '\"'\"'/tmp/pip-install-0z4p9o1n/py-hanspell_c6d698d9c49c44018f76b33304943cc6/setup.py'\"'\"'; __file__='\"'\"'/tmp/pip-install-0z4p9o1n/py-hanspell_c6d698d9c49c44018f76b33304943cc6/setup.py'\"'\"';f = getattr(tokenize, '\"'\"'open'\"'\"', open)(__file__) if os.path.exists(__file__) else io.StringIO('\"'\"'from setuptools import setup; setup()'\"'\"');code = f.read().replace('\"'\"'\\r\\n'\"'\"', '\"'\"'\\n'\"'\"');f.close();exec(compile(code, __file__, '\"'\"'exec'\"'\"'))' egg_info --egg-base /tmp/pip-pip-egg-info-kx0nyf33\n",
    "       cwd: /tmp/pip-install-0z4p9o1n/py-hanspell_c6d698d9c49c44018f76b33304943cc6/\n",
    "  Complete output (5 lines):\n",
    "  Traceback (most recent call last):\n",
    "    File \"<string>\", line 1, in <module>\n",
    "    File \"/tmp/pip-install-0z4p9o1n/py-hanspell_c6d698d9c49c44018f76b33304943cc6/setup.py\", line 2, in <module>\n",
    "      from pip.req import parse_requirements\n",
    "  ModuleNotFoundError: No module named 'pip.req'\n",
    "  ----------------------------------------\n",
    "WARNING: Discarding https://files.pythonhosted.org/packages/24/81/baac88868b58eea5b0aab675da7ef0cdd72bee62b080cd50336a76faf57f/py-hanspell-1.1.tar.gz#sha256=e44953f3defb058eabe2e6b4e83a6219c3501de18385ee8c5bfa064b63005e05 (from https://pypi.org/simple/py-hanspell/). Command errored out with exit status 1: python setup.py egg_info Check the logs for full command output.\n",
    "  Using cached py-hanspell-1.0.tar.gz (3.0 kB)\n",
    "  Preparing metadata (setup.py) ... error\n",
    "  ERROR: Command errored out with exit status 1:\n",
    "   command: /opt/conda/bin/python3.9 -c 'import io, os, sys, setuptools, tokenize; sys.argv[0] = '\"'\"'/tmp/pip-install-0z4p9o1n/py-hanspell_126aa6aceb354476881a17a31fc95d05/setup.py'\"'\"'; __file__='\"'\"'/tmp/pip-install-0z4p9o1n/py-hanspell_126aa6aceb354476881a17a31fc95d05/setup.py'\"'\"';f = getattr(tokenize, '\"'\"'open'\"'\"', open)(__file__) if os.path.exists(__file__) else io.StringIO('\"'\"'from setuptools import setup; setup()'\"'\"');code = f.read().replace('\"'\"'\\r\\n'\"'\"', '\"'\"'\\n'\"'\"');f.close();exec(compile(code, __file__, '\"'\"'exec'\"'\"'))' egg_info --egg-base /tmp/pip-pip-egg-info-8dhq2lh3\n",
    "       cwd: /tmp/pip-install-0z4p9o1n/py-hanspell_126aa6aceb354476881a17a31fc95d05/\n",
    "  Complete output (5 lines):\n",
    "  Traceback (most recent call last):\n",
    "    File \"<string>\", line 1, in <module>\n",
    "    File \"/tmp/pip-install-0z4p9o1n/py-hanspell_126aa6aceb354476881a17a31fc95d05/setup.py\", line 2, in <module>\n",
    "      from pip.req import parse_requirements\n",
    "  ModuleNotFoundError: No module named 'pip.req'\n",
    "  ----------------------------------------\n",
    "WARNING: Discarding https://files.pythonhosted.org/packages/be/4d/bf6a3b891f30fceacce5a83a987a294317ec41ab899b4b5a2b404a0f88d5/py-hanspell-1.0.tar.gz#sha256=e1468423c130f4fbc99de1909dc0509412792ec19c3fbed949f9778170161cf5 (from https://pypi.org/simple/py-hanspell/). Command errored out with exit status 1: python setup.py egg_info Check the logs for full command output.\n",
    "ERROR: Could not find a version that satisfies the requirement py-hanspell (from versions: 1.0, 1.1)\n",
    "ERROR: No matching distribution found for py-hanspell\n",
    "\n",
    "stackoverflow에서 다른 패키지지만 동일한 오류를 발견했습니다.\n",
    "\n",
    "    - https://stackoverflow.com/questions/25192794/no-module-named-pip-req\n",
    "\n",
    "- 해당 링크를 보니 setup.py의 수정이 필요하여 다음 링크에서 패키지를 다운하고, 직접 다운했습니다.    https://github.com/ssut/py-hanspell\n",
    "    \n",
    "    \n",
    "- 시도를 하다가, git 깃허브를 클론한 후, 해당 디렉토리에서 python setup.py install 하는 방법을 발견해 시도하였고, 설치가 성공했습니다.\n",
    "    \n",
    "    ![image.png](attachment:image.png)"
   ]
  },
  {
   "cell_type": "code",
   "execution_count": 43,
   "id": "22d1ca67",
   "metadata": {},
   "outputs": [],
   "source": [
    "from py_hanspell.hanspell import spell_checker"
   ]
  },
  {
   "cell_type": "markdown",
   "id": "f64eb609",
   "metadata": {},
   "source": [
    "## 실제 전처리하는 부분\n",
    "\n",
    "### 기존의 preprocess"
   ]
  },
  {
   "cell_type": "code",
   "execution_count": 44,
   "id": "b7407d56",
   "metadata": {},
   "outputs": [],
   "source": [
    "import pandas as pd\n",
    "# 질문과 답변의 쌍인 데이터셋을 구성하기 위한 데이터 로드 함수\n",
    "def load_conversations(file_path):\n",
    "    inputs, outputs = [],[]\n",
    "    \n",
    "    for idx in range(len(file_path)):\n",
    "        print(file_path[idx])\n",
    "        df = pd.read_csv(file_path[idx])\n",
    "\n",
    "        df_input = df['Q']\n",
    "        df_output = df['A']\n",
    "\n",
    "        for idx in range(len(df)):\n",
    "            inputs.append(preprocess_sentence(df_input[idx]))\n",
    "            outputs.append(preprocess_sentence(df_output[idx]))\n",
    "\n",
    "    return inputs, outputs\n",
    "        \n",
    "#   id2line = {}"
   ]
  },
  {
   "cell_type": "code",
   "execution_count": 45,
   "id": "11b99f7a",
   "metadata": {},
   "outputs": [
    {
     "name": "stdout",
     "output_type": "stream",
     "text": [
      "/aiffel/aiffel/transformer_chatbot/data/KETI_Office_Conversation_dataset.csv\n",
      "/aiffel/aiffel/transformer_chatbot/data/Wellness_Conversation_dataset.csv\n",
      "/aiffel/aiffel/transformer_chatbot/data/ChatbotData .csv\n",
      "전체 샘플 수 : 18379\n",
      "전체 샘플 수 : 18379\n"
     ]
    }
   ],
   "source": [
    "questions, answers = load_conversations(file_paths)\n",
    "\n",
    "print('전체 샘플 수 :', len(questions))\n",
    "print('전체 샘플 수 :', len(answers))\n",
    "\n",
    "# print(questions[12000:13000])\n"
   ]
  },
  {
   "cell_type": "markdown",
   "id": "96f4e151",
   "metadata": {},
   "source": [
    "### clean_punc 메소드"
   ]
  },
  {
   "cell_type": "code",
   "execution_count": 46,
   "id": "c1eaae9e",
   "metadata": {},
   "outputs": [
    {
     "name": "stdout",
     "output_type": "stream",
     "text": [
      "전체 샘플 수 : 18379\n",
      "전체 샘플 수 : 18379\n"
     ]
    }
   ],
   "source": [
    "questions = clean_punc(questions, punct, punct_mapping)\n",
    "answers = clean_punc(questions, punct, punct_mapping)\n",
    "\n",
    "# print(questions[:5000])\n",
    "# print(\"end\")\n",
    "# questions = clean_text(questions)\n",
    "\n",
    "# print(questions[:500])\n",
    "print('전체 샘플 수 :', len(questions))\n",
    "print('전체 샘플 수 :', len(answers))"
   ]
  },
  {
   "cell_type": "markdown",
   "id": "2e930ea6",
   "metadata": {},
   "source": [
    "### spell_checker"
   ]
  },
  {
   "cell_type": "code",
   "execution_count": 47,
   "id": "ae1f5040",
   "metadata": {},
   "outputs": [
    {
     "name": "stdout",
     "output_type": "stream",
     "text": [
      "error 발생 index 0\n",
      "error 발생전 Question 힘들어서 결혼할까봐\n",
      "error 발생전 Answer 힘들어서 결혼할까봐\n",
      "error 발생 Question 좋은 아침  .\n",
      "error 발생 Answer 좋은 아침   .\n",
      "error 발생후 Question 좋은 아침  .\n",
      "error 발생후 Answer 좋은 아침   .\n",
      "end Questions\n",
      "error 발생 index 0\n",
      "error 발생전 Question 힘들어서 결혼할까봐\n",
      "error 발생전 Answer 힘들어서 결혼할까봐\n",
      "error 발생 Question 좋은 아침  .\n",
      "error 발생 Answer 좋은 아침   .\n",
      "error 발생후 Question 좋은 아침  .\n",
      "error 발생후 Answer 좋은 아침   .\n",
      "end Answers\n"
     ]
    }
   ],
   "source": [
    "\n",
    "def spell_checking(text_lists):\n",
    "    try:\n",
    "        result_list = []\n",
    "        for idx, text in enumerate(text_lists):\n",
    "            result = spell_checker.check(text) \n",
    "            result =  ' '.join(result.split())\n",
    "            result_list.append(result.as_dict().get('checked'))  # dict로 출력\n",
    "            if(idx%2500==0):\n",
    "                print(idx)\n",
    "        return result_list\n",
    "    except :\n",
    "        print(\"error 발생 index\", idx)\n",
    "        print(\"error 발생전 Question\", questions[idx-1])\n",
    "        print(\"error 발생전 Answer\", answers[idx-1])\n",
    "        print(\"error 발생 Question\", questions[idx])\n",
    "        print(\"error 발생 Answer\", answers[idx])\n",
    "        print(\"error 발생후 Question\", questions[idx+1])\n",
    "        print(\"error 발생후 Answer\", answers[idx+1])\n",
    "        pass\n",
    "\n",
    "spell_checking(questions[:])\n",
    "print(\"end Questions\")\n",
    "spell_checking(answers[:])\n",
    "print(\"end Answers\")"
   ]
  },
  {
   "attachments": {
    "image.png": {
     "image/png": "[encoded data removed]"
    }
   },
   "cell_type": "markdown",
   "id": "12101bad",
   "metadata": {},
   "source": [
    "![image.png](attachment:image.png)\n",
    "\n",
    "Answer에서 이런 오류가 났는데, spell_checking의 전체를 try_except 문으로 감싸주어서 해결하였습니다. (근데 왜 print되지 않았을까요..?)"
   ]
  },
  {
   "cell_type": "code",
   "execution_count": 48,
   "id": "8573b9af",
   "metadata": {},
   "outputs": [
    {
     "name": "stdout",
     "output_type": "stream",
     "text": [
      "전체 샘플 수 : 18379\n",
      "전체 샘플 수 : 18379\n"
     ]
    }
   ],
   "source": [
    "print('전체 샘플 수 :', len(questions))\n",
    "print('전체 샘플 수 :', len(answers))"
   ]
  },
  {
   "cell_type": "markdown",
   "id": "35a47dd2",
   "metadata": {},
   "source": [
    "# step3 SubwordTextEncoder 사용하기"
   ]
  },
  {
   "cell_type": "code",
   "execution_count": 49,
   "id": "3366c003",
   "metadata": {},
   "outputs": [],
   "source": [
    "tokenizer = tfds.deprecated.text.SubwordTextEncoder.build_from_corpus(questions + answers, target_vocab_size=2**13)\n",
    "START_TOKEN, END_TOKEN = [tokenizer.vocab_size], [tokenizer.vocab_size + 1]"
   ]
  },
  {
   "cell_type": "code",
   "execution_count": 50,
   "id": "5c8f4600",
   "metadata": {},
   "outputs": [
    {
     "name": "stdout",
     "output_type": "stream",
     "text": [
      "START_TOKEN의 번호 : [7799]\n",
      "END_TOKEN의 번호 : [7800]\n",
      "7801\n"
     ]
    }
   ],
   "source": [
    "print('START_TOKEN의 번호 :' ,[tokenizer.vocab_size])\n",
    "print('END_TOKEN의 번호 :' ,[tokenizer.vocab_size + 1])\n",
    "# 시작 토큰과 종료 토큰을 고려하여 +2를 하여 단어장의 크기를 산정합니다.\n",
    "VOCAB_SIZE = tokenizer.vocab_size + 2\n",
    "print(VOCAB_SIZE)"
   ]
  },
  {
   "cell_type": "code",
   "execution_count": 51,
   "id": "6058868e",
   "metadata": {},
   "outputs": [
    {
     "name": "stdout",
     "output_type": "stream",
     "text": [
      "전처리 후의 22번째 질문 샘플: 안녕 컴패니언  .\n",
      "전처리 후의 22번째 답변 샘플: 안녕 컴패니언   .\n"
     ]
    }
   ],
   "source": [
    "print('전처리 후의 22번째 질문 샘플: {}'.format(questions[21]))\n",
    "print('전처리 후의 22번째 답변 샘플: {}'.format(answers[21]))"
   ]
  },
  {
   "cell_type": "code",
   "execution_count": 52,
   "id": "326bec46",
   "metadata": {},
   "outputs": [
    {
     "name": "stdout",
     "output_type": "stream",
     "text": [
      "정수 인코딩 후의 21번째 질문 샘플: [2919, 881, 1]\n",
      "정수 인코딩 후의 21번째 답변 샘플: [2919, 881, 2]\n"
     ]
    }
   ],
   "source": [
    "# 임의의 22번째 샘플에 대해서 정수 인코딩 작업을 수행.\n",
    "# 각 토큰을 고유한 정수로 변환\n",
    "print('정수 인코딩 후의 21번째 질문 샘플: {}'.format(tokenizer.encode(questions[21])))\n",
    "print('정수 인코딩 후의 21번째 답변 샘플: {}'.format(tokenizer.encode(answers[21])))"
   ]
  },
  {
   "cell_type": "code",
   "execution_count": 53,
   "id": "20308783",
   "metadata": {},
   "outputs": [],
   "source": [
    "MAX_LENGTH = 40"
   ]
  },
  {
   "cell_type": "code",
   "execution_count": 54,
   "id": "9ed5affb",
   "metadata": {},
   "outputs": [
    {
     "name": "stdout",
     "output_type": "stream",
     "text": [
      "슝=3\n"
     ]
    }
   ],
   "source": [
    "# 정수 인코딩, 최대 길이를 초과하는 샘플 제거, 패딩\n",
    "def tokenize_and_filter(inputs, outputs):\n",
    "  tokenized_inputs, tokenized_outputs = [], []\n",
    "  \n",
    "  for (sentence1, sentence2) in zip(inputs, outputs):\n",
    "    # 정수 인코딩 과정에서 시작 토큰과 종료 토큰을 추가\n",
    "    sentence1 = START_TOKEN + tokenizer.encode(sentence1) + END_TOKEN\n",
    "    sentence2 = START_TOKEN + tokenizer.encode(sentence2) + END_TOKEN\n",
    "\n",
    "    # 최대 길이 40 이하인 경우에만 데이터셋으로 허용\n",
    "    if len(sentence1) <= MAX_LENGTH and len(sentence2) <= MAX_LENGTH:\n",
    "      tokenized_inputs.append(sentence1)\n",
    "      tokenized_outputs.append(sentence2)\n",
    "  \n",
    "  # 최대 길이 40으로 모든 데이터셋을 패딩\n",
    "  tokenized_inputs = tf.keras.preprocessing.sequence.pad_sequences(\n",
    "      tokenized_inputs, maxlen=MAX_LENGTH, padding='post')\n",
    "  tokenized_outputs = tf.keras.preprocessing.sequence.pad_sequences(\n",
    "      tokenized_outputs, maxlen=MAX_LENGTH, padding='post')\n",
    "  \n",
    "  return tokenized_inputs, tokenized_outputs\n",
    "print(\"슝=3\")"
   ]
  },
  {
   "cell_type": "code",
   "execution_count": 55,
   "id": "d735672e",
   "metadata": {},
   "outputs": [
    {
     "name": "stdout",
     "output_type": "stream",
     "text": [
      "단어장의 크기 : 7801\n",
      "필터링 후의 질문 샘플 개수: 18378\n",
      "필터링 후의 답변 샘플 개수: 18378\n"
     ]
    }
   ],
   "source": [
    "questions, answers = tokenize_and_filter(questions, answers)\n",
    "print('단어장의 크기 :',(VOCAB_SIZE))\n",
    "print('필터링 후의 질문 샘플 개수: {}'.format(len(questions)))\n",
    "print('필터링 후의 답변 샘플 개수: {}'.format(len(answers)))"
   ]
  },
  {
   "cell_type": "code",
   "execution_count": 56,
   "id": "d3c3ca5b",
   "metadata": {},
   "outputs": [
    {
     "name": "stdout",
     "output_type": "stream",
     "text": [
      "슝=3\n"
     ]
    }
   ],
   "source": [
    "BATCH_SIZE = 64\n",
    "BUFFER_SIZE = 20000\n",
    "\n",
    "# 디코더는 이전의 target을 다음의 input으로 사용합니다.\n",
    "# 이에 따라 outputs에서는 START_TOKEN을 제거하겠습니다.\n",
    "dataset = tf.data.Dataset.from_tensor_slices((\n",
    "    {\n",
    "        'inputs': questions,\n",
    "        'dec_inputs': answers[:, :-1]\n",
    "    },\n",
    "    {\n",
    "        'outputs': answers[:, 1:]\n",
    "    },\n",
    "))\n",
    "\n",
    "dataset = dataset.cache()\n",
    "dataset = dataset.shuffle(BUFFER_SIZE)\n",
    "dataset = dataset.batch(BATCH_SIZE)\n",
    "dataset = dataset.prefetch(tf.data.experimental.AUTOTUNE)\n",
    "print(\"슝=3\")"
   ]
  },
  {
   "cell_type": "markdown",
   "id": "cdfea755",
   "metadata": {},
   "source": [
    "# step 4 모델 구성하기"
   ]
  },
  {
   "cell_type": "code",
   "execution_count": 57,
   "id": "c477f7e0",
   "metadata": {},
   "outputs": [
    {
     "name": "stdout",
     "output_type": "stream",
     "text": [
      "슝=3\n"
     ]
    }
   ],
   "source": [
    "def transformer(vocab_size,\n",
    "                num_layers,\n",
    "                units,\n",
    "                d_model,\n",
    "                num_heads,\n",
    "                dropout,\n",
    "                name=\"transformer\"):\n",
    "  inputs = tf.keras.Input(shape=(None,), name=\"inputs\")\n",
    "  dec_inputs = tf.keras.Input(shape=(None,), name=\"dec_inputs\")\n",
    "\n",
    "  # 인코더에서 패딩을 위한 마스크\n",
    "  enc_padding_mask = tf.keras.layers.Lambda(\n",
    "      create_padding_mask, output_shape=(1, 1, None),\n",
    "      name='enc_padding_mask')(inputs)\n",
    "\n",
    "  # 디코더에서 미래의 토큰을 마스크 하기 위해서 사용합니다.\n",
    "  # 내부적으로 패딩 마스크도 포함되어져 있습니다.\n",
    "  look_ahead_mask = tf.keras.layers.Lambda(\n",
    "      create_look_ahead_mask,\n",
    "      output_shape=(1, None, None),\n",
    "      name='look_ahead_mask')(dec_inputs)\n",
    "\n",
    "  # 두 번째 어텐션 블록에서 인코더의 벡터들을 마스킹\n",
    "  # 디코더에서 패딩을 위한 마스크\n",
    "  dec_padding_mask = tf.keras.layers.Lambda(\n",
    "      create_padding_mask, output_shape=(1, 1, None),\n",
    "      name='dec_padding_mask')(inputs)\n",
    "\n",
    "  # 인코더\n",
    "  enc_outputs = encoder(\n",
    "      vocab_size=vocab_size,\n",
    "      num_layers=num_layers,\n",
    "      units=units,\n",
    "      d_model=d_model,\n",
    "      num_heads=num_heads,\n",
    "      dropout=dropout,\n",
    "  )(inputs=[inputs, enc_padding_mask])\n",
    "\n",
    "  # 디코더\n",
    "  dec_outputs = decoder(\n",
    "      vocab_size=vocab_size,\n",
    "      num_layers=num_layers,\n",
    "      units=units,\n",
    "      d_model=d_model,\n",
    "      num_heads=num_heads,\n",
    "      dropout=dropout,\n",
    "  )(inputs=[dec_inputs, enc_outputs, look_ahead_mask, dec_padding_mask])\n",
    "\n",
    "  # 완전연결층\n",
    "  outputs = tf.keras.layers.Dense(units=vocab_size, name=\"outputs\")(dec_outputs)\n",
    "\n",
    "  return tf.keras.Model(inputs=[inputs, dec_inputs], outputs=outputs, name=name)\n",
    "print(\"슝=3\")"
   ]
  },
  {
   "cell_type": "code",
   "execution_count": 58,
   "id": "b687b5c7",
   "metadata": {},
   "outputs": [
    {
     "name": "stdout",
     "output_type": "stream",
     "text": [
      "슝=3\n",
      "슝=3\n"
     ]
    }
   ],
   "source": [
    "def create_padding_mask(x):\n",
    "  mask = tf.cast(tf.math.equal(x, 0), tf.float32)\n",
    "  # (batch_size, 1, 1, sequence length)\n",
    "  return mask[:, tf.newaxis, tf.newaxis, :]\n",
    "print(\"슝=3\")\n",
    "\n",
    "def create_look_ahead_mask(x):\n",
    "  seq_len = tf.shape(x)[1]\n",
    "  look_ahead_mask = 1 - tf.linalg.band_part(tf.ones((seq_len, seq_len)), -1, 0)\n",
    "  padding_mask = create_padding_mask(x)\n",
    "  return tf.maximum(look_ahead_mask, padding_mask)\n",
    "print(\"슝=3\")"
   ]
  },
  {
   "cell_type": "code",
   "execution_count": 59,
   "id": "fbf01e20",
   "metadata": {},
   "outputs": [
    {
     "name": "stdout",
     "output_type": "stream",
     "text": [
      "슝=3\n",
      "슝=3\n"
     ]
    }
   ],
   "source": [
    "# 인코더 하나의 레이어를 함수로 구현.\n",
    "# 이 하나의 레이어 안에는 두 개의 서브 레이어가 존재합니다.\n",
    "def encoder_layer(units, d_model, num_heads, dropout, name=\"encoder_layer\"):\n",
    "  inputs = tf.keras.Input(shape=(None, d_model), name=\"inputs\")\n",
    "\n",
    "  # 패딩 마스크 사용\n",
    "  padding_mask = tf.keras.Input(shape=(1, 1, None), name=\"padding_mask\")\n",
    "\n",
    "  # 첫 번째 서브 레이어 : 멀티 헤드 어텐션 수행 (셀프 어텐션)\n",
    "  attention = MultiHeadAttention(\n",
    "      d_model, num_heads, name=\"attention\")({\n",
    "          'query': inputs,\n",
    "          'key': inputs,\n",
    "          'value': inputs,\n",
    "          'mask': padding_mask\n",
    "      })\n",
    "\n",
    "  # 어텐션의 결과는 Dropout과 Layer Normalization이라는 훈련을 돕는 테크닉을 수행\n",
    "  attention = tf.keras.layers.Dropout(rate=dropout)(attention)\n",
    "  attention = tf.keras.layers.LayerNormalization(\n",
    "      epsilon=1e-6)(inputs + attention)\n",
    "\n",
    "  # 두 번째 서브 레이어 : 2개의 완전연결층\n",
    "  outputs = tf.keras.layers.Dense(units=units, activation='relu')(attention)\n",
    "  outputs = tf.keras.layers.Dense(units=d_model)(outputs)\n",
    "\n",
    "  # 완전연결층의 결과는 Dropout과 LayerNormalization이라는 훈련을 돕는 테크닉을 수행\n",
    "  outputs = tf.keras.layers.Dropout(rate=dropout)(outputs)\n",
    "  outputs = tf.keras.layers.LayerNormalization(\n",
    "      epsilon=1e-6)(attention + outputs)\n",
    "\n",
    "  return tf.keras.Model(\n",
    "      inputs=[inputs, padding_mask], outputs=outputs, name=name)\n",
    "print(\"슝=3\")\n",
    "\n",
    "def encoder(vocab_size,\n",
    "            num_layers,\n",
    "            units,\n",
    "            d_model,\n",
    "            num_heads,\n",
    "            dropout,\n",
    "            name=\"encoder\"):\n",
    "  inputs = tf.keras.Input(shape=(None,), name=\"inputs\")\n",
    "\n",
    "  # 패딩 마스크 사용\n",
    "  padding_mask = tf.keras.Input(shape=(1, 1, None), name=\"padding_mask\")\n",
    "\n",
    "  # 임베딩 레이어\n",
    "  embeddings = tf.keras.layers.Embedding(vocab_size, d_model)(inputs)\n",
    "  embeddings *= tf.math.sqrt(tf.cast(d_model, tf.float32))\n",
    "\n",
    "  # 포지셔널 인코딩\n",
    "  embeddings = PositionalEncoding(vocab_size, d_model)(embeddings)\n",
    "\n",
    "  outputs = tf.keras.layers.Dropout(rate=dropout)(embeddings)\n",
    "\n",
    "  # num_layers만큼 쌓아올린 인코더의 층.\n",
    "  for i in range(num_layers):\n",
    "    outputs = encoder_layer(\n",
    "        units=units,\n",
    "        d_model=d_model,\n",
    "        num_heads=num_heads,\n",
    "        dropout=dropout,\n",
    "        name=\"encoder_layer_{}\".format(i),\n",
    "    )([outputs, padding_mask])\n",
    "\n",
    "  return tf.keras.Model(\n",
    "      inputs=[inputs, padding_mask], outputs=outputs, name=name)\n",
    "print(\"슝=3\")"
   ]
  },
  {
   "cell_type": "code",
   "execution_count": 60,
   "id": "c7bef47b",
   "metadata": {},
   "outputs": [
    {
     "name": "stdout",
     "output_type": "stream",
     "text": [
      "슝=3\n"
     ]
    }
   ],
   "source": [
    "# 포지셔널 인코딩 레이어\n",
    "class PositionalEncoding(tf.keras.layers.Layer):\n",
    "\n",
    "  def __init__(self, position, d_model):\n",
    "    super(PositionalEncoding, self).__init__()\n",
    "    self.pos_encoding = self.positional_encoding(position, d_model)\n",
    "\n",
    "  def get_angles(self, position, i, d_model):\n",
    "    angles = 1 / tf.pow(10000, (2 * (i // 2)) / tf.cast(d_model, tf.float32))\n",
    "    return position * angles\n",
    "\n",
    "  def positional_encoding(self, position, d_model):\n",
    "    # 각도 배열 생성\n",
    "    angle_rads = self.get_angles(\n",
    "        position=tf.range(position, dtype=tf.float32)[:, tf.newaxis],\n",
    "        i=tf.range(d_model, dtype=tf.float32)[tf.newaxis, :],\n",
    "        d_model=d_model)\n",
    "\n",
    "    # 배열의 짝수 인덱스에는 sin 함수 적용\n",
    "    sines = tf.math.sin(angle_rads[:, 0::2])\n",
    "    # 배열의 홀수 인덱스에는 cosine 함수 적용\n",
    "    cosines = tf.math.cos(angle_rads[:, 1::2])\n",
    "\n",
    "    # sin과 cosine이 교차되도록 재배열\n",
    "    pos_encoding = tf.stack([sines, cosines], axis=0)\n",
    "    pos_encoding = tf.transpose(pos_encoding,[1, 2, 0]) \n",
    "    pos_encoding = tf.reshape(pos_encoding, [position, d_model])\n",
    "\n",
    "    pos_encoding = pos_encoding[tf.newaxis, ...]\n",
    "    return tf.cast(pos_encoding, tf.float32)\n",
    "\n",
    "  def call(self, inputs):\n",
    "    return inputs + self.pos_encoding[:, :tf.shape(inputs)[1], :]\n",
    "\n",
    "print(\"슝=3\")"
   ]
  },
  {
   "cell_type": "code",
   "execution_count": 61,
   "id": "1733c6a0",
   "metadata": {},
   "outputs": [
    {
     "name": "stdout",
     "output_type": "stream",
     "text": [
      "슝=3\n"
     ]
    }
   ],
   "source": [
    "class MultiHeadAttention(tf.keras.layers.Layer):\n",
    "\n",
    "  def __init__(self, d_model, num_heads, name=\"multi_head_attention\"):\n",
    "    super(MultiHeadAttention, self).__init__(name=name)\n",
    "    self.num_heads = num_heads\n",
    "    self.d_model = d_model\n",
    "\n",
    "    assert d_model % self.num_heads == 0\n",
    "\n",
    "    self.depth = d_model // self.num_heads\n",
    "\n",
    "    self.query_dense = tf.keras.layers.Dense(units=d_model)\n",
    "    self.key_dense = tf.keras.layers.Dense(units=d_model)\n",
    "    self.value_dense = tf.keras.layers.Dense(units=d_model)\n",
    "\n",
    "    self.dense = tf.keras.layers.Dense(units=d_model)\n",
    "\n",
    "  def split_heads(self, inputs, batch_size):\n",
    "    inputs = tf.reshape(\n",
    "        inputs, shape=(batch_size, -1, self.num_heads, self.depth))\n",
    "    return tf.transpose(inputs, perm=[0, 2, 1, 3])\n",
    "\n",
    "  def call(self, inputs):\n",
    "    query, key, value, mask = inputs['query'], inputs['key'], inputs[\n",
    "        'value'], inputs['mask']\n",
    "    batch_size = tf.shape(query)[0]\n",
    "\n",
    "    # Q, K, V에 각각 Dense를 적용합니다\n",
    "    query = self.query_dense(query)\n",
    "    key = self.key_dense(key)\n",
    "    value = self.value_dense(value)\n",
    "\n",
    "    # 병렬 연산을 위한 머리를 여러 개 만듭니다\n",
    "    query = self.split_heads(query, batch_size)\n",
    "    key = self.split_heads(key, batch_size)\n",
    "    value = self.split_heads(value, batch_size)\n",
    "\n",
    "    # 스케일드 닷 프로덕트 어텐션 함수\n",
    "    scaled_attention = scaled_dot_product_attention(query, key, value, mask)\n",
    "\n",
    "    scaled_attention = tf.transpose(scaled_attention, perm=[0, 2, 1, 3])\n",
    "\n",
    "    # 어텐션 연산 후에 각 결과를 다시 연결(concatenate)합니다\n",
    "    concat_attention = tf.reshape(scaled_attention,\n",
    "                                  (batch_size, -1, self.d_model))\n",
    "\n",
    "    # 최종 결과에도 Dense를 한 번 더 적용합니다\n",
    "    outputs = self.dense(concat_attention)\n",
    "\n",
    "    return outputs\n",
    "print(\"슝=3\")"
   ]
  },
  {
   "cell_type": "code",
   "execution_count": 62,
   "id": "f6626a3e",
   "metadata": {},
   "outputs": [
    {
     "name": "stdout",
     "output_type": "stream",
     "text": [
      "슝=3\n"
     ]
    }
   ],
   "source": [
    "# 스케일드 닷 프로덕트 어텐션 함수\n",
    "def scaled_dot_product_attention(query, key, value, mask):\n",
    "  # 어텐션 가중치는 Q와 K의 닷 프로덕트\n",
    "  matmul_qk = tf.matmul(query, key, transpose_b=True)\n",
    "\n",
    "  # 가중치를 정규화\n",
    "  depth = tf.cast(tf.shape(key)[-1], tf.float32)\n",
    "  logits = matmul_qk / tf.math.sqrt(depth)\n",
    "\n",
    "  # 패딩에 마스크 추가\n",
    "  if mask is not None:\n",
    "    logits += (mask * -1e9)\n",
    "\n",
    "  # softmax적용\n",
    "  attention_weights = tf.nn.softmax(logits, axis=-1)\n",
    "\n",
    "  # 최종 어텐션은 가중치와 V의 닷 프로덕트\n",
    "  output = tf.matmul(attention_weights, value)\n",
    "  return output\n",
    "\n",
    "print(\"슝=3\")"
   ]
  },
  {
   "cell_type": "code",
   "execution_count": 63,
   "id": "14931124",
   "metadata": {},
   "outputs": [
    {
     "name": "stdout",
     "output_type": "stream",
     "text": [
      "슝=3\n",
      "슝=3\n"
     ]
    }
   ],
   "source": [
    "# 디코더 하나의 레이어를 함수로 구현.\n",
    "# 이 하나의 레이어 안에는 세 개의 서브 레이어가 존재합니다.\n",
    "def decoder_layer(units, d_model, num_heads, dropout, name=\"decoder_layer\"):\n",
    "  inputs = tf.keras.Input(shape=(None, d_model), name=\"inputs\")\n",
    "  enc_outputs = tf.keras.Input(shape=(None, d_model), name=\"encoder_outputs\")\n",
    "  look_ahead_mask = tf.keras.Input(\n",
    "      shape=(1, None, None), name=\"look_ahead_mask\")\n",
    "  padding_mask = tf.keras.Input(shape=(1, 1, None), name='padding_mask')\n",
    "\n",
    "  # 첫 번째 서브 레이어 : 멀티 헤드 어텐션 수행 (셀프 어텐션)\n",
    "  attention1 = MultiHeadAttention(\n",
    "      d_model, num_heads, name=\"attention_1\")(inputs={\n",
    "          'query': inputs,\n",
    "          'key': inputs,\n",
    "          'value': inputs,\n",
    "          'mask': look_ahead_mask\n",
    "      })\n",
    "\n",
    "  # 멀티 헤드 어텐션의 결과는 LayerNormalization이라는 훈련을 돕는 테크닉을 수행\n",
    "  attention1 = tf.keras.layers.LayerNormalization(\n",
    "      epsilon=1e-6)(attention1 + inputs)\n",
    "\n",
    "  # 두 번째 서브 레이어 : 마스크드 멀티 헤드 어텐션 수행 (인코더-디코더 어텐션)\n",
    "  attention2 = MultiHeadAttention(\n",
    "      d_model, num_heads, name=\"attention_2\")(inputs={\n",
    "          'query': attention1,\n",
    "          'key': enc_outputs,\n",
    "          'value': enc_outputs,\n",
    "          'mask': padding_mask\n",
    "      })\n",
    "\n",
    "  # 마스크드 멀티 헤드 어텐션의 결과는\n",
    "  # Dropout과 LayerNormalization이라는 훈련을 돕는 테크닉을 수행\n",
    "  attention2 = tf.keras.layers.Dropout(rate=dropout)(attention2)\n",
    "  attention2 = tf.keras.layers.LayerNormalization(\n",
    "      epsilon=1e-6)(attention2 + attention1)\n",
    "\n",
    "  # 세 번째 서브 레이어 : 2개의 완전연결층\n",
    "  outputs = tf.keras.layers.Dense(units=units, activation='relu')(attention2)\n",
    "  outputs = tf.keras.layers.Dense(units=d_model)(outputs)\n",
    "\n",
    "  # 완전연결층의 결과는 Dropout과 LayerNormalization 수행\n",
    "  outputs = tf.keras.layers.Dropout(rate=dropout)(outputs)\n",
    "  outputs = tf.keras.layers.LayerNormalization(\n",
    "      epsilon=1e-6)(outputs + attention2)\n",
    "\n",
    "  return tf.keras.Model(\n",
    "      inputs=[inputs, enc_outputs, look_ahead_mask, padding_mask],\n",
    "      outputs=outputs,\n",
    "      name=name)\n",
    "print(\"슝=3\")\n",
    "\n",
    "def decoder(vocab_size,\n",
    "            num_layers,\n",
    "            units,\n",
    "            d_model,\n",
    "            num_heads,\n",
    "            dropout,\n",
    "            name='decoder'):\n",
    "  inputs = tf.keras.Input(shape=(None,), name='inputs')\n",
    "  enc_outputs = tf.keras.Input(shape=(None, d_model), name='encoder_outputs')\n",
    "  look_ahead_mask = tf.keras.Input(\n",
    "      shape=(1, None, None), name='look_ahead_mask')\n",
    "\n",
    "  # 패딩 마스크\n",
    "  padding_mask = tf.keras.Input(shape=(1, 1, None), name='padding_mask')\n",
    "  \n",
    "  # 임베딩 레이어\n",
    "  embeddings = tf.keras.layers.Embedding(vocab_size, d_model)(inputs)\n",
    "  embeddings *= tf.math.sqrt(tf.cast(d_model, tf.float32))\n",
    "\n",
    "  # 포지셔널 인코딩\n",
    "  embeddings = PositionalEncoding(vocab_size, d_model)(embeddings)\n",
    "\n",
    "  # Dropout이라는 훈련을 돕는 테크닉을 수행\n",
    "  outputs = tf.keras.layers.Dropout(rate=dropout)(embeddings)\n",
    "\n",
    "  for i in range(num_layers):\n",
    "    outputs = decoder_layer(\n",
    "        units=units,\n",
    "        d_model=d_model,\n",
    "        num_heads=num_heads,\n",
    "        dropout=dropout,\n",
    "        name='decoder_layer_{}'.format(i),\n",
    "    )(inputs=[outputs, enc_outputs, look_ahead_mask, padding_mask])\n",
    "\n",
    "  return tf.keras.Model(\n",
    "      inputs=[inputs, enc_outputs, look_ahead_mask, padding_mask],\n",
    "      outputs=outputs,\n",
    "      name=name)\n",
    "print(\"슝=3\")"
   ]
  },
  {
   "cell_type": "markdown",
   "id": "12dff3e1",
   "metadata": {},
   "source": [
    "# 챗봇 개선사항 3. 레이어 수 늘려주기\n",
    "\n",
    "논문에서는 6층의 레이어가 있었기 때문에, 저도 6층으로 늘려보았습니다."
   ]
  },
  {
   "cell_type": "code",
   "execution_count": 64,
   "id": "9c279861",
   "metadata": {
    "scrolled": false
   },
   "outputs": [
    {
     "name": "stdout",
     "output_type": "stream",
     "text": [
      "Model: \"transformer\"\n",
      "__________________________________________________________________________________________________\n",
      "Layer (type)                    Output Shape         Param #     Connected to                     \n",
      "==================================================================================================\n",
      "inputs (InputLayer)             [(None, None)]       0                                            \n",
      "__________________________________________________________________________________________________\n",
      "dec_inputs (InputLayer)         [(None, None)]       0                                            \n",
      "__________________________________________________________________________________________________\n",
      "enc_padding_mask (Lambda)       (None, 1, 1, None)   0           inputs[0][0]                     \n",
      "__________________________________________________________________________________________________\n",
      "encoder (Functional)            (None, None, 512)    16610816    inputs[0][0]                     \n",
      "                                                                 enc_padding_mask[0][0]           \n",
      "__________________________________________________________________________________________________\n",
      "look_ahead_mask (Lambda)        (None, 1, None, None 0           dec_inputs[0][0]                 \n",
      "__________________________________________________________________________________________________\n",
      "dec_padding_mask (Lambda)       (None, 1, 1, None)   0           inputs[0][0]                     \n",
      "__________________________________________________________________________________________________\n",
      "decoder (Functional)            (None, None, 512)    22920704    dec_inputs[0][0]                 \n",
      "                                                                 encoder[0][0]                    \n",
      "                                                                 look_ahead_mask[0][0]            \n",
      "                                                                 dec_padding_mask[0][0]           \n",
      "__________________________________________________________________________________________________\n",
      "outputs (Dense)                 (None, None, 7801)   4001913     decoder[0][0]                    \n",
      "==================================================================================================\n",
      "Total params: 43,533,433\n",
      "Trainable params: 43,533,433\n",
      "Non-trainable params: 0\n",
      "__________________________________________________________________________________________________\n"
     ]
    }
   ],
   "source": [
    "tf.keras.backend.clear_session()\n",
    "\n",
    "# 하이퍼파라미터\n",
    "NUM_LAYERS = 6 # 인코더와 디코더의 층의 개수\n",
    "D_MODEL = 512 # 인코더와 디코더 내부의 입, 출력의 고정 차원\n",
    "NUM_HEADS = 16 # 멀티 헤드 어텐션에서의 헤드 수 \n",
    "UNITS = 1024 # 피드 포워드 신경망의 은닉층의 크기\n",
    "DROPOUT = 0.1 # 드롭아웃의 비율\n",
    "\n",
    "model = transformer(\n",
    "    vocab_size=VOCAB_SIZE,\n",
    "    num_layers=NUM_LAYERS,\n",
    "    units=UNITS,\n",
    "    d_model=D_MODEL,\n",
    "    num_heads=NUM_HEADS,\n",
    "    dropout=DROPOUT)\n",
    "\n",
    "model.summary()"
   ]
  },
  {
   "cell_type": "markdown",
   "id": "f3209147",
   "metadata": {},
   "source": [
    "# step 5. 모델 평가하기"
   ]
  },
  {
   "cell_type": "code",
   "execution_count": 65,
   "id": "8b1cc7e3",
   "metadata": {},
   "outputs": [
    {
     "name": "stdout",
     "output_type": "stream",
     "text": [
      "슝=3\n"
     ]
    }
   ],
   "source": [
    "def loss_function(y_true, y_pred):\n",
    "  y_true = tf.reshape(y_true, shape=(-1, MAX_LENGTH - 1))\n",
    "  \n",
    "  loss = tf.keras.losses.SparseCategoricalCrossentropy(\n",
    "      from_logits=True, reduction='none')(y_true, y_pred)\n",
    "\n",
    "  mask = tf.cast(tf.not_equal(y_true, 0), tf.float32)\n",
    "  loss = tf.multiply(loss, mask)\n",
    "\n",
    "  return tf.reduce_mean(loss)\n",
    "print(\"슝=3\")"
   ]
  },
  {
   "cell_type": "code",
   "execution_count": 66,
   "id": "2226ff0f",
   "metadata": {},
   "outputs": [
    {
     "name": "stdout",
     "output_type": "stream",
     "text": [
      "슝=3\n"
     ]
    }
   ],
   "source": [
    "class CustomSchedule(tf.keras.optimizers.schedules.LearningRateSchedule):\n",
    "\n",
    "  def __init__(self, d_model, warmup_steps=4000):\n",
    "    super(CustomSchedule, self).__init__()\n",
    "\n",
    "    self.d_model = d_model\n",
    "    self.d_model = tf.cast(self.d_model, tf.float32)\n",
    "\n",
    "    self.warmup_steps = warmup_steps\n",
    "\n",
    "  def __call__(self, step):\n",
    "    arg1 = tf.math.rsqrt(step)\n",
    "    arg2 = step * (self.warmup_steps**-1.5)\n",
    "\n",
    "    return tf.math.rsqrt(self.d_model) * tf.math.minimum(arg1, arg2)\n",
    "print(\"슝=3\")"
   ]
  },
  {
   "cell_type": "code",
   "execution_count": 67,
   "id": "78d4d13a",
   "metadata": {},
   "outputs": [
    {
     "data": {
      "text/plain": [
       "Text(0.5, 0, 'Train Step')"
      ]
     },
     "execution_count": 67,
     "metadata": {},
     "output_type": "execute_result"
    },
    {
     "data": {
      "image/png": "[encoded data removed]",
      "text/plain": [
       "<Figure size 432x288 with 1 Axes>"
      ]
     },
     "metadata": {
      "needs_background": "light"
     },
     "output_type": "display_data"
    }
   ],
   "source": [
    "sample_learning_rate = CustomSchedule(d_model=128)\n",
    "\n",
    "plt.plot(sample_learning_rate(tf.range(200000, dtype=tf.float32)))\n",
    "plt.ylabel(\"Learning Rate\")\n",
    "plt.xlabel(\"Train Step\")"
   ]
  },
  {
   "cell_type": "code",
   "execution_count": 68,
   "id": "63e66bb1",
   "metadata": {},
   "outputs": [
    {
     "name": "stdout",
     "output_type": "stream",
     "text": [
      "슝=3\n"
     ]
    }
   ],
   "source": [
    "learning_rate = CustomSchedule(D_MODEL)\n",
    "\n",
    "optimizer = tf.keras.optimizers.Adam(\n",
    "    learning_rate, beta_1=0.9, beta_2=0.98, epsilon=1e-9)\n",
    "\n",
    "def accuracy(y_true, y_pred):\n",
    "  y_true = tf.reshape(y_true, shape=(-1, MAX_LENGTH - 1))\n",
    "  return tf.keras.metrics.sparse_categorical_accuracy(y_true, y_pred)\n",
    "\n",
    "model.compile(optimizer=optimizer, loss=loss_function, metrics=[accuracy])\n",
    "print(\"슝=3\")"
   ]
  },
  {
   "cell_type": "markdown",
   "id": "e71cc1dd",
   "metadata": {},
   "source": [
    "기존에 epoch 20에서 accuracy가 너무 낮아서 대폭 올려보았습니다.\n"
   ]
  },
  {
   "cell_type": "code",
   "execution_count": 69,
   "id": "860679f7",
   "metadata": {
    "scrolled": false
   },
   "outputs": [
    {
     "name": "stdout",
     "output_type": "stream",
     "text": [
      "Epoch 1/100\n",
      "288/288 [==============================] - 87s 249ms/step - loss: 1.6172 - accuracy: 0.0277\n",
      "Epoch 2/100\n",
      "288/288 [==============================] - 71s 248ms/step - loss: 1.3439 - accuracy: 0.0469\n",
      "Epoch 3/100\n",
      "288/288 [==============================] - 71s 248ms/step - loss: 1.2189 - accuracy: 0.0581\n",
      "Epoch 4/100\n",
      "288/288 [==============================] - 72s 248ms/step - loss: 1.1098 - accuracy: 0.0655\n",
      "Epoch 5/100\n",
      "288/288 [==============================] - 72s 249ms/step - loss: 1.0025 - accuracy: 0.0724\n",
      "Epoch 6/100\n",
      "288/288 [==============================] - 72s 248ms/step - loss: 0.8881 - accuracy: 0.0805\n",
      "Epoch 7/100\n",
      "288/288 [==============================] - 71s 248ms/step - loss: 0.7850 - accuracy: 0.0870\n",
      "Epoch 8/100\n",
      "288/288 [==============================] - 72s 248ms/step - loss: 0.6919 - accuracy: 0.0931\n",
      "Epoch 9/100\n",
      "288/288 [==============================] - 71s 248ms/step - loss: 0.6082 - accuracy: 0.0988\n",
      "Epoch 10/100\n",
      "288/288 [==============================] - 71s 247ms/step - loss: 0.5350 - accuracy: 0.1050\n",
      "Epoch 11/100\n",
      "288/288 [==============================] - 71s 248ms/step - loss: 0.4813 - accuracy: 0.1094\n",
      "Epoch 12/100\n",
      "288/288 [==============================] - 71s 247ms/step - loss: 0.4431 - accuracy: 0.1132\n",
      "Epoch 13/100\n",
      "288/288 [==============================] - 71s 248ms/step - loss: 0.4177 - accuracy: 0.1159\n",
      "Epoch 14/100\n",
      "288/288 [==============================] - 71s 248ms/step - loss: 0.4042 - accuracy: 0.1172\n",
      "Epoch 15/100\n",
      "288/288 [==============================] - 71s 248ms/step - loss: 0.3789 - accuracy: 0.1213\n",
      "Epoch 16/100\n",
      "288/288 [==============================] - 71s 248ms/step - loss: 0.3447 - accuracy: 0.1270\n",
      "Epoch 17/100\n",
      "288/288 [==============================] - 71s 247ms/step - loss: 0.3101 - accuracy: 0.1335\n",
      "Epoch 18/100\n",
      "288/288 [==============================] - 71s 247ms/step - loss: 0.2864 - accuracy: 0.1382\n",
      "Epoch 19/100\n",
      "288/288 [==============================] - 71s 247ms/step - loss: 0.2604 - accuracy: 0.1432\n",
      "Epoch 20/100\n",
      "288/288 [==============================] - 71s 247ms/step - loss: 0.2382 - accuracy: 0.1479\n",
      "Epoch 21/100\n",
      "288/288 [==============================] - 71s 247ms/step - loss: 0.2170 - accuracy: 0.1525\n",
      "Epoch 22/100\n",
      "288/288 [==============================] - 71s 247ms/step - loss: 0.1999 - accuracy: 0.1565\n",
      "Epoch 23/100\n",
      "288/288 [==============================] - 71s 247ms/step - loss: 0.1873 - accuracy: 0.1597\n",
      "Epoch 24/100\n",
      "288/288 [==============================] - 71s 247ms/step - loss: 0.1700 - accuracy: 0.1636\n",
      "Epoch 25/100\n",
      "288/288 [==============================] - 71s 247ms/step - loss: 0.1587 - accuracy: 0.1664\n",
      "Epoch 26/100\n",
      "288/288 [==============================] - 71s 247ms/step - loss: 0.1461 - accuracy: 0.1696\n",
      "Epoch 27/100\n",
      "288/288 [==============================] - 71s 247ms/step - loss: 0.1330 - accuracy: 0.1730\n",
      "Epoch 28/100\n",
      "288/288 [==============================] - 71s 247ms/step - loss: 0.1265 - accuracy: 0.1747\n",
      "Epoch 29/100\n",
      "288/288 [==============================] - 71s 247ms/step - loss: 0.1187 - accuracy: 0.1769\n",
      "Epoch 30/100\n",
      "288/288 [==============================] - 71s 247ms/step - loss: 0.1120 - accuracy: 0.1784\n",
      "Epoch 31/100\n",
      "288/288 [==============================] - 71s 247ms/step - loss: 0.1044 - accuracy: 0.1806\n",
      "Epoch 32/100\n",
      "288/288 [==============================] - 71s 247ms/step - loss: 0.0977 - accuracy: 0.1822\n",
      "Epoch 33/100\n",
      "288/288 [==============================] - 71s 247ms/step - loss: 0.0911 - accuracy: 0.1841\n",
      "Epoch 34/100\n",
      "288/288 [==============================] - 71s 247ms/step - loss: 0.0877 - accuracy: 0.1852\n",
      "Epoch 35/100\n",
      "288/288 [==============================] - 71s 247ms/step - loss: 0.0847 - accuracy: 0.1860\n",
      "Epoch 36/100\n",
      "288/288 [==============================] - 71s 246ms/step - loss: 0.0772 - accuracy: 0.1881\n",
      "Epoch 37/100\n",
      "288/288 [==============================] - 71s 246ms/step - loss: 0.0751 - accuracy: 0.1886\n",
      "Epoch 38/100\n",
      "288/288 [==============================] - 71s 246ms/step - loss: 0.0711 - accuracy: 0.1900\n",
      "Epoch 39/100\n",
      "288/288 [==============================] - 71s 247ms/step - loss: 0.0664 - accuracy: 0.1911\n",
      "Epoch 40/100\n",
      "288/288 [==============================] - 71s 247ms/step - loss: 0.0633 - accuracy: 0.1919\n",
      "Epoch 41/100\n",
      "288/288 [==============================] - 71s 247ms/step - loss: 0.0603 - accuracy: 0.1928\n",
      "Epoch 42/100\n",
      "288/288 [==============================] - 71s 247ms/step - loss: 0.0572 - accuracy: 0.1938\n",
      "Epoch 43/100\n",
      "288/288 [==============================] - 71s 246ms/step - loss: 0.0556 - accuracy: 0.1941\n",
      "Epoch 44/100\n",
      "288/288 [==============================] - 71s 247ms/step - loss: 0.0521 - accuracy: 0.1951\n",
      "Epoch 45/100\n",
      "288/288 [==============================] - 71s 247ms/step - loss: 0.0496 - accuracy: 0.1957\n",
      "Epoch 46/100\n",
      "288/288 [==============================] - 71s 247ms/step - loss: 0.0478 - accuracy: 0.1965\n",
      "Epoch 47/100\n",
      "288/288 [==============================] - 71s 247ms/step - loss: 0.0449 - accuracy: 0.1972\n",
      "Epoch 48/100\n",
      "288/288 [==============================] - 71s 247ms/step - loss: 0.0446 - accuracy: 0.1973\n",
      "Epoch 49/100\n",
      "288/288 [==============================] - 71s 246ms/step - loss: 0.0417 - accuracy: 0.1981\n",
      "Epoch 50/100\n",
      "288/288 [==============================] - 71s 247ms/step - loss: 0.0412 - accuracy: 0.1982\n",
      "Epoch 51/100\n",
      "288/288 [==============================] - 71s 246ms/step - loss: 0.0401 - accuracy: 0.1985\n",
      "Epoch 52/100\n",
      "288/288 [==============================] - 71s 247ms/step - loss: 0.0386 - accuracy: 0.1989\n",
      "Epoch 53/100\n",
      "288/288 [==============================] - 71s 247ms/step - loss: 0.0371 - accuracy: 0.1995\n",
      "Epoch 54/100\n",
      "288/288 [==============================] - 71s 247ms/step - loss: 0.0359 - accuracy: 0.1997\n",
      "Epoch 55/100\n",
      "288/288 [==============================] - 71s 247ms/step - loss: 0.0350 - accuracy: 0.2000\n",
      "Epoch 56/100\n",
      "288/288 [==============================] - 71s 247ms/step - loss: 0.0345 - accuracy: 0.2003\n",
      "Epoch 57/100\n",
      "288/288 [==============================] - 71s 247ms/step - loss: 0.0323 - accuracy: 0.2007\n",
      "Epoch 58/100\n",
      "288/288 [==============================] - 71s 247ms/step - loss: 0.0314 - accuracy: 0.2011\n",
      "Epoch 59/100\n",
      "288/288 [==============================] - 71s 247ms/step - loss: 0.0300 - accuracy: 0.2013\n",
      "Epoch 60/100\n",
      "288/288 [==============================] - 71s 247ms/step - loss: 0.0293 - accuracy: 0.2016\n",
      "Epoch 61/100\n",
      "288/288 [==============================] - 71s 247ms/step - loss: 0.0283 - accuracy: 0.2018\n",
      "Epoch 62/100\n",
      "288/288 [==============================] - 71s 247ms/step - loss: 0.0270 - accuracy: 0.2023\n",
      "Epoch 63/100\n",
      "288/288 [==============================] - 71s 247ms/step - loss: 0.0264 - accuracy: 0.2024\n",
      "Epoch 64/100\n",
      "288/288 [==============================] - 71s 247ms/step - loss: 0.0257 - accuracy: 0.2026\n",
      "Epoch 65/100\n",
      "288/288 [==============================] - 71s 247ms/step - loss: 0.0261 - accuracy: 0.2026\n",
      "Epoch 66/100\n",
      "288/288 [==============================] - 71s 247ms/step - loss: 0.0243 - accuracy: 0.2031\n",
      "Epoch 67/100\n",
      "288/288 [==============================] - 71s 246ms/step - loss: 0.0231 - accuracy: 0.2034\n",
      "Epoch 68/100\n",
      "288/288 [==============================] - 71s 246ms/step - loss: 0.0227 - accuracy: 0.2035\n",
      "Epoch 69/100\n",
      "288/288 [==============================] - 71s 246ms/step - loss: 0.0232 - accuracy: 0.2034\n",
      "Epoch 70/100\n",
      "288/288 [==============================] - 71s 247ms/step - loss: 0.0225 - accuracy: 0.2036\n",
      "Epoch 71/100\n",
      "288/288 [==============================] - 71s 248ms/step - loss: 0.0218 - accuracy: 0.2039\n",
      "Epoch 72/100\n",
      "288/288 [==============================] - 71s 247ms/step - loss: 0.0210 - accuracy: 0.2040\n",
      "Epoch 73/100\n",
      "288/288 [==============================] - 71s 246ms/step - loss: 0.0208 - accuracy: 0.2042\n",
      "Epoch 74/100\n",
      "288/288 [==============================] - 71s 247ms/step - loss: 0.0202 - accuracy: 0.2042\n",
      "Epoch 75/100\n",
      "288/288 [==============================] - 71s 247ms/step - loss: 0.0199 - accuracy: 0.2042\n",
      "Epoch 76/100\n",
      "288/288 [==============================] - 71s 247ms/step - loss: 0.0207 - accuracy: 0.2041\n",
      "Epoch 77/100\n",
      "288/288 [==============================] - 71s 246ms/step - loss: 0.0183 - accuracy: 0.2048\n",
      "Epoch 78/100\n",
      "288/288 [==============================] - 71s 246ms/step - loss: 0.0177 - accuracy: 0.2049\n",
      "Epoch 79/100\n"
     ]
    },
    {
     "name": "stdout",
     "output_type": "stream",
     "text": [
      "288/288 [==============================] - 71s 247ms/step - loss: 0.0177 - accuracy: 0.2049\n",
      "Epoch 80/100\n",
      "288/288 [==============================] - 71s 247ms/step - loss: 0.0180 - accuracy: 0.2048\n",
      "Epoch 81/100\n",
      "288/288 [==============================] - 71s 247ms/step - loss: 0.0170 - accuracy: 0.2051\n",
      "Epoch 82/100\n",
      "288/288 [==============================] - 71s 247ms/step - loss: 0.0168 - accuracy: 0.2052\n",
      "Epoch 83/100\n",
      "288/288 [==============================] - 71s 247ms/step - loss: 0.0157 - accuracy: 0.2055\n",
      "Epoch 84/100\n",
      "288/288 [==============================] - 71s 246ms/step - loss: 0.0159 - accuracy: 0.2055\n",
      "Epoch 85/100\n",
      "288/288 [==============================] - 71s 246ms/step - loss: 0.0155 - accuracy: 0.2055\n",
      "Epoch 86/100\n",
      "288/288 [==============================] - 71s 247ms/step - loss: 0.0149 - accuracy: 0.2057\n",
      "Epoch 87/100\n",
      "288/288 [==============================] - 71s 247ms/step - loss: 0.0152 - accuracy: 0.2056\n",
      "Epoch 88/100\n",
      "288/288 [==============================] - 71s 247ms/step - loss: 0.0159 - accuracy: 0.2054\n",
      "Epoch 89/100\n",
      "288/288 [==============================] - 71s 247ms/step - loss: 0.0149 - accuracy: 0.2056\n",
      "Epoch 90/100\n",
      "288/288 [==============================] - 71s 247ms/step - loss: 0.0136 - accuracy: 0.2061\n",
      "Epoch 91/100\n",
      "288/288 [==============================] - 71s 246ms/step - loss: 0.0141 - accuracy: 0.2060\n",
      "Epoch 92/100\n",
      "288/288 [==============================] - 71s 246ms/step - loss: 0.0136 - accuracy: 0.2061\n",
      "Epoch 93/100\n",
      "288/288 [==============================] - 71s 246ms/step - loss: 0.0141 - accuracy: 0.2059\n",
      "Epoch 94/100\n",
      "288/288 [==============================] - 71s 247ms/step - loss: 0.0137 - accuracy: 0.2061\n",
      "Epoch 95/100\n",
      "288/288 [==============================] - 71s 247ms/step - loss: 0.0134 - accuracy: 0.2061\n",
      "Epoch 96/100\n",
      "288/288 [==============================] - 71s 247ms/step - loss: 0.0130 - accuracy: 0.2062\n",
      "Epoch 97/100\n",
      "288/288 [==============================] - 71s 246ms/step - loss: 0.0123 - accuracy: 0.2064\n",
      "Epoch 98/100\n",
      "288/288 [==============================] - 71s 247ms/step - loss: 0.0119 - accuracy: 0.2066\n",
      "Epoch 99/100\n",
      "288/288 [==============================] - 71s 247ms/step - loss: 0.0119 - accuracy: 0.2065\n",
      "Epoch 100/100\n",
      "288/288 [==============================] - 71s 247ms/step - loss: 0.0124 - accuracy: 0.2064\n"
     ]
    },
    {
     "data": {
      "text/plain": [
       "<keras.callbacks.History at 0x7f775669f9a0>"
      ]
     },
     "execution_count": 69,
     "metadata": {},
     "output_type": "execute_result"
    }
   ],
   "source": [
    "EPOCHS = 100\n",
    "model.fit(dataset, epochs=EPOCHS, verbose=1)"
   ]
  },
  {
   "cell_type": "code",
   "execution_count": 70,
   "id": "e5814f61",
   "metadata": {},
   "outputs": [
    {
     "name": "stdout",
     "output_type": "stream",
     "text": [
      "슝=3\n"
     ]
    }
   ],
   "source": [
    "def decoder_inference(sentence):\n",
    "  sentence = preprocess_sentence(sentence)\n",
    "\n",
    "  # 입력된 문장을 정수 인코딩 후, 시작 토큰과 종료 토큰을 앞뒤로 추가.\n",
    "  # ex) Where have you been? → [[8331   86   30    5 1059    7 8332]]\n",
    "  sentence = tf.expand_dims(\n",
    "      START_TOKEN + tokenizer.encode(sentence) + END_TOKEN, axis=0)\n",
    "\n",
    "  # 디코더의 현재까지의 예측한 출력 시퀀스가 지속적으로 저장되는 변수.\n",
    "  # 처음에는 예측한 내용이 없음으로 시작 토큰만 별도 저장. ex) 8331\n",
    "  output_sequence = tf.expand_dims(START_TOKEN, 0)\n",
    "\n",
    "  # 디코더의 인퍼런스 단계\n",
    "  for i in range(MAX_LENGTH):\n",
    "    # 디코더는 최대 MAX_LENGTH의 길이만큼 다음 단어 예측을 반복합니다.\n",
    "    predictions = model(inputs=[sentence, output_sequence], training=False)\n",
    "    predictions = predictions[:, -1:, :]\n",
    "\n",
    "    # 현재 예측한 단어의 정수\n",
    "    predicted_id = tf.cast(tf.argmax(predictions, axis=-1), tf.int32)\n",
    "\n",
    "    # 만약 현재 예측한 단어가 종료 토큰이라면 for문을 종료\n",
    "    if tf.equal(predicted_id, END_TOKEN[0]):\n",
    "      break\n",
    "\n",
    "    # 예측한 단어들은 지속적으로 output_sequence에 추가됩니다.\n",
    "    # 이 output_sequence는 다시 디코더의 입력이 됩니다.\n",
    "    output_sequence = tf.concat([output_sequence, predicted_id], axis=-1)\n",
    "\n",
    "  return tf.squeeze(output_sequence, axis=0)\n",
    "print(\"슝=3\")"
   ]
  },
  {
   "cell_type": "code",
   "execution_count": 71,
   "id": "b4e01da7",
   "metadata": {},
   "outputs": [],
   "source": [
    "def sentence_generation(sentence):\n",
    "  # 입력 문장에 대해서 디코더를 동작 시켜 예측된 정수 시퀀스를 리턴받습니다.\n",
    "  prediction = decoder_inference(sentence)\n",
    "\n",
    "  # 정수 시퀀스를 다시 텍스트 시퀀스로 변환합니다.\n",
    "  predicted_sentence = tokenizer.decode(\n",
    "      [i for i in prediction if i < tokenizer.vocab_size])\n",
    "\n",
    "  print('입력 : {}'.format(sentence))\n",
    "  print('출력 : {}'.format(predicted_sentence))\n",
    "\n",
    "  return predicted_sentence"
   ]
  },
  {
   "cell_type": "code",
   "execution_count": 72,
   "id": "ee90d550",
   "metadata": {},
   "outputs": [
    {
     "name": "stdout",
     "output_type": "stream",
     "text": [
      "입력 : 드라마 너무 재밌더라\n",
      "출력 : 드라마 너무 재밌네\n"
     ]
    },
    {
     "data": {
      "text/plain": [
       "'드라마 너무 재밌네'"
      ]
     },
     "execution_count": 72,
     "metadata": {},
     "output_type": "execute_result"
    }
   ],
   "source": [
    "sentence_generation('드라마 너무 재밌더라')"
   ]
  },
  {
   "cell_type": "code",
   "execution_count": 73,
   "id": "e178d54e",
   "metadata": {},
   "outputs": [
    {
     "name": "stdout",
     "output_type": "stream",
     "text": [
      "입력 : 나 걔 좋아해\n",
      "출력 : 나 속게\n"
     ]
    },
    {
     "data": {
      "text/plain": [
       "'나 속게'"
      ]
     },
     "execution_count": 73,
     "metadata": {},
     "output_type": "execute_result"
    }
   ],
   "source": [
    "sentence_generation(\"나 걔 좋아해\")"
   ]
  },
  {
   "cell_type": "code",
   "execution_count": 74,
   "id": "0dd20aea",
   "metadata": {},
   "outputs": [
    {
     "name": "stdout",
     "output_type": "stream",
     "text": [
      "입력 : 어이없네\n",
      "출력 : 어이없네\n"
     ]
    },
    {
     "data": {
      "text/plain": [
       "'어이없네'"
      ]
     },
     "execution_count": 74,
     "metadata": {},
     "output_type": "execute_result"
    }
   ],
   "source": [
    "sentence_generation(\"어이없네\")"
   ]
  },
  {
   "cell_type": "code",
   "execution_count": 75,
   "id": "c8f4c4cf",
   "metadata": {},
   "outputs": [
    {
     "name": "stdout",
     "output_type": "stream",
     "text": [
      "입력 : 꾸졌네\n",
      "출력 : 힘들어서 많이 있어\n"
     ]
    },
    {
     "data": {
      "text/plain": [
       "'힘들어서 많이 있어'"
      ]
     },
     "execution_count": 75,
     "metadata": {},
     "output_type": "execute_result"
    }
   ],
   "source": [
    "sentence_generation(\"꾸졌네\")"
   ]
  },
  {
   "cell_type": "code",
   "execution_count": 76,
   "id": "067dbcd3",
   "metadata": {},
   "outputs": [
    {
     "name": "stdout",
     "output_type": "stream",
     "text": [
      "입력 : 어떡하지 우울해 슬퍼\n",
      "출력 : 배고파 우울해\n"
     ]
    },
    {
     "data": {
      "text/plain": [
       "'배고파 우울해'"
      ]
     },
     "execution_count": 76,
     "metadata": {},
     "output_type": "execute_result"
    }
   ],
   "source": [
    "sentence_generation(\"어떡하지 우울해 슬퍼\")"
   ]
  },
  {
   "cell_type": "code",
   "execution_count": 77,
   "id": "fd51de4c",
   "metadata": {},
   "outputs": [
    {
     "name": "stdout",
     "output_type": "stream",
     "text": [
      "입력 : 그래서 있지, 오늘 너무 기쁘고 행복했어\n",
      "출력 : 오늘 이별을    .   오늘 너무 아파 오늘 오늘 오늘 오늘 오늘 오늘 오늘 오늘 오늘 오늘 오늘 오늘 오늘 오늘 오늘 오늘 오늘 오늘 오늘 오늘 오늘 오늘 오늘 오늘 오늘 오늘 오늘 오늘 오늘 오늘 오늘 오늘 오늘 \n"
     ]
    },
    {
     "data": {
      "text/plain": [
       "'오늘 이별을    .   오늘 너무 아파 오늘 오늘 오늘 오늘 오늘 오늘 오늘 오늘 오늘 오늘 오늘 오늘 오늘 오늘 오늘 오늘 오늘 오늘 오늘 오늘 오늘 오늘 오늘 오늘 오늘 오늘 오늘 오늘 오늘 오늘 오늘 오늘 오늘 '"
      ]
     },
     "execution_count": 77,
     "metadata": {},
     "output_type": "execute_result"
    }
   ],
   "source": [
    "sentence_generation(\"그래서 있지, 오늘 너무 기쁘고 행복했어\")"
   ]
  },
  {
   "cell_type": "code",
   "execution_count": 78,
   "id": "3920d5aa",
   "metadata": {},
   "outputs": [
    {
     "name": "stdout",
     "output_type": "stream",
     "text": [
      "입력 : 좋은 아침\n",
      "출력 : 좋은 아침\n"
     ]
    },
    {
     "data": {
      "text/plain": [
       "'좋은 아침'"
      ]
     },
     "execution_count": 78,
     "metadata": {},
     "output_type": "execute_result"
    }
   ],
   "source": [
    "sentence_generation(\"좋은 아침\")"
   ]
  },
  {
   "cell_type": "code",
   "execution_count": 79,
   "id": "86d294de",
   "metadata": {},
   "outputs": [
    {
     "name": "stdout",
     "output_type": "stream",
     "text": [
      "입력 : 잘 지내?\n",
      "출력 : 잘 지내나 지내\n"
     ]
    },
    {
     "data": {
      "text/plain": [
       "'잘 지내나 지내'"
      ]
     },
     "execution_count": 79,
     "metadata": {},
     "output_type": "execute_result"
    }
   ],
   "source": [
    "sentence_generation(\"잘 지내?\")"
   ]
  },
  {
   "cell_type": "code",
   "execution_count": 80,
   "id": "c2b28f25",
   "metadata": {},
   "outputs": [
    {
     "name": "stdout",
     "output_type": "stream",
     "text": [
      "입력 : 진짜 걔 너무 싫지\n",
      "출력 : 진짜 너무 싫어\n"
     ]
    },
    {
     "data": {
      "text/plain": [
       "'진짜 너무 싫어'"
      ]
     },
     "execution_count": 80,
     "metadata": {},
     "output_type": "execute_result"
    }
   ],
   "source": [
    "sentence_generation(\"진짜 걔 너무 싫지\")"
   ]
  },
  {
   "cell_type": "code",
   "execution_count": null,
   "id": "bc5c1fe8",
   "metadata": {},
   "outputs": [],
   "source": []
  },
  {
   "cell_type": "code",
   "execution_count": null,
   "id": "77580259",
   "metadata": {},
   "outputs": [],
   "source": []
  },
  {
   "cell_type": "markdown",
   "id": "5e0521a7",
   "metadata": {},
   "source": [
    "# 회고\n",
    "- 0.1646->0.2064으로 Accuracy가 소폭 올랐다. Accuracy를 더 높일 수 있는 방법은 무엇이 있을까? \n",
    "- accuracy가 낮다고 무작정 파라미터수를 늘리고 Epoch를 높이는게 정확도를 높이는 좋은 수단은 아닌것 같다.\n",
    "- 양질의 데이터는 어디서 얻을 수 있을까?\n",
    "- 대답이 자연스러운것도 있고 이상하거나 반복되는 것도 있다. 일단, 데이터 내의 어휘가 한계가 있기에 다양한 문장 형성이 어려운것같다.\n",
    "- 더 좋은 성능을 가진 챗봇은,, 데이터에 달렷을까 모델에 달렷을까?\n",
    "\n",
    "# 다음에 더 연구해볼 것\n",
    "\n",
    "- PyKoSpacing 적용해보기.\n",
    "PyKoSpacing은 모든 문자열에서 띄어쓰기를 제거한 후, 맞춤법에 맞게 띄어쓰기를 적용해주는 패키지입니다. 여러 출처에 있는 데이터를 가져와 학습시킬 경우, 띄어쓰기가 무질서하게되어있어 토큰화에 어려움이 많을거라 생각했습니다. 넓은 범위로 퍼진 데이터를 정규화해주듯, NLP에서 정규화해주는 (데이터를 통일시켜주는) 과정이 띄어쓰기등을 통일화시켜주는거라고 생각해서 꼭 써보고싶었는데 패키지 설치가 실패해서 아쉽습니다.\n",
    "conda에서는 여러버전의 파이선 패키지를 사용해야 할 경우 conda create env 명령어를 이용해서 가상의 컨테이너를 만들수있는걸로 압니다. 이걸 사용해서 꼭 다음엔 전처리를 잘 마무리하고싶습니다.\n",
    "\n",
    "- Tokenizer, 전처리 각 단계마다의 Questions, Answers CSV로 뽑아보기\n",
    "오늘 이별을    .   오늘 너무 아파 오늘 오늘 오늘 오늘 오늘 오늘 오늘 오늘 오늘 오늘 오늘 오늘 오늘 오늘 오늘 오늘 오늘 오늘 오늘 오늘 오늘 오늘 오늘 오늘 오늘 오늘 오늘 오늘 오늘 오늘 오늘 오늘 오늘 ' 과 같은 결과가 나온것을 보면, 오늘 뒤에 오늘이 오는경우가 많은것 같다. 학습 중에 토큰화가 어떻게 되는지, questions와 answers가 어떻게  바뀌는지 중간과정을 확인해야겠다고 생각했습니다.\n",
    "\n",
    "- 아래 두개의 전처리 부분도 해보기"
   ]
  },
  {
   "cell_type": "code",
   "execution_count": 81,
   "id": "080c03e1",
   "metadata": {},
   "outputs": [],
   "source": [
    "import re \n",
    "def clean_text(texts): \n",
    "    corpus = [] \n",
    "    for i in range(0, len(texts)): \n",
    "        review = re.sub(r'[@%\\\\*=()/~#&\\+á?\\xc3\\xa1\\-\\|\\.\\:\\;\\!\\-\\,\\_\\~\\$\\'\\\"]', '',str(texts[i]))\n",
    "        #remove punctuation \n",
    "        review = re.sub(r'\\d+','', str(texts[i]))# remove number \n",
    "        review = review.lower() #lower case \n",
    "        review = re.sub(r'\\s+', ' ', review) #remove extra space \n",
    "        review = re.sub(r'<[^>]+>','',review) #remove Html tags \n",
    "        review = re.sub(r'\\s+', ' ', review) #remove spaces \n",
    "        review = re.sub(r\"^\\s+\", '', review) #remove space from start \n",
    "        review = re.sub(r'\\s+$', '', review) #remove space from the end \n",
    "    corpus.append(review) \n",
    "    return corpus\n",
    "\n"
   ]
  },
  {
   "cell_type": "code",
   "execution_count": 82,
   "id": "c1387df5",
   "metadata": {},
   "outputs": [
    {
     "name": "stdout",
     "output_type": "stream",
     "text": [
      "Requirement already satisfied: soynlp in /opt/conda/lib/python3.9/site-packages (0.0.493)\n",
      "Requirement already satisfied: psutil>=5.0.1 in /opt/conda/lib/python3.9/site-packages (from soynlp) (5.8.0)\n",
      "Requirement already satisfied: scipy>=1.1.0 in /opt/conda/lib/python3.9/site-packages (from soynlp) (1.7.1)\n",
      "Requirement already satisfied: numpy>=1.12.1 in /opt/conda/lib/python3.9/site-packages (from soynlp) (1.21.4)\n",
      "Requirement already satisfied: scikit-learn>=0.20.0 in /opt/conda/lib/python3.9/site-packages (from soynlp) (1.0)\n",
      "Requirement already satisfied: joblib>=0.11 in /opt/conda/lib/python3.9/site-packages (from scikit-learn>=0.20.0->soynlp) (1.1.0)\n",
      "Requirement already satisfied: threadpoolctl>=2.0.0 in /opt/conda/lib/python3.9/site-packages (from scikit-learn>=0.20.0->soynlp) (3.0.0)\n",
      "\u001b[33mWARNING: Running pip as the 'root' user can result in broken permissions and conflicting behaviour with the system package manager. It is recommended to use a virtual environment instead: https://pip.pypa.io/warnings/venv\u001b[0m\n"
     ]
    }
   ],
   "source": [
    "!pip install soynlp"
   ]
  },
  {
   "cell_type": "code",
   "execution_count": 83,
   "id": "5a00345c",
   "metadata": {},
   "outputs": [
    {
     "ename": "TypeError",
     "evalue": "cannot use a string pattern on a bytes-like object",
     "output_type": "error",
     "traceback": [
      "\u001b[0;31m---------------------------------------------------------------------------\u001b[0m",
      "\u001b[0;31mTypeError\u001b[0m                                 Traceback (most recent call last)",
      "\u001b[0;32m/tmp/ipykernel_1314/3644089416.py\u001b[0m in \u001b[0;36m<module>\u001b[0;34m\u001b[0m\n\u001b[1;32m      3\u001b[0m \u001b[0;34m\u001b[0m\u001b[0m\n\u001b[1;32m      4\u001b[0m \u001b[0;32mfor\u001b[0m \u001b[0midx\u001b[0m \u001b[0;32min\u001b[0m \u001b[0mrange\u001b[0m\u001b[0;34m(\u001b[0m\u001b[0mlen\u001b[0m\u001b[0;34m(\u001b[0m\u001b[0mquestions\u001b[0m\u001b[0;34m)\u001b[0m\u001b[0;34m)\u001b[0m\u001b[0;34m:\u001b[0m\u001b[0;34m\u001b[0m\u001b[0;34m\u001b[0m\u001b[0m\n\u001b[0;32m----> 5\u001b[0;31m     \u001b[0manswers\u001b[0m\u001b[0;34m[\u001b[0m\u001b[0midx\u001b[0m\u001b[0;34m]\u001b[0m \u001b[0;34m=\u001b[0m \u001b[0mrepeat_normalize\u001b[0m\u001b[0;34m(\u001b[0m\u001b[0manswers\u001b[0m\u001b[0;34m[\u001b[0m\u001b[0midx\u001b[0m\u001b[0;34m]\u001b[0m\u001b[0;34m,\u001b[0m \u001b[0mnum_repeats\u001b[0m\u001b[0;34m=\u001b[0m\u001b[0;36m2\u001b[0m\u001b[0;34m)\u001b[0m\u001b[0;34m\u001b[0m\u001b[0;34m\u001b[0m\u001b[0m\n\u001b[0m\u001b[1;32m      6\u001b[0m     \u001b[0mquestions\u001b[0m\u001b[0;34m[\u001b[0m\u001b[0midx\u001b[0m\u001b[0;34m]\u001b[0m \u001b[0;34m=\u001b[0m \u001b[0mrepeat_normalize\u001b[0m\u001b[0;34m(\u001b[0m\u001b[0mquestions\u001b[0m\u001b[0;34m[\u001b[0m\u001b[0midx\u001b[0m\u001b[0;34m]\u001b[0m\u001b[0;34m,\u001b[0m \u001b[0mnum_repeats\u001b[0m\u001b[0;34m=\u001b[0m\u001b[0;36m2\u001b[0m\u001b[0;34m)\u001b[0m\u001b[0;34m\u001b[0m\u001b[0;34m\u001b[0m\u001b[0m\n",
      "\u001b[0;32m/opt/conda/lib/python3.9/site-packages/soynlp/normalizer/_normalizer.py\u001b[0m in \u001b[0;36mrepeat_normalize\u001b[0;34m(sent, num_repeats)\u001b[0m\n\u001b[1;32m     42\u001b[0m \u001b[0;32mdef\u001b[0m \u001b[0mrepeat_normalize\u001b[0m\u001b[0;34m(\u001b[0m\u001b[0msent\u001b[0m\u001b[0;34m,\u001b[0m \u001b[0mnum_repeats\u001b[0m\u001b[0;34m=\u001b[0m\u001b[0;36m2\u001b[0m\u001b[0;34m)\u001b[0m\u001b[0;34m:\u001b[0m\u001b[0;34m\u001b[0m\u001b[0;34m\u001b[0m\u001b[0m\n\u001b[1;32m     43\u001b[0m     \u001b[0;32mif\u001b[0m \u001b[0mnum_repeats\u001b[0m \u001b[0;34m>\u001b[0m \u001b[0;36m0\u001b[0m\u001b[0;34m:\u001b[0m\u001b[0;34m\u001b[0m\u001b[0;34m\u001b[0m\u001b[0m\n\u001b[0;32m---> 44\u001b[0;31m         \u001b[0msent\u001b[0m \u001b[0;34m=\u001b[0m \u001b[0mrepeatchars_pattern\u001b[0m\u001b[0;34m.\u001b[0m\u001b[0msub\u001b[0m\u001b[0;34m(\u001b[0m\u001b[0;34m'\\\\1'\u001b[0m \u001b[0;34m*\u001b[0m \u001b[0mnum_repeats\u001b[0m\u001b[0;34m,\u001b[0m \u001b[0msent\u001b[0m\u001b[0;34m)\u001b[0m\u001b[0;34m\u001b[0m\u001b[0;34m\u001b[0m\u001b[0m\n\u001b[0m\u001b[1;32m     45\u001b[0m     \u001b[0msent\u001b[0m \u001b[0;34m=\u001b[0m \u001b[0mdoublespace_pattern\u001b[0m\u001b[0;34m.\u001b[0m\u001b[0msub\u001b[0m\u001b[0;34m(\u001b[0m\u001b[0;34m' '\u001b[0m\u001b[0;34m,\u001b[0m \u001b[0msent\u001b[0m\u001b[0;34m)\u001b[0m\u001b[0;34m\u001b[0m\u001b[0;34m\u001b[0m\u001b[0m\n\u001b[1;32m     46\u001b[0m     \u001b[0;32mreturn\u001b[0m \u001b[0msent\u001b[0m\u001b[0;34m.\u001b[0m\u001b[0mstrip\u001b[0m\u001b[0;34m(\u001b[0m\u001b[0;34m)\u001b[0m\u001b[0;34m\u001b[0m\u001b[0;34m\u001b[0m\u001b[0m\n",
      "\u001b[0;31mTypeError\u001b[0m: cannot use a string pattern on a bytes-like object"
     ]
    }
   ],
   "source": [
    "from soynlp.normalizer import * \n",
    "# print(repeat_normalize('와하하하하하하하하하핫', num_repeats=2))\n",
    "\n",
    "for idx in range(len(questions)):\n",
    "    answers[idx] = repeat_normalize(answers[idx], num_repeats=2)\n",
    "    questions[idx] = repeat_normalize(questions[idx], num_repeats=2)"
   ]
  },
  {
   "cell_type": "code",
   "execution_count": null,
   "id": "beb32c3d",
   "metadata": {},
   "outputs": [],
   "source": []
  },
  {
   "cell_type": "code",
   "execution_count": null,
   "id": "732c9bd5",
   "metadata": {},
   "outputs": [],
   "source": []
  },
  {
   "cell_type": "code",
   "execution_count": null,
   "id": "38b2105c",
   "metadata": {},
   "outputs": [],
   "source": []
  },
  {
   "cell_type": "code",
   "execution_count": null,
   "id": "95f494be",
   "metadata": {},
   "outputs": [],
   "source": []
  },
  {
   "cell_type": "code",
   "execution_count": null,
   "id": "7aba7aef",
   "metadata": {},
   "outputs": [],
   "source": []
  },
  {
   "cell_type": "code",
   "execution_count": null,
   "id": "727b84d8",
   "metadata": {},
   "outputs": [],
   "source": []
  },
  {
   "cell_type": "code",
   "execution_count": null,
   "id": "cad4b21d",
   "metadata": {},
   "outputs": [],
   "source": []
  },
  {
   "cell_type": "code",
   "execution_count": null,
   "id": "3976bab2",
   "metadata": {},
   "outputs": [],
   "source": []
  },
  {
   "cell_type": "code",
   "execution_count": null,
   "id": "c467f923",
   "metadata": {},
   "outputs": [],
   "source": []
  },
  {
   "cell_type": "code",
   "execution_count": null,
   "id": "defdeb3f",
   "metadata": {},
   "outputs": [],
   "source": []
  },
  {
   "cell_type": "code",
   "execution_count": null,
   "id": "fbb45744",
   "metadata": {},
   "outputs": [],
   "source": []
  },
  {
   "cell_type": "code",
   "execution_count": null,
   "id": "6b354400",
   "metadata": {},
   "outputs": [],
   "source": []
  },
  {
   "cell_type": "code",
   "execution_count": null,
   "id": "f26bb8a8",
   "metadata": {},
   "outputs": [],
   "source": []
  }
 ],
 "metadata": {
  "kernelspec": {
   "display_name": "Python 3 (ipykernel)",
   "language": "python",
   "name": "python3"
  },
  "language_info": {
   "codemirror_mode": {
    "name": "ipython",
    "version": 3
   },
   "file_extension": ".py",
   "mimetype": "text/x-python",
   "name": "python",
   "nbconvert_exporter": "python",
   "pygments_lexer": "ipython3",
   "version": "3.9.7"
  }
 },
 "nbformat": 4,
 "nbformat_minor": 5
}
