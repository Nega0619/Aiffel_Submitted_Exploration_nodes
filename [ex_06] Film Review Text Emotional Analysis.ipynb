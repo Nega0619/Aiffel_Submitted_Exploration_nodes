{
 "cells": [
  {
   "cell_type": "markdown",
   "id": "134fbe98",
   "metadata": {},
   "source": [
    "# 인코딩 / 디코딩 함수\n"
   ]
  },
  {
   "cell_type": "code",
   "execution_count": 1,
   "id": "fa4cf0a8",
   "metadata": {},
   "outputs": [],
   "source": [
    "# 단, 모든 문장은 <BOS>로 시작하는 것으로 합니다. \n",
    "def get_encoded_sentence(sentence, word_to_index):\n",
    "    return [word_to_index['<BOS>']]+[word_to_index[word] if word in word_to_index else word_to_index['<UNK>'] for word in sentence.split()]\n",
    "\n",
    "def get_encoded_sentences(sentences, word_to_index):\n",
    "    return [get_encoded_sentence(sentence, word_to_index) for sentence in sentences]\n"
   ]
  },
  {
   "cell_type": "code",
   "execution_count": 2,
   "id": "e27c8eb7",
   "metadata": {},
   "outputs": [],
   "source": [
    "def get_decoded_sentence(encoded_sentence, index_to_word):\n",
    "    return ' '.join(index_to_word[index] if index in index_to_word else '<UNK>' for index in encoded_sentence[1:])  #[1:]를 통해 <BOS>를 제외\n",
    "\n",
    "def get_decoded_sentences(encoded_sentences, index_to_word):\n",
    "    return [get_decoded_sentence(encoded_sentence, index_to_word) for encoded_sentence in encoded_sentences]\n"
   ]
  },
  {
   "cell_type": "markdown",
   "id": "49c9aeb6",
   "metadata": {},
   "source": [
    "# 필요한 라이브러리 불러오기"
   ]
  },
  {
   "cell_type": "code",
   "execution_count": 3,
   "id": "b6734fe6",
   "metadata": {},
   "outputs": [
    {
     "name": "stdout",
     "output_type": "stream",
     "text": [
      "1.3.3\n",
      "0.5.2\n",
      "3.8.3\n"
     ]
    }
   ],
   "source": [
    "import pandas\n",
    "import konlpy\n",
    "import gensim\n",
    "\n",
    "print(pandas.__version__)\n",
    "print(konlpy.__version__)\n",
    "print(gensim.__version__)\n",
    "\n",
    "import numpy as np\n",
    "import tensorflow as tf\n",
    "import os"
   ]
  },
  {
   "cell_type": "markdown",
   "id": "e0927bfc",
   "metadata": {},
   "source": [
    "# 1. 데이터 준비와 확인"
   ]
  },
  {
   "cell_type": "code",
   "execution_count": 4,
   "id": "c08c8e78",
   "metadata": {},
   "outputs": [
    {
     "data": {
      "text/html": [
       "<div>\n",
       "<style scoped>\n",
       "    .dataframe tbody tr th:only-of-type {\n",
       "        vertical-align: middle;\n",
       "    }\n",
       "\n",
       "    .dataframe tbody tr th {\n",
       "        vertical-align: top;\n",
       "    }\n",
       "\n",
       "    .dataframe thead th {\n",
       "        text-align: right;\n",
       "    }\n",
       "</style>\n",
       "<table border=\"1\" class=\"dataframe\">\n",
       "  <thead>\n",
       "    <tr style=\"text-align: right;\">\n",
       "      <th></th>\n",
       "      <th>id</th>\n",
       "      <th>document</th>\n",
       "      <th>label</th>\n",
       "    </tr>\n",
       "  </thead>\n",
       "  <tbody>\n",
       "    <tr>\n",
       "      <th>0</th>\n",
       "      <td>9976970</td>\n",
       "      <td>아 더빙.. 진짜 짜증나네요 목소리</td>\n",
       "      <td>0</td>\n",
       "    </tr>\n",
       "    <tr>\n",
       "      <th>1</th>\n",
       "      <td>3819312</td>\n",
       "      <td>흠...포스터보고 초딩영화줄....오버연기조차 가볍지 않구나</td>\n",
       "      <td>1</td>\n",
       "    </tr>\n",
       "    <tr>\n",
       "      <th>2</th>\n",
       "      <td>10265843</td>\n",
       "      <td>너무재밓었다그래서보는것을추천한다</td>\n",
       "      <td>0</td>\n",
       "    </tr>\n",
       "    <tr>\n",
       "      <th>3</th>\n",
       "      <td>9045019</td>\n",
       "      <td>교도소 이야기구먼 ..솔직히 재미는 없다..평점 조정</td>\n",
       "      <td>0</td>\n",
       "    </tr>\n",
       "    <tr>\n",
       "      <th>4</th>\n",
       "      <td>6483659</td>\n",
       "      <td>사이몬페그의 익살스런 연기가 돋보였던 영화!스파이더맨에서 늙어보이기만 했던 커스틴 ...</td>\n",
       "      <td>1</td>\n",
       "    </tr>\n",
       "  </tbody>\n",
       "</table>\n",
       "</div>"
      ],
      "text/plain": [
       "         id                                           document  label\n",
       "0   9976970                                아 더빙.. 진짜 짜증나네요 목소리      0\n",
       "1   3819312                  흠...포스터보고 초딩영화줄....오버연기조차 가볍지 않구나      1\n",
       "2  10265843                                  너무재밓었다그래서보는것을추천한다      0\n",
       "3   9045019                      교도소 이야기구먼 ..솔직히 재미는 없다..평점 조정      0\n",
       "4   6483659  사이몬페그의 익살스런 연기가 돋보였던 영화!스파이더맨에서 늙어보이기만 했던 커스틴 ...      1"
      ]
     },
     "execution_count": 4,
     "metadata": {},
     "output_type": "execute_result"
    }
   ],
   "source": [
    "import pandas as pd\n",
    "\n",
    "# 데이터를 읽어봅시다. \n",
    "train_data = pd.read_table('~/aiffel/sentiment_classification/data/ratings_train.txt')\n",
    "test_data = pd.read_table('~/aiffel/sentiment_classification/data/ratings_test.txt')\n",
    "\n",
    "train_data.head()"
   ]
  },
  {
   "cell_type": "markdown",
   "id": "b7795d47",
   "metadata": {},
   "source": [
    "# 2. 데이터 로더 구성\n",
    "\n",
    "데이터 로더의 역할 :\n",
    "- 데이터의 중복 제거\n",
    "- NaN 결측치 제거\n",
    "- 한국어 토크나이저로 토큰화\n",
    "- 불용어(Stopwords) 제거\n",
    "- 사전word_to_index 구성\n",
    "- 텍스트 스트링을 사전 인덱스 스트링으로 변환\n",
    "- X_train, y_train, X_test, y_test, word_to_index 리턴\n",
    "\n"
   ]
  },
  {
   "cell_type": "code",
   "execution_count": 5,
   "id": "fdb5b6d9",
   "metadata": {},
   "outputs": [],
   "source": [
    "from konlpy.tag import Mecab\n",
    "import numpy as np\n",
    "from collections import Counter\n",
    "\n",
    "tokenizer = Mecab()\n",
    "stopwords = ['의','가','이','은','들','는','좀','잘','걍','과','도','를','으로','자','에','와','한','하다']\n",
    "\n",
    "def load_data(train_data, test_data, num_words=10000):\n",
    "    #     # 데이터의 중복제거\n",
    "    #     train_data = train_data.drop_duplicates()\n",
    "    #     test_data = test_data.drop_duplicates()\n",
    "    #     # 데이터의 NAN 결측치 제거\n",
    "    #     train_data = train_data.dropna()\n",
    "    #     test_data = test_data.dropna()\n",
    "    train_data.drop_duplicates(subset=['document'], inplace=True)\n",
    "    train_data = train_data.dropna(how = 'any') \n",
    "    test_data.drop_duplicates(subset=['document'], inplace=True)\n",
    "    test_data = test_data.dropna(how = 'any') \n",
    "    \n",
    "    # 토큰화\n",
    "    X_train = []\n",
    "    for sentence in train_data['document']:\n",
    "        temp_X = tokenizer.morphs(sentence)\n",
    "        # 불용어 제거\n",
    "        temp_X = [word for word in temp_X if not word in stopwords]\n",
    "        X_train.append(temp_X)\n",
    "\n",
    "    # 토큰화\n",
    "    X_test = []\n",
    "    for sentence in test_data['document']:\n",
    "        temp_X = tokenizer.morphs(sentence)\n",
    "        # 불용어 제거\n",
    "        temp_X = [word for word in temp_X if not word in stopwords]\n",
    "        X_test.append(temp_X)\n",
    "    \n",
    "    words = np.concatenate(X_train).tolist()\n",
    "    counter = Counter(words)\n",
    "    counter = counter.most_common(10000-4) # 1만개 단어사전인데, PAD, BOS, UNK, UNUSED가 추가된다.\n",
    "    \n",
    "    vocab = ['<PAD>', '<BOS>', '<UNK>', '<UNUSED>'] + [key for key, _ in counter] # PAD, BOS, UNK, UNUSED 추가\n",
    "    word_to_index = {word:index for index, word in enumerate(vocab)} # 5. 사전  word_to_index 구성\n",
    "        \n",
    "    \n",
    "    # 사전 word to index 구성\n",
    "    def wordlist_to_indexlist(wordlist):\n",
    "        # <BOS>의 인덱스를  문장 앞 추가\n",
    "        # 단어사전에 있으면 index 변환, 없으면(else) '<UNK>' 의 인덱스로 된 리스트를 반환.\n",
    "        return [word_to_index['<BOS>']]+[word_to_index[word] if word in word_to_index else word_to_index['<UNK>'] for word in wordlist]\n",
    "    \n",
    "    # 6. 텍스트 스트링을 사전 인덱스 스트링을 변환            \n",
    "    X_train = list(map(wordlist_to_indexlist, X_train))\n",
    "    X_test = list(map(wordlist_to_indexlist, X_test))\n",
    "        \n",
    "    return X_train, np.array(list(train_data['label'])), X_test, np.array(list(test_data['label'])), word_to_index\n",
    "    \n",
    "X_train, y_train, X_test, y_test, word_to_index = load_data(train_data, test_data) "
   ]
  },
  {
   "cell_type": "markdown",
   "id": "fa84f6e7",
   "metadata": {},
   "source": [
    "### 코드분석\n",
    "\n",
    "- collections 의 counter\n",
    "기본 자료구조인 사전(dictionary)를 확장\n",
    "데이터의 갯수를 세어주는 코드\n",
    "\n",
    "- counter.most_common()\n",
    "데이터가 많은 순으로 정렬된 배열을 리턴합니다."
   ]
  },
  {
   "cell_type": "code",
   "execution_count": 6,
   "id": "74bb1c59",
   "metadata": {
    "scrolled": true
   },
   "outputs": [
    {
     "data": {
      "text/plain": [
       "{0: '<PAD>',\n",
       " 1: '<BOS>',\n",
       " 2: '<UNK>',\n",
       " 3: '<UNUSED>',\n",
       " 4: '.',\n",
       " 5: '영화',\n",
       " 6: '다',\n",
       " 7: '고',\n",
       " 8: '하',\n",
       " 9: '을',\n",
       " 10: '보',\n",
       " 11: '..',\n",
       " 12: '게',\n",
       " 13: ',',\n",
       " 14: '!',\n",
       " 15: '지',\n",
       " 16: '있',\n",
       " 17: '없',\n",
       " 18: '?',\n",
       " 19: '좋',\n",
       " 20: '나',\n",
       " 21: '었',\n",
       " 22: '만',\n",
       " 23: '는데',\n",
       " 24: '너무',\n",
       " 25: '봤',\n",
       " 26: '적',\n",
       " 27: '안',\n",
       " 28: '정말',\n",
       " 29: '로',\n",
       " 30: '음',\n",
       " 31: '것',\n",
       " 32: '아',\n",
       " 33: '네요',\n",
       " 34: '재밌',\n",
       " 35: '어',\n",
       " 36: '같',\n",
       " 37: '점',\n",
       " 38: '지만',\n",
       " 39: '진짜',\n",
       " 40: '했',\n",
       " 41: '에서',\n",
       " 42: '기',\n",
       " 43: '네',\n",
       " 44: '않',\n",
       " 45: '거',\n",
       " 46: '았',\n",
       " 47: '수',\n",
       " 48: '되',\n",
       " 49: '면',\n",
       " 50: 'ㅋㅋ',\n",
       " 51: '말',\n",
       " 52: '연기',\n",
       " 53: '인',\n",
       " 54: '주',\n",
       " 55: '내',\n",
       " 56: '최고',\n",
       " 57: '~',\n",
       " 58: '평점',\n",
       " 59: '이런',\n",
       " 60: '던',\n",
       " 61: '어요',\n",
       " 62: '할',\n",
       " 63: '왜',\n",
       " 64: '겠',\n",
       " 65: '1',\n",
       " 66: '스토리',\n",
       " 67: '해',\n",
       " 68: '습니다',\n",
       " 69: 'ㅋㅋㅋ',\n",
       " 70: '...',\n",
       " 71: '드라마',\n",
       " 72: '생각',\n",
       " 73: '아니',\n",
       " 74: '더',\n",
       " 75: '그',\n",
       " 76: '싶',\n",
       " 77: '사람',\n",
       " 78: '듯',\n",
       " 79: '때',\n",
       " 80: '감동',\n",
       " 81: '함',\n",
       " 82: '배우',\n",
       " 83: '본',\n",
       " 84: '까지',\n",
       " 85: '뭐',\n",
       " 86: '알',\n",
       " 87: '만들',\n",
       " 88: '내용',\n",
       " 89: '볼',\n",
       " 90: '감독',\n",
       " 91: '보다',\n",
       " 92: '라',\n",
       " 93: '그냥',\n",
       " 94: '재미',\n",
       " 95: '시간',\n",
       " 96: '지루',\n",
       " 97: '중',\n",
       " 98: '재미있',\n",
       " 99: '년',\n",
       " 100: '10',\n",
       " 101: '였',\n",
       " 102: '잼',\n",
       " 103: '사랑',\n",
       " 104: '못',\n",
       " 105: '냐',\n",
       " 106: '재미없',\n",
       " 107: '쓰레기',\n",
       " 108: '서',\n",
       " 109: '2',\n",
       " 110: '라고',\n",
       " 111: '야',\n",
       " 112: '니',\n",
       " 113: '면서',\n",
       " 114: '번',\n",
       " 115: '다시',\n",
       " 116: '나오',\n",
       " 117: '작품',\n",
       " 118: '이거',\n",
       " 119: '하나',\n",
       " 120: '줄',\n",
       " 121: '해서',\n",
       " 122: '개',\n",
       " 123: '남',\n",
       " 124: '정도',\n",
       " 125: '마지막',\n",
       " 126: '끝',\n",
       " 127: '이건',\n",
       " 128: '액션',\n",
       " 129: '임',\n",
       " 130: 'ㅋ',\n",
       " 131: '3',\n",
       " 132: '기대',\n",
       " 133: '입니다',\n",
       " 134: '건',\n",
       " 135: '라는',\n",
       " 136: '분',\n",
       " 137: '완전',\n",
       " 138: '다는',\n",
       " 139: '참',\n",
       " 140: '많',\n",
       " 141: '처음',\n",
       " 142: '장면',\n",
       " 143: '대',\n",
       " 144: '아깝',\n",
       " 145: '다가',\n",
       " 146: '으면',\n",
       " 147: '지금',\n",
       " 148: '모르',\n",
       " 149: '이렇게',\n",
       " 150: \"'\",\n",
       " 151: '편',\n",
       " 152: '일',\n",
       " 153: '돈',\n",
       " 154: '이게',\n",
       " 155: '성',\n",
       " 156: '느낌',\n",
       " 157: '시',\n",
       " 158: '이야기',\n",
       " 159: '최악',\n",
       " 160: '된',\n",
       " 161: '봐도',\n",
       " 162: '님',\n",
       " 163: '어서',\n",
       " 164: '애',\n",
       " 165: '전',\n",
       " 166: '넘',\n",
       " 167: 'ㅠㅠ',\n",
       " 168: '인데',\n",
       " 169: '다고',\n",
       " 170: '이해',\n",
       " 171: '별로',\n",
       " 172: '그리고',\n",
       " 173: '명작',\n",
       " 174: '여자',\n",
       " 175: '^^',\n",
       " 176: '역시',\n",
       " 177: '난',\n",
       " 178: '이상',\n",
       " 179: '또',\n",
       " 180: '걸',\n",
       " 181: '한국',\n",
       " 182: '는지',\n",
       " 183: '많이',\n",
       " 184: '에게',\n",
       " 185: '부터',\n",
       " 186: '만든',\n",
       " 187: '주인공',\n",
       " 188: '받',\n",
       " 189: '합니다',\n",
       " 190: '우리',\n",
       " 191: '두',\n",
       " 192: '살',\n",
       " 193: '!!',\n",
       " 194: '길',\n",
       " 195: '엔',\n",
       " 196: '괜찮',\n",
       " 197: '기억',\n",
       " 198: '연출',\n",
       " 199: '한다',\n",
       " 200: '때문',\n",
       " 201: '이나',\n",
       " 202: 'ㅎㅎ',\n",
       " 203: '요',\n",
       " 204: '저',\n",
       " 205: '재',\n",
       " 206: '꼭',\n",
       " 207: '랑',\n",
       " 208: '며',\n",
       " 209: '현실',\n",
       " 210: '긴',\n",
       " 211: 'ㅡㅡ',\n",
       " 212: '무슨',\n",
       " 213: '내내',\n",
       " 214: '결말',\n",
       " 215: '죽',\n",
       " 216: '남자',\n",
       " 217: '세요',\n",
       " 218: '전개',\n",
       " 219: '마음',\n",
       " 220: '소재',\n",
       " 221: '속',\n",
       " 222: '공포',\n",
       " 223: '아서',\n",
       " 224: '다른',\n",
       " 225: '씨',\n",
       " 226: '인생',\n",
       " 227: '~~',\n",
       " 228: '짜증',\n",
       " 229: '짱',\n",
       " 230: '뿐',\n",
       " 231: '은데',\n",
       " 232: '별',\n",
       " 233: '아요',\n",
       " 234: '유치',\n",
       " 235: '가장',\n",
       " 236: '필요',\n",
       " 237: '음악',\n",
       " 238: ')',\n",
       " 239: '일본',\n",
       " 240: '낮',\n",
       " 241: '아이',\n",
       " 242: ';;',\n",
       " 243: '오',\n",
       " 244: '반전',\n",
       " 245: '수준',\n",
       " 246: '다니',\n",
       " 247: '웃',\n",
       " 248: '매력',\n",
       " 249: '맞',\n",
       " 250: '인지',\n",
       " 251: '가슴',\n",
       " 252: '없이',\n",
       " 253: '원작',\n",
       " 254: 'ㄷ',\n",
       " 255: '인간',\n",
       " 256: '데',\n",
       " 257: '굿',\n",
       " 258: 'ㅠ',\n",
       " 259: '높',\n",
       " 260: '밋',\n",
       " 261: '(',\n",
       " 262: '만드',\n",
       " 263: '급',\n",
       " 264: '눈물',\n",
       " 265: '보여',\n",
       " 266: '준',\n",
       " 267: '찍',\n",
       " 268: '인가',\n",
       " 269: '노',\n",
       " 270: '을까',\n",
       " 271: '용',\n",
       " 272: '코미디',\n",
       " 273: '마',\n",
       " 274: '화',\n",
       " 275: '신',\n",
       " 276: '모든',\n",
       " 277: '쓰',\n",
       " 278: '여',\n",
       " 279: '5',\n",
       " 280: '아직',\n",
       " 281: '추천',\n",
       " 282: '처럼',\n",
       " 283: '눈',\n",
       " 284: '아닌',\n",
       " 285: '자체',\n",
       " 286: '울',\n",
       " 287: '몰입',\n",
       " 288: '4',\n",
       " 289: '대박',\n",
       " 290: '몇',\n",
       " 291: '스럽',\n",
       " 292: '실망',\n",
       " 293: '는다',\n",
       " 294: '대한',\n",
       " 295: '죠',\n",
       " 296: '란',\n",
       " 297: '그런',\n",
       " 298: '솔직히',\n",
       " 299: '캐릭터',\n",
       " 300: 'ㅎ',\n",
       " 301: '모두',\n",
       " 302: '아주',\n",
       " 303: '-',\n",
       " 304: '가족',\n",
       " 305: '여운',\n",
       " 306: '건지',\n",
       " 307: '전혀',\n",
       " 308: '연기력',\n",
       " 309: '나라',\n",
       " 310: '후',\n",
       " 311: '될',\n",
       " 312: '다면',\n",
       " 313: '뭔가',\n",
       " 314: '그래도',\n",
       " 315: ';',\n",
       " 316: '시리즈',\n",
       " 317: '근데',\n",
       " 318: '작',\n",
       " 319: '표현',\n",
       " 320: '모습',\n",
       " 321: '공감',\n",
       " 322: '계속',\n",
       " 323: '먹',\n",
       " 324: '\"\"',\n",
       " 325: '제목',\n",
       " 326: '7',\n",
       " 327: '이랑',\n",
       " 328: '극장',\n",
       " 329: '치',\n",
       " 330: '비',\n",
       " 331: '이걸',\n",
       " 332: '진',\n",
       " 333: '바',\n",
       " 334: '대사',\n",
       " 335: '부분',\n",
       " 336: '그렇',\n",
       " 337: '개봉',\n",
       " 338: '0',\n",
       " 339: 'OO',\n",
       " 340: '대단',\n",
       " 341: '어디',\n",
       " 342: '작가',\n",
       " 343: '된다',\n",
       " 344: '아쉽',\n",
       " 345: '기분',\n",
       " 346: '제',\n",
       " 347: '진심',\n",
       " 348: '타임',\n",
       " 349: '/',\n",
       " 350: '웃기',\n",
       " 351: '보이',\n",
       " 352: '놓',\n",
       " 353: '해도',\n",
       " 354: '이제',\n",
       " 355: '물',\n",
       " 356: '봐야',\n",
       " 357: '막장',\n",
       " 358: '삶',\n",
       " 359: '친구',\n",
       " 360: '잔잔',\n",
       " 361: '조금',\n",
       " 362: '씬',\n",
       " 363: '딱',\n",
       " 364: '영상',\n",
       " 365: '억지',\n",
       " 366: '찾',\n",
       " 367: '요즘',\n",
       " 368: '같이',\n",
       " 369: '중간',\n",
       " 370: '\"',\n",
       " 371: '구',\n",
       " 372: '라도',\n",
       " 373: '스릴러',\n",
       " 374: '가지',\n",
       " 375: '8',\n",
       " 376: '믿',\n",
       " 377: '싫',\n",
       " 378: '....',\n",
       " 379: '나왔',\n",
       " 380: '아까운',\n",
       " 381: '긴장감',\n",
       " 382: '점수',\n",
       " 383: '개인',\n",
       " 384: '제대로',\n",
       " 385: '부족',\n",
       " 386: '이유',\n",
       " 387: '노래',\n",
       " 388: '만큼',\n",
       " 389: '라면',\n",
       " 390: '시작',\n",
       " 391: '구나',\n",
       " 392: '잇',\n",
       " 393: '특히',\n",
       " 394: '한테',\n",
       " 395: '날',\n",
       " 396: '려고',\n",
       " 397: '제일',\n",
       " 398: '아름다운',\n",
       " 399: '시대',\n",
       " 400: 'ㅜㅜ',\n",
       " 401: '어떻게',\n",
       " 402: '엔딩',\n",
       " 403: '당시',\n",
       " 404: '하지만',\n",
       " 405: '나름',\n",
       " 406: '봐',\n",
       " 407: '무섭',\n",
       " 408: '나온',\n",
       " 409: '명',\n",
       " 410: '사',\n",
       " 411: '니까',\n",
       " 412: '오랜만',\n",
       " 413: '이것',\n",
       " 414: '해요',\n",
       " 415: '9',\n",
       " 416: '팬',\n",
       " 417: '차라리',\n",
       " 418: '절대',\n",
       " 419: '세상',\n",
       " 420: '세',\n",
       " 421: '못하',\n",
       " 422: '의미',\n",
       " 423: '던데',\n",
       " 424: '봄',\n",
       " 425: '욕',\n",
       " 426: '훌륭',\n",
       " 427: '너무나',\n",
       " 428: '강추',\n",
       " 429: '감',\n",
       " 430: '됨',\n",
       " 431: 'ㅡ',\n",
       " 432: '따뜻',\n",
       " 433: '빼',\n",
       " 434: '느끼',\n",
       " 435: '해야',\n",
       " 436: '드',\n",
       " 437: '도대체',\n",
       " 438: '어야',\n",
       " 439: '답답',\n",
       " 440: '마다',\n",
       " 441: '준다',\n",
       " 442: '글',\n",
       " 443: '전쟁',\n",
       " 444: '놈',\n",
       " 445: '설정',\n",
       " 446: '무엇',\n",
       " 447: '수작',\n",
       " 448: '만화',\n",
       " 449: '흥미',\n",
       " 450: '그저',\n",
       " 451: '감정',\n",
       " 452: '미국',\n",
       " 453: '신선',\n",
       " 454: '행복',\n",
       " 455: '뻔',\n",
       " 456: '형',\n",
       " 457: '앞',\n",
       " 458: '허접',\n",
       " 459: '어도',\n",
       " 460: '군',\n",
       " 461: '시절',\n",
       " 462: '관객',\n",
       " 463: '배경',\n",
       " 464: '6',\n",
       " 465: '초반',\n",
       " 466: '사실',\n",
       " 467: '웃음',\n",
       " 468: '답',\n",
       " 469: '엄청',\n",
       " 470: '더라',\n",
       " 471: '라니',\n",
       " 472: '질',\n",
       " 473: '자신',\n",
       " 474: '추억',\n",
       " 475: '캐스팅',\n",
       " 476: '첨',\n",
       " 477: '멋있',\n",
       " 478: '류',\n",
       " 479: '어색',\n",
       " 480: '시나리오',\n",
       " 481: '머',\n",
       " 482: '밖에',\n",
       " 483: 'OOO',\n",
       " 484: '슬프',\n",
       " 485: '정신',\n",
       " 486: '분위기',\n",
       " 487: '소름',\n",
       " 488: '멋진',\n",
       " 489: '힘들',\n",
       " 490: '오늘',\n",
       " 491: '어이없',\n",
       " 492: '봐서',\n",
       " 493: '잡',\n",
       " 494: '구성',\n",
       " 495: '엄마',\n",
       " 496: '함께',\n",
       " 497: '문제',\n",
       " 498: '위해',\n",
       " 499: '졸작',\n",
       " 500: '잊',\n",
       " 501: '이딴',\n",
       " 502: '등',\n",
       " 503: '집',\n",
       " 504: '유쾌',\n",
       " 505: '뻔한',\n",
       " 506: '킬링',\n",
       " 507: '스러운',\n",
       " 508: '결국',\n",
       " 509: '낫',\n",
       " 510: '한데',\n",
       " 511: '나요',\n",
       " 512: '뭘',\n",
       " 513: '소리',\n",
       " 514: '간',\n",
       " 515: '20',\n",
       " 516: '역사',\n",
       " 517: '뭔',\n",
       " 518: '제발',\n",
       " 519: '포스터',\n",
       " 520: '아무리',\n",
       " 521: '코믹',\n",
       " 522: '어떤',\n",
       " 523: '완벽',\n",
       " 524: '~~~',\n",
       " 525: '맘',\n",
       " 526: '얼마나',\n",
       " 527: '애니메이션',\n",
       " 528: '!!!',\n",
       " 529: '러',\n",
       " 530: '주연',\n",
       " 531: '원',\n",
       " 532: '난다',\n",
       " 533: '버리',\n",
       " 534: '어릴',\n",
       " 535: '♥',\n",
       " 536: '후회',\n",
       " 537: '진부',\n",
       " 538: '나올',\n",
       " 539: '됐',\n",
       " 540: '보단',\n",
       " 541: '책',\n",
       " 542: '장난',\n",
       " 543: '더니',\n",
       " 544: '영화관',\n",
       " 545: '큰',\n",
       " 546: '개연',\n",
       " 547: '둘',\n",
       " 548: '출연',\n",
       " 549: '보고',\n",
       " 550: '극',\n",
       " 551: 'ㅅ',\n",
       " 552: '밖',\n",
       " 553: '충격',\n",
       " 554: '여기',\n",
       " 555: '엇',\n",
       " 556: '잔인',\n",
       " 557: '아름답',\n",
       " 558: '얘기',\n",
       " 559: '줬',\n",
       " 560: '평가',\n",
       " 561: '꺼',\n",
       " 562: '예술',\n",
       " 563: '갈수록',\n",
       " 564: '매우',\n",
       " 565: '든',\n",
       " 566: '자기',\n",
       " 567: '위한',\n",
       " 568: '이리',\n",
       " 569: '봐라',\n",
       " 570: '이후',\n",
       " 571: '읽',\n",
       " 572: '반',\n",
       " 573: '얼굴',\n",
       " 574: '꽤',\n",
       " 575: '티비',\n",
       " 576: '이쁘',\n",
       " 577: '으나',\n",
       " 578: '별점',\n",
       " 579: '깊',\n",
       " 580: '옛날',\n",
       " 581: '불쌍',\n",
       " 582: '못한',\n",
       " 583: '겟',\n",
       " 584: '불',\n",
       " 585: '시청',\n",
       " 586: '순수',\n",
       " 587: '라서',\n",
       " 588: '낭비',\n",
       " 589: '언제',\n",
       " 590: '건가',\n",
       " 591: '비디오',\n",
       " 592: '애니',\n",
       " 593: '머리',\n",
       " 594: '장르',\n",
       " 595: '생각나',\n",
       " 596: '텐데',\n",
       " 597: '+',\n",
       " 598: '미',\n",
       " 599: '배',\n",
       " 600: '그래서',\n",
       " 601: ':',\n",
       " 602: '다운',\n",
       " 603: '주제',\n",
       " 604: '다큐',\n",
       " 605: '다음',\n",
       " 606: '궁금',\n",
       " 607: '아님',\n",
       " 608: '시키',\n",
       " 609: '누구',\n",
       " 610: '예전',\n",
       " 611: '그렇게',\n",
       " 612: '크',\n",
       " 613: '동안',\n",
       " 614: '뒤',\n",
       " 615: '그만',\n",
       " 616: '인상',\n",
       " 617: '상황',\n",
       " 618: '??',\n",
       " 619: '이름',\n",
       " 620: '미친',\n",
       " 621: '스릴',\n",
       " 622: '감사',\n",
       " 623: '시즌',\n",
       " 624: '아무',\n",
       " 625: '너',\n",
       " 626: '오래',\n",
       " 627: 'B',\n",
       " 628: '집중',\n",
       " 629: '힘',\n",
       " 630: '어느',\n",
       " 631: '본다',\n",
       " 632: '그러',\n",
       " 633: '로맨스',\n",
       " 634: '약간',\n",
       " 635: '나와서',\n",
       " 636: '진정',\n",
       " 637: '식',\n",
       " 638: '방송',\n",
       " 639: '그나마',\n",
       " 640: '까',\n",
       " 641: '짜리',\n",
       " 642: '마세요',\n",
       " 643: '소설',\n",
       " 644: '여주인공',\n",
       " 645: '몰',\n",
       " 646: '걸작',\n",
       " 647: '존나',\n",
       " 648: '그대로',\n",
       " 649: '죽이',\n",
       " 650: '인물',\n",
       " 651: '났',\n",
       " 652: '그것',\n",
       " 653: '회',\n",
       " 654: '떨어지',\n",
       " 655: '평',\n",
       " 656: '케',\n",
       " 657: '왔',\n",
       " 658: '에요',\n",
       " 659: '실화',\n",
       " 660: '꿈',\n",
       " 661: '대체',\n",
       " 662: '해라',\n",
       " 663: '훨씬',\n",
       " 664: '짓',\n",
       " 665: '무',\n",
       " 666: '사회',\n",
       " 667: '만점',\n",
       " 668: '발연기',\n",
       " 669: '구만',\n",
       " 670: '~!',\n",
       " 671: '전체',\n",
       " 672: 'ㅜ',\n",
       " 673: '비슷',\n",
       " 674: '누가',\n",
       " 675: '막',\n",
       " 676: '30',\n",
       " 677: '햇',\n",
       " 678: '끝나',\n",
       " 679: 'CG',\n",
       " 680: '엉성',\n",
       " 681: '귀엽',\n",
       " 682: '여주',\n",
       " 683: '단',\n",
       " 684: '영상미',\n",
       " 685: '중국',\n",
       " 686: '비교',\n",
       " 687: '초딩',\n",
       " 688: '감성',\n",
       " 689: '네이버',\n",
       " 690: '세계',\n",
       " 691: '여배우',\n",
       " 692: '는가',\n",
       " 693: 'ㅎㅎㅎ',\n",
       " 694: '순간',\n",
       " 695: '망',\n",
       " 696: '느껴',\n",
       " 697: '려는',\n",
       " 698: '나이',\n",
       " 699: ';;;',\n",
       " 700: '대해',\n",
       " 701: '상',\n",
       " 702: '첫',\n",
       " 703: '어렸',\n",
       " 704: '쯤',\n",
       " 705: '판',\n",
       " 706: '입',\n",
       " 707: '꿀',\n",
       " 708: '갔',\n",
       " 709: '어설픈',\n",
       " 710: '돋',\n",
       " 711: '셨',\n",
       " 712: '학교',\n",
       " 713: '더럽',\n",
       " 714: '타',\n",
       " 715: '생',\n",
       " 716: '100',\n",
       " 717: '혼자',\n",
       " 718: '아들',\n",
       " 719: '느낄',\n",
       " 720: '성룡',\n",
       " 721: '아야',\n",
       " 722: '가능',\n",
       " 723: '졸',\n",
       " 724: '어린',\n",
       " 725: '교훈',\n",
       " 726: '멋지',\n",
       " 727: '바로',\n",
       " 728: '나가',\n",
       " 729: '잘못',\n",
       " 730: '맛',\n",
       " 731: '.....',\n",
       " 732: '한마디',\n",
       " 733: '존',\n",
       " 734: '딸',\n",
       " 735: '당신',\n",
       " 736: '화려',\n",
       " 737: '길래',\n",
       " 738: '끌',\n",
       " 739: '티',\n",
       " 740: '판타지',\n",
       " 741: '삼류',\n",
       " 742: '잠',\n",
       " 743: '땜',\n",
       " 744: '든다',\n",
       " 745: '달',\n",
       " 746: '빨리',\n",
       " 747: '맨',\n",
       " 748: '목소리',\n",
       " 749: '똥',\n",
       " 750: '아까움',\n",
       " 751: '영',\n",
       " 752: '당',\n",
       " 753: '거의',\n",
       " 754: '듣',\n",
       " 755: '봤었',\n",
       " 756: '나온다',\n",
       " 757: '전부',\n",
       " 758: '차',\n",
       " 759: '독특',\n",
       " 760: '건데',\n",
       " 761: '다르',\n",
       " 762: '초',\n",
       " 763: 'ㅉㅉ',\n",
       " 764: '어른',\n",
       " 765: '가치',\n",
       " 766: '위',\n",
       " 767: '률',\n",
       " 768: '상당히',\n",
       " 769: '씩',\n",
       " 770: '90',\n",
       " 771: '다만',\n",
       " 772: '질질',\n",
       " 773: '아버지',\n",
       " 774: '넣',\n",
       " 775: '평론가',\n",
       " 776: '줄거리',\n",
       " 777: '한번',\n",
       " 778: '이번',\n",
       " 779: '갑자기',\n",
       " 780: '스타일',\n",
       " 781: '이러',\n",
       " 782: '그러나',\n",
       " 783: '여러',\n",
       " 784: '군요',\n",
       " 785: 'ㅂ',\n",
       " 786: '의도',\n",
       " 787: '저런',\n",
       " 788: '존재',\n",
       " 789: '허무',\n",
       " 790: '밑',\n",
       " 791: '%',\n",
       " 792: '부',\n",
       " 793: '대로',\n",
       " 794: '에선',\n",
       " 795: '째',\n",
       " 796: '각본',\n",
       " 797: '예상',\n",
       " 798: '성우',\n",
       " 799: '으면서',\n",
       " 800: '그녀',\n",
       " 801: '버린',\n",
       " 802: '화면',\n",
       " 803: '너무너무',\n",
       " 804: 'ㄱ',\n",
       " 805: '떠나',\n",
       " 806: '예쁘',\n",
       " 807: '비해',\n",
       " 808: '자연',\n",
       " 809: '담',\n",
       " 810: '그런지',\n",
       " 811: '뻔하',\n",
       " 812: '평범',\n",
       " 813: '굉장히',\n",
       " 814: '만나',\n",
       " 815: '슬픈',\n",
       " 816: '돼',\n",
       " 817: '못했',\n",
       " 818: '지루함',\n",
       " 819: '복수',\n",
       " 820: '관람',\n",
       " 821: '스',\n",
       " 822: '단순',\n",
       " 823: '댓글',\n",
       " 824: '중요',\n",
       " 825: '낸',\n",
       " 826: '새로운',\n",
       " 827: '피',\n",
       " 828: '앗',\n",
       " 829: '극장판',\n",
       " 830: '줌',\n",
       " 831: '갖',\n",
       " 832: '굳',\n",
       " 833: '제작',\n",
       " 834: '버렸',\n",
       " 835: '일단',\n",
       " 836: '만족',\n",
       " 837: '쉽',\n",
       " 838: '선택',\n",
       " 839: '아빠',\n",
       " 840: '쓴',\n",
       " 841: 'TV',\n",
       " 842: '요소',\n",
       " 843: '한편',\n",
       " 844: '불편',\n",
       " 845: '항상',\n",
       " 846: '거기',\n",
       " 847: '연출력',\n",
       " 848: '그때',\n",
       " 849: '롭',\n",
       " 850: '에로',\n",
       " 851: '산',\n",
       " 852: '탄탄',\n",
       " 853: '잃',\n",
       " 854: '한다는',\n",
       " 855: '발',\n",
       " 856: '나옴',\n",
       " 857: '예요',\n",
       " 858: '한심',\n",
       " 859: '흥행',\n",
       " 860: '물론',\n",
       " 861: '려',\n",
       " 862: '지나',\n",
       " 863: '따라',\n",
       " 864: '진행',\n",
       " 865: '점점',\n",
       " 866: '관계',\n",
       " 867: '전형',\n",
       " 868: '역대',\n",
       " 869: '편집',\n",
       " 870: '조',\n",
       " 871: '거나',\n",
       " 872: '아까워',\n",
       " 873: '법',\n",
       " 874: '던가',\n",
       " 875: '총',\n",
       " 876: '짧',\n",
       " 877: '이하',\n",
       " 878: '충분히',\n",
       " 879: '따',\n",
       " 880: '안타깝',\n",
       " 881: '에겐',\n",
       " 882: '아닌가',\n",
       " 883: '식상',\n",
       " 884: '몰랐',\n",
       " 885: '자꾸',\n",
       " 886: '훈훈',\n",
       " 887: '80',\n",
       " 888: '미안',\n",
       " 889: '김',\n",
       " 890: '화이팅',\n",
       " 891: '도록',\n",
       " 892: '게임',\n",
       " 893: '-_-',\n",
       " 894: '멜',\n",
       " 895: '원래',\n",
       " 896: '곳',\n",
       " 897: '그게',\n",
       " 898: '자극',\n",
       " 899: '몸',\n",
       " 900: '삼',\n",
       " 901: '손',\n",
       " 902: '장',\n",
       " 903: '구요',\n",
       " 904: '~!!',\n",
       " 905: '어쩔',\n",
       " 906: '팔',\n",
       " 907: '똑같',\n",
       " 908: '간다',\n",
       " 909: '나쁜',\n",
       " 910: '뭔지',\n",
       " 911: '사건',\n",
       " 912: '풀',\n",
       " 913: '설명',\n",
       " 914: '어울리',\n",
       " 915: '짜',\n",
       " 916: '귀신',\n",
       " 917: '잖아',\n",
       " 918: '과거',\n",
       " 919: '빙',\n",
       " 920: '노력',\n",
       " 921: '짐',\n",
       " 922: '그래픽',\n",
       " 923: '도저히',\n",
       " 924: '황당',\n",
       " 925: '조차',\n",
       " 926: '닿',\n",
       " 927: '됬',\n",
       " 928: '아프',\n",
       " 929: '중반',\n",
       " 930: '개그',\n",
       " 931: '듬',\n",
       " 932: '프랑스',\n",
       " 933: '코메디',\n",
       " 934: '홍콩',\n",
       " 935: '취향',\n",
       " 936: '빠져',\n",
       " 937: '죽음',\n",
       " 938: '했었',\n",
       " 939: '미치',\n",
       " 940: '역',\n",
       " 941: '속편',\n",
       " 942: '무조건',\n",
       " 943: '소중',\n",
       " 944: '프로',\n",
       " 945: '빠',\n",
       " 946: '무비',\n",
       " 947: '참신',\n",
       " 948: '이란',\n",
       " 949: '쳐',\n",
       " 950: '나쁘',\n",
       " 951: '멋',\n",
       " 952: '좋아하',\n",
       " 953: '아쉬운',\n",
       " 954: '더욱',\n",
       " 955: '넘치',\n",
       " 956: '병맛',\n",
       " 957: '괜히',\n",
       " 958: '진지',\n",
       " 959: '빠지',\n",
       " 960: '척',\n",
       " 961: '특유',\n",
       " 962: '또한',\n",
       " 963: '상상',\n",
       " 964: '숨',\n",
       " 965: '상영',\n",
       " 966: '결혼',\n",
       " 967: '리',\n",
       " 968: '짱짱',\n",
       " 969: '유명',\n",
       " 970: 'ost',\n",
       " 971: '심리',\n",
       " 972: '전설',\n",
       " 973: '무서운',\n",
       " 974: '헐',\n",
       " 975: '엄청난',\n",
       " 976: '오히려',\n",
       " 977: '인듯',\n",
       " 978: '비추',\n",
       " 979: '예고편',\n",
       " 980: '후반부',\n",
       " 981: '틀',\n",
       " 982: '더빙',\n",
       " 983: '아저씨',\n",
       " 984: '으니',\n",
       " 985: '고자',\n",
       " 986: '심하',\n",
       " 987: '바보',\n",
       " 988: '왕',\n",
       " 989: '연기자',\n",
       " 990: '촬영',\n",
       " 991: '그리',\n",
       " 992: '소녀',\n",
       " 993: '느꼈',\n",
       " 994: '끝내',\n",
       " 995: '로맨틱',\n",
       " 996: '조연',\n",
       " 997: '천재',\n",
       " 998: '아도',\n",
       " 999: '쩔',\n",
       " ...}"
      ]
     },
     "execution_count": 6,
     "metadata": {},
     "output_type": "execute_result"
    }
   ],
   "source": [
    "index_to_word = {index:word for word, index in word_to_index.items()}\n",
    "\n",
    "index_to_word"
   ]
  },
  {
   "cell_type": "code",
   "execution_count": 7,
   "id": "7bc4a0bf",
   "metadata": {},
   "outputs": [
    {
     "name": "stdout",
     "output_type": "stream",
     "text": [
      "아 더 빙 . . 진짜 짜증 나 네요 목소리\n",
      "라벨:  0\n"
     ]
    }
   ],
   "source": [
    "print(get_decoded_sentence(X_train[0], index_to_word))\n",
    "print('라벨: ', y_train[0])  # 1번째 리뷰데이터의 라벨"
   ]
  },
  {
   "cell_type": "markdown",
   "id": "8adffc93",
   "metadata": {},
   "source": [
    "# 3. 모델 구성을 위한 데이터 분석 및 가공\n",
    "- 데이터셋 내 문장 길이 분포 확인\n",
    "- 적절한 최대 문장 길이 지정\n",
    "- keras.preprocessing.sequence.pad_sequences 활용해서 패딩 추가"
   ]
  },
  {
   "cell_type": "code",
   "execution_count": 8,
   "id": "0f6385de",
   "metadata": {},
   "outputs": [],
   "source": [
    "total_data = X_train + X_test\n",
    "\n",
    "total_data_len = list(map(len, total_data))\n"
   ]
  },
  {
   "cell_type": "code",
   "execution_count": 9,
   "id": "73f7051b",
   "metadata": {},
   "outputs": [
    {
     "name": "stdout",
     "output_type": "stream",
     "text": [
      "---total_data---\n",
      "문장 길이 평균 :  16.96940191154864\n",
      "문장 길이 분산 :  12.843571191092\n",
      "문장 길이 최대 :  117\n",
      "문장 길이 최소 :  1\n"
     ]
    }
   ],
   "source": [
    "print('---total_data---')\n",
    "print('문장 길이 평균 : ', np.mean(total_data_len))\n",
    "print('문장 길이 분산 : ', np.std(total_data_len))\n",
    "print('문장 길이 최대 : ', np.max(total_data_len))\n",
    "print('문장 길이 최소 : ', np.min(total_data_len))"
   ]
  },
  {
   "cell_type": "code",
   "execution_count": 10,
   "id": "00c3f4fa",
   "metadata": {},
   "outputs": [
    {
     "data": {
      "image/png": "[encoded data removed]",
      "text/plain": [
       "<Figure size 432x288 with 1 Axes>"
      ]
     },
     "metadata": {
      "needs_background": "light"
     },
     "output_type": "display_data"
    }
   ],
   "source": [
    "import matplotlib.pyplot as plt\n",
    "\n",
    "plt.hist(total_data_len)\n",
    "plt.show()"
   ]
  },
  {
   "cell_type": "code",
   "execution_count": 11,
   "id": "5f1d2944",
   "metadata": {},
   "outputs": [],
   "source": [
    "# 최대 길이를 (평균 + 2.2*표준편차)로 한다면,  \n",
    "length = (np.mean(total_data_len) + 2.2* np.std(total_data_len))\n",
    "maxlen = int(length)"
   ]
  },
  {
   "cell_type": "code",
   "execution_count": 12,
   "id": "f3717353",
   "metadata": {},
   "outputs": [
    {
     "name": "stdout",
     "output_type": "stream",
     "text": [
      "전체 문장의 94.34%가 maxlen 설정값 이내에 포함됩니다. \n"
     ]
    }
   ],
   "source": [
    "print('전체 문장의 {:.2f}%가 maxlen 설정값 이내에 포함됩니다. '\\\n",
    "      .format(100 * np.sum(total_data_len<length) / len(total_data_len)))"
   ]
  },
  {
   "cell_type": "code",
   "execution_count": 13,
   "id": "c101f0fb",
   "metadata": {},
   "outputs": [
    {
     "name": "stdout",
     "output_type": "stream",
     "text": [
      "(146182, 45) (49157, 45)\n"
     ]
    }
   ],
   "source": [
    "X_train = tf.keras.preprocessing.sequence.pad_sequences(X_train,\n",
    "                                                       value=word_to_index['<PAD>'],\n",
    "                                                       padding='pre',\n",
    "                                                       maxlen=maxlen)\n",
    "\n",
    "X_test = tf.keras.preprocessing.sequence.pad_sequences(X_test,\n",
    "                                                       value=word_to_index['<PAD>'],\n",
    "                                                       padding='pre',\n",
    "                                                       maxlen=maxlen)\n",
    "\n",
    "print(X_train.shape, X_test.shape)"
   ]
  },
  {
   "cell_type": "markdown",
   "id": "cc314c00",
   "metadata": {},
   "source": [
    "# 4. Validation set 구성 및 Modeling\n",
    "\n",
    "1. 노드에 있던 LSTM 모델\n",
    "2. CNN 모델"
   ]
  },
  {
   "cell_type": "markdown",
   "id": "74a5570d",
   "metadata": {},
   "source": [
    "### validation set 구성\n",
    "\n"
   ]
  },
  {
   "cell_type": "code",
   "execution_count": 14,
   "id": "0772680d",
   "metadata": {},
   "outputs": [
    {
     "name": "stdout",
     "output_type": "stream",
     "text": [
      "(126182, 45)\n",
      "(126182,)\n"
     ]
    }
   ],
   "source": [
    "# validation set 20000건 분리\n",
    "X_val = X_train[:20000]\n",
    "y_val = y_train[:20000]\n",
    "\n",
    "# validation set을 제외한 나머지 126182건\n",
    "partial_X_train = X_train[20000:]\n",
    "partial_y_train = y_train[20000:]\n",
    "\n",
    "print(partial_X_train.shape)\n",
    "print(partial_y_train.shape)"
   ]
  },
  {
   "cell_type": "code",
   "execution_count": 15,
   "id": "35c34d05",
   "metadata": {},
   "outputs": [],
   "source": [
    "import keras\n",
    "vocab_size = 10000    # 어휘 사전의 크기입니다(10,000개의 단어)\n",
    "word_vector_dim = 256  # 워드 벡터의 차원 수 (변경 가능한 하이퍼파라미터)"
   ]
  },
  {
   "cell_type": "code",
   "execution_count": 16,
   "id": "fa36785c",
   "metadata": {},
   "outputs": [
    {
     "name": "stdout",
     "output_type": "stream",
     "text": [
      "Model: \"sequential\"\n",
      "_________________________________________________________________\n",
      "Layer (type)                 Output Shape              Param #   \n",
      "=================================================================\n",
      "embedding (Embedding)        (None, None, 256)         2560000   \n",
      "_________________________________________________________________\n",
      "lstm (LSTM)                  (None, 20)                22160     \n",
      "_________________________________________________________________\n",
      "dense (Dense)                (None, 8)                 168       \n",
      "_________________________________________________________________\n",
      "dense_1 (Dense)              (None, 1)                 9         \n",
      "=================================================================\n",
      "Total params: 2,582,337\n",
      "Trainable params: 2,582,337\n",
      "Non-trainable params: 0\n",
      "_________________________________________________________________\n"
     ]
    }
   ],
   "source": [
    "# model_LSTM 설계 - 딥러닝 모델 코드를 직접 작성해 주세요.\n",
    "model_LSTM = keras.Sequential()\n",
    "model_LSTM.add(keras.layers.Embedding(vocab_size, word_vector_dim, input_shape=(None,)))\n",
    "model_LSTM.add(keras.layers.LSTM(20))   # 가장 널리 쓰이는 RNN인 LSTM 레이어를 사용하였습니다. 이때 LSTM state 벡터의 차원수는 8로 하였습니다. (변경 가능)\n",
    "model_LSTM.add(keras.layers.Dense(8, activation='relu'))\n",
    "model_LSTM.add(keras.layers.Dense(1, activation='sigmoid'))  # 최종 출력은 긍정/부정을 나타내는 1dim 입니다.\n",
    "\n",
    "model_LSTM.summary()"
   ]
  },
  {
   "cell_type": "code",
   "execution_count": 17,
   "id": "07080764",
   "metadata": {},
   "outputs": [
    {
     "name": "stdout",
     "output_type": "stream",
     "text": [
      "Model: \"sequential_1\"\n",
      "_________________________________________________________________\n",
      "Layer (type)                 Output Shape              Param #   \n",
      "=================================================================\n",
      "embedding_1 (Embedding)      (None, None, 256)         2560000   \n",
      "_________________________________________________________________\n",
      "conv1d (Conv1D)              (None, None, 16)          28688     \n",
      "_________________________________________________________________\n",
      "max_pooling1d (MaxPooling1D) (None, None, 16)          0         \n",
      "_________________________________________________________________\n",
      "conv1d_1 (Conv1D)            (None, None, 16)          1808      \n",
      "_________________________________________________________________\n",
      "global_max_pooling1d (Global (None, 16)                0         \n",
      "_________________________________________________________________\n",
      "dense_2 (Dense)              (None, 8)                 136       \n",
      "_________________________________________________________________\n",
      "dense_3 (Dense)              (None, 1)                 9         \n",
      "=================================================================\n",
      "Total params: 2,590,641\n",
      "Trainable params: 2,590,641\n",
      "Non-trainable params: 0\n",
      "_________________________________________________________________\n"
     ]
    }
   ],
   "source": [
    "model_CNN = keras.Sequential()\n",
    "model_CNN.add(keras.layers.Embedding(vocab_size, word_vector_dim, input_shape=(None,)))\n",
    "model_CNN.add(keras.layers.Conv1D(16, 7, activation='relu'))\n",
    "model_CNN.add(keras.layers.MaxPooling1D(5))\n",
    "model_CNN.add(keras.layers.Conv1D(16, 7, activation='relu'))\n",
    "model_CNN.add(keras.layers.GlobalMaxPooling1D())\n",
    "model_CNN.add(keras.layers.Dense(8, activation='relu'))\n",
    "model_CNN.add(keras.layers.Dense(1, activation='sigmoid'))\n",
    "\n",
    "model_CNN.summary()"
   ]
  },
  {
   "cell_type": "markdown",
   "id": "5ff2c1e9",
   "metadata": {},
   "source": [
    "# 5. 모델 훈련 개시 및 시각화\n",
    "\n",
    "### 1. lstm"
   ]
  },
  {
   "cell_type": "code",
   "execution_count": 18,
   "id": "1262cb52",
   "metadata": {},
   "outputs": [
    {
     "name": "stdout",
     "output_type": "stream",
     "text": [
      "Epoch 1/10\n",
      "247/247 [==============================] - 6s 9ms/step - loss: 0.4183 - accuracy: 0.8132 - val_loss: 0.3475 - val_accuracy: 0.8497\n",
      "Epoch 2/10\n",
      "247/247 [==============================] - 2s 7ms/step - loss: 0.3180 - accuracy: 0.8649 - val_loss: 0.3363 - val_accuracy: 0.8554\n",
      "Epoch 3/10\n",
      "247/247 [==============================] - 2s 7ms/step - loss: 0.2828 - accuracy: 0.8813 - val_loss: 0.3327 - val_accuracy: 0.8562\n",
      "Epoch 4/10\n",
      "247/247 [==============================] - 2s 7ms/step - loss: 0.2509 - accuracy: 0.8960 - val_loss: 0.3351 - val_accuracy: 0.8589\n",
      "Epoch 5/10\n",
      "247/247 [==============================] - 2s 7ms/step - loss: 0.2228 - accuracy: 0.9097 - val_loss: 0.3453 - val_accuracy: 0.8593\n",
      "Epoch 6/10\n",
      "247/247 [==============================] - 2s 7ms/step - loss: 0.2013 - accuracy: 0.9192 - val_loss: 0.3728 - val_accuracy: 0.8545\n",
      "Epoch 7/10\n",
      "247/247 [==============================] - 2s 7ms/step - loss: 0.1798 - accuracy: 0.9298 - val_loss: 0.3931 - val_accuracy: 0.8511\n",
      "Epoch 8/10\n",
      "247/247 [==============================] - 2s 7ms/step - loss: 0.1629 - accuracy: 0.9370 - val_loss: 0.4132 - val_accuracy: 0.8533\n",
      "Epoch 9/10\n",
      "247/247 [==============================] - 2s 7ms/step - loss: 0.1455 - accuracy: 0.9451 - val_loss: 0.4406 - val_accuracy: 0.8495\n",
      "Epoch 10/10\n",
      "247/247 [==============================] - 2s 7ms/step - loss: 0.1289 - accuracy: 0.9527 - val_loss: 0.4691 - val_accuracy: 0.8492\n"
     ]
    }
   ],
   "source": [
    "model_LSTM.compile(optimizer='adam',\n",
    "            loss='binary_crossentropy',\n",
    "            metrics=['accuracy'])\n",
    "\n",
    "epochs=10 # 훈련결과 보고 바꿔보기\n",
    "\n",
    "history_lstm = model_LSTM.fit(partial_X_train,\n",
    "                  partial_y_train,\n",
    "                  epochs=epochs,\n",
    "                  batch_size=512,\n",
    "                  validation_data=(X_val, y_val), \n",
    "                   verbose=1)"
   ]
  },
  {
   "cell_type": "code",
   "execution_count": 19,
   "id": "9c1e7812",
   "metadata": {},
   "outputs": [
    {
     "name": "stdout",
     "output_type": "stream",
     "text": [
      "1537/1537 - 3s - loss: 0.4712 - accuracy: 0.8473\n",
      "[0.4712178111076355, 0.8473259210586548]\n"
     ]
    }
   ],
   "source": [
    "# 테스트셋으로 평가\n",
    "\n",
    "lstm_results = model_LSTM.evaluate(X_test, y_test, verbose=2)\n",
    "\n",
    "print(lstm_results)"
   ]
  },
  {
   "cell_type": "markdown",
   "id": "71e9a30a",
   "metadata": {},
   "source": [
    "### lstm 시각화"
   ]
  },
  {
   "cell_type": "code",
   "execution_count": 20,
   "id": "fc6460ed",
   "metadata": {},
   "outputs": [
    {
     "name": "stdout",
     "output_type": "stream",
     "text": [
      "dict_keys(['loss', 'accuracy', 'val_loss', 'val_accuracy'])\n"
     ]
    }
   ],
   "source": [
    "history_lstm_dict = history_lstm.history\n",
    "print(history_lstm_dict.keys()) # epoch에 따른 그래프를 그려볼 수 있는 항목들"
   ]
  },
  {
   "cell_type": "code",
   "execution_count": 21,
   "id": "2b6e53fd",
   "metadata": {},
   "outputs": [],
   "source": [
    "acc = history_lstm_dict['accuracy']\n",
    "val_acc = history_lstm_dict['val_accuracy']\n",
    "loss = history_lstm_dict['loss']\n",
    "val_loss = history_lstm_dict['val_loss']\n",
    "\n",
    "epochs = range(1, len(acc) + 1)"
   ]
  },
  {
   "cell_type": "code",
   "execution_count": 22,
   "id": "36c422ad",
   "metadata": {
    "scrolled": true
   },
   "outputs": [
    {
     "data": {
      "image/png": "[encoded data removed]",
      "text/plain": [
       "<Figure size 720x288 with 2 Axes>"
      ]
     },
     "metadata": {
      "needs_background": "light"
     },
     "output_type": "display_data"
    }
   ],
   "source": [
    "plt.figure(figsize=(10, 4))\n",
    "\n",
    "# Loss 그래프\n",
    "plt.subplot(1, 2, 1)\n",
    "plt.plot(epochs, loss, 'bo', label='Training loss') # \"bo\"는 \"파란색 점\"\n",
    "plt.plot(epochs, val_loss, 'b', label='Validation loss') # \"b\"는 \"파란 실선\"\n",
    "plt.title('Training and validation loss')\n",
    "plt.xlabel('Epochs')\n",
    "plt.ylabel('Loss')\n",
    "plt.legend()\n",
    "\n",
    "# Accuracy 그래프\n",
    "plt.subplot(1, 2, 2)\n",
    "plt.plot(epochs, acc, 'bo', label='Training acc')\n",
    "plt.plot(epochs, val_acc, 'b', label='Validation acc')\n",
    "plt.title('Training and validation accuracy')\n",
    "plt.xlabel('Epochs')\n",
    "plt.ylabel('Accuracy')\n",
    "plt.legend()\n",
    "plt.show()"
   ]
  },
  {
   "cell_type": "markdown",
   "id": "8eb009bf",
   "metadata": {},
   "source": [
    "### 2. cnn"
   ]
  },
  {
   "cell_type": "code",
   "execution_count": 23,
   "id": "261f127f",
   "metadata": {},
   "outputs": [
    {
     "name": "stdout",
     "output_type": "stream",
     "text": [
      "Epoch 1/10\n",
      "247/247 [==============================] - 4s 9ms/step - loss: 0.5413 - accuracy: 0.7010 - val_loss: 0.4573 - val_accuracy: 0.7696\n",
      "Epoch 2/10\n",
      "247/247 [==============================] - 2s 7ms/step - loss: 0.4201 - accuracy: 0.7935 - val_loss: 0.4487 - val_accuracy: 0.7737\n",
      "Epoch 3/10\n",
      "247/247 [==============================] - 2s 7ms/step - loss: 0.3629 - accuracy: 0.8250 - val_loss: 0.4675 - val_accuracy: 0.7652\n",
      "Epoch 4/10\n",
      "247/247 [==============================] - 2s 7ms/step - loss: 0.2903 - accuracy: 0.8630 - val_loss: 0.5111 - val_accuracy: 0.7624\n",
      "Epoch 5/10\n",
      "247/247 [==============================] - 2s 7ms/step - loss: 0.2236 - accuracy: 0.8930 - val_loss: 0.5883 - val_accuracy: 0.7538\n",
      "Epoch 6/10\n",
      "247/247 [==============================] - 2s 7ms/step - loss: 0.1809 - accuracy: 0.9104 - val_loss: 0.6773 - val_accuracy: 0.7500\n",
      "Epoch 7/10\n",
      "247/247 [==============================] - 2s 7ms/step - loss: 0.1549 - accuracy: 0.9203 - val_loss: 0.7688 - val_accuracy: 0.7487\n",
      "Epoch 8/10\n",
      "247/247 [==============================] - 2s 7ms/step - loss: 0.1388 - accuracy: 0.9277 - val_loss: 0.8175 - val_accuracy: 0.7491\n",
      "Epoch 9/10\n",
      "247/247 [==============================] - 2s 7ms/step - loss: 0.1293 - accuracy: 0.9295 - val_loss: 0.9080 - val_accuracy: 0.7468\n",
      "Epoch 10/10\n",
      "247/247 [==============================] - 2s 7ms/step - loss: 0.1234 - accuracy: 0.9316 - val_loss: 0.9717 - val_accuracy: 0.7445\n"
     ]
    }
   ],
   "source": [
    "model_CNN.compile(optimizer='adam',\n",
    "            loss='binary_crossentropy',\n",
    "            metrics=['accuracy'])\n",
    "\n",
    "epochs=10 # 훈련결과 보고 바꿔보기\n",
    "\n",
    "history_cnn = model_CNN.fit(partial_X_train,\n",
    "                  partial_y_train,\n",
    "                  epochs=epochs,\n",
    "                  batch_size=512,\n",
    "                  validation_data=(X_val, y_val), \n",
    "                   verbose=1)"
   ]
  },
  {
   "cell_type": "code",
   "execution_count": 24,
   "id": "f30e8b13",
   "metadata": {},
   "outputs": [
    {
     "name": "stdout",
     "output_type": "stream",
     "text": [
      "1537/1537 - 3s - loss: 0.9706 - accuracy: 0.7456\n",
      "[0.9706434607505798, 0.7456110119819641]\n"
     ]
    }
   ],
   "source": [
    "# 테스트셋으로 평가\n",
    "\n",
    "cnn_results = model_CNN.evaluate(X_test, y_test, verbose=2)\n",
    "\n",
    "print(cnn_results)"
   ]
  },
  {
   "cell_type": "markdown",
   "id": "a1375d2a",
   "metadata": {},
   "source": [
    "### cnn 시각화"
   ]
  },
  {
   "cell_type": "code",
   "execution_count": 25,
   "id": "3a4ca88a",
   "metadata": {},
   "outputs": [
    {
     "name": "stdout",
     "output_type": "stream",
     "text": [
      "dict_keys(['loss', 'accuracy', 'val_loss', 'val_accuracy'])\n"
     ]
    }
   ],
   "source": [
    "history_cnn_dict = history_cnn.history\n",
    "print(history_cnn_dict.keys()) # epoch에 따른 그래프를 그려볼 수 있는 항목들"
   ]
  },
  {
   "cell_type": "code",
   "execution_count": 26,
   "id": "9490a4bb",
   "metadata": {},
   "outputs": [],
   "source": [
    "acc = history_cnn_dict['accuracy']\n",
    "val_acc = history_cnn_dict['val_accuracy']\n",
    "loss = history_cnn_dict['loss']\n",
    "val_loss = history_cnn_dict['val_loss']\n",
    "\n",
    "epochs = range(1, len(acc) + 1)"
   ]
  },
  {
   "cell_type": "code",
   "execution_count": 27,
   "id": "c4244759",
   "metadata": {},
   "outputs": [
    {
     "data": {
      "image/png": "[encoded data removed]",
      "text/plain": [
       "<Figure size 720x288 with 2 Axes>"
      ]
     },
     "metadata": {
      "needs_background": "light"
     },
     "output_type": "display_data"
    }
   ],
   "source": [
    "plt.figure(figsize=(10, 4))\n",
    "\n",
    "# Loss 그래프\n",
    "plt.subplot(1, 2, 1)\n",
    "plt.plot(epochs, loss, 'bo', label='Training loss') # \"bo\"는 \"파란색 점\"\n",
    "plt.plot(epochs, val_loss, 'b', label='Validation loss') # \"b\"는 \"파란 실선\"\n",
    "plt.title('Training and validation loss')\n",
    "plt.xlabel('Epochs')\n",
    "plt.ylabel('Loss')\n",
    "plt.legend()\n",
    "\n",
    "# Accuracy 그래프\n",
    "plt.subplot(1, 2, 2)\n",
    "plt.plot(epochs, acc, 'bo', label='Training acc')\n",
    "plt.plot(epochs, val_acc, 'b', label='Validation acc')\n",
    "plt.title('Training and validation accuracy')\n",
    "plt.xlabel('Epochs')\n",
    "plt.ylabel('Accuracy')\n",
    "plt.legend()\n",
    "plt.show()"
   ]
  },
  {
   "cell_type": "markdown",
   "id": "d57592a6",
   "metadata": {},
   "source": [
    "cnn 모델은 학습이 된건가? ㅎ_ㅎ acc loss 수치는 괜찮은거 같은데 왜 epoch마다 업데이트가 안되었니"
   ]
  },
  {
   "cell_type": "code",
   "execution_count": 28,
   "id": "f25b3027",
   "metadata": {},
   "outputs": [
    {
     "name": "stdout",
     "output_type": "stream",
     "text": [
      "[0.4712178111076355, 0.8473259210586548]\n",
      "[0.9706434607505798, 0.7456110119819641]\n"
     ]
    }
   ],
   "source": [
    "print(lstm_results)\n",
    "print(cnn_results)"
   ]
  },
  {
   "cell_type": "markdown",
   "id": "6ac9bc65",
   "metadata": {},
   "source": [
    "# 6. 학습된 Embedding 레이어 분석 \n",
    "\n",
    "학습된 lstm모델의 embedding 레이어를 분석해보았습니다."
   ]
  },
  {
   "cell_type": "code",
   "execution_count": 29,
   "id": "2d982490",
   "metadata": {},
   "outputs": [
    {
     "name": "stdout",
     "output_type": "stream",
     "text": [
      "(10000, 256)\n"
     ]
    }
   ],
   "source": [
    "embedding_layer = model_LSTM.layers[0]\n",
    "weights = embedding_layer.get_weights()[0]\n",
    "print(weights.shape)    # shape: (vocab_size, embedding_dim)"
   ]
  },
  {
   "cell_type": "code",
   "execution_count": 30,
   "id": "aaa6040b",
   "metadata": {},
   "outputs": [],
   "source": [
    "# 학습한 Embedding 파라미터를 파일에 저장 \n",
    "word2vec_file_path = os.getenv('HOME')+'/aiffel/sentiment_classification/data/word2vec_ex.txt'\n",
    "f = open(word2vec_file_path, 'w')\n",
    "f.write('{} {}\\n'.format(vocab_size-4, word_vector_dim))  # 몇개의 벡터를 얼마 사이즈로 기재할지 타이틀을 씁니다.\n",
    "\n",
    "# 단어 개수(에서 특수문자 4개는 제외하고)만큼의 워드 벡터를 파일에 기록한다 \n",
    "vectors = model_LSTM.get_weights()[0]\n",
    "for i in range(4,vocab_size):\n",
    "    f.write('{} {}\\n'.format(index_to_word[i], ' '.join(map(str, list(vectors[i, :])))))\n",
    "f.close()"
   ]
  },
  {
   "cell_type": "code",
   "execution_count": 31,
   "id": "cfee41fd",
   "metadata": {},
   "outputs": [
    {
     "data": {
      "text/plain": [
       "array([-0.04217565,  0.02709974,  0.08548456, -0.0025989 , -0.00127447,\n",
       "       -0.05441006,  0.06940414,  0.0394337 , -0.01441484,  0.03288127,\n",
       "       -0.04423527, -0.05094121,  0.025768  ,  0.00591537,  0.01067466,\n",
       "       -0.1054012 ,  0.01218356,  0.00406791,  0.02619375, -0.0060713 ,\n",
       "       -0.08739371, -0.08559152,  0.08260231, -0.01098876, -0.01176621,\n",
       "        0.02104817, -0.09641816,  0.03193166, -0.02932103, -0.07707547,\n",
       "        0.01663093,  0.04657099, -0.06683973, -0.1249376 , -0.02983947,\n",
       "        0.02493549, -0.00930329,  0.05503241, -0.02261068, -0.03910672,\n",
       "        0.03649214,  0.02190821,  0.02412679,  0.03638781,  0.035801  ,\n",
       "        0.06336644,  0.00178176, -0.19084884, -0.04135275, -0.13275844,\n",
       "       -0.02050579, -0.02228265,  0.1750152 ,  0.1264985 , -0.07420102,\n",
       "        0.08021517, -0.04082129, -0.05133   , -0.04231986,  0.04094657,\n",
       "        0.0151191 ,  0.04397049, -0.03768059,  0.03842506,  0.09317244,\n",
       "        0.02949879,  0.01109563, -0.03254161,  0.00336628, -0.05929186,\n",
       "        0.00499116,  0.07705433, -0.01992427, -0.06244694, -0.0490277 ,\n",
       "        0.10885882, -0.02853141, -0.05336783,  0.033175  ,  0.10500329,\n",
       "       -0.02397455,  0.12441267, -0.03503805,  0.00893683,  0.00358057,\n",
       "       -0.0526014 ,  0.03853888, -0.11133999, -0.04315178,  0.0942113 ,\n",
       "       -0.02136073, -0.09206154, -0.11033855,  0.00612639, -0.04364338,\n",
       "        0.0184582 , -0.17037256,  0.0660967 ,  0.04691492, -0.00119777,\n",
       "        0.07413135, -0.01245239, -0.03526017, -0.01314692, -0.03586385,\n",
       "       -0.03387653,  0.04822758, -0.11818428, -0.09114897,  0.03389178,\n",
       "       -0.07513162, -0.04394858,  0.06969393, -0.00159726, -0.03338741,\n",
       "       -0.03761392,  0.02027288, -0.07871762,  0.05824875,  0.06134191,\n",
       "        0.11883885, -0.01259311,  0.04918458, -0.0736953 ,  0.08522035,\n",
       "        0.0771969 , -0.02157185,  0.0769112 , -0.07247664,  0.0534284 ,\n",
       "       -0.04229317, -0.04835542,  0.02069242,  0.03694643,  0.08740553,\n",
       "       -0.0845254 , -0.0090964 , -0.01072462,  0.06142227,  0.05268764,\n",
       "       -0.07086874, -0.01158623, -0.01553517, -0.0116334 , -0.09133875,\n",
       "       -0.08115544, -0.03998557, -0.04224272, -0.09972488, -0.08808324,\n",
       "       -0.01577168,  0.05372136,  0.03251975, -0.09611925,  0.05233464,\n",
       "        0.14852652, -0.04352622,  0.03548654, -0.01695509,  0.06300557,\n",
       "        0.02082461, -0.00029977,  0.04290121, -0.05535329, -0.0428184 ,\n",
       "       -0.03409515,  0.00918864, -0.03123997, -0.10578252,  0.02018722,\n",
       "        0.03757641,  0.0043807 ,  0.06488782,  0.01051902,  0.1163476 ,\n",
       "       -0.04344613, -0.06682173, -0.01668418,  0.04560462,  0.08494402,\n",
       "       -0.00774177,  0.08803903,  0.0757008 ,  0.0726016 ,  0.04920164,\n",
       "       -0.15301804,  0.025066  ,  0.06768081, -0.04325963,  0.05674382,\n",
       "        0.00447786, -0.05118639, -0.00795899,  0.06515893,  0.00889195,\n",
       "       -0.14049439, -0.05281533,  0.01084905,  0.0146386 ,  0.11356898,\n",
       "       -0.0630427 , -0.01820923, -0.03295   , -0.08912002, -0.01212833,\n",
       "        0.05438489,  0.00700763, -0.0267146 ,  0.05719425, -0.13190946,\n",
       "        0.00741644,  0.02939742,  0.04714643, -0.03859146, -0.03304444,\n",
       "       -0.00857882,  0.05868741, -0.02916413,  0.04162993,  0.04004114,\n",
       "        0.0416325 , -0.0642041 , -0.04571275, -0.05894979,  0.02759858,\n",
       "       -0.09748213,  0.05465015, -0.02946249,  0.04171794,  0.02328598,\n",
       "       -0.1040748 ,  0.05667951, -0.09190015,  0.05743811, -0.01744162,\n",
       "       -0.10530742, -0.01642649, -0.0238661 ,  0.03130595, -0.04860188,\n",
       "        0.08868154,  0.04304315,  0.17014627,  0.06851772, -0.02707323,\n",
       "        0.0489195 ,  0.01169359, -0.05861182,  0.02201126, -0.06647781,\n",
       "       -0.06136627,  0.04160344, -0.02220847,  0.053895  , -0.00522752,\n",
       "       -0.00075567], dtype=float32)"
      ]
     },
     "execution_count": 31,
     "metadata": {},
     "output_type": "execute_result"
    }
   ],
   "source": [
    "from gensim.models.keyedvectors import Word2VecKeyedVectors\n",
    "\n",
    "word_vectors = Word2VecKeyedVectors.load_word2vec_format(word2vec_file_path, binary=False)\n",
    "vector = word_vectors['공부']\n",
    "vector"
   ]
  },
  {
   "cell_type": "code",
   "execution_count": 32,
   "id": "cec12ce1",
   "metadata": {},
   "outputs": [
    {
     "data": {
      "text/plain": [
       "[('오유', 0.7222700119018555),\n",
       " ('무적', 0.7183214426040649),\n",
       " ('누리', 0.7181184887886047),\n",
       " ('출시', 0.7074424028396606),\n",
       " ('훼손', 0.7071419954299927),\n",
       " ('으으', 0.7007338404655457),\n",
       " ('잊혀질', 0.6958034038543701),\n",
       " ('듣보잡', 0.6955004334449768),\n",
       " ('구석', 0.6931321024894714),\n",
       " ('틴', 0.6882127523422241)]"
      ]
     },
     "execution_count": 32,
     "metadata": {},
     "output_type": "execute_result"
    }
   ],
   "source": [
    "word_vectors.similar_by_word('공부')"
   ]
  },
  {
   "cell_type": "markdown",
   "id": "98bc87d3",
   "metadata": {},
   "source": [
    "공부 단어와 유사한 단어를 뽑아봤는데 학습이 잘 되어있지않음을 알 수 있습니다.\n",
    "\n",
    "# 7. 한국어  Word2Vec 임베딩 활용하여 성능 개선\n",
    "\n",
    "- 한국어 Word2Vec의 버전이, lms 노드의 버전과 달라 버전을 다운그레이드 해 줘야한다.\n",
    "- 우선, 현재 gensim의 버전은 '4.1.2'\n",
    "- 3.X.X 대로 낮춰줘야 오류가 없기 때문에 다운그레이드 해 주었습니다."
   ]
  },
  {
   "cell_type": "code",
   "execution_count": 33,
   "id": "b40871bc",
   "metadata": {},
   "outputs": [
    {
     "data": {
      "text/plain": [
       "'3.8.3'"
      ]
     },
     "execution_count": 33,
     "metadata": {},
     "output_type": "execute_result"
    }
   ],
   "source": [
    "import gensim\n",
    "gensim.__version__ "
   ]
  },
  {
   "cell_type": "code",
   "execution_count": 34,
   "id": "d2efc11b",
   "metadata": {},
   "outputs": [
    {
     "name": "stdout",
     "output_type": "stream",
     "text": [
      "Requirement already satisfied: gensim==3.8.3 in /opt/conda/lib/python3.9/site-packages (3.8.3)\n",
      "Requirement already satisfied: scipy>=0.18.1 in /opt/conda/lib/python3.9/site-packages (from gensim==3.8.3) (1.7.1)\n",
      "Requirement already satisfied: six>=1.5.0 in /opt/conda/lib/python3.9/site-packages (from gensim==3.8.3) (1.16.0)\n",
      "Requirement already satisfied: numpy>=1.11.3 in /opt/conda/lib/python3.9/site-packages (from gensim==3.8.3) (1.21.4)\n",
      "Requirement already satisfied: smart-open>=1.8.1 in /opt/conda/lib/python3.9/site-packages (from gensim==3.8.3) (5.2.1)\n",
      "\u001b[33mWARNING: Running pip as the 'root' user can result in broken permissions and conflicting behaviour with the system package manager. It is recommended to use a virtual environment instead: https://pip.pypa.io/warnings/venv\u001b[0m\n"
     ]
    }
   ],
   "source": [
    "!pip install --upgrade gensim==3.8.3 #[버전 다운그레이드 하는 코드]"
   ]
  },
  {
   "cell_type": "code",
   "execution_count": 35,
   "id": "527f65d9",
   "metadata": {
    "scrolled": true
   },
   "outputs": [
    {
     "name": "stdout",
     "output_type": "stream",
     "text": [
      "gensim                        3.8.3\r\n"
     ]
    }
   ],
   "source": [
    "!pip list | grep gensim"
   ]
  },
  {
   "cell_type": "code",
   "execution_count": 36,
   "id": "469b0076",
   "metadata": {},
   "outputs": [
    {
     "data": {
      "text/plain": [
       "'3.8.3'"
      ]
     },
     "execution_count": 36,
     "metadata": {},
     "output_type": "execute_result"
    }
   ],
   "source": [
    "import gensim\n",
    "gensim.__version__ "
   ]
  },
  {
   "cell_type": "markdown",
   "id": "b590c6b0",
   "metadata": {},
   "source": [
    "https://github.com/Kyubyong/wordvectors\n",
    "여기 링크에서 pretrained된 한국어 Word2Vec 모델 중, ko.bin으로 된 파일을 다운받아줍니다."
   ]
  },
  {
   "cell_type": "code",
   "execution_count": 37,
   "id": "6abd4ec8",
   "metadata": {
    "scrolled": true
   },
   "outputs": [
    {
     "name": "stderr",
     "output_type": "stream",
     "text": [
      "/tmp/ipykernel_1203/1316809659.py:5: DeprecationWarning: Call to deprecated `__getitem__` (Method will be removed in 4.0.0, use self.wv.__getitem__() instead).\n",
      "  vector = word2vec['공부']\n"
     ]
    },
    {
     "data": {
      "text/plain": [
       "array([-5.3616351e-01,  1.5259813e+00,  2.2119961e+00, -2.3817079e+00,\n",
       "       -9.5158440e-01,  8.9626066e-02, -5.2998513e-01,  4.0423288e+00,\n",
       "        8.7127805e-01, -3.5876250e-01, -1.3750417e+00, -1.4647077e-01,\n",
       "        2.0774379e+00, -2.4233997e+00, -8.8370997e-01,  8.4815770e-01,\n",
       "        1.5400079e-01, -3.0943182e+00,  2.2277091e+00,  1.9544889e-01,\n",
       "        4.3067582e-02, -9.6882504e-01,  9.8499590e-01, -1.1479219e+00,\n",
       "        4.0785190e-01, -3.1964517e+00, -6.1084163e-01, -1.3357921e+00,\n",
       "       -1.1660659e+00,  1.5545406e+00,  7.2543573e-01, -6.1742734e-02,\n",
       "        3.9433134e-01, -1.2887758e+00,  2.5079210e+00,  8.8275224e-01,\n",
       "       -1.2752281e+00, -3.1425264e-01, -1.3679795e+00, -2.3178179e+00,\n",
       "       -2.7225506e-01, -2.3925257e+00,  2.6611121e+00, -6.6377121e-01,\n",
       "       -4.3277806e-01,  6.4304197e-01,  3.3505702e+00, -2.4624436e+00,\n",
       "        1.1853255e+00, -4.4038731e-01,  1.5087553e+00, -1.0823973e+00,\n",
       "        7.1410012e-01, -2.9199111e-01,  4.8847135e-02, -6.5211141e-01,\n",
       "        1.8254833e+00, -6.6531742e-01, -1.7360288e+00,  6.2250141e-02,\n",
       "        1.5830787e+00,  2.4504387e-01, -7.9443073e-01,  2.2801750e+00,\n",
       "        4.3219388e-01,  8.7395601e-02, -6.4471793e-01,  1.0872386e+00,\n",
       "       -1.0452758e+00, -2.4575019e+00, -5.3568196e-01, -1.0735588e+00,\n",
       "        7.8446645e-01,  4.2575538e-01, -1.2119280e+00,  1.3135332e+00,\n",
       "        1.2871300e+00,  7.7570784e-01,  1.9380881e+00,  5.0424004e-01,\n",
       "       -1.2096680e+00,  2.6718900e-01, -6.5241843e-01, -3.1160629e+00,\n",
       "       -2.3367910e+00, -3.2147509e-01, -3.1439385e-01,  8.5394442e-01,\n",
       "       -3.7881750e-01,  1.6198698e+00, -3.5760284e-03, -6.7198479e-01,\n",
       "        2.7886369e+00,  2.4787114e+00,  2.6072843e+00,  2.4309595e+00,\n",
       "       -5.1540983e-01,  2.3412683e+00, -7.6939684e-01,  3.9778349e-01,\n",
       "       -2.5566366e+00, -1.7161416e+00, -8.2518655e-01,  1.4256527e-01,\n",
       "        8.9584494e-01,  1.1207328e+00,  1.2632113e+00, -1.8314935e-01,\n",
       "       -1.0962665e+00, -1.7336240e+00,  4.8227352e-01, -3.5813351e+00,\n",
       "        1.0248350e+00,  3.0820942e+00,  2.0708034e+00, -2.3002689e+00,\n",
       "       -3.3939457e-01, -4.0364566e-01, -1.8215865e-01, -5.9001589e-01,\n",
       "        7.3793662e-01, -1.3888322e+00,  5.5794346e-01, -1.8376259e+00,\n",
       "       -1.4077752e+00,  8.5847354e-01,  1.1823170e+00, -2.6254458e+00,\n",
       "        1.6442274e+00, -2.2570348e+00,  3.2501361e+00,  8.4895211e-01,\n",
       "        1.7047358e+00,  4.3754742e-01,  1.1942098e+00, -4.0649363e-01,\n",
       "        8.6405891e-01, -7.3889601e-01,  1.9007771e-01,  1.2659804e+00,\n",
       "        2.1366203e-01,  2.0874517e+00, -1.0711070e+00, -4.8937258e-01,\n",
       "       -2.1225111e+00, -1.9304425e+00,  2.2820944e-01,  2.6888857e+00,\n",
       "        7.6977241e-01,  4.9704510e-01, -1.0039113e-01, -1.3270240e+00,\n",
       "       -1.6806848e-01, -2.1487672e+00,  1.1351728e+00, -8.8569486e-01,\n",
       "       -1.8064324e+00,  4.3558943e-01,  7.2792987e-03, -1.5698928e+00,\n",
       "       -9.5951414e-01,  2.1921575e+00,  1.2022101e+00, -2.7836716e-01,\n",
       "       -1.5928158e+00, -1.9359026e+00, -3.7471330e-01, -1.4614624e+00,\n",
       "        1.4225628e+00,  9.8622137e-01, -1.0098511e+00, -3.5395682e-01,\n",
       "       -9.5652837e-01, -3.5676470e-01, -2.2184162e+00,  2.4761540e-01,\n",
       "        1.1793401e+00, -1.9489392e+00,  8.2414937e-01,  6.9053298e-01,\n",
       "       -1.0399109e+00, -2.4334149e-01,  9.9518555e-01, -8.4013599e-01,\n",
       "        2.0894959e+00, -3.2266092e-01,  3.6659622e-01, -4.6653010e-02,\n",
       "       -2.8402988e-02,  1.5784643e+00,  6.3324076e-01,  7.5189102e-01,\n",
       "        1.2492483e+00,  3.5580605e-01,  1.1302375e+00,  1.9166739e+00,\n",
       "        1.6073633e+00, -1.5699406e+00,  2.1296258e+00, -2.4741082e+00],\n",
       "      dtype=float32)"
      ]
     },
     "execution_count": 37,
     "metadata": {},
     "output_type": "execute_result"
    }
   ],
   "source": [
    "from gensim.models import Word2Vec\n",
    "\n",
    "word2vec_path = os.getenv('HOME')+'/aiffel/sentiment_classification/data/ko.bin'\n",
    "word2vec = gensim.models.Word2Vec.load(word2vec_path)\n",
    "vector = word2vec['공부']\n",
    "vector "
   ]
  },
  {
   "cell_type": "code",
   "execution_count": 38,
   "id": "3016d8f0",
   "metadata": {},
   "outputs": [
    {
     "name": "stderr",
     "output_type": "stream",
     "text": [
      "/tmp/ipykernel_1203/3761813252.py:1: DeprecationWarning: Call to deprecated `similar_by_word` (Method will be removed in 4.0.0, use self.wv.similar_by_word() instead).\n",
      "  word2vec.similar_by_word(\"공부\")\n"
     ]
    },
    {
     "data": {
      "text/plain": [
       "[('가르치', 0.6655912399291992),\n",
       " ('중퇴', 0.6448310613632202),\n",
       " ('수학', 0.6283489465713501),\n",
       " ('졸업', 0.5976732969284058),\n",
       " ('한학', 0.5947862267494202),\n",
       " ('수료', 0.5928074717521667),\n",
       " ('영문학', 0.5868287086486816),\n",
       " ('전공', 0.5848740339279175),\n",
       " ('배우', 0.5693216919898987),\n",
       " ('강론', 0.5641564726829529)]"
      ]
     },
     "execution_count": 38,
     "metadata": {},
     "output_type": "execute_result"
    }
   ],
   "source": [
    "word2vec.similar_by_word(\"공부\")"
   ]
  },
  {
   "cell_type": "markdown",
   "id": "96ba3f76",
   "metadata": {},
   "source": [
    "아까와 달리 유사한 단어들이 잘 나오는 것을 알 수 있습니다.\n",
    "\n",
    "### 모델의 임베딩 레이어를 Word2Vec으로 교체시켜 다시 학습시키기"
   ]
  },
  {
   "cell_type": "code",
   "execution_count": 39,
   "id": "ff1b12ad",
   "metadata": {},
   "outputs": [
    {
     "name": "stderr",
     "output_type": "stream",
     "text": [
      "/tmp/ipykernel_1203/1730871920.py:7: DeprecationWarning: Call to deprecated `__contains__` (Method will be removed in 4.0.0, use self.wv.__contains__() instead).\n",
      "  if index_to_word[i] in word2vec:\n",
      "/tmp/ipykernel_1203/1730871920.py:8: DeprecationWarning: Call to deprecated `__getitem__` (Method will be removed in 4.0.0, use self.wv.__getitem__() instead).\n",
      "  embedding_matrix[i] = word2vec[index_to_word[i]]\n"
     ]
    }
   ],
   "source": [
    "vocab_size = 10000    # 어휘 사전의 크기입니다(10,000개의 단어)\n",
    "word_vector_dim = 200  # 워드 벡터의 차원수\n",
    "embedding_matrix = np.random.rand(vocab_size, word_vector_dim)\n",
    "\n",
    "# embedding_matrix에 Word2Vec 워드 벡터를 단어 하나씩마다 차례차례 카피한다.\n",
    "for i in range(4,vocab_size):\n",
    "    if index_to_word[i] in word2vec:\n",
    "        embedding_matrix[i] = word2vec[index_to_word[i]]"
   ]
  },
  {
   "cell_type": "markdown",
   "id": "531492a2",
   "metadata": {},
   "source": [
    "# 8. 임베딩 레이어를 word2Vec으로 교체시켜서 새롭게 학습시키기"
   ]
  },
  {
   "cell_type": "code",
   "execution_count": 41,
   "id": "7afaa3d1",
   "metadata": {},
   "outputs": [
    {
     "name": "stdout",
     "output_type": "stream",
     "text": [
      "Model: \"sequential_3\"\n",
      "_________________________________________________________________\n",
      "Layer (type)                 Output Shape              Param #   \n",
      "=================================================================\n",
      "embedding_2 (Embedding)      (None, 45, 200)           2000000   \n",
      "_________________________________________________________________\n",
      "lstm_1 (LSTM)                (None, 20)                17680     \n",
      "_________________________________________________________________\n",
      "dense_4 (Dense)              (None, 8)                 168       \n",
      "_________________________________________________________________\n",
      "dense_5 (Dense)              (None, 1)                 9         \n",
      "=================================================================\n",
      "Total params: 2,017,857\n",
      "Trainable params: 2,017,857\n",
      "Non-trainable params: 0\n",
      "_________________________________________________________________\n"
     ]
    }
   ],
   "source": [
    "from tensorflow.keras.initializers import Constant\n",
    "model= keras.Sequential()\n",
    "model.add(keras.layers.Embedding(vocab_size, \n",
    "                                word_vector_dim, \n",
    "                                embeddings_initializer=Constant(embedding_matrix),  # 카피한 임베딩을 여기서 활용\n",
    "                                input_length=maxlen, \n",
    "                                trainable=True))   # trainable을 True로 주면 Fine-tuningmodel.add(keras.layers.LSTM(20))   # 가장 널리 쓰이는 RNN인 LSTM 레이어를 사용하였습니다. 이때 LSTM state 벡터의 차원수는 8로 하였습니다. (변경 가능)\n",
    "model.add(keras.layers.LSTM(20))   # 가장 널리 쓰이는 RNN인 LSTM 레이어를 사용하였습니다. 이때 LSTM state 벡터의 차원수는 8로 하였습니다. (변경 가능)\n",
    "model.add(keras.layers.Dense(8, activation='relu'))\n",
    "model.add(keras.layers.Dense(1, activation='sigmoid'))  # 최종 출력은 긍정/부정을 나타내는 1dim 입니다.\n",
    "\n",
    "model.summary()"
   ]
  },
  {
   "cell_type": "code",
   "execution_count": 42,
   "id": "9d067b64",
   "metadata": {},
   "outputs": [
    {
     "name": "stdout",
     "output_type": "stream",
     "text": [
      "Epoch 1/20\n",
      "247/247 [==============================] - 4s 9ms/step - loss: 0.4833 - accuracy: 0.7631 - val_loss: 0.3715 - val_accuracy: 0.8394\n",
      "Epoch 2/20\n",
      "247/247 [==============================] - 2s 7ms/step - loss: 0.3441 - accuracy: 0.8512 - val_loss: 0.3435 - val_accuracy: 0.8519\n",
      "Epoch 3/20\n",
      "247/247 [==============================] - 2s 7ms/step - loss: 0.3052 - accuracy: 0.8717 - val_loss: 0.3347 - val_accuracy: 0.8590\n",
      "Epoch 4/20\n",
      "247/247 [==============================] - 2s 7ms/step - loss: 0.2813 - accuracy: 0.8827 - val_loss: 0.3335 - val_accuracy: 0.8594\n",
      "Epoch 5/20\n",
      "247/247 [==============================] - 2s 7ms/step - loss: 0.2634 - accuracy: 0.8912 - val_loss: 0.3479 - val_accuracy: 0.8544\n",
      "Epoch 6/20\n",
      "247/247 [==============================] - 2s 7ms/step - loss: 0.2464 - accuracy: 0.9009 - val_loss: 0.3407 - val_accuracy: 0.8608\n",
      "Epoch 7/20\n",
      "247/247 [==============================] - 2s 7ms/step - loss: 0.2302 - accuracy: 0.9080 - val_loss: 0.3494 - val_accuracy: 0.8610\n",
      "Epoch 8/20\n",
      "247/247 [==============================] - 2s 7ms/step - loss: 0.2150 - accuracy: 0.9149 - val_loss: 0.3611 - val_accuracy: 0.8555\n",
      "Epoch 9/20\n",
      "247/247 [==============================] - 2s 7ms/step - loss: 0.1985 - accuracy: 0.9227 - val_loss: 0.3786 - val_accuracy: 0.8565\n",
      "Epoch 10/20\n",
      "247/247 [==============================] - 2s 7ms/step - loss: 0.1847 - accuracy: 0.9293 - val_loss: 0.3964 - val_accuracy: 0.8522\n",
      "Epoch 11/20\n",
      "247/247 [==============================] - 2s 7ms/step - loss: 0.1717 - accuracy: 0.9355 - val_loss: 0.4047 - val_accuracy: 0.8536\n",
      "Epoch 12/20\n",
      "247/247 [==============================] - 2s 7ms/step - loss: 0.1585 - accuracy: 0.9418 - val_loss: 0.4257 - val_accuracy: 0.8535\n",
      "Epoch 13/20\n",
      "247/247 [==============================] - 2s 7ms/step - loss: 0.1455 - accuracy: 0.9464 - val_loss: 0.4478 - val_accuracy: 0.8539\n",
      "Epoch 14/20\n",
      "247/247 [==============================] - 2s 7ms/step - loss: 0.1354 - accuracy: 0.9518 - val_loss: 0.4481 - val_accuracy: 0.8509\n",
      "Epoch 15/20\n",
      "247/247 [==============================] - 2s 7ms/step - loss: 0.1232 - accuracy: 0.9568 - val_loss: 0.5026 - val_accuracy: 0.8489\n",
      "Epoch 16/20\n",
      "247/247 [==============================] - 2s 7ms/step - loss: 0.1158 - accuracy: 0.9600 - val_loss: 0.4955 - val_accuracy: 0.8406\n",
      "Epoch 17/20\n",
      "247/247 [==============================] - 2s 7ms/step - loss: 0.1075 - accuracy: 0.9635 - val_loss: 0.5185 - val_accuracy: 0.8452\n",
      "Epoch 18/20\n",
      "247/247 [==============================] - 2s 7ms/step - loss: 0.0967 - accuracy: 0.9680 - val_loss: 0.5539 - val_accuracy: 0.8457\n",
      "Epoch 19/20\n",
      "247/247 [==============================] - 2s 7ms/step - loss: 0.0942 - accuracy: 0.9685 - val_loss: 0.5631 - val_accuracy: 0.8468\n",
      "Epoch 20/20\n",
      "247/247 [==============================] - 2s 7ms/step - loss: 0.0875 - accuracy: 0.9705 - val_loss: 0.6396 - val_accuracy: 0.8436\n"
     ]
    }
   ],
   "source": [
    "# 학습의 진행\n",
    "model.compile(optimizer='adam',\n",
    "              loss='binary_crossentropy',\n",
    "              metrics=['accuracy'])\n",
    "              \n",
    "epochs=20  # 몇 epoch를 훈련하면 좋을지 결과를 보면서 바꾸어 봅시다. \n",
    "\n",
    "history = model.fit(partial_X_train,\n",
    "                    partial_y_train,\n",
    "                    epochs=epochs,\n",
    "                    batch_size=512,\n",
    "                    validation_data=(X_val, y_val),\n",
    "                    verbose=1)"
   ]
  },
  {
   "cell_type": "code",
   "execution_count": 43,
   "id": "a8945bde",
   "metadata": {},
   "outputs": [
    {
     "name": "stdout",
     "output_type": "stream",
     "text": [
      "1537/1537 - 3s - loss: 0.6589 - accuracy: 0.8387\n",
      "[0.6589290499687195, 0.8386801481246948]\n"
     ]
    }
   ],
   "source": [
    "# 테스트셋을 통한 모델 평가\n",
    "results = model.evaluate(X_test,  y_test, verbose=2)\n",
    "\n",
    "print(results)"
   ]
  },
  {
   "cell_type": "markdown",
   "id": "319884aa",
   "metadata": {},
   "source": [
    "### 시각화"
   ]
  },
  {
   "cell_type": "code",
   "execution_count": 44,
   "id": "9d6a025f",
   "metadata": {},
   "outputs": [
    {
     "name": "stdout",
     "output_type": "stream",
     "text": [
      "dict_keys(['loss', 'accuracy', 'val_loss', 'val_accuracy'])\n"
     ]
    }
   ],
   "source": [
    "history_dict = history.history\n",
    "print(history_dict.keys()) # epoch에 따른 그래프를 그려볼 수 있는 항목들"
   ]
  },
  {
   "cell_type": "code",
   "execution_count": 45,
   "id": "11aa7764",
   "metadata": {},
   "outputs": [],
   "source": [
    "acc = history_dict['accuracy']\n",
    "val_acc = history_dict['val_accuracy']\n",
    "loss = history_dict['loss']\n",
    "val_loss = history_dict['val_loss']\n",
    "\n",
    "epochs = range(1, len(acc) + 1)"
   ]
  },
  {
   "cell_type": "code",
   "execution_count": 46,
   "id": "7bcbc392",
   "metadata": {},
   "outputs": [
    {
     "data": {
      "image/png": "[encoded data removed]",
      "text/plain": [
       "<Figure size 720x288 with 2 Axes>"
      ]
     },
     "metadata": {
      "needs_background": "light"
     },
     "output_type": "display_data"
    }
   ],
   "source": [
    "plt.figure(figsize=(10, 4))\n",
    "\n",
    "# Loss 그래프\n",
    "plt.subplot(1, 2, 1)\n",
    "plt.plot(epochs, loss, 'bo', label='Training loss') # \"bo\"는 \"파란색 점\"\n",
    "plt.plot(epochs, val_loss, 'b', label='Validation loss') # \"b\"는 \"파란 실선\"\n",
    "plt.title('Training and validation loss')\n",
    "plt.xlabel('Epochs')\n",
    "plt.ylabel('Loss')\n",
    "plt.legend()\n",
    "\n",
    "# Accuracy 그래프\n",
    "plt.subplot(1, 2, 2)\n",
    "plt.plot(epochs, acc, 'bo', label='Training acc')\n",
    "plt.plot(epochs, val_acc, 'b', label='Validation acc')\n",
    "plt.title('Training and validation accuracy')\n",
    "plt.xlabel('Epochs')\n",
    "plt.ylabel('Accuracy')\n",
    "plt.legend()\n",
    "plt.show()"
   ]
  },
  {
   "cell_type": "code",
   "execution_count": null,
   "id": "f0acadc3",
   "metadata": {},
   "outputs": [],
   "source": []
  },
  {
   "cell_type": "code",
   "execution_count": null,
   "id": "5dc74f5a",
   "metadata": {},
   "outputs": [],
   "source": []
  },
  {
   "cell_type": "code",
   "execution_count": null,
   "id": "5f1c933f",
   "metadata": {},
   "outputs": [],
   "source": []
  },
  {
   "cell_type": "code",
   "execution_count": null,
   "id": "378fad57",
   "metadata": {},
   "outputs": [],
   "source": []
  },
  {
   "cell_type": "code",
   "execution_count": null,
   "id": "f58a400f",
   "metadata": {},
   "outputs": [],
   "source": []
  },
  {
   "cell_type": "code",
   "execution_count": null,
   "id": "833f8815",
   "metadata": {},
   "outputs": [],
   "source": []
  },
  {
   "cell_type": "markdown",
   "id": "1f088bc8",
   "metadata": {},
   "source": [
    "# 회고\n",
    "\n",
    "1. 아래 코드 블록 두개를 보면, 옵션값을 다르게 줌으로써 토큰화된 문장을 디코딩하면 결과가 다르다. 정확히 어떤 부분이 달라지는지, 제대로 알아보고싶다."
   ]
  },
  {
   "cell_type": "markdown",
   "id": "579b969e",
   "metadata": {},
   "source": [
    "    # 데이터의 중복제거\n",
    "    train_data = train_data.drop_duplicates()\n",
    "    test_data = test_data.drop_duplicates()\n",
    "    # 데이터의 NAN 결측치 제거\n",
    "    train_data = train_data.dropna()\n",
    "    test_data = test_data.dropna()"
   ]
  },
  {
   "attachments": {
    "image.png": {
     "image/png": "[encoded data removed]"
    }
   },
   "cell_type": "markdown",
   "id": "3f423e84",
   "metadata": {},
   "source": [
    "![image.png](attachment:image.png)"
   ]
  },
  {
   "cell_type": "markdown",
   "id": "7b2ae12c",
   "metadata": {},
   "source": [
    "    train_data.drop_duplicates(subset=['document'], inplace=True)\n",
    "    train_data = train_data.dropna(how = 'any') \n",
    "    test_data.drop_duplicates(subset=['document'], inplace=True)\n",
    "    test_data = test_data.dropna(how = 'any') "
   ]
  },
  {
   "attachments": {
    "image.png": {
     "image/png": "[encoded data removed]"
    }
   },
   "cell_type": "markdown",
   "id": "1e9b953d",
   "metadata": {},
   "source": [
    "![image.png](attachment:image.png)"
   ]
  },
  {
   "cell_type": "markdown",
   "id": "22b3294a",
   "metadata": {},
   "source": [
    "2. 같은데이터로 padding을 pre로 처리하는것과 post에 붙이는것 차이가 성능이 얼마나 차이나는지 확인해보고싶었는데, 이를 직접 해보지 못한 점이 아쉽다. 다시 공부할 때는 꼭 체크해보려한다.\n",
    "3. gensim에서 계속 오류가 났는데 주피터노트북에서 pip install gensim=3.8.3을 돌려도 기존의 4.1.2가 나왔다. 결국 lms에서 직접 gensim을 삭제하고 다시 설치한 후, lms를 다시 로그인까지 하고나니 설치가 됐다.\n",
    "4. 네이버 리뷰의 raw데이터가 ㅋㅋㅋ과 같은 단어가 많아서 이런 부분을 전처리해서 없애주고싶다."
   ]
  },
  {
   "cell_type": "code",
   "execution_count": null,
   "id": "ba6f40c8",
   "metadata": {},
   "outputs": [],
   "source": []
  }
 ],
 "metadata": {
  "kernelspec": {
   "display_name": "Python 3 (ipykernel)",
   "language": "python",
   "name": "python3"
  },
  "language_info": {
   "codemirror_mode": {
    "name": "ipython",
    "version": 3
   },
   "file_extension": ".py",
   "mimetype": "text/x-python",
   "name": "python",
   "nbconvert_exporter": "python",
   "pygments_lexer": "ipython3",
   "version": "3.9.7"
  }
 },
 "nbformat": 4,
 "nbformat_minor": 5
}
