{
 "cells": [
  {
   "cell_type": "markdown",
   "id": "a562b51b",
   "metadata": {},
   "source": [
    "오늘은, 노래가사를 input data로 이용하여, 작사를 하는 AI인공지능을 만들어 보았습니다.\n",
    "\n",
    "제가 사용한 노래는 Adele, Beatles, Bieber, Britney-spears, Bruno Mars, Disney,michael-jackson, rihanna의 노래입니다.\n",
    "\n",
    "제공받은 노래의 종류는 더 많지만 그것을 전부 사용하지 않은 이유는 다음과 같습니다.\n",
    "\n",
    "1. 전체 노래를 학습시키기에는 양이 너무 많다. 학습시킬 데이터 양이 많으면 시간이 매우 오래걸리기 때문에 선별이 필요했습니다.\n",
    "2. 전처리를 위해서는 데이터가 어떤 형식인지 대강이라도 먼저 살펴보아야 하는데, 그 모든 노래를 살펴볼수 없었다.\n",
    "3. 제가 아는 가수 위주로 골랐습니다.\n",
    "    - 이 이유는, 노래의 분위기를 맞춰주려고 한 것입니다. 예를 들어 신문기사를 쓰는 AI를 작성하려는데, 아동의 동요 데이터도 같이 학습 시킨다면, 이는 노이즈 데이터라고 생각합니다.\n",
    "    - 이와 같은 이유로, eminem가수를 저는 알지만, disney노래와는 잘 맞지 않는 분위기입니다. 그래서 제외시켰습니다."
   ]
  },
  {
   "cell_type": "code",
   "execution_count": 1,
   "id": "b62b4475",
   "metadata": {},
   "outputs": [
    {
     "name": "stdout",
     "output_type": "stream",
     "text": [
      "데이터 크기: 32649\n",
      "Examples:\n",
      " ['Looking for some education', 'Made my way into the night', 'All that bullshit conversation']\n"
     ]
    }
   ],
   "source": [
    "import glob\n",
    "import os\n",
    "import re\n",
    "import tensorflow as tf\n",
    "from sklearn.model_selection import train_test_split\n",
    "\n",
    "txt_file_path = os.getenv('HOME')+'/aiffel/Aiffel_Exploration_nodes/lyricist/mydata/lyrics/*'\n",
    "\n",
    "txt_list = glob.glob(txt_file_path)\n",
    "\n",
    "raw_corpus = []\n",
    "\n",
    "# 여러개의 txt 파일을 모두 읽어서 raw_corpus 에 담습니다.\n",
    "for txt_file in txt_list:\n",
    "    with open(txt_file, \"r\") as f:\n",
    "        raw = f.read().splitlines()\n",
    "        raw_corpus.extend(raw)\n",
    "\n",
    "print(\"데이터 크기:\", len(raw_corpus))\n",
    "print(\"Examples:\\n\", raw_corpus[:3])"
   ]
  },
  {
   "cell_type": "markdown",
   "id": "b6b7974f",
   "metadata": {},
   "source": [
    "# 1. 데이터 전처리하기\n",
    "\n",
    "제가 전처리로 삭제시킨 데이터의 리스트는 다음과 같습니다.\n",
    "\n",
    "1. Nah nah nah nah nah nah, nah nah nah, hey Jude와 같이 여러 줄 / 추임새 단어가 반복되는 문장은 제외시켰습니다.\n",
    "    - 이 모델의 목표는 노래 전부를 작사하는 것이 아니라, 가사 한 줄을 생성하는 것입니다. 만약, 노래 전부를 작사하는 것이라면 oh / Nah / yeah와 같은 감탄사 혹은 추임새가 노래에서 중요한 부분을 차지합니다. 하지만 한 줄의 가사를 생성하는데, 추임새와 감탄사만 나오는 가사가 생성이 된다면, (물론 의미는 있겠지만) 제가 원하는 방향이 아닙니다.\n",
    "2. 괄호 안의 문장은 삭제했습니다.    \n",
    "    - 1줄 작사에 괄호가 필요하지 않을 뿐더러, 그저 같은 가사 반복인 경우가 많음\n",
    "3. 5번 이상 반복되는 같은 문장\n",
    "    - 영향을 많이 받을것 같아 삭제하였습니다.\n",
    "4. 각종 노래 지시사항\n",
    "    - [x2:]\n",
    "    - \n",
    "6. 문장의 길이가 5이하인 문장\n",
    "    - 추임새로만 이루어진 문장"
   ]
  },
  {
   "cell_type": "code",
   "execution_count": 2,
   "id": "d3654d9c",
   "metadata": {},
   "outputs": [
    {
     "name": "stdout",
     "output_type": "stream",
     "text": [
      "<start> this is sample sentence . <end>\n"
     ]
    }
   ],
   "source": [
    "# 입력된 문장을\n",
    "#     1. 소문자로 바꾸고, 양쪽 공백을 지웁니다\n",
    "#        strip문자의 특성\n",
    "#     2. 특수문자 양쪽에 공백을 넣고\n",
    "#     3. 여러개의 공백은 하나의 공백으로 바꿉니다\n",
    "#     4. a-zA-Z?.!,¿가 아닌 모든 문자를 하나의 공백으로 바꿉니다\n",
    "#     5. 다시 양쪽 공백을 지웁니다\n",
    "#     6. 문장 시작에는 <start>, 끝에는 <end>를 추가합니다\n",
    "# 이 순서로 처리해주면 문제가 되는 상황을 방지할 수 있겠네요!\n",
    "def preprocess_sentence(sentence):\n",
    "    sentence = sentence.lower().strip() # 1\n",
    "    sentence = re.sub(r\"([?.!,¿])\", r\" \\1 \", sentence) # 2\n",
    "    sentence = re.sub(r'[\" \"]+', \" \", sentence) # 3\n",
    "    sentence = re.sub(r\"[^a-zA-Z?.!,¿]+\", \" \", sentence) # 4\n",
    "    sentence = sentence.strip() # 5\n",
    "    sentence = '<start> ' + sentence + ' <end>' # 6\n",
    "    return sentence\n",
    "\n",
    "# 이 문장이 어떻게 필터링되는지 확인해 보세요.\n",
    "print(preprocess_sentence(\"This @_is ;;;sample        sentence.\"))"
   ]
  },
  {
   "cell_type": "markdown",
   "id": "5be38d6b",
   "metadata": {},
   "source": [
    "삭제 리스트 \n",
    "- 문장 자체\n",
    "\n",
    "\n",
    "- 이거만 으로 구성된 문장\n",
    "\n",
    "\n",
    "- 이거 포함된 문장\n",
    "\n",
    "\n",
    "\n",
    "\n",
    "\n",
    "\n",
    "삭제 고민중 :"
   ]
  },
  {
   "cell_type": "code",
   "execution_count": 3,
   "id": "878a6b2c",
   "metadata": {},
   "outputs": [
    {
     "data": {
      "text/plain": [
       "['<start> looking for some education <end>',\n",
       " '<start> made my way into the night <end>',\n",
       " '<start> all that bullshit conversation <end>',\n",
       " '<start> baby , can t you read the signs ? i won t bore you with the details , baby <end>',\n",
       " '<start> i don t even wanna waste your time <end>',\n",
       " '<start> let s just say that maybe <end>',\n",
       " '<start> you could help me ease my mind <end>',\n",
       " '<start> i ain t mr . right but if you re looking for fast love <end>',\n",
       " '<start> if that s love in your eyes <end>',\n",
       " '<start> it s more than enough <end>']"
      ]
     },
     "execution_count": 3,
     "metadata": {},
     "output_type": "execute_result"
    }
   ],
   "source": [
    "# 여기에 정제된 문장을 모을겁니다\n",
    "corpus = []\n",
    "\n",
    "\n",
    "for idx, sentence in enumerate(raw_corpus):\n",
    "    if len(sentence) == 0: continue   # 길이가 0인 문장은 건너뜁니다.\n",
    "    if sentence[-1] == \":\": continue  # 문장의 끝이 : 인 문장은 건너뜁니다.\n",
    "    if sentence[-1] == \"]\": continue # ']'로 끝나는 파트를 나눈 문장은 건너뜁니다\n",
    "    if sentence[-1] == \")\": continue # ')'로 끝나는 코러스 문장은 건너뜁니다    \n",
    "\n",
    "    preprocessed_sentence = preprocess_sentence(sentence)\n",
    "    corpus.append(preprocessed_sentence)\n",
    "    \n",
    "corpus[:10]\n",
    "    "
   ]
  },
  {
   "cell_type": "code",
   "execution_count": null,
   "id": "b7f1a13f",
   "metadata": {},
   "outputs": [],
   "source": []
  },
  {
   "cell_type": "code",
   "execution_count": 4,
   "id": "5cae993e",
   "metadata": {},
   "outputs": [
    {
     "name": "stdout",
     "output_type": "stream",
     "text": [
      "[[  2 209  31 ...   0   0   0]\n",
      " [  2 266  14 ...   0   0   0]\n",
      " [  2  25  17 ...   0   0   0]\n",
      " ...\n",
      " [  2  22  22 ...   0   0   0]\n",
      " [  2   6  19 ...   0   0   0]\n",
      " [  2  22  22 ...   0   0   0]] <keras_preprocessing.text.Tokenizer object at 0x7f697e0179a0>\n"
     ]
    }
   ],
   "source": [
    "# 토큰화 할 때 텐서플로우의 Tokenizer와 pad_sequences를 사용합니다\n",
    "# 더 잘 알기 위해 아래 문서들을 참고하면 좋습니다\n",
    "# https://www.tensorflow.org/api_docs/python/tf/keras/preprocessing/text/Tokenizer\n",
    "# https://www.tensorflow.org/api_docs/python/tf/keras/preprocessing/sequence/pad_sequences\n",
    "def tokenize(corpus):\n",
    "    # 7000단어를 기억할 수 있는 tokenizer를 만들겁니다\n",
    "    # 우리는 이미 문장을 정제했으니 filters가 필요없어요\n",
    "    # 7000단어에 포함되지 못한 단어는 '<unk>'로 바꿀거에요\n",
    "    tokenizer = tf.keras.preprocessing.text.Tokenizer(\n",
    "        num_words=10000, \n",
    "        filters=' ',\n",
    "        oov_token=\"<unk>\"\n",
    "    )\n",
    "    # corpus를 이용해 tokenizer 내부의 단어장을 완성합니다\n",
    "    tokenizer.fit_on_texts(corpus)\n",
    "    # 준비한 tokenizer를 이용해 corpus를 Tensor로 변환합니다\n",
    "    tensor = tokenizer.texts_to_sequences(corpus)   \n",
    "    # 입력 데이터의 시퀀스 길이를 일정하게 맞춰줍니다\n",
    "    # 만약 시퀀스가 짧다면 문장 뒤에 패딩을 붙여 길이를 맞춰줍니다.\n",
    "    # 문장 앞에 패딩을 붙여 길이를 맞추고 싶다면 padding='pre'를 사용합니다\n",
    "    tensor = tf.keras.preprocessing.sequence.pad_sequences(tensor, padding='post', maxlen=15)  \n",
    "    \n",
    "    print(tensor,tokenizer)\n",
    "    return tensor, tokenizer\n",
    "\n",
    "tensor, tokenizer = tokenize(corpus)"
   ]
  },
  {
   "cell_type": "code",
   "execution_count": 5,
   "id": "eccc790a",
   "metadata": {},
   "outputs": [
    {
     "name": "stdout",
     "output_type": "stream",
     "text": [
      "1 : <unk>\n",
      "2 : <start>\n",
      "3 : <end>\n",
      "4 : ,\n",
      "5 : you\n",
      "6 : i\n",
      "7 : the\n",
      "8 : me\n",
      "9 : it\n",
      "10 : to\n",
      "11 : and\n",
      "12 : t\n",
      "13 : a\n",
      "14 : my\n",
      "15 : s\n",
      "16 : in\n",
      "17 : that\n",
      "18 : love\n",
      "19 : m\n",
      "20 : your\n",
      "21 : we\n",
      "22 : oh\n",
      "23 : be\n",
      "24 : don\n",
      "25 : all\n",
      "26 : .\n",
      "27 : on\n",
      "28 : can\n",
      "29 : of\n",
      "30 : is\n",
      "31 : for\n",
      "32 : like\n",
      "33 : re\n",
      "34 : so\n",
      "35 : know\n",
      "36 : baby\n",
      "37 : just\n",
      "38 : yeah\n",
      "39 : what\n",
      "40 : but\n",
      "41 : no\n",
      "42 : do\n",
      "43 : ?\n",
      "44 : with\n",
      "45 : got\n",
      "46 : she\n",
      "47 : when\n",
      "48 : let\n",
      "49 : ll\n",
      "50 : up\n"
     ]
    }
   ],
   "source": [
    "for idx in tokenizer.index_word:\n",
    "    print(idx, \":\", tokenizer.index_word[idx])\n",
    "\n",
    "    if idx >= 50: break\n",
    "#어떻게 구축되었는지.        "
   ]
  },
  {
   "cell_type": "code",
   "execution_count": 6,
   "id": "cbcd28f1",
   "metadata": {},
   "outputs": [
    {
     "name": "stdout",
     "output_type": "stream",
     "text": [
      "28307\n",
      "[  2   9  15  98 197 190   3   0   0   0   0   0   0   0]\n",
      "[  9  15  98 197 190   3   0   0   0   0   0   0   0   0]\n"
     ]
    }
   ],
   "source": [
    "# tensor에서 마지막 토큰을 잘라내서 소스 문장을 생성합니다\n",
    "# 마지막 토큰은 <end>가 아니라 <pad>일 가능성이 높습니다.\n",
    "src_input = tensor[:, :-1]  \n",
    "# tensor에서 <start>를 잘라내서 타겟 문장을 생성합니다.\n",
    "tgt_input = tensor[:, 1:]    \n",
    "print(len(src_input))\n",
    "print(src_input[9])\n",
    "print(tgt_input[9])"
   ]
  },
  {
   "cell_type": "code",
   "execution_count": 7,
   "id": "2e2ad7ed",
   "metadata": {},
   "outputs": [
    {
     "name": "stdout",
     "output_type": "stream",
     "text": [
      "Source Train: (22645, 14)\n",
      "Target Train: (22645, 14)\n"
     ]
    }
   ],
   "source": [
    "# 평가 데이터셋 분리\n",
    "\n",
    "enc_train, enc_val, dec_train, dec_val = train_test_split(src_input, \n",
    "                                                    tgt_input, \n",
    "                                                    test_size=0.2)\n",
    "\n",
    "print(\"Source Train:\", enc_train.shape)\n",
    "print(\"Target Train:\", dec_train.shape)"
   ]
  },
  {
   "cell_type": "code",
   "execution_count": 8,
   "id": "6bb2e591",
   "metadata": {},
   "outputs": [
    {
     "name": "stdout",
     "output_type": "stream",
     "text": [
      "28307 110\n"
     ]
    },
    {
     "data": {
      "text/plain": [
       "<BatchDataset shapes: ((256, 14), (256, 14)), types: (tf.int32, tf.int32)>"
      ]
     },
     "execution_count": 8,
     "metadata": {},
     "output_type": "execute_result"
    }
   ],
   "source": [
    "BUFFER_SIZE = len(src_input)\n",
    "BATCH_SIZE = 256\n",
    "steps_per_epoch = len(src_input) // BATCH_SIZE\n",
    "print(BUFFER_SIZE, steps_per_epoch)\n",
    "\n",
    " # tokenizer가 구축한 단어사전 내 7000개와, 여기 포함되지 않은 0:<pad>를 포함하여 7001개\n",
    "VOCAB_SIZE = tokenizer.num_words + 1   \n",
    "\n",
    "# 준비한 데이터 소스로부터 데이터셋을 만듭니다\n",
    "# 데이터셋에 대해서는 아래 문서를 참고하세요\n",
    "# 자세히 알아둘수록 도움이 많이 되는 중요한 문서입니다\n",
    "# https://www.tensorflow.org/api_docs/python/tf/data/Dataset\n",
    "dataset = tf.data.Dataset.from_tensor_slices((src_input, tgt_input))\n",
    "dataset = dataset.shuffle(BUFFER_SIZE)\n",
    "dataset = dataset.batch(BATCH_SIZE, drop_remainder=True)\n",
    "dataset"
   ]
  },
  {
   "cell_type": "code",
   "execution_count": 9,
   "id": "2c085541",
   "metadata": {},
   "outputs": [],
   "source": [
    "class TextGenerator(tf.keras.Model):\n",
    "    def __init__(self, vocab_size, embedding_size, hidden_size):\n",
    "        super().__init__()\n",
    "        \n",
    "        self.embedding = tf.keras.layers.Embedding(vocab_size, embedding_size)\n",
    "        self.rnn_1 = tf.keras.layers.LSTM(hidden_size, return_sequences=True)\n",
    "        self.rnn_2 = tf.keras.layers.LSTM(hidden_size, return_sequences=True)\n",
    "        self.linear = tf.keras.layers.Dense(vocab_size)\n",
    "        \n",
    "    def call(self, x):\n",
    "        out = self.embedding(x)\n",
    "        out = self.rnn_1(out)\n",
    "        out = self.rnn_2(out)\n",
    "        out = self.linear(out)\n",
    "        \n",
    "        return out\n",
    "    \n",
    "embedding_size = 256\n",
    "hidden_size = 1024\n",
    "model = TextGenerator(tokenizer.num_words + 1, embedding_size , hidden_size)"
   ]
  },
  {
   "cell_type": "code",
   "execution_count": 10,
   "id": "30d6ac84",
   "metadata": {},
   "outputs": [
    {
     "data": {
      "text/plain": [
       "<tf.Tensor: shape=(256, 14, 10001), dtype=float32, numpy=\n",
       "array([[[ 2.8559431e-05, -2.5264348e-04,  1.3473186e-04, ...,\n",
       "         -3.1647796e-04,  4.1535153e-05,  2.2057720e-04],\n",
       "        [-1.7098541e-04, -4.2430044e-04,  4.9477174e-05, ...,\n",
       "         -3.9836805e-04, -8.7433778e-05,  6.3471479e-04],\n",
       "        [-9.9618141e-05, -4.8712018e-04, -7.9317600e-05, ...,\n",
       "         -3.0250222e-04,  7.7358964e-05,  6.9642020e-04],\n",
       "        ...,\n",
       "        [-1.1163973e-03,  1.8952154e-04,  7.7737449e-04, ...,\n",
       "          8.0995489e-04,  5.0952687e-04,  9.2478713e-04],\n",
       "        [-1.5072697e-03,  1.8810506e-04,  8.2107796e-04, ...,\n",
       "          9.3263719e-04,  5.6689518e-04,  1.0447112e-03],\n",
       "        [-1.9069926e-03,  2.0549900e-04,  8.1067678e-04, ...,\n",
       "          1.0044173e-03,  6.1418233e-04,  1.1957278e-03]],\n",
       "\n",
       "       [[ 2.8559431e-05, -2.5264348e-04,  1.3473186e-04, ...,\n",
       "         -3.1647796e-04,  4.1535153e-05,  2.2057720e-04],\n",
       "        [ 3.7472484e-05, -3.1124725e-04,  3.6284511e-04, ...,\n",
       "         -5.3073576e-04,  5.8074926e-05,  6.0123897e-05],\n",
       "        [ 1.4662565e-04, -2.2007809e-04,  4.6167956e-04, ...,\n",
       "         -5.7859794e-04, -1.2754051e-04,  1.3294721e-04],\n",
       "        ...,\n",
       "        [-9.7558176e-04, -2.5713240e-05,  1.0833363e-03, ...,\n",
       "          3.8555689e-04,  4.9726263e-04, -1.8247323e-05],\n",
       "        [-1.4175490e-03,  2.1322896e-05,  1.0108905e-03, ...,\n",
       "          5.5079052e-04,  4.5390273e-04,  1.6953787e-04],\n",
       "        [-1.8589677e-03,  8.1616898e-05,  9.0964802e-04, ...,\n",
       "          6.6158467e-04,  4.1624487e-04,  3.9834890e-04]],\n",
       "\n",
       "       [[ 1.4992706e-04,  2.7251465e-04, -1.8716550e-04, ...,\n",
       "          8.4811923e-05, -8.7609034e-05, -2.9102957e-04],\n",
       "        [ 2.0021615e-04,  1.9400283e-04, -2.1458307e-04, ...,\n",
       "          3.5894630e-04, -2.2293722e-04, -8.1983634e-04],\n",
       "        [ 4.2050591e-04,  1.2860120e-04, -1.2369838e-04, ...,\n",
       "          6.5718207e-04, -4.9231161e-04, -9.2503271e-04],\n",
       "        ...,\n",
       "        [-6.3777826e-04, -7.1594591e-04,  1.0261087e-03, ...,\n",
       "          3.3724814e-04,  3.8668799e-04, -1.1317808e-03],\n",
       "        [-8.0502010e-04, -7.5291004e-04,  8.1660610e-04, ...,\n",
       "          3.1434555e-04,  5.9385330e-04, -1.3712585e-03],\n",
       "        [-7.4390584e-04, -9.9237601e-04,  4.0806673e-04, ...,\n",
       "          3.3522534e-04,  7.1596453e-04, -1.3722485e-03]],\n",
       "\n",
       "       ...,\n",
       "\n",
       "       [[ 2.8559431e-05, -2.5264348e-04,  1.3473186e-04, ...,\n",
       "         -3.1647796e-04,  4.1535153e-05,  2.2057720e-04],\n",
       "        [ 5.6607216e-05, -4.8110788e-04, -6.8657806e-05, ...,\n",
       "         -3.0088171e-04,  2.1366897e-04,  5.5024168e-05],\n",
       "        [-6.0400878e-05, -3.4454209e-04, -2.3377058e-04, ...,\n",
       "         -1.1869297e-04,  3.6876160e-04, -1.0204372e-04],\n",
       "        ...,\n",
       "        [ 1.6136843e-04, -2.1316120e-04, -6.0573098e-04, ...,\n",
       "          7.1625150e-04,  5.5445818e-04,  2.2544495e-04],\n",
       "        [-4.3479376e-05, -1.6024357e-04, -4.1172546e-04, ...,\n",
       "          7.8094640e-04,  2.7485358e-04,  4.9818261e-04],\n",
       "        [-2.0538997e-04, -1.8729361e-05, -1.5343056e-04, ...,\n",
       "          5.7944941e-04,  1.3904813e-04,  5.3798920e-04]],\n",
       "\n",
       "       [[ 2.8559431e-05, -2.5264348e-04,  1.3473186e-04, ...,\n",
       "         -3.1647796e-04,  4.1535153e-05,  2.2057720e-04],\n",
       "        [-1.9742086e-04, -2.8875261e-04,  3.1040664e-04, ...,\n",
       "         -5.1579246e-04,  1.9328264e-04,  1.7106874e-04],\n",
       "        [-9.4821526e-06, -1.6192712e-04,  5.4500555e-04, ...,\n",
       "         -7.2826142e-04,  6.6155376e-04,  3.5210190e-04],\n",
       "        ...,\n",
       "        [-1.8020032e-03, -7.4817537e-05,  4.6661514e-04, ...,\n",
       "         -2.5636266e-04,  5.5245304e-04,  2.6259600e-04],\n",
       "        [-2.2352897e-03, -6.7187990e-05,  4.1804393e-04, ...,\n",
       "         -9.6686839e-05,  5.2214810e-04,  5.9307663e-04],\n",
       "        [-2.6313963e-03, -3.4660821e-05,  3.5773873e-04, ...,\n",
       "          1.4623720e-05,  5.0003576e-04,  9.2880009e-04]],\n",
       "\n",
       "       [[ 2.8559431e-05, -2.5264348e-04,  1.3473186e-04, ...,\n",
       "         -3.1647796e-04,  4.1535153e-05,  2.2057720e-04],\n",
       "        [ 1.0590097e-05, -2.1727574e-04,  3.9240357e-04, ...,\n",
       "         -4.6149854e-04,  3.3517696e-05,  5.1597034e-04],\n",
       "        [-2.0434716e-04, -8.6117107e-05,  2.1150149e-04, ...,\n",
       "         -2.3349679e-04,  2.1098102e-04,  6.4810237e-04],\n",
       "        ...,\n",
       "        [-2.1528739e-03,  2.5264584e-04, -2.3475320e-04, ...,\n",
       "         -3.4136604e-06,  8.9937786e-04,  9.1937691e-04],\n",
       "        [-2.5027408e-03,  2.6160362e-04, -2.2631206e-04, ...,\n",
       "          1.0347010e-04,  8.9497224e-04,  1.1459255e-03],\n",
       "        [-2.8279447e-03,  2.8040429e-04, -2.2287677e-04, ...,\n",
       "          1.6912376e-04,  8.8399550e-04,  1.3792102e-03]]], dtype=float32)>"
      ]
     },
     "execution_count": 10,
     "metadata": {},
     "output_type": "execute_result"
    }
   ],
   "source": [
    "    \n",
    "# 데이터셋에서 데이터 한 배치만 불러오는 방법입니다.\n",
    "# 지금은 동작 원리에 너무 빠져들지 마세요~\n",
    "for src_sample, tgt_sample in dataset.take(1):break\n",
    "\n",
    "# 한 배치만 불러온 데이터를 모델에 넣어봅니다\n",
    "model(src_sample)"
   ]
  },
  {
   "cell_type": "code",
   "execution_count": 11,
   "id": "d093d783",
   "metadata": {},
   "outputs": [
    {
     "name": "stdout",
     "output_type": "stream",
     "text": [
      "Model: \"text_generator\"\n",
      "_________________________________________________________________\n",
      "Layer (type)                 Output Shape              Param #   \n",
      "=================================================================\n",
      "embedding (Embedding)        multiple                  2560256   \n",
      "_________________________________________________________________\n",
      "lstm (LSTM)                  multiple                  5246976   \n",
      "_________________________________________________________________\n",
      "lstm_1 (LSTM)                multiple                  8392704   \n",
      "_________________________________________________________________\n",
      "dense (Dense)                multiple                  10251025  \n",
      "=================================================================\n",
      "Total params: 26,450,961\n",
      "Trainable params: 26,450,961\n",
      "Non-trainable params: 0\n",
      "_________________________________________________________________\n"
     ]
    }
   ],
   "source": [
    "model.summary()"
   ]
  },
  {
   "cell_type": "code",
   "execution_count": 12,
   "id": "c7c7a7f8",
   "metadata": {},
   "outputs": [
    {
     "name": "stdout",
     "output_type": "stream",
     "text": [
      "Epoch 1/30\n",
      "110/110 [==============================] - 18s 146ms/step - loss: 3.9994\n",
      "Epoch 2/30\n",
      "110/110 [==============================] - 17s 151ms/step - loss: 3.2265\n",
      "Epoch 3/30\n",
      "110/110 [==============================] - 17s 155ms/step - loss: 3.0248\n",
      "Epoch 4/30\n",
      "110/110 [==============================] - 17s 151ms/step - loss: 2.8605\n",
      "Epoch 5/30\n",
      "110/110 [==============================] - 16s 149ms/step - loss: 2.7395\n",
      "Epoch 6/30\n",
      "110/110 [==============================] - 16s 149ms/step - loss: 2.6387\n",
      "Epoch 7/30\n",
      "110/110 [==============================] - 17s 151ms/step - loss: 2.5496\n",
      "Epoch 8/30\n",
      "110/110 [==============================] - 17s 152ms/step - loss: 2.4658\n",
      "Epoch 9/30\n",
      "110/110 [==============================] - 17s 151ms/step - loss: 2.3855\n",
      "Epoch 10/30\n",
      "110/110 [==============================] - 17s 150ms/step - loss: 2.3098\n",
      "Epoch 11/30\n",
      "110/110 [==============================] - 17s 150ms/step - loss: 2.2374\n",
      "Epoch 12/30\n",
      "110/110 [==============================] - 17s 151ms/step - loss: 2.1701\n",
      "Epoch 13/30\n",
      "110/110 [==============================] - 17s 151ms/step - loss: 2.1051\n",
      "Epoch 14/30\n",
      "110/110 [==============================] - 17s 151ms/step - loss: 2.0400\n",
      "Epoch 15/30\n",
      "110/110 [==============================] - 17s 150ms/step - loss: 1.9802\n",
      "Epoch 16/30\n",
      "110/110 [==============================] - 17s 150ms/step - loss: 1.9224\n",
      "Epoch 17/30\n",
      "110/110 [==============================] - 17s 150ms/step - loss: 1.8651\n",
      "Epoch 18/30\n",
      "110/110 [==============================] - 17s 150ms/step - loss: 1.8108\n",
      "Epoch 19/30\n",
      "110/110 [==============================] - 17s 151ms/step - loss: 1.7581\n",
      "Epoch 20/30\n",
      "110/110 [==============================] - 17s 151ms/step - loss: 1.7079\n",
      "Epoch 21/30\n",
      "110/110 [==============================] - 17s 151ms/step - loss: 1.6581\n",
      "Epoch 22/30\n",
      "110/110 [==============================] - 17s 151ms/step - loss: 1.6092\n",
      "Epoch 23/30\n",
      "110/110 [==============================] - 17s 151ms/step - loss: 1.5642\n",
      "Epoch 24/30\n",
      "110/110 [==============================] - 17s 151ms/step - loss: 1.5188\n",
      "Epoch 25/30\n",
      "110/110 [==============================] - 17s 151ms/step - loss: 1.4744\n",
      "Epoch 26/30\n",
      "110/110 [==============================] - 17s 151ms/step - loss: 1.4328\n",
      "Epoch 27/30\n",
      "110/110 [==============================] - 17s 151ms/step - loss: 1.3905\n",
      "Epoch 28/30\n",
      "110/110 [==============================] - 17s 151ms/step - loss: 1.3515\n",
      "Epoch 29/30\n",
      "110/110 [==============================] - 17s 151ms/step - loss: 1.3123\n",
      "Epoch 30/30\n",
      "110/110 [==============================] - 17s 151ms/step - loss: 1.2745\n"
     ]
    },
    {
     "data": {
      "text/plain": [
       "<keras.callbacks.History at 0x7f697ce280a0>"
      ]
     },
     "execution_count": 12,
     "metadata": {},
     "output_type": "execute_result"
    }
   ],
   "source": [
    "optimizer = tf.keras.optimizers.Adam()\n",
    "loss = tf.keras.losses.SparseCategoricalCrossentropy(\n",
    "    from_logits=True,\n",
    "    reduction='none'\n",
    ")\n",
    "\n",
    "model.compile(loss=loss, optimizer=optimizer)\n",
    "model.fit(dataset, epochs=30)"
   ]
  },
  {
   "cell_type": "code",
   "execution_count": 13,
   "id": "c328580e",
   "metadata": {},
   "outputs": [],
   "source": [
    "def generate_text(model, tokenizer, init_sentence=\"<start>\", max_len=20):\n",
    "    # 테스트를 위해서 입력받은 init_sentence도 텐서로 변환합니다\n",
    "    test_input = tokenizer.texts_to_sequences([init_sentence])\n",
    "    test_tensor = tf.convert_to_tensor(test_input, dtype=tf.int64)\n",
    "    end_token = tokenizer.word_index[\"<end>\"]\n",
    "\n",
    "    # 단어 하나씩 예측해 문장을 만듭니다\n",
    "    #    1. 입력받은 문장의 텐서를 입력합니다\n",
    "    #    2. 예측된 값 중 가장 높은 확률인 word index를 뽑아냅니다\n",
    "    #    3. 2에서 예측된 word index를 문장 뒤에 붙입니다\n",
    "    #    4. 모델이 <end>를 예측했거나, max_len에 도달했다면 문장 생성을 마칩니다\n",
    "    while True:\n",
    "        # 1\n",
    "        predict = model(test_tensor) \n",
    "        # 2\n",
    "        predict_word = tf.argmax(tf.nn.softmax(predict, axis=-1), axis=-1)[:, -1] \n",
    "        # 3 \n",
    "        test_tensor = tf.concat([test_tensor, tf.expand_dims(predict_word, axis=0)], axis=-1)\n",
    "        # 4\n",
    "        if predict_word.numpy()[0] == end_token: break\n",
    "        if test_tensor.shape[1] >= max_len: break\n",
    "\n",
    "    generated = \"\"\n",
    "    # tokenizer를 이용해 word index를 단어로 하나씩 변환합니다 \n",
    "    for word_index in test_tensor[0].numpy():\n",
    "        generated += tokenizer.index_word[word_index] + \" \"\n",
    "\n",
    "    return generated"
   ]
  },
  {
   "cell_type": "code",
   "execution_count": 14,
   "id": "7c60abf4",
   "metadata": {},
   "outputs": [
    {
     "data": {
      "text/plain": [
       "'<start> he s a monster <end> '"
      ]
     },
     "execution_count": 14,
     "metadata": {},
     "output_type": "execute_result"
    }
   ],
   "source": [
    "generate_text(model, tokenizer, init_sentence=\"<start> he\")"
   ]
  },
  {
   "cell_type": "code",
   "execution_count": null,
   "id": "7c1a529c",
   "metadata": {},
   "outputs": [],
   "source": []
  },
  {
   "cell_type": "code",
   "execution_count": null,
   "id": "0a8b4720",
   "metadata": {},
   "outputs": [],
   "source": []
  }
 ],
 "metadata": {
  "kernelspec": {
   "display_name": "Python 3 (ipykernel)",
   "language": "python",
   "name": "python3"
  },
  "language_info": {
   "codemirror_mode": {
    "name": "ipython",
    "version": 3
   },
   "file_extension": ".py",
   "mimetype": "text/x-python",
   "name": "python",
   "nbconvert_exporter": "python",
   "pygments_lexer": "ipython3",
   "version": "3.9.7"
  }
 },
 "nbformat": 4,
 "nbformat_minor": 5
}
